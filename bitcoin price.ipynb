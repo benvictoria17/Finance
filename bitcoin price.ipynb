{
 "cells": [
  {
   "cell_type": "code",
   "execution_count": null,
   "metadata": {},
   "outputs": [],
   "source": [
    "import requests\n",
    ">>> bitcoin_api_url = 'https://api.coinmarketcap.com/v1/ticker/bitcoin/'\n",
    ">>> response = requests.get(bitcoin_api_url)\n",
    ">>> response_json = response.json()\n",
    ">>> type(response_json) # The API returns a list\n",
    "<class 'list'>\n",
    ">>> # Bitcoin data is the first element of the list\n",
    ">>> response_json[0]\n",
    "{'id': 'bitcoin', 'name': 'Bitcoin', 'symbol': 'BTC', 'rank': '1', \n",
    " 'price_usd': '10226.7', 'price_btc': '1.0', '24h_volume_usd': '7585280000.0',\n",
    " 'market_cap_usd': '172661078165', 'available_supply': '16883362.0', \n",
    " 'total_supply': '16883362.0', 'max_supply': '21000000.0', \n",
    " 'percent_change_1h': '0.67', 'percent_change_24h': '0.78', \n",
    " 'percent_change_7d': '-4.79', 'last_updated': '1519465767'}"
   ]
  },
  {
   "cell_type": "code",
   "execution_count": null,
   "metadata": {},
   "outputs": [],
   "source": [
    "BITCOIN_API_URL = 'https://api.coinmarketcap.com/v1/ticker/bitcoin/'\n",
    "IFTTT_WEBHOOKS_URL = 'https://maker.ifttt.com/trigger/{}/with/key/{your-IFTTT-key}'\n",
    "\n",
    "def get_latest_bitcoin_price():\n",
    "    response = requests.get(BITCOIN_API_URL)\n",
    "    response_json = response.json()\n",
    "    # Convert the price to a floating point number\n",
    "    return float(response_json[0]['price_usd'])\n",
    "\n",
    "\n",
    "def post_ifttt_webhook(event, value):\n",
    "    # The payload that will be sent to IFTTT service\n",
    "    data = {'value1': value}\n",
    "    # inserts our desired event\n",
    "    ifttt_event_url = IFTTT_WEBHOOKS_URL.format(event)\n",
    "    # Sends a HTTP POST request to the webhook URL\n",
    "    requests.post(ifttt_event_url, json=data)"
   ]
  },
  {
   "cell_type": "code",
   "execution_count": null,
   "metadata": {},
   "outputs": [],
   "source": [
    "\n",
    "BITCOIN_PRICE_THRESHOLD = 10000  # Set this to whatever you like\n",
    "\n",
    "def main():\n",
    "    bitcoin_history = []\n",
    "    while True:\n",
    "        price = get_latest_bitcoin_price()\n",
    "        date = datetime.now()\n",
    "        bitcoin_history.append({'date': date, 'price': price})\n",
    "\n",
    "        # Send an emergency notification\n",
    "        if price < BITCOIN_PRICE_THRESHOLD:\n",
    "            post_ifttt_webhook('bitcoin_price_emergency', price)\n",
    "\n",
    "        # Send a Telegram notification\n",
    "        # Once we have 5 items in our bitcoin_history send an update\n",
    "        if len(bitcoin_history) == 5:\n",
    "            post_ifttt_webhook('bitcoin_price_update', \n",
    "                               format_bitcoin_history(bitcoin_history))\n",
    "            # Reset the history\n",
    "            bitcoin_history = []\n",
    "\n",
    "        # Sleep for 5 minutes \n",
    "        # (For testing purposes you can set it to a lower number)\n",
    "        time.sleep(5 * 60)"
   ]
  },
  {
   "cell_type": "code",
   "execution_count": null,
   "metadata": {},
   "outputs": [],
   "source": [
    "def format_bitcoin_history(bitcoin_history):\n",
    "    rows = []\n",
    "    for bitcoin_price in bitcoin_history:\n",
    "        # Formats the date into a string: '24.02.2018 15:09'\n",
    "        date = bitcoin_price['date'].strftime('%d.%m.%Y %H:%M')\n",
    "        price = bitcoin_price['price']\n",
    "        # <b> (bold) tag creates bolded text\n",
    "        # 24.02.2018 15:09: $<b>10123.4</b>\n",
    "        row = '{}: $<b>{}</b>'.format(date, price)\n",
    "        rows.append(row)\n",
    "\n",
    "    # Use a <br> (break) tag to create a new line\n",
    "    # Join the rows delimited by <br> tag: row1<br>row2<br>row3\n",
    "    return '<br>'.join(rows)"
   ]
  },
  {
   "cell_type": "code",
   "execution_count": null,
   "metadata": {},
   "outputs": [],
   "source": [
    "$ python bitcoin_notifications.py"
   ]
  },
  {
   "cell_type": "code",
   "execution_count": null,
   "metadata": {},
   "outputs": [],
   "source": []
  }
 ],
 "metadata": {
  "kernelspec": {
   "display_name": "Python 3",
   "language": "python",
   "name": "python3"
  },
  "language_info": {
   "codemirror_mode": {
    "name": "ipython",
    "version": 3
   },
   "file_extension": ".py",
   "mimetype": "text/x-python",
   "name": "python",
   "nbconvert_exporter": "python",
   "pygments_lexer": "ipython3",
   "version": "3.7.6"
  }
 },
 "nbformat": 4,
 "nbformat_minor": 4
}
