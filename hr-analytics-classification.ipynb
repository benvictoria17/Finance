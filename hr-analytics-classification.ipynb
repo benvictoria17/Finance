{
 "cells": [
  {
   "cell_type": "code",
   "execution_count": 1,
   "metadata": {
    "_cell_guid": "b1076dfc-b9ad-4769-8c92-a6c4dae69d19",
    "_uuid": "8f2839f25d086af736a60e9eeb907d3b93b6e0e5",
    "execution": {
     "iopub.execute_input": "2021-03-29T21:59:04.435881Z",
     "iopub.status.busy": "2021-03-29T21:59:04.435202Z",
     "iopub.status.idle": "2021-03-29T21:59:05.917020Z",
     "shell.execute_reply": "2021-03-29T21:59:05.916222Z"
    },
    "papermill": {
     "duration": 1.517161,
     "end_time": "2021-03-29T21:59:05.917241",
     "exception": false,
     "start_time": "2021-03-29T21:59:04.400080",
     "status": "completed"
    },
    "tags": []
   },
   "outputs": [],
   "source": [
    "import pandas as pd\n",
    "import numpy as np \n",
    "import seaborn as sns \n",
    "import matplotlib.pyplot as plt \n",
    "from sklearn.model_selection import train_test_split\n",
    "from sklearn.svm import SVC\n",
    "from sklearn.ensemble import RandomForestClassifier\n",
    "from sklearn.metrics import classification_report\n",
    "from sklearn.metrics import f1_score\n",
    "from sklearn.metrics import confusion_matrix\n",
    "%matplotlib inline\n",
    "import warnings\n",
    "warnings.filterwarnings(\"ignore\")"
   ]
  },
  {
   "cell_type": "code",
   "execution_count": 2,
   "metadata": {
    "execution": {
     "iopub.execute_input": "2021-03-29T21:59:05.974689Z",
     "iopub.status.busy": "2021-03-29T21:59:05.973970Z",
     "iopub.status.idle": "2021-03-29T21:59:06.926259Z",
     "shell.execute_reply": "2021-03-29T21:59:06.925679Z"
    },
    "papermill": {
     "duration": 0.983506,
     "end_time": "2021-03-29T21:59:06.926425",
     "exception": false,
     "start_time": "2021-03-29T21:59:05.942919",
     "status": "completed"
    },
    "tags": []
   },
   "outputs": [],
   "source": [
    "train=pd.read_csv(\"https://raw.githubusercontent.com/benvictoria17/DataVisualization/master/dataset/HR%20Analytics-%20Job%20Change%20of%20Data%20Scientists/aug_train.csv\")"
   ]
  },
  {
   "cell_type": "code",
   "execution_count": 3,
   "metadata": {
    "execution": {
     "iopub.execute_input": "2021-03-29T21:59:06.994091Z",
     "iopub.status.busy": "2021-03-29T21:59:06.993334Z",
     "iopub.status.idle": "2021-03-29T21:59:07.024000Z",
     "shell.execute_reply": "2021-03-29T21:59:07.024486Z"
    },
    "papermill": {
     "duration": 0.070803,
     "end_time": "2021-03-29T21:59:07.024683",
     "exception": false,
     "start_time": "2021-03-29T21:59:06.953880",
     "status": "completed"
    },
    "tags": []
   },
   "outputs": [
    {
     "data": {
      "text/html": [
       "<div>\n",
       "<style scoped>\n",
       "    .dataframe tbody tr th:only-of-type {\n",
       "        vertical-align: middle;\n",
       "    }\n",
       "\n",
       "    .dataframe tbody tr th {\n",
       "        vertical-align: top;\n",
       "    }\n",
       "\n",
       "    .dataframe thead th {\n",
       "        text-align: right;\n",
       "    }\n",
       "</style>\n",
       "<table border=\"1\" class=\"dataframe\">\n",
       "  <thead>\n",
       "    <tr style=\"text-align: right;\">\n",
       "      <th></th>\n",
       "      <th>enrollee_id</th>\n",
       "      <th>city</th>\n",
       "      <th>city_development_index</th>\n",
       "      <th>gender</th>\n",
       "      <th>relevent_experience</th>\n",
       "      <th>enrolled_university</th>\n",
       "      <th>education_level</th>\n",
       "      <th>major_discipline</th>\n",
       "      <th>experience</th>\n",
       "      <th>company_size</th>\n",
       "      <th>company_type</th>\n",
       "      <th>last_new_job</th>\n",
       "      <th>training_hours</th>\n",
       "      <th>target</th>\n",
       "    </tr>\n",
       "  </thead>\n",
       "  <tbody>\n",
       "    <tr>\n",
       "      <th>0</th>\n",
       "      <td>8949</td>\n",
       "      <td>city_103</td>\n",
       "      <td>0.920</td>\n",
       "      <td>Male</td>\n",
       "      <td>Has relevent experience</td>\n",
       "      <td>no_enrollment</td>\n",
       "      <td>Graduate</td>\n",
       "      <td>STEM</td>\n",
       "      <td>&gt;20</td>\n",
       "      <td>NaN</td>\n",
       "      <td>NaN</td>\n",
       "      <td>1</td>\n",
       "      <td>36</td>\n",
       "      <td>1.0</td>\n",
       "    </tr>\n",
       "    <tr>\n",
       "      <th>1</th>\n",
       "      <td>29725</td>\n",
       "      <td>city_40</td>\n",
       "      <td>0.776</td>\n",
       "      <td>Male</td>\n",
       "      <td>No relevent experience</td>\n",
       "      <td>no_enrollment</td>\n",
       "      <td>Graduate</td>\n",
       "      <td>STEM</td>\n",
       "      <td>15</td>\n",
       "      <td>50-99</td>\n",
       "      <td>Pvt Ltd</td>\n",
       "      <td>&gt;4</td>\n",
       "      <td>47</td>\n",
       "      <td>0.0</td>\n",
       "    </tr>\n",
       "    <tr>\n",
       "      <th>2</th>\n",
       "      <td>11561</td>\n",
       "      <td>city_21</td>\n",
       "      <td>0.624</td>\n",
       "      <td>NaN</td>\n",
       "      <td>No relevent experience</td>\n",
       "      <td>Full time course</td>\n",
       "      <td>Graduate</td>\n",
       "      <td>STEM</td>\n",
       "      <td>5</td>\n",
       "      <td>NaN</td>\n",
       "      <td>NaN</td>\n",
       "      <td>never</td>\n",
       "      <td>83</td>\n",
       "      <td>0.0</td>\n",
       "    </tr>\n",
       "    <tr>\n",
       "      <th>3</th>\n",
       "      <td>33241</td>\n",
       "      <td>city_115</td>\n",
       "      <td>0.789</td>\n",
       "      <td>NaN</td>\n",
       "      <td>No relevent experience</td>\n",
       "      <td>NaN</td>\n",
       "      <td>Graduate</td>\n",
       "      <td>Business Degree</td>\n",
       "      <td>&lt;1</td>\n",
       "      <td>NaN</td>\n",
       "      <td>Pvt Ltd</td>\n",
       "      <td>never</td>\n",
       "      <td>52</td>\n",
       "      <td>1.0</td>\n",
       "    </tr>\n",
       "    <tr>\n",
       "      <th>4</th>\n",
       "      <td>666</td>\n",
       "      <td>city_162</td>\n",
       "      <td>0.767</td>\n",
       "      <td>Male</td>\n",
       "      <td>Has relevent experience</td>\n",
       "      <td>no_enrollment</td>\n",
       "      <td>Masters</td>\n",
       "      <td>STEM</td>\n",
       "      <td>&gt;20</td>\n",
       "      <td>50-99</td>\n",
       "      <td>Funded Startup</td>\n",
       "      <td>4</td>\n",
       "      <td>8</td>\n",
       "      <td>0.0</td>\n",
       "    </tr>\n",
       "  </tbody>\n",
       "</table>\n",
       "</div>"
      ],
      "text/plain": [
       "   enrollee_id      city  city_development_index gender  \\\n",
       "0         8949  city_103                   0.920   Male   \n",
       "1        29725   city_40                   0.776   Male   \n",
       "2        11561   city_21                   0.624    NaN   \n",
       "3        33241  city_115                   0.789    NaN   \n",
       "4          666  city_162                   0.767   Male   \n",
       "\n",
       "       relevent_experience enrolled_university education_level  \\\n",
       "0  Has relevent experience       no_enrollment        Graduate   \n",
       "1   No relevent experience       no_enrollment        Graduate   \n",
       "2   No relevent experience    Full time course        Graduate   \n",
       "3   No relevent experience                 NaN        Graduate   \n",
       "4  Has relevent experience       no_enrollment         Masters   \n",
       "\n",
       "  major_discipline experience company_size    company_type last_new_job  \\\n",
       "0             STEM        >20          NaN             NaN            1   \n",
       "1             STEM         15        50-99         Pvt Ltd           >4   \n",
       "2             STEM          5          NaN             NaN        never   \n",
       "3  Business Degree         <1          NaN         Pvt Ltd        never   \n",
       "4             STEM        >20        50-99  Funded Startup            4   \n",
       "\n",
       "   training_hours  target  \n",
       "0              36     1.0  \n",
       "1              47     0.0  \n",
       "2              83     0.0  \n",
       "3              52     1.0  \n",
       "4               8     0.0  "
      ]
     },
     "execution_count": 3,
     "metadata": {},
     "output_type": "execute_result"
    }
   ],
   "source": [
    "train.head()"
   ]
  },
  {
   "cell_type": "code",
   "execution_count": 4,
   "metadata": {
    "execution": {
     "iopub.execute_input": "2021-03-29T21:59:07.082078Z",
     "iopub.status.busy": "2021-03-29T21:59:07.081416Z",
     "iopub.status.idle": "2021-03-29T21:59:07.087526Z",
     "shell.execute_reply": "2021-03-29T21:59:07.086981Z"
    },
    "papermill": {
     "duration": 0.035019,
     "end_time": "2021-03-29T21:59:07.087675",
     "exception": false,
     "start_time": "2021-03-29T21:59:07.052656",
     "status": "completed"
    },
    "tags": []
   },
   "outputs": [
    {
     "data": {
      "text/plain": [
       "(19158, 14)"
      ]
     },
     "execution_count": 4,
     "metadata": {},
     "output_type": "execute_result"
    }
   ],
   "source": [
    "train.shape"
   ]
  },
  {
   "cell_type": "code",
   "execution_count": 5,
   "metadata": {
    "execution": {
     "iopub.execute_input": "2021-03-29T21:59:07.143989Z",
     "iopub.status.busy": "2021-03-29T21:59:07.143354Z",
     "iopub.status.idle": "2021-03-29T21:59:07.180389Z",
     "shell.execute_reply": "2021-03-29T21:59:07.181392Z"
    },
    "papermill": {
     "duration": 0.067526,
     "end_time": "2021-03-29T21:59:07.181720",
     "exception": false,
     "start_time": "2021-03-29T21:59:07.114194",
     "status": "completed"
    },
    "tags": []
   },
   "outputs": [
    {
     "name": "stdout",
     "output_type": "stream",
     "text": [
      "<class 'pandas.core.frame.DataFrame'>\n",
      "RangeIndex: 19158 entries, 0 to 19157\n",
      "Data columns (total 14 columns):\n",
      " #   Column                  Non-Null Count  Dtype  \n",
      "---  ------                  --------------  -----  \n",
      " 0   enrollee_id             19158 non-null  int64  \n",
      " 1   city                    19158 non-null  object \n",
      " 2   city_development_index  19158 non-null  float64\n",
      " 3   gender                  14650 non-null  object \n",
      " 4   relevent_experience     19158 non-null  object \n",
      " 5   enrolled_university     18772 non-null  object \n",
      " 6   education_level         18698 non-null  object \n",
      " 7   major_discipline        16345 non-null  object \n",
      " 8   experience              19093 non-null  object \n",
      " 9   company_size            13220 non-null  object \n",
      " 10  company_type            13018 non-null  object \n",
      " 11  last_new_job            18735 non-null  object \n",
      " 12  training_hours          19158 non-null  int64  \n",
      " 13  target                  19158 non-null  float64\n",
      "dtypes: float64(2), int64(2), object(10)\n",
      "memory usage: 2.0+ MB\n"
     ]
    }
   ],
   "source": [
    "train.info()"
   ]
  },
  {
   "cell_type": "code",
   "execution_count": 6,
   "metadata": {
    "execution": {
     "iopub.execute_input": "2021-03-29T21:59:07.264324Z",
     "iopub.status.busy": "2021-03-29T21:59:07.263566Z",
     "iopub.status.idle": "2021-03-29T21:59:07.272043Z",
     "shell.execute_reply": "2021-03-29T21:59:07.271350Z"
    },
    "papermill": {
     "duration": 0.061054,
     "end_time": "2021-03-29T21:59:07.272188",
     "exception": false,
     "start_time": "2021-03-29T21:59:07.211134",
     "status": "completed"
    },
    "tags": []
   },
   "outputs": [
    {
     "data": {
      "text/plain": [
       "enrollee_id                  0\n",
       "city                         0\n",
       "city_development_index       0\n",
       "gender                    4508\n",
       "relevent_experience          0\n",
       "enrolled_university        386\n",
       "education_level            460\n",
       "major_discipline          2813\n",
       "experience                  65\n",
       "company_size              5938\n",
       "company_type              6140\n",
       "last_new_job               423\n",
       "training_hours               0\n",
       "target                       0\n",
       "dtype: int64"
      ]
     },
     "execution_count": 6,
     "metadata": {},
     "output_type": "execute_result"
    }
   ],
   "source": [
    "na_counts=train.isnull().sum()\n",
    "na_counts"
   ]
  },
  {
   "cell_type": "code",
   "execution_count": 7,
   "metadata": {
    "execution": {
     "iopub.execute_input": "2021-03-29T21:59:07.332642Z",
     "iopub.status.busy": "2021-03-29T21:59:07.332030Z",
     "iopub.status.idle": "2021-03-29T21:59:07.608845Z",
     "shell.execute_reply": "2021-03-29T21:59:07.608297Z"
    },
    "papermill": {
     "duration": 0.30875,
     "end_time": "2021-03-29T21:59:07.608996",
     "exception": false,
     "start_time": "2021-03-29T21:59:07.300246",
     "status": "completed"
    },
    "tags": []
   },
   "outputs": [
    {
     "data": {
      "image/png": "[encoded data removed]",
      "text/plain": [
       "<Figure size 720x360 with 1 Axes>"
      ]
     },
     "metadata": {
      "needs_background": "light"
     },
     "output_type": "display_data"
    }
   ],
   "source": [
    "plt.figure(figsize=[10,5]);\n",
    "sns.barplot(na_counts.index.values,na_counts);\n",
    "plt.xticks(rotation=90);"
   ]
  },
  {
   "cell_type": "code",
   "execution_count": 8,
   "metadata": {
    "execution": {
     "iopub.execute_input": "2021-03-29T21:59:07.672484Z",
     "iopub.status.busy": "2021-03-29T21:59:07.671825Z",
     "iopub.status.idle": "2021-03-29T21:59:07.677068Z",
     "shell.execute_reply": "2021-03-29T21:59:07.676516Z"
    },
    "papermill": {
     "duration": 0.039276,
     "end_time": "2021-03-29T21:59:07.677208",
     "exception": false,
     "start_time": "2021-03-29T21:59:07.637932",
     "status": "completed"
    },
    "tags": []
   },
   "outputs": [],
   "source": [
    "train.drop(['company_size','company_type'],axis=1,inplace=True)"
   ]
  },
  {
   "cell_type": "code",
   "execution_count": 9,
   "metadata": {
    "execution": {
     "iopub.execute_input": "2021-03-29T21:59:07.738318Z",
     "iopub.status.busy": "2021-03-29T21:59:07.737652Z",
     "iopub.status.idle": "2021-03-29T21:59:07.802453Z",
     "shell.execute_reply": "2021-03-29T21:59:07.801878Z"
    },
    "papermill": {
     "duration": 0.096482,
     "end_time": "2021-03-29T21:59:07.802596",
     "exception": false,
     "start_time": "2021-03-29T21:59:07.706114",
     "status": "completed"
    },
    "tags": []
   },
   "outputs": [
    {
     "name": "stdout",
     "output_type": "stream",
     "text": [
      "<class 'pandas.core.frame.DataFrame'>\n",
      "Int64Index: 12477 entries, 0 to 19155\n",
      "Data columns (total 12 columns):\n",
      " #   Column                  Non-Null Count  Dtype  \n",
      "---  ------                  --------------  -----  \n",
      " 0   enrollee_id             12477 non-null  int64  \n",
      " 1   city                    12477 non-null  object \n",
      " 2   city_development_index  12477 non-null  float64\n",
      " 3   gender                  12477 non-null  object \n",
      " 4   relevent_experience     12477 non-null  object \n",
      " 5   enrolled_university     12477 non-null  object \n",
      " 6   education_level         12477 non-null  object \n",
      " 7   major_discipline        12477 non-null  object \n",
      " 8   experience              12477 non-null  object \n",
      " 9   last_new_job            12477 non-null  object \n",
      " 10  training_hours          12477 non-null  int64  \n",
      " 11  target                  12477 non-null  float64\n",
      "dtypes: float64(2), int64(2), object(8)\n",
      "memory usage: 1.2+ MB\n"
     ]
    }
   ],
   "source": [
    "train.dropna(axis=0,inplace=True)\n",
    "train.info()"
   ]
  },
  {
   "cell_type": "code",
   "execution_count": 10,
   "metadata": {
    "execution": {
     "iopub.execute_input": "2021-03-29T21:59:07.868591Z",
     "iopub.status.busy": "2021-03-29T21:59:07.867937Z",
     "iopub.status.idle": "2021-03-29T21:59:07.886722Z",
     "shell.execute_reply": "2021-03-29T21:59:07.886172Z"
    },
    "papermill": {
     "duration": 0.054816,
     "end_time": "2021-03-29T21:59:07.886863",
     "exception": false,
     "start_time": "2021-03-29T21:59:07.832047",
     "status": "completed"
    },
    "tags": []
   },
   "outputs": [
    {
     "data": {
      "text/plain": [
       "0"
      ]
     },
     "execution_count": 10,
     "metadata": {},
     "output_type": "execute_result"
    }
   ],
   "source": [
    "train.duplicated().sum()"
   ]
  },
  {
   "cell_type": "code",
   "execution_count": 11,
   "metadata": {
    "execution": {
     "iopub.execute_input": "2021-03-29T21:59:07.963633Z",
     "iopub.status.busy": "2021-03-29T21:59:07.961764Z",
     "iopub.status.idle": "2021-03-29T21:59:08.210216Z",
     "shell.execute_reply": "2021-03-29T21:59:08.210707Z"
    },
    "papermill": {
     "duration": 0.294376,
     "end_time": "2021-03-29T21:59:08.210897",
     "exception": false,
     "start_time": "2021-03-29T21:59:07.916521",
     "status": "completed"
    },
    "tags": []
   },
   "outputs": [
    {
     "data": {
      "image/png": "[encoded data removed]",
      "text/plain": [
       "<Figure size 1080x504 with 2 Axes>"
      ]
     },
     "metadata": {
      "needs_background": "light"
     },
     "output_type": "display_data"
    }
   ],
   "source": [
    "plt.figure(figsize=[15,7])\n",
    "plt.subplot(1,2,1)\n",
    "sorted_counts=train['gender'].value_counts()\n",
    "plt.pie(sorted_counts,labels=sorted_counts.index,startangle=90,counterclock=False,wedgeprops={'width':0.4})\n",
    "plt.axis('square');\n",
    "plt.subplot(1,2,2)\n",
    "sns.barplot(sorted_counts.index.values,sorted_counts)\n",
    "#plt.yticks(range(np.arange(0,len(train)+1000,2000))\n",
    "plt.yticks(range(0,14000,2000));"
   ]
  },
  {
   "cell_type": "code",
   "execution_count": 12,
   "metadata": {
    "execution": {
     "iopub.execute_input": "2021-03-29T21:59:08.309960Z",
     "iopub.status.busy": "2021-03-29T21:59:08.309057Z",
     "iopub.status.idle": "2021-03-29T21:59:08.437023Z",
     "shell.execute_reply": "2021-03-29T21:59:08.436372Z"
    },
    "papermill": {
     "duration": 0.189699,
     "end_time": "2021-03-29T21:59:08.437167",
     "exception": false,
     "start_time": "2021-03-29T21:59:08.247468",
     "status": "completed"
    },
    "tags": []
   },
   "outputs": [
    {
     "data": {
      "image/png": "[encoded data removed]",
      "text/plain": [
       "<Figure size 432x288 with 1 Axes>"
      ]
     },
     "metadata": {
      "needs_background": "light"
     },
     "output_type": "display_data"
    }
   ],
   "source": [
    "base_color=sns.color_palette()[2]\n",
    "rects1=sns.countplot(data=train,x='relevent_experience',color=base_color);"
   ]
  },
  {
   "cell_type": "code",
   "execution_count": 13,
   "metadata": {
    "execution": {
     "iopub.execute_input": "2021-03-29T21:59:08.535707Z",
     "iopub.status.busy": "2021-03-29T21:59:08.535023Z",
     "iopub.status.idle": "2021-03-29T21:59:08.770930Z",
     "shell.execute_reply": "2021-03-29T21:59:08.770302Z"
    },
    "papermill": {
     "duration": 0.301792,
     "end_time": "2021-03-29T21:59:08.771092",
     "exception": false,
     "start_time": "2021-03-29T21:59:08.469300",
     "status": "completed"
    },
    "tags": []
   },
   "outputs": [
    {
     "data": {
      "image/png": "[encoded data removed]",
      "text/plain": [
       "<Figure size 432x288 with 1 Axes>"
      ]
     },
     "metadata": {
      "needs_background": "light"
     },
     "output_type": "display_data"
    }
   ],
   "source": [
    "def percentage_blocks(df, var):\n",
    "    \"\"\"\n",
    "    Take as input a dataframe and variable, and return a Pandas series with\n",
    "    approximate percentage values for filling out a waffle plot.\n",
    "    \"\"\"\n",
    "    # compute base quotas\n",
    "    percentages = 100 * train[var].value_counts() / df.shape[0]\n",
    "    counts = np.floor(percentages).astype(int) # integer part = minimum quota\n",
    "    decimal = (percentages - counts).sort_values(ascending = False)\n",
    "\n",
    "    # add in additional counts to reach 100\n",
    "    rem = 100 - counts.sum()\n",
    "    for cat in decimal.index[:rem]:\n",
    "        counts[cat] += 1\n",
    "\n",
    "    return counts\n",
    "\n",
    "\n",
    "waffle_counts = percentage_blocks(train, 'education_level')\n",
    "\n",
    "prev_count = 0\n",
    "# for each category,\n",
    "for cat in range(waffle_counts.shape[0]):\n",
    "    # get the block indices\n",
    "    blocks = np.arange(prev_count, prev_count + waffle_counts[cat])\n",
    "    # and put a block at each index's location\n",
    "    x = blocks % 10 # use mod operation to get ones digit\n",
    "    y = blocks // 10 # use floor division to get tens digit\n",
    "    plt.bar(x = x, height = 0.8, width = 0.8, bottom = y)\n",
    "    prev_count += waffle_counts[cat]\n",
    "\n",
    "    \n",
    "# aesthetic wrangling\n",
    "plt.legend(waffle_counts.index, bbox_to_anchor = (1, 0.5), loc = 6);\n",
    "plt.axis('off');\n",
    "plt.axis('square');"
   ]
  },
  {
   "cell_type": "code",
   "execution_count": 14,
   "metadata": {
    "execution": {
     "iopub.execute_input": "2021-03-29T21:59:08.863990Z",
     "iopub.status.busy": "2021-03-29T21:59:08.863308Z",
     "iopub.status.idle": "2021-03-29T21:59:08.959355Z",
     "shell.execute_reply": "2021-03-29T21:59:08.959883Z"
    },
    "papermill": {
     "duration": 0.155212,
     "end_time": "2021-03-29T21:59:08.960058",
     "exception": false,
     "start_time": "2021-03-29T21:59:08.804846",
     "status": "completed"
    },
    "tags": []
   },
   "outputs": [
    {
     "data": {
      "image/png": "[encoded data removed]",
      "text/plain": [
       "<Figure size 432x288 with 1 Axes>"
      ]
     },
     "metadata": {
      "needs_background": "light"
     },
     "output_type": "display_data"
    }
   ],
   "source": [
    "ax = sns.boxplot(data=train['training_hours'], orient=\"v\", palette=\"Set2\")"
   ]
  },
  {
   "cell_type": "code",
   "execution_count": 15,
   "metadata": {
    "execution": {
     "iopub.execute_input": "2021-03-29T21:59:09.031131Z",
     "iopub.status.busy": "2021-03-29T21:59:09.030484Z",
     "iopub.status.idle": "2021-03-29T21:59:09.201159Z",
     "shell.execute_reply": "2021-03-29T21:59:09.200571Z"
    },
    "papermill": {
     "duration": 0.207826,
     "end_time": "2021-03-29T21:59:09.201328",
     "exception": false,
     "start_time": "2021-03-29T21:59:08.993502",
     "status": "completed"
    },
    "tags": []
   },
   "outputs": [
    {
     "data": {
      "text/plain": [
       "<AxesSubplot:xlabel='training_hours'>"
      ]
     },
     "execution_count": 15,
     "metadata": {},
     "output_type": "execute_result"
    },
    {
     "data": {
      "image/png": "[encoded data removed]",
      "text/plain": [
       "<Figure size 432x288 with 1 Axes>"
      ]
     },
     "metadata": {
      "needs_background": "light"
     },
     "output_type": "display_data"
    }
   ],
   "source": [
    "bin_edges = np.arange(0, train['training_hours'].max()+20, 20)\n",
    "sns.distplot(train['training_hours'], bins = bin_edges, kde = False,\n",
    "            hist_kws = {'alpha' : 1})"
   ]
  },
  {
   "cell_type": "code",
   "execution_count": 16,
   "metadata": {
    "execution": {
     "iopub.execute_input": "2021-03-29T21:59:09.283167Z",
     "iopub.status.busy": "2021-03-29T21:59:09.282463Z",
     "iopub.status.idle": "2021-03-29T21:59:09.294418Z",
     "shell.execute_reply": "2021-03-29T21:59:09.293828Z"
    },
    "papermill": {
     "duration": 0.058093,
     "end_time": "2021-03-29T21:59:09.294574",
     "exception": false,
     "start_time": "2021-03-29T21:59:09.236481",
     "status": "completed"
    },
    "tags": []
   },
   "outputs": [
    {
     "data": {
      "text/html": [
       "<div>\n",
       "<style scoped>\n",
       "    .dataframe tbody tr th:only-of-type {\n",
       "        vertical-align: middle;\n",
       "    }\n",
       "\n",
       "    .dataframe tbody tr th {\n",
       "        vertical-align: top;\n",
       "    }\n",
       "\n",
       "    .dataframe thead th {\n",
       "        text-align: right;\n",
       "    }\n",
       "</style>\n",
       "<table border=\"1\" class=\"dataframe\">\n",
       "  <thead>\n",
       "    <tr style=\"text-align: right;\">\n",
       "      <th></th>\n",
       "      <th>enrollee_id</th>\n",
       "      <th>city</th>\n",
       "      <th>city_development_index</th>\n",
       "      <th>gender</th>\n",
       "      <th>relevent_experience</th>\n",
       "      <th>enrolled_university</th>\n",
       "      <th>education_level</th>\n",
       "      <th>major_discipline</th>\n",
       "      <th>experience</th>\n",
       "      <th>last_new_job</th>\n",
       "      <th>training_hours</th>\n",
       "      <th>target</th>\n",
       "    </tr>\n",
       "  </thead>\n",
       "  <tbody>\n",
       "    <tr>\n",
       "      <th>0</th>\n",
       "      <td>8949</td>\n",
       "      <td>city_103</td>\n",
       "      <td>0.920</td>\n",
       "      <td>Male</td>\n",
       "      <td>Has relevent experience</td>\n",
       "      <td>no_enrollment</td>\n",
       "      <td>Graduate</td>\n",
       "      <td>STEM</td>\n",
       "      <td>&gt;20</td>\n",
       "      <td>1</td>\n",
       "      <td>36</td>\n",
       "      <td>1.0</td>\n",
       "    </tr>\n",
       "    <tr>\n",
       "      <th>1</th>\n",
       "      <td>29725</td>\n",
       "      <td>city_40</td>\n",
       "      <td>0.776</td>\n",
       "      <td>Male</td>\n",
       "      <td>No relevent experience</td>\n",
       "      <td>no_enrollment</td>\n",
       "      <td>Graduate</td>\n",
       "      <td>STEM</td>\n",
       "      <td>15</td>\n",
       "      <td>&gt;4</td>\n",
       "      <td>47</td>\n",
       "      <td>0.0</td>\n",
       "    </tr>\n",
       "    <tr>\n",
       "      <th>4</th>\n",
       "      <td>666</td>\n",
       "      <td>city_162</td>\n",
       "      <td>0.767</td>\n",
       "      <td>Male</td>\n",
       "      <td>Has relevent experience</td>\n",
       "      <td>no_enrollment</td>\n",
       "      <td>Masters</td>\n",
       "      <td>STEM</td>\n",
       "      <td>&gt;20</td>\n",
       "      <td>4</td>\n",
       "      <td>8</td>\n",
       "      <td>0.0</td>\n",
       "    </tr>\n",
       "    <tr>\n",
       "      <th>7</th>\n",
       "      <td>402</td>\n",
       "      <td>city_46</td>\n",
       "      <td>0.762</td>\n",
       "      <td>Male</td>\n",
       "      <td>Has relevent experience</td>\n",
       "      <td>no_enrollment</td>\n",
       "      <td>Graduate</td>\n",
       "      <td>STEM</td>\n",
       "      <td>13</td>\n",
       "      <td>&gt;4</td>\n",
       "      <td>18</td>\n",
       "      <td>1.0</td>\n",
       "    </tr>\n",
       "    <tr>\n",
       "      <th>8</th>\n",
       "      <td>27107</td>\n",
       "      <td>city_103</td>\n",
       "      <td>0.920</td>\n",
       "      <td>Male</td>\n",
       "      <td>Has relevent experience</td>\n",
       "      <td>no_enrollment</td>\n",
       "      <td>Graduate</td>\n",
       "      <td>STEM</td>\n",
       "      <td>7</td>\n",
       "      <td>1</td>\n",
       "      <td>46</td>\n",
       "      <td>1.0</td>\n",
       "    </tr>\n",
       "  </tbody>\n",
       "</table>\n",
       "</div>"
      ],
      "text/plain": [
       "   enrollee_id      city  city_development_index gender  \\\n",
       "0         8949  city_103                   0.920   Male   \n",
       "1        29725   city_40                   0.776   Male   \n",
       "4          666  city_162                   0.767   Male   \n",
       "7          402   city_46                   0.762   Male   \n",
       "8        27107  city_103                   0.920   Male   \n",
       "\n",
       "       relevent_experience enrolled_university education_level  \\\n",
       "0  Has relevent experience       no_enrollment        Graduate   \n",
       "1   No relevent experience       no_enrollment        Graduate   \n",
       "4  Has relevent experience       no_enrollment         Masters   \n",
       "7  Has relevent experience       no_enrollment        Graduate   \n",
       "8  Has relevent experience       no_enrollment        Graduate   \n",
       "\n",
       "  major_discipline experience last_new_job  training_hours  target  \n",
       "0             STEM        >20            1              36     1.0  \n",
       "1             STEM         15           >4              47     0.0  \n",
       "4             STEM        >20            4               8     0.0  \n",
       "7             STEM         13           >4              18     1.0  \n",
       "8             STEM          7            1              46     1.0  "
      ]
     },
     "execution_count": 16,
     "metadata": {},
     "output_type": "execute_result"
    }
   ],
   "source": [
    "train.head()"
   ]
  },
  {
   "cell_type": "code",
   "execution_count": 17,
   "metadata": {
    "execution": {
     "iopub.execute_input": "2021-03-29T21:59:09.381003Z",
     "iopub.status.busy": "2021-03-29T21:59:09.380262Z",
     "iopub.status.idle": "2021-03-29T21:59:09.579289Z",
     "shell.execute_reply": "2021-03-29T21:59:09.579752Z"
    },
    "papermill": {
     "duration": 0.250036,
     "end_time": "2021-03-29T21:59:09.579942",
     "exception": false,
     "start_time": "2021-03-29T21:59:09.329906",
     "status": "completed"
    },
    "tags": []
   },
   "outputs": [
    {
     "data": {
      "image/png": "[encoded data removed]",
      "text/plain": [
       "<Figure size 432x288 with 1 Axes>"
      ]
     },
     "metadata": {},
     "output_type": "display_data"
    }
   ],
   "source": [
    "sns.set(style=\"whitegrid\")\n",
    "ax = sns.countplot(x=\"gender\", hue=\"relevent_experience\", data=train)\n",
    "plt.title('Number of each gender in each relevant experiance unique value');"
   ]
  },
  {
   "cell_type": "code",
   "execution_count": 18,
   "metadata": {
    "execution": {
     "iopub.execute_input": "2021-03-29T21:59:09.656091Z",
     "iopub.status.busy": "2021-03-29T21:59:09.655456Z",
     "iopub.status.idle": "2021-03-29T21:59:09.861869Z",
     "shell.execute_reply": "2021-03-29T21:59:09.862412Z"
    },
    "papermill": {
     "duration": 0.245943,
     "end_time": "2021-03-29T21:59:09.862591",
     "exception": false,
     "start_time": "2021-03-29T21:59:09.616648",
     "status": "completed"
    },
    "tags": []
   },
   "outputs": [
    {
     "data": {
      "image/png": "[encoded data removed]",
      "text/plain": [
       "<Figure size 432x288 with 1 Axes>"
      ]
     },
     "metadata": {},
     "output_type": "display_data"
    }
   ],
   "source": [
    "sns.set(style=\"whitegrid\")\n",
    "ax = sns.countplot(x=\"gender\", hue=\"relevent_experience\", data=train)\n",
    "plt.title('Number of each gender in each relevant experiance unique value');"
   ]
  },
  {
   "cell_type": "code",
   "execution_count": 19,
   "metadata": {
    "execution": {
     "iopub.execute_input": "2021-03-29T21:59:09.941578Z",
     "iopub.status.busy": "2021-03-29T21:59:09.940918Z",
     "iopub.status.idle": "2021-03-29T21:59:10.742180Z",
     "shell.execute_reply": "2021-03-29T21:59:10.742745Z"
    },
    "papermill": {
     "duration": 0.842664,
     "end_time": "2021-03-29T21:59:10.742940",
     "exception": false,
     "start_time": "2021-03-29T21:59:09.900276",
     "status": "completed"
    },
    "tags": []
   },
   "outputs": [
    {
     "data": {
      "image/png": "[encoded data removed]",
      "text/plain": [
       "<Figure size 648x216 with 3 Axes>"
      ]
     },
     "metadata": {},
     "output_type": "display_data"
    }
   ],
   "source": [
    "gender_types = list(train['gender'].unique())\n",
    "vclasses = pd.api.types.CategoricalDtype(ordered=True, categories=gender_types)\n",
    "train['gender'] = train['gender'].astype(vclasses);\n",
    "\n",
    "# Plot the Seaborn's FacetGrid\n",
    "g = sns.FacetGrid(data = train, col = 'gender')\n",
    "g.map(plt.hist, \"training_hours\");"
   ]
  },
  {
   "cell_type": "code",
   "execution_count": 20,
   "metadata": {
    "execution": {
     "iopub.execute_input": "2021-03-29T21:59:10.826634Z",
     "iopub.status.busy": "2021-03-29T21:59:10.826004Z",
     "iopub.status.idle": "2021-03-29T21:59:11.008401Z",
     "shell.execute_reply": "2021-03-29T21:59:11.007554Z"
    },
    "papermill": {
     "duration": 0.227346,
     "end_time": "2021-03-29T21:59:11.008561",
     "exception": false,
     "start_time": "2021-03-29T21:59:10.781215",
     "status": "completed"
    },
    "tags": []
   },
   "outputs": [
    {
     "data": {
      "image/png": "[encoded data removed]",
      "text/plain": [
       "<Figure size 432x288 with 1 Axes>"
      ]
     },
     "metadata": {},
     "output_type": "display_data"
    }
   ],
   "source": [
    "ax=sns.boxplot(data=train,x='gender',y='training_hours')"
   ]
  },
  {
   "cell_type": "code",
   "execution_count": 21,
   "metadata": {
    "execution": {
     "iopub.execute_input": "2021-03-29T21:59:11.090029Z",
     "iopub.status.busy": "2021-03-29T21:59:11.089309Z",
     "iopub.status.idle": "2021-03-29T21:59:11.322077Z",
     "shell.execute_reply": "2021-03-29T21:59:11.322575Z"
    },
    "papermill": {
     "duration": 0.275199,
     "end_time": "2021-03-29T21:59:11.322771",
     "exception": false,
     "start_time": "2021-03-29T21:59:11.047572",
     "status": "completed"
    },
    "tags": []
   },
   "outputs": [
    {
     "data": {
      "text/plain": [
       "<matplotlib.legend.Legend at 0x7f845f209650>"
      ]
     },
     "execution_count": 21,
     "metadata": {},
     "output_type": "execute_result"
    },
    {
     "data": {
      "image/png": "[encoded data removed]",
      "text/plain": [
       "<Figure size 432x288 with 1 Axes>"
      ]
     },
     "metadata": {},
     "output_type": "display_data"
    }
   ],
   "source": [
    "ax = sns.countplot(y=\"gender\", hue=\"target\", data=train)\n",
    "plt.legend()"
   ]
  },
  {
   "cell_type": "code",
   "execution_count": 22,
   "metadata": {
    "execution": {
     "iopub.execute_input": "2021-03-29T21:59:11.412845Z",
     "iopub.status.busy": "2021-03-29T21:59:11.409395Z",
     "iopub.status.idle": "2021-03-29T21:59:11.902567Z",
     "shell.execute_reply": "2021-03-29T21:59:11.902011Z"
    },
    "papermill": {
     "duration": 0.539666,
     "end_time": "2021-03-29T21:59:11.902740",
     "exception": false,
     "start_time": "2021-03-29T21:59:11.363074",
     "status": "completed"
    },
    "tags": []
   },
   "outputs": [
    {
     "data": {
      "image/png": "[encoded data removed]",
      "text/plain": [
       "<Figure size 432x288 with 1 Axes>"
      ]
     },
     "metadata": {},
     "output_type": "display_data"
    }
   ],
   "source": [
    "ax=sns.boxplot(data=train,x='gender',y='training_hours',hue='education_level')"
   ]
  },
  {
   "cell_type": "code",
   "execution_count": 23,
   "metadata": {
    "execution": {
     "iopub.execute_input": "2021-03-29T21:59:12.006048Z",
     "iopub.status.busy": "2021-03-29T21:59:12.005361Z",
     "iopub.status.idle": "2021-03-29T21:59:12.010363Z",
     "shell.execute_reply": "2021-03-29T21:59:12.009821Z"
    },
    "papermill": {
     "duration": 0.066232,
     "end_time": "2021-03-29T21:59:12.010510",
     "exception": false,
     "start_time": "2021-03-29T21:59:11.944278",
     "status": "completed"
    },
    "tags": []
   },
   "outputs": [
    {
     "data": {
      "text/html": [
       "<div>\n",
       "<style scoped>\n",
       "    .dataframe tbody tr th:only-of-type {\n",
       "        vertical-align: middle;\n",
       "    }\n",
       "\n",
       "    .dataframe tbody tr th {\n",
       "        vertical-align: top;\n",
       "    }\n",
       "\n",
       "    .dataframe thead th {\n",
       "        text-align: right;\n",
       "    }\n",
       "</style>\n",
       "<table border=\"1\" class=\"dataframe\">\n",
       "  <thead>\n",
       "    <tr style=\"text-align: right;\">\n",
       "      <th></th>\n",
       "      <th>enrollee_id</th>\n",
       "      <th>city</th>\n",
       "      <th>city_development_index</th>\n",
       "      <th>gender</th>\n",
       "      <th>relevent_experience</th>\n",
       "      <th>enrolled_university</th>\n",
       "      <th>education_level</th>\n",
       "      <th>major_discipline</th>\n",
       "      <th>experience</th>\n",
       "      <th>last_new_job</th>\n",
       "      <th>training_hours</th>\n",
       "      <th>target</th>\n",
       "    </tr>\n",
       "  </thead>\n",
       "  <tbody>\n",
       "    <tr>\n",
       "      <th>0</th>\n",
       "      <td>8949</td>\n",
       "      <td>city_103</td>\n",
       "      <td>0.920</td>\n",
       "      <td>Male</td>\n",
       "      <td>Has relevent experience</td>\n",
       "      <td>no_enrollment</td>\n",
       "      <td>Graduate</td>\n",
       "      <td>STEM</td>\n",
       "      <td>&gt;20</td>\n",
       "      <td>1</td>\n",
       "      <td>36</td>\n",
       "      <td>1.0</td>\n",
       "    </tr>\n",
       "    <tr>\n",
       "      <th>1</th>\n",
       "      <td>29725</td>\n",
       "      <td>city_40</td>\n",
       "      <td>0.776</td>\n",
       "      <td>Male</td>\n",
       "      <td>No relevent experience</td>\n",
       "      <td>no_enrollment</td>\n",
       "      <td>Graduate</td>\n",
       "      <td>STEM</td>\n",
       "      <td>15</td>\n",
       "      <td>&gt;4</td>\n",
       "      <td>47</td>\n",
       "      <td>0.0</td>\n",
       "    </tr>\n",
       "    <tr>\n",
       "      <th>4</th>\n",
       "      <td>666</td>\n",
       "      <td>city_162</td>\n",
       "      <td>0.767</td>\n",
       "      <td>Male</td>\n",
       "      <td>Has relevent experience</td>\n",
       "      <td>no_enrollment</td>\n",
       "      <td>Masters</td>\n",
       "      <td>STEM</td>\n",
       "      <td>&gt;20</td>\n",
       "      <td>4</td>\n",
       "      <td>8</td>\n",
       "      <td>0.0</td>\n",
       "    </tr>\n",
       "    <tr>\n",
       "      <th>7</th>\n",
       "      <td>402</td>\n",
       "      <td>city_46</td>\n",
       "      <td>0.762</td>\n",
       "      <td>Male</td>\n",
       "      <td>Has relevent experience</td>\n",
       "      <td>no_enrollment</td>\n",
       "      <td>Graduate</td>\n",
       "      <td>STEM</td>\n",
       "      <td>13</td>\n",
       "      <td>&gt;4</td>\n",
       "      <td>18</td>\n",
       "      <td>1.0</td>\n",
       "    </tr>\n",
       "    <tr>\n",
       "      <th>8</th>\n",
       "      <td>27107</td>\n",
       "      <td>city_103</td>\n",
       "      <td>0.920</td>\n",
       "      <td>Male</td>\n",
       "      <td>Has relevent experience</td>\n",
       "      <td>no_enrollment</td>\n",
       "      <td>Graduate</td>\n",
       "      <td>STEM</td>\n",
       "      <td>7</td>\n",
       "      <td>1</td>\n",
       "      <td>46</td>\n",
       "      <td>1.0</td>\n",
       "    </tr>\n",
       "  </tbody>\n",
       "</table>\n",
       "</div>"
      ],
      "text/plain": [
       "   enrollee_id      city  city_development_index gender  \\\n",
       "0         8949  city_103                   0.920   Male   \n",
       "1        29725   city_40                   0.776   Male   \n",
       "4          666  city_162                   0.767   Male   \n",
       "7          402   city_46                   0.762   Male   \n",
       "8        27107  city_103                   0.920   Male   \n",
       "\n",
       "       relevent_experience enrolled_university education_level  \\\n",
       "0  Has relevent experience       no_enrollment        Graduate   \n",
       "1   No relevent experience       no_enrollment        Graduate   \n",
       "4  Has relevent experience       no_enrollment         Masters   \n",
       "7  Has relevent experience       no_enrollment        Graduate   \n",
       "8  Has relevent experience       no_enrollment        Graduate   \n",
       "\n",
       "  major_discipline experience last_new_job  training_hours  target  \n",
       "0             STEM        >20            1              36     1.0  \n",
       "1             STEM         15           >4              47     0.0  \n",
       "4             STEM        >20            4               8     0.0  \n",
       "7             STEM         13           >4              18     1.0  \n",
       "8             STEM          7            1              46     1.0  "
      ]
     },
     "execution_count": 23,
     "metadata": {},
     "output_type": "execute_result"
    }
   ],
   "source": [
    "train.head()"
   ]
  },
  {
   "cell_type": "code",
   "execution_count": 24,
   "metadata": {
    "execution": {
     "iopub.execute_input": "2021-03-29T21:59:12.108062Z",
     "iopub.status.busy": "2021-03-29T21:59:12.107377Z",
     "iopub.status.idle": "2021-03-29T21:59:12.207647Z",
     "shell.execute_reply": "2021-03-29T21:59:12.207119Z"
    },
    "papermill": {
     "duration": 0.154786,
     "end_time": "2021-03-29T21:59:12.207813",
     "exception": false,
     "start_time": "2021-03-29T21:59:12.053027",
     "status": "completed"
    },
    "tags": []
   },
   "outputs": [
    {
     "data": {
      "text/html": [
       "<div>\n",
       "<style scoped>\n",
       "    .dataframe tbody tr th:only-of-type {\n",
       "        vertical-align: middle;\n",
       "    }\n",
       "\n",
       "    .dataframe tbody tr th {\n",
       "        vertical-align: top;\n",
       "    }\n",
       "\n",
       "    .dataframe thead th {\n",
       "        text-align: right;\n",
       "    }\n",
       "</style>\n",
       "<table border=\"1\" class=\"dataframe\">\n",
       "  <thead>\n",
       "    <tr style=\"text-align: right;\">\n",
       "      <th></th>\n",
       "      <th>enrollee_id</th>\n",
       "      <th>city</th>\n",
       "      <th>city_development_index</th>\n",
       "      <th>gender</th>\n",
       "      <th>relevent_experience</th>\n",
       "      <th>enrolled_university</th>\n",
       "      <th>education_level</th>\n",
       "      <th>major_discipline</th>\n",
       "      <th>experience</th>\n",
       "      <th>last_new_job</th>\n",
       "      <th>training_hours</th>\n",
       "      <th>target</th>\n",
       "    </tr>\n",
       "  </thead>\n",
       "  <tbody>\n",
       "    <tr>\n",
       "      <th>0</th>\n",
       "      <td>8949</td>\n",
       "      <td>city_103</td>\n",
       "      <td>0.920</td>\n",
       "      <td>0</td>\n",
       "      <td>1</td>\n",
       "      <td>0</td>\n",
       "      <td>1</td>\n",
       "      <td>1</td>\n",
       "      <td>1.000000</td>\n",
       "      <td>1</td>\n",
       "      <td>0.107143</td>\n",
       "      <td>1.0</td>\n",
       "    </tr>\n",
       "    <tr>\n",
       "      <th>1</th>\n",
       "      <td>29725</td>\n",
       "      <td>city_40</td>\n",
       "      <td>0.776</td>\n",
       "      <td>0</td>\n",
       "      <td>0</td>\n",
       "      <td>0</td>\n",
       "      <td>1</td>\n",
       "      <td>1</td>\n",
       "      <td>0.500000</td>\n",
       "      <td>5</td>\n",
       "      <td>0.139881</td>\n",
       "      <td>0.0</td>\n",
       "    </tr>\n",
       "    <tr>\n",
       "      <th>4</th>\n",
       "      <td>666</td>\n",
       "      <td>city_162</td>\n",
       "      <td>0.767</td>\n",
       "      <td>0</td>\n",
       "      <td>1</td>\n",
       "      <td>0</td>\n",
       "      <td>2</td>\n",
       "      <td>1</td>\n",
       "      <td>1.000000</td>\n",
       "      <td>4</td>\n",
       "      <td>0.023810</td>\n",
       "      <td>0.0</td>\n",
       "    </tr>\n",
       "    <tr>\n",
       "      <th>7</th>\n",
       "      <td>402</td>\n",
       "      <td>city_46</td>\n",
       "      <td>0.762</td>\n",
       "      <td>0</td>\n",
       "      <td>1</td>\n",
       "      <td>0</td>\n",
       "      <td>1</td>\n",
       "      <td>1</td>\n",
       "      <td>0.433333</td>\n",
       "      <td>5</td>\n",
       "      <td>0.053571</td>\n",
       "      <td>1.0</td>\n",
       "    </tr>\n",
       "    <tr>\n",
       "      <th>8</th>\n",
       "      <td>27107</td>\n",
       "      <td>city_103</td>\n",
       "      <td>0.920</td>\n",
       "      <td>0</td>\n",
       "      <td>1</td>\n",
       "      <td>0</td>\n",
       "      <td>1</td>\n",
       "      <td>1</td>\n",
       "      <td>0.233333</td>\n",
       "      <td>1</td>\n",
       "      <td>0.136905</td>\n",
       "      <td>1.0</td>\n",
       "    </tr>\n",
       "  </tbody>\n",
       "</table>\n",
       "</div>"
      ],
      "text/plain": [
       "   enrollee_id      city  city_development_index  gender  relevent_experience  \\\n",
       "0         8949  city_103                   0.920       0                    1   \n",
       "1        29725   city_40                   0.776       0                    0   \n",
       "4          666  city_162                   0.767       0                    1   \n",
       "7          402   city_46                   0.762       0                    1   \n",
       "8        27107  city_103                   0.920       0                    1   \n",
       "\n",
       "   enrolled_university  education_level  major_discipline  experience  \\\n",
       "0                    0                1                 1    1.000000   \n",
       "1                    0                1                 1    0.500000   \n",
       "4                    0                2                 1    1.000000   \n",
       "7                    0                1                 1    0.433333   \n",
       "8                    0                1                 1    0.233333   \n",
       "\n",
       "   last_new_job  training_hours  target  \n",
       "0             1        0.107143     1.0  \n",
       "1             5        0.139881     0.0  \n",
       "4             4        0.023810     0.0  \n",
       "7             5        0.053571     1.0  \n",
       "8             1        0.136905     1.0  "
      ]
     },
     "execution_count": 24,
     "metadata": {},
     "output_type": "execute_result"
    }
   ],
   "source": [
    "train['gender']=train['gender'].replace({'Male':0,'Female':1,'Other':2})\n",
    "train['enrolled_university']=train['enrolled_university'].replace({'no_enrollment':0,'Full time course':1,'Part time course':2})\n",
    "train['relevent_experience']=train['relevent_experience'].replace({'No relevent experience':0,'Has relevent experience':1})\n",
    "train['education_level']=train['education_level'].replace({'Graduate':1,'Masters':2,'Phd':3})\n",
    "\n",
    "train['major_discipline']=train['major_discipline'].replace({'STEM':1, 'Humanities':2, 'Arts':3, 'Business Degree':4,'No Major':5,'Other':6})\n",
    "\n",
    "train['experience']=train['experience'].replace({'>20':30,'<1':0})\n",
    "\n",
    "train['last_new_job']=train['last_new_job'].replace({'>4':5,'1':1,'never':0,'4':4, '3':3, '2':2})\n",
    "train['experience']=train['experience'].replace({'>20':30,'<1':0,'15':15,'13':13,'7':7, '5':5, '16':16, '4':4, '11':11, '18':18, '19':19, '12':12,\n",
    "       '10':10, '9':9, '2':2, '6':6, '14':14, '3':3, '8':8, '20':20, '17':17, '1':1})\n",
    "train['training_hours']=train['training_hours']/train['training_hours'].max()\n",
    "train['experience']=train['experience']/train['experience'].max()\n",
    "train.head()"
   ]
  },
  {
   "cell_type": "code",
   "execution_count": 25,
   "metadata": {
    "execution": {
     "iopub.execute_input": "2021-03-29T21:59:12.304009Z",
     "iopub.status.busy": "2021-03-29T21:59:12.303323Z",
     "iopub.status.idle": "2021-03-29T21:59:12.318214Z",
     "shell.execute_reply": "2021-03-29T21:59:12.317426Z"
    },
    "papermill": {
     "duration": 0.067553,
     "end_time": "2021-03-29T21:59:12.318417",
     "exception": false,
     "start_time": "2021-03-29T21:59:12.250864",
     "status": "completed"
    },
    "tags": []
   },
   "outputs": [
    {
     "name": "stdout",
     "output_type": "stream",
     "text": [
      "<class 'pandas.core.frame.DataFrame'>\n",
      "Int64Index: 12477 entries, 0 to 19155\n",
      "Data columns (total 12 columns):\n",
      " #   Column                  Non-Null Count  Dtype  \n",
      "---  ------                  --------------  -----  \n",
      " 0   enrollee_id             12477 non-null  int64  \n",
      " 1   city                    12477 non-null  object \n",
      " 2   city_development_index  12477 non-null  float64\n",
      " 3   gender                  12477 non-null  int64  \n",
      " 4   relevent_experience     12477 non-null  int64  \n",
      " 5   enrolled_university     12477 non-null  int64  \n",
      " 6   education_level         12477 non-null  int64  \n",
      " 7   major_discipline        12477 non-null  int64  \n",
      " 8   experience              12477 non-null  float64\n",
      " 9   last_new_job            12477 non-null  int64  \n",
      " 10  training_hours          12477 non-null  float64\n",
      " 11  target                  12477 non-null  float64\n",
      "dtypes: float64(4), int64(7), object(1)\n",
      "memory usage: 1.5+ MB\n"
     ]
    }
   ],
   "source": [
    "train.info()"
   ]
  },
  {
   "cell_type": "code",
   "execution_count": 26,
   "metadata": {
    "execution": {
     "iopub.execute_input": "2021-03-29T21:59:12.411622Z",
     "iopub.status.busy": "2021-03-29T21:59:12.410696Z",
     "iopub.status.idle": "2021-03-29T21:59:12.415169Z",
     "shell.execute_reply": "2021-03-29T21:59:12.414625Z"
    },
    "papermill": {
     "duration": 0.053188,
     "end_time": "2021-03-29T21:59:12.415307",
     "exception": false,
     "start_time": "2021-03-29T21:59:12.362119",
     "status": "completed"
    },
    "tags": []
   },
   "outputs": [
    {
     "data": {
      "text/plain": [
       "(12477, 12)"
      ]
     },
     "execution_count": 26,
     "metadata": {},
     "output_type": "execute_result"
    }
   ],
   "source": [
    "train.shape"
   ]
  },
  {
   "cell_type": "code",
   "execution_count": 27,
   "metadata": {
    "execution": {
     "iopub.execute_input": "2021-03-29T21:59:12.508789Z",
     "iopub.status.busy": "2021-03-29T21:59:12.508102Z",
     "iopub.status.idle": "2021-03-29T21:59:13.621697Z",
     "shell.execute_reply": "2021-03-29T21:59:13.622173Z"
    },
    "papermill": {
     "duration": 1.163363,
     "end_time": "2021-03-29T21:59:13.622337",
     "exception": false,
     "start_time": "2021-03-29T21:59:12.458974",
     "status": "completed"
    },
    "tags": []
   },
   "outputs": [
    {
     "data": {
      "image/png": "[encoded data removed]",
      "text/plain": [
       "<Figure size 720x720 with 2 Axes>"
      ]
     },
     "metadata": {},
     "output_type": "display_data"
    }
   ],
   "source": [
    "plt.figure(figsize=[10,10])\n",
    "sns.heatmap(train.corr(),annot=True,fmt='.3f')\n",
    "plt.title('Correlation factor between target and each column');"
   ]
  },
  {
   "cell_type": "code",
   "execution_count": 28,
   "metadata": {
    "execution": {
     "iopub.execute_input": "2021-03-29T21:59:13.724380Z",
     "iopub.status.busy": "2021-03-29T21:59:13.723692Z",
     "iopub.status.idle": "2021-03-29T21:59:13.729243Z",
     "shell.execute_reply": "2021-03-29T21:59:13.728573Z"
    },
    "papermill": {
     "duration": 0.059214,
     "end_time": "2021-03-29T21:59:13.729386",
     "exception": false,
     "start_time": "2021-03-29T21:59:13.670172",
     "status": "completed"
    },
    "tags": []
   },
   "outputs": [],
   "source": [
    "#our features and target\n",
    "X=train.drop(['enrollee_id','city','target'],axis=1) #these featured don't benefit us in our clsassification \n",
    "y=train['target']"
   ]
  },
  {
   "cell_type": "code",
   "execution_count": 29,
   "metadata": {
    "execution": {
     "iopub.execute_input": "2021-03-29T21:59:13.830160Z",
     "iopub.status.busy": "2021-03-29T21:59:13.829335Z",
     "iopub.status.idle": "2021-03-29T21:59:14.021189Z",
     "shell.execute_reply": "2021-03-29T21:59:14.020433Z"
    },
    "papermill": {
     "duration": 0.24433,
     "end_time": "2021-03-29T21:59:14.021369",
     "exception": false,
     "start_time": "2021-03-29T21:59:13.777039",
     "status": "completed"
    },
    "tags": []
   },
   "outputs": [
    {
     "name": "stdout",
     "output_type": "stream",
     "text": [
      "Imbalanced target class: Counter({0.0: 9511, 1.0: 2966}) Balanced target class:Counter({1.0: 9511, 0.0: 9511})\n"
     ]
    }
   ],
   "source": [
    "from imblearn.over_sampling import RandomOverSampler\n",
    "from collections import Counter\n",
    "\n",
    "\n",
    "rand=RandomOverSampler(random_state=42)\n",
    "x_ros, y_ros = rand.fit_resample(X, y)\n",
    "print(f\"Imbalanced target class: {Counter(y)} Balanced target class:{Counter(y_ros)}\")"
   ]
  },
  {
   "cell_type": "code",
   "execution_count": 30,
   "metadata": {
    "execution": {
     "iopub.execute_input": "2021-03-29T21:59:14.126809Z",
     "iopub.status.busy": "2021-03-29T21:59:14.125179Z",
     "iopub.status.idle": "2021-03-29T21:59:14.135107Z",
     "shell.execute_reply": "2021-03-29T21:59:14.133778Z"
    },
    "papermill": {
     "duration": 0.064998,
     "end_time": "2021-03-29T21:59:14.135267",
     "exception": false,
     "start_time": "2021-03-29T21:59:14.070269",
     "status": "completed"
    },
    "tags": []
   },
   "outputs": [
    {
     "name": "stdout",
     "output_type": "stream",
     "text": [
      "X_train shape is  (12744, 9)\n",
      "X_test shape is  (6278, 9)\n",
      "y_train shape is  (12744,)\n",
      "y_test shape is  (6278,)\n"
     ]
    }
   ],
   "source": [
    "X_train, X_test, y_train, y_test = train_test_split(x_ros, y_ros, test_size=0.33, random_state=44, shuffle =True)\n",
    "\n",
    "#Splitted Data\n",
    "print('X_train shape is ' , X_train.shape)\n",
    "print('X_test shape is ' , X_test.shape)\n",
    "print('y_train shape is ' , y_train.shape)\n",
    "print('y_test shape is ' , y_test.shape)"
   ]
  },
  {
   "cell_type": "code",
   "execution_count": 31,
   "metadata": {
    "execution": {
     "iopub.execute_input": "2021-03-29T21:59:14.242200Z",
     "iopub.status.busy": "2021-03-29T21:59:14.241544Z",
     "iopub.status.idle": "2021-03-29T22:01:06.659532Z",
     "shell.execute_reply": "2021-03-29T22:01:06.660027Z"
    },
    "papermill": {
     "duration": 112.475328,
     "end_time": "2021-03-29T22:01:06.660235",
     "exception": false,
     "start_time": "2021-03-29T21:59:14.184907",
     "status": "completed"
    },
    "tags": []
   },
   "outputs": [
    {
     "name": "stdout",
     "output_type": "stream",
     "text": [
      "GBCModel Train Score is :  0.9916823603264281\n",
      "GBCModel Test Score is :  0.8482000637145588\n"
     ]
    }
   ],
   "source": [
    "from sklearn.ensemble import GradientBoostingClassifier\n",
    " \n",
    "\n",
    "GBCModel = GradientBoostingClassifier(n_estimators=500,max_depth=50,random_state=33) \n",
    "GBCModel.fit(X_train, y_train)\n",
    "\n",
    "#Calculating Details\n",
    "print('GBCModel Train Score is : ' , GBCModel.score(X_train, y_train))\n",
    "print('GBCModel Test Score is : ' , GBCModel.score(X_test, y_test))\n",
    " \n",
    "#Calculating Prediction\n",
    "y_pred = GBCModel.predict(X_test)\n",
    "y_pred_prob = GBCModel.predict_proba(X_test)"
   ]
  },
  {
   "cell_type": "code",
   "execution_count": 32,
   "metadata": {
    "execution": {
     "iopub.execute_input": "2021-03-29T22:01:06.762736Z",
     "iopub.status.busy": "2021-03-29T22:01:06.761772Z",
     "iopub.status.idle": "2021-03-29T22:01:12.897256Z",
     "shell.execute_reply": "2021-03-29T22:01:12.896564Z"
    },
    "papermill": {
     "duration": 6.187889,
     "end_time": "2021-03-29T22:01:12.897400",
     "exception": false,
     "start_time": "2021-03-29T22:01:06.709511",
     "status": "completed"
    },
    "tags": []
   },
   "outputs": [
    {
     "name": "stdout",
     "output_type": "stream",
     "text": [
      "RandomForestClassifierModel Train Score is :  0.7770715630885122\n",
      "RandomForestClassifierModel Test Score is :  0.7429117553360943\n",
      "RandomForestClassifierModel features importances are :  [0.47280022 0.01949754 0.08427127 0.04291434 0.02312742 0.02983477\n",
      " 0.14096356 0.05056196 0.13602893]\n",
      "----------------------------------------------------\n",
      "Predicted Value for RandomForestClassifierModel is :  [0. 0. 1. 1. 1. 1. 0. 1. 0. 1.]\n",
      "Prediction Probabilities Value for RandomForestClassifierModel is :  [[0.64586852 0.35413148]\n",
      " [0.71732476 0.28267524]\n",
      " [0.29228745 0.70771255]\n",
      " [0.17031261 0.82968739]\n",
      " [0.18671328 0.81328672]\n",
      " [0.33246509 0.66753491]\n",
      " [0.73085822 0.26914178]\n",
      " [0.38471178 0.61528822]\n",
      " [0.6383963  0.3616037 ]\n",
      " [0.35256212 0.64743788]]\n"
     ]
    }
   ],
   "source": [
    "RandomForestClassifierModel = RandomForestClassifier(criterion = 'gini',n_estimators=500,max_depth=10,random_state=33) #criterion can be also : entropy \n",
    "RandomForestClassifierModel.fit(X_train, y_train)\n",
    "\n",
    "#Calculating Details\n",
    "print('RandomForestClassifierModel Train Score is : ' , RandomForestClassifierModel.score(X_train, y_train))\n",
    "print('RandomForestClassifierModel Test Score is : ' , RandomForestClassifierModel.score(X_test, y_test))\n",
    "print('RandomForestClassifierModel features importances are : ' , RandomForestClassifierModel.feature_importances_)\n",
    "print('----------------------------------------------------')\n",
    "\n",
    "#Calculating Prediction\n",
    "y_pred = RandomForestClassifierModel.predict(X_test)\n",
    "y_pred_prob = RandomForestClassifierModel.predict_proba(X_test)\n",
    "print('Predicted Value for RandomForestClassifierModel is : ' , y_pred[:10])\n",
    "print('Prediction Probabilities Value for RandomForestClassifierModel is : ' , y_pred_prob[:10])"
   ]
  },
  {
   "cell_type": "code",
   "execution_count": 33,
   "metadata": {
    "execution": {
     "iopub.execute_input": "2021-03-29T22:01:13.004409Z",
     "iopub.status.busy": "2021-03-29T22:01:13.003727Z",
     "iopub.status.idle": "2021-03-29T22:01:13.011975Z",
     "shell.execute_reply": "2021-03-29T22:01:13.012465Z"
    },
    "papermill": {
     "duration": 0.064113,
     "end_time": "2021-03-29T22:01:13.012636",
     "exception": false,
     "start_time": "2021-03-29T22:01:12.948523",
     "status": "completed"
    },
    "tags": []
   },
   "outputs": [
    {
     "name": "stdout",
     "output_type": "stream",
     "text": [
      "F1 Score is :  0.7429117553360943\n"
     ]
    }
   ],
   "source": [
    "F1Score = f1_score(y_test, y_pred, average='micro') #it can be : binary,macro,weighted,samples\n",
    "print('F1 Score is : ', F1Score)"
   ]
  },
  {
   "cell_type": "code",
   "execution_count": 34,
   "metadata": {
    "execution": {
     "iopub.execute_input": "2021-03-29T22:01:13.120651Z",
     "iopub.status.busy": "2021-03-29T22:01:13.120002Z",
     "iopub.status.idle": "2021-03-29T22:01:13.143743Z",
     "shell.execute_reply": "2021-03-29T22:01:13.143160Z"
    },
    "papermill": {
     "duration": 0.079931,
     "end_time": "2021-03-29T22:01:13.143898",
     "exception": false,
     "start_time": "2021-03-29T22:01:13.063967",
     "status": "completed"
    },
    "tags": []
   },
   "outputs": [
    {
     "name": "stdout",
     "output_type": "stream",
     "text": [
      "Classification Report is :                precision    recall  f1-score   support\n",
      "\n",
      "         0.0       0.70      0.83      0.76      3070\n",
      "         1.0       0.80      0.66      0.72      3208\n",
      "\n",
      "    accuracy                           0.74      6278\n",
      "   macro avg       0.75      0.74      0.74      6278\n",
      "weighted avg       0.75      0.74      0.74      6278\n",
      "\n"
     ]
    }
   ],
   "source": [
    "from sklearn.metrics import classification_report\n",
    "#----------------------------------------------------\n",
    "\n",
    "#----------------------------------------------------\n",
    "#Calculating classification Report :  \n",
    "#classification_report(y_true, y_pred, labels=None, target_names=None,sample_weight=None, digits=2, output_dict=False)\n",
    "\n",
    "ClassificationReport = classification_report(y_test,y_pred)\n",
    "print('Classification Report is : ', ClassificationReport )"
   ]
  },
  {
   "cell_type": "code",
   "execution_count": 35,
   "metadata": {
    "execution": {
     "iopub.execute_input": "2021-03-29T22:01:13.253404Z",
     "iopub.status.busy": "2021-03-29T22:01:13.252614Z",
     "iopub.status.idle": "2021-03-29T22:01:13.470645Z",
     "shell.execute_reply": "2021-03-29T22:01:13.470034Z"
    },
    "papermill": {
     "duration": 0.27539,
     "end_time": "2021-03-29T22:01:13.470811",
     "exception": false,
     "start_time": "2021-03-29T22:01:13.195421",
     "status": "completed"
    },
    "tags": []
   },
   "outputs": [
    {
     "name": "stdout",
     "output_type": "stream",
     "text": [
      "Confusion Matrix is : \n",
      " [[2560  510]\n",
      " [1104 2104]]\n"
     ]
    },
    {
     "data": {
      "image/png": "[encoded data removed]",
      "text/plain": [
       "<Figure size 432x288 with 2 Axes>"
      ]
     },
     "metadata": {},
     "output_type": "display_data"
    }
   ],
   "source": [
    "#Calculating Confusion Matrix\n",
    "CM = confusion_matrix(y_test, y_pred)\n",
    "print('Confusion Matrix is : \\n', CM)\n",
    "\n",
    "# drawing confusion matrix\n",
    "sns.heatmap(CM, center = True,annot=True,fmt='.1f')\n",
    "plt.show()"
   ]
  },
  {
   "cell_type": "code",
   "execution_count": 36,
   "metadata": {
    "execution": {
     "iopub.execute_input": "2021-03-29T22:01:13.587543Z",
     "iopub.status.busy": "2021-03-29T22:01:13.586909Z",
     "iopub.status.idle": "2021-03-29T22:01:14.258205Z",
     "shell.execute_reply": "2021-03-29T22:01:14.257495Z"
    },
    "papermill": {
     "duration": 0.735232,
     "end_time": "2021-03-29T22:01:14.258363",
     "exception": false,
     "start_time": "2021-03-29T22:01:13.523131",
     "status": "completed"
    },
    "tags": []
   },
   "outputs": [],
   "source": [
    "test = pd.read_csv(\"https://raw.githubusercontent.com/benvictoria17/DataVisualization/master/dataset/HR%20Analytics-%20Job%20Change%20of%20Data%20Scientists/aug_test.csv\")"
   ]
  },
  {
   "cell_type": "code",
   "execution_count": 37,
   "metadata": {
    "execution": {
     "iopub.execute_input": "2021-03-29T22:01:14.382893Z",
     "iopub.status.busy": "2021-03-29T22:01:14.382059Z",
     "iopub.status.idle": "2021-03-29T22:01:14.385795Z",
     "shell.execute_reply": "2021-03-29T22:01:14.386243Z"
    },
    "papermill": {
     "duration": 0.074942,
     "end_time": "2021-03-29T22:01:14.386433",
     "exception": false,
     "start_time": "2021-03-29T22:01:14.311491",
     "status": "completed"
    },
    "tags": []
   },
   "outputs": [
    {
     "data": {
      "text/html": [
       "<div>\n",
       "<style scoped>\n",
       "    .dataframe tbody tr th:only-of-type {\n",
       "        vertical-align: middle;\n",
       "    }\n",
       "\n",
       "    .dataframe tbody tr th {\n",
       "        vertical-align: top;\n",
       "    }\n",
       "\n",
       "    .dataframe thead th {\n",
       "        text-align: right;\n",
       "    }\n",
       "</style>\n",
       "<table border=\"1\" class=\"dataframe\">\n",
       "  <thead>\n",
       "    <tr style=\"text-align: right;\">\n",
       "      <th></th>\n",
       "      <th>enrollee_id</th>\n",
       "      <th>city</th>\n",
       "      <th>city_development_index</th>\n",
       "      <th>gender</th>\n",
       "      <th>relevent_experience</th>\n",
       "      <th>enrolled_university</th>\n",
       "      <th>education_level</th>\n",
       "      <th>major_discipline</th>\n",
       "      <th>experience</th>\n",
       "      <th>company_size</th>\n",
       "      <th>company_type</th>\n",
       "      <th>last_new_job</th>\n",
       "      <th>training_hours</th>\n",
       "    </tr>\n",
       "  </thead>\n",
       "  <tbody>\n",
       "    <tr>\n",
       "      <th>0</th>\n",
       "      <td>32403</td>\n",
       "      <td>city_41</td>\n",
       "      <td>0.827</td>\n",
       "      <td>Male</td>\n",
       "      <td>Has relevent experience</td>\n",
       "      <td>Full time course</td>\n",
       "      <td>Graduate</td>\n",
       "      <td>STEM</td>\n",
       "      <td>9</td>\n",
       "      <td>&lt;10</td>\n",
       "      <td>NaN</td>\n",
       "      <td>1</td>\n",
       "      <td>21</td>\n",
       "    </tr>\n",
       "    <tr>\n",
       "      <th>1</th>\n",
       "      <td>9858</td>\n",
       "      <td>city_103</td>\n",
       "      <td>0.920</td>\n",
       "      <td>Female</td>\n",
       "      <td>Has relevent experience</td>\n",
       "      <td>no_enrollment</td>\n",
       "      <td>Graduate</td>\n",
       "      <td>STEM</td>\n",
       "      <td>5</td>\n",
       "      <td>NaN</td>\n",
       "      <td>Pvt Ltd</td>\n",
       "      <td>1</td>\n",
       "      <td>98</td>\n",
       "    </tr>\n",
       "    <tr>\n",
       "      <th>2</th>\n",
       "      <td>31806</td>\n",
       "      <td>city_21</td>\n",
       "      <td>0.624</td>\n",
       "      <td>Male</td>\n",
       "      <td>No relevent experience</td>\n",
       "      <td>no_enrollment</td>\n",
       "      <td>High School</td>\n",
       "      <td>NaN</td>\n",
       "      <td>&lt;1</td>\n",
       "      <td>NaN</td>\n",
       "      <td>Pvt Ltd</td>\n",
       "      <td>never</td>\n",
       "      <td>15</td>\n",
       "    </tr>\n",
       "    <tr>\n",
       "      <th>3</th>\n",
       "      <td>27385</td>\n",
       "      <td>city_13</td>\n",
       "      <td>0.827</td>\n",
       "      <td>Male</td>\n",
       "      <td>Has relevent experience</td>\n",
       "      <td>no_enrollment</td>\n",
       "      <td>Masters</td>\n",
       "      <td>STEM</td>\n",
       "      <td>11</td>\n",
       "      <td>10/49</td>\n",
       "      <td>Pvt Ltd</td>\n",
       "      <td>1</td>\n",
       "      <td>39</td>\n",
       "    </tr>\n",
       "    <tr>\n",
       "      <th>4</th>\n",
       "      <td>27724</td>\n",
       "      <td>city_103</td>\n",
       "      <td>0.920</td>\n",
       "      <td>Male</td>\n",
       "      <td>Has relevent experience</td>\n",
       "      <td>no_enrollment</td>\n",
       "      <td>Graduate</td>\n",
       "      <td>STEM</td>\n",
       "      <td>&gt;20</td>\n",
       "      <td>10000+</td>\n",
       "      <td>Pvt Ltd</td>\n",
       "      <td>&gt;4</td>\n",
       "      <td>72</td>\n",
       "    </tr>\n",
       "  </tbody>\n",
       "</table>\n",
       "</div>"
      ],
      "text/plain": [
       "   enrollee_id      city  city_development_index  gender  \\\n",
       "0        32403   city_41                   0.827    Male   \n",
       "1         9858  city_103                   0.920  Female   \n",
       "2        31806   city_21                   0.624    Male   \n",
       "3        27385   city_13                   0.827    Male   \n",
       "4        27724  city_103                   0.920    Male   \n",
       "\n",
       "       relevent_experience enrolled_university education_level  \\\n",
       "0  Has relevent experience    Full time course        Graduate   \n",
       "1  Has relevent experience       no_enrollment        Graduate   \n",
       "2   No relevent experience       no_enrollment     High School   \n",
       "3  Has relevent experience       no_enrollment         Masters   \n",
       "4  Has relevent experience       no_enrollment        Graduate   \n",
       "\n",
       "  major_discipline experience company_size company_type last_new_job  \\\n",
       "0             STEM          9          <10          NaN            1   \n",
       "1             STEM          5          NaN      Pvt Ltd            1   \n",
       "2              NaN         <1          NaN      Pvt Ltd        never   \n",
       "3             STEM         11        10/49      Pvt Ltd            1   \n",
       "4             STEM        >20       10000+      Pvt Ltd           >4   \n",
       "\n",
       "   training_hours  \n",
       "0              21  \n",
       "1              98  \n",
       "2              15  \n",
       "3              39  \n",
       "4              72  "
      ]
     },
     "execution_count": 37,
     "metadata": {},
     "output_type": "execute_result"
    }
   ],
   "source": [
    "test.head()"
   ]
  },
  {
   "cell_type": "code",
   "execution_count": 38,
   "metadata": {
    "execution": {
     "iopub.execute_input": "2021-03-29T22:01:14.502433Z",
     "iopub.status.busy": "2021-03-29T22:01:14.501425Z",
     "iopub.status.idle": "2021-03-29T22:01:14.515575Z",
     "shell.execute_reply": "2021-03-29T22:01:14.514927Z"
    },
    "papermill": {
     "duration": 0.075768,
     "end_time": "2021-03-29T22:01:14.515736",
     "exception": false,
     "start_time": "2021-03-29T22:01:14.439968",
     "status": "completed"
    },
    "tags": []
   },
   "outputs": [
    {
     "name": "stdout",
     "output_type": "stream",
     "text": [
      "<class 'pandas.core.frame.DataFrame'>\n",
      "RangeIndex: 2129 entries, 0 to 2128\n",
      "Data columns (total 13 columns):\n",
      " #   Column                  Non-Null Count  Dtype  \n",
      "---  ------                  --------------  -----  \n",
      " 0   enrollee_id             2129 non-null   int64  \n",
      " 1   city                    2129 non-null   object \n",
      " 2   city_development_index  2129 non-null   float64\n",
      " 3   gender                  1621 non-null   object \n",
      " 4   relevent_experience     2129 non-null   object \n",
      " 5   enrolled_university     2098 non-null   object \n",
      " 6   education_level         2077 non-null   object \n",
      " 7   major_discipline        1817 non-null   object \n",
      " 8   experience              2124 non-null   object \n",
      " 9   company_size            1507 non-null   object \n",
      " 10  company_type            1495 non-null   object \n",
      " 11  last_new_job            2089 non-null   object \n",
      " 12  training_hours          2129 non-null   int64  \n",
      "dtypes: float64(1), int64(2), object(10)\n",
      "memory usage: 216.4+ KB\n"
     ]
    }
   ],
   "source": [
    "test.info()"
   ]
  },
  {
   "cell_type": "code",
   "execution_count": 39,
   "metadata": {
    "execution": {
     "iopub.execute_input": "2021-03-29T22:01:14.634753Z",
     "iopub.status.busy": "2021-03-29T22:01:14.633942Z",
     "iopub.status.idle": "2021-03-29T22:01:14.637915Z",
     "shell.execute_reply": "2021-03-29T22:01:14.637224Z"
    },
    "papermill": {
     "duration": 0.068296,
     "end_time": "2021-03-29T22:01:14.638062",
     "exception": false,
     "start_time": "2021-03-29T22:01:14.569766",
     "status": "completed"
    },
    "tags": []
   },
   "outputs": [
    {
     "data": {
      "text/plain": [
       "enrollee_id                 0\n",
       "city                        0\n",
       "city_development_index      0\n",
       "gender                    508\n",
       "relevent_experience         0\n",
       "enrolled_university        31\n",
       "education_level            52\n",
       "major_discipline          312\n",
       "experience                  5\n",
       "company_size              622\n",
       "company_type              634\n",
       "last_new_job               40\n",
       "training_hours              0\n",
       "dtype: int64"
      ]
     },
     "execution_count": 39,
     "metadata": {},
     "output_type": "execute_result"
    }
   ],
   "source": [
    "test.isnull().sum()"
   ]
  },
  {
   "cell_type": "code",
   "execution_count": 40,
   "metadata": {
    "execution": {
     "iopub.execute_input": "2021-03-29T22:01:14.765295Z",
     "iopub.status.busy": "2021-03-29T22:01:14.764618Z",
     "iopub.status.idle": "2021-03-29T22:01:14.768894Z",
     "shell.execute_reply": "2021-03-29T22:01:14.768272Z"
    },
    "papermill": {
     "duration": 0.076276,
     "end_time": "2021-03-29T22:01:14.769037",
     "exception": false,
     "start_time": "2021-03-29T22:01:14.692761",
     "status": "completed"
    },
    "tags": []
   },
   "outputs": [
    {
     "data": {
      "text/html": [
       "<div>\n",
       "<style scoped>\n",
       "    .dataframe tbody tr th:only-of-type {\n",
       "        vertical-align: middle;\n",
       "    }\n",
       "\n",
       "    .dataframe tbody tr th {\n",
       "        vertical-align: top;\n",
       "    }\n",
       "\n",
       "    .dataframe thead th {\n",
       "        text-align: right;\n",
       "    }\n",
       "</style>\n",
       "<table border=\"1\" class=\"dataframe\">\n",
       "  <thead>\n",
       "    <tr style=\"text-align: right;\">\n",
       "      <th></th>\n",
       "      <th>city_development_index</th>\n",
       "      <th>gender</th>\n",
       "      <th>relevent_experience</th>\n",
       "      <th>enrolled_university</th>\n",
       "      <th>education_level</th>\n",
       "      <th>major_discipline</th>\n",
       "      <th>experience</th>\n",
       "      <th>last_new_job</th>\n",
       "      <th>training_hours</th>\n",
       "    </tr>\n",
       "  </thead>\n",
       "  <tbody>\n",
       "    <tr>\n",
       "      <th>0</th>\n",
       "      <td>0.827</td>\n",
       "      <td>Male</td>\n",
       "      <td>Has relevent experience</td>\n",
       "      <td>Full time course</td>\n",
       "      <td>Graduate</td>\n",
       "      <td>STEM</td>\n",
       "      <td>9</td>\n",
       "      <td>1</td>\n",
       "      <td>21</td>\n",
       "    </tr>\n",
       "    <tr>\n",
       "      <th>1</th>\n",
       "      <td>0.920</td>\n",
       "      <td>Female</td>\n",
       "      <td>Has relevent experience</td>\n",
       "      <td>no_enrollment</td>\n",
       "      <td>Graduate</td>\n",
       "      <td>STEM</td>\n",
       "      <td>5</td>\n",
       "      <td>1</td>\n",
       "      <td>98</td>\n",
       "    </tr>\n",
       "    <tr>\n",
       "      <th>2</th>\n",
       "      <td>0.624</td>\n",
       "      <td>Male</td>\n",
       "      <td>No relevent experience</td>\n",
       "      <td>no_enrollment</td>\n",
       "      <td>High School</td>\n",
       "      <td>NaN</td>\n",
       "      <td>&lt;1</td>\n",
       "      <td>never</td>\n",
       "      <td>15</td>\n",
       "    </tr>\n",
       "    <tr>\n",
       "      <th>3</th>\n",
       "      <td>0.827</td>\n",
       "      <td>Male</td>\n",
       "      <td>Has relevent experience</td>\n",
       "      <td>no_enrollment</td>\n",
       "      <td>Masters</td>\n",
       "      <td>STEM</td>\n",
       "      <td>11</td>\n",
       "      <td>1</td>\n",
       "      <td>39</td>\n",
       "    </tr>\n",
       "    <tr>\n",
       "      <th>4</th>\n",
       "      <td>0.920</td>\n",
       "      <td>Male</td>\n",
       "      <td>Has relevent experience</td>\n",
       "      <td>no_enrollment</td>\n",
       "      <td>Graduate</td>\n",
       "      <td>STEM</td>\n",
       "      <td>&gt;20</td>\n",
       "      <td>&gt;4</td>\n",
       "      <td>72</td>\n",
       "    </tr>\n",
       "  </tbody>\n",
       "</table>\n",
       "</div>"
      ],
      "text/plain": [
       "   city_development_index  gender      relevent_experience  \\\n",
       "0                   0.827    Male  Has relevent experience   \n",
       "1                   0.920  Female  Has relevent experience   \n",
       "2                   0.624    Male   No relevent experience   \n",
       "3                   0.827    Male  Has relevent experience   \n",
       "4                   0.920    Male  Has relevent experience   \n",
       "\n",
       "  enrolled_university education_level major_discipline experience  \\\n",
       "0    Full time course        Graduate             STEM          9   \n",
       "1       no_enrollment        Graduate             STEM          5   \n",
       "2       no_enrollment     High School              NaN         <1   \n",
       "3       no_enrollment         Masters             STEM         11   \n",
       "4       no_enrollment        Graduate             STEM        >20   \n",
       "\n",
       "  last_new_job  training_hours  \n",
       "0            1              21  \n",
       "1            1              98  \n",
       "2        never              15  \n",
       "3            1              39  \n",
       "4           >4              72  "
      ]
     },
     "execution_count": 40,
     "metadata": {},
     "output_type": "execute_result"
    }
   ],
   "source": [
    "test.drop(['company_size','company_type','enrollee_id','city'],axis=1,inplace=True)\n",
    "test.head()"
   ]
  },
  {
   "cell_type": "code",
   "execution_count": 41,
   "metadata": {
    "execution": {
     "iopub.execute_input": "2021-03-29T22:01:14.890137Z",
     "iopub.status.busy": "2021-03-29T22:01:14.889462Z",
     "iopub.status.idle": "2021-03-29T22:01:14.918064Z",
     "shell.execute_reply": "2021-03-29T22:01:14.917374Z"
    },
    "papermill": {
     "duration": 0.093974,
     "end_time": "2021-03-29T22:01:14.918210",
     "exception": false,
     "start_time": "2021-03-29T22:01:14.824236",
     "status": "completed"
    },
    "tags": []
   },
   "outputs": [],
   "source": [
    "test['gender']=test['gender'].replace({'Male':0,'Female':1,'Other':2})\n",
    "test['enrolled_university']=test['enrolled_university'].replace({'no_enrollment':0,'Full time course':1,'Part time course':2})\n",
    "test['relevent_experience']=test['relevent_experience'].replace({'No relevent experience':0,'Has relevent experience':1})\n",
    "test['education_level']=test['education_level'].replace({'Graduate':1,'High School':4,'Primary School':6,'Masters':2,'Phd':3})\n",
    "\n",
    "test['major_discipline']=test['major_discipline'].replace({'STEM':1, 'Humanities':2, 'Arts':3, 'Business Degree':4,'No Major':5,'Other':6})\n",
    "\n",
    "test['experience']=test['experience'].replace({'>20':30,'<1':0})\n",
    "\n",
    "test['last_new_job']=test['last_new_job'].replace({'>4':5,'1':1,'never':0,'4':4, '3':3, '2':2})\n",
    "test['experience']=test['experience'].replace({'>20':30,'<1':0,'15':15,'13':13,'7':7, '5':5, '16':16, '4':4, '11':11, '18':18, '19':19, '12':12,\n",
    "       '10':10, '9':9, '2':2, '6':6, '14':14, '3':3, '8':8, '20':20, '17':17, '1':1})"
   ]
  },
  {
   "cell_type": "code",
   "execution_count": 42,
   "metadata": {
    "execution": {
     "iopub.execute_input": "2021-03-29T22:01:15.040153Z",
     "iopub.status.busy": "2021-03-29T22:01:15.039291Z",
     "iopub.status.idle": "2021-03-29T22:01:15.056183Z",
     "shell.execute_reply": "2021-03-29T22:01:15.057150Z"
    },
    "papermill": {
     "duration": 0.083253,
     "end_time": "2021-03-29T22:01:15.057597",
     "exception": false,
     "start_time": "2021-03-29T22:01:14.974344",
     "status": "completed"
    },
    "tags": []
   },
   "outputs": [
    {
     "name": "stdout",
     "output_type": "stream",
     "text": [
      "<class 'pandas.core.frame.DataFrame'>\n",
      "RangeIndex: 2129 entries, 0 to 2128\n",
      "Data columns (total 9 columns):\n",
      " #   Column                  Non-Null Count  Dtype  \n",
      "---  ------                  --------------  -----  \n",
      " 0   city_development_index  2129 non-null   float64\n",
      " 1   gender                  2129 non-null   float64\n",
      " 2   relevent_experience     2129 non-null   int64  \n",
      " 3   enrolled_university     2129 non-null   float64\n",
      " 4   education_level         2129 non-null   float64\n",
      " 5   major_discipline        2129 non-null   float64\n",
      " 6   experience              2129 non-null   float64\n",
      " 7   last_new_job            2129 non-null   float64\n",
      " 8   training_hours          2129 non-null   int64  \n",
      "dtypes: float64(7), int64(2)\n",
      "memory usage: 149.8 KB\n"
     ]
    }
   ],
   "source": [
    "test['gender'].fillna(test['gender'].mode()[0],inplace=True)\n",
    "test['enrolled_university'].fillna(test['enrolled_university'].mode()[0],inplace=True)\n",
    "test['education_level'].fillna(test['education_level'].mode()[0],inplace=True)\n",
    "test['major_discipline'].fillna(test['major_discipline'].mode()[0],inplace=True)\n",
    "test['last_new_job'].fillna(test['last_new_job'].mode()[0],inplace=True)\n",
    "test['experience'].fillna(test['experience'].mean(),inplace=True)\n",
    "test.info()"
   ]
  },
  {
   "cell_type": "code",
   "execution_count": 43,
   "metadata": {
    "execution": {
     "iopub.execute_input": "2021-03-29T22:01:15.186611Z",
     "iopub.status.busy": "2021-03-29T22:01:15.185967Z",
     "iopub.status.idle": "2021-03-29T22:01:15.189748Z",
     "shell.execute_reply": "2021-03-29T22:01:15.190257Z"
    },
    "papermill": {
     "duration": 0.075497,
     "end_time": "2021-03-29T22:01:15.190432",
     "exception": false,
     "start_time": "2021-03-29T22:01:15.114935",
     "status": "completed"
    },
    "tags": []
   },
   "outputs": [
    {
     "data": {
      "text/html": [
       "<div>\n",
       "<style scoped>\n",
       "    .dataframe tbody tr th:only-of-type {\n",
       "        vertical-align: middle;\n",
       "    }\n",
       "\n",
       "    .dataframe tbody tr th {\n",
       "        vertical-align: top;\n",
       "    }\n",
       "\n",
       "    .dataframe thead th {\n",
       "        text-align: right;\n",
       "    }\n",
       "</style>\n",
       "<table border=\"1\" class=\"dataframe\">\n",
       "  <thead>\n",
       "    <tr style=\"text-align: right;\">\n",
       "      <th></th>\n",
       "      <th>city_development_index</th>\n",
       "      <th>gender</th>\n",
       "      <th>relevent_experience</th>\n",
       "      <th>enrolled_university</th>\n",
       "      <th>education_level</th>\n",
       "      <th>major_discipline</th>\n",
       "      <th>experience</th>\n",
       "      <th>last_new_job</th>\n",
       "      <th>training_hours</th>\n",
       "    </tr>\n",
       "  </thead>\n",
       "  <tbody>\n",
       "    <tr>\n",
       "      <th>0</th>\n",
       "      <td>0.827</td>\n",
       "      <td>0.0</td>\n",
       "      <td>1</td>\n",
       "      <td>1.0</td>\n",
       "      <td>1.0</td>\n",
       "      <td>1.0</td>\n",
       "      <td>9.0</td>\n",
       "      <td>1.0</td>\n",
       "      <td>21</td>\n",
       "    </tr>\n",
       "    <tr>\n",
       "      <th>1</th>\n",
       "      <td>0.920</td>\n",
       "      <td>1.0</td>\n",
       "      <td>1</td>\n",
       "      <td>0.0</td>\n",
       "      <td>1.0</td>\n",
       "      <td>1.0</td>\n",
       "      <td>5.0</td>\n",
       "      <td>1.0</td>\n",
       "      <td>98</td>\n",
       "    </tr>\n",
       "    <tr>\n",
       "      <th>2</th>\n",
       "      <td>0.624</td>\n",
       "      <td>0.0</td>\n",
       "      <td>0</td>\n",
       "      <td>0.0</td>\n",
       "      <td>4.0</td>\n",
       "      <td>1.0</td>\n",
       "      <td>0.0</td>\n",
       "      <td>0.0</td>\n",
       "      <td>15</td>\n",
       "    </tr>\n",
       "    <tr>\n",
       "      <th>3</th>\n",
       "      <td>0.827</td>\n",
       "      <td>0.0</td>\n",
       "      <td>1</td>\n",
       "      <td>0.0</td>\n",
       "      <td>2.0</td>\n",
       "      <td>1.0</td>\n",
       "      <td>11.0</td>\n",
       "      <td>1.0</td>\n",
       "      <td>39</td>\n",
       "    </tr>\n",
       "    <tr>\n",
       "      <th>4</th>\n",
       "      <td>0.920</td>\n",
       "      <td>0.0</td>\n",
       "      <td>1</td>\n",
       "      <td>0.0</td>\n",
       "      <td>1.0</td>\n",
       "      <td>1.0</td>\n",
       "      <td>30.0</td>\n",
       "      <td>5.0</td>\n",
       "      <td>72</td>\n",
       "    </tr>\n",
       "  </tbody>\n",
       "</table>\n",
       "</div>"
      ],
      "text/plain": [
       "   city_development_index  gender  relevent_experience  enrolled_university  \\\n",
       "0                   0.827     0.0                    1                  1.0   \n",
       "1                   0.920     1.0                    1                  0.0   \n",
       "2                   0.624     0.0                    0                  0.0   \n",
       "3                   0.827     0.0                    1                  0.0   \n",
       "4                   0.920     0.0                    1                  0.0   \n",
       "\n",
       "   education_level  major_discipline  experience  last_new_job  training_hours  \n",
       "0              1.0               1.0         9.0           1.0              21  \n",
       "1              1.0               1.0         5.0           1.0              98  \n",
       "2              4.0               1.0         0.0           0.0              15  \n",
       "3              2.0               1.0        11.0           1.0              39  \n",
       "4              1.0               1.0        30.0           5.0              72  "
      ]
     },
     "execution_count": 43,
     "metadata": {},
     "output_type": "execute_result"
    }
   ],
   "source": [
    "test.head()"
   ]
  },
  {
   "cell_type": "code",
   "execution_count": 44,
   "metadata": {
    "execution": {
     "iopub.execute_input": "2021-03-29T22:01:15.310387Z",
     "iopub.status.busy": "2021-03-29T22:01:15.309680Z",
     "iopub.status.idle": "2021-03-29T22:01:15.464279Z",
     "shell.execute_reply": "2021-03-29T22:01:15.463746Z"
    },
    "papermill": {
     "duration": 0.217419,
     "end_time": "2021-03-29T22:01:15.464416",
     "exception": false,
     "start_time": "2021-03-29T22:01:15.246997",
     "status": "completed"
    },
    "tags": []
   },
   "outputs": [
    {
     "data": {
      "text/plain": [
       "array([0., 0., 1., ..., 0., 0., 0.])"
      ]
     },
     "execution_count": 44,
     "metadata": {},
     "output_type": "execute_result"
    }
   ],
   "source": [
    "test_pred= RandomForestClassifierModel.predict(test)\n",
    "test_pred"
   ]
  }
 ],
 "metadata": {
  "kernelspec": {
   "display_name": "Python 3",
   "language": "python",
   "name": "python3"
  },
  "language_info": {
   "codemirror_mode": {
    "name": "ipython",
    "version": 3
   },
   "file_extension": ".py",
   "mimetype": "text/x-python",
   "name": "python",
   "nbconvert_exporter": "python",
   "pygments_lexer": "ipython3",
   "version": "3.7.9"
  },
  "papermill": {
   "default_parameters": {},
   "duration": 137.92544,
   "end_time": "2021-03-29T22:01:16.232514",
   "environment_variables": {},
   "exception": null,
   "input_path": "__notebook__.ipynb",
   "output_path": "__notebook__.ipynb",
   "parameters": {},
   "start_time": "2021-03-29T21:58:58.307074",
   "version": "2.2.2"
  }
 },
 "nbformat": 4,
 "nbformat_minor": 4
}
