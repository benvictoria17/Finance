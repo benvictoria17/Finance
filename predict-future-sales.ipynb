{
 "cells": [
  {
   "cell_type": "code",
   "execution_count": 1,
   "metadata": {
    "_cell_guid": "b1076dfc-b9ad-4769-8c92-a6c4dae69d19",
    "_uuid": "8f2839f25d086af736a60e9eeb907d3b93b6e0e5",
    "execution": {
     "iopub.execute_input": "2020-12-07T00:09:16.397362Z",
     "iopub.status.busy": "2020-12-07T00:09:16.396473Z",
     "iopub.status.idle": "2020-12-07T00:09:16.402548Z",
     "shell.execute_reply": "2020-12-07T00:09:16.401738Z"
    },
    "papermill": {
     "duration": 0.038977,
     "end_time": "2020-12-07T00:09:16.402686",
     "exception": false,
     "start_time": "2020-12-07T00:09:16.363709",
     "status": "completed"
    },
    "tags": []
   },
   "outputs": [
    {
     "name": "stdout",
     "output_type": "stream",
     "text": [
      "/kaggle/input/house-prices-advanced-regression-techniques/sample_submission.csv\n",
      "/kaggle/input/house-prices-advanced-regression-techniques/data_description.txt\n",
      "/kaggle/input/house-prices-advanced-regression-techniques/train.csv\n",
      "/kaggle/input/house-prices-advanced-regression-techniques/test.csv\n"
     ]
    }
   ],
   "source": [
    "# This Python 3 environment comes with many helpful analytics libraries installed\n",
    "# It is defined by the kaggle/python Docker image: https://github.com/kaggle/docker-python\n",
    "# For example, here's several helpful packages to load\n",
    "\n",
    "import numpy as np # linear algebra\n",
    "import pandas as pd # data processing, CSV file I/O (e.g. pd.read_csv)\n",
    "\n",
    "# Input data files are available in the read-only \"../input/\" directory\n",
    "# For example, running this (by clicking run or pressing Shift+Enter) will list all files under the input directory\n",
    "\n",
    "import os\n",
    "for dirname, _, filenames in os.walk('/kaggle/input'):\n",
    "    for filename in filenames:\n",
    "        print(os.path.join(dirname, filename))\n",
    "\n",
    "# You can write up to 20GB to the current directory (/kaggle/working/) that gets preserved as output when you create a version using \"Save & Run All\" \n",
    "# You can also write temporary files to /kaggle/temp/, but they won't be saved outside of the current session"
   ]
  },
  {
   "cell_type": "code",
   "execution_count": 2,
   "metadata": {
    "_cell_guid": "79c7e3d0-c299-4dcb-8224-4455121ee9b0",
    "_uuid": "d629ff2d2480ee46fbb7e2d37f6b5fab8052498a",
    "execution": {
     "iopub.execute_input": "2020-12-07T00:09:16.457665Z",
     "iopub.status.busy": "2020-12-07T00:09:16.456876Z",
     "iopub.status.idle": "2020-12-07T00:09:16.548917Z",
     "shell.execute_reply": "2020-12-07T00:09:16.548242Z"
    },
    "papermill": {
     "duration": 0.122418,
     "end_time": "2020-12-07T00:09:16.549046",
     "exception": false,
     "start_time": "2020-12-07T00:09:16.426628",
     "status": "completed"
    },
    "tags": []
   },
   "outputs": [
    {
     "name": "stdout",
     "output_type": "stream",
     "text": [
      "Number of Training Samples = 1460\n",
      "Number of Training Samples = 1459\n"
     ]
    }
   ],
   "source": [
    "train_data = pd.read_csv('/kaggle/input/house-prices-advanced-regression-techniques/train.csv')\n",
    "print('Number of Training Samples = {}'.format(train_data.shape[0]))\n",
    "test_data = pd.read_csv('/kaggle/input/house-prices-advanced-regression-techniques/test.csv')\n",
    "print('Number of Training Samples = {}'.format(test_data.shape[0]))"
   ]
  },
  {
   "cell_type": "code",
   "execution_count": 3,
   "metadata": {
    "execution": {
     "iopub.execute_input": "2020-12-07T00:09:16.628291Z",
     "iopub.status.busy": "2020-12-07T00:09:16.617193Z",
     "iopub.status.idle": "2020-12-07T00:09:16.645264Z",
     "shell.execute_reply": "2020-12-07T00:09:16.644391Z"
    },
    "papermill": {
     "duration": 0.072425,
     "end_time": "2020-12-07T00:09:16.645408",
     "exception": false,
     "start_time": "2020-12-07T00:09:16.572983",
     "status": "completed"
    },
    "tags": []
   },
   "outputs": [
    {
     "data": {
      "text/html": [
       "<div>\n",
       "<style scoped>\n",
       "    .dataframe tbody tr th:only-of-type {\n",
       "        vertical-align: middle;\n",
       "    }\n",
       "\n",
       "    .dataframe tbody tr th {\n",
       "        vertical-align: top;\n",
       "    }\n",
       "\n",
       "    .dataframe thead th {\n",
       "        text-align: right;\n",
       "    }\n",
       "</style>\n",
       "<table border=\"1\" class=\"dataframe\">\n",
       "  <thead>\n",
       "    <tr style=\"text-align: right;\">\n",
       "      <th></th>\n",
       "      <th>Id</th>\n",
       "      <th>MSSubClass</th>\n",
       "      <th>MSZoning</th>\n",
       "      <th>LotFrontage</th>\n",
       "      <th>LotArea</th>\n",
       "      <th>Street</th>\n",
       "      <th>Alley</th>\n",
       "      <th>LotShape</th>\n",
       "      <th>LandContour</th>\n",
       "      <th>Utilities</th>\n",
       "      <th>...</th>\n",
       "      <th>PoolArea</th>\n",
       "      <th>PoolQC</th>\n",
       "      <th>Fence</th>\n",
       "      <th>MiscFeature</th>\n",
       "      <th>MiscVal</th>\n",
       "      <th>MoSold</th>\n",
       "      <th>YrSold</th>\n",
       "      <th>SaleType</th>\n",
       "      <th>SaleCondition</th>\n",
       "      <th>SalePrice</th>\n",
       "    </tr>\n",
       "  </thead>\n",
       "  <tbody>\n",
       "    <tr>\n",
       "      <th>0</th>\n",
       "      <td>1</td>\n",
       "      <td>60</td>\n",
       "      <td>RL</td>\n",
       "      <td>65.0</td>\n",
       "      <td>8450</td>\n",
       "      <td>Pave</td>\n",
       "      <td>NaN</td>\n",
       "      <td>Reg</td>\n",
       "      <td>Lvl</td>\n",
       "      <td>AllPub</td>\n",
       "      <td>...</td>\n",
       "      <td>0</td>\n",
       "      <td>NaN</td>\n",
       "      <td>NaN</td>\n",
       "      <td>NaN</td>\n",
       "      <td>0</td>\n",
       "      <td>2</td>\n",
       "      <td>2008</td>\n",
       "      <td>WD</td>\n",
       "      <td>Normal</td>\n",
       "      <td>208500</td>\n",
       "    </tr>\n",
       "    <tr>\n",
       "      <th>1</th>\n",
       "      <td>2</td>\n",
       "      <td>20</td>\n",
       "      <td>RL</td>\n",
       "      <td>80.0</td>\n",
       "      <td>9600</td>\n",
       "      <td>Pave</td>\n",
       "      <td>NaN</td>\n",
       "      <td>Reg</td>\n",
       "      <td>Lvl</td>\n",
       "      <td>AllPub</td>\n",
       "      <td>...</td>\n",
       "      <td>0</td>\n",
       "      <td>NaN</td>\n",
       "      <td>NaN</td>\n",
       "      <td>NaN</td>\n",
       "      <td>0</td>\n",
       "      <td>5</td>\n",
       "      <td>2007</td>\n",
       "      <td>WD</td>\n",
       "      <td>Normal</td>\n",
       "      <td>181500</td>\n",
       "    </tr>\n",
       "    <tr>\n",
       "      <th>2</th>\n",
       "      <td>3</td>\n",
       "      <td>60</td>\n",
       "      <td>RL</td>\n",
       "      <td>68.0</td>\n",
       "      <td>11250</td>\n",
       "      <td>Pave</td>\n",
       "      <td>NaN</td>\n",
       "      <td>IR1</td>\n",
       "      <td>Lvl</td>\n",
       "      <td>AllPub</td>\n",
       "      <td>...</td>\n",
       "      <td>0</td>\n",
       "      <td>NaN</td>\n",
       "      <td>NaN</td>\n",
       "      <td>NaN</td>\n",
       "      <td>0</td>\n",
       "      <td>9</td>\n",
       "      <td>2008</td>\n",
       "      <td>WD</td>\n",
       "      <td>Normal</td>\n",
       "      <td>223500</td>\n",
       "    </tr>\n",
       "    <tr>\n",
       "      <th>3</th>\n",
       "      <td>4</td>\n",
       "      <td>70</td>\n",
       "      <td>RL</td>\n",
       "      <td>60.0</td>\n",
       "      <td>9550</td>\n",
       "      <td>Pave</td>\n",
       "      <td>NaN</td>\n",
       "      <td>IR1</td>\n",
       "      <td>Lvl</td>\n",
       "      <td>AllPub</td>\n",
       "      <td>...</td>\n",
       "      <td>0</td>\n",
       "      <td>NaN</td>\n",
       "      <td>NaN</td>\n",
       "      <td>NaN</td>\n",
       "      <td>0</td>\n",
       "      <td>2</td>\n",
       "      <td>2006</td>\n",
       "      <td>WD</td>\n",
       "      <td>Abnorml</td>\n",
       "      <td>140000</td>\n",
       "    </tr>\n",
       "    <tr>\n",
       "      <th>4</th>\n",
       "      <td>5</td>\n",
       "      <td>60</td>\n",
       "      <td>RL</td>\n",
       "      <td>84.0</td>\n",
       "      <td>14260</td>\n",
       "      <td>Pave</td>\n",
       "      <td>NaN</td>\n",
       "      <td>IR1</td>\n",
       "      <td>Lvl</td>\n",
       "      <td>AllPub</td>\n",
       "      <td>...</td>\n",
       "      <td>0</td>\n",
       "      <td>NaN</td>\n",
       "      <td>NaN</td>\n",
       "      <td>NaN</td>\n",
       "      <td>0</td>\n",
       "      <td>12</td>\n",
       "      <td>2008</td>\n",
       "      <td>WD</td>\n",
       "      <td>Normal</td>\n",
       "      <td>250000</td>\n",
       "    </tr>\n",
       "  </tbody>\n",
       "</table>\n",
       "<p>5 rows × 81 columns</p>\n",
       "</div>"
      ],
      "text/plain": [
       "   Id  MSSubClass MSZoning  LotFrontage  LotArea Street Alley LotShape  \\\n",
       "0   1          60       RL         65.0     8450   Pave   NaN      Reg   \n",
       "1   2          20       RL         80.0     9600   Pave   NaN      Reg   \n",
       "2   3          60       RL         68.0    11250   Pave   NaN      IR1   \n",
       "3   4          70       RL         60.0     9550   Pave   NaN      IR1   \n",
       "4   5          60       RL         84.0    14260   Pave   NaN      IR1   \n",
       "\n",
       "  LandContour Utilities  ... PoolArea PoolQC Fence MiscFeature MiscVal MoSold  \\\n",
       "0         Lvl    AllPub  ...        0    NaN   NaN         NaN       0      2   \n",
       "1         Lvl    AllPub  ...        0    NaN   NaN         NaN       0      5   \n",
       "2         Lvl    AllPub  ...        0    NaN   NaN         NaN       0      9   \n",
       "3         Lvl    AllPub  ...        0    NaN   NaN         NaN       0      2   \n",
       "4         Lvl    AllPub  ...        0    NaN   NaN         NaN       0     12   \n",
       "\n",
       "  YrSold  SaleType  SaleCondition  SalePrice  \n",
       "0   2008        WD         Normal     208500  \n",
       "1   2007        WD         Normal     181500  \n",
       "2   2008        WD         Normal     223500  \n",
       "3   2006        WD        Abnorml     140000  \n",
       "4   2008        WD         Normal     250000  \n",
       "\n",
       "[5 rows x 81 columns]"
      ]
     },
     "execution_count": 3,
     "metadata": {},
     "output_type": "execute_result"
    }
   ],
   "source": [
    "train_data.head()"
   ]
  },
  {
   "cell_type": "code",
   "execution_count": 4,
   "metadata": {
    "execution": {
     "iopub.execute_input": "2020-12-07T00:09:16.725440Z",
     "iopub.status.busy": "2020-12-07T00:09:16.724456Z",
     "iopub.status.idle": "2020-12-07T00:09:16.729676Z",
     "shell.execute_reply": "2020-12-07T00:09:16.729065Z"
    },
    "papermill": {
     "duration": 0.059844,
     "end_time": "2020-12-07T00:09:16.729805",
     "exception": false,
     "start_time": "2020-12-07T00:09:16.669961",
     "status": "completed"
    },
    "tags": []
   },
   "outputs": [
    {
     "data": {
      "text/html": [
       "<div>\n",
       "<style scoped>\n",
       "    .dataframe tbody tr th:only-of-type {\n",
       "        vertical-align: middle;\n",
       "    }\n",
       "\n",
       "    .dataframe tbody tr th {\n",
       "        vertical-align: top;\n",
       "    }\n",
       "\n",
       "    .dataframe thead th {\n",
       "        text-align: right;\n",
       "    }\n",
       "</style>\n",
       "<table border=\"1\" class=\"dataframe\">\n",
       "  <thead>\n",
       "    <tr style=\"text-align: right;\">\n",
       "      <th></th>\n",
       "      <th>Id</th>\n",
       "      <th>MSSubClass</th>\n",
       "      <th>MSZoning</th>\n",
       "      <th>LotFrontage</th>\n",
       "      <th>LotArea</th>\n",
       "      <th>Street</th>\n",
       "      <th>Alley</th>\n",
       "      <th>LotShape</th>\n",
       "      <th>LandContour</th>\n",
       "      <th>Utilities</th>\n",
       "      <th>...</th>\n",
       "      <th>ScreenPorch</th>\n",
       "      <th>PoolArea</th>\n",
       "      <th>PoolQC</th>\n",
       "      <th>Fence</th>\n",
       "      <th>MiscFeature</th>\n",
       "      <th>MiscVal</th>\n",
       "      <th>MoSold</th>\n",
       "      <th>YrSold</th>\n",
       "      <th>SaleType</th>\n",
       "      <th>SaleCondition</th>\n",
       "    </tr>\n",
       "  </thead>\n",
       "  <tbody>\n",
       "    <tr>\n",
       "      <th>0</th>\n",
       "      <td>1461</td>\n",
       "      <td>20</td>\n",
       "      <td>RH</td>\n",
       "      <td>80.0</td>\n",
       "      <td>11622</td>\n",
       "      <td>Pave</td>\n",
       "      <td>NaN</td>\n",
       "      <td>Reg</td>\n",
       "      <td>Lvl</td>\n",
       "      <td>AllPub</td>\n",
       "      <td>...</td>\n",
       "      <td>120</td>\n",
       "      <td>0</td>\n",
       "      <td>NaN</td>\n",
       "      <td>MnPrv</td>\n",
       "      <td>NaN</td>\n",
       "      <td>0</td>\n",
       "      <td>6</td>\n",
       "      <td>2010</td>\n",
       "      <td>WD</td>\n",
       "      <td>Normal</td>\n",
       "    </tr>\n",
       "    <tr>\n",
       "      <th>1</th>\n",
       "      <td>1462</td>\n",
       "      <td>20</td>\n",
       "      <td>RL</td>\n",
       "      <td>81.0</td>\n",
       "      <td>14267</td>\n",
       "      <td>Pave</td>\n",
       "      <td>NaN</td>\n",
       "      <td>IR1</td>\n",
       "      <td>Lvl</td>\n",
       "      <td>AllPub</td>\n",
       "      <td>...</td>\n",
       "      <td>0</td>\n",
       "      <td>0</td>\n",
       "      <td>NaN</td>\n",
       "      <td>NaN</td>\n",
       "      <td>Gar2</td>\n",
       "      <td>12500</td>\n",
       "      <td>6</td>\n",
       "      <td>2010</td>\n",
       "      <td>WD</td>\n",
       "      <td>Normal</td>\n",
       "    </tr>\n",
       "    <tr>\n",
       "      <th>2</th>\n",
       "      <td>1463</td>\n",
       "      <td>60</td>\n",
       "      <td>RL</td>\n",
       "      <td>74.0</td>\n",
       "      <td>13830</td>\n",
       "      <td>Pave</td>\n",
       "      <td>NaN</td>\n",
       "      <td>IR1</td>\n",
       "      <td>Lvl</td>\n",
       "      <td>AllPub</td>\n",
       "      <td>...</td>\n",
       "      <td>0</td>\n",
       "      <td>0</td>\n",
       "      <td>NaN</td>\n",
       "      <td>MnPrv</td>\n",
       "      <td>NaN</td>\n",
       "      <td>0</td>\n",
       "      <td>3</td>\n",
       "      <td>2010</td>\n",
       "      <td>WD</td>\n",
       "      <td>Normal</td>\n",
       "    </tr>\n",
       "    <tr>\n",
       "      <th>3</th>\n",
       "      <td>1464</td>\n",
       "      <td>60</td>\n",
       "      <td>RL</td>\n",
       "      <td>78.0</td>\n",
       "      <td>9978</td>\n",
       "      <td>Pave</td>\n",
       "      <td>NaN</td>\n",
       "      <td>IR1</td>\n",
       "      <td>Lvl</td>\n",
       "      <td>AllPub</td>\n",
       "      <td>...</td>\n",
       "      <td>0</td>\n",
       "      <td>0</td>\n",
       "      <td>NaN</td>\n",
       "      <td>NaN</td>\n",
       "      <td>NaN</td>\n",
       "      <td>0</td>\n",
       "      <td>6</td>\n",
       "      <td>2010</td>\n",
       "      <td>WD</td>\n",
       "      <td>Normal</td>\n",
       "    </tr>\n",
       "    <tr>\n",
       "      <th>4</th>\n",
       "      <td>1465</td>\n",
       "      <td>120</td>\n",
       "      <td>RL</td>\n",
       "      <td>43.0</td>\n",
       "      <td>5005</td>\n",
       "      <td>Pave</td>\n",
       "      <td>NaN</td>\n",
       "      <td>IR1</td>\n",
       "      <td>HLS</td>\n",
       "      <td>AllPub</td>\n",
       "      <td>...</td>\n",
       "      <td>144</td>\n",
       "      <td>0</td>\n",
       "      <td>NaN</td>\n",
       "      <td>NaN</td>\n",
       "      <td>NaN</td>\n",
       "      <td>0</td>\n",
       "      <td>1</td>\n",
       "      <td>2010</td>\n",
       "      <td>WD</td>\n",
       "      <td>Normal</td>\n",
       "    </tr>\n",
       "  </tbody>\n",
       "</table>\n",
       "<p>5 rows × 80 columns</p>\n",
       "</div>"
      ],
      "text/plain": [
       "     Id  MSSubClass MSZoning  LotFrontage  LotArea Street Alley LotShape  \\\n",
       "0  1461          20       RH         80.0    11622   Pave   NaN      Reg   \n",
       "1  1462          20       RL         81.0    14267   Pave   NaN      IR1   \n",
       "2  1463          60       RL         74.0    13830   Pave   NaN      IR1   \n",
       "3  1464          60       RL         78.0     9978   Pave   NaN      IR1   \n",
       "4  1465         120       RL         43.0     5005   Pave   NaN      IR1   \n",
       "\n",
       "  LandContour Utilities  ... ScreenPorch PoolArea PoolQC  Fence MiscFeature  \\\n",
       "0         Lvl    AllPub  ...         120        0    NaN  MnPrv         NaN   \n",
       "1         Lvl    AllPub  ...           0        0    NaN    NaN        Gar2   \n",
       "2         Lvl    AllPub  ...           0        0    NaN  MnPrv         NaN   \n",
       "3         Lvl    AllPub  ...           0        0    NaN    NaN         NaN   \n",
       "4         HLS    AllPub  ...         144        0    NaN    NaN         NaN   \n",
       "\n",
       "  MiscVal MoSold  YrSold  SaleType  SaleCondition  \n",
       "0       0      6    2010        WD         Normal  \n",
       "1   12500      6    2010        WD         Normal  \n",
       "2       0      3    2010        WD         Normal  \n",
       "3       0      6    2010        WD         Normal  \n",
       "4       0      1    2010        WD         Normal  \n",
       "\n",
       "[5 rows x 80 columns]"
      ]
     },
     "execution_count": 4,
     "metadata": {},
     "output_type": "execute_result"
    }
   ],
   "source": [
    "test_data.head()"
   ]
  },
  {
   "cell_type": "code",
   "execution_count": null,
   "metadata": {
    "papermill": {
     "duration": 0.025004,
     "end_time": "2020-12-07T00:09:16.780276",
     "exception": false,
     "start_time": "2020-12-07T00:09:16.755272",
     "status": "completed"
    },
    "tags": []
   },
   "outputs": [],
   "source": []
  },
  {
   "cell_type": "code",
   "execution_count": 5,
   "metadata": {
    "execution": {
     "iopub.execute_input": "2020-12-07T00:09:16.844570Z",
     "iopub.status.busy": "2020-12-07T00:09:16.843771Z",
     "iopub.status.idle": "2020-12-07T00:09:16.861538Z",
     "shell.execute_reply": "2020-12-07T00:09:16.860723Z"
    },
    "papermill": {
     "duration": 0.056278,
     "end_time": "2020-12-07T00:09:16.861666",
     "exception": false,
     "start_time": "2020-12-07T00:09:16.805388",
     "status": "completed"
    },
    "tags": []
   },
   "outputs": [
    {
     "name": "stdout",
     "output_type": "stream",
     "text": [
      "\n",
      "Missing values of Train set:\n",
      " Id                 0\n",
      "MSSubClass         0\n",
      "MSZoning           0\n",
      "LotFrontage      259\n",
      "LotArea            0\n",
      "                ... \n",
      "MoSold             0\n",
      "YrSold             0\n",
      "SaleType           0\n",
      "SaleCondition      0\n",
      "SalePrice          0\n",
      "Length: 81, dtype: int64\n",
      "\n",
      "Null values of Train set:\n",
      " Id                 0\n",
      "MSSubClass         0\n",
      "MSZoning           0\n",
      "LotFrontage      259\n",
      "LotArea            0\n",
      "                ... \n",
      "MoSold             0\n",
      "YrSold             0\n",
      "SaleType           0\n",
      "SaleCondition      0\n",
      "SalePrice          0\n",
      "Length: 81, dtype: int64\n"
     ]
    }
   ],
   "source": [
    "print('\\nMissing values of Train set:\\n', train_data.isnull().sum())\n",
    "print('\\nNull values of Train set:\\n', train_data.isna().sum())"
   ]
  },
  {
   "cell_type": "code",
   "execution_count": 6,
   "metadata": {
    "execution": {
     "iopub.execute_input": "2020-12-07T00:09:16.920636Z",
     "iopub.status.busy": "2020-12-07T00:09:16.919581Z",
     "iopub.status.idle": "2020-12-07T00:09:16.923214Z",
     "shell.execute_reply": "2020-12-07T00:09:16.923799Z"
    },
    "papermill": {
     "duration": 0.036275,
     "end_time": "2020-12-07T00:09:16.923952",
     "exception": false,
     "start_time": "2020-12-07T00:09:16.887677",
     "status": "completed"
    },
    "tags": []
   },
   "outputs": [
    {
     "name": "stdout",
     "output_type": "stream",
     "text": [
      "Index(['Id', 'MSSubClass', 'MSZoning', 'LotFrontage', 'LotArea', 'Street',\n",
      "       'Alley', 'LotShape', 'LandContour', 'Utilities', 'LotConfig',\n",
      "       'LandSlope', 'Neighborhood', 'Condition1', 'Condition2', 'BldgType',\n",
      "       'HouseStyle', 'OverallQual', 'OverallCond', 'YearBuilt', 'YearRemodAdd',\n",
      "       'RoofStyle', 'RoofMatl', 'Exterior1st', 'Exterior2nd', 'MasVnrType',\n",
      "       'MasVnrArea', 'ExterQual', 'ExterCond', 'Foundation', 'BsmtQual',\n",
      "       'BsmtCond', 'BsmtExposure', 'BsmtFinType1', 'BsmtFinSF1',\n",
      "       'BsmtFinType2', 'BsmtFinSF2', 'BsmtUnfSF', 'TotalBsmtSF', 'Heating',\n",
      "       'HeatingQC', 'CentralAir', 'Electrical', '1stFlrSF', '2ndFlrSF',\n",
      "       'LowQualFinSF', 'GrLivArea', 'BsmtFullBath', 'BsmtHalfBath', 'FullBath',\n",
      "       'HalfBath', 'BedroomAbvGr', 'KitchenAbvGr', 'KitchenQual',\n",
      "       'TotRmsAbvGrd', 'Functional', 'Fireplaces', 'FireplaceQu', 'GarageType',\n",
      "       'GarageYrBlt', 'GarageFinish', 'GarageCars', 'GarageArea', 'GarageQual',\n",
      "       'GarageCond', 'PavedDrive', 'WoodDeckSF', 'OpenPorchSF',\n",
      "       'EnclosedPorch', '3SsnPorch', 'ScreenPorch', 'PoolArea', 'PoolQC',\n",
      "       'Fence', 'MiscFeature', 'MiscVal', 'MoSold', 'YrSold', 'SaleType',\n",
      "       'SaleCondition', 'SalePrice'],\n",
      "      dtype='object')\n"
     ]
    }
   ],
   "source": [
    "columns = train_data.columns\n",
    "print(columns)"
   ]
  },
  {
   "cell_type": "code",
   "execution_count": 7,
   "metadata": {
    "execution": {
     "iopub.execute_input": "2020-12-07T00:09:16.997397Z",
     "iopub.status.busy": "2020-12-07T00:09:16.989932Z",
     "iopub.status.idle": "2020-12-07T00:09:17.015219Z",
     "shell.execute_reply": "2020-12-07T00:09:17.015800Z"
    },
    "papermill": {
     "duration": 0.06559,
     "end_time": "2020-12-07T00:09:17.015979",
     "exception": false,
     "start_time": "2020-12-07T00:09:16.950389",
     "status": "completed"
    },
    "tags": []
   },
   "outputs": [],
   "source": [
    "train_data.fillna(0,inplace = True)\n",
    "test_data.fillna(0,inplace = True)"
   ]
  },
  {
   "cell_type": "code",
   "execution_count": 8,
   "metadata": {
    "execution": {
     "iopub.execute_input": "2020-12-07T00:09:17.078179Z",
     "iopub.status.busy": "2020-12-07T00:09:17.076987Z",
     "iopub.status.idle": "2020-12-07T00:09:17.090918Z",
     "shell.execute_reply": "2020-12-07T00:09:17.089767Z"
    },
    "papermill": {
     "duration": 0.048214,
     "end_time": "2020-12-07T00:09:17.091104",
     "exception": false,
     "start_time": "2020-12-07T00:09:17.042890",
     "status": "completed"
    },
    "tags": []
   },
   "outputs": [
    {
     "name": "stdout",
     "output_type": "stream",
     "text": [
      "   Id  MSSubClass MSZoning  LotFrontage  LotArea Street Alley LotShape  \\\n",
      "0   1          60       RL         65.0     8450   Pave     0      Reg   \n",
      "1   2          20       RL         80.0     9600   Pave     0      Reg   \n",
      "2   3          60       RL         68.0    11250   Pave     0      IR1   \n",
      "3   4          70       RL         60.0     9550   Pave     0      IR1   \n",
      "4   5          60       RL         84.0    14260   Pave     0      IR1   \n",
      "\n",
      "  LandContour Utilities  \n",
      "0         Lvl    AllPub  \n",
      "1         Lvl    AllPub  \n",
      "2         Lvl    AllPub  \n",
      "3         Lvl    AllPub  \n",
      "4         Lvl    AllPub  \n"
     ]
    }
   ],
   "source": [
    "subset_train_1 = train_data[['Id', 'MSSubClass', 'MSZoning', 'LotFrontage', 'LotArea', 'Street',\n",
    "       'Alley', 'LotShape', 'LandContour', 'Utilities']]\n",
    "print(subset_train_1[:5])"
   ]
  },
  {
   "cell_type": "code",
   "execution_count": 9,
   "metadata": {
    "execution": {
     "iopub.execute_input": "2020-12-07T00:09:17.161641Z",
     "iopub.status.busy": "2020-12-07T00:09:17.160861Z",
     "iopub.status.idle": "2020-12-07T00:09:17.164573Z",
     "shell.execute_reply": "2020-12-07T00:09:17.163930Z"
    },
    "papermill": {
     "duration": 0.045616,
     "end_time": "2020-12-07T00:09:17.164726",
     "exception": false,
     "start_time": "2020-12-07T00:09:17.119110",
     "status": "completed"
    },
    "tags": []
   },
   "outputs": [
    {
     "name": "stdout",
     "output_type": "stream",
     "text": [
      "  LotConfig LandSlope Neighborhood Condition1 Condition2 BldgType HouseStyle  \\\n",
      "0    Inside       Gtl      CollgCr       Norm       Norm     1Fam     2Story   \n",
      "1       FR2       Gtl      Veenker      Feedr       Norm     1Fam     1Story   \n",
      "2    Inside       Gtl      CollgCr       Norm       Norm     1Fam     2Story   \n",
      "3    Corner       Gtl      Crawfor       Norm       Norm     1Fam     2Story   \n",
      "4       FR2       Gtl      NoRidge       Norm       Norm     1Fam     2Story   \n",
      "\n",
      "   OverallQual  OverallCond  YearBuilt  \n",
      "0            7            5       2003  \n",
      "1            6            8       1976  \n",
      "2            7            5       2001  \n",
      "3            7            5       1915  \n",
      "4            8            5       2000  \n"
     ]
    }
   ],
   "source": [
    "subset_train_2 = train_data[['LotConfig',\n",
    "       'LandSlope', 'Neighborhood', 'Condition1', 'Condition2', 'BldgType',\n",
    "       'HouseStyle', 'OverallQual', 'OverallCond', 'YearBuilt']]\n",
    "print(subset_train_2[:5])"
   ]
  },
  {
   "cell_type": "code",
   "execution_count": 10,
   "metadata": {
    "execution": {
     "iopub.execute_input": "2020-12-07T00:09:17.236017Z",
     "iopub.status.busy": "2020-12-07T00:09:17.234841Z",
     "iopub.status.idle": "2020-12-07T00:09:17.238788Z",
     "shell.execute_reply": "2020-12-07T00:09:17.239537Z"
    },
    "papermill": {
     "duration": 0.046839,
     "end_time": "2020-12-07T00:09:17.239694",
     "exception": false,
     "start_time": "2020-12-07T00:09:17.192855",
     "status": "completed"
    },
    "tags": []
   },
   "outputs": [
    {
     "name": "stdout",
     "output_type": "stream",
     "text": [
      "   YearRemodAdd RoofStyle RoofMatl Exterior1st Exterior2nd MasVnrType  \\\n",
      "0          2003     Gable  CompShg     VinylSd     VinylSd    BrkFace   \n",
      "1          1976     Gable  CompShg     MetalSd     MetalSd       None   \n",
      "2          2002     Gable  CompShg     VinylSd     VinylSd    BrkFace   \n",
      "3          1970     Gable  CompShg     Wd Sdng     Wd Shng       None   \n",
      "4          2000     Gable  CompShg     VinylSd     VinylSd    BrkFace   \n",
      "\n",
      "   MasVnrArea ExterQual ExterCond Foundation  \n",
      "0       196.0        Gd        TA      PConc  \n",
      "1         0.0        TA        TA     CBlock  \n",
      "2       162.0        Gd        TA      PConc  \n",
      "3         0.0        TA        TA     BrkTil  \n",
      "4       350.0        Gd        TA      PConc  \n"
     ]
    }
   ],
   "source": [
    "subset_train_3 = train_data[['YearRemodAdd',\n",
    "       'RoofStyle', 'RoofMatl', 'Exterior1st', 'Exterior2nd', 'MasVnrType',\n",
    "       'MasVnrArea', 'ExterQual', 'ExterCond', 'Foundation']]\n",
    "print(subset_train_3[:5])"
   ]
  },
  {
   "cell_type": "code",
   "execution_count": 11,
   "metadata": {
    "execution": {
     "iopub.execute_input": "2020-12-07T00:09:17.310489Z",
     "iopub.status.busy": "2020-12-07T00:09:17.309583Z",
     "iopub.status.idle": "2020-12-07T00:09:17.314008Z",
     "shell.execute_reply": "2020-12-07T00:09:17.314789Z"
    },
    "papermill": {
     "duration": 0.046341,
     "end_time": "2020-12-07T00:09:17.314950",
     "exception": false,
     "start_time": "2020-12-07T00:09:17.268609",
     "status": "completed"
    },
    "tags": []
   },
   "outputs": [
    {
     "name": "stdout",
     "output_type": "stream",
     "text": [
      "  BsmtQual BsmtCond BsmtExposure BsmtFinType1  BsmtFinSF1 BsmtFinType2  \\\n",
      "0       Gd       TA           No          GLQ         706          Unf   \n",
      "1       Gd       TA           Gd          ALQ         978          Unf   \n",
      "2       Gd       TA           Mn          GLQ         486          Unf   \n",
      "3       TA       Gd           No          ALQ         216          Unf   \n",
      "4       Gd       TA           Av          GLQ         655          Unf   \n",
      "\n",
      "   BsmtFinSF2  BsmtUnfSF  TotalBsmtSF Heating  \n",
      "0           0        150          856    GasA  \n",
      "1           0        284         1262    GasA  \n",
      "2           0        434          920    GasA  \n",
      "3           0        540          756    GasA  \n",
      "4           0        490         1145    GasA  \n"
     ]
    }
   ],
   "source": [
    "subset_train_4 = train_data[['BsmtQual',\n",
    "       'BsmtCond', 'BsmtExposure', 'BsmtFinType1', 'BsmtFinSF1',\n",
    "       'BsmtFinType2', 'BsmtFinSF2', 'BsmtUnfSF', 'TotalBsmtSF', 'Heating']]\n",
    "print(subset_train_4[:5])"
   ]
  },
  {
   "cell_type": "code",
   "execution_count": 12,
   "metadata": {
    "execution": {
     "iopub.execute_input": "2020-12-07T00:09:17.387163Z",
     "iopub.status.busy": "2020-12-07T00:09:17.386153Z",
     "iopub.status.idle": "2020-12-07T00:09:17.389716Z",
     "shell.execute_reply": "2020-12-07T00:09:17.390315Z"
    },
    "papermill": {
     "duration": 0.046,
     "end_time": "2020-12-07T00:09:17.390496",
     "exception": false,
     "start_time": "2020-12-07T00:09:17.344496",
     "status": "completed"
    },
    "tags": []
   },
   "outputs": [
    {
     "name": "stdout",
     "output_type": "stream",
     "text": [
      "  HeatingQC CentralAir Electrical  1stFlrSF  2ndFlrSF  LowQualFinSF  \\\n",
      "0        Ex          Y      SBrkr       856       854             0   \n",
      "1        Ex          Y      SBrkr      1262         0             0   \n",
      "2        Ex          Y      SBrkr       920       866             0   \n",
      "3        Gd          Y      SBrkr       961       756             0   \n",
      "4        Ex          Y      SBrkr      1145      1053             0   \n",
      "\n",
      "   GrLivArea  BsmtFullBath  BsmtHalfBath  FullBath  \n",
      "0       1710             1             0         2  \n",
      "1       1262             0             1         2  \n",
      "2       1786             1             0         2  \n",
      "3       1717             1             0         1  \n",
      "4       2198             1             0         2  \n"
     ]
    }
   ],
   "source": [
    "subset_train_5 = train_data[['HeatingQC', 'CentralAir', 'Electrical', '1stFlrSF', '2ndFlrSF',\n",
    "       'LowQualFinSF', 'GrLivArea', 'BsmtFullBath', 'BsmtHalfBath', 'FullBath']]\n",
    "print(subset_train_5[:5])"
   ]
  },
  {
   "cell_type": "code",
   "execution_count": 13,
   "metadata": {
    "execution": {
     "iopub.execute_input": "2020-12-07T00:09:17.463793Z",
     "iopub.status.busy": "2020-12-07T00:09:17.462915Z",
     "iopub.status.idle": "2020-12-07T00:09:17.466810Z",
     "shell.execute_reply": "2020-12-07T00:09:17.466173Z"
    },
    "papermill": {
     "duration": 0.046424,
     "end_time": "2020-12-07T00:09:17.466943",
     "exception": false,
     "start_time": "2020-12-07T00:09:17.420519",
     "status": "completed"
    },
    "tags": []
   },
   "outputs": [
    {
     "name": "stdout",
     "output_type": "stream",
     "text": [
      "   HalfBath  BedroomAbvGr  KitchenAbvGr KitchenQual  TotRmsAbvGrd Functional  \\\n",
      "0         1             3             1          Gd             8        Typ   \n",
      "1         0             3             1          TA             6        Typ   \n",
      "2         1             3             1          Gd             6        Typ   \n",
      "3         0             3             1          Gd             7        Typ   \n",
      "4         1             4             1          Gd             9        Typ   \n",
      "\n",
      "   Fireplaces FireplaceQu GarageType  GarageYrBlt  \n",
      "0           0           0     Attchd       2003.0  \n",
      "1           1          TA     Attchd       1976.0  \n",
      "2           1          TA     Attchd       2001.0  \n",
      "3           1          Gd     Detchd       1998.0  \n",
      "4           1          TA     Attchd       2000.0  \n"
     ]
    }
   ],
   "source": [
    "subset_train_6 = train_data[['HalfBath', 'BedroomAbvGr', 'KitchenAbvGr', 'KitchenQual',\n",
    "       'TotRmsAbvGrd', 'Functional', 'Fireplaces', 'FireplaceQu', 'GarageType',\n",
    "       'GarageYrBlt']]\n",
    "print(subset_train_6[:5])"
   ]
  },
  {
   "cell_type": "code",
   "execution_count": 14,
   "metadata": {
    "execution": {
     "iopub.execute_input": "2020-12-07T00:09:17.541868Z",
     "iopub.status.busy": "2020-12-07T00:09:17.537498Z",
     "iopub.status.idle": "2020-12-07T00:09:17.546099Z",
     "shell.execute_reply": "2020-12-07T00:09:17.545469Z"
    },
    "papermill": {
     "duration": 0.048033,
     "end_time": "2020-12-07T00:09:17.546240",
     "exception": false,
     "start_time": "2020-12-07T00:09:17.498207",
     "status": "completed"
    },
    "tags": []
   },
   "outputs": [
    {
     "name": "stdout",
     "output_type": "stream",
     "text": [
      "  GarageFinish  GarageCars  GarageArea GarageQual GarageCond PavedDrive  \\\n",
      "0          RFn           2         548         TA         TA          Y   \n",
      "1          RFn           2         460         TA         TA          Y   \n",
      "2          RFn           2         608         TA         TA          Y   \n",
      "3          Unf           3         642         TA         TA          Y   \n",
      "4          RFn           3         836         TA         TA          Y   \n",
      "\n",
      "   WoodDeckSF  OpenPorchSF  EnclosedPorch  3SsnPorch  \n",
      "0           0           61              0          0  \n",
      "1         298            0              0          0  \n",
      "2           0           42              0          0  \n",
      "3           0           35            272          0  \n",
      "4         192           84              0          0  \n"
     ]
    }
   ],
   "source": [
    "subset_train_7 = train_data[['GarageFinish', 'GarageCars', 'GarageArea', 'GarageQual',\n",
    "       'GarageCond', 'PavedDrive', 'WoodDeckSF', 'OpenPorchSF',\n",
    "       'EnclosedPorch', '3SsnPorch']]\n",
    "print(subset_train_7[:5])"
   ]
  },
  {
   "cell_type": "code",
   "execution_count": 15,
   "metadata": {
    "execution": {
     "iopub.execute_input": "2020-12-07T00:09:17.622087Z",
     "iopub.status.busy": "2020-12-07T00:09:17.621322Z",
     "iopub.status.idle": "2020-12-07T00:09:17.625621Z",
     "shell.execute_reply": "2020-12-07T00:09:17.624844Z"
    },
    "papermill": {
     "duration": 0.048333,
     "end_time": "2020-12-07T00:09:17.625788",
     "exception": false,
     "start_time": "2020-12-07T00:09:17.577455",
     "status": "completed"
    },
    "tags": []
   },
   "outputs": [
    {
     "name": "stdout",
     "output_type": "stream",
     "text": [
      "   ScreenPorch  PoolArea PoolQC Fence MiscFeature  MiscVal  MoSold  YrSold  \\\n",
      "0            0         0      0     0           0        0       2    2008   \n",
      "1            0         0      0     0           0        0       5    2007   \n",
      "2            0         0      0     0           0        0       9    2008   \n",
      "3            0         0      0     0           0        0       2    2006   \n",
      "4            0         0      0     0           0        0      12    2008   \n",
      "\n",
      "  SaleType SaleCondition  SalePrice  \n",
      "0       WD        Normal     208500  \n",
      "1       WD        Normal     181500  \n",
      "2       WD        Normal     223500  \n",
      "3       WD       Abnorml     140000  \n",
      "4       WD        Normal     250000  \n"
     ]
    }
   ],
   "source": [
    "subset_train_8 = train_data[['ScreenPorch', 'PoolArea', 'PoolQC',\n",
    "       'Fence', 'MiscFeature', 'MiscVal', 'MoSold', 'YrSold', 'SaleType',\n",
    "       'SaleCondition', 'SalePrice']]\n",
    "print(subset_train_8[:5])"
   ]
  },
  {
   "cell_type": "code",
   "execution_count": 16,
   "metadata": {
    "execution": {
     "iopub.execute_input": "2020-12-07T00:09:17.698221Z",
     "iopub.status.busy": "2020-12-07T00:09:17.697290Z",
     "iopub.status.idle": "2020-12-07T00:09:17.701717Z",
     "shell.execute_reply": "2020-12-07T00:09:17.702262Z"
    },
    "papermill": {
     "duration": 0.043966,
     "end_time": "2020-12-07T00:09:17.702423",
     "exception": false,
     "start_time": "2020-12-07T00:09:17.658457",
     "status": "completed"
    },
    "tags": []
   },
   "outputs": [
    {
     "data": {
      "text/plain": [
       "Id               int64\n",
       "MSSubClass       int64\n",
       "MSZoning        object\n",
       "LotFrontage    float64\n",
       "LotArea          int64\n",
       "Street          object\n",
       "Alley           object\n",
       "LotShape        object\n",
       "LandContour     object\n",
       "Utilities       object\n",
       "dtype: object"
      ]
     },
     "execution_count": 16,
     "metadata": {},
     "output_type": "execute_result"
    }
   ],
   "source": [
    "train_data.dtypes[0:10]"
   ]
  },
  {
   "cell_type": "code",
   "execution_count": 17,
   "metadata": {
    "execution": {
     "iopub.execute_input": "2020-12-07T00:09:17.775408Z",
     "iopub.status.busy": "2020-12-07T00:09:17.774416Z",
     "iopub.status.idle": "2020-12-07T00:09:17.779336Z",
     "shell.execute_reply": "2020-12-07T00:09:17.778429Z"
    },
    "papermill": {
     "duration": 0.045008,
     "end_time": "2020-12-07T00:09:17.779586",
     "exception": false,
     "start_time": "2020-12-07T00:09:17.734578",
     "status": "completed"
    },
    "tags": []
   },
   "outputs": [
    {
     "data": {
      "text/plain": [
       "LandSlope       object\n",
       "Neighborhood    object\n",
       "Condition1      object\n",
       "Condition2      object\n",
       "BldgType        object\n",
       "HouseStyle      object\n",
       "OverallQual      int64\n",
       "OverallCond      int64\n",
       "YearBuilt        int64\n",
       "dtype: object"
      ]
     },
     "execution_count": 17,
     "metadata": {},
     "output_type": "execute_result"
    }
   ],
   "source": [
    "train_data.dtypes[11:20]"
   ]
  },
  {
   "cell_type": "code",
   "execution_count": 18,
   "metadata": {
    "execution": {
     "iopub.execute_input": "2020-12-07T00:09:17.854770Z",
     "iopub.status.busy": "2020-12-07T00:09:17.853723Z",
     "iopub.status.idle": "2020-12-07T00:09:17.857810Z",
     "shell.execute_reply": "2020-12-07T00:09:17.858379Z"
    },
    "papermill": {
     "duration": 0.045334,
     "end_time": "2020-12-07T00:09:17.858551",
     "exception": false,
     "start_time": "2020-12-07T00:09:17.813217",
     "status": "completed"
    },
    "tags": []
   },
   "outputs": [
    {
     "data": {
      "text/plain": [
       "RoofStyle       object\n",
       "RoofMatl        object\n",
       "Exterior1st     object\n",
       "Exterior2nd     object\n",
       "MasVnrType      object\n",
       "MasVnrArea     float64\n",
       "ExterQual       object\n",
       "ExterCond       object\n",
       "Foundation      object\n",
       "dtype: object"
      ]
     },
     "execution_count": 18,
     "metadata": {},
     "output_type": "execute_result"
    }
   ],
   "source": [
    "train_data.dtypes[21:30]"
   ]
  },
  {
   "cell_type": "code",
   "execution_count": 19,
   "metadata": {
    "execution": {
     "iopub.execute_input": "2020-12-07T00:09:17.934207Z",
     "iopub.status.busy": "2020-12-07T00:09:17.933257Z",
     "iopub.status.idle": "2020-12-07T00:09:17.937893Z",
     "shell.execute_reply": "2020-12-07T00:09:17.937190Z"
    },
    "papermill": {
     "duration": 0.045465,
     "end_time": "2020-12-07T00:09:17.938011",
     "exception": false,
     "start_time": "2020-12-07T00:09:17.892546",
     "status": "completed"
    },
    "tags": []
   },
   "outputs": [
    {
     "data": {
      "text/plain": [
       "BsmtCond        object\n",
       "BsmtExposure    object\n",
       "BsmtFinType1    object\n",
       "BsmtFinSF1       int64\n",
       "BsmtFinType2    object\n",
       "BsmtFinSF2       int64\n",
       "BsmtUnfSF        int64\n",
       "TotalBsmtSF      int64\n",
       "Heating         object\n",
       "dtype: object"
      ]
     },
     "execution_count": 19,
     "metadata": {},
     "output_type": "execute_result"
    }
   ],
   "source": [
    "train_data.dtypes[31:40]"
   ]
  },
  {
   "cell_type": "code",
   "execution_count": 20,
   "metadata": {
    "execution": {
     "iopub.execute_input": "2020-12-07T00:09:18.016162Z",
     "iopub.status.busy": "2020-12-07T00:09:18.015222Z",
     "iopub.status.idle": "2020-12-07T00:09:18.019709Z",
     "shell.execute_reply": "2020-12-07T00:09:18.019034Z"
    },
    "papermill": {
     "duration": 0.046484,
     "end_time": "2020-12-07T00:09:18.019833",
     "exception": false,
     "start_time": "2020-12-07T00:09:17.973349",
     "status": "completed"
    },
    "tags": []
   },
   "outputs": [
    {
     "data": {
      "text/plain": [
       "CentralAir      object\n",
       "Electrical      object\n",
       "1stFlrSF         int64\n",
       "2ndFlrSF         int64\n",
       "LowQualFinSF     int64\n",
       "GrLivArea        int64\n",
       "BsmtFullBath     int64\n",
       "BsmtHalfBath     int64\n",
       "FullBath         int64\n",
       "dtype: object"
      ]
     },
     "execution_count": 20,
     "metadata": {},
     "output_type": "execute_result"
    }
   ],
   "source": [
    "train_data.dtypes[41:50]"
   ]
  },
  {
   "cell_type": "code",
   "execution_count": 21,
   "metadata": {
    "execution": {
     "iopub.execute_input": "2020-12-07T00:09:18.097820Z",
     "iopub.status.busy": "2020-12-07T00:09:18.096791Z",
     "iopub.status.idle": "2020-12-07T00:09:18.100329Z",
     "shell.execute_reply": "2020-12-07T00:09:18.100917Z"
    },
    "papermill": {
     "duration": 0.046431,
     "end_time": "2020-12-07T00:09:18.101074",
     "exception": false,
     "start_time": "2020-12-07T00:09:18.054643",
     "status": "completed"
    },
    "tags": []
   },
   "outputs": [
    {
     "data": {
      "text/plain": [
       "BedroomAbvGr      int64\n",
       "KitchenAbvGr      int64\n",
       "KitchenQual      object\n",
       "TotRmsAbvGrd      int64\n",
       "Functional       object\n",
       "Fireplaces        int64\n",
       "FireplaceQu      object\n",
       "GarageType       object\n",
       "GarageYrBlt     float64\n",
       "dtype: object"
      ]
     },
     "execution_count": 21,
     "metadata": {},
     "output_type": "execute_result"
    }
   ],
   "source": [
    "train_data.dtypes[51:60]"
   ]
  },
  {
   "cell_type": "code",
   "execution_count": 22,
   "metadata": {
    "execution": {
     "iopub.execute_input": "2020-12-07T00:09:18.181800Z",
     "iopub.status.busy": "2020-12-07T00:09:18.180837Z",
     "iopub.status.idle": "2020-12-07T00:09:18.184941Z",
     "shell.execute_reply": "2020-12-07T00:09:18.185541Z"
    },
    "papermill": {
     "duration": 0.048412,
     "end_time": "2020-12-07T00:09:18.185703",
     "exception": false,
     "start_time": "2020-12-07T00:09:18.137291",
     "status": "completed"
    },
    "tags": []
   },
   "outputs": [
    {
     "data": {
      "text/plain": [
       "GarageCars        int64\n",
       "GarageArea        int64\n",
       "GarageQual       object\n",
       "GarageCond       object\n",
       "PavedDrive       object\n",
       "WoodDeckSF        int64\n",
       "OpenPorchSF       int64\n",
       "EnclosedPorch     int64\n",
       "3SsnPorch         int64\n",
       "dtype: object"
      ]
     },
     "execution_count": 22,
     "metadata": {},
     "output_type": "execute_result"
    }
   ],
   "source": [
    "train_data.dtypes[61:70]"
   ]
  },
  {
   "cell_type": "code",
   "execution_count": 23,
   "metadata": {
    "execution": {
     "iopub.execute_input": "2020-12-07T00:09:18.266210Z",
     "iopub.status.busy": "2020-12-07T00:09:18.265208Z",
     "iopub.status.idle": "2020-12-07T00:09:18.270044Z",
     "shell.execute_reply": "2020-12-07T00:09:18.269466Z"
    },
    "papermill": {
     "duration": 0.048709,
     "end_time": "2020-12-07T00:09:18.270201",
     "exception": false,
     "start_time": "2020-12-07T00:09:18.221492",
     "status": "completed"
    },
    "tags": []
   },
   "outputs": [
    {
     "data": {
      "text/plain": [
       "PoolArea          int64\n",
       "PoolQC           object\n",
       "Fence            object\n",
       "MiscFeature      object\n",
       "MiscVal           int64\n",
       "MoSold            int64\n",
       "YrSold            int64\n",
       "SaleType         object\n",
       "SaleCondition    object\n",
       "SalePrice         int64\n",
       "dtype: object"
      ]
     },
     "execution_count": 23,
     "metadata": {},
     "output_type": "execute_result"
    }
   ],
   "source": [
    "train_data.dtypes[71:]"
   ]
  },
  {
   "cell_type": "code",
   "execution_count": 24,
   "metadata": {
    "execution": {
     "iopub.execute_input": "2020-12-07T00:09:18.372084Z",
     "iopub.status.busy": "2020-12-07T00:09:18.371012Z",
     "iopub.status.idle": "2020-12-07T00:09:18.376650Z",
     "shell.execute_reply": "2020-12-07T00:09:18.375872Z"
    },
    "papermill": {
     "duration": 0.069781,
     "end_time": "2020-12-07T00:09:18.376790",
     "exception": false,
     "start_time": "2020-12-07T00:09:18.307009",
     "status": "completed"
    },
    "tags": []
   },
   "outputs": [
    {
     "data": {
      "text/html": [
       "<div>\n",
       "<style scoped>\n",
       "    .dataframe tbody tr th:only-of-type {\n",
       "        vertical-align: middle;\n",
       "    }\n",
       "\n",
       "    .dataframe tbody tr th {\n",
       "        vertical-align: top;\n",
       "    }\n",
       "\n",
       "    .dataframe thead th {\n",
       "        text-align: right;\n",
       "    }\n",
       "</style>\n",
       "<table border=\"1\" class=\"dataframe\">\n",
       "  <thead>\n",
       "    <tr style=\"text-align: right;\">\n",
       "      <th></th>\n",
       "      <th>MSSubClass</th>\n",
       "      <th>LotArea</th>\n",
       "      <th>OverallQual</th>\n",
       "      <th>OverallCond</th>\n",
       "      <th>YearBuilt</th>\n",
       "      <th>MasVnrArea</th>\n",
       "      <th>BsmtFinSF1</th>\n",
       "      <th>BsmtFinSF2</th>\n",
       "      <th>BsmtUnfSF</th>\n",
       "      <th>TotalBsmtSF</th>\n",
       "      <th>...</th>\n",
       "      <th>GarageCars</th>\n",
       "      <th>GarageArea</th>\n",
       "      <th>WoodDeckSF</th>\n",
       "      <th>OpenPorchSF</th>\n",
       "      <th>EnclosedPorch</th>\n",
       "      <th>3SsnPorch</th>\n",
       "      <th>PoolArea</th>\n",
       "      <th>MiscVal</th>\n",
       "      <th>MoSold</th>\n",
       "      <th>YrSold</th>\n",
       "    </tr>\n",
       "  </thead>\n",
       "  <tbody>\n",
       "    <tr>\n",
       "      <th>0</th>\n",
       "      <td>60</td>\n",
       "      <td>8450</td>\n",
       "      <td>7</td>\n",
       "      <td>5</td>\n",
       "      <td>2003</td>\n",
       "      <td>196.0</td>\n",
       "      <td>706</td>\n",
       "      <td>0</td>\n",
       "      <td>150</td>\n",
       "      <td>856</td>\n",
       "      <td>...</td>\n",
       "      <td>2</td>\n",
       "      <td>548</td>\n",
       "      <td>0</td>\n",
       "      <td>61</td>\n",
       "      <td>0</td>\n",
       "      <td>0</td>\n",
       "      <td>0</td>\n",
       "      <td>0</td>\n",
       "      <td>2</td>\n",
       "      <td>2008</td>\n",
       "    </tr>\n",
       "    <tr>\n",
       "      <th>1</th>\n",
       "      <td>20</td>\n",
       "      <td>9600</td>\n",
       "      <td>6</td>\n",
       "      <td>8</td>\n",
       "      <td>1976</td>\n",
       "      <td>0.0</td>\n",
       "      <td>978</td>\n",
       "      <td>0</td>\n",
       "      <td>284</td>\n",
       "      <td>1262</td>\n",
       "      <td>...</td>\n",
       "      <td>2</td>\n",
       "      <td>460</td>\n",
       "      <td>298</td>\n",
       "      <td>0</td>\n",
       "      <td>0</td>\n",
       "      <td>0</td>\n",
       "      <td>0</td>\n",
       "      <td>0</td>\n",
       "      <td>5</td>\n",
       "      <td>2007</td>\n",
       "    </tr>\n",
       "    <tr>\n",
       "      <th>2</th>\n",
       "      <td>60</td>\n",
       "      <td>11250</td>\n",
       "      <td>7</td>\n",
       "      <td>5</td>\n",
       "      <td>2001</td>\n",
       "      <td>162.0</td>\n",
       "      <td>486</td>\n",
       "      <td>0</td>\n",
       "      <td>434</td>\n",
       "      <td>920</td>\n",
       "      <td>...</td>\n",
       "      <td>2</td>\n",
       "      <td>608</td>\n",
       "      <td>0</td>\n",
       "      <td>42</td>\n",
       "      <td>0</td>\n",
       "      <td>0</td>\n",
       "      <td>0</td>\n",
       "      <td>0</td>\n",
       "      <td>9</td>\n",
       "      <td>2008</td>\n",
       "    </tr>\n",
       "    <tr>\n",
       "      <th>3</th>\n",
       "      <td>70</td>\n",
       "      <td>9550</td>\n",
       "      <td>7</td>\n",
       "      <td>5</td>\n",
       "      <td>1915</td>\n",
       "      <td>0.0</td>\n",
       "      <td>216</td>\n",
       "      <td>0</td>\n",
       "      <td>540</td>\n",
       "      <td>756</td>\n",
       "      <td>...</td>\n",
       "      <td>3</td>\n",
       "      <td>642</td>\n",
       "      <td>0</td>\n",
       "      <td>35</td>\n",
       "      <td>272</td>\n",
       "      <td>0</td>\n",
       "      <td>0</td>\n",
       "      <td>0</td>\n",
       "      <td>2</td>\n",
       "      <td>2006</td>\n",
       "    </tr>\n",
       "    <tr>\n",
       "      <th>4</th>\n",
       "      <td>60</td>\n",
       "      <td>14260</td>\n",
       "      <td>8</td>\n",
       "      <td>5</td>\n",
       "      <td>2000</td>\n",
       "      <td>350.0</td>\n",
       "      <td>655</td>\n",
       "      <td>0</td>\n",
       "      <td>490</td>\n",
       "      <td>1145</td>\n",
       "      <td>...</td>\n",
       "      <td>3</td>\n",
       "      <td>836</td>\n",
       "      <td>192</td>\n",
       "      <td>84</td>\n",
       "      <td>0</td>\n",
       "      <td>0</td>\n",
       "      <td>0</td>\n",
       "      <td>0</td>\n",
       "      <td>12</td>\n",
       "      <td>2008</td>\n",
       "    </tr>\n",
       "  </tbody>\n",
       "</table>\n",
       "<p>5 rows × 33 columns</p>\n",
       "</div>"
      ],
      "text/plain": [
       "   MSSubClass  LotArea  OverallQual  OverallCond  YearBuilt  MasVnrArea  \\\n",
       "0          60     8450            7            5       2003       196.0   \n",
       "1          20     9600            6            8       1976         0.0   \n",
       "2          60    11250            7            5       2001       162.0   \n",
       "3          70     9550            7            5       1915         0.0   \n",
       "4          60    14260            8            5       2000       350.0   \n",
       "\n",
       "   BsmtFinSF1  BsmtFinSF2  BsmtUnfSF  TotalBsmtSF  ...  GarageCars  \\\n",
       "0         706           0        150          856  ...           2   \n",
       "1         978           0        284         1262  ...           2   \n",
       "2         486           0        434          920  ...           2   \n",
       "3         216           0        540          756  ...           3   \n",
       "4         655           0        490         1145  ...           3   \n",
       "\n",
       "   GarageArea  WoodDeckSF  OpenPorchSF  EnclosedPorch  3SsnPorch  PoolArea  \\\n",
       "0         548           0           61              0          0         0   \n",
       "1         460         298            0              0          0         0   \n",
       "2         608           0           42              0          0         0   \n",
       "3         642           0           35            272          0         0   \n",
       "4         836         192           84              0          0         0   \n",
       "\n",
       "   MiscVal  MoSold  YrSold  \n",
       "0        0       2    2008  \n",
       "1        0       5    2007  \n",
       "2        0       9    2008  \n",
       "3        0       2    2006  \n",
       "4        0      12    2008  \n",
       "\n",
       "[5 rows x 33 columns]"
      ]
     },
     "execution_count": 24,
     "metadata": {},
     "output_type": "execute_result"
    }
   ],
   "source": [
    "X = train_data[['MSSubClass', 'LotArea','OverallQual', 'OverallCond', 'YearBuilt','MasVnrArea','BsmtFinSF1','BsmtFinSF2', 'BsmtUnfSF', 'TotalBsmtSF','1stFlrSF', '2ndFlrSF',\n",
    "       'LowQualFinSF', 'GrLivArea', 'BsmtFullBath', 'BsmtHalfBath', 'FullBath','HalfBath', 'BedroomAbvGr', 'KitchenAbvGr',\n",
    "       'TotRmsAbvGrd', 'Fireplaces','GarageYrBlt', 'GarageCars', 'GarageArea', 'WoodDeckSF', 'OpenPorchSF',\n",
    "       'EnclosedPorch', '3SsnPorch','PoolArea','MiscVal', 'MoSold', 'YrSold']]\n",
    "#X[['YearBuilt']] = 2020 - X[['YearBuilt']] \n",
    "#X[['YrSold']] = 2020 - X[['YrSold']] \n",
    "X.head()"
   ]
  },
  {
   "cell_type": "code",
   "execution_count": 25,
   "metadata": {
    "execution": {
     "iopub.execute_input": "2020-12-07T00:09:18.459786Z",
     "iopub.status.busy": "2020-12-07T00:09:18.458931Z",
     "iopub.status.idle": "2020-12-07T00:09:18.463277Z",
     "shell.execute_reply": "2020-12-07T00:09:18.462543Z"
    },
    "papermill": {
     "duration": 0.048744,
     "end_time": "2020-12-07T00:09:18.463401",
     "exception": false,
     "start_time": "2020-12-07T00:09:18.414657",
     "status": "completed"
    },
    "tags": []
   },
   "outputs": [
    {
     "data": {
      "text/plain": [
       "0    208500\n",
       "1    181500\n",
       "2    223500\n",
       "3    140000\n",
       "4    250000\n",
       "Name: SalePrice, dtype: int64"
      ]
     },
     "execution_count": 25,
     "metadata": {},
     "output_type": "execute_result"
    }
   ],
   "source": [
    "y = train_data['SalePrice']\n",
    "y.head()"
   ]
  },
  {
   "cell_type": "code",
   "execution_count": 26,
   "metadata": {
    "execution": {
     "iopub.execute_input": "2020-12-07T00:09:18.546704Z",
     "iopub.status.busy": "2020-12-07T00:09:18.545854Z",
     "iopub.status.idle": "2020-12-07T00:09:19.965570Z",
     "shell.execute_reply": "2020-12-07T00:09:19.966238Z"
    },
    "papermill": {
     "duration": 1.464901,
     "end_time": "2020-12-07T00:09:19.966401",
     "exception": false,
     "start_time": "2020-12-07T00:09:18.501500",
     "status": "completed"
    },
    "tags": []
   },
   "outputs": [
    {
     "data": {
      "text/html": [
       "<style type='text/css'>\n",
       ".datatable table.frame { margin-bottom: 0; }\n",
       ".datatable table.frame thead { border-bottom: none; }\n",
       ".datatable table.frame tr.coltypes td {  color: #FFFFFF;  line-height: 6px;  padding: 0 0.5em;}\n",
       ".datatable .bool    { background: #DDDD99; }\n",
       ".datatable .object  { background: #565656; }\n",
       ".datatable .int     { background: #5D9E5D; }\n",
       ".datatable .float   { background: #4040CC; }\n",
       ".datatable .str     { background: #CC4040; }\n",
       ".datatable .row_index {  background: var(--jp-border-color3);  border-right: 1px solid var(--jp-border-color0);  color: var(--jp-ui-font-color3);  font-size: 9px;}\n",
       ".datatable .frame tr.coltypes .row_index {  background: var(--jp-border-color0);}\n",
       ".datatable th:nth-child(2) { padding-left: 12px; }\n",
       ".datatable .hellipsis {  color: var(--jp-cell-editor-border-color);}\n",
       ".datatable .vellipsis {  background: var(--jp-layout-color0);  color: var(--jp-cell-editor-border-color);}\n",
       ".datatable .na {  color: var(--jp-cell-editor-border-color);  font-size: 80%;}\n",
       ".datatable .footer { font-size: 9px; }\n",
       ".datatable .frame_dimensions {  background: var(--jp-border-color3);  border-top: 1px solid var(--jp-border-color0);  color: var(--jp-ui-font-color3);  display: inline-block;  opacity: 0.6;  padding: 1px 10px 1px 5px;}\n",
       ".datatable .frame thead tr.colnames {  background-image: url('data:image/png;base64,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');  background-repeat: repeat-x;  background-size: 14px;  height: 28px;}\n",
       "</style>\n"
      ],
      "text/plain": [
       "<IPython.core.display.HTML object>"
      ]
     },
     "metadata": {},
     "output_type": "display_data"
    }
   ],
   "source": [
    "from sklearn.model_selection import train_test_split\n",
    "from sklearn.preprocessing import RobustScaler\n",
    "import xgboost as xgb\n",
    "from sklearn.ensemble import RandomForestClassifier\n",
    "from sklearn.metrics import mean_absolute_error\n",
    "import numpy as np"
   ]
  },
  {
   "cell_type": "code",
   "execution_count": 27,
   "metadata": {
    "execution": {
     "iopub.execute_input": "2020-12-07T00:09:20.053560Z",
     "iopub.status.busy": "2020-12-07T00:09:20.052778Z",
     "iopub.status.idle": "2020-12-07T00:09:20.070947Z",
     "shell.execute_reply": "2020-12-07T00:09:20.070214Z"
    },
    "papermill": {
     "duration": 0.064792,
     "end_time": "2020-12-07T00:09:20.071070",
     "exception": false,
     "start_time": "2020-12-07T00:09:20.006278",
     "status": "completed"
    },
    "tags": []
   },
   "outputs": [],
   "source": [
    "scaler = RobustScaler()\n",
    "X = scaler.fit_transform(X)"
   ]
  },
  {
   "cell_type": "code",
   "execution_count": 28,
   "metadata": {
    "execution": {
     "iopub.execute_input": "2020-12-07T00:09:20.160577Z",
     "iopub.status.busy": "2020-12-07T00:09:20.159561Z",
     "iopub.status.idle": "2020-12-07T00:11:05.026757Z",
     "shell.execute_reply": "2020-12-07T00:11:05.027490Z"
    },
    "papermill": {
     "duration": 104.916746,
     "end_time": "2020-12-07T00:11:05.027675",
     "exception": false,
     "start_time": "2020-12-07T00:09:20.110929",
     "status": "completed"
    },
    "tags": []
   },
   "outputs": [
    {
     "name": "stdout",
     "output_type": "stream",
     "text": [
      "(1168,) (1168, 33)\n",
      "MAE:  33023.29109589041\n"
     ]
    }
   ],
   "source": [
    "X_train, X_test, y_train, y_test = train_test_split(X, y, test_size = 0.2, random_state = 0)\n",
    "print(y_train.shape, X_train.shape)\n",
    "xgb_model = xgb.XGBClassifier(n_estimators=100)\n",
    "xgb_model.fit(X_train, y_train)\n",
    "preds = xgb_model.predict(X_test)\n",
    "y_pred = xgb_model.predict(X_test)\n",
    "print('MAE: ', mean_absolute_error(y_test, y_pred))"
   ]
  }
 ],
 "metadata": {
  "kernelspec": {
   "display_name": "Python 3",
   "language": "python",
   "name": "python3"
  },
  "language_info": {
   "codemirror_mode": {
    "name": "ipython",
    "version": 3
   },
   "file_extension": ".py",
   "mimetype": "text/x-python",
   "name": "python",
   "nbconvert_exporter": "python",
   "pygments_lexer": "ipython3",
   "version": "3.7.6"
  },
  "papermill": {
   "duration": 113.875997,
   "end_time": "2020-12-07T00:11:05.175191",
   "environment_variables": {},
   "exception": null,
   "input_path": "__notebook__.ipynb",
   "output_path": "__notebook__.ipynb",
   "parameters": {},
   "start_time": "2020-12-07T00:09:11.299194",
   "version": "2.1.0"
  }
 },
 "nbformat": 4,
 "nbformat_minor": 4
}
