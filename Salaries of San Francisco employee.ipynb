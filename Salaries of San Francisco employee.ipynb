{
 "cells":[
  {
   "cell_type":"code",
   "source":[
    "import numpy as np \n",
    "import pandas as pd \n",
    "import seaborn as sns\n",
    "import matplotlib.pyplot as plt\n",
    "%matplotlib inline"
   ],
   "execution_count":1,
   "outputs":[
    
   ],
   "metadata":{
    "datalore":{
     "type":"CODE",
     "hide_input_from_viewers":false,
     "hide_output_from_viewers":false
    }
   }
  },
  {
   "cell_type":"code",
   "source":[
    "df = pd.read_csv('\/data\/workspace_files\/SalariesforSanFranciscoEmployee\/Total.csv')"
   ],
   "execution_count":2,
   "outputs":[
    {
     "name":"stderr",
     "text":[
      "\/opt\/python\/envs\/default\/lib\/python3.8\/site-packages\/IPython\/core\/interactiveshell.py:3457: DtypeWarning: Columns (2,3,4,5) have mixed types.Specify dtype option on import or set low_memory=False.\n",
      "  exec(code_obj, self.user_global_ns, self.user_ns)\n"
     ],
     "output_type":"stream"
    }
   ],
   "metadata":{
    "datalore":{
     "type":"CODE",
     "hide_input_from_viewers":false,
     "hide_output_from_viewers":false
    }
   }
  },
  {
   "cell_type":"code",
   "source":[
    "df.head()"
   ],
   "execution_count":3,
   "outputs":[
    {
     "data":{
      "text\/html":[
       "<div>\n",
       "<style scoped>\n",
       "    .dataframe tbody tr th:only-of-type {\n",
       "        vertical-align: middle;\n",
       "    }\n",
       "\n",
       "    .dataframe tbody tr th {\n",
       "        vertical-align: top;\n",
       "    }\n",
       "\n",
       "    .dataframe thead th {\n",
       "        text-align: right;\n",
       "    }\n",
       "<\/style>\n",
       "<table border=\"1\" class=\"dataframe\">\n",
       "  <thead>\n",
       "    <tr style=\"text-align: right;\">\n",
       "      <th><\/th>\n",
       "      <th>EmployeeName<\/th>\n",
       "      <th>JobTitle<\/th>\n",
       "      <th>BasePay<\/th>\n",
       "      <th>OvertimePay<\/th>\n",
       "      <th>OtherPay<\/th>\n",
       "      <th>Benefits<\/th>\n",
       "      <th>TotalPay<\/th>\n",
       "      <th>TotalPayBenefits<\/th>\n",
       "      <th>Year<\/th>\n",
       "    <\/tr>\n",
       "  <\/thead>\n",
       "  <tbody>\n",
       "    <tr>\n",
       "      <th>0<\/th>\n",
       "      <td>NATHANIEL FORD<\/td>\n",
       "      <td>GENERAL MANAGER-METROPOLITAN TRANSIT AUTHORITY<\/td>\n",
       "      <td>167411.18<\/td>\n",
       "      <td>0.0<\/td>\n",
       "      <td>400184.25<\/td>\n",
       "      <td>Not Provided<\/td>\n",
       "      <td>567595.43<\/td>\n",
       "      <td>567595.43<\/td>\n",
       "      <td>2011<\/td>\n",
       "    <\/tr>\n",
       "    <tr>\n",
       "      <th>1<\/th>\n",
       "      <td>GARY JIMENEZ<\/td>\n",
       "      <td>CAPTAIN III (POLICE DEPARTMENT)<\/td>\n",
       "      <td>155966.02<\/td>\n",
       "      <td>245131.88<\/td>\n",
       "      <td>137811.38<\/td>\n",
       "      <td>Not Provided<\/td>\n",
       "      <td>538909.28<\/td>\n",
       "      <td>538909.28<\/td>\n",
       "      <td>2011<\/td>\n",
       "    <\/tr>\n",
       "    <tr>\n",
       "      <th>2<\/th>\n",
       "      <td>ALBERT PARDINI<\/td>\n",
       "      <td>CAPTAIN III (POLICE DEPARTMENT)<\/td>\n",
       "      <td>212739.13<\/td>\n",
       "      <td>106088.18<\/td>\n",
       "      <td>16452.6<\/td>\n",
       "      <td>Not Provided<\/td>\n",
       "      <td>335279.91<\/td>\n",
       "      <td>335279.91<\/td>\n",
       "      <td>2011<\/td>\n",
       "    <\/tr>\n",
       "    <tr>\n",
       "      <th>3<\/th>\n",
       "      <td>CHRISTOPHER CHONG<\/td>\n",
       "      <td>WIRE ROPE CABLE MAINTENANCE MECHANIC<\/td>\n",
       "      <td>77916.0<\/td>\n",
       "      <td>56120.71<\/td>\n",
       "      <td>198306.9<\/td>\n",
       "      <td>Not Provided<\/td>\n",
       "      <td>332343.61<\/td>\n",
       "      <td>332343.61<\/td>\n",
       "      <td>2011<\/td>\n",
       "    <\/tr>\n",
       "    <tr>\n",
       "      <th>4<\/th>\n",
       "      <td>PATRICK GARDNER<\/td>\n",
       "      <td>DEPUTY CHIEF OF DEPARTMENT,(FIRE DEPARTMENT)<\/td>\n",
       "      <td>134401.6<\/td>\n",
       "      <td>9737.0<\/td>\n",
       "      <td>182234.59<\/td>\n",
       "      <td>Not Provided<\/td>\n",
       "      <td>326373.19<\/td>\n",
       "      <td>326373.19<\/td>\n",
       "      <td>2011<\/td>\n",
       "    <\/tr>\n",
       "  <\/tbody>\n",
       "<\/table>\n",
       "<\/div>"
      ]
     },
     "metadata":{
      
     },
     "output_type":"display_data"
    }
   ],
   "metadata":{
    "datalore":{
     "type":"CODE",
     "hide_input_from_viewers":false,
     "hide_output_from_viewers":false
    }
   }
  },
  {
   "cell_type":"code",
   "source":[
    "print('This Dataset countains {} Rows and {} Columns'.format(df.shape[0], df.shape[1]))"
   ],
   "execution_count":4,
   "outputs":[
    {
     "name":"stdout",
     "text":[
      "This Dataset countains 312882 Rows and 9 Columns\n"
     ],
     "output_type":"stream"
    }
   ],
   "metadata":{
    "datalore":{
     "type":"CODE",
     "hide_input_from_viewers":false,
     "hide_output_from_viewers":false
    }
   }
  },
  {
   "cell_type":"code",
   "source":[
    "df.shape"
   ],
   "execution_count":5,
   "outputs":[
    {
     "data":{
      "text\/plain":[
       "(312882, 9)"
      ]
     },
     "metadata":{
      
     },
     "output_type":"display_data"
    }
   ],
   "metadata":{
    "datalore":{
     "type":"CODE",
     "hide_input_from_viewers":false,
     "hide_output_from_viewers":false
    }
   }
  },
  {
   "cell_type":"code",
   "source":[
    "df.info()"
   ],
   "execution_count":6,
   "outputs":[
    {
     "name":"stdout",
     "text":[
      "<class 'pandas.core.frame.DataFrame'>\n",
      "RangeIndex: 312882 entries, 0 to 312881\n",
      "Data columns (total 9 columns):\n",
      " #   Column            Non-Null Count   Dtype  \n",
      "---  ------            --------------   -----  \n",
      " 0   EmployeeName      312882 non-null  object \n",
      " 1   JobTitle          312882 non-null  object \n",
      " 2   BasePay           312882 non-null  object \n",
      " 3   OvertimePay       312882 non-null  object \n",
      " 4   OtherPay          312882 non-null  object \n",
      " 5   Benefits          312882 non-null  object \n",
      " 6   TotalPay          312882 non-null  float64\n",
      " 7   TotalPayBenefits  312882 non-null  float64\n",
      " 8   Year              312882 non-null  int64  \n",
      "dtypes: float64(2), int64(1), object(6)\n",
      "memory usage: 21.5+ MB\n"
     ],
     "output_type":"stream"
    }
   ],
   "metadata":{
    "datalore":{
     "type":"CODE",
     "hide_input_from_viewers":false,
     "hide_output_from_viewers":false
    }
   }
  },
  {
   "cell_type":"code",
   "source":[
    "series_list=['BasePay','OvertimePay','OtherPay','Benefits']\n",
    "for series in series_list:\n",
    "    df[series]=pd.to_numeric(df[series],errors='coerce')\n",
    "df.info()"
   ],
   "execution_count":7,
   "outputs":[
    {
     "name":"stdout",
     "text":[
      "<class 'pandas.core.frame.DataFrame'>\n",
      "RangeIndex: 312882 entries, 0 to 312881\n",
      "Data columns (total 9 columns):\n",
      " #   Column            Non-Null Count   Dtype  \n",
      "---  ------            --------------   -----  \n",
      " 0   EmployeeName      312882 non-null  object \n",
      " 1   JobTitle          312882 non-null  object \n",
      " 2   BasePay           312276 non-null  float64\n",
      " 3   OvertimePay       312881 non-null  float64\n",
      " 4   OtherPay          312881 non-null  float64\n",
      " 5   Benefits          276722 non-null  float64\n",
      " 6   TotalPay          312882 non-null  float64\n",
      " 7   TotalPayBenefits  312882 non-null  float64\n",
      " 8   Year              312882 non-null  int64  \n",
      "dtypes: float64(6), int64(1), object(2)\n",
      "memory usage: 21.5+ MB\n"
     ],
     "output_type":"stream"
    }
   ],
   "metadata":{
    "datalore":{
     "type":"CODE",
     "hide_input_from_viewers":false,
     "hide_output_from_viewers":false
    }
   }
  },
  {
   "cell_type":"code",
   "source":[
    "df[\"BasePay\"].mean()"
   ],
   "execution_count":8,
   "outputs":[
    {
     "data":{
      "text\/plain":[
       "69808.2574960612"
      ]
     },
     "metadata":{
      
     },
     "output_type":"display_data"
    }
   ],
   "metadata":{
    "datalore":{
     "type":"CODE",
     "hide_input_from_viewers":false,
     "hide_output_from_viewers":false
    }
   }
  },
  {
   "cell_type":"code",
   "source":[
    "df[\"BasePay\"].max()"
   ],
   "execution_count":9,
   "outputs":[
    {
     "data":{
      "text\/plain":[
       "592394.34"
      ]
     },
     "metadata":{
      
     },
     "output_type":"display_data"
    }
   ],
   "metadata":{
    "datalore":{
     "type":"CODE",
     "hide_input_from_viewers":false,
     "hide_output_from_viewers":false
    }
   }
  },
  {
   "cell_type":"code",
   "source":[
    "df[\"BasePay\"].describe()"
   ],
   "execution_count":10,
   "outputs":[
    {
     "data":{
      "text\/html":[
       
      ]
     },
     "metadata":{
      
     },
     "output_type":"display_data"
    }
   ],
   "metadata":{
    "datalore":{
     "type":"CODE",
     "hide_input_from_viewers":false,
     "hide_output_from_viewers":false
    }
   }
  },
  {
   "cell_type":"code",
   "source":[
    "df.describe()"
   ],
   "execution_count":11,
   "outputs":[
    {
     "data":{
      "text\/html":[
       "<div>\n",
       "<style scoped>\n",
       "    .dataframe tbody tr th:only-of-type {\n",
       "        vertical-align: middle;\n",
       "    }\n",
       "\n",
       "    .dataframe tbody tr th {\n",
       "        vertical-align: top;\n",
       "    }\n",
       "\n",
       "    .dataframe thead th {\n",
       "        text-align: right;\n",
       "    }\n",
       "<\/style>\n",
       "<table border=\"1\" class=\"dataframe\">\n",
       "  <thead>\n",
       "    <tr style=\"text-align: right;\">\n",
       "      <th><\/th>\n",
       "      <th>BasePay<\/th>\n",
       "      <th>OvertimePay<\/th>\n",
       "      <th>OtherPay<\/th>\n",
       "      <th>Benefits<\/th>\n",
       "      <th>TotalPay<\/th>\n",
       "      <th>TotalPayBenefits<\/th>\n",
       "      <th>Year<\/th>\n",
       "    <\/tr>\n",
       "  <\/thead>\n",
       "  <tbody>\n",
       "    <tr>\n",
       "      <th>count<\/th>\n",
       "      <td>312276.000000<\/td>\n",
       "      <td>312881.000000<\/td>\n",
       "      <td>312881.000000<\/td>\n",
       "      <td>276722.000000<\/td>\n",
       "      <td>312882.000000<\/td>\n",
       "      <td>312882.000000<\/td>\n",
       "      <td>312882.000000<\/td>\n",
       "    <\/tr>\n",
       "    <tr>\n",
       "      <th>mean<\/th>\n",
       "      <td>69808.257496<\/td>\n",
       "      <td>5668.929393<\/td>\n",
       "      <td>3460.694974<\/td>\n",
       "      <td>25016.917292<\/td>\n",
       "      <td>78802.645788<\/td>\n",
       "      <td>100928.339777<\/td>\n",
       "      <td>2014.625303<\/td>\n",
       "    <\/tr>\n",
       "    <tr>\n",
       "      <th>std<\/th>\n",
       "      <td>45376.929428<\/td>\n",
       "      <td>12745.655309<\/td>\n",
       "      <td>7387.263120<\/td>\n",
       "      <td>15089.077103<\/td>\n",
       "      <td>53230.758542<\/td>\n",
       "      <td>66485.186495<\/td>\n",
       "      <td>2.290899<\/td>\n",
       "    <\/tr>\n",
       "    <tr>\n",
       "      <th>min<\/th>\n",
       "      <td>-474.400000<\/td>\n",
       "      <td>-292.800000<\/td>\n",
       "      <td>-7058.590000<\/td>\n",
       "      <td>-13939.420000<\/td>\n",
       "      <td>-618.130000<\/td>\n",
       "      <td>-3628.780000<\/td>\n",
       "      <td>2011.000000<\/td>\n",
       "    <\/tr>\n",
       "    <tr>\n",
       "      <th>25%<\/th>\n",
       "      <td>35722.365000<\/td>\n",
       "      <td>0.000000<\/td>\n",
       "      <td>0.000000<\/td>\n",
       "      <td>12729.762500<\/td>\n",
       "      <td>38803.000000<\/td>\n",
       "      <td>48955.072500<\/td>\n",
       "      <td>2013.000000<\/td>\n",
       "    <\/tr>\n",
       "    <tr>\n",
       "      <th>50%<\/th>\n",
       "      <td>67710.450000<\/td>\n",
       "      <td>0.000000<\/td>\n",
       "      <td>728.000000<\/td>\n",
       "      <td>28327.330000<\/td>\n",
       "      <td>74908.790000<\/td>\n",
       "      <td>100011.290000<\/td>\n",
       "      <td>2015.000000<\/td>\n",
       "    <\/tr>\n",
       "    <tr>\n",
       "      <th>75%<\/th>\n",
       "      <td>99312.302500<\/td>\n",
       "      <td>5223.120000<\/td>\n",
       "      <td>3958.680000<\/td>\n",
       "      <td>35268.162500<\/td>\n",
       "      <td>111386.897500<\/td>\n",
       "      <td>142376.300000<\/td>\n",
       "      <td>2017.000000<\/td>\n",
       "    <\/tr>\n",
       "    <tr>\n",
       "      <th>max<\/th>\n",
       "      <td>592394.340000<\/td>\n",
       "      <td>309481.030000<\/td>\n",
       "      <td>400184.250000<\/td>\n",
       "      <td>125891.730000<\/td>\n",
       "      <td>592394.340000<\/td>\n",
       "      <td>712802.360000<\/td>\n",
       "      <td>2018.000000<\/td>\n",
       "    <\/tr>\n",
       "  <\/tbody>\n",
       "<\/table>\n",
       "<\/div>"
      ]
     },
     "metadata":{
      
     },
     "output_type":"display_data"
    }
   ],
   "metadata":{
    "datalore":{
     "type":"CODE",
     "hide_input_from_viewers":false,
     "hide_output_from_viewers":false
    }
   }
  },
  {
   "cell_type":"code",
   "source":[
    "df[df[\"BasePay\"]<0]"
   ],
   "execution_count":12,
   "outputs":[
    {
     "data":{
      "text\/html":[
       "<div>\n",
       "<style scoped>\n",
       "    .dataframe tbody tr th:only-of-type {\n",
       "        vertical-align: middle;\n",
       "    }\n",
       "\n",
       "    .dataframe tbody tr th {\n",
       "        vertical-align: top;\n",
       "    }\n",
       "\n",
       "    .dataframe thead th {\n",
       "        text-align: right;\n",
       "    }\n",
       "<\/style>\n",
       "<table border=\"1\" class=\"dataframe\">\n",
       "  <thead>\n",
       "    <tr style=\"text-align: right;\">\n",
       "      <th><\/th>\n",
       "      <th>EmployeeName<\/th>\n",
       "      <th>JobTitle<\/th>\n",
       "      <th>BasePay<\/th>\n",
       "      <th>OvertimePay<\/th>\n",
       "      <th>OtherPay<\/th>\n",
       "      <th>Benefits<\/th>\n",
       "      <th>TotalPay<\/th>\n",
       "      <th>TotalPayBenefits<\/th>\n",
       "      <th>Year<\/th>\n",
       "    <\/tr>\n",
       "  <\/thead>\n",
       "  <tbody>\n",
       "    <tr>\n",
       "      <th>72832<\/th>\n",
       "      <td>Irwin Sidharta<\/td>\n",
       "      <td>Junior Clerk<\/td>\n",
       "      <td>-166.01<\/td>\n",
       "      <td>249.02<\/td>\n",
       "      <td>0.00<\/td>\n",
       "      <td>6.56<\/td>\n",
       "      <td>83.01<\/td>\n",
       "      <td>89.57<\/td>\n",
       "      <td>2012<\/td>\n",
       "    <\/tr>\n",
       "    <tr>\n",
       "      <th>72865<\/th>\n",
       "      <td>Robert Scott<\/td>\n",
       "      <td>Junior Clerk<\/td>\n",
       "      <td>-121.63<\/td>\n",
       "      <td>182.70<\/td>\n",
       "      <td>0.00<\/td>\n",
       "      <td>5.44<\/td>\n",
       "      <td>61.07<\/td>\n",
       "      <td>66.51<\/td>\n",
       "      <td>2012<\/td>\n",
       "    <\/tr>\n",
       "    <tr>\n",
       "      <th>72872<\/th>\n",
       "      <td>Chung Huey Kung<\/td>\n",
       "      <td>Junior Clerk<\/td>\n",
       "      <td>-109.22<\/td>\n",
       "      <td>163.83<\/td>\n",
       "      <td>0.00<\/td>\n",
       "      <td>4.32<\/td>\n",
       "      <td>54.61<\/td>\n",
       "      <td>58.93<\/td>\n",
       "      <td>2012<\/td>\n",
       "    <\/tr>\n",
       "    <tr>\n",
       "      <th>72874<\/th>\n",
       "      <td>Jordan Li<\/td>\n",
       "      <td>Junior Clerk<\/td>\n",
       "      <td>-106.60<\/td>\n",
       "      <td>159.90<\/td>\n",
       "      <td>0.00<\/td>\n",
       "      <td>4.66<\/td>\n",
       "      <td>53.30<\/td>\n",
       "      <td>57.96<\/td>\n",
       "      <td>2012<\/td>\n",
       "    <\/tr>\n",
       "    <tr>\n",
       "      <th>72878<\/th>\n",
       "      <td>Richard Jackson<\/td>\n",
       "      <td>Junior Clerk<\/td>\n",
       "      <td>-101.88<\/td>\n",
       "      <td>153.08<\/td>\n",
       "      <td>0.00<\/td>\n",
       "      <td>4.55<\/td>\n",
       "      <td>51.20<\/td>\n",
       "      <td>55.75<\/td>\n",
       "      <td>2012<\/td>\n",
       "    <\/tr>\n",
       "    <tr>\n",
       "      <th>72884<\/th>\n",
       "      <td>DiMarco McGhee-Stewart<\/td>\n",
       "      <td>Junior Clerk<\/td>\n",
       "      <td>-93.14<\/td>\n",
       "      <td>139.97<\/td>\n",
       "      <td>0.00<\/td>\n",
       "      <td>4.17<\/td>\n",
       "      <td>46.83<\/td>\n",
       "      <td>51.00<\/td>\n",
       "      <td>2012<\/td>\n",
       "    <\/tr>\n",
       "    <tr>\n",
       "      <th>72888<\/th>\n",
       "      <td>Leopoldo Marasigan<\/td>\n",
       "      <td>Junior Clerk<\/td>\n",
       "      <td>-87.38<\/td>\n",
       "      <td>131.06<\/td>\n",
       "      <td>0.00<\/td>\n",
       "      <td>3.89<\/td>\n",
       "      <td>43.68<\/td>\n",
       "      <td>47.57<\/td>\n",
       "      <td>2012<\/td>\n",
       "    <\/tr>\n",
       "    <tr>\n",
       "      <th>72894<\/th>\n",
       "      <td>Douglas Avalos<\/td>\n",
       "      <td>Junior Clerk<\/td>\n",
       "      <td>-75.67<\/td>\n",
       "      <td>113.76<\/td>\n",
       "      <td>0.00<\/td>\n",
       "      <td>3.39<\/td>\n",
       "      <td>38.09<\/td>\n",
       "      <td>41.48<\/td>\n",
       "      <td>2012<\/td>\n",
       "    <\/tr>\n",
       "    <tr>\n",
       "      <th>72908<\/th>\n",
       "      <td>Norma Rodriguez<\/td>\n",
       "      <td>Junior Clerk<\/td>\n",
       "      <td>-59.59<\/td>\n",
       "      <td>89.65<\/td>\n",
       "      <td>0.00<\/td>\n",
       "      <td>2.68<\/td>\n",
       "      <td>30.06<\/td>\n",
       "      <td>32.74<\/td>\n",
       "      <td>2012<\/td>\n",
       "    <\/tr>\n",
       "    <tr>\n",
       "      <th>72920<\/th>\n",
       "      <td>Charles Williams<\/td>\n",
       "      <td>Junior Clerk<\/td>\n",
       "      <td>-30.58<\/td>\n",
       "      <td>45.87<\/td>\n",
       "      <td>0.00<\/td>\n",
       "      <td>1.36<\/td>\n",
       "      <td>15.29<\/td>\n",
       "      <td>16.65<\/td>\n",
       "      <td>2012<\/td>\n",
       "    <\/tr>\n",
       "    <tr>\n",
       "      <th>72922<\/th>\n",
       "      <td>John Draper<\/td>\n",
       "      <td>Clerk<\/td>\n",
       "      <td>-9.50<\/td>\n",
       "      <td>14.25<\/td>\n",
       "      <td>0.00<\/td>\n",
       "      <td>0.42<\/td>\n",
       "      <td>4.75<\/td>\n",
       "      <td>5.17<\/td>\n",
       "      <td>2012<\/td>\n",
       "    <\/tr>\n",
       "    <tr>\n",
       "      <th>188036<\/th>\n",
       "      <td>Lubna Kaur<\/td>\n",
       "      <td>PS Aide Health Services<\/td>\n",
       "      <td>-292.40<\/td>\n",
       "      <td>0.00<\/td>\n",
       "      <td>0.00<\/td>\n",
       "      <td>-2.92<\/td>\n",
       "      <td>-292.40<\/td>\n",
       "      <td>-295.32<\/td>\n",
       "      <td>2015<\/td>\n",
       "    <\/tr>\n",
       "    <tr>\n",
       "      <th>270571<\/th>\n",
       "      <td>Carlos R Castro Santiago<\/td>\n",
       "      <td>Custodian<\/td>\n",
       "      <td>-474.40<\/td>\n",
       "      <td>0.00<\/td>\n",
       "      <td>-23.72<\/td>\n",
       "      <td>-79.35<\/td>\n",
       "      <td>-498.12<\/td>\n",
       "      <td>-577.47<\/td>\n",
       "      <td>2017<\/td>\n",
       "    <\/tr>\n",
       "  <\/tbody>\n",
       "<\/table>\n",
       "<\/div>"
      ]
     },
     "metadata":{
      
     },
     "output_type":"display_data"
    }
   ],
   "metadata":{
    "datalore":{
     "type":"CODE",
     "hide_input_from_viewers":false,
     "hide_output_from_viewers":false
    }
   }
  },
  {
   "cell_type":"code",
   "source":[
    "df[df['EmployeeName']== \"Ricardo Jimenez\"]"
   ],
   "execution_count":13,
   "outputs":[
    {
     "data":{
      "text\/html":[
       "<div>\n",
       "<style scoped>\n",
       "    .dataframe tbody tr th:only-of-type {\n",
       "        vertical-align: middle;\n",
       "    }\n",
       "\n",
       "    .dataframe tbody tr th {\n",
       "        vertical-align: top;\n",
       "    }\n",
       "\n",
       "    .dataframe thead th {\n",
       "        text-align: right;\n",
       "    }\n",
       "<\/style>\n",
       "<table border=\"1\" class=\"dataframe\">\n",
       "  <thead>\n",
       "    <tr style=\"text-align: right;\">\n",
       "      <th><\/th>\n",
       "      <th>EmployeeName<\/th>\n",
       "      <th>JobTitle<\/th>\n",
       "      <th>BasePay<\/th>\n",
       "      <th>OvertimePay<\/th>\n",
       "      <th>OtherPay<\/th>\n",
       "      <th>Benefits<\/th>\n",
       "      <th>TotalPay<\/th>\n",
       "      <th>TotalPayBenefits<\/th>\n",
       "      <th>Year<\/th>\n",
       "    <\/tr>\n",
       "  <\/thead>\n",
       "  <tbody>\n",
       "    <tr>\n",
       "      <th>50596<\/th>\n",
       "      <td>Ricardo Jimenez<\/td>\n",
       "      <td>Transit Supervisor<\/td>\n",
       "      <td>72936.93<\/td>\n",
       "      <td>8078.04<\/td>\n",
       "      <td>3701.18<\/td>\n",
       "      <td>31355.90<\/td>\n",
       "      <td>84716.15<\/td>\n",
       "      <td>116072.05<\/td>\n",
       "      <td>2012<\/td>\n",
       "    <\/tr>\n",
       "    <tr>\n",
       "      <th>120452<\/th>\n",
       "      <td>Ricardo Jimenez<\/td>\n",
       "      <td>Transit Supervisor<\/td>\n",
       "      <td>89128.98<\/td>\n",
       "      <td>14206.09<\/td>\n",
       "      <td>2677.35<\/td>\n",
       "      <td>33912.52<\/td>\n",
       "      <td>106012.42<\/td>\n",
       "      <td>139924.94<\/td>\n",
       "      <td>2014<\/td>\n",
       "    <\/tr>\n",
       "    <tr>\n",
       "      <th>160317<\/th>\n",
       "      <td>Ricardo Jimenez<\/td>\n",
       "      <td>Transit Supervisor<\/td>\n",
       "      <td>89623.29<\/td>\n",
       "      <td>8757.50<\/td>\n",
       "      <td>2556.00<\/td>\n",
       "      <td>32716.82<\/td>\n",
       "      <td>100936.79<\/td>\n",
       "      <td>133653.61<\/td>\n",
       "      <td>2015<\/td>\n",
       "    <\/tr>\n",
       "    <tr>\n",
       "      <th>198692<\/th>\n",
       "      <td>Ricardo Jimenez<\/td>\n",
       "      <td>Transit Supervisor<\/td>\n",
       "      <td>97131.01<\/td>\n",
       "      <td>10767.28<\/td>\n",
       "      <td>2572.50<\/td>\n",
       "      <td>33947.81<\/td>\n",
       "      <td>110470.79<\/td>\n",
       "      <td>144418.60<\/td>\n",
       "      <td>2016<\/td>\n",
       "    <\/tr>\n",
       "    <tr>\n",
       "      <th>240214<\/th>\n",
       "      <td>Ricardo Jimenez<\/td>\n",
       "      <td>Transit Supervisor<\/td>\n",
       "      <td>100900.50<\/td>\n",
       "      <td>8531.81<\/td>\n",
       "      <td>2838.00<\/td>\n",
       "      <td>35989.91<\/td>\n",
       "      <td>112270.31<\/td>\n",
       "      <td>148260.22<\/td>\n",
       "      <td>2017<\/td>\n",
       "    <\/tr>\n",
       "    <tr>\n",
       "      <th>299079<\/th>\n",
       "      <td>Ricardo Jimenez<\/td>\n",
       "      <td>Transit Supervisor<\/td>\n",
       "      <td>61286.00<\/td>\n",
       "      <td>2780.30<\/td>\n",
       "      <td>1417.50<\/td>\n",
       "      <td>22218.57<\/td>\n",
       "      <td>65483.80<\/td>\n",
       "      <td>87702.37<\/td>\n",
       "      <td>2018<\/td>\n",
       "    <\/tr>\n",
       "  <\/tbody>\n",
       "<\/table>\n",
       "<\/div>"
      ]
     },
     "metadata":{
      
     },
     "output_type":"display_data"
    }
   ],
   "metadata":{
    "datalore":{
     "type":"CODE",
     "hide_input_from_viewers":false,
     "hide_output_from_viewers":false
    }
   }
  },
  {
   "cell_type":"code",
   "source":[
    "df[df['EmployeeName']=='Ricardo Jimenez'][['BasePay','Year']]"
   ],
   "execution_count":14,
   "outputs":[
    {
     "data":{
      "text\/html":[
       "<div>\n",
       "<style scoped>\n",
       "    .dataframe tbody tr th:only-of-type {\n",
       "        vertical-align: middle;\n",
       "    }\n",
       "\n",
       "    .dataframe tbody tr th {\n",
       "        vertical-align: top;\n",
       "    }\n",
       "\n",
       "    .dataframe thead th {\n",
       "        text-align: right;\n",
       "    }\n",
       "<\/style>\n",
       "<table border=\"1\" class=\"dataframe\">\n",
       "  <thead>\n",
       "    <tr style=\"text-align: right;\">\n",
       "      <th><\/th>\n",
       "      <th>BasePay<\/th>\n",
       "      <th>Year<\/th>\n",
       "    <\/tr>\n",
       "  <\/thead>\n",
       "  <tbody>\n",
       "    <tr>\n",
       "      <th>50596<\/th>\n",
       "      <td>72936.93<\/td>\n",
       "      <td>2012<\/td>\n",
       "    <\/tr>\n",
       "    <tr>\n",
       "      <th>120452<\/th>\n",
       "      <td>89128.98<\/td>\n",
       "      <td>2014<\/td>\n",
       "    <\/tr>\n",
       "    <tr>\n",
       "      <th>160317<\/th>\n",
       "      <td>89623.29<\/td>\n",
       "      <td>2015<\/td>\n",
       "    <\/tr>\n",
       "    <tr>\n",
       "      <th>198692<\/th>\n",
       "      <td>97131.01<\/td>\n",
       "      <td>2016<\/td>\n",
       "    <\/tr>\n",
       "    <tr>\n",
       "      <th>240214<\/th>\n",
       "      <td>100900.50<\/td>\n",
       "      <td>2017<\/td>\n",
       "    <\/tr>\n",
       "    <tr>\n",
       "      <th>299079<\/th>\n",
       "      <td>61286.00<\/td>\n",
       "      <td>2018<\/td>\n",
       "    <\/tr>\n",
       "  <\/tbody>\n",
       "<\/table>\n",
       "<\/div>"
      ]
     },
     "metadata":{
      
     },
     "output_type":"display_data"
    }
   ],
   "metadata":{
    "datalore":{
     "type":"CODE",
     "hide_input_from_viewers":false,
     "hide_output_from_viewers":false
    }
   }
  },
  {
   "cell_type":"code",
   "source":[
    "A=df['Year'].nunique()\n",
    "B=df['Year'].unique()\n",
    "print('The information of {} years are available in the dataset:{}'.format(A,B))"
   ],
   "execution_count":15,
   "outputs":[
    {
     "name":"stdout",
     "text":[
      "The information of 8 years are available in the dataset:[2011 2012 2013 2014 2015 2016 2017 2018]\n"
     ],
     "output_type":"stream"
    }
   ],
   "metadata":{
    "datalore":{
     "type":"CODE",
     "hide_input_from_viewers":false,
     "hide_output_from_viewers":false
    }
   }
  },
  {
   "cell_type":"code",
   "source":[
    "df.groupby('Year').mean()['BasePay']"
   ],
   "execution_count":16,
   "outputs":[
    {
     "data":{
      "text\/html":[
       
      ]
     },
     "metadata":{
      
     },
     "output_type":"display_data"
    }
   ],
   "metadata":{
    "datalore":{
     "type":"CODE",
     "hide_input_from_viewers":false,
     "hide_output_from_viewers":false
    }
   }
  },
  {
   "cell_type":"code",
   "source":[
    "sns.barplot(data=df, x='Year', y='BasePay')"
   ],
   "execution_count":17,
   "outputs":[
    {
     "data":{
      "text\/plain":[
       "<AxesSubplot:xlabel='Year', ylabel='BasePay'>"
      ],
      "image\/png":"[encoded data removed]"
     },
     "metadata":{
      "image\/png":{
       
      }
     },
     "output_type":"display_data"
    }
   ],
   "metadata":{
    "datalore":{
     "type":"CODE",
     "hide_input_from_viewers":false,
     "hide_output_from_viewers":false
    }
   }
  },
  {
   "cell_type":"code",
   "source":[
    "df[df['EmployeeName']=='Ricardo Jimenez'][['TotalPayBenefits','Year']]\n",
    "sns.barplot(data=df, x='Year', y='TotalPayBenefits')"
   ],
   "execution_count":18,
   "outputs":[
    {
     "data":{
      "text\/plain":[
       "<AxesSubplot:xlabel='Year', ylabel='TotalPayBenefits'>"
      ],
      "image\/png":"[encoded data removed]"
     },
     "metadata":{
      "image\/png":{
       
      }
     },
     "output_type":"display_data"
    }
   ],
   "metadata":{
    "datalore":{
     "type":"CODE",
     "hide_input_from_viewers":false,
     "hide_output_from_viewers":false
    }
   }
  },
  {
   "cell_type":"code",
   "source":[
    "A=df.groupby('Year').mean()['BasePay']\n",
    "A.max()"
   ],
   "execution_count":19,
   "outputs":[
    {
     "data":{
      "text\/plain":[
       "76947.42682195277"
      ]
     },
     "metadata":{
      
     },
     "output_type":"display_data"
    }
   ],
   "metadata":{
    "datalore":{
     "type":"CODE",
     "hide_input_from_viewers":false,
     "hide_output_from_viewers":false
    }
   }
  },
  {
   "cell_type":"code",
   "source":[
    "df['JobTitle'].value_counts().head(5)"
   ],
   "execution_count":20,
   "outputs":[
    {
     "data":{
      "text\/html":[
       
      ]
     },
     "metadata":{
      
     },
     "output_type":"display_data"
    }
   ],
   "metadata":{
    "datalore":{
     "type":"CODE",
     "hide_input_from_viewers":false,
     "hide_output_from_viewers":false
    }
   }
  },
  {
   "cell_type":"code",
   "source":[
    "df.groupby('Year').nunique()['JobTitle']"
   ],
   "execution_count":21,
   "outputs":[
    {
     "data":{
      "text\/html":[
       
      ]
     },
     "metadata":{
      
     },
     "output_type":"display_data"
    }
   ],
   "metadata":{
    "datalore":{
     "type":"CODE",
     "hide_input_from_viewers":false,
     "hide_output_from_viewers":false
    }
   }
  },
  {
   "cell_type":"code",
   "source":[
    "df[df['Year']==2013]['JobTitle'].nunique()"
   ],
   "execution_count":22,
   "outputs":[
    {
     "data":{
      "text\/plain":[
       "1051"
      ]
     },
     "metadata":{
      
     },
     "output_type":"display_data"
    }
   ],
   "metadata":{
    "datalore":{
     "type":"CODE",
     "hide_input_from_viewers":false,
     "hide_output_from_viewers":false
    }
   }
  },
  {
   "cell_type":"code",
   "source":[
    "sum(df[df['Year']==2013]['JobTitle'].value_counts()==1)"
   ],
   "execution_count":23,
   "outputs":[
    {
     "data":{
      "text\/plain":[
       "202"
      ]
     },
     "metadata":{
      
     },
     "output_type":"display_data"
    }
   ],
   "metadata":{
    "datalore":{
     "type":"CODE",
     "hide_input_from_viewers":false,
     "hide_output_from_viewers":false
    }
   }
  },
  {
   "cell_type":"code",
   "source":[
    "def chief_string(title):\n",
    "    if 'chief' in title.lower():\n",
    "        return True\n",
    "    else:\n",
    "        return False\n",
    "sum(df['JobTitle'].apply(lambda x:chief_string(x)))"
   ],
   "execution_count":24,
   "outputs":[
    {
     "data":{
      "text\/plain":[
       "1236"
      ]
     },
     "metadata":{
      
     },
     "output_type":"display_data"
    }
   ],
   "metadata":{
    "datalore":{
     "type":"CODE",
     "hide_input_from_viewers":false,
     "hide_output_from_viewers":false
    }
   }
  }
 ],
 "metadata":{
  "datalore":{
   "version":1,
   "computation_mode":"JUPYTER",
   "package_manager":"pip",
   "base_environment":"default",
   "packages":[
    
   ]
  }
 },
 "nbformat":4,
 "nbformat_minor":4
}