{
 "cells": [
  {
   "cell_type": "code",
   "execution_count": 4,
   "id": "588c545d",
   "metadata": {},
   "outputs": [],
   "source": [
    "import pandas as pd\n",
    "import seaborn as sns\n",
    "import numpy as np\n",
    "import matplotlib.pyplot as plt\n",
    "import operator\n",
    "from collections import OrderedDict\n",
    "from sklearn import preprocessing\n",
    "from matplotlib.ticker import FuncFormatter\n",
    "from sklearn.model_selection import train_test_split\n",
    "from sklearn.ensemble import RandomForestRegressor\n",
    "from sklearn.metrics import mean_absolute_error"
   ]
  },
  {
   "cell_type": "code",
   "execution_count": 5,
   "id": "41364f38",
   "metadata": {},
   "outputs": [
    {
     "data": {
      "text/html": [
       "<div>\n",
       "<style scoped>\n",
       "    .dataframe tbody tr th:only-of-type {\n",
       "        vertical-align: middle;\n",
       "    }\n",
       "\n",
       "    .dataframe tbody tr th {\n",
       "        vertical-align: top;\n",
       "    }\n",
       "\n",
       "    .dataframe thead th {\n",
       "        text-align: right;\n",
       "    }\n",
       "</style>\n",
       "<table border=\"1\" class=\"dataframe\">\n",
       "  <thead>\n",
       "    <tr style=\"text-align: right;\">\n",
       "      <th></th>\n",
       "      <th>NAME</th>\n",
       "      <th>AGE</th>\n",
       "      <th>CONTRACT_START</th>\n",
       "      <th>CONTRACT_END</th>\n",
       "      <th>AVG_SALARY</th>\n",
       "    </tr>\n",
       "  </thead>\n",
       "  <tbody>\n",
       "    <tr>\n",
       "      <th>99</th>\n",
       "      <td>Kevin Durant</td>\n",
       "      <td>29</td>\n",
       "      <td>2018</td>\n",
       "      <td>2019</td>\n",
       "      <td>33599500</td>\n",
       "    </tr>\n",
       "    <tr>\n",
       "      <th>152</th>\n",
       "      <td>LeBron James</td>\n",
       "      <td>31</td>\n",
       "      <td>2016</td>\n",
       "      <td>2017</td>\n",
       "      <td>32124579</td>\n",
       "    </tr>\n",
       "    <tr>\n",
       "      <th>17</th>\n",
       "      <td>Kyle Lowry</td>\n",
       "      <td>31</td>\n",
       "      <td>2017</td>\n",
       "      <td>2019</td>\n",
       "      <td>31633333</td>\n",
       "    </tr>\n",
       "    <tr>\n",
       "      <th>116</th>\n",
       "      <td>Gordon Hayward</td>\n",
       "      <td>27</td>\n",
       "      <td>2017</td>\n",
       "      <td>2020</td>\n",
       "      <td>31214295</td>\n",
       "    </tr>\n",
       "    <tr>\n",
       "      <th>88</th>\n",
       "      <td>James Harden</td>\n",
       "      <td>26</td>\n",
       "      <td>2016</td>\n",
       "      <td>2019</td>\n",
       "      <td>30902124</td>\n",
       "    </tr>\n",
       "    <tr>\n",
       "      <th>71</th>\n",
       "      <td>Russell Westbrook</td>\n",
       "      <td>27</td>\n",
       "      <td>2016</td>\n",
       "      <td>2018</td>\n",
       "      <td>30168166</td>\n",
       "    </tr>\n",
       "    <tr>\n",
       "      <th>48</th>\n",
       "      <td>Paul Millsap</td>\n",
       "      <td>32</td>\n",
       "      <td>2017</td>\n",
       "      <td>2019</td>\n",
       "      <td>30116666</td>\n",
       "    </tr>\n",
       "    <tr>\n",
       "      <th>51</th>\n",
       "      <td>Al Horford</td>\n",
       "      <td>30</td>\n",
       "      <td>2016</td>\n",
       "      <td>2019</td>\n",
       "      <td>27800803</td>\n",
       "    </tr>\n",
       "    <tr>\n",
       "      <th>191</th>\n",
       "      <td>Kevin Durant</td>\n",
       "      <td>28</td>\n",
       "      <td>2017</td>\n",
       "      <td>2018</td>\n",
       "      <td>27500000</td>\n",
       "    </tr>\n",
       "    <tr>\n",
       "      <th>164</th>\n",
       "      <td>LeBron James</td>\n",
       "      <td>30</td>\n",
       "      <td>2015</td>\n",
       "      <td>2016</td>\n",
       "      <td>26966975</td>\n",
       "    </tr>\n",
       "  </tbody>\n",
       "</table>\n",
       "</div>"
      ],
      "text/plain": [
       "                  NAME  AGE  CONTRACT_START  CONTRACT_END  AVG_SALARY\n",
       "99        Kevin Durant   29            2018          2019    33599500\n",
       "152       LeBron James   31            2016          2017    32124579\n",
       "17          Kyle Lowry   31            2017          2019    31633333\n",
       "116     Gordon Hayward   27            2017          2020    31214295\n",
       "88        James Harden   26            2016          2019    30902124\n",
       "71   Russell Westbrook   27            2016          2018    30168166\n",
       "48        Paul Millsap   32            2017          2019    30116666\n",
       "51          Al Horford   30            2016          2019    27800803\n",
       "191       Kevin Durant   28            2017          2018    27500000\n",
       "164       LeBron James   30            2015          2016    26966975"
      ]
     },
     "execution_count": 5,
     "metadata": {},
     "output_type": "execute_result"
    }
   ],
   "source": [
    "all_contracts = pd.read_csv('https://raw.githubusercontent.com/benvictoria17/Finance/main/dataset/Current%20NBA%20Players%20Contracts%20History/nba_contracts_history.csv')\n",
    "all_contracts[\"AGE\"] = all_contracts[\"AGE\"].astype(int)\n",
    "all_contracts[\"AVG_SALARY\"] = all_contracts[\"AVG_SALARY\"].astype(int)\n",
    "pd.set_option('display.float_format', lambda x: '%.3f' % x)\n",
    "all_contracts.loc[:, [\"NAME\",\"AGE\", \"CONTRACT_START\", \"CONTRACT_END\", \"AVG_SALARY\"]].sort_values(by=\"AVG_SALARY\", ascending=False).head(10)"
   ]
  },
  {
   "cell_type": "code",
   "execution_count": 6,
   "id": "1c6c73b4",
   "metadata": {},
   "outputs": [
    {
     "data": {
      "text/html": [
       "<div>\n",
       "<style scoped>\n",
       "    .dataframe tbody tr th:only-of-type {\n",
       "        vertical-align: middle;\n",
       "    }\n",
       "\n",
       "    .dataframe tbody tr th {\n",
       "        vertical-align: top;\n",
       "    }\n",
       "\n",
       "    .dataframe thead th {\n",
       "        text-align: right;\n",
       "    }\n",
       "</style>\n",
       "<table border=\"1\" class=\"dataframe\">\n",
       "  <thead>\n",
       "    <tr style=\"text-align: right;\">\n",
       "      <th></th>\n",
       "      <th>NAME</th>\n",
       "      <th>AGE</th>\n",
       "      <th>CONTRACT_START</th>\n",
       "      <th>CONTRACT_END</th>\n",
       "      <th>AVG_SALARY</th>\n",
       "    </tr>\n",
       "  </thead>\n",
       "  <tbody>\n",
       "    <tr>\n",
       "      <th>99</th>\n",
       "      <td>Kevin Durant</td>\n",
       "      <td>29</td>\n",
       "      <td>2018</td>\n",
       "      <td>2019</td>\n",
       "      <td>33599500</td>\n",
       "    </tr>\n",
       "    <tr>\n",
       "      <th>152</th>\n",
       "      <td>LeBron James</td>\n",
       "      <td>31</td>\n",
       "      <td>2016</td>\n",
       "      <td>2017</td>\n",
       "      <td>32124579</td>\n",
       "    </tr>\n",
       "    <tr>\n",
       "      <th>17</th>\n",
       "      <td>Kyle Lowry</td>\n",
       "      <td>31</td>\n",
       "      <td>2017</td>\n",
       "      <td>2019</td>\n",
       "      <td>31633333</td>\n",
       "    </tr>\n",
       "    <tr>\n",
       "      <th>116</th>\n",
       "      <td>Gordon Hayward</td>\n",
       "      <td>27</td>\n",
       "      <td>2017</td>\n",
       "      <td>2020</td>\n",
       "      <td>31214295</td>\n",
       "    </tr>\n",
       "    <tr>\n",
       "      <th>88</th>\n",
       "      <td>James Harden</td>\n",
       "      <td>26</td>\n",
       "      <td>2016</td>\n",
       "      <td>2019</td>\n",
       "      <td>30902124</td>\n",
       "    </tr>\n",
       "    <tr>\n",
       "      <th>71</th>\n",
       "      <td>Russell Westbrook</td>\n",
       "      <td>27</td>\n",
       "      <td>2016</td>\n",
       "      <td>2018</td>\n",
       "      <td>30168166</td>\n",
       "    </tr>\n",
       "    <tr>\n",
       "      <th>48</th>\n",
       "      <td>Paul Millsap</td>\n",
       "      <td>32</td>\n",
       "      <td>2017</td>\n",
       "      <td>2019</td>\n",
       "      <td>30116666</td>\n",
       "    </tr>\n",
       "    <tr>\n",
       "      <th>51</th>\n",
       "      <td>Al Horford</td>\n",
       "      <td>30</td>\n",
       "      <td>2016</td>\n",
       "      <td>2019</td>\n",
       "      <td>27800803</td>\n",
       "    </tr>\n",
       "    <tr>\n",
       "      <th>191</th>\n",
       "      <td>Kevin Durant</td>\n",
       "      <td>28</td>\n",
       "      <td>2017</td>\n",
       "      <td>2018</td>\n",
       "      <td>27500000</td>\n",
       "    </tr>\n",
       "    <tr>\n",
       "      <th>164</th>\n",
       "      <td>LeBron James</td>\n",
       "      <td>30</td>\n",
       "      <td>2015</td>\n",
       "      <td>2016</td>\n",
       "      <td>26966975</td>\n",
       "    </tr>\n",
       "  </tbody>\n",
       "</table>\n",
       "</div>"
      ],
      "text/plain": [
       "                  NAME  AGE  CONTRACT_START  CONTRACT_END  AVG_SALARY\n",
       "99        Kevin Durant   29            2018          2019    33599500\n",
       "152       LeBron James   31            2016          2017    32124579\n",
       "17          Kyle Lowry   31            2017          2019    31633333\n",
       "116     Gordon Hayward   27            2017          2020    31214295\n",
       "88        James Harden   26            2016          2019    30902124\n",
       "71   Russell Westbrook   27            2016          2018    30168166\n",
       "48        Paul Millsap   32            2017          2019    30116666\n",
       "51          Al Horford   30            2016          2019    27800803\n",
       "191       Kevin Durant   28            2017          2018    27500000\n",
       "164       LeBron James   30            2015          2016    26966975"
      ]
     },
     "execution_count": 6,
     "metadata": {},
     "output_type": "execute_result"
    }
   ],
   "source": [
    "pd.set_option('display.float_format', lambda x: '%.3f' % x)\n",
    "all_contracts.loc[:, [\"NAME\",\"AGE\", \"CONTRACT_START\", \"CONTRACT_END\", \"AVG_SALARY\"]].sort_values(by=\"AVG_SALARY\", ascending=False).head(10)"
   ]
  },
  {
   "cell_type": "code",
   "execution_count": 7,
   "id": "8c150f56",
   "metadata": {},
   "outputs": [
    {
     "data": {
      "text/plain": [
       "Text(0.5, 0, 'Age')"
      ]
     },
     "execution_count": 7,
     "metadata": {},
     "output_type": "execute_result"
    },
    {
     "data": {
      "image/png": "[encoded data removed]",
      "text/plain": [
       "<Figure size 720x432 with 1 Axes>"
      ]
     },
     "metadata": {
      "needs_background": "light"
     },
     "output_type": "display_data"
    }
   ],
   "source": [
    "plt.figure(figsize=(10,6))\n",
    "plt.title(\"Average Salary, By Age\")\n",
    "\n",
    "sns.barplot(x=all_contracts.AGE, y=all_contracts['AVG_SALARY'], ci=None)\n",
    "\n",
    "plt.ylabel(\"Salary\")\n",
    "plt.xlabel(\"Age\")"
   ]
  },
  {
   "cell_type": "code",
   "execution_count": 8,
   "id": "3406cbd5",
   "metadata": {},
   "outputs": [
    {
     "data": {
      "text/plain": [
       "Text(0.5, 20.80000000000002, '+/-')"
      ]
     },
     "execution_count": 8,
     "metadata": {},
     "output_type": "execute_result"
    },
    {
     "data": {
      "image/png": "[encoded data removed]",
      "text/plain": [
       "<Figure size 720x360 with 1 Axes>"
      ]
     },
     "metadata": {
      "needs_background": "light"
     },
     "output_type": "display_data"
    }
   ],
   "source": [
    "sns.lmplot(x=\"+/-\", y=\"AVG_SALARY\", data=all_contracts,aspect=2)\n",
    "\n",
    "plt.ylabel(\"Salary\")\n",
    "plt.xlabel(\"+/-\")"
   ]
  },
  {
   "cell_type": "code",
   "execution_count": 9,
   "id": "cd7d0a28",
   "metadata": {},
   "outputs": [
    {
     "data": {
      "text/plain": [
       "<AxesSubplot:>"
      ]
     },
     "execution_count": 9,
     "metadata": {},
     "output_type": "execute_result"
    },
    {
     "data": {
      "image/png": "[encoded data removed]",
      "text/plain": [
       "<Figure size 792x648 with 2 Axes>"
      ]
     },
     "metadata": {
      "needs_background": "light"
     },
     "output_type": "display_data"
    }
   ],
   "source": [
    "player_stats = all_contracts.drop(columns=[\"NAME\", \"AGE\", \"CONTRACT_START\", \"CONTRACT_END\", \"GP\", \n",
    "                                           \"AVG_SALARY\", \"+/-\", \"FG%\", \"3P%\", \"FT%\", \"W\", \"L\"])\n",
    "stats_normalized = (player_stats-player_stats.mean()) / player_stats.std()\n",
    "\n",
    "corr = stats_normalized.corr()\n",
    "mask = np.triu(np.ones_like(corr, dtype=bool))\n",
    "f, ax = plt.subplots(figsize=(11, 9))\n",
    "cmap = sns.diverging_palette(230, 20, as_cmap=True)\n",
    "\n",
    "sns.heatmap(corr, mask=mask, cmap=cmap, center=0,\n",
    "            square=True, linewidths=.5, cbar_kws={\"shrink\": .5})"
   ]
  },
  {
   "cell_type": "code",
   "execution_count": 10,
   "id": "ddb21e95",
   "metadata": {},
   "outputs": [],
   "source": [
    "all_contracts_clean = all_contracts.drop(columns=[\"NAME\", \"CONTRACT_START\", \"CONTRACT_END\"])\n",
    "\n",
    "X_full = all_contracts_clean[:139]\n",
    "X_test_full = all_contracts_clean[140:]\n",
    "\n",
    "y = X_full.AVG_SALARY\n",
    "X = X_full.drop(columns=[\"AVG_SALARY\"])\n",
    "\n",
    "y_test = X_test_full.AVG_SALARY\n",
    "X_test = X_test_full.drop(columns=[\"AVG_SALARY\"])\n",
    "\n",
    "\n",
    "X = X.select_dtypes(exclude=['object'])\n",
    "X_test = X_test.select_dtypes(exclude=['object'])\n",
    "\n",
    "X_train, X_valid, y_train, y_valid = train_test_split(X, y, train_size=0.9, test_size=0.1,\n",
    "                                                      random_state=0)"
   ]
  },
  {
   "cell_type": "code",
   "execution_count": 12,
   "id": "4cce0daa",
   "metadata": {},
   "outputs": [
    {
     "name": "stdout",
     "output_type": "stream",
     "text": [
      "Validation MAE for Random Forest Model: 1674772.883571429\n"
     ]
    }
   ],
   "source": [
    "model = RandomForestRegressor(random_state=1)\n",
    "model.fit(X_train, y_train)\n",
    "contracts_preds = model.predict(X_valid)\n",
    "print(f\"Validation MAE for Random Forest Model: {mean_absolute_error(y_valid, contracts_preds)}\")"
   ]
  },
  {
   "cell_type": "code",
   "execution_count": 13,
   "id": "661ddb2c",
   "metadata": {},
   "outputs": [
    {
     "name": "stdout",
     "output_type": "stream",
     "text": [
      "PTS - Score: 0.184\n",
      "FTM - Score: 0.182\n",
      "FTA - Score: 0.157\n",
      "FGM - Score: 0.089\n",
      "+/- - Score: 0.078\n",
      "DREB - Score: 0.042\n",
      "L - Score: 0.041\n",
      "FGA - Score: 0.035\n",
      "TOV - Score: 0.024\n",
      "AGE - Score: 0.022\n",
      "BLK - Score: 0.019\n",
      "3P% - Score: 0.015\n",
      "W - Score: 0.013\n",
      "REB - Score: 0.012\n",
      "AST - Score: 0.012\n",
      "MIN - Score: 0.011\n",
      "GP - Score: 0.011\n",
      "3PA - Score: 0.008\n",
      "FG% - Score: 0.008\n",
      "STL - Score: 0.008\n",
      "FT% - Score: 0.007\n",
      "3PM - Score: 0.007\n",
      "PF - Score: 0.007\n",
      "OREB - Score: 0.006\n"
     ]
    }
   ],
   "source": [
    "importance = model.feature_importances_\n",
    "columns_names = list(X.columns)\n",
    "importance_sorted_list = sorted(zip(importance ,columns_names), reverse=True)\n",
    "for v in (importance_sorted_list):\n",
    "    print(f\"{v[1]} - Score: {round(v[0], 3)}\")"
   ]
  },
  {
   "cell_type": "code",
   "execution_count": null,
   "id": "f41d611a",
   "metadata": {},
   "outputs": [],
   "source": []
  }
 ],
 "metadata": {
  "kernelspec": {
   "display_name": "Python 3",
   "language": "python",
   "name": "python3"
  },
  "language_info": {
   "codemirror_mode": {
    "name": "ipython",
    "version": 3
   },
   "file_extension": ".py",
   "mimetype": "text/x-python",
   "name": "python",
   "nbconvert_exporter": "python",
   "pygments_lexer": "ipython3",
   "version": "3.9.5"
  }
 },
 "nbformat": 4,
 "nbformat_minor": 5
}
