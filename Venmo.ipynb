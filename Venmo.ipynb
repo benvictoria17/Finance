{
  "nbformat": 4,
  "nbformat_minor": 0,
  "metadata": {
    "colab": {
      "name": "Venmo",
      "provenance": [],
      "authorship_tag": "ABX9TyMokH0GPCb5Qc5w+iI8aC8R",
      "include_colab_link": true
    },
    "kernelspec": {
      "name": "python3",
      "display_name": "Python 3"
    }
  },
  "cells": [
    {
      "cell_type": "markdown",
      "metadata": {
        "id": "view-in-github",
        "colab_type": "text"
      },
      "source": [
        "<a href=\"https://colab.research.google.com/github/benvictoria21/python-panda/blob/master/Venmo.ipynb\" target=\"_parent\"><img src=\"https://colab.research.google.com/assets/colab-badge.svg\" alt=\"Open In Colab\"/></a>"
      ]
    },
    {
      "cell_type": "code",
      "metadata": {
        "id": "h-Dv1TgpSQzT",
        "colab_type": "code",
        "colab": {}
      },
      "source": [
        "import pandas as pd\n",
        "import numpy as np\n",
        "import matplotlib.pyplot as plt"
      ],
      "execution_count": 1,
      "outputs": []
    },
    {
      "cell_type": "code",
      "metadata": {
        "id": "3qAC3_REPevG",
        "colab_type": "code",
        "colab": {
          "base_uri": "https://localhost:8080/",
          "height": 1000
        },
        "outputId": "a9c7c5f5-f121-4e6f-e59a-6eb9f19c7e37"
      },
      "source": [
        "Venmo = pd.read_csv(\"https://raw.githubusercontent.com/benvictoria21/python-panda/master/python%20pandas%20data/Venmodata.csv\")\n",
        "\n",
        "Venmo"
      ],
      "execution_count": 2,
      "outputs": [
        {
          "output_type": "execute_result",
          "data": {
            "text/html": [
              "<div>\n",
              "<style scoped>\n",
              "    .dataframe tbody tr th:only-of-type {\n",
              "        vertical-align: middle;\n",
              "    }\n",
              "\n",
              "    .dataframe tbody tr th {\n",
              "        vertical-align: top;\n",
              "    }\n",
              "\n",
              "    .dataframe thead th {\n",
              "        text-align: right;\n",
              "    }\n",
              "</style>\n",
              "<table border=\"1\" class=\"dataframe\">\n",
              "  <thead>\n",
              "    <tr style=\"text-align: right;\">\n",
              "      <th></th>\n",
              "      <th>Category: All categories</th>\n",
              "    </tr>\n",
              "  </thead>\n",
              "  <tbody>\n",
              "    <tr>\n",
              "      <th>Region</th>\n",
              "      <td>Venmo: (8/13/19 - 8/13/20)</td>\n",
              "    </tr>\n",
              "    <tr>\n",
              "      <th>Utah</th>\n",
              "      <td>100</td>\n",
              "    </tr>\n",
              "    <tr>\n",
              "      <th>Hawaii</th>\n",
              "      <td>75</td>\n",
              "    </tr>\n",
              "    <tr>\n",
              "      <th>Massachusetts</th>\n",
              "      <td>70</td>\n",
              "    </tr>\n",
              "    <tr>\n",
              "      <th>Colorado</th>\n",
              "      <td>67</td>\n",
              "    </tr>\n",
              "    <tr>\n",
              "      <th>California</th>\n",
              "      <td>66</td>\n",
              "    </tr>\n",
              "    <tr>\n",
              "      <th>New Hampshire</th>\n",
              "      <td>65</td>\n",
              "    </tr>\n",
              "    <tr>\n",
              "      <th>Vermont</th>\n",
              "      <td>65</td>\n",
              "    </tr>\n",
              "    <tr>\n",
              "      <th>Idaho</th>\n",
              "      <td>62</td>\n",
              "    </tr>\n",
              "    <tr>\n",
              "      <th>Maine</th>\n",
              "      <td>59</td>\n",
              "    </tr>\n",
              "    <tr>\n",
              "      <th>Iowa</th>\n",
              "      <td>58</td>\n",
              "    </tr>\n",
              "    <tr>\n",
              "      <th>Connecticut</th>\n",
              "      <td>58</td>\n",
              "    </tr>\n",
              "    <tr>\n",
              "      <th>Montana</th>\n",
              "      <td>58</td>\n",
              "    </tr>\n",
              "    <tr>\n",
              "      <th>District of Columbia</th>\n",
              "      <td>56</td>\n",
              "    </tr>\n",
              "    <tr>\n",
              "      <th>Rhode Island</th>\n",
              "      <td>55</td>\n",
              "    </tr>\n",
              "    <tr>\n",
              "      <th>New Jersey</th>\n",
              "      <td>55</td>\n",
              "    </tr>\n",
              "    <tr>\n",
              "      <th>Nebraska</th>\n",
              "      <td>55</td>\n",
              "    </tr>\n",
              "    <tr>\n",
              "      <th>Oregon</th>\n",
              "      <td>55</td>\n",
              "    </tr>\n",
              "    <tr>\n",
              "      <th>Minnesota</th>\n",
              "      <td>54</td>\n",
              "    </tr>\n",
              "    <tr>\n",
              "      <th>Washington</th>\n",
              "      <td>54</td>\n",
              "    </tr>\n",
              "    <tr>\n",
              "      <th>New York</th>\n",
              "      <td>52</td>\n",
              "    </tr>\n",
              "    <tr>\n",
              "      <th>Pennsylvania</th>\n",
              "      <td>51</td>\n",
              "    </tr>\n",
              "    <tr>\n",
              "      <th>Nevada</th>\n",
              "      <td>50</td>\n",
              "    </tr>\n",
              "    <tr>\n",
              "      <th>Louisiana</th>\n",
              "      <td>50</td>\n",
              "    </tr>\n",
              "    <tr>\n",
              "      <th>Delaware</th>\n",
              "      <td>49</td>\n",
              "    </tr>\n",
              "    <tr>\n",
              "      <th>Missouri</th>\n",
              "      <td>48</td>\n",
              "    </tr>\n",
              "    <tr>\n",
              "      <th>North Dakota</th>\n",
              "      <td>47</td>\n",
              "    </tr>\n",
              "    <tr>\n",
              "      <th>Wyoming</th>\n",
              "      <td>47</td>\n",
              "    </tr>\n",
              "    <tr>\n",
              "      <th>Kansas</th>\n",
              "      <td>47</td>\n",
              "    </tr>\n",
              "    <tr>\n",
              "      <th>Tennessee</th>\n",
              "      <td>47</td>\n",
              "    </tr>\n",
              "    <tr>\n",
              "      <th>Arizona</th>\n",
              "      <td>46</td>\n",
              "    </tr>\n",
              "    <tr>\n",
              "      <th>South Dakota</th>\n",
              "      <td>45</td>\n",
              "    </tr>\n",
              "    <tr>\n",
              "      <th>Virginia</th>\n",
              "      <td>45</td>\n",
              "    </tr>\n",
              "    <tr>\n",
              "      <th>Alabama</th>\n",
              "      <td>45</td>\n",
              "    </tr>\n",
              "    <tr>\n",
              "      <th>Maryland</th>\n",
              "      <td>45</td>\n",
              "    </tr>\n",
              "    <tr>\n",
              "      <th>South Carolina</th>\n",
              "      <td>44</td>\n",
              "    </tr>\n",
              "    <tr>\n",
              "      <th>Ohio</th>\n",
              "      <td>43</td>\n",
              "    </tr>\n",
              "    <tr>\n",
              "      <th>Georgia</th>\n",
              "      <td>43</td>\n",
              "    </tr>\n",
              "    <tr>\n",
              "      <th>Texas</th>\n",
              "      <td>43</td>\n",
              "    </tr>\n",
              "    <tr>\n",
              "      <th>Wisconsin</th>\n",
              "      <td>43</td>\n",
              "    </tr>\n",
              "    <tr>\n",
              "      <th>Michigan</th>\n",
              "      <td>42</td>\n",
              "    </tr>\n",
              "    <tr>\n",
              "      <th>North Carolina</th>\n",
              "      <td>42</td>\n",
              "    </tr>\n",
              "    <tr>\n",
              "      <th>Alaska</th>\n",
              "      <td>42</td>\n",
              "    </tr>\n",
              "    <tr>\n",
              "      <th>Kentucky</th>\n",
              "      <td>41</td>\n",
              "    </tr>\n",
              "    <tr>\n",
              "      <th>Illinois</th>\n",
              "      <td>40</td>\n",
              "    </tr>\n",
              "    <tr>\n",
              "      <th>Indiana</th>\n",
              "      <td>39</td>\n",
              "    </tr>\n",
              "    <tr>\n",
              "      <th>Oklahoma</th>\n",
              "      <td>38</td>\n",
              "    </tr>\n",
              "    <tr>\n",
              "      <th>Florida</th>\n",
              "      <td>38</td>\n",
              "    </tr>\n",
              "    <tr>\n",
              "      <th>New Mexico</th>\n",
              "      <td>36</td>\n",
              "    </tr>\n",
              "    <tr>\n",
              "      <th>Mississippi</th>\n",
              "      <td>36</td>\n",
              "    </tr>\n",
              "    <tr>\n",
              "      <th>Arkansas</th>\n",
              "      <td>31</td>\n",
              "    </tr>\n",
              "    <tr>\n",
              "      <th>West Virginia</th>\n",
              "      <td>30</td>\n",
              "    </tr>\n",
              "  </tbody>\n",
              "</table>\n",
              "</div>"
            ],
            "text/plain": [
              "                        Category: All categories\n",
              "Region                Venmo: (8/13/19 - 8/13/20)\n",
              "Utah                                         100\n",
              "Hawaii                                        75\n",
              "Massachusetts                                 70\n",
              "Colorado                                      67\n",
              "California                                    66\n",
              "New Hampshire                                 65\n",
              "Vermont                                       65\n",
              "Idaho                                         62\n",
              "Maine                                         59\n",
              "Iowa                                          58\n",
              "Connecticut                                   58\n",
              "Montana                                       58\n",
              "District of Columbia                          56\n",
              "Rhode Island                                  55\n",
              "New Jersey                                    55\n",
              "Nebraska                                      55\n",
              "Oregon                                        55\n",
              "Minnesota                                     54\n",
              "Washington                                    54\n",
              "New York                                      52\n",
              "Pennsylvania                                  51\n",
              "Nevada                                        50\n",
              "Louisiana                                     50\n",
              "Delaware                                      49\n",
              "Missouri                                      48\n",
              "North Dakota                                  47\n",
              "Wyoming                                       47\n",
              "Kansas                                        47\n",
              "Tennessee                                     47\n",
              "Arizona                                       46\n",
              "South Dakota                                  45\n",
              "Virginia                                      45\n",
              "Alabama                                       45\n",
              "Maryland                                      45\n",
              "South Carolina                                44\n",
              "Ohio                                          43\n",
              "Georgia                                       43\n",
              "Texas                                         43\n",
              "Wisconsin                                     43\n",
              "Michigan                                      42\n",
              "North Carolina                                42\n",
              "Alaska                                        42\n",
              "Kentucky                                      41\n",
              "Illinois                                      40\n",
              "Indiana                                       39\n",
              "Oklahoma                                      38\n",
              "Florida                                       38\n",
              "New Mexico                                    36\n",
              "Mississippi                                   36\n",
              "Arkansas                                      31\n",
              "West Virginia                                 30"
            ]
          },
          "metadata": {
            "tags": []
          },
          "execution_count": 2
        }
      ]
    },
    {
      "cell_type": "code",
      "metadata": {
        "id": "W6RvJ-vPSVRV",
        "colab_type": "code",
        "colab": {
          "base_uri": "https://localhost:8080/",
          "height": 198
        },
        "outputId": "737d4693-a44f-4eaf-d639-ef398549478b"
      },
      "source": [
        "Venmo.head()"
      ],
      "execution_count": 3,
      "outputs": [
        {
          "output_type": "execute_result",
          "data": {
            "text/html": [
              "<div>\n",
              "<style scoped>\n",
              "    .dataframe tbody tr th:only-of-type {\n",
              "        vertical-align: middle;\n",
              "    }\n",
              "\n",
              "    .dataframe tbody tr th {\n",
              "        vertical-align: top;\n",
              "    }\n",
              "\n",
              "    .dataframe thead th {\n",
              "        text-align: right;\n",
              "    }\n",
              "</style>\n",
              "<table border=\"1\" class=\"dataframe\">\n",
              "  <thead>\n",
              "    <tr style=\"text-align: right;\">\n",
              "      <th></th>\n",
              "      <th>Category: All categories</th>\n",
              "    </tr>\n",
              "  </thead>\n",
              "  <tbody>\n",
              "    <tr>\n",
              "      <th>Region</th>\n",
              "      <td>Venmo: (8/13/19 - 8/13/20)</td>\n",
              "    </tr>\n",
              "    <tr>\n",
              "      <th>Utah</th>\n",
              "      <td>100</td>\n",
              "    </tr>\n",
              "    <tr>\n",
              "      <th>Hawaii</th>\n",
              "      <td>75</td>\n",
              "    </tr>\n",
              "    <tr>\n",
              "      <th>Massachusetts</th>\n",
              "      <td>70</td>\n",
              "    </tr>\n",
              "    <tr>\n",
              "      <th>Colorado</th>\n",
              "      <td>67</td>\n",
              "    </tr>\n",
              "  </tbody>\n",
              "</table>\n",
              "</div>"
            ],
            "text/plain": [
              "                 Category: All categories\n",
              "Region         Venmo: (8/13/19 - 8/13/20)\n",
              "Utah                                  100\n",
              "Hawaii                                 75\n",
              "Massachusetts                          70\n",
              "Colorado                               67"
            ]
          },
          "metadata": {
            "tags": []
          },
          "execution_count": 3
        }
      ]
    },
    {
      "cell_type": "code",
      "metadata": {
        "id": "G7hvGROBTY87",
        "colab_type": "code",
        "colab": {
          "base_uri": "https://localhost:8080/",
          "height": 198
        },
        "outputId": "6987a757-4e96-446c-d93a-a75fe818de40"
      },
      "source": [
        "Venmo.tail()"
      ],
      "execution_count": 4,
      "outputs": [
        {
          "output_type": "execute_result",
          "data": {
            "text/html": [
              "<div>\n",
              "<style scoped>\n",
              "    .dataframe tbody tr th:only-of-type {\n",
              "        vertical-align: middle;\n",
              "    }\n",
              "\n",
              "    .dataframe tbody tr th {\n",
              "        vertical-align: top;\n",
              "    }\n",
              "\n",
              "    .dataframe thead th {\n",
              "        text-align: right;\n",
              "    }\n",
              "</style>\n",
              "<table border=\"1\" class=\"dataframe\">\n",
              "  <thead>\n",
              "    <tr style=\"text-align: right;\">\n",
              "      <th></th>\n",
              "      <th>Category: All categories</th>\n",
              "    </tr>\n",
              "  </thead>\n",
              "  <tbody>\n",
              "    <tr>\n",
              "      <th>Florida</th>\n",
              "      <td>38</td>\n",
              "    </tr>\n",
              "    <tr>\n",
              "      <th>New Mexico</th>\n",
              "      <td>36</td>\n",
              "    </tr>\n",
              "    <tr>\n",
              "      <th>Mississippi</th>\n",
              "      <td>36</td>\n",
              "    </tr>\n",
              "    <tr>\n",
              "      <th>Arkansas</th>\n",
              "      <td>31</td>\n",
              "    </tr>\n",
              "    <tr>\n",
              "      <th>West Virginia</th>\n",
              "      <td>30</td>\n",
              "    </tr>\n",
              "  </tbody>\n",
              "</table>\n",
              "</div>"
            ],
            "text/plain": [
              "              Category: All categories\n",
              "Florida                             38\n",
              "New Mexico                          36\n",
              "Mississippi                         36\n",
              "Arkansas                            31\n",
              "West Virginia                       30"
            ]
          },
          "metadata": {
            "tags": []
          },
          "execution_count": 4
        }
      ]
    },
    {
      "cell_type": "code",
      "metadata": {
        "id": "qt5ZTwYFBJJM",
        "colab_type": "code",
        "colab": {
          "base_uri": "https://localhost:8080/",
          "height": 168
        },
        "outputId": "a5afd6ed-ca06-4145-e7c0-438e7854872f"
      },
      "source": [
        "Venmo.describe()"
      ],
      "execution_count": 5,
      "outputs": [
        {
          "output_type": "execute_result",
          "data": {
            "text/html": [
              "<div>\n",
              "<style scoped>\n",
              "    .dataframe tbody tr th:only-of-type {\n",
              "        vertical-align: middle;\n",
              "    }\n",
              "\n",
              "    .dataframe tbody tr th {\n",
              "        vertical-align: top;\n",
              "    }\n",
              "\n",
              "    .dataframe thead th {\n",
              "        text-align: right;\n",
              "    }\n",
              "</style>\n",
              "<table border=\"1\" class=\"dataframe\">\n",
              "  <thead>\n",
              "    <tr style=\"text-align: right;\">\n",
              "      <th></th>\n",
              "      <th>Category: All categories</th>\n",
              "    </tr>\n",
              "  </thead>\n",
              "  <tbody>\n",
              "    <tr>\n",
              "      <th>count</th>\n",
              "      <td>52</td>\n",
              "    </tr>\n",
              "    <tr>\n",
              "      <th>unique</th>\n",
              "      <td>31</td>\n",
              "    </tr>\n",
              "    <tr>\n",
              "      <th>top</th>\n",
              "      <td>43</td>\n",
              "    </tr>\n",
              "    <tr>\n",
              "      <th>freq</th>\n",
              "      <td>4</td>\n",
              "    </tr>\n",
              "  </tbody>\n",
              "</table>\n",
              "</div>"
            ],
            "text/plain": [
              "       Category: All categories\n",
              "count                        52\n",
              "unique                       31\n",
              "top                          43\n",
              "freq                          4"
            ]
          },
          "metadata": {
            "tags": []
          },
          "execution_count": 5
        }
      ]
    },
    {
      "cell_type": "code",
      "metadata": {
        "id": "JZoWbyrpTZBh",
        "colab_type": "code",
        "colab": {}
      },
      "source": [
        "import sqlite3"
      ],
      "execution_count": 6,
      "outputs": []
    },
    {
      "cell_type": "code",
      "metadata": {
        "id": "XS6mMWhhTZEL",
        "colab_type": "code",
        "colab": {}
      },
      "source": [
        "conn = sqlite3.connect(\"Venmo.db\")\n",
        "c = conn.cursor()"
      ],
      "execution_count": 7,
      "outputs": []
    },
    {
      "cell_type": "code",
      "metadata": {
        "id": "gZGMcQDaTZHB",
        "colab_type": "code",
        "colab": {}
      },
      "source": [
        "conn = sqlite3.connect(\"Venmo.db\")\n",
        "c = conn.cursor()"
      ],
      "execution_count": 8,
      "outputs": []
    },
    {
      "cell_type": "code",
      "metadata": {
        "id": "aiUo0pDyTZLC",
        "colab_type": "code",
        "colab": {
          "base_uri": "https://localhost:8080/",
          "height": 72
        },
        "outputId": "94962b70-ba8b-4870-9705-949868370f81"
      },
      "source": [
        "Venmo.to_sql(\"Venmo\", conn, if_exists='replace')"
      ],
      "execution_count": 9,
      "outputs": [
        {
          "output_type": "stream",
          "text": [
            "/usr/local/lib/python3.6/dist-packages/pandas/core/generic.py:2663: UserWarning: The spaces in these column names will not be changed. In pandas versions < 0.14, spaces were converted to underscores.\n",
            "  method=method,\n"
          ],
          "name": "stderr"
        }
      ]
    },
    {
      "cell_type": "code",
      "metadata": {
        "id": "ikrPM5BRTwvY",
        "colab_type": "code",
        "colab": {
          "base_uri": "https://localhost:8080/",
          "height": 915
        },
        "outputId": "4d6752c5-a096-4d27-8dca-59450b026036"
      },
      "source": [
        "#See data\n",
        "c.execute(\"\"\"SELECT * FROM Venmo\"\"\")\n",
        "rows = c.fetchall()\n",
        "rows"
      ],
      "execution_count": 10,
      "outputs": [
        {
          "output_type": "execute_result",
          "data": {
            "text/plain": [
              "[('Region', 'Venmo: (8/13/19 - 8/13/20)'),\n",
              " ('Utah', '100'),\n",
              " ('Hawaii', '75'),\n",
              " ('Massachusetts', '70'),\n",
              " ('Colorado', '67'),\n",
              " ('California', '66'),\n",
              " ('New Hampshire', '65'),\n",
              " ('Vermont', '65'),\n",
              " ('Idaho', '62'),\n",
              " ('Maine', '59'),\n",
              " ('Iowa', '58'),\n",
              " ('Connecticut', '58'),\n",
              " ('Montana', '58'),\n",
              " ('District of Columbia', '56'),\n",
              " ('Rhode Island', '55'),\n",
              " ('New Jersey', '55'),\n",
              " ('Nebraska', '55'),\n",
              " ('Oregon', '55'),\n",
              " ('Minnesota', '54'),\n",
              " ('Washington', '54'),\n",
              " ('New York', '52'),\n",
              " ('Pennsylvania', '51'),\n",
              " ('Nevada', '50'),\n",
              " ('Louisiana', '50'),\n",
              " ('Delaware', '49'),\n",
              " ('Missouri', '48'),\n",
              " ('North Dakota', '47'),\n",
              " ('Wyoming', '47'),\n",
              " ('Kansas', '47'),\n",
              " ('Tennessee', '47'),\n",
              " ('Arizona', '46'),\n",
              " ('South Dakota', '45'),\n",
              " ('Virginia', '45'),\n",
              " ('Alabama', '45'),\n",
              " ('Maryland', '45'),\n",
              " ('South Carolina', '44'),\n",
              " ('Ohio', '43'),\n",
              " ('Georgia', '43'),\n",
              " ('Texas', '43'),\n",
              " ('Wisconsin', '43'),\n",
              " ('Michigan', '42'),\n",
              " ('North Carolina', '42'),\n",
              " ('Alaska', '42'),\n",
              " ('Kentucky', '41'),\n",
              " ('Illinois', '40'),\n",
              " ('Indiana', '39'),\n",
              " ('Oklahoma', '38'),\n",
              " ('Florida', '38'),\n",
              " ('New Mexico', '36'),\n",
              " ('Mississippi', '36'),\n",
              " ('Arkansas', '31'),\n",
              " ('West Virginia', '30')]"
            ]
          },
          "metadata": {
            "tags": []
          },
          "execution_count": 10
        }
      ]
    },
    {
      "cell_type": "code",
      "metadata": {
        "id": "AMj4frwuVW5d",
        "colab_type": "code",
        "colab": {
          "base_uri": "https://localhost:8080/",
          "height": 505
        },
        "outputId": "62aa2fc3-ec9c-4054-f0aa-90b1402b8915"
      },
      "source": [
        "x = [0,1,2,3,4]\n",
        "y = [0,2,4,6,8]\n",
        "\n",
        "# Resize your Graph (dpi specifies pixels per inch. When saving probably should use 300 if possible)\n",
        "plt.figure(figsize=(8,5), dpi=100)\n",
        "\n",
        "# Line 1\n",
        "\n",
        "# Keyword Argument Notation\n",
        "#plt.plot(x,y, label='2x', color='red', linewidth=2, marker='.', linestyle='--', markersize=10, markeredgecolor='blue')\n",
        "\n",
        "# Shorthand notation\n",
        "# fmt = '[color][marker][line]'\n",
        "plt.plot(x,y, 'b^--', label='2x')\n",
        "\n",
        "## Line 2\n",
        "\n",
        "# select interval we want to plot points at\n",
        "x2 = np.arange(0,4.5,0.5)\n",
        "\n",
        "# Plot part of the graph as line\n",
        "plt.plot(x2[:6], x2[:6]**2, 'r', label='X^2')\n",
        "\n",
        "# Plot remainder of graph as a dot\n",
        "plt.plot(x2[5:], x2[5:]**2, 'r--')\n",
        "\n",
        "# Add a title (specify font parameters with fontdict)\n",
        "plt.title('Venmo', fontdict={'fontname': 'Comic Sans MS', 'fontsize': 20})\n",
        "\n",
        "# X and Y labels\n",
        "plt.xlabel('Venmo')\n",
        "\n",
        "# X, Y axis Tickmarks (scale of your graph)\n",
        "plt.xticks([0,1,2,3,4,])\n",
        "#plt.yticks([0,2,4,6,8,10])\n",
        "\n",
        "# Add a legend\n",
        "plt.legend()\n",
        "\n",
        "# Save figure (dpi 300 is good when saving so graph has high resolution)\n",
        "plt.savefig('mygraph.png', dpi=300)\n",
        "\n",
        "# Show plot\n",
        "plt.show()"
      ],
      "execution_count": 11,
      "outputs": [
        {
          "output_type": "stream",
          "text": [
            "findfont: Font family ['Comic Sans MS'] not found. Falling back to DejaVu Sans.\n"
          ],
          "name": "stderr"
        },
        {
          "output_type": "display_data",
          "data": {
            "image/png": "[encoded data removed]",
            "text/plain": [
              "<Figure size 800x500 with 1 Axes>"
            ]
          },
          "metadata": {
            "tags": [],
            "needs_background": "light"
          }
        }
      ]
    },
    {
      "cell_type": "code",
      "metadata": {
        "id": "9BF77NCoVkeM",
        "colab_type": "code",
        "colab": {
          "base_uri": "https://localhost:8080/",
          "height": 287
        },
        "outputId": "6f61e87a-ded6-47c4-b545-2755b179cb30"
      },
      "source": [
        "labels = ['A', 'B', 'C']\n",
        "values = [1,4,2]\n",
        "\n",
        "plt.figure(figsize=(5,3), dpi=100)\n",
        "\n",
        "bars = plt.bar(labels, values)\n",
        "\n",
        "patterns = ['/', 'O', '*']\n",
        "for bar in bars:\n",
        "    bar.set_hatch(patterns.pop(0))\n",
        "\n",
        "plt.savefig('barchart.png', dpi=300)\n",
        "\n",
        "plt.show()"
      ],
      "execution_count": 12,
      "outputs": [
        {
          "output_type": "display_data",
          "data": {
            "image/png": "[encoded data removed]",
            "text/plain": [
              "<Figure size 500x300 with 1 Axes>"
            ]
          },
          "metadata": {
            "tags": [],
            "needs_background": "light"
          }
        }
      ]
    }
  ]
}