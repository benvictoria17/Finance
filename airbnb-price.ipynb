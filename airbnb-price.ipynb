{
 "cells": [
  {
   "cell_type": "code",
   "execution_count": 1,
   "metadata": {
    "_cell_guid": "b1076dfc-b9ad-4769-8c92-a6c4dae69d19",
    "_uuid": "8f2839f25d086af736a60e9eeb907d3b93b6e0e5",
    "execution": {
     "iopub.execute_input": "2021-03-25T05:23:19.155607Z",
     "iopub.status.busy": "2021-03-25T05:23:19.154966Z",
     "iopub.status.idle": "2021-03-25T05:23:20.615301Z",
     "shell.execute_reply": "2021-03-25T05:23:20.615948Z"
    },
    "papermill": {
     "duration": 1.478662,
     "end_time": "2021-03-25T05:23:20.616516",
     "exception": false,
     "start_time": "2021-03-25T05:23:19.137854",
     "status": "completed"
    },
    "tags": []
   },
   "outputs": [],
   "source": [
    "import pandas as pd \n",
    "import numpy as np \n",
    "import matplotlib.pyplot as plt \n",
    "import seaborn as sns "
   ]
  },
  {
   "cell_type": "code",
   "execution_count": 2,
   "metadata": {
    "execution": {
     "iopub.execute_input": "2021-03-25T05:23:20.639068Z",
     "iopub.status.busy": "2021-03-25T05:23:20.638397Z",
     "iopub.status.idle": "2021-03-25T05:23:22.415554Z",
     "shell.execute_reply": "2021-03-25T05:23:22.416031Z"
    },
    "papermill": {
     "duration": 1.791499,
     "end_time": "2021-03-25T05:23:22.416205",
     "exception": false,
     "start_time": "2021-03-25T05:23:20.624706",
     "status": "completed"
    },
    "tags": []
   },
   "outputs": [
    {
     "data": {
      "text/plain": [
       "object     62\n",
       "float64    17\n",
       "int64      13\n",
       "dtype: int64"
      ]
     },
     "execution_count": 2,
     "metadata": {},
     "output_type": "execute_result"
    }
   ],
   "source": [
    "listing = pd.read_csv(\"https://raw.githubusercontent.com/benvictoria17/DataVisualization/master/dataset/listings.csv\")\n",
    "listing.dtypes.value_counts()"
   ]
  },
  {
   "cell_type": "code",
   "execution_count": 3,
   "metadata": {
    "execution": {
     "iopub.execute_input": "2021-03-25T05:23:22.440862Z",
     "iopub.status.busy": "2021-03-25T05:23:22.439959Z",
     "iopub.status.idle": "2021-03-25T05:23:22.444643Z",
     "shell.execute_reply": "2021-03-25T05:23:22.445113Z"
    },
    "papermill": {
     "duration": 0.020934,
     "end_time": "2021-03-25T05:23:22.445283",
     "exception": false,
     "start_time": "2021-03-25T05:23:22.424349",
     "status": "completed"
    },
    "tags": []
   },
   "outputs": [
    {
     "data": {
      "text/plain": [
       "<bound method NDFrame.sample of 0        $85.00\n",
       "1       $150.00\n",
       "2       $975.00\n",
       "3       $100.00\n",
       "4       $450.00\n",
       "         ...   \n",
       "3813    $359.00\n",
       "3814     $79.00\n",
       "3815     $93.00\n",
       "3816     $99.00\n",
       "3817     $87.00\n",
       "Name: price, Length: 3818, dtype: object>"
      ]
     },
     "execution_count": 3,
     "metadata": {},
     "output_type": "execute_result"
    }
   ],
   "source": [
    "listing.price.sample"
   ]
  },
  {
   "cell_type": "code",
   "execution_count": 4,
   "metadata": {
    "execution": {
     "iopub.execute_input": "2021-03-25T05:23:22.468995Z",
     "iopub.status.busy": "2021-03-25T05:23:22.467950Z",
     "iopub.status.idle": "2021-03-25T05:23:22.473368Z",
     "shell.execute_reply": "2021-03-25T05:23:22.473907Z"
    },
    "papermill": {
     "duration": 0.020614,
     "end_time": "2021-03-25T05:23:22.474069",
     "exception": false,
     "start_time": "2021-03-25T05:23:22.453455",
     "status": "completed"
    },
    "tags": []
   },
   "outputs": [
    {
     "data": {
      "text/plain": [
       "Index(['id', 'listing_url', 'scrape_id', 'last_scraped', 'name', 'summary',\n",
       "       'space', 'description', 'experiences_offered', 'neighborhood_overview',\n",
       "       'notes', 'transit', 'thumbnail_url', 'medium_url', 'picture_url',\n",
       "       'xl_picture_url', 'host_id', 'host_url', 'host_name', 'host_since',\n",
       "       'host_location', 'host_about', 'host_response_time',\n",
       "       'host_response_rate', 'host_acceptance_rate', 'host_is_superhost',\n",
       "       'host_thumbnail_url', 'host_picture_url', 'host_neighbourhood',\n",
       "       'host_listings_count', 'host_total_listings_count',\n",
       "       'host_verifications', 'host_has_profile_pic', 'host_identity_verified',\n",
       "       'street', 'neighbourhood', 'neighbourhood_cleansed',\n",
       "       'neighbourhood_group_cleansed', 'city', 'state', 'zipcode', 'market',\n",
       "       'smart_location', 'country_code', 'country', 'latitude', 'longitude',\n",
       "       'is_location_exact', 'property_type', 'room_type', 'accommodates',\n",
       "       'bathrooms', 'bedrooms', 'beds', 'bed_type', 'amenities', 'square_feet',\n",
       "       'price', 'weekly_price', 'monthly_price', 'security_deposit',\n",
       "       'cleaning_fee', 'guests_included', 'extra_people', 'minimum_nights',\n",
       "       'maximum_nights', 'calendar_updated', 'has_availability',\n",
       "       'availability_30', 'availability_60', 'availability_90',\n",
       "       'availability_365', 'calendar_last_scraped', 'number_of_reviews',\n",
       "       'first_review', 'last_review', 'review_scores_rating',\n",
       "       'review_scores_accuracy', 'review_scores_cleanliness',\n",
       "       'review_scores_checkin', 'review_scores_communication',\n",
       "       'review_scores_location', 'review_scores_value', 'requires_license',\n",
       "       'license', 'jurisdiction_names', 'instant_bookable',\n",
       "       'cancellation_policy', 'require_guest_profile_picture',\n",
       "       'require_guest_phone_verification', 'calculated_host_listings_count',\n",
       "       'reviews_per_month'],\n",
       "      dtype='object')"
      ]
     },
     "execution_count": 4,
     "metadata": {},
     "output_type": "execute_result"
    }
   ],
   "source": [
    "listing.columns"
   ]
  },
  {
   "cell_type": "code",
   "execution_count": 5,
   "metadata": {
    "execution": {
     "iopub.execute_input": "2021-03-25T05:23:22.501778Z",
     "iopub.status.busy": "2021-03-25T05:23:22.500815Z",
     "iopub.status.idle": "2021-03-25T05:23:22.517373Z",
     "shell.execute_reply": "2021-03-25T05:23:22.516749Z"
    },
    "papermill": {
     "duration": 0.034119,
     "end_time": "2021-03-25T05:23:22.517500",
     "exception": false,
     "start_time": "2021-03-25T05:23:22.483381",
     "status": "completed"
    },
    "tags": []
   },
   "outputs": [
    {
     "data": {
      "text/html": [
       "<div>\n",
       "<style scoped>\n",
       "    .dataframe tbody tr th:only-of-type {\n",
       "        vertical-align: middle;\n",
       "    }\n",
       "\n",
       "    .dataframe tbody tr th {\n",
       "        vertical-align: top;\n",
       "    }\n",
       "\n",
       "    .dataframe thead th {\n",
       "        text-align: right;\n",
       "    }\n",
       "</style>\n",
       "<table border=\"1\" class=\"dataframe\">\n",
       "  <thead>\n",
       "    <tr style=\"text-align: right;\">\n",
       "      <th></th>\n",
       "      <th>neighbourhood</th>\n",
       "      <th>neighbourhood_cleansed</th>\n",
       "    </tr>\n",
       "  </thead>\n",
       "  <tbody>\n",
       "    <tr>\n",
       "      <th>0</th>\n",
       "      <td>Queen Anne</td>\n",
       "      <td>West Queen Anne</td>\n",
       "    </tr>\n",
       "    <tr>\n",
       "      <th>1</th>\n",
       "      <td>Queen Anne</td>\n",
       "      <td>West Queen Anne</td>\n",
       "    </tr>\n",
       "    <tr>\n",
       "      <th>2</th>\n",
       "      <td>Queen Anne</td>\n",
       "      <td>West Queen Anne</td>\n",
       "    </tr>\n",
       "    <tr>\n",
       "      <th>3</th>\n",
       "      <td>Queen Anne</td>\n",
       "      <td>West Queen Anne</td>\n",
       "    </tr>\n",
       "    <tr>\n",
       "      <th>4</th>\n",
       "      <td>Queen Anne</td>\n",
       "      <td>West Queen Anne</td>\n",
       "    </tr>\n",
       "    <tr>\n",
       "      <th>...</th>\n",
       "      <td>...</td>\n",
       "      <td>...</td>\n",
       "    </tr>\n",
       "    <tr>\n",
       "      <th>3813</th>\n",
       "      <td>Fremont</td>\n",
       "      <td>Fremont</td>\n",
       "    </tr>\n",
       "    <tr>\n",
       "      <th>3814</th>\n",
       "      <td>Portage Bay</td>\n",
       "      <td>Portage Bay</td>\n",
       "    </tr>\n",
       "    <tr>\n",
       "      <th>3815</th>\n",
       "      <td>NaN</td>\n",
       "      <td>Rainier Beach</td>\n",
       "    </tr>\n",
       "    <tr>\n",
       "      <th>3816</th>\n",
       "      <td>NaN</td>\n",
       "      <td>Madison Park</td>\n",
       "    </tr>\n",
       "    <tr>\n",
       "      <th>3817</th>\n",
       "      <td>Queen Anne</td>\n",
       "      <td>East Queen Anne</td>\n",
       "    </tr>\n",
       "  </tbody>\n",
       "</table>\n",
       "<p>3818 rows × 2 columns</p>\n",
       "</div>"
      ],
      "text/plain": [
       "     neighbourhood neighbourhood_cleansed\n",
       "0       Queen Anne        West Queen Anne\n",
       "1       Queen Anne        West Queen Anne\n",
       "2       Queen Anne        West Queen Anne\n",
       "3       Queen Anne        West Queen Anne\n",
       "4       Queen Anne        West Queen Anne\n",
       "...            ...                    ...\n",
       "3813       Fremont                Fremont\n",
       "3814   Portage Bay            Portage Bay\n",
       "3815           NaN          Rainier Beach\n",
       "3816           NaN           Madison Park\n",
       "3817    Queen Anne        East Queen Anne\n",
       "\n",
       "[3818 rows x 2 columns]"
      ]
     },
     "execution_count": 5,
     "metadata": {},
     "output_type": "execute_result"
    }
   ],
   "source": [
    "listing[[\"neighbourhood\",\"neighbourhood_cleansed\"]]"
   ]
  },
  {
   "cell_type": "code",
   "execution_count": 6,
   "metadata": {
    "execution": {
     "iopub.execute_input": "2021-03-25T05:23:22.565867Z",
     "iopub.status.busy": "2021-03-25T05:23:22.556667Z",
     "iopub.status.idle": "2021-03-25T05:23:22.847105Z",
     "shell.execute_reply": "2021-03-25T05:23:22.848180Z"
    },
    "papermill": {
     "duration": 0.32117,
     "end_time": "2021-03-25T05:23:22.848400",
     "exception": false,
     "start_time": "2021-03-25T05:23:22.527230",
     "status": "completed"
    },
    "tags": []
   },
   "outputs": [
    {
     "name": "stderr",
     "output_type": "stream",
     "text": [
      "/opt/conda/lib/python3.7/site-packages/seaborn/_decorators.py:43: FutureWarning: Pass the following variables as keyword args: x, y. From version 0.12, the only valid positional argument will be `data`, and passing other arguments without an explicit keyword will result in an error or misinterpretation.\n",
      "  FutureWarning\n"
     ]
    },
    {
     "data": {
      "image/png": "[encoded data removed]",
      "text/plain": [
       "<Figure size 432x288 with 1 Axes>"
      ]
     },
     "metadata": {
      "needs_background": "light"
     },
     "output_type": "display_data"
    }
   ],
   "source": [
    "df = listing\n",
    "fontsize = 10\n",
    "\n",
    "fig, axes = plt.subplots()\n",
    "sns.violinplot('host_is_superhost','review_scores_rating', data=df, ax = axes)\n",
    "axes.set_title('Day Ahead Market')\n",
    "\n",
    "axes.yaxis.grid(True)\n",
    "axes.set_xlabel('host_is_superhost')\n",
    "axes.set_ylabel('review_scores_rating')\n",
    "\n",
    "plt.show()"
   ]
  },
  {
   "cell_type": "code",
   "execution_count": 7,
   "metadata": {
    "execution": {
     "iopub.execute_input": "2021-03-25T05:23:22.906784Z",
     "iopub.status.busy": "2021-03-25T05:23:22.905850Z",
     "iopub.status.idle": "2021-03-25T05:23:23.147025Z",
     "shell.execute_reply": "2021-03-25T05:23:23.147414Z"
    },
    "papermill": {
     "duration": 0.285371,
     "end_time": "2021-03-25T05:23:23.147606",
     "exception": false,
     "start_time": "2021-03-25T05:23:22.862235",
     "status": "completed"
    },
    "tags": []
   },
   "outputs": [
    {
     "name": "stderr",
     "output_type": "stream",
     "text": [
      "/opt/conda/lib/python3.7/site-packages/ipykernel_launcher.py:1: FutureWarning: The default value of regex will change from True to False in a future version. In addition, single character regular expressions will*not* be treated as literal strings when regex=True.\n",
      "  \"\"\"Entry point for launching an IPython kernel.\n",
      "/opt/conda/lib/python3.7/site-packages/seaborn/_decorators.py:43: FutureWarning: Pass the following variables as keyword args: x, y. From version 0.12, the only valid positional argument will be `data`, and passing other arguments without an explicit keyword will result in an error or misinterpretation.\n",
      "  FutureWarning\n"
     ]
    },
    {
     "data": {
      "image/png": "[encoded data removed]",
      "text/plain": [
       "<Figure size 432x288 with 1 Axes>"
      ]
     },
     "metadata": {
      "needs_background": "light"
     },
     "output_type": "display_data"
    }
   ],
   "source": [
    "listing.price = listing.price.str.replace(\"$\", \"\").str.replace(\",\", \"\").str.replace(\"%\", \"\").astype('float64')\n",
    "df = listing\n",
    "fontsize = 10\n",
    "\n",
    "fig1, axes1 = plt.subplots()\n",
    "# plot violin. 'Scenario' is according to x axis, \n",
    "# 'LMP' is y axis, data is your dataframe. ax - is axes instance\n",
    "sns.violinplot('host_is_superhost','price', data=df, ax = axes1)\n",
    "axes1.set_title('Day Ahead Market')\n",
    "\n",
    "axes1.yaxis.grid(True)\n",
    "axes1.set_xlabel('host_is_superhost')\n",
    "axes1.set_ylabel('price')\n",
    "\n",
    "plt.show()"
   ]
  },
  {
   "cell_type": "code",
   "execution_count": 8,
   "metadata": {
    "execution": {
     "iopub.execute_input": "2021-03-25T05:23:23.176824Z",
     "iopub.status.busy": "2021-03-25T05:23:23.176133Z",
     "iopub.status.idle": "2021-03-25T05:23:23.587058Z",
     "shell.execute_reply": "2021-03-25T05:23:23.586443Z"
    },
    "papermill": {
     "duration": 0.428012,
     "end_time": "2021-03-25T05:23:23.587183",
     "exception": false,
     "start_time": "2021-03-25T05:23:23.159171",
     "status": "completed"
    },
    "tags": []
   },
   "outputs": [
    {
     "data": {
      "text/plain": [
       "<AxesSubplot:>"
      ]
     },
     "execution_count": 8,
     "metadata": {},
     "output_type": "execute_result"
    },
    {
     "data": {
      "image/png": "[encoded data removed]",
      "text/plain": [
       "<Figure size 432x288 with 2 Axes>"
      ]
     },
     "metadata": {
      "needs_background": "light"
     },
     "output_type": "display_data"
    }
   ],
   "source": [
    "from scipy import stats\n",
    "df2 = listing[['review_scores_rating','review_scores_value', 'review_scores_location', 'review_scores_communication', 'review_scores_checkin', 'review_scores_cleanliness', 'review_scores_accuracy']]\n",
    "df3 = df2.dropna()\n",
    "\n",
    "df4 = listing[['price','review_scores_rating','review_scores_value', 'review_scores_location', 'review_scores_communication', 'review_scores_checkin', 'review_scores_cleanliness', 'review_scores_accuracy']]\n",
    "\n",
    "\n",
    "sns.heatmap(df4.corr())"
   ]
  },
  {
   "cell_type": "code",
   "execution_count": 9,
   "metadata": {
    "execution": {
     "iopub.execute_input": "2021-03-25T05:23:23.628811Z",
     "iopub.status.busy": "2021-03-25T05:23:23.627630Z",
     "iopub.status.idle": "2021-03-25T05:23:23.939216Z",
     "shell.execute_reply": "2021-03-25T05:23:23.938689Z"
    },
    "papermill": {
     "duration": 0.335737,
     "end_time": "2021-03-25T05:23:23.939363",
     "exception": false,
     "start_time": "2021-03-25T05:23:23.603626",
     "status": "completed"
    },
    "tags": []
   },
   "outputs": [
    {
     "data": {
      "text/plain": [
       "<AxesSubplot:>"
      ]
     },
     "execution_count": 9,
     "metadata": {},
     "output_type": "execute_result"
    },
    {
     "data": {
      "image/png": "[encoded data removed]",
      "text/plain": [
       "<Figure size 432x288 with 2 Axes>"
      ]
     },
     "metadata": {
      "needs_background": "light"
     },
     "output_type": "display_data"
    }
   ],
   "source": [
    "from scipy import stats\n",
    "df2 = listing[['review_scores_rating','review_scores_value', 'review_scores_location', 'review_scores_communication', 'review_scores_checkin', 'review_scores_cleanliness', 'review_scores_accuracy']]\n",
    "df3 = df2.dropna()\n",
    "\n",
    "df4 = listing[['price','review_scores_rating','review_scores_value', 'review_scores_location', 'review_scores_communication', 'review_scores_checkin', 'review_scores_cleanliness', 'review_scores_accuracy']]\n",
    "\n",
    "\n",
    "sns.heatmap(df4.corr())"
   ]
  },
  {
   "cell_type": "code",
   "execution_count": 10,
   "metadata": {
    "execution": {
     "iopub.execute_input": "2021-03-25T05:23:23.981086Z",
     "iopub.status.busy": "2021-03-25T05:23:23.980425Z",
     "iopub.status.idle": "2021-03-25T05:23:24.917239Z",
     "shell.execute_reply": "2021-03-25T05:23:24.916766Z"
    },
    "papermill": {
     "duration": 0.960089,
     "end_time": "2021-03-25T05:23:24.917363",
     "exception": false,
     "start_time": "2021-03-25T05:23:23.957274",
     "status": "completed"
    },
    "tags": []
   },
   "outputs": [
    {
     "data": {
      "text/html": [
       "<table class=\"simpletable\">\n",
       "<caption>OLS Regression Results</caption>\n",
       "<tr>\n",
       "  <th>Dep. Variable:</th>    <td>review_scores_rating</td> <th>  R-squared (uncentered):</th>      <td>   0.998</td> \n",
       "</tr>\n",
       "<tr>\n",
       "  <th>Model:</th>                     <td>OLS</td>         <th>  Adj. R-squared (uncentered):</th> <td>   0.998</td> \n",
       "</tr>\n",
       "<tr>\n",
       "  <th>Method:</th>               <td>Least Squares</td>    <th>  F-statistic:       </th>          <td>3.164e+05</td>\n",
       "</tr>\n",
       "<tr>\n",
       "  <th>Date:</th>               <td>Thu, 25 Mar 2021</td>   <th>  Prob (F-statistic):</th>           <td>  0.00</td>  \n",
       "</tr>\n",
       "<tr>\n",
       "  <th>Time:</th>                   <td>05:23:24</td>       <th>  Log-Likelihood:    </th>          <td> -8745.2</td> \n",
       "</tr>\n",
       "<tr>\n",
       "  <th>No. Observations:</th>        <td>  3158</td>        <th>  AIC:               </th>          <td>1.750e+04</td>\n",
       "</tr>\n",
       "<tr>\n",
       "  <th>Df Residuals:</th>            <td>  3152</td>        <th>  BIC:               </th>          <td>1.754e+04</td>\n",
       "</tr>\n",
       "<tr>\n",
       "  <th>Df Model:</th>                <td>     6</td>        <th>                     </th>              <td> </td>    \n",
       "</tr>\n",
       "<tr>\n",
       "  <th>Covariance Type:</th>        <td>nonrobust</td>      <th>                     </th>              <td> </td>    \n",
       "</tr>\n",
       "</table>\n",
       "<table class=\"simpletable\">\n",
       "<tr>\n",
       "               <td></td>                  <th>coef</th>     <th>std err</th>      <th>t</th>      <th>P>|t|</th>  <th>[0.025</th>    <th>0.975]</th>  \n",
       "</tr>\n",
       "<tr>\n",
       "  <th>review_scores_value</th>         <td>    2.9632</td> <td>    0.123</td> <td>   24.010</td> <td> 0.000</td> <td>    2.721</td> <td>    3.205</td>\n",
       "</tr>\n",
       "<tr>\n",
       "  <th>review_scores_location</th>      <td>    0.5922</td> <td>    0.108</td> <td>    5.490</td> <td> 0.000</td> <td>    0.381</td> <td>    0.804</td>\n",
       "</tr>\n",
       "<tr>\n",
       "  <th>review_scores_communication</th> <td>    1.2337</td> <td>    0.174</td> <td>    7.104</td> <td> 0.000</td> <td>    0.893</td> <td>    1.574</td>\n",
       "</tr>\n",
       "<tr>\n",
       "  <th>review_scores_checkin</th>       <td>    1.2437</td> <td>    0.162</td> <td>    7.700</td> <td> 0.000</td> <td>    0.927</td> <td>    1.560</td>\n",
       "</tr>\n",
       "<tr>\n",
       "  <th>review_scores_cleanliness</th>   <td>    2.1545</td> <td>    0.110</td> <td>   19.584</td> <td> 0.000</td> <td>    1.939</td> <td>    2.370</td>\n",
       "</tr>\n",
       "<tr>\n",
       "  <th>review_scores_accuracy</th>      <td>    1.6583</td> <td>    0.128</td> <td>   12.960</td> <td> 0.000</td> <td>    1.407</td> <td>    1.909</td>\n",
       "</tr>\n",
       "</table>\n",
       "<table class=\"simpletable\">\n",
       "<tr>\n",
       "  <th>Omnibus:</th>       <td>1233.233</td> <th>  Durbin-Watson:     </th> <td>   1.979</td> \n",
       "</tr>\n",
       "<tr>\n",
       "  <th>Prob(Omnibus):</th>  <td> 0.000</td>  <th>  Jarque-Bera (JB):  </th> <td>15436.566</td>\n",
       "</tr>\n",
       "<tr>\n",
       "  <th>Skew:</th>           <td>-1.497</td>  <th>  Prob(JB):          </th> <td>    0.00</td> \n",
       "</tr>\n",
       "<tr>\n",
       "  <th>Kurtosis:</th>       <td>13.409</td>  <th>  Cond. No.          </th> <td>    75.2</td> \n",
       "</tr>\n",
       "</table><br/><br/>Notes:<br/>[1] R² is computed without centering (uncentered) since the model does not contain a constant.<br/>[2] Standard Errors assume that the covariance matrix of the errors is correctly specified."
      ],
      "text/plain": [
       "<class 'statsmodels.iolib.summary.Summary'>\n",
       "\"\"\"\n",
       "                                  OLS Regression Results                                 \n",
       "=========================================================================================\n",
       "Dep. Variable:     review_scores_rating   R-squared (uncentered):                   0.998\n",
       "Model:                              OLS   Adj. R-squared (uncentered):              0.998\n",
       "Method:                   Least Squares   F-statistic:                          3.164e+05\n",
       "Date:                  Thu, 25 Mar 2021   Prob (F-statistic):                        0.00\n",
       "Time:                          05:23:24   Log-Likelihood:                         -8745.2\n",
       "No. Observations:                  3158   AIC:                                  1.750e+04\n",
       "Df Residuals:                      3152   BIC:                                  1.754e+04\n",
       "Df Model:                             6                                                  \n",
       "Covariance Type:              nonrobust                                                  \n",
       "===============================================================================================\n",
       "                                  coef    std err          t      P>|t|      [0.025      0.975]\n",
       "-----------------------------------------------------------------------------------------------\n",
       "review_scores_value             2.9632      0.123     24.010      0.000       2.721       3.205\n",
       "review_scores_location          0.5922      0.108      5.490      0.000       0.381       0.804\n",
       "review_scores_communication     1.2337      0.174      7.104      0.000       0.893       1.574\n",
       "review_scores_checkin           1.2437      0.162      7.700      0.000       0.927       1.560\n",
       "review_scores_cleanliness       2.1545      0.110     19.584      0.000       1.939       2.370\n",
       "review_scores_accuracy          1.6583      0.128     12.960      0.000       1.407       1.909\n",
       "==============================================================================\n",
       "Omnibus:                     1233.233   Durbin-Watson:                   1.979\n",
       "Prob(Omnibus):                  0.000   Jarque-Bera (JB):            15436.566\n",
       "Skew:                          -1.497   Prob(JB):                         0.00\n",
       "Kurtosis:                      13.409   Cond. No.                         75.2\n",
       "==============================================================================\n",
       "\n",
       "Notes:\n",
       "[1] R² is computed without centering (uncentered) since the model does not contain a constant.\n",
       "[2] Standard Errors assume that the covariance matrix of the errors is correctly specified.\n",
       "\"\"\""
      ]
     },
     "execution_count": 10,
     "metadata": {},
     "output_type": "execute_result"
    }
   ],
   "source": [
    "import statsmodels.api as sm\n",
    "y = df3['review_scores_rating']\n",
    "x = df3[['review_scores_value', 'review_scores_location', 'review_scores_communication', 'review_scores_checkin', 'review_scores_cleanliness', 'review_scores_accuracy']]\n",
    "est = sm.OLS(y,x).fit()\n",
    "est.summary()"
   ]
  }
 ],
 "metadata": {
  "kernelspec": {
   "display_name": "Python 3",
   "language": "python",
   "name": "python3"
  },
  "language_info": {
   "codemirror_mode": {
    "name": "ipython",
    "version": 3
   },
   "file_extension": ".py",
   "mimetype": "text/x-python",
   "name": "python",
   "nbconvert_exporter": "python",
   "pygments_lexer": "ipython3",
   "version": "3.7.9"
  },
  "papermill": {
   "default_parameters": {},
   "duration": 13.113014,
   "end_time": "2021-03-25T05:23:25.649064",
   "environment_variables": {},
   "exception": null,
   "input_path": "__notebook__.ipynb",
   "output_path": "__notebook__.ipynb",
   "parameters": {},
   "start_time": "2021-03-25T05:23:12.536050",
   "version": "2.2.2"
  }
 },
 "nbformat": 4,
 "nbformat_minor": 4
}
