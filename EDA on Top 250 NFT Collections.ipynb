{
 "cells": [
  {
   "cell_type": "code",
   "execution_count": 1,
   "id": "b3f5966c",
   "metadata": {
    "execution": {
     "iopub.execute_input": "2022-02-24T22:40:44.613500Z",
     "iopub.status.busy": "2022-02-24T22:40:44.610003Z",
     "iopub.status.idle": "2022-02-24T22:40:44.616778Z",
     "shell.execute_reply": "2022-02-24T22:40:44.617277Z",
     "shell.execute_reply.started": "2022-02-24T22:38:57.229923Z"
    },
    "papermill": {
     "duration": 0.034763,
     "end_time": "2022-02-24T22:40:44.617584",
     "exception": false,
     "start_time": "2022-02-24T22:40:44.582821",
     "status": "completed"
    },
    "tags": []
   },
   "outputs": [],
   "source": [
    "import pandas as pd \n",
    "import numpy as np \n",
    "import math\n",
    "import matplotlib.pyplot as plt \n",
    "import numpy as np "
   ]
  },
  {
   "cell_type": "code",
   "execution_count": 2,
   "id": "bb805569",
   "metadata": {
    "execution": {
     "iopub.execute_input": "2022-02-24T22:40:44.653323Z",
     "iopub.status.busy": "2022-02-24T22:40:44.652345Z",
     "iopub.status.idle": "2022-02-24T22:40:44.820522Z",
     "shell.execute_reply": "2022-02-24T22:40:44.821063Z",
     "shell.execute_reply.started": "2022-02-24T22:38:57.259024Z"
    },
    "papermill": {
     "duration": 0.187906,
     "end_time": "2022-02-24T22:40:44.821232",
     "exception": false,
     "start_time": "2022-02-24T22:40:44.633326",
     "status": "completed"
    },
    "tags": []
   },
   "outputs": [
    {
     "data": {
      "text/html": [
       "<div>\n",
       "<style scoped>\n",
       "    .dataframe tbody tr th:only-of-type {\n",
       "        vertical-align: middle;\n",
       "    }\n",
       "\n",
       "    .dataframe tbody tr th {\n",
       "        vertical-align: top;\n",
       "    }\n",
       "\n",
       "    .dataframe thead th {\n",
       "        text-align: right;\n",
       "    }\n",
       "</style>\n",
       "<table border=\"1\" class=\"dataframe\">\n",
       "  <thead>\n",
       "    <tr style=\"text-align: right;\">\n",
       "      <th></th>\n",
       "      <th>Collections</th>\n",
       "      <th>Sales</th>\n",
       "      <th>Buyers</th>\n",
       "      <th>Txns</th>\n",
       "      <th>Owners</th>\n",
       "    </tr>\n",
       "  </thead>\n",
       "  <tbody>\n",
       "    <tr>\n",
       "      <th>0</th>\n",
       "      <td>Axie Infinity</td>\n",
       "      <td>$3,328,148,500</td>\n",
       "      <td>1,079,811</td>\n",
       "      <td>9,755,511</td>\n",
       "      <td>2,656,431</td>\n",
       "    </tr>\n",
       "    <tr>\n",
       "      <th>1</th>\n",
       "      <td>CryptoPunks</td>\n",
       "      <td>$1,664,246,968</td>\n",
       "      <td>4,723</td>\n",
       "      <td>18,961</td>\n",
       "      <td>3,289</td>\n",
       "    </tr>\n",
       "    <tr>\n",
       "      <th>2</th>\n",
       "      <td>Art Blocks</td>\n",
       "      <td>$1,075,223,906</td>\n",
       "      <td>20,934</td>\n",
       "      <td>117,602</td>\n",
       "      <td>25,094</td>\n",
       "    </tr>\n",
       "    <tr>\n",
       "      <th>3</th>\n",
       "      <td>Bored Ape Yacht Club</td>\n",
       "      <td>$783,882,186</td>\n",
       "      <td>8,284</td>\n",
       "      <td>22,584</td>\n",
       "      <td>5,862</td>\n",
       "    </tr>\n",
       "    <tr>\n",
       "      <th>4</th>\n",
       "      <td>NBA Top Shot</td>\n",
       "      <td>$781,965,423</td>\n",
       "      <td>374,818</td>\n",
       "      <td>11,790,699</td>\n",
       "      <td>603,928</td>\n",
       "    </tr>\n",
       "    <tr>\n",
       "      <th>...</th>\n",
       "      <td>...</td>\n",
       "      <td>...</td>\n",
       "      <td>...</td>\n",
       "      <td>...</td>\n",
       "      <td>...</td>\n",
       "    </tr>\n",
       "    <tr>\n",
       "      <th>245</th>\n",
       "      <td>Evolution</td>\n",
       "      <td>$2,536,468</td>\n",
       "      <td>746</td>\n",
       "      <td>4,961</td>\n",
       "      <td>2,061</td>\n",
       "    </tr>\n",
       "    <tr>\n",
       "      <th>246</th>\n",
       "      <td>LegionPunks</td>\n",
       "      <td>$2,535,490</td>\n",
       "      <td>1,702</td>\n",
       "      <td>3,794</td>\n",
       "      <td>2,410</td>\n",
       "    </tr>\n",
       "    <tr>\n",
       "      <th>247</th>\n",
       "      <td>BabyApes</td>\n",
       "      <td>$2,521,714</td>\n",
       "      <td>1,671</td>\n",
       "      <td>3,405</td>\n",
       "      <td>2,785</td>\n",
       "    </tr>\n",
       "    <tr>\n",
       "      <th>248</th>\n",
       "      <td>Train of the Century</td>\n",
       "      <td>$2,504,080</td>\n",
       "      <td>3,139</td>\n",
       "      <td>39,460</td>\n",
       "      <td>3,160</td>\n",
       "    </tr>\n",
       "    <tr>\n",
       "      <th>249</th>\n",
       "      <td>Cyber Pharmacist</td>\n",
       "      <td>$2,498,805</td>\n",
       "      <td>3,206</td>\n",
       "      <td>8,452</td>\n",
       "      <td>3,689</td>\n",
       "    </tr>\n",
       "  </tbody>\n",
       "</table>\n",
       "<p>250 rows × 5 columns</p>\n",
       "</div>"
      ],
      "text/plain": [
       "              Collections           Sales     Buyers        Txns     Owners\n",
       "0           Axie Infinity  $3,328,148,500  1,079,811   9,755,511  2,656,431\n",
       "1             CryptoPunks  $1,664,246,968      4,723      18,961      3,289\n",
       "2              Art Blocks  $1,075,223,906     20,934     117,602     25,094\n",
       "3    Bored Ape Yacht Club    $783,882,186      8,284      22,584      5,862\n",
       "4            NBA Top Shot    $781,965,423    374,818  11,790,699    603,928\n",
       "..                    ...             ...        ...         ...        ...\n",
       "245             Evolution      $2,536,468        746       4,961      2,061\n",
       "246           LegionPunks      $2,535,490      1,702       3,794      2,410\n",
       "247              BabyApes      $2,521,714      1,671       3,405      2,785\n",
       "248  Train of the Century      $2,504,080      3,139      39,460      3,160\n",
       "249      Cyber Pharmacist      $2,498,805      3,206       8,452      3,689\n",
       "\n",
       "[250 rows x 5 columns]"
      ]
     },
     "execution_count": 2,
     "metadata": {},
     "output_type": "execute_result"
    }
   ],
   "source": [
    "df = pd.read_csv(\"https://raw.githubusercontent.com/benvictoria17/Finance/master/dataset/NFT%20Collections/nft_sales%20.csv\")\n",
    "df"
   ]
  },
  {
   "cell_type": "code",
   "execution_count": 3,
   "id": "aabd4902",
   "metadata": {
    "execution": {
     "iopub.execute_input": "2022-02-24T22:40:44.884491Z",
     "iopub.status.busy": "2022-02-24T22:40:44.874514Z",
     "iopub.status.idle": "2022-02-24T22:40:44.889159Z",
     "shell.execute_reply": "2022-02-24T22:40:44.888554Z",
     "shell.execute_reply.started": "2022-02-24T22:38:57.669590Z"
    },
    "papermill": {
     "duration": 0.051759,
     "end_time": "2022-02-24T22:40:44.889305",
     "exception": false,
     "start_time": "2022-02-24T22:40:44.837546",
     "status": "completed"
    },
    "tags": []
   },
   "outputs": [
    {
     "data": {
      "text/html": [
       "<div>\n",
       "<style scoped>\n",
       "    .dataframe tbody tr th:only-of-type {\n",
       "        vertical-align: middle;\n",
       "    }\n",
       "\n",
       "    .dataframe tbody tr th {\n",
       "        vertical-align: top;\n",
       "    }\n",
       "\n",
       "    .dataframe thead th {\n",
       "        text-align: right;\n",
       "    }\n",
       "</style>\n",
       "<table border=\"1\" class=\"dataframe\">\n",
       "  <thead>\n",
       "    <tr style=\"text-align: right;\">\n",
       "      <th></th>\n",
       "      <th>Collections</th>\n",
       "      <th>Sales</th>\n",
       "      <th>Buyers</th>\n",
       "      <th>Txns</th>\n",
       "      <th>Owners</th>\n",
       "    </tr>\n",
       "  </thead>\n",
       "  <tbody>\n",
       "    <tr>\n",
       "      <th>count</th>\n",
       "      <td>250</td>\n",
       "      <td>250</td>\n",
       "      <td>250</td>\n",
       "      <td>250</td>\n",
       "      <td>244</td>\n",
       "    </tr>\n",
       "    <tr>\n",
       "      <th>unique</th>\n",
       "      <td>250</td>\n",
       "      <td>250</td>\n",
       "      <td>246</td>\n",
       "      <td>249</td>\n",
       "      <td>235</td>\n",
       "    </tr>\n",
       "    <tr>\n",
       "      <th>top</th>\n",
       "      <td>Axie Infinity</td>\n",
       "      <td>$3,328,148,500</td>\n",
       "      <td>3,246</td>\n",
       "      <td>4,523</td>\n",
       "      <td>1</td>\n",
       "    </tr>\n",
       "    <tr>\n",
       "      <th>freq</th>\n",
       "      <td>1</td>\n",
       "      <td>1</td>\n",
       "      <td>2</td>\n",
       "      <td>2</td>\n",
       "      <td>5</td>\n",
       "    </tr>\n",
       "  </tbody>\n",
       "</table>\n",
       "</div>"
      ],
      "text/plain": [
       "          Collections           Sales Buyers   Txns Owners\n",
       "count             250             250    250    250    244\n",
       "unique            250             250    246    249    235\n",
       "top     Axie Infinity  $3,328,148,500  3,246  4,523      1\n",
       "freq                1               1      2      2      5"
      ]
     },
     "execution_count": 3,
     "metadata": {},
     "output_type": "execute_result"
    }
   ],
   "source": [
    "df.describe()"
   ]
  },
  {
   "cell_type": "code",
   "execution_count": 4,
   "id": "38880539",
   "metadata": {
    "execution": {
     "iopub.execute_input": "2022-02-24T22:40:44.939079Z",
     "iopub.status.busy": "2022-02-24T22:40:44.938271Z",
     "iopub.status.idle": "2022-02-24T22:40:44.942179Z",
     "shell.execute_reply": "2022-02-24T22:40:44.941636Z",
     "shell.execute_reply.started": "2022-02-24T22:38:57.703306Z"
    },
    "papermill": {
     "duration": 0.03536,
     "end_time": "2022-02-24T22:40:44.942325",
     "exception": false,
     "start_time": "2022-02-24T22:40:44.906965",
     "status": "completed"
    },
    "tags": []
   },
   "outputs": [
    {
     "name": "stdout",
     "output_type": "stream",
     "text": [
      "<class 'pandas.core.frame.DataFrame'>\n",
      "RangeIndex: 250 entries, 0 to 249\n",
      "Data columns (total 5 columns):\n",
      " #   Column       Non-Null Count  Dtype \n",
      "---  ------       --------------  ----- \n",
      " 0   Collections  250 non-null    object\n",
      " 1   Sales        250 non-null    object\n",
      " 2   Buyers       250 non-null    object\n",
      " 3   Txns         250 non-null    object\n",
      " 4   Owners       244 non-null    object\n",
      "dtypes: object(5)\n",
      "memory usage: 9.9+ KB\n"
     ]
    }
   ],
   "source": [
    "df.info()"
   ]
  },
  {
   "cell_type": "code",
   "execution_count": 5,
   "id": "7a10f35d",
   "metadata": {
    "execution": {
     "iopub.execute_input": "2022-02-24T22:40:44.980904Z",
     "iopub.status.busy": "2022-02-24T22:40:44.980174Z",
     "iopub.status.idle": "2022-02-24T22:40:45.007312Z",
     "shell.execute_reply": "2022-02-24T22:40:45.007905Z",
     "shell.execute_reply.started": "2022-02-24T22:38:57.722571Z"
    },
    "papermill": {
     "duration": 0.047925,
     "end_time": "2022-02-24T22:40:45.008116",
     "exception": false,
     "start_time": "2022-02-24T22:40:44.960191",
     "status": "completed"
    },
    "tags": []
   },
   "outputs": [
    {
     "name": "stderr",
     "output_type": "stream",
     "text": [
      "/opt/conda/lib/python3.7/site-packages/ipykernel_launcher.py:3: FutureWarning: The default value of regex will change from True to False in a future version. In addition, single character regular expressions will *not* be treated as literal strings when regex=True.\n",
      "  This is separate from the ipykernel package so we can avoid doing imports until\n"
     ]
    },
    {
     "data": {
      "text/html": [
       "<div>\n",
       "<style scoped>\n",
       "    .dataframe tbody tr th:only-of-type {\n",
       "        vertical-align: middle;\n",
       "    }\n",
       "\n",
       "    .dataframe tbody tr th {\n",
       "        vertical-align: top;\n",
       "    }\n",
       "\n",
       "    .dataframe thead th {\n",
       "        text-align: right;\n",
       "    }\n",
       "</style>\n",
       "<table border=\"1\" class=\"dataframe\">\n",
       "  <thead>\n",
       "    <tr style=\"text-align: right;\">\n",
       "      <th></th>\n",
       "      <th>Collections</th>\n",
       "      <th>Sales in USD</th>\n",
       "      <th>Buyers</th>\n",
       "      <th>Transactions</th>\n",
       "      <th>Owners</th>\n",
       "    </tr>\n",
       "  </thead>\n",
       "  <tbody>\n",
       "    <tr>\n",
       "      <th>0</th>\n",
       "      <td>Axie Infinity</td>\n",
       "      <td>3328148500</td>\n",
       "      <td>1079811</td>\n",
       "      <td>9755511</td>\n",
       "      <td>2656431</td>\n",
       "    </tr>\n",
       "    <tr>\n",
       "      <th>1</th>\n",
       "      <td>CryptoPunks</td>\n",
       "      <td>1664246968</td>\n",
       "      <td>4723</td>\n",
       "      <td>18961</td>\n",
       "      <td>3289</td>\n",
       "    </tr>\n",
       "    <tr>\n",
       "      <th>2</th>\n",
       "      <td>Art Blocks</td>\n",
       "      <td>1075223906</td>\n",
       "      <td>20934</td>\n",
       "      <td>117602</td>\n",
       "      <td>25094</td>\n",
       "    </tr>\n",
       "    <tr>\n",
       "      <th>3</th>\n",
       "      <td>Bored Ape Yacht Club</td>\n",
       "      <td>783882186</td>\n",
       "      <td>8284</td>\n",
       "      <td>22584</td>\n",
       "      <td>5862</td>\n",
       "    </tr>\n",
       "    <tr>\n",
       "      <th>4</th>\n",
       "      <td>NBA Top Shot</td>\n",
       "      <td>781965423</td>\n",
       "      <td>374818</td>\n",
       "      <td>11790699</td>\n",
       "      <td>603928</td>\n",
       "    </tr>\n",
       "    <tr>\n",
       "      <th>...</th>\n",
       "      <td>...</td>\n",
       "      <td>...</td>\n",
       "      <td>...</td>\n",
       "      <td>...</td>\n",
       "      <td>...</td>\n",
       "    </tr>\n",
       "    <tr>\n",
       "      <th>245</th>\n",
       "      <td>Evolution</td>\n",
       "      <td>2536468</td>\n",
       "      <td>746</td>\n",
       "      <td>4961</td>\n",
       "      <td>2061</td>\n",
       "    </tr>\n",
       "    <tr>\n",
       "      <th>246</th>\n",
       "      <td>LegionPunks</td>\n",
       "      <td>2535490</td>\n",
       "      <td>1702</td>\n",
       "      <td>3794</td>\n",
       "      <td>2410</td>\n",
       "    </tr>\n",
       "    <tr>\n",
       "      <th>247</th>\n",
       "      <td>BabyApes</td>\n",
       "      <td>2521714</td>\n",
       "      <td>1671</td>\n",
       "      <td>3405</td>\n",
       "      <td>2785</td>\n",
       "    </tr>\n",
       "    <tr>\n",
       "      <th>248</th>\n",
       "      <td>Train of the Century</td>\n",
       "      <td>2504080</td>\n",
       "      <td>3139</td>\n",
       "      <td>39460</td>\n",
       "      <td>3160</td>\n",
       "    </tr>\n",
       "    <tr>\n",
       "      <th>249</th>\n",
       "      <td>Cyber Pharmacist</td>\n",
       "      <td>2498805</td>\n",
       "      <td>3206</td>\n",
       "      <td>8452</td>\n",
       "      <td>3689</td>\n",
       "    </tr>\n",
       "  </tbody>\n",
       "</table>\n",
       "<p>244 rows × 5 columns</p>\n",
       "</div>"
      ],
      "text/plain": [
       "              Collections Sales in USD   Buyers Transactions   Owners\n",
       "0           Axie Infinity   3328148500  1079811      9755511  2656431\n",
       "1             CryptoPunks   1664246968     4723        18961     3289\n",
       "2              Art Blocks   1075223906    20934       117602    25094\n",
       "3    Bored Ape Yacht Club    783882186     8284        22584     5862\n",
       "4            NBA Top Shot    781965423   374818     11790699   603928\n",
       "..                    ...          ...      ...          ...      ...\n",
       "245             Evolution      2536468      746         4961     2061\n",
       "246           LegionPunks      2535490     1702         3794     2410\n",
       "247              BabyApes      2521714     1671         3405     2785\n",
       "248  Train of the Century      2504080     3139        39460     3160\n",
       "249      Cyber Pharmacist      2498805     3206         8452     3689\n",
       "\n",
       "[244 rows x 5 columns]"
      ]
     },
     "execution_count": 5,
     "metadata": {},
     "output_type": "execute_result"
    }
   ],
   "source": [
    "df.rename(columns = {'Sales':'Sales in USD','Txns':'Transactions'}, inplace = True)\n",
    "df['Sales in USD'] = df['Sales in USD'].str.replace(',', '')\n",
    "df['Sales in USD'] = df['Sales in USD'].str.replace('$', '')\n",
    "df['Buyers'] = df['Buyers'].str.replace(',','')\n",
    "df['Transactions'] = df['Transactions'].str.replace(',','')\n",
    "df['Owners'] = df['Owners'].str.replace(',','')\n",
    "df=df.dropna()\n",
    "df"
   ]
  },
  {
   "cell_type": "code",
   "execution_count": 6,
   "id": "82986497",
   "metadata": {
    "execution": {
     "iopub.execute_input": "2022-02-24T22:40:45.056363Z",
     "iopub.status.busy": "2022-02-24T22:40:45.055438Z",
     "iopub.status.idle": "2022-02-24T22:40:45.058875Z",
     "shell.execute_reply": "2022-02-24T22:40:45.059810Z",
     "shell.execute_reply.started": "2022-02-24T22:38:57.745430Z"
    },
    "papermill": {
     "duration": 0.032978,
     "end_time": "2022-02-24T22:40:45.060184",
     "exception": false,
     "start_time": "2022-02-24T22:40:45.027206",
     "status": "completed"
    },
    "tags": []
   },
   "outputs": [
    {
     "name": "stderr",
     "output_type": "stream",
     "text": [
      "/opt/conda/lib/python3.7/site-packages/ipykernel_launcher.py:1: SettingWithCopyWarning: \n",
      "A value is trying to be set on a copy of a slice from a DataFrame.\n",
      "Try using .loc[row_indexer,col_indexer] = value instead\n",
      "\n",
      "See the caveats in the documentation: https://pandas.pydata.org/pandas-docs/stable/user_guide/indexing.html#returning-a-view-versus-a-copy\n",
      "  \"\"\"Entry point for launching an IPython kernel.\n",
      "/opt/conda/lib/python3.7/site-packages/ipykernel_launcher.py:2: SettingWithCopyWarning: \n",
      "A value is trying to be set on a copy of a slice from a DataFrame.\n",
      "Try using .loc[row_indexer,col_indexer] = value instead\n",
      "\n",
      "See the caveats in the documentation: https://pandas.pydata.org/pandas-docs/stable/user_guide/indexing.html#returning-a-view-versus-a-copy\n",
      "  \n",
      "/opt/conda/lib/python3.7/site-packages/ipykernel_launcher.py:3: SettingWithCopyWarning: \n",
      "A value is trying to be set on a copy of a slice from a DataFrame.\n",
      "Try using .loc[row_indexer,col_indexer] = value instead\n",
      "\n",
      "See the caveats in the documentation: https://pandas.pydata.org/pandas-docs/stable/user_guide/indexing.html#returning-a-view-versus-a-copy\n",
      "  This is separate from the ipykernel package so we can avoid doing imports until\n",
      "/opt/conda/lib/python3.7/site-packages/ipykernel_launcher.py:4: SettingWithCopyWarning: \n",
      "A value is trying to be set on a copy of a slice from a DataFrame.\n",
      "Try using .loc[row_indexer,col_indexer] = value instead\n",
      "\n",
      "See the caveats in the documentation: https://pandas.pydata.org/pandas-docs/stable/user_guide/indexing.html#returning-a-view-versus-a-copy\n",
      "  after removing the cwd from sys.path.\n"
     ]
    }
   ],
   "source": [
    "df['Sales in USD'] = df['Sales in USD'].astype('int64')\n",
    "df['Buyers'] = df['Buyers'].astype('int64')\n",
    "df['Transactions'] = df['Transactions'].astype('int64')\n",
    "df['Owners'] = df['Owners'].astype('int32')"
   ]
  },
  {
   "cell_type": "code",
   "execution_count": 7,
   "id": "b31f8947",
   "metadata": {
    "execution": {
     "iopub.execute_input": "2022-02-24T22:40:45.107472Z",
     "iopub.status.busy": "2022-02-24T22:40:45.106690Z",
     "iopub.status.idle": "2022-02-24T22:40:45.109776Z",
     "shell.execute_reply": "2022-02-24T22:40:45.110360Z",
     "shell.execute_reply.started": "2022-02-24T22:38:57.758849Z"
    },
    "papermill": {
     "duration": 0.029827,
     "end_time": "2022-02-24T22:40:45.110536",
     "exception": false,
     "start_time": "2022-02-24T22:40:45.080709",
     "status": "completed"
    },
    "tags": []
   },
   "outputs": [
    {
     "name": "stderr",
     "output_type": "stream",
     "text": [
      "/opt/conda/lib/python3.7/site-packages/ipykernel_launcher.py:1: SettingWithCopyWarning: \n",
      "A value is trying to be set on a copy of a slice from a DataFrame.\n",
      "Try using .loc[row_indexer,col_indexer] = value instead\n",
      "\n",
      "See the caveats in the documentation: https://pandas.pydata.org/pandas-docs/stable/user_guide/indexing.html#returning-a-view-versus-a-copy\n",
      "  \"\"\"Entry point for launching an IPython kernel.\n"
     ]
    }
   ],
   "source": [
    "df['100 mil club'] = np.where(df['Sales in USD']>=100000000, 'Yes', 'No')"
   ]
  },
  {
   "cell_type": "code",
   "execution_count": 8,
   "id": "f36379be",
   "metadata": {
    "execution": {
     "iopub.execute_input": "2022-02-24T22:40:45.166378Z",
     "iopub.status.busy": "2022-02-24T22:40:45.165561Z",
     "iopub.status.idle": "2022-02-24T22:40:45.169745Z",
     "shell.execute_reply": "2022-02-24T22:40:45.170268Z",
     "shell.execute_reply.started": "2022-02-24T22:38:57.764014Z"
    },
    "papermill": {
     "duration": 0.04097,
     "end_time": "2022-02-24T22:40:45.170442",
     "exception": false,
     "start_time": "2022-02-24T22:40:45.129472",
     "status": "completed"
    },
    "tags": []
   },
   "outputs": [
    {
     "name": "stdout",
     "output_type": "stream",
     "text": [
      "Total Sales of 'Bored Ape' Collection is 982,841,231$\n"
     ]
    },
    {
     "data": {
      "text/html": [
       "<div>\n",
       "<style scoped>\n",
       "    .dataframe tbody tr th:only-of-type {\n",
       "        vertical-align: middle;\n",
       "    }\n",
       "\n",
       "    .dataframe tbody tr th {\n",
       "        vertical-align: top;\n",
       "    }\n",
       "\n",
       "    .dataframe thead th {\n",
       "        text-align: right;\n",
       "    }\n",
       "</style>\n",
       "<table border=\"1\" class=\"dataframe\">\n",
       "  <thead>\n",
       "    <tr style=\"text-align: right;\">\n",
       "      <th></th>\n",
       "      <th>Collections</th>\n",
       "      <th>Sales in USD</th>\n",
       "      <th>Buyers</th>\n",
       "      <th>Transactions</th>\n",
       "      <th>Owners</th>\n",
       "      <th>100 mil club</th>\n",
       "    </tr>\n",
       "  </thead>\n",
       "  <tbody>\n",
       "    <tr>\n",
       "      <th>3</th>\n",
       "      <td>Bored Ape Yacht Club</td>\n",
       "      <td>783882186</td>\n",
       "      <td>8284</td>\n",
       "      <td>22584</td>\n",
       "      <td>5862</td>\n",
       "      <td>Yes</td>\n",
       "    </tr>\n",
       "    <tr>\n",
       "      <th>21</th>\n",
       "      <td>Bored Ape Kennel Club</td>\n",
       "      <td>108210267</td>\n",
       "      <td>5622</td>\n",
       "      <td>13715</td>\n",
       "      <td>5013</td>\n",
       "      <td>Yes</td>\n",
       "    </tr>\n",
       "    <tr>\n",
       "      <th>31</th>\n",
       "      <td>Bored Ape Chemistry Club</td>\n",
       "      <td>79456705</td>\n",
       "      <td>1454</td>\n",
       "      <td>2508</td>\n",
       "      <td>1</td>\n",
       "      <td>No</td>\n",
       "    </tr>\n",
       "    <tr>\n",
       "      <th>126</th>\n",
       "      <td>Bored Mummy Waking Up</td>\n",
       "      <td>11292073</td>\n",
       "      <td>6030</td>\n",
       "      <td>14816</td>\n",
       "      <td>3682</td>\n",
       "      <td>No</td>\n",
       "    </tr>\n",
       "  </tbody>\n",
       "</table>\n",
       "</div>"
      ],
      "text/plain": [
       "                  Collections  Sales in USD  Buyers  Transactions  Owners  \\\n",
       "3        Bored Ape Yacht Club     783882186    8284         22584    5862   \n",
       "21      Bored Ape Kennel Club     108210267    5622         13715    5013   \n",
       "31   Bored Ape Chemistry Club      79456705    1454          2508       1   \n",
       "126     Bored Mummy Waking Up      11292073    6030         14816    3682   \n",
       "\n",
       "    100 mil club  \n",
       "3            Yes  \n",
       "21           Yes  \n",
       "31            No  \n",
       "126           No  "
      ]
     },
     "execution_count": 8,
     "metadata": {},
     "output_type": "execute_result"
    }
   ],
   "source": [
    "bored_collection = df[df['Collections'].str.contains(\"Bored\")]\n",
    "\n",
    "\n",
    "sum_sales = bored_collection['Sales in USD'].sum()\n",
    "\n",
    "print(f\"Total Sales of 'Bored Ape' Collection is {sum_sales:,}$\")\n",
    "bored_collection"
   ]
  },
  {
   "cell_type": "code",
   "execution_count": 9,
   "id": "ae545d49",
   "metadata": {
    "execution": {
     "iopub.execute_input": "2022-02-24T22:40:45.231759Z",
     "iopub.status.busy": "2022-02-24T22:40:45.230854Z",
     "iopub.status.idle": "2022-02-24T22:40:45.456358Z",
     "shell.execute_reply": "2022-02-24T22:40:45.455664Z",
     "shell.execute_reply.started": "2022-02-24T22:38:57.785564Z"
    },
    "papermill": {
     "duration": 0.266057,
     "end_time": "2022-02-24T22:40:45.456503",
     "exception": false,
     "start_time": "2022-02-24T22:40:45.190446",
     "status": "completed"
    },
    "tags": []
   },
   "outputs": [
    {
     "data": {
      "image/png": "[encoded data removed]",
      "text/plain": [
       "<Figure size 500x500 with 1 Axes>"
      ]
     },
     "metadata": {},
     "output_type": "display_data"
    }
   ],
   "source": [
    "df2 = bored_collection.groupby('100 mil club').sum()\n",
    "owners = [df2['Owners'][1],df2['Owners'][0]]\n",
    "con = ['Yes','No']\n",
    "plt.style.use('default')\n",
    "plt.figure(figsize=(5,5))\n",
    "p =plt.bar(con,owners,width=0.45,color='#db4444')\n",
    "plt.ylim(0,14000)\n",
    "plt.title(\"Number of Owners who are a part of 100 mil club('Bored Ape' Collection)\")\n",
    "plt.bar_label(p)\n",
    "plt.xlabel('100 mil club')\n",
    "plt.ylabel('No. of owners')\n",
    "plt.show()"
   ]
  },
  {
   "cell_type": "code",
   "execution_count": 10,
   "id": "40cd35de",
   "metadata": {
    "execution": {
     "iopub.execute_input": "2022-02-24T22:40:45.510851Z",
     "iopub.status.busy": "2022-02-24T22:40:45.510036Z",
     "iopub.status.idle": "2022-02-24T22:40:45.513850Z",
     "shell.execute_reply": "2022-02-24T22:40:45.513328Z",
     "shell.execute_reply.started": "2022-02-24T22:38:57.948703Z"
    },
    "papermill": {
     "duration": 0.035556,
     "end_time": "2022-02-24T22:40:45.514022",
     "exception": false,
     "start_time": "2022-02-24T22:40:45.478466",
     "status": "completed"
    },
    "tags": []
   },
   "outputs": [
    {
     "name": "stdout",
     "output_type": "stream",
     "text": [
      "Average sales of 100 million club is 457,926,711$\n"
     ]
    }
   ],
   "source": [
    "df_100 = df.loc[df['100 mil club'] == 'Yes']\n",
    "average_sales_100 =round(df_100['Sales in USD'].mean())\n",
    "df_no100 = df.loc[df['100 mil club'] == 'No']\n",
    "average_sales_no100 = round(df_no100['Sales in USD'].mean())\n",
    "print(f'Average sales of 100 million club is {average_sales_100:,}$')"
   ]
  },
  {
   "cell_type": "code",
   "execution_count": 11,
   "id": "60f605b5",
   "metadata": {
    "execution": {
     "iopub.execute_input": "2022-02-24T22:40:45.691741Z",
     "iopub.status.busy": "2022-02-24T22:40:45.680252Z",
     "iopub.status.idle": "2022-02-24T22:40:45.830136Z",
     "shell.execute_reply": "2022-02-24T22:40:45.830613Z",
     "shell.execute_reply.started": "2022-02-24T22:38:57.958019Z"
    },
    "papermill": {
     "duration": 0.294708,
     "end_time": "2022-02-24T22:40:45.830790",
     "exception": false,
     "start_time": "2022-02-24T22:40:45.536082",
     "status": "completed"
    },
    "tags": []
   },
   "outputs": [
    {
     "data": {
      "image/png": "[encoded data removed]",
      "text/plain": [
       "<Figure size 400x500 with 1 Axes>"
      ]
     },
     "metadata": {},
     "output_type": "display_data"
    }
   ],
   "source": [
    "x= ['100 mil club','Not in 100 mil club']\n",
    "avg = [average_sales_100,average_sales_no100]\n",
    "\n",
    "plt.style.use('seaborn-pastel')\n",
    "plt.figure(figsize=(4,5))\n",
    "\n",
    "plt.bar(x,avg)\n",
    "plt.title('Average sales')\n",
    "plt.xlabel('Collections')\n",
    "plt.ylabel('Sales in USD $')\n",
    "plt.show()"
   ]
  },
  {
   "cell_type": "code",
   "execution_count": 12,
   "id": "c9bd4be4",
   "metadata": {
    "execution": {
     "iopub.execute_input": "2022-02-24T22:40:45.906405Z",
     "iopub.status.busy": "2022-02-24T22:40:45.897568Z",
     "iopub.status.idle": "2022-02-24T22:40:46.169484Z",
     "shell.execute_reply": "2022-02-24T22:40:46.168803Z",
     "shell.execute_reply.started": "2022-02-24T22:38:58.215595Z"
    },
    "papermill": {
     "duration": 0.31491,
     "end_time": "2022-02-24T22:40:46.169637",
     "exception": false,
     "start_time": "2022-02-24T22:40:45.854727",
     "status": "completed"
    },
    "tags": []
   },
   "outputs": [
    {
     "data": {
      "image/png": "[encoded data removed]",
      "text/plain": [
       "<Figure size 600x600 with 1 Axes>"
      ]
     },
     "metadata": {},
     "output_type": "display_data"
    }
   ],
   "source": [
    "count = df.groupby(['100 mil club']).count()['Collections']\n",
    "labels = [\"Not in 100 mil club\",\"100 mil club\"]\n",
    "plt.style.use('seaborn-pastel')\n",
    "plt.figure(figsize=(6,6))\n",
    "plt.pie(count,labels=labels,autopct='%.2f %%',textprops={'fontsize': 14})\n",
    "plt.title(\"Distribution of Collections\",fontdict={'fontsize': 19})\n",
    "plt.legend(fontsize=10)\n",
    "plt.show()"
   ]
  },
  {
   "cell_type": "code",
   "execution_count": 13,
   "id": "3c6c28f5",
   "metadata": {
    "execution": {
     "iopub.execute_input": "2022-02-24T22:40:46.227956Z",
     "iopub.status.busy": "2022-02-24T22:40:46.227176Z",
     "iopub.status.idle": "2022-02-24T22:40:46.230337Z",
     "shell.execute_reply": "2022-02-24T22:40:46.230831Z",
     "shell.execute_reply.started": "2022-02-24T22:38:58.438032Z"
    },
    "papermill": {
     "duration": 0.035354,
     "end_time": "2022-02-24T22:40:46.231053",
     "exception": false,
     "start_time": "2022-02-24T22:40:46.195699",
     "status": "completed"
    },
    "tags": []
   },
   "outputs": [
    {
     "name": "stdout",
     "output_type": "stream",
     "text": [
      "The NFT Collection having maxiumum sales is Axie Infinity\n",
      "Total sales of Axie Infinity are 3,328,148,500 USD\n"
     ]
    }
   ],
   "source": [
    "maximum_sale = df['Sales in USD'].max()\n",
    "collection = df[df['Sales in USD'] == maximum_sale ]['Collections'][0]\n",
    "\n",
    "print(f'The NFT Collection having maxiumum sales is {collection}')\n",
    "print(f'Total sales of {collection} are {maximum_sale:,} USD')"
   ]
  },
  {
   "cell_type": "code",
   "execution_count": 14,
   "id": "f51446e1",
   "metadata": {
    "execution": {
     "iopub.execute_input": "2022-02-24T22:40:46.295159Z",
     "iopub.status.busy": "2022-02-24T22:40:46.290709Z",
     "iopub.status.idle": "2022-02-24T22:40:46.584267Z",
     "shell.execute_reply": "2022-02-24T22:40:46.583648Z",
     "shell.execute_reply.started": "2022-02-24T22:39:22.772864Z"
    },
    "papermill": {
     "duration": 0.326597,
     "end_time": "2022-02-24T22:40:46.584432",
     "exception": false,
     "start_time": "2022-02-24T22:40:46.257835",
     "status": "completed"
    },
    "tags": []
   },
   "outputs": [
    {
     "name": "stdout",
     "output_type": "stream",
     "text": [
      "NBA Top Shot has 11790699 transactions (Highest amongst all)\n",
      "CryptoPunks has 18961 transactions (Relatively lower transaction)\n"
     ]
    },
    {
     "data": {
      "image/png": "[encoded data removed]",
      "text/plain": [
       "<Figure size 700x500 with 2 Axes>"
      ]
     },
     "metadata": {},
     "output_type": "display_data"
    }
   ],
   "source": [
    "most_transaction  = df['Transactions'].max()\n",
    "most_data = df[df['Transactions']==most_transaction]\n",
    "collection_of_most = most_data['Collections'].iloc[0]\n",
    "sales_of_most = most_data['Sales in USD'].iloc[0]\n",
    "\n",
    "lower_transact = df.iloc[1][3]\n",
    "collection_of_lower = df.iloc[1][0]\n",
    "sales_of_lower = df.iloc[1][1]\n",
    "\n",
    "print(f'{collection_of_most} has {most_transaction} transactions (Highest amongst all)')\n",
    "print(f'{collection_of_lower} has {lower_transact} transactions (Relatively lower transaction)')\n",
    "\n",
    "#LET'S VISUALIZE THIS USING GRAPHS\n",
    "collections = [collection_of_most,collection_of_lower]\n",
    "sales = [sales_of_most,sales_of_lower]\n",
    "transactions = [most_transaction,lower_transact]\n",
    "\n",
    "plt.style.use('Solarize_Light2')\n",
    "fig,ax1 = plt.subplots(figsize=(7,5))\n",
    "ax2=ax1.twinx()\n",
    "p = ax1.bar(collections,sales)\n",
    "ax2.plot(collections,transactions,'r-')\n",
    "ax1.bar_label(p)\n",
    "plt.title('Co-relation between Sales and Transactions')\n",
    "ax1.set_xlabel('NFT Collection')\n",
    "ax1.set_ylabel('Sales in $',color='g')\n",
    "ax2.set_ylabel('Transactions',color='r')\n",
    "plt.show()"
   ]
  }
 ],
 "metadata": {
  "kernelspec": {
   "display_name": "Python 3",
   "language": "python",
   "name": "python3"
  },
  "language_info": {
   "codemirror_mode": {
    "name": "ipython",
    "version": 3
   },
   "file_extension": ".py",
   "mimetype": "text/x-python",
   "name": "python",
   "nbconvert_exporter": "python",
   "pygments_lexer": "ipython3",
   "version": "3.7.12"
  },
  "papermill": {
   "default_parameters": {},
   "duration": 12.892029,
   "end_time": "2022-02-24T22:40:47.223730",
   "environment_variables": {},
   "exception": null,
   "input_path": "__notebook__.ipynb",
   "output_path": "__notebook__.ipynb",
   "parameters": {},
   "start_time": "2022-02-24T22:40:34.331701",
   "version": "2.3.3"
  }
 },
 "nbformat": 4,
 "nbformat_minor": 5
}
