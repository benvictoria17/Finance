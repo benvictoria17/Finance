{
  "nbformat": 4,
  "nbformat_minor": 0,
  "metadata": {
    "colab": {
      "name": "Nokia Corporation (NOKIA.HE).ipynb",
      "provenance": []
    },
    "kernelspec": {
      "name": "python3",
      "display_name": "Python 3"
    }
  },
  "cells": [
    {
      "cell_type": "code",
      "metadata": {
        "colab": {
          "base_uri": "https://localhost:8080/"
        },
        "id": "qvKTPiiJz_tm",
        "outputId": "213890a5-caec-4ced-cfde-6a9252260eee"
      },
      "source": [
        "!sudo pip install  yfinance"
      ],
      "execution_count": null,
      "outputs": [
        {
          "output_type": "stream",
          "text": [
            "Requirement already satisfied: yfinance in /usr/local/lib/python3.6/dist-packages (0.1.55)\n",
            "Requirement already satisfied: numpy>=1.15 in /usr/local/lib/python3.6/dist-packages (from yfinance) (1.18.5)\n",
            "Requirement already satisfied: requests>=2.20 in /usr/local/lib/python3.6/dist-packages (from yfinance) (2.23.0)\n",
            "Requirement already satisfied: pandas>=0.24 in /usr/local/lib/python3.6/dist-packages (from yfinance) (1.1.4)\n",
            "Requirement already satisfied: multitasking>=0.0.7 in /usr/local/lib/python3.6/dist-packages (from yfinance) (0.0.9)\n",
            "Requirement already satisfied: lxml>=4.5.1 in /usr/local/lib/python3.6/dist-packages (from yfinance) (4.6.1)\n",
            "Requirement already satisfied: urllib3!=1.25.0,!=1.25.1,<1.26,>=1.21.1 in /usr/local/lib/python3.6/dist-packages (from requests>=2.20->yfinance) (1.24.3)\n",
            "Requirement already satisfied: chardet<4,>=3.0.2 in /usr/local/lib/python3.6/dist-packages (from requests>=2.20->yfinance) (3.0.4)\n",
            "Requirement already satisfied: certifi>=2017.4.17 in /usr/local/lib/python3.6/dist-packages (from requests>=2.20->yfinance) (2020.11.8)\n",
            "Requirement already satisfied: idna<3,>=2.5 in /usr/local/lib/python3.6/dist-packages (from requests>=2.20->yfinance) (2.10)\n",
            "Requirement already satisfied: pytz>=2017.2 in /usr/local/lib/python3.6/dist-packages (from pandas>=0.24->yfinance) (2018.9)\n",
            "Requirement already satisfied: python-dateutil>=2.7.3 in /usr/local/lib/python3.6/dist-packages (from pandas>=0.24->yfinance) (2.8.1)\n",
            "Requirement already satisfied: six>=1.5 in /usr/local/lib/python3.6/dist-packages (from python-dateutil>=2.7.3->pandas>=0.24->yfinance) (1.15.0)\n"
          ],
          "name": "stdout"
        }
      ]
    },
    {
      "cell_type": "code",
      "metadata": {
        "id": "eIBMY9O70P2h"
      },
      "source": [
        "import pandas as pd \n",
        "import numpy as np \n",
        "import matplotlib.pyplot as plt\n",
        "import pandas_datareader\n",
        "import sqlite3\n",
        "import yfinance"
      ],
      "execution_count": null,
      "outputs": []
    },
    {
      "cell_type": "code",
      "metadata": {
        "colab": {
          "base_uri": "https://localhost:8080/",
          "height": 467
        },
        "id": "SEpNfeXo0QFH",
        "outputId": "92446796-5346-41d1-fa5a-4807c30aac3d"
      },
      "source": [
        "NOKIA.HE = yfinance.download(\"NOKIA.HE\")\n",
        "\n",
        "NOKIA.HE"
      ],
      "execution_count": null,
      "outputs": [
        {
          "output_type": "stream",
          "text": [
            "\r[*********************100%***********************]  1 of 1 completed\n"
          ],
          "name": "stdout"
        },
        {
          "output_type": "execute_result",
          "data": {
            "text/html": [
              "<div>\n",
              "<style scoped>\n",
              "    .dataframe tbody tr th:only-of-type {\n",
              "        vertical-align: middle;\n",
              "    }\n",
              "\n",
              "    .dataframe tbody tr th {\n",
              "        vertical-align: top;\n",
              "    }\n",
              "\n",
              "    .dataframe thead th {\n",
              "        text-align: right;\n",
              "    }\n",
              "</style>\n",
              "<table border=\"1\" class=\"dataframe\">\n",
              "  <thead>\n",
              "    <tr style=\"text-align: right;\">\n",
              "      <th></th>\n",
              "      <th>Open</th>\n",
              "      <th>High</th>\n",
              "      <th>Low</th>\n",
              "      <th>Close</th>\n",
              "      <th>Adj Close</th>\n",
              "      <th>Volume</th>\n",
              "    </tr>\n",
              "    <tr>\n",
              "      <th>Date</th>\n",
              "      <th></th>\n",
              "      <th></th>\n",
              "      <th></th>\n",
              "      <th></th>\n",
              "      <th></th>\n",
              "      <th></th>\n",
              "    </tr>\n",
              "  </thead>\n",
              "  <tbody>\n",
              "    <tr>\n",
              "      <th>2000-01-03</th>\n",
              "      <td>47.000000</td>\n",
              "      <td>48.250000</td>\n",
              "      <td>47.000000</td>\n",
              "      <td>47.450001</td>\n",
              "      <td>26.217373</td>\n",
              "      <td>13681940</td>\n",
              "    </tr>\n",
              "    <tr>\n",
              "      <th>2000-01-04</th>\n",
              "      <td>45.000000</td>\n",
              "      <td>45.000000</td>\n",
              "      <td>41.772499</td>\n",
              "      <td>43.362499</td>\n",
              "      <td>23.958925</td>\n",
              "      <td>24706060</td>\n",
              "    </tr>\n",
              "    <tr>\n",
              "      <th>2000-01-05</th>\n",
              "      <td>42.052502</td>\n",
              "      <td>42.052502</td>\n",
              "      <td>38.750000</td>\n",
              "      <td>39.502499</td>\n",
              "      <td>21.826170</td>\n",
              "      <td>22486588</td>\n",
              "    </tr>\n",
              "    <tr>\n",
              "      <th>2000-01-06</th>\n",
              "      <td>39.502499</td>\n",
              "      <td>39.502499</td>\n",
              "      <td>39.502499</td>\n",
              "      <td>39.502499</td>\n",
              "      <td>21.826170</td>\n",
              "      <td>0</td>\n",
              "    </tr>\n",
              "    <tr>\n",
              "      <th>2000-01-07</th>\n",
              "      <td>39.000000</td>\n",
              "      <td>41.625000</td>\n",
              "      <td>37.500000</td>\n",
              "      <td>41.625000</td>\n",
              "      <td>22.998907</td>\n",
              "      <td>29794920</td>\n",
              "    </tr>\n",
              "    <tr>\n",
              "      <th>...</th>\n",
              "      <td>...</td>\n",
              "      <td>...</td>\n",
              "      <td>...</td>\n",
              "      <td>...</td>\n",
              "      <td>...</td>\n",
              "      <td>...</td>\n",
              "    </tr>\n",
              "    <tr>\n",
              "      <th>2020-11-19</th>\n",
              "      <td>3.286500</td>\n",
              "      <td>3.294000</td>\n",
              "      <td>3.220000</td>\n",
              "      <td>3.251500</td>\n",
              "      <td>3.251500</td>\n",
              "      <td>19614009</td>\n",
              "    </tr>\n",
              "    <tr>\n",
              "      <th>2020-11-20</th>\n",
              "      <td>3.240500</td>\n",
              "      <td>3.310500</td>\n",
              "      <td>3.232000</td>\n",
              "      <td>3.306000</td>\n",
              "      <td>3.306000</td>\n",
              "      <td>17807262</td>\n",
              "    </tr>\n",
              "    <tr>\n",
              "      <th>2020-11-23</th>\n",
              "      <td>3.320000</td>\n",
              "      <td>3.328500</td>\n",
              "      <td>3.274500</td>\n",
              "      <td>3.305500</td>\n",
              "      <td>3.305500</td>\n",
              "      <td>16116745</td>\n",
              "    </tr>\n",
              "    <tr>\n",
              "      <th>2020-11-24</th>\n",
              "      <td>3.320000</td>\n",
              "      <td>3.414500</td>\n",
              "      <td>3.310000</td>\n",
              "      <td>3.400000</td>\n",
              "      <td>3.400000</td>\n",
              "      <td>18199757</td>\n",
              "    </tr>\n",
              "    <tr>\n",
              "      <th>2020-11-25</th>\n",
              "      <td>3.400000</td>\n",
              "      <td>3.435000</td>\n",
              "      <td>3.370000</td>\n",
              "      <td>3.416000</td>\n",
              "      <td>3.416000</td>\n",
              "      <td>13727174</td>\n",
              "    </tr>\n",
              "  </tbody>\n",
              "</table>\n",
              "<p>5313 rows × 6 columns</p>\n",
              "</div>"
            ],
            "text/plain": [
              "                 Open       High        Low      Close  Adj Close    Volume\n",
              "Date                                                                       \n",
              "2000-01-03  47.000000  48.250000  47.000000  47.450001  26.217373  13681940\n",
              "2000-01-04  45.000000  45.000000  41.772499  43.362499  23.958925  24706060\n",
              "2000-01-05  42.052502  42.052502  38.750000  39.502499  21.826170  22486588\n",
              "2000-01-06  39.502499  39.502499  39.502499  39.502499  21.826170         0\n",
              "2000-01-07  39.000000  41.625000  37.500000  41.625000  22.998907  29794920\n",
              "...               ...        ...        ...        ...        ...       ...\n",
              "2020-11-19   3.286500   3.294000   3.220000   3.251500   3.251500  19614009\n",
              "2020-11-20   3.240500   3.310500   3.232000   3.306000   3.306000  17807262\n",
              "2020-11-23   3.320000   3.328500   3.274500   3.305500   3.305500  16116745\n",
              "2020-11-24   3.320000   3.414500   3.310000   3.400000   3.400000  18199757\n",
              "2020-11-25   3.400000   3.435000   3.370000   3.416000   3.416000  13727174\n",
              "\n",
              "[5313 rows x 6 columns]"
            ]
          },
          "metadata": {
            "tags": []
          },
          "execution_count": 55
        }
      ]
    },
    {
      "cell_type": "code",
      "metadata": {
        "colab": {
          "base_uri": "https://localhost:8080/",
          "height": 235
        },
        "id": "CfeiZ4-v0QIK",
        "outputId": "00a51be0-37e8-420a-e8a7-9ef4137ec471"
      },
      "source": [
        "NOKIA.HE.head()"
      ],
      "execution_count": null,
      "outputs": [
        {
          "output_type": "execute_result",
          "data": {
            "text/html": [
              "<div>\n",
              "<style scoped>\n",
              "    .dataframe tbody tr th:only-of-type {\n",
              "        vertical-align: middle;\n",
              "    }\n",
              "\n",
              "    .dataframe tbody tr th {\n",
              "        vertical-align: top;\n",
              "    }\n",
              "\n",
              "    .dataframe thead th {\n",
              "        text-align: right;\n",
              "    }\n",
              "</style>\n",
              "<table border=\"1\" class=\"dataframe\">\n",
              "  <thead>\n",
              "    <tr style=\"text-align: right;\">\n",
              "      <th></th>\n",
              "      <th>Open</th>\n",
              "      <th>High</th>\n",
              "      <th>Low</th>\n",
              "      <th>Close</th>\n",
              "      <th>Adj Close</th>\n",
              "      <th>Volume</th>\n",
              "    </tr>\n",
              "    <tr>\n",
              "      <th>Date</th>\n",
              "      <th></th>\n",
              "      <th></th>\n",
              "      <th></th>\n",
              "      <th></th>\n",
              "      <th></th>\n",
              "      <th></th>\n",
              "    </tr>\n",
              "  </thead>\n",
              "  <tbody>\n",
              "    <tr>\n",
              "      <th>2000-01-03</th>\n",
              "      <td>47.000000</td>\n",
              "      <td>48.250000</td>\n",
              "      <td>47.000000</td>\n",
              "      <td>47.450001</td>\n",
              "      <td>26.217373</td>\n",
              "      <td>13681940</td>\n",
              "    </tr>\n",
              "    <tr>\n",
              "      <th>2000-01-04</th>\n",
              "      <td>45.000000</td>\n",
              "      <td>45.000000</td>\n",
              "      <td>41.772499</td>\n",
              "      <td>43.362499</td>\n",
              "      <td>23.958925</td>\n",
              "      <td>24706060</td>\n",
              "    </tr>\n",
              "    <tr>\n",
              "      <th>2000-01-05</th>\n",
              "      <td>42.052502</td>\n",
              "      <td>42.052502</td>\n",
              "      <td>38.750000</td>\n",
              "      <td>39.502499</td>\n",
              "      <td>21.826170</td>\n",
              "      <td>22486588</td>\n",
              "    </tr>\n",
              "    <tr>\n",
              "      <th>2000-01-06</th>\n",
              "      <td>39.502499</td>\n",
              "      <td>39.502499</td>\n",
              "      <td>39.502499</td>\n",
              "      <td>39.502499</td>\n",
              "      <td>21.826170</td>\n",
              "      <td>0</td>\n",
              "    </tr>\n",
              "    <tr>\n",
              "      <th>2000-01-07</th>\n",
              "      <td>39.000000</td>\n",
              "      <td>41.625000</td>\n",
              "      <td>37.500000</td>\n",
              "      <td>41.625000</td>\n",
              "      <td>22.998907</td>\n",
              "      <td>29794920</td>\n",
              "    </tr>\n",
              "  </tbody>\n",
              "</table>\n",
              "</div>"
            ],
            "text/plain": [
              "                 Open       High        Low      Close  Adj Close    Volume\n",
              "Date                                                                       \n",
              "2000-01-03  47.000000  48.250000  47.000000  47.450001  26.217373  13681940\n",
              "2000-01-04  45.000000  45.000000  41.772499  43.362499  23.958925  24706060\n",
              "2000-01-05  42.052502  42.052502  38.750000  39.502499  21.826170  22486588\n",
              "2000-01-06  39.502499  39.502499  39.502499  39.502499  21.826170         0\n",
              "2000-01-07  39.000000  41.625000  37.500000  41.625000  22.998907  29794920"
            ]
          },
          "metadata": {
            "tags": []
          },
          "execution_count": 56
        }
      ]
    },
    {
      "cell_type": "code",
      "metadata": {
        "colab": {
          "base_uri": "https://localhost:8080/",
          "height": 235
        },
        "id": "aX87cago0QLn",
        "outputId": "506c527c-f691-4f55-e124-cea4ee8b4436"
      },
      "source": [
        "NOKIA.HE.tail()"
      ],
      "execution_count": null,
      "outputs": [
        {
          "output_type": "execute_result",
          "data": {
            "text/html": [
              "<div>\n",
              "<style scoped>\n",
              "    .dataframe tbody tr th:only-of-type {\n",
              "        vertical-align: middle;\n",
              "    }\n",
              "\n",
              "    .dataframe tbody tr th {\n",
              "        vertical-align: top;\n",
              "    }\n",
              "\n",
              "    .dataframe thead th {\n",
              "        text-align: right;\n",
              "    }\n",
              "</style>\n",
              "<table border=\"1\" class=\"dataframe\">\n",
              "  <thead>\n",
              "    <tr style=\"text-align: right;\">\n",
              "      <th></th>\n",
              "      <th>Open</th>\n",
              "      <th>High</th>\n",
              "      <th>Low</th>\n",
              "      <th>Close</th>\n",
              "      <th>Adj Close</th>\n",
              "      <th>Volume</th>\n",
              "    </tr>\n",
              "    <tr>\n",
              "      <th>Date</th>\n",
              "      <th></th>\n",
              "      <th></th>\n",
              "      <th></th>\n",
              "      <th></th>\n",
              "      <th></th>\n",
              "      <th></th>\n",
              "    </tr>\n",
              "  </thead>\n",
              "  <tbody>\n",
              "    <tr>\n",
              "      <th>2020-11-19</th>\n",
              "      <td>3.2865</td>\n",
              "      <td>3.2940</td>\n",
              "      <td>3.2200</td>\n",
              "      <td>3.2515</td>\n",
              "      <td>3.2515</td>\n",
              "      <td>19614009</td>\n",
              "    </tr>\n",
              "    <tr>\n",
              "      <th>2020-11-20</th>\n",
              "      <td>3.2405</td>\n",
              "      <td>3.3105</td>\n",
              "      <td>3.2320</td>\n",
              "      <td>3.3060</td>\n",
              "      <td>3.3060</td>\n",
              "      <td>17807262</td>\n",
              "    </tr>\n",
              "    <tr>\n",
              "      <th>2020-11-23</th>\n",
              "      <td>3.3200</td>\n",
              "      <td>3.3285</td>\n",
              "      <td>3.2745</td>\n",
              "      <td>3.3055</td>\n",
              "      <td>3.3055</td>\n",
              "      <td>16116745</td>\n",
              "    </tr>\n",
              "    <tr>\n",
              "      <th>2020-11-24</th>\n",
              "      <td>3.3200</td>\n",
              "      <td>3.4145</td>\n",
              "      <td>3.3100</td>\n",
              "      <td>3.4000</td>\n",
              "      <td>3.4000</td>\n",
              "      <td>18199757</td>\n",
              "    </tr>\n",
              "    <tr>\n",
              "      <th>2020-11-25</th>\n",
              "      <td>3.4000</td>\n",
              "      <td>3.4350</td>\n",
              "      <td>3.3700</td>\n",
              "      <td>3.4160</td>\n",
              "      <td>3.4160</td>\n",
              "      <td>13727174</td>\n",
              "    </tr>\n",
              "  </tbody>\n",
              "</table>\n",
              "</div>"
            ],
            "text/plain": [
              "              Open    High     Low   Close  Adj Close    Volume\n",
              "Date                                                           \n",
              "2020-11-19  3.2865  3.2940  3.2200  3.2515     3.2515  19614009\n",
              "2020-11-20  3.2405  3.3105  3.2320  3.3060     3.3060  17807262\n",
              "2020-11-23  3.3200  3.3285  3.2745  3.3055     3.3055  16116745\n",
              "2020-11-24  3.3200  3.4145  3.3100  3.4000     3.4000  18199757\n",
              "2020-11-25  3.4000  3.4350  3.3700  3.4160     3.4160  13727174"
            ]
          },
          "metadata": {
            "tags": []
          },
          "execution_count": 57
        }
      ]
    },
    {
      "cell_type": "code",
      "metadata": {
        "colab": {
          "base_uri": "https://localhost:8080/",
          "height": 297
        },
        "id": "9czxv7kJ0QOD",
        "outputId": "7c3cac29-5223-4cdd-eee4-489f77fc3cae"
      },
      "source": [
        "NOKIA.HE.describe()"
      ],
      "execution_count": null,
      "outputs": [
        {
          "output_type": "execute_result",
          "data": {
            "text/html": [
              "<div>\n",
              "<style scoped>\n",
              "    .dataframe tbody tr th:only-of-type {\n",
              "        vertical-align: middle;\n",
              "    }\n",
              "\n",
              "    .dataframe tbody tr th {\n",
              "        vertical-align: top;\n",
              "    }\n",
              "\n",
              "    .dataframe thead th {\n",
              "        text-align: right;\n",
              "    }\n",
              "</style>\n",
              "<table border=\"1\" class=\"dataframe\">\n",
              "  <thead>\n",
              "    <tr style=\"text-align: right;\">\n",
              "      <th></th>\n",
              "      <th>Open</th>\n",
              "      <th>High</th>\n",
              "      <th>Low</th>\n",
              "      <th>Close</th>\n",
              "      <th>Adj Close</th>\n",
              "      <th>Volume</th>\n",
              "    </tr>\n",
              "  </thead>\n",
              "  <tbody>\n",
              "    <tr>\n",
              "      <th>count</th>\n",
              "      <td>5313.000000</td>\n",
              "      <td>5313.000000</td>\n",
              "      <td>5313.000000</td>\n",
              "      <td>5313.000000</td>\n",
              "      <td>5313.000000</td>\n",
              "      <td>5.313000e+03</td>\n",
              "    </tr>\n",
              "    <tr>\n",
              "      <th>mean</th>\n",
              "      <td>12.371098</td>\n",
              "      <td>12.569562</td>\n",
              "      <td>12.152685</td>\n",
              "      <td>12.360077</td>\n",
              "      <td>7.992876</td>\n",
              "      <td>2.492258e+07</td>\n",
              "    </tr>\n",
              "    <tr>\n",
              "      <th>std</th>\n",
              "      <td>11.377875</td>\n",
              "      <td>11.599631</td>\n",
              "      <td>11.124893</td>\n",
              "      <td>11.372038</td>\n",
              "      <td>6.052416</td>\n",
              "      <td>2.001892e+07</td>\n",
              "    </tr>\n",
              "    <tr>\n",
              "      <th>min</th>\n",
              "      <td>1.400000</td>\n",
              "      <td>1.409000</td>\n",
              "      <td>1.330000</td>\n",
              "      <td>1.371000</td>\n",
              "      <td>1.130905</td>\n",
              "      <td>0.000000e+00</td>\n",
              "    </tr>\n",
              "    <tr>\n",
              "      <th>25%</th>\n",
              "      <td>4.920000</td>\n",
              "      <td>4.975000</td>\n",
              "      <td>4.866000</td>\n",
              "      <td>4.919500</td>\n",
              "      <td>4.402560</td>\n",
              "      <td>1.471980e+07</td>\n",
              "    </tr>\n",
              "    <tr>\n",
              "      <th>50%</th>\n",
              "      <td>8.315000</td>\n",
              "      <td>8.430000</td>\n",
              "      <td>8.210000</td>\n",
              "      <td>8.300000</td>\n",
              "      <td>5.926196</td>\n",
              "      <td>2.117312e+07</td>\n",
              "    </tr>\n",
              "    <tr>\n",
              "      <th>75%</th>\n",
              "      <td>15.490000</td>\n",
              "      <td>15.660000</td>\n",
              "      <td>15.320000</td>\n",
              "      <td>15.490000</td>\n",
              "      <td>9.533983</td>\n",
              "      <td>2.963432e+07</td>\n",
              "    </tr>\n",
              "    <tr>\n",
              "      <th>max</th>\n",
              "      <td>64.000000</td>\n",
              "      <td>65.000000</td>\n",
              "      <td>63.360001</td>\n",
              "      <td>64.879997</td>\n",
              "      <td>36.385704</td>\n",
              "      <td>4.265320e+08</td>\n",
              "    </tr>\n",
              "  </tbody>\n",
              "</table>\n",
              "</div>"
            ],
            "text/plain": [
              "              Open         High  ...    Adj Close        Volume\n",
              "count  5313.000000  5313.000000  ...  5313.000000  5.313000e+03\n",
              "mean     12.371098    12.569562  ...     7.992876  2.492258e+07\n",
              "std      11.377875    11.599631  ...     6.052416  2.001892e+07\n",
              "min       1.400000     1.409000  ...     1.130905  0.000000e+00\n",
              "25%       4.920000     4.975000  ...     4.402560  1.471980e+07\n",
              "50%       8.315000     8.430000  ...     5.926196  2.117312e+07\n",
              "75%      15.490000    15.660000  ...     9.533983  2.963432e+07\n",
              "max      64.000000    65.000000  ...    36.385704  4.265320e+08\n",
              "\n",
              "[8 rows x 6 columns]"
            ]
          },
          "metadata": {
            "tags": []
          },
          "execution_count": 58
        }
      ]
    },
    {
      "cell_type": "code",
      "metadata": {
        "colab": {
          "base_uri": "https://localhost:8080/"
        },
        "id": "5u5Xh_cG07P-",
        "outputId": "72358419-f923-46d5-97d5-e82e4a20561a"
      },
      "source": [
        "NOKIA.HE.info"
      ],
      "execution_count": null,
      "outputs": [
        {
          "output_type": "execute_result",
          "data": {
            "text/plain": [
              "<bound method DataFrame.info of                  Open       High        Low      Close  Adj Close    Volume\n",
              "Date                                                                       \n",
              "2000-01-03  47.000000  48.250000  47.000000  47.450001  26.217373  13681940\n",
              "2000-01-04  45.000000  45.000000  41.772499  43.362499  23.958925  24706060\n",
              "2000-01-05  42.052502  42.052502  38.750000  39.502499  21.826170  22486588\n",
              "2000-01-06  39.502499  39.502499  39.502499  39.502499  21.826170         0\n",
              "2000-01-07  39.000000  41.625000  37.500000  41.625000  22.998907  29794920\n",
              "...               ...        ...        ...        ...        ...       ...\n",
              "2020-11-19   3.286500   3.294000   3.220000   3.251500   3.251500  19614009\n",
              "2020-11-20   3.240500   3.310500   3.232000   3.306000   3.306000  17807262\n",
              "2020-11-23   3.320000   3.328500   3.274500   3.305500   3.305500  16116745\n",
              "2020-11-24   3.320000   3.414500   3.310000   3.400000   3.400000  18199757\n",
              "2020-11-25   3.400000   3.435000   3.370000   3.416000   3.416000  13727174\n",
              "\n",
              "[5313 rows x 6 columns]>"
            ]
          },
          "metadata": {
            "tags": []
          },
          "execution_count": 59
        }
      ]
    },
    {
      "cell_type": "code",
      "metadata": {
        "colab": {
          "base_uri": "https://localhost:8080/"
        },
        "id": "u6KedO8v07Vg",
        "outputId": "56f06772-d7b2-4639-ee00-5eba616993b4"
      },
      "source": [
        "NOKIA.HE.info()"
      ],
      "execution_count": null,
      "outputs": [
        {
          "output_type": "stream",
          "text": [
            "<class 'pandas.core.frame.DataFrame'>\n",
            "DatetimeIndex: 5313 entries, 2000-01-03 to 2020-11-25\n",
            "Data columns (total 6 columns):\n",
            " #   Column     Non-Null Count  Dtype  \n",
            "---  ------     --------------  -----  \n",
            " 0   Open       5313 non-null   float64\n",
            " 1   High       5313 non-null   float64\n",
            " 2   Low        5313 non-null   float64\n",
            " 3   Close      5313 non-null   float64\n",
            " 4   Adj Close  5313 non-null   float64\n",
            " 5   Volume     5313 non-null   int64  \n",
            "dtypes: float64(5), int64(1)\n",
            "memory usage: 290.6 KB\n"
          ],
          "name": "stdout"
        }
      ]
    },
    {
      "cell_type": "code",
      "metadata": {
        "colab": {
          "base_uri": "https://localhost:8080/"
        },
        "id": "oinvpXpX07YL",
        "outputId": "86d5fc66-ea49-431e-ca9a-b9551430c34d"
      },
      "source": [
        "NOKIA.HE.Close"
      ],
      "execution_count": null,
      "outputs": [
        {
          "output_type": "execute_result",
          "data": {
            "text/plain": [
              "Date\n",
              "2000-01-03    47.450001\n",
              "2000-01-04    43.362499\n",
              "2000-01-05    39.502499\n",
              "2000-01-06    39.502499\n",
              "2000-01-07    41.625000\n",
              "                ...    \n",
              "2020-11-19     3.251500\n",
              "2020-11-20     3.306000\n",
              "2020-11-23     3.305500\n",
              "2020-11-24     3.400000\n",
              "2020-11-25     3.416000\n",
              "Name: Close, Length: 5313, dtype: float64"
            ]
          },
          "metadata": {
            "tags": []
          },
          "execution_count": 61
        }
      ]
    },
    {
      "cell_type": "code",
      "metadata": {
        "colab": {
          "base_uri": "https://localhost:8080/",
          "height": 296
        },
        "id": "WiPn6uuf1VLQ",
        "outputId": "8de3766f-30eb-419d-a384-5715f02857f7"
      },
      "source": [
        "plt.xlabel(\"days\")         \n",
        "plt.ylabel(\"price\")    \n",
        "plt.grid()              \n",
        "plt.plot(NOKIA.HE.Close)"
      ],
      "execution_count": null,
      "outputs": [
        {
          "output_type": "execute_result",
          "data": {
            "text/plain": [
              "[<matplotlib.lines.Line2D at 0x7fa78db69c50>]"
            ]
          },
          "metadata": {
            "tags": []
          },
          "execution_count": 62
        },
        {
          "output_type": "display_data",
          "data": {
            "image/png": "[encoded data removed]",
            "text/plain": [
              "<Figure size 432x288 with 1 Axes>"
            ]
          },
          "metadata": {
            "tags": [],
            "needs_background": "light"
          }
        }
      ]
    },
    {
      "cell_type": "code",
      "metadata": {
        "colab": {
          "base_uri": "https://localhost:8080/"
        },
        "id": "VethUs1z1VNs",
        "outputId": "b296ceea-dce3-44f0-e55a-65eb4b39b17f"
      },
      "source": [
        "NOKIA.HE.High"
      ],
      "execution_count": null,
      "outputs": [
        {
          "output_type": "execute_result",
          "data": {
            "text/plain": [
              "Date\n",
              "2000-01-03    48.250000\n",
              "2000-01-04    45.000000\n",
              "2000-01-05    42.052502\n",
              "2000-01-06    39.502499\n",
              "2000-01-07    41.625000\n",
              "                ...    \n",
              "2020-11-19     3.294000\n",
              "2020-11-20     3.310500\n",
              "2020-11-23     3.328500\n",
              "2020-11-24     3.414500\n",
              "2020-11-25     3.435000\n",
              "Name: High, Length: 5313, dtype: float64"
            ]
          },
          "metadata": {
            "tags": []
          },
          "execution_count": 63
        }
      ]
    },
    {
      "cell_type": "code",
      "metadata": {
        "colab": {
          "base_uri": "https://localhost:8080/",
          "height": 296
        },
        "id": "JZJtPhal1VQ_",
        "outputId": "5b02f266-b948-4b8b-a50b-60ea22d7d8c1"
      },
      "source": [
        "plt.xlabel(\"days\")        \n",
        "plt.ylabel(\"price\")   \n",
        "plt.grid()              \n",
        "plt.plot(NOKIA.HE.Close)"
      ],
      "execution_count": null,
      "outputs": [
        {
          "output_type": "execute_result",
          "data": {
            "text/plain": [
              "[<matplotlib.lines.Line2D at 0x7fa78db99588>]"
            ]
          },
          "metadata": {
            "tags": []
          },
          "execution_count": 64
        },
        {
          "output_type": "display_data",
          "data": {
            "image/png": "[encoded data removed]",
            "text/plain": [
              "<Figure size 432x288 with 1 Axes>"
            ]
          },
          "metadata": {
            "tags": [],
            "needs_background": "light"
          }
        }
      ]
    },
    {
      "cell_type": "code",
      "metadata": {
        "colab": {
          "base_uri": "https://localhost:8080/",
          "height": 265
        },
        "id": "aZsONKfr1VVr",
        "outputId": "ab824755-5d9d-4e67-e403-454344a272dc"
      },
      "source": [
        "plt.plot(NOKIA.HE.High)\n",
        "plt.grid()"
      ],
      "execution_count": null,
      "outputs": [
        {
          "output_type": "display_data",
          "data": {
            "image/png": "[encoded data removed]",
            "text/plain": [
              "<Figure size 432x288 with 1 Axes>"
            ]
          },
          "metadata": {
            "tags": [],
            "needs_background": "light"
          }
        }
      ]
    },
    {
      "cell_type": "code",
      "metadata": {
        "colab": {
          "base_uri": "https://localhost:8080/"
        },
        "id": "JshHzpbR1VYN",
        "outputId": "61d0d6b7-64db-47ae-c58f-38f30decf757"
      },
      "source": [
        "NOKIA.HE.shape"
      ],
      "execution_count": null,
      "outputs": [
        {
          "output_type": "execute_result",
          "data": {
            "text/plain": [
              "(5313, 6)"
            ]
          },
          "metadata": {
            "tags": []
          },
          "execution_count": 66
        }
      ]
    },
    {
      "cell_type": "code",
      "metadata": {
        "colab": {
          "base_uri": "https://localhost:8080/"
        },
        "id": "URipO-sn1VdX",
        "outputId": "73eb387d-2fac-46c7-be0f-4297528ff009"
      },
      "source": [
        "NOKIA.HE.Open"
      ],
      "execution_count": null,
      "outputs": [
        {
          "output_type": "execute_result",
          "data": {
            "text/plain": [
              "Date\n",
              "2000-01-03    47.000000\n",
              "2000-01-04    45.000000\n",
              "2000-01-05    42.052502\n",
              "2000-01-06    39.502499\n",
              "2000-01-07    39.000000\n",
              "                ...    \n",
              "2020-11-19     3.286500\n",
              "2020-11-20     3.240500\n",
              "2020-11-23     3.320000\n",
              "2020-11-24     3.320000\n",
              "2020-11-25     3.400000\n",
              "Name: Open, Length: 5313, dtype: float64"
            ]
          },
          "metadata": {
            "tags": []
          },
          "execution_count": 67
        }
      ]
    },
    {
      "cell_type": "code",
      "metadata": {
        "colab": {
          "base_uri": "https://localhost:8080/",
          "height": 299
        },
        "id": "Ha90w9Ab1VTW",
        "outputId": "0b284ae0-de95-4314-f2fa-e82a7f261eea"
      },
      "source": [
        "print(len(NOKIA.HE.Close))\n",
        "las100_days = NOKIA.HE.High[2316:2415]\n",
        "plt.plot(las100_days)"
      ],
      "execution_count": null,
      "outputs": [
        {
          "output_type": "stream",
          "text": [
            "5313\n"
          ],
          "name": "stdout"
        },
        {
          "output_type": "execute_result",
          "data": {
            "text/plain": [
              "[<matplotlib.lines.Line2D at 0x7fa78dc2bac8>]"
            ]
          },
          "metadata": {
            "tags": []
          },
          "execution_count": 68
        },
        {
          "output_type": "display_data",
          "data": {
            "image/png": "[encoded data removed]",
            "text/plain": [
              "<Figure size 432x288 with 1 Axes>"
            ]
          },
          "metadata": {
            "tags": [],
            "needs_background": "light"
          }
        }
      ]
    },
    {
      "cell_type": "code",
      "metadata": {
        "colab": {
          "base_uri": "https://localhost:8080/"
        },
        "id": "cPh_mjkq2EIx",
        "outputId": "e834e012-7bd3-40ea-fe65-cd878c396de7"
      },
      "source": [
        "NOKIA.HE.Close"
      ],
      "execution_count": null,
      "outputs": [
        {
          "output_type": "execute_result",
          "data": {
            "text/plain": [
              "Date\n",
              "2000-01-03    47.450001\n",
              "2000-01-04    43.362499\n",
              "2000-01-05    39.502499\n",
              "2000-01-06    39.502499\n",
              "2000-01-07    41.625000\n",
              "                ...    \n",
              "2020-11-19     3.251500\n",
              "2020-11-20     3.306000\n",
              "2020-11-23     3.305500\n",
              "2020-11-24     3.400000\n",
              "2020-11-25     3.416000\n",
              "Name: Close, Length: 5313, dtype: float64"
            ]
          },
          "metadata": {
            "tags": []
          },
          "execution_count": 69
        }
      ]
    },
    {
      "cell_type": "code",
      "metadata": {
        "colab": {
          "base_uri": "https://localhost:8080/"
        },
        "id": "obBRGv3p2atb",
        "outputId": "f37081e4-a966-4e46-e0a2-56d4366612ae"
      },
      "source": [
        "NOKIA.HE.Volume"
      ],
      "execution_count": null,
      "outputs": [
        {
          "output_type": "execute_result",
          "data": {
            "text/plain": [
              "Date\n",
              "2000-01-03    13681940\n",
              "2000-01-04    24706060\n",
              "2000-01-05    22486588\n",
              "2000-01-06           0\n",
              "2000-01-07    29794920\n",
              "                ...   \n",
              "2020-11-19    19614009\n",
              "2020-11-20    17807262\n",
              "2020-11-23    16116745\n",
              "2020-11-24    18199757\n",
              "2020-11-25    13727174\n",
              "Name: Volume, Length: 5313, dtype: int64"
            ]
          },
          "metadata": {
            "tags": []
          },
          "execution_count": 70
        }
      ]
    }
  ]
}