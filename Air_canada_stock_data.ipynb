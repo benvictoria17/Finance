{
  "nbformat": 4,
  "nbformat_minor": 0,
  "metadata": {
    "colab": {
      "name": "Air_canada_stock_data.ipynb",
      "provenance": [],
      "private_outputs": true,
      "include_colab_link": true
    },
    "kernelspec": {
      "display_name": "Python 3",
      "name": "python3"
    }
  },
  "cells": [
    {
      "cell_type": "markdown",
      "metadata": {
        "id": "view-in-github",
        "colab_type": "text"
      },
      "source": [
        "<a href=\"https://colab.research.google.com/github/benvictoria21/python-stock-/blob/master/Air_canada_stock_data.ipynb\" target=\"_parent\"><img src=\"https://colab.research.google.com/assets/colab-badge.svg\" alt=\"Open In Colab\"/></a>"
      ]
    },
    {
      "cell_type": "code",
      "metadata": {
        "colab_type": "code",
        "id": "DF9z9rVeR3SG",
        "colab": {}
      },
      "source": [
        "import matplotlib.pyplot as plt\n",
        "import numpy as np\n",
        "import math \n",
        "import pandas as pd"
      ],
      "execution_count": null,
      "outputs": []
    },
    {
      "cell_type": "code",
      "metadata": {
        "colab_type": "code",
        "id": "tnkWaZ6zQ9Yf",
        "colab": {}
      },
      "source": [
        "Aircanada = pd.read_csv(\"https://query1.finance.yahoo.com/v7/finance/download/AC.TO?period1=1565471420&period2=1597093820&interval=1d&events=history\")\n",
        "\n",
        "Aircanada"
      ],
      "execution_count": null,
      "outputs": []
    },
    {
      "cell_type": "code",
      "metadata": {
        "colab_type": "code",
        "id": "TxIFtLZLSaLh",
        "colab": {}
      },
      "source": [
        "Aircanada.head()"
      ],
      "execution_count": null,
      "outputs": []
    },
    {
      "cell_type": "code",
      "metadata": {
        "colab_type": "code",
        "id": "uR_2p-D_SrBD",
        "colab": {}
      },
      "source": [
        "Aircanada.head"
      ],
      "execution_count": null,
      "outputs": []
    },
    {
      "cell_type": "code",
      "metadata": {
        "colab_type": "code",
        "id": "uw566sWdStbN",
        "colab": {}
      },
      "source": [
        "plt.plot([0,1,2,3,4])\n",
        "plt.show()"
      ],
      "execution_count": null,
      "outputs": []
    },
    {
      "cell_type": "code",
      "metadata": {
        "colab_type": "code",
        "id": "HVlISVeyS5ib",
        "colab": {}
      },
      "source": [
        "plt.plot([1, 2, 7, 8], [1, 9, 7, 14])\n",
        "plt.show()"
      ],
      "execution_count": null,
      "outputs": []
    },
    {
      "cell_type": "code",
      "metadata": {
        "colab_type": "code",
        "id": "XaSEpAkTTH0H",
        "colab": {}
      },
      "source": [
        "plt.plot([1,2,3,4], [1,7,9,16], 'ro')\n",
        "plt.show()"
      ],
      "execution_count": null,
      "outputs": []
    },
    {
      "cell_type": "code",
      "metadata": {
        "colab_type": "code",
        "id": "m_1kdsRDTKh2",
        "colab": {}
      },
      "source": [
        "a = np.array([[1,2,3,4,5],[3,7,9,14,12]])\n",
        "\n",
        "plt.plot(a[0], a[1], 'go')  # Format is green circles\n",
        "plt.show()"
      ],
      "execution_count": null,
      "outputs": []
    },
    {
      "cell_type": "code",
      "metadata": {
        "colab_type": "code",
        "id": "G73W1skrTNC2",
        "colab": {}
      },
      "source": [
        "t = np.linspace(0, 5, 20)   # Returns 20 evenly spaced numbers between 0 and 5\n",
        "\n",
        "plt.plot(t, t**2, color='coral', linestyle='--')  # t vs t^2, coral color, dashed line\n",
        "plt.plot(t, 4*t, color='indigo', linewidth=2)    # t vs 4t, purple line, linewidth = 2\n",
        "plt.show()"
      ],
      "execution_count": null,
      "outputs": []
    },
    {
      "cell_type": "code",
      "metadata": {
        "colab_type": "code",
        "id": "QzEcKtcTTNTp",
        "colab": {}
      },
      "source": [
        "plt.subplot(1,3,1)       # 1st plot\n",
        "plt.plot(t, t, 'c--')    # t vs t, dashed line\n",
        "\n",
        "plt.subplot(1,3,2)       # 2nd plot\n",
        "plt.plot(t, t**2, 'b-')  # t vs t^2, regular line\n",
        "\n",
        "plt.subplot(1,3,3)       # 3rd line\n",
        "plt.plot(t, t**3, 'mo')  # t vs t^3, circles\n",
        "\n",
        "plt.show()"
      ],
      "execution_count": null,
      "outputs": []
    },
    {
      "cell_type": "code",
      "metadata": {
        "colab_type": "code",
        "id": "vUPbd6mSTNWD",
        "colab": {}
      },
      "source": [
        "# let's generate some random continuous data of 1000 entries\n",
        "x = np.random.randn(1000)\n",
        "\n",
        "plt.hist(x, color='seagreen')\n",
        "plt.xlabel(\"Random Data\")\n",
        "plt.ylabel(\"Frequency\")\n",
        "plt.show()\n"
      ],
      "execution_count": null,
      "outputs": []
    },
    {
      "cell_type": "code",
      "metadata": {
        "colab_type": "code",
        "id": "wuGWGRJlTNf_",
        "colab": {}
      },
      "source": [
        "x = [0,1,2,3,4]\n",
        "y = [0,2,4,6,8]\n",
        "\n",
        "# Resize your Graph (dpi specifies pixels per inch. When saving probably should use 300 if possible)\n",
        "plt.figure(figsize=(8,5), dpi=100)\n",
        "\n",
        "# Line 1\n",
        "\n",
        "# Keyword Argument Notation\n",
        "#plt.plot(x,y, label='2x', color='red', linewidth=2, marker='.', linestyle='--', markersize=10, markeredgecolor='blue')\n",
        "\n",
        "# Shorthand notation\n",
        "# fmt = '[color][marker][line]'\n",
        "plt.plot(x,y, 'b^--', label='2x')\n",
        "\n",
        "## Line 2\n",
        "\n",
        "# select interval we want to plot points at\n",
        "x2 = np.arange(0,4.5,0.5)\n",
        "\n",
        "# Plot part of the graph as line\n",
        "plt.plot(x2[:6], x2[:6]**2, 'r', label='X^2')\n",
        "\n",
        "# Plot remainder of graph as a dot\n",
        "plt.plot(x2[5:], x2[5:]**2, 'r--')\n",
        "\n",
        "# Add a title (specify font parameters with fontdict)\n",
        "plt.title('Our First Graph!', fontdict={'fontname': 'Comic Sans MS', 'fontsize': 20})\n",
        "\n",
        "# X and Y labels\n",
        "plt.xlabel('X Axis')\n",
        "plt.ylabel('Y Axis')\n",
        "\n",
        "# X, Y axis Tickmarks (scale of your graph)\n",
        "plt.xticks([0,1,2,3,4,])\n",
        "#plt.yticks([0,2,4,6,8,10])\n",
        "\n",
        "# Add a legend\n",
        "plt.legend()\n",
        "\n",
        "# Save figure (dpi 300 is good when saving so graph has high resolution)\n",
        "plt.savefig('mygraph.png', dpi=300)\n",
        "\n",
        "# Show plot\n",
        "plt.show()"
      ],
      "execution_count": null,
      "outputs": []
    },
    {
      "cell_type": "code",
      "metadata": {
        "colab_type": "code",
        "id": "P9-UvTjZTNi7",
        "colab": {}
      },
      "source": [
        "labels = ['A', 'B', 'C']\n",
        "values = [1,4,2]\n",
        "\n",
        "plt.figure(figsize=(5,3), dpi=100)\n",
        "\n",
        "bars = plt.bar(labels, values)\n",
        "\n",
        "patterns = ['/', 'O', '*']\n",
        "for bar in bars:\n",
        "    bar.set_hatch(patterns.pop(0))\n",
        "\n",
        "plt.savefig('barchart.png', dpi=300)\n",
        "\n",
        "plt.show()"
      ],
      "execution_count": null,
      "outputs": []
    },
    {
      "cell_type": "code",
      "metadata": {
        "colab_type": "code",
        "id": "6a-tgw2vTNnV",
        "colab": {}
      },
      "source": [
        "Aircanada = pd.read_csv('https://query1.finance.yahoo.com/v7/finance/download/AC.TO?period1=1565471420&period2=1597093820&interval=1d&events=history')\n",
        "\n",
        "Aircanada.head(30)"
      ],
      "execution_count": null,
      "outputs": []
    }
  ]
}