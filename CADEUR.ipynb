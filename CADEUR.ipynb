{
 "cells": [
  {
   "cell_type": "markdown",
   "metadata": {
    "colab_type": "text",
    "id": "view-in-github"
   },
   "source": [
    "<a href=\"https://colab.research.google.com/github/benvictoria21/python-stock/blob/master/CADEUR.ipynb\" target=\"_parent\"><img src=\"https://colab.research.google.com/assets/colab-badge.svg\" alt=\"Open In Colab\"/></a>"
   ]
  },
  {
   "cell_type": "code",
   "execution_count": null,
   "metadata": {
    "colab": {},
    "colab_type": "code",
    "id": "afuT9MQSiJwK"
   },
   "outputs": [],
   "source": [
    "import pandas as pd\n",
    "import numpy as np \n",
    "import matplotlib.pyplot  as plt\n",
    "import math \n",
    "import sqlite3"
   ]
  },
  {
   "cell_type": "code",
   "execution_count": null,
   "metadata": {
    "colab": {},
    "colab_type": "code",
    "id": "zxtG7DDZKsti"
   },
   "outputs": [],
   "source": [
    "CADEUR = pd.read_csv(\"https://raw.githubusercontent.com/benvictoria21/python-stock/master/CADEUR%3DX.csv\")"
   ]
  },
  {
   "cell_type": "code",
   "execution_count": null,
   "metadata": {
    "colab": {},
    "colab_type": "code",
    "id": "Sf-0wjObi6KX"
   },
   "outputs": [],
   "source": [
    "CADEUR.head()"
   ]
  },
  {
   "cell_type": "code",
   "execution_count": null,
   "metadata": {
    "colab": {},
    "colab_type": "code",
    "id": "6CMBuLr-i-cF"
   },
   "outputs": [],
   "source": [
    "CADEUR.tail()"
   ]
  },
  {
   "cell_type": "code",
   "execution_count": null,
   "metadata": {
    "colab": {},
    "colab_type": "code",
    "id": "rceVKwhHjAw-"
   },
   "outputs": [],
   "source": [
    "CADEUR.describe()"
   ]
  },
  {
   "cell_type": "code",
   "execution_count": null,
   "metadata": {
    "colab": {},
    "colab_type": "code",
    "id": "gQD23JEqjElv"
   },
   "outputs": [],
   "source": [
    "CADEUR.head"
   ]
  },
  {
   "cell_type": "code",
   "execution_count": null,
   "metadata": {
    "colab": {},
    "colab_type": "code",
    "id": "__v61Yq3jGjt"
   },
   "outputs": [],
   "source": [
    "import pandas_datareader as pdr \n",
    "import datetime \n",
    "CADEUR = pdr.get_data_yahoo(\"AAPL\",\n",
    "                          start=datetime.datetime(2006,10,1),\n",
    "                          end=datetime.datetime(2012,1,1))\n",
    "\n",
    "CADEUR.head()"
   ]
  },
  {
   "cell_type": "code",
   "execution_count": null,
   "metadata": {
    "colab": {},
    "colab_type": "code",
    "id": "eg0JqPLnkuff"
   },
   "outputs": [],
   "source": [
    "CADEUR.head"
   ]
  },
  {
   "cell_type": "code",
   "execution_count": null,
   "metadata": {
    "colab": {},
    "colab_type": "code",
    "id": "iGunbQ3ek1xs"
   },
   "outputs": [],
   "source": [
    "CADEUR.head()"
   ]
  },
  {
   "cell_type": "code",
   "execution_count": null,
   "metadata": {
    "colab": {},
    "colab_type": "code",
    "id": "wJVtFzNrk6HQ"
   },
   "outputs": [],
   "source": [
    "CADEUR.tail()"
   ]
  },
  {
   "cell_type": "code",
   "execution_count": null,
   "metadata": {
    "colab": {},
    "colab_type": "code",
    "id": "sYn5mlsck_2a"
   },
   "outputs": [],
   "source": [
    "CADEUR.describe()"
   ]
  },
  {
   "cell_type": "code",
   "execution_count": null,
   "metadata": {
    "colab": {},
    "colab_type": "code",
    "id": "Jjgj63dTlAYq"
   },
   "outputs": [],
   "source": [
    "CADEUR.to_csv(\"CADEUR.csv\")"
   ]
  },
  {
   "cell_type": "code",
   "execution_count": null,
   "metadata": {
    "colab": {},
    "colab_type": "code",
    "id": "KOWjZGBGlAWO"
   },
   "outputs": [],
   "source": [
    "import pandas as pd"
   ]
  },
  {
   "cell_type": "code",
   "execution_count": null,
   "metadata": {
    "colab": {},
    "colab_type": "code",
    "id": "I8szKL9ulARu"
   },
   "outputs": [],
   "source": [
    "pd.read_csv(\"CADEUR.csv\")"
   ]
  },
  {
   "cell_type": "code",
   "execution_count": null,
   "metadata": {
    "colab": {},
    "colab_type": "code",
    "id": "prGC16pglAMP"
   },
   "outputs": [],
   "source": [
    "CADEUR.to_excel(\"CADEUR.xls\")"
   ]
  },
  {
   "cell_type": "code",
   "execution_count": null,
   "metadata": {
    "colab": {},
    "colab_type": "code",
    "id": "hQp2gMMwlAJl"
   },
   "outputs": [],
   "source": [
    "pd.read_excel(\"CADEUR.xls\")"
   ]
  },
  {
   "cell_type": "code",
   "execution_count": null,
   "metadata": {
    "colab": {},
    "colab_type": "code",
    "id": "2QKg4kS1lMR3"
   },
   "outputs": [],
   "source": [
    "plt.pie([0,1,2,3,4])\n",
    "plt.show"
   ]
  },
  {
   "cell_type": "code",
   "execution_count": null,
   "metadata": {
    "colab": {},
    "colab_type": "code",
    "id": "c6Lexm-cmAzw"
   },
   "outputs": [],
   "source": [
    "plt.plot([0,1,2,3])\n",
    "plt.show"
   ]
  },
  {
   "cell_type": "code",
   "execution_count": null,
   "metadata": {
    "colab": {},
    "colab_type": "code",
    "id": "wStc2Nzbmrou"
   },
   "outputs": [],
   "source": [
    "plt.plot([0,1,2,3])\n",
    "plt.show"
   ]
  },
  {
   "cell_type": "code",
   "execution_count": null,
   "metadata": {
    "colab": {},
    "colab_type": "code",
    "id": "qWkSWlwPm1Pl"
   },
   "outputs": [],
   "source": [
    "plt.plot([1,2,3,4], [1,7,9,16], 'ro')\n",
    "plt.show()"
   ]
  },
  {
   "cell_type": "code",
   "execution_count": null,
   "metadata": {
    "colab": {},
    "colab_type": "code",
    "id": "B7s4UNOPm4tt"
   },
   "outputs": [],
   "source": [
    "a = np.array([[1,2,3,4,5],[3,7,9,14,12]])\n",
    "\n",
    "plt.plot(a[0], a[1], 'go')  # Format is green circles\n",
    "plt.show()"
   ]
  },
  {
   "cell_type": "code",
   "execution_count": null,
   "metadata": {
    "colab": {},
    "colab_type": "code",
    "id": "cVKV6vPQm7Cq"
   },
   "outputs": [],
   "source": [
    "t = np.linspace(0, 5, 20)   # Returns 20 evenly spaced numbers between 0 and 5\n",
    "\n",
    "plt.plot(t, t**2, color='coral', linestyle='--')  # t vs t^2, coral color, dashed line\n",
    "plt.plot(t, 4*t, color='indigo', linewidth=2)    # t vs 4t, purple line, linewidth = 2\n",
    "plt.show()"
   ]
  },
  {
   "cell_type": "code",
   "execution_count": null,
   "metadata": {
    "colab": {},
    "colab_type": "code",
    "id": "QEJ__gZ_m-__"
   },
   "outputs": [],
   "source": [
    "plt.subplot(1,3,1)       # 1st plot\n",
    "plt.plot(t, t, 'c--')    # t vs t, dashed line\n",
    "\n",
    "plt.subplot(1,3,2)       # 2nd plot\n",
    "plt.plot(t, t**2, 'b-')  # t vs t^2, regular line\n",
    "\n",
    "plt.subplot(1,3,3)       # 3rd line\n",
    "plt.plot(t, t**3, 'mo')  # t vs t^3, circles\n",
    "\n",
    "plt.show()"
   ]
  },
  {
   "cell_type": "code",
   "execution_count": null,
   "metadata": {
    "colab": {},
    "colab_type": "code",
    "id": "qrkDy-xQnHl3"
   },
   "outputs": [],
   "source": [
    "# let's generate some random continuous data of 1000 entries\n",
    "x = np.random.randn(1000)\n",
    "\n",
    "plt.hist(x, color='seagreen')\n",
    "plt.xlabel(\"Random Data\")\n",
    "plt.ylabel(\"Frequency\")\n",
    "plt.show()"
   ]
  },
  {
   "cell_type": "code",
   "execution_count": null,
   "metadata": {
    "colab": {},
    "colab_type": "code",
    "id": "BKeDh2wJnNvV"
   },
   "outputs": [],
   "source": [
    "x = [0,1,2,3,4]\n",
    "y = [0,2,4,6,8]\n",
    "\n",
    "# Resize your Graph (dpi specifies pixels per inch. When saving probably should use 300 if possible)\n",
    "plt.figure(figsize=(8,5), dpi=100)\n",
    "\n",
    "# Line 1\n",
    "\n",
    "# Keyword Argument Notation\n",
    "#plt.plot(x,y, label='2x', color='red', linewidth=2, marker='.', linestyle='--', markersize=10, markeredgecolor='blue')\n",
    "\n",
    "# Shorthand notation\n",
    "# fmt = '[color][marker][line]'\n",
    "plt.plot(x,y, 'b^--', label='2x')\n",
    "\n",
    "## Line 2\n",
    "\n",
    "# select interval we want to plot points at\n",
    "x2 = np.arange(0,4.5,0.5)\n",
    "\n",
    "# Plot part of the graph as line\n",
    "plt.plot(x2[:6], x2[:6]**2, 'r', label='X^2')\n",
    "\n",
    "# Plot remainder of graph as a dot\n",
    "plt.plot(x2[5:], x2[5:]**2, 'r--')\n",
    "\n",
    "# Add a title (specify font parameters with fontdict)\n",
    "plt.title('Our First Graph!', fontdict={'fontname': 'Comic Sans MS', 'fontsize': 20})\n",
    "\n",
    "# X and Y labels\n",
    "plt.xlabel('X Axis')\n",
    "plt.ylabel('Y Axis')\n",
    "\n",
    "# X, Y axis Tickmarks (scale of your graph)\n",
    "plt.xticks([0,1,2,3,4,])\n",
    "#plt.yticks([0,2,4,6,8,10])\n",
    "\n",
    "# Add a legend\n",
    "plt.legend()\n",
    "\n",
    "# Save figure (dpi 300 is good when saving so graph has high resolution)\n",
    "plt.savefig('mygraph.png', dpi=300)\n",
    "\n",
    "# Show plot\n",
    "plt.show()"
   ]
  },
  {
   "cell_type": "code",
   "execution_count": null,
   "metadata": {
    "colab": {},
    "colab_type": "code",
    "id": "NQP8hcO-nSd6"
   },
   "outputs": [],
   "source": [
    "labels = ['A', 'B', 'C']\n",
    "values = [1,4,2]\n",
    "\n",
    "plt.figure(figsize=(5,3), dpi=100)\n",
    "\n",
    "bars = plt.bar(labels, values)\n",
    "\n",
    "patterns = ['/', 'O', '*']\n",
    "for bar in bars:\n",
    "    bar.set_hatch(patterns.pop(0))\n",
    "\n",
    "plt.savefig('barchart.png', dpi=300)\n",
    "\n",
    "plt.show()"
   ]
  },
  {
   "cell_type": "code",
   "execution_count": null,
   "metadata": {
    "colab": {},
    "colab_type": "code",
    "id": "Uqh6D59BnVLf"
   },
   "outputs": [],
   "source": [
    "import os\n",
    "\n",
    "os.chdir('/content')\n",
    "\n",
    "!rm -rf AI-Adventures-*\n",
    "!git clone https://github.com/gauravsingh1012/AI-Adventures-3.git\n",
    "\n",
    "os.chdir('/content/AI-Adventures-3')\n",
    "!pwd"
   ]
  },
  {
   "cell_type": "code",
   "execution_count": null,
   "metadata": {
    "colab": {},
    "colab_type": "code",
    "id": "vsTkscyOnmzV"
   },
   "outputs": [],
   "source": [
    "from stocksAnalyzerBackend import stockTicker"
   ]
  },
  {
   "cell_type": "code",
   "execution_count": null,
   "metadata": {
    "colab": {},
    "colab_type": "code",
    "id": "924cIPSiny95"
   },
   "outputs": [],
   "source": [
    "from IPython.display import clear_output\n",
    "ticker = stockTicker(\"INFY\",\"NSE\")\n",
    "clear_output()\n",
    "\n",
    "# https://www.quandl.com/CADEUR/v3/datasets/WIKI/CADEUR.csv\n",
    "# https://www.quandl.com/CADEUR/v3/datasets/WIKI/CADEUR.json?start_date=1985-05-01&end_date=1997-07-01&order=asc&column_index=4&collapse=quarterly&transformation=rdiff\n",
    "# https://www.quandl.com/CADEUR/v3/datasets/OPEC/CADEUR.json\n",
    "# https://www.quandl.com/CADEUR/v3/datasets/OPEC/CADEUR.xml\n",
    "# https://www.quandl.com/CADEUR/v3/datasets/OPEC/CADEUR.csv?start_date=2003-01-01&end_date=2003-03-06"
   ]
  },
  {
   "cell_type": "code",
   "execution_count": null,
   "metadata": {
    "colab": {},
    "colab_type": "code",
    "id": "YAJicDY0oJqS"
   },
   "outputs": [],
   "source": [
    "# Command for plotting in the notebook\n",
    "import matplotlib.pyplot as plt\n",
    "%matplotlib inline"
   ]
  }
 ],
 "metadata": {
  "colab": {
   "authorship_tag": "ABX9TyMDoDPsCohzbNXOZL4FOVKB",
   "include_colab_link": true,
   "name": "CADEUR.ipynb",
   "private_outputs": true,
   "provenance": []
  },
  "kernelspec": {
   "display_name": "Python 3",
   "name": "python3"
  }
 },
 "nbformat": 4,
 "nbformat_minor": 0
}
