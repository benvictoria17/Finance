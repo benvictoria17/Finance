{
  "nbformat": 4,
  "nbformat_minor": 0,
  "metadata": {
    "colab": {
      "name": "Visa Inc. (V).ipynb",
      "provenance": [],
      "authorship_tag": "ABX9TyMN6rz4Yncoy+RzlxcRpr00",
      "include_colab_link": true
    },
    "kernelspec": {
      "name": "python3",
      "display_name": "Python 3"
    }
  },
  "cells": [
    {
      "cell_type": "markdown",
      "metadata": {
        "id": "view-in-github",
        "colab_type": "text"
      },
      "source": [
        "<a href=\"https://colab.research.google.com/github/benvictoria21/AnalyzeStocks/blob/master/Visa_Inc_(V).ipynb\" target=\"_parent\"><img src=\"https://colab.research.google.com/assets/colab-badge.svg\" alt=\"Open In Colab\"/></a>"
      ]
    },
    {
      "cell_type": "code",
      "metadata": {
        "colab": {
          "base_uri": "https://localhost:8080/"
        },
        "id": "OPn_wNx4dPvH",
        "outputId": "327d3f74-6e7c-43b2-e207-72b828ff2a6d"
      },
      "source": [
        "!sudo pip install  yfinance"
      ],
      "execution_count": 65,
      "outputs": [
        {
          "output_type": "stream",
          "text": [
            "Requirement already satisfied: yfinance in /usr/local/lib/python3.6/dist-packages (0.1.55)\n",
            "Requirement already satisfied: numpy>=1.15 in /usr/local/lib/python3.6/dist-packages (from yfinance) (1.18.5)\n",
            "Requirement already satisfied: lxml>=4.5.1 in /usr/local/lib/python3.6/dist-packages (from yfinance) (4.6.1)\n",
            "Requirement already satisfied: pandas>=0.24 in /usr/local/lib/python3.6/dist-packages (from yfinance) (1.1.4)\n",
            "Requirement already satisfied: multitasking>=0.0.7 in /usr/local/lib/python3.6/dist-packages (from yfinance) (0.0.9)\n",
            "Requirement already satisfied: requests>=2.20 in /usr/local/lib/python3.6/dist-packages (from yfinance) (2.23.0)\n",
            "Requirement already satisfied: python-dateutil>=2.7.3 in /usr/local/lib/python3.6/dist-packages (from pandas>=0.24->yfinance) (2.8.1)\n",
            "Requirement already satisfied: pytz>=2017.2 in /usr/local/lib/python3.6/dist-packages (from pandas>=0.24->yfinance) (2018.9)\n",
            "Requirement already satisfied: chardet<4,>=3.0.2 in /usr/local/lib/python3.6/dist-packages (from requests>=2.20->yfinance) (3.0.4)\n",
            "Requirement already satisfied: certifi>=2017.4.17 in /usr/local/lib/python3.6/dist-packages (from requests>=2.20->yfinance) (2020.11.8)\n",
            "Requirement already satisfied: urllib3!=1.25.0,!=1.25.1,<1.26,>=1.21.1 in /usr/local/lib/python3.6/dist-packages (from requests>=2.20->yfinance) (1.24.3)\n",
            "Requirement already satisfied: idna<3,>=2.5 in /usr/local/lib/python3.6/dist-packages (from requests>=2.20->yfinance) (2.10)\n",
            "Requirement already satisfied: six>=1.5 in /usr/local/lib/python3.6/dist-packages (from python-dateutil>=2.7.3->pandas>=0.24->yfinance) (1.15.0)\n"
          ],
          "name": "stdout"
        }
      ]
    },
    {
      "cell_type": "code",
      "metadata": {
        "id": "k8yoJL99cuXk"
      },
      "source": [
        "import numpy as np \n",
        "import pandas as pd \n",
        "import matplotlib.pyplot as plt\n",
        "import yfinance"
      ],
      "execution_count": 66,
      "outputs": []
    },
    {
      "cell_type": "code",
      "metadata": {
        "colab": {
          "base_uri": "https://localhost:8080/",
          "height": 467
        },
        "id": "Zt4xpw9jdTZt",
        "outputId": "245a4ecb-5449-4bf7-f264-c08185477458"
      },
      "source": [
        "V = yfinance.download(\"V\")\n",
        "V"
      ],
      "execution_count": 67,
      "outputs": [
        {
          "output_type": "stream",
          "text": [
            "\r[*********************100%***********************]  1 of 1 completed\n"
          ],
          "name": "stdout"
        },
        {
          "output_type": "execute_result",
          "data": {
            "text/html": [
              "<div>\n",
              "<style scoped>\n",
              "    .dataframe tbody tr th:only-of-type {\n",
              "        vertical-align: middle;\n",
              "    }\n",
              "\n",
              "    .dataframe tbody tr th {\n",
              "        vertical-align: top;\n",
              "    }\n",
              "\n",
              "    .dataframe thead th {\n",
              "        text-align: right;\n",
              "    }\n",
              "</style>\n",
              "<table border=\"1\" class=\"dataframe\">\n",
              "  <thead>\n",
              "    <tr style=\"text-align: right;\">\n",
              "      <th></th>\n",
              "      <th>Open</th>\n",
              "      <th>High</th>\n",
              "      <th>Low</th>\n",
              "      <th>Close</th>\n",
              "      <th>Adj Close</th>\n",
              "      <th>Volume</th>\n",
              "    </tr>\n",
              "    <tr>\n",
              "      <th>Date</th>\n",
              "      <th></th>\n",
              "      <th></th>\n",
              "      <th></th>\n",
              "      <th></th>\n",
              "      <th></th>\n",
              "      <th></th>\n",
              "    </tr>\n",
              "  </thead>\n",
              "  <tbody>\n",
              "    <tr>\n",
              "      <th>2008-03-19</th>\n",
              "      <td>14.875000</td>\n",
              "      <td>17.250000</td>\n",
              "      <td>13.750000</td>\n",
              "      <td>14.125000</td>\n",
              "      <td>12.901475</td>\n",
              "      <td>708486000</td>\n",
              "    </tr>\n",
              "    <tr>\n",
              "      <th>2008-03-20</th>\n",
              "      <td>14.600000</td>\n",
              "      <td>16.250000</td>\n",
              "      <td>14.375000</td>\n",
              "      <td>16.087500</td>\n",
              "      <td>14.693976</td>\n",
              "      <td>198985200</td>\n",
              "    </tr>\n",
              "    <tr>\n",
              "      <th>2008-03-24</th>\n",
              "      <td>16.809999</td>\n",
              "      <td>16.924999</td>\n",
              "      <td>14.750000</td>\n",
              "      <td>14.932500</td>\n",
              "      <td>13.639026</td>\n",
              "      <td>149566400</td>\n",
              "    </tr>\n",
              "    <tr>\n",
              "      <th>2008-03-25</th>\n",
              "      <td>15.145000</td>\n",
              "      <td>16.062500</td>\n",
              "      <td>14.955000</td>\n",
              "      <td>15.812500</td>\n",
              "      <td>14.442798</td>\n",
              "      <td>87092000</td>\n",
              "    </tr>\n",
              "    <tr>\n",
              "      <th>2008-03-26</th>\n",
              "      <td>15.682500</td>\n",
              "      <td>16.120001</td>\n",
              "      <td>15.392500</td>\n",
              "      <td>15.990000</td>\n",
              "      <td>14.604924</td>\n",
              "      <td>43111600</td>\n",
              "    </tr>\n",
              "    <tr>\n",
              "      <th>...</th>\n",
              "      <td>...</td>\n",
              "      <td>...</td>\n",
              "      <td>...</td>\n",
              "      <td>...</td>\n",
              "      <td>...</td>\n",
              "      <td>...</td>\n",
              "    </tr>\n",
              "    <tr>\n",
              "      <th>2020-11-19</th>\n",
              "      <td>207.240005</td>\n",
              "      <td>208.729996</td>\n",
              "      <td>205.529999</td>\n",
              "      <td>207.570007</td>\n",
              "      <td>207.570007</td>\n",
              "      <td>5657200</td>\n",
              "    </tr>\n",
              "    <tr>\n",
              "      <th>2020-11-20</th>\n",
              "      <td>207.130005</td>\n",
              "      <td>208.110001</td>\n",
              "      <td>203.809998</td>\n",
              "      <td>203.880005</td>\n",
              "      <td>203.880005</td>\n",
              "      <td>9653500</td>\n",
              "    </tr>\n",
              "    <tr>\n",
              "      <th>2020-11-23</th>\n",
              "      <td>204.699997</td>\n",
              "      <td>209.000000</td>\n",
              "      <td>204.699997</td>\n",
              "      <td>208.160004</td>\n",
              "      <td>208.160004</td>\n",
              "      <td>6101900</td>\n",
              "    </tr>\n",
              "    <tr>\n",
              "      <th>2020-11-24</th>\n",
              "      <td>210.850006</td>\n",
              "      <td>213.820007</td>\n",
              "      <td>209.399994</td>\n",
              "      <td>209.679993</td>\n",
              "      <td>209.679993</td>\n",
              "      <td>10110800</td>\n",
              "    </tr>\n",
              "    <tr>\n",
              "      <th>2020-11-25</th>\n",
              "      <td>209.669998</td>\n",
              "      <td>211.949997</td>\n",
              "      <td>208.869995</td>\n",
              "      <td>210.889999</td>\n",
              "      <td>210.889999</td>\n",
              "      <td>6772400</td>\n",
              "    </tr>\n",
              "  </tbody>\n",
              "</table>\n",
              "<p>3197 rows × 6 columns</p>\n",
              "</div>"
            ],
            "text/plain": [
              "                  Open        High  ...   Adj Close     Volume\n",
              "Date                                ...                       \n",
              "2008-03-19   14.875000   17.250000  ...   12.901475  708486000\n",
              "2008-03-20   14.600000   16.250000  ...   14.693976  198985200\n",
              "2008-03-24   16.809999   16.924999  ...   13.639026  149566400\n",
              "2008-03-25   15.145000   16.062500  ...   14.442798   87092000\n",
              "2008-03-26   15.682500   16.120001  ...   14.604924   43111600\n",
              "...                ...         ...  ...         ...        ...\n",
              "2020-11-19  207.240005  208.729996  ...  207.570007    5657200\n",
              "2020-11-20  207.130005  208.110001  ...  203.880005    9653500\n",
              "2020-11-23  204.699997  209.000000  ...  208.160004    6101900\n",
              "2020-11-24  210.850006  213.820007  ...  209.679993   10110800\n",
              "2020-11-25  209.669998  211.949997  ...  210.889999    6772400\n",
              "\n",
              "[3197 rows x 6 columns]"
            ]
          },
          "metadata": {
            "tags": []
          },
          "execution_count": 67
        }
      ]
    },
    {
      "cell_type": "code",
      "metadata": {
        "colab": {
          "base_uri": "https://localhost:8080/",
          "height": 235
        },
        "id": "ENQnVAzVdlt5",
        "outputId": "be09c73f-7ac8-4872-a8bd-403927fdcc6c"
      },
      "source": [
        "V.head()"
      ],
      "execution_count": 68,
      "outputs": [
        {
          "output_type": "execute_result",
          "data": {
            "text/html": [
              "<div>\n",
              "<style scoped>\n",
              "    .dataframe tbody tr th:only-of-type {\n",
              "        vertical-align: middle;\n",
              "    }\n",
              "\n",
              "    .dataframe tbody tr th {\n",
              "        vertical-align: top;\n",
              "    }\n",
              "\n",
              "    .dataframe thead th {\n",
              "        text-align: right;\n",
              "    }\n",
              "</style>\n",
              "<table border=\"1\" class=\"dataframe\">\n",
              "  <thead>\n",
              "    <tr style=\"text-align: right;\">\n",
              "      <th></th>\n",
              "      <th>Open</th>\n",
              "      <th>High</th>\n",
              "      <th>Low</th>\n",
              "      <th>Close</th>\n",
              "      <th>Adj Close</th>\n",
              "      <th>Volume</th>\n",
              "    </tr>\n",
              "    <tr>\n",
              "      <th>Date</th>\n",
              "      <th></th>\n",
              "      <th></th>\n",
              "      <th></th>\n",
              "      <th></th>\n",
              "      <th></th>\n",
              "      <th></th>\n",
              "    </tr>\n",
              "  </thead>\n",
              "  <tbody>\n",
              "    <tr>\n",
              "      <th>2008-03-19</th>\n",
              "      <td>14.875000</td>\n",
              "      <td>17.250000</td>\n",
              "      <td>13.7500</td>\n",
              "      <td>14.1250</td>\n",
              "      <td>12.901475</td>\n",
              "      <td>708486000</td>\n",
              "    </tr>\n",
              "    <tr>\n",
              "      <th>2008-03-20</th>\n",
              "      <td>14.600000</td>\n",
              "      <td>16.250000</td>\n",
              "      <td>14.3750</td>\n",
              "      <td>16.0875</td>\n",
              "      <td>14.693976</td>\n",
              "      <td>198985200</td>\n",
              "    </tr>\n",
              "    <tr>\n",
              "      <th>2008-03-24</th>\n",
              "      <td>16.809999</td>\n",
              "      <td>16.924999</td>\n",
              "      <td>14.7500</td>\n",
              "      <td>14.9325</td>\n",
              "      <td>13.639026</td>\n",
              "      <td>149566400</td>\n",
              "    </tr>\n",
              "    <tr>\n",
              "      <th>2008-03-25</th>\n",
              "      <td>15.145000</td>\n",
              "      <td>16.062500</td>\n",
              "      <td>14.9550</td>\n",
              "      <td>15.8125</td>\n",
              "      <td>14.442798</td>\n",
              "      <td>87092000</td>\n",
              "    </tr>\n",
              "    <tr>\n",
              "      <th>2008-03-26</th>\n",
              "      <td>15.682500</td>\n",
              "      <td>16.120001</td>\n",
              "      <td>15.3925</td>\n",
              "      <td>15.9900</td>\n",
              "      <td>14.604924</td>\n",
              "      <td>43111600</td>\n",
              "    </tr>\n",
              "  </tbody>\n",
              "</table>\n",
              "</div>"
            ],
            "text/plain": [
              "                 Open       High      Low    Close  Adj Close     Volume\n",
              "Date                                                                    \n",
              "2008-03-19  14.875000  17.250000  13.7500  14.1250  12.901475  708486000\n",
              "2008-03-20  14.600000  16.250000  14.3750  16.0875  14.693976  198985200\n",
              "2008-03-24  16.809999  16.924999  14.7500  14.9325  13.639026  149566400\n",
              "2008-03-25  15.145000  16.062500  14.9550  15.8125  14.442798   87092000\n",
              "2008-03-26  15.682500  16.120001  15.3925  15.9900  14.604924   43111600"
            ]
          },
          "metadata": {
            "tags": []
          },
          "execution_count": 68
        }
      ]
    },
    {
      "cell_type": "code",
      "metadata": {
        "colab": {
          "base_uri": "https://localhost:8080/"
        },
        "id": "tGp4wu1wdlw8",
        "outputId": "0cf774ef-b42c-457d-f62f-f5b6b4dc4e78"
      },
      "source": [
        "V.Close"
      ],
      "execution_count": 69,
      "outputs": [
        {
          "output_type": "execute_result",
          "data": {
            "text/plain": [
              "Date\n",
              "2008-03-19     14.125000\n",
              "2008-03-20     16.087500\n",
              "2008-03-24     14.932500\n",
              "2008-03-25     15.812500\n",
              "2008-03-26     15.990000\n",
              "                 ...    \n",
              "2020-11-19    207.570007\n",
              "2020-11-20    203.880005\n",
              "2020-11-23    208.160004\n",
              "2020-11-24    209.679993\n",
              "2020-11-25    210.889999\n",
              "Name: Close, Length: 3197, dtype: float64"
            ]
          },
          "metadata": {
            "tags": []
          },
          "execution_count": 69
        }
      ]
    },
    {
      "cell_type": "code",
      "metadata": {
        "colab": {
          "base_uri": "https://localhost:8080/",
          "height": 296
        },
        "id": "JGG54M7rdl0G",
        "outputId": "39de06d3-2672-4480-f81e-970e97a2510f"
      },
      "source": [
        "plt.xlabel(\"days\")         \n",
        "plt.ylabel(\"price\")    \n",
        "plt.grid()              \n",
        "plt.plot(V.Close)"
      ],
      "execution_count": 70,
      "outputs": [
        {
          "output_type": "execute_result",
          "data": {
            "text/plain": [
              "[<matplotlib.lines.Line2D at 0x7fb1f15c8128>]"
            ]
          },
          "metadata": {
            "tags": []
          },
          "execution_count": 70
        },
        {
          "output_type": "display_data",
          "data": {
            "image/png": "[encoded data removed]",
            "text/plain": [
              "<Figure size 432x288 with 1 Axes>"
            ]
          },
          "metadata": {
            "tags": [],
            "needs_background": "light"
          }
        }
      ]
    },
    {
      "cell_type": "code",
      "metadata": {
        "colab": {
          "base_uri": "https://localhost:8080/"
        },
        "id": "mAi2iuVodl11",
        "outputId": "1f333ab1-1c66-4b67-9a0d-9ace7bc0e8f7"
      },
      "source": [
        "V.High"
      ],
      "execution_count": 71,
      "outputs": [
        {
          "output_type": "execute_result",
          "data": {
            "text/plain": [
              "Date\n",
              "2008-03-19     17.250000\n",
              "2008-03-20     16.250000\n",
              "2008-03-24     16.924999\n",
              "2008-03-25     16.062500\n",
              "2008-03-26     16.120001\n",
              "                 ...    \n",
              "2020-11-19    208.729996\n",
              "2020-11-20    208.110001\n",
              "2020-11-23    209.000000\n",
              "2020-11-24    213.820007\n",
              "2020-11-25    211.949997\n",
              "Name: High, Length: 3197, dtype: float64"
            ]
          },
          "metadata": {
            "tags": []
          },
          "execution_count": 71
        }
      ]
    },
    {
      "cell_type": "code",
      "metadata": {
        "colab": {
          "base_uri": "https://localhost:8080/",
          "height": 265
        },
        "id": "6lcDQiR0dl7u",
        "outputId": "2f95f277-82b2-4d89-b42e-1addfc3b048d"
      },
      "source": [
        "plt.plot(V.High)\n",
        "plt.grid()"
      ],
      "execution_count": 72,
      "outputs": [
        {
          "output_type": "display_data",
          "data": {
            "image/png": "[encoded data removed]",
            "text/plain": [
              "<Figure size 432x288 with 1 Axes>"
            ]
          },
          "metadata": {
            "tags": [],
            "needs_background": "light"
          }
        }
      ]
    },
    {
      "cell_type": "code",
      "metadata": {
        "colab": {
          "base_uri": "https://localhost:8080/"
        },
        "id": "t2C6ZCUGdl_E",
        "outputId": "c0becc22-5b4c-4614-b25c-3d14bec475d7"
      },
      "source": [
        "V.Open"
      ],
      "execution_count": 73,
      "outputs": [
        {
          "output_type": "execute_result",
          "data": {
            "text/plain": [
              "Date\n",
              "2008-03-19     14.875000\n",
              "2008-03-20     14.600000\n",
              "2008-03-24     16.809999\n",
              "2008-03-25     15.145000\n",
              "2008-03-26     15.682500\n",
              "                 ...    \n",
              "2020-11-19    207.240005\n",
              "2020-11-20    207.130005\n",
              "2020-11-23    204.699997\n",
              "2020-11-24    210.850006\n",
              "2020-11-25    209.669998\n",
              "Name: Open, Length: 3197, dtype: float64"
            ]
          },
          "metadata": {
            "tags": []
          },
          "execution_count": 73
        }
      ]
    }
  ]
}