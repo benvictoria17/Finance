{
  "nbformat": 4,
  "nbformat_minor": 0,
  "metadata": {
    "colab": {
      "name": "Starbucks Corporation (SBUX).ipynb",
      "provenance": [],
      "authorship_tag": "ABX9TyNTmJ8yYANSQZrlKvwCCTv+",
      "include_colab_link": true
    },
    "kernelspec": {
      "name": "python3",
      "display_name": "Python 3"
    }
  },
  "cells": [
    {
      "cell_type": "markdown",
      "metadata": {
        "id": "view-in-github",
        "colab_type": "text"
      },
      "source": [
        "<a href=\"https://colab.research.google.com/github/benvictoria21/AnalyzeStocks/blob/master/Starbucks_Corporation_(SBUX).ipynb\" target=\"_parent\"><img src=\"https://colab.research.google.com/assets/colab-badge.svg\" alt=\"Open In Colab\"/></a>"
      ]
    },
    {
      "cell_type": "code",
      "metadata": {
        "colab": {
          "base_uri": "https://localhost:8080/"
        },
        "id": "OPn_wNx4dPvH",
        "outputId": "b8896d66-6a2c-4b95-8732-a545dbb58fd5"
      },
      "source": [
        "!sudo pip install  yfinance"
      ],
      "execution_count": 47,
      "outputs": [
        {
          "output_type": "stream",
          "text": [
            "Requirement already satisfied: yfinance in /usr/local/lib/python3.6/dist-packages (0.1.55)\n",
            "Requirement already satisfied: numpy>=1.15 in /usr/local/lib/python3.6/dist-packages (from yfinance) (1.18.5)\n",
            "Requirement already satisfied: lxml>=4.5.1 in /usr/local/lib/python3.6/dist-packages (from yfinance) (4.6.1)\n",
            "Requirement already satisfied: pandas>=0.24 in /usr/local/lib/python3.6/dist-packages (from yfinance) (1.1.4)\n",
            "Requirement already satisfied: requests>=2.20 in /usr/local/lib/python3.6/dist-packages (from yfinance) (2.23.0)\n",
            "Requirement already satisfied: multitasking>=0.0.7 in /usr/local/lib/python3.6/dist-packages (from yfinance) (0.0.9)\n",
            "Requirement already satisfied: python-dateutil>=2.7.3 in /usr/local/lib/python3.6/dist-packages (from pandas>=0.24->yfinance) (2.8.1)\n",
            "Requirement already satisfied: pytz>=2017.2 in /usr/local/lib/python3.6/dist-packages (from pandas>=0.24->yfinance) (2018.9)\n",
            "Requirement already satisfied: certifi>=2017.4.17 in /usr/local/lib/python3.6/dist-packages (from requests>=2.20->yfinance) (2020.11.8)\n",
            "Requirement already satisfied: urllib3!=1.25.0,!=1.25.1,<1.26,>=1.21.1 in /usr/local/lib/python3.6/dist-packages (from requests>=2.20->yfinance) (1.24.3)\n",
            "Requirement already satisfied: idna<3,>=2.5 in /usr/local/lib/python3.6/dist-packages (from requests>=2.20->yfinance) (2.10)\n",
            "Requirement already satisfied: chardet<4,>=3.0.2 in /usr/local/lib/python3.6/dist-packages (from requests>=2.20->yfinance) (3.0.4)\n",
            "Requirement already satisfied: six>=1.5 in /usr/local/lib/python3.6/dist-packages (from python-dateutil>=2.7.3->pandas>=0.24->yfinance) (1.15.0)\n"
          ],
          "name": "stdout"
        }
      ]
    },
    {
      "cell_type": "code",
      "metadata": {
        "id": "k8yoJL99cuXk"
      },
      "source": [
        "import numpy as np \n",
        "import pandas as pd \n",
        "import matplotlib.pyplot as plt\n",
        "import yfinance"
      ],
      "execution_count": 48,
      "outputs": []
    },
    {
      "cell_type": "code",
      "metadata": {
        "colab": {
          "base_uri": "https://localhost:8080/",
          "height": 467
        },
        "id": "Zt4xpw9jdTZt",
        "outputId": "d5816c4a-c89b-4211-f979-ceb4d91d497e"
      },
      "source": [
        "SBUX = yfinance.download(\"SBUX\")\n",
        "SBUX"
      ],
      "execution_count": 49,
      "outputs": [
        {
          "output_type": "stream",
          "text": [
            "\r[*********************100%***********************]  1 of 1 completed\n"
          ],
          "name": "stdout"
        },
        {
          "output_type": "execute_result",
          "data": {
            "text/html": [
              "<div>\n",
              "<style scoped>\n",
              "    .dataframe tbody tr th:only-of-type {\n",
              "        vertical-align: middle;\n",
              "    }\n",
              "\n",
              "    .dataframe tbody tr th {\n",
              "        vertical-align: top;\n",
              "    }\n",
              "\n",
              "    .dataframe thead th {\n",
              "        text-align: right;\n",
              "    }\n",
              "</style>\n",
              "<table border=\"1\" class=\"dataframe\">\n",
              "  <thead>\n",
              "    <tr style=\"text-align: right;\">\n",
              "      <th></th>\n",
              "      <th>Open</th>\n",
              "      <th>High</th>\n",
              "      <th>Low</th>\n",
              "      <th>Close</th>\n",
              "      <th>Adj Close</th>\n",
              "      <th>Volume</th>\n",
              "    </tr>\n",
              "    <tr>\n",
              "      <th>Date</th>\n",
              "      <th></th>\n",
              "      <th></th>\n",
              "      <th></th>\n",
              "      <th></th>\n",
              "      <th></th>\n",
              "      <th></th>\n",
              "    </tr>\n",
              "  </thead>\n",
              "  <tbody>\n",
              "    <tr>\n",
              "      <th>1992-06-26</th>\n",
              "      <td>0.328125</td>\n",
              "      <td>0.347656</td>\n",
              "      <td>0.320312</td>\n",
              "      <td>0.335938</td>\n",
              "      <td>0.280784</td>\n",
              "      <td>224358400</td>\n",
              "    </tr>\n",
              "    <tr>\n",
              "      <th>1992-06-29</th>\n",
              "      <td>0.339844</td>\n",
              "      <td>0.367188</td>\n",
              "      <td>0.332031</td>\n",
              "      <td>0.359375</td>\n",
              "      <td>0.300374</td>\n",
              "      <td>58732800</td>\n",
              "    </tr>\n",
              "    <tr>\n",
              "      <th>1992-06-30</th>\n",
              "      <td>0.367188</td>\n",
              "      <td>0.371094</td>\n",
              "      <td>0.343750</td>\n",
              "      <td>0.347656</td>\n",
              "      <td>0.290579</td>\n",
              "      <td>34777600</td>\n",
              "    </tr>\n",
              "    <tr>\n",
              "      <th>1992-07-01</th>\n",
              "      <td>0.351562</td>\n",
              "      <td>0.359375</td>\n",
              "      <td>0.339844</td>\n",
              "      <td>0.355469</td>\n",
              "      <td>0.297109</td>\n",
              "      <td>18316800</td>\n",
              "    </tr>\n",
              "    <tr>\n",
              "      <th>1992-07-02</th>\n",
              "      <td>0.359375</td>\n",
              "      <td>0.359375</td>\n",
              "      <td>0.347656</td>\n",
              "      <td>0.355469</td>\n",
              "      <td>0.297109</td>\n",
              "      <td>13996800</td>\n",
              "    </tr>\n",
              "    <tr>\n",
              "      <th>...</th>\n",
              "      <td>...</td>\n",
              "      <td>...</td>\n",
              "      <td>...</td>\n",
              "      <td>...</td>\n",
              "      <td>...</td>\n",
              "      <td>...</td>\n",
              "    </tr>\n",
              "    <tr>\n",
              "      <th>2020-11-19</th>\n",
              "      <td>97.239998</td>\n",
              "      <td>97.919998</td>\n",
              "      <td>96.860001</td>\n",
              "      <td>97.760002</td>\n",
              "      <td>97.760002</td>\n",
              "      <td>4252300</td>\n",
              "    </tr>\n",
              "    <tr>\n",
              "      <th>2020-11-20</th>\n",
              "      <td>97.419998</td>\n",
              "      <td>97.540001</td>\n",
              "      <td>96.949997</td>\n",
              "      <td>97.010002</td>\n",
              "      <td>97.010002</td>\n",
              "      <td>4609700</td>\n",
              "    </tr>\n",
              "    <tr>\n",
              "      <th>2020-11-23</th>\n",
              "      <td>97.620003</td>\n",
              "      <td>97.860001</td>\n",
              "      <td>96.419998</td>\n",
              "      <td>96.879997</td>\n",
              "      <td>96.879997</td>\n",
              "      <td>4803200</td>\n",
              "    </tr>\n",
              "    <tr>\n",
              "      <th>2020-11-24</th>\n",
              "      <td>97.510002</td>\n",
              "      <td>98.720001</td>\n",
              "      <td>97.400002</td>\n",
              "      <td>98.300003</td>\n",
              "      <td>98.300003</td>\n",
              "      <td>6319900</td>\n",
              "    </tr>\n",
              "    <tr>\n",
              "      <th>2020-11-25</th>\n",
              "      <td>98.500000</td>\n",
              "      <td>98.540001</td>\n",
              "      <td>97.940002</td>\n",
              "      <td>98.199997</td>\n",
              "      <td>98.199997</td>\n",
              "      <td>4026300</td>\n",
              "    </tr>\n",
              "  </tbody>\n",
              "</table>\n",
              "<p>7159 rows × 6 columns</p>\n",
              "</div>"
            ],
            "text/plain": [
              "                 Open       High        Low      Close  Adj Close     Volume\n",
              "Date                                                                        \n",
              "1992-06-26   0.328125   0.347656   0.320312   0.335938   0.280784  224358400\n",
              "1992-06-29   0.339844   0.367188   0.332031   0.359375   0.300374   58732800\n",
              "1992-06-30   0.367188   0.371094   0.343750   0.347656   0.290579   34777600\n",
              "1992-07-01   0.351562   0.359375   0.339844   0.355469   0.297109   18316800\n",
              "1992-07-02   0.359375   0.359375   0.347656   0.355469   0.297109   13996800\n",
              "...               ...        ...        ...        ...        ...        ...\n",
              "2020-11-19  97.239998  97.919998  96.860001  97.760002  97.760002    4252300\n",
              "2020-11-20  97.419998  97.540001  96.949997  97.010002  97.010002    4609700\n",
              "2020-11-23  97.620003  97.860001  96.419998  96.879997  96.879997    4803200\n",
              "2020-11-24  97.510002  98.720001  97.400002  98.300003  98.300003    6319900\n",
              "2020-11-25  98.500000  98.540001  97.940002  98.199997  98.199997    4026300\n",
              "\n",
              "[7159 rows x 6 columns]"
            ]
          },
          "metadata": {
            "tags": []
          },
          "execution_count": 49
        }
      ]
    },
    {
      "cell_type": "code",
      "metadata": {
        "colab": {
          "base_uri": "https://localhost:8080/",
          "height": 235
        },
        "id": "ENQnVAzVdlt5",
        "outputId": "16c31c84-5583-4c12-8909-ce09487b0b76"
      },
      "source": [
        "SBUX.head()"
      ],
      "execution_count": 50,
      "outputs": [
        {
          "output_type": "execute_result",
          "data": {
            "text/html": [
              "<div>\n",
              "<style scoped>\n",
              "    .dataframe tbody tr th:only-of-type {\n",
              "        vertical-align: middle;\n",
              "    }\n",
              "\n",
              "    .dataframe tbody tr th {\n",
              "        vertical-align: top;\n",
              "    }\n",
              "\n",
              "    .dataframe thead th {\n",
              "        text-align: right;\n",
              "    }\n",
              "</style>\n",
              "<table border=\"1\" class=\"dataframe\">\n",
              "  <thead>\n",
              "    <tr style=\"text-align: right;\">\n",
              "      <th></th>\n",
              "      <th>Open</th>\n",
              "      <th>High</th>\n",
              "      <th>Low</th>\n",
              "      <th>Close</th>\n",
              "      <th>Adj Close</th>\n",
              "      <th>Volume</th>\n",
              "    </tr>\n",
              "    <tr>\n",
              "      <th>Date</th>\n",
              "      <th></th>\n",
              "      <th></th>\n",
              "      <th></th>\n",
              "      <th></th>\n",
              "      <th></th>\n",
              "      <th></th>\n",
              "    </tr>\n",
              "  </thead>\n",
              "  <tbody>\n",
              "    <tr>\n",
              "      <th>1992-06-26</th>\n",
              "      <td>0.328125</td>\n",
              "      <td>0.347656</td>\n",
              "      <td>0.320312</td>\n",
              "      <td>0.335938</td>\n",
              "      <td>0.280784</td>\n",
              "      <td>224358400</td>\n",
              "    </tr>\n",
              "    <tr>\n",
              "      <th>1992-06-29</th>\n",
              "      <td>0.339844</td>\n",
              "      <td>0.367188</td>\n",
              "      <td>0.332031</td>\n",
              "      <td>0.359375</td>\n",
              "      <td>0.300374</td>\n",
              "      <td>58732800</td>\n",
              "    </tr>\n",
              "    <tr>\n",
              "      <th>1992-06-30</th>\n",
              "      <td>0.367188</td>\n",
              "      <td>0.371094</td>\n",
              "      <td>0.343750</td>\n",
              "      <td>0.347656</td>\n",
              "      <td>0.290579</td>\n",
              "      <td>34777600</td>\n",
              "    </tr>\n",
              "    <tr>\n",
              "      <th>1992-07-01</th>\n",
              "      <td>0.351562</td>\n",
              "      <td>0.359375</td>\n",
              "      <td>0.339844</td>\n",
              "      <td>0.355469</td>\n",
              "      <td>0.297109</td>\n",
              "      <td>18316800</td>\n",
              "    </tr>\n",
              "    <tr>\n",
              "      <th>1992-07-02</th>\n",
              "      <td>0.359375</td>\n",
              "      <td>0.359375</td>\n",
              "      <td>0.347656</td>\n",
              "      <td>0.355469</td>\n",
              "      <td>0.297109</td>\n",
              "      <td>13996800</td>\n",
              "    </tr>\n",
              "  </tbody>\n",
              "</table>\n",
              "</div>"
            ],
            "text/plain": [
              "                Open      High       Low     Close  Adj Close     Volume\n",
              "Date                                                                    \n",
              "1992-06-26  0.328125  0.347656  0.320312  0.335938   0.280784  224358400\n",
              "1992-06-29  0.339844  0.367188  0.332031  0.359375   0.300374   58732800\n",
              "1992-06-30  0.367188  0.371094  0.343750  0.347656   0.290579   34777600\n",
              "1992-07-01  0.351562  0.359375  0.339844  0.355469   0.297109   18316800\n",
              "1992-07-02  0.359375  0.359375  0.347656  0.355469   0.297109   13996800"
            ]
          },
          "metadata": {
            "tags": []
          },
          "execution_count": 50
        }
      ]
    },
    {
      "cell_type": "code",
      "metadata": {
        "colab": {
          "base_uri": "https://localhost:8080/"
        },
        "id": "tGp4wu1wdlw8",
        "outputId": "223360c7-27cf-4529-ce5a-0ad9b32de2cf"
      },
      "source": [
        "SBUX.Close"
      ],
      "execution_count": 51,
      "outputs": [
        {
          "output_type": "execute_result",
          "data": {
            "text/plain": [
              "Date\n",
              "1992-06-26     0.335938\n",
              "1992-06-29     0.359375\n",
              "1992-06-30     0.347656\n",
              "1992-07-01     0.355469\n",
              "1992-07-02     0.355469\n",
              "                ...    \n",
              "2020-11-19    97.760002\n",
              "2020-11-20    97.010002\n",
              "2020-11-23    96.879997\n",
              "2020-11-24    98.300003\n",
              "2020-11-25    98.199997\n",
              "Name: Close, Length: 7159, dtype: float64"
            ]
          },
          "metadata": {
            "tags": []
          },
          "execution_count": 51
        }
      ]
    },
    {
      "cell_type": "code",
      "metadata": {
        "colab": {
          "base_uri": "https://localhost:8080/",
          "height": 296
        },
        "id": "JGG54M7rdl0G",
        "outputId": "99133c8d-2f3e-4c9a-c087-c2692632cb51"
      },
      "source": [
        "plt.xlabel(\"days\")         \n",
        "plt.ylabel(\"price\")    \n",
        "plt.grid()              \n",
        "plt.plot(SBUX.Close)"
      ],
      "execution_count": 52,
      "outputs": [
        {
          "output_type": "execute_result",
          "data": {
            "text/plain": [
              "[<matplotlib.lines.Line2D at 0x7fb1f17b1be0>]"
            ]
          },
          "metadata": {
            "tags": []
          },
          "execution_count": 52
        },
        {
          "output_type": "display_data",
          "data": {
            "image/png": "[encoded data removed]",
            "text/plain": [
              "<Figure size 432x288 with 1 Axes>"
            ]
          },
          "metadata": {
            "tags": [],
            "needs_background": "light"
          }
        }
      ]
    },
    {
      "cell_type": "code",
      "metadata": {
        "colab": {
          "base_uri": "https://localhost:8080/"
        },
        "id": "mAi2iuVodl11",
        "outputId": "d26afa7e-8564-4047-a7f3-f25c194cb37e"
      },
      "source": [
        "SBUX.High"
      ],
      "execution_count": 53,
      "outputs": [
        {
          "output_type": "execute_result",
          "data": {
            "text/plain": [
              "Date\n",
              "1992-06-26     0.347656\n",
              "1992-06-29     0.367188\n",
              "1992-06-30     0.371094\n",
              "1992-07-01     0.359375\n",
              "1992-07-02     0.359375\n",
              "                ...    \n",
              "2020-11-19    97.919998\n",
              "2020-11-20    97.540001\n",
              "2020-11-23    97.860001\n",
              "2020-11-24    98.720001\n",
              "2020-11-25    98.540001\n",
              "Name: High, Length: 7159, dtype: float64"
            ]
          },
          "metadata": {
            "tags": []
          },
          "execution_count": 53
        }
      ]
    },
    {
      "cell_type": "code",
      "metadata": {
        "colab": {
          "base_uri": "https://localhost:8080/",
          "height": 265
        },
        "id": "6lcDQiR0dl7u",
        "outputId": "3b28085e-f220-4036-e77e-d59e9960eeaf"
      },
      "source": [
        "plt.plot(SBUX.High)\n",
        "plt.grid()"
      ],
      "execution_count": 54,
      "outputs": [
        {
          "output_type": "display_data",
          "data": {
            "image/png": "[encoded data removed]",
            "text/plain": [
              "<Figure size 432x288 with 1 Axes>"
            ]
          },
          "metadata": {
            "tags": [],
            "needs_background": "light"
          }
        }
      ]
    },
    {
      "cell_type": "code",
      "metadata": {
        "colab": {
          "base_uri": "https://localhost:8080/"
        },
        "id": "t2C6ZCUGdl_E",
        "outputId": "55655756-d7b4-4142-8c5f-613896c00c7d"
      },
      "source": [
        "SBUX.Open"
      ],
      "execution_count": 55,
      "outputs": [
        {
          "output_type": "execute_result",
          "data": {
            "text/plain": [
              "Date\n",
              "1992-06-26     0.328125\n",
              "1992-06-29     0.339844\n",
              "1992-06-30     0.367188\n",
              "1992-07-01     0.351562\n",
              "1992-07-02     0.359375\n",
              "                ...    \n",
              "2020-11-19    97.239998\n",
              "2020-11-20    97.419998\n",
              "2020-11-23    97.620003\n",
              "2020-11-24    97.510002\n",
              "2020-11-25    98.500000\n",
              "Name: Open, Length: 7159, dtype: float64"
            ]
          },
          "metadata": {
            "tags": []
          },
          "execution_count": 55
        }
      ]
    }
  ]
}