{
 "cells": [
  {
   "cell_type": "code",
   "execution_count": 13,
   "metadata": {},
   "outputs": [],
   "source": [
    "import pandas as pd \n",
    "import numpy as np \n",
    "import seaborn as sns "
   ]
  },
  {
   "cell_type": "code",
   "execution_count": 14,
   "metadata": {},
   "outputs": [],
   "source": [
    "data = pd.read_csv(\"https://raw.githubusercontent.com/benvictoria17/MachineLearning/master/dataset/KAG_conversion_data.csv\")"
   ]
  },
  {
   "cell_type": "code",
   "execution_count": 15,
   "metadata": {},
   "outputs": [
    {
     "data": {
      "text/html": [
       "<div>\n",
       "<style scoped>\n",
       "    .dataframe tbody tr th:only-of-type {\n",
       "        vertical-align: middle;\n",
       "    }\n",
       "\n",
       "    .dataframe tbody tr th {\n",
       "        vertical-align: top;\n",
       "    }\n",
       "\n",
       "    .dataframe thead th {\n",
       "        text-align: right;\n",
       "    }\n",
       "</style>\n",
       "<table border=\"1\" class=\"dataframe\">\n",
       "  <thead>\n",
       "    <tr style=\"text-align: right;\">\n",
       "      <th></th>\n",
       "      <th>ad_id</th>\n",
       "      <th>xyz_campaign_id</th>\n",
       "      <th>fb_campaign_id</th>\n",
       "      <th>age</th>\n",
       "      <th>gender</th>\n",
       "      <th>interest</th>\n",
       "      <th>Impressions</th>\n",
       "      <th>Clicks</th>\n",
       "      <th>Spent</th>\n",
       "      <th>Total_Conversion</th>\n",
       "      <th>Approved_Conversion</th>\n",
       "    </tr>\n",
       "  </thead>\n",
       "  <tbody>\n",
       "    <tr>\n",
       "      <th>0</th>\n",
       "      <td>708746</td>\n",
       "      <td>916</td>\n",
       "      <td>103916</td>\n",
       "      <td>30-34</td>\n",
       "      <td>M</td>\n",
       "      <td>15</td>\n",
       "      <td>7350</td>\n",
       "      <td>1</td>\n",
       "      <td>1.43</td>\n",
       "      <td>2</td>\n",
       "      <td>1</td>\n",
       "    </tr>\n",
       "    <tr>\n",
       "      <th>1</th>\n",
       "      <td>708749</td>\n",
       "      <td>916</td>\n",
       "      <td>103917</td>\n",
       "      <td>30-34</td>\n",
       "      <td>M</td>\n",
       "      <td>16</td>\n",
       "      <td>17861</td>\n",
       "      <td>2</td>\n",
       "      <td>1.82</td>\n",
       "      <td>2</td>\n",
       "      <td>0</td>\n",
       "    </tr>\n",
       "    <tr>\n",
       "      <th>2</th>\n",
       "      <td>708771</td>\n",
       "      <td>916</td>\n",
       "      <td>103920</td>\n",
       "      <td>30-34</td>\n",
       "      <td>M</td>\n",
       "      <td>20</td>\n",
       "      <td>693</td>\n",
       "      <td>0</td>\n",
       "      <td>0.00</td>\n",
       "      <td>1</td>\n",
       "      <td>0</td>\n",
       "    </tr>\n",
       "    <tr>\n",
       "      <th>3</th>\n",
       "      <td>708815</td>\n",
       "      <td>916</td>\n",
       "      <td>103928</td>\n",
       "      <td>30-34</td>\n",
       "      <td>M</td>\n",
       "      <td>28</td>\n",
       "      <td>4259</td>\n",
       "      <td>1</td>\n",
       "      <td>1.25</td>\n",
       "      <td>1</td>\n",
       "      <td>0</td>\n",
       "    </tr>\n",
       "    <tr>\n",
       "      <th>4</th>\n",
       "      <td>708818</td>\n",
       "      <td>916</td>\n",
       "      <td>103928</td>\n",
       "      <td>30-34</td>\n",
       "      <td>M</td>\n",
       "      <td>28</td>\n",
       "      <td>4133</td>\n",
       "      <td>1</td>\n",
       "      <td>1.29</td>\n",
       "      <td>1</td>\n",
       "      <td>1</td>\n",
       "    </tr>\n",
       "  </tbody>\n",
       "</table>\n",
       "</div>"
      ],
      "text/plain": [
       "    ad_id  xyz_campaign_id  fb_campaign_id    age gender  interest  \\\n",
       "0  708746              916          103916  30-34      M        15   \n",
       "1  708749              916          103917  30-34      M        16   \n",
       "2  708771              916          103920  30-34      M        20   \n",
       "3  708815              916          103928  30-34      M        28   \n",
       "4  708818              916          103928  30-34      M        28   \n",
       "\n",
       "   Impressions  Clicks  Spent  Total_Conversion  Approved_Conversion  \n",
       "0         7350       1   1.43                 2                    1  \n",
       "1        17861       2   1.82                 2                    0  \n",
       "2          693       0   0.00                 1                    0  \n",
       "3         4259       1   1.25                 1                    0  \n",
       "4         4133       1   1.29                 1                    1  "
      ]
     },
     "execution_count": 15,
     "metadata": {},
     "output_type": "execute_result"
    }
   ],
   "source": [
    "data.head()"
   ]
  },
  {
   "cell_type": "code",
   "execution_count": 17,
   "metadata": {},
   "outputs": [
    {
     "data": {
      "text/html": [
       "<div>\n",
       "<style scoped>\n",
       "    .dataframe tbody tr th:only-of-type {\n",
       "        vertical-align: middle;\n",
       "    }\n",
       "\n",
       "    .dataframe tbody tr th {\n",
       "        vertical-align: top;\n",
       "    }\n",
       "\n",
       "    .dataframe thead th {\n",
       "        text-align: right;\n",
       "    }\n",
       "</style>\n",
       "<table border=\"1\" class=\"dataframe\">\n",
       "  <thead>\n",
       "    <tr style=\"text-align: right;\">\n",
       "      <th></th>\n",
       "      <th>ad_id</th>\n",
       "      <th>xyz_campaign_id</th>\n",
       "      <th>fb_campaign_id</th>\n",
       "      <th>interest</th>\n",
       "      <th>Impressions</th>\n",
       "      <th>Clicks</th>\n",
       "      <th>Spent</th>\n",
       "      <th>Total_Conversion</th>\n",
       "      <th>Approved_Conversion</th>\n",
       "    </tr>\n",
       "  </thead>\n",
       "  <tbody>\n",
       "    <tr>\n",
       "      <th>count</th>\n",
       "      <td>1.143000e+03</td>\n",
       "      <td>1143.000000</td>\n",
       "      <td>1143.000000</td>\n",
       "      <td>1143.000000</td>\n",
       "      <td>1.143000e+03</td>\n",
       "      <td>1143.000000</td>\n",
       "      <td>1143.000000</td>\n",
       "      <td>1143.000000</td>\n",
       "      <td>1143.000000</td>\n",
       "    </tr>\n",
       "    <tr>\n",
       "      <th>mean</th>\n",
       "      <td>9.872611e+05</td>\n",
       "      <td>1067.382327</td>\n",
       "      <td>133783.989501</td>\n",
       "      <td>32.766404</td>\n",
       "      <td>1.867321e+05</td>\n",
       "      <td>33.390201</td>\n",
       "      <td>51.360656</td>\n",
       "      <td>2.855643</td>\n",
       "      <td>0.944007</td>\n",
       "    </tr>\n",
       "    <tr>\n",
       "      <th>std</th>\n",
       "      <td>1.939928e+05</td>\n",
       "      <td>121.629393</td>\n",
       "      <td>20500.308622</td>\n",
       "      <td>26.952131</td>\n",
       "      <td>3.127622e+05</td>\n",
       "      <td>56.892438</td>\n",
       "      <td>86.908418</td>\n",
       "      <td>4.483593</td>\n",
       "      <td>1.737708</td>\n",
       "    </tr>\n",
       "    <tr>\n",
       "      <th>min</th>\n",
       "      <td>7.087460e+05</td>\n",
       "      <td>916.000000</td>\n",
       "      <td>103916.000000</td>\n",
       "      <td>2.000000</td>\n",
       "      <td>8.700000e+01</td>\n",
       "      <td>0.000000</td>\n",
       "      <td>0.000000</td>\n",
       "      <td>0.000000</td>\n",
       "      <td>0.000000</td>\n",
       "    </tr>\n",
       "    <tr>\n",
       "      <th>25%</th>\n",
       "      <td>7.776325e+05</td>\n",
       "      <td>936.000000</td>\n",
       "      <td>115716.000000</td>\n",
       "      <td>16.000000</td>\n",
       "      <td>6.503500e+03</td>\n",
       "      <td>1.000000</td>\n",
       "      <td>1.480000</td>\n",
       "      <td>1.000000</td>\n",
       "      <td>0.000000</td>\n",
       "    </tr>\n",
       "    <tr>\n",
       "      <th>50%</th>\n",
       "      <td>1.121185e+06</td>\n",
       "      <td>1178.000000</td>\n",
       "      <td>144549.000000</td>\n",
       "      <td>25.000000</td>\n",
       "      <td>5.150900e+04</td>\n",
       "      <td>8.000000</td>\n",
       "      <td>12.370000</td>\n",
       "      <td>1.000000</td>\n",
       "      <td>1.000000</td>\n",
       "    </tr>\n",
       "    <tr>\n",
       "      <th>75%</th>\n",
       "      <td>1.121804e+06</td>\n",
       "      <td>1178.000000</td>\n",
       "      <td>144657.500000</td>\n",
       "      <td>31.000000</td>\n",
       "      <td>2.217690e+05</td>\n",
       "      <td>37.500000</td>\n",
       "      <td>60.025000</td>\n",
       "      <td>3.000000</td>\n",
       "      <td>1.000000</td>\n",
       "    </tr>\n",
       "    <tr>\n",
       "      <th>max</th>\n",
       "      <td>1.314415e+06</td>\n",
       "      <td>1178.000000</td>\n",
       "      <td>179982.000000</td>\n",
       "      <td>114.000000</td>\n",
       "      <td>3.052003e+06</td>\n",
       "      <td>421.000000</td>\n",
       "      <td>639.949998</td>\n",
       "      <td>60.000000</td>\n",
       "      <td>21.000000</td>\n",
       "    </tr>\n",
       "  </tbody>\n",
       "</table>\n",
       "</div>"
      ],
      "text/plain": [
       "              ad_id  xyz_campaign_id  fb_campaign_id     interest  \\\n",
       "count  1.143000e+03      1143.000000     1143.000000  1143.000000   \n",
       "mean   9.872611e+05      1067.382327   133783.989501    32.766404   \n",
       "std    1.939928e+05       121.629393    20500.308622    26.952131   \n",
       "min    7.087460e+05       916.000000   103916.000000     2.000000   \n",
       "25%    7.776325e+05       936.000000   115716.000000    16.000000   \n",
       "50%    1.121185e+06      1178.000000   144549.000000    25.000000   \n",
       "75%    1.121804e+06      1178.000000   144657.500000    31.000000   \n",
       "max    1.314415e+06      1178.000000   179982.000000   114.000000   \n",
       "\n",
       "        Impressions       Clicks        Spent  Total_Conversion  \\\n",
       "count  1.143000e+03  1143.000000  1143.000000       1143.000000   \n",
       "mean   1.867321e+05    33.390201    51.360656          2.855643   \n",
       "std    3.127622e+05    56.892438    86.908418          4.483593   \n",
       "min    8.700000e+01     0.000000     0.000000          0.000000   \n",
       "25%    6.503500e+03     1.000000     1.480000          1.000000   \n",
       "50%    5.150900e+04     8.000000    12.370000          1.000000   \n",
       "75%    2.217690e+05    37.500000    60.025000          3.000000   \n",
       "max    3.052003e+06   421.000000   639.949998         60.000000   \n",
       "\n",
       "       Approved_Conversion  \n",
       "count          1143.000000  \n",
       "mean              0.944007  \n",
       "std               1.737708  \n",
       "min               0.000000  \n",
       "25%               0.000000  \n",
       "50%               1.000000  \n",
       "75%               1.000000  \n",
       "max              21.000000  "
      ]
     },
     "execution_count": 17,
     "metadata": {},
     "output_type": "execute_result"
    }
   ],
   "source": [
    "data.describe()"
   ]
  },
  {
   "cell_type": "code",
   "execution_count": 18,
   "metadata": {},
   "outputs": [
    {
     "data": {
      "text/plain": [
       "array(['M', 'F'], dtype=object)"
      ]
     },
     "execution_count": 18,
     "metadata": {},
     "output_type": "execute_result"
    }
   ],
   "source": [
    "data.gender.unique()"
   ]
  },
  {
   "cell_type": "code",
   "execution_count": 19,
   "metadata": {},
   "outputs": [
    {
     "data": {
      "text/plain": [
       "40"
      ]
     },
     "execution_count": 19,
     "metadata": {},
     "output_type": "execute_result"
    }
   ],
   "source": [
    "data.interest.value_counts().count()"
   ]
  },
  {
   "cell_type": "code",
   "execution_count": 20,
   "metadata": {},
   "outputs": [
    {
     "data": {
      "text/plain": [
       "3"
      ]
     },
     "execution_count": 20,
     "metadata": {},
     "output_type": "execute_result"
    }
   ],
   "source": [
    "data.xyz_campaign_id.value_counts().count()"
   ]
  },
  {
   "cell_type": "code",
   "execution_count": 21,
   "metadata": {},
   "outputs": [
    {
     "data": {
      "text/plain": [
       "691"
      ]
     },
     "execution_count": 21,
     "metadata": {},
     "output_type": "execute_result"
    }
   ],
   "source": [
    "data.fb_campaign_id.value_counts().count()"
   ]
  },
  {
   "cell_type": "code",
   "execution_count": 22,
   "metadata": {},
   "outputs": [
    {
     "name": "stdout",
     "output_type": "stream",
     "text": [
      "<class 'pandas.core.frame.DataFrame'>\n",
      "RangeIndex: 1143 entries, 0 to 1142\n",
      "Data columns (total 11 columns):\n",
      " #   Column               Non-Null Count  Dtype  \n",
      "---  ------               --------------  -----  \n",
      " 0   ad_id                1143 non-null   int64  \n",
      " 1   xyz_campaign_id      1143 non-null   int64  \n",
      " 2   fb_campaign_id       1143 non-null   int64  \n",
      " 3   age                  1143 non-null   object \n",
      " 4   gender               1143 non-null   object \n",
      " 5   interest             1143 non-null   int64  \n",
      " 6   Impressions          1143 non-null   int64  \n",
      " 7   Clicks               1143 non-null   int64  \n",
      " 8   Spent                1143 non-null   float64\n",
      " 9   Total_Conversion     1143 non-null   int64  \n",
      " 10  Approved_Conversion  1143 non-null   int64  \n",
      "dtypes: float64(1), int64(8), object(2)\n",
      "memory usage: 98.4+ KB\n"
     ]
    }
   ],
   "source": [
    "data.info()"
   ]
  },
  {
   "cell_type": "code",
   "execution_count": 23,
   "metadata": {},
   "outputs": [
    {
     "data": {
      "text/plain": [
       "ad_id                    int64\n",
       "xyz_campaign_id          int64\n",
       "fb_campaign_id           int64\n",
       "age                     object\n",
       "gender                  object\n",
       "interest                object\n",
       "Impressions              int64\n",
       "Clicks                   int64\n",
       "Spent                  float64\n",
       "Total_Conversion         int64\n",
       "Approved_Conversion      int64\n",
       "dtype: object"
      ]
     },
     "execution_count": 23,
     "metadata": {},
     "output_type": "execute_result"
    }
   ],
   "source": [
    "data.astype({'interest': 'object'}).dtypes"
   ]
  },
  {
   "cell_type": "code",
   "execution_count": 24,
   "metadata": {},
   "outputs": [
    {
     "data": {
      "text/plain": [
       "array(['30-34', '35-39', '40-44', '45-49'], dtype=object)"
      ]
     },
     "execution_count": 24,
     "metadata": {},
     "output_type": "execute_result"
    }
   ],
   "source": [
    "data.age.unique()"
   ]
  },
  {
   "cell_type": "code",
   "execution_count": 25,
   "metadata": {},
   "outputs": [
    {
     "data": {
      "text/plain": [
       "array([ 2,  1,  4,  3,  0,  5, 28, 13, 11, 24, 60,  7, 40, 26,  6, 20,  9,\n",
       "       23, 22, 31, 10,  8, 17, 15, 16, 19, 38, 12, 14, 21, 18, 30])"
      ]
     },
     "execution_count": 25,
     "metadata": {},
     "output_type": "execute_result"
    }
   ],
   "source": [
    "data.Total_Conversion.unique()"
   ]
  },
  {
   "cell_type": "code",
   "execution_count": 26,
   "metadata": {},
   "outputs": [],
   "source": [
    "data.set_index('ad_id',inplace=True)"
   ]
  },
  {
   "cell_type": "code",
   "execution_count": 27,
   "metadata": {},
   "outputs": [
    {
     "data": {
      "text/plain": [
       "Index(['xyz_campaign_id', 'fb_campaign_id', 'age', 'gender', 'interest',\n",
       "       'Impressions', 'Clicks', 'Spent', 'Total_Conversion',\n",
       "       'Approved_Conversion'],\n",
       "      dtype='object')"
      ]
     },
     "execution_count": 27,
     "metadata": {},
     "output_type": "execute_result"
    }
   ],
   "source": [
    "data.columns"
   ]
  },
  {
   "cell_type": "code",
   "execution_count": 28,
   "metadata": {},
   "outputs": [
    {
     "data": {
      "text/plain": [
       "<matplotlib.axes._subplots.AxesSubplot at 0x7f7f1934be80>"
      ]
     },
     "execution_count": 28,
     "metadata": {},
     "output_type": "execute_result"
    },
    {
     "data": {
      "image/png": "[encoded data removed]",
      "text/plain": [
       "<Figure size 842.4x595.44 with 2 Axes>"
      ]
     },
     "metadata": {},
     "output_type": "display_data"
    }
   ],
   "source": [
    "sns.set(rc={'figure.figsize':(11.7,8.27)})\n",
    "corr = data.corr()\n",
    "\n",
    "# plot the heatmap\n",
    "\n",
    "\n",
    "\n",
    "sns.heatmap(corr,annot= True,cmap='Blues', \n",
    "        xticklabels=corr.columns,\n",
    "        yticklabels=corr.columns)"
   ]
  },
  {
   "cell_type": "code",
   "execution_count": 29,
   "metadata": {},
   "outputs": [
    {
     "data": {
      "text/html": [
       "<div>\n",
       "<style scoped>\n",
       "    .dataframe tbody tr th:only-of-type {\n",
       "        vertical-align: middle;\n",
       "    }\n",
       "\n",
       "    .dataframe tbody tr th {\n",
       "        vertical-align: top;\n",
       "    }\n",
       "\n",
       "    .dataframe thead th {\n",
       "        text-align: right;\n",
       "    }\n",
       "</style>\n",
       "<table border=\"1\" class=\"dataframe\">\n",
       "  <thead>\n",
       "    <tr style=\"text-align: right;\">\n",
       "      <th></th>\n",
       "      <th>xyz_campaign_id</th>\n",
       "      <th>fb_campaign_id</th>\n",
       "      <th>age</th>\n",
       "      <th>gender</th>\n",
       "      <th>interest</th>\n",
       "      <th>Impressions</th>\n",
       "      <th>Clicks</th>\n",
       "      <th>Spent</th>\n",
       "      <th>Total_Conversion</th>\n",
       "      <th>Approved_Conversion</th>\n",
       "      <th>CTR %</th>\n",
       "      <th>CPC</th>\n",
       "      <th>CVR %</th>\n",
       "    </tr>\n",
       "    <tr>\n",
       "      <th>ad_id</th>\n",
       "      <th></th>\n",
       "      <th></th>\n",
       "      <th></th>\n",
       "      <th></th>\n",
       "      <th></th>\n",
       "      <th></th>\n",
       "      <th></th>\n",
       "      <th></th>\n",
       "      <th></th>\n",
       "      <th></th>\n",
       "      <th></th>\n",
       "      <th></th>\n",
       "      <th></th>\n",
       "    </tr>\n",
       "  </thead>\n",
       "  <tbody>\n",
       "    <tr>\n",
       "      <th>708746</th>\n",
       "      <td>916</td>\n",
       "      <td>103916</td>\n",
       "      <td>30-34</td>\n",
       "      <td>M</td>\n",
       "      <td>15</td>\n",
       "      <td>7350</td>\n",
       "      <td>1</td>\n",
       "      <td>1.43</td>\n",
       "      <td>2</td>\n",
       "      <td>1</td>\n",
       "      <td>0.013605</td>\n",
       "      <td>1.43</td>\n",
       "      <td>0.000272</td>\n",
       "    </tr>\n",
       "    <tr>\n",
       "      <th>708749</th>\n",
       "      <td>916</td>\n",
       "      <td>103917</td>\n",
       "      <td>30-34</td>\n",
       "      <td>M</td>\n",
       "      <td>16</td>\n",
       "      <td>17861</td>\n",
       "      <td>2</td>\n",
       "      <td>1.82</td>\n",
       "      <td>2</td>\n",
       "      <td>0</td>\n",
       "      <td>0.011198</td>\n",
       "      <td>0.91</td>\n",
       "      <td>0.000112</td>\n",
       "    </tr>\n",
       "    <tr>\n",
       "      <th>708771</th>\n",
       "      <td>916</td>\n",
       "      <td>103920</td>\n",
       "      <td>30-34</td>\n",
       "      <td>M</td>\n",
       "      <td>20</td>\n",
       "      <td>693</td>\n",
       "      <td>0</td>\n",
       "      <td>0.00</td>\n",
       "      <td>1</td>\n",
       "      <td>0</td>\n",
       "      <td>0.000000</td>\n",
       "      <td>NaN</td>\n",
       "      <td>0.001443</td>\n",
       "    </tr>\n",
       "    <tr>\n",
       "      <th>708815</th>\n",
       "      <td>916</td>\n",
       "      <td>103928</td>\n",
       "      <td>30-34</td>\n",
       "      <td>M</td>\n",
       "      <td>28</td>\n",
       "      <td>4259</td>\n",
       "      <td>1</td>\n",
       "      <td>1.25</td>\n",
       "      <td>1</td>\n",
       "      <td>0</td>\n",
       "      <td>0.023480</td>\n",
       "      <td>1.25</td>\n",
       "      <td>0.000235</td>\n",
       "    </tr>\n",
       "    <tr>\n",
       "      <th>708818</th>\n",
       "      <td>916</td>\n",
       "      <td>103928</td>\n",
       "      <td>30-34</td>\n",
       "      <td>M</td>\n",
       "      <td>28</td>\n",
       "      <td>4133</td>\n",
       "      <td>1</td>\n",
       "      <td>1.29</td>\n",
       "      <td>1</td>\n",
       "      <td>1</td>\n",
       "      <td>0.024195</td>\n",
       "      <td>1.29</td>\n",
       "      <td>0.000242</td>\n",
       "    </tr>\n",
       "  </tbody>\n",
       "</table>\n",
       "</div>"
      ],
      "text/plain": [
       "        xyz_campaign_id  fb_campaign_id    age gender  interest  Impressions  \\\n",
       "ad_id                                                                          \n",
       "708746              916          103916  30-34      M        15         7350   \n",
       "708749              916          103917  30-34      M        16        17861   \n",
       "708771              916          103920  30-34      M        20          693   \n",
       "708815              916          103928  30-34      M        28         4259   \n",
       "708818              916          103928  30-34      M        28         4133   \n",
       "\n",
       "        Clicks  Spent  Total_Conversion  Approved_Conversion     CTR %   CPC  \\\n",
       "ad_id                                                                          \n",
       "708746       1   1.43                 2                    1  0.013605  1.43   \n",
       "708749       2   1.82                 2                    0  0.011198  0.91   \n",
       "708771       0   0.00                 1                    0  0.000000   NaN   \n",
       "708815       1   1.25                 1                    0  0.023480  1.25   \n",
       "708818       1   1.29                 1                    1  0.024195  1.29   \n",
       "\n",
       "           CVR %  \n",
       "ad_id             \n",
       "708746  0.000272  \n",
       "708749  0.000112  \n",
       "708771  0.001443  \n",
       "708815  0.000235  \n",
       "708818  0.000242  "
      ]
     },
     "execution_count": 29,
     "metadata": {},
     "output_type": "execute_result"
    }
   ],
   "source": [
    "data[\"CTR %\"] = ((data[\"Clicks\"] / data[\"Impressions\"]) * 100)\n",
    "#Cost-per-click\n",
    "#   CPC = Spent / Clicks)\n",
    "data[\"CPC\"] = data[\"Spent\"] / data[\"Clicks\"]\n",
    "#Conversion Rate - CVR %\n",
    "\n",
    "data[\"CVR %\"] = data[\"Total_Conversion\"] / data[\"Impressions\"]\n",
    "data.head()"
   ]
  },
  {
   "cell_type": "code",
   "execution_count": 30,
   "metadata": {},
   "outputs": [
    {
     "data": {
      "text/plain": [
       "<matplotlib.axes._subplots.AxesSubplot at 0x7f7f1904d190>"
      ]
     },
     "execution_count": 30,
     "metadata": {},
     "output_type": "execute_result"
    },
    {
     "data": {
      "image/png": "[encoded data removed]",
      "text/plain": [
       "<Figure size 842.4x595.44 with 2 Axes>"
      ]
     },
     "metadata": {},
     "output_type": "display_data"
    }
   ],
   "source": [
    "corr = data.corr()\n",
    "\n",
    "# plot the heatmap\n",
    "\n",
    "sns.heatmap(corr,annot= True,cmap='BuPu', \n",
    "        xticklabels=corr.columns,\n",
    "        yticklabels=corr.columns)"
   ]
  },
  {
   "cell_type": "code",
   "execution_count": 31,
   "metadata": {},
   "outputs": [
    {
     "data": {
      "text/html": [
       "<div>\n",
       "<style scoped>\n",
       "    .dataframe tbody tr th:only-of-type {\n",
       "        vertical-align: middle;\n",
       "    }\n",
       "\n",
       "    .dataframe tbody tr th {\n",
       "        vertical-align: top;\n",
       "    }\n",
       "\n",
       "    .dataframe thead th {\n",
       "        text-align: right;\n",
       "    }\n",
       "</style>\n",
       "<table border=\"1\" class=\"dataframe\">\n",
       "  <thead>\n",
       "    <tr style=\"text-align: right;\">\n",
       "      <th></th>\n",
       "      <th>xyz_campaign_id</th>\n",
       "      <th>fb_campaign_id</th>\n",
       "      <th>interest</th>\n",
       "      <th>Impressions</th>\n",
       "      <th>Clicks</th>\n",
       "      <th>Spent</th>\n",
       "      <th>Total_Conversion</th>\n",
       "      <th>Approved_Conversion</th>\n",
       "      <th>CTR %</th>\n",
       "      <th>CPC</th>\n",
       "      <th>CVR %</th>\n",
       "    </tr>\n",
       "  </thead>\n",
       "  <tbody>\n",
       "    <tr>\n",
       "      <th>count</th>\n",
       "      <td>1143.000000</td>\n",
       "      <td>1143.000000</td>\n",
       "      <td>1143.000000</td>\n",
       "      <td>1.143000e+03</td>\n",
       "      <td>1143.000000</td>\n",
       "      <td>1143.000000</td>\n",
       "      <td>1143.000000</td>\n",
       "      <td>1143.000000</td>\n",
       "      <td>1143.000000</td>\n",
       "      <td>936.000000</td>\n",
       "      <td>1143.000000</td>\n",
       "    </tr>\n",
       "    <tr>\n",
       "      <th>mean</th>\n",
       "      <td>1067.382327</td>\n",
       "      <td>133783.989501</td>\n",
       "      <td>32.766404</td>\n",
       "      <td>1.867321e+05</td>\n",
       "      <td>33.390201</td>\n",
       "      <td>51.360656</td>\n",
       "      <td>2.855643</td>\n",
       "      <td>0.944007</td>\n",
       "      <td>0.016420</td>\n",
       "      <td>1.499347</td>\n",
       "      <td>0.000253</td>\n",
       "    </tr>\n",
       "    <tr>\n",
       "      <th>std</th>\n",
       "      <td>121.629393</td>\n",
       "      <td>20500.308622</td>\n",
       "      <td>26.952131</td>\n",
       "      <td>3.127622e+05</td>\n",
       "      <td>56.892438</td>\n",
       "      <td>86.908418</td>\n",
       "      <td>4.483593</td>\n",
       "      <td>1.737708</td>\n",
       "      <td>0.011506</td>\n",
       "      <td>0.232879</td>\n",
       "      <td>0.000712</td>\n",
       "    </tr>\n",
       "    <tr>\n",
       "      <th>min</th>\n",
       "      <td>916.000000</td>\n",
       "      <td>103916.000000</td>\n",
       "      <td>2.000000</td>\n",
       "      <td>8.700000e+01</td>\n",
       "      <td>0.000000</td>\n",
       "      <td>0.000000</td>\n",
       "      <td>0.000000</td>\n",
       "      <td>0.000000</td>\n",
       "      <td>0.000000</td>\n",
       "      <td>0.180000</td>\n",
       "      <td>0.000000</td>\n",
       "    </tr>\n",
       "    <tr>\n",
       "      <th>25%</th>\n",
       "      <td>936.000000</td>\n",
       "      <td>115716.000000</td>\n",
       "      <td>16.000000</td>\n",
       "      <td>6.503500e+03</td>\n",
       "      <td>1.000000</td>\n",
       "      <td>1.480000</td>\n",
       "      <td>1.000000</td>\n",
       "      <td>0.000000</td>\n",
       "      <td>0.010022</td>\n",
       "      <td>1.390000</td>\n",
       "      <td>0.000012</td>\n",
       "    </tr>\n",
       "    <tr>\n",
       "      <th>50%</th>\n",
       "      <td>1178.000000</td>\n",
       "      <td>144549.000000</td>\n",
       "      <td>25.000000</td>\n",
       "      <td>5.150900e+04</td>\n",
       "      <td>8.000000</td>\n",
       "      <td>12.370000</td>\n",
       "      <td>1.000000</td>\n",
       "      <td>1.000000</td>\n",
       "      <td>0.015981</td>\n",
       "      <td>1.498273</td>\n",
       "      <td>0.000031</td>\n",
       "    </tr>\n",
       "    <tr>\n",
       "      <th>75%</th>\n",
       "      <td>1178.000000</td>\n",
       "      <td>144657.500000</td>\n",
       "      <td>31.000000</td>\n",
       "      <td>2.217690e+05</td>\n",
       "      <td>37.500000</td>\n",
       "      <td>60.025000</td>\n",
       "      <td>3.000000</td>\n",
       "      <td>1.000000</td>\n",
       "      <td>0.023364</td>\n",
       "      <td>1.644364</td>\n",
       "      <td>0.000169</td>\n",
       "    </tr>\n",
       "    <tr>\n",
       "      <th>max</th>\n",
       "      <td>1178.000000</td>\n",
       "      <td>179982.000000</td>\n",
       "      <td>114.000000</td>\n",
       "      <td>3.052003e+06</td>\n",
       "      <td>421.000000</td>\n",
       "      <td>639.949998</td>\n",
       "      <td>60.000000</td>\n",
       "      <td>21.000000</td>\n",
       "      <td>0.105932</td>\n",
       "      <td>2.212000</td>\n",
       "      <td>0.011494</td>\n",
       "    </tr>\n",
       "  </tbody>\n",
       "</table>\n",
       "</div>"
      ],
      "text/plain": [
       "       xyz_campaign_id  fb_campaign_id     interest   Impressions  \\\n",
       "count      1143.000000     1143.000000  1143.000000  1.143000e+03   \n",
       "mean       1067.382327   133783.989501    32.766404  1.867321e+05   \n",
       "std         121.629393    20500.308622    26.952131  3.127622e+05   \n",
       "min         916.000000   103916.000000     2.000000  8.700000e+01   \n",
       "25%         936.000000   115716.000000    16.000000  6.503500e+03   \n",
       "50%        1178.000000   144549.000000    25.000000  5.150900e+04   \n",
       "75%        1178.000000   144657.500000    31.000000  2.217690e+05   \n",
       "max        1178.000000   179982.000000   114.000000  3.052003e+06   \n",
       "\n",
       "            Clicks        Spent  Total_Conversion  Approved_Conversion  \\\n",
       "count  1143.000000  1143.000000       1143.000000          1143.000000   \n",
       "mean     33.390201    51.360656          2.855643             0.944007   \n",
       "std      56.892438    86.908418          4.483593             1.737708   \n",
       "min       0.000000     0.000000          0.000000             0.000000   \n",
       "25%       1.000000     1.480000          1.000000             0.000000   \n",
       "50%       8.000000    12.370000          1.000000             1.000000   \n",
       "75%      37.500000    60.025000          3.000000             1.000000   \n",
       "max     421.000000   639.949998         60.000000            21.000000   \n",
       "\n",
       "             CTR %         CPC        CVR %  \n",
       "count  1143.000000  936.000000  1143.000000  \n",
       "mean      0.016420    1.499347     0.000253  \n",
       "std       0.011506    0.232879     0.000712  \n",
       "min       0.000000    0.180000     0.000000  \n",
       "25%       0.010022    1.390000     0.000012  \n",
       "50%       0.015981    1.498273     0.000031  \n",
       "75%       0.023364    1.644364     0.000169  \n",
       "max       0.105932    2.212000     0.011494  "
      ]
     },
     "execution_count": 31,
     "metadata": {},
     "output_type": "execute_result"
    }
   ],
   "source": [
    "data.describe()"
   ]
  },
  {
   "cell_type": "code",
   "execution_count": 32,
   "metadata": {},
   "outputs": [
    {
     "data": {
      "image/png": "[encoded data removed]",
      "text/plain": [
       "<Figure size 842.4x595.44 with 1 Axes>"
      ]
     },
     "metadata": {},
     "output_type": "display_data"
    },
    {
     "data": {
      "image/png": "[encoded data removed]",
      "text/plain": [
       "<Figure size 842.4x595.44 with 1 Axes>"
      ]
     },
     "metadata": {},
     "output_type": "display_data"
    },
    {
     "data": {
      "image/png": "[encoded data removed]",
      "text/plain": [
       "<Figure size 842.4x595.44 with 1 Axes>"
      ]
     },
     "metadata": {},
     "output_type": "display_data"
    },
    {
     "data": {
      "image/png": "[encoded data removed]",
      "text/plain": [
       "<Figure size 842.4x595.44 with 1 Axes>"
      ]
     },
     "metadata": {},
     "output_type": "display_data"
    },
    {
     "data": {
      "image/png": "[encoded data removed]",
      "text/plain": [
       "<Figure size 842.4x595.44 with 1 Axes>"
      ]
     },
     "metadata": {},
     "output_type": "display_data"
    },
    {
     "data": {
      "image/png": "[encoded data removed]",
      "text/plain": [
       "<Figure size 842.4x595.44 with 1 Axes>"
      ]
     },
     "metadata": {},
     "output_type": "display_data"
    },
    {
     "data": {
      "image/png": "[encoded data removed]",
      "text/plain": [
       "<Figure size 842.4x595.44 with 1 Axes>"
      ]
     },
     "metadata": {},
     "output_type": "display_data"
    }
   ],
   "source": [
    "\n",
    "def hist_function(df, column):\n",
    "    return df[column].plot.hist()\n",
    "#import libraries\n",
    "\n",
    "import matplotlib.pyplot as plt\n",
    "# loop through columns and visualize histograms per columns\n",
    "my_list = []\n",
    "for col in data.columns:\n",
    "    if data[col].dtypes == int:\n",
    "        my_list.append(hist_function(data, col))\n",
    "        plt.title(col)\n",
    "        plt.show()"
   ]
  },
  {
   "cell_type": "code",
   "execution_count": 33,
   "metadata": {},
   "outputs": [
    {
     "data": {
      "image/png": "[encoded data removed]",
      "text/plain": [
       "<Figure size 864x288 with 1 Axes>"
      ]
     },
     "metadata": {},
     "output_type": "display_data"
    }
   ],
   "source": [
    "AdSpend = data.groupby(['xyz_campaign_id']).agg({'Spent':'sum'})\n",
    "AdSpend.plot.bar(y='Spent', figsize=(12, 4))\n",
    "plt.ylabel('AdSpend')\n",
    "plt.title('AdSpend Per xyz Campaign ID')\n",
    "plt.margins(0.1)\n",
    "plt.subplots_adjust(bottom = 0.10)\n",
    "plt.show()"
   ]
  },
  {
   "cell_type": "code",
   "execution_count": 34,
   "metadata": {},
   "outputs": [
    {
     "data": {
      "text/plain": [
       "'the majority of the money is spent on the  #1178 campaign ID'"
      ]
     },
     "execution_count": 34,
     "metadata": {},
     "output_type": "execute_result"
    }
   ],
   "source": [
    "\"\"\"the majority of the money is spent on the  #1178 campaign ID\"\"\""
   ]
  },
  {
   "cell_type": "code",
   "execution_count": 35,
   "metadata": {},
   "outputs": [
    {
     "data": {
      "image/png": "[encoded data removed]",
      "text/plain": [
       "<Figure size 864x288 with 1 Axes>"
      ]
     },
     "metadata": {},
     "output_type": "display_data"
    }
   ],
   "source": [
    "AdSpend = data.groupby(['xyz_campaign_id']).agg({'Total_Conversion':'sum'})\n",
    "AdSpend.plot.bar(y='Total_Conversion', figsize=(12, 4))\n",
    "plt.ylabel('Conversion')\n",
    "plt.title('Conversion Per xyz Campaign ID')\n",
    "plt.margins(0.1)\n",
    "plt.subplots_adjust(bottom = 0.10)\n",
    "plt.show()"
   ]
  },
  {
   "cell_type": "code",
   "execution_count": 36,
   "metadata": {},
   "outputs": [
    {
     "data": {
      "text/plain": [
       "'the #1178 campaign ID had the majority of the conversions '"
      ]
     },
     "execution_count": 36,
     "metadata": {},
     "output_type": "execute_result"
    }
   ],
   "source": [
    "\"\"\"the #1178 campaign ID had the majority of the conversions \"\"\""
   ]
  },
  {
   "cell_type": "code",
   "execution_count": 37,
   "metadata": {},
   "outputs": [
    {
     "data": {
      "image/png": "[encoded data removed]",
      "text/plain": [
       "<Figure size 864x288 with 1 Axes>"
      ]
     },
     "metadata": {},
     "output_type": "display_data"
    }
   ],
   "source": [
    "AdSpend = data.groupby(['xyz_campaign_id']).agg({'CTR %':'mean'})\n",
    "AdSpend.plot.bar(y='CTR %', figsize=(12, 4))\n",
    "plt.ylabel('CTR %')\n",
    "plt.title('CTR % Per xyz Campaign ID')\n",
    "plt.margins(0.1)\n",
    "plt.subplots_adjust(bottom = 0.10)\n",
    "plt.show()"
   ]
  },
  {
   "cell_type": "code",
   "execution_count": 38,
   "metadata": {},
   "outputs": [
    {
     "data": {
      "image/png": "[encoded data removed]",
      "text/plain": [
       "<Figure size 864x288 with 1 Axes>"
      ]
     },
     "metadata": {},
     "output_type": "display_data"
    }
   ],
   "source": [
    "AdSpend = data.groupby(['gender']).agg({'CTR %':'mean'})\n",
    "AdSpend.plot.bar(y='CTR %', figsize=(12, 4))\n",
    "plt.ylabel('CTR %')\n",
    "plt.title('CTR % per Gender')\n",
    "plt.margins(0.1)\n",
    "plt.subplots_adjust(bottom = 0.10)\n",
    "plt.show()"
   ]
  },
  {
   "cell_type": "code",
   "execution_count": 39,
   "metadata": {},
   "outputs": [
    {
     "data": {
      "text/plain": [
       "'Females had a higher CTR, but the difference is not significant to conclude anything at this stage'"
      ]
     },
     "execution_count": 39,
     "metadata": {},
     "output_type": "execute_result"
    }
   ],
   "source": [
    "\"\"\"Females had a higher CTR, but the difference is not significant to conclude anything at this stage\"\"\""
   ]
  },
  {
   "cell_type": "code",
   "execution_count": 40,
   "metadata": {},
   "outputs": [
    {
     "data": {
      "image/png": "[encoded data removed]",
      "text/plain": [
       "<Figure size 864x288 with 1 Axes>"
      ]
     },
     "metadata": {},
     "output_type": "display_data"
    }
   ],
   "source": [
    "AdSpend = data.groupby(['gender']).agg({'Total_Conversion':'sum'})\n",
    "AdSpend.plot.bar(y='Total_Conversion', figsize=(12, 4))\n",
    "plt.ylabel('Total_Conversion')\n",
    "plt.title('Conversion per Gender')\n",
    "plt.margins(0.1)\n",
    "plt.subplots_adjust(bottom = 0.10)\n",
    "plt.show()"
   ]
  },
  {
   "cell_type": "code",
   "execution_count": 41,
   "metadata": {},
   "outputs": [
    {
     "data": {
      "text/plain": [
       "'the Female group has a slightly higher sum of conversions too'"
      ]
     },
     "execution_count": 41,
     "metadata": {},
     "output_type": "execute_result"
    }
   ],
   "source": [
    "\"\"\"the Female group has a slightly higher sum of conversions too\"\"\""
   ]
  },
  {
   "cell_type": "code",
   "execution_count": 42,
   "metadata": {},
   "outputs": [
    {
     "data": {
      "text/plain": [
       "<matplotlib.axes._subplots.AxesSubplot at 0x7f7f1cb02e20>"
      ]
     },
     "execution_count": 42,
     "metadata": {},
     "output_type": "execute_result"
    },
    {
     "data": {
      "image/png": "[encoded data removed]",
      "text/plain": [
       "<Figure size 842.4x595.44 with 1 Axes>"
      ]
     },
     "metadata": {},
     "output_type": "display_data"
    }
   ],
   "source": [
    "sns.boxplot(y='CTR %', x='gender', \n",
    "                 data=data, \n",
    "                 palette=\"colorblind\",\n",
    "                 hue='gender')"
   ]
  },
  {
   "cell_type": "code",
   "execution_count": 43,
   "metadata": {},
   "outputs": [
    {
     "data": {
      "text/plain": [
       "<matplotlib.axes._subplots.AxesSubplot at 0x7f7f1ca078b0>"
      ]
     },
     "execution_count": 43,
     "metadata": {},
     "output_type": "execute_result"
    },
    {
     "data": {
      "image/png": "[encoded data removed]",
      "text/plain": [
       "<Figure size 842.4x595.44 with 1 Axes>"
      ]
     },
     "metadata": {},
     "output_type": "display_data"
    }
   ],
   "source": [
    "sns.boxplot(y='Spent', x='xyz_campaign_id', \n",
    "                 data=data, \n",
    "                 palette=\"colorblind\",\n",
    "                 hue='xyz_campaign_id')"
   ]
  },
  {
   "cell_type": "code",
   "execution_count": 44,
   "metadata": {},
   "outputs": [
    {
     "data": {
      "text/plain": [
       "'as the majority of the money spent on the 1178 campaign, we will be focusing on this from now on, however we should check whether the Spend is efficient against other campaigns'"
      ]
     },
     "execution_count": 44,
     "metadata": {},
     "output_type": "execute_result"
    }
   ],
   "source": [
    "\"\"\"as the majority of the money spent on the 1178 campaign, we will be focusing on this from now on, however we should check whether the Spend is efficient against other campaigns\"\"\""
   ]
  },
  {
   "cell_type": "code",
   "execution_count": 45,
   "metadata": {},
   "outputs": [
    {
     "data": {
      "text/html": [
       "<div>\n",
       "<style scoped>\n",
       "    .dataframe tbody tr th:only-of-type {\n",
       "        vertical-align: middle;\n",
       "    }\n",
       "\n",
       "    .dataframe tbody tr th {\n",
       "        vertical-align: top;\n",
       "    }\n",
       "\n",
       "    .dataframe thead th {\n",
       "        text-align: right;\n",
       "    }\n",
       "</style>\n",
       "<table border=\"1\" class=\"dataframe\">\n",
       "  <thead>\n",
       "    <tr style=\"text-align: right;\">\n",
       "      <th></th>\n",
       "      <th>xyz_campaign_id</th>\n",
       "      <th>fb_campaign_id</th>\n",
       "      <th>age</th>\n",
       "      <th>gender</th>\n",
       "      <th>interest</th>\n",
       "      <th>Impressions</th>\n",
       "      <th>Clicks</th>\n",
       "      <th>Spent</th>\n",
       "      <th>Total_Conversion</th>\n",
       "      <th>Approved_Conversion</th>\n",
       "      <th>CTR %</th>\n",
       "      <th>CPC</th>\n",
       "      <th>CVR %</th>\n",
       "    </tr>\n",
       "    <tr>\n",
       "      <th>ad_id</th>\n",
       "      <th></th>\n",
       "      <th></th>\n",
       "      <th></th>\n",
       "      <th></th>\n",
       "      <th></th>\n",
       "      <th></th>\n",
       "      <th></th>\n",
       "      <th></th>\n",
       "      <th></th>\n",
       "      <th></th>\n",
       "      <th></th>\n",
       "      <th></th>\n",
       "      <th></th>\n",
       "    </tr>\n",
       "  </thead>\n",
       "  <tbody>\n",
       "    <tr>\n",
       "      <th>1121091</th>\n",
       "      <td>1178</td>\n",
       "      <td>144531</td>\n",
       "      <td>30-34</td>\n",
       "      <td>M</td>\n",
       "      <td>10</td>\n",
       "      <td>1194718</td>\n",
       "      <td>141</td>\n",
       "      <td>254.049996</td>\n",
       "      <td>28</td>\n",
       "      <td>14</td>\n",
       "      <td>0.011802</td>\n",
       "      <td>1.801773</td>\n",
       "      <td>0.000023</td>\n",
       "    </tr>\n",
       "    <tr>\n",
       "      <th>1121092</th>\n",
       "      <td>1178</td>\n",
       "      <td>144531</td>\n",
       "      <td>30-34</td>\n",
       "      <td>M</td>\n",
       "      <td>10</td>\n",
       "      <td>637648</td>\n",
       "      <td>67</td>\n",
       "      <td>122.400000</td>\n",
       "      <td>13</td>\n",
       "      <td>5</td>\n",
       "      <td>0.010507</td>\n",
       "      <td>1.826866</td>\n",
       "      <td>0.000020</td>\n",
       "    </tr>\n",
       "    <tr>\n",
       "      <th>1121094</th>\n",
       "      <td>1178</td>\n",
       "      <td>144531</td>\n",
       "      <td>30-34</td>\n",
       "      <td>M</td>\n",
       "      <td>10</td>\n",
       "      <td>24362</td>\n",
       "      <td>0</td>\n",
       "      <td>0.000000</td>\n",
       "      <td>1</td>\n",
       "      <td>1</td>\n",
       "      <td>0.000000</td>\n",
       "      <td>NaN</td>\n",
       "      <td>0.000041</td>\n",
       "    </tr>\n",
       "    <tr>\n",
       "      <th>1121095</th>\n",
       "      <td>1178</td>\n",
       "      <td>144531</td>\n",
       "      <td>30-34</td>\n",
       "      <td>M</td>\n",
       "      <td>10</td>\n",
       "      <td>459690</td>\n",
       "      <td>50</td>\n",
       "      <td>86.330001</td>\n",
       "      <td>5</td>\n",
       "      <td>2</td>\n",
       "      <td>0.010877</td>\n",
       "      <td>1.726600</td>\n",
       "      <td>0.000011</td>\n",
       "    </tr>\n",
       "    <tr>\n",
       "      <th>1121096</th>\n",
       "      <td>1178</td>\n",
       "      <td>144531</td>\n",
       "      <td>30-34</td>\n",
       "      <td>M</td>\n",
       "      <td>10</td>\n",
       "      <td>750060</td>\n",
       "      <td>86</td>\n",
       "      <td>161.909999</td>\n",
       "      <td>11</td>\n",
       "      <td>2</td>\n",
       "      <td>0.011466</td>\n",
       "      <td>1.882674</td>\n",
       "      <td>0.000015</td>\n",
       "    </tr>\n",
       "  </tbody>\n",
       "</table>\n",
       "</div>"
      ],
      "text/plain": [
       "         xyz_campaign_id  fb_campaign_id    age gender  interest  Impressions  \\\n",
       "ad_id                                                                           \n",
       "1121091             1178          144531  30-34      M        10      1194718   \n",
       "1121092             1178          144531  30-34      M        10       637648   \n",
       "1121094             1178          144531  30-34      M        10        24362   \n",
       "1121095             1178          144531  30-34      M        10       459690   \n",
       "1121096             1178          144531  30-34      M        10       750060   \n",
       "\n",
       "         Clicks       Spent  Total_Conversion  Approved_Conversion     CTR %  \\\n",
       "ad_id                                                                          \n",
       "1121091     141  254.049996                28                   14  0.011802   \n",
       "1121092      67  122.400000                13                    5  0.010507   \n",
       "1121094       0    0.000000                 1                    1  0.000000   \n",
       "1121095      50   86.330001                 5                    2  0.010877   \n",
       "1121096      86  161.909999                11                    2  0.011466   \n",
       "\n",
       "              CPC     CVR %  \n",
       "ad_id                        \n",
       "1121091  1.801773  0.000023  \n",
       "1121092  1.826866  0.000020  \n",
       "1121094       NaN  0.000041  \n",
       "1121095  1.726600  0.000011  \n",
       "1121096  1.882674  0.000015  "
      ]
     },
     "execution_count": 45,
     "metadata": {},
     "output_type": "execute_result"
    }
   ],
   "source": [
    "filtered_data1178 =  data[data['xyz_campaign_id'] == 1178]\n",
    "filtered_data916 =  data[data['xyz_campaign_id'] == 916]\n",
    "filtered_data936 =  data[data['xyz_campaign_id'] == 936]\n",
    "filtered_data1178.head()"
   ]
  },
  {
   "cell_type": "code",
   "execution_count": 46,
   "metadata": {},
   "outputs": [
    {
     "data": {
      "text/html": [
       "<div>\n",
       "<style scoped>\n",
       "    .dataframe tbody tr th:only-of-type {\n",
       "        vertical-align: middle;\n",
       "    }\n",
       "\n",
       "    .dataframe tbody tr th {\n",
       "        vertical-align: top;\n",
       "    }\n",
       "\n",
       "    .dataframe thead th {\n",
       "        text-align: right;\n",
       "    }\n",
       "</style>\n",
       "<table border=\"1\" class=\"dataframe\">\n",
       "  <thead>\n",
       "    <tr style=\"text-align: right;\">\n",
       "      <th></th>\n",
       "      <th>xyz_campaign_id</th>\n",
       "      <th>fb_campaign_id</th>\n",
       "      <th>age</th>\n",
       "      <th>gender</th>\n",
       "      <th>interest</th>\n",
       "      <th>Impressions</th>\n",
       "      <th>Clicks</th>\n",
       "      <th>Spent</th>\n",
       "      <th>Total_Conversion</th>\n",
       "      <th>Approved_Conversion</th>\n",
       "      <th>CTR %</th>\n",
       "      <th>CPC</th>\n",
       "      <th>CVR %</th>\n",
       "    </tr>\n",
       "    <tr>\n",
       "      <th>ad_id</th>\n",
       "      <th></th>\n",
       "      <th></th>\n",
       "      <th></th>\n",
       "      <th></th>\n",
       "      <th></th>\n",
       "      <th></th>\n",
       "      <th></th>\n",
       "      <th></th>\n",
       "      <th></th>\n",
       "      <th></th>\n",
       "      <th></th>\n",
       "      <th></th>\n",
       "      <th></th>\n",
       "    </tr>\n",
       "  </thead>\n",
       "  <tbody>\n",
       "    <tr>\n",
       "      <th>708746</th>\n",
       "      <td>916</td>\n",
       "      <td>103916</td>\n",
       "      <td>30-34</td>\n",
       "      <td>M</td>\n",
       "      <td>15</td>\n",
       "      <td>7350</td>\n",
       "      <td>1</td>\n",
       "      <td>1.43</td>\n",
       "      <td>2</td>\n",
       "      <td>1</td>\n",
       "      <td>0.013605</td>\n",
       "      <td>1.43</td>\n",
       "      <td>0.000272</td>\n",
       "    </tr>\n",
       "    <tr>\n",
       "      <th>708749</th>\n",
       "      <td>916</td>\n",
       "      <td>103917</td>\n",
       "      <td>30-34</td>\n",
       "      <td>M</td>\n",
       "      <td>16</td>\n",
       "      <td>17861</td>\n",
       "      <td>2</td>\n",
       "      <td>1.82</td>\n",
       "      <td>2</td>\n",
       "      <td>0</td>\n",
       "      <td>0.011198</td>\n",
       "      <td>0.91</td>\n",
       "      <td>0.000112</td>\n",
       "    </tr>\n",
       "    <tr>\n",
       "      <th>708771</th>\n",
       "      <td>916</td>\n",
       "      <td>103920</td>\n",
       "      <td>30-34</td>\n",
       "      <td>M</td>\n",
       "      <td>20</td>\n",
       "      <td>693</td>\n",
       "      <td>0</td>\n",
       "      <td>0.00</td>\n",
       "      <td>1</td>\n",
       "      <td>0</td>\n",
       "      <td>0.000000</td>\n",
       "      <td>NaN</td>\n",
       "      <td>0.001443</td>\n",
       "    </tr>\n",
       "    <tr>\n",
       "      <th>708815</th>\n",
       "      <td>916</td>\n",
       "      <td>103928</td>\n",
       "      <td>30-34</td>\n",
       "      <td>M</td>\n",
       "      <td>28</td>\n",
       "      <td>4259</td>\n",
       "      <td>1</td>\n",
       "      <td>1.25</td>\n",
       "      <td>1</td>\n",
       "      <td>0</td>\n",
       "      <td>0.023480</td>\n",
       "      <td>1.25</td>\n",
       "      <td>0.000235</td>\n",
       "    </tr>\n",
       "    <tr>\n",
       "      <th>708818</th>\n",
       "      <td>916</td>\n",
       "      <td>103928</td>\n",
       "      <td>30-34</td>\n",
       "      <td>M</td>\n",
       "      <td>28</td>\n",
       "      <td>4133</td>\n",
       "      <td>1</td>\n",
       "      <td>1.29</td>\n",
       "      <td>1</td>\n",
       "      <td>1</td>\n",
       "      <td>0.024195</td>\n",
       "      <td>1.29</td>\n",
       "      <td>0.000242</td>\n",
       "    </tr>\n",
       "  </tbody>\n",
       "</table>\n",
       "</div>"
      ],
      "text/plain": [
       "        xyz_campaign_id  fb_campaign_id    age gender  interest  Impressions  \\\n",
       "ad_id                                                                          \n",
       "708746              916          103916  30-34      M        15         7350   \n",
       "708749              916          103917  30-34      M        16        17861   \n",
       "708771              916          103920  30-34      M        20          693   \n",
       "708815              916          103928  30-34      M        28         4259   \n",
       "708818              916          103928  30-34      M        28         4133   \n",
       "\n",
       "        Clicks  Spent  Total_Conversion  Approved_Conversion     CTR %   CPC  \\\n",
       "ad_id                                                                          \n",
       "708746       1   1.43                 2                    1  0.013605  1.43   \n",
       "708749       2   1.82                 2                    0  0.011198  0.91   \n",
       "708771       0   0.00                 1                    0  0.000000   NaN   \n",
       "708815       1   1.25                 1                    0  0.023480  1.25   \n",
       "708818       1   1.29                 1                    1  0.024195  1.29   \n",
       "\n",
       "           CVR %  \n",
       "ad_id             \n",
       "708746  0.000272  \n",
       "708749  0.000112  \n",
       "708771  0.001443  \n",
       "708815  0.000235  \n",
       "708818  0.000242  "
      ]
     },
     "execution_count": 46,
     "metadata": {},
     "output_type": "execute_result"
    }
   ],
   "source": [
    "filtered_data916.head()"
   ]
  },
  {
   "cell_type": "code",
   "execution_count": 48,
   "metadata": {},
   "outputs": [
    {
     "data": {
      "text/html": [
       "<div>\n",
       "<style scoped>\n",
       "    .dataframe tbody tr th:only-of-type {\n",
       "        vertical-align: middle;\n",
       "    }\n",
       "\n",
       "    .dataframe tbody tr th {\n",
       "        vertical-align: top;\n",
       "    }\n",
       "\n",
       "    .dataframe thead th {\n",
       "        text-align: right;\n",
       "    }\n",
       "</style>\n",
       "<table border=\"1\" class=\"dataframe\">\n",
       "  <thead>\n",
       "    <tr style=\"text-align: right;\">\n",
       "      <th></th>\n",
       "      <th>Spent</th>\n",
       "      <th>Total_Conversion</th>\n",
       "    </tr>\n",
       "  </thead>\n",
       "  <tbody>\n",
       "    <tr>\n",
       "      <th>Spent</th>\n",
       "      <td>1.000000</td>\n",
       "      <td>0.683936</td>\n",
       "    </tr>\n",
       "    <tr>\n",
       "      <th>Total_Conversion</th>\n",
       "      <td>0.683936</td>\n",
       "      <td>1.000000</td>\n",
       "    </tr>\n",
       "  </tbody>\n",
       "</table>\n",
       "</div>"
      ],
      "text/plain": [
       "                     Spent  Total_Conversion\n",
       "Spent             1.000000          0.683936\n",
       "Total_Conversion  0.683936          1.000000"
      ]
     },
     "execution_count": 48,
     "metadata": {},
     "output_type": "execute_result"
    }
   ],
   "source": [
    "filtered_data1178[['Spent', 'Total_Conversion']].corr()"
   ]
  },
  {
   "cell_type": "code",
   "execution_count": 49,
   "metadata": {},
   "outputs": [
    {
     "data": {
      "text/plain": [
       "<seaborn.axisgrid.FacetGrid at 0x7f7f1c891520>"
      ]
     },
     "execution_count": 49,
     "metadata": {},
     "output_type": "execute_result"
    },
    {
     "data": {
      "image/png": "[encoded data removed]",
      "text/plain": [
       "<Figure size 756x504 with 1 Axes>"
      ]
     },
     "metadata": {},
     "output_type": "display_data"
    }
   ],
   "source": [
    "sns.lmplot(x=\"Spent\", y=\"Total_Conversion\", data=filtered_data1178, height=7, aspect=1.5)"
   ]
  },
  {
   "cell_type": "code",
   "execution_count": 50,
   "metadata": {},
   "outputs": [
    {
     "data": {
      "text/plain": [
       "<seaborn.axisgrid.FacetGrid at 0x7f7f1c8919d0>"
      ]
     },
     "execution_count": 50,
     "metadata": {},
     "output_type": "execute_result"
    },
    {
     "data": {
      "image/png": "[encoded data removed]",
      "text/plain": [
       "<Figure size 756x504 with 1 Axes>"
      ]
     },
     "metadata": {},
     "output_type": "display_data"
    }
   ],
   "source": [
    "sns.lmplot(x=\"Spent\", y=\"Total_Conversion\", data=filtered_data916, height=7, aspect=1.5)"
   ]
  },
  {
   "cell_type": "code",
   "execution_count": 51,
   "metadata": {},
   "outputs": [
    {
     "data": {
      "text/plain": [
       "<seaborn.axisgrid.FacetGrid at 0x7f7f1ccf0550>"
      ]
     },
     "execution_count": 51,
     "metadata": {},
     "output_type": "execute_result"
    },
    {
     "data": {
      "image/png": "[encoded data removed]",
      "text/plain": [
       "<Figure size 756x504 with 1 Axes>"
      ]
     },
     "metadata": {},
     "output_type": "display_data"
    }
   ],
   "source": [
    "sns.lmplot(x=\"Spent\", y=\"Total_Conversion\", data=filtered_data936, height=7, aspect=1.5)"
   ]
  },
  {
   "cell_type": "code",
   "execution_count": 52,
   "metadata": {},
   "outputs": [
    {
     "data": {
      "text/plain": [
       "LinregressResult(slope=0.011723017560287341, intercept=1.0842262342545004, rvalue=0.36382705947022176, pvalue=5.725646973676504e-16, stderr=0.00139633839236989)"
      ]
     },
     "execution_count": 52,
     "metadata": {},
     "output_type": "execute_result"
    }
   ],
   "source": [
    "from scipy import stats\n",
    "from scipy.stats import linregress\n",
    "#campaign ID 936 \n",
    "\n",
    "x = filtered_data936[\"Spent\"] \n",
    "y = filtered_data936[\"Total_Conversion\"]\n",
    "#Slope of the regression line.\n",
    "#Intercept of the regression line.\n",
    "#rvaluefloat - Correlation coefficient.\n",
    "#p-value\n",
    "#Standard error of the estimated slope (gradient), under the assumption of residual normality.\n",
    "\n",
    "s,i,r,p,st = linregress(x,y)\n",
    "#936 values\n",
    "stats.linregress(x,y)"
   ]
  },
  {
   "cell_type": "code",
   "execution_count": 53,
   "metadata": {},
   "outputs": [
    {
     "data": {
      "text/plain": [
       "LinregressResult(slope=-0.0024646135991578002, intercept=1.0809069871027623, rvalue=-0.03720054455349379, pvalue=0.7894206534777862, stderr=0.009181151576291414)"
      ]
     },
     "execution_count": 53,
     "metadata": {},
     "output_type": "execute_result"
    }
   ],
   "source": [
    "x = filtered_data916[\"Spent\"] \n",
    "y = filtered_data916[\"Total_Conversion\"]\n",
    "s,i,r,p,st = linregress(x,y)\n",
    "#campaign ID 916 values\n",
    "stats.linregress(x,y)"
   ]
  },
  {
   "cell_type": "code",
   "execution_count": 54,
   "metadata": {},
   "outputs": [
    {
     "data": {
      "text/plain": [
       "LinregressResult(slope=0.03787941895391814, intercept=0.8968801629469496, rvalue=0.6839358407862492, pvalue=2.234168066844452e-87, stderr=0.0016188041831157233)"
      ]
     },
     "execution_count": 54,
     "metadata": {},
     "output_type": "execute_result"
    }
   ],
   "source": [
    "x = filtered_data1178[\"Spent\"] \n",
    "y = filtered_data1178[\"Total_Conversion\"]\n",
    "s,i,r,p,st = linregress(x,y)\n",
    "#campaign ID 1178 values\n",
    "stats.linregress(x,y)"
   ]
  },
  {
   "cell_type": "code",
   "execution_count": 55,
   "metadata": {},
   "outputs": [
    {
     "data": {
      "text/html": [
       "<div>\n",
       "<style scoped>\n",
       "    .dataframe tbody tr th:only-of-type {\n",
       "        vertical-align: middle;\n",
       "    }\n",
       "\n",
       "    .dataframe tbody tr th {\n",
       "        vertical-align: top;\n",
       "    }\n",
       "\n",
       "    .dataframe thead th {\n",
       "        text-align: right;\n",
       "    }\n",
       "</style>\n",
       "<table border=\"1\" class=\"dataframe\">\n",
       "  <thead>\n",
       "    <tr style=\"text-align: right;\">\n",
       "      <th></th>\n",
       "      <th>xyz_campaign_id</th>\n",
       "      <th>fb_campaign_id</th>\n",
       "      <th>age</th>\n",
       "      <th>gender</th>\n",
       "      <th>interest</th>\n",
       "      <th>Impressions</th>\n",
       "      <th>Clicks</th>\n",
       "      <th>Spent</th>\n",
       "      <th>Total_Conversion</th>\n",
       "      <th>Approved_Conversion</th>\n",
       "      <th>CTR %</th>\n",
       "      <th>CPC</th>\n",
       "      <th>CVR %</th>\n",
       "    </tr>\n",
       "    <tr>\n",
       "      <th>ad_id</th>\n",
       "      <th></th>\n",
       "      <th></th>\n",
       "      <th></th>\n",
       "      <th></th>\n",
       "      <th></th>\n",
       "      <th></th>\n",
       "      <th></th>\n",
       "      <th></th>\n",
       "      <th></th>\n",
       "      <th></th>\n",
       "      <th></th>\n",
       "      <th></th>\n",
       "      <th></th>\n",
       "    </tr>\n",
       "  </thead>\n",
       "  <tbody>\n",
       "    <tr>\n",
       "      <th>1121091</th>\n",
       "      <td>1178</td>\n",
       "      <td>144531</td>\n",
       "      <td>30-34</td>\n",
       "      <td>M</td>\n",
       "      <td>10</td>\n",
       "      <td>1194718</td>\n",
       "      <td>141</td>\n",
       "      <td>254.049996</td>\n",
       "      <td>28</td>\n",
       "      <td>14</td>\n",
       "      <td>0.011802</td>\n",
       "      <td>1.801773</td>\n",
       "      <td>0.000023</td>\n",
       "    </tr>\n",
       "    <tr>\n",
       "      <th>1121092</th>\n",
       "      <td>1178</td>\n",
       "      <td>144531</td>\n",
       "      <td>30-34</td>\n",
       "      <td>M</td>\n",
       "      <td>10</td>\n",
       "      <td>637648</td>\n",
       "      <td>67</td>\n",
       "      <td>122.400000</td>\n",
       "      <td>13</td>\n",
       "      <td>5</td>\n",
       "      <td>0.010507</td>\n",
       "      <td>1.826866</td>\n",
       "      <td>0.000020</td>\n",
       "    </tr>\n",
       "    <tr>\n",
       "      <th>1121094</th>\n",
       "      <td>1178</td>\n",
       "      <td>144531</td>\n",
       "      <td>30-34</td>\n",
       "      <td>M</td>\n",
       "      <td>10</td>\n",
       "      <td>24362</td>\n",
       "      <td>0</td>\n",
       "      <td>0.000000</td>\n",
       "      <td>1</td>\n",
       "      <td>1</td>\n",
       "      <td>0.000000</td>\n",
       "      <td>NaN</td>\n",
       "      <td>0.000041</td>\n",
       "    </tr>\n",
       "    <tr>\n",
       "      <th>1121095</th>\n",
       "      <td>1178</td>\n",
       "      <td>144531</td>\n",
       "      <td>30-34</td>\n",
       "      <td>M</td>\n",
       "      <td>10</td>\n",
       "      <td>459690</td>\n",
       "      <td>50</td>\n",
       "      <td>86.330001</td>\n",
       "      <td>5</td>\n",
       "      <td>2</td>\n",
       "      <td>0.010877</td>\n",
       "      <td>1.726600</td>\n",
       "      <td>0.000011</td>\n",
       "    </tr>\n",
       "    <tr>\n",
       "      <th>1121096</th>\n",
       "      <td>1178</td>\n",
       "      <td>144531</td>\n",
       "      <td>30-34</td>\n",
       "      <td>M</td>\n",
       "      <td>10</td>\n",
       "      <td>750060</td>\n",
       "      <td>86</td>\n",
       "      <td>161.909999</td>\n",
       "      <td>11</td>\n",
       "      <td>2</td>\n",
       "      <td>0.011466</td>\n",
       "      <td>1.882674</td>\n",
       "      <td>0.000015</td>\n",
       "    </tr>\n",
       "  </tbody>\n",
       "</table>\n",
       "</div>"
      ],
      "text/plain": [
       "         xyz_campaign_id  fb_campaign_id    age gender  interest  Impressions  \\\n",
       "ad_id                                                                           \n",
       "1121091             1178          144531  30-34      M        10      1194718   \n",
       "1121092             1178          144531  30-34      M        10       637648   \n",
       "1121094             1178          144531  30-34      M        10        24362   \n",
       "1121095             1178          144531  30-34      M        10       459690   \n",
       "1121096             1178          144531  30-34      M        10       750060   \n",
       "\n",
       "         Clicks       Spent  Total_Conversion  Approved_Conversion     CTR %  \\\n",
       "ad_id                                                                          \n",
       "1121091     141  254.049996                28                   14  0.011802   \n",
       "1121092      67  122.400000                13                    5  0.010507   \n",
       "1121094       0    0.000000                 1                    1  0.000000   \n",
       "1121095      50   86.330001                 5                    2  0.010877   \n",
       "1121096      86  161.909999                11                    2  0.011466   \n",
       "\n",
       "              CPC     CVR %  \n",
       "ad_id                        \n",
       "1121091  1.801773  0.000023  \n",
       "1121092  1.826866  0.000020  \n",
       "1121094       NaN  0.000041  \n",
       "1121095  1.726600  0.000011  \n",
       "1121096  1.882674  0.000015  "
      ]
     },
     "execution_count": 55,
     "metadata": {},
     "output_type": "execute_result"
    }
   ],
   "source": [
    "filtered_data1178.head()"
   ]
  },
  {
   "cell_type": "code",
   "execution_count": 56,
   "metadata": {},
   "outputs": [
    {
     "data": {
      "text/html": [
       "<div>\n",
       "<style scoped>\n",
       "    .dataframe tbody tr th:only-of-type {\n",
       "        vertical-align: middle;\n",
       "    }\n",
       "\n",
       "    .dataframe tbody tr th {\n",
       "        vertical-align: top;\n",
       "    }\n",
       "\n",
       "    .dataframe thead th {\n",
       "        text-align: right;\n",
       "    }\n",
       "</style>\n",
       "<table border=\"1\" class=\"dataframe\">\n",
       "  <thead>\n",
       "    <tr style=\"text-align: right;\">\n",
       "      <th></th>\n",
       "      <th>xyz_campaign_id</th>\n",
       "      <th>fb_campaign_id</th>\n",
       "      <th>age</th>\n",
       "      <th>gender</th>\n",
       "      <th>interest</th>\n",
       "      <th>Impressions</th>\n",
       "      <th>Clicks</th>\n",
       "      <th>Spent</th>\n",
       "      <th>Total_Conversion</th>\n",
       "      <th>Approved_Conversion</th>\n",
       "      <th>CTR %</th>\n",
       "      <th>CPC</th>\n",
       "      <th>CVR %</th>\n",
       "    </tr>\n",
       "    <tr>\n",
       "      <th>ad_id</th>\n",
       "      <th></th>\n",
       "      <th></th>\n",
       "      <th></th>\n",
       "      <th></th>\n",
       "      <th></th>\n",
       "      <th></th>\n",
       "      <th></th>\n",
       "      <th></th>\n",
       "      <th></th>\n",
       "      <th></th>\n",
       "      <th></th>\n",
       "      <th></th>\n",
       "      <th></th>\n",
       "    </tr>\n",
       "  </thead>\n",
       "  <tbody>\n",
       "    <tr>\n",
       "      <th>1121091</th>\n",
       "      <td>1178</td>\n",
       "      <td>144531</td>\n",
       "      <td>30-34</td>\n",
       "      <td>M</td>\n",
       "      <td>10</td>\n",
       "      <td>1194718</td>\n",
       "      <td>141</td>\n",
       "      <td>254.049996</td>\n",
       "      <td>28</td>\n",
       "      <td>14</td>\n",
       "      <td>0.011802</td>\n",
       "      <td>1.801773</td>\n",
       "      <td>0.000023</td>\n",
       "    </tr>\n",
       "    <tr>\n",
       "      <th>1121092</th>\n",
       "      <td>1178</td>\n",
       "      <td>144531</td>\n",
       "      <td>30-34</td>\n",
       "      <td>M</td>\n",
       "      <td>10</td>\n",
       "      <td>637648</td>\n",
       "      <td>67</td>\n",
       "      <td>122.400000</td>\n",
       "      <td>13</td>\n",
       "      <td>5</td>\n",
       "      <td>0.010507</td>\n",
       "      <td>1.826866</td>\n",
       "      <td>0.000020</td>\n",
       "    </tr>\n",
       "    <tr>\n",
       "      <th>1121094</th>\n",
       "      <td>1178</td>\n",
       "      <td>144531</td>\n",
       "      <td>30-34</td>\n",
       "      <td>M</td>\n",
       "      <td>10</td>\n",
       "      <td>24362</td>\n",
       "      <td>0</td>\n",
       "      <td>0.000000</td>\n",
       "      <td>1</td>\n",
       "      <td>1</td>\n",
       "      <td>0.000000</td>\n",
       "      <td>NaN</td>\n",
       "      <td>0.000041</td>\n",
       "    </tr>\n",
       "    <tr>\n",
       "      <th>1121095</th>\n",
       "      <td>1178</td>\n",
       "      <td>144531</td>\n",
       "      <td>30-34</td>\n",
       "      <td>M</td>\n",
       "      <td>10</td>\n",
       "      <td>459690</td>\n",
       "      <td>50</td>\n",
       "      <td>86.330001</td>\n",
       "      <td>5</td>\n",
       "      <td>2</td>\n",
       "      <td>0.010877</td>\n",
       "      <td>1.726600</td>\n",
       "      <td>0.000011</td>\n",
       "    </tr>\n",
       "    <tr>\n",
       "      <th>1121096</th>\n",
       "      <td>1178</td>\n",
       "      <td>144531</td>\n",
       "      <td>30-34</td>\n",
       "      <td>M</td>\n",
       "      <td>10</td>\n",
       "      <td>750060</td>\n",
       "      <td>86</td>\n",
       "      <td>161.909999</td>\n",
       "      <td>11</td>\n",
       "      <td>2</td>\n",
       "      <td>0.011466</td>\n",
       "      <td>1.882674</td>\n",
       "      <td>0.000015</td>\n",
       "    </tr>\n",
       "  </tbody>\n",
       "</table>\n",
       "</div>"
      ],
      "text/plain": [
       "         xyz_campaign_id  fb_campaign_id    age gender  interest  Impressions  \\\n",
       "ad_id                                                                           \n",
       "1121091             1178          144531  30-34      M        10      1194718   \n",
       "1121092             1178          144531  30-34      M        10       637648   \n",
       "1121094             1178          144531  30-34      M        10        24362   \n",
       "1121095             1178          144531  30-34      M        10       459690   \n",
       "1121096             1178          144531  30-34      M        10       750060   \n",
       "\n",
       "         Clicks       Spent  Total_Conversion  Approved_Conversion     CTR %  \\\n",
       "ad_id                                                                          \n",
       "1121091     141  254.049996                28                   14  0.011802   \n",
       "1121092      67  122.400000                13                    5  0.010507   \n",
       "1121094       0    0.000000                 1                    1  0.000000   \n",
       "1121095      50   86.330001                 5                    2  0.010877   \n",
       "1121096      86  161.909999                11                    2  0.011466   \n",
       "\n",
       "              CPC     CVR %  \n",
       "ad_id                        \n",
       "1121091  1.801773  0.000023  \n",
       "1121092  1.826866  0.000020  \n",
       "1121094       NaN  0.000041  \n",
       "1121095  1.726600  0.000011  \n",
       "1121096  1.882674  0.000015  "
      ]
     },
     "execution_count": 56,
     "metadata": {},
     "output_type": "execute_result"
    }
   ],
   "source": [
    "filtered_data1178.head()"
   ]
  },
  {
   "cell_type": "code",
   "execution_count": 57,
   "metadata": {},
   "outputs": [
    {
     "data": {
      "text/plain": [
       "1     212\n",
       "2     116\n",
       "3      70\n",
       "4      56\n",
       "5      40\n",
       "6      22\n",
       "7      16\n",
       "11     13\n",
       "8      13\n",
       "13      9\n",
       "10      8\n",
       "9       7\n",
       "16      4\n",
       "12      4\n",
       "14      4\n",
       "0       4\n",
       "17      4\n",
       "22      4\n",
       "23      3\n",
       "26      2\n",
       "31      2\n",
       "20      2\n",
       "60      1\n",
       "40      1\n",
       "18      1\n",
       "19      1\n",
       "21      1\n",
       "24      1\n",
       "28      1\n",
       "30      1\n",
       "38      1\n",
       "15      1\n",
       "Name: Total_Conversion, dtype: int64"
      ]
     },
     "execution_count": 57,
     "metadata": {},
     "output_type": "execute_result"
    }
   ],
   "source": [
    "filtered_data1178.Total_Conversion.value_counts()"
   ]
  },
  {
   "cell_type": "code",
   "execution_count": 59,
   "metadata": {},
   "outputs": [
    {
     "data": {
      "text/plain": [
       "age\n",
       "30-34    1173\n",
       "35-39     517\n",
       "40-44     433\n",
       "45-49     546\n",
       "Name: Total_Conversion, dtype: int64"
      ]
     },
     "execution_count": 59,
     "metadata": {},
     "output_type": "execute_result"
    }
   ],
   "source": [
    "filtered_data1178.groupby(['age']).sum()['Total_Conversion']"
   ]
  },
  {
   "cell_type": "code",
   "execution_count": 60,
   "metadata": {},
   "outputs": [
    {
     "data": {
      "image/png": "[encoded data removed]",
      "text/plain": [
       "<Figure size 864x288 with 1 Axes>"
      ]
     },
     "metadata": {},
     "output_type": "display_data"
    }
   ],
   "source": [
    "Conversion_per_age = filtered_data1178.groupby(['age']).sum()['Total_Conversion']\n",
    "Conversion_per_age.plot.bar(y='age', figsize=(12, 4))\n",
    "plt.ylabel('Conversions')\n",
    "plt.title('Conversions by Age')\n",
    "plt.margins(0.1)\n",
    "plt.subplots_adjust(bottom = 0.10)\n",
    "plt.show()"
   ]
  },
  {
   "cell_type": "code",
   "execution_count": 61,
   "metadata": {},
   "outputs": [
    {
     "data": {
      "text/plain": [
       "gender\n",
       "F    1322\n",
       "M    1347\n",
       "Name: Total_Conversion, dtype: int64"
      ]
     },
     "execution_count": 61,
     "metadata": {},
     "output_type": "execute_result"
    }
   ],
   "source": [
    "filtered_data1178.groupby(['gender']).sum()['Total_Conversion']"
   ]
  },
  {
   "cell_type": "code",
   "execution_count": 62,
   "metadata": {},
   "outputs": [
    {
     "data": {
      "image/png": "[encoded data removed]",
      "text/plain": [
       "<Figure size 864x288 with 1 Axes>"
      ]
     },
     "metadata": {},
     "output_type": "display_data"
    }
   ],
   "source": [
    "Conversion_per_age = filtered_data1178.groupby(['gender']).sum()['Total_Conversion']\n",
    "Conversion_per_age.plot.bar(y='age', figsize=(12, 4))\n",
    "plt.ylabel('Conversions')\n",
    "plt.title('Conversions by Gender')\n",
    "plt.margins(0.1)\n",
    "plt.subplots_adjust(bottom = 0.10)\n",
    "plt.show()"
   ]
  },
  {
   "cell_type": "code",
   "execution_count": 63,
   "metadata": {},
   "outputs": [
    {
     "data": {
      "text/plain": [
       "<seaborn.axisgrid.FacetGrid at 0x7f7f1c6c61c0>"
      ]
     },
     "execution_count": 63,
     "metadata": {},
     "output_type": "execute_result"
    },
    {
     "data": {
      "image/png": "[encoded data removed]",
      "text/plain": [
       "<Figure size 360x360 with 1 Axes>"
      ]
     },
     "metadata": {},
     "output_type": "display_data"
    }
   ],
   "source": [
    "sns.catplot(x=\"age\", y=\"Total_Conversion\", hue=\"age\",data=filtered_data1178)"
   ]
  },
  {
   "cell_type": "code",
   "execution_count": 64,
   "metadata": {},
   "outputs": [
    {
     "data": {
      "image/png": "[encoded data removed]",
      "text/plain": [
       "<Figure size 1080x432 with 1 Axes>"
      ]
     },
     "metadata": {},
     "output_type": "display_data"
    }
   ],
   "source": [
    "fig_dims = (15,6)\n",
    "fig, ax = plt.subplots(figsize=fig_dims)\n",
    "sns.countplot(x = 'interest',data = filtered_data1178)\n",
    "plt.show()"
   ]
  },
  {
   "cell_type": "code",
   "execution_count": 69,
   "metadata": {},
   "outputs": [
    {
     "data": {
      "text/plain": [
       "[10,\n",
       " 15,\n",
       " 16,\n",
       " 18,\n",
       " 19,\n",
       " 20,\n",
       " 21,\n",
       " 22,\n",
       " 23,\n",
       " 24,\n",
       " 25,\n",
       " 26,\n",
       " 27,\n",
       " 28,\n",
       " 29,\n",
       " 30,\n",
       " 31,\n",
       " 32,\n",
       " 36,\n",
       " 63,\n",
       " 64,\n",
       " 65,\n",
       " 2,\n",
       " 7,\n",
       " 66,\n",
       " 100,\n",
       " 101,\n",
       " 102,\n",
       " 103,\n",
       " 105,\n",
       " 107,\n",
       " 110,\n",
       " 111,\n",
       " 112,\n",
       " 113,\n",
       " 108,\n",
       " 109,\n",
       " 114,\n",
       " 104,\n",
       " 106]"
      ]
     },
     "execution_count": 69,
     "metadata": {},
     "output_type": "execute_result"
    }
   ],
   "source": [
    "Interest_categories = filtered_data1178.interest.unique().tolist()\n",
    "Interest_categories"
   ]
  },
  {
   "cell_type": "code",
   "execution_count": 70,
   "metadata": {},
   "outputs": [
    {
     "data": {
      "text/plain": [
       "40"
      ]
     },
     "execution_count": 70,
     "metadata": {},
     "output_type": "execute_result"
    }
   ],
   "source": [
    "Interest_data = []\n",
    "\n",
    "for interests in Interest_categories:\n",
    "    Interest_data.append(filtered_data1178.loc[(filtered_data1178[\"interest\"] == interests)][\"CVR %\"])\n",
    "len(Interest_data)"
   ]
  },
  {
   "cell_type": "code",
   "execution_count": 71,
   "metadata": {},
   "outputs": [
    {
     "data": {
      "text/plain": [
       "ad_id\n",
       "1121091    0.000023\n",
       "1121092    0.000020\n",
       "1121094    0.000041\n",
       "1121095    0.000011\n",
       "1121096    0.000015\n",
       "1121289    0.000010\n",
       "1121290    0.000017\n",
       "1121291    0.000019\n",
       "1121292    0.000019\n",
       "1121293    0.000009\n",
       "1121439    0.000008\n",
       "1121440    0.000012\n",
       "1121442    0.000015\n",
       "1121443    0.000009\n",
       "1121444    0.000024\n",
       "1121589    0.000006\n",
       "1121590    0.000006\n",
       "1121592    0.000009\n",
       "1121593    0.000013\n",
       "1121594    0.000009\n",
       "1121741    0.000025\n",
       "1121742    0.000038\n",
       "1121889    0.000016\n",
       "1121890    0.000023\n",
       "1121891    0.000016\n",
       "1121894    0.000005\n",
       "1122039    0.000004\n",
       "1122040    0.000015\n",
       "1122041    0.000013\n",
       "1122043    0.000008\n",
       "1122044    0.000009\n",
       "1122189    0.000007\n",
       "1122191    0.000013\n",
       "1122192    0.000009\n",
       "1122193    0.000006\n",
       "Name: CVR %, dtype: float64"
      ]
     },
     "execution_count": 71,
     "metadata": {},
     "output_type": "execute_result"
    }
   ],
   "source": [
    "Interest_data[0]"
   ]
  },
  {
   "cell_type": "code",
   "execution_count": 72,
   "metadata": {},
   "outputs": [
    {
     "data": {
      "text/plain": [
       "[ad_id\n",
       " 1121091    0.000023\n",
       " 1121092    0.000020\n",
       " 1121094    0.000041\n",
       " 1121095    0.000011\n",
       " 1121096    0.000015\n",
       " 1121289    0.000010\n",
       " 1121290    0.000017\n",
       " 1121291    0.000019\n",
       " 1121292    0.000019\n",
       " 1121293    0.000009\n",
       " 1121439    0.000008\n",
       " 1121440    0.000012\n",
       " 1121442    0.000015\n",
       " 1121443    0.000009\n",
       " 1121444    0.000024\n",
       " 1121589    0.000006\n",
       " 1121590    0.000006\n",
       " 1121592    0.000009\n",
       " 1121593    0.000013\n",
       " 1121594    0.000009\n",
       " 1121741    0.000025\n",
       " 1121742    0.000038\n",
       " 1121889    0.000016\n",
       " 1121890    0.000023\n",
       " 1121891    0.000016\n",
       " 1121894    0.000005\n",
       " 1122039    0.000004\n",
       " 1122040    0.000015\n",
       " 1122041    0.000013\n",
       " 1122043    0.000008\n",
       " 1122044    0.000009\n",
       " 1122189    0.000007\n",
       " 1122191    0.000013\n",
       " 1122192    0.000009\n",
       " 1122193    0.000006\n",
       " Name: CVR %, dtype: float64,\n",
       " ad_id\n",
       " 1121097    0.000033\n",
       " 1121098    0.000019\n",
       " 1121100    0.000020\n",
       " 1121101    0.000067\n",
       " 1121102    0.000020\n",
       " 1121296    0.000006\n",
       " 1121297    0.000011\n",
       " 1121300    0.000006\n",
       " 1121446    0.000006\n",
       " 1121597    0.000037\n",
       " 1121598    0.000004\n",
       " 1121599    0.000008\n",
       " 1121745    0.000011\n",
       " 1121746    0.000023\n",
       " 1121749    0.000015\n",
       " 1121895    0.000015\n",
       " 1121897    0.000041\n",
       " 1122047    0.000015\n",
       " 1122197    0.000003\n",
       " 1122200    0.000004\n",
       " Name: CVR %, dtype: float64,\n",
       " ad_id\n",
       " 1121104    0.000019\n",
       " 1121105    0.000034\n",
       " 1121107    0.000061\n",
       " 1121108    0.000026\n",
       " 1121302    0.000014\n",
       " 1121303    0.000024\n",
       " 1121304    0.000011\n",
       " 1121451    0.000010\n",
       " 1121452    0.000010\n",
       " 1121453    0.000011\n",
       " 1121454    0.000013\n",
       " 1121455    0.000005\n",
       " 1121456    0.000003\n",
       " 1121601    0.000007\n",
       " 1121602    0.000007\n",
       " 1121603    0.000019\n",
       " 1121605    0.000005\n",
       " 1121606    0.000007\n",
       " 1121751    0.000018\n",
       " 1121753    0.000012\n",
       " 1121754    0.000006\n",
       " 1121755    0.000034\n",
       " 1121756    0.000009\n",
       " 1121901    0.000007\n",
       " 1121902    0.000009\n",
       " 1121903    0.000009\n",
       " 1121904    0.000007\n",
       " 1121905    0.000004\n",
       " 1121906    0.000012\n",
       " 1122052    0.000008\n",
       " 1122054    0.000027\n",
       " 1122055    0.000005\n",
       " 1122056    0.000004\n",
       " 1122201    0.000006\n",
       " 1122202    0.000001\n",
       " 1122203    0.000004\n",
       " 1122204    0.000004\n",
       " 1122205    0.000009\n",
       " Name: CVR %, dtype: float64,\n",
       " ad_id\n",
       " 1121110    0.000007\n",
       " 1121111    0.000022\n",
       " 1121113    0.000008\n",
       " 1121114    0.000032\n",
       " 1121309    0.000015\n",
       " 1121310    0.000012\n",
       " 1121311    0.000007\n",
       " 1121312    0.000020\n",
       " 1121607    0.000006\n",
       " 1121609    0.000003\n",
       " 1121612    0.000013\n",
       " 1121758    0.000007\n",
       " 1121759    0.000006\n",
       " 1121760    0.000005\n",
       " 1121907    0.000010\n",
       " 1122058    0.000045\n",
       " 1122209    0.000001\n",
       " 1122210    0.000005\n",
       " 1122211    0.000003\n",
       " 1122212    0.000006\n",
       " Name: CVR %, dtype: float64,\n",
       " ad_id\n",
       " 1121115    0.000007\n",
       " 1121116    0.000012\n",
       " 1121117    0.000010\n",
       " 1121119    0.000020\n",
       " 1121316    0.000018\n",
       " 1121317    0.000026\n",
       " 1121464    0.000019\n",
       " 1121466    0.000007\n",
       " 1121467    0.000023\n",
       " 1121613    0.000013\n",
       " 1121615    0.000015\n",
       " 1121616    0.000006\n",
       " 1121617    0.000015\n",
       " 1121763    0.000011\n",
       " 1121764    0.000043\n",
       " 1121765    0.000019\n",
       " 1121767    0.000023\n",
       " 1121768    0.000012\n",
       " 1121917    0.000017\n",
       " 1121918    0.000006\n",
       " 1122213    0.000061\n",
       " 1122216    0.000039\n",
       " 1122217    0.000017\n",
       " Name: CVR %, dtype: float64,\n",
       " ad_id\n",
       " 1121121    0.000015\n",
       " 1121122    0.000008\n",
       " 1121123    0.000018\n",
       " 1121124    0.000016\n",
       " 1121125    0.000019\n",
       " 1121126    0.000044\n",
       " 1121319    0.000023\n",
       " 1121321    0.000024\n",
       " 1121322    0.000021\n",
       " 1121469    0.000018\n",
       " 1121471    0.000010\n",
       " 1121472    0.000007\n",
       " 1121473    0.000009\n",
       " 1121474    0.000026\n",
       " 1121619    0.000016\n",
       " 1121620    0.000007\n",
       " 1121622    0.000009\n",
       " 1121623    0.000012\n",
       " 1121624    0.000057\n",
       " 1121769    0.000016\n",
       " 1121773    0.000019\n",
       " 1121774    0.000016\n",
       " 1122223    0.000014\n",
       " 1122224    0.000008\n",
       " Name: CVR %, dtype: float64,\n",
       " ad_id\n",
       " 1121127    0.000049\n",
       " 1121128    0.000007\n",
       " 1121129    0.000097\n",
       " 1121131    0.000024\n",
       " 1121132    0.000035\n",
       " 1121327    0.000011\n",
       " 1121330    0.000046\n",
       " 1121477    0.000141\n",
       " 1121627    0.000031\n",
       " 1121628    0.000017\n",
       " 1121629    0.000005\n",
       " 1121775    0.000031\n",
       " 1121776    0.000029\n",
       " 1121779    0.000033\n",
       " 1121780    0.000042\n",
       " 1121925    0.000016\n",
       " 1121928    0.000026\n",
       " 1122075    0.000065\n",
       " 1122078    0.000005\n",
       " 1122079    0.000039\n",
       " 1122225    0.000024\n",
       " 1122227    0.000011\n",
       " Name: CVR %, dtype: float64,\n",
       " ad_id\n",
       " 1121133    0.000040\n",
       " 1121134    0.000015\n",
       " 1121136    0.000006\n",
       " 1121138    0.000015\n",
       " 1121333    0.000022\n",
       " 1121334    0.000009\n",
       " 1121335    0.000016\n",
       " 1121336    0.000015\n",
       " 1121481    0.000013\n",
       " 1121482    0.000006\n",
       " 1121483    0.000004\n",
       " 1121484    0.000029\n",
       " 1121635    0.000022\n",
       " 1121782    0.000038\n",
       " 1121783    0.000007\n",
       " 1121931    0.000013\n",
       " 1121933    0.000006\n",
       " 1121935    0.000015\n",
       " 1121936    0.000011\n",
       " 1122085    0.000030\n",
       " 1122232    0.000005\n",
       " 1122233    0.000002\n",
       " Name: CVR %, dtype: float64,\n",
       " ad_id\n",
       " 1121141    0.000043\n",
       " 1121142    0.000037\n",
       " 1121143    0.000023\n",
       " 1121337    0.000015\n",
       " 1121338    0.000032\n",
       " 1121340    0.000014\n",
       " 1121341    0.000004\n",
       " 1121342    0.000010\n",
       " 1121487    0.000019\n",
       " 1121489    0.000009\n",
       " 1121638    0.000053\n",
       " 1121641    0.000009\n",
       " 1121642    0.000010\n",
       " 1121791    0.000146\n",
       " 1122089    0.000005\n",
       " 1122092    0.000019\n",
       " 1122240    0.000004\n",
       " Name: CVR %, dtype: float64,\n",
       " ad_id\n",
       " 1121152    0.000011\n",
       " 1121153    0.000027\n",
       " 1121344    0.000024\n",
       " 1121345    0.000012\n",
       " 1121347    0.000005\n",
       " 1121493    0.000007\n",
       " 1121497    0.000005\n",
       " 1121644    0.000011\n",
       " 1121793    0.000005\n",
       " 1121795    0.000040\n",
       " 1121796    0.000022\n",
       " 1121798    0.000009\n",
       " 1121944    0.000009\n",
       " 1121948    0.000034\n",
       " 1122244    0.000012\n",
       " 1122246    0.000071\n",
       " Name: CVR %, dtype: float64,\n",
       " ad_id\n",
       " 1121164    0.000016\n",
       " 1121167    0.000022\n",
       " 1121168    0.000020\n",
       " 1121350    0.000026\n",
       " 1121352    0.000000\n",
       " 1121353    0.000071\n",
       " 1121499    0.000004\n",
       " 1121650    0.000010\n",
       " 1121652    0.000016\n",
       " 1121803    0.000003\n",
       " 1121949    0.000027\n",
       " 1121953    0.000120\n",
       " 1121954    0.000017\n",
       " 1122101    0.000035\n",
       " 1122102    0.000007\n",
       " 1122103    0.000007\n",
       " 1122249    0.000007\n",
       " 1122253    0.000011\n",
       " 1122254    0.000004\n",
       " Name: CVR %, dtype: float64,\n",
       " ad_id\n",
       " 1121172    0.000011\n",
       " 1121173    0.000011\n",
       " 1121175    0.000005\n",
       " 1121177    0.000114\n",
       " 1121355    0.000010\n",
       " 1121359    0.000132\n",
       " 1121510    0.000032\n",
       " 1121660    0.000042\n",
       " 1121806    0.000016\n",
       " 1121807    0.000011\n",
       " 1121955    0.000005\n",
       " 1121956    0.000004\n",
       " 1122105    0.000036\n",
       " 1122107    0.000006\n",
       " 1122109    0.000006\n",
       " 1122257    0.000006\n",
       " 1122258    0.000009\n",
       " 1122260    0.000006\n",
       " Name: CVR %, dtype: float64,\n",
       " ad_id\n",
       " 1121181    0.000049\n",
       " 1121182    0.000025\n",
       " 1121183    0.000013\n",
       " 1121184    0.000004\n",
       " 1121185    0.000019\n",
       " 1121361    0.000015\n",
       " 1121364    0.000007\n",
       " 1121365    0.000036\n",
       " 1121511    0.000012\n",
       " 1121514    0.000018\n",
       " 1121661    0.000006\n",
       " 1121662    0.000014\n",
       " 1121664    0.000006\n",
       " 1121665    0.000008\n",
       " 1121666    0.000011\n",
       " 1121812    0.000020\n",
       " 1121814    0.000017\n",
       " 1121815    0.000004\n",
       " 1121816    0.000019\n",
       " 1121962    0.000006\n",
       " 1121963    0.000018\n",
       " 1122112    0.000010\n",
       " 1122113    0.000008\n",
       " 1122262    0.000015\n",
       " 1122265    0.000007\n",
       " 1122266    0.000008\n",
       " Name: CVR %, dtype: float64,\n",
       " ad_id\n",
       " 1121193    0.000035\n",
       " 1121195    0.000026\n",
       " 1121196    0.000022\n",
       " 1121197    0.000012\n",
       " 1121367    0.000008\n",
       " 1121368    0.000003\n",
       " 1121369    0.000006\n",
       " 1121370    0.000005\n",
       " 1121372    0.000011\n",
       " 1121667    0.000011\n",
       " 1121668    0.000005\n",
       " 1121669    0.000008\n",
       " 1121671    0.000007\n",
       " 1121672    0.000033\n",
       " 1121817    0.000018\n",
       " 1121818    0.000012\n",
       " 1121819    0.000006\n",
       " 1121820    0.000000\n",
       " 1121971    0.000024\n",
       " 1122118    0.000020\n",
       " 1122120    0.000017\n",
       " 1122121    0.000015\n",
       " 1122267    0.000010\n",
       " 1122268    0.000015\n",
       " 1122270    0.000014\n",
       " 1122271    0.000006\n",
       " Name: CVR %, dtype: float64,\n",
       " ad_id\n",
       " 1121202    0.000017\n",
       " 1121203    0.000021\n",
       " 1121205    0.000013\n",
       " 1121206    0.000097\n",
       " 1121207    0.000021\n",
       " 1121373    0.000014\n",
       " 1121374    0.000018\n",
       " 1121375    0.000101\n",
       " 1121377    0.000084\n",
       " 1121378    0.000012\n",
       " 1121523    0.000026\n",
       " 1121524    0.000014\n",
       " 1121525    0.000005\n",
       " 1121526    0.000006\n",
       " 1121527    0.000005\n",
       " 1121528    0.000012\n",
       " 1121673    0.000007\n",
       " 1121674    0.000012\n",
       " 1121675    0.000018\n",
       " 1121676    0.000017\n",
       " 1121677    0.000012\n",
       " 1121678    0.000007\n",
       " 1121824    0.000013\n",
       " 1121826    0.000007\n",
       " 1121827    0.000033\n",
       " 1121828    0.000012\n",
       " 1121973    0.000040\n",
       " 1121976    0.000018\n",
       " 1121977    0.000007\n",
       " 1122125    0.000006\n",
       " 1122127    0.000007\n",
       " 1122273    0.000015\n",
       " 1122274    0.000004\n",
       " 1122276    0.000015\n",
       " 1122277    0.000009\n",
       " Name: CVR %, dtype: float64,\n",
       " ad_id\n",
       " 1121211    0.000004\n",
       " 1121213    0.000007\n",
       " 1121215    0.000024\n",
       " 1121216    0.000040\n",
       " 1121379    0.000020\n",
       " 1121380    0.000023\n",
       " 1121381    0.000010\n",
       " 1121530    0.000005\n",
       " 1121532    0.000016\n",
       " 1121829    0.000011\n",
       " 1121832    0.000005\n",
       " 1121833    0.000039\n",
       " 1121983    0.000019\n",
       " 1122131    0.000011\n",
       " 1122279    0.000026\n",
       " 1122282    0.000044\n",
       " Name: CVR %, dtype: float64,\n",
       " ad_id\n",
       " 1121220    0.000040\n",
       " 1121223    0.000016\n",
       " 1121224    0.000070\n",
       " 1121390    0.000064\n",
       " 1121535    0.000013\n",
       " 1121685    0.000015\n",
       " 1121687    0.000017\n",
       " 1121689    0.000007\n",
       " 1121835    0.000020\n",
       " 1121839    0.000072\n",
       " 1122138    0.000021\n",
       " 1122139    0.000011\n",
       " 1122140    0.000012\n",
       " 1122288    0.000019\n",
       " 1122290    0.000038\n",
       " Name: CVR %, dtype: float64,\n",
       " ad_id\n",
       " 1121229    0.000010\n",
       " 1121231    0.000045\n",
       " 1121233    0.000017\n",
       " 1121391    0.000010\n",
       " 1121394    0.000013\n",
       " 1121395    0.000008\n",
       " 1121541    0.000018\n",
       " 1121544    0.000010\n",
       " 1121545    0.000010\n",
       " 1121691    0.000003\n",
       " 1121692    0.000006\n",
       " 1121693    0.000012\n",
       " 1121695    0.000034\n",
       " 1121841    0.000016\n",
       " 1121843    0.000011\n",
       " 1121844    0.000007\n",
       " 1121845    0.000023\n",
       " 1121846    0.000120\n",
       " 1121994    0.000004\n",
       " 1122145    0.000021\n",
       " 1122146    0.000000\n",
       " Name: CVR %, dtype: float64,\n",
       " ad_id\n",
       " 1121241    0.000120\n",
       " 1121242    0.000026\n",
       " 1121243    0.000019\n",
       " 1121244    0.000011\n",
       " 1121245    0.000034\n",
       " 1121246    0.000029\n",
       " 1121398    0.000028\n",
       " 1121400    0.000056\n",
       " 1121548    0.000017\n",
       " 1121551    0.000005\n",
       " 1121701    0.000042\n",
       " 1121847    0.000025\n",
       " 1122149    0.000027\n",
       " Name: CVR %, dtype: float64,\n",
       " ad_id\n",
       " 1121250    0.000010\n",
       " 1121251    0.000009\n",
       " 1121252    0.000090\n",
       " 1121254    0.000032\n",
       " 1121255    0.000049\n",
       " 1121403    0.000017\n",
       " 1121405    0.000048\n",
       " 1121554    0.000019\n",
       " 1121557    0.000007\n",
       " 1121705    0.000008\n",
       " 1121706    0.000007\n",
       " 1121708    0.000015\n",
       " 1121854    0.000116\n",
       " 1121855    0.000040\n",
       " 1121856    0.000011\n",
       " 1121857    0.000022\n",
       " 1122003    0.000010\n",
       " 1122004    0.000009\n",
       " 1122005    0.000011\n",
       " 1122006    0.000009\n",
       " 1122007    0.000010\n",
       " 1122154    0.000003\n",
       " 1122157    0.000010\n",
       " 1122303    0.000008\n",
       " 1122304    0.000004\n",
       " 1122308    0.000007\n",
       " Name: CVR %, dtype: float64,\n",
       " ad_id\n",
       " 1121261    0.000010\n",
       " 1121262    0.000016\n",
       " 1121263    0.000013\n",
       " 1121264    0.000011\n",
       " 1121410    0.000040\n",
       " 1121411    0.000020\n",
       " 1121412    0.000007\n",
       " 1121413    0.000015\n",
       " 1121414    0.000015\n",
       " 1121561    0.000016\n",
       " 1121562    0.000009\n",
       " 1121711    0.000020\n",
       " 1121859    0.000025\n",
       " 1121860    0.000008\n",
       " 1121861    0.000013\n",
       " 1121862    0.000015\n",
       " 1121863    0.000011\n",
       " 1122011    0.000025\n",
       " 1122012    0.000022\n",
       " 1122160    0.000006\n",
       " 1122310    0.000004\n",
       " 1122311    0.000011\n",
       " 1122312    0.000013\n",
       " 1122313    0.000003\n",
       " Name: CVR %, dtype: float64,\n",
       " ad_id\n",
       " 1121265    0.000007\n",
       " 1121269    0.000010\n",
       " 1121415    0.000044\n",
       " 1121418    0.000021\n",
       " 1121568    0.000011\n",
       " 1121716    0.000013\n",
       " 1121867    0.000012\n",
       " 1121869    0.000056\n",
       " 1122165    0.000018\n",
       " 1122166    0.000034\n",
       " 1122316    0.000006\n",
       " Name: CVR %, dtype: float64,\n",
       " ad_id\n",
       " 1121273    0.000107\n",
       " 1121274    0.000094\n",
       " 1121275    0.000017\n",
       " 1121276    0.000021\n",
       " 1121421    0.000009\n",
       " 1121422    0.000016\n",
       " 1121423    0.000031\n",
       " 1121425    0.000012\n",
       " 1121571    0.000009\n",
       " 1121572    0.000031\n",
       " 1121575    0.000008\n",
       " 1121723    0.000020\n",
       " 1121871    0.000052\n",
       " 1121873    0.000190\n",
       " 1121874    0.000014\n",
       " 1121876    0.000012\n",
       " 1122022    0.000048\n",
       " 1122176    0.000013\n",
       " Name: CVR %, dtype: float64,\n",
       " ad_id\n",
       " 1121277    0.000012\n",
       " 1121278    0.000021\n",
       " 1121279    0.000053\n",
       " 1121282    0.000022\n",
       " 1121428    0.000008\n",
       " 1121429    0.000007\n",
       " 1121430    0.000034\n",
       " 1121577    0.000008\n",
       " 1121877    0.000045\n",
       " 1121878    0.000022\n",
       " 1121881    0.000023\n",
       " 1122027    0.000016\n",
       " 1122177    0.000021\n",
       " 1122182    0.000000\n",
       " Name: CVR %, dtype: float64,\n",
       " ad_id\n",
       " 1121284    0.000006\n",
       " 1121285    0.000027\n",
       " 1121286    0.000091\n",
       " 1121287    0.000009\n",
       " 1121433    0.000012\n",
       " 1121437    0.000026\n",
       " 1121584    0.000030\n",
       " 1121585    0.000102\n",
       " 1121733    0.000018\n",
       " 1121888    0.000048\n",
       " 1122183    0.000015\n",
       " Name: CVR %, dtype: float64,\n",
       " ad_id\n",
       " 1314296    0.000030\n",
       " 1314326    0.000039\n",
       " 1314341    0.000039\n",
       " 1314371    0.000014\n",
       " 1314386    0.000022\n",
       " 1314401    0.000012\n",
       " Name: CVR %, dtype: float64,\n",
       " ad_id\n",
       " 1314297    0.000055\n",
       " 1314312    0.000030\n",
       " 1314327    0.000015\n",
       " 1314357    0.000019\n",
       " 1314372    0.000014\n",
       " 1314387    0.000045\n",
       " 1314402    0.000017\n",
       " Name: CVR %, dtype: float64,\n",
       " ad_id\n",
       " 1314298    0.000040\n",
       " 1314313    0.000008\n",
       " 1314343    0.000015\n",
       " 1314358    0.000029\n",
       " 1314373    0.000012\n",
       " 1314388    0.000003\n",
       " 1314403    0.000012\n",
       " Name: CVR %, dtype: float64,\n",
       " ad_id\n",
       " 1314299    0.000021\n",
       " 1314314    0.000033\n",
       " 1314359    0.000015\n",
       " 1314389    0.000005\n",
       " 1314404    0.000014\n",
       " Name: CVR %, dtype: float64,\n",
       " ad_id\n",
       " 1314301    0.000006\n",
       " 1314316    0.000014\n",
       " 1314331    0.000015\n",
       " 1314346    0.000020\n",
       " 1314361    0.000018\n",
       " 1314391    0.000009\n",
       " 1314406    0.000010\n",
       " Name: CVR %, dtype: float64,\n",
       " ad_id\n",
       " 1314303    0.000020\n",
       " 1314318    0.000009\n",
       " 1314333    0.000009\n",
       " 1314348    0.000016\n",
       " 1314363    0.000026\n",
       " 1314378    0.000013\n",
       " 1314393    0.000006\n",
       " 1314408    0.000015\n",
       " Name: CVR %, dtype: float64,\n",
       " ad_id\n",
       " 1314306    0.000035\n",
       " 1314321    0.000013\n",
       " 1314336    0.000011\n",
       " 1314351    0.000011\n",
       " 1314366    0.000040\n",
       " 1314381    0.000022\n",
       " 1314396    0.000007\n",
       " 1314411    0.000005\n",
       " Name: CVR %, dtype: float64,\n",
       " ad_id\n",
       " 1314307    0.000010\n",
       " 1314337    0.000014\n",
       " 1314367    0.000035\n",
       " 1314382    0.000020\n",
       " 1314397    0.000002\n",
       " 1314412    0.000013\n",
       " Name: CVR %, dtype: float64,\n",
       " ad_id\n",
       " 1314308    0.000059\n",
       " 1314323    0.000019\n",
       " 1314338    0.000011\n",
       " 1314353    0.000009\n",
       " 1314368    0.000017\n",
       " 1314383    0.000037\n",
       " 1314398    0.000026\n",
       " Name: CVR %, dtype: float64,\n",
       " ad_id\n",
       " 1314309    0.000018\n",
       " 1314324    0.000021\n",
       " 1314339    0.000012\n",
       " 1314354    0.000022\n",
       " 1314384    0.000014\n",
       " 1314414    0.000010\n",
       " Name: CVR %, dtype: float64,\n",
       " ad_id\n",
       " 1314319    0.000014\n",
       " 1314334    0.000021\n",
       " 1314349    0.000015\n",
       " 1314364    0.000030\n",
       " 1314379    0.000016\n",
       " 1314394    0.000007\n",
       " 1314409    0.000019\n",
       " Name: CVR %, dtype: float64,\n",
       " ad_id\n",
       " 1314320    0.000019\n",
       " 1314350    0.000014\n",
       " 1314365    0.000019\n",
       " 1314380    0.000008\n",
       " 1314395    0.000007\n",
       " 1314410    0.000012\n",
       " Name: CVR %, dtype: float64,\n",
       " ad_id\n",
       " 1314325    0.000016\n",
       " 1314355    0.000007\n",
       " 1314385    0.000011\n",
       " 1314400    0.000016\n",
       " 1314415    0.000010\n",
       " Name: CVR %, dtype: float64,\n",
       " ad_id\n",
       " 1314330    0.000057\n",
       " 1314345    0.000032\n",
       " 1314360    0.000047\n",
       " 1314390    0.000011\n",
       " 1314405    0.000025\n",
       " Name: CVR %, dtype: float64,\n",
       " ad_id\n",
       " 1314332    0.000015\n",
       " 1314362    0.000012\n",
       " 1314377    0.000006\n",
       " 1314392    0.000017\n",
       " 1314407    0.000009\n",
       " Name: CVR %, dtype: float64]"
      ]
     },
     "execution_count": 72,
     "metadata": {},
     "output_type": "execute_result"
    }
   ],
   "source": [
    "Interest_data"
   ]
  },
  {
   "cell_type": "code",
   "execution_count": 74,
   "metadata": {},
   "outputs": [
    {
     "data": {
      "text/plain": [
       "F_onewayResult(statistic=1.9097727659183725, pvalue=0.0009416503097439706)"
      ]
     },
     "execution_count": 74,
     "metadata": {},
     "output_type": "execute_result"
    }
   ],
   "source": [
    "from scipy import stats\n",
    "\n",
    "stats.f_oneway(*Interest_data)"
   ]
  },
  {
   "cell_type": "code",
   "execution_count": 75,
   "metadata": {},
   "outputs": [
    {
     "data": {
      "image/png": "[encoded data removed]",
      "text/plain": [
       "<Figure size 864x288 with 1 Axes>"
      ]
     },
     "metadata": {},
     "output_type": "display_data"
    }
   ],
   "source": [
    "Conversion_per_age = filtered_data1178.groupby(['interest']).mean()['CVR %']\n",
    "Conversion_per_age.plot.bar(y='interest', figsize=(12, 4))\n",
    "plt.ylabel('CVR %')\n",
    "plt.title('CVR % by interest')\n",
    "plt.margins(0.1)\n",
    "plt.subplots_adjust(bottom = 0.10)\n",
    "plt.show()"
   ]
  },
  {
   "cell_type": "code",
   "execution_count": 76,
   "metadata": {},
   "outputs": [
    {
     "data": {
      "text/plain": [
       "['30-34', '35-39', '40-44', '45-49']"
      ]
     },
     "execution_count": 76,
     "metadata": {},
     "output_type": "execute_result"
    }
   ],
   "source": [
    "Age_groups = filtered_data1178.age.unique().tolist()\n",
    "Age_groups"
   ]
  },
  {
   "cell_type": "code",
   "execution_count": 77,
   "metadata": {},
   "outputs": [],
   "source": [
    "Age_category_data = []\n",
    "\n",
    "for ages in Age_groups:\n",
    "    Age_category_data.append(filtered_data1178.loc[(filtered_data1178[\"age\"] == ages)][\"CVR %\"])"
   ]
  },
  {
   "cell_type": "code",
   "execution_count": 78,
   "metadata": {},
   "outputs": [
    {
     "data": {
      "text/plain": [
       "4"
      ]
     },
     "execution_count": 78,
     "metadata": {},
     "output_type": "execute_result"
    }
   ],
   "source": [
    "len(Age_category_data)"
   ]
  },
  {
   "cell_type": "code",
   "execution_count": 79,
   "metadata": {},
   "outputs": [
    {
     "data": {
      "text/plain": [
       "[ad_id\n",
       " 1121091    0.000023\n",
       " 1121092    0.000020\n",
       " 1121094    0.000041\n",
       " 1121095    0.000011\n",
       " 1121096    0.000015\n",
       "              ...   \n",
       " 1314364    0.000030\n",
       " 1314365    0.000019\n",
       " 1314366    0.000040\n",
       " 1314367    0.000035\n",
       " 1314368    0.000017\n",
       " Name: CVR %, Length: 201, dtype: float64,\n",
       " ad_id\n",
       " 1121289    0.000010\n",
       " 1121290    0.000017\n",
       " 1121291    0.000019\n",
       " 1121292    0.000019\n",
       " 1121293    0.000009\n",
       "              ...   \n",
       " 1314381    0.000022\n",
       " 1314382    0.000020\n",
       " 1314383    0.000037\n",
       " 1314384    0.000014\n",
       " 1314385    0.000011\n",
       " Name: CVR %, Length: 147, dtype: float64,\n",
       " ad_id\n",
       " 1121439    0.000008\n",
       " 1121440    0.000012\n",
       " 1121442    0.000015\n",
       " 1121443    0.000009\n",
       " 1121444    0.000024\n",
       "              ...   \n",
       " 1314395    0.000007\n",
       " 1314396    0.000007\n",
       " 1314397    0.000002\n",
       " 1314398    0.000026\n",
       " 1314400    0.000016\n",
       " Name: CVR %, Length: 129, dtype: float64,\n",
       " ad_id\n",
       " 1121589    0.000006\n",
       " 1121590    0.000006\n",
       " 1121592    0.000009\n",
       " 1121593    0.000013\n",
       " 1121594    0.000009\n",
       "              ...   \n",
       " 1314410    0.000012\n",
       " 1314411    0.000005\n",
       " 1314412    0.000013\n",
       " 1314414    0.000010\n",
       " 1314415    0.000010\n",
       " Name: CVR %, Length: 148, dtype: float64]"
      ]
     },
     "execution_count": 79,
     "metadata": {},
     "output_type": "execute_result"
    }
   ],
   "source": [
    "Age_category_data"
   ]
  },
  {
   "cell_type": "code",
   "execution_count": 80,
   "metadata": {},
   "outputs": [
    {
     "data": {
      "text/plain": [
       "F_onewayResult(statistic=15.528723775146759, pvalue=9.44738334155972e-10)"
      ]
     },
     "execution_count": 80,
     "metadata": {},
     "output_type": "execute_result"
    }
   ],
   "source": [
    "from scipy import stats\n",
    "\n",
    "stats.f_oneway(*Age_category_data)"
   ]
  },
  {
   "cell_type": "code",
   "execution_count": 81,
   "metadata": {},
   "outputs": [
    {
     "data": {
      "image/png": "[encoded data removed]",
      "text/plain": [
       "<Figure size 864x288 with 1 Axes>"
      ]
     },
     "metadata": {},
     "output_type": "display_data"
    }
   ],
   "source": [
    "Conversion_per_age = filtered_data1178.groupby(['age']).mean()['CVR %']\n",
    "Conversion_per_age.plot.bar(y='age', figsize=(12, 4))\n",
    "plt.ylabel('CVR %')\n",
    "plt.title('CVR % by Age')\n",
    "plt.margins(0.1)\n",
    "plt.subplots_adjust(bottom = 0.10)\n",
    "plt.show()"
   ]
  },
  {
   "cell_type": "code",
   "execution_count": 82,
   "metadata": {},
   "outputs": [
    {
     "data": {
      "text/plain": [
       "['M', 'F']"
      ]
     },
     "execution_count": 82,
     "metadata": {},
     "output_type": "execute_result"
    }
   ],
   "source": [
    "Gender_groups = filtered_data1178.gender.unique().tolist()\n",
    "Gender_groups"
   ]
  },
  {
   "cell_type": "code",
   "execution_count": 83,
   "metadata": {},
   "outputs": [
    {
     "data": {
      "text/plain": [
       "ad_id\n",
       "1121091    0.000023\n",
       "1121092    0.000020\n",
       "1121094    0.000041\n",
       "1121095    0.000011\n",
       "1121096    0.000015\n",
       "             ...   \n",
       "1314350    0.000014\n",
       "1314351    0.000011\n",
       "1314353    0.000009\n",
       "1314354    0.000022\n",
       "1314355    0.000007\n",
       "Name: CVR %, Length: 349, dtype: float64"
      ]
     },
     "execution_count": 83,
     "metadata": {},
     "output_type": "execute_result"
    }
   ],
   "source": [
    "Male_group = filtered_data1178.loc[(filtered_data1178[\"gender\"] == 'M')][\"CVR %\"]\n",
    "Female_group = filtered_data1178.loc[(filtered_data1178[\"gender\"] == 'F')][\"CVR %\"]\n",
    "Male_group"
   ]
  },
  {
   "cell_type": "code",
   "execution_count": 84,
   "metadata": {},
   "outputs": [
    {
     "data": {
      "text/plain": [
       "ad_id\n",
       "1121741    0.000025\n",
       "1121742    0.000038\n",
       "1121745    0.000011\n",
       "1121746    0.000023\n",
       "1121749    0.000015\n",
       "             ...   \n",
       "1314410    0.000012\n",
       "1314411    0.000005\n",
       "1314412    0.000013\n",
       "1314414    0.000010\n",
       "1314415    0.000010\n",
       "Name: CVR %, Length: 276, dtype: float64"
      ]
     },
     "execution_count": 84,
     "metadata": {},
     "output_type": "execute_result"
    }
   ],
   "source": [
    "Female_group"
   ]
  },
  {
   "cell_type": "code",
   "execution_count": 85,
   "metadata": {},
   "outputs": [
    {
     "data": {
      "text/plain": [
       "Ttest_indResult(statistic=1.6117447883797815, pvalue=0.1075239428447942)"
      ]
     },
     "execution_count": 85,
     "metadata": {},
     "output_type": "execute_result"
    }
   ],
   "source": [
    "stats.ttest_ind(Male_group,Female_group)"
   ]
  }
 ],
 "metadata": {
  "kernelspec": {
   "display_name": "Python 3",
   "language": "python",
   "name": "python3"
  },
  "language_info": {
   "codemirror_mode": {
    "name": "ipython",
    "version": 3
   },
   "file_extension": ".py",
   "mimetype": "text/x-python",
   "name": "python",
   "nbconvert_exporter": "python",
   "pygments_lexer": "ipython3",
   "version": "3.8.3"
  }
 },
 "nbformat": 4,
 "nbformat_minor": 4
}
