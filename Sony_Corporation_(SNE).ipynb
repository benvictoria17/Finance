{
  "nbformat": 4,
  "nbformat_minor": 0,
  "metadata": {
    "colab": {
      "name": "Sony Corporation (SNE).ipynb",
      "provenance": [],
      "authorship_tag": "ABX9TyMkcTahFmGmL5R0wf+iC/hj",
      "include_colab_link": true
    },
    "kernelspec": {
      "name": "python3",
      "display_name": "Python 3"
    }
  },
  "cells": [
    {
      "cell_type": "markdown",
      "metadata": {
        "id": "view-in-github",
        "colab_type": "text"
      },
      "source": [
        "<a href=\"https://colab.research.google.com/github/benvictoria21/AnalyzeStocks/blob/master/Sony_Corporation_(SNE).ipynb\" target=\"_parent\"><img src=\"https://colab.research.google.com/assets/colab-badge.svg\" alt=\"Open In Colab\"/></a>"
      ]
    },
    {
      "cell_type": "code",
      "metadata": {
        "colab": {
          "base_uri": "https://localhost:8080/"
        },
        "id": "qvKTPiiJz_tm",
        "outputId": "213890a5-caec-4ced-cfde-6a9252260eee"
      },
      "source": [
        "!sudo pip install  yfinance"
      ],
      "execution_count": 53,
      "outputs": [
        {
          "output_type": "stream",
          "text": [
            "Requirement already satisfied: yfinance in /usr/local/lib/python3.6/dist-packages (0.1.55)\n",
            "Requirement already satisfied: numpy>=1.15 in /usr/local/lib/python3.6/dist-packages (from yfinance) (1.18.5)\n",
            "Requirement already satisfied: requests>=2.20 in /usr/local/lib/python3.6/dist-packages (from yfinance) (2.23.0)\n",
            "Requirement already satisfied: pandas>=0.24 in /usr/local/lib/python3.6/dist-packages (from yfinance) (1.1.4)\n",
            "Requirement already satisfied: multitasking>=0.0.7 in /usr/local/lib/python3.6/dist-packages (from yfinance) (0.0.9)\n",
            "Requirement already satisfied: lxml>=4.5.1 in /usr/local/lib/python3.6/dist-packages (from yfinance) (4.6.1)\n",
            "Requirement already satisfied: urllib3!=1.25.0,!=1.25.1,<1.26,>=1.21.1 in /usr/local/lib/python3.6/dist-packages (from requests>=2.20->yfinance) (1.24.3)\n",
            "Requirement already satisfied: chardet<4,>=3.0.2 in /usr/local/lib/python3.6/dist-packages (from requests>=2.20->yfinance) (3.0.4)\n",
            "Requirement already satisfied: certifi>=2017.4.17 in /usr/local/lib/python3.6/dist-packages (from requests>=2.20->yfinance) (2020.11.8)\n",
            "Requirement already satisfied: idna<3,>=2.5 in /usr/local/lib/python3.6/dist-packages (from requests>=2.20->yfinance) (2.10)\n",
            "Requirement already satisfied: pytz>=2017.2 in /usr/local/lib/python3.6/dist-packages (from pandas>=0.24->yfinance) (2018.9)\n",
            "Requirement already satisfied: python-dateutil>=2.7.3 in /usr/local/lib/python3.6/dist-packages (from pandas>=0.24->yfinance) (2.8.1)\n",
            "Requirement already satisfied: six>=1.5 in /usr/local/lib/python3.6/dist-packages (from python-dateutil>=2.7.3->pandas>=0.24->yfinance) (1.15.0)\n"
          ],
          "name": "stdout"
        }
      ]
    },
    {
      "cell_type": "code",
      "metadata": {
        "id": "eIBMY9O70P2h"
      },
      "source": [
        "import pandas as pd \n",
        "import numpy as np \n",
        "import matplotlib.pyplot as plt\n",
        "import pandas_datareader\n",
        "import sqlite3\n",
        "import yfinance"
      ],
      "execution_count": 54,
      "outputs": []
    },
    {
      "cell_type": "code",
      "metadata": {
        "colab": {
          "base_uri": "https://localhost:8080/",
          "height": 467
        },
        "id": "SEpNfeXo0QFH",
        "outputId": "3aa46988-8152-40af-e916-96124022fd59"
      },
      "source": [
        "SNE = yfinance.download(\"SNE\")\n",
        "\n",
        "SNE"
      ],
      "execution_count": 73,
      "outputs": [
        {
          "output_type": "stream",
          "text": [
            "\r[*********************100%***********************]  1 of 1 completed\n"
          ],
          "name": "stdout"
        },
        {
          "output_type": "execute_result",
          "data": {
            "text/html": [
              "<div>\n",
              "<style scoped>\n",
              "    .dataframe tbody tr th:only-of-type {\n",
              "        vertical-align: middle;\n",
              "    }\n",
              "\n",
              "    .dataframe tbody tr th {\n",
              "        vertical-align: top;\n",
              "    }\n",
              "\n",
              "    .dataframe thead th {\n",
              "        text-align: right;\n",
              "    }\n",
              "</style>\n",
              "<table border=\"1\" class=\"dataframe\">\n",
              "  <thead>\n",
              "    <tr style=\"text-align: right;\">\n",
              "      <th></th>\n",
              "      <th>Open</th>\n",
              "      <th>High</th>\n",
              "      <th>Low</th>\n",
              "      <th>Close</th>\n",
              "      <th>Adj Close</th>\n",
              "      <th>Volume</th>\n",
              "    </tr>\n",
              "    <tr>\n",
              "      <th>Date</th>\n",
              "      <th></th>\n",
              "      <th></th>\n",
              "      <th></th>\n",
              "      <th></th>\n",
              "      <th></th>\n",
              "      <th></th>\n",
              "    </tr>\n",
              "  </thead>\n",
              "  <tbody>\n",
              "    <tr>\n",
              "      <th>1973-02-21</th>\n",
              "      <td>0.000000</td>\n",
              "      <td>7.927273</td>\n",
              "      <td>7.672727</td>\n",
              "      <td>7.763637</td>\n",
              "      <td>5.191778</td>\n",
              "      <td>377800</td>\n",
              "    </tr>\n",
              "    <tr>\n",
              "      <th>1973-02-22</th>\n",
              "      <td>0.000000</td>\n",
              "      <td>7.763637</td>\n",
              "      <td>7.581818</td>\n",
              "      <td>7.581818</td>\n",
              "      <td>5.070193</td>\n",
              "      <td>225400</td>\n",
              "    </tr>\n",
              "    <tr>\n",
              "      <th>1973-02-23</th>\n",
              "      <td>0.000000</td>\n",
              "      <td>7.563636</td>\n",
              "      <td>7.400000</td>\n",
              "      <td>7.436364</td>\n",
              "      <td>4.972920</td>\n",
              "      <td>173000</td>\n",
              "    </tr>\n",
              "    <tr>\n",
              "      <th>1973-02-26</th>\n",
              "      <td>0.000000</td>\n",
              "      <td>7.454545</td>\n",
              "      <td>7.181818</td>\n",
              "      <td>7.327273</td>\n",
              "      <td>4.899970</td>\n",
              "      <td>421800</td>\n",
              "    </tr>\n",
              "    <tr>\n",
              "      <th>1973-02-27</th>\n",
              "      <td>0.000000</td>\n",
              "      <td>7.327273</td>\n",
              "      <td>7.163636</td>\n",
              "      <td>7.163636</td>\n",
              "      <td>4.790540</td>\n",
              "      <td>250800</td>\n",
              "    </tr>\n",
              "    <tr>\n",
              "      <th>...</th>\n",
              "      <td>...</td>\n",
              "      <td>...</td>\n",
              "      <td>...</td>\n",
              "      <td>...</td>\n",
              "      <td>...</td>\n",
              "      <td>...</td>\n",
              "    </tr>\n",
              "    <tr>\n",
              "      <th>2020-11-19</th>\n",
              "      <td>88.870003</td>\n",
              "      <td>88.989998</td>\n",
              "      <td>88.440002</td>\n",
              "      <td>88.849998</td>\n",
              "      <td>88.849998</td>\n",
              "      <td>899900</td>\n",
              "    </tr>\n",
              "    <tr>\n",
              "      <th>2020-11-20</th>\n",
              "      <td>88.910004</td>\n",
              "      <td>90.269997</td>\n",
              "      <td>88.860001</td>\n",
              "      <td>89.980003</td>\n",
              "      <td>89.980003</td>\n",
              "      <td>623900</td>\n",
              "    </tr>\n",
              "    <tr>\n",
              "      <th>2020-11-23</th>\n",
              "      <td>90.099998</td>\n",
              "      <td>90.809998</td>\n",
              "      <td>89.470001</td>\n",
              "      <td>89.790001</td>\n",
              "      <td>89.790001</td>\n",
              "      <td>742800</td>\n",
              "    </tr>\n",
              "    <tr>\n",
              "      <th>2020-11-24</th>\n",
              "      <td>91.050003</td>\n",
              "      <td>91.550003</td>\n",
              "      <td>90.029999</td>\n",
              "      <td>90.800003</td>\n",
              "      <td>90.800003</td>\n",
              "      <td>1101300</td>\n",
              "    </tr>\n",
              "    <tr>\n",
              "      <th>2020-11-25</th>\n",
              "      <td>93.400002</td>\n",
              "      <td>93.500000</td>\n",
              "      <td>91.910004</td>\n",
              "      <td>93.230003</td>\n",
              "      <td>93.230003</td>\n",
              "      <td>1551133</td>\n",
              "    </tr>\n",
              "  </tbody>\n",
              "</table>\n",
              "<p>12050 rows × 6 columns</p>\n",
              "</div>"
            ],
            "text/plain": [
              "                 Open       High        Low      Close  Adj Close   Volume\n",
              "Date                                                                      \n",
              "1973-02-21   0.000000   7.927273   7.672727   7.763637   5.191778   377800\n",
              "1973-02-22   0.000000   7.763637   7.581818   7.581818   5.070193   225400\n",
              "1973-02-23   0.000000   7.563636   7.400000   7.436364   4.972920   173000\n",
              "1973-02-26   0.000000   7.454545   7.181818   7.327273   4.899970   421800\n",
              "1973-02-27   0.000000   7.327273   7.163636   7.163636   4.790540   250800\n",
              "...               ...        ...        ...        ...        ...      ...\n",
              "2020-11-19  88.870003  88.989998  88.440002  88.849998  88.849998   899900\n",
              "2020-11-20  88.910004  90.269997  88.860001  89.980003  89.980003   623900\n",
              "2020-11-23  90.099998  90.809998  89.470001  89.790001  89.790001   742800\n",
              "2020-11-24  91.050003  91.550003  90.029999  90.800003  90.800003  1101300\n",
              "2020-11-25  93.400002  93.500000  91.910004  93.230003  93.230003  1551133\n",
              "\n",
              "[12050 rows x 6 columns]"
            ]
          },
          "metadata": {
            "tags": []
          },
          "execution_count": 73
        }
      ]
    },
    {
      "cell_type": "code",
      "metadata": {
        "colab": {
          "base_uri": "https://localhost:8080/",
          "height": 235
        },
        "id": "CfeiZ4-v0QIK",
        "outputId": "d240c143-1047-44a6-95e1-44615d35e82e"
      },
      "source": [
        "SNE.head()"
      ],
      "execution_count": 72,
      "outputs": [
        {
          "output_type": "execute_result",
          "data": {
            "text/html": [
              "<div>\n",
              "<style scoped>\n",
              "    .dataframe tbody tr th:only-of-type {\n",
              "        vertical-align: middle;\n",
              "    }\n",
              "\n",
              "    .dataframe tbody tr th {\n",
              "        vertical-align: top;\n",
              "    }\n",
              "\n",
              "    .dataframe thead th {\n",
              "        text-align: right;\n",
              "    }\n",
              "</style>\n",
              "<table border=\"1\" class=\"dataframe\">\n",
              "  <thead>\n",
              "    <tr style=\"text-align: right;\">\n",
              "      <th></th>\n",
              "      <th>Open</th>\n",
              "      <th>High</th>\n",
              "      <th>Low</th>\n",
              "      <th>Close</th>\n",
              "      <th>Adj Close</th>\n",
              "      <th>Volume</th>\n",
              "    </tr>\n",
              "    <tr>\n",
              "      <th>Date</th>\n",
              "      <th></th>\n",
              "      <th></th>\n",
              "      <th></th>\n",
              "      <th></th>\n",
              "      <th></th>\n",
              "      <th></th>\n",
              "    </tr>\n",
              "  </thead>\n",
              "  <tbody>\n",
              "    <tr>\n",
              "      <th>1973-02-21</th>\n",
              "      <td>0.0</td>\n",
              "      <td>7.927273</td>\n",
              "      <td>7.672727</td>\n",
              "      <td>7.763637</td>\n",
              "      <td>5.191778</td>\n",
              "      <td>377800</td>\n",
              "    </tr>\n",
              "    <tr>\n",
              "      <th>1973-02-22</th>\n",
              "      <td>0.0</td>\n",
              "      <td>7.763637</td>\n",
              "      <td>7.581818</td>\n",
              "      <td>7.581818</td>\n",
              "      <td>5.070193</td>\n",
              "      <td>225400</td>\n",
              "    </tr>\n",
              "    <tr>\n",
              "      <th>1973-02-23</th>\n",
              "      <td>0.0</td>\n",
              "      <td>7.563636</td>\n",
              "      <td>7.400000</td>\n",
              "      <td>7.436364</td>\n",
              "      <td>4.972920</td>\n",
              "      <td>173000</td>\n",
              "    </tr>\n",
              "    <tr>\n",
              "      <th>1973-02-26</th>\n",
              "      <td>0.0</td>\n",
              "      <td>7.454545</td>\n",
              "      <td>7.181818</td>\n",
              "      <td>7.327273</td>\n",
              "      <td>4.899970</td>\n",
              "      <td>421800</td>\n",
              "    </tr>\n",
              "    <tr>\n",
              "      <th>1973-02-27</th>\n",
              "      <td>0.0</td>\n",
              "      <td>7.327273</td>\n",
              "      <td>7.163636</td>\n",
              "      <td>7.163636</td>\n",
              "      <td>4.790540</td>\n",
              "      <td>250800</td>\n",
              "    </tr>\n",
              "  </tbody>\n",
              "</table>\n",
              "</div>"
            ],
            "text/plain": [
              "            Open      High       Low     Close  Adj Close  Volume\n",
              "Date                                                             \n",
              "1973-02-21   0.0  7.927273  7.672727  7.763637   5.191778  377800\n",
              "1973-02-22   0.0  7.763637  7.581818  7.581818   5.070193  225400\n",
              "1973-02-23   0.0  7.563636  7.400000  7.436364   4.972920  173000\n",
              "1973-02-26   0.0  7.454545  7.181818  7.327273   4.899970  421800\n",
              "1973-02-27   0.0  7.327273  7.163636  7.163636   4.790540  250800"
            ]
          },
          "metadata": {
            "tags": []
          },
          "execution_count": 72
        }
      ]
    },
    {
      "cell_type": "code",
      "metadata": {
        "colab": {
          "base_uri": "https://localhost:8080/",
          "height": 235
        },
        "id": "aX87cago0QLn",
        "outputId": "506c527c-f691-4f55-e124-cea4ee8b4436"
      },
      "source": [
        "NOKIA.HE.tail()"
      ],
      "execution_count": 57,
      "outputs": [
        {
          "output_type": "execute_result",
          "data": {
            "text/html": [
              "<div>\n",
              "<style scoped>\n",
              "    .dataframe tbody tr th:only-of-type {\n",
              "        vertical-align: middle;\n",
              "    }\n",
              "\n",
              "    .dataframe tbody tr th {\n",
              "        vertical-align: top;\n",
              "    }\n",
              "\n",
              "    .dataframe thead th {\n",
              "        text-align: right;\n",
              "    }\n",
              "</style>\n",
              "<table border=\"1\" class=\"dataframe\">\n",
              "  <thead>\n",
              "    <tr style=\"text-align: right;\">\n",
              "      <th></th>\n",
              "      <th>Open</th>\n",
              "      <th>High</th>\n",
              "      <th>Low</th>\n",
              "      <th>Close</th>\n",
              "      <th>Adj Close</th>\n",
              "      <th>Volume</th>\n",
              "    </tr>\n",
              "    <tr>\n",
              "      <th>Date</th>\n",
              "      <th></th>\n",
              "      <th></th>\n",
              "      <th></th>\n",
              "      <th></th>\n",
              "      <th></th>\n",
              "      <th></th>\n",
              "    </tr>\n",
              "  </thead>\n",
              "  <tbody>\n",
              "    <tr>\n",
              "      <th>2020-11-19</th>\n",
              "      <td>3.2865</td>\n",
              "      <td>3.2940</td>\n",
              "      <td>3.2200</td>\n",
              "      <td>3.2515</td>\n",
              "      <td>3.2515</td>\n",
              "      <td>19614009</td>\n",
              "    </tr>\n",
              "    <tr>\n",
              "      <th>2020-11-20</th>\n",
              "      <td>3.2405</td>\n",
              "      <td>3.3105</td>\n",
              "      <td>3.2320</td>\n",
              "      <td>3.3060</td>\n",
              "      <td>3.3060</td>\n",
              "      <td>17807262</td>\n",
              "    </tr>\n",
              "    <tr>\n",
              "      <th>2020-11-23</th>\n",
              "      <td>3.3200</td>\n",
              "      <td>3.3285</td>\n",
              "      <td>3.2745</td>\n",
              "      <td>3.3055</td>\n",
              "      <td>3.3055</td>\n",
              "      <td>16116745</td>\n",
              "    </tr>\n",
              "    <tr>\n",
              "      <th>2020-11-24</th>\n",
              "      <td>3.3200</td>\n",
              "      <td>3.4145</td>\n",
              "      <td>3.3100</td>\n",
              "      <td>3.4000</td>\n",
              "      <td>3.4000</td>\n",
              "      <td>18199757</td>\n",
              "    </tr>\n",
              "    <tr>\n",
              "      <th>2020-11-25</th>\n",
              "      <td>3.4000</td>\n",
              "      <td>3.4350</td>\n",
              "      <td>3.3700</td>\n",
              "      <td>3.4160</td>\n",
              "      <td>3.4160</td>\n",
              "      <td>13727174</td>\n",
              "    </tr>\n",
              "  </tbody>\n",
              "</table>\n",
              "</div>"
            ],
            "text/plain": [
              "              Open    High     Low   Close  Adj Close    Volume\n",
              "Date                                                           \n",
              "2020-11-19  3.2865  3.2940  3.2200  3.2515     3.2515  19614009\n",
              "2020-11-20  3.2405  3.3105  3.2320  3.3060     3.3060  17807262\n",
              "2020-11-23  3.3200  3.3285  3.2745  3.3055     3.3055  16116745\n",
              "2020-11-24  3.3200  3.4145  3.3100  3.4000     3.4000  18199757\n",
              "2020-11-25  3.4000  3.4350  3.3700  3.4160     3.4160  13727174"
            ]
          },
          "metadata": {
            "tags": []
          },
          "execution_count": 57
        }
      ]
    },
    {
      "cell_type": "code",
      "metadata": {
        "colab": {
          "base_uri": "https://localhost:8080/",
          "height": 297
        },
        "id": "9czxv7kJ0QOD",
        "outputId": "7c3cac29-5223-4cdd-eee4-489f77fc3cae"
      },
      "source": [
        "SNE.describe()"
      ],
      "execution_count": 58,
      "outputs": [
        {
          "output_type": "execute_result",
          "data": {
            "text/html": [
              "<div>\n",
              "<style scoped>\n",
              "    .dataframe tbody tr th:only-of-type {\n",
              "        vertical-align: middle;\n",
              "    }\n",
              "\n",
              "    .dataframe tbody tr th {\n",
              "        vertical-align: top;\n",
              "    }\n",
              "\n",
              "    .dataframe thead th {\n",
              "        text-align: right;\n",
              "    }\n",
              "</style>\n",
              "<table border=\"1\" class=\"dataframe\">\n",
              "  <thead>\n",
              "    <tr style=\"text-align: right;\">\n",
              "      <th></th>\n",
              "      <th>Open</th>\n",
              "      <th>High</th>\n",
              "      <th>Low</th>\n",
              "      <th>Close</th>\n",
              "      <th>Adj Close</th>\n",
              "      <th>Volume</th>\n",
              "    </tr>\n",
              "  </thead>\n",
              "  <tbody>\n",
              "    <tr>\n",
              "      <th>count</th>\n",
              "      <td>5313.000000</td>\n",
              "      <td>5313.000000</td>\n",
              "      <td>5313.000000</td>\n",
              "      <td>5313.000000</td>\n",
              "      <td>5313.000000</td>\n",
              "      <td>5.313000e+03</td>\n",
              "    </tr>\n",
              "    <tr>\n",
              "      <th>mean</th>\n",
              "      <td>12.371098</td>\n",
              "      <td>12.569562</td>\n",
              "      <td>12.152685</td>\n",
              "      <td>12.360077</td>\n",
              "      <td>7.992876</td>\n",
              "      <td>2.492258e+07</td>\n",
              "    </tr>\n",
              "    <tr>\n",
              "      <th>std</th>\n",
              "      <td>11.377875</td>\n",
              "      <td>11.599631</td>\n",
              "      <td>11.124893</td>\n",
              "      <td>11.372038</td>\n",
              "      <td>6.052416</td>\n",
              "      <td>2.001892e+07</td>\n",
              "    </tr>\n",
              "    <tr>\n",
              "      <th>min</th>\n",
              "      <td>1.400000</td>\n",
              "      <td>1.409000</td>\n",
              "      <td>1.330000</td>\n",
              "      <td>1.371000</td>\n",
              "      <td>1.130905</td>\n",
              "      <td>0.000000e+00</td>\n",
              "    </tr>\n",
              "    <tr>\n",
              "      <th>25%</th>\n",
              "      <td>4.920000</td>\n",
              "      <td>4.975000</td>\n",
              "      <td>4.866000</td>\n",
              "      <td>4.919500</td>\n",
              "      <td>4.402560</td>\n",
              "      <td>1.471980e+07</td>\n",
              "    </tr>\n",
              "    <tr>\n",
              "      <th>50%</th>\n",
              "      <td>8.315000</td>\n",
              "      <td>8.430000</td>\n",
              "      <td>8.210000</td>\n",
              "      <td>8.300000</td>\n",
              "      <td>5.926196</td>\n",
              "      <td>2.117312e+07</td>\n",
              "    </tr>\n",
              "    <tr>\n",
              "      <th>75%</th>\n",
              "      <td>15.490000</td>\n",
              "      <td>15.660000</td>\n",
              "      <td>15.320000</td>\n",
              "      <td>15.490000</td>\n",
              "      <td>9.533983</td>\n",
              "      <td>2.963432e+07</td>\n",
              "    </tr>\n",
              "    <tr>\n",
              "      <th>max</th>\n",
              "      <td>64.000000</td>\n",
              "      <td>65.000000</td>\n",
              "      <td>63.360001</td>\n",
              "      <td>64.879997</td>\n",
              "      <td>36.385704</td>\n",
              "      <td>4.265320e+08</td>\n",
              "    </tr>\n",
              "  </tbody>\n",
              "</table>\n",
              "</div>"
            ],
            "text/plain": [
              "              Open         High  ...    Adj Close        Volume\n",
              "count  5313.000000  5313.000000  ...  5313.000000  5.313000e+03\n",
              "mean     12.371098    12.569562  ...     7.992876  2.492258e+07\n",
              "std      11.377875    11.599631  ...     6.052416  2.001892e+07\n",
              "min       1.400000     1.409000  ...     1.130905  0.000000e+00\n",
              "25%       4.920000     4.975000  ...     4.402560  1.471980e+07\n",
              "50%       8.315000     8.430000  ...     5.926196  2.117312e+07\n",
              "75%      15.490000    15.660000  ...     9.533983  2.963432e+07\n",
              "max      64.000000    65.000000  ...    36.385704  4.265320e+08\n",
              "\n",
              "[8 rows x 6 columns]"
            ]
          },
          "metadata": {
            "tags": []
          },
          "execution_count": 58
        }
      ]
    },
    {
      "cell_type": "code",
      "metadata": {
        "colab": {
          "base_uri": "https://localhost:8080/"
        },
        "id": "5u5Xh_cG07P-",
        "outputId": "f37cef13-9ae7-4dba-8cd7-1a5235da8b61"
      },
      "source": [
        "SNE.info"
      ],
      "execution_count": 75,
      "outputs": [
        {
          "output_type": "execute_result",
          "data": {
            "text/plain": [
              "<bound method DataFrame.info of                  Open       High        Low      Close  Adj Close   Volume\n",
              "Date                                                                      \n",
              "1973-02-21   0.000000   7.927273   7.672727   7.763637   5.191778   377800\n",
              "1973-02-22   0.000000   7.763637   7.581818   7.581818   5.070193   225400\n",
              "1973-02-23   0.000000   7.563636   7.400000   7.436364   4.972920   173000\n",
              "1973-02-26   0.000000   7.454545   7.181818   7.327273   4.899970   421800\n",
              "1973-02-27   0.000000   7.327273   7.163636   7.163636   4.790540   250800\n",
              "...               ...        ...        ...        ...        ...      ...\n",
              "2020-11-19  88.870003  88.989998  88.440002  88.849998  88.849998   899900\n",
              "2020-11-20  88.910004  90.269997  88.860001  89.980003  89.980003   623900\n",
              "2020-11-23  90.099998  90.809998  89.470001  89.790001  89.790001   742800\n",
              "2020-11-24  91.050003  91.550003  90.029999  90.800003  90.800003  1101300\n",
              "2020-11-25  93.400002  93.500000  91.910004  93.230003  93.230003  1551133\n",
              "\n",
              "[12050 rows x 6 columns]>"
            ]
          },
          "metadata": {
            "tags": []
          },
          "execution_count": 75
        }
      ]
    },
    {
      "cell_type": "code",
      "metadata": {
        "colab": {
          "base_uri": "https://localhost:8080/"
        },
        "id": "u6KedO8v07Vg",
        "outputId": "56f06772-d7b2-4639-ee00-5eba616993b4"
      },
      "source": [
        "NOKIA.HE.info()"
      ],
      "execution_count": 60,
      "outputs": [
        {
          "output_type": "stream",
          "text": [
            "<class 'pandas.core.frame.DataFrame'>\n",
            "DatetimeIndex: 5313 entries, 2000-01-03 to 2020-11-25\n",
            "Data columns (total 6 columns):\n",
            " #   Column     Non-Null Count  Dtype  \n",
            "---  ------     --------------  -----  \n",
            " 0   Open       5313 non-null   float64\n",
            " 1   High       5313 non-null   float64\n",
            " 2   Low        5313 non-null   float64\n",
            " 3   Close      5313 non-null   float64\n",
            " 4   Adj Close  5313 non-null   float64\n",
            " 5   Volume     5313 non-null   int64  \n",
            "dtypes: float64(5), int64(1)\n",
            "memory usage: 290.6 KB\n"
          ],
          "name": "stdout"
        }
      ]
    },
    {
      "cell_type": "code",
      "metadata": {
        "colab": {
          "base_uri": "https://localhost:8080/"
        },
        "id": "oinvpXpX07YL",
        "outputId": "86d5fc66-ea49-431e-ca9a-b9551430c34d"
      },
      "source": [
        "SNE.Close"
      ],
      "execution_count": 61,
      "outputs": [
        {
          "output_type": "execute_result",
          "data": {
            "text/plain": [
              "Date\n",
              "2000-01-03    47.450001\n",
              "2000-01-04    43.362499\n",
              "2000-01-05    39.502499\n",
              "2000-01-06    39.502499\n",
              "2000-01-07    41.625000\n",
              "                ...    \n",
              "2020-11-19     3.251500\n",
              "2020-11-20     3.306000\n",
              "2020-11-23     3.305500\n",
              "2020-11-24     3.400000\n",
              "2020-11-25     3.416000\n",
              "Name: Close, Length: 5313, dtype: float64"
            ]
          },
          "metadata": {
            "tags": []
          },
          "execution_count": 61
        }
      ]
    },
    {
      "cell_type": "code",
      "metadata": {
        "colab": {
          "base_uri": "https://localhost:8080/",
          "height": 296
        },
        "id": "WiPn6uuf1VLQ",
        "outputId": "8de3766f-30eb-419d-a384-5715f02857f7"
      },
      "source": [
        "plt.xlabel(\"days\")         \n",
        "plt.ylabel(\"price\")    \n",
        "plt.grid()              \n",
        "plt.plot(SNE.Close)"
      ],
      "execution_count": 62,
      "outputs": [
        {
          "output_type": "execute_result",
          "data": {
            "text/plain": [
              "[<matplotlib.lines.Line2D at 0x7fa78db69c50>]"
            ]
          },
          "metadata": {
            "tags": []
          },
          "execution_count": 62
        },
        {
          "output_type": "display_data",
          "data": {
            "image/png": "[encoded data removed]",
            "text/plain": [
              "<Figure size 432x288 with 1 Axes>"
            ]
          },
          "metadata": {
            "tags": [],
            "needs_background": "light"
          }
        }
      ]
    },
    {
      "cell_type": "code",
      "metadata": {
        "colab": {
          "base_uri": "https://localhost:8080/"
        },
        "id": "VethUs1z1VNs",
        "outputId": "40cf7f9e-d431-4491-a886-5be29c56e264"
      },
      "source": [
        "SNE.High"
      ],
      "execution_count": 76,
      "outputs": [
        {
          "output_type": "execute_result",
          "data": {
            "text/plain": [
              "Date\n",
              "1973-02-21     7.927273\n",
              "1973-02-22     7.763637\n",
              "1973-02-23     7.563636\n",
              "1973-02-26     7.454545\n",
              "1973-02-27     7.327273\n",
              "                ...    \n",
              "2020-11-19    88.989998\n",
              "2020-11-20    90.269997\n",
              "2020-11-23    90.809998\n",
              "2020-11-24    91.550003\n",
              "2020-11-25    93.500000\n",
              "Name: High, Length: 12050, dtype: float64"
            ]
          },
          "metadata": {
            "tags": []
          },
          "execution_count": 76
        }
      ]
    },
    {
      "cell_type": "code",
      "metadata": {
        "colab": {
          "base_uri": "https://localhost:8080/",
          "height": 296
        },
        "id": "JZJtPhal1VQ_",
        "outputId": "04a546e8-8f8c-4f18-8c2a-ebbea26ff3e9"
      },
      "source": [
        "plt.xlabel(\"days\")        \n",
        "plt.ylabel(\"price\")   \n",
        "plt.grid()              \n",
        "plt.plot(SNE.Close)"
      ],
      "execution_count": 77,
      "outputs": [
        {
          "output_type": "execute_result",
          "data": {
            "text/plain": [
              "[<matplotlib.lines.Line2D at 0x7fa78da15630>]"
            ]
          },
          "metadata": {
            "tags": []
          },
          "execution_count": 77
        },
        {
          "output_type": "display_data",
          "data": {
            "image/png": "[encoded data removed]",
            "text/plain": [
              "<Figure size 432x288 with 1 Axes>"
            ]
          },
          "metadata": {
            "tags": [],
            "needs_background": "light"
          }
        }
      ]
    },
    {
      "cell_type": "code",
      "metadata": {
        "colab": {
          "base_uri": "https://localhost:8080/",
          "height": 265
        },
        "id": "aZsONKfr1VVr",
        "outputId": "5fdf06c7-bd63-4dd5-d5e0-442a7b22af54"
      },
      "source": [
        "plt.plot(SNE.High)\n",
        "plt.grid()"
      ],
      "execution_count": 78,
      "outputs": [
        {
          "output_type": "display_data",
          "data": {
            "image/png": "[encoded data removed]",
            "text/plain": [
              "<Figure size 432x288 with 1 Axes>"
            ]
          },
          "metadata": {
            "tags": [],
            "needs_background": "light"
          }
        }
      ]
    },
    {
      "cell_type": "code",
      "metadata": {
        "colab": {
          "base_uri": "https://localhost:8080/"
        },
        "id": "JshHzpbR1VYN",
        "outputId": "3f5e73d3-355b-412a-c181-8daf84d81449"
      },
      "source": [
        "SNE.shape"
      ],
      "execution_count": 79,
      "outputs": [
        {
          "output_type": "execute_result",
          "data": {
            "text/plain": [
              "(12050, 6)"
            ]
          },
          "metadata": {
            "tags": []
          },
          "execution_count": 79
        }
      ]
    },
    {
      "cell_type": "code",
      "metadata": {
        "colab": {
          "base_uri": "https://localhost:8080/"
        },
        "id": "URipO-sn1VdX",
        "outputId": "73eb387d-2fac-46c7-be0f-4297528ff009"
      },
      "source": [
        "SNE.Open"
      ],
      "execution_count": 67,
      "outputs": [
        {
          "output_type": "execute_result",
          "data": {
            "text/plain": [
              "Date\n",
              "2000-01-03    47.000000\n",
              "2000-01-04    45.000000\n",
              "2000-01-05    42.052502\n",
              "2000-01-06    39.502499\n",
              "2000-01-07    39.000000\n",
              "                ...    \n",
              "2020-11-19     3.286500\n",
              "2020-11-20     3.240500\n",
              "2020-11-23     3.320000\n",
              "2020-11-24     3.320000\n",
              "2020-11-25     3.400000\n",
              "Name: Open, Length: 5313, dtype: float64"
            ]
          },
          "metadata": {
            "tags": []
          },
          "execution_count": 67
        }
      ]
    },
    {
      "cell_type": "code",
      "metadata": {
        "colab": {
          "base_uri": "https://localhost:8080/",
          "height": 299
        },
        "id": "Ha90w9Ab1VTW",
        "outputId": "2953dcfa-c548-4bf7-9d3d-3d547c988ae7"
      },
      "source": [
        "print(len(SNE.Close))\n",
        "las100_days = SNE.High[2316:2415]\n",
        "plt.plot(las100_days)"
      ],
      "execution_count": 80,
      "outputs": [
        {
          "output_type": "stream",
          "text": [
            "12050\n"
          ],
          "name": "stdout"
        },
        {
          "output_type": "execute_result",
          "data": {
            "text/plain": [
              "[<matplotlib.lines.Line2D at 0x7fa78d9d2b38>]"
            ]
          },
          "metadata": {
            "tags": []
          },
          "execution_count": 80
        },
        {
          "output_type": "display_data",
          "data": {
            "image/png": "[encoded data removed]",
            "text/plain": [
              "<Figure size 432x288 with 1 Axes>"
            ]
          },
          "metadata": {
            "tags": [],
            "needs_background": "light"
          }
        }
      ]
    },
    {
      "cell_type": "code",
      "metadata": {
        "colab": {
          "base_uri": "https://localhost:8080/"
        },
        "id": "cPh_mjkq2EIx",
        "outputId": "04814e99-c202-4beb-baaa-71658ea014e4"
      },
      "source": [
        "NOKIA.HE.Close"
      ],
      "execution_count": 81,
      "outputs": [
        {
          "output_type": "execute_result",
          "data": {
            "text/plain": [
              "Date\n",
              "2000-01-03    47.450001\n",
              "2000-01-04    43.362499\n",
              "2000-01-05    39.502499\n",
              "2000-01-06    39.502499\n",
              "2000-01-07    41.625000\n",
              "                ...    \n",
              "2020-11-19     3.251500\n",
              "2020-11-20     3.306000\n",
              "2020-11-23     3.305500\n",
              "2020-11-24     3.400000\n",
              "2020-11-25     3.416000\n",
              "Name: Close, Length: 5313, dtype: float64"
            ]
          },
          "metadata": {
            "tags": []
          },
          "execution_count": 81
        }
      ]
    },
    {
      "cell_type": "code",
      "metadata": {
        "colab": {
          "base_uri": "https://localhost:8080/"
        },
        "id": "obBRGv3p2atb",
        "outputId": "ab31a649-4c92-4cc8-99c5-83e6c0946a80"
      },
      "source": [
        "NOKIA.HE.Volume"
      ],
      "execution_count": 82,
      "outputs": [
        {
          "output_type": "execute_result",
          "data": {
            "text/plain": [
              "Date\n",
              "2000-01-03    13681940\n",
              "2000-01-04    24706060\n",
              "2000-01-05    22486588\n",
              "2000-01-06           0\n",
              "2000-01-07    29794920\n",
              "                ...   \n",
              "2020-11-19    19614009\n",
              "2020-11-20    17807262\n",
              "2020-11-23    16116745\n",
              "2020-11-24    18199757\n",
              "2020-11-25    13727174\n",
              "Name: Volume, Length: 5313, dtype: int64"
            ]
          },
          "metadata": {
            "tags": []
          },
          "execution_count": 82
        }
      ]
    }
  ]
}