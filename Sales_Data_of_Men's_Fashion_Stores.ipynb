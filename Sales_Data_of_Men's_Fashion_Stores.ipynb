{
  "nbformat": 4,
  "nbformat_minor": 0,
  "metadata": {
    "colab": {
      "name": "Sales Data of Men's Fashion Stores.ipynb",
      "provenance": [],
      "private_outputs": true,
      "authorship_tag": "ABX9TyNLkXu5k16DNGszfzP7R9RE",
      "include_colab_link": true
    },
    "kernelspec": {
      "name": "python3",
      "display_name": "Python 3"
    }
  },
  "cells": [
    {
      "cell_type": "markdown",
      "metadata": {
        "id": "view-in-github",
        "colab_type": "text"
      },
      "source": [
        "<a href=\"https://colab.research.google.com/github/benvictoria21/python-panda/blob/master/Sales_Data_of_Men's_Fashion_Stores.ipynb\" target=\"_parent\"><img src=\"https://colab.research.google.com/assets/colab-badge.svg\" alt=\"Open In Colab\"/></a>"
      ]
    },
    {
      "cell_type": "code",
      "metadata": {
        "id": "Rx8PQ41QmwGX",
        "colab_type": "code",
        "colab": {}
      },
      "source": [
        "#This is a dataset of Sales Data of Men's Fashion Stores in Netherlands\n",
        "#References: Verbeek, Marno (2004) A Guide to Modern Econometrics, John Wiley and Sons, chapter 3\n",
        "import numpy as np\n",
        "import numpy.random\n",
        "import pandas as pd\n",
        "clothing=pd.read_csv('https://raw.githubusercontent.com/benvictoria21/python-panda/master/Clothing.csv')\n",
        "print(clothing)"
      ],
      "execution_count": null,
      "outputs": []
    },
    {
      "cell_type": "code",
      "metadata": {
        "id": "YKKzfwKNm6U7",
        "colab_type": "code",
        "colab": {}
      },
      "source": [
        "print(clothing.describe())"
      ],
      "execution_count": null,
      "outputs": []
    },
    {
      "cell_type": "code",
      "metadata": {
        "id": "6S520DSVm7Ua",
        "colab_type": "code",
        "colab": {}
      },
      "source": [
        "print(clothing.head())"
      ],
      "execution_count": null,
      "outputs": []
    },
    {
      "cell_type": "code",
      "metadata": {
        "id": "Q4HlWfLnm9cq",
        "colab_type": "code",
        "colab": {}
      },
      "source": [
        "print(clothing.tail())"
      ],
      "execution_count": null,
      "outputs": []
    },
    {
      "cell_type": "code",
      "metadata": {
        "id": "OskrDo2Hm_A8",
        "colab_type": "code",
        "colab": {}
      },
      "source": [
        "#group by hours worked\n",
        "print(clothing.groupby(['hoursw']).sum())"
      ],
      "execution_count": null,
      "outputs": []
    },
    {
      "cell_type": "code",
      "metadata": {
        "id": "27rsKdYFnDKj",
        "colab_type": "code",
        "colab": {}
      },
      "source": [
        "#sort by gross-profit margin\n",
        "print(clothing.sort_values(by='margin'))"
      ],
      "execution_count": null,
      "outputs": []
    },
    {
      "cell_type": "code",
      "metadata": {
        "id": "gsO1rBe0nIcy",
        "colab_type": "code",
        "colab": {}
      },
      "source": [
        "#slice four rows \n",
        "print(clothing.iloc[:4])"
      ],
      "execution_count": null,
      "outputs": []
    },
    {
      "cell_type": "code",
      "metadata": {
        "id": "-M6smxI0nLCS",
        "colab_type": "code",
        "colab": {}
      },
      "source": [
        "#remove the last 4 rows\n",
        "\n",
        "print(clothing.iloc[:-4])"
      ],
      "execution_count": null,
      "outputs": []
    },
    {
      "cell_type": "code",
      "metadata": {
        "id": "51oy17FgnMuS",
        "colab_type": "code",
        "colab": {}
      },
      "source": [
        "#Create a new columns\n",
        "\n",
        "clothing['channel']=np.random.choice(['retail','online','direct'],400) #Sales channel\n",
        "\n",
        "clothing['city']=np.random.choice(['Amsterdam','Rotterdam'],400) #Cities where the stores are\n",
        "\n",
        "print(clothing)"
      ],
      "execution_count": null,
      "outputs": []
    },
    {
      "cell_type": "code",
      "metadata": {
        "id": "eIL4YmIOnPL5",
        "colab_type": "code",
        "colab": {}
      },
      "source": [
        "#Pivot table highlighting the annual sales\n",
        "\n",
        "print(clothing.pivot_table('tsale',index='channel',columns='city'))"
      ],
      "execution_count": null,
      "outputs": []
    },
    {
      "cell_type": "code",
      "metadata": {
        "id": "3gfO--LgnR_A",
        "colab_type": "code",
        "colab": {}
      },
      "source": [
        "#Set a multi-index with channel and city\n",
        "\n",
        "clothing_0=clothing.copy()\n",
        "\n",
        "print(clothing_0.set_index(['channel','city']))"
      ],
      "execution_count": null,
      "outputs": []
    },
    {
      "cell_type": "code",
      "metadata": {
        "id": "Pg_fGd4jnTy2",
        "colab_type": "code",
        "colab": {}
      },
      "source": [
        "#Set a multi-index with channel and city\n",
        "\n",
        "clothing_0=clothing.copy()\n",
        "\n",
        "print(clothing_0.set_index(['channel','city']))"
      ],
      "execution_count": null,
      "outputs": []
    },
    {
      "cell_type": "code",
      "metadata": {
        "id": "PEsUvXzOnV3J",
        "colab_type": "code",
        "colab": {}
      },
      "source": [
        "#create new column with the order date where the sales channel is online\n",
        "\n",
        "start=pd.datetime(2016,1,1)\n",
        "\n",
        "clothing['orderdate']=pd.date_range(start,periods=400).where(clothing['channel']=='online')\n",
        "\n",
        "print(clothing)"
      ],
      "execution_count": null,
      "outputs": []
    },
    {
      "cell_type": "code",
      "metadata": {
        "id": "y1lfvmFznX6e",
        "colab_type": "code",
        "colab": {}
      },
      "source": [
        "#Make a custom business calendar for the dates received\n",
        "\n",
        "from pandas.tseries.offsets import CustomBusinessDay\n",
        "\n",
        "weekmask_netherlands='Mon Tue Wed Thu Fri'\n",
        "\n",
        "bdateneth=CustomBusinessDay(weekmask=weekmask_netherlands)\n",
        "\n",
        "#Delivery takes between 5-10 days\n",
        "\n",
        "delivery=start+pd.Timedelta(days=np.random.randint(5,10))\n",
        "\n",
        "clothing['deliverydate']=pd.bdate_range(delivery,periods=400,freq=bdateneth).where(clothing['channel']=='online')\n",
        "\n",
        "print(clothing)"
      ],
      "execution_count": null,
      "outputs": []
    },
    {
      "cell_type": "code",
      "metadata": {
        "id": "AG4_G3aHnazp",
        "colab_type": "code",
        "colab": {}
      },
      "source": [
        "#Check if the order dates and delivery dates are the same\n",
        "\n",
        "print(clothing['orderdate']==clothing['deliverydate'])\n"
      ],
      "execution_count": null,
      "outputs": []
    },
    {
      "cell_type": "code",
      "metadata": {
        "id": "C2kp8-vhncw6",
        "colab_type": "code",
        "colab": {}
      },
      "source": [
        "#drop missing values \n",
        "\n",
        "print(clothing.dropna())"
      ],
      "execution_count": null,
      "outputs": []
    },
    {
      "cell_type": "code",
      "metadata": {
        "id": "4b6ybIIDne8u",
        "colab_type": "code",
        "colab": {}
      },
      "source": [
        "#plotting with seaborn\n",
        "\n",
        "import seaborn as sns\n",
        "\n",
        "sns.barplot(x='margin',y='inv2', data=clothing)\n",
        "\n",
        "sns.despine()\n",
        "\n",
        "plt.tight_layout()\n",
        "\n",
        "plt.show()"
      ],
      "execution_count": null,
      "outputs": []
    },
    {
      "cell_type": "code",
      "metadata": {
        "id": "IxTGEQC9njC9",
        "colab_type": "code",
        "colab": {}
      },
      "source": [
        "#ols table  infereantial statsitcs \n",
        "\n",
        "import statsmodels.api as sm\n",
        "\n",
        "mod=sm.OLS.from_formula('tsale~C(sales)+hoursw+inv2+ssize',data=clothing)\n",
        "\n",
        "res=mod.fit()\n",
        "\n",
        "print(res.summary())"
      ],
      "execution_count": null,
      "outputs": []
    }
  ]
}