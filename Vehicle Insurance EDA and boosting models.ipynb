{
 "cells":[
  {
   "cell_type":"code",
   "source":[
    "!python -m pip install --upgrade pip\n",
    "!pip install imblearn\n",
    "import numpy as np\n",
    "import pandas as pd\n",
    "import matplotlib.pyplot as plt\n",
    "import seaborn as sns\n",
    "from imblearn.over_sampling import RandomOverSampler\n",
    "sns.set(style='whitegrid')"
   ],
   "execution_count":23,
   "outputs":[
    {
     "name":"stdout",
     "text":[
      "Requirement already satisfied: pip in \/opt\/python\/envs\/default\/lib\/python3.8\/site-packages (22.2.2)\r\n",
      "Requirement already satisfied: imblearn in \/opt\/python\/envs\/default\/lib\/python3.8\/site-packages (0.0)\r\n",
      "Requirement already satisfied: imbalanced-learn in \/opt\/python\/envs\/default\/lib\/python3.8\/site-packages (from imblearn) (0.9.1)\r\n",
      "Requirement already satisfied: scikit-learn>=1.1.0 in \/opt\/python\/envs\/default\/lib\/python3.8\/site-packages (from imbalanced-learn->imblearn) (1.1.2)\r\n",
      "Requirement already satisfied: joblib>=1.0.0 in \/opt\/python\/envs\/default\/lib\/python3.8\/site-packages (from imbalanced-learn->imblearn) (1.1.0)\r\n",
      "Requirement already satisfied: threadpoolctl>=2.0.0 in \/opt\/python\/envs\/default\/lib\/python3.8\/site-packages (from imbalanced-learn->imblearn) (3.1.0)\r\n",
      "Requirement already satisfied: numpy>=1.17.3 in \/opt\/python\/envs\/default\/lib\/python3.8\/site-packages (from imbalanced-learn->imblearn) (1.21.5)\r\n",
      "Requirement already satisfied: scipy>=1.3.2 in \/opt\/python\/envs\/default\/lib\/python3.8\/site-packages (from imbalanced-learn->imblearn) (1.7.3)\r\n"
     ],
     "output_type":"stream"
    }
   ],
   "metadata":{
    "datalore":{
     "node_id":"SlTwNUW8z2oSvDaad3S0iP",
     "type":"CODE",
     "hide_input_from_viewers":false,
     "hide_output_from_viewers":false
    }
   }
  },
  {
   "cell_type":"code",
   "source":[
    "train=pd.read_csv('https:\/\/raw.githubusercontent.com\/benvictoria17\/Finance\/main\/dataset\/Health%20Insurance%20Cross%20Sell%20Prediction%20%F0%9F%8F%A0%20%F0%9F%8F%A5\/train.csv')\n",
    "test=pd.read_csv('https:\/\/raw.githubusercontent.com\/benvictoria17\/Finance\/main\/dataset\/Health%20Insurance%20Cross%20Sell%20Prediction%20%F0%9F%8F%A0%20%F0%9F%8F%A5\/test.csv')"
   ],
   "execution_count":10,
   "outputs":[
    
   ],
   "metadata":{
    "datalore":{
     "node_id":"4x5A5LLsHqJdc7hwDKSMZS",
     "type":"CODE",
     "hide_input_from_viewers":false,
     "hide_output_from_viewers":false
    }
   }
  },
  {
   "cell_type":"code",
   "source":[
    "test.head()"
   ],
   "execution_count":null,
   "outputs":[
    {
     "data":{
      "text\/plain":[
       "       id Gender  Age  Driving_License  Region_Code  Previously_Insured  \\\n",
       "0  381110   Male   25                1         11.0                   1   \n",
       "1  381111   Male   40                1         28.0                   0   \n",
       "2  381112   Male   47                1         28.0                   0   \n",
       "3  381113   Male   24                1         27.0                   1   \n",
       "4  381114   Male   27                1         28.0                   1   \n",
       "\n",
       "  Vehicle_Age Vehicle_Damage  Annual_Premium  Policy_Sales_Channel  Vintage  \n",
       "0    < 1 Year             No         35786.0                 152.0       53  \n",
       "1    1-2 Year            Yes         33762.0                   7.0      111  \n",
       "2    1-2 Year            Yes         40050.0                 124.0      199  \n",
       "3    < 1 Year            Yes         37356.0                 152.0      187  \n",
       "4    < 1 Year             No         59097.0                 152.0      297  "
      ]
     },
     "metadata":{
      
     },
     "output_type":"display_data"
    },
    {
     "data":{
      "text\/html":[
       "\n",
       "  <div id=\"df-047fcdae-0504-410c-a2cb-40866e12aaef\">\n",
       "    <div class=\"colab-df-container\">\n",
       "      <div>\n",
       "<style scoped>\n",
       "    .dataframe tbody tr th:only-of-type {\n",
       "        vertical-align: middle;\n",
       "    }\n",
       "\n",
       "    .dataframe tbody tr th {\n",
       "        vertical-align: top;\n",
       "    }\n",
       "\n",
       "    .dataframe thead th {\n",
       "        text-align: right;\n",
       "    }\n",
       "<\/style>\n",
       "<table border=\"1\" class=\"dataframe\">\n",
       "  <thead>\n",
       "    <tr style=\"text-align: right;\">\n",
       "      <th><\/th>\n",
       "      <th>id<\/th>\n",
       "      <th>Gender<\/th>\n",
       "      <th>Age<\/th>\n",
       "      <th>Driving_License<\/th>\n",
       "      <th>Region_Code<\/th>\n",
       "      <th>Previously_Insured<\/th>\n",
       "      <th>Vehicle_Age<\/th>\n",
       "      <th>Vehicle_Damage<\/th>\n",
       "      <th>Annual_Premium<\/th>\n",
       "      <th>Policy_Sales_Channel<\/th>\n",
       "      <th>Vintage<\/th>\n",
       "    <\/tr>\n",
       "  <\/thead>\n",
       "  <tbody>\n",
       "    <tr>\n",
       "      <th>0<\/th>\n",
       "      <td>381110<\/td>\n",
       "      <td>Male<\/td>\n",
       "      <td>25<\/td>\n",
       "      <td>1<\/td>\n",
       "      <td>11.0<\/td>\n",
       "      <td>1<\/td>\n",
       "      <td>&lt; 1 Year<\/td>\n",
       "      <td>No<\/td>\n",
       "      <td>35786.0<\/td>\n",
       "      <td>152.0<\/td>\n",
       "      <td>53<\/td>\n",
       "    <\/tr>\n",
       "    <tr>\n",
       "      <th>1<\/th>\n",
       "      <td>381111<\/td>\n",
       "      <td>Male<\/td>\n",
       "      <td>40<\/td>\n",
       "      <td>1<\/td>\n",
       "      <td>28.0<\/td>\n",
       "      <td>0<\/td>\n",
       "      <td>1-2 Year<\/td>\n",
       "      <td>Yes<\/td>\n",
       "      <td>33762.0<\/td>\n",
       "      <td>7.0<\/td>\n",
       "      <td>111<\/td>\n",
       "    <\/tr>\n",
       "    <tr>\n",
       "      <th>2<\/th>\n",
       "      <td>381112<\/td>\n",
       "      <td>Male<\/td>\n",
       "      <td>47<\/td>\n",
       "      <td>1<\/td>\n",
       "      <td>28.0<\/td>\n",
       "      <td>0<\/td>\n",
       "      <td>1-2 Year<\/td>\n",
       "      <td>Yes<\/td>\n",
       "      <td>40050.0<\/td>\n",
       "      <td>124.0<\/td>\n",
       "      <td>199<\/td>\n",
       "    <\/tr>\n",
       "    <tr>\n",
       "      <th>3<\/th>\n",
       "      <td>381113<\/td>\n",
       "      <td>Male<\/td>\n",
       "      <td>24<\/td>\n",
       "      <td>1<\/td>\n",
       "      <td>27.0<\/td>\n",
       "      <td>1<\/td>\n",
       "      <td>&lt; 1 Year<\/td>\n",
       "      <td>Yes<\/td>\n",
       "      <td>37356.0<\/td>\n",
       "      <td>152.0<\/td>\n",
       "      <td>187<\/td>\n",
       "    <\/tr>\n",
       "    <tr>\n",
       "      <th>4<\/th>\n",
       "      <td>381114<\/td>\n",
       "      <td>Male<\/td>\n",
       "      <td>27<\/td>\n",
       "      <td>1<\/td>\n",
       "      <td>28.0<\/td>\n",
       "      <td>1<\/td>\n",
       "      <td>&lt; 1 Year<\/td>\n",
       "      <td>No<\/td>\n",
       "      <td>59097.0<\/td>\n",
       "      <td>152.0<\/td>\n",
       "      <td>297<\/td>\n",
       "    <\/tr>\n",
       "  <\/tbody>\n",
       "<\/table>\n",
       "<\/div>\n",
       "      <button class=\"colab-df-convert\" onclick=\"convertToInteractive('df-047fcdae-0504-410c-a2cb-40866e12aaef')\"\n",
       "              title=\"Convert this dataframe to an interactive table.\"\n",
       "              style=\"display:none;\">\n",
       "        \n",
       "  <svg xmlns=\"http:\/\/www.w3.org\/2000\/svg\" height=\"24px\"viewBox=\"0 0 24 24\"\n",
       "       width=\"24px\">\n",
       "    <path d=\"M0 0h24v24H0V0z\" fill=\"none\"\/>\n",
       "    <path d=\"M18.56 5.44l.94 2.06.94-2.06 2.06-.94-2.06-.94-.94-2.06-.94 2.06-2.06.94zm-11 1L8.5 8.5l.94-2.06 2.06-.94-2.06-.94L8.5 2.5l-.94 2.06-2.06.94zm10 10l.94 2.06.94-2.06 2.06-.94-2.06-.94-.94-2.06-.94 2.06-2.06.94z\"\/><path d=\"M17.41 7.96l-1.37-1.37c-.4-.4-.92-.59-1.43-.59-.52 0-1.04.2-1.43.59L10.3 9.45l-7.72 7.72c-.78.78-.78 2.05 0 2.83L4 21.41c.39.39.9.59 1.41.59.51 0 1.02-.2 1.41-.59l7.78-7.78 2.81-2.81c.8-.78.8-2.07 0-2.86zM5.41 20L4 18.59l7.72-7.72 1.47 1.35L5.41 20z\"\/>\n",
       "  <\/svg>\n",
       "      <\/button>\n",
       "      \n",
       "  <style>\n",
       "    .colab-df-container {\n",
       "      display:flex;\n",
       "      flex-wrap:wrap;\n",
       "      gap: 12px;\n",
       "    }\n",
       "\n",
       "    .colab-df-convert {\n",
       "      background-color: #E8F0FE;\n",
       "      border: none;\n",
       "      border-radius: 50%;\n",
       "      cursor: pointer;\n",
       "      display: none;\n",
       "      fill: #1967D2;\n",
       "      height: 32px;\n",
       "      padding: 0 0 0 0;\n",
       "      width: 32px;\n",
       "    }\n",
       "\n",
       "    .colab-df-convert:hover {\n",
       "      background-color: #E2EBFA;\n",
       "      box-shadow: 0px 1px 2px rgba(60, 64, 67, 0.3), 0px 1px 3px 1px rgba(60, 64, 67, 0.15);\n",
       "      fill: #174EA6;\n",
       "    }\n",
       "\n",
       "    [theme=dark] .colab-df-convert {\n",
       "      background-color: #3B4455;\n",
       "      fill: #D2E3FC;\n",
       "    }\n",
       "\n",
       "    [theme=dark] .colab-df-convert:hover {\n",
       "      background-color: #434B5C;\n",
       "      box-shadow: 0px 1px 3px 1px rgba(0, 0, 0, 0.15);\n",
       "      filter: drop-shadow(0px 1px 2px rgba(0, 0, 0, 0.3));\n",
       "      fill: #FFFFFF;\n",
       "    }\n",
       "  <\/style>\n",
       "\n",
       "      <script>\n",
       "        const buttonEl =\n",
       "          document.querySelector('#df-047fcdae-0504-410c-a2cb-40866e12aaef button.colab-df-convert');\n",
       "        buttonEl.style.display =\n",
       "          google.colab.kernel.accessAllowed ? 'block' : 'none';\n",
       "\n",
       "        async function convertToInteractive(key) {\n",
       "          const element = document.querySelector('#df-047fcdae-0504-410c-a2cb-40866e12aaef');\n",
       "          const dataTable =\n",
       "            await google.colab.kernel.invokeFunction('convertToInteractive',\n",
       "                                                     [key], {});\n",
       "          if (!dataTable) return;\n",
       "\n",
       "          const docLinkHtml = 'Like what you see? Visit the ' +\n",
       "            '<a target=\"_blank\" href=https:\/\/colab.research.google.com\/notebooks\/data_table.ipynb>data table notebook<\/a>'\n",
       "            + ' to learn more about interactive tables.';\n",
       "          element.innerHTML = '';\n",
       "          dataTable['output_type'] = 'display_data';\n",
       "          await google.colab.output.renderOutput(dataTable, element);\n",
       "          const docLink = document.createElement('div');\n",
       "          docLink.innerHTML = docLinkHtml;\n",
       "          element.appendChild(docLink);\n",
       "        }\n",
       "      <\/script>\n",
       "    <\/div>\n",
       "  <\/div>\n",
       "  "
      ]
     },
     "metadata":{
      
     },
     "output_type":"display_data"
    }
   ],
   "metadata":{
    "datalore":{
     "node_id":"HrPMRngFSzlc7MazwtziEb",
     "type":"CODE",
     "hide_input_from_viewers":false,
     "hide_output_from_viewers":false
    }
   }
  },
  {
   "cell_type":"code",
   "source":[
    "train.head()"
   ],
   "execution_count":null,
   "outputs":[
    {
     "data":{
      "text\/plain":[
       "   id  Gender  Age  Driving_License  Region_Code  Previously_Insured  \\\n",
       "0   1    Male   44                1         28.0                   0   \n",
       "1   2    Male   76                1          3.0                   0   \n",
       "2   3    Male   47                1         28.0                   0   \n",
       "3   4    Male   21                1         11.0                   1   \n",
       "4   5  Female   29                1         41.0                   1   \n",
       "\n",
       "  Vehicle_Age Vehicle_Damage  Annual_Premium  Policy_Sales_Channel  Vintage  \\\n",
       "0   > 2 Years            Yes         40454.0                  26.0      217   \n",
       "1    1-2 Year             No         33536.0                  26.0      183   \n",
       "2   > 2 Years            Yes         38294.0                  26.0       27   \n",
       "3    < 1 Year             No         28619.0                 152.0      203   \n",
       "4    < 1 Year             No         27496.0                 152.0       39   \n",
       "\n",
       "   Response  \n",
       "0         1  \n",
       "1         0  \n",
       "2         1  \n",
       "3         0  \n",
       "4         0  "
      ]
     },
     "metadata":{
      
     },
     "output_type":"display_data"
    },
    {
     "data":{
      "text\/html":[
       "\n",
       "  <div id=\"df-71ff60e2-772d-4feb-b855-3d2c15a5b532\">\n",
       "    <div class=\"colab-df-container\">\n",
       "      <div>\n",
       "<style scoped>\n",
       "    .dataframe tbody tr th:only-of-type {\n",
       "        vertical-align: middle;\n",
       "    }\n",
       "\n",
       "    .dataframe tbody tr th {\n",
       "        vertical-align: top;\n",
       "    }\n",
       "\n",
       "    .dataframe thead th {\n",
       "        text-align: right;\n",
       "    }\n",
       "<\/style>\n",
       "<table border=\"1\" class=\"dataframe\">\n",
       "  <thead>\n",
       "    <tr style=\"text-align: right;\">\n",
       "      <th><\/th>\n",
       "      <th>id<\/th>\n",
       "      <th>Gender<\/th>\n",
       "      <th>Age<\/th>\n",
       "      <th>Driving_License<\/th>\n",
       "      <th>Region_Code<\/th>\n",
       "      <th>Previously_Insured<\/th>\n",
       "      <th>Vehicle_Age<\/th>\n",
       "      <th>Vehicle_Damage<\/th>\n",
       "      <th>Annual_Premium<\/th>\n",
       "      <th>Policy_Sales_Channel<\/th>\n",
       "      <th>Vintage<\/th>\n",
       "      <th>Response<\/th>\n",
       "    <\/tr>\n",
       "  <\/thead>\n",
       "  <tbody>\n",
       "    <tr>\n",
       "      <th>0<\/th>\n",
       "      <td>1<\/td>\n",
       "      <td>Male<\/td>\n",
       "      <td>44<\/td>\n",
       "      <td>1<\/td>\n",
       "      <td>28.0<\/td>\n",
       "      <td>0<\/td>\n",
       "      <td>&gt; 2 Years<\/td>\n",
       "      <td>Yes<\/td>\n",
       "      <td>40454.0<\/td>\n",
       "      <td>26.0<\/td>\n",
       "      <td>217<\/td>\n",
       "      <td>1<\/td>\n",
       "    <\/tr>\n",
       "    <tr>\n",
       "      <th>1<\/th>\n",
       "      <td>2<\/td>\n",
       "      <td>Male<\/td>\n",
       "      <td>76<\/td>\n",
       "      <td>1<\/td>\n",
       "      <td>3.0<\/td>\n",
       "      <td>0<\/td>\n",
       "      <td>1-2 Year<\/td>\n",
       "      <td>No<\/td>\n",
       "      <td>33536.0<\/td>\n",
       "      <td>26.0<\/td>\n",
       "      <td>183<\/td>\n",
       "      <td>0<\/td>\n",
       "    <\/tr>\n",
       "    <tr>\n",
       "      <th>2<\/th>\n",
       "      <td>3<\/td>\n",
       "      <td>Male<\/td>\n",
       "      <td>47<\/td>\n",
       "      <td>1<\/td>\n",
       "      <td>28.0<\/td>\n",
       "      <td>0<\/td>\n",
       "      <td>&gt; 2 Years<\/td>\n",
       "      <td>Yes<\/td>\n",
       "      <td>38294.0<\/td>\n",
       "      <td>26.0<\/td>\n",
       "      <td>27<\/td>\n",
       "      <td>1<\/td>\n",
       "    <\/tr>\n",
       "    <tr>\n",
       "      <th>3<\/th>\n",
       "      <td>4<\/td>\n",
       "      <td>Male<\/td>\n",
       "      <td>21<\/td>\n",
       "      <td>1<\/td>\n",
       "      <td>11.0<\/td>\n",
       "      <td>1<\/td>\n",
       "      <td>&lt; 1 Year<\/td>\n",
       "      <td>No<\/td>\n",
       "      <td>28619.0<\/td>\n",
       "      <td>152.0<\/td>\n",
       "      <td>203<\/td>\n",
       "      <td>0<\/td>\n",
       "    <\/tr>\n",
       "    <tr>\n",
       "      <th>4<\/th>\n",
       "      <td>5<\/td>\n",
       "      <td>Female<\/td>\n",
       "      <td>29<\/td>\n",
       "      <td>1<\/td>\n",
       "      <td>41.0<\/td>\n",
       "      <td>1<\/td>\n",
       "      <td>&lt; 1 Year<\/td>\n",
       "      <td>No<\/td>\n",
       "      <td>27496.0<\/td>\n",
       "      <td>152.0<\/td>\n",
       "      <td>39<\/td>\n",
       "      <td>0<\/td>\n",
       "    <\/tr>\n",
       "  <\/tbody>\n",
       "<\/table>\n",
       "<\/div>\n",
       "      <button class=\"colab-df-convert\" onclick=\"convertToInteractive('df-71ff60e2-772d-4feb-b855-3d2c15a5b532')\"\n",
       "              title=\"Convert this dataframe to an interactive table.\"\n",
       "              style=\"display:none;\">\n",
       "        \n",
       "  <svg xmlns=\"http:\/\/www.w3.org\/2000\/svg\" height=\"24px\"viewBox=\"0 0 24 24\"\n",
       "       width=\"24px\">\n",
       "    <path d=\"M0 0h24v24H0V0z\" fill=\"none\"\/>\n",
       "    <path d=\"M18.56 5.44l.94 2.06.94-2.06 2.06-.94-2.06-.94-.94-2.06-.94 2.06-2.06.94zm-11 1L8.5 8.5l.94-2.06 2.06-.94-2.06-.94L8.5 2.5l-.94 2.06-2.06.94zm10 10l.94 2.06.94-2.06 2.06-.94-2.06-.94-.94-2.06-.94 2.06-2.06.94z\"\/><path d=\"M17.41 7.96l-1.37-1.37c-.4-.4-.92-.59-1.43-.59-.52 0-1.04.2-1.43.59L10.3 9.45l-7.72 7.72c-.78.78-.78 2.05 0 2.83L4 21.41c.39.39.9.59 1.41.59.51 0 1.02-.2 1.41-.59l7.78-7.78 2.81-2.81c.8-.78.8-2.07 0-2.86zM5.41 20L4 18.59l7.72-7.72 1.47 1.35L5.41 20z\"\/>\n",
       "  <\/svg>\n",
       "      <\/button>\n",
       "      \n",
       "  <style>\n",
       "    .colab-df-container {\n",
       "      display:flex;\n",
       "      flex-wrap:wrap;\n",
       "      gap: 12px;\n",
       "    }\n",
       "\n",
       "    .colab-df-convert {\n",
       "      background-color: #E8F0FE;\n",
       "      border: none;\n",
       "      border-radius: 50%;\n",
       "      cursor: pointer;\n",
       "      display: none;\n",
       "      fill: #1967D2;\n",
       "      height: 32px;\n",
       "      padding: 0 0 0 0;\n",
       "      width: 32px;\n",
       "    }\n",
       "\n",
       "    .colab-df-convert:hover {\n",
       "      background-color: #E2EBFA;\n",
       "      box-shadow: 0px 1px 2px rgba(60, 64, 67, 0.3), 0px 1px 3px 1px rgba(60, 64, 67, 0.15);\n",
       "      fill: #174EA6;\n",
       "    }\n",
       "\n",
       "    [theme=dark] .colab-df-convert {\n",
       "      background-color: #3B4455;\n",
       "      fill: #D2E3FC;\n",
       "    }\n",
       "\n",
       "    [theme=dark] .colab-df-convert:hover {\n",
       "      background-color: #434B5C;\n",
       "      box-shadow: 0px 1px 3px 1px rgba(0, 0, 0, 0.15);\n",
       "      filter: drop-shadow(0px 1px 2px rgba(0, 0, 0, 0.3));\n",
       "      fill: #FFFFFF;\n",
       "    }\n",
       "  <\/style>\n",
       "\n",
       "      <script>\n",
       "        const buttonEl =\n",
       "          document.querySelector('#df-71ff60e2-772d-4feb-b855-3d2c15a5b532 button.colab-df-convert');\n",
       "        buttonEl.style.display =\n",
       "          google.colab.kernel.accessAllowed ? 'block' : 'none';\n",
       "\n",
       "        async function convertToInteractive(key) {\n",
       "          const element = document.querySelector('#df-71ff60e2-772d-4feb-b855-3d2c15a5b532');\n",
       "          const dataTable =\n",
       "            await google.colab.kernel.invokeFunction('convertToInteractive',\n",
       "                                                     [key], {});\n",
       "          if (!dataTable) return;\n",
       "\n",
       "          const docLinkHtml = 'Like what you see? Visit the ' +\n",
       "            '<a target=\"_blank\" href=https:\/\/colab.research.google.com\/notebooks\/data_table.ipynb>data table notebook<\/a>'\n",
       "            + ' to learn more about interactive tables.';\n",
       "          element.innerHTML = '';\n",
       "          dataTable['output_type'] = 'display_data';\n",
       "          await google.colab.output.renderOutput(dataTable, element);\n",
       "          const docLink = document.createElement('div');\n",
       "          docLink.innerHTML = docLinkHtml;\n",
       "          element.appendChild(docLink);\n",
       "        }\n",
       "      <\/script>\n",
       "    <\/div>\n",
       "  <\/div>\n",
       "  "
      ]
     },
     "metadata":{
      
     },
     "output_type":"display_data"
    }
   ],
   "metadata":{
    "datalore":{
     "node_id":"stZGlstAzOsuNKIcWjq11D",
     "type":"CODE",
     "hide_input_from_viewers":false,
     "hide_output_from_viewers":false
    }
   }
  },
  {
   "cell_type":"code",
   "source":[
    "train.shape"
   ],
   "execution_count":null,
   "outputs":[
    {
     "data":{
      "text\/plain":[
       "(381109, 12)"
      ]
     },
     "metadata":{
      
     },
     "output_type":"display_data"
    }
   ],
   "metadata":{
    "datalore":{
     "node_id":"46JrNq29uAnop2FSBkiI3d",
     "type":"CODE",
     "hide_input_from_viewers":false,
     "hide_output_from_viewers":false
    }
   }
  },
  {
   "cell_type":"code",
   "source":[
    "train.isnull().sum()"
   ],
   "execution_count":null,
   "outputs":[
    {
     "data":{
      "text\/plain":[
       "id                      0\n",
       "Gender                  0\n",
       "Age                     0\n",
       "Driving_License         0\n",
       "Region_Code             0\n",
       "Previously_Insured      0\n",
       "Vehicle_Age             0\n",
       "Vehicle_Damage          0\n",
       "Annual_Premium          0\n",
       "Policy_Sales_Channel    0\n",
       "Vintage                 0\n",
       "Response                0\n",
       "dtype: int64"
      ]
     },
     "metadata":{
      
     },
     "output_type":"display_data"
    }
   ],
   "metadata":{
    "datalore":{
     "node_id":"EZ61KqRor2n5Cn6KN7AwNl",
     "type":"CODE",
     "hide_input_from_viewers":false,
     "hide_output_from_viewers":false
    }
   }
  },
  {
   "cell_type":"code",
   "source":[
    "numerical_columns=['Age', 'Region_Code','Annual_Premium','Vintage']\n",
    "categorical_columns=['Gender','Driving_License','Previously_Insured','Vehicle_Age','Vehicle_Damage','Response']\n",
    "train[numerical_columns].describe()"
   ],
   "execution_count":null,
   "outputs":[
    {
     "data":{
      "text\/plain":[
       "                 Age    Region_Code  Annual_Premium        Vintage\n",
       "count  381109.000000  381109.000000   381109.000000  381109.000000\n",
       "mean       38.822584      26.388807    30564.389581     154.347397\n",
       "std        15.511611      13.229888    17213.155057      83.671304\n",
       "min        20.000000       0.000000     2630.000000      10.000000\n",
       "25%        25.000000      15.000000    24405.000000      82.000000\n",
       "50%        36.000000      28.000000    31669.000000     154.000000\n",
       "75%        49.000000      35.000000    39400.000000     227.000000\n",
       "max        85.000000      52.000000   540165.000000     299.000000"
      ]
     },
     "metadata":{
      
     },
     "output_type":"display_data"
    },
    {
     "data":{
      "text\/html":[
       "\n",
       "  <div id=\"df-b11ea80d-389d-4889-8a54-3098df8aceda\">\n",
       "    <div class=\"colab-df-container\">\n",
       "      <div>\n",
       "<style scoped>\n",
       "    .dataframe tbody tr th:only-of-type {\n",
       "        vertical-align: middle;\n",
       "    }\n",
       "\n",
       "    .dataframe tbody tr th {\n",
       "        vertical-align: top;\n",
       "    }\n",
       "\n",
       "    .dataframe thead th {\n",
       "        text-align: right;\n",
       "    }\n",
       "<\/style>\n",
       "<table border=\"1\" class=\"dataframe\">\n",
       "  <thead>\n",
       "    <tr style=\"text-align: right;\">\n",
       "      <th><\/th>\n",
       "      <th>Age<\/th>\n",
       "      <th>Region_Code<\/th>\n",
       "      <th>Annual_Premium<\/th>\n",
       "      <th>Vintage<\/th>\n",
       "    <\/tr>\n",
       "  <\/thead>\n",
       "  <tbody>\n",
       "    <tr>\n",
       "      <th>count<\/th>\n",
       "      <td>381109.000000<\/td>\n",
       "      <td>381109.000000<\/td>\n",
       "      <td>381109.000000<\/td>\n",
       "      <td>381109.000000<\/td>\n",
       "    <\/tr>\n",
       "    <tr>\n",
       "      <th>mean<\/th>\n",
       "      <td>38.822584<\/td>\n",
       "      <td>26.388807<\/td>\n",
       "      <td>30564.389581<\/td>\n",
       "      <td>154.347397<\/td>\n",
       "    <\/tr>\n",
       "    <tr>\n",
       "      <th>std<\/th>\n",
       "      <td>15.511611<\/td>\n",
       "      <td>13.229888<\/td>\n",
       "      <td>17213.155057<\/td>\n",
       "      <td>83.671304<\/td>\n",
       "    <\/tr>\n",
       "    <tr>\n",
       "      <th>min<\/th>\n",
       "      <td>20.000000<\/td>\n",
       "      <td>0.000000<\/td>\n",
       "      <td>2630.000000<\/td>\n",
       "      <td>10.000000<\/td>\n",
       "    <\/tr>\n",
       "    <tr>\n",
       "      <th>25%<\/th>\n",
       "      <td>25.000000<\/td>\n",
       "      <td>15.000000<\/td>\n",
       "      <td>24405.000000<\/td>\n",
       "      <td>82.000000<\/td>\n",
       "    <\/tr>\n",
       "    <tr>\n",
       "      <th>50%<\/th>\n",
       "      <td>36.000000<\/td>\n",
       "      <td>28.000000<\/td>\n",
       "      <td>31669.000000<\/td>\n",
       "      <td>154.000000<\/td>\n",
       "    <\/tr>\n",
       "    <tr>\n",
       "      <th>75%<\/th>\n",
       "      <td>49.000000<\/td>\n",
       "      <td>35.000000<\/td>\n",
       "      <td>39400.000000<\/td>\n",
       "      <td>227.000000<\/td>\n",
       "    <\/tr>\n",
       "    <tr>\n",
       "      <th>max<\/th>\n",
       "      <td>85.000000<\/td>\n",
       "      <td>52.000000<\/td>\n",
       "      <td>540165.000000<\/td>\n",
       "      <td>299.000000<\/td>\n",
       "    <\/tr>\n",
       "  <\/tbody>\n",
       "<\/table>\n",
       "<\/div>\n",
       "      <button class=\"colab-df-convert\" onclick=\"convertToInteractive('df-b11ea80d-389d-4889-8a54-3098df8aceda')\"\n",
       "              title=\"Convert this dataframe to an interactive table.\"\n",
       "              style=\"display:none;\">\n",
       "        \n",
       "  <svg xmlns=\"http:\/\/www.w3.org\/2000\/svg\" height=\"24px\"viewBox=\"0 0 24 24\"\n",
       "       width=\"24px\">\n",
       "    <path d=\"M0 0h24v24H0V0z\" fill=\"none\"\/>\n",
       "    <path d=\"M18.56 5.44l.94 2.06.94-2.06 2.06-.94-2.06-.94-.94-2.06-.94 2.06-2.06.94zm-11 1L8.5 8.5l.94-2.06 2.06-.94-2.06-.94L8.5 2.5l-.94 2.06-2.06.94zm10 10l.94 2.06.94-2.06 2.06-.94-2.06-.94-.94-2.06-.94 2.06-2.06.94z\"\/><path d=\"M17.41 7.96l-1.37-1.37c-.4-.4-.92-.59-1.43-.59-.52 0-1.04.2-1.43.59L10.3 9.45l-7.72 7.72c-.78.78-.78 2.05 0 2.83L4 21.41c.39.39.9.59 1.41.59.51 0 1.02-.2 1.41-.59l7.78-7.78 2.81-2.81c.8-.78.8-2.07 0-2.86zM5.41 20L4 18.59l7.72-7.72 1.47 1.35L5.41 20z\"\/>\n",
       "  <\/svg>\n",
       "      <\/button>\n",
       "      \n",
       "  <style>\n",
       "    .colab-df-container {\n",
       "      display:flex;\n",
       "      flex-wrap:wrap;\n",
       "      gap: 12px;\n",
       "    }\n",
       "\n",
       "    .colab-df-convert {\n",
       "      background-color: #E8F0FE;\n",
       "      border: none;\n",
       "      border-radius: 50%;\n",
       "      cursor: pointer;\n",
       "      display: none;\n",
       "      fill: #1967D2;\n",
       "      height: 32px;\n",
       "      padding: 0 0 0 0;\n",
       "      width: 32px;\n",
       "    }\n",
       "\n",
       "    .colab-df-convert:hover {\n",
       "      background-color: #E2EBFA;\n",
       "      box-shadow: 0px 1px 2px rgba(60, 64, 67, 0.3), 0px 1px 3px 1px rgba(60, 64, 67, 0.15);\n",
       "      fill: #174EA6;\n",
       "    }\n",
       "\n",
       "    [theme=dark] .colab-df-convert {\n",
       "      background-color: #3B4455;\n",
       "      fill: #D2E3FC;\n",
       "    }\n",
       "\n",
       "    [theme=dark] .colab-df-convert:hover {\n",
       "      background-color: #434B5C;\n",
       "      box-shadow: 0px 1px 3px 1px rgba(0, 0, 0, 0.15);\n",
       "      filter: drop-shadow(0px 1px 2px rgba(0, 0, 0, 0.3));\n",
       "      fill: #FFFFFF;\n",
       "    }\n",
       "  <\/style>\n",
       "\n",
       "      <script>\n",
       "        const buttonEl =\n",
       "          document.querySelector('#df-b11ea80d-389d-4889-8a54-3098df8aceda button.colab-df-convert');\n",
       "        buttonEl.style.display =\n",
       "          google.colab.kernel.accessAllowed ? 'block' : 'none';\n",
       "\n",
       "        async function convertToInteractive(key) {\n",
       "          const element = document.querySelector('#df-b11ea80d-389d-4889-8a54-3098df8aceda');\n",
       "          const dataTable =\n",
       "            await google.colab.kernel.invokeFunction('convertToInteractive',\n",
       "                                                     [key], {});\n",
       "          if (!dataTable) return;\n",
       "\n",
       "          const docLinkHtml = 'Like what you see? Visit the ' +\n",
       "            '<a target=\"_blank\" href=https:\/\/colab.research.google.com\/notebooks\/data_table.ipynb>data table notebook<\/a>'\n",
       "            + ' to learn more about interactive tables.';\n",
       "          element.innerHTML = '';\n",
       "          dataTable['output_type'] = 'display_data';\n",
       "          await google.colab.output.renderOutput(dataTable, element);\n",
       "          const docLink = document.createElement('div');\n",
       "          docLink.innerHTML = docLinkHtml;\n",
       "          element.appendChild(docLink);\n",
       "        }\n",
       "      <\/script>\n",
       "    <\/div>\n",
       "  <\/div>\n",
       "  "
      ]
     },
     "metadata":{
      
     },
     "output_type":"display_data"
    }
   ],
   "metadata":{
    "datalore":{
     "node_id":"rK47y7l3WWNInlDRpAz9ph",
     "type":"CODE",
     "hide_input_from_viewers":false,
     "hide_output_from_viewers":false
    }
   }
  },
  {
   "cell_type":"code",
   "source":[
    "train"
   ],
   "execution_count":null,
   "outputs":[
    {
     "data":{
      "text\/plain":[
       "            id  Gender  Age  Driving_License  Region_Code  Previously_Insured  \\\n",
       "0            1    Male   44                1         28.0                   0   \n",
       "1            2    Male   76                1          3.0                   0   \n",
       "2            3    Male   47                1         28.0                   0   \n",
       "3            4    Male   21                1         11.0                   1   \n",
       "4            5  Female   29                1         41.0                   1   \n",
       "...        ...     ...  ...              ...          ...                 ...   \n",
       "381104  381105    Male   74                1         26.0                   1   \n",
       "381105  381106    Male   30                1         37.0                   1   \n",
       "381106  381107    Male   21                1         30.0                   1   \n",
       "381107  381108  Female   68                1         14.0                   0   \n",
       "381108  381109    Male   46                1         29.0                   0   \n",
       "\n",
       "       Vehicle_Age Vehicle_Damage  Annual_Premium  Policy_Sales_Channel  \\\n",
       "0        > 2 Years            Yes         40454.0                  26.0   \n",
       "1         1-2 Year             No         33536.0                  26.0   \n",
       "2        > 2 Years            Yes         38294.0                  26.0   \n",
       "3         < 1 Year             No         28619.0                 152.0   \n",
       "4         < 1 Year             No         27496.0                 152.0   \n",
       "...            ...            ...             ...                   ...   \n",
       "381104    1-2 Year             No         30170.0                  26.0   \n",
       "381105    < 1 Year             No         40016.0                 152.0   \n",
       "381106    < 1 Year             No         35118.0                 160.0   \n",
       "381107   > 2 Years            Yes         44617.0                 124.0   \n",
       "381108    1-2 Year             No         41777.0                  26.0   \n",
       "\n",
       "        Vintage  Response  \n",
       "0           217         1  \n",
       "1           183         0  \n",
       "2            27         1  \n",
       "3           203         0  \n",
       "4            39         0  \n",
       "...         ...       ...  \n",
       "381104       88         0  \n",
       "381105      131         0  \n",
       "381106      161         0  \n",
       "381107       74         0  \n",
       "381108      237         0  \n",
       "\n",
       "[381109 rows x 12 columns]"
      ]
     },
     "metadata":{
      
     },
     "output_type":"display_data"
    },
    {
     "data":{
      "text\/html":[
       "\n",
       "  <div id=\"df-a8ed1b1a-eb89-4d12-a49c-452a64463d7f\">\n",
       "    <div class=\"colab-df-container\">\n",
       "      <div>\n",
       "<style scoped>\n",
       "    .dataframe tbody tr th:only-of-type {\n",
       "        vertical-align: middle;\n",
       "    }\n",
       "\n",
       "    .dataframe tbody tr th {\n",
       "        vertical-align: top;\n",
       "    }\n",
       "\n",
       "    .dataframe thead th {\n",
       "        text-align: right;\n",
       "    }\n",
       "<\/style>\n",
       "<table border=\"1\" class=\"dataframe\">\n",
       "  <thead>\n",
       "    <tr style=\"text-align: right;\">\n",
       "      <th><\/th>\n",
       "      <th>id<\/th>\n",
       "      <th>Gender<\/th>\n",
       "      <th>Age<\/th>\n",
       "      <th>Driving_License<\/th>\n",
       "      <th>Region_Code<\/th>\n",
       "      <th>Previously_Insured<\/th>\n",
       "      <th>Vehicle_Age<\/th>\n",
       "      <th>Vehicle_Damage<\/th>\n",
       "      <th>Annual_Premium<\/th>\n",
       "      <th>Policy_Sales_Channel<\/th>\n",
       "      <th>Vintage<\/th>\n",
       "      <th>Response<\/th>\n",
       "    <\/tr>\n",
       "  <\/thead>\n",
       "  <tbody>\n",
       "    <tr>\n",
       "      <th>0<\/th>\n",
       "      <td>1<\/td>\n",
       "      <td>Male<\/td>\n",
       "      <td>44<\/td>\n",
       "      <td>1<\/td>\n",
       "      <td>28.0<\/td>\n",
       "      <td>0<\/td>\n",
       "      <td>&gt; 2 Years<\/td>\n",
       "      <td>Yes<\/td>\n",
       "      <td>40454.0<\/td>\n",
       "      <td>26.0<\/td>\n",
       "      <td>217<\/td>\n",
       "      <td>1<\/td>\n",
       "    <\/tr>\n",
       "    <tr>\n",
       "      <th>1<\/th>\n",
       "      <td>2<\/td>\n",
       "      <td>Male<\/td>\n",
       "      <td>76<\/td>\n",
       "      <td>1<\/td>\n",
       "      <td>3.0<\/td>\n",
       "      <td>0<\/td>\n",
       "      <td>1-2 Year<\/td>\n",
       "      <td>No<\/td>\n",
       "      <td>33536.0<\/td>\n",
       "      <td>26.0<\/td>\n",
       "      <td>183<\/td>\n",
       "      <td>0<\/td>\n",
       "    <\/tr>\n",
       "    <tr>\n",
       "      <th>2<\/th>\n",
       "      <td>3<\/td>\n",
       "      <td>Male<\/td>\n",
       "      <td>47<\/td>\n",
       "      <td>1<\/td>\n",
       "      <td>28.0<\/td>\n",
       "      <td>0<\/td>\n",
       "      <td>&gt; 2 Years<\/td>\n",
       "      <td>Yes<\/td>\n",
       "      <td>38294.0<\/td>\n",
       "      <td>26.0<\/td>\n",
       "      <td>27<\/td>\n",
       "      <td>1<\/td>\n",
       "    <\/tr>\n",
       "    <tr>\n",
       "      <th>3<\/th>\n",
       "      <td>4<\/td>\n",
       "      <td>Male<\/td>\n",
       "      <td>21<\/td>\n",
       "      <td>1<\/td>\n",
       "      <td>11.0<\/td>\n",
       "      <td>1<\/td>\n",
       "      <td>&lt; 1 Year<\/td>\n",
       "      <td>No<\/td>\n",
       "      <td>28619.0<\/td>\n",
       "      <td>152.0<\/td>\n",
       "      <td>203<\/td>\n",
       "      <td>0<\/td>\n",
       "    <\/tr>\n",
       "    <tr>\n",
       "      <th>4<\/th>\n",
       "      <td>5<\/td>\n",
       "      <td>Female<\/td>\n",
       "      <td>29<\/td>\n",
       "      <td>1<\/td>\n",
       "      <td>41.0<\/td>\n",
       "      <td>1<\/td>\n",
       "      <td>&lt; 1 Year<\/td>\n",
       "      <td>No<\/td>\n",
       "      <td>27496.0<\/td>\n",
       "      <td>152.0<\/td>\n",
       "      <td>39<\/td>\n",
       "      <td>0<\/td>\n",
       "    <\/tr>\n",
       "    <tr>\n",
       "      <th>...<\/th>\n",
       "      <td>...<\/td>\n",
       "      <td>...<\/td>\n",
       "      <td>...<\/td>\n",
       "      <td>...<\/td>\n",
       "      <td>...<\/td>\n",
       "      <td>...<\/td>\n",
       "      <td>...<\/td>\n",
       "      <td>...<\/td>\n",
       "      <td>...<\/td>\n",
       "      <td>...<\/td>\n",
       "      <td>...<\/td>\n",
       "      <td>...<\/td>\n",
       "    <\/tr>\n",
       "    <tr>\n",
       "      <th>381104<\/th>\n",
       "      <td>381105<\/td>\n",
       "      <td>Male<\/td>\n",
       "      <td>74<\/td>\n",
       "      <td>1<\/td>\n",
       "      <td>26.0<\/td>\n",
       "      <td>1<\/td>\n",
       "      <td>1-2 Year<\/td>\n",
       "      <td>No<\/td>\n",
       "      <td>30170.0<\/td>\n",
       "      <td>26.0<\/td>\n",
       "      <td>88<\/td>\n",
       "      <td>0<\/td>\n",
       "    <\/tr>\n",
       "    <tr>\n",
       "      <th>381105<\/th>\n",
       "      <td>381106<\/td>\n",
       "      <td>Male<\/td>\n",
       "      <td>30<\/td>\n",
       "      <td>1<\/td>\n",
       "      <td>37.0<\/td>\n",
       "      <td>1<\/td>\n",
       "      <td>&lt; 1 Year<\/td>\n",
       "      <td>No<\/td>\n",
       "      <td>40016.0<\/td>\n",
       "      <td>152.0<\/td>\n",
       "      <td>131<\/td>\n",
       "      <td>0<\/td>\n",
       "    <\/tr>\n",
       "    <tr>\n",
       "      <th>381106<\/th>\n",
       "      <td>381107<\/td>\n",
       "      <td>Male<\/td>\n",
       "      <td>21<\/td>\n",
       "      <td>1<\/td>\n",
       "      <td>30.0<\/td>\n",
       "      <td>1<\/td>\n",
       "      <td>&lt; 1 Year<\/td>\n",
       "      <td>No<\/td>\n",
       "      <td>35118.0<\/td>\n",
       "      <td>160.0<\/td>\n",
       "      <td>161<\/td>\n",
       "      <td>0<\/td>\n",
       "    <\/tr>\n",
       "    <tr>\n",
       "      <th>381107<\/th>\n",
       "      <td>381108<\/td>\n",
       "      <td>Female<\/td>\n",
       "      <td>68<\/td>\n",
       "      <td>1<\/td>\n",
       "      <td>14.0<\/td>\n",
       "      <td>0<\/td>\n",
       "      <td>&gt; 2 Years<\/td>\n",
       "      <td>Yes<\/td>\n",
       "      <td>44617.0<\/td>\n",
       "      <td>124.0<\/td>\n",
       "      <td>74<\/td>\n",
       "      <td>0<\/td>\n",
       "    <\/tr>\n",
       "    <tr>\n",
       "      <th>381108<\/th>\n",
       "      <td>381109<\/td>\n",
       "      <td>Male<\/td>\n",
       "      <td>46<\/td>\n",
       "      <td>1<\/td>\n",
       "      <td>29.0<\/td>\n",
       "      <td>0<\/td>\n",
       "      <td>1-2 Year<\/td>\n",
       "      <td>No<\/td>\n",
       "      <td>41777.0<\/td>\n",
       "      <td>26.0<\/td>\n",
       "      <td>237<\/td>\n",
       "      <td>0<\/td>\n",
       "    <\/tr>\n",
       "  <\/tbody>\n",
       "<\/table>\n",
       "<p>381109 rows × 12 columns<\/p>\n",
       "<\/div>\n",
       "      <button class=\"colab-df-convert\" onclick=\"convertToInteractive('df-a8ed1b1a-eb89-4d12-a49c-452a64463d7f')\"\n",
       "              title=\"Convert this dataframe to an interactive table.\"\n",
       "              style=\"display:none;\">\n",
       "        \n",
       "  <svg xmlns=\"http:\/\/www.w3.org\/2000\/svg\" height=\"24px\"viewBox=\"0 0 24 24\"\n",
       "       width=\"24px\">\n",
       "    <path d=\"M0 0h24v24H0V0z\" fill=\"none\"\/>\n",
       "    <path d=\"M18.56 5.44l.94 2.06.94-2.06 2.06-.94-2.06-.94-.94-2.06-.94 2.06-2.06.94zm-11 1L8.5 8.5l.94-2.06 2.06-.94-2.06-.94L8.5 2.5l-.94 2.06-2.06.94zm10 10l.94 2.06.94-2.06 2.06-.94-2.06-.94-.94-2.06-.94 2.06-2.06.94z\"\/><path d=\"M17.41 7.96l-1.37-1.37c-.4-.4-.92-.59-1.43-.59-.52 0-1.04.2-1.43.59L10.3 9.45l-7.72 7.72c-.78.78-.78 2.05 0 2.83L4 21.41c.39.39.9.59 1.41.59.51 0 1.02-.2 1.41-.59l7.78-7.78 2.81-2.81c.8-.78.8-2.07 0-2.86zM5.41 20L4 18.59l7.72-7.72 1.47 1.35L5.41 20z\"\/>\n",
       "  <\/svg>\n",
       "      <\/button>\n",
       "      \n",
       "  <style>\n",
       "    .colab-df-container {\n",
       "      display:flex;\n",
       "      flex-wrap:wrap;\n",
       "      gap: 12px;\n",
       "    }\n",
       "\n",
       "    .colab-df-convert {\n",
       "      background-color: #E8F0FE;\n",
       "      border: none;\n",
       "      border-radius: 50%;\n",
       "      cursor: pointer;\n",
       "      display: none;\n",
       "      fill: #1967D2;\n",
       "      height: 32px;\n",
       "      padding: 0 0 0 0;\n",
       "      width: 32px;\n",
       "    }\n",
       "\n",
       "    .colab-df-convert:hover {\n",
       "      background-color: #E2EBFA;\n",
       "      box-shadow: 0px 1px 2px rgba(60, 64, 67, 0.3), 0px 1px 3px 1px rgba(60, 64, 67, 0.15);\n",
       "      fill: #174EA6;\n",
       "    }\n",
       "\n",
       "    [theme=dark] .colab-df-convert {\n",
       "      background-color: #3B4455;\n",
       "      fill: #D2E3FC;\n",
       "    }\n",
       "\n",
       "    [theme=dark] .colab-df-convert:hover {\n",
       "      background-color: #434B5C;\n",
       "      box-shadow: 0px 1px 3px 1px rgba(0, 0, 0, 0.15);\n",
       "      filter: drop-shadow(0px 1px 2px rgba(0, 0, 0, 0.3));\n",
       "      fill: #FFFFFF;\n",
       "    }\n",
       "  <\/style>\n",
       "\n",
       "      <script>\n",
       "        const buttonEl =\n",
       "          document.querySelector('#df-a8ed1b1a-eb89-4d12-a49c-452a64463d7f button.colab-df-convert');\n",
       "        buttonEl.style.display =\n",
       "          google.colab.kernel.accessAllowed ? 'block' : 'none';\n",
       "\n",
       "        async function convertToInteractive(key) {\n",
       "          const element = document.querySelector('#df-a8ed1b1a-eb89-4d12-a49c-452a64463d7f');\n",
       "          const dataTable =\n",
       "            await google.colab.kernel.invokeFunction('convertToInteractive',\n",
       "                                                     [key], {});\n",
       "          if (!dataTable) return;\n",
       "\n",
       "          const docLinkHtml = 'Like what you see? Visit the ' +\n",
       "            '<a target=\"_blank\" href=https:\/\/colab.research.google.com\/notebooks\/data_table.ipynb>data table notebook<\/a>'\n",
       "            + ' to learn more about interactive tables.';\n",
       "          element.innerHTML = '';\n",
       "          dataTable['output_type'] = 'display_data';\n",
       "          await google.colab.output.renderOutput(dataTable, element);\n",
       "          const docLink = document.createElement('div');\n",
       "          docLink.innerHTML = docLinkHtml;\n",
       "          element.appendChild(docLink);\n",
       "        }\n",
       "      <\/script>\n",
       "    <\/div>\n",
       "  <\/div>\n",
       "  "
      ]
     },
     "metadata":{
      
     },
     "output_type":"display_data"
    }
   ],
   "metadata":{
    "datalore":{
     "node_id":"XljwRzyAgmBnzIjA0VtjaE",
     "type":"CODE",
     "hide_input_from_viewers":false,
     "hide_output_from_viewers":false
    }
   }
  },
  {
   "cell_type":"code",
   "source":[
    "sns.countplot(train.Response)"
   ],
   "execution_count":null,
   "outputs":[
    {
     "name":"stdout",
     "text":[
      "\n",
      "\n"
     ],
     "output_type":"stream"
    },
    {
     "name":"stderr",
     "text":[
      "\/usr\/local\/lib\/python3.7\/dist-packages\/seaborn\/_decorators.py:43: FutureWarning: Pass the following variable as a keyword arg: x. From version 0.12, the only valid positional argument will be `data`, and passing other arguments without an explicit keyword will result in an error or misinterpretation.\n",
      "  FutureWarning\n",
      "\n",
      "\n"
     ],
     "output_type":"stream"
    },
    {
     "data":{
      "text\/plain":[
       "<matplotlib.axes._subplots.AxesSubplot at 0x7f8513b4f510>"
      ]
     },
     "metadata":{
      
     },
     "output_type":"display_data"
    },
    {
     "data":{
      "text\/plain":[
       "<Figure size 432x288 with 1 Axes>"
      ]
     },
     "metadata":{
      
     },
     "output_type":"display_data"
    },
    {
     "data":{
      "image\/png":"[encoded data removed]"
     },
     "metadata":{
      "image\/png":{
       
      }
     },
     "output_type":"display_data"
    }
   ],
   "metadata":{
    "datalore":{
     "node_id":"hQ51JENNfOdUxbxpjXtUvO",
     "type":"CODE",
     "hide_input_from_viewers":false,
     "hide_output_from_viewers":false
    }
   }
  },
  {
   "cell_type":"code",
   "source":[
    "train.Response.value_counts()"
   ],
   "execution_count":null,
   "outputs":[
    {
     "data":{
      "text\/plain":[
       "0    334399\n",
       "1     46710\n",
       "Name: Response, dtype: int64"
      ]
     },
     "metadata":{
      
     },
     "output_type":"display_data"
    }
   ],
   "metadata":{
    "datalore":{
     "node_id":"S6sjS74b7YSzq60QPFlo9E",
     "type":"CODE",
     "hide_input_from_viewers":false,
     "hide_output_from_viewers":false
    }
   }
  },
  {
   "cell_type":"code",
   "source":[
    "sns.displot(train.Age)"
   ],
   "execution_count":null,
   "outputs":[
    {
     "name":"stdout",
     "text":[
      "\n"
     ],
     "output_type":"stream"
    },
    {
     "name":"stderr",
     "text":[
      "\n"
     ],
     "output_type":"stream"
    },
    {
     "data":{
      "text\/plain":[
       "<seaborn.axisgrid.FacetGrid at 0x7f8513b2fc10>"
      ]
     },
     "metadata":{
      
     },
     "output_type":"display_data"
    },
    {
     "data":{
      "text\/plain":[
       "<Figure size 360x360 with 1 Axes>"
      ]
     },
     "metadata":{
      
     },
     "output_type":"display_data"
    },
    {
     "data":{
      "image\/png":"[encoded data removed]"
     },
     "metadata":{
      "image\/png":{
       
      }
     },
     "output_type":"display_data"
    }
   ],
   "metadata":{
    "datalore":{
     "node_id":"hHDhkKnXh7nk4EhtAiqiAz",
     "type":"CODE",
     "hide_input_from_viewers":false,
     "hide_output_from_viewers":false
    }
   }
  },
  {
   "cell_type":"code",
   "source":[
    "sns.boxplot(y = 'Age', data = train,palette='Accent')"
   ],
   "execution_count":null,
   "outputs":[
    {
     "name":"stdout",
     "text":[
      "\n"
     ],
     "output_type":"stream"
    },
    {
     "name":"stderr",
     "text":[
      "\n"
     ],
     "output_type":"stream"
    },
    {
     "data":{
      "text\/plain":[
       "<matplotlib.axes._subplots.AxesSubplot at 0x7f8510c24350>"
      ]
     },
     "metadata":{
      
     },
     "output_type":"display_data"
    },
    {
     "data":{
      "text\/plain":[
       "<Figure size 432x288 with 1 Axes>"
      ]
     },
     "metadata":{
      
     },
     "output_type":"display_data"
    },
    {
     "data":{
      "image\/png":"[encoded data removed]"
     },
     "metadata":{
      "image\/png":{
       
      }
     },
     "output_type":"display_data"
    }
   ],
   "metadata":{
    "datalore":{
     "node_id":"7BUJa1ytXMOIY2A6waQWOw",
     "type":"CODE",
     "hide_input_from_viewers":false,
     "hide_output_from_viewers":false
    }
   }
  },
  {
   "cell_type":"code",
   "source":[
    "sns.scatterplot(x=train['Age'],y=train['Annual_Premium'])"
   ],
   "execution_count":null,
   "outputs":[
    {
     "name":"stdout",
     "text":[
      "\n"
     ],
     "output_type":"stream"
    },
    {
     "name":"stderr",
     "text":[
      "\n"
     ],
     "output_type":"stream"
    },
    {
     "data":{
      "text\/plain":[
       "<matplotlib.axes._subplots.AxesSubplot at 0x7f8510b82590>"
      ]
     },
     "metadata":{
      
     },
     "output_type":"display_data"
    },
    {
     "data":{
      "text\/plain":[
       "<Figure size 432x288 with 1 Axes>"
      ]
     },
     "metadata":{
      
     },
     "output_type":"display_data"
    },
    {
     "data":{
      "image\/png":"[encoded data removed]"
     },
     "metadata":{
      "image\/png":{
       
      }
     },
     "output_type":"display_data"
    }
   ],
   "metadata":{
    "datalore":{
     "node_id":"Idz7vegq2q33x9ybfXhQc2",
     "type":"CODE",
     "hide_input_from_viewers":false,
     "hide_output_from_viewers":false
    }
   }
  },
  {
   "cell_type":"code",
   "source":[
    "sns.countplot(train.Gender)"
   ],
   "execution_count":null,
   "outputs":[
    {
     "name":"stdout",
     "text":[
      "\n",
      "\n"
     ],
     "output_type":"stream"
    },
    {
     "name":"stderr",
     "text":[
      "\/usr\/local\/lib\/python3.7\/dist-packages\/seaborn\/_decorators.py:43: FutureWarning: Pass the following variable as a keyword arg: x. From version 0.12, the only valid positional argument will be `data`, and passing other arguments without an explicit keyword will result in an error or misinterpretation.\n",
      "  FutureWarning\n",
      "\n",
      "\n"
     ],
     "output_type":"stream"
    },
    {
     "data":{
      "text\/plain":[
       "<matplotlib.axes._subplots.AxesSubplot at 0x7f8510afb550>"
      ]
     },
     "metadata":{
      
     },
     "output_type":"display_data"
    },
    {
     "data":{
      "text\/plain":[
       "<Figure size 432x288 with 1 Axes>"
      ]
     },
     "metadata":{
      
     },
     "output_type":"display_data"
    },
    {
     "data":{
      "image\/png":"[encoded data removed]"
     },
     "metadata":{
      "image\/png":{
       
      }
     },
     "output_type":"display_data"
    }
   ],
   "metadata":{
    "datalore":{
     "node_id":"K81F5WADsHBk9j2HH78GEF",
     "type":"CODE",
     "hide_input_from_viewers":false,
     "hide_output_from_viewers":false
    }
   }
  },
  {
   "cell_type":"code",
   "source":[
    "df=train.groupby(['Gender','Response'])['id'].count().to_frame().rename(columns={'id':'count'}).reset_index()"
   ],
   "execution_count":null,
   "outputs":[
    
   ],
   "metadata":{
    "datalore":{
     "node_id":"AL3TQMo1H12uVXwKk2r0C0",
     "type":"CODE",
     "hide_input_from_viewers":false,
     "hide_output_from_viewers":false
    }
   }
  },
  {
   "cell_type":"code",
   "source":[
    "g = sns.catplot(x=\"Gender\", y=\"count\",col=\"Response\",\n",
    "                data=df, kind=\"bar\",\n",
    "                height=4, aspect=.7);"
   ],
   "execution_count":null,
   "outputs":[
    {
     "data":{
      "text\/plain":[
       "<Figure size 403.2x288 with 2 Axes>"
      ]
     },
     "metadata":{
      
     },
     "output_type":"display_data"
    },
    {
     "data":{
      "image\/png":"[encoded data removed]"
     },
     "metadata":{
      "image\/png":{
       
      }
     },
     "output_type":"display_data"
    }
   ],
   "metadata":{
    "datalore":{
     "node_id":"5ko3D3PzF7bk3qTGR9RlXG",
     "type":"CODE",
     "hide_input_from_viewers":false,
     "hide_output_from_viewers":false
    }
   }
  },
  {
   "cell_type":"code",
   "source":[
    "df=train.groupby(['Gender'])['Driving_License'].count().to_frame().reset_index()\n",
    "df"
   ],
   "execution_count":null,
   "outputs":[
    {
     "data":{
      "text\/plain":[
       "   Gender  Driving_License\n",
       "0  Female           175020\n",
       "1    Male           206089"
      ]
     },
     "metadata":{
      
     },
     "output_type":"display_data"
    },
    {
     "data":{
      "text\/html":[
       "\n",
       "  <div id=\"df-fdf2dbd4-4782-4c11-bd10-775dad0f66d2\">\n",
       "    <div class=\"colab-df-container\">\n",
       "      <div>\n",
       "<style scoped>\n",
       "    .dataframe tbody tr th:only-of-type {\n",
       "        vertical-align: middle;\n",
       "    }\n",
       "\n",
       "    .dataframe tbody tr th {\n",
       "        vertical-align: top;\n",
       "    }\n",
       "\n",
       "    .dataframe thead th {\n",
       "        text-align: right;\n",
       "    }\n",
       "<\/style>\n",
       "<table border=\"1\" class=\"dataframe\">\n",
       "  <thead>\n",
       "    <tr style=\"text-align: right;\">\n",
       "      <th><\/th>\n",
       "      <th>Gender<\/th>\n",
       "      <th>Driving_License<\/th>\n",
       "    <\/tr>\n",
       "  <\/thead>\n",
       "  <tbody>\n",
       "    <tr>\n",
       "      <th>0<\/th>\n",
       "      <td>Female<\/td>\n",
       "      <td>175020<\/td>\n",
       "    <\/tr>\n",
       "    <tr>\n",
       "      <th>1<\/th>\n",
       "      <td>Male<\/td>\n",
       "      <td>206089<\/td>\n",
       "    <\/tr>\n",
       "  <\/tbody>\n",
       "<\/table>\n",
       "<\/div>\n",
       "      <button class=\"colab-df-convert\" onclick=\"convertToInteractive('df-fdf2dbd4-4782-4c11-bd10-775dad0f66d2')\"\n",
       "              title=\"Convert this dataframe to an interactive table.\"\n",
       "              style=\"display:none;\">\n",
       "        \n",
       "  <svg xmlns=\"http:\/\/www.w3.org\/2000\/svg\" height=\"24px\"viewBox=\"0 0 24 24\"\n",
       "       width=\"24px\">\n",
       "    <path d=\"M0 0h24v24H0V0z\" fill=\"none\"\/>\n",
       "    <path d=\"M18.56 5.44l.94 2.06.94-2.06 2.06-.94-2.06-.94-.94-2.06-.94 2.06-2.06.94zm-11 1L8.5 8.5l.94-2.06 2.06-.94-2.06-.94L8.5 2.5l-.94 2.06-2.06.94zm10 10l.94 2.06.94-2.06 2.06-.94-2.06-.94-.94-2.06-.94 2.06-2.06.94z\"\/><path d=\"M17.41 7.96l-1.37-1.37c-.4-.4-.92-.59-1.43-.59-.52 0-1.04.2-1.43.59L10.3 9.45l-7.72 7.72c-.78.78-.78 2.05 0 2.83L4 21.41c.39.39.9.59 1.41.59.51 0 1.02-.2 1.41-.59l7.78-7.78 2.81-2.81c.8-.78.8-2.07 0-2.86zM5.41 20L4 18.59l7.72-7.72 1.47 1.35L5.41 20z\"\/>\n",
       "  <\/svg>\n",
       "      <\/button>\n",
       "      \n",
       "  <style>\n",
       "    .colab-df-container {\n",
       "      display:flex;\n",
       "      flex-wrap:wrap;\n",
       "      gap: 12px;\n",
       "    }\n",
       "\n",
       "    .colab-df-convert {\n",
       "      background-color: #E8F0FE;\n",
       "      border: none;\n",
       "      border-radius: 50%;\n",
       "      cursor: pointer;\n",
       "      display: none;\n",
       "      fill: #1967D2;\n",
       "      height: 32px;\n",
       "      padding: 0 0 0 0;\n",
       "      width: 32px;\n",
       "    }\n",
       "\n",
       "    .colab-df-convert:hover {\n",
       "      background-color: #E2EBFA;\n",
       "      box-shadow: 0px 1px 2px rgba(60, 64, 67, 0.3), 0px 1px 3px 1px rgba(60, 64, 67, 0.15);\n",
       "      fill: #174EA6;\n",
       "    }\n",
       "\n",
       "    [theme=dark] .colab-df-convert {\n",
       "      background-color: #3B4455;\n",
       "      fill: #D2E3FC;\n",
       "    }\n",
       "\n",
       "    [theme=dark] .colab-df-convert:hover {\n",
       "      background-color: #434B5C;\n",
       "      box-shadow: 0px 1px 3px 1px rgba(0, 0, 0, 0.15);\n",
       "      filter: drop-shadow(0px 1px 2px rgba(0, 0, 0, 0.3));\n",
       "      fill: #FFFFFF;\n",
       "    }\n",
       "  <\/style>\n",
       "\n",
       "      <script>\n",
       "        const buttonEl =\n",
       "          document.querySelector('#df-fdf2dbd4-4782-4c11-bd10-775dad0f66d2 button.colab-df-convert');\n",
       "        buttonEl.style.display =\n",
       "          google.colab.kernel.accessAllowed ? 'block' : 'none';\n",
       "\n",
       "        async function convertToInteractive(key) {\n",
       "          const element = document.querySelector('#df-fdf2dbd4-4782-4c11-bd10-775dad0f66d2');\n",
       "          const dataTable =\n",
       "            await google.colab.kernel.invokeFunction('convertToInteractive',\n",
       "                                                     [key], {});\n",
       "          if (!dataTable) return;\n",
       "\n",
       "          const docLinkHtml = 'Like what you see? Visit the ' +\n",
       "            '<a target=\"_blank\" href=https:\/\/colab.research.google.com\/notebooks\/data_table.ipynb>data table notebook<\/a>'\n",
       "            + ' to learn more about interactive tables.';\n",
       "          element.innerHTML = '';\n",
       "          dataTable['output_type'] = 'display_data';\n",
       "          await google.colab.output.renderOutput(dataTable, element);\n",
       "          const docLink = document.createElement('div');\n",
       "          docLink.innerHTML = docLinkHtml;\n",
       "          element.appendChild(docLink);\n",
       "        }\n",
       "      <\/script>\n",
       "    <\/div>\n",
       "  <\/div>\n",
       "  "
      ]
     },
     "metadata":{
      
     },
     "output_type":"display_data"
    }
   ],
   "metadata":{
    "datalore":{
     "node_id":"J0tIdetQdBmuTGrvxFv2Du",
     "type":"CODE",
     "hide_input_from_viewers":false,
     "hide_output_from_viewers":false
    }
   }
  },
  {
   "cell_type":"code",
   "source":[
    "sns.catplot(x=\"Gender\", y=\"Driving_License\",\n",
    "                data=df, kind=\"bar\");"
   ],
   "execution_count":null,
   "outputs":[
    {
     "data":{
      "text\/plain":[
       "<Figure size 360x360 with 1 Axes>"
      ]
     },
     "metadata":{
      
     },
     "output_type":"display_data"
    },
    {
     "data":{
      "image\/png":"[encoded data removed]"
     },
     "metadata":{
      "image\/png":{
       
      }
     },
     "output_type":"display_data"
    }
   ],
   "metadata":{
    "datalore":{
     "node_id":"tUrO09DXZGZbPxXHUg4Dl8",
     "type":"CODE",
     "hide_input_from_viewers":false,
     "hide_output_from_viewers":false
    }
   }
  },
  {
   "cell_type":"code",
   "source":[
    "sns.countplot(train.Previously_Insured)"
   ],
   "execution_count":null,
   "outputs":[
    {
     "name":"stdout",
     "text":[
      "\n",
      "\n"
     ],
     "output_type":"stream"
    },
    {
     "name":"stderr",
     "text":[
      "\/usr\/local\/lib\/python3.7\/dist-packages\/seaborn\/_decorators.py:43: FutureWarning: Pass the following variable as a keyword arg: x. From version 0.12, the only valid positional argument will be `data`, and passing other arguments without an explicit keyword will result in an error or misinterpretation.\n",
      "  FutureWarning\n",
      "\n",
      "\n"
     ],
     "output_type":"stream"
    },
    {
     "data":{
      "text\/plain":[
       "<matplotlib.axes._subplots.AxesSubplot at 0x7f8510af2e50>"
      ]
     },
     "metadata":{
      
     },
     "output_type":"display_data"
    },
    {
     "data":{
      "text\/plain":[
       "<Figure size 432x288 with 1 Axes>"
      ]
     },
     "metadata":{
      
     },
     "output_type":"display_data"
    },
    {
     "data":{
      "image\/png":"[encoded data removed]"
     },
     "metadata":{
      "image\/png":{
       
      }
     },
     "output_type":"display_data"
    }
   ],
   "metadata":{
    "datalore":{
     "node_id":"zsTuYpha42R8RB8PhOA34s",
     "type":"CODE",
     "hide_input_from_viewers":false,
     "hide_output_from_viewers":false
    }
   }
  },
  {
   "cell_type":"code",
   "source":[
    "df=train.groupby(['Vehicle_Age','Response'])['id'].count().to_frame().rename(columns={'id':'count'}).reset_index()\n",
    "df"
   ],
   "execution_count":null,
   "outputs":[
    {
     "data":{
      "text\/plain":[
       "  Vehicle_Age  Response   count\n",
       "0    1-2 Year         0  165510\n",
       "1    1-2 Year         1   34806\n",
       "2    < 1 Year         0  157584\n",
       "3    < 1 Year         1    7202\n",
       "4   > 2 Years         0   11305\n",
       "5   > 2 Years         1    4702"
      ]
     },
     "metadata":{
      
     },
     "output_type":"display_data"
    },
    {
     "data":{
      "text\/html":[
       "\n",
       "  <div id=\"df-aee150b3-2e13-4efc-8112-81ec1d8f9fec\">\n",
       "    <div class=\"colab-df-container\">\n",
       "      <div>\n",
       "<style scoped>\n",
       "    .dataframe tbody tr th:only-of-type {\n",
       "        vertical-align: middle;\n",
       "    }\n",
       "\n",
       "    .dataframe tbody tr th {\n",
       "        vertical-align: top;\n",
       "    }\n",
       "\n",
       "    .dataframe thead th {\n",
       "        text-align: right;\n",
       "    }\n",
       "<\/style>\n",
       "<table border=\"1\" class=\"dataframe\">\n",
       "  <thead>\n",
       "    <tr style=\"text-align: right;\">\n",
       "      <th><\/th>\n",
       "      <th>Vehicle_Age<\/th>\n",
       "      <th>Response<\/th>\n",
       "      <th>count<\/th>\n",
       "    <\/tr>\n",
       "  <\/thead>\n",
       "  <tbody>\n",
       "    <tr>\n",
       "      <th>0<\/th>\n",
       "      <td>1-2 Year<\/td>\n",
       "      <td>0<\/td>\n",
       "      <td>165510<\/td>\n",
       "    <\/tr>\n",
       "    <tr>\n",
       "      <th>1<\/th>\n",
       "      <td>1-2 Year<\/td>\n",
       "      <td>1<\/td>\n",
       "      <td>34806<\/td>\n",
       "    <\/tr>\n",
       "    <tr>\n",
       "      <th>2<\/th>\n",
       "      <td>&lt; 1 Year<\/td>\n",
       "      <td>0<\/td>\n",
       "      <td>157584<\/td>\n",
       "    <\/tr>\n",
       "    <tr>\n",
       "      <th>3<\/th>\n",
       "      <td>&lt; 1 Year<\/td>\n",
       "      <td>1<\/td>\n",
       "      <td>7202<\/td>\n",
       "    <\/tr>\n",
       "    <tr>\n",
       "      <th>4<\/th>\n",
       "      <td>&gt; 2 Years<\/td>\n",
       "      <td>0<\/td>\n",
       "      <td>11305<\/td>\n",
       "    <\/tr>\n",
       "    <tr>\n",
       "      <th>5<\/th>\n",
       "      <td>&gt; 2 Years<\/td>\n",
       "      <td>1<\/td>\n",
       "      <td>4702<\/td>\n",
       "    <\/tr>\n",
       "  <\/tbody>\n",
       "<\/table>\n",
       "<\/div>\n",
       "      <button class=\"colab-df-convert\" onclick=\"convertToInteractive('df-aee150b3-2e13-4efc-8112-81ec1d8f9fec')\"\n",
       "              title=\"Convert this dataframe to an interactive table.\"\n",
       "              style=\"display:none;\">\n",
       "        \n",
       "  <svg xmlns=\"http:\/\/www.w3.org\/2000\/svg\" height=\"24px\"viewBox=\"0 0 24 24\"\n",
       "       width=\"24px\">\n",
       "    <path d=\"M0 0h24v24H0V0z\" fill=\"none\"\/>\n",
       "    <path d=\"M18.56 5.44l.94 2.06.94-2.06 2.06-.94-2.06-.94-.94-2.06-.94 2.06-2.06.94zm-11 1L8.5 8.5l.94-2.06 2.06-.94-2.06-.94L8.5 2.5l-.94 2.06-2.06.94zm10 10l.94 2.06.94-2.06 2.06-.94-2.06-.94-.94-2.06-.94 2.06-2.06.94z\"\/><path d=\"M17.41 7.96l-1.37-1.37c-.4-.4-.92-.59-1.43-.59-.52 0-1.04.2-1.43.59L10.3 9.45l-7.72 7.72c-.78.78-.78 2.05 0 2.83L4 21.41c.39.39.9.59 1.41.59.51 0 1.02-.2 1.41-.59l7.78-7.78 2.81-2.81c.8-.78.8-2.07 0-2.86zM5.41 20L4 18.59l7.72-7.72 1.47 1.35L5.41 20z\"\/>\n",
       "  <\/svg>\n",
       "      <\/button>\n",
       "      \n",
       "  <style>\n",
       "    .colab-df-container {\n",
       "      display:flex;\n",
       "      flex-wrap:wrap;\n",
       "      gap: 12px;\n",
       "    }\n",
       "\n",
       "    .colab-df-convert {\n",
       "      background-color: #E8F0FE;\n",
       "      border: none;\n",
       "      border-radius: 50%;\n",
       "      cursor: pointer;\n",
       "      display: none;\n",
       "      fill: #1967D2;\n",
       "      height: 32px;\n",
       "      padding: 0 0 0 0;\n",
       "      width: 32px;\n",
       "    }\n",
       "\n",
       "    .colab-df-convert:hover {\n",
       "      background-color: #E2EBFA;\n",
       "      box-shadow: 0px 1px 2px rgba(60, 64, 67, 0.3), 0px 1px 3px 1px rgba(60, 64, 67, 0.15);\n",
       "      fill: #174EA6;\n",
       "    }\n",
       "\n",
       "    [theme=dark] .colab-df-convert {\n",
       "      background-color: #3B4455;\n",
       "      fill: #D2E3FC;\n",
       "    }\n",
       "\n",
       "    [theme=dark] .colab-df-convert:hover {\n",
       "      background-color: #434B5C;\n",
       "      box-shadow: 0px 1px 3px 1px rgba(0, 0, 0, 0.15);\n",
       "      filter: drop-shadow(0px 1px 2px rgba(0, 0, 0, 0.3));\n",
       "      fill: #FFFFFF;\n",
       "    }\n",
       "  <\/style>\n",
       "\n",
       "      <script>\n",
       "        const buttonEl =\n",
       "          document.querySelector('#df-aee150b3-2e13-4efc-8112-81ec1d8f9fec button.colab-df-convert');\n",
       "        buttonEl.style.display =\n",
       "          google.colab.kernel.accessAllowed ? 'block' : 'none';\n",
       "\n",
       "        async function convertToInteractive(key) {\n",
       "          const element = document.querySelector('#df-aee150b3-2e13-4efc-8112-81ec1d8f9fec');\n",
       "          const dataTable =\n",
       "            await google.colab.kernel.invokeFunction('convertToInteractive',\n",
       "                                                     [key], {});\n",
       "          if (!dataTable) return;\n",
       "\n",
       "          const docLinkHtml = 'Like what you see? Visit the ' +\n",
       "            '<a target=\"_blank\" href=https:\/\/colab.research.google.com\/notebooks\/data_table.ipynb>data table notebook<\/a>'\n",
       "            + ' to learn more about interactive tables.';\n",
       "          element.innerHTML = '';\n",
       "          dataTable['output_type'] = 'display_data';\n",
       "          await google.colab.output.renderOutput(dataTable, element);\n",
       "          const docLink = document.createElement('div');\n",
       "          docLink.innerHTML = docLinkHtml;\n",
       "          element.appendChild(docLink);\n",
       "        }\n",
       "      <\/script>\n",
       "    <\/div>\n",
       "  <\/div>\n",
       "  "
      ]
     },
     "metadata":{
      
     },
     "output_type":"display_data"
    }
   ],
   "metadata":{
    "datalore":{
     "node_id":"uqXd8sVheX93nHEziQd524",
     "type":"CODE",
     "hide_input_from_viewers":false,
     "hide_output_from_viewers":false
    }
   }
  },
  {
   "cell_type":"code",
   "source":[
    "g = sns.catplot(x=\"Vehicle_Age\", y=\"count\",col=\"Response\",\n",
    "                data=df, kind=\"bar\",\n",
    "                height=4, aspect=.7);"
   ],
   "execution_count":null,
   "outputs":[
    {
     "data":{
      "text\/plain":[
       "<Figure size 403.2x288 with 2 Axes>"
      ]
     },
     "metadata":{
      
     },
     "output_type":"display_data"
    },
    {
     "data":{
      "image\/png":"[encoded data removed]"
     },
     "metadata":{
      "image\/png":{
       
      }
     },
     "output_type":"display_data"
    }
   ],
   "metadata":{
    "datalore":{
     "node_id":"c4JbRUdkXP1ReiJqWqs1Al",
     "type":"CODE",
     "hide_input_from_viewers":false,
     "hide_output_from_viewers":false
    }
   }
  },
  {
   "cell_type":"code",
   "source":[
    "sns.countplot(train.Vehicle_Damage)"
   ],
   "execution_count":null,
   "outputs":[
    {
     "name":"stdout",
     "text":[
      "\n",
      "\n"
     ],
     "output_type":"stream"
    },
    {
     "name":"stderr",
     "text":[
      "\/usr\/local\/lib\/python3.7\/dist-packages\/seaborn\/_decorators.py:43: FutureWarning: Pass the following variable as a keyword arg: x. From version 0.12, the only valid positional argument will be `data`, and passing other arguments without an explicit keyword will result in an error or misinterpretation.\n",
      "  FutureWarning\n",
      "\n",
      "\n"
     ],
     "output_type":"stream"
    },
    {
     "data":{
      "text\/plain":[
       "<matplotlib.axes._subplots.AxesSubplot at 0x7f851089fa50>"
      ]
     },
     "metadata":{
      
     },
     "output_type":"display_data"
    },
    {
     "data":{
      "text\/plain":[
       "<Figure size 432x288 with 1 Axes>"
      ]
     },
     "metadata":{
      
     },
     "output_type":"display_data"
    },
    {
     "data":{
      "image\/png":"[encoded data removed]"
     },
     "metadata":{
      "image\/png":{
       
      }
     },
     "output_type":"display_data"
    }
   ],
   "metadata":{
    "datalore":{
     "node_id":"tci54eWOATHrXlY8ooYaRb",
     "type":"CODE",
     "hide_input_from_viewers":false,
     "hide_output_from_viewers":false
    }
   }
  },
  {
   "cell_type":"code",
   "source":[
    "df=train.groupby(['Vehicle_Damage','Response'])['id'].count().to_frame().rename(columns={'id':'count'}).reset_index()\n",
    "g = sns.catplot(x=\"Vehicle_Damage\", y=\"count\",col=\"Response\",\n",
    "                data=df, kind=\"bar\",\n",
    "                height=4, aspect=.7);"
   ],
   "execution_count":null,
   "outputs":[
    {
     "data":{
      "text\/plain":[
       "<Figure size 403.2x288 with 2 Axes>"
      ]
     },
     "metadata":{
      
     },
     "output_type":"display_data"
    },
    {
     "data":{
      "image\/png":"[encoded data removed]"
     },
     "metadata":{
      "image\/png":{
       
      }
     },
     "output_type":"display_data"
    }
   ],
   "metadata":{
    "datalore":{
     "node_id":"btsJ70LcftFlZYvUFFR0MU",
     "type":"CODE",
     "hide_input_from_viewers":false,
     "hide_output_from_viewers":false
    }
   }
  },
  {
   "cell_type":"code",
   "source":[
    "sns.distplot(train.Annual_Premium)"
   ],
   "execution_count":null,
   "outputs":[
    {
     "name":"stdout",
     "text":[
      "\n",
      "\n"
     ],
     "output_type":"stream"
    },
    {
     "name":"stderr",
     "text":[
      "\/usr\/local\/lib\/python3.7\/dist-packages\/seaborn\/distributions.py:2619: FutureWarning: `distplot` is a deprecated function and will be removed in a future version. Please adapt your code to use either `displot` (a figure-level function with similar flexibility) or `histplot` (an axes-level function for histograms).\n",
      "  warnings.warn(msg, FutureWarning)\n",
      "\n",
      "\n"
     ],
     "output_type":"stream"
    },
    {
     "data":{
      "text\/plain":[
       "<matplotlib.axes._subplots.AxesSubplot at 0x7f85106f0610>"
      ]
     },
     "metadata":{
      
     },
     "output_type":"display_data"
    },
    {
     "data":{
      "text\/plain":[
       "<Figure size 432x288 with 1 Axes>"
      ]
     },
     "metadata":{
      
     },
     "output_type":"display_data"
    },
    {
     "data":{
      "image\/png":"[encoded data removed]"
     },
     "metadata":{
      "image\/png":{
       
      }
     },
     "output_type":"display_data"
    }
   ],
   "metadata":{
    "datalore":{
     "node_id":"Z0O2fYJ4uYQ9KNfcXaVQQu",
     "type":"CODE",
     "hide_input_from_viewers":false,
     "hide_output_from_viewers":false
    }
   }
  },
  {
   "cell_type":"code",
   "source":[
    "sns.boxplot(y = 'Annual_Premium', data = train,palette='Accent')"
   ],
   "execution_count":null,
   "outputs":[
    {
     "name":"stdout",
     "text":[
      "\n"
     ],
     "output_type":"stream"
    },
    {
     "name":"stderr",
     "text":[
      "\n"
     ],
     "output_type":"stream"
    },
    {
     "data":{
      "text\/plain":[
       "<matplotlib.axes._subplots.AxesSubplot at 0x7f85105e4d90>"
      ]
     },
     "metadata":{
      
     },
     "output_type":"display_data"
    },
    {
     "data":{
      "text\/plain":[
       "<Figure size 432x288 with 1 Axes>"
      ]
     },
     "metadata":{
      
     },
     "output_type":"display_data"
    },
    {
     "data":{
      "image\/png":"[encoded data removed]"
     },
     "metadata":{
      "image\/png":{
       
      }
     },
     "output_type":"display_data"
    }
   ],
   "metadata":{
    "datalore":{
     "node_id":"n9RHZV2cAlUUAd3Sq14nhK",
     "type":"CODE",
     "hide_input_from_viewers":false,
     "hide_output_from_viewers":false
    }
   }
  },
  {
   "cell_type":"code",
   "source":[
    "sns.distplot(train.Vintage)"
   ],
   "execution_count":null,
   "outputs":[
    {
     "name":"stdout",
     "text":[
      "\n",
      "\n"
     ],
     "output_type":"stream"
    },
    {
     "name":"stderr",
     "text":[
      "\/usr\/local\/lib\/python3.7\/dist-packages\/seaborn\/distributions.py:2619: FutureWarning: `distplot` is a deprecated function and will be removed in a future version. Please adapt your code to use either `displot` (a figure-level function with similar flexibility) or `histplot` (an axes-level function for histograms).\n",
      "  warnings.warn(msg, FutureWarning)\n",
      "\n",
      "\n"
     ],
     "output_type":"stream"
    },
    {
     "data":{
      "text\/plain":[
       "<matplotlib.axes._subplots.AxesSubplot at 0x7f851055d290>"
      ]
     },
     "metadata":{
      
     },
     "output_type":"display_data"
    },
    {
     "data":{
      "text\/plain":[
       "<Figure size 432x288 with 1 Axes>"
      ]
     },
     "metadata":{
      
     },
     "output_type":"display_data"
    },
    {
     "data":{
      "image\/png":"[encoded data removed]"
     },
     "metadata":{
      "image\/png":{
       
      }
     },
     "output_type":"display_data"
    }
   ],
   "metadata":{
    "datalore":{
     "node_id":"lFIcNv8o1qJrNwspm1kLaK",
     "type":"CODE",
     "hide_input_from_viewers":false,
     "hide_output_from_viewers":false
    }
   }
  },
  {
   "cell_type":"code",
   "source":[
    "num_feat = ['Age','Vintage']\n",
    "cat_feat = ['Gender', 'Driving_License', 'Previously_Insured', 'Vehicle_Age_lt_1_Year','Vehicle_Age_gt_2_Years','Vehicle_Damage_Yes','Region_Code','Policy_Sales_Channel']\n",
    "train['Gender'] = train['Gender'].map( {'Female': 0, 'Male': 1} ).astype(int)\n",
    "train=pd.get_dummies(train,drop_first=True)\n",
    "train=train.rename(columns={\"Vehicle_Age_< 1 Year\": \"Vehicle_Age_lt_1_Year\", \"Vehicle_Age_> 2 Years\": \"Vehicle_Age_gt_2_Years\"})\n",
    "train['Vehicle_Age_lt_1_Year']=train['Vehicle_Age_lt_1_Year'].astype('int')\n",
    "train['Vehicle_Age_gt_2_Years']=train['Vehicle_Age_gt_2_Years'].astype('int')\n",
    "train['Vehicle_Damage_Yes']=train['Vehicle_Damage_Yes'].astype('int')\n",
    "from sklearn.preprocessing import LabelEncoder, StandardScaler, MinMaxScaler, RobustScaler\n",
    "ss = StandardScaler()\n",
    "train[num_feat] = ss.fit_transform(train[num_feat])\n",
    "\n",
    "\n",
    "mm = MinMaxScaler()\n",
    "train[['Annual_Premium']] = mm.fit_transform(train[['Annual_Premium']])\n",
    "train=train.drop('id',axis=1)\n",
    "for column in cat_feat:\n",
    "    train[column] = train[column].astype('str')\n",
    "train"
   ],
   "execution_count":null,
   "outputs":[
    {
     "data":{
      "text\/plain":[
       "       Gender       Age Driving_License Region_Code Previously_Insured  \\\n",
       "0           1  0.333777               1        28.0                  0   \n",
       "1           1  2.396751               1         3.0                  0   \n",
       "2           1  0.527181               1        28.0                  0   \n",
       "3           1 -1.148985               1        11.0                  1   \n",
       "4           0 -0.633242               1        41.0                  1   \n",
       "...       ...       ...             ...         ...                ...   \n",
       "381104      1  2.267815               1        26.0                  1   \n",
       "381105      1 -0.568774               1        37.0                  1   \n",
       "381106      1 -1.148985               1        30.0                  1   \n",
       "381107      0  1.881007               1        14.0                  0   \n",
       "381108      1  0.462713               1        29.0                  0   \n",
       "\n",
       "        Annual_Premium Policy_Sales_Channel   Vintage  Response  \\\n",
       "0             0.070366                 26.0  0.748795         1   \n",
       "1             0.057496                 26.0  0.342443         0   \n",
       "2             0.066347                 26.0 -1.521998         1   \n",
       "3             0.048348                152.0  0.581474         0   \n",
       "4             0.046259                152.0 -1.378580         0   \n",
       "...                ...                  ...       ...       ...   \n",
       "381104        0.051234                 26.0 -0.792954         0   \n",
       "381105        0.069551                152.0 -0.279037         0   \n",
       "381106        0.060439                160.0  0.079509         0   \n",
       "381107        0.078110                124.0 -0.960275         0   \n",
       "381108        0.072827                 26.0  0.987826         0   \n",
       "\n",
       "       Vehicle_Age_lt_1_Year Vehicle_Age_gt_2_Years Vehicle_Damage_Yes  \n",
       "0                          0                      1                  1  \n",
       "1                          0                      0                  0  \n",
       "2                          0                      1                  1  \n",
       "3                          1                      0                  0  \n",
       "4                          1                      0                  0  \n",
       "...                      ...                    ...                ...  \n",
       "381104                     0                      0                  0  \n",
       "381105                     1                      0                  0  \n",
       "381106                     1                      0                  0  \n",
       "381107                     0                      1                  1  \n",
       "381108                     0                      0                  0  \n",
       "\n",
       "[381109 rows x 12 columns]"
      ]
     },
     "metadata":{
      
     },
     "output_type":"display_data"
    },
    {
     "data":{
      "text\/html":[
       "\n",
       "  <div id=\"df-bdc0983e-f6f2-4a66-9019-8c5b05a0aaf2\">\n",
       "    <div class=\"colab-df-container\">\n",
       "      <div>\n",
       "<style scoped>\n",
       "    .dataframe tbody tr th:only-of-type {\n",
       "        vertical-align: middle;\n",
       "    }\n",
       "\n",
       "    .dataframe tbody tr th {\n",
       "        vertical-align: top;\n",
       "    }\n",
       "\n",
       "    .dataframe thead th {\n",
       "        text-align: right;\n",
       "    }\n",
       "<\/style>\n",
       "<table border=\"1\" class=\"dataframe\">\n",
       "  <thead>\n",
       "    <tr style=\"text-align: right;\">\n",
       "      <th><\/th>\n",
       "      <th>Gender<\/th>\n",
       "      <th>Age<\/th>\n",
       "      <th>Driving_License<\/th>\n",
       "      <th>Region_Code<\/th>\n",
       "      <th>Previously_Insured<\/th>\n",
       "      <th>Annual_Premium<\/th>\n",
       "      <th>Policy_Sales_Channel<\/th>\n",
       "      <th>Vintage<\/th>\n",
       "      <th>Response<\/th>\n",
       "      <th>Vehicle_Age_lt_1_Year<\/th>\n",
       "      <th>Vehicle_Age_gt_2_Years<\/th>\n",
       "      <th>Vehicle_Damage_Yes<\/th>\n",
       "    <\/tr>\n",
       "  <\/thead>\n",
       "  <tbody>\n",
       "    <tr>\n",
       "      <th>0<\/th>\n",
       "      <td>1<\/td>\n",
       "      <td>0.333777<\/td>\n",
       "      <td>1<\/td>\n",
       "      <td>28.0<\/td>\n",
       "      <td>0<\/td>\n",
       "      <td>0.070366<\/td>\n",
       "      <td>26.0<\/td>\n",
       "      <td>0.748795<\/td>\n",
       "      <td>1<\/td>\n",
       "      <td>0<\/td>\n",
       "      <td>1<\/td>\n",
       "      <td>1<\/td>\n",
       "    <\/tr>\n",
       "    <tr>\n",
       "      <th>1<\/th>\n",
       "      <td>1<\/td>\n",
       "      <td>2.396751<\/td>\n",
       "      <td>1<\/td>\n",
       "      <td>3.0<\/td>\n",
       "      <td>0<\/td>\n",
       "      <td>0.057496<\/td>\n",
       "      <td>26.0<\/td>\n",
       "      <td>0.342443<\/td>\n",
       "      <td>0<\/td>\n",
       "      <td>0<\/td>\n",
       "      <td>0<\/td>\n",
       "      <td>0<\/td>\n",
       "    <\/tr>\n",
       "    <tr>\n",
       "      <th>2<\/th>\n",
       "      <td>1<\/td>\n",
       "      <td>0.527181<\/td>\n",
       "      <td>1<\/td>\n",
       "      <td>28.0<\/td>\n",
       "      <td>0<\/td>\n",
       "      <td>0.066347<\/td>\n",
       "      <td>26.0<\/td>\n",
       "      <td>-1.521998<\/td>\n",
       "      <td>1<\/td>\n",
       "      <td>0<\/td>\n",
       "      <td>1<\/td>\n",
       "      <td>1<\/td>\n",
       "    <\/tr>\n",
       "    <tr>\n",
       "      <th>3<\/th>\n",
       "      <td>1<\/td>\n",
       "      <td>-1.148985<\/td>\n",
       "      <td>1<\/td>\n",
       "      <td>11.0<\/td>\n",
       "      <td>1<\/td>\n",
       "      <td>0.048348<\/td>\n",
       "      <td>152.0<\/td>\n",
       "      <td>0.581474<\/td>\n",
       "      <td>0<\/td>\n",
       "      <td>1<\/td>\n",
       "      <td>0<\/td>\n",
       "      <td>0<\/td>\n",
       "    <\/tr>\n",
       "    <tr>\n",
       "      <th>4<\/th>\n",
       "      <td>0<\/td>\n",
       "      <td>-0.633242<\/td>\n",
       "      <td>1<\/td>\n",
       "      <td>41.0<\/td>\n",
       "      <td>1<\/td>\n",
       "      <td>0.046259<\/td>\n",
       "      <td>152.0<\/td>\n",
       "      <td>-1.378580<\/td>\n",
       "      <td>0<\/td>\n",
       "      <td>1<\/td>\n",
       "      <td>0<\/td>\n",
       "      <td>0<\/td>\n",
       "    <\/tr>\n",
       "    <tr>\n",
       "      <th>...<\/th>\n",
       "      <td>...<\/td>\n",
       "      <td>...<\/td>\n",
       "      <td>...<\/td>\n",
       "      <td>...<\/td>\n",
       "      <td>...<\/td>\n",
       "      <td>...<\/td>\n",
       "      <td>...<\/td>\n",
       "      <td>...<\/td>\n",
       "      <td>...<\/td>\n",
       "      <td>...<\/td>\n",
       "      <td>...<\/td>\n",
       "      <td>...<\/td>\n",
       "    <\/tr>\n",
       "    <tr>\n",
       "      <th>381104<\/th>\n",
       "      <td>1<\/td>\n",
       "      <td>2.267815<\/td>\n",
       "      <td>1<\/td>\n",
       "      <td>26.0<\/td>\n",
       "      <td>1<\/td>\n",
       "      <td>0.051234<\/td>\n",
       "      <td>26.0<\/td>\n",
       "      <td>-0.792954<\/td>\n",
       "      <td>0<\/td>\n",
       "      <td>0<\/td>\n",
       "      <td>0<\/td>\n",
       "      <td>0<\/td>\n",
       "    <\/tr>\n",
       "    <tr>\n",
       "      <th>381105<\/th>\n",
       "      <td>1<\/td>\n",
       "      <td>-0.568774<\/td>\n",
       "      <td>1<\/td>\n",
       "      <td>37.0<\/td>\n",
       "      <td>1<\/td>\n",
       "      <td>0.069551<\/td>\n",
       "      <td>152.0<\/td>\n",
       "      <td>-0.279037<\/td>\n",
       "      <td>0<\/td>\n",
       "      <td>1<\/td>\n",
       "      <td>0<\/td>\n",
       "      <td>0<\/td>\n",
       "    <\/tr>\n",
       "    <tr>\n",
       "      <th>381106<\/th>\n",
       "      <td>1<\/td>\n",
       "      <td>-1.148985<\/td>\n",
       "      <td>1<\/td>\n",
       "      <td>30.0<\/td>\n",
       "      <td>1<\/td>\n",
       "      <td>0.060439<\/td>\n",
       "      <td>160.0<\/td>\n",
       "      <td>0.079509<\/td>\n",
       "      <td>0<\/td>\n",
       "      <td>1<\/td>\n",
       "      <td>0<\/td>\n",
       "      <td>0<\/td>\n",
       "    <\/tr>\n",
       "    <tr>\n",
       "      <th>381107<\/th>\n",
       "      <td>0<\/td>\n",
       "      <td>1.881007<\/td>\n",
       "      <td>1<\/td>\n",
       "      <td>14.0<\/td>\n",
       "      <td>0<\/td>\n",
       "      <td>0.078110<\/td>\n",
       "      <td>124.0<\/td>\n",
       "      <td>-0.960275<\/td>\n",
       "      <td>0<\/td>\n",
       "      <td>0<\/td>\n",
       "      <td>1<\/td>\n",
       "      <td>1<\/td>\n",
       "    <\/tr>\n",
       "    <tr>\n",
       "      <th>381108<\/th>\n",
       "      <td>1<\/td>\n",
       "      <td>0.462713<\/td>\n",
       "      <td>1<\/td>\n",
       "      <td>29.0<\/td>\n",
       "      <td>0<\/td>\n",
       "      <td>0.072827<\/td>\n",
       "      <td>26.0<\/td>\n",
       "      <td>0.987826<\/td>\n",
       "      <td>0<\/td>\n",
       "      <td>0<\/td>\n",
       "      <td>0<\/td>\n",
       "      <td>0<\/td>\n",
       "    <\/tr>\n",
       "  <\/tbody>\n",
       "<\/table>\n",
       "<p>381109 rows × 12 columns<\/p>\n",
       "<\/div>\n",
       "      <button class=\"colab-df-convert\" onclick=\"convertToInteractive('df-bdc0983e-f6f2-4a66-9019-8c5b05a0aaf2')\"\n",
       "              title=\"Convert this dataframe to an interactive table.\"\n",
       "              style=\"display:none;\">\n",
       "        \n",
       "  <svg xmlns=\"http:\/\/www.w3.org\/2000\/svg\" height=\"24px\"viewBox=\"0 0 24 24\"\n",
       "       width=\"24px\">\n",
       "    <path d=\"M0 0h24v24H0V0z\" fill=\"none\"\/>\n",
       "    <path d=\"M18.56 5.44l.94 2.06.94-2.06 2.06-.94-2.06-.94-.94-2.06-.94 2.06-2.06.94zm-11 1L8.5 8.5l.94-2.06 2.06-.94-2.06-.94L8.5 2.5l-.94 2.06-2.06.94zm10 10l.94 2.06.94-2.06 2.06-.94-2.06-.94-.94-2.06-.94 2.06-2.06.94z\"\/><path d=\"M17.41 7.96l-1.37-1.37c-.4-.4-.92-.59-1.43-.59-.52 0-1.04.2-1.43.59L10.3 9.45l-7.72 7.72c-.78.78-.78 2.05 0 2.83L4 21.41c.39.39.9.59 1.41.59.51 0 1.02-.2 1.41-.59l7.78-7.78 2.81-2.81c.8-.78.8-2.07 0-2.86zM5.41 20L4 18.59l7.72-7.72 1.47 1.35L5.41 20z\"\/>\n",
       "  <\/svg>\n",
       "      <\/button>\n",
       "      \n",
       "  <style>\n",
       "    .colab-df-container {\n",
       "      display:flex;\n",
       "      flex-wrap:wrap;\n",
       "      gap: 12px;\n",
       "    }\n",
       "\n",
       "    .colab-df-convert {\n",
       "      background-color: #E8F0FE;\n",
       "      border: none;\n",
       "      border-radius: 50%;\n",
       "      cursor: pointer;\n",
       "      display: none;\n",
       "      fill: #1967D2;\n",
       "      height: 32px;\n",
       "      padding: 0 0 0 0;\n",
       "      width: 32px;\n",
       "    }\n",
       "\n",
       "    .colab-df-convert:hover {\n",
       "      background-color: #E2EBFA;\n",
       "      box-shadow: 0px 1px 2px rgba(60, 64, 67, 0.3), 0px 1px 3px 1px rgba(60, 64, 67, 0.15);\n",
       "      fill: #174EA6;\n",
       "    }\n",
       "\n",
       "    [theme=dark] .colab-df-convert {\n",
       "      background-color: #3B4455;\n",
       "      fill: #D2E3FC;\n",
       "    }\n",
       "\n",
       "    [theme=dark] .colab-df-convert:hover {\n",
       "      background-color: #434B5C;\n",
       "      box-shadow: 0px 1px 3px 1px rgba(0, 0, 0, 0.15);\n",
       "      filter: drop-shadow(0px 1px 2px rgba(0, 0, 0, 0.3));\n",
       "      fill: #FFFFFF;\n",
       "    }\n",
       "  <\/style>\n",
       "\n",
       "      <script>\n",
       "        const buttonEl =\n",
       "          document.querySelector('#df-bdc0983e-f6f2-4a66-9019-8c5b05a0aaf2 button.colab-df-convert');\n",
       "        buttonEl.style.display =\n",
       "          google.colab.kernel.accessAllowed ? 'block' : 'none';\n",
       "\n",
       "        async function convertToInteractive(key) {\n",
       "          const element = document.querySelector('#df-bdc0983e-f6f2-4a66-9019-8c5b05a0aaf2');\n",
       "          const dataTable =\n",
       "            await google.colab.kernel.invokeFunction('convertToInteractive',\n",
       "                                                     [key], {});\n",
       "          if (!dataTable) return;\n",
       "\n",
       "          const docLinkHtml = 'Like what you see? Visit the ' +\n",
       "            '<a target=\"_blank\" href=https:\/\/colab.research.google.com\/notebooks\/data_table.ipynb>data table notebook<\/a>'\n",
       "            + ' to learn more about interactive tables.';\n",
       "          element.innerHTML = '';\n",
       "          dataTable['output_type'] = 'display_data';\n",
       "          await google.colab.output.renderOutput(dataTable, element);\n",
       "          const docLink = document.createElement('div');\n",
       "          docLink.innerHTML = docLinkHtml;\n",
       "          element.appendChild(docLink);\n",
       "        }\n",
       "      <\/script>\n",
       "    <\/div>\n",
       "  <\/div>\n",
       "  "
      ]
     },
     "metadata":{
      
     },
     "output_type":"display_data"
    }
   ],
   "metadata":{
    "datalore":{
     "node_id":"YcnciF8kSMQ47hgD4jnOE9",
     "type":"CODE",
     "hide_input_from_viewers":false,
     "hide_output_from_viewers":false
    }
   }
  },
  {
   "cell_type":"code",
   "source":[
    "test['Gender'] = test['Gender'].map( {'Female': 0, 'Male': 1} ).astype(int)\n",
    "test=pd.get_dummies(test,drop_first=True)\n",
    "test=test.rename(columns={\"Vehicle_Age_< 1 Year\": \"Vehicle_Age_lt_1_Year\", \"Vehicle_Age_> 2 Years\": \"Vehicle_Age_gt_2_Years\"})\n",
    "test['Vehicle_Age_lt_1_Year']=test['Vehicle_Age_lt_1_Year'].astype('int')\n",
    "test['Vehicle_Age_gt_2_Years']=test['Vehicle_Age_gt_2_Years'].astype('int')\n",
    "test['Vehicle_Damage_Yes']=test['Vehicle_Damage_Yes'].astype('int')\n",
    "from sklearn.preprocessing import LabelEncoder, StandardScaler, MinMaxScaler, RobustScaler\n",
    "ss = StandardScaler()\n",
    "test[num_feat] = ss.fit_transform(test[num_feat])\n",
    "\n",
    "\n",
    "mm = MinMaxScaler()\n",
    "test[['Annual_Premium']] = mm.fit_transform(test[['Annual_Premium']])\n",
    "for column in cat_feat:\n",
    "    test[column] = test[column].astype('str')\n",
    "from sklearn.model_selection import train_test_split\n",
    "\n",
    "train_target=train['Response']\n",
    "train=train.drop(['Response'], axis = 1)\n",
    "x_train,x_test,y_train,y_test = train_test_split(train,train_target, random_state = 0)\n",
    "id=test.id\n",
    "test=test.drop('id',axis=1)\n",
    "x_train.columns"
   ],
   "execution_count":null,
   "outputs":[
    {
     "data":{
      "text\/plain":[
       "Index(['Gender', 'Age', 'Driving_License', 'Region_Code', 'Previously_Insured',\n",
       "       'Annual_Premium', 'Policy_Sales_Channel', 'Vintage',\n",
       "       'Vehicle_Age_lt_1_Year', 'Vehicle_Age_gt_2_Years',\n",
       "       'Vehicle_Damage_Yes'],\n",
       "      dtype='object')"
      ]
     },
     "metadata":{
      
     },
     "output_type":"display_data"
    }
   ],
   "metadata":{
    "datalore":{
     "node_id":"UwXIHIpuy5wGF4dPgXabVr",
     "type":"CODE",
     "hide_input_from_viewers":false,
     "hide_output_from_viewers":false
    }
   }
  },
  {
   "cell_type":"code",
   "source":[
    "!python -m pip install --upgrade pip\n",
    "!pip install catboost\n",
    "!pip install lightgbm\n",
    "!pip install hyperopt\n",
    "from sklearn.model_selection import RandomizedSearchCV\n",
    "from sklearn.model_selection import cross_val_score\n",
    "from sklearn.ensemble import RandomForestClassifier\n",
    "from catboost import CatBoostClassifier\n",
    "from scipy.stats import randint\n",
    "import pickle\n",
    "import xgboost as xgb\n",
    "import lightgbm as lgb\n",
    "from sklearn.metrics import accuracy_score\n",
    "from hyperopt import STATUS_OK, Trials, fmin, hp, tpe\n",
    "from sklearn.model_selection import train_test_split, RandomizedSearchCV, StratifiedKFold, KFold, GridSearchCV\n",
    "from sklearn.metrics import f1_score, roc_auc_score,accuracy_score,confusion_matrix, precision_recall_curve, auc, roc_curve, recall_score, classification_report "
   ],
   "execution_count":22,
   "outputs":[
    {
     "name":"stdout",
     "text":[
      "Requirement already satisfied: pip in \/opt\/python\/envs\/default\/lib\/python3.8\/site-packages (21.3.1)\r\n",
      "Collecting pip\r\n",
      "  Downloading pip-22.2.2-py3-none-any.whl (2.0 MB)\r\n",
      "\u001b[?25l\r\r     |▏                               | 10 kB 30.8 MB\/s eta 0:00:01\r     |▎                               | 20 kB 35.6 MB\/s eta 0:00:01\r     |▌                               | 30 kB 43.5 MB\/s eta 0:00:01\r     |▋                               | 40 kB 45.6 MB\/s eta 0:00:01\r     |▉                               | 51 kB 34.9 MB\/s eta 0:00:01\r     |█                               | 61 kB 38.4 MB\/s eta 0:00:01\r     |█▏                              | 71 kB 40.8 MB\/s eta 0:00:01\r     |█▎                              | 81 kB 43.5 MB\/s eta 0:00:01\r     |█▍                              | 92 kB 45.5 MB\/s eta 0:00:01\r     |█▋                              | 102 kB 47.0 MB\/s eta 0:00:01\r     |█▊                              | 112 kB 47.0 MB\/s eta 0:00:01\r     |██                              | 122 kB 47.0 MB\/s eta 0:00:01\r     |██                              | 133 kB 47.0 MB\/s eta 0:00:01\r     |██▎                             | 143 kB 47.0 MB\/s eta 0:00:01\r     |██▍                             | 153 kB 47.0 MB\/s eta 0:00:01\r     |██▋                             | 163 kB 47.0 MB\/s eta 0:00:01\r     |██▊                             | 174 kB 47.0 MB\/s eta 0:00:01\r     |██▉                             | 184 kB 47.0 MB\/s eta 0:00:01\r     |███                             | 194 kB 47.0 MB\/s eta 0:00:01\r     |███▏                            | 204 kB 47.0 MB\/s eta 0:00:01\r     |███▍                            | 215 kB 47.0 MB\/s eta 0:00:01\r     |███▌                            | 225 kB 47.0 MB\/s eta 0:00:01\r     |███▊                            | 235 kB 47.0 MB\/s eta 0:00:01\r     |███▉                            | 245 kB 47.0 MB\/s eta 0:00:01\r     |████                            | 256 kB 47.0 MB\/s eta 0:00:01\r     |████▏                           | 266 kB 47.0 MB\/s eta 0:00:01\r     |████▎                           | 276 kB 47.0 MB\/s eta 0:00:01\r     |████▌                           | 286 kB 47.0 MB\/s eta 0:00:01\r     |████▋                           | 296 kB 47.0 MB\/s eta 0:00:01\r     |████▉                           | 307 kB 47.0 MB\/s eta 0:00:01\r     |█████                           | 317 kB 47.0 MB\/s eta 0:00:01\r     |█████▏                          | 327 kB 47.0 MB\/s eta 0:00:01\r     |█████▎                          | 337 kB 47.0 MB\/s eta 0:00:01\r     |█████▌                          | 348 kB 47.0 MB\/s eta 0:00:01\r     |█████▋                          | 358 kB 47.0 MB\/s eta 0:00:01\r     |█████▊                          | 368 kB 47.0 MB\/s eta 0:00:01\r     |██████                          | 378 kB 47.0 MB\/s eta 0:00:01\r     |██████                          | 389 kB 47.0 MB\/s eta 0:00:01\r     |██████▎                         | 399 kB 47.0 MB\/s eta 0:00:01\r     |██████▍                         | 409 kB 47.0 MB\/s eta 0:00:01\r     |██████▋                         | 419 kB 47.0 MB\/s eta 0:00:01\r     |██████▊                         | 430 kB 47.0 MB\/s eta 0:00:01\r     |███████                         | 440 kB 47.0 MB\/s eta 0:00:01\r     |███████                         | 450 kB 47.0 MB\/s eta 0:00:01\r     |███████▏                        | 460 kB 47.0 MB\/s eta 0:00:01\r     |███████▍                        | 471 kB 47.0 MB\/s eta 0:00:01\r     |███████▌                        | 481 kB 47.0 MB\/s eta 0:00:01\r     |███████▊                        | 491 kB 47.0 MB\/s eta 0:00:01\r     |███████▉                        | 501 kB 47.0 MB\/s eta 0:00:01\r     |████████                        | 512 kB 47.0 MB\/s eta 0:00:01\r     |████████▏                       | 522 kB 47.0 MB\/s eta 0:00:01\r     |████████▍                       | 532 kB 47.0 MB\/s eta 0:00:01\r     |████████▌                       | 542 kB 47.0 MB\/s eta 0:00:01\r     |████████▋                       | 552 kB 47.0 MB\/s eta 0:00:01\r     |████████▉                       | 563 kB 47.0 MB\/s eta 0:00:01\r     |█████████                       | 573 kB 47.0 MB\/s eta 0:00:01\r     |█████████▏                      | 583 kB 47.0 MB\/s eta 0:00:01\r     |█████████▎                      | 593 kB 47.0 MB\/s eta 0:00:01\r     |█████████▌                      | 604 kB 47.0 MB\/s eta 0:00:01\r     |█████████▋                      | 614 kB 47.0 MB\/s eta 0:00:01\r     |█████████▊                      | 624 kB 47.0 MB\/s eta 0:00:01\r     |██████████                      | 634 kB 47.0 MB\/s eta 0:00:01\r     |██████████                      | 645 kB 47.0 MB\/s eta 0:00:01\r     |██████████▎                     | 655 kB 47.0 MB\/s eta 0:00:01\r     |██████████▍                     | 665 kB 47.0 MB\/s eta 0:00:01\r     |██████████▋                     | 675 kB 47.0 MB\/s eta 0:00:01\r     |██████████▊                     | 686 kB 47.0 MB\/s eta 0:00:01\r     |███████████                     | 696 kB 47.0 MB\/s eta 0:00:01\r     |███████████                     | 706 kB 47.0 MB\/s eta 0:00:01\r     |███████████▏                    | 716 kB 47.0 MB\/s eta 0:00:01\r     |███████████▍                    | 727 kB 47.0 MB\/s eta 0:00:01\r     |███████████▌                    | 737 kB 47.0 MB\/s eta 0:00:01\r     |███████████▊                    | 747 kB 47.0 MB\/s eta 0:00:01\r     |███████████▉                    | 757 kB 47.0 MB\/s eta 0:00:01\r     |████████████                    | 768 kB 47.0 MB\/s eta 0:00:01\r     |████████████▏                   | 778 kB 47.0 MB\/s eta 0:00:01\r     |████████████▍                   | 788 kB 47.0 MB\/s eta 0:00:01\r     |████████████▌                   | 798 kB 47.0 MB\/s eta 0:00:01\r     |████████████▋                   | 808 kB 47.0 MB\/s eta 0:00:01\r     |████████████▉                   | 819 kB 47.0 MB\/s eta 0:00:01\r     |█████████████                   | 829 kB 47.0 MB\/s eta 0:00:01\r     |█████████████▏                  | 839 kB 47.0 MB\/s eta 0:00:01\r     |█████████████▎                  | 849 kB 47.0 MB\/s eta 0:00:01\r     |█████████████▌                  | 860 kB 47.0 MB\/s eta 0:00:01\r     |█████████████▋                  | 870 kB 47.0 MB\/s eta 0:00:01\r     |█████████████▉                  | 880 kB 47.0 MB\/s eta 0:00:01\r     |██████████████                  | 890 kB 47.0 MB\/s eta 0:00:01\r     |██████████████                  | 901 kB 47.0 MB\/s eta 0:00:01\r     |██████████████▎                 | 911 kB 47.0 MB\/s eta 0:00:01\r     |██████████████▍                 | 921 kB 47.0 MB\/s eta 0:00:01\r     |██████████████▋                 | 931 kB 47.0 MB\/s eta 0:00:01\r     |██████████████▊                 | 942 kB 47.0 MB\/s eta 0:00:01\r     |███████████████                 | 952 kB 47.0 MB\/s eta 0:00:01\r     |███████████████                 | 962 kB 47.0 MB\/s eta 0:00:01\r     |███████████████▎                | 972 kB 47.0 MB\/s eta 0:00:01\r     |███████████████▍                | 983 kB 47.0 MB\/s eta 0:00:01\r     |███████████████▌                | 993 kB 47.0 MB\/s eta 0:00:01\r     |███████████████▊                | 1.0 MB 47.0 MB\/s eta 0:00:01\r     |███████████████▉                | 1.0 MB 47.0 MB\/s eta 0:00:01\r     |████████████████                | 1.0 MB 47.0 MB\/s eta 0:00:01\r     |████████████████▏               | 1.0 MB 47.0 MB\/s eta 0:00:01\r     |████████████████▍               | 1.0 MB 47.0 MB\/s eta 0:00:01\r     |████████████████▌               | 1.1 MB 47.0 MB\/s eta 0:00:01\r     |████████████████▊               | 1.1 MB 47.0 MB\/s eta 0:00:01\r     |████████████████▉               | 1.1 MB 47.0 MB\/s eta 0:00:01\r     |█████████████████               | 1.1 MB 47.0 MB\/s eta 0:00:01\r     |█████████████████▏              | 1.1 MB 47.0 MB\/s eta 0:00:01\r     |█████████████████▎              | 1.1 MB 47.0 MB\/s eta 0:00:01\r     |█████████████████▌              | 1.1 MB 47.0 MB\/s eta 0:00:01\r     |█████████████████▋              | 1.1 MB 47.0 MB\/s eta 0:00:01\r     |█████████████████▉              | 1.1 MB 47.0 MB\/s eta 0:00:01\r     |██████████████████              | 1.1 MB 47.0 MB\/s eta 0:00:01\r     |██████████████████              | 1.2 MB 47.0 MB\/s eta 0:00:01\r     |██████████████████▎             | 1.2 MB 47.0 MB\/s eta 0:00:01\r     |██████████████████▍             | 1.2 MB 47.0 MB\/s eta 0:00:01\r     |██████████████████▋             | 1.2 MB 47.0 MB\/s eta 0:00:01\r     |██████████████████▊             | 1.2 MB 47.0 MB\/s eta 0:00:01\r     |███████████████████             | 1.2 MB 47.0 MB\/s eta 0:00:01\r     |███████████████████             | 1.2 MB 47.0 MB\/s eta 0:00:01\r     |███████████████████▎            | 1.2 MB 47.0 MB\/s eta 0:00:01\r     |███████████████████▍            | 1.2 MB 47.0 MB\/s eta 0:00:01\r     |███████████████████▌            | 1.2 MB 47.0 MB\/s eta 0:00:01\r     |███████████████████▊            | 1.3 MB 47.0 MB\/s eta 0:00:01\r     |███████████████████▉            | 1.3 MB 47.0 MB\/s eta 0:00:01\r     |████████████████████            | 1.3 MB 47.0 MB\/s eta 0:00:01\r     |████████████████████▏           | 1.3 MB 47.0 MB\/s eta 0:00:01\r     |████████████████████▍           | 1.3 MB 47.0 MB\/s eta 0:00:01\r     |████████████████████▌           | 1.3 MB 47.0 MB\/s eta 0:00:01\r     |████████████████████▊           | 1.3 MB 47.0 MB\/s eta 0:00:01\r     |████████████████████▉           | 1.3 MB 47.0 MB\/s eta 0:00:01\r     |█████████████████████           | 1.3 MB 47.0 MB\/s eta 0:00:01\r     |█████████████████████▏          | 1.4 MB 47.0 MB\/s eta 0:00:01\r     |█████████████████████▎          | 1.4 MB 47.0 MB\/s eta 0:00:01\r     |█████████████████████▌          | 1.4 MB 47.0 MB\/s eta 0:00:01\r     |█████████████████████▋          | 1.4 MB 47.0 MB\/s eta 0:00:01\r     |█████████████████████▉          | 1.4 MB 47.0 MB\/s eta 0:00:01\r     |██████████████████████          | 1.4 MB 47.0 MB\/s eta 0:00:01\r     |██████████████████████▏         | 1.4 MB 47.0 MB\/s eta 0:00:01\r     |██████████████████████▎         | 1.4 MB 47.0 MB\/s eta 0:00:01\r     |██████████████████████▍         | 1.4 MB 47.0 MB\/s eta 0:00:01\r     |██████████████████████▋         | 1.4 MB 47.0 MB\/s eta 0:00:01\r     |██████████████████████▊         | 1.5 MB 47.0 MB\/s eta 0:00:01\r     |███████████████████████         | 1.5 MB 47.0 MB\/s eta 0:00:01\r     |███████████████████████         | 1.5 MB 47.0 MB\/s eta 0:00:01\r     |███████████████████████▎        | 1.5 MB 47.0 MB\/s eta 0:00:01\r     |███████████████████████▍        | 1.5 MB 47.0 MB\/s eta 0:00:01\r     |███████████████████████▋        | 1.5 MB 47.0 MB\/s eta 0:00:01\r     |███████████████████████▊        | 1.5 MB 47.0 MB\/s eta 0:00:01\r     |███████████████████████▉        | 1.5 MB 47.0 MB\/s eta 0:00:01\r     |████████████████████████        | 1.5 MB 47.0 MB\/s eta 0:00:01\r     |████████████████████████▏       | 1.5 MB 47.0 MB\/s eta 0:00:01\r     |████████████████████████▍       | 1.6 MB 47.0 MB\/s eta 0:00:01\r     |████████████████████████▌       | 1.6 MB 47.0 MB\/s eta 0:00:01\r     |████████████████████████▊       | 1.6 MB 47.0 MB\/s eta 0:00:01\r     |████████████████████████▉       | 1.6 MB 47.0 MB\/s eta 0:00:01\r     |█████████████████████████       | 1.6 MB 47.0 MB\/s eta 0:00:01\r     |█████████████████████████▏      | 1.6 MB 47.0 MB\/s eta 0:00:01\r     |█████████████████████████▎      | 1.6 MB 47.0 MB\/s eta 0:00:01\r     |█████████████████████████▌      | 1.6 MB 47.0 MB\/s eta 0:00:01\r     |█████████████████████████▋      | 1.6 MB 47.0 MB\/s eta 0:00:01\r     |█████████████████████████▉      | 1.6 MB 47.0 MB\/s eta 0:00:01\r     |██████████████████████████      | 1.7 MB 47.0 MB\/s eta 0:00:01\r     |██████████████████████████▏     | 1.7 MB 47.0 MB\/s eta 0:00:01\r     |██████████████████████████▎     | 1.7 MB 47.0 MB\/s eta 0:00:01\r     |██████████████████████████▍     | 1.7 MB 47.0 MB\/s eta 0:00:01\r     |██████████████████████████▋     | 1.7 MB 47.0 MB\/s eta 0:00:01\r     |██████████████████████████▊     | 1.7 MB 47.0 MB\/s eta 0:00:01\r     |███████████████████████████     | 1.7 MB 47.0 MB\/s eta 0:00:01\r     |███████████████████████████     | 1.7 MB 47.0 MB\/s eta 0:00:01\r     |███████████████████████████▎    | 1.7 MB 47.0 MB\/s eta 0:00:01\r     |███████████████████████████▍    | 1.8 MB 47.0 MB\/s eta 0:00:01\r     |███████████████████████████▋    | 1.8 MB 47.0 MB\/s eta 0:00:01\r     |███████████████████████████▊    | 1.8 MB 47.0 MB\/s eta 0:00:01\r     |███████████████████████████▉    | 1.8 MB 47.0 MB\/s eta 0:00:01\r     |████████████████████████████    | 1.8 MB 47.0 MB\/s eta 0:00:01\r     |████████████████████████████▏   | 1.8 MB 47.0 MB\/s eta 0:00:01\r     |████████████████████████████▍   | 1.8 MB 47.0 MB\/s eta 0:00:01\r     |████████████████████████████▌   | 1.8 MB 47.0 MB\/s eta 0:00:01\r     |████████████████████████████▊   | 1.8 MB 47.0 MB\/s eta 0:00:01\r     |████████████████████████████▉   | 1.8 MB 47.0 MB\/s eta 0:00:01\r     |█████████████████████████████   | 1.9 MB 47.0 MB\/s eta 0:00:01\r     |█████████████████████████████▏  | 1.9 MB 47.0 MB\/s eta 0:00:01\r     |█████████████████████████████▎  | 1.9 MB 47.0 MB\/s eta 0:00:01\r     |█████████████████████████████▌  | 1.9 MB 47.0 MB\/s eta 0:00:01\r     |█████████████████████████████▋  | 1.9 MB 47.0 MB\/s eta 0:00:01\r     |█████████████████████████████▉  | 1.9 MB 47.0 MB\/s eta 0:00:01\r     |██████████████████████████████  | 1.9 MB 47.0 MB\/s eta 0:00:01\r     |██████████████████████████████▏ | 1.9 MB 47.0 MB\/s eta 0:00:01\r     |██████████████████████████████▎ | 1.9 MB 47.0 MB\/s eta 0:00:01\r     |██████████████████████████████▌ | 1.9 MB 47.0 MB\/s eta 0:00:01\r     |██████████████████████████████▋ | 2.0 MB 47.0 MB\/s eta 0:00:01\r     |██████████████████████████████▊ | 2.0 MB 47.0 MB\/s eta 0:00:01\r     |███████████████████████████████ | 2.0 MB 47.0 MB\/s eta 0:00:01\r     |███████████████████████████████ | 2.0 MB 47.0 MB\/s eta 0:00:01\r     |███████████████████████████████▎| 2.0 MB 47.0 MB\/s eta 0:00:01\r     |███████████████████████████████▍| 2.0 MB 47.0 MB\/s eta 0:00:01\r     |███████████████████████████████▋| 2.0 MB 47.0 MB\/s eta 0:00:01\r     |███████████████████████████████▊| 2.0 MB 47.0 MB\/s eta 0:00:01\r     |████████████████████████████████| 2.0 MB 47.0 MB\/s eta 0:00:01\r     |████████████████████████████████| 2.0 MB 47.0 MB\/s            \r\n",
      "\u001b[?25hInstalling collected packages: pip\r\n",
      "  Attempting uninstall: pip\r\n",
      "    Found existing installation: pip 21.3.1\r\n",
      "    Uninstalling pip-21.3.1:\r\n",
      "      Successfully uninstalled pip-21.3.1\r\n",
      "Successfully installed pip-22.2.2\r\n",
      "Requirement already satisfied: catboost in \/opt\/python\/envs\/default\/lib\/python3.8\/site-packages (1.1)\r\n",
      "Requirement already satisfied: matplotlib in \/opt\/python\/envs\/default\/lib\/python3.8\/site-packages (from catboost) (3.5.1)\r\n",
      "Requirement already satisfied: graphviz in \/opt\/python\/envs\/default\/lib\/python3.8\/site-packages (from catboost) (0.20.1)\r\n",
      "Requirement already satisfied: plotly in \/opt\/python\/envs\/default\/lib\/python3.8\/site-packages (from catboost) (5.5.0)\r\n",
      "Requirement already satisfied: pandas>=0.24.0 in \/opt\/python\/envs\/default\/lib\/python3.8\/site-packages (from catboost) (1.3.5)\r\n",
      "Requirement already satisfied: scipy in \/opt\/python\/envs\/default\/lib\/python3.8\/site-packages (from catboost) (1.7.3)\r\n",
      "Requirement already satisfied: numpy>=1.16.0 in \/opt\/python\/envs\/default\/lib\/python3.8\/site-packages (from catboost) (1.21.5)\r\n",
      "Requirement already satisfied: six in \/opt\/python\/envs\/default\/lib\/python3.8\/site-packages (from catboost) (1.16.0)\r\n",
      "Requirement already satisfied: python-dateutil>=2.7.3 in \/opt\/python\/envs\/default\/lib\/python3.8\/site-packages (from pandas>=0.24.0->catboost) (2.8.2)\r\n",
      "Requirement already satisfied: pytz>=2017.3 in \/opt\/python\/envs\/default\/lib\/python3.8\/site-packages (from pandas>=0.24.0->catboost) (2022.2.1)\r\n",
      "Requirement already satisfied: fonttools>=4.22.0 in \/opt\/python\/envs\/default\/lib\/python3.8\/site-packages (from matplotlib->catboost) (4.37.1)\r\n",
      "Requirement already satisfied: packaging>=20.0 in \/opt\/python\/envs\/default\/lib\/python3.8\/site-packages (from matplotlib->catboost) (21.3)\r\n",
      "Requirement already satisfied: kiwisolver>=1.0.1 in \/opt\/python\/envs\/default\/lib\/python3.8\/site-packages (from matplotlib->catboost) (1.4.4)\r\n",
      "Requirement already satisfied: pyparsing>=2.2.1 in \/opt\/python\/envs\/default\/lib\/python3.8\/site-packages (from matplotlib->catboost) (3.0.9)\r\n",
      "Requirement already satisfied: pillow>=6.2.0 in \/opt\/python\/envs\/default\/lib\/python3.8\/site-packages (from matplotlib->catboost) (9.2.0)\r\n",
      "Requirement already satisfied: cycler>=0.10 in \/opt\/python\/envs\/default\/lib\/python3.8\/site-packages (from matplotlib->catboost) (0.11.0)\r\n",
      "Requirement already satisfied: tenacity>=6.2.0 in \/opt\/python\/envs\/default\/lib\/python3.8\/site-packages (from plotly->catboost) (8.0.1)\r\n",
      "Requirement already satisfied: lightgbm in \/opt\/python\/envs\/default\/lib\/python3.8\/site-packages (3.3.2)\r\n",
      "Requirement already satisfied: scipy in \/opt\/python\/envs\/default\/lib\/python3.8\/site-packages (from lightgbm) (1.7.3)\r\n",
      "Requirement already satisfied: wheel in \/opt\/python\/envs\/default\/lib\/python3.8\/site-packages (from lightgbm) (0.37.1)\r\n",
      "Requirement already satisfied: scikit-learn!=0.22.0 in \/opt\/python\/envs\/default\/lib\/python3.8\/site-packages (from lightgbm) (1.1.2)\r\n",
      "Requirement already satisfied: numpy in \/opt\/python\/envs\/default\/lib\/python3.8\/site-packages (from lightgbm) (1.21.5)\r\n",
      "Requirement already satisfied: threadpoolctl>=2.0.0 in \/opt\/python\/envs\/default\/lib\/python3.8\/site-packages (from scikit-learn!=0.22.0->lightgbm) (3.1.0)\r\n",
      "Requirement already satisfied: joblib>=1.0.0 in \/opt\/python\/envs\/default\/lib\/python3.8\/site-packages (from scikit-learn!=0.22.0->lightgbm) (1.1.0)\r\n",
      "Requirement already satisfied: hyperopt in \/opt\/python\/envs\/default\/lib\/python3.8\/site-packages (0.2.7)\r\n",
      "Requirement already satisfied: networkx>=2.2 in \/opt\/python\/envs\/default\/lib\/python3.8\/site-packages (from hyperopt) (2.8.6)\r\n",
      "Requirement already satisfied: py4j in \/opt\/python\/envs\/default\/lib\/python3.8\/site-packages (from hyperopt) (0.10.9.2)\r\n",
      "Requirement already satisfied: cloudpickle in \/opt\/python\/envs\/default\/lib\/python3.8\/site-packages (from hyperopt) (2.2.0)\r\n",
      "Requirement already satisfied: numpy in \/opt\/python\/envs\/default\/lib\/python3.8\/site-packages (from hyperopt) (1.21.5)\r\n",
      "Requirement already satisfied: scipy in \/opt\/python\/envs\/default\/lib\/python3.8\/site-packages (from hyperopt) (1.7.3)\r\n",
      "Requirement already satisfied: tqdm in \/opt\/python\/envs\/default\/lib\/python3.8\/site-packages (from hyperopt) (4.64.0)\r\n",
      "Requirement already satisfied: future in \/opt\/python\/envs\/default\/lib\/python3.8\/site-packages (from hyperopt) (0.18.2)\r\n",
      "Requirement already satisfied: six in \/opt\/python\/envs\/default\/lib\/python3.8\/site-packages (from hyperopt) (1.16.0)\r\n"
     ],
     "output_type":"stream"
    }
   ],
   "metadata":{
    "datalore":{
     "node_id":"JQcj0q6RXQxmtpoP8QwXZq",
     "type":"CODE",
     "hide_input_from_viewers":false,
     "hide_output_from_viewers":false
    }
   }
  },
  {
   "cell_type":"code",
   "source":[
    "filename = 'rf_model.sav'\n",
    "pickle.dump(model, open(filename, 'wb'))\n",
    "filename = 'rf_model.sav'\n",
    "rf_load = pickle.load(open(filename, 'rb'))"
   ],
   "execution_count":12,
   "outputs":[
    
   ],
   "metadata":{
    "datalore":{
     "node_id":"n1u028ddxcnHvGH6ryim9Q",
     "type":"CODE",
     "hide_input_from_viewers":false,
     "hide_output_from_viewers":false
    }
   }
  },
  {
   "cell_type":"code",
   "source":[
    "random_state=42\n",
    "n_iter=50\n",
    "num_folds=2\n",
    "kf = KFold(n_splits=num_folds, random_state=random_state,shuffle=True)"
   ],
   "execution_count":17,
   "outputs":[
    
   ],
   "metadata":{
    "datalore":{
     "node_id":"zL4LrJpl4MmkssyQuHQQCM",
     "type":"CODE",
     "hide_input_from_viewers":false,
     "hide_output_from_viewers":false
    }
   }
  },
  {
   "cell_type":"code",
   "source":[
    "test"
   ],
   "execution_count":20,
   "outputs":[
    {
     "data":{
      "text\/html":[
       "<div>\n",
       "<style scoped>\n",
       "    .dataframe tbody tr th:only-of-type {\n",
       "        vertical-align: middle;\n",
       "    }\n",
       "\n",
       "    .dataframe tbody tr th {\n",
       "        vertical-align: top;\n",
       "    }\n",
       "\n",
       "    .dataframe thead th {\n",
       "        text-align: right;\n",
       "    }\n",
       "<\/style>\n",
       "<table border=\"1\" class=\"dataframe\">\n",
       "  <thead>\n",
       "    <tr style=\"text-align: right;\">\n",
       "      <th><\/th>\n",
       "      <th>id<\/th>\n",
       "      <th>Gender<\/th>\n",
       "      <th>Age<\/th>\n",
       "      <th>Driving_License<\/th>\n",
       "      <th>Region_Code<\/th>\n",
       "      <th>Previously_Insured<\/th>\n",
       "      <th>Vehicle_Age<\/th>\n",
       "      <th>Vehicle_Damage<\/th>\n",
       "      <th>Annual_Premium<\/th>\n",
       "      <th>Policy_Sales_Channel<\/th>\n",
       "      <th>Vintage<\/th>\n",
       "    <\/tr>\n",
       "  <\/thead>\n",
       "  <tbody>\n",
       "    <tr>\n",
       "      <th>0<\/th>\n",
       "      <td>381110<\/td>\n",
       "      <td>Male<\/td>\n",
       "      <td>25<\/td>\n",
       "      <td>1<\/td>\n",
       "      <td>11.0<\/td>\n",
       "      <td>1<\/td>\n",
       "      <td>&lt; 1 Year<\/td>\n",
       "      <td>No<\/td>\n",
       "      <td>35786.0<\/td>\n",
       "      <td>152.0<\/td>\n",
       "      <td>53<\/td>\n",
       "    <\/tr>\n",
       "    <tr>\n",
       "      <th>1<\/th>\n",
       "      <td>381111<\/td>\n",
       "      <td>Male<\/td>\n",
       "      <td>40<\/td>\n",
       "      <td>1<\/td>\n",
       "      <td>28.0<\/td>\n",
       "      <td>0<\/td>\n",
       "      <td>1-2 Year<\/td>\n",
       "      <td>Yes<\/td>\n",
       "      <td>33762.0<\/td>\n",
       "      <td>7.0<\/td>\n",
       "      <td>111<\/td>\n",
       "    <\/tr>\n",
       "    <tr>\n",
       "      <th>2<\/th>\n",
       "      <td>381112<\/td>\n",
       "      <td>Male<\/td>\n",
       "      <td>47<\/td>\n",
       "      <td>1<\/td>\n",
       "      <td>28.0<\/td>\n",
       "      <td>0<\/td>\n",
       "      <td>1-2 Year<\/td>\n",
       "      <td>Yes<\/td>\n",
       "      <td>40050.0<\/td>\n",
       "      <td>124.0<\/td>\n",
       "      <td>199<\/td>\n",
       "    <\/tr>\n",
       "    <tr>\n",
       "      <th>3<\/th>\n",
       "      <td>381113<\/td>\n",
       "      <td>Male<\/td>\n",
       "      <td>24<\/td>\n",
       "      <td>1<\/td>\n",
       "      <td>27.0<\/td>\n",
       "      <td>1<\/td>\n",
       "      <td>&lt; 1 Year<\/td>\n",
       "      <td>Yes<\/td>\n",
       "      <td>37356.0<\/td>\n",
       "      <td>152.0<\/td>\n",
       "      <td>187<\/td>\n",
       "    <\/tr>\n",
       "    <tr>\n",
       "      <th>4<\/th>\n",
       "      <td>381114<\/td>\n",
       "      <td>Male<\/td>\n",
       "      <td>27<\/td>\n",
       "      <td>1<\/td>\n",
       "      <td>28.0<\/td>\n",
       "      <td>1<\/td>\n",
       "      <td>&lt; 1 Year<\/td>\n",
       "      <td>No<\/td>\n",
       "      <td>59097.0<\/td>\n",
       "      <td>152.0<\/td>\n",
       "      <td>297<\/td>\n",
       "    <\/tr>\n",
       "    <tr>\n",
       "      <th>...<\/th>\n",
       "      <td>...<\/td>\n",
       "      <td>...<\/td>\n",
       "      <td>...<\/td>\n",
       "      <td>...<\/td>\n",
       "      <td>...<\/td>\n",
       "      <td>...<\/td>\n",
       "      <td>...<\/td>\n",
       "      <td>...<\/td>\n",
       "      <td>...<\/td>\n",
       "      <td>...<\/td>\n",
       "      <td>...<\/td>\n",
       "    <\/tr>\n",
       "    <tr>\n",
       "      <th>127032<\/th>\n",
       "      <td>508142<\/td>\n",
       "      <td>Female<\/td>\n",
       "      <td>26<\/td>\n",
       "      <td>1<\/td>\n",
       "      <td>37.0<\/td>\n",
       "      <td>1<\/td>\n",
       "      <td>&lt; 1 Year<\/td>\n",
       "      <td>No<\/td>\n",
       "      <td>30867.0<\/td>\n",
       "      <td>152.0<\/td>\n",
       "      <td>56<\/td>\n",
       "    <\/tr>\n",
       "    <tr>\n",
       "      <th>127033<\/th>\n",
       "      <td>508143<\/td>\n",
       "      <td>Female<\/td>\n",
       "      <td>38<\/td>\n",
       "      <td>1<\/td>\n",
       "      <td>28.0<\/td>\n",
       "      <td>0<\/td>\n",
       "      <td>1-2 Year<\/td>\n",
       "      <td>Yes<\/td>\n",
       "      <td>28700.0<\/td>\n",
       "      <td>122.0<\/td>\n",
       "      <td>165<\/td>\n",
       "    <\/tr>\n",
       "    <tr>\n",
       "      <th>127034<\/th>\n",
       "      <td>508144<\/td>\n",
       "      <td>Male<\/td>\n",
       "      <td>21<\/td>\n",
       "      <td>1<\/td>\n",
       "      <td>46.0<\/td>\n",
       "      <td>1<\/td>\n",
       "      <td>&lt; 1 Year<\/td>\n",
       "      <td>No<\/td>\n",
       "      <td>29802.0<\/td>\n",
       "      <td>152.0<\/td>\n",
       "      <td>74<\/td>\n",
       "    <\/tr>\n",
       "    <tr>\n",
       "      <th>127035<\/th>\n",
       "      <td>508145<\/td>\n",
       "      <td>Male<\/td>\n",
       "      <td>71<\/td>\n",
       "      <td>1<\/td>\n",
       "      <td>28.0<\/td>\n",
       "      <td>1<\/td>\n",
       "      <td>1-2 Year<\/td>\n",
       "      <td>No<\/td>\n",
       "      <td>62875.0<\/td>\n",
       "      <td>26.0<\/td>\n",
       "      <td>265<\/td>\n",
       "    <\/tr>\n",
       "    <tr>\n",
       "      <th>127036<\/th>\n",
       "      <td>508146<\/td>\n",
       "      <td>Male<\/td>\n",
       "      <td>41<\/td>\n",
       "      <td>1<\/td>\n",
       "      <td>29.0<\/td>\n",
       "      <td>1<\/td>\n",
       "      <td>1-2 Year<\/td>\n",
       "      <td>No<\/td>\n",
       "      <td>27927.0<\/td>\n",
       "      <td>124.0<\/td>\n",
       "      <td>231<\/td>\n",
       "    <\/tr>\n",
       "  <\/tbody>\n",
       "<\/table>\n",
       "<p>127037 rows × 11 columns<\/p>\n",
       "<\/div>"
      ]
     },
     "metadata":{
      
     },
     "output_type":"display_data"
    }
   ],
   "metadata":{
    "datalore":{
     "node_id":"dsjc54klaHiZ66zP4T4zjG",
     "type":"CODE",
     "hide_input_from_viewers":false,
     "hide_output_from_viewers":false
    }
   }
  }
 ],
 "metadata":{
  "kernelspec":{
   "display_name":"Python",
   "language":"python",
   "name":"python"
  },
  "datalore":{
   "version":1,
   "computation_mode":"JUPYTER",
   "package_manager":"pip",
   "base_environment":"default",
   "packages":[
    
   ]
  }
 },
 "nbformat":4,
 "nbformat_minor":4
}