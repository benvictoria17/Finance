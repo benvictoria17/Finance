{
 "cells": [
  {
   "cell_type": "code",
   "execution_count": 3,
   "metadata": {},
   "outputs": [
    {
     "name": "stdout",
     "output_type": "stream",
     "text": [
      "Collecting pandas_datareader\n",
      "  Using cached pandas_datareader-0.9.0-py3-none-any.whl (107 kB)\n",
      "Requirement already satisfied: lxml in /Users/thomo/opt/anaconda3/lib/python3.8/site-packages (from pandas_datareader) (4.5.2)\n",
      "Requirement already satisfied: pandas>=0.23 in /Users/thomo/opt/anaconda3/lib/python3.8/site-packages (from pandas_datareader) (1.0.5)\n",
      "Requirement already satisfied: requests>=2.19.0 in /Users/thomo/opt/anaconda3/lib/python3.8/site-packages (from pandas_datareader) (2.24.0)\n",
      "Requirement already satisfied: numpy>=1.13.3 in /Users/thomo/opt/anaconda3/lib/python3.8/site-packages (from pandas>=0.23->pandas_datareader) (1.18.5)\n",
      "Requirement already satisfied: pytz>=2017.2 in /Users/thomo/opt/anaconda3/lib/python3.8/site-packages (from pandas>=0.23->pandas_datareader) (2020.1)\n",
      "Requirement already satisfied: python-dateutil>=2.6.1 in /Users/thomo/opt/anaconda3/lib/python3.8/site-packages (from pandas>=0.23->pandas_datareader) (2.8.1)\n",
      "Requirement already satisfied: urllib3!=1.25.0,!=1.25.1,<1.26,>=1.21.1 in /Users/thomo/opt/anaconda3/lib/python3.8/site-packages (from requests>=2.19.0->pandas_datareader) (1.25.9)\n",
      "Requirement already satisfied: chardet<4,>=3.0.2 in /Users/thomo/opt/anaconda3/lib/python3.8/site-packages (from requests>=2.19.0->pandas_datareader) (3.0.4)\n",
      "Requirement already satisfied: idna<3,>=2.5 in /Users/thomo/opt/anaconda3/lib/python3.8/site-packages (from requests>=2.19.0->pandas_datareader) (2.10)\n",
      "Requirement already satisfied: certifi>=2017.4.17 in /Users/thomo/opt/anaconda3/lib/python3.8/site-packages (from requests>=2.19.0->pandas_datareader) (2020.6.20)\n",
      "Requirement already satisfied: six>=1.5 in /Users/thomo/opt/anaconda3/lib/python3.8/site-packages (from python-dateutil>=2.6.1->pandas>=0.23->pandas_datareader) (1.15.0)\n",
      "Installing collected packages: pandas-datareader\n",
      "Successfully installed pandas-datareader-0.9.0\n"
     ]
    }
   ],
   "source": [
    "!pip install pandas_datareader"
   ]
  },
  {
   "cell_type": "code",
   "execution_count": 4,
   "metadata": {
    "id": "eIBMY9O70P2h"
   },
   "outputs": [],
   "source": [
    "import pandas as pd \n",
    "import numpy as np \n",
    "import matplotlib.pyplot as plt\n",
    "import pandas_datareader\n",
    "import sqlite3\n",
    "import yfinance"
   ]
  },
  {
   "cell_type": "code",
   "execution_count": 5,
   "metadata": {
    "colab": {
     "base_uri": "https://localhost:8080/",
     "height": 467
    },
    "id": "SEpNfeXo0QFH",
    "outputId": "92446796-5346-41d1-fa5a-4807c30aac3d"
   },
   "outputs": [
    {
     "name": "stdout",
     "output_type": "stream",
     "text": [
      "[*********************100%***********************]  1 of 1 completed\n"
     ]
    },
    {
     "data": {
      "text/html": [
       "<div>\n",
       "<style scoped>\n",
       "    .dataframe tbody tr th:only-of-type {\n",
       "        vertical-align: middle;\n",
       "    }\n",
       "\n",
       "    .dataframe tbody tr th {\n",
       "        vertical-align: top;\n",
       "    }\n",
       "\n",
       "    .dataframe thead th {\n",
       "        text-align: right;\n",
       "    }\n",
       "</style>\n",
       "<table border=\"1\" class=\"dataframe\">\n",
       "  <thead>\n",
       "    <tr style=\"text-align: right;\">\n",
       "      <th></th>\n",
       "      <th>Open</th>\n",
       "      <th>High</th>\n",
       "      <th>Low</th>\n",
       "      <th>Close</th>\n",
       "      <th>Adj Close</th>\n",
       "      <th>Volume</th>\n",
       "    </tr>\n",
       "    <tr>\n",
       "      <th>Date</th>\n",
       "      <th></th>\n",
       "      <th></th>\n",
       "      <th></th>\n",
       "      <th></th>\n",
       "      <th></th>\n",
       "      <th></th>\n",
       "    </tr>\n",
       "  </thead>\n",
       "  <tbody>\n",
       "    <tr>\n",
       "      <th>1976-08-18</th>\n",
       "      <td>2.562200</td>\n",
       "      <td>2.562200</td>\n",
       "      <td>2.562200</td>\n",
       "      <td>2.562200</td>\n",
       "      <td>1.477282</td>\n",
       "      <td>19500.0</td>\n",
       "    </tr>\n",
       "    <tr>\n",
       "      <th>1976-08-19</th>\n",
       "      <td>2.549578</td>\n",
       "      <td>2.549578</td>\n",
       "      <td>2.549578</td>\n",
       "      <td>2.549578</td>\n",
       "      <td>1.470004</td>\n",
       "      <td>500.0</td>\n",
       "    </tr>\n",
       "    <tr>\n",
       "      <th>1976-08-20</th>\n",
       "      <td>2.536956</td>\n",
       "      <td>2.536956</td>\n",
       "      <td>2.536956</td>\n",
       "      <td>2.536956</td>\n",
       "      <td>1.462726</td>\n",
       "      <td>8000.0</td>\n",
       "    </tr>\n",
       "    <tr>\n",
       "      <th>1976-08-23</th>\n",
       "      <td>2.461226</td>\n",
       "      <td>2.461226</td>\n",
       "      <td>2.461226</td>\n",
       "      <td>2.461226</td>\n",
       "      <td>1.419063</td>\n",
       "      <td>1000.0</td>\n",
       "    </tr>\n",
       "    <tr>\n",
       "      <th>1976-08-24</th>\n",
       "      <td>2.435982</td>\n",
       "      <td>2.435982</td>\n",
       "      <td>2.435982</td>\n",
       "      <td>2.435982</td>\n",
       "      <td>1.404508</td>\n",
       "      <td>7500.0</td>\n",
       "    </tr>\n",
       "    <tr>\n",
       "      <th>...</th>\n",
       "      <td>...</td>\n",
       "      <td>...</td>\n",
       "      <td>...</td>\n",
       "      <td>...</td>\n",
       "      <td>...</td>\n",
       "      <td>...</td>\n",
       "    </tr>\n",
       "    <tr>\n",
       "      <th>2020-11-19</th>\n",
       "      <td>140.699997</td>\n",
       "      <td>141.080002</td>\n",
       "      <td>140.130005</td>\n",
       "      <td>140.919998</td>\n",
       "      <td>140.919998</td>\n",
       "      <td>140000.0</td>\n",
       "    </tr>\n",
       "    <tr>\n",
       "      <th>2020-11-20</th>\n",
       "      <td>142.300003</td>\n",
       "      <td>143.039993</td>\n",
       "      <td>142.070007</td>\n",
       "      <td>142.130005</td>\n",
       "      <td>142.130005</td>\n",
       "      <td>113000.0</td>\n",
       "    </tr>\n",
       "    <tr>\n",
       "      <th>2020-11-23</th>\n",
       "      <td>143.750000</td>\n",
       "      <td>143.960007</td>\n",
       "      <td>143.220001</td>\n",
       "      <td>143.259995</td>\n",
       "      <td>143.259995</td>\n",
       "      <td>238000.0</td>\n",
       "    </tr>\n",
       "    <tr>\n",
       "      <th>2020-11-24</th>\n",
       "      <td>143.899994</td>\n",
       "      <td>144.529999</td>\n",
       "      <td>143.179993</td>\n",
       "      <td>143.839996</td>\n",
       "      <td>143.839996</td>\n",
       "      <td>188300.0</td>\n",
       "    </tr>\n",
       "    <tr>\n",
       "      <th>2020-11-25</th>\n",
       "      <td>140.970001</td>\n",
       "      <td>141.539993</td>\n",
       "      <td>140.029999</td>\n",
       "      <td>141.309998</td>\n",
       "      <td>141.309998</td>\n",
       "      <td>230824.0</td>\n",
       "    </tr>\n",
       "  </tbody>\n",
       "</table>\n",
       "<p>11172 rows × 6 columns</p>\n",
       "</div>"
      ],
      "text/plain": [
       "                  Open        High         Low       Close   Adj Close  \\\n",
       "Date                                                                     \n",
       "1976-08-18    2.562200    2.562200    2.562200    2.562200    1.477282   \n",
       "1976-08-19    2.549578    2.549578    2.549578    2.549578    1.470004   \n",
       "1976-08-20    2.536956    2.536956    2.536956    2.536956    1.462726   \n",
       "1976-08-23    2.461226    2.461226    2.461226    2.461226    1.419063   \n",
       "1976-08-24    2.435982    2.435982    2.435982    2.435982    1.404508   \n",
       "...                ...         ...         ...         ...         ...   \n",
       "2020-11-19  140.699997  141.080002  140.130005  140.919998  140.919998   \n",
       "2020-11-20  142.300003  143.039993  142.070007  142.130005  142.130005   \n",
       "2020-11-23  143.750000  143.960007  143.220001  143.259995  143.259995   \n",
       "2020-11-24  143.899994  144.529999  143.179993  143.839996  143.839996   \n",
       "2020-11-25  140.970001  141.539993  140.029999  141.309998  141.309998   \n",
       "\n",
       "              Volume  \n",
       "Date                  \n",
       "1976-08-18   19500.0  \n",
       "1976-08-19     500.0  \n",
       "1976-08-20    8000.0  \n",
       "1976-08-23    1000.0  \n",
       "1976-08-24    7500.0  \n",
       "...              ...  \n",
       "2020-11-19  140000.0  \n",
       "2020-11-20  113000.0  \n",
       "2020-11-23  238000.0  \n",
       "2020-11-24  188300.0  \n",
       "2020-11-25  230824.0  \n",
       "\n",
       "[11172 rows x 6 columns]"
      ]
     },
     "execution_count": 5,
     "metadata": {},
     "output_type": "execute_result"
    }
   ],
   "source": [
    "TM = yfinance.download(\"TM\")\n",
    "\n",
    "TM"
   ]
  },
  {
   "cell_type": "code",
   "execution_count": 6,
   "metadata": {
    "colab": {
     "base_uri": "https://localhost:8080/",
     "height": 235
    },
    "id": "CfeiZ4-v0QIK",
    "outputId": "00a51be0-37e8-420a-e8a7-9ef4137ec471"
   },
   "outputs": [
    {
     "data": {
      "text/html": [
       "<div>\n",
       "<style scoped>\n",
       "    .dataframe tbody tr th:only-of-type {\n",
       "        vertical-align: middle;\n",
       "    }\n",
       "\n",
       "    .dataframe tbody tr th {\n",
       "        vertical-align: top;\n",
       "    }\n",
       "\n",
       "    .dataframe thead th {\n",
       "        text-align: right;\n",
       "    }\n",
       "</style>\n",
       "<table border=\"1\" class=\"dataframe\">\n",
       "  <thead>\n",
       "    <tr style=\"text-align: right;\">\n",
       "      <th></th>\n",
       "      <th>Open</th>\n",
       "      <th>High</th>\n",
       "      <th>Low</th>\n",
       "      <th>Close</th>\n",
       "      <th>Adj Close</th>\n",
       "      <th>Volume</th>\n",
       "    </tr>\n",
       "    <tr>\n",
       "      <th>Date</th>\n",
       "      <th></th>\n",
       "      <th></th>\n",
       "      <th></th>\n",
       "      <th></th>\n",
       "      <th></th>\n",
       "      <th></th>\n",
       "    </tr>\n",
       "  </thead>\n",
       "  <tbody>\n",
       "    <tr>\n",
       "      <th>1976-08-18</th>\n",
       "      <td>2.562200</td>\n",
       "      <td>2.562200</td>\n",
       "      <td>2.562200</td>\n",
       "      <td>2.562200</td>\n",
       "      <td>1.477282</td>\n",
       "      <td>19500.0</td>\n",
       "    </tr>\n",
       "    <tr>\n",
       "      <th>1976-08-19</th>\n",
       "      <td>2.549578</td>\n",
       "      <td>2.549578</td>\n",
       "      <td>2.549578</td>\n",
       "      <td>2.549578</td>\n",
       "      <td>1.470004</td>\n",
       "      <td>500.0</td>\n",
       "    </tr>\n",
       "    <tr>\n",
       "      <th>1976-08-20</th>\n",
       "      <td>2.536956</td>\n",
       "      <td>2.536956</td>\n",
       "      <td>2.536956</td>\n",
       "      <td>2.536956</td>\n",
       "      <td>1.462726</td>\n",
       "      <td>8000.0</td>\n",
       "    </tr>\n",
       "    <tr>\n",
       "      <th>1976-08-23</th>\n",
       "      <td>2.461226</td>\n",
       "      <td>2.461226</td>\n",
       "      <td>2.461226</td>\n",
       "      <td>2.461226</td>\n",
       "      <td>1.419063</td>\n",
       "      <td>1000.0</td>\n",
       "    </tr>\n",
       "    <tr>\n",
       "      <th>1976-08-24</th>\n",
       "      <td>2.435982</td>\n",
       "      <td>2.435982</td>\n",
       "      <td>2.435982</td>\n",
       "      <td>2.435982</td>\n",
       "      <td>1.404508</td>\n",
       "      <td>7500.0</td>\n",
       "    </tr>\n",
       "  </tbody>\n",
       "</table>\n",
       "</div>"
      ],
      "text/plain": [
       "                Open      High       Low     Close  Adj Close   Volume\n",
       "Date                                                                  \n",
       "1976-08-18  2.562200  2.562200  2.562200  2.562200   1.477282  19500.0\n",
       "1976-08-19  2.549578  2.549578  2.549578  2.549578   1.470004    500.0\n",
       "1976-08-20  2.536956  2.536956  2.536956  2.536956   1.462726   8000.0\n",
       "1976-08-23  2.461226  2.461226  2.461226  2.461226   1.419063   1000.0\n",
       "1976-08-24  2.435982  2.435982  2.435982  2.435982   1.404508   7500.0"
      ]
     },
     "execution_count": 6,
     "metadata": {},
     "output_type": "execute_result"
    }
   ],
   "source": [
    "TM.head()"
   ]
  },
  {
   "cell_type": "code",
   "execution_count": 7,
   "metadata": {
    "colab": {
     "base_uri": "https://localhost:8080/",
     "height": 235
    },
    "id": "aX87cago0QLn",
    "outputId": "506c527c-f691-4f55-e124-cea4ee8b4436"
   },
   "outputs": [
    {
     "data": {
      "text/html": [
       "<div>\n",
       "<style scoped>\n",
       "    .dataframe tbody tr th:only-of-type {\n",
       "        vertical-align: middle;\n",
       "    }\n",
       "\n",
       "    .dataframe tbody tr th {\n",
       "        vertical-align: top;\n",
       "    }\n",
       "\n",
       "    .dataframe thead th {\n",
       "        text-align: right;\n",
       "    }\n",
       "</style>\n",
       "<table border=\"1\" class=\"dataframe\">\n",
       "  <thead>\n",
       "    <tr style=\"text-align: right;\">\n",
       "      <th></th>\n",
       "      <th>Open</th>\n",
       "      <th>High</th>\n",
       "      <th>Low</th>\n",
       "      <th>Close</th>\n",
       "      <th>Adj Close</th>\n",
       "      <th>Volume</th>\n",
       "    </tr>\n",
       "    <tr>\n",
       "      <th>Date</th>\n",
       "      <th></th>\n",
       "      <th></th>\n",
       "      <th></th>\n",
       "      <th></th>\n",
       "      <th></th>\n",
       "      <th></th>\n",
       "    </tr>\n",
       "  </thead>\n",
       "  <tbody>\n",
       "    <tr>\n",
       "      <th>2020-11-19</th>\n",
       "      <td>140.699997</td>\n",
       "      <td>141.080002</td>\n",
       "      <td>140.130005</td>\n",
       "      <td>140.919998</td>\n",
       "      <td>140.919998</td>\n",
       "      <td>140000.0</td>\n",
       "    </tr>\n",
       "    <tr>\n",
       "      <th>2020-11-20</th>\n",
       "      <td>142.300003</td>\n",
       "      <td>143.039993</td>\n",
       "      <td>142.070007</td>\n",
       "      <td>142.130005</td>\n",
       "      <td>142.130005</td>\n",
       "      <td>113000.0</td>\n",
       "    </tr>\n",
       "    <tr>\n",
       "      <th>2020-11-23</th>\n",
       "      <td>143.750000</td>\n",
       "      <td>143.960007</td>\n",
       "      <td>143.220001</td>\n",
       "      <td>143.259995</td>\n",
       "      <td>143.259995</td>\n",
       "      <td>238000.0</td>\n",
       "    </tr>\n",
       "    <tr>\n",
       "      <th>2020-11-24</th>\n",
       "      <td>143.899994</td>\n",
       "      <td>144.529999</td>\n",
       "      <td>143.179993</td>\n",
       "      <td>143.839996</td>\n",
       "      <td>143.839996</td>\n",
       "      <td>188300.0</td>\n",
       "    </tr>\n",
       "    <tr>\n",
       "      <th>2020-11-25</th>\n",
       "      <td>140.970001</td>\n",
       "      <td>141.539993</td>\n",
       "      <td>140.029999</td>\n",
       "      <td>141.309998</td>\n",
       "      <td>141.309998</td>\n",
       "      <td>230824.0</td>\n",
       "    </tr>\n",
       "  </tbody>\n",
       "</table>\n",
       "</div>"
      ],
      "text/plain": [
       "                  Open        High         Low       Close   Adj Close  \\\n",
       "Date                                                                     \n",
       "2020-11-19  140.699997  141.080002  140.130005  140.919998  140.919998   \n",
       "2020-11-20  142.300003  143.039993  142.070007  142.130005  142.130005   \n",
       "2020-11-23  143.750000  143.960007  143.220001  143.259995  143.259995   \n",
       "2020-11-24  143.899994  144.529999  143.179993  143.839996  143.839996   \n",
       "2020-11-25  140.970001  141.539993  140.029999  141.309998  141.309998   \n",
       "\n",
       "              Volume  \n",
       "Date                  \n",
       "2020-11-19  140000.0  \n",
       "2020-11-20  113000.0  \n",
       "2020-11-23  238000.0  \n",
       "2020-11-24  188300.0  \n",
       "2020-11-25  230824.0  "
      ]
     },
     "execution_count": 7,
     "metadata": {},
     "output_type": "execute_result"
    }
   ],
   "source": [
    "TM.tail()"
   ]
  },
  {
   "cell_type": "code",
   "execution_count": 8,
   "metadata": {
    "colab": {
     "base_uri": "https://localhost:8080/",
     "height": 297
    },
    "id": "9czxv7kJ0QOD",
    "outputId": "7c3cac29-5223-4cdd-eee4-489f77fc3cae"
   },
   "outputs": [
    {
     "data": {
      "text/html": [
       "<div>\n",
       "<style scoped>\n",
       "    .dataframe tbody tr th:only-of-type {\n",
       "        vertical-align: middle;\n",
       "    }\n",
       "\n",
       "    .dataframe tbody tr th {\n",
       "        vertical-align: top;\n",
       "    }\n",
       "\n",
       "    .dataframe thead th {\n",
       "        text-align: right;\n",
       "    }\n",
       "</style>\n",
       "<table border=\"1\" class=\"dataframe\">\n",
       "  <thead>\n",
       "    <tr style=\"text-align: right;\">\n",
       "      <th></th>\n",
       "      <th>Open</th>\n",
       "      <th>High</th>\n",
       "      <th>Low</th>\n",
       "      <th>Close</th>\n",
       "      <th>Adj Close</th>\n",
       "      <th>Volume</th>\n",
       "    </tr>\n",
       "  </thead>\n",
       "  <tbody>\n",
       "    <tr>\n",
       "      <th>count</th>\n",
       "      <td>11167.000000</td>\n",
       "      <td>11167.000000</td>\n",
       "      <td>11167.000000</td>\n",
       "      <td>11167.000000</td>\n",
       "      <td>11167.000000</td>\n",
       "      <td>1.116700e+04</td>\n",
       "    </tr>\n",
       "    <tr>\n",
       "      <th>mean</th>\n",
       "      <td>53.187672</td>\n",
       "      <td>57.671711</td>\n",
       "      <td>57.019209</td>\n",
       "      <td>57.337966</td>\n",
       "      <td>43.844695</td>\n",
       "      <td>1.910834e+05</td>\n",
       "    </tr>\n",
       "    <tr>\n",
       "      <th>std</th>\n",
       "      <td>47.070207</td>\n",
       "      <td>43.158147</td>\n",
       "      <td>42.691012</td>\n",
       "      <td>42.951406</td>\n",
       "      <td>38.462310</td>\n",
       "      <td>3.906338e+05</td>\n",
       "    </tr>\n",
       "    <tr>\n",
       "      <th>min</th>\n",
       "      <td>0.000000</td>\n",
       "      <td>2.246658</td>\n",
       "      <td>2.246658</td>\n",
       "      <td>2.246658</td>\n",
       "      <td>1.295349</td>\n",
       "      <td>0.000000e+00</td>\n",
       "    </tr>\n",
       "    <tr>\n",
       "      <th>25%</th>\n",
       "      <td>0.000000</td>\n",
       "      <td>20.426903</td>\n",
       "      <td>20.239500</td>\n",
       "      <td>20.239500</td>\n",
       "      <td>12.021616</td>\n",
       "      <td>8.450000e+03</td>\n",
       "    </tr>\n",
       "    <tr>\n",
       "      <th>50%</th>\n",
       "      <td>51.500000</td>\n",
       "      <td>51.889999</td>\n",
       "      <td>51.250000</td>\n",
       "      <td>51.625000</td>\n",
       "      <td>33.705910</td>\n",
       "      <td>4.180000e+04</td>\n",
       "    </tr>\n",
       "    <tr>\n",
       "      <th>75%</th>\n",
       "      <td>90.795002</td>\n",
       "      <td>91.395000</td>\n",
       "      <td>90.170002</td>\n",
       "      <td>90.755001</td>\n",
       "      <td>65.579407</td>\n",
       "      <td>2.527000e+05</td>\n",
       "    </tr>\n",
       "    <tr>\n",
       "      <th>max</th>\n",
       "      <td>145.330002</td>\n",
       "      <td>145.800003</td>\n",
       "      <td>144.949997</td>\n",
       "      <td>145.320007</td>\n",
       "      <td>144.110001</td>\n",
       "      <td>1.858270e+07</td>\n",
       "    </tr>\n",
       "  </tbody>\n",
       "</table>\n",
       "</div>"
      ],
      "text/plain": [
       "               Open          High           Low         Close     Adj Close  \\\n",
       "count  11167.000000  11167.000000  11167.000000  11167.000000  11167.000000   \n",
       "mean      53.187672     57.671711     57.019209     57.337966     43.844695   \n",
       "std       47.070207     43.158147     42.691012     42.951406     38.462310   \n",
       "min        0.000000      2.246658      2.246658      2.246658      1.295349   \n",
       "25%        0.000000     20.426903     20.239500     20.239500     12.021616   \n",
       "50%       51.500000     51.889999     51.250000     51.625000     33.705910   \n",
       "75%       90.795002     91.395000     90.170002     90.755001     65.579407   \n",
       "max      145.330002    145.800003    144.949997    145.320007    144.110001   \n",
       "\n",
       "             Volume  \n",
       "count  1.116700e+04  \n",
       "mean   1.910834e+05  \n",
       "std    3.906338e+05  \n",
       "min    0.000000e+00  \n",
       "25%    8.450000e+03  \n",
       "50%    4.180000e+04  \n",
       "75%    2.527000e+05  \n",
       "max    1.858270e+07  "
      ]
     },
     "execution_count": 8,
     "metadata": {},
     "output_type": "execute_result"
    }
   ],
   "source": [
    "TM.describe()"
   ]
  },
  {
   "cell_type": "code",
   "execution_count": 9,
   "metadata": {
    "colab": {
     "base_uri": "https://localhost:8080/"
    },
    "id": "5u5Xh_cG07P-",
    "outputId": "72358419-f923-46d5-97d5-e82e4a20561a"
   },
   "outputs": [
    {
     "data": {
      "text/plain": [
       "<bound method DataFrame.info of                   Open        High         Low       Close   Adj Close  \\\n",
       "Date                                                                     \n",
       "1976-08-18    2.562200    2.562200    2.562200    2.562200    1.477282   \n",
       "1976-08-19    2.549578    2.549578    2.549578    2.549578    1.470004   \n",
       "1976-08-20    2.536956    2.536956    2.536956    2.536956    1.462726   \n",
       "1976-08-23    2.461226    2.461226    2.461226    2.461226    1.419063   \n",
       "1976-08-24    2.435982    2.435982    2.435982    2.435982    1.404508   \n",
       "...                ...         ...         ...         ...         ...   \n",
       "2020-11-19  140.699997  141.080002  140.130005  140.919998  140.919998   \n",
       "2020-11-20  142.300003  143.039993  142.070007  142.130005  142.130005   \n",
       "2020-11-23  143.750000  143.960007  143.220001  143.259995  143.259995   \n",
       "2020-11-24  143.899994  144.529999  143.179993  143.839996  143.839996   \n",
       "2020-11-25  140.970001  141.539993  140.029999  141.309998  141.309998   \n",
       "\n",
       "              Volume  \n",
       "Date                  \n",
       "1976-08-18   19500.0  \n",
       "1976-08-19     500.0  \n",
       "1976-08-20    8000.0  \n",
       "1976-08-23    1000.0  \n",
       "1976-08-24    7500.0  \n",
       "...              ...  \n",
       "2020-11-19  140000.0  \n",
       "2020-11-20  113000.0  \n",
       "2020-11-23  238000.0  \n",
       "2020-11-24  188300.0  \n",
       "2020-11-25  230824.0  \n",
       "\n",
       "[11172 rows x 6 columns]>"
      ]
     },
     "execution_count": 9,
     "metadata": {},
     "output_type": "execute_result"
    }
   ],
   "source": [
    "TM.info"
   ]
  },
  {
   "cell_type": "code",
   "execution_count": 10,
   "metadata": {
    "colab": {
     "base_uri": "https://localhost:8080/"
    },
    "id": "u6KedO8v07Vg",
    "outputId": "56f06772-d7b2-4639-ee00-5eba616993b4"
   },
   "outputs": [
    {
     "name": "stdout",
     "output_type": "stream",
     "text": [
      "<class 'pandas.core.frame.DataFrame'>\n",
      "DatetimeIndex: 11172 entries, 1976-08-18 to 2020-11-25\n",
      "Data columns (total 6 columns):\n",
      " #   Column     Non-Null Count  Dtype  \n",
      "---  ------     --------------  -----  \n",
      " 0   Open       11167 non-null  float64\n",
      " 1   High       11167 non-null  float64\n",
      " 2   Low        11167 non-null  float64\n",
      " 3   Close      11167 non-null  float64\n",
      " 4   Adj Close  11167 non-null  float64\n",
      " 5   Volume     11167 non-null  float64\n",
      "dtypes: float64(6)\n",
      "memory usage: 611.0 KB\n"
     ]
    }
   ],
   "source": [
    "TM.info()"
   ]
  },
  {
   "cell_type": "code",
   "execution_count": 11,
   "metadata": {
    "colab": {
     "base_uri": "https://localhost:8080/"
    },
    "id": "oinvpXpX07YL",
    "outputId": "86d5fc66-ea49-431e-ca9a-b9551430c34d"
   },
   "outputs": [
    {
     "data": {
      "text/plain": [
       "Date\n",
       "1976-08-18      2.562200\n",
       "1976-08-19      2.549578\n",
       "1976-08-20      2.536956\n",
       "1976-08-23      2.461226\n",
       "1976-08-24      2.435982\n",
       "                 ...    \n",
       "2020-11-19    140.919998\n",
       "2020-11-20    142.130005\n",
       "2020-11-23    143.259995\n",
       "2020-11-24    143.839996\n",
       "2020-11-25    141.309998\n",
       "Name: Close, Length: 11172, dtype: float64"
      ]
     },
     "execution_count": 11,
     "metadata": {},
     "output_type": "execute_result"
    }
   ],
   "source": [
    "TM.Close"
   ]
  },
  {
   "cell_type": "code",
   "execution_count": 12,
   "metadata": {
    "colab": {
     "base_uri": "https://localhost:8080/",
     "height": 296
    },
    "id": "WiPn6uuf1VLQ",
    "outputId": "8de3766f-30eb-419d-a384-5715f02857f7"
   },
   "outputs": [
    {
     "data": {
      "text/plain": [
       "[<matplotlib.lines.Line2D at 0x7fa7199b1520>]"
      ]
     },
     "execution_count": 12,
     "metadata": {},
     "output_type": "execute_result"
    },
    {
     "data": {
      "image/png": "[encoded data removed]",
      "text/plain": [
       "<Figure size 432x288 with 1 Axes>"
      ]
     },
     "metadata": {
      "needs_background": "light"
     },
     "output_type": "display_data"
    }
   ],
   "source": [
    "plt.xlabel(\"days\")         \n",
    "plt.ylabel(\"price\")    \n",
    "plt.grid()              \n",
    "plt.plot(TM.Close)"
   ]
  },
  {
   "cell_type": "code",
   "execution_count": 13,
   "metadata": {
    "colab": {
     "base_uri": "https://localhost:8080/"
    },
    "id": "VethUs1z1VNs",
    "outputId": "b296ceea-dce3-44f0-e55a-65eb4b39b17f"
   },
   "outputs": [
    {
     "data": {
      "text/plain": [
       "Date\n",
       "1976-08-18      2.562200\n",
       "1976-08-19      2.549578\n",
       "1976-08-20      2.536956\n",
       "1976-08-23      2.461226\n",
       "1976-08-24      2.435982\n",
       "                 ...    \n",
       "2020-11-19    141.080002\n",
       "2020-11-20    143.039993\n",
       "2020-11-23    143.960007\n",
       "2020-11-24    144.529999\n",
       "2020-11-25    141.539993\n",
       "Name: High, Length: 11172, dtype: float64"
      ]
     },
     "execution_count": 13,
     "metadata": {},
     "output_type": "execute_result"
    }
   ],
   "source": [
    "TM.High"
   ]
  },
  {
   "cell_type": "code",
   "execution_count": 14,
   "metadata": {
    "colab": {
     "base_uri": "https://localhost:8080/",
     "height": 296
    },
    "id": "JZJtPhal1VQ_",
    "outputId": "5b02f266-b948-4b8b-a50b-60ea22d7d8c1"
   },
   "outputs": [
    {
     "data": {
      "text/plain": [
       "[<matplotlib.lines.Line2D at 0x7fa719e97ac0>]"
      ]
     },
     "execution_count": 14,
     "metadata": {},
     "output_type": "execute_result"
    },
    {
     "data": {
      "image/png": "[encoded data removed]",
      "text/plain": [
       "<Figure size 432x288 with 1 Axes>"
      ]
     },
     "metadata": {
      "needs_background": "light"
     },
     "output_type": "display_data"
    }
   ],
   "source": [
    "plt.xlabel(\"days\")        \n",
    "plt.ylabel(\"price\")   \n",
    "plt.grid()              \n",
    "plt.plot(TM.Close)"
   ]
  },
  {
   "cell_type": "code",
   "execution_count": 15,
   "metadata": {
    "colab": {
     "base_uri": "https://localhost:8080/",
     "height": 265
    },
    "id": "aZsONKfr1VVr",
    "outputId": "ab824755-5d9d-4e67-e403-454344a272dc"
   },
   "outputs": [
    {
     "data": {
      "image/png": "[encoded data removed]",
      "text/plain": [
       "<Figure size 432x288 with 1 Axes>"
      ]
     },
     "metadata": {
      "needs_background": "light"
     },
     "output_type": "display_data"
    }
   ],
   "source": [
    "plt.plot(TM.High)\n",
    "plt.grid()"
   ]
  },
  {
   "cell_type": "code",
   "execution_count": 16,
   "metadata": {
    "colab": {
     "base_uri": "https://localhost:8080/"
    },
    "id": "JshHzpbR1VYN",
    "outputId": "61d0d6b7-64db-47ae-c58f-38f30decf757"
   },
   "outputs": [
    {
     "data": {
      "text/plain": [
       "(11172, 6)"
      ]
     },
     "execution_count": 16,
     "metadata": {},
     "output_type": "execute_result"
    }
   ],
   "source": [
    "TM.shape"
   ]
  },
  {
   "cell_type": "code",
   "execution_count": 17,
   "metadata": {
    "colab": {
     "base_uri": "https://localhost:8080/"
    },
    "id": "URipO-sn1VdX",
    "outputId": "73eb387d-2fac-46c7-be0f-4297528ff009"
   },
   "outputs": [
    {
     "data": {
      "text/plain": [
       "Date\n",
       "1976-08-18      2.562200\n",
       "1976-08-19      2.549578\n",
       "1976-08-20      2.536956\n",
       "1976-08-23      2.461226\n",
       "1976-08-24      2.435982\n",
       "                 ...    \n",
       "2020-11-19    140.699997\n",
       "2020-11-20    142.300003\n",
       "2020-11-23    143.750000\n",
       "2020-11-24    143.899994\n",
       "2020-11-25    140.970001\n",
       "Name: Open, Length: 11172, dtype: float64"
      ]
     },
     "execution_count": 17,
     "metadata": {},
     "output_type": "execute_result"
    }
   ],
   "source": [
    "TM.Open"
   ]
  },
  {
   "cell_type": "code",
   "execution_count": 19,
   "metadata": {
    "colab": {
     "base_uri": "https://localhost:8080/",
     "height": 299
    },
    "id": "Ha90w9Ab1VTW",
    "outputId": "0b284ae0-de95-4314-f2fa-e82a7f261eea"
   },
   "outputs": [
    {
     "name": "stdout",
     "output_type": "stream",
     "text": [
      "11172\n"
     ]
    },
    {
     "data": {
      "text/plain": [
       "[<matplotlib.lines.Line2D at 0x7fa71a03c550>]"
      ]
     },
     "execution_count": 19,
     "metadata": {},
     "output_type": "execute_result"
    },
    {
     "data": {
      "image/png": "[encoded data removed]",
      "text/plain": [
       "<Figure size 432x288 with 1 Axes>"
      ]
     },
     "metadata": {
      "needs_background": "light"
     },
     "output_type": "display_data"
    }
   ],
   "source": [
    "print(len(TM.Close))\n",
    "las100_days = TM.High[2316:2415]\n",
    "plt.plot(las100_days)"
   ]
  },
  {
   "cell_type": "code",
   "execution_count": 20,
   "metadata": {
    "colab": {
     "base_uri": "https://localhost:8080/"
    },
    "id": "cPh_mjkq2EIx",
    "outputId": "e834e012-7bd3-40ea-fe65-cd878c396de7"
   },
   "outputs": [
    {
     "data": {
      "text/plain": [
       "Date\n",
       "1976-08-18      2.562200\n",
       "1976-08-19      2.549578\n",
       "1976-08-20      2.536956\n",
       "1976-08-23      2.461226\n",
       "1976-08-24      2.435982\n",
       "                 ...    \n",
       "2020-11-19    140.919998\n",
       "2020-11-20    142.130005\n",
       "2020-11-23    143.259995\n",
       "2020-11-24    143.839996\n",
       "2020-11-25    141.309998\n",
       "Name: Close, Length: 11172, dtype: float64"
      ]
     },
     "execution_count": 20,
     "metadata": {},
     "output_type": "execute_result"
    }
   ],
   "source": [
    "TM.Close"
   ]
  },
  {
   "cell_type": "code",
   "execution_count": 21,
   "metadata": {
    "colab": {
     "base_uri": "https://localhost:8080/"
    },
    "id": "obBRGv3p2atb",
    "outputId": "f37081e4-a966-4e46-e0a2-56d4366612ae"
   },
   "outputs": [
    {
     "data": {
      "text/plain": [
       "Date\n",
       "1976-08-18     19500.0\n",
       "1976-08-19       500.0\n",
       "1976-08-20      8000.0\n",
       "1976-08-23      1000.0\n",
       "1976-08-24      7500.0\n",
       "                ...   \n",
       "2020-11-19    140000.0\n",
       "2020-11-20    113000.0\n",
       "2020-11-23    238000.0\n",
       "2020-11-24    188300.0\n",
       "2020-11-25    230824.0\n",
       "Name: Volume, Length: 11172, dtype: float64"
      ]
     },
     "execution_count": 21,
     "metadata": {},
     "output_type": "execute_result"
    }
   ],
   "source": [
    "TM.Volume"
   ]
  }
 ],
 "metadata": {
  "colab": {
   "name": "Nokia Corporation (NOKIA.HE).ipynb",
   "provenance": []
  },
  "kernelspec": {
   "display_name": "Python 3",
   "language": "python",
   "name": "python3"
  },
  "language_info": {
   "codemirror_mode": {
    "name": "ipython",
    "version": 3
   },
   "file_extension": ".py",
   "mimetype": "text/x-python",
   "name": "python",
   "nbconvert_exporter": "python",
   "pygments_lexer": "ipython3",
   "version": "3.8.3"
  }
 },
 "nbformat": 4,
 "nbformat_minor": 1
}
