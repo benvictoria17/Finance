{
 "cells": [
  {
   "cell_type": "code",
   "execution_count": 1,
   "id": "28f6eac7",
   "metadata": {},
   "outputs": [],
   "source": [
    "import pandas as pd\n",
    "import datetime as dt\n",
    "import numpy as np\n",
    "import matplotlib.pyplot as plt"
   ]
  },
  {
   "cell_type": "code",
   "execution_count": 2,
   "id": "99f47786",
   "metadata": {},
   "outputs": [],
   "source": [
    "df = pd.read_csv(\"https://raw.githubusercontent.com/benvictoria17/Finance/main/dataset/Retail%20Transaction%20Data/Retail_Data_Transactions.csv\", parse_dates=[\"trans_date\"])"
   ]
  },
  {
   "cell_type": "code",
   "execution_count": 3,
   "id": "81567644",
   "metadata": {},
   "outputs": [
    {
     "data": {
      "text/html": [
       "<div>\n",
       "<style scoped>\n",
       "    .dataframe tbody tr th:only-of-type {\n",
       "        vertical-align: middle;\n",
       "    }\n",
       "\n",
       "    .dataframe tbody tr th {\n",
       "        vertical-align: top;\n",
       "    }\n",
       "\n",
       "    .dataframe thead th {\n",
       "        text-align: right;\n",
       "    }\n",
       "</style>\n",
       "<table border=\"1\" class=\"dataframe\">\n",
       "  <thead>\n",
       "    <tr style=\"text-align: right;\">\n",
       "      <th></th>\n",
       "      <th>customer_id</th>\n",
       "      <th>trans_date</th>\n",
       "      <th>tran_amount</th>\n",
       "    </tr>\n",
       "  </thead>\n",
       "  <tbody>\n",
       "    <tr>\n",
       "      <th>0</th>\n",
       "      <td>CS5295</td>\n",
       "      <td>2013-02-11</td>\n",
       "      <td>35</td>\n",
       "    </tr>\n",
       "    <tr>\n",
       "      <th>1</th>\n",
       "      <td>CS4768</td>\n",
       "      <td>2015-03-15</td>\n",
       "      <td>39</td>\n",
       "    </tr>\n",
       "    <tr>\n",
       "      <th>2</th>\n",
       "      <td>CS2122</td>\n",
       "      <td>2013-02-26</td>\n",
       "      <td>52</td>\n",
       "    </tr>\n",
       "  </tbody>\n",
       "</table>\n",
       "</div>"
      ],
      "text/plain": [
       "  customer_id trans_date  tran_amount\n",
       "0      CS5295 2013-02-11           35\n",
       "1      CS4768 2015-03-15           39\n",
       "2      CS2122 2013-02-26           52"
      ]
     },
     "execution_count": 3,
     "metadata": {},
     "output_type": "execute_result"
    }
   ],
   "source": [
    "df.head(3)"
   ]
  },
  {
   "cell_type": "code",
   "execution_count": 4,
   "id": "3faeac7c",
   "metadata": {},
   "outputs": [
    {
     "data": {
      "text/html": [
       "<div>\n",
       "<style scoped>\n",
       "    .dataframe tbody tr th:only-of-type {\n",
       "        vertical-align: middle;\n",
       "    }\n",
       "\n",
       "    .dataframe tbody tr th {\n",
       "        vertical-align: top;\n",
       "    }\n",
       "\n",
       "    .dataframe thead th {\n",
       "        text-align: right;\n",
       "    }\n",
       "</style>\n",
       "<table border=\"1\" class=\"dataframe\">\n",
       "  <thead>\n",
       "    <tr style=\"text-align: right;\">\n",
       "      <th></th>\n",
       "      <th>customer_id</th>\n",
       "      <th>trans_date</th>\n",
       "      <th>tran_amount</th>\n",
       "    </tr>\n",
       "  </thead>\n",
       "  <tbody>\n",
       "    <tr>\n",
       "      <th>0</th>\n",
       "      <td>CS5295</td>\n",
       "      <td>2013-02-11</td>\n",
       "      <td>35</td>\n",
       "    </tr>\n",
       "    <tr>\n",
       "      <th>1</th>\n",
       "      <td>CS4768</td>\n",
       "      <td>2015-03-15</td>\n",
       "      <td>39</td>\n",
       "    </tr>\n",
       "    <tr>\n",
       "      <th>2</th>\n",
       "      <td>CS2122</td>\n",
       "      <td>2013-02-26</td>\n",
       "      <td>52</td>\n",
       "    </tr>\n",
       "    <tr>\n",
       "      <th>3</th>\n",
       "      <td>CS1217</td>\n",
       "      <td>2011-11-16</td>\n",
       "      <td>99</td>\n",
       "    </tr>\n",
       "    <tr>\n",
       "      <th>4</th>\n",
       "      <td>CS1850</td>\n",
       "      <td>2013-11-20</td>\n",
       "      <td>78</td>\n",
       "    </tr>\n",
       "  </tbody>\n",
       "</table>\n",
       "</div>"
      ],
      "text/plain": [
       "  customer_id trans_date  tran_amount\n",
       "0      CS5295 2013-02-11           35\n",
       "1      CS4768 2015-03-15           39\n",
       "2      CS2122 2013-02-26           52\n",
       "3      CS1217 2011-11-16           99\n",
       "4      CS1850 2013-11-20           78"
      ]
     },
     "execution_count": 4,
     "metadata": {},
     "output_type": "execute_result"
    }
   ],
   "source": [
    "df.head()"
   ]
  },
  {
   "cell_type": "code",
   "execution_count": 5,
   "id": "c472d1ef",
   "metadata": {},
   "outputs": [
    {
     "name": "stdout",
     "output_type": "stream",
     "text": [
      "<class 'pandas.core.frame.DataFrame'>\n",
      "RangeIndex: 125000 entries, 0 to 124999\n",
      "Data columns (total 3 columns):\n",
      " #   Column       Non-Null Count   Dtype         \n",
      "---  ------       --------------   -----         \n",
      " 0   customer_id  125000 non-null  object        \n",
      " 1   trans_date   125000 non-null  datetime64[ns]\n",
      " 2   tran_amount  125000 non-null  int64         \n",
      "dtypes: datetime64[ns](1), int64(1), object(1)\n",
      "memory usage: 2.9+ MB\n"
     ]
    }
   ],
   "source": [
    "df.info()"
   ]
  },
  {
   "cell_type": "code",
   "execution_count": 6,
   "id": "409db6b0",
   "metadata": {},
   "outputs": [
    {
     "name": "stdout",
     "output_type": "stream",
     "text": [
      "2011-05-16 00:00:00 2015-03-16 00:00:00\n"
     ]
    }
   ],
   "source": [
    "print(df['trans_date'].min(), df['trans_date'].max())"
   ]
  },
  {
   "cell_type": "code",
   "execution_count": 7,
   "id": "0af317af",
   "metadata": {},
   "outputs": [
    {
     "data": {
      "text/html": [
       "<div>\n",
       "<style scoped>\n",
       "    .dataframe tbody tr th:only-of-type {\n",
       "        vertical-align: middle;\n",
       "    }\n",
       "\n",
       "    .dataframe tbody tr th {\n",
       "        vertical-align: top;\n",
       "    }\n",
       "\n",
       "    .dataframe thead th {\n",
       "        text-align: right;\n",
       "    }\n",
       "</style>\n",
       "<table border=\"1\" class=\"dataframe\">\n",
       "  <thead>\n",
       "    <tr style=\"text-align: right;\">\n",
       "      <th></th>\n",
       "      <th>customer_id</th>\n",
       "      <th>trans_date</th>\n",
       "      <th>tran_amount</th>\n",
       "      <th>hist</th>\n",
       "    </tr>\n",
       "  </thead>\n",
       "  <tbody>\n",
       "    <tr>\n",
       "      <th>0</th>\n",
       "      <td>CS5295</td>\n",
       "      <td>2013-02-11</td>\n",
       "      <td>35</td>\n",
       "      <td>779.0</td>\n",
       "    </tr>\n",
       "    <tr>\n",
       "      <th>1</th>\n",
       "      <td>CS4768</td>\n",
       "      <td>2015-03-15</td>\n",
       "      <td>39</td>\n",
       "      <td>17.0</td>\n",
       "    </tr>\n",
       "    <tr>\n",
       "      <th>2</th>\n",
       "      <td>CS2122</td>\n",
       "      <td>2013-02-26</td>\n",
       "      <td>52</td>\n",
       "      <td>764.0</td>\n",
       "    </tr>\n",
       "    <tr>\n",
       "      <th>3</th>\n",
       "      <td>CS1217</td>\n",
       "      <td>2011-11-16</td>\n",
       "      <td>99</td>\n",
       "      <td>1232.0</td>\n",
       "    </tr>\n",
       "    <tr>\n",
       "      <th>4</th>\n",
       "      <td>CS1850</td>\n",
       "      <td>2013-11-20</td>\n",
       "      <td>78</td>\n",
       "      <td>497.0</td>\n",
       "    </tr>\n",
       "  </tbody>\n",
       "</table>\n",
       "</div>"
      ],
      "text/plain": [
       "  customer_id trans_date  tran_amount    hist\n",
       "0      CS5295 2013-02-11           35   779.0\n",
       "1      CS4768 2015-03-15           39    17.0\n",
       "2      CS2122 2013-02-26           52   764.0\n",
       "3      CS1217 2011-11-16           99  1232.0\n",
       "4      CS1850 2013-11-20           78   497.0"
      ]
     },
     "execution_count": 7,
     "metadata": {},
     "output_type": "execute_result"
    }
   ],
   "source": [
    "sd = dt.datetime(2015,4,1)\n",
    "df['hist']=sd - df['trans_date']\n",
    "df['hist'].astype('timedelta64[D]')\n",
    "df['hist']=df['hist'] / np.timedelta64(1, 'D')\n",
    "df.head()"
   ]
  },
  {
   "cell_type": "code",
   "execution_count": 8,
   "id": "501e1a79",
   "metadata": {},
   "outputs": [
    {
     "name": "stdout",
     "output_type": "stream",
     "text": [
      "<class 'pandas.core.frame.DataFrame'>\n",
      "Int64Index: 63633 entries, 1 to 124999\n",
      "Data columns (total 4 columns):\n",
      " #   Column       Non-Null Count  Dtype         \n",
      "---  ------       --------------  -----         \n",
      " 0   customer_id  63633 non-null  object        \n",
      " 1   trans_date   63633 non-null  datetime64[ns]\n",
      " 2   tran_amount  63633 non-null  int64         \n",
      " 3   hist         63633 non-null  float64       \n",
      "dtypes: datetime64[ns](1), float64(1), int64(1), object(1)\n",
      "memory usage: 2.4+ MB\n"
     ]
    }
   ],
   "source": [
    "df=df[df['hist'] < 730]\n",
    "df.info()"
   ]
  },
  {
   "cell_type": "code",
   "execution_count": 9,
   "id": "322c0add",
   "metadata": {},
   "outputs": [],
   "source": [
    "rfmTable = df.groupby('customer_id').agg({'hist': lambda x:x.min(),                    \n",
    "                                        'customer_id': lambda x: len(x),             \n",
    "                                        'tran_amount': lambda x: x.sum()})            "
   ]
  },
  {
   "cell_type": "code",
   "execution_count": 10,
   "id": "785628c2",
   "metadata": {},
   "outputs": [
    {
     "data": {
      "text/html": [
       "<div>\n",
       "<style scoped>\n",
       "    .dataframe tbody tr th:only-of-type {\n",
       "        vertical-align: middle;\n",
       "    }\n",
       "\n",
       "    .dataframe tbody tr th {\n",
       "        vertical-align: top;\n",
       "    }\n",
       "\n",
       "    .dataframe thead th {\n",
       "        text-align: right;\n",
       "    }\n",
       "</style>\n",
       "<table border=\"1\" class=\"dataframe\">\n",
       "  <thead>\n",
       "    <tr style=\"text-align: right;\">\n",
       "      <th></th>\n",
       "      <th>hist</th>\n",
       "      <th>customer_id</th>\n",
       "      <th>tran_amount</th>\n",
       "    </tr>\n",
       "    <tr>\n",
       "      <th>customer_id</th>\n",
       "      <th></th>\n",
       "      <th></th>\n",
       "      <th></th>\n",
       "    </tr>\n",
       "  </thead>\n",
       "  <tbody>\n",
       "    <tr>\n",
       "      <th>CS1112</th>\n",
       "      <td>77.0</td>\n",
       "      <td>6</td>\n",
       "      <td>358</td>\n",
       "    </tr>\n",
       "    <tr>\n",
       "      <th>CS1113</th>\n",
       "      <td>51.0</td>\n",
       "      <td>11</td>\n",
       "      <td>775</td>\n",
       "    </tr>\n",
       "    <tr>\n",
       "      <th>CS1114</th>\n",
       "      <td>48.0</td>\n",
       "      <td>11</td>\n",
       "      <td>804</td>\n",
       "    </tr>\n",
       "    <tr>\n",
       "      <th>CS1115</th>\n",
       "      <td>27.0</td>\n",
       "      <td>10</td>\n",
       "      <td>765</td>\n",
       "    </tr>\n",
       "    <tr>\n",
       "      <th>CS1116</th>\n",
       "      <td>219.0</td>\n",
       "      <td>5</td>\n",
       "      <td>333</td>\n",
       "    </tr>\n",
       "  </tbody>\n",
       "</table>\n",
       "</div>"
      ],
      "text/plain": [
       "              hist  customer_id  tran_amount\n",
       "customer_id                                 \n",
       "CS1112        77.0            6          358\n",
       "CS1113        51.0           11          775\n",
       "CS1114        48.0           11          804\n",
       "CS1115        27.0           10          765\n",
       "CS1116       219.0            5          333"
      ]
     },
     "execution_count": 10,
     "metadata": {},
     "output_type": "execute_result"
    }
   ],
   "source": [
    "rfmTable.head()"
   ]
  },
  {
   "cell_type": "code",
   "execution_count": 11,
   "id": "5bd84a5d",
   "metadata": {},
   "outputs": [],
   "source": [
    "rfmTable.rename(columns={'hist': 'recency', 'customer_id': 'frequency', 'tran_amount': 'monetary_value'}, inplace=True)"
   ]
  },
  {
   "cell_type": "code",
   "execution_count": 12,
   "id": "09468795",
   "metadata": {},
   "outputs": [
    {
     "data": {
      "text/html": [
       "<div>\n",
       "<style scoped>\n",
       "    .dataframe tbody tr th:only-of-type {\n",
       "        vertical-align: middle;\n",
       "    }\n",
       "\n",
       "    .dataframe tbody tr th {\n",
       "        vertical-align: top;\n",
       "    }\n",
       "\n",
       "    .dataframe thead th {\n",
       "        text-align: right;\n",
       "    }\n",
       "</style>\n",
       "<table border=\"1\" class=\"dataframe\">\n",
       "  <thead>\n",
       "    <tr style=\"text-align: right;\">\n",
       "      <th></th>\n",
       "      <th>recency</th>\n",
       "      <th>frequency</th>\n",
       "      <th>monetary_value</th>\n",
       "    </tr>\n",
       "    <tr>\n",
       "      <th>customer_id</th>\n",
       "      <th></th>\n",
       "      <th></th>\n",
       "      <th></th>\n",
       "    </tr>\n",
       "  </thead>\n",
       "  <tbody>\n",
       "    <tr>\n",
       "      <th>CS1112</th>\n",
       "      <td>77.0</td>\n",
       "      <td>6</td>\n",
       "      <td>358</td>\n",
       "    </tr>\n",
       "    <tr>\n",
       "      <th>CS1113</th>\n",
       "      <td>51.0</td>\n",
       "      <td>11</td>\n",
       "      <td>775</td>\n",
       "    </tr>\n",
       "    <tr>\n",
       "      <th>CS1114</th>\n",
       "      <td>48.0</td>\n",
       "      <td>11</td>\n",
       "      <td>804</td>\n",
       "    </tr>\n",
       "    <tr>\n",
       "      <th>CS1115</th>\n",
       "      <td>27.0</td>\n",
       "      <td>10</td>\n",
       "      <td>765</td>\n",
       "    </tr>\n",
       "    <tr>\n",
       "      <th>CS1116</th>\n",
       "      <td>219.0</td>\n",
       "      <td>5</td>\n",
       "      <td>333</td>\n",
       "    </tr>\n",
       "  </tbody>\n",
       "</table>\n",
       "</div>"
      ],
      "text/plain": [
       "             recency  frequency  monetary_value\n",
       "customer_id                                    \n",
       "CS1112          77.0          6             358\n",
       "CS1113          51.0         11             775\n",
       "CS1114          48.0         11             804\n",
       "CS1115          27.0         10             765\n",
       "CS1116         219.0          5             333"
      ]
     },
     "execution_count": 12,
     "metadata": {},
     "output_type": "execute_result"
    }
   ],
   "source": [
    "rfmTable.head()"
   ]
  },
  {
   "cell_type": "code",
   "execution_count": 13,
   "id": "48bd90bc",
   "metadata": {},
   "outputs": [
    {
     "data": {
      "text/html": [
       "<div>\n",
       "<style scoped>\n",
       "    .dataframe tbody tr th:only-of-type {\n",
       "        vertical-align: middle;\n",
       "    }\n",
       "\n",
       "    .dataframe tbody tr th {\n",
       "        vertical-align: top;\n",
       "    }\n",
       "\n",
       "    .dataframe thead th {\n",
       "        text-align: right;\n",
       "    }\n",
       "</style>\n",
       "<table border=\"1\" class=\"dataframe\">\n",
       "  <thead>\n",
       "    <tr style=\"text-align: right;\">\n",
       "      <th></th>\n",
       "      <th>customer_id</th>\n",
       "      <th>trans_date</th>\n",
       "      <th>tran_amount</th>\n",
       "      <th>hist</th>\n",
       "    </tr>\n",
       "  </thead>\n",
       "  <tbody>\n",
       "    <tr>\n",
       "      <th>5650</th>\n",
       "      <td>CS1112</td>\n",
       "      <td>2015-01-14</td>\n",
       "      <td>39</td>\n",
       "      <td>77.0</td>\n",
       "    </tr>\n",
       "    <tr>\n",
       "      <th>17810</th>\n",
       "      <td>CS1112</td>\n",
       "      <td>2014-07-16</td>\n",
       "      <td>90</td>\n",
       "      <td>259.0</td>\n",
       "    </tr>\n",
       "    <tr>\n",
       "      <th>26626</th>\n",
       "      <td>CS1112</td>\n",
       "      <td>2014-04-29</td>\n",
       "      <td>63</td>\n",
       "      <td>337.0</td>\n",
       "    </tr>\n",
       "    <tr>\n",
       "      <th>31500</th>\n",
       "      <td>CS1112</td>\n",
       "      <td>2014-12-04</td>\n",
       "      <td>59</td>\n",
       "      <td>118.0</td>\n",
       "    </tr>\n",
       "    <tr>\n",
       "      <th>42084</th>\n",
       "      <td>CS1112</td>\n",
       "      <td>2013-07-01</td>\n",
       "      <td>36</td>\n",
       "      <td>639.0</td>\n",
       "    </tr>\n",
       "    <tr>\n",
       "      <th>74842</th>\n",
       "      <td>CS1112</td>\n",
       "      <td>2013-11-13</td>\n",
       "      <td>71</td>\n",
       "      <td>504.0</td>\n",
       "    </tr>\n",
       "  </tbody>\n",
       "</table>\n",
       "</div>"
      ],
      "text/plain": [
       "      customer_id trans_date  tran_amount   hist\n",
       "5650       CS1112 2015-01-14           39   77.0\n",
       "17810      CS1112 2014-07-16           90  259.0\n",
       "26626      CS1112 2014-04-29           63  337.0\n",
       "31500      CS1112 2014-12-04           59  118.0\n",
       "42084      CS1112 2013-07-01           36  639.0\n",
       "74842      CS1112 2013-11-13           71  504.0"
      ]
     },
     "execution_count": 13,
     "metadata": {},
     "output_type": "execute_result"
    }
   ],
   "source": [
    "df[df[\"customer_id\"]==\"CS1112\"]"
   ]
  },
  {
   "cell_type": "code",
   "execution_count": 14,
   "id": "0330074b",
   "metadata": {},
   "outputs": [
    {
     "name": "stdout",
     "output_type": "stream",
     "text": [
      "      recency  frequency  monetary_value\n",
      "0.25     38.0        7.0           379.0\n",
      "0.50     69.0        9.0           591.0\n",
      "0.75    127.0       11.0           796.0 <class 'pandas.core.frame.DataFrame'>\n"
     ]
    }
   ],
   "source": [
    "quartiles = rfmTable.quantile(q=[0.25,0.50,0.75])\n",
    "print(quartiles, type(quartiles))"
   ]
  },
  {
   "cell_type": "code",
   "execution_count": 15,
   "id": "fbcdd28b",
   "metadata": {},
   "outputs": [
    {
     "data": {
      "text/plain": [
       "{'recency': {0.25: 38.0, 0.5: 69.0, 0.75: 127.0},\n",
       " 'frequency': {0.25: 7.0, 0.5: 9.0, 0.75: 11.0},\n",
       " 'monetary_value': {0.25: 379.0, 0.5: 591.0, 0.75: 796.0}}"
      ]
     },
     "execution_count": 15,
     "metadata": {},
     "output_type": "execute_result"
    }
   ],
   "source": [
    "quartiles=quartiles.to_dict()\n",
    "quartiles"
   ]
  },
  {
   "cell_type": "code",
   "execution_count": 16,
   "id": "ecfbd5f1",
   "metadata": {},
   "outputs": [
    {
     "data": {
      "text/html": [
       "<div>\n",
       "<style scoped>\n",
       "    .dataframe tbody tr th:only-of-type {\n",
       "        vertical-align: middle;\n",
       "    }\n",
       "\n",
       "    .dataframe tbody tr th {\n",
       "        vertical-align: top;\n",
       "    }\n",
       "\n",
       "    .dataframe thead th {\n",
       "        text-align: right;\n",
       "    }\n",
       "</style>\n",
       "<table border=\"1\" class=\"dataframe\">\n",
       "  <thead>\n",
       "    <tr style=\"text-align: right;\">\n",
       "      <th></th>\n",
       "      <th>recency</th>\n",
       "      <th>frequency</th>\n",
       "      <th>monetary_value</th>\n",
       "      <th>R_Quartile</th>\n",
       "      <th>F_Quartile</th>\n",
       "      <th>M_Quartile</th>\n",
       "    </tr>\n",
       "    <tr>\n",
       "      <th>customer_id</th>\n",
       "      <th></th>\n",
       "      <th></th>\n",
       "      <th></th>\n",
       "      <th></th>\n",
       "      <th></th>\n",
       "      <th></th>\n",
       "    </tr>\n",
       "  </thead>\n",
       "  <tbody>\n",
       "    <tr>\n",
       "      <th>CS1112</th>\n",
       "      <td>77.0</td>\n",
       "      <td>6</td>\n",
       "      <td>358</td>\n",
       "      <td>2</td>\n",
       "      <td>1</td>\n",
       "      <td>1</td>\n",
       "    </tr>\n",
       "    <tr>\n",
       "      <th>CS1113</th>\n",
       "      <td>51.0</td>\n",
       "      <td>11</td>\n",
       "      <td>775</td>\n",
       "      <td>3</td>\n",
       "      <td>3</td>\n",
       "      <td>3</td>\n",
       "    </tr>\n",
       "    <tr>\n",
       "      <th>CS1114</th>\n",
       "      <td>48.0</td>\n",
       "      <td>11</td>\n",
       "      <td>804</td>\n",
       "      <td>3</td>\n",
       "      <td>3</td>\n",
       "      <td>4</td>\n",
       "    </tr>\n",
       "    <tr>\n",
       "      <th>CS1115</th>\n",
       "      <td>27.0</td>\n",
       "      <td>10</td>\n",
       "      <td>765</td>\n",
       "      <td>4</td>\n",
       "      <td>3</td>\n",
       "      <td>3</td>\n",
       "    </tr>\n",
       "    <tr>\n",
       "      <th>CS1116</th>\n",
       "      <td>219.0</td>\n",
       "      <td>5</td>\n",
       "      <td>333</td>\n",
       "      <td>1</td>\n",
       "      <td>1</td>\n",
       "      <td>1</td>\n",
       "    </tr>\n",
       "  </tbody>\n",
       "</table>\n",
       "</div>"
      ],
      "text/plain": [
       "             recency  frequency  monetary_value  R_Quartile  F_Quartile  \\\n",
       "customer_id                                                               \n",
       "CS1112          77.0          6             358           2           1   \n",
       "CS1113          51.0         11             775           3           3   \n",
       "CS1114          48.0         11             804           3           3   \n",
       "CS1115          27.0         10             765           4           3   \n",
       "CS1116         219.0          5             333           1           1   \n",
       "\n",
       "             M_Quartile  \n",
       "customer_id              \n",
       "CS1112                1  \n",
       "CS1113                3  \n",
       "CS1114                4  \n",
       "CS1115                3  \n",
       "CS1116                1  "
      ]
     },
     "execution_count": 16,
     "metadata": {},
     "output_type": "execute_result"
    }
   ],
   "source": [
    "def RClass(x,p,d):\n",
    "    if x <= d[p][0.25]:\n",
    "        return 4\n",
    "    elif x <= d[p][0.50]:\n",
    "        return 3\n",
    "    elif x <= d[p][0.75]: \n",
    "        return 2\n",
    "    else:\n",
    "        return 1\n",
    "    \n",
    "\n",
    "def FMClass(x,p,d):\n",
    "    if x <= d[p][0.25]:\n",
    "        return 1\n",
    "    elif x <= d[p][0.50]:\n",
    "        return 2\n",
    "    elif x <= d[p][0.75]: \n",
    "        return 3\n",
    "    else:\n",
    "        return 4    \n",
    "    \n",
    "rfmSeg = rfmTable\n",
    "rfmSeg['R_Quartile'] = rfmSeg['recency'].apply(RClass, args=('recency',quartiles,))\n",
    "rfmSeg['F_Quartile'] = rfmSeg['frequency'].apply(FMClass, args=('frequency',quartiles,))\n",
    "rfmSeg['M_Quartile'] = rfmSeg['monetary_value'].apply(FMClass, args=('monetary_value',quartiles,))\n",
    "rfmSeg.head()"
   ]
  },
  {
   "cell_type": "code",
   "execution_count": 17,
   "id": "06c22ed9",
   "metadata": {},
   "outputs": [
    {
     "data": {
      "text/html": [
       "<div>\n",
       "<style scoped>\n",
       "    .dataframe tbody tr th:only-of-type {\n",
       "        vertical-align: middle;\n",
       "    }\n",
       "\n",
       "    .dataframe tbody tr th {\n",
       "        vertical-align: top;\n",
       "    }\n",
       "\n",
       "    .dataframe thead th {\n",
       "        text-align: right;\n",
       "    }\n",
       "</style>\n",
       "<table border=\"1\" class=\"dataframe\">\n",
       "  <thead>\n",
       "    <tr style=\"text-align: right;\">\n",
       "      <th></th>\n",
       "      <th>recency</th>\n",
       "      <th>frequency</th>\n",
       "      <th>monetary_value</th>\n",
       "      <th>R_Quartile</th>\n",
       "      <th>F_Quartile</th>\n",
       "      <th>M_Quartile</th>\n",
       "      <th>RFMClass</th>\n",
       "    </tr>\n",
       "    <tr>\n",
       "      <th>customer_id</th>\n",
       "      <th></th>\n",
       "      <th></th>\n",
       "      <th></th>\n",
       "      <th></th>\n",
       "      <th></th>\n",
       "      <th></th>\n",
       "      <th></th>\n",
       "    </tr>\n",
       "  </thead>\n",
       "  <tbody>\n",
       "    <tr>\n",
       "      <th>CS1112</th>\n",
       "      <td>77.0</td>\n",
       "      <td>6</td>\n",
       "      <td>358</td>\n",
       "      <td>2</td>\n",
       "      <td>1</td>\n",
       "      <td>1</td>\n",
       "      <td>211</td>\n",
       "    </tr>\n",
       "    <tr>\n",
       "      <th>CS1113</th>\n",
       "      <td>51.0</td>\n",
       "      <td>11</td>\n",
       "      <td>775</td>\n",
       "      <td>3</td>\n",
       "      <td>3</td>\n",
       "      <td>3</td>\n",
       "      <td>333</td>\n",
       "    </tr>\n",
       "    <tr>\n",
       "      <th>CS1114</th>\n",
       "      <td>48.0</td>\n",
       "      <td>11</td>\n",
       "      <td>804</td>\n",
       "      <td>3</td>\n",
       "      <td>3</td>\n",
       "      <td>4</td>\n",
       "      <td>334</td>\n",
       "    </tr>\n",
       "    <tr>\n",
       "      <th>CS1115</th>\n",
       "      <td>27.0</td>\n",
       "      <td>10</td>\n",
       "      <td>765</td>\n",
       "      <td>4</td>\n",
       "      <td>3</td>\n",
       "      <td>3</td>\n",
       "      <td>433</td>\n",
       "    </tr>\n",
       "    <tr>\n",
       "      <th>CS1116</th>\n",
       "      <td>219.0</td>\n",
       "      <td>5</td>\n",
       "      <td>333</td>\n",
       "      <td>1</td>\n",
       "      <td>1</td>\n",
       "      <td>1</td>\n",
       "      <td>111</td>\n",
       "    </tr>\n",
       "  </tbody>\n",
       "</table>\n",
       "</div>"
      ],
      "text/plain": [
       "             recency  frequency  monetary_value  R_Quartile  F_Quartile  \\\n",
       "customer_id                                                               \n",
       "CS1112          77.0          6             358           2           1   \n",
       "CS1113          51.0         11             775           3           3   \n",
       "CS1114          48.0         11             804           3           3   \n",
       "CS1115          27.0         10             765           4           3   \n",
       "CS1116         219.0          5             333           1           1   \n",
       "\n",
       "             M_Quartile RFMClass  \n",
       "customer_id                       \n",
       "CS1112                1      211  \n",
       "CS1113                3      333  \n",
       "CS1114                4      334  \n",
       "CS1115                3      433  \n",
       "CS1116                1      111  "
      ]
     },
     "execution_count": 17,
     "metadata": {},
     "output_type": "execute_result"
    }
   ],
   "source": [
    "rfmSeg['RFMClass'] = rfmSeg.R_Quartile.map(str) \\\n",
    "                            + rfmSeg.F_Quartile.map(str) \\\n",
    "                            + rfmSeg.M_Quartile.map(str)\n",
    "rfmSeg.head()"
   ]
  },
  {
   "cell_type": "code",
   "execution_count": 18,
   "id": "96263351",
   "metadata": {},
   "outputs": [
    {
     "data": {
      "text/html": [
       "<div>\n",
       "<style scoped>\n",
       "    .dataframe tbody tr th:only-of-type {\n",
       "        vertical-align: middle;\n",
       "    }\n",
       "\n",
       "    .dataframe tbody tr th {\n",
       "        vertical-align: top;\n",
       "    }\n",
       "\n",
       "    .dataframe thead th {\n",
       "        text-align: right;\n",
       "    }\n",
       "</style>\n",
       "<table border=\"1\" class=\"dataframe\">\n",
       "  <thead>\n",
       "    <tr style=\"text-align: right;\">\n",
       "      <th></th>\n",
       "      <th>recency</th>\n",
       "      <th>frequency</th>\n",
       "      <th>monetary_value</th>\n",
       "      <th>R_Quartile</th>\n",
       "      <th>F_Quartile</th>\n",
       "      <th>M_Quartile</th>\n",
       "      <th>RFMClass</th>\n",
       "    </tr>\n",
       "    <tr>\n",
       "      <th>customer_id</th>\n",
       "      <th></th>\n",
       "      <th></th>\n",
       "      <th></th>\n",
       "      <th></th>\n",
       "      <th></th>\n",
       "      <th></th>\n",
       "      <th></th>\n",
       "    </tr>\n",
       "  </thead>\n",
       "  <tbody>\n",
       "    <tr>\n",
       "      <th>CS8892</th>\n",
       "      <td>190.0</td>\n",
       "      <td>7</td>\n",
       "      <td>379</td>\n",
       "      <td>1</td>\n",
       "      <td>1</td>\n",
       "      <td>1</td>\n",
       "      <td>111</td>\n",
       "    </tr>\n",
       "    <tr>\n",
       "      <th>CS4119</th>\n",
       "      <td>134.0</td>\n",
       "      <td>6</td>\n",
       "      <td>378</td>\n",
       "      <td>1</td>\n",
       "      <td>1</td>\n",
       "      <td>1</td>\n",
       "      <td>111</td>\n",
       "    </tr>\n",
       "    <tr>\n",
       "      <th>CS5496</th>\n",
       "      <td>183.0</td>\n",
       "      <td>6</td>\n",
       "      <td>378</td>\n",
       "      <td>1</td>\n",
       "      <td>1</td>\n",
       "      <td>1</td>\n",
       "      <td>111</td>\n",
       "    </tr>\n",
       "    <tr>\n",
       "      <th>CS8522</th>\n",
       "      <td>269.0</td>\n",
       "      <td>7</td>\n",
       "      <td>377</td>\n",
       "      <td>1</td>\n",
       "      <td>1</td>\n",
       "      <td>1</td>\n",
       "      <td>111</td>\n",
       "    </tr>\n",
       "    <tr>\n",
       "      <th>CS5080</th>\n",
       "      <td>300.0</td>\n",
       "      <td>6</td>\n",
       "      <td>375</td>\n",
       "      <td>1</td>\n",
       "      <td>1</td>\n",
       "      <td>1</td>\n",
       "      <td>111</td>\n",
       "    </tr>\n",
       "    <tr>\n",
       "      <th>...</th>\n",
       "      <td>...</td>\n",
       "      <td>...</td>\n",
       "      <td>...</td>\n",
       "      <td>...</td>\n",
       "      <td>...</td>\n",
       "      <td>...</td>\n",
       "      <td>...</td>\n",
       "    </tr>\n",
       "    <tr>\n",
       "      <th>CS2659</th>\n",
       "      <td>33.0</td>\n",
       "      <td>12</td>\n",
       "      <td>804</td>\n",
       "      <td>4</td>\n",
       "      <td>4</td>\n",
       "      <td>4</td>\n",
       "      <td>444</td>\n",
       "    </tr>\n",
       "    <tr>\n",
       "      <th>CS5848</th>\n",
       "      <td>20.0</td>\n",
       "      <td>12</td>\n",
       "      <td>803</td>\n",
       "      <td>4</td>\n",
       "      <td>4</td>\n",
       "      <td>4</td>\n",
       "      <td>444</td>\n",
       "    </tr>\n",
       "    <tr>\n",
       "      <th>CS1944</th>\n",
       "      <td>33.0</td>\n",
       "      <td>12</td>\n",
       "      <td>802</td>\n",
       "      <td>4</td>\n",
       "      <td>4</td>\n",
       "      <td>4</td>\n",
       "      <td>444</td>\n",
       "    </tr>\n",
       "    <tr>\n",
       "      <th>CS4708</th>\n",
       "      <td>32.0</td>\n",
       "      <td>12</td>\n",
       "      <td>802</td>\n",
       "      <td>4</td>\n",
       "      <td>4</td>\n",
       "      <td>4</td>\n",
       "      <td>444</td>\n",
       "    </tr>\n",
       "    <tr>\n",
       "      <th>CS3685</th>\n",
       "      <td>27.0</td>\n",
       "      <td>12</td>\n",
       "      <td>797</td>\n",
       "      <td>4</td>\n",
       "      <td>4</td>\n",
       "      <td>4</td>\n",
       "      <td>444</td>\n",
       "    </tr>\n",
       "  </tbody>\n",
       "</table>\n",
       "<p>6884 rows × 7 columns</p>\n",
       "</div>"
      ],
      "text/plain": [
       "             recency  frequency  monetary_value  R_Quartile  F_Quartile  \\\n",
       "customer_id                                                               \n",
       "CS8892         190.0          7             379           1           1   \n",
       "CS4119         134.0          6             378           1           1   \n",
       "CS5496         183.0          6             378           1           1   \n",
       "CS8522         269.0          7             377           1           1   \n",
       "CS5080         300.0          6             375           1           1   \n",
       "...              ...        ...             ...         ...         ...   \n",
       "CS2659          33.0         12             804           4           4   \n",
       "CS5848          20.0         12             803           4           4   \n",
       "CS1944          33.0         12             802           4           4   \n",
       "CS4708          32.0         12             802           4           4   \n",
       "CS3685          27.0         12             797           4           4   \n",
       "\n",
       "             M_Quartile RFMClass  \n",
       "customer_id                       \n",
       "CS8892                1      111  \n",
       "CS4119                1      111  \n",
       "CS5496                1      111  \n",
       "CS8522                1      111  \n",
       "CS5080                1      111  \n",
       "...                 ...      ...  \n",
       "CS2659                4      444  \n",
       "CS5848                4      444  \n",
       "CS1944                4      444  \n",
       "CS4708                4      444  \n",
       "CS3685                4      444  \n",
       "\n",
       "[6884 rows x 7 columns]"
      ]
     },
     "execution_count": 18,
     "metadata": {},
     "output_type": "execute_result"
    }
   ],
   "source": [
    "rfmSeg.sort_values(by=['RFMClass', 'monetary_value'], ascending=[True, False])"
   ]
  },
  {
   "cell_type": "code",
   "execution_count": 19,
   "id": "cccb6dc6",
   "metadata": {},
   "outputs": [
    {
     "data": {
      "text/plain": [
       "RFMClass\n",
       "111     230.907975\n",
       "112     461.333333\n",
       "113     609.500000\n",
       "121     324.096154\n",
       "122     513.865169\n",
       "123     652.716312\n",
       "124     816.500000\n",
       "131     350.000000\n",
       "132     479.200000\n",
       "133     712.770115\n",
       "134     831.971429\n",
       "142     501.500000\n",
       "143     746.937500\n",
       "144     960.285714\n",
       "211     247.666667\n",
       "212     465.619318\n",
       "213     605.000000\n",
       "221     326.098039\n",
       "222     512.409524\n",
       "223     655.697368\n",
       "231     335.000000\n",
       "232     489.859375\n",
       "233     711.404255\n",
       "234     834.352113\n",
       "242     528.923077\n",
       "243     738.615385\n",
       "244     982.434174\n",
       "311     258.209559\n",
       "312     464.374150\n",
       "313     616.600000\n",
       "321     332.772727\n",
       "322     509.475904\n",
       "323     661.487013\n",
       "331     346.000000\n",
       "332     477.266667\n",
       "333     706.114173\n",
       "334     853.373134\n",
       "342     523.285714\n",
       "343     739.839286\n",
       "344     993.914489\n",
       "411     267.688312\n",
       "412     466.422078\n",
       "413     601.250000\n",
       "421     317.112903\n",
       "422     508.502890\n",
       "423     651.675000\n",
       "431     365.000000\n",
       "432     490.388889\n",
       "433     713.430712\n",
       "434     843.608696\n",
       "442     521.812500\n",
       "443     740.833333\n",
       "444    1001.289963\n",
       "Name: monetary_value, dtype: float64"
      ]
     },
     "execution_count": 19,
     "metadata": {},
     "output_type": "execute_result"
    }
   ],
   "source": [
    "rfmSeg.groupby('RFMClass').agg('monetary_value').mean()"
   ]
  },
  {
   "cell_type": "code",
   "execution_count": 20,
   "id": "3adffa11",
   "metadata": {},
   "outputs": [
    {
     "name": "stdout",
     "output_type": "stream",
     "text": [
      "<class 'pandas.core.frame.DataFrame'>\n",
      "Index: 6884 entries, CS1112 to CS9000\n",
      "Data columns (total 8 columns):\n",
      " #   Column          Non-Null Count  Dtype  \n",
      "---  ------          --------------  -----  \n",
      " 0   recency         6884 non-null   float64\n",
      " 1   frequency       6884 non-null   int64  \n",
      " 2   monetary_value  6884 non-null   int64  \n",
      " 3   R_Quartile      6884 non-null   int64  \n",
      " 4   F_Quartile      6884 non-null   int64  \n",
      " 5   M_Quartile      6884 non-null   int64  \n",
      " 6   RFMClass        6884 non-null   object \n",
      " 7   Total Score     6884 non-null   int64  \n",
      "dtypes: float64(1), int64(6), object(1)\n",
      "memory usage: 484.0+ KB\n",
      "             recency  frequency  monetary_value  R_Quartile  F_Quartile  \\\n",
      "customer_id                                                               \n",
      "CS1112          77.0          6             358           2           1   \n",
      "CS1113          51.0         11             775           3           3   \n",
      "CS1114          48.0         11             804           3           3   \n",
      "CS1115          27.0         10             765           4           3   \n",
      "CS1116         219.0          5             333           1           1   \n",
      "\n",
      "             M_Quartile RFMClass  Total Score  \n",
      "customer_id                                    \n",
      "CS1112                1      211            4  \n",
      "CS1113                3      333            9  \n",
      "CS1114                4      334           10  \n",
      "CS1115                3      433           10  \n",
      "CS1116                1      111            3   None\n"
     ]
    }
   ],
   "source": [
    "rfmSeg['Total Score'] = rfmSeg['R_Quartile'] + rfmSeg['F_Quartile'] +rfmSeg['M_Quartile']\n",
    "print(rfmSeg.head(), rfmSeg.info())"
   ]
  },
  {
   "cell_type": "code",
   "execution_count": 21,
   "id": "b56c7413",
   "metadata": {},
   "outputs": [
    {
     "data": {
      "text/html": [
       "<div>\n",
       "<style scoped>\n",
       "    .dataframe tbody tr th:only-of-type {\n",
       "        vertical-align: middle;\n",
       "    }\n",
       "\n",
       "    .dataframe tbody tr th {\n",
       "        vertical-align: top;\n",
       "    }\n",
       "\n",
       "    .dataframe thead th {\n",
       "        text-align: right;\n",
       "    }\n",
       "</style>\n",
       "<table border=\"1\" class=\"dataframe\">\n",
       "  <thead>\n",
       "    <tr style=\"text-align: right;\">\n",
       "      <th></th>\n",
       "      <th>recency</th>\n",
       "      <th>frequency</th>\n",
       "      <th>monetary_value</th>\n",
       "      <th>R_Quartile</th>\n",
       "      <th>F_Quartile</th>\n",
       "      <th>M_Quartile</th>\n",
       "      <th>RFMClass</th>\n",
       "      <th>Total Score</th>\n",
       "    </tr>\n",
       "    <tr>\n",
       "      <th>customer_id</th>\n",
       "      <th></th>\n",
       "      <th></th>\n",
       "      <th></th>\n",
       "      <th></th>\n",
       "      <th></th>\n",
       "      <th></th>\n",
       "      <th></th>\n",
       "      <th></th>\n",
       "    </tr>\n",
       "  </thead>\n",
       "  <tbody>\n",
       "    <tr>\n",
       "      <th>CS1112</th>\n",
       "      <td>77.0</td>\n",
       "      <td>6</td>\n",
       "      <td>358</td>\n",
       "      <td>2</td>\n",
       "      <td>1</td>\n",
       "      <td>1</td>\n",
       "      <td>211</td>\n",
       "      <td>4</td>\n",
       "    </tr>\n",
       "    <tr>\n",
       "      <th>CS1113</th>\n",
       "      <td>51.0</td>\n",
       "      <td>11</td>\n",
       "      <td>775</td>\n",
       "      <td>3</td>\n",
       "      <td>3</td>\n",
       "      <td>3</td>\n",
       "      <td>333</td>\n",
       "      <td>9</td>\n",
       "    </tr>\n",
       "    <tr>\n",
       "      <th>CS1114</th>\n",
       "      <td>48.0</td>\n",
       "      <td>11</td>\n",
       "      <td>804</td>\n",
       "      <td>3</td>\n",
       "      <td>3</td>\n",
       "      <td>4</td>\n",
       "      <td>334</td>\n",
       "      <td>10</td>\n",
       "    </tr>\n",
       "    <tr>\n",
       "      <th>CS1115</th>\n",
       "      <td>27.0</td>\n",
       "      <td>10</td>\n",
       "      <td>765</td>\n",
       "      <td>4</td>\n",
       "      <td>3</td>\n",
       "      <td>3</td>\n",
       "      <td>433</td>\n",
       "      <td>10</td>\n",
       "    </tr>\n",
       "    <tr>\n",
       "      <th>CS1116</th>\n",
       "      <td>219.0</td>\n",
       "      <td>5</td>\n",
       "      <td>333</td>\n",
       "      <td>1</td>\n",
       "      <td>1</td>\n",
       "      <td>1</td>\n",
       "      <td>111</td>\n",
       "      <td>3</td>\n",
       "    </tr>\n",
       "  </tbody>\n",
       "</table>\n",
       "</div>"
      ],
      "text/plain": [
       "             recency  frequency  monetary_value  R_Quartile  F_Quartile  \\\n",
       "customer_id                                                               \n",
       "CS1112          77.0          6             358           2           1   \n",
       "CS1113          51.0         11             775           3           3   \n",
       "CS1114          48.0         11             804           3           3   \n",
       "CS1115          27.0         10             765           4           3   \n",
       "CS1116         219.0          5             333           1           1   \n",
       "\n",
       "             M_Quartile RFMClass  Total Score  \n",
       "customer_id                                    \n",
       "CS1112                1      211            4  \n",
       "CS1113                3      333            9  \n",
       "CS1114                4      334           10  \n",
       "CS1115                3      433           10  \n",
       "CS1116                1      111            3  "
      ]
     },
     "execution_count": 21,
     "metadata": {},
     "output_type": "execute_result"
    }
   ],
   "source": [
    "rfmTable.head()"
   ]
  },
  {
   "cell_type": "code",
   "execution_count": 22,
   "id": "59bbd272",
   "metadata": {},
   "outputs": [
    {
     "data": {
      "text/plain": [
       "Total Score\n",
       "3      230.907975\n",
       "4      335.414443\n",
       "5      385.731672\n",
       "6      447.638221\n",
       "7      557.809645\n",
       "8      629.974101\n",
       "9      741.711462\n",
       "10     849.503277\n",
       "11     952.057621\n",
       "12    1001.289963\n",
       "Name: monetary_value, dtype: float64"
      ]
     },
     "execution_count": 22,
     "metadata": {},
     "output_type": "execute_result"
    }
   ],
   "source": [
    "rfmSeg.groupby('Total Score').agg('monetary_value').mean()"
   ]
  },
  {
   "cell_type": "code",
   "execution_count": 23,
   "id": "3c62049a",
   "metadata": {},
   "outputs": [
    {
     "data": {
      "text/plain": [
       "<AxesSubplot:xlabel='Total Score'>"
      ]
     },
     "execution_count": 23,
     "metadata": {},
     "output_type": "execute_result"
    },
    {
     "data": {
      "image/png": "[encoded data removed]",
      "text/plain": [
       "<Figure size 432x288 with 1 Axes>"
      ]
     },
     "metadata": {
      "needs_background": "light"
     },
     "output_type": "display_data"
    }
   ],
   "source": [
    "rfmSeg.groupby('Total Score').agg('monetary_value').mean().plot(kind='bar', colormap='Blues_r')"
   ]
  },
  {
   "cell_type": "code",
   "execution_count": 24,
   "id": "a9d7a82e",
   "metadata": {},
   "outputs": [
    {
     "data": {
      "text/plain": [
       "<AxesSubplot:xlabel='Total Score'>"
      ]
     },
     "execution_count": 24,
     "metadata": {},
     "output_type": "execute_result"
    },
    {
     "data": {
      "image/png": "[encoded data removed]",
      "text/plain": [
       "<Figure size 432x288 with 1 Axes>"
      ]
     },
     "metadata": {
      "needs_background": "light"
     },
     "output_type": "display_data"
    }
   ],
   "source": [
    "rfmSeg.groupby('Total Score').agg('frequency').mean().plot(kind='bar', colormap='Blues_r')"
   ]
  },
  {
   "cell_type": "code",
   "execution_count": 25,
   "id": "36891823",
   "metadata": {},
   "outputs": [
    {
     "data": {
      "text/plain": [
       "<AxesSubplot:xlabel='Total Score'>"
      ]
     },
     "execution_count": 25,
     "metadata": {},
     "output_type": "execute_result"
    },
    {
     "data": {
      "image/png": "[encoded data removed]",
      "text/plain": [
       "<Figure size 432x288 with 1 Axes>"
      ]
     },
     "metadata": {
      "needs_background": "light"
     },
     "output_type": "display_data"
    }
   ],
   "source": [
    "rfmSeg.groupby('Total Score').agg('recency').mean().plot(kind='bar', colormap='Blues_r')"
   ]
  },
  {
   "cell_type": "code",
   "execution_count": 26,
   "id": "e4015146",
   "metadata": {},
   "outputs": [
    {
     "name": "stdout",
     "output_type": "stream",
     "text": [
      "<class 'pandas.core.frame.DataFrame'>\n",
      "Int64Index: 6884 entries, 0 to 6883\n",
      "Data columns (total 2 columns):\n",
      " #   Column       Non-Null Count  Dtype \n",
      "---  ------       --------------  ----- \n",
      " 0   customer_id  6884 non-null   object\n",
      " 1   response     6884 non-null   int64 \n",
      "dtypes: int64(1), object(1)\n",
      "memory usage: 161.3+ KB\n",
      "  customer_id  response\n",
      "0      CS1112         0\n",
      "1      CS1113         0\n",
      "2      CS1114         1\n",
      "3      CS1115         1\n",
      "4      CS1116         1 None\n"
     ]
    }
   ],
   "source": [
    "res = pd.read_csv('https://raw.githubusercontent.com/benvictoria17/Finance/main/dataset/Retail%20Transaction%20Data/Retail_Data_Response.csv')\n",
    "res.sort_values('customer_id', inplace=True)\n",
    "\n",
    "print(res.head(), res.info())"
   ]
  },
  {
   "cell_type": "code",
   "execution_count": 27,
   "id": "ab585a69",
   "metadata": {},
   "outputs": [
    {
     "data": {
      "text/html": [
       "<div>\n",
       "<style scoped>\n",
       "    .dataframe tbody tr th:only-of-type {\n",
       "        vertical-align: middle;\n",
       "    }\n",
       "\n",
       "    .dataframe tbody tr th {\n",
       "        vertical-align: top;\n",
       "    }\n",
       "\n",
       "    .dataframe thead th {\n",
       "        text-align: right;\n",
       "    }\n",
       "</style>\n",
       "<table border=\"1\" class=\"dataframe\">\n",
       "  <thead>\n",
       "    <tr style=\"text-align: right;\">\n",
       "      <th></th>\n",
       "      <th>customer_id</th>\n",
       "      <th>recency</th>\n",
       "      <th>frequency</th>\n",
       "      <th>monetary_value</th>\n",
       "      <th>R_Quartile</th>\n",
       "      <th>F_Quartile</th>\n",
       "      <th>M_Quartile</th>\n",
       "      <th>RFMClass</th>\n",
       "      <th>Total Score</th>\n",
       "    </tr>\n",
       "  </thead>\n",
       "  <tbody>\n",
       "    <tr>\n",
       "      <th>0</th>\n",
       "      <td>CS1112</td>\n",
       "      <td>77.0</td>\n",
       "      <td>6</td>\n",
       "      <td>358</td>\n",
       "      <td>2</td>\n",
       "      <td>1</td>\n",
       "      <td>1</td>\n",
       "      <td>211</td>\n",
       "      <td>4</td>\n",
       "    </tr>\n",
       "    <tr>\n",
       "      <th>1</th>\n",
       "      <td>CS1113</td>\n",
       "      <td>51.0</td>\n",
       "      <td>11</td>\n",
       "      <td>775</td>\n",
       "      <td>3</td>\n",
       "      <td>3</td>\n",
       "      <td>3</td>\n",
       "      <td>333</td>\n",
       "      <td>9</td>\n",
       "    </tr>\n",
       "    <tr>\n",
       "      <th>2</th>\n",
       "      <td>CS1114</td>\n",
       "      <td>48.0</td>\n",
       "      <td>11</td>\n",
       "      <td>804</td>\n",
       "      <td>3</td>\n",
       "      <td>3</td>\n",
       "      <td>4</td>\n",
       "      <td>334</td>\n",
       "      <td>10</td>\n",
       "    </tr>\n",
       "    <tr>\n",
       "      <th>3</th>\n",
       "      <td>CS1115</td>\n",
       "      <td>27.0</td>\n",
       "      <td>10</td>\n",
       "      <td>765</td>\n",
       "      <td>4</td>\n",
       "      <td>3</td>\n",
       "      <td>3</td>\n",
       "      <td>433</td>\n",
       "      <td>10</td>\n",
       "    </tr>\n",
       "    <tr>\n",
       "      <th>4</th>\n",
       "      <td>CS1116</td>\n",
       "      <td>219.0</td>\n",
       "      <td>5</td>\n",
       "      <td>333</td>\n",
       "      <td>1</td>\n",
       "      <td>1</td>\n",
       "      <td>1</td>\n",
       "      <td>111</td>\n",
       "      <td>3</td>\n",
       "    </tr>\n",
       "  </tbody>\n",
       "</table>\n",
       "</div>"
      ],
      "text/plain": [
       "  customer_id  recency  frequency  monetary_value  R_Quartile  F_Quartile  \\\n",
       "0      CS1112     77.0          6             358           2           1   \n",
       "1      CS1113     51.0         11             775           3           3   \n",
       "2      CS1114     48.0         11             804           3           3   \n",
       "3      CS1115     27.0         10             765           4           3   \n",
       "4      CS1116    219.0          5             333           1           1   \n",
       "\n",
       "   M_Quartile RFMClass  Total Score  \n",
       "0           1      211            4  \n",
       "1           3      333            9  \n",
       "2           4      334           10  \n",
       "3           3      433           10  \n",
       "4           1      111            3  "
      ]
     },
     "execution_count": 27,
     "metadata": {},
     "output_type": "execute_result"
    }
   ],
   "source": [
    "rfmSeg.reset_index(inplace=True)\n",
    "rfmSeg.head()"
   ]
  },
  {
   "cell_type": "code",
   "execution_count": 28,
   "id": "dbbe0633",
   "metadata": {},
   "outputs": [
    {
     "name": "stdout",
     "output_type": "stream",
     "text": [
      "<class 'pandas.core.frame.DataFrame'>\n",
      "Int64Index: 6884 entries, 0 to 6883\n",
      "Data columns (total 10 columns):\n",
      " #   Column          Non-Null Count  Dtype  \n",
      "---  ------          --------------  -----  \n",
      " 0   customer_id     6884 non-null   object \n",
      " 1   recency         6884 non-null   float64\n",
      " 2   frequency       6884 non-null   int64  \n",
      " 3   monetary_value  6884 non-null   int64  \n",
      " 4   R_Quartile      6884 non-null   int64  \n",
      " 5   F_Quartile      6884 non-null   int64  \n",
      " 6   M_Quartile      6884 non-null   int64  \n",
      " 7   RFMClass        6884 non-null   object \n",
      " 8   Total Score     6884 non-null   int64  \n",
      " 9   response        6884 non-null   int64  \n",
      "dtypes: float64(1), int64(7), object(2)\n",
      "memory usage: 591.6+ KB\n"
     ]
    }
   ],
   "source": [
    "rfmSeg.sort_values('customer_id', inplace=True)\n",
    "rfm2=pd.merge(rfmSeg, res, on='customer_id')\n",
    "rfm2.info()"
   ]
  },
  {
   "cell_type": "code",
   "execution_count": 29,
   "id": "6988d20a",
   "metadata": {},
   "outputs": [
    {
     "data": {
      "text/plain": [
       "Text(0, 0.5, 'Proportion of Responders')"
      ]
     },
     "execution_count": 29,
     "metadata": {},
     "output_type": "execute_result"
    },
    {
     "data": {
      "image/png": "[encoded data removed]",
      "text/plain": [
       "<Figure size 432x288 with 1 Axes>"
      ]
     },
     "metadata": {
      "needs_background": "light"
     },
     "output_type": "display_data"
    }
   ],
   "source": [
    "ax=rfm2.groupby('Total Score').agg('response').mean().plot(kind='bar', colormap='copper_r')\n",
    "ax.set_xlabel(\"Total Score\")\n",
    "ax.set_ylabel(\"Proportion of Responders\")"
   ]
  }
 ],
 "metadata": {
  "kernelspec": {
   "display_name": "Python 3",
   "language": "python",
   "name": "python3"
  },
  "language_info": {
   "codemirror_mode": {
    "name": "ipython",
    "version": 3
   },
   "file_extension": ".py",
   "mimetype": "text/x-python",
   "name": "python",
   "nbconvert_exporter": "python",
   "pygments_lexer": "ipython3",
   "version": "3.9.5"
  }
 },
 "nbformat": 4,
 "nbformat_minor": 5
}
