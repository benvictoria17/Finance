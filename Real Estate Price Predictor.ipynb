{
 "cells": [
  {
   "cell_type": "code",
   "execution_count": 1,
   "id": "ede446ef",
   "metadata": {
    "execution": {
     "iopub.execute_input": "2022-04-01T04:18:20.624037Z",
     "iopub.status.busy": "2022-04-01T04:18:20.617848Z",
     "iopub.status.idle": "2022-04-01T04:18:21.765065Z",
     "shell.execute_reply": "2022-04-01T04:18:21.765673Z",
     "shell.execute_reply.started": "2022-04-01T04:08:05.245195Z"
    },
    "papermill": {
     "duration": 1.195307,
     "end_time": "2022-04-01T04:18:21.766004",
     "exception": false,
     "start_time": "2022-04-01T04:18:20.570697",
     "status": "completed"
    },
    "tags": []
   },
   "outputs": [],
   "source": [
    "import pandas as pd\n",
    "import numpy as np\n",
    "import matplotlib.pyplot as plt\n",
    "import seaborn as sns"
   ]
  },
  {
   "cell_type": "code",
   "execution_count": 2,
   "id": "447b9f33",
   "metadata": {
    "execution": {
     "iopub.execute_input": "2022-04-01T04:18:21.861633Z",
     "iopub.status.busy": "2022-04-01T04:18:21.860494Z",
     "iopub.status.idle": "2022-04-01T04:18:22.496065Z",
     "shell.execute_reply": "2022-04-01T04:18:22.496797Z",
     "shell.execute_reply.started": "2022-04-01T04:08:05.262144Z"
    },
    "papermill": {
     "duration": 0.685658,
     "end_time": "2022-04-01T04:18:22.497005",
     "exception": false,
     "start_time": "2022-04-01T04:18:21.811347",
     "status": "completed"
    },
    "tags": []
   },
   "outputs": [
    {
     "data": {
      "text/html": [
       "<div>\n",
       "<style scoped>\n",
       "    .dataframe tbody tr th:only-of-type {\n",
       "        vertical-align: middle;\n",
       "    }\n",
       "\n",
       "    .dataframe tbody tr th {\n",
       "        vertical-align: top;\n",
       "    }\n",
       "\n",
       "    .dataframe thead th {\n",
       "        text-align: right;\n",
       "    }\n",
       "</style>\n",
       "<table border=\"1\" class=\"dataframe\">\n",
       "  <thead>\n",
       "    <tr style=\"text-align: right;\">\n",
       "      <th></th>\n",
       "      <th>No</th>\n",
       "      <th>X1 transaction date</th>\n",
       "      <th>X2 house age</th>\n",
       "      <th>X3 distance to the nearest MRT station</th>\n",
       "      <th>X4 number of convenience stores</th>\n",
       "      <th>X5 latitude</th>\n",
       "      <th>X6 longitude</th>\n",
       "      <th>Y house price of unit area</th>\n",
       "    </tr>\n",
       "  </thead>\n",
       "  <tbody>\n",
       "    <tr>\n",
       "      <th>0</th>\n",
       "      <td>1</td>\n",
       "      <td>2012.917</td>\n",
       "      <td>32.0</td>\n",
       "      <td>84.87882</td>\n",
       "      <td>10</td>\n",
       "      <td>24.98298</td>\n",
       "      <td>121.54024</td>\n",
       "      <td>37.9</td>\n",
       "    </tr>\n",
       "    <tr>\n",
       "      <th>1</th>\n",
       "      <td>2</td>\n",
       "      <td>2012.917</td>\n",
       "      <td>19.5</td>\n",
       "      <td>306.59470</td>\n",
       "      <td>9</td>\n",
       "      <td>24.98034</td>\n",
       "      <td>121.53951</td>\n",
       "      <td>42.2</td>\n",
       "    </tr>\n",
       "    <tr>\n",
       "      <th>2</th>\n",
       "      <td>3</td>\n",
       "      <td>2013.583</td>\n",
       "      <td>13.3</td>\n",
       "      <td>561.98450</td>\n",
       "      <td>5</td>\n",
       "      <td>24.98746</td>\n",
       "      <td>121.54391</td>\n",
       "      <td>47.3</td>\n",
       "    </tr>\n",
       "    <tr>\n",
       "      <th>3</th>\n",
       "      <td>4</td>\n",
       "      <td>2013.500</td>\n",
       "      <td>13.3</td>\n",
       "      <td>561.98450</td>\n",
       "      <td>5</td>\n",
       "      <td>24.98746</td>\n",
       "      <td>121.54391</td>\n",
       "      <td>54.8</td>\n",
       "    </tr>\n",
       "    <tr>\n",
       "      <th>4</th>\n",
       "      <td>5</td>\n",
       "      <td>2012.833</td>\n",
       "      <td>5.0</td>\n",
       "      <td>390.56840</td>\n",
       "      <td>5</td>\n",
       "      <td>24.97937</td>\n",
       "      <td>121.54245</td>\n",
       "      <td>43.1</td>\n",
       "    </tr>\n",
       "  </tbody>\n",
       "</table>\n",
       "</div>"
      ],
      "text/plain": [
       "   No  X1 transaction date  X2 house age  \\\n",
       "0   1             2012.917          32.0   \n",
       "1   2             2012.917          19.5   \n",
       "2   3             2013.583          13.3   \n",
       "3   4             2013.500          13.3   \n",
       "4   5             2012.833           5.0   \n",
       "\n",
       "   X3 distance to the nearest MRT station  X4 number of convenience stores  \\\n",
       "0                                84.87882                               10   \n",
       "1                               306.59470                                9   \n",
       "2                               561.98450                                5   \n",
       "3                               561.98450                                5   \n",
       "4                               390.56840                                5   \n",
       "\n",
       "   X5 latitude  X6 longitude  Y house price of unit area  \n",
       "0     24.98298     121.54024                        37.9  \n",
       "1     24.98034     121.53951                        42.2  \n",
       "2     24.98746     121.54391                        47.3  \n",
       "3     24.98746     121.54391                        54.8  \n",
       "4     24.97937     121.54245                        43.1  "
      ]
     },
     "execution_count": 2,
     "metadata": {},
     "output_type": "execute_result"
    }
   ],
   "source": [
    "df = pd.read_csv(\"https://raw.githubusercontent.com/benvictoria17/Finance/master/dataset/Real%20estate%20price%20prediction/Real%20estate.csv\")\n",
    "df.head()"
   ]
  },
  {
   "cell_type": "code",
   "execution_count": 3,
   "id": "ad26f45e",
   "metadata": {
    "execution": {
     "iopub.execute_input": "2022-04-01T04:18:22.585843Z",
     "iopub.status.busy": "2022-04-01T04:18:22.584722Z",
     "iopub.status.idle": "2022-04-01T04:18:22.605738Z",
     "shell.execute_reply": "2022-04-01T04:18:22.606421Z",
     "shell.execute_reply.started": "2022-04-01T04:08:05.334058Z"
    },
    "papermill": {
     "duration": 0.066362,
     "end_time": "2022-04-01T04:18:22.606631",
     "exception": false,
     "start_time": "2022-04-01T04:18:22.540269",
     "status": "completed"
    },
    "tags": []
   },
   "outputs": [
    {
     "data": {
      "text/html": [
       "<div>\n",
       "<style scoped>\n",
       "    .dataframe tbody tr th:only-of-type {\n",
       "        vertical-align: middle;\n",
       "    }\n",
       "\n",
       "    .dataframe tbody tr th {\n",
       "        vertical-align: top;\n",
       "    }\n",
       "\n",
       "    .dataframe thead th {\n",
       "        text-align: right;\n",
       "    }\n",
       "</style>\n",
       "<table border=\"1\" class=\"dataframe\">\n",
       "  <thead>\n",
       "    <tr style=\"text-align: right;\">\n",
       "      <th></th>\n",
       "      <th>X1 transaction date</th>\n",
       "      <th>X2 house age</th>\n",
       "      <th>X3 distance to the nearest MRT station</th>\n",
       "      <th>X4 number of convenience stores</th>\n",
       "      <th>Y house price of unit area</th>\n",
       "    </tr>\n",
       "  </thead>\n",
       "  <tbody>\n",
       "    <tr>\n",
       "      <th>0</th>\n",
       "      <td>2012.917</td>\n",
       "      <td>32.0</td>\n",
       "      <td>84.87882</td>\n",
       "      <td>10</td>\n",
       "      <td>37.9</td>\n",
       "    </tr>\n",
       "    <tr>\n",
       "      <th>1</th>\n",
       "      <td>2012.917</td>\n",
       "      <td>19.5</td>\n",
       "      <td>306.59470</td>\n",
       "      <td>9</td>\n",
       "      <td>42.2</td>\n",
       "    </tr>\n",
       "    <tr>\n",
       "      <th>2</th>\n",
       "      <td>2013.583</td>\n",
       "      <td>13.3</td>\n",
       "      <td>561.98450</td>\n",
       "      <td>5</td>\n",
       "      <td>47.3</td>\n",
       "    </tr>\n",
       "    <tr>\n",
       "      <th>3</th>\n",
       "      <td>2013.500</td>\n",
       "      <td>13.3</td>\n",
       "      <td>561.98450</td>\n",
       "      <td>5</td>\n",
       "      <td>54.8</td>\n",
       "    </tr>\n",
       "    <tr>\n",
       "      <th>4</th>\n",
       "      <td>2012.833</td>\n",
       "      <td>5.0</td>\n",
       "      <td>390.56840</td>\n",
       "      <td>5</td>\n",
       "      <td>43.1</td>\n",
       "    </tr>\n",
       "  </tbody>\n",
       "</table>\n",
       "</div>"
      ],
      "text/plain": [
       "   X1 transaction date  X2 house age  X3 distance to the nearest MRT station  \\\n",
       "0             2012.917          32.0                                84.87882   \n",
       "1             2012.917          19.5                               306.59470   \n",
       "2             2013.583          13.3                               561.98450   \n",
       "3             2013.500          13.3                               561.98450   \n",
       "4             2012.833           5.0                               390.56840   \n",
       "\n",
       "   X4 number of convenience stores  Y house price of unit area  \n",
       "0                               10                        37.9  \n",
       "1                                9                        42.2  \n",
       "2                                5                        47.3  \n",
       "3                                5                        54.8  \n",
       "4                                5                        43.1  "
      ]
     },
     "execution_count": 3,
     "metadata": {},
     "output_type": "execute_result"
    }
   ],
   "source": [
    "df = df.drop(['No','X5 latitude','X6 longitude'],axis=1)\n",
    "df.head()"
   ]
  },
  {
   "cell_type": "code",
   "execution_count": 4,
   "id": "27a4be45",
   "metadata": {
    "execution": {
     "iopub.execute_input": "2022-04-01T04:18:22.696137Z",
     "iopub.status.busy": "2022-04-01T04:18:22.695010Z",
     "iopub.status.idle": "2022-04-01T04:18:22.704098Z",
     "shell.execute_reply": "2022-04-01T04:18:22.704768Z",
     "shell.execute_reply.started": "2022-04-01T04:08:05.348996Z"
    },
    "papermill": {
     "duration": 0.055003,
     "end_time": "2022-04-01T04:18:22.704956",
     "exception": false,
     "start_time": "2022-04-01T04:18:22.649953",
     "status": "completed"
    },
    "tags": []
   },
   "outputs": [
    {
     "data": {
      "text/plain": [
       "X1 transaction date                       0\n",
       "X2 house age                              0\n",
       "X3 distance to the nearest MRT station    0\n",
       "X4 number of convenience stores           0\n",
       "Y house price of unit area                0\n",
       "dtype: int64"
      ]
     },
     "execution_count": 4,
     "metadata": {},
     "output_type": "execute_result"
    }
   ],
   "source": [
    "df.isnull().sum()"
   ]
  },
  {
   "cell_type": "code",
   "execution_count": 5,
   "id": "ad3cc133",
   "metadata": {
    "execution": {
     "iopub.execute_input": "2022-04-01T04:18:22.793667Z",
     "iopub.status.busy": "2022-04-01T04:18:22.792533Z",
     "iopub.status.idle": "2022-04-01T04:18:22.812722Z",
     "shell.execute_reply": "2022-04-01T04:18:22.813405Z",
     "shell.execute_reply.started": "2022-04-01T04:08:28.196613Z"
    },
    "papermill": {
     "duration": 0.066619,
     "end_time": "2022-04-01T04:18:22.813606",
     "exception": false,
     "start_time": "2022-04-01T04:18:22.746987",
     "status": "completed"
    },
    "tags": []
   },
   "outputs": [
    {
     "data": {
      "text/html": [
       "<div>\n",
       "<style scoped>\n",
       "    .dataframe tbody tr th:only-of-type {\n",
       "        vertical-align: middle;\n",
       "    }\n",
       "\n",
       "    .dataframe tbody tr th {\n",
       "        vertical-align: top;\n",
       "    }\n",
       "\n",
       "    .dataframe thead th {\n",
       "        text-align: right;\n",
       "    }\n",
       "</style>\n",
       "<table border=\"1\" class=\"dataframe\">\n",
       "  <thead>\n",
       "    <tr style=\"text-align: right;\">\n",
       "      <th></th>\n",
       "      <th>transaction_date</th>\n",
       "      <th>house_age</th>\n",
       "      <th>distance_MRT_station</th>\n",
       "      <th>num_conv_stores</th>\n",
       "      <th>price_perunit_area</th>\n",
       "    </tr>\n",
       "  </thead>\n",
       "  <tbody>\n",
       "    <tr>\n",
       "      <th>0</th>\n",
       "      <td>2012.917</td>\n",
       "      <td>32.0</td>\n",
       "      <td>84.87882</td>\n",
       "      <td>10</td>\n",
       "      <td>37.9</td>\n",
       "    </tr>\n",
       "    <tr>\n",
       "      <th>1</th>\n",
       "      <td>2012.917</td>\n",
       "      <td>19.5</td>\n",
       "      <td>306.59470</td>\n",
       "      <td>9</td>\n",
       "      <td>42.2</td>\n",
       "    </tr>\n",
       "    <tr>\n",
       "      <th>2</th>\n",
       "      <td>2013.583</td>\n",
       "      <td>13.3</td>\n",
       "      <td>561.98450</td>\n",
       "      <td>5</td>\n",
       "      <td>47.3</td>\n",
       "    </tr>\n",
       "    <tr>\n",
       "      <th>3</th>\n",
       "      <td>2013.500</td>\n",
       "      <td>13.3</td>\n",
       "      <td>561.98450</td>\n",
       "      <td>5</td>\n",
       "      <td>54.8</td>\n",
       "    </tr>\n",
       "    <tr>\n",
       "      <th>4</th>\n",
       "      <td>2012.833</td>\n",
       "      <td>5.0</td>\n",
       "      <td>390.56840</td>\n",
       "      <td>5</td>\n",
       "      <td>43.1</td>\n",
       "    </tr>\n",
       "    <tr>\n",
       "      <th>...</th>\n",
       "      <td>...</td>\n",
       "      <td>...</td>\n",
       "      <td>...</td>\n",
       "      <td>...</td>\n",
       "      <td>...</td>\n",
       "    </tr>\n",
       "    <tr>\n",
       "      <th>409</th>\n",
       "      <td>2013.000</td>\n",
       "      <td>13.7</td>\n",
       "      <td>4082.01500</td>\n",
       "      <td>0</td>\n",
       "      <td>15.4</td>\n",
       "    </tr>\n",
       "    <tr>\n",
       "      <th>410</th>\n",
       "      <td>2012.667</td>\n",
       "      <td>5.6</td>\n",
       "      <td>90.45606</td>\n",
       "      <td>9</td>\n",
       "      <td>50.0</td>\n",
       "    </tr>\n",
       "    <tr>\n",
       "      <th>411</th>\n",
       "      <td>2013.250</td>\n",
       "      <td>18.8</td>\n",
       "      <td>390.96960</td>\n",
       "      <td>7</td>\n",
       "      <td>40.6</td>\n",
       "    </tr>\n",
       "    <tr>\n",
       "      <th>412</th>\n",
       "      <td>2013.000</td>\n",
       "      <td>8.1</td>\n",
       "      <td>104.81010</td>\n",
       "      <td>5</td>\n",
       "      <td>52.5</td>\n",
       "    </tr>\n",
       "    <tr>\n",
       "      <th>413</th>\n",
       "      <td>2013.500</td>\n",
       "      <td>6.5</td>\n",
       "      <td>90.45606</td>\n",
       "      <td>9</td>\n",
       "      <td>63.9</td>\n",
       "    </tr>\n",
       "  </tbody>\n",
       "</table>\n",
       "<p>414 rows × 5 columns</p>\n",
       "</div>"
      ],
      "text/plain": [
       "     transaction_date  house_age  distance_MRT_station  num_conv_stores  \\\n",
       "0            2012.917       32.0              84.87882               10   \n",
       "1            2012.917       19.5             306.59470                9   \n",
       "2            2013.583       13.3             561.98450                5   \n",
       "3            2013.500       13.3             561.98450                5   \n",
       "4            2012.833        5.0             390.56840                5   \n",
       "..                ...        ...                   ...              ...   \n",
       "409          2013.000       13.7            4082.01500                0   \n",
       "410          2012.667        5.6              90.45606                9   \n",
       "411          2013.250       18.8             390.96960                7   \n",
       "412          2013.000        8.1             104.81010                5   \n",
       "413          2013.500        6.5              90.45606                9   \n",
       "\n",
       "     price_perunit_area  \n",
       "0                  37.9  \n",
       "1                  42.2  \n",
       "2                  47.3  \n",
       "3                  54.8  \n",
       "4                  43.1  \n",
       "..                  ...  \n",
       "409                15.4  \n",
       "410                50.0  \n",
       "411                40.6  \n",
       "412                52.5  \n",
       "413                63.9  \n",
       "\n",
       "[414 rows x 5 columns]"
      ]
     },
     "execution_count": 5,
     "metadata": {},
     "output_type": "execute_result"
    }
   ],
   "source": [
    "df = df.rename(columns = {\"X1 transaction date\":\"transaction_date\", \n",
    "                         \"X2 house age\": \"house_age\",\n",
    "                         \"X3 distance to the nearest MRT station\": \"distance_MRT_station\",\n",
    "                         \"X4 number of convenience stores\":\"num_conv_stores\",\n",
    "                         \"Y house price of unit area\":\"price_perunit_area\" })\n",
    "df"
   ]
  },
  {
   "cell_type": "code",
   "execution_count": 6,
   "id": "8c8b7f44",
   "metadata": {
    "execution": {
     "iopub.execute_input": "2022-04-01T04:18:22.906186Z",
     "iopub.status.busy": "2022-04-01T04:18:22.905120Z",
     "iopub.status.idle": "2022-04-01T04:18:22.913587Z",
     "shell.execute_reply": "2022-04-01T04:18:22.912877Z",
     "shell.execute_reply.started": "2022-04-01T04:08:37.092254Z"
    },
    "papermill": {
     "duration": 0.054736,
     "end_time": "2022-04-01T04:18:22.913743",
     "exception": false,
     "start_time": "2022-04-01T04:18:22.859007",
     "status": "completed"
    },
    "tags": []
   },
   "outputs": [
    {
     "data": {
      "text/plain": [
       "transaction_date        float64\n",
       "house_age               float64\n",
       "distance_MRT_station    float64\n",
       "num_conv_stores           int64\n",
       "price_perunit_area      float64\n",
       "dtype: object"
      ]
     },
     "execution_count": 6,
     "metadata": {},
     "output_type": "execute_result"
    }
   ],
   "source": [
    "df.dtypes"
   ]
  },
  {
   "cell_type": "code",
   "execution_count": 7,
   "id": "14df1ade",
   "metadata": {
    "execution": {
     "iopub.execute_input": "2022-04-01T04:18:23.017077Z",
     "iopub.status.busy": "2022-04-01T04:18:23.011558Z",
     "iopub.status.idle": "2022-04-01T04:18:23.022597Z",
     "shell.execute_reply": "2022-04-01T04:18:23.023216Z",
     "shell.execute_reply.started": "2022-04-01T04:09:10.144460Z"
    },
    "papermill": {
     "duration": 0.066034,
     "end_time": "2022-04-01T04:18:23.023436",
     "exception": false,
     "start_time": "2022-04-01T04:18:22.957402",
     "status": "completed"
    },
    "tags": []
   },
   "outputs": [],
   "source": [
    "year_mon = df['transaction_date'].apply(lambda x:str(x).split(\".\")) #typecasting each value to str and splliting\n",
    "years = [int(year[0]) for year in year_mon] #years\n",
    "months = [int(year[1]) for year in year_mon] #months code\n",
    "\n",
    "df['transaction_year'] = years\n",
    "df['transaction_month'] = months\n",
    "\n",
    "df['transaction_month'] = df['transaction_month'].apply(lambda x:x*100 if x<10 else x) \n",
    "df['transaction_month'] = df['transaction_month'].apply(lambda x:x*10 if x<100 else x)\n",
    "\n",
    "def quarter_conv(month):\n",
    "    if month <= 250:\n",
    "        return \"Q1\"\n",
    "    elif month <= 500:\n",
    "        return \"Q2\"\n",
    "    elif month <= 750:\n",
    "        return \"Q3\"\n",
    "    elif month <= 1000:\n",
    "        return \"Q4\"\n",
    "    \n",
    "df['transaction_qtr'] = df['transaction_month'].apply(quarter_conv) #Applying converter function\n",
    "\n",
    "qtrs = df['transaction_qtr']"
   ]
  },
  {
   "cell_type": "code",
   "execution_count": 8,
   "id": "f588e1e2",
   "metadata": {
    "execution": {
     "iopub.execute_input": "2022-04-01T04:18:23.126237Z",
     "iopub.status.busy": "2022-04-01T04:18:23.125477Z",
     "iopub.status.idle": "2022-04-01T04:18:23.130833Z",
     "shell.execute_reply": "2022-04-01T04:18:23.130065Z",
     "shell.execute_reply.started": "2022-04-01T04:10:07.214380Z"
    },
    "papermill": {
     "duration": 0.064131,
     "end_time": "2022-04-01T04:18:23.130993",
     "exception": false,
     "start_time": "2022-04-01T04:18:23.066862",
     "status": "completed"
    },
    "tags": []
   },
   "outputs": [
    {
     "data": {
      "text/html": [
       "<div>\n",
       "<style scoped>\n",
       "    .dataframe tbody tr th:only-of-type {\n",
       "        vertical-align: middle;\n",
       "    }\n",
       "\n",
       "    .dataframe tbody tr th {\n",
       "        vertical-align: top;\n",
       "    }\n",
       "\n",
       "    .dataframe thead th {\n",
       "        text-align: right;\n",
       "    }\n",
       "</style>\n",
       "<table border=\"1\" class=\"dataframe\">\n",
       "  <thead>\n",
       "    <tr style=\"text-align: right;\">\n",
       "      <th></th>\n",
       "      <th>transaction_date</th>\n",
       "      <th>house_age</th>\n",
       "      <th>distance_MRT_station</th>\n",
       "      <th>num_conv_stores</th>\n",
       "      <th>price_perunit_area</th>\n",
       "      <th>transaction_year</th>\n",
       "      <th>transaction_month</th>\n",
       "      <th>transaction_qtr</th>\n",
       "    </tr>\n",
       "  </thead>\n",
       "  <tbody>\n",
       "    <tr>\n",
       "      <th>0</th>\n",
       "      <td>2012.917</td>\n",
       "      <td>32.0</td>\n",
       "      <td>84.87882</td>\n",
       "      <td>10</td>\n",
       "      <td>37.9</td>\n",
       "      <td>2012</td>\n",
       "      <td>917</td>\n",
       "      <td>Q4</td>\n",
       "    </tr>\n",
       "    <tr>\n",
       "      <th>1</th>\n",
       "      <td>2012.917</td>\n",
       "      <td>19.5</td>\n",
       "      <td>306.59470</td>\n",
       "      <td>9</td>\n",
       "      <td>42.2</td>\n",
       "      <td>2012</td>\n",
       "      <td>917</td>\n",
       "      <td>Q4</td>\n",
       "    </tr>\n",
       "    <tr>\n",
       "      <th>2</th>\n",
       "      <td>2013.583</td>\n",
       "      <td>13.3</td>\n",
       "      <td>561.98450</td>\n",
       "      <td>5</td>\n",
       "      <td>47.3</td>\n",
       "      <td>2013</td>\n",
       "      <td>583</td>\n",
       "      <td>Q3</td>\n",
       "    </tr>\n",
       "    <tr>\n",
       "      <th>3</th>\n",
       "      <td>2013.500</td>\n",
       "      <td>13.3</td>\n",
       "      <td>561.98450</td>\n",
       "      <td>5</td>\n",
       "      <td>54.8</td>\n",
       "      <td>2013</td>\n",
       "      <td>500</td>\n",
       "      <td>Q2</td>\n",
       "    </tr>\n",
       "    <tr>\n",
       "      <th>4</th>\n",
       "      <td>2012.833</td>\n",
       "      <td>5.0</td>\n",
       "      <td>390.56840</td>\n",
       "      <td>5</td>\n",
       "      <td>43.1</td>\n",
       "      <td>2012</td>\n",
       "      <td>833</td>\n",
       "      <td>Q4</td>\n",
       "    </tr>\n",
       "  </tbody>\n",
       "</table>\n",
       "</div>"
      ],
      "text/plain": [
       "   transaction_date  house_age  distance_MRT_station  num_conv_stores  \\\n",
       "0          2012.917       32.0              84.87882               10   \n",
       "1          2012.917       19.5             306.59470                9   \n",
       "2          2013.583       13.3             561.98450                5   \n",
       "3          2013.500       13.3             561.98450                5   \n",
       "4          2012.833        5.0             390.56840                5   \n",
       "\n",
       "   price_perunit_area  transaction_year  transaction_month transaction_qtr  \n",
       "0                37.9              2012                917              Q4  \n",
       "1                42.2              2012                917              Q4  \n",
       "2                47.3              2013                583              Q3  \n",
       "3                54.8              2013                500              Q2  \n",
       "4                43.1              2012                833              Q4  "
      ]
     },
     "execution_count": 8,
     "metadata": {},
     "output_type": "execute_result"
    }
   ],
   "source": [
    "df.head()"
   ]
  },
  {
   "cell_type": "code",
   "execution_count": 9,
   "id": "db6070e0",
   "metadata": {
    "execution": {
     "iopub.execute_input": "2022-04-01T04:18:23.223854Z",
     "iopub.status.busy": "2022-04-01T04:18:23.223124Z",
     "iopub.status.idle": "2022-04-01T04:18:23.237838Z",
     "shell.execute_reply": "2022-04-01T04:18:23.238410Z",
     "shell.execute_reply.started": "2022-04-01T04:10:25.637838Z"
    },
    "papermill": {
     "duration": 0.062609,
     "end_time": "2022-04-01T04:18:23.238603",
     "exception": false,
     "start_time": "2022-04-01T04:18:23.175994",
     "status": "completed"
    },
    "tags": []
   },
   "outputs": [
    {
     "data": {
      "text/html": [
       "<div>\n",
       "<style scoped>\n",
       "    .dataframe tbody tr th:only-of-type {\n",
       "        vertical-align: middle;\n",
       "    }\n",
       "\n",
       "    .dataframe tbody tr th {\n",
       "        vertical-align: top;\n",
       "    }\n",
       "\n",
       "    .dataframe thead th {\n",
       "        text-align: right;\n",
       "    }\n",
       "</style>\n",
       "<table border=\"1\" class=\"dataframe\">\n",
       "  <thead>\n",
       "    <tr style=\"text-align: right;\">\n",
       "      <th></th>\n",
       "      <th>house_age</th>\n",
       "      <th>distance_MRT_station</th>\n",
       "      <th>num_conv_stores</th>\n",
       "      <th>price_perunit_area</th>\n",
       "      <th>transaction_year</th>\n",
       "      <th>transaction_qtr</th>\n",
       "    </tr>\n",
       "  </thead>\n",
       "  <tbody>\n",
       "    <tr>\n",
       "      <th>0</th>\n",
       "      <td>32.0</td>\n",
       "      <td>84.87882</td>\n",
       "      <td>10</td>\n",
       "      <td>37.9</td>\n",
       "      <td>2012</td>\n",
       "      <td>Q4</td>\n",
       "    </tr>\n",
       "    <tr>\n",
       "      <th>1</th>\n",
       "      <td>19.5</td>\n",
       "      <td>306.59470</td>\n",
       "      <td>9</td>\n",
       "      <td>42.2</td>\n",
       "      <td>2012</td>\n",
       "      <td>Q4</td>\n",
       "    </tr>\n",
       "    <tr>\n",
       "      <th>2</th>\n",
       "      <td>13.3</td>\n",
       "      <td>561.98450</td>\n",
       "      <td>5</td>\n",
       "      <td>47.3</td>\n",
       "      <td>2013</td>\n",
       "      <td>Q3</td>\n",
       "    </tr>\n",
       "    <tr>\n",
       "      <th>3</th>\n",
       "      <td>13.3</td>\n",
       "      <td>561.98450</td>\n",
       "      <td>5</td>\n",
       "      <td>54.8</td>\n",
       "      <td>2013</td>\n",
       "      <td>Q2</td>\n",
       "    </tr>\n",
       "    <tr>\n",
       "      <th>4</th>\n",
       "      <td>5.0</td>\n",
       "      <td>390.56840</td>\n",
       "      <td>5</td>\n",
       "      <td>43.1</td>\n",
       "      <td>2012</td>\n",
       "      <td>Q4</td>\n",
       "    </tr>\n",
       "  </tbody>\n",
       "</table>\n",
       "</div>"
      ],
      "text/plain": [
       "   house_age  distance_MRT_station  num_conv_stores  price_perunit_area  \\\n",
       "0       32.0              84.87882               10                37.9   \n",
       "1       19.5             306.59470                9                42.2   \n",
       "2       13.3             561.98450                5                47.3   \n",
       "3       13.3             561.98450                5                54.8   \n",
       "4        5.0             390.56840                5                43.1   \n",
       "\n",
       "   transaction_year transaction_qtr  \n",
       "0              2012              Q4  \n",
       "1              2012              Q4  \n",
       "2              2013              Q3  \n",
       "3              2013              Q2  \n",
       "4              2012              Q4  "
      ]
     },
     "execution_count": 9,
     "metadata": {},
     "output_type": "execute_result"
    }
   ],
   "source": [
    "df = df.drop(['transaction_date', \"transaction_month\"],axis=1)\n",
    "df.head()"
   ]
  },
  {
   "cell_type": "code",
   "execution_count": 10,
   "id": "745cf9f9",
   "metadata": {
    "execution": {
     "iopub.execute_input": "2022-04-01T04:18:23.334361Z",
     "iopub.status.busy": "2022-04-01T04:18:23.333655Z",
     "iopub.status.idle": "2022-04-01T04:18:23.340029Z",
     "shell.execute_reply": "2022-04-01T04:18:23.340707Z",
     "shell.execute_reply.started": "2022-04-01T04:10:46.903193Z"
    },
    "papermill": {
     "duration": 0.055499,
     "end_time": "2022-04-01T04:18:23.340893",
     "exception": false,
     "start_time": "2022-04-01T04:18:23.285394",
     "status": "completed"
    },
    "tags": []
   },
   "outputs": [
    {
     "data": {
      "text/plain": [
       "house_age               float64\n",
       "distance_MRT_station    float64\n",
       "num_conv_stores           int64\n",
       "price_perunit_area      float64\n",
       "transaction_year          int64\n",
       "transaction_qtr          object\n",
       "dtype: object"
      ]
     },
     "execution_count": 10,
     "metadata": {},
     "output_type": "execute_result"
    }
   ],
   "source": [
    "df.dtypes"
   ]
  },
  {
   "cell_type": "code",
   "execution_count": 11,
   "id": "a0b45486",
   "metadata": {
    "execution": {
     "iopub.execute_input": "2022-04-01T04:18:23.435665Z",
     "iopub.status.busy": "2022-04-01T04:18:23.434893Z",
     "iopub.status.idle": "2022-04-01T04:18:23.455153Z",
     "shell.execute_reply": "2022-04-01T04:18:23.455817Z",
     "shell.execute_reply.started": "2022-04-01T04:11:11.044210Z"
    },
    "papermill": {
     "duration": 0.069147,
     "end_time": "2022-04-01T04:18:23.456004",
     "exception": false,
     "start_time": "2022-04-01T04:18:23.386857",
     "status": "completed"
    },
    "tags": []
   },
   "outputs": [
    {
     "data": {
      "text/html": [
       "<div>\n",
       "<style scoped>\n",
       "    .dataframe tbody tr th:only-of-type {\n",
       "        vertical-align: middle;\n",
       "    }\n",
       "\n",
       "    .dataframe tbody tr th {\n",
       "        vertical-align: top;\n",
       "    }\n",
       "\n",
       "    .dataframe thead th {\n",
       "        text-align: right;\n",
       "    }\n",
       "</style>\n",
       "<table border=\"1\" class=\"dataframe\">\n",
       "  <thead>\n",
       "    <tr style=\"text-align: right;\">\n",
       "      <th></th>\n",
       "      <th>house_age</th>\n",
       "      <th>distance_MRT_station</th>\n",
       "      <th>num_conv_stores</th>\n",
       "      <th>price_perunit_area</th>\n",
       "      <th>transaction_year</th>\n",
       "      <th>transaction_qtr_Q2</th>\n",
       "      <th>transaction_qtr_Q3</th>\n",
       "      <th>transaction_qtr_Q4</th>\n",
       "    </tr>\n",
       "  </thead>\n",
       "  <tbody>\n",
       "    <tr>\n",
       "      <th>0</th>\n",
       "      <td>32.0</td>\n",
       "      <td>84.87882</td>\n",
       "      <td>10</td>\n",
       "      <td>37.9</td>\n",
       "      <td>2012</td>\n",
       "      <td>0</td>\n",
       "      <td>0</td>\n",
       "      <td>1</td>\n",
       "    </tr>\n",
       "    <tr>\n",
       "      <th>1</th>\n",
       "      <td>19.5</td>\n",
       "      <td>306.59470</td>\n",
       "      <td>9</td>\n",
       "      <td>42.2</td>\n",
       "      <td>2012</td>\n",
       "      <td>0</td>\n",
       "      <td>0</td>\n",
       "      <td>1</td>\n",
       "    </tr>\n",
       "    <tr>\n",
       "      <th>2</th>\n",
       "      <td>13.3</td>\n",
       "      <td>561.98450</td>\n",
       "      <td>5</td>\n",
       "      <td>47.3</td>\n",
       "      <td>2013</td>\n",
       "      <td>0</td>\n",
       "      <td>1</td>\n",
       "      <td>0</td>\n",
       "    </tr>\n",
       "    <tr>\n",
       "      <th>3</th>\n",
       "      <td>13.3</td>\n",
       "      <td>561.98450</td>\n",
       "      <td>5</td>\n",
       "      <td>54.8</td>\n",
       "      <td>2013</td>\n",
       "      <td>1</td>\n",
       "      <td>0</td>\n",
       "      <td>0</td>\n",
       "    </tr>\n",
       "    <tr>\n",
       "      <th>4</th>\n",
       "      <td>5.0</td>\n",
       "      <td>390.56840</td>\n",
       "      <td>5</td>\n",
       "      <td>43.1</td>\n",
       "      <td>2012</td>\n",
       "      <td>0</td>\n",
       "      <td>0</td>\n",
       "      <td>1</td>\n",
       "    </tr>\n",
       "  </tbody>\n",
       "</table>\n",
       "</div>"
      ],
      "text/plain": [
       "   house_age  distance_MRT_station  num_conv_stores  price_perunit_area  \\\n",
       "0       32.0              84.87882               10                37.9   \n",
       "1       19.5             306.59470                9                42.2   \n",
       "2       13.3             561.98450                5                47.3   \n",
       "3       13.3             561.98450                5                54.8   \n",
       "4        5.0             390.56840                5                43.1   \n",
       "\n",
       "   transaction_year  transaction_qtr_Q2  transaction_qtr_Q3  \\\n",
       "0              2012                   0                   0   \n",
       "1              2012                   0                   0   \n",
       "2              2013                   0                   1   \n",
       "3              2013                   1                   0   \n",
       "4              2012                   0                   0   \n",
       "\n",
       "   transaction_qtr_Q4  \n",
       "0                   1  \n",
       "1                   1  \n",
       "2                   0  \n",
       "3                   0  \n",
       "4                   1  "
      ]
     },
     "execution_count": 11,
     "metadata": {},
     "output_type": "execute_result"
    }
   ],
   "source": [
    "df = pd.get_dummies(df,drop_first=True)\n",
    "df.head()"
   ]
  },
  {
   "cell_type": "code",
   "execution_count": 12,
   "id": "a574126c",
   "metadata": {
    "execution": {
     "iopub.execute_input": "2022-04-01T04:18:23.551862Z",
     "iopub.status.busy": "2022-04-01T04:18:23.551106Z",
     "iopub.status.idle": "2022-04-01T04:18:24.385822Z",
     "shell.execute_reply": "2022-04-01T04:18:24.386384Z",
     "shell.execute_reply.started": "2022-04-01T04:11:19.521507Z"
    },
    "papermill": {
     "duration": 0.884178,
     "end_time": "2022-04-01T04:18:24.386596",
     "exception": false,
     "start_time": "2022-04-01T04:18:23.502418",
     "status": "completed"
    },
    "tags": []
   },
   "outputs": [
    {
     "data": {
      "text/plain": [
       "<AxesSubplot:>"
      ]
     },
     "execution_count": 12,
     "metadata": {},
     "output_type": "execute_result"
    },
    {
     "data": {
      "image/png": "[encoded data removed]",
      "text/plain": [
       "<Figure size 660x440 with 2 Axes>"
      ]
     },
     "metadata": {
      "needs_background": "light"
     },
     "output_type": "display_data"
    }
   ],
   "source": [
    "plt.figure(dpi=110)\n",
    "sns.heatmap(df.corr(), linewidths=1,cmap=\"Blues\",annot=True, annot_kws={'size':7})"
   ]
  },
  {
   "cell_type": "code",
   "execution_count": 13,
   "id": "a3b7ef65",
   "metadata": {
    "execution": {
     "iopub.execute_input": "2022-04-01T04:18:24.491109Z",
     "iopub.status.busy": "2022-04-01T04:18:24.489982Z",
     "iopub.status.idle": "2022-04-01T04:18:24.498612Z",
     "shell.execute_reply": "2022-04-01T04:18:24.497874Z",
     "shell.execute_reply.started": "2022-04-01T04:11:26.191813Z"
    },
    "papermill": {
     "duration": 0.062717,
     "end_time": "2022-04-01T04:18:24.498773",
     "exception": false,
     "start_time": "2022-04-01T04:18:24.436056",
     "status": "completed"
    },
    "tags": []
   },
   "outputs": [
    {
     "data": {
      "text/plain": [
       "price_perunit_area      1.000000\n",
       "distance_MRT_station    0.673613\n",
       "num_conv_stores         0.571005\n",
       "house_age               0.210567\n",
       "transaction_year        0.081545\n",
       "Name: price_perunit_area, dtype: float64"
      ]
     },
     "execution_count": 13,
     "metadata": {},
     "output_type": "execute_result"
    }
   ],
   "source": [
    "abs(df.corr()['price_perunit_area']).sort_values()[::-1][:5]"
   ]
  },
  {
   "cell_type": "code",
   "execution_count": 14,
   "id": "f9d447e8",
   "metadata": {
    "execution": {
     "iopub.execute_input": "2022-04-01T04:18:24.602655Z",
     "iopub.status.busy": "2022-04-01T04:18:24.601938Z",
     "iopub.status.idle": "2022-04-01T04:18:24.916594Z",
     "shell.execute_reply": "2022-04-01T04:18:24.915990Z",
     "shell.execute_reply.started": "2022-04-01T04:11:31.986074Z"
    },
    "papermill": {
     "duration": 0.367582,
     "end_time": "2022-04-01T04:18:24.916758",
     "exception": false,
     "start_time": "2022-04-01T04:18:24.549176",
     "status": "completed"
    },
    "tags": []
   },
   "outputs": [
    {
     "data": {
      "text/plain": [
       "<AxesSubplot:xlabel='price_perunit_area', ylabel='Count'>"
      ]
     },
     "execution_count": 14,
     "metadata": {},
     "output_type": "execute_result"
    },
    {
     "data": {
      "image/png": "[encoded data removed]",
      "text/plain": [
       "<Figure size 432x288 with 1 Axes>"
      ]
     },
     "metadata": {
      "needs_background": "light"
     },
     "output_type": "display_data"
    }
   ],
   "source": [
    "sns.histplot(df['price_perunit_area'],bins=30)"
   ]
  },
  {
   "cell_type": "code",
   "execution_count": 15,
   "id": "736fbe86",
   "metadata": {
    "execution": {
     "iopub.execute_input": "2022-04-01T04:18:25.023958Z",
     "iopub.status.busy": "2022-04-01T04:18:25.023239Z",
     "iopub.status.idle": "2022-04-01T04:18:25.297748Z",
     "shell.execute_reply": "2022-04-01T04:18:25.296975Z",
     "shell.execute_reply.started": "2022-04-01T04:11:40.690205Z"
    },
    "papermill": {
     "duration": 0.330266,
     "end_time": "2022-04-01T04:18:25.297916",
     "exception": false,
     "start_time": "2022-04-01T04:18:24.967650",
     "status": "completed"
    },
    "tags": []
   },
   "outputs": [
    {
     "data": {
      "text/plain": [
       "<AxesSubplot:xlabel='distance_MRT_station', ylabel='price_perunit_area'>"
      ]
     },
     "execution_count": 15,
     "metadata": {},
     "output_type": "execute_result"
    },
    {
     "data": {
      "image/png": "[encoded data removed]",
      "text/plain": [
       "<Figure size 432x288 with 1 Axes>"
      ]
     },
     "metadata": {
      "needs_background": "light"
     },
     "output_type": "display_data"
    }
   ],
   "source": [
    "sns.scatterplot(data=df, x='distance_MRT_station',y='price_perunit_area')"
   ]
  },
  {
   "cell_type": "code",
   "execution_count": 16,
   "id": "5879d6f1",
   "metadata": {
    "execution": {
     "iopub.execute_input": "2022-04-01T04:18:25.410155Z",
     "iopub.status.busy": "2022-04-01T04:18:25.409423Z",
     "iopub.status.idle": "2022-04-01T04:18:25.767883Z",
     "shell.execute_reply": "2022-04-01T04:18:25.767240Z",
     "shell.execute_reply.started": "2022-04-01T04:11:47.467659Z"
    },
    "papermill": {
     "duration": 0.416526,
     "end_time": "2022-04-01T04:18:25.768054",
     "exception": false,
     "start_time": "2022-04-01T04:18:25.351528",
     "status": "completed"
    },
    "tags": []
   },
   "outputs": [
    {
     "data": {
      "text/plain": [
       "<AxesSubplot:xlabel='transaction_year', ylabel='price_perunit_area'>"
      ]
     },
     "execution_count": 16,
     "metadata": {},
     "output_type": "execute_result"
    },
    {
     "data": {
      "image/png": "[encoded data removed]",
      "text/plain": [
       "<Figure size 432x288 with 1 Axes>"
      ]
     },
     "metadata": {
      "needs_background": "light"
     },
     "output_type": "display_data"
    }
   ],
   "source": [
    "sns.lineplot(x=df['transaction_year'], y=df['price_perunit_area'])"
   ]
  },
  {
   "cell_type": "code",
   "execution_count": 17,
   "id": "f8688b26",
   "metadata": {
    "execution": {
     "iopub.execute_input": "2022-04-01T04:18:25.888421Z",
     "iopub.status.busy": "2022-04-01T04:18:25.887711Z",
     "iopub.status.idle": "2022-04-01T04:18:26.202119Z",
     "shell.execute_reply": "2022-04-01T04:18:26.201482Z",
     "shell.execute_reply.started": "2022-04-01T04:13:37.796166Z"
    },
    "papermill": {
     "duration": 0.380753,
     "end_time": "2022-04-01T04:18:26.202280",
     "exception": false,
     "start_time": "2022-04-01T04:18:25.821527",
     "status": "completed"
    },
    "tags": []
   },
   "outputs": [
    {
     "name": "stderr",
     "output_type": "stream",
     "text": [
      "/opt/conda/lib/python3.7/site-packages/seaborn/_decorators.py:43: FutureWarning: Pass the following variables as keyword args: x, y. From version 0.12, the only valid positional argument will be `data`, and passing other arguments without an explicit keyword will result in an error or misinterpretation.\n",
      "  FutureWarning\n"
     ]
    },
    {
     "data": {
      "text/plain": [
       "<AxesSubplot:xlabel='transaction_year', ylabel='price_perunit_area'>"
      ]
     },
     "execution_count": 17,
     "metadata": {},
     "output_type": "execute_result"
    },
    {
     "data": {
      "image/png": "[encoded data removed]",
      "text/plain": [
       "<Figure size 432x288 with 1 Axes>"
      ]
     },
     "metadata": {
      "needs_background": "light"
     },
     "output_type": "display_data"
    }
   ],
   "source": [
    "sns.barplot( df['transaction_year'],df['price_perunit_area'])"
   ]
  },
  {
   "cell_type": "code",
   "execution_count": 18,
   "id": "0ce7215b",
   "metadata": {
    "execution": {
     "iopub.execute_input": "2022-04-01T04:18:26.325152Z",
     "iopub.status.busy": "2022-04-01T04:18:26.323965Z",
     "iopub.status.idle": "2022-04-01T04:18:26.721396Z",
     "shell.execute_reply": "2022-04-01T04:18:26.720677Z",
     "shell.execute_reply.started": "2022-04-01T04:13:48.373756Z"
    },
    "papermill": {
     "duration": 0.463623,
     "end_time": "2022-04-01T04:18:26.721557",
     "exception": false,
     "start_time": "2022-04-01T04:18:26.257934",
     "status": "completed"
    },
    "tags": []
   },
   "outputs": [
    {
     "name": "stderr",
     "output_type": "stream",
     "text": [
      "/opt/conda/lib/python3.7/site-packages/seaborn/_decorators.py:43: FutureWarning: Pass the following variables as keyword args: x, y. From version 0.12, the only valid positional argument will be `data`, and passing other arguments without an explicit keyword will result in an error or misinterpretation.\n",
      "  FutureWarning\n"
     ]
    },
    {
     "data": {
      "text/plain": [
       "<AxesSubplot:xlabel='transaction_qtr', ylabel='price_perunit_area'>"
      ]
     },
     "execution_count": 18,
     "metadata": {},
     "output_type": "execute_result"
    },
    {
     "data": {
      "image/png": "[encoded data removed]",
      "text/plain": [
       "<Figure size 432x288 with 1 Axes>"
      ]
     },
     "metadata": {
      "needs_background": "light"
     },
     "output_type": "display_data"
    }
   ],
   "source": [
    "sns.barplot( qtrs,df['price_perunit_area'])"
   ]
  },
  {
   "cell_type": "code",
   "execution_count": 19,
   "id": "48c8357c",
   "metadata": {
    "execution": {
     "iopub.execute_input": "2022-04-01T04:18:26.876450Z",
     "iopub.status.busy": "2022-04-01T04:18:26.873423Z",
     "iopub.status.idle": "2022-04-01T04:18:27.062261Z",
     "shell.execute_reply": "2022-04-01T04:18:27.062856Z",
     "shell.execute_reply.started": "2022-04-01T04:13:59.234230Z"
    },
    "papermill": {
     "duration": 0.284845,
     "end_time": "2022-04-01T04:18:27.063058",
     "exception": false,
     "start_time": "2022-04-01T04:18:26.778213",
     "status": "completed"
    },
    "tags": []
   },
   "outputs": [
    {
     "data": {
      "text/plain": [
       "<AxesSubplot:xlabel='house_age', ylabel='price_perunit_area'>"
      ]
     },
     "execution_count": 19,
     "metadata": {},
     "output_type": "execute_result"
    },
    {
     "data": {
      "image/png": "[encoded data removed]",
      "text/plain": [
       "<Figure size 432x288 with 1 Axes>"
      ]
     },
     "metadata": {
      "needs_background": "light"
     },
     "output_type": "display_data"
    }
   ],
   "source": [
    "sns.scatterplot(data=df, x='house_age',y='price_perunit_area')"
   ]
  },
  {
   "cell_type": "code",
   "execution_count": 20,
   "id": "0b9c3c83",
   "metadata": {
    "execution": {
     "iopub.execute_input": "2022-04-01T04:18:27.187837Z",
     "iopub.status.busy": "2022-04-01T04:18:27.184708Z",
     "iopub.status.idle": "2022-04-01T04:18:27.192786Z",
     "shell.execute_reply": "2022-04-01T04:18:27.191974Z",
     "shell.execute_reply.started": "2022-04-01T04:14:17.791239Z"
    },
    "papermill": {
     "duration": 0.071557,
     "end_time": "2022-04-01T04:18:27.192972",
     "exception": false,
     "start_time": "2022-04-01T04:18:27.121415",
     "status": "completed"
    },
    "tags": []
   },
   "outputs": [],
   "source": [
    "df[(df['price_perunit_area'] >100) & (df['house_age']<20)]\n",
    "\n",
    "df = df.drop(270)"
   ]
  },
  {
   "cell_type": "code",
   "execution_count": 21,
   "id": "d05c1605",
   "metadata": {
    "execution": {
     "iopub.execute_input": "2022-04-01T04:18:27.316589Z",
     "iopub.status.busy": "2022-04-01T04:18:27.315827Z",
     "iopub.status.idle": "2022-04-01T04:18:27.321867Z",
     "shell.execute_reply": "2022-04-01T04:18:27.321245Z",
     "shell.execute_reply.started": "2022-04-01T04:14:25.088891Z"
    },
    "papermill": {
     "duration": 0.068966,
     "end_time": "2022-04-01T04:18:27.322027",
     "exception": false,
     "start_time": "2022-04-01T04:18:27.253061",
     "status": "completed"
    },
    "tags": []
   },
   "outputs": [],
   "source": [
    "X = df.drop('price_perunit_area', axis=1)\n",
    "y = df['price_perunit_area']"
   ]
  },
  {
   "cell_type": "code",
   "execution_count": 22,
   "id": "050c2930",
   "metadata": {
    "execution": {
     "iopub.execute_input": "2022-04-01T04:18:27.447117Z",
     "iopub.status.busy": "2022-04-01T04:18:27.445092Z",
     "iopub.status.idle": "2022-04-01T04:18:27.591579Z",
     "shell.execute_reply": "2022-04-01T04:18:27.590944Z",
     "shell.execute_reply.started": "2022-04-01T04:14:32.430113Z"
    },
    "papermill": {
     "duration": 0.209841,
     "end_time": "2022-04-01T04:18:27.591752",
     "exception": false,
     "start_time": "2022-04-01T04:18:27.381911",
     "status": "completed"
    },
    "tags": []
   },
   "outputs": [
    {
     "data": {
      "text/plain": [
       "(413, 36)"
      ]
     },
     "execution_count": 22,
     "metadata": {},
     "output_type": "execute_result"
    }
   ],
   "source": [
    "from sklearn.preprocessing import PolynomialFeatures, StandardScaler\n",
    "\n",
    "poly_feat = PolynomialFeatures(degree=2)\n",
    "X_poly = poly_feat.fit_transform(X)\n",
    "X_poly.shape"
   ]
  },
  {
   "cell_type": "code",
   "execution_count": 23,
   "id": "2d62c3cd",
   "metadata": {
    "execution": {
     "iopub.execute_input": "2022-04-01T04:18:27.719149Z",
     "iopub.status.busy": "2022-04-01T04:18:27.718434Z",
     "iopub.status.idle": "2022-04-01T04:18:27.770846Z",
     "shell.execute_reply": "2022-04-01T04:18:27.771425Z",
     "shell.execute_reply.started": "2022-04-01T04:14:39.166851Z"
    },
    "papermill": {
     "duration": 0.119422,
     "end_time": "2022-04-01T04:18:27.771635",
     "exception": false,
     "start_time": "2022-04-01T04:18:27.652213",
     "status": "completed"
    },
    "tags": []
   },
   "outputs": [
    {
     "data": {
      "text/plain": [
       "(289, 36)"
      ]
     },
     "execution_count": 23,
     "metadata": {},
     "output_type": "execute_result"
    }
   ],
   "source": [
    "from sklearn.model_selection import train_test_split\n",
    "X_train, X_test, y_train, y_test = train_test_split(X_poly, y, test_size=0.30, random_state=264)\n",
    "\n",
    "X_train.shape"
   ]
  },
  {
   "cell_type": "code",
   "execution_count": 24,
   "id": "2168fc33",
   "metadata": {
    "execution": {
     "iopub.execute_input": "2022-04-01T04:18:27.901678Z",
     "iopub.status.busy": "2022-04-01T04:18:27.900549Z",
     "iopub.status.idle": "2022-04-01T04:18:27.907091Z",
     "shell.execute_reply": "2022-04-01T04:18:27.907669Z",
     "shell.execute_reply.started": "2022-04-01T04:14:51.765558Z"
    },
    "papermill": {
     "duration": 0.074561,
     "end_time": "2022-04-01T04:18:27.907854",
     "exception": false,
     "start_time": "2022-04-01T04:18:27.833293",
     "status": "completed"
    },
    "tags": []
   },
   "outputs": [
    {
     "data": {
      "text/plain": [
       "array([ 0.        , -0.09359637, -0.59342917,  0.66152517,  0.67793507,\n",
       "       -0.71078009, -0.50108108, -0.59733367, -0.3580947 , -0.49836103,\n",
       "        0.29811465, -0.09338138, -0.5561333 , -0.39509094, -0.4780041 ,\n",
       "       -0.41678985, -0.12053425, -0.59338602, -0.41258569, -0.29038987,\n",
       "       -0.35598826,  0.41474277,  0.66185603, -0.53916521, -0.39470135,\n",
       "       -0.46199434,  0.67793507, -0.71078009, -0.50108107, -0.59733365,\n",
       "       -0.71078009,  0.        ,  0.        , -0.50108108,  0.        ,\n",
       "       -0.59733367])"
      ]
     },
     "execution_count": 24,
     "metadata": {},
     "output_type": "execute_result"
    }
   ],
   "source": [
    "scaler = StandardScaler()\n",
    "X_train = scaler.fit_transform(X_train)\n",
    "X_test = scaler.transform(X_test)\n",
    "\n",
    "X_train[0] "
   ]
  },
  {
   "cell_type": "code",
   "execution_count": 25,
   "id": "170d4621",
   "metadata": {
    "execution": {
     "iopub.execute_input": "2022-04-01T04:18:28.033361Z",
     "iopub.status.busy": "2022-04-01T04:18:28.031590Z",
     "iopub.status.idle": "2022-04-01T04:18:28.111180Z",
     "shell.execute_reply": "2022-04-01T04:18:28.111807Z",
     "shell.execute_reply.started": "2022-04-01T04:15:02.203284Z"
    },
    "papermill": {
     "duration": 0.143444,
     "end_time": "2022-04-01T04:18:28.112027",
     "exception": false,
     "start_time": "2022-04-01T04:18:27.968583",
     "status": "completed"
    },
    "tags": []
   },
   "outputs": [],
   "source": [
    "from sklearn.linear_model import LinearRegression, RidgeCV, LassoCV, ElasticNetCV"
   ]
  },
  {
   "cell_type": "code",
   "execution_count": 26,
   "id": "3fb7c9b6",
   "metadata": {
    "execution": {
     "iopub.execute_input": "2022-04-01T04:18:28.244299Z",
     "iopub.status.busy": "2022-04-01T04:18:28.243561Z",
     "iopub.status.idle": "2022-04-01T04:18:28.272949Z",
     "shell.execute_reply": "2022-04-01T04:18:28.274644Z",
     "shell.execute_reply.started": "2022-04-01T04:15:19.086478Z"
    },
    "papermill": {
     "duration": 0.101297,
     "end_time": "2022-04-01T04:18:28.274966",
     "exception": false,
     "start_time": "2022-04-01T04:18:28.173669",
     "status": "completed"
    },
    "tags": []
   },
   "outputs": [
    {
     "name": "stdout",
     "output_type": "stream",
     "text": [
      "6.138522810485299\n",
      "8.363414664523644\n",
      "0.5686781616497975\n"
     ]
    }
   ],
   "source": [
    "linear_model = LinearRegression()\n",
    "linear_model.fit(X_train, y_train)\n",
    "linear_y_pred = linear_model.predict(X_test)\n",
    "from sklearn.metrics import mean_absolute_error, mean_squared_error,r2_score\n",
    "linear_mae = mean_absolute_error(y_test, linear_y_pred)\n",
    "print(linear_mae)\n",
    "\n",
    "linear_rmse = np.sqrt(mean_squared_error(y_test,linear_y_pred))          \n",
    "print(linear_rmse)\n",
    "\n",
    "linear_r2 = r2_score(y_test,linear_y_pred)\n",
    "print(linear_r2)"
   ]
  },
  {
   "cell_type": "code",
   "execution_count": 27,
   "id": "68ffd222",
   "metadata": {
    "execution": {
     "iopub.execute_input": "2022-04-01T04:18:28.454294Z",
     "iopub.status.busy": "2022-04-01T04:18:28.453590Z",
     "iopub.status.idle": "2022-04-01T04:18:28.477569Z",
     "shell.execute_reply": "2022-04-01T04:18:28.478770Z",
     "shell.execute_reply.started": "2022-04-01T04:15:27.133394Z"
    },
    "papermill": {
     "duration": 0.093421,
     "end_time": "2022-04-01T04:18:28.479104",
     "exception": false,
     "start_time": "2022-04-01T04:18:28.385683",
     "status": "completed"
    },
    "tags": []
   },
   "outputs": [
    {
     "data": {
      "text/plain": [
       "1.0"
      ]
     },
     "execution_count": 27,
     "metadata": {},
     "output_type": "execute_result"
    }
   ],
   "source": [
    "ridge_model = RidgeCV(alphas = [0.1,1,10])\n",
    "ridge_model.fit(X_train, y_train)\n",
    "ridge_y_pred = ridge_model.predict(X_test)\n",
    "ridge_model.alpha_"
   ]
  },
  {
   "cell_type": "code",
   "execution_count": 28,
   "id": "ffc2c1dd",
   "metadata": {
    "execution": {
     "iopub.execute_input": "2022-04-01T04:18:28.682895Z",
     "iopub.status.busy": "2022-04-01T04:18:28.682083Z",
     "iopub.status.idle": "2022-04-01T04:18:28.688432Z",
     "shell.execute_reply": "2022-04-01T04:18:28.689043Z",
     "shell.execute_reply.started": "2022-04-01T04:15:38.136153Z"
    },
    "papermill": {
     "duration": 0.074212,
     "end_time": "2022-04-01T04:18:28.689235",
     "exception": false,
     "start_time": "2022-04-01T04:18:28.615023",
     "status": "completed"
    },
    "tags": []
   },
   "outputs": [
    {
     "name": "stdout",
     "output_type": "stream",
     "text": [
      "5.670997128231047\n",
      "7.717014260798313\n",
      "0.6327745317752791\n"
     ]
    }
   ],
   "source": [
    "ridge_mae = mean_absolute_error(y_test, ridge_y_pred)\n",
    "print(ridge_mae)\n",
    "\n",
    "ridge_rmse = np.sqrt(mean_squared_error(y_test,ridge_y_pred))          \n",
    "print(ridge_rmse)\n",
    "\n",
    "ridge_r2 = r2_score(y_test,ridge_y_pred)\n",
    "print(ridge_r2 )"
   ]
  },
  {
   "cell_type": "code",
   "execution_count": 29,
   "id": "c59633ca",
   "metadata": {
    "execution": {
     "iopub.execute_input": "2022-04-01T04:18:28.831200Z",
     "iopub.status.busy": "2022-04-01T04:18:28.830464Z",
     "iopub.status.idle": "2022-04-01T04:18:29.771587Z",
     "shell.execute_reply": "2022-04-01T04:18:29.772975Z",
     "shell.execute_reply.started": "2022-04-01T04:15:43.483112Z"
    },
    "papermill": {
     "duration": 1.015154,
     "end_time": "2022-04-01T04:18:29.773302",
     "exception": false,
     "start_time": "2022-04-01T04:18:28.758148",
     "status": "completed"
    },
    "tags": []
   },
   "outputs": [
    {
     "data": {
      "text/plain": [
       "0.09013674405281348"
      ]
     },
     "execution_count": 29,
     "metadata": {},
     "output_type": "execute_result"
    }
   ],
   "source": [
    "lasso_model = LassoCV(eps=0.01,n_alphas=1000,max_iter=1000)\n",
    "lasso_model.fit(X_train, y_train)\n",
    "lasso_y_pred = lasso_model.predict(X_test)\n",
    "lasso_model.alpha_"
   ]
  },
  {
   "cell_type": "code",
   "execution_count": 30,
   "id": "34c89b6a",
   "metadata": {
    "execution": {
     "iopub.execute_input": "2022-04-01T04:18:29.957000Z",
     "iopub.status.busy": "2022-04-01T04:18:29.956029Z",
     "iopub.status.idle": "2022-04-01T04:18:29.959971Z",
     "shell.execute_reply": "2022-04-01T04:18:29.960552Z",
     "shell.execute_reply.started": "2022-04-01T04:15:50.985443Z"
    },
    "papermill": {
     "duration": 0.072717,
     "end_time": "2022-04-01T04:18:29.960742",
     "exception": false,
     "start_time": "2022-04-01T04:18:29.888025",
     "status": "completed"
    },
    "tags": []
   },
   "outputs": [
    {
     "data": {
      "text/plain": [
       "array([ 0.00000000e+00, -2.78721214e+00, -7.99686523e+00,  3.05987501e+00,\n",
       "        1.35520686e+00,  1.98026114e-01, -0.00000000e+00,  2.06580924e-03,\n",
       "        7.84728355e+00,  0.00000000e+00,  5.38312860e-02, -7.52060342e+00,\n",
       "       -0.00000000e+00,  1.03205251e+00, -5.51645835e-01,  3.38038483e+00,\n",
       "       -2.05472890e+00, -2.04502806e-01,  4.41771773e-01, -3.29426511e-01,\n",
       "        2.42146147e-01, -1.37195445e+00,  2.62114694e+00,  0.00000000e+00,\n",
       "        4.61764378e-01,  3.43121903e-01,  2.33052044e-01,  9.08447876e-02,\n",
       "       -0.00000000e+00,  5.69254824e-01,  1.03703571e-01,  0.00000000e+00,\n",
       "        0.00000000e+00, -0.00000000e+00,  0.00000000e+00,  5.16028494e-02])"
      ]
     },
     "execution_count": 30,
     "metadata": {},
     "output_type": "execute_result"
    }
   ],
   "source": [
    "lasso_model.coef_ "
   ]
  },
  {
   "cell_type": "code",
   "execution_count": 31,
   "id": "cbe5aa55",
   "metadata": {
    "execution": {
     "iopub.execute_input": "2022-04-01T04:18:30.091116Z",
     "iopub.status.busy": "2022-04-01T04:18:30.090015Z",
     "iopub.status.idle": "2022-04-01T04:18:30.100797Z",
     "shell.execute_reply": "2022-04-01T04:18:30.101488Z",
     "shell.execute_reply.started": "2022-04-01T04:15:58.100084Z"
    },
    "papermill": {
     "duration": 0.077896,
     "end_time": "2022-04-01T04:18:30.101679",
     "exception": false,
     "start_time": "2022-04-01T04:18:30.023783",
     "status": "completed"
    },
    "tags": []
   },
   "outputs": [
    {
     "name": "stdout",
     "output_type": "stream",
     "text": [
      "5.633288088129171\n",
      "7.507863482679219\n",
      "0.6524102814184699\n"
     ]
    },
    {
     "data": {
      "text/plain": [
       "5.633288088129171"
      ]
     },
     "execution_count": 31,
     "metadata": {},
     "output_type": "execute_result"
    }
   ],
   "source": [
    "lasso_mae = mean_absolute_error(y_test, lasso_y_pred)\n",
    "print(lasso_mae)\n",
    "\n",
    "lasso_rmse = np.sqrt(mean_squared_error(y_test,lasso_y_pred))          \n",
    "print(lasso_rmse)\n",
    "\n",
    "lasso_r2 = r2_score(y_test,lasso_y_pred)\n",
    "print(lasso_r2 )\n",
    "5.633288088129171"
   ]
  },
  {
   "cell_type": "code",
   "execution_count": 32,
   "id": "d67832b2",
   "metadata": {
    "execution": {
     "iopub.execute_input": "2022-04-01T04:18:30.232664Z",
     "iopub.status.busy": "2022-04-01T04:18:30.231947Z",
     "iopub.status.idle": "2022-04-01T04:18:36.922211Z",
     "shell.execute_reply": "2022-04-01T04:18:36.923181Z",
     "shell.execute_reply.started": "2022-04-01T04:16:12.414516Z"
    },
    "papermill": {
     "duration": 6.758479,
     "end_time": "2022-04-01T04:18:36.923529",
     "exception": false,
     "start_time": "2022-04-01T04:18:30.165050",
     "status": "completed"
    },
    "tags": []
   },
   "outputs": [
    {
     "data": {
      "text/plain": [
       "1.0"
      ]
     },
     "execution_count": 32,
     "metadata": {},
     "output_type": "execute_result"
    }
   ],
   "source": [
    "elasticnet_model = ElasticNetCV(l1_ratio = [0.1,0.2,0.5,0.8,0.9,0.99,1], eps = 0.01, n_alphas = 1000, max_iter=1000)\n",
    "elasticnet_model.fit(X_train, y_train)\n",
    "elasticnet_y_pred = elasticnet_model.predict(X_test)\n",
    "elasticnet_model.l1_ratio_ "
   ]
  },
  {
   "cell_type": "code",
   "execution_count": 33,
   "id": "74fcb66a",
   "metadata": {
    "execution": {
     "iopub.execute_input": "2022-04-01T04:18:37.115009Z",
     "iopub.status.busy": "2022-04-01T04:18:37.113830Z",
     "iopub.status.idle": "2022-04-01T04:18:37.121456Z",
     "shell.execute_reply": "2022-04-01T04:18:37.122019Z",
     "shell.execute_reply.started": "2022-04-01T04:16:19.446114Z"
    },
    "papermill": {
     "duration": 0.079231,
     "end_time": "2022-04-01T04:18:37.122223",
     "exception": false,
     "start_time": "2022-04-01T04:18:37.042992",
     "status": "completed"
    },
    "tags": []
   },
   "outputs": [
    {
     "name": "stdout",
     "output_type": "stream",
     "text": [
      "5.633288088129171\n",
      "7.507863482679219\n",
      "0.6524102814184699\n"
     ]
    }
   ],
   "source": [
    "elasticnet_mae = mean_absolute_error(y_test,elasticnet_y_pred)\n",
    "print(elasticnet_mae)\n",
    "\n",
    "elasticnet_rmse = np.sqrt(mean_squared_error(y_test,elasticnet_y_pred))          \n",
    "print(elasticnet_rmse)\n",
    "\n",
    "elasticnet_r2 = r2_score(y_test,elasticnet_y_pred)\n",
    "print(elasticnet_r2)"
   ]
  },
  {
   "cell_type": "code",
   "execution_count": 34,
   "id": "4ad97461",
   "metadata": {
    "execution": {
     "iopub.execute_input": "2022-04-01T04:18:37.260231Z",
     "iopub.status.busy": "2022-04-01T04:18:37.259501Z",
     "iopub.status.idle": "2022-04-01T04:18:37.278591Z",
     "shell.execute_reply": "2022-04-01T04:18:37.279797Z",
     "shell.execute_reply.started": "2022-04-01T04:16:30.321580Z"
    },
    "papermill": {
     "duration": 0.09238,
     "end_time": "2022-04-01T04:18:37.280111",
     "exception": false,
     "start_time": "2022-04-01T04:18:37.187731",
     "status": "completed"
    },
    "tags": []
   },
   "outputs": [
    {
     "name": "stdout",
     "output_type": "stream",
     "text": [
      "5.228987161757629\n",
      "7.231572859137604\n",
      "0.6775222760544009\n"
     ]
    }
   ],
   "source": [
    "from sklearn.svm import SVR\n",
    "svr_model = SVR(kernel='linear')\n",
    "svr_model.fit(X_train,y_train)\n",
    "svr_y_pred= svr_model.predict(X_test)\n",
    "svr_mae = mean_absolute_error(y_test, svr_y_pred)\n",
    "print(svr_mae)\n",
    "\n",
    "svr_rmse = np.sqrt(mean_squared_error(y_test, svr_y_pred))\n",
    "print(svr_rmse)\n",
    "\n",
    "svr_r2 = r2_score(y_test,svr_y_pred)\n",
    "print(svr_r2)"
   ]
  },
  {
   "cell_type": "code",
   "execution_count": 35,
   "id": "8dde32f3",
   "metadata": {
    "execution": {
     "iopub.execute_input": "2022-04-01T04:18:37.415709Z",
     "iopub.status.busy": "2022-04-01T04:18:37.414931Z",
     "iopub.status.idle": "2022-04-01T04:18:37.428970Z",
     "shell.execute_reply": "2022-04-01T04:18:37.429542Z",
     "shell.execute_reply.started": "2022-04-01T04:16:39.929752Z"
    },
    "papermill": {
     "duration": 0.083645,
     "end_time": "2022-04-01T04:18:37.429747",
     "exception": false,
     "start_time": "2022-04-01T04:18:37.346102",
     "status": "completed"
    },
    "tags": []
   },
   "outputs": [
    {
     "data": {
      "text/html": [
       "<div>\n",
       "<style scoped>\n",
       "    .dataframe tbody tr th:only-of-type {\n",
       "        vertical-align: middle;\n",
       "    }\n",
       "\n",
       "    .dataframe tbody tr th {\n",
       "        vertical-align: top;\n",
       "    }\n",
       "\n",
       "    .dataframe thead th {\n",
       "        text-align: right;\n",
       "    }\n",
       "</style>\n",
       "<table border=\"1\" class=\"dataframe\">\n",
       "  <thead>\n",
       "    <tr style=\"text-align: right;\">\n",
       "      <th></th>\n",
       "      <th>Linear</th>\n",
       "      <th>Ridge</th>\n",
       "      <th>Lasso</th>\n",
       "      <th>Elastic Net</th>\n",
       "      <th>SVR</th>\n",
       "    </tr>\n",
       "  </thead>\n",
       "  <tbody>\n",
       "    <tr>\n",
       "      <th>MAE</th>\n",
       "      <td>6.138523</td>\n",
       "      <td>5.670997</td>\n",
       "      <td>5.633288</td>\n",
       "      <td>5.633288</td>\n",
       "      <td>5.228987</td>\n",
       "    </tr>\n",
       "    <tr>\n",
       "      <th>RMSE</th>\n",
       "      <td>8.363415</td>\n",
       "      <td>7.717014</td>\n",
       "      <td>7.507863</td>\n",
       "      <td>7.507863</td>\n",
       "      <td>7.231573</td>\n",
       "    </tr>\n",
       "    <tr>\n",
       "      <th>R2</th>\n",
       "      <td>0.568678</td>\n",
       "      <td>0.632775</td>\n",
       "      <td>0.652410</td>\n",
       "      <td>0.652410</td>\n",
       "      <td>0.677522</td>\n",
       "    </tr>\n",
       "  </tbody>\n",
       "</table>\n",
       "</div>"
      ],
      "text/plain": [
       "        Linear     Ridge     Lasso  Elastic Net       SVR\n",
       "MAE   6.138523  5.670997  5.633288     5.633288  5.228987\n",
       "RMSE  8.363415  7.717014  7.507863     7.507863  7.231573\n",
       "R2    0.568678  0.632775  0.652410     0.652410  0.677522"
      ]
     },
     "execution_count": 35,
     "metadata": {},
     "output_type": "execute_result"
    }
   ],
   "source": [
    "errors_df = pd.DataFrame(data=[[linear_mae,ridge_mae,lasso_mae, elasticnet_mae,svr_mae],\n",
    "                               [linear_rmse,ridge_rmse,lasso_rmse, elasticnet_rmse,svr_rmse],\n",
    "                               [linear_r2,ridge_r2,lasso_r2, elasticnet_r2,svr_r2]], \n",
    "                         columns=[\"Linear\", \"Ridge\", \"Lasso\", \"Elastic Net\", \"SVR\"],\n",
    "                         index=[\"MAE\",\"RMSE\",\"R2\"]\n",
    "                        )\n",
    "errors_df"
   ]
  },
  {
   "cell_type": "code",
   "execution_count": 36,
   "id": "ff6c4ea9",
   "metadata": {
    "execution": {
     "iopub.execute_input": "2022-04-01T04:18:37.568296Z",
     "iopub.status.busy": "2022-04-01T04:18:37.567570Z",
     "iopub.status.idle": "2022-04-01T04:18:37.576793Z",
     "shell.execute_reply": "2022-04-01T04:18:37.577347Z",
     "shell.execute_reply.started": "2022-04-01T04:16:49.260620Z"
    },
    "papermill": {
     "duration": 0.080137,
     "end_time": "2022-04-01T04:18:37.577546",
     "exception": false,
     "start_time": "2022-04-01T04:18:37.497409",
     "status": "completed"
    },
    "tags": []
   },
   "outputs": [
    {
     "data": {
      "text/plain": [
       "['std_scaler.joblib']"
      ]
     },
     "execution_count": 36,
     "metadata": {},
     "output_type": "execute_result"
    }
   ],
   "source": [
    "from joblib import load,dump\n",
    "\n",
    "dump(svr_model,'SVR_Model.joblib') # Loading model\n",
    "dump(poly_feat,'poly_conv.joblib') #  Loading polynomial converter \n",
    "dump(scaler, 'std_scaler.joblib') #  Loading scaler"
   ]
  },
  {
   "cell_type": "code",
   "execution_count": 37,
   "id": "63bfc085",
   "metadata": {
    "execution": {
     "iopub.execute_input": "2022-04-01T04:18:37.717184Z",
     "iopub.status.busy": "2022-04-01T04:18:37.716409Z",
     "iopub.status.idle": "2022-04-01T04:18:37.726862Z",
     "shell.execute_reply": "2022-04-01T04:18:37.727941Z",
     "shell.execute_reply.started": "2022-04-01T04:17:19.881123Z"
    },
    "papermill": {
     "duration": 0.082528,
     "end_time": "2022-04-01T04:18:37.728241",
     "exception": false,
     "start_time": "2022-04-01T04:18:37.645713",
     "status": "completed"
    },
    "tags": []
   },
   "outputs": [
    {
     "name": "stdout",
     "output_type": "stream",
     "text": [
      "The Price of House is around 46.629482983720735 New Taiwan dollars per unit area\n"
     ]
    }
   ],
   "source": [
    "SVR_model_loaded = load(\"SVR_Model.joblib\")\n",
    "poly_conv_loaded = load(\"poly_conv.joblib\")\n",
    "scaler_loaded = load(\"std_scaler.joblib\")\n",
    "user_inp = [8,572.9850, 9, 2013, 0, 1, 0]\n",
    "\n",
    "converted = poly_conv_loaded.fit_transform([user_inp]) \n",
    "scaled = scaler_loaded.transform(converted) \n",
    "\n",
    "prediction = SVR_model_loaded.predict(scaled) \n",
    "\n",
    "print(\"The Price of House is around\",prediction[0],\"New Taiwan dollars per unit area\")"
   ]
  }
 ],
 "metadata": {
  "kernelspec": {
   "display_name": "Python 3",
   "language": "python",
   "name": "python3"
  },
  "language_info": {
   "codemirror_mode": {
    "name": "ipython",
    "version": 3
   },
   "file_extension": ".py",
   "mimetype": "text/x-python",
   "name": "python",
   "nbconvert_exporter": "python",
   "pygments_lexer": "ipython3",
   "version": "3.7.12"
  },
  "papermill": {
   "default_parameters": {},
   "duration": 28.508426,
   "end_time": "2022-04-01T04:18:38.606723",
   "environment_variables": {},
   "exception": null,
   "input_path": "__notebook__.ipynb",
   "output_path": "__notebook__.ipynb",
   "parameters": {},
   "start_time": "2022-04-01T04:18:10.098297",
   "version": "2.3.3"
  }
 },
 "nbformat": 4,
 "nbformat_minor": 5
}
