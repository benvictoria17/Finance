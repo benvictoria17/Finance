{
 "cells": [
  {
   "cell_type": "code",
   "execution_count": 1,
   "metadata": {
    "_cell_guid": "b1076dfc-b9ad-4769-8c92-a6c4dae69d19",
    "_uuid": "8f2839f25d086af736a60e9eeb907d3b93b6e0e5",
    "execution": {
     "iopub.execute_input": "2020-12-06T15:45:14.317022Z",
     "iopub.status.busy": "2020-12-06T15:45:14.316330Z",
     "iopub.status.idle": "2020-12-06T15:45:15.627477Z",
     "shell.execute_reply": "2020-12-06T15:45:15.626522Z"
    },
    "papermill": {
     "duration": 1.343625,
     "end_time": "2020-12-06T15:45:15.627622",
     "exception": false,
     "start_time": "2020-12-06T15:45:14.283997",
     "status": "completed"
    },
    "tags": []
   },
   "outputs": [
    {
     "name": "stdout",
     "output_type": "stream",
     "text": [
      "/kaggle/input/real-time-advertisers-auction/Dataset.csv\n"
     ]
    }
   ],
   "source": [
    "import numpy as np \n",
    "import pandas as pd\n",
    "\n",
    "# Input data files are available in the read-only \"../input/\" directory\n",
    "# For example, running this (by clicking run or pressing Shift+Enter) will list all files under the input directory\n",
    "\n",
    "import os\n",
    "for dirname, _, filenames in os.walk('/kaggle/input'):\n",
    "    for filename in filenames:\n",
    "        print(os.path.join(dirname, filename))\n",
    "\n",
    "\n",
    "import warnings\n",
    "warnings.filterwarnings(\"ignore\")\n",
    "\n",
    "from catboost import CatBoostRegressor\n",
    "from sklearn.model_selection import train_test_split\n",
    "from sklearn.metrics import mean_squared_error as mse\n",
    "\n",
    "\n",
    "RANDOM_SEED = 42\n",
    "# CatBoost parametres\n",
    "ITERATIONS = 500\n",
    "LR         = 0.25\n",
    "DEPTH = 6"
   ]
  },
  {
   "cell_type": "code",
   "execution_count": 2,
   "metadata": {
    "_cell_guid": "79c7e3d0-c299-4dcb-8224-4455121ee9b0",
    "_uuid": "d629ff2d2480ee46fbb7e2d37f6b5fab8052498a",
    "execution": {
     "iopub.execute_input": "2020-12-06T15:45:15.679102Z",
     "iopub.status.busy": "2020-12-06T15:45:15.678310Z",
     "iopub.status.idle": "2020-12-06T15:45:16.894606Z",
     "shell.execute_reply": "2020-12-06T15:45:16.893961Z"
    },
    "papermill": {
     "duration": 1.241913,
     "end_time": "2020-12-06T15:45:16.894752",
     "exception": false,
     "start_time": "2020-12-06T15:45:15.652839",
     "status": "completed"
    },
    "tags": []
   },
   "outputs": [],
   "source": [
    "df = pd.read_csv('/kaggle/input/real-time-advertisers-auction/Dataset.csv')"
   ]
  },
  {
   "cell_type": "code",
   "execution_count": 3,
   "metadata": {
    "execution": {
     "iopub.execute_input": "2020-12-06T15:45:16.927834Z",
     "iopub.status.busy": "2020-12-06T15:45:16.926983Z",
     "iopub.status.idle": "2020-12-06T15:45:16.986999Z",
     "shell.execute_reply": "2020-12-06T15:45:16.986265Z"
    },
    "papermill": {
     "duration": 0.077575,
     "end_time": "2020-12-06T15:45:16.987125",
     "exception": false,
     "start_time": "2020-12-06T15:45:16.909550",
     "status": "completed"
    },
    "tags": []
   },
   "outputs": [
    {
     "data": {
      "text/plain": [
       "date                       0\n",
       "site_id                    0\n",
       "ad_type_id                 0\n",
       "geo_id                     0\n",
       "device_category_id         0\n",
       "advertiser_id              0\n",
       "order_id                   0\n",
       "line_item_type_id          0\n",
       "os_id                      0\n",
       "integration_type_id        0\n",
       "monetization_channel_id    0\n",
       "ad_unit_id                 0\n",
       "total_impressions          0\n",
       "total_revenue              0\n",
       "viewable_impressions       0\n",
       "measurable_impressions     0\n",
       "revenue_share_percent      0\n",
       "dtype: int64"
      ]
     },
     "execution_count": 3,
     "metadata": {},
     "output_type": "execute_result"
    }
   ],
   "source": [
    "# check missing values\n",
    "df.isna().sum()"
   ]
  },
  {
   "cell_type": "code",
   "execution_count": 4,
   "metadata": {
    "execution": {
     "iopub.execute_input": "2020-12-06T15:45:17.046855Z",
     "iopub.status.busy": "2020-12-06T15:45:17.046002Z",
     "iopub.status.idle": "2020-12-06T15:45:17.264075Z",
     "shell.execute_reply": "2020-12-06T15:45:17.264730Z"
    },
    "papermill": {
     "duration": 0.256005,
     "end_time": "2020-12-06T15:45:17.264916",
     "exception": false,
     "start_time": "2020-12-06T15:45:17.008911",
     "status": "completed"
    },
    "tags": []
   },
   "outputs": [
    {
     "data": {
      "text/plain": [
       "23164"
      ]
     },
     "execution_count": 4,
     "metadata": {},
     "output_type": "execute_result"
    }
   ],
   "source": [
    "# check duplicated values\n",
    "df.duplicated().sum()"
   ]
  },
  {
   "cell_type": "code",
   "execution_count": 5,
   "metadata": {
    "execution": {
     "iopub.execute_input": "2020-12-06T15:45:17.354372Z",
     "iopub.status.busy": "2020-12-06T15:45:17.353270Z",
     "iopub.status.idle": "2020-12-06T15:45:17.675530Z",
     "shell.execute_reply": "2020-12-06T15:45:17.674421Z"
    },
    "papermill": {
     "duration": 0.387672,
     "end_time": "2020-12-06T15:45:17.675975",
     "exception": false,
     "start_time": "2020-12-06T15:45:17.288303",
     "status": "completed"
    },
    "tags": []
   },
   "outputs": [],
   "source": [
    "# delete duplicated values\n",
    "df = df.drop_duplicates().reset_index(drop=True)"
   ]
  },
  {
   "cell_type": "markdown",
   "metadata": {
    "papermill": {
     "duration": 0.022384,
     "end_time": "2020-12-06T15:45:17.721556",
     "exception": false,
     "start_time": "2020-12-06T15:45:17.699172",
     "status": "completed"
    },
    "tags": []
   },
   "source": [
    "В качестве train необходимо использовать данные до 21.06.2019 включительно, для test - все оставшиеся"
   ]
  },
  {
   "cell_type": "code",
   "execution_count": 6,
   "metadata": {
    "execution": {
     "iopub.execute_input": "2020-12-06T15:45:17.830180Z",
     "iopub.status.busy": "2020-12-06T15:45:17.829338Z",
     "iopub.status.idle": "2020-12-06T15:45:18.046903Z",
     "shell.execute_reply": "2020-12-06T15:45:18.047386Z"
    },
    "papermill": {
     "duration": 0.303053,
     "end_time": "2020-12-06T15:45:18.047529",
     "exception": false,
     "start_time": "2020-12-06T15:45:17.744476",
     "status": "completed"
    },
    "tags": []
   },
   "outputs": [
    {
     "data": {
      "text/plain": [
       "count                  544127\n",
       "unique                     30\n",
       "top       2019-06-24 00:00:00\n",
       "freq                    22525\n",
       "first     2019-06-01 00:00:00\n",
       "last      2019-06-30 00:00:00\n",
       "Name: date, dtype: object"
      ]
     },
     "execution_count": 6,
     "metadata": {},
     "output_type": "execute_result"
    }
   ],
   "source": [
    "df.date = pd.to_datetime(df.date)\n",
    "df.date.describe()"
   ]
  },
  {
   "cell_type": "markdown",
   "metadata": {
    "papermill": {
     "duration": 0.015446,
     "end_time": "2020-12-06T15:45:18.078820",
     "exception": false,
     "start_time": "2020-12-06T15:45:18.063374",
     "status": "completed"
    },
    "tags": []
   },
   "source": [
    "Пометим train (1) и test (0) с помощью нового признака sample"
   ]
  },
  {
   "cell_type": "code",
   "execution_count": 7,
   "metadata": {
    "execution": {
     "iopub.execute_input": "2020-12-06T15:45:18.121280Z",
     "iopub.status.busy": "2020-12-06T15:45:18.116156Z",
     "iopub.status.idle": "2020-12-06T15:45:21.970408Z",
     "shell.execute_reply": "2020-12-06T15:45:21.969667Z"
    },
    "papermill": {
     "duration": 3.876243,
     "end_time": "2020-12-06T15:45:21.970546",
     "exception": false,
     "start_time": "2020-12-06T15:45:18.094303",
     "status": "completed"
    },
    "tags": []
   },
   "outputs": [
    {
     "data": {
      "text/html": [
       "<div>\n",
       "<style scoped>\n",
       "    .dataframe tbody tr th:only-of-type {\n",
       "        vertical-align: middle;\n",
       "    }\n",
       "\n",
       "    .dataframe tbody tr th {\n",
       "        vertical-align: top;\n",
       "    }\n",
       "\n",
       "    .dataframe thead th {\n",
       "        text-align: right;\n",
       "    }\n",
       "</style>\n",
       "<table border=\"1\" class=\"dataframe\">\n",
       "  <thead>\n",
       "    <tr style=\"text-align: right;\">\n",
       "      <th></th>\n",
       "      <th>date</th>\n",
       "      <th>site_id</th>\n",
       "      <th>ad_type_id</th>\n",
       "      <th>geo_id</th>\n",
       "      <th>device_category_id</th>\n",
       "      <th>advertiser_id</th>\n",
       "      <th>order_id</th>\n",
       "      <th>line_item_type_id</th>\n",
       "      <th>os_id</th>\n",
       "      <th>integration_type_id</th>\n",
       "      <th>monetization_channel_id</th>\n",
       "      <th>ad_unit_id</th>\n",
       "      <th>total_impressions</th>\n",
       "      <th>total_revenue</th>\n",
       "      <th>viewable_impressions</th>\n",
       "      <th>measurable_impressions</th>\n",
       "      <th>revenue_share_percent</th>\n",
       "      <th>sample</th>\n",
       "    </tr>\n",
       "  </thead>\n",
       "  <tbody>\n",
       "    <tr>\n",
       "      <th>383264</th>\n",
       "      <td>2019-06-10</td>\n",
       "      <td>345</td>\n",
       "      <td>10</td>\n",
       "      <td>142</td>\n",
       "      <td>1</td>\n",
       "      <td>79</td>\n",
       "      <td>3459</td>\n",
       "      <td>20</td>\n",
       "      <td>56</td>\n",
       "      <td>1</td>\n",
       "      <td>19</td>\n",
       "      <td>5102</td>\n",
       "      <td>2</td>\n",
       "      <td>0.0000</td>\n",
       "      <td>0</td>\n",
       "      <td>2</td>\n",
       "      <td>1</td>\n",
       "      <td>1</td>\n",
       "    </tr>\n",
       "    <tr>\n",
       "      <th>108006</th>\n",
       "      <td>2019-06-24</td>\n",
       "      <td>350</td>\n",
       "      <td>10</td>\n",
       "      <td>187</td>\n",
       "      <td>2</td>\n",
       "      <td>79</td>\n",
       "      <td>3477</td>\n",
       "      <td>8</td>\n",
       "      <td>58</td>\n",
       "      <td>1</td>\n",
       "      <td>19</td>\n",
       "      <td>5168</td>\n",
       "      <td>640</td>\n",
       "      <td>0.0554</td>\n",
       "      <td>80</td>\n",
       "      <td>640</td>\n",
       "      <td>1</td>\n",
       "      <td>0</td>\n",
       "    </tr>\n",
       "  </tbody>\n",
       "</table>\n",
       "</div>"
      ],
      "text/plain": [
       "             date  site_id  ad_type_id  geo_id  device_category_id  \\\n",
       "383264 2019-06-10      345          10     142                   1   \n",
       "108006 2019-06-24      350          10     187                   2   \n",
       "\n",
       "        advertiser_id  order_id  line_item_type_id  os_id  \\\n",
       "383264             79      3459                 20     56   \n",
       "108006             79      3477                  8     58   \n",
       "\n",
       "        integration_type_id  monetization_channel_id  ad_unit_id  \\\n",
       "383264                    1                       19        5102   \n",
       "108006                    1                       19        5168   \n",
       "\n",
       "        total_impressions  total_revenue  viewable_impressions  \\\n",
       "383264                  2         0.0000                     0   \n",
       "108006                640         0.0554                    80   \n",
       "\n",
       "        measurable_impressions  revenue_share_percent  sample  \n",
       "383264                       2                      1       1  \n",
       "108006                     640                      1       0  "
      ]
     },
     "execution_count": 7,
     "metadata": {},
     "output_type": "execute_result"
    }
   ],
   "source": [
    "df['sample'] = df.date.apply(lambda x: 1 if x.day < 22 else 0)  # так как данные представлены только с 1 по 30 июня\n",
    "\n",
    "df.sample(2)"
   ]
  },
  {
   "cell_type": "markdown",
   "metadata": {
    "papermill": {
     "duration": 0.02489,
     "end_time": "2020-12-06T15:45:22.020771",
     "exception": false,
     "start_time": "2020-12-06T15:45:21.995881",
     "status": "completed"
    },
    "tags": []
   },
   "source": [
    "Рассчитаем CPM для train по формуле: CPM = ((revenue of the publisher * 100) / revenue_share_percentage) / measurable_impressions) * 1000"
   ]
  },
  {
   "cell_type": "code",
   "execution_count": 8,
   "metadata": {
    "execution": {
     "iopub.execute_input": "2020-12-06T15:45:22.080340Z",
     "iopub.status.busy": "2020-12-06T15:45:22.079475Z",
     "iopub.status.idle": "2020-12-06T15:45:41.787233Z",
     "shell.execute_reply": "2020-12-06T15:45:41.788314Z"
    },
    "papermill": {
     "duration": 19.742481,
     "end_time": "2020-12-06T15:45:41.788450",
     "exception": false,
     "start_time": "2020-12-06T15:45:22.045969",
     "status": "completed"
    },
    "tags": []
   },
   "outputs": [
    {
     "data": {
      "text/plain": [
       "count    544127.000000\n",
       "mean        120.211135\n",
       "std         756.477535\n",
       "min        -700.909091\n",
       "25%           0.000000\n",
       "50%           0.000000\n",
       "75%         110.000000\n",
       "max      283620.000000\n",
       "Name: CPM, dtype: float64"
      ]
     },
     "execution_count": 8,
     "metadata": {},
     "output_type": "execute_result"
    }
   ],
   "source": [
    "def cpm(revenue_of_the_publisher, revenue_share_percentage, measurable_impressions):\n",
    "    if measurable_impressions == 0:\n",
    "        return 0\n",
    "    else:\n",
    "        return ((revenue_of_the_publisher * 100 / revenue_share_percentage) / measurable_impressions) * 1000\n",
    "\n",
    "df['CPM'] = df.apply(lambda x: cpm(x['total_revenue'], x['revenue_share_percent'], x['measurable_impressions']), axis=1)\n",
    "\n",
    "df['CPM'].describe()"
   ]
  },
  {
   "cell_type": "code",
   "execution_count": 9,
   "metadata": {
    "execution": {
     "iopub.execute_input": "2020-12-06T15:45:41.829233Z",
     "iopub.status.busy": "2020-12-06T15:45:41.827995Z",
     "iopub.status.idle": "2020-12-06T15:45:41.850294Z",
     "shell.execute_reply": "2020-12-06T15:45:41.849525Z"
    },
    "papermill": {
     "duration": 0.045013,
     "end_time": "2020-12-06T15:45:41.850426",
     "exception": false,
     "start_time": "2020-12-06T15:45:41.805413",
     "status": "completed"
    },
    "tags": []
   },
   "outputs": [],
   "source": [
    "# избавимся от признаков, которые явно присутствовали в формуле при расчете CPM\n",
    "df.drop(['total_revenue', 'revenue_share_percent', 'measurable_impressions'], axis=1, inplace=True)"
   ]
  },
  {
   "cell_type": "code",
   "execution_count": 10,
   "metadata": {
    "execution": {
     "iopub.execute_input": "2020-12-06T15:45:41.907779Z",
     "iopub.status.busy": "2020-12-06T15:45:41.906769Z",
     "iopub.status.idle": "2020-12-06T15:45:41.917008Z",
     "shell.execute_reply": "2020-12-06T15:45:41.917656Z"
    },
    "papermill": {
     "duration": 0.041497,
     "end_time": "2020-12-06T15:45:41.917854",
     "exception": false,
     "start_time": "2020-12-06T15:45:41.876357",
     "status": "completed"
    },
    "tags": []
   },
   "outputs": [
    {
     "data": {
      "text/plain": [
       "1"
      ]
     },
     "execution_count": 10,
     "metadata": {},
     "output_type": "execute_result"
    }
   ],
   "source": [
    "# обратим внимание, что признак integration_type_id имеет всего 1 уникальное значение\n",
    "df.integration_type_id.nunique()"
   ]
  },
  {
   "cell_type": "code",
   "execution_count": 11,
   "metadata": {
    "execution": {
     "iopub.execute_input": "2020-12-06T15:45:41.997087Z",
     "iopub.status.busy": "2020-12-06T15:45:41.989746Z",
     "iopub.status.idle": "2020-12-06T15:45:42.000608Z",
     "shell.execute_reply": "2020-12-06T15:45:41.999761Z"
    },
    "papermill": {
     "duration": 0.056472,
     "end_time": "2020-12-06T15:45:42.000765",
     "exception": false,
     "start_time": "2020-12-06T15:45:41.944293",
     "status": "completed"
    },
    "tags": []
   },
   "outputs": [],
   "source": [
    "# поэтому можем избавиться от него\n",
    "df.drop(['integration_type_id'], axis=1, inplace=True)"
   ]
  },
  {
   "cell_type": "code",
   "execution_count": 12,
   "metadata": {
    "execution": {
     "iopub.execute_input": "2020-12-06T15:45:42.061399Z",
     "iopub.status.busy": "2020-12-06T15:45:42.060578Z",
     "iopub.status.idle": "2020-12-06T15:45:42.062741Z",
     "shell.execute_reply": "2020-12-06T15:45:42.063503Z"
    },
    "papermill": {
     "duration": 0.035732,
     "end_time": "2020-12-06T15:45:42.063654",
     "exception": false,
     "start_time": "2020-12-06T15:45:42.027922",
     "status": "completed"
    },
    "tags": []
   },
   "outputs": [],
   "source": [
    "# зададим категориальные фичи для модели\n",
    "cat_features_ids = ['site_id',\n",
    "                    'ad_type_id',\n",
    "                    'geo_id',\n",
    "                    'device_category_id',\n",
    "                    'advertiser_id',\n",
    "                    'line_item_type_id',\n",
    "                    'os_id',\n",
    "                    'monetization_channel_id',\n",
    "                    'ad_unit_id',\n",
    "                    'order_id']"
   ]
  },
  {
   "cell_type": "code",
   "execution_count": 13,
   "metadata": {
    "execution": {
     "iopub.execute_input": "2020-12-06T15:45:42.121560Z",
     "iopub.status.busy": "2020-12-06T15:45:42.120766Z",
     "iopub.status.idle": "2020-12-06T15:45:42.177361Z",
     "shell.execute_reply": "2020-12-06T15:45:42.176528Z"
    },
    "papermill": {
     "duration": 0.086844,
     "end_time": "2020-12-06T15:45:42.177489",
     "exception": false,
     "start_time": "2020-12-06T15:45:42.090645",
     "status": "completed"
    },
    "tags": []
   },
   "outputs": [
    {
     "data": {
      "text/plain": [
       "count    379584.000000\n",
       "mean        120.688944\n",
       "std         814.365961\n",
       "min           0.000000\n",
       "25%           0.000000\n",
       "50%           0.000000\n",
       "75%         115.000000\n",
       "max      283620.000000\n",
       "Name: CPM, dtype: float64"
      ]
     },
     "execution_count": 13,
     "metadata": {},
     "output_type": "execute_result"
    }
   ],
   "source": [
    "# выделим обучающую выборку\n",
    "train_data = df.query('sample == 1').drop(['date', 'sample'], axis=1)\n",
    "\n",
    "train_data['CPM'].describe()"
   ]
  },
  {
   "cell_type": "code",
   "execution_count": 14,
   "metadata": {
    "execution": {
     "iopub.execute_input": "2020-12-06T15:45:42.239647Z",
     "iopub.status.busy": "2020-12-06T15:45:42.238528Z",
     "iopub.status.idle": "2020-12-06T15:45:42.250453Z",
     "shell.execute_reply": "2020-12-06T15:45:42.249600Z"
    },
    "papermill": {
     "duration": 0.045445,
     "end_time": "2020-12-06T15:45:42.250579",
     "exception": false,
     "start_time": "2020-12-06T15:45:42.205134",
     "status": "completed"
    },
    "tags": []
   },
   "outputs": [
    {
     "data": {
      "text/plain": [
       "534.9999999999999"
      ]
     },
     "execution_count": 14,
     "metadata": {},
     "output_type": "execute_result"
    }
   ],
   "source": [
    "train_data['CPM'].quantile(0.95)"
   ]
  },
  {
   "cell_type": "code",
   "execution_count": 15,
   "metadata": {
    "execution": {
     "iopub.execute_input": "2020-12-06T15:45:42.312740Z",
     "iopub.status.busy": "2020-12-06T15:45:42.312080Z",
     "iopub.status.idle": "2020-12-06T15:45:42.339474Z",
     "shell.execute_reply": "2020-12-06T15:45:42.338731Z"
    },
    "papermill": {
     "duration": 0.060298,
     "end_time": "2020-12-06T15:45:42.339584",
     "exception": false,
     "start_time": "2020-12-06T15:45:42.279286",
     "status": "completed"
    },
    "tags": []
   },
   "outputs": [],
   "source": [
    "# удалим выбросы\n",
    "train_data = train_data.query(\"0 <= CPM < 535\")"
   ]
  },
  {
   "cell_type": "code",
   "execution_count": 16,
   "metadata": {
    "execution": {
     "iopub.execute_input": "2020-12-06T15:45:42.399585Z",
     "iopub.status.busy": "2020-12-06T15:45:42.398762Z",
     "iopub.status.idle": "2020-12-06T15:48:44.986726Z",
     "shell.execute_reply": "2020-12-06T15:48:44.987411Z"
    },
    "papermill": {
     "duration": 182.628735,
     "end_time": "2020-12-06T15:48:44.987576",
     "exception": false,
     "start_time": "2020-12-06T15:45:42.358841",
     "status": "completed"
    },
    "tags": []
   },
   "outputs": [
    {
     "name": "stdout",
     "output_type": "stream",
     "text": [
      "0:\tlearn: 91.4900182\ttest: 91.0219647\tbest: 91.0219647 (0)\ttotal: 566ms\tremaining: 4m 42s\n",
      "50:\tlearn: 51.4709533\ttest: 51.5649025\tbest: 51.5649025 (50)\ttotal: 18.5s\tremaining: 2m 43s\n",
      "100:\tlearn: 50.1534343\ttest: 50.4038954\tbest: 50.4038954 (100)\ttotal: 36s\tremaining: 2m 22s\n",
      "150:\tlearn: 49.5243241\ttest: 49.9107955\tbest: 49.9107955 (150)\ttotal: 53.4s\tremaining: 2m 3s\n",
      "200:\tlearn: 49.1035273\ttest: 49.6362433\tbest: 49.6362433 (200)\ttotal: 1m 11s\tremaining: 1m 45s\n",
      "250:\tlearn: 48.8130315\ttest: 49.4281319\tbest: 49.4281319 (250)\ttotal: 1m 29s\tremaining: 1m 28s\n",
      "300:\tlearn: 48.5900421\ttest: 49.3078618\tbest: 49.3078618 (300)\ttotal: 1m 46s\tremaining: 1m 10s\n",
      "350:\tlearn: 48.3970509\ttest: 49.2016135\tbest: 49.2016135 (350)\ttotal: 2m 4s\tremaining: 53s\n",
      "400:\tlearn: 48.2035405\ttest: 49.1079331\tbest: 49.1078896 (399)\ttotal: 2m 23s\tremaining: 35.4s\n",
      "450:\tlearn: 48.0713857\ttest: 49.0599400\tbest: 49.0589370 (448)\ttotal: 2m 41s\tremaining: 17.5s\n",
      "499:\tlearn: 47.9329585\ttest: 49.0031242\tbest: 49.0022304 (497)\ttotal: 2m 58s\tremaining: 0us\n",
      "\n",
      "bestTest = 49.00223044\n",
      "bestIteration = 497\n",
      "\n",
      "Shrink model to first 498 iterations.\n",
      "MSE = 2401.21858789605\n"
     ]
    }
   ],
   "source": [
    "y = train_data['CPM'].values\n",
    "X = train_data.drop(['CPM'], axis=1)\n",
    "\n",
    "X_train, X_test, y_train, y_test = train_test_split(X, y, test_size=0.3, random_state=RANDOM_SEED)\n",
    "\n",
    "model = CatBoostRegressor(iterations = ITERATIONS,\n",
    "                              learning_rate = LR,\n",
    "                              depth = DEPTH,\n",
    "                              eval_metric='RMSE',\n",
    "                              random_seed = RANDOM_SEED)\n",
    "\n",
    "model.fit(X_train, y_train, \n",
    "          cat_features=cat_features_ids,\n",
    "          eval_set=(X_test, y_test),\n",
    "          verbose_eval=50,\n",
    "          use_best_model=True,\n",
    "          plot=False)\n",
    "\n",
    "y_pred = model.predict(X_test)\n",
    "\n",
    "print(f\"MSE = {mse(y_test, y_pred)}\")"
   ]
  },
  {
   "cell_type": "code",
   "execution_count": 17,
   "metadata": {
    "execution": {
     "iopub.execute_input": "2020-12-06T15:48:45.062085Z",
     "iopub.status.busy": "2020-12-06T15:48:45.061294Z",
     "iopub.status.idle": "2020-12-06T15:48:45.090070Z",
     "shell.execute_reply": "2020-12-06T15:48:45.089356Z"
    },
    "papermill": {
     "duration": 0.067155,
     "end_time": "2020-12-06T15:48:45.090240",
     "exception": false,
     "start_time": "2020-12-06T15:48:45.023085",
     "status": "completed"
    },
    "tags": []
   },
   "outputs": [
    {
     "data": {
      "text/plain": [
       "545.0"
      ]
     },
     "execution_count": 17,
     "metadata": {},
     "output_type": "execute_result"
    }
   ],
   "source": [
    "test_data = df.query('sample == 0').drop(['date', 'sample'], axis=1)\n",
    "test_data['CPM'].quantile(0.95)"
   ]
  },
  {
   "cell_type": "code",
   "execution_count": 18,
   "metadata": {
    "execution": {
     "iopub.execute_input": "2020-12-06T15:48:45.168289Z",
     "iopub.status.busy": "2020-12-06T15:48:45.167431Z",
     "iopub.status.idle": "2020-12-06T15:48:46.539649Z",
     "shell.execute_reply": "2020-12-06T15:48:46.538057Z"
    },
    "papermill": {
     "duration": 1.413779,
     "end_time": "2020-12-06T15:48:46.539840",
     "exception": false,
     "start_time": "2020-12-06T15:48:45.126061",
     "status": "completed"
    },
    "tags": []
   },
   "outputs": [
    {
     "data": {
      "text/plain": [
       "2850.744593734992"
      ]
     },
     "execution_count": 18,
     "metadata": {},
     "output_type": "execute_result"
    }
   ],
   "source": [
    "# удалим выбросы\n",
    "test_data = test_data.query(\"0 <= CPM <= 545\")\n",
    "\n",
    "\n",
    "test_values = test_data['CPM'].values\n",
    "test_data = test_data.drop(['CPM'], axis=1)\n",
    "\n",
    "mse(test_values, model.predict(test_data))"
   ]
  }
 ],
 "metadata": {
  "kernelspec": {
   "display_name": "Python 3",
   "language": "python",
   "name": "python3"
  },
  "language_info": {
   "codemirror_mode": {
    "name": "ipython",
    "version": 3
   },
   "file_extension": ".py",
   "mimetype": "text/x-python",
   "name": "python",
   "nbconvert_exporter": "python",
   "pygments_lexer": "ipython3",
   "version": "3.7.6"
  },
  "papermill": {
   "duration": 217.996777,
   "end_time": "2020-12-06T15:48:46.700195",
   "environment_variables": {},
   "exception": null,
   "input_path": "__notebook__.ipynb",
   "output_path": "__notebook__.ipynb",
   "parameters": {},
   "start_time": "2020-12-06T15:45:08.703418",
   "version": "2.1.0"
  }
 },
 "nbformat": 4,
 "nbformat_minor": 4
}
