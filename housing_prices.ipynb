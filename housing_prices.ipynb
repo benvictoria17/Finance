{
 "cells": [
  {
   "cell_type": "code",
   "execution_count": 1,
   "id": "e8ffc18d",
   "metadata": {
    "_cell_guid": "b1076dfc-b9ad-4769-8c92-a6c4dae69d19",
    "_uuid": "8f2839f25d086af736a60e9eeb907d3b93b6e0e5",
    "execution": {
     "iopub.execute_input": "2022-04-02T16:51:25.200820Z",
     "iopub.status.busy": "2022-04-02T16:51:25.199993Z",
     "iopub.status.idle": "2022-04-02T16:51:25.204418Z",
     "shell.execute_reply": "2022-04-02T16:51:25.204949Z",
     "shell.execute_reply.started": "2022-04-02T16:44:23.227391Z"
    },
    "papermill": {
     "duration": 0.038073,
     "end_time": "2022-04-02T16:51:25.205270",
     "exception": false,
     "start_time": "2022-04-02T16:51:25.167197",
     "status": "completed"
    },
    "tags": []
   },
   "outputs": [],
   "source": [
    "import numpy as np\n",
    "import pandas as pd\n",
    "import matplotlib.pyplot as plt"
   ]
  },
  {
   "cell_type": "code",
   "execution_count": 2,
   "id": "8edd5912",
   "metadata": {
    "execution": {
     "iopub.execute_input": "2022-04-02T16:51:25.266971Z",
     "iopub.status.busy": "2022-04-02T16:51:25.259385Z",
     "iopub.status.idle": "2022-04-02T16:51:25.744071Z",
     "shell.execute_reply": "2022-04-02T16:51:25.743475Z",
     "shell.execute_reply.started": "2022-04-02T16:44:24.619645Z"
    },
    "papermill": {
     "duration": 0.513888,
     "end_time": "2022-04-02T16:51:25.744246",
     "exception": false,
     "start_time": "2022-04-02T16:51:25.230358",
     "status": "completed"
    },
    "tags": []
   },
   "outputs": [],
   "source": [
    "dataset_train = pd.read_csv(\"https://raw.githubusercontent.com/benvictoria17/Finance/master/dataset/House%20Prices%20-%20Advanced%20Regression%20Techniques/train.csv\")\n",
    "dataset_test = pd.read_csv(\"https://raw.githubusercontent.com/benvictoria17/Finance/master/dataset/House%20Prices%20-%20Advanced%20Regression%20Techniques/test.csv\")"
   ]
  },
  {
   "cell_type": "code",
   "execution_count": 3,
   "id": "a2f496d2",
   "metadata": {
    "execution": {
     "iopub.execute_input": "2022-04-02T16:51:25.805599Z",
     "iopub.status.busy": "2022-04-02T16:51:25.804930Z",
     "iopub.status.idle": "2022-04-02T16:51:25.831068Z",
     "shell.execute_reply": "2022-04-02T16:51:25.831600Z",
     "shell.execute_reply.started": "2022-04-02T16:44:25.921431Z"
    },
    "papermill": {
     "duration": 0.064824,
     "end_time": "2022-04-02T16:51:25.831769",
     "exception": false,
     "start_time": "2022-04-02T16:51:25.766945",
     "status": "completed"
    },
    "tags": []
   },
   "outputs": [
    {
     "name": "stdout",
     "output_type": "stream",
     "text": [
      "<class 'pandas.core.frame.DataFrame'>\n",
      "RangeIndex: 1460 entries, 0 to 1459\n",
      "Data columns (total 81 columns):\n",
      " #   Column         Non-Null Count  Dtype  \n",
      "---  ------         --------------  -----  \n",
      " 0   Id             1460 non-null   int64  \n",
      " 1   MSSubClass     1460 non-null   int64  \n",
      " 2   MSZoning       1460 non-null   object \n",
      " 3   LotFrontage    1201 non-null   float64\n",
      " 4   LotArea        1460 non-null   int64  \n",
      " 5   Street         1460 non-null   object \n",
      " 6   Alley          91 non-null     object \n",
      " 7   LotShape       1460 non-null   object \n",
      " 8   LandContour    1460 non-null   object \n",
      " 9   Utilities      1460 non-null   object \n",
      " 10  LotConfig      1460 non-null   object \n",
      " 11  LandSlope      1460 non-null   object \n",
      " 12  Neighborhood   1460 non-null   object \n",
      " 13  Condition1     1460 non-null   object \n",
      " 14  Condition2     1460 non-null   object \n",
      " 15  BldgType       1460 non-null   object \n",
      " 16  HouseStyle     1460 non-null   object \n",
      " 17  OverallQual    1460 non-null   int64  \n",
      " 18  OverallCond    1460 non-null   int64  \n",
      " 19  YearBuilt      1460 non-null   int64  \n",
      " 20  YearRemodAdd   1460 non-null   int64  \n",
      " 21  RoofStyle      1460 non-null   object \n",
      " 22  RoofMatl       1460 non-null   object \n",
      " 23  Exterior1st    1460 non-null   object \n",
      " 24  Exterior2nd    1460 non-null   object \n",
      " 25  MasVnrType     1452 non-null   object \n",
      " 26  MasVnrArea     1452 non-null   float64\n",
      " 27  ExterQual      1460 non-null   object \n",
      " 28  ExterCond      1460 non-null   object \n",
      " 29  Foundation     1460 non-null   object \n",
      " 30  BsmtQual       1423 non-null   object \n",
      " 31  BsmtCond       1423 non-null   object \n",
      " 32  BsmtExposure   1422 non-null   object \n",
      " 33  BsmtFinType1   1423 non-null   object \n",
      " 34  BsmtFinSF1     1460 non-null   int64  \n",
      " 35  BsmtFinType2   1422 non-null   object \n",
      " 36  BsmtFinSF2     1460 non-null   int64  \n",
      " 37  BsmtUnfSF      1460 non-null   int64  \n",
      " 38  TotalBsmtSF    1460 non-null   int64  \n",
      " 39  Heating        1460 non-null   object \n",
      " 40  HeatingQC      1460 non-null   object \n",
      " 41  CentralAir     1460 non-null   object \n",
      " 42  Electrical     1459 non-null   object \n",
      " 43  1stFlrSF       1460 non-null   int64  \n",
      " 44  2ndFlrSF       1460 non-null   int64  \n",
      " 45  LowQualFinSF   1460 non-null   int64  \n",
      " 46  GrLivArea      1460 non-null   int64  \n",
      " 47  BsmtFullBath   1460 non-null   int64  \n",
      " 48  BsmtHalfBath   1460 non-null   int64  \n",
      " 49  FullBath       1460 non-null   int64  \n",
      " 50  HalfBath       1460 non-null   int64  \n",
      " 51  BedroomAbvGr   1460 non-null   int64  \n",
      " 52  KitchenAbvGr   1460 non-null   int64  \n",
      " 53  KitchenQual    1460 non-null   object \n",
      " 54  TotRmsAbvGrd   1460 non-null   int64  \n",
      " 55  Functional     1460 non-null   object \n",
      " 56  Fireplaces     1460 non-null   int64  \n",
      " 57  FireplaceQu    770 non-null    object \n",
      " 58  GarageType     1379 non-null   object \n",
      " 59  GarageYrBlt    1379 non-null   float64\n",
      " 60  GarageFinish   1379 non-null   object \n",
      " 61  GarageCars     1460 non-null   int64  \n",
      " 62  GarageArea     1460 non-null   int64  \n",
      " 63  GarageQual     1379 non-null   object \n",
      " 64  GarageCond     1379 non-null   object \n",
      " 65  PavedDrive     1460 non-null   object \n",
      " 66  WoodDeckSF     1460 non-null   int64  \n",
      " 67  OpenPorchSF    1460 non-null   int64  \n",
      " 68  EnclosedPorch  1460 non-null   int64  \n",
      " 69  3SsnPorch      1460 non-null   int64  \n",
      " 70  ScreenPorch    1460 non-null   int64  \n",
      " 71  PoolArea       1460 non-null   int64  \n",
      " 72  PoolQC         7 non-null      object \n",
      " 73  Fence          281 non-null    object \n",
      " 74  MiscFeature    54 non-null     object \n",
      " 75  MiscVal        1460 non-null   int64  \n",
      " 76  MoSold         1460 non-null   int64  \n",
      " 77  YrSold         1460 non-null   int64  \n",
      " 78  SaleType       1460 non-null   object \n",
      " 79  SaleCondition  1460 non-null   object \n",
      " 80  SalePrice      1460 non-null   int64  \n",
      "dtypes: float64(3), int64(35), object(43)\n",
      "memory usage: 924.0+ KB\n"
     ]
    }
   ],
   "source": [
    "dataset_train.info()"
   ]
  },
  {
   "cell_type": "code",
   "execution_count": 4,
   "id": "49b36795",
   "metadata": {
    "execution": {
     "iopub.execute_input": "2022-04-02T16:51:25.882588Z",
     "iopub.status.busy": "2022-04-02T16:51:25.881583Z",
     "iopub.status.idle": "2022-04-02T16:51:25.906197Z",
     "shell.execute_reply": "2022-04-02T16:51:25.906706Z",
     "shell.execute_reply.started": "2022-04-02T16:44:41.830188Z"
    },
    "papermill": {
     "duration": 0.051447,
     "end_time": "2022-04-02T16:51:25.906893",
     "exception": false,
     "start_time": "2022-04-02T16:51:25.855446",
     "status": "completed"
    },
    "tags": []
   },
   "outputs": [
    {
     "name": "stdout",
     "output_type": "stream",
     "text": [
      "<class 'pandas.core.frame.DataFrame'>\n",
      "RangeIndex: 1459 entries, 0 to 1458\n",
      "Data columns (total 80 columns):\n",
      " #   Column         Non-Null Count  Dtype  \n",
      "---  ------         --------------  -----  \n",
      " 0   Id             1459 non-null   int64  \n",
      " 1   MSSubClass     1459 non-null   int64  \n",
      " 2   MSZoning       1455 non-null   object \n",
      " 3   LotFrontage    1232 non-null   float64\n",
      " 4   LotArea        1459 non-null   int64  \n",
      " 5   Street         1459 non-null   object \n",
      " 6   Alley          107 non-null    object \n",
      " 7   LotShape       1459 non-null   object \n",
      " 8   LandContour    1459 non-null   object \n",
      " 9   Utilities      1457 non-null   object \n",
      " 10  LotConfig      1459 non-null   object \n",
      " 11  LandSlope      1459 non-null   object \n",
      " 12  Neighborhood   1459 non-null   object \n",
      " 13  Condition1     1459 non-null   object \n",
      " 14  Condition2     1459 non-null   object \n",
      " 15  BldgType       1459 non-null   object \n",
      " 16  HouseStyle     1459 non-null   object \n",
      " 17  OverallQual    1459 non-null   int64  \n",
      " 18  OverallCond    1459 non-null   int64  \n",
      " 19  YearBuilt      1459 non-null   int64  \n",
      " 20  YearRemodAdd   1459 non-null   int64  \n",
      " 21  RoofStyle      1459 non-null   object \n",
      " 22  RoofMatl       1459 non-null   object \n",
      " 23  Exterior1st    1458 non-null   object \n",
      " 24  Exterior2nd    1458 non-null   object \n",
      " 25  MasVnrType     1443 non-null   object \n",
      " 26  MasVnrArea     1444 non-null   float64\n",
      " 27  ExterQual      1459 non-null   object \n",
      " 28  ExterCond      1459 non-null   object \n",
      " 29  Foundation     1459 non-null   object \n",
      " 30  BsmtQual       1415 non-null   object \n",
      " 31  BsmtCond       1414 non-null   object \n",
      " 32  BsmtExposure   1415 non-null   object \n",
      " 33  BsmtFinType1   1417 non-null   object \n",
      " 34  BsmtFinSF1     1458 non-null   float64\n",
      " 35  BsmtFinType2   1417 non-null   object \n",
      " 36  BsmtFinSF2     1458 non-null   float64\n",
      " 37  BsmtUnfSF      1458 non-null   float64\n",
      " 38  TotalBsmtSF    1458 non-null   float64\n",
      " 39  Heating        1459 non-null   object \n",
      " 40  HeatingQC      1459 non-null   object \n",
      " 41  CentralAir     1459 non-null   object \n",
      " 42  Electrical     1459 non-null   object \n",
      " 43  1stFlrSF       1459 non-null   int64  \n",
      " 44  2ndFlrSF       1459 non-null   int64  \n",
      " 45  LowQualFinSF   1459 non-null   int64  \n",
      " 46  GrLivArea      1459 non-null   int64  \n",
      " 47  BsmtFullBath   1457 non-null   float64\n",
      " 48  BsmtHalfBath   1457 non-null   float64\n",
      " 49  FullBath       1459 non-null   int64  \n",
      " 50  HalfBath       1459 non-null   int64  \n",
      " 51  BedroomAbvGr   1459 non-null   int64  \n",
      " 52  KitchenAbvGr   1459 non-null   int64  \n",
      " 53  KitchenQual    1458 non-null   object \n",
      " 54  TotRmsAbvGrd   1459 non-null   int64  \n",
      " 55  Functional     1457 non-null   object \n",
      " 56  Fireplaces     1459 non-null   int64  \n",
      " 57  FireplaceQu    729 non-null    object \n",
      " 58  GarageType     1383 non-null   object \n",
      " 59  GarageYrBlt    1381 non-null   float64\n",
      " 60  GarageFinish   1381 non-null   object \n",
      " 61  GarageCars     1458 non-null   float64\n",
      " 62  GarageArea     1458 non-null   float64\n",
      " 63  GarageQual     1381 non-null   object \n",
      " 64  GarageCond     1381 non-null   object \n",
      " 65  PavedDrive     1459 non-null   object \n",
      " 66  WoodDeckSF     1459 non-null   int64  \n",
      " 67  OpenPorchSF    1459 non-null   int64  \n",
      " 68  EnclosedPorch  1459 non-null   int64  \n",
      " 69  3SsnPorch      1459 non-null   int64  \n",
      " 70  ScreenPorch    1459 non-null   int64  \n",
      " 71  PoolArea       1459 non-null   int64  \n",
      " 72  PoolQC         3 non-null      object \n",
      " 73  Fence          290 non-null    object \n",
      " 74  MiscFeature    51 non-null     object \n",
      " 75  MiscVal        1459 non-null   int64  \n",
      " 76  MoSold         1459 non-null   int64  \n",
      " 77  YrSold         1459 non-null   int64  \n",
      " 78  SaleType       1458 non-null   object \n",
      " 79  SaleCondition  1459 non-null   object \n",
      "dtypes: float64(11), int64(26), object(43)\n",
      "memory usage: 912.0+ KB\n"
     ]
    }
   ],
   "source": [
    "dataset_test.info()"
   ]
  },
  {
   "cell_type": "code",
   "execution_count": 5,
   "id": "15621dee",
   "metadata": {
    "execution": {
     "iopub.execute_input": "2022-04-02T16:51:25.959402Z",
     "iopub.status.busy": "2022-04-02T16:51:25.958113Z",
     "iopub.status.idle": "2022-04-02T16:51:25.980369Z",
     "shell.execute_reply": "2022-04-02T16:51:25.980992Z",
     "shell.execute_reply.started": "2022-04-02T16:44:52.398611Z"
    },
    "papermill": {
     "duration": 0.050121,
     "end_time": "2022-04-02T16:51:25.981201",
     "exception": false,
     "start_time": "2022-04-02T16:51:25.931080",
     "status": "completed"
    },
    "tags": []
   },
   "outputs": [
    {
     "name": "stdout",
     "output_type": "stream",
     "text": [
      "<class 'pandas.core.frame.DataFrame'>\n",
      "RangeIndex: 1459 entries, 0 to 1458\n",
      "Data columns (total 80 columns):\n",
      " #   Column         Non-Null Count  Dtype  \n",
      "---  ------         --------------  -----  \n",
      " 0   Id             1459 non-null   int64  \n",
      " 1   MSSubClass     1459 non-null   int64  \n",
      " 2   MSZoning       1455 non-null   object \n",
      " 3   LotFrontage    1232 non-null   float64\n",
      " 4   LotArea        1459 non-null   int64  \n",
      " 5   Street         1459 non-null   object \n",
      " 6   Alley          107 non-null    object \n",
      " 7   LotShape       1459 non-null   object \n",
      " 8   LandContour    1459 non-null   object \n",
      " 9   Utilities      1457 non-null   object \n",
      " 10  LotConfig      1459 non-null   object \n",
      " 11  LandSlope      1459 non-null   object \n",
      " 12  Neighborhood   1459 non-null   object \n",
      " 13  Condition1     1459 non-null   object \n",
      " 14  Condition2     1459 non-null   object \n",
      " 15  BldgType       1459 non-null   object \n",
      " 16  HouseStyle     1459 non-null   object \n",
      " 17  OverallQual    1459 non-null   int64  \n",
      " 18  OverallCond    1459 non-null   int64  \n",
      " 19  YearBuilt      1459 non-null   int64  \n",
      " 20  YearRemodAdd   1459 non-null   int64  \n",
      " 21  RoofStyle      1459 non-null   object \n",
      " 22  RoofMatl       1459 non-null   object \n",
      " 23  Exterior1st    1458 non-null   object \n",
      " 24  Exterior2nd    1458 non-null   object \n",
      " 25  MasVnrType     1443 non-null   object \n",
      " 26  MasVnrArea     1444 non-null   float64\n",
      " 27  ExterQual      1459 non-null   object \n",
      " 28  ExterCond      1459 non-null   object \n",
      " 29  Foundation     1459 non-null   object \n",
      " 30  BsmtQual       1415 non-null   object \n",
      " 31  BsmtCond       1414 non-null   object \n",
      " 32  BsmtExposure   1415 non-null   object \n",
      " 33  BsmtFinType1   1417 non-null   object \n",
      " 34  BsmtFinSF1     1458 non-null   float64\n",
      " 35  BsmtFinType2   1417 non-null   object \n",
      " 36  BsmtFinSF2     1458 non-null   float64\n",
      " 37  BsmtUnfSF      1458 non-null   float64\n",
      " 38  TotalBsmtSF    1458 non-null   float64\n",
      " 39  Heating        1459 non-null   object \n",
      " 40  HeatingQC      1459 non-null   object \n",
      " 41  CentralAir     1459 non-null   object \n",
      " 42  Electrical     1459 non-null   object \n",
      " 43  1stFlrSF       1459 non-null   int64  \n",
      " 44  2ndFlrSF       1459 non-null   int64  \n",
      " 45  LowQualFinSF   1459 non-null   int64  \n",
      " 46  GrLivArea      1459 non-null   int64  \n",
      " 47  BsmtFullBath   1457 non-null   float64\n",
      " 48  BsmtHalfBath   1457 non-null   float64\n",
      " 49  FullBath       1459 non-null   int64  \n",
      " 50  HalfBath       1459 non-null   int64  \n",
      " 51  BedroomAbvGr   1459 non-null   int64  \n",
      " 52  KitchenAbvGr   1459 non-null   int64  \n",
      " 53  KitchenQual    1458 non-null   object \n",
      " 54  TotRmsAbvGrd   1459 non-null   int64  \n",
      " 55  Functional     1457 non-null   object \n",
      " 56  Fireplaces     1459 non-null   int64  \n",
      " 57  FireplaceQu    729 non-null    object \n",
      " 58  GarageType     1383 non-null   object \n",
      " 59  GarageYrBlt    1381 non-null   float64\n",
      " 60  GarageFinish   1381 non-null   object \n",
      " 61  GarageCars     1458 non-null   float64\n",
      " 62  GarageArea     1458 non-null   float64\n",
      " 63  GarageQual     1381 non-null   object \n",
      " 64  GarageCond     1381 non-null   object \n",
      " 65  PavedDrive     1459 non-null   object \n",
      " 66  WoodDeckSF     1459 non-null   int64  \n",
      " 67  OpenPorchSF    1459 non-null   int64  \n",
      " 68  EnclosedPorch  1459 non-null   int64  \n",
      " 69  3SsnPorch      1459 non-null   int64  \n",
      " 70  ScreenPorch    1459 non-null   int64  \n",
      " 71  PoolArea       1459 non-null   int64  \n",
      " 72  PoolQC         3 non-null      object \n",
      " 73  Fence          290 non-null    object \n",
      " 74  MiscFeature    51 non-null     object \n",
      " 75  MiscVal        1459 non-null   int64  \n",
      " 76  MoSold         1459 non-null   int64  \n",
      " 77  YrSold         1459 non-null   int64  \n",
      " 78  SaleType       1458 non-null   object \n",
      " 79  SaleCondition  1459 non-null   object \n",
      "dtypes: float64(11), int64(26), object(43)\n",
      "memory usage: 912.0+ KB\n"
     ]
    }
   ],
   "source": [
    "dataset_test.info()"
   ]
  },
  {
   "cell_type": "code",
   "execution_count": 6,
   "id": "921236f6",
   "metadata": {
    "execution": {
     "iopub.execute_input": "2022-04-02T16:51:26.034170Z",
     "iopub.status.busy": "2022-04-02T16:51:26.033176Z",
     "iopub.status.idle": "2022-04-02T16:51:26.050519Z",
     "shell.execute_reply": "2022-04-02T16:51:26.051043Z",
     "shell.execute_reply.started": "2022-04-02T16:46:05.577074Z"
    },
    "papermill": {
     "duration": 0.045522,
     "end_time": "2022-04-02T16:51:26.051244",
     "exception": false,
     "start_time": "2022-04-02T16:51:26.005722",
     "status": "completed"
    },
    "tags": []
   },
   "outputs": [],
   "source": [
    "ds_train = dataset_train.select_dtypes(include=np.number)\n",
    "ds_train = ds_train.drop('Id', axis=1)\n",
    "ds_train = ds_train.drop('SalePrice', axis=1)\n",
    "ds_test = dataset_test.select_dtypes(include=np.number)\n",
    "ds_test = ds_test.drop('Id', axis=1)\n",
    "id_train = dataset_train['Id']\n",
    "id_test = dataset_test['Id']\n",
    "sp_train = dataset_train['SalePrice']\n",
    "\n",
    "train_columns_ordinal = dataset_train[['ExterQual', 'ExterCond', 'BsmtQual', 'BsmtCond', 'HeatingQC', 'KitchenQual',\\\n",
    "                                      'GarageQual', 'GarageCond']]\n",
    "train_columns_onehot = dataset_train[['Condition1']]\n",
    "test_columns_ordinal = dataset_test[['ExterQual', 'ExterCond', 'BsmtQual', 'BsmtCond', 'HeatingQC', 'KitchenQual',\\\n",
    "                                      'GarageQual', 'GarageCond']]\n",
    "test_columns_onehot = dataset_test[['Condition1']]"
   ]
  },
  {
   "cell_type": "code",
   "execution_count": 7,
   "id": "7fff88c0",
   "metadata": {
    "execution": {
     "iopub.execute_input": "2022-04-02T16:51:26.104371Z",
     "iopub.status.busy": "2022-04-02T16:51:26.103334Z",
     "iopub.status.idle": "2022-04-02T16:51:26.118141Z",
     "shell.execute_reply": "2022-04-02T16:51:26.119015Z",
     "shell.execute_reply.started": "2022-04-02T16:46:28.932017Z"
    },
    "papermill": {
     "duration": 0.043393,
     "end_time": "2022-04-02T16:51:26.119280",
     "exception": false,
     "start_time": "2022-04-02T16:51:26.075887",
     "status": "completed"
    },
    "tags": []
   },
   "outputs": [
    {
     "name": "stdout",
     "output_type": "stream",
     "text": [
      "   MSSubClass  LotFrontage  LotArea  OverallQual  OverallCond  YearBuilt  \\\n",
      "0          60         65.0     8450            7            5       2003   \n",
      "1          20         80.0     9600            6            8       1976   \n",
      "\n",
      "   YearRemodAdd  MasVnrArea  BsmtFinSF1  BsmtFinSF2  ...  GarageArea  \\\n",
      "0          2003       196.0         706           0  ...         548   \n",
      "1          1976         0.0         978           0  ...         460   \n",
      "\n",
      "   WoodDeckSF  OpenPorchSF  EnclosedPorch  3SsnPorch  ScreenPorch  PoolArea  \\\n",
      "0           0           61              0          0            0         0   \n",
      "1         298            0              0          0            0         0   \n",
      "\n",
      "   MiscVal  MoSold  YrSold  \n",
      "0        0       2    2008  \n",
      "1        0       5    2007  \n",
      "\n",
      "[2 rows x 36 columns]\n"
     ]
    }
   ],
   "source": [
    "print(ds_train.head(2))"
   ]
  },
  {
   "cell_type": "code",
   "execution_count": 8,
   "id": "1f5f740e",
   "metadata": {
    "execution": {
     "iopub.execute_input": "2022-04-02T16:51:26.180418Z",
     "iopub.status.busy": "2022-04-02T16:51:26.174614Z",
     "iopub.status.idle": "2022-04-02T16:51:26.213058Z",
     "shell.execute_reply": "2022-04-02T16:51:26.213628Z",
     "shell.execute_reply.started": "2022-04-02T16:46:59.933374Z"
    },
    "papermill": {
     "duration": 0.068181,
     "end_time": "2022-04-02T16:51:26.213806",
     "exception": false,
     "start_time": "2022-04-02T16:51:26.145625",
     "status": "completed"
    },
    "tags": []
   },
   "outputs": [],
   "source": [
    "scale_conv = {\"NA\":0, \"Po\":1, \"Fa\":2, \"TA\":3, \"Gd\":4, \"Ex\":5}\n",
    "train_columns_ordinal = train_columns_ordinal.replace(scale_conv)\n",
    "test_columns_ordinal = test_columns_ordinal.replace(scale_conv)\n",
    "train_columns_onehot = pd.get_dummies(train_columns_onehot)\n",
    "test_columns_onehot = pd.get_dummies(test_columns_onehot)\n",
    "ds_train = pd.concat([id_train, train_columns_ordinal, train_columns_onehot, sp_train], axis=1)\n",
    "ds_test = pd.concat([id_test, test_columns_ordinal, test_columns_onehot], axis=1)"
   ]
  },
  {
   "cell_type": "code",
   "execution_count": 9,
   "id": "697ccafa",
   "metadata": {
    "execution": {
     "iopub.execute_input": "2022-04-02T16:51:26.267735Z",
     "iopub.status.busy": "2022-04-02T16:51:26.266778Z",
     "iopub.status.idle": "2022-04-02T16:51:26.280829Z",
     "shell.execute_reply": "2022-04-02T16:51:26.281508Z",
     "shell.execute_reply.started": "2022-04-02T16:47:10.732106Z"
    },
    "papermill": {
     "duration": 0.043383,
     "end_time": "2022-04-02T16:51:26.281752",
     "exception": false,
     "start_time": "2022-04-02T16:51:26.238369",
     "status": "completed"
    },
    "tags": []
   },
   "outputs": [
    {
     "name": "stdout",
     "output_type": "stream",
     "text": [
      "<class 'pandas.core.frame.DataFrame'>\n",
      "RangeIndex: 1460 entries, 0 to 1459\n",
      "Data columns (total 19 columns):\n",
      " #   Column             Non-Null Count  Dtype  \n",
      "---  ------             --------------  -----  \n",
      " 0   Id                 1460 non-null   int64  \n",
      " 1   ExterQual          1460 non-null   int64  \n",
      " 2   ExterCond          1460 non-null   int64  \n",
      " 3   BsmtQual           1423 non-null   float64\n",
      " 4   BsmtCond           1423 non-null   float64\n",
      " 5   HeatingQC          1460 non-null   int64  \n",
      " 6   KitchenQual        1460 non-null   int64  \n",
      " 7   GarageQual         1379 non-null   float64\n",
      " 8   GarageCond         1379 non-null   float64\n",
      " 9   Condition1_Artery  1460 non-null   uint8  \n",
      " 10  Condition1_Feedr   1460 non-null   uint8  \n",
      " 11  Condition1_Norm    1460 non-null   uint8  \n",
      " 12  Condition1_PosA    1460 non-null   uint8  \n",
      " 13  Condition1_PosN    1460 non-null   uint8  \n",
      " 14  Condition1_RRAe    1460 non-null   uint8  \n",
      " 15  Condition1_RRAn    1460 non-null   uint8  \n",
      " 16  Condition1_RRNe    1460 non-null   uint8  \n",
      " 17  Condition1_RRNn    1460 non-null   uint8  \n",
      " 18  SalePrice          1460 non-null   int64  \n",
      "dtypes: float64(4), int64(6), uint8(9)\n",
      "memory usage: 127.0 KB\n"
     ]
    }
   ],
   "source": [
    "ds_train.info()"
   ]
  },
  {
   "cell_type": "code",
   "execution_count": 10,
   "id": "be9d4aed",
   "metadata": {
    "execution": {
     "iopub.execute_input": "2022-04-02T16:51:26.336331Z",
     "iopub.status.busy": "2022-04-02T16:51:26.335594Z",
     "iopub.status.idle": "2022-04-02T16:51:26.349681Z",
     "shell.execute_reply": "2022-04-02T16:51:26.350424Z",
     "shell.execute_reply.started": "2022-04-02T16:47:52.744411Z"
    },
    "papermill": {
     "duration": 0.042981,
     "end_time": "2022-04-02T16:51:26.350689",
     "exception": false,
     "start_time": "2022-04-02T16:51:26.307708",
     "status": "completed"
    },
    "tags": []
   },
   "outputs": [
    {
     "name": "stdout",
     "output_type": "stream",
     "text": [
      "<class 'pandas.core.frame.DataFrame'>\n",
      "RangeIndex: 1459 entries, 0 to 1458\n",
      "Data columns (total 18 columns):\n",
      " #   Column             Non-Null Count  Dtype  \n",
      "---  ------             --------------  -----  \n",
      " 0   Id                 1459 non-null   int64  \n",
      " 1   ExterQual          1459 non-null   int64  \n",
      " 2   ExterCond          1459 non-null   int64  \n",
      " 3   BsmtQual           1415 non-null   float64\n",
      " 4   BsmtCond           1414 non-null   float64\n",
      " 5   HeatingQC          1459 non-null   int64  \n",
      " 6   KitchenQual        1458 non-null   float64\n",
      " 7   GarageQual         1381 non-null   float64\n",
      " 8   GarageCond         1381 non-null   float64\n",
      " 9   Condition1_Artery  1459 non-null   uint8  \n",
      " 10  Condition1_Feedr   1459 non-null   uint8  \n",
      " 11  Condition1_Norm    1459 non-null   uint8  \n",
      " 12  Condition1_PosA    1459 non-null   uint8  \n",
      " 13  Condition1_PosN    1459 non-null   uint8  \n",
      " 14  Condition1_RRAe    1459 non-null   uint8  \n",
      " 15  Condition1_RRAn    1459 non-null   uint8  \n",
      " 16  Condition1_RRNe    1459 non-null   uint8  \n",
      " 17  Condition1_RRNn    1459 non-null   uint8  \n",
      "dtypes: float64(5), int64(4), uint8(9)\n",
      "memory usage: 115.5 KB\n"
     ]
    }
   ],
   "source": [
    "ds_test.info()"
   ]
  },
  {
   "cell_type": "code",
   "execution_count": 11,
   "id": "beb2bf08",
   "metadata": {
    "execution": {
     "iopub.execute_input": "2022-04-02T16:51:26.407678Z",
     "iopub.status.busy": "2022-04-02T16:51:26.406978Z",
     "iopub.status.idle": "2022-04-02T16:51:26.440303Z",
     "shell.execute_reply": "2022-04-02T16:51:26.440776Z",
     "shell.execute_reply.started": "2022-04-02T16:48:18.578604Z"
    },
    "papermill": {
     "duration": 0.06215,
     "end_time": "2022-04-02T16:51:26.440958",
     "exception": false,
     "start_time": "2022-04-02T16:51:26.378808",
     "status": "completed"
    },
    "tags": []
   },
   "outputs": [],
   "source": [
    "cols = ['BsmtQual', 'BsmtCond', 'HeatingQC', 'KitchenQual', 'GarageQual', 'GarageCond']\n",
    "ds_train[cols] = ds_train[cols].fillna(ds_train.mode().iloc[0])\n",
    "ds_test[cols] = ds_test[cols].fillna(ds_test.mode().iloc[0])"
   ]
  },
  {
   "cell_type": "code",
   "execution_count": 12,
   "id": "2538e8e0",
   "metadata": {
    "execution": {
     "iopub.execute_input": "2022-04-02T16:51:26.496053Z",
     "iopub.status.busy": "2022-04-02T16:51:26.495099Z",
     "iopub.status.idle": "2022-04-02T16:51:26.508717Z",
     "shell.execute_reply": "2022-04-02T16:51:26.509310Z",
     "shell.execute_reply.started": "2022-04-02T16:48:44.759717Z"
    },
    "papermill": {
     "duration": 0.042846,
     "end_time": "2022-04-02T16:51:26.509491",
     "exception": false,
     "start_time": "2022-04-02T16:51:26.466645",
     "status": "completed"
    },
    "tags": []
   },
   "outputs": [
    {
     "name": "stdout",
     "output_type": "stream",
     "text": [
      "<class 'pandas.core.frame.DataFrame'>\n",
      "RangeIndex: 1460 entries, 0 to 1459\n",
      "Data columns (total 19 columns):\n",
      " #   Column             Non-Null Count  Dtype  \n",
      "---  ------             --------------  -----  \n",
      " 0   Id                 1460 non-null   int64  \n",
      " 1   ExterQual          1460 non-null   int64  \n",
      " 2   ExterCond          1460 non-null   int64  \n",
      " 3   BsmtQual           1460 non-null   float64\n",
      " 4   BsmtCond           1460 non-null   float64\n",
      " 5   HeatingQC          1460 non-null   int64  \n",
      " 6   KitchenQual        1460 non-null   int64  \n",
      " 7   GarageQual         1460 non-null   float64\n",
      " 8   GarageCond         1460 non-null   float64\n",
      " 9   Condition1_Artery  1460 non-null   uint8  \n",
      " 10  Condition1_Feedr   1460 non-null   uint8  \n",
      " 11  Condition1_Norm    1460 non-null   uint8  \n",
      " 12  Condition1_PosA    1460 non-null   uint8  \n",
      " 13  Condition1_PosN    1460 non-null   uint8  \n",
      " 14  Condition1_RRAe    1460 non-null   uint8  \n",
      " 15  Condition1_RRAn    1460 non-null   uint8  \n",
      " 16  Condition1_RRNe    1460 non-null   uint8  \n",
      " 17  Condition1_RRNn    1460 non-null   uint8  \n",
      " 18  SalePrice          1460 non-null   int64  \n",
      "dtypes: float64(4), int64(6), uint8(9)\n",
      "memory usage: 127.0 KB\n"
     ]
    }
   ],
   "source": [
    "ds_train.info()"
   ]
  },
  {
   "cell_type": "code",
   "execution_count": 13,
   "id": "1d29452f",
   "metadata": {
    "execution": {
     "iopub.execute_input": "2022-04-02T16:51:26.568756Z",
     "iopub.status.busy": "2022-04-02T16:51:26.567746Z",
     "iopub.status.idle": "2022-04-02T16:51:26.578721Z",
     "shell.execute_reply": "2022-04-02T16:51:26.579257Z",
     "shell.execute_reply.started": "2022-04-02T16:49:10.484048Z"
    },
    "papermill": {
     "duration": 0.043809,
     "end_time": "2022-04-02T16:51:26.579425",
     "exception": false,
     "start_time": "2022-04-02T16:51:26.535616",
     "status": "completed"
    },
    "tags": []
   },
   "outputs": [
    {
     "name": "stdout",
     "output_type": "stream",
     "text": [
      "<class 'pandas.core.frame.DataFrame'>\n",
      "RangeIndex: 1459 entries, 0 to 1458\n",
      "Data columns (total 18 columns):\n",
      " #   Column             Non-Null Count  Dtype  \n",
      "---  ------             --------------  -----  \n",
      " 0   Id                 1459 non-null   int64  \n",
      " 1   ExterQual          1459 non-null   int64  \n",
      " 2   ExterCond          1459 non-null   int64  \n",
      " 3   BsmtQual           1459 non-null   float64\n",
      " 4   BsmtCond           1459 non-null   float64\n",
      " 5   HeatingQC          1459 non-null   int64  \n",
      " 6   KitchenQual        1459 non-null   float64\n",
      " 7   GarageQual         1459 non-null   float64\n",
      " 8   GarageCond         1459 non-null   float64\n",
      " 9   Condition1_Artery  1459 non-null   uint8  \n",
      " 10  Condition1_Feedr   1459 non-null   uint8  \n",
      " 11  Condition1_Norm    1459 non-null   uint8  \n",
      " 12  Condition1_PosA    1459 non-null   uint8  \n",
      " 13  Condition1_PosN    1459 non-null   uint8  \n",
      " 14  Condition1_RRAe    1459 non-null   uint8  \n",
      " 15  Condition1_RRAn    1459 non-null   uint8  \n",
      " 16  Condition1_RRNe    1459 non-null   uint8  \n",
      " 17  Condition1_RRNn    1459 non-null   uint8  \n",
      "dtypes: float64(5), int64(4), uint8(9)\n",
      "memory usage: 115.5 KB\n"
     ]
    }
   ],
   "source": [
    "ds_test.info()"
   ]
  },
  {
   "cell_type": "code",
   "execution_count": 14,
   "id": "38b9f5fc",
   "metadata": {
    "execution": {
     "iopub.execute_input": "2022-04-02T16:51:26.637588Z",
     "iopub.status.busy": "2022-04-02T16:51:26.634876Z",
     "iopub.status.idle": "2022-04-02T16:51:26.641121Z",
     "shell.execute_reply": "2022-04-02T16:51:26.641720Z",
     "shell.execute_reply.started": "2022-04-02T16:49:19.475490Z"
    },
    "papermill": {
     "duration": 0.036139,
     "end_time": "2022-04-02T16:51:26.641906",
     "exception": false,
     "start_time": "2022-04-02T16:51:26.605767",
     "status": "completed"
    },
    "tags": []
   },
   "outputs": [],
   "source": [
    "X_train = ds_train.iloc[:, 1:-1].values\n",
    "X_test = ds_test.iloc[:, 1:].values\n",
    "y_train = ds_train.iloc[:, -1].values"
   ]
  },
  {
   "cell_type": "code",
   "execution_count": 15,
   "id": "ec8b0079",
   "metadata": {
    "execution": {
     "iopub.execute_input": "2022-04-02T16:51:26.699451Z",
     "iopub.status.busy": "2022-04-02T16:51:26.698784Z",
     "iopub.status.idle": "2022-04-02T16:51:26.703326Z",
     "shell.execute_reply": "2022-04-02T16:51:26.703901Z",
     "shell.execute_reply.started": "2022-04-02T16:49:27.793287Z"
    },
    "papermill": {
     "duration": 0.034614,
     "end_time": "2022-04-02T16:51:26.704085",
     "exception": false,
     "start_time": "2022-04-02T16:51:26.669471",
     "status": "completed"
    },
    "tags": []
   },
   "outputs": [
    {
     "name": "stdout",
     "output_type": "stream",
     "text": [
      "[208500 181500 223500 ... 266500 142125 147500]\n"
     ]
    }
   ],
   "source": [
    "print(y_train)"
   ]
  },
  {
   "cell_type": "code",
   "execution_count": 16,
   "id": "a754b1fd",
   "metadata": {
    "execution": {
     "iopub.execute_input": "2022-04-02T16:51:26.761207Z",
     "iopub.status.busy": "2022-04-02T16:51:26.760522Z",
     "iopub.status.idle": "2022-04-02T16:51:28.061668Z",
     "shell.execute_reply": "2022-04-02T16:51:28.061082Z",
     "shell.execute_reply.started": "2022-04-02T16:49:40.031411Z"
    },
    "papermill": {
     "duration": 1.330822,
     "end_time": "2022-04-02T16:51:28.061835",
     "exception": false,
     "start_time": "2022-04-02T16:51:26.731013",
     "status": "completed"
    },
    "tags": []
   },
   "outputs": [],
   "source": [
    "from sklearn.tree import DecisionTreeRegressor\n",
    "tree_regressor = DecisionTreeRegressor(random_state=0)\n",
    "tree_regressor.fit(X_train, y_train)\n",
    "y_pred = tree_regressor.predict(X_test)"
   ]
  },
  {
   "cell_type": "code",
   "execution_count": 17,
   "id": "1d66b66c",
   "metadata": {
    "execution": {
     "iopub.execute_input": "2022-04-02T16:51:28.121549Z",
     "iopub.status.busy": "2022-04-02T16:51:28.120789Z",
     "iopub.status.idle": "2022-04-02T16:51:28.124649Z",
     "shell.execute_reply": "2022-04-02T16:51:28.125320Z",
     "shell.execute_reply.started": "2022-04-02T16:49:47.013519Z"
    },
    "papermill": {
     "duration": 0.036291,
     "end_time": "2022-04-02T16:51:28.125495",
     "exception": false,
     "start_time": "2022-04-02T16:51:28.089204",
     "status": "completed"
    },
    "tags": []
   },
   "outputs": [
    {
     "name": "stdout",
     "output_type": "stream",
     "text": [
      "0.7040935769880001\n"
     ]
    }
   ],
   "source": [
    "print(tree_regressor.score(X_train, y_train))"
   ]
  },
  {
   "cell_type": "code",
   "execution_count": 18,
   "id": "8fedb64f",
   "metadata": {
    "execution": {
     "iopub.execute_input": "2022-04-02T16:51:28.183292Z",
     "iopub.status.busy": "2022-04-02T16:51:28.182536Z",
     "iopub.status.idle": "2022-04-02T16:51:28.211876Z",
     "shell.execute_reply": "2022-04-02T16:51:28.212791Z",
     "shell.execute_reply.started": "2022-04-02T16:49:58.900214Z"
    },
    "papermill": {
     "duration": 0.060278,
     "end_time": "2022-04-02T16:51:28.213073",
     "exception": false,
     "start_time": "2022-04-02T16:51:28.152795",
     "status": "completed"
    },
    "tags": []
   },
   "outputs": [
    {
     "data": {
      "text/plain": [
       "LinearRegression()"
      ]
     },
     "execution_count": 18,
     "metadata": {},
     "output_type": "execute_result"
    }
   ],
   "source": [
    "from sklearn.linear_model import LinearRegression\n",
    "multi_regressor = LinearRegression()\n",
    "multi_regressor.fit(X_train, y_train)"
   ]
  },
  {
   "cell_type": "code",
   "execution_count": 19,
   "id": "ac23b394",
   "metadata": {
    "execution": {
     "iopub.execute_input": "2022-04-02T16:51:28.326292Z",
     "iopub.status.busy": "2022-04-02T16:51:28.324930Z",
     "iopub.status.idle": "2022-04-02T16:51:28.330861Z",
     "shell.execute_reply": "2022-04-02T16:51:28.327299Z",
     "shell.execute_reply.started": "2022-04-02T16:50:06.150400Z"
    },
    "papermill": {
     "duration": 0.067404,
     "end_time": "2022-04-02T16:51:28.331319",
     "exception": false,
     "start_time": "2022-04-02T16:51:28.263915",
     "status": "completed"
    },
    "tags": []
   },
   "outputs": [
    {
     "name": "stdout",
     "output_type": "stream",
     "text": [
      "0.5844671951061962\n"
     ]
    }
   ],
   "source": [
    "print(multi_regressor.score(X_train, y_train))"
   ]
  },
  {
   "cell_type": "code",
   "execution_count": 20,
   "id": "58d15cf4",
   "metadata": {
    "execution": {
     "iopub.execute_input": "2022-04-02T16:51:28.444974Z",
     "iopub.status.busy": "2022-04-02T16:51:28.444227Z",
     "iopub.status.idle": "2022-04-02T16:51:28.773393Z",
     "shell.execute_reply": "2022-04-02T16:51:28.772719Z",
     "shell.execute_reply.started": "2022-04-02T16:50:19.322768Z"
    },
    "papermill": {
     "duration": 0.389124,
     "end_time": "2022-04-02T16:51:28.773531",
     "exception": false,
     "start_time": "2022-04-02T16:51:28.384407",
     "status": "completed"
    },
    "tags": []
   },
   "outputs": [
    {
     "data": {
      "text/plain": [
       "RandomForestRegressor(random_state=0)"
      ]
     },
     "execution_count": 20,
     "metadata": {},
     "output_type": "execute_result"
    }
   ],
   "source": [
    "from sklearn.ensemble import RandomForestRegressor\n",
    "forest_regressor = RandomForestRegressor(n_estimators = 100, random_state = 0)\n",
    "forest_regressor.fit(X_train, y_train)"
   ]
  },
  {
   "cell_type": "code",
   "execution_count": 21,
   "id": "e133837f",
   "metadata": {
    "execution": {
     "iopub.execute_input": "2022-04-02T16:51:28.836768Z",
     "iopub.status.busy": "2022-04-02T16:51:28.836075Z",
     "iopub.status.idle": "2022-04-02T16:51:28.866141Z",
     "shell.execute_reply": "2022-04-02T16:51:28.866762Z",
     "shell.execute_reply.started": "2022-04-02T16:50:25.572090Z"
    },
    "papermill": {
     "duration": 0.064023,
     "end_time": "2022-04-02T16:51:28.866934",
     "exception": false,
     "start_time": "2022-04-02T16:51:28.802911",
     "status": "completed"
    },
    "tags": []
   },
   "outputs": [
    {
     "name": "stdout",
     "output_type": "stream",
     "text": [
      "0.6921723296816802\n"
     ]
    }
   ],
   "source": [
    "print(forest_regressor.score(X_train, y_train))"
   ]
  },
  {
   "cell_type": "code",
   "execution_count": 22,
   "id": "3416ef02",
   "metadata": {
    "execution": {
     "iopub.execute_input": "2022-04-02T16:51:28.930574Z",
     "iopub.status.busy": "2022-04-02T16:51:28.927481Z",
     "iopub.status.idle": "2022-04-02T16:51:28.940450Z",
     "shell.execute_reply": "2022-04-02T16:51:28.941185Z",
     "shell.execute_reply.started": "2022-04-02T16:50:34.683221Z"
    },
    "papermill": {
     "duration": 0.045601,
     "end_time": "2022-04-02T16:51:28.941401",
     "exception": false,
     "start_time": "2022-04-02T16:51:28.895800",
     "status": "completed"
    },
    "tags": []
   },
   "outputs": [],
   "source": [
    "submission = pd.DataFrame({\n",
    "    \"Id\": id_test,\n",
    "    \"SalePrice\": y_pred\n",
    "    })\n",
    "submission.to_csv('./submission.csv', index=False)"
   ]
  }
 ],
 "metadata": {
  "kernelspec": {
   "display_name": "Python 3",
   "language": "python",
   "name": "python3"
  },
  "language_info": {
   "codemirror_mode": {
    "name": "ipython",
    "version": 3
   },
   "file_extension": ".py",
   "mimetype": "text/x-python",
   "name": "python",
   "nbconvert_exporter": "python",
   "pygments_lexer": "ipython3",
   "version": "3.7.12"
  },
  "papermill": {
   "default_parameters": {},
   "duration": 14.469846,
   "end_time": "2022-04-02T16:51:29.680790",
   "environment_variables": {},
   "exception": null,
   "input_path": "__notebook__.ipynb",
   "output_path": "__notebook__.ipynb",
   "parameters": {},
   "start_time": "2022-04-02T16:51:15.210944",
   "version": "2.3.3"
  }
 },
 "nbformat": 4,
 "nbformat_minor": 5
}
