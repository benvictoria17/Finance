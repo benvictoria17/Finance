{
 "cells": [
  {
   "cell_type": "code",
   "execution_count": 1,
   "id": "2a0c6bd8",
   "metadata": {
    "_cell_guid": "b1076dfc-b9ad-4769-8c92-a6c4dae69d19",
    "_uuid": "8f2839f25d086af736a60e9eeb907d3b93b6e0e5",
    "execution": {
     "iopub.execute_input": "2022-02-26T17:35:59.466764Z",
     "iopub.status.busy": "2022-02-26T17:35:59.465884Z",
     "iopub.status.idle": "2022-02-26T17:35:59.476833Z",
     "shell.execute_reply": "2022-02-26T17:35:59.477250Z",
     "shell.execute_reply.started": "2022-02-26T17:28:05.595006Z"
    },
    "papermill": {
     "duration": 0.024496,
     "end_time": "2022-02-26T17:35:59.477532",
     "exception": false,
     "start_time": "2022-02-26T17:35:59.453036",
     "status": "completed"
    },
    "tags": []
   },
   "outputs": [],
   "source": [
    "import numpy as np\n",
    "import pandas as pd\n",
    "import matplotlib.pyplot as plt"
   ]
  },
  {
   "cell_type": "code",
   "execution_count": 2,
   "id": "01ad4bca",
   "metadata": {
    "execution": {
     "iopub.execute_input": "2022-02-26T17:35:59.498126Z",
     "iopub.status.busy": "2022-02-26T17:35:59.497634Z",
     "iopub.status.idle": "2022-02-26T17:35:59.616009Z",
     "shell.execute_reply": "2022-02-26T17:35:59.615318Z",
     "shell.execute_reply.started": "2022-02-26T17:29:15.100613Z"
    },
    "papermill": {
     "duration": 0.129594,
     "end_time": "2022-02-26T17:35:59.616178",
     "exception": false,
     "start_time": "2022-02-26T17:35:59.486584",
     "status": "completed"
    },
    "tags": []
   },
   "outputs": [],
   "source": [
    "df = pd.read_csv(\"https://raw.githubusercontent.com/benvictoria17/Finance/master/dataset/Gold%20Prices/annual_csv.csv\")\n",
    "df2 = pd.read_csv(\"https://raw.githubusercontent.com/benvictoria17/Finance/master/dataset/Gold%20Prices/monthly_csv.csv\")"
   ]
  },
  {
   "cell_type": "code",
   "execution_count": 3,
   "id": "62d77cd9",
   "metadata": {
    "execution": {
     "iopub.execute_input": "2022-02-26T17:35:59.658049Z",
     "iopub.status.busy": "2022-02-26T17:35:59.657518Z",
     "iopub.status.idle": "2022-02-26T17:35:59.672125Z",
     "shell.execute_reply": "2022-02-26T17:35:59.672547Z",
     "shell.execute_reply.started": "2022-02-26T17:29:37.832558Z"
    },
    "papermill": {
     "duration": 0.039425,
     "end_time": "2022-02-26T17:35:59.672679",
     "exception": false,
     "start_time": "2022-02-26T17:35:59.633254",
     "status": "completed"
    },
    "tags": []
   },
   "outputs": [
    {
     "data": {
      "text/html": [
       "<div>\n",
       "<style scoped>\n",
       "    .dataframe tbody tr th:only-of-type {\n",
       "        vertical-align: middle;\n",
       "    }\n",
       "\n",
       "    .dataframe tbody tr th {\n",
       "        vertical-align: top;\n",
       "    }\n",
       "\n",
       "    .dataframe thead th {\n",
       "        text-align: right;\n",
       "    }\n",
       "</style>\n",
       "<table border=\"1\" class=\"dataframe\">\n",
       "  <thead>\n",
       "    <tr style=\"text-align: right;\">\n",
       "      <th></th>\n",
       "      <th>Date</th>\n",
       "      <th>Price</th>\n",
       "    </tr>\n",
       "  </thead>\n",
       "  <tbody>\n",
       "    <tr>\n",
       "      <th>842</th>\n",
       "      <td>2020-03</td>\n",
       "      <td>1593.764</td>\n",
       "    </tr>\n",
       "    <tr>\n",
       "      <th>843</th>\n",
       "      <td>2020-04</td>\n",
       "      <td>1680.030</td>\n",
       "    </tr>\n",
       "    <tr>\n",
       "      <th>844</th>\n",
       "      <td>2020-05</td>\n",
       "      <td>1715.697</td>\n",
       "    </tr>\n",
       "    <tr>\n",
       "      <th>845</th>\n",
       "      <td>2020-06</td>\n",
       "      <td>1734.032</td>\n",
       "    </tr>\n",
       "    <tr>\n",
       "      <th>846</th>\n",
       "      <td>2020-07</td>\n",
       "      <td>1840.807</td>\n",
       "    </tr>\n",
       "  </tbody>\n",
       "</table>\n",
       "</div>"
      ],
      "text/plain": [
       "        Date     Price\n",
       "842  2020-03  1593.764\n",
       "843  2020-04  1680.030\n",
       "844  2020-05  1715.697\n",
       "845  2020-06  1734.032\n",
       "846  2020-07  1840.807"
      ]
     },
     "execution_count": 3,
     "metadata": {},
     "output_type": "execute_result"
    }
   ],
   "source": [
    "df2.tail()"
   ]
  },
  {
   "cell_type": "code",
   "execution_count": 4,
   "id": "dbc10a0b",
   "metadata": {
    "execution": {
     "iopub.execute_input": "2022-02-26T17:35:59.700314Z",
     "iopub.status.busy": "2022-02-26T17:35:59.699551Z",
     "iopub.status.idle": "2022-02-26T17:35:59.880927Z",
     "shell.execute_reply": "2022-02-26T17:35:59.881347Z",
     "shell.execute_reply.started": "2022-02-26T17:29:57.810961Z"
    },
    "papermill": {
     "duration": 0.199168,
     "end_time": "2022-02-26T17:35:59.881533",
     "exception": false,
     "start_time": "2022-02-26T17:35:59.682365",
     "status": "completed"
    },
    "tags": []
   },
   "outputs": [
    {
     "data": {
      "text/plain": [
       "[<matplotlib.lines.Line2D at 0x7f171ce4f8d0>]"
      ]
     },
     "execution_count": 4,
     "metadata": {},
     "output_type": "execute_result"
    },
    {
     "data": {
      "image/png": "[encoded data removed]",
      "text/plain": [
       "<Figure size 432x288 with 1 Axes>"
      ]
     },
     "metadata": {
      "needs_background": "light"
     },
     "output_type": "display_data"
    }
   ],
   "source": [
    "plt.plot(df[\"Price\"])"
   ]
  },
  {
   "cell_type": "code",
   "execution_count": 5,
   "id": "32d665b4",
   "metadata": {
    "execution": {
     "iopub.execute_input": "2022-02-26T17:35:59.906471Z",
     "iopub.status.busy": "2022-02-26T17:35:59.905750Z",
     "iopub.status.idle": "2022-02-26T17:35:59.913037Z",
     "shell.execute_reply": "2022-02-26T17:35:59.913413Z",
     "shell.execute_reply.started": "2022-02-26T17:30:14.736804Z"
    },
    "papermill": {
     "duration": 0.021068,
     "end_time": "2022-02-26T17:35:59.913586",
     "exception": false,
     "start_time": "2022-02-26T17:35:59.892518",
     "status": "completed"
    },
    "tags": []
   },
   "outputs": [
    {
     "data": {
      "text/html": [
       "<div>\n",
       "<style scoped>\n",
       "    .dataframe tbody tr th:only-of-type {\n",
       "        vertical-align: middle;\n",
       "    }\n",
       "\n",
       "    .dataframe tbody tr th {\n",
       "        vertical-align: top;\n",
       "    }\n",
       "\n",
       "    .dataframe thead th {\n",
       "        text-align: right;\n",
       "    }\n",
       "</style>\n",
       "<table border=\"1\" class=\"dataframe\">\n",
       "  <thead>\n",
       "    <tr style=\"text-align: right;\">\n",
       "      <th></th>\n",
       "      <th>Date</th>\n",
       "      <th>Price</th>\n",
       "    </tr>\n",
       "  </thead>\n",
       "  <tbody>\n",
       "    <tr>\n",
       "      <th>0</th>\n",
       "      <td>1950-12</td>\n",
       "      <td>34.72</td>\n",
       "    </tr>\n",
       "    <tr>\n",
       "      <th>1</th>\n",
       "      <td>1951-12</td>\n",
       "      <td>34.66</td>\n",
       "    </tr>\n",
       "    <tr>\n",
       "      <th>2</th>\n",
       "      <td>1952-12</td>\n",
       "      <td>34.79</td>\n",
       "    </tr>\n",
       "    <tr>\n",
       "      <th>3</th>\n",
       "      <td>1953-12</td>\n",
       "      <td>34.85</td>\n",
       "    </tr>\n",
       "    <tr>\n",
       "      <th>4</th>\n",
       "      <td>1954-12</td>\n",
       "      <td>35.04</td>\n",
       "    </tr>\n",
       "  </tbody>\n",
       "</table>\n",
       "</div>"
      ],
      "text/plain": [
       "      Date  Price\n",
       "0  1950-12  34.72\n",
       "1  1951-12  34.66\n",
       "2  1952-12  34.79\n",
       "3  1953-12  34.85\n",
       "4  1954-12  35.04"
      ]
     },
     "execution_count": 5,
     "metadata": {},
     "output_type": "execute_result"
    }
   ],
   "source": [
    "df.head()"
   ]
  },
  {
   "cell_type": "code",
   "execution_count": 6,
   "id": "ba2c02d4",
   "metadata": {
    "execution": {
     "iopub.execute_input": "2022-02-26T17:35:59.939333Z",
     "iopub.status.busy": "2022-02-26T17:35:59.938590Z",
     "iopub.status.idle": "2022-02-26T17:35:59.942484Z",
     "shell.execute_reply": "2022-02-26T17:35:59.942891Z",
     "shell.execute_reply.started": "2022-02-26T17:31:14.940134Z"
    },
    "papermill": {
     "duration": 0.018079,
     "end_time": "2022-02-26T17:35:59.943047",
     "exception": false,
     "start_time": "2022-02-26T17:35:59.924968",
     "status": "completed"
    },
    "tags": []
   },
   "outputs": [],
   "source": [
    "list=np.arange(1950,2020)\n",
    "df[\"Date\"]=list"
   ]
  },
  {
   "cell_type": "code",
   "execution_count": 7,
   "id": "caeb5b57",
   "metadata": {
    "execution": {
     "iopub.execute_input": "2022-02-26T17:35:59.968699Z",
     "iopub.status.busy": "2022-02-26T17:35:59.968099Z",
     "iopub.status.idle": "2022-02-26T17:35:59.975871Z",
     "shell.execute_reply": "2022-02-26T17:35:59.975407Z",
     "shell.execute_reply.started": "2022-02-26T17:31:23.336698Z"
    },
    "papermill": {
     "duration": 0.02116,
     "end_time": "2022-02-26T17:35:59.975978",
     "exception": false,
     "start_time": "2022-02-26T17:35:59.954818",
     "status": "completed"
    },
    "tags": []
   },
   "outputs": [
    {
     "data": {
      "text/html": [
       "<div>\n",
       "<style scoped>\n",
       "    .dataframe tbody tr th:only-of-type {\n",
       "        vertical-align: middle;\n",
       "    }\n",
       "\n",
       "    .dataframe tbody tr th {\n",
       "        vertical-align: top;\n",
       "    }\n",
       "\n",
       "    .dataframe thead th {\n",
       "        text-align: right;\n",
       "    }\n",
       "</style>\n",
       "<table border=\"1\" class=\"dataframe\">\n",
       "  <thead>\n",
       "    <tr style=\"text-align: right;\">\n",
       "      <th></th>\n",
       "      <th>Date</th>\n",
       "      <th>Price</th>\n",
       "    </tr>\n",
       "  </thead>\n",
       "  <tbody>\n",
       "    <tr>\n",
       "      <th>0</th>\n",
       "      <td>1950</td>\n",
       "      <td>34.72</td>\n",
       "    </tr>\n",
       "    <tr>\n",
       "      <th>1</th>\n",
       "      <td>1951</td>\n",
       "      <td>34.66</td>\n",
       "    </tr>\n",
       "    <tr>\n",
       "      <th>2</th>\n",
       "      <td>1952</td>\n",
       "      <td>34.79</td>\n",
       "    </tr>\n",
       "    <tr>\n",
       "      <th>3</th>\n",
       "      <td>1953</td>\n",
       "      <td>34.85</td>\n",
       "    </tr>\n",
       "    <tr>\n",
       "      <th>4</th>\n",
       "      <td>1954</td>\n",
       "      <td>35.04</td>\n",
       "    </tr>\n",
       "  </tbody>\n",
       "</table>\n",
       "</div>"
      ],
      "text/plain": [
       "   Date  Price\n",
       "0  1950  34.72\n",
       "1  1951  34.66\n",
       "2  1952  34.79\n",
       "3  1953  34.85\n",
       "4  1954  35.04"
      ]
     },
     "execution_count": 7,
     "metadata": {},
     "output_type": "execute_result"
    }
   ],
   "source": [
    "df.head()"
   ]
  },
  {
   "cell_type": "code",
   "execution_count": 8,
   "id": "25a511a9",
   "metadata": {
    "execution": {
     "iopub.execute_input": "2022-02-26T17:36:00.100148Z",
     "iopub.status.busy": "2022-02-26T17:36:00.091895Z",
     "iopub.status.idle": "2022-02-26T17:36:00.245099Z",
     "shell.execute_reply": "2022-02-26T17:36:00.245612Z",
     "shell.execute_reply.started": "2022-02-26T17:32:47.387241Z"
    },
    "papermill": {
     "duration": 0.258082,
     "end_time": "2022-02-26T17:36:00.245783",
     "exception": false,
     "start_time": "2022-02-26T17:35:59.987701",
     "status": "completed"
    },
    "tags": []
   },
   "outputs": [
    {
     "data": {
      "text/plain": [
       "[<matplotlib.lines.Line2D at 0x7f171cd6bdd0>]"
      ]
     },
     "execution_count": 8,
     "metadata": {},
     "output_type": "execute_result"
    },
    {
     "data": {
      "image/png": "[encoded data removed]",
      "text/plain": [
       "<Figure size 432x288 with 1 Axes>"
      ]
     },
     "metadata": {
      "needs_background": "light"
     },
     "output_type": "display_data"
    }
   ],
   "source": [
    "plt.plot(df[\"Date\"],df[\"Price\"],\"ro\")"
   ]
  },
  {
   "cell_type": "code",
   "execution_count": 9,
   "id": "bd4fd2ab",
   "metadata": {
    "execution": {
     "iopub.execute_input": "2022-02-26T17:36:00.287157Z",
     "iopub.status.busy": "2022-02-26T17:36:00.286498Z",
     "iopub.status.idle": "2022-02-26T17:36:00.572026Z",
     "shell.execute_reply": "2022-02-26T17:36:00.572526Z",
     "shell.execute_reply.started": "2022-02-26T17:34:52.567894Z"
    },
    "papermill": {
     "duration": 0.307863,
     "end_time": "2022-02-26T17:36:00.572664",
     "exception": false,
     "start_time": "2022-02-26T17:36:00.264801",
     "status": "completed"
    },
    "tags": []
   },
   "outputs": [
    {
     "data": {
      "text/plain": [
       "[<matplotlib.lines.Line2D at 0x7f171cc4e950>]"
      ]
     },
     "execution_count": 9,
     "metadata": {},
     "output_type": "execute_result"
    },
    {
     "data": {
      "image/png": "[encoded data removed]",
      "text/plain": [
       "<Figure size 864x1080 with 2 Axes>"
      ]
     },
     "metadata": {
      "needs_background": "light"
     },
     "output_type": "display_data"
    }
   ],
   "source": [
    "plt.figure(figsize=(12,15))\n",
    "plt.subplot(121)\n",
    "plt.plot(df[\"Date\"],df[\"Price\"],\"ro\")\n",
    "plt.subplot(122)\n",
    "plt.plot(df2[\"Price\"])"
   ]
  },
  {
   "cell_type": "code",
   "execution_count": 10,
   "id": "c9f83d60",
   "metadata": {
    "execution": {
     "iopub.execute_input": "2022-02-26T17:36:00.603959Z",
     "iopub.status.busy": "2022-02-26T17:36:00.603384Z",
     "iopub.status.idle": "2022-02-26T17:36:00.625888Z",
     "shell.execute_reply": "2022-02-26T17:36:00.626268Z",
     "shell.execute_reply.started": "2022-02-26T17:35:02.023052Z"
    },
    "papermill": {
     "duration": 0.04007,
     "end_time": "2022-02-26T17:36:00.626408",
     "exception": false,
     "start_time": "2022-02-26T17:36:00.586338",
     "status": "completed"
    },
    "tags": []
   },
   "outputs": [
    {
     "data": {
      "text/html": [
       "<div>\n",
       "<style scoped>\n",
       "    .dataframe tbody tr th:only-of-type {\n",
       "        vertical-align: middle;\n",
       "    }\n",
       "\n",
       "    .dataframe tbody tr th {\n",
       "        vertical-align: top;\n",
       "    }\n",
       "\n",
       "    .dataframe thead th {\n",
       "        text-align: right;\n",
       "    }\n",
       "</style>\n",
       "<table border=\"1\" class=\"dataframe\">\n",
       "  <thead>\n",
       "    <tr style=\"text-align: right;\">\n",
       "      <th></th>\n",
       "      <th>Date</th>\n",
       "      <th>Price</th>\n",
       "    </tr>\n",
       "  </thead>\n",
       "  <tbody>\n",
       "    <tr>\n",
       "      <th>count</th>\n",
       "      <td>70.000000</td>\n",
       "      <td>70.000000</td>\n",
       "    </tr>\n",
       "    <tr>\n",
       "      <th>mean</th>\n",
       "      <td>1984.500000</td>\n",
       "      <td>412.776457</td>\n",
       "    </tr>\n",
       "    <tr>\n",
       "      <th>std</th>\n",
       "      <td>20.351085</td>\n",
       "      <td>444.932209</td>\n",
       "    </tr>\n",
       "    <tr>\n",
       "      <th>min</th>\n",
       "      <td>1950.000000</td>\n",
       "      <td>34.660000</td>\n",
       "    </tr>\n",
       "    <tr>\n",
       "      <th>25%</th>\n",
       "      <td>1967.250000</td>\n",
       "      <td>35.277500</td>\n",
       "    </tr>\n",
       "    <tr>\n",
       "      <th>50%</th>\n",
       "      <td>1984.500000</td>\n",
       "      <td>320.803500</td>\n",
       "    </tr>\n",
       "    <tr>\n",
       "      <th>75%</th>\n",
       "      <td>2001.750000</td>\n",
       "      <td>458.943500</td>\n",
       "    </tr>\n",
       "    <tr>\n",
       "      <th>max</th>\n",
       "      <td>2019.000000</td>\n",
       "      <td>1687.342000</td>\n",
       "    </tr>\n",
       "  </tbody>\n",
       "</table>\n",
       "</div>"
      ],
      "text/plain": [
       "              Date        Price\n",
       "count    70.000000    70.000000\n",
       "mean   1984.500000   412.776457\n",
       "std      20.351085   444.932209\n",
       "min    1950.000000    34.660000\n",
       "25%    1967.250000    35.277500\n",
       "50%    1984.500000   320.803500\n",
       "75%    2001.750000   458.943500\n",
       "max    2019.000000  1687.342000"
      ]
     },
     "execution_count": 10,
     "metadata": {},
     "output_type": "execute_result"
    }
   ],
   "source": [
    "df.describe()"
   ]
  }
 ],
 "metadata": {
  "kernelspec": {
   "display_name": "Python 3",
   "language": "python",
   "name": "python3"
  },
  "language_info": {
   "codemirror_mode": {
    "name": "ipython",
    "version": 3
   },
   "file_extension": ".py",
   "mimetype": "text/x-python",
   "name": "python",
   "nbconvert_exporter": "python",
   "pygments_lexer": "ipython3",
   "version": "3.7.12"
  },
  "papermill": {
   "default_parameters": {},
   "duration": 10.420808,
   "end_time": "2022-02-26T17:36:01.249460",
   "environment_variables": {},
   "exception": null,
   "input_path": "__notebook__.ipynb",
   "output_path": "__notebook__.ipynb",
   "parameters": {},
   "start_time": "2022-02-26T17:35:50.828652",
   "version": "2.3.3"
  }
 },
 "nbformat": 4,
 "nbformat_minor": 5
}
