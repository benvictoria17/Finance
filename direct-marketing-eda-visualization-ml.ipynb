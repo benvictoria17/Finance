{
 "cells": [
  {
   "cell_type": "code",
   "execution_count": 1,
   "metadata": {
    "execution": {
     "iopub.execute_input": "2021-02-21T23:25:11.714364Z",
     "iopub.status.busy": "2021-02-21T23:25:11.713688Z",
     "iopub.status.idle": "2021-02-21T23:25:14.141068Z",
     "shell.execute_reply": "2021-02-21T23:25:14.140242Z"
    },
    "papermill": {
     "duration": 2.455202,
     "end_time": "2021-02-21T23:25:14.141276",
     "exception": false,
     "start_time": "2021-02-21T23:25:11.686074",
     "status": "completed"
    },
    "tags": []
   },
   "outputs": [],
   "source": [
    "import numpy as np \n",
    "import pandas as pd \n",
    "import seaborn as sns \n",
    "import matplotlib.pyplot as plt \n",
    "import plotly.express as px\n",
    "import plotly.graph_objects as go\n",
    "\n",
    "from plotly.subplots import make_subplots\n",
    "\n",
    "import warnings\n",
    "warnings.filterwarnings(\"ignore\")"
   ]
  },
  {
   "cell_type": "code",
   "execution_count": 2,
   "metadata": {
    "execution": {
     "iopub.execute_input": "2021-02-21T23:25:14.197364Z",
     "iopub.status.busy": "2021-02-21T23:25:14.196701Z",
     "iopub.status.idle": "2021-02-21T23:25:14.529848Z",
     "shell.execute_reply": "2021-02-21T23:25:14.530394Z"
    },
    "papermill": {
     "duration": 0.369143,
     "end_time": "2021-02-21T23:25:14.530599",
     "exception": false,
     "start_time": "2021-02-21T23:25:14.161456",
     "status": "completed"
    },
    "tags": []
   },
   "outputs": [
    {
     "data": {
      "text/html": [
       "<div>\n",
       "<style scoped>\n",
       "    .dataframe tbody tr th:only-of-type {\n",
       "        vertical-align: middle;\n",
       "    }\n",
       "\n",
       "    .dataframe tbody tr th {\n",
       "        vertical-align: top;\n",
       "    }\n",
       "\n",
       "    .dataframe thead th {\n",
       "        text-align: right;\n",
       "    }\n",
       "</style>\n",
       "<table border=\"1\" class=\"dataframe\">\n",
       "  <thead>\n",
       "    <tr style=\"text-align: right;\">\n",
       "      <th></th>\n",
       "      <th>Age</th>\n",
       "      <th>Gender</th>\n",
       "      <th>OwnHome</th>\n",
       "      <th>Married</th>\n",
       "      <th>Location</th>\n",
       "      <th>Salary</th>\n",
       "      <th>Children</th>\n",
       "      <th>History</th>\n",
       "      <th>Catalogs</th>\n",
       "      <th>AmountSpent</th>\n",
       "    </tr>\n",
       "  </thead>\n",
       "  <tbody>\n",
       "    <tr>\n",
       "      <th>0</th>\n",
       "      <td>Old</td>\n",
       "      <td>Female</td>\n",
       "      <td>Own</td>\n",
       "      <td>Single</td>\n",
       "      <td>Far</td>\n",
       "      <td>47500</td>\n",
       "      <td>0</td>\n",
       "      <td>High</td>\n",
       "      <td>6</td>\n",
       "      <td>755</td>\n",
       "    </tr>\n",
       "    <tr>\n",
       "      <th>1</th>\n",
       "      <td>Middle</td>\n",
       "      <td>Male</td>\n",
       "      <td>Rent</td>\n",
       "      <td>Single</td>\n",
       "      <td>Close</td>\n",
       "      <td>63600</td>\n",
       "      <td>0</td>\n",
       "      <td>High</td>\n",
       "      <td>6</td>\n",
       "      <td>1318</td>\n",
       "    </tr>\n",
       "    <tr>\n",
       "      <th>2</th>\n",
       "      <td>Young</td>\n",
       "      <td>Female</td>\n",
       "      <td>Rent</td>\n",
       "      <td>Single</td>\n",
       "      <td>Close</td>\n",
       "      <td>13500</td>\n",
       "      <td>0</td>\n",
       "      <td>Low</td>\n",
       "      <td>18</td>\n",
       "      <td>296</td>\n",
       "    </tr>\n",
       "    <tr>\n",
       "      <th>3</th>\n",
       "      <td>Middle</td>\n",
       "      <td>Male</td>\n",
       "      <td>Own</td>\n",
       "      <td>Married</td>\n",
       "      <td>Close</td>\n",
       "      <td>85600</td>\n",
       "      <td>1</td>\n",
       "      <td>High</td>\n",
       "      <td>18</td>\n",
       "      <td>2436</td>\n",
       "    </tr>\n",
       "    <tr>\n",
       "      <th>4</th>\n",
       "      <td>Middle</td>\n",
       "      <td>Female</td>\n",
       "      <td>Own</td>\n",
       "      <td>Single</td>\n",
       "      <td>Close</td>\n",
       "      <td>68400</td>\n",
       "      <td>0</td>\n",
       "      <td>High</td>\n",
       "      <td>12</td>\n",
       "      <td>1304</td>\n",
       "    </tr>\n",
       "    <tr>\n",
       "      <th>5</th>\n",
       "      <td>Young</td>\n",
       "      <td>Male</td>\n",
       "      <td>Own</td>\n",
       "      <td>Married</td>\n",
       "      <td>Close</td>\n",
       "      <td>30400</td>\n",
       "      <td>0</td>\n",
       "      <td>Low</td>\n",
       "      <td>6</td>\n",
       "      <td>495</td>\n",
       "    </tr>\n",
       "    <tr>\n",
       "      <th>6</th>\n",
       "      <td>Middle</td>\n",
       "      <td>Female</td>\n",
       "      <td>Rent</td>\n",
       "      <td>Single</td>\n",
       "      <td>Close</td>\n",
       "      <td>48100</td>\n",
       "      <td>0</td>\n",
       "      <td>Medium</td>\n",
       "      <td>12</td>\n",
       "      <td>782</td>\n",
       "    </tr>\n",
       "    <tr>\n",
       "      <th>7</th>\n",
       "      <td>Middle</td>\n",
       "      <td>Male</td>\n",
       "      <td>Own</td>\n",
       "      <td>Single</td>\n",
       "      <td>Close</td>\n",
       "      <td>68400</td>\n",
       "      <td>0</td>\n",
       "      <td>High</td>\n",
       "      <td>18</td>\n",
       "      <td>1155</td>\n",
       "    </tr>\n",
       "    <tr>\n",
       "      <th>8</th>\n",
       "      <td>Middle</td>\n",
       "      <td>Female</td>\n",
       "      <td>Own</td>\n",
       "      <td>Married</td>\n",
       "      <td>Close</td>\n",
       "      <td>51900</td>\n",
       "      <td>3</td>\n",
       "      <td>Low</td>\n",
       "      <td>6</td>\n",
       "      <td>158</td>\n",
       "    </tr>\n",
       "    <tr>\n",
       "      <th>9</th>\n",
       "      <td>Old</td>\n",
       "      <td>Male</td>\n",
       "      <td>Own</td>\n",
       "      <td>Married</td>\n",
       "      <td>Far</td>\n",
       "      <td>80700</td>\n",
       "      <td>0</td>\n",
       "      <td>NaN</td>\n",
       "      <td>18</td>\n",
       "      <td>3034</td>\n",
       "    </tr>\n",
       "    <tr>\n",
       "      <th>10</th>\n",
       "      <td>Young</td>\n",
       "      <td>Male</td>\n",
       "      <td>Rent</td>\n",
       "      <td>Married</td>\n",
       "      <td>Close</td>\n",
       "      <td>43700</td>\n",
       "      <td>1</td>\n",
       "      <td>NaN</td>\n",
       "      <td>12</td>\n",
       "      <td>927</td>\n",
       "    </tr>\n",
       "    <tr>\n",
       "      <th>11</th>\n",
       "      <td>Middle</td>\n",
       "      <td>Male</td>\n",
       "      <td>Own</td>\n",
       "      <td>Married</td>\n",
       "      <td>Far</td>\n",
       "      <td>111800</td>\n",
       "      <td>3</td>\n",
       "      <td>High</td>\n",
       "      <td>18</td>\n",
       "      <td>2065</td>\n",
       "    </tr>\n",
       "    <tr>\n",
       "      <th>12</th>\n",
       "      <td>Middle</td>\n",
       "      <td>Female</td>\n",
       "      <td>Own</td>\n",
       "      <td>Married</td>\n",
       "      <td>Close</td>\n",
       "      <td>44100</td>\n",
       "      <td>1</td>\n",
       "      <td>Medium</td>\n",
       "      <td>24</td>\n",
       "      <td>704</td>\n",
       "    </tr>\n",
       "    <tr>\n",
       "      <th>13</th>\n",
       "      <td>Middle</td>\n",
       "      <td>Male</td>\n",
       "      <td>Own</td>\n",
       "      <td>Married</td>\n",
       "      <td>Close</td>\n",
       "      <td>111400</td>\n",
       "      <td>0</td>\n",
       "      <td>High</td>\n",
       "      <td>12</td>\n",
       "      <td>2136</td>\n",
       "    </tr>\n",
       "    <tr>\n",
       "      <th>14</th>\n",
       "      <td>Old</td>\n",
       "      <td>Female</td>\n",
       "      <td>Own</td>\n",
       "      <td>Married</td>\n",
       "      <td>Far</td>\n",
       "      <td>110000</td>\n",
       "      <td>0</td>\n",
       "      <td>High</td>\n",
       "      <td>24</td>\n",
       "      <td>5564</td>\n",
       "    </tr>\n",
       "    <tr>\n",
       "      <th>15</th>\n",
       "      <td>Middle</td>\n",
       "      <td>Female</td>\n",
       "      <td>Own</td>\n",
       "      <td>Married</td>\n",
       "      <td>Far</td>\n",
       "      <td>83100</td>\n",
       "      <td>1</td>\n",
       "      <td>NaN</td>\n",
       "      <td>12</td>\n",
       "      <td>2766</td>\n",
       "    </tr>\n",
       "    <tr>\n",
       "      <th>16</th>\n",
       "      <td>Old</td>\n",
       "      <td>Female</td>\n",
       "      <td>Own</td>\n",
       "      <td>Married</td>\n",
       "      <td>Close</td>\n",
       "      <td>82800</td>\n",
       "      <td>0</td>\n",
       "      <td>High</td>\n",
       "      <td>24</td>\n",
       "      <td>3010</td>\n",
       "    </tr>\n",
       "    <tr>\n",
       "      <th>17</th>\n",
       "      <td>Middle</td>\n",
       "      <td>Male</td>\n",
       "      <td>Own</td>\n",
       "      <td>Married</td>\n",
       "      <td>Close</td>\n",
       "      <td>90100</td>\n",
       "      <td>0</td>\n",
       "      <td>High</td>\n",
       "      <td>18</td>\n",
       "      <td>1956</td>\n",
       "    </tr>\n",
       "    <tr>\n",
       "      <th>18</th>\n",
       "      <td>Middle</td>\n",
       "      <td>Male</td>\n",
       "      <td>Rent</td>\n",
       "      <td>Single</td>\n",
       "      <td>Close</td>\n",
       "      <td>38600</td>\n",
       "      <td>1</td>\n",
       "      <td>Low</td>\n",
       "      <td>18</td>\n",
       "      <td>542</td>\n",
       "    </tr>\n",
       "    <tr>\n",
       "      <th>19</th>\n",
       "      <td>Old</td>\n",
       "      <td>Female</td>\n",
       "      <td>Rent</td>\n",
       "      <td>Single</td>\n",
       "      <td>Far</td>\n",
       "      <td>14000</td>\n",
       "      <td>0</td>\n",
       "      <td>Low</td>\n",
       "      <td>12</td>\n",
       "      <td>410</td>\n",
       "    </tr>\n",
       "    <tr>\n",
       "      <th>20</th>\n",
       "      <td>Young</td>\n",
       "      <td>Female</td>\n",
       "      <td>Rent</td>\n",
       "      <td>Single</td>\n",
       "      <td>Far</td>\n",
       "      <td>14300</td>\n",
       "      <td>2</td>\n",
       "      <td>Low</td>\n",
       "      <td>6</td>\n",
       "      <td>194</td>\n",
       "    </tr>\n",
       "    <tr>\n",
       "      <th>21</th>\n",
       "      <td>Young</td>\n",
       "      <td>Male</td>\n",
       "      <td>Rent</td>\n",
       "      <td>Married</td>\n",
       "      <td>Close</td>\n",
       "      <td>49800</td>\n",
       "      <td>0</td>\n",
       "      <td>Medium</td>\n",
       "      <td>12</td>\n",
       "      <td>827</td>\n",
       "    </tr>\n",
       "    <tr>\n",
       "      <th>22</th>\n",
       "      <td>Old</td>\n",
       "      <td>Female</td>\n",
       "      <td>Rent</td>\n",
       "      <td>Married</td>\n",
       "      <td>Far</td>\n",
       "      <td>60200</td>\n",
       "      <td>0</td>\n",
       "      <td>High</td>\n",
       "      <td>18</td>\n",
       "      <td>2328</td>\n",
       "    </tr>\n",
       "    <tr>\n",
       "      <th>23</th>\n",
       "      <td>Young</td>\n",
       "      <td>Male</td>\n",
       "      <td>Rent</td>\n",
       "      <td>Married</td>\n",
       "      <td>Far</td>\n",
       "      <td>43500</td>\n",
       "      <td>1</td>\n",
       "      <td>Medium</td>\n",
       "      <td>12</td>\n",
       "      <td>808</td>\n",
       "    </tr>\n",
       "    <tr>\n",
       "      <th>24</th>\n",
       "      <td>Young</td>\n",
       "      <td>Female</td>\n",
       "      <td>Rent</td>\n",
       "      <td>Married</td>\n",
       "      <td>Close</td>\n",
       "      <td>41700</td>\n",
       "      <td>1</td>\n",
       "      <td>NaN</td>\n",
       "      <td>6</td>\n",
       "      <td>521</td>\n",
       "    </tr>\n",
       "  </tbody>\n",
       "</table>\n",
       "</div>"
      ],
      "text/plain": [
       "       Age  Gender OwnHome  Married Location  Salary  Children History  \\\n",
       "0      Old  Female     Own   Single      Far   47500         0    High   \n",
       "1   Middle    Male    Rent   Single    Close   63600         0    High   \n",
       "2    Young  Female    Rent   Single    Close   13500         0     Low   \n",
       "3   Middle    Male     Own  Married    Close   85600         1    High   \n",
       "4   Middle  Female     Own   Single    Close   68400         0    High   \n",
       "5    Young    Male     Own  Married    Close   30400         0     Low   \n",
       "6   Middle  Female    Rent   Single    Close   48100         0  Medium   \n",
       "7   Middle    Male     Own   Single    Close   68400         0    High   \n",
       "8   Middle  Female     Own  Married    Close   51900         3     Low   \n",
       "9      Old    Male     Own  Married      Far   80700         0     NaN   \n",
       "10   Young    Male    Rent  Married    Close   43700         1     NaN   \n",
       "11  Middle    Male     Own  Married      Far  111800         3    High   \n",
       "12  Middle  Female     Own  Married    Close   44100         1  Medium   \n",
       "13  Middle    Male     Own  Married    Close  111400         0    High   \n",
       "14     Old  Female     Own  Married      Far  110000         0    High   \n",
       "15  Middle  Female     Own  Married      Far   83100         1     NaN   \n",
       "16     Old  Female     Own  Married    Close   82800         0    High   \n",
       "17  Middle    Male     Own  Married    Close   90100         0    High   \n",
       "18  Middle    Male    Rent   Single    Close   38600         1     Low   \n",
       "19     Old  Female    Rent   Single      Far   14000         0     Low   \n",
       "20   Young  Female    Rent   Single      Far   14300         2     Low   \n",
       "21   Young    Male    Rent  Married    Close   49800         0  Medium   \n",
       "22     Old  Female    Rent  Married      Far   60200         0    High   \n",
       "23   Young    Male    Rent  Married      Far   43500         1  Medium   \n",
       "24   Young  Female    Rent  Married    Close   41700         1     NaN   \n",
       "\n",
       "    Catalogs  AmountSpent  \n",
       "0          6          755  \n",
       "1          6         1318  \n",
       "2         18          296  \n",
       "3         18         2436  \n",
       "4         12         1304  \n",
       "5          6          495  \n",
       "6         12          782  \n",
       "7         18         1155  \n",
       "8          6          158  \n",
       "9         18         3034  \n",
       "10        12          927  \n",
       "11        18         2065  \n",
       "12        24          704  \n",
       "13        12         2136  \n",
       "14        24         5564  \n",
       "15        12         2766  \n",
       "16        24         3010  \n",
       "17        18         1956  \n",
       "18        18          542  \n",
       "19        12          410  \n",
       "20         6          194  \n",
       "21        12          827  \n",
       "22        18         2328  \n",
       "23        12          808  \n",
       "24         6          521  "
      ]
     },
     "execution_count": 2,
     "metadata": {},
     "output_type": "execute_result"
    }
   ],
   "source": [
    "Direct_Marketing=pd.read_csv(\"https://raw.githubusercontent.com/benvictoria17/MachineLearning/master/dataset/DirectMarketing.csv\")\n",
    "df=Direct_Marketing.copy()\n",
    "df.head(25)"
   ]
  },
  {
   "cell_type": "code",
   "execution_count": 3,
   "metadata": {
    "execution": {
     "iopub.execute_input": "2021-02-21T23:25:14.593570Z",
     "iopub.status.busy": "2021-02-21T23:25:14.593093Z",
     "iopub.status.idle": "2021-02-21T23:25:14.597233Z",
     "shell.execute_reply": "2021-02-21T23:25:14.596798Z"
    },
    "papermill": {
     "duration": 0.046677,
     "end_time": "2021-02-21T23:25:14.597359",
     "exception": false,
     "start_time": "2021-02-21T23:25:14.550682",
     "status": "completed"
    },
    "tags": []
   },
   "outputs": [
    {
     "name": "stdout",
     "output_type": "stream",
     "text": [
      "<class 'pandas.core.frame.DataFrame'>\n",
      "RangeIndex: 1000 entries, 0 to 999\n",
      "Data columns (total 10 columns):\n",
      " #   Column       Non-Null Count  Dtype \n",
      "---  ------       --------------  ----- \n",
      " 0   Age          1000 non-null   object\n",
      " 1   Gender       1000 non-null   object\n",
      " 2   OwnHome      1000 non-null   object\n",
      " 3   Married      1000 non-null   object\n",
      " 4   Location     1000 non-null   object\n",
      " 5   Salary       1000 non-null   int64 \n",
      " 6   Children     1000 non-null   int64 \n",
      " 7   History      697 non-null    object\n",
      " 8   Catalogs     1000 non-null   int64 \n",
      " 9   AmountSpent  1000 non-null   int64 \n",
      "dtypes: int64(4), object(6)\n",
      "memory usage: 78.2+ KB\n"
     ]
    }
   ],
   "source": [
    "df.info()"
   ]
  },
  {
   "cell_type": "code",
   "execution_count": 4,
   "metadata": {
    "execution": {
     "iopub.execute_input": "2021-02-21T23:25:14.648708Z",
     "iopub.status.busy": "2021-02-21T23:25:14.647854Z",
     "iopub.status.idle": "2021-02-21T23:25:14.651020Z",
     "shell.execute_reply": "2021-02-21T23:25:14.651683Z"
    },
    "papermill": {
     "duration": 0.035223,
     "end_time": "2021-02-21T23:25:14.652039",
     "exception": false,
     "start_time": "2021-02-21T23:25:14.616816",
     "status": "completed"
    },
    "tags": []
   },
   "outputs": [
    {
     "data": {
      "text/plain": [
       "Age            object\n",
       "Gender         object\n",
       "OwnHome        object\n",
       "Married        object\n",
       "Location       object\n",
       "Salary          int64\n",
       "Children        int64\n",
       "History        object\n",
       "Catalogs        int64\n",
       "AmountSpent     int64\n",
       "dtype: object"
      ]
     },
     "execution_count": 4,
     "metadata": {},
     "output_type": "execute_result"
    }
   ],
   "source": [
    "df.dtypes"
   ]
  },
  {
   "cell_type": "code",
   "execution_count": 5,
   "metadata": {
    "execution": {
     "iopub.execute_input": "2021-02-21T23:25:14.721969Z",
     "iopub.status.busy": "2021-02-21T23:25:14.720960Z",
     "iopub.status.idle": "2021-02-21T23:25:14.725518Z",
     "shell.execute_reply": "2021-02-21T23:25:14.726200Z"
    },
    "papermill": {
     "duration": 0.041322,
     "end_time": "2021-02-21T23:25:14.726454",
     "exception": false,
     "start_time": "2021-02-21T23:25:14.685132",
     "status": "completed"
    },
    "tags": []
   },
   "outputs": [
    {
     "data": {
      "text/plain": [
       "(1000, 10)"
      ]
     },
     "execution_count": 5,
     "metadata": {},
     "output_type": "execute_result"
    }
   ],
   "source": [
    "df.shape"
   ]
  },
  {
   "cell_type": "code",
   "execution_count": 6,
   "metadata": {
    "execution": {
     "iopub.execute_input": "2021-02-21T23:25:14.802452Z",
     "iopub.status.busy": "2021-02-21T23:25:14.801578Z",
     "iopub.status.idle": "2021-02-21T23:25:14.839347Z",
     "shell.execute_reply": "2021-02-21T23:25:14.838551Z"
    },
    "papermill": {
     "duration": 0.076809,
     "end_time": "2021-02-21T23:25:14.839521",
     "exception": false,
     "start_time": "2021-02-21T23:25:14.762712",
     "status": "completed"
    },
    "tags": []
   },
   "outputs": [
    {
     "data": {
      "text/html": [
       "<div>\n",
       "<style scoped>\n",
       "    .dataframe tbody tr th:only-of-type {\n",
       "        vertical-align: middle;\n",
       "    }\n",
       "\n",
       "    .dataframe tbody tr th {\n",
       "        vertical-align: top;\n",
       "    }\n",
       "\n",
       "    .dataframe thead th {\n",
       "        text-align: right;\n",
       "    }\n",
       "</style>\n",
       "<table border=\"1\" class=\"dataframe\">\n",
       "  <thead>\n",
       "    <tr style=\"text-align: right;\">\n",
       "      <th></th>\n",
       "      <th>Age</th>\n",
       "      <th>Gender</th>\n",
       "      <th>OwnHome</th>\n",
       "      <th>Married</th>\n",
       "      <th>Location</th>\n",
       "      <th>Salary</th>\n",
       "      <th>Children</th>\n",
       "      <th>History</th>\n",
       "      <th>Catalogs</th>\n",
       "      <th>AmountSpent</th>\n",
       "    </tr>\n",
       "  </thead>\n",
       "  <tbody>\n",
       "  </tbody>\n",
       "</table>\n",
       "</div>"
      ],
      "text/plain": [
       "Empty DataFrame\n",
       "Columns: [Age, Gender, OwnHome, Married, Location, Salary, Children, History, Catalogs, AmountSpent]\n",
       "Index: []"
      ]
     },
     "execution_count": 6,
     "metadata": {},
     "output_type": "execute_result"
    }
   ],
   "source": [
    "df[df.duplicated() == True]"
   ]
  },
  {
   "cell_type": "code",
   "execution_count": 7,
   "metadata": {
    "execution": {
     "iopub.execute_input": "2021-02-21T23:25:14.923957Z",
     "iopub.status.busy": "2021-02-21T23:25:14.919474Z",
     "iopub.status.idle": "2021-02-21T23:25:14.930873Z",
     "shell.execute_reply": "2021-02-21T23:25:14.931550Z"
    },
    "papermill": {
     "duration": 0.052701,
     "end_time": "2021-02-21T23:25:14.931775",
     "exception": false,
     "start_time": "2021-02-21T23:25:14.879074",
     "status": "completed"
    },
    "tags": []
   },
   "outputs": [
    {
     "data": {
      "text/plain": [
       "{'Age': ['Old', 'Middle', 'Young'],\n",
       " 'Gender': ['Female', 'Male'],\n",
       " 'OwnHome': ['Own', 'Rent'],\n",
       " 'Married': ['Single', 'Married'],\n",
       " 'Location': ['Far', 'Close'],\n",
       " 'History': ['High', 'Low', 'Medium', nan]}"
      ]
     },
     "execution_count": 7,
     "metadata": {},
     "output_type": "execute_result"
    }
   ],
   "source": [
    "{column: list(df[column].unique()) for column in df.select_dtypes('object').columns}"
   ]
  },
  {
   "cell_type": "code",
   "execution_count": 8,
   "metadata": {
    "execution": {
     "iopub.execute_input": "2021-02-21T23:25:15.009251Z",
     "iopub.status.busy": "2021-02-21T23:25:15.007768Z",
     "iopub.status.idle": "2021-02-21T23:25:15.018074Z",
     "shell.execute_reply": "2021-02-21T23:25:15.017140Z"
    },
    "papermill": {
     "duration": 0.050138,
     "end_time": "2021-02-21T23:25:15.018270",
     "exception": false,
     "start_time": "2021-02-21T23:25:14.968132",
     "status": "completed"
    },
    "tags": []
   },
   "outputs": [
    {
     "data": {
      "text/plain": [
       "True"
      ]
     },
     "execution_count": 8,
     "metadata": {},
     "output_type": "execute_result"
    }
   ],
   "source": [
    "df.isnull().values.any()"
   ]
  },
  {
   "cell_type": "code",
   "execution_count": 9,
   "metadata": {
    "execution": {
     "iopub.execute_input": "2021-02-21T23:25:15.101733Z",
     "iopub.status.busy": "2021-02-21T23:25:15.100768Z",
     "iopub.status.idle": "2021-02-21T23:25:15.108036Z",
     "shell.execute_reply": "2021-02-21T23:25:15.107184Z"
    },
    "papermill": {
     "duration": 0.051956,
     "end_time": "2021-02-21T23:25:15.108187",
     "exception": false,
     "start_time": "2021-02-21T23:25:15.056231",
     "status": "completed"
    },
    "tags": []
   },
   "outputs": [
    {
     "data": {
      "text/plain": [
       "Age              0\n",
       "Gender           0\n",
       "OwnHome          0\n",
       "Married          0\n",
       "Location         0\n",
       "Salary           0\n",
       "Children         0\n",
       "History        303\n",
       "Catalogs         0\n",
       "AmountSpent      0\n",
       "dtype: int64"
      ]
     },
     "execution_count": 9,
     "metadata": {},
     "output_type": "execute_result"
    }
   ],
   "source": [
    "df.isnull().sum()"
   ]
  },
  {
   "cell_type": "code",
   "execution_count": 10,
   "metadata": {
    "execution": {
     "iopub.execute_input": "2021-02-21T23:25:15.161928Z",
     "iopub.status.busy": "2021-02-21T23:25:15.161220Z",
     "iopub.status.idle": "2021-02-21T23:25:15.180716Z",
     "shell.execute_reply": "2021-02-21T23:25:15.180005Z"
    },
    "papermill": {
     "duration": 0.046714,
     "end_time": "2021-02-21T23:25:15.180865",
     "exception": false,
     "start_time": "2021-02-21T23:25:15.134151",
     "status": "completed"
    },
    "tags": []
   },
   "outputs": [
    {
     "data": {
      "text/html": [
       "<div>\n",
       "<style scoped>\n",
       "    .dataframe tbody tr th:only-of-type {\n",
       "        vertical-align: middle;\n",
       "    }\n",
       "\n",
       "    .dataframe tbody tr th {\n",
       "        vertical-align: top;\n",
       "    }\n",
       "\n",
       "    .dataframe thead th {\n",
       "        text-align: right;\n",
       "    }\n",
       "</style>\n",
       "<table border=\"1\" class=\"dataframe\">\n",
       "  <thead>\n",
       "    <tr style=\"text-align: right;\">\n",
       "      <th></th>\n",
       "      <th>Total</th>\n",
       "      <th>Percent</th>\n",
       "    </tr>\n",
       "  </thead>\n",
       "  <tbody>\n",
       "    <tr>\n",
       "      <th>History</th>\n",
       "      <td>303</td>\n",
       "      <td>30.3</td>\n",
       "    </tr>\n",
       "    <tr>\n",
       "      <th>Age</th>\n",
       "      <td>0</td>\n",
       "      <td>0.0</td>\n",
       "    </tr>\n",
       "    <tr>\n",
       "      <th>Gender</th>\n",
       "      <td>0</td>\n",
       "      <td>0.0</td>\n",
       "    </tr>\n",
       "    <tr>\n",
       "      <th>OwnHome</th>\n",
       "      <td>0</td>\n",
       "      <td>0.0</td>\n",
       "    </tr>\n",
       "    <tr>\n",
       "      <th>Married</th>\n",
       "      <td>0</td>\n",
       "      <td>0.0</td>\n",
       "    </tr>\n",
       "    <tr>\n",
       "      <th>Location</th>\n",
       "      <td>0</td>\n",
       "      <td>0.0</td>\n",
       "    </tr>\n",
       "    <tr>\n",
       "      <th>Salary</th>\n",
       "      <td>0</td>\n",
       "      <td>0.0</td>\n",
       "    </tr>\n",
       "    <tr>\n",
       "      <th>Children</th>\n",
       "      <td>0</td>\n",
       "      <td>0.0</td>\n",
       "    </tr>\n",
       "    <tr>\n",
       "      <th>Catalogs</th>\n",
       "      <td>0</td>\n",
       "      <td>0.0</td>\n",
       "    </tr>\n",
       "    <tr>\n",
       "      <th>AmountSpent</th>\n",
       "      <td>0</td>\n",
       "      <td>0.0</td>\n",
       "    </tr>\n",
       "  </tbody>\n",
       "</table>\n",
       "</div>"
      ],
      "text/plain": [
       "             Total  Percent\n",
       "History        303     30.3\n",
       "Age              0      0.0\n",
       "Gender           0      0.0\n",
       "OwnHome          0      0.0\n",
       "Married          0      0.0\n",
       "Location         0      0.0\n",
       "Salary           0      0.0\n",
       "Children         0      0.0\n",
       "Catalogs         0      0.0\n",
       "AmountSpent      0      0.0"
      ]
     },
     "execution_count": 10,
     "metadata": {},
     "output_type": "execute_result"
    }
   ],
   "source": [
    "def missing_data(data):\n",
    "    total = data.isnull().sum().sort_values(ascending = False)\n",
    "    percent = (data.isnull().sum()/data.isnull().count()*100).sort_values(ascending = False)\n",
    "    return pd.concat([total, percent], axis=1, keys=['Total', 'Percent'])\n",
    "missing_data(df)"
   ]
  },
  {
   "cell_type": "code",
   "execution_count": 11,
   "metadata": {
    "execution": {
     "iopub.execute_input": "2021-02-21T23:25:15.241805Z",
     "iopub.status.busy": "2021-02-21T23:25:15.240641Z",
     "iopub.status.idle": "2021-02-21T23:25:15.252960Z",
     "shell.execute_reply": "2021-02-21T23:25:15.254215Z"
    },
    "papermill": {
     "duration": 0.047826,
     "end_time": "2021-02-21T23:25:15.254564",
     "exception": false,
     "start_time": "2021-02-21T23:25:15.206738",
     "status": "completed"
    },
    "tags": []
   },
   "outputs": [
    {
     "data": {
      "text/html": [
       "<div>\n",
       "<style scoped>\n",
       "    .dataframe tbody tr th:only-of-type {\n",
       "        vertical-align: middle;\n",
       "    }\n",
       "\n",
       "    .dataframe tbody tr th {\n",
       "        vertical-align: top;\n",
       "    }\n",
       "\n",
       "    .dataframe thead th {\n",
       "        text-align: right;\n",
       "    }\n",
       "</style>\n",
       "<table border=\"1\" class=\"dataframe\">\n",
       "  <thead>\n",
       "    <tr style=\"text-align: right;\">\n",
       "      <th></th>\n",
       "      <th>Salary</th>\n",
       "      <th>Children</th>\n",
       "      <th>Catalogs</th>\n",
       "      <th>AmountSpent</th>\n",
       "    </tr>\n",
       "  </thead>\n",
       "  <tbody>\n",
       "    <tr>\n",
       "      <th>Salary</th>\n",
       "      <td>1.000000</td>\n",
       "      <td>0.049663</td>\n",
       "      <td>0.183551</td>\n",
       "      <td>0.699596</td>\n",
       "    </tr>\n",
       "    <tr>\n",
       "      <th>Children</th>\n",
       "      <td>0.049663</td>\n",
       "      <td>1.000000</td>\n",
       "      <td>-0.113455</td>\n",
       "      <td>-0.222308</td>\n",
       "    </tr>\n",
       "    <tr>\n",
       "      <th>Catalogs</th>\n",
       "      <td>0.183551</td>\n",
       "      <td>-0.113455</td>\n",
       "      <td>1.000000</td>\n",
       "      <td>0.472650</td>\n",
       "    </tr>\n",
       "    <tr>\n",
       "      <th>AmountSpent</th>\n",
       "      <td>0.699596</td>\n",
       "      <td>-0.222308</td>\n",
       "      <td>0.472650</td>\n",
       "      <td>1.000000</td>\n",
       "    </tr>\n",
       "  </tbody>\n",
       "</table>\n",
       "</div>"
      ],
      "text/plain": [
       "               Salary  Children  Catalogs  AmountSpent\n",
       "Salary       1.000000  0.049663  0.183551     0.699596\n",
       "Children     0.049663  1.000000 -0.113455    -0.222308\n",
       "Catalogs     0.183551 -0.113455  1.000000     0.472650\n",
       "AmountSpent  0.699596 -0.222308  0.472650     1.000000"
      ]
     },
     "execution_count": 11,
     "metadata": {},
     "output_type": "execute_result"
    }
   ],
   "source": [
    "df.corr()"
   ]
  },
  {
   "cell_type": "code",
   "execution_count": 12,
   "metadata": {
    "execution": {
     "iopub.execute_input": "2021-02-21T23:25:15.336375Z",
     "iopub.status.busy": "2021-02-21T23:25:15.335252Z",
     "iopub.status.idle": "2021-02-21T23:25:15.698276Z",
     "shell.execute_reply": "2021-02-21T23:25:15.699084Z"
    },
    "papermill": {
     "duration": 0.406012,
     "end_time": "2021-02-21T23:25:15.699294",
     "exception": false,
     "start_time": "2021-02-21T23:25:15.293282",
     "status": "completed"
    },
    "tags": []
   },
   "outputs": [
    {
     "name": "stdout",
     "output_type": "stream",
     "text": [
      "Correlation Matrix\n"
     ]
    },
    {
     "data": {
      "image/png": "[encoded data removed]",
      "text/plain": [
       "<Figure size 576x432 with 2 Axes>"
      ]
     },
     "metadata": {
      "needs_background": "light"
     },
     "output_type": "display_data"
    }
   ],
   "source": [
    "print(\"Correlation Matrix\")\n",
    "plt.rcParams['figure.figsize']=(8,6)\n",
    "sns.heatmap(df.corr(),cmap='coolwarm',linewidths=.5,fmt=\".2f\",annot = True);"
   ]
  },
  {
   "cell_type": "code",
   "execution_count": 13,
   "metadata": {
    "execution": {
     "iopub.execute_input": "2021-02-21T23:25:15.787091Z",
     "iopub.status.busy": "2021-02-21T23:25:15.785927Z",
     "iopub.status.idle": "2021-02-21T23:25:15.819163Z",
     "shell.execute_reply": "2021-02-21T23:25:15.818321Z"
    },
    "papermill": {
     "duration": 0.078248,
     "end_time": "2021-02-21T23:25:15.819364",
     "exception": false,
     "start_time": "2021-02-21T23:25:15.741116",
     "status": "completed"
    },
    "tags": []
   },
   "outputs": [
    {
     "data": {
      "text/html": [
       "<div>\n",
       "<style scoped>\n",
       "    .dataframe tbody tr th:only-of-type {\n",
       "        vertical-align: middle;\n",
       "    }\n",
       "\n",
       "    .dataframe tbody tr th {\n",
       "        vertical-align: top;\n",
       "    }\n",
       "\n",
       "    .dataframe thead th {\n",
       "        text-align: right;\n",
       "    }\n",
       "</style>\n",
       "<table border=\"1\" class=\"dataframe\">\n",
       "  <thead>\n",
       "    <tr style=\"text-align: right;\">\n",
       "      <th></th>\n",
       "      <th>count</th>\n",
       "      <th>mean</th>\n",
       "      <th>std</th>\n",
       "      <th>min</th>\n",
       "      <th>25%</th>\n",
       "      <th>50%</th>\n",
       "      <th>75%</th>\n",
       "      <th>max</th>\n",
       "    </tr>\n",
       "  </thead>\n",
       "  <tbody>\n",
       "    <tr>\n",
       "      <th>Salary</th>\n",
       "      <td>1000.0</td>\n",
       "      <td>56103.900</td>\n",
       "      <td>30616.314826</td>\n",
       "      <td>10100.0</td>\n",
       "      <td>29975.00</td>\n",
       "      <td>53700.0</td>\n",
       "      <td>77025.0</td>\n",
       "      <td>168800.0</td>\n",
       "    </tr>\n",
       "    <tr>\n",
       "      <th>Children</th>\n",
       "      <td>1000.0</td>\n",
       "      <td>0.934</td>\n",
       "      <td>1.051070</td>\n",
       "      <td>0.0</td>\n",
       "      <td>0.00</td>\n",
       "      <td>1.0</td>\n",
       "      <td>2.0</td>\n",
       "      <td>3.0</td>\n",
       "    </tr>\n",
       "    <tr>\n",
       "      <th>Catalogs</th>\n",
       "      <td>1000.0</td>\n",
       "      <td>14.682</td>\n",
       "      <td>6.622895</td>\n",
       "      <td>6.0</td>\n",
       "      <td>6.00</td>\n",
       "      <td>12.0</td>\n",
       "      <td>18.0</td>\n",
       "      <td>24.0</td>\n",
       "    </tr>\n",
       "    <tr>\n",
       "      <th>AmountSpent</th>\n",
       "      <td>1000.0</td>\n",
       "      <td>1216.770</td>\n",
       "      <td>961.068613</td>\n",
       "      <td>38.0</td>\n",
       "      <td>488.25</td>\n",
       "      <td>962.0</td>\n",
       "      <td>1688.5</td>\n",
       "      <td>6217.0</td>\n",
       "    </tr>\n",
       "  </tbody>\n",
       "</table>\n",
       "</div>"
      ],
      "text/plain": [
       "              count       mean           std      min       25%      50%  \\\n",
       "Salary       1000.0  56103.900  30616.314826  10100.0  29975.00  53700.0   \n",
       "Children     1000.0      0.934      1.051070      0.0      0.00      1.0   \n",
       "Catalogs     1000.0     14.682      6.622895      6.0      6.00     12.0   \n",
       "AmountSpent  1000.0   1216.770    961.068613     38.0    488.25    962.0   \n",
       "\n",
       "                 75%       max  \n",
       "Salary       77025.0  168800.0  \n",
       "Children         2.0       3.0  \n",
       "Catalogs        18.0      24.0  \n",
       "AmountSpent   1688.5    6217.0  "
      ]
     },
     "execution_count": 13,
     "metadata": {},
     "output_type": "execute_result"
    }
   ],
   "source": [
    "df.describe().T"
   ]
  },
  {
   "cell_type": "code",
   "execution_count": 14,
   "metadata": {
    "execution": {
     "iopub.execute_input": "2021-02-21T23:25:15.923635Z",
     "iopub.status.busy": "2021-02-21T23:25:15.922696Z",
     "iopub.status.idle": "2021-02-21T23:25:15.929442Z",
     "shell.execute_reply": "2021-02-21T23:25:15.928668Z"
    },
    "papermill": {
     "duration": 0.064737,
     "end_time": "2021-02-21T23:25:15.929618",
     "exception": false,
     "start_time": "2021-02-21T23:25:15.864881",
     "status": "completed"
    },
    "tags": []
   },
   "outputs": [
    {
     "data": {
      "text/html": [
       "<div>\n",
       "<style scoped>\n",
       "    .dataframe tbody tr th:only-of-type {\n",
       "        vertical-align: middle;\n",
       "    }\n",
       "\n",
       "    .dataframe tbody tr th {\n",
       "        vertical-align: top;\n",
       "    }\n",
       "\n",
       "    .dataframe thead th {\n",
       "        text-align: right;\n",
       "    }\n",
       "</style>\n",
       "<table border=\"1\" class=\"dataframe\">\n",
       "  <thead>\n",
       "    <tr style=\"text-align: right;\">\n",
       "      <th></th>\n",
       "      <th>Age</th>\n",
       "      <th>count</th>\n",
       "    </tr>\n",
       "  </thead>\n",
       "  <tbody>\n",
       "    <tr>\n",
       "      <th>0</th>\n",
       "      <td>Middle</td>\n",
       "      <td>508</td>\n",
       "    </tr>\n",
       "    <tr>\n",
       "      <th>1</th>\n",
       "      <td>Young</td>\n",
       "      <td>287</td>\n",
       "    </tr>\n",
       "    <tr>\n",
       "      <th>2</th>\n",
       "      <td>Old</td>\n",
       "      <td>205</td>\n",
       "    </tr>\n",
       "  </tbody>\n",
       "</table>\n",
       "</div>"
      ],
      "text/plain": [
       "      Age  count\n",
       "0  Middle    508\n",
       "1   Young    287\n",
       "2     Old    205"
      ]
     },
     "execution_count": 14,
     "metadata": {},
     "output_type": "execute_result"
    }
   ],
   "source": [
    "df_Age=df['Age'].value_counts().to_frame().reset_index().rename(columns={'index':'Age','Age':'count'})\n",
    "df_Age"
   ]
  },
  {
   "cell_type": "code",
   "execution_count": 15,
   "metadata": {
    "execution": {
     "iopub.execute_input": "2021-02-21T23:25:16.029732Z",
     "iopub.status.busy": "2021-02-21T23:25:16.028822Z",
     "iopub.status.idle": "2021-02-21T23:25:16.229926Z",
     "shell.execute_reply": "2021-02-21T23:25:16.228978Z"
    },
    "papermill": {
     "duration": 0.25625,
     "end_time": "2021-02-21T23:25:16.230132",
     "exception": false,
     "start_time": "2021-02-21T23:25:15.973882",
     "status": "completed"
    },
    "tags": []
   },
   "outputs": [
    {
     "data": {
      "text/html": [
       "        <script type=\"text/javascript\">\n",
       "        window.PlotlyConfig = {MathJaxConfig: 'local'};\n",
       "        if (window.MathJax) {MathJax.Hub.Config({SVG: {font: \"STIX-Web\"}});}\n",
       "        if (typeof require !== 'undefined') {\n",
       "        require.undef(\"plotly\");\n",
       "        requirejs.config({\n",
       "            paths: {\n",
       "                'plotly': ['https://cdn.plot.ly/plotly-latest.min']\n",
       "            }\n",
       "        });\n",
       "        require(['plotly'], function(Plotly) {\n",
       "            window._Plotly = Plotly;\n",
       "        });\n",
       "        }\n",
       "        </script>\n",
       "        "
      ]
     },
     "metadata": {},
     "output_type": "display_data"
    },
    {
     "data": {
      "text/html": [
       "<div>                            <div id=\"b5df5be6-380e-453e-a134-474043d9c7fc\" class=\"plotly-graph-div\" style=\"height:525px; width:100%;\"></div>            <script type=\"text/javascript\">                require([\"plotly\"], function(Plotly) {                    window.PLOTLYENV=window.PLOTLYENV || {};                                    if (document.getElementById(\"b5df5be6-380e-453e-a134-474043d9c7fc\")) {                    Plotly.newPlot(                        \"b5df5be6-380e-453e-a134-474043d9c7fc\",                        [{\"hole\": 0.4, \"hoverinfo\": \"label+percent\", \"insidetextorientation\": \"radial\", \"labels\": [\"Middle\", \"Young\", \"Old\"], \"pull\": [0.2, 0, 0], \"textfont\": {\"size\": 12}, \"textinfo\": \"value+percent\", \"type\": \"pie\", \"values\": [508, 287, 205]}],                        {\"template\": {\"data\": {\"bar\": [{\"error_x\": {\"color\": \"#2a3f5f\"}, \"error_y\": {\"color\": \"#2a3f5f\"}, \"marker\": {\"line\": {\"color\": \"#E5ECF6\", \"width\": 0.5}}, \"type\": \"bar\"}], \"barpolar\": [{\"marker\": {\"line\": {\"color\": \"#E5ECF6\", \"width\": 0.5}}, \"type\": \"barpolar\"}], \"carpet\": [{\"aaxis\": {\"endlinecolor\": \"#2a3f5f\", \"gridcolor\": \"white\", \"linecolor\": \"white\", \"minorgridcolor\": \"white\", \"startlinecolor\": \"#2a3f5f\"}, \"baxis\": {\"endlinecolor\": \"#2a3f5f\", \"gridcolor\": \"white\", \"linecolor\": \"white\", \"minorgridcolor\": \"white\", \"startlinecolor\": \"#2a3f5f\"}, \"type\": \"carpet\"}], \"choropleth\": [{\"colorbar\": {\"outlinewidth\": 0, \"ticks\": \"\"}, \"type\": \"choropleth\"}], \"contour\": [{\"colorbar\": {\"outlinewidth\": 0, \"ticks\": \"\"}, \"colorscale\": [[0.0, \"#0d0887\"], [0.1111111111111111, \"#46039f\"], [0.2222222222222222, \"#7201a8\"], [0.3333333333333333, \"#9c179e\"], [0.4444444444444444, \"#bd3786\"], [0.5555555555555556, \"#d8576b\"], [0.6666666666666666, \"#ed7953\"], [0.7777777777777778, \"#fb9f3a\"], [0.8888888888888888, \"#fdca26\"], [1.0, \"#f0f921\"]], \"type\": \"contour\"}], \"contourcarpet\": [{\"colorbar\": {\"outlinewidth\": 0, \"ticks\": \"\"}, \"type\": \"contourcarpet\"}], \"heatmap\": [{\"colorbar\": {\"outlinewidth\": 0, \"ticks\": \"\"}, \"colorscale\": [[0.0, \"#0d0887\"], [0.1111111111111111, \"#46039f\"], [0.2222222222222222, \"#7201a8\"], [0.3333333333333333, \"#9c179e\"], [0.4444444444444444, \"#bd3786\"], [0.5555555555555556, \"#d8576b\"], [0.6666666666666666, \"#ed7953\"], [0.7777777777777778, \"#fb9f3a\"], [0.8888888888888888, \"#fdca26\"], [1.0, \"#f0f921\"]], \"type\": \"heatmap\"}], \"heatmapgl\": [{\"colorbar\": {\"outlinewidth\": 0, \"ticks\": \"\"}, \"colorscale\": [[0.0, \"#0d0887\"], [0.1111111111111111, \"#46039f\"], [0.2222222222222222, \"#7201a8\"], [0.3333333333333333, \"#9c179e\"], [0.4444444444444444, \"#bd3786\"], [0.5555555555555556, \"#d8576b\"], [0.6666666666666666, \"#ed7953\"], [0.7777777777777778, \"#fb9f3a\"], [0.8888888888888888, \"#fdca26\"], [1.0, \"#f0f921\"]], \"type\": \"heatmapgl\"}], \"histogram\": [{\"marker\": {\"colorbar\": {\"outlinewidth\": 0, \"ticks\": \"\"}}, \"type\": \"histogram\"}], \"histogram2d\": [{\"colorbar\": {\"outlinewidth\": 0, \"ticks\": \"\"}, \"colorscale\": [[0.0, \"#0d0887\"], [0.1111111111111111, \"#46039f\"], [0.2222222222222222, \"#7201a8\"], [0.3333333333333333, \"#9c179e\"], [0.4444444444444444, \"#bd3786\"], [0.5555555555555556, \"#d8576b\"], [0.6666666666666666, \"#ed7953\"], [0.7777777777777778, \"#fb9f3a\"], [0.8888888888888888, \"#fdca26\"], [1.0, \"#f0f921\"]], \"type\": \"histogram2d\"}], \"histogram2dcontour\": [{\"colorbar\": {\"outlinewidth\": 0, \"ticks\": \"\"}, \"colorscale\": [[0.0, \"#0d0887\"], [0.1111111111111111, \"#46039f\"], [0.2222222222222222, \"#7201a8\"], [0.3333333333333333, \"#9c179e\"], [0.4444444444444444, \"#bd3786\"], [0.5555555555555556, \"#d8576b\"], [0.6666666666666666, \"#ed7953\"], [0.7777777777777778, \"#fb9f3a\"], [0.8888888888888888, \"#fdca26\"], [1.0, \"#f0f921\"]], \"type\": \"histogram2dcontour\"}], \"mesh3d\": [{\"colorbar\": {\"outlinewidth\": 0, \"ticks\": \"\"}, \"type\": \"mesh3d\"}], \"parcoords\": [{\"line\": {\"colorbar\": {\"outlinewidth\": 0, \"ticks\": \"\"}}, \"type\": \"parcoords\"}], \"pie\": [{\"automargin\": true, \"type\": \"pie\"}], \"scatter\": [{\"marker\": {\"colorbar\": {\"outlinewidth\": 0, \"ticks\": \"\"}}, \"type\": \"scatter\"}], \"scatter3d\": [{\"line\": {\"colorbar\": {\"outlinewidth\": 0, \"ticks\": \"\"}}, \"marker\": {\"colorbar\": {\"outlinewidth\": 0, \"ticks\": \"\"}}, \"type\": \"scatter3d\"}], \"scattercarpet\": [{\"marker\": {\"colorbar\": {\"outlinewidth\": 0, \"ticks\": \"\"}}, \"type\": \"scattercarpet\"}], \"scattergeo\": [{\"marker\": {\"colorbar\": {\"outlinewidth\": 0, \"ticks\": \"\"}}, \"type\": \"scattergeo\"}], \"scattergl\": [{\"marker\": {\"colorbar\": {\"outlinewidth\": 0, \"ticks\": \"\"}}, \"type\": \"scattergl\"}], \"scattermapbox\": [{\"marker\": {\"colorbar\": {\"outlinewidth\": 0, \"ticks\": \"\"}}, \"type\": \"scattermapbox\"}], \"scatterpolar\": [{\"marker\": {\"colorbar\": {\"outlinewidth\": 0, \"ticks\": \"\"}}, \"type\": \"scatterpolar\"}], \"scatterpolargl\": [{\"marker\": {\"colorbar\": {\"outlinewidth\": 0, \"ticks\": \"\"}}, \"type\": \"scatterpolargl\"}], \"scatterternary\": [{\"marker\": {\"colorbar\": {\"outlinewidth\": 0, \"ticks\": \"\"}}, \"type\": \"scatterternary\"}], \"surface\": [{\"colorbar\": {\"outlinewidth\": 0, \"ticks\": \"\"}, \"colorscale\": [[0.0, \"#0d0887\"], [0.1111111111111111, \"#46039f\"], [0.2222222222222222, \"#7201a8\"], [0.3333333333333333, \"#9c179e\"], [0.4444444444444444, \"#bd3786\"], [0.5555555555555556, \"#d8576b\"], [0.6666666666666666, \"#ed7953\"], [0.7777777777777778, \"#fb9f3a\"], [0.8888888888888888, \"#fdca26\"], [1.0, \"#f0f921\"]], \"type\": \"surface\"}], \"table\": [{\"cells\": {\"fill\": {\"color\": \"#EBF0F8\"}, \"line\": {\"color\": \"white\"}}, \"header\": {\"fill\": {\"color\": \"#C8D4E3\"}, \"line\": {\"color\": \"white\"}}, \"type\": \"table\"}]}, \"layout\": {\"annotationdefaults\": {\"arrowcolor\": \"#2a3f5f\", \"arrowhead\": 0, \"arrowwidth\": 1}, \"autotypenumbers\": \"strict\", \"coloraxis\": {\"colorbar\": {\"outlinewidth\": 0, \"ticks\": \"\"}}, \"colorscale\": {\"diverging\": [[0, \"#8e0152\"], [0.1, \"#c51b7d\"], [0.2, \"#de77ae\"], [0.3, \"#f1b6da\"], [0.4, \"#fde0ef\"], [0.5, \"#f7f7f7\"], [0.6, \"#e6f5d0\"], [0.7, \"#b8e186\"], [0.8, \"#7fbc41\"], [0.9, \"#4d9221\"], [1, \"#276419\"]], \"sequential\": [[0.0, \"#0d0887\"], [0.1111111111111111, \"#46039f\"], [0.2222222222222222, \"#7201a8\"], [0.3333333333333333, \"#9c179e\"], [0.4444444444444444, \"#bd3786\"], [0.5555555555555556, \"#d8576b\"], [0.6666666666666666, \"#ed7953\"], [0.7777777777777778, \"#fb9f3a\"], [0.8888888888888888, \"#fdca26\"], [1.0, \"#f0f921\"]], \"sequentialminus\": [[0.0, \"#0d0887\"], [0.1111111111111111, \"#46039f\"], [0.2222222222222222, \"#7201a8\"], [0.3333333333333333, \"#9c179e\"], [0.4444444444444444, \"#bd3786\"], [0.5555555555555556, \"#d8576b\"], [0.6666666666666666, \"#ed7953\"], [0.7777777777777778, \"#fb9f3a\"], [0.8888888888888888, \"#fdca26\"], [1.0, \"#f0f921\"]]}, \"colorway\": [\"#636efa\", \"#EF553B\", \"#00cc96\", \"#ab63fa\", \"#FFA15A\", \"#19d3f3\", \"#FF6692\", \"#B6E880\", \"#FF97FF\", \"#FECB52\"], \"font\": {\"color\": \"#2a3f5f\"}, \"geo\": {\"bgcolor\": \"white\", \"lakecolor\": \"white\", \"landcolor\": \"#E5ECF6\", \"showlakes\": true, \"showland\": true, \"subunitcolor\": \"white\"}, \"hoverlabel\": {\"align\": \"left\"}, \"hovermode\": \"closest\", \"mapbox\": {\"style\": \"light\"}, \"paper_bgcolor\": \"white\", \"plot_bgcolor\": \"#E5ECF6\", \"polar\": {\"angularaxis\": {\"gridcolor\": \"white\", \"linecolor\": \"white\", \"ticks\": \"\"}, \"bgcolor\": \"#E5ECF6\", \"radialaxis\": {\"gridcolor\": \"white\", \"linecolor\": \"white\", \"ticks\": \"\"}}, \"scene\": {\"xaxis\": {\"backgroundcolor\": \"#E5ECF6\", \"gridcolor\": \"white\", \"gridwidth\": 2, \"linecolor\": \"white\", \"showbackground\": true, \"ticks\": \"\", \"zerolinecolor\": \"white\"}, \"yaxis\": {\"backgroundcolor\": \"#E5ECF6\", \"gridcolor\": \"white\", \"gridwidth\": 2, \"linecolor\": \"white\", \"showbackground\": true, \"ticks\": \"\", \"zerolinecolor\": \"white\"}, \"zaxis\": {\"backgroundcolor\": \"#E5ECF6\", \"gridcolor\": \"white\", \"gridwidth\": 2, \"linecolor\": \"white\", \"showbackground\": true, \"ticks\": \"\", \"zerolinecolor\": \"white\"}}, \"shapedefaults\": {\"line\": {\"color\": \"#2a3f5f\"}}, \"ternary\": {\"aaxis\": {\"gridcolor\": \"white\", \"linecolor\": \"white\", \"ticks\": \"\"}, \"baxis\": {\"gridcolor\": \"white\", \"linecolor\": \"white\", \"ticks\": \"\"}, \"bgcolor\": \"#E5ECF6\", \"caxis\": {\"gridcolor\": \"white\", \"linecolor\": \"white\", \"ticks\": \"\"}}, \"title\": {\"x\": 0.05}, \"xaxis\": {\"automargin\": true, \"gridcolor\": \"white\", \"linecolor\": \"white\", \"ticks\": \"\", \"title\": {\"standoff\": 15}, \"zerolinecolor\": \"white\", \"zerolinewidth\": 2}, \"yaxis\": {\"automargin\": true, \"gridcolor\": \"white\", \"linecolor\": \"white\", \"ticks\": \"\", \"title\": {\"standoff\": 15}, \"zerolinecolor\": \"white\", \"zerolinewidth\": 2}}}, \"title\": {\"text\": \"Age Distribution\", \"x\": 0.5}},                        {\"responsive\": true}                    ).then(function(){\n",
       "                            \n",
       "var gd = document.getElementById('b5df5be6-380e-453e-a134-474043d9c7fc');\n",
       "var x = new MutationObserver(function (mutations, observer) {{\n",
       "        var display = window.getComputedStyle(gd).display;\n",
       "        if (!display || display === 'none') {{\n",
       "            console.log([gd, 'removed!']);\n",
       "            Plotly.purge(gd);\n",
       "            observer.disconnect();\n",
       "        }}\n",
       "}});\n",
       "\n",
       "// Listen for the removal of the full notebook cells\n",
       "var notebookContainer = gd.closest('#notebook-container');\n",
       "if (notebookContainer) {{\n",
       "    x.observe(notebookContainer, {childList: true});\n",
       "}}\n",
       "\n",
       "// Listen for the clearing of the current output cell\n",
       "var outputEl = gd.closest('.output');\n",
       "if (outputEl) {{\n",
       "    x.observe(outputEl, {childList: true});\n",
       "}}\n",
       "\n",
       "                        })                };                });            </script>        </div>"
      ]
     },
     "metadata": {},
     "output_type": "display_data"
    }
   ],
   "source": [
    "df_Age=df['Age'].value_counts().to_frame().reset_index().rename(columns={'index':'Age','Age':'count'})\n",
    "\n",
    "\n",
    "fig = go.Figure([go.Pie(labels=df_Age['Age'], values=df_Age['count'], pull=[0.2,0,0],hole=0.4)])\n",
    "\n",
    "fig.update_traces(hoverinfo='label+percent', textinfo='value+percent', textfont_size=12,insidetextorientation='radial')\n",
    "\n",
    "fig.update_layout(title=\"Age Distribution\",title_x=0.5)\n",
    "fig.show()"
   ]
  },
  {
   "cell_type": "code",
   "execution_count": 16,
   "metadata": {
    "execution": {
     "iopub.execute_input": "2021-02-21T23:25:16.333493Z",
     "iopub.status.busy": "2021-02-21T23:25:16.332553Z",
     "iopub.status.idle": "2021-02-21T23:25:16.437350Z",
     "shell.execute_reply": "2021-02-21T23:25:16.438225Z"
    },
    "papermill": {
     "duration": 0.164067,
     "end_time": "2021-02-21T23:25:16.438637",
     "exception": false,
     "start_time": "2021-02-21T23:25:16.274570",
     "status": "completed"
    },
    "tags": []
   },
   "outputs": [
    {
     "data": {
      "text/html": [
       "<div>                            <div id=\"e5a6317a-cece-48bc-ab05-82632df8c949\" class=\"plotly-graph-div\" style=\"height:525px; width:100%;\"></div>            <script type=\"text/javascript\">                require([\"plotly\"], function(Plotly) {                    window.PLOTLYENV=window.PLOTLYENV || {};                                    if (document.getElementById(\"e5a6317a-cece-48bc-ab05-82632df8c949\")) {                    Plotly.newPlot(                        \"e5a6317a-cece-48bc-ab05-82632df8c949\",                        [{\"marker\": {\"color\": [508, 287, 205], \"colorscale\": [[0.0, \"#440154\"], [0.1111111111111111, \"#482878\"], [0.2222222222222222, \"#3e4989\"], [0.3333333333333333, \"#31688e\"], [0.4444444444444444, \"#26828e\"], [0.5555555555555556, \"#1f9e89\"], [0.6666666666666666, \"#35b779\"], [0.7777777777777778, \"#6ece58\"], [0.8888888888888888, \"#b5de2b\"], [1.0, \"#fde725\"]]}, \"text\": [508.0, 287.0, 205.0], \"textposition\": \"outside\", \"type\": \"bar\", \"x\": [\"Middle\", \"Young\", \"Old\"], \"y\": [508, 287, 205]}],                        {\"template\": {\"data\": {\"bar\": [{\"error_x\": {\"color\": \"#2a3f5f\"}, \"error_y\": {\"color\": \"#2a3f5f\"}, \"marker\": {\"line\": {\"color\": \"#E5ECF6\", \"width\": 0.5}}, \"type\": \"bar\"}], \"barpolar\": [{\"marker\": {\"line\": {\"color\": \"#E5ECF6\", \"width\": 0.5}}, \"type\": \"barpolar\"}], \"carpet\": [{\"aaxis\": {\"endlinecolor\": \"#2a3f5f\", \"gridcolor\": \"white\", \"linecolor\": \"white\", \"minorgridcolor\": \"white\", \"startlinecolor\": \"#2a3f5f\"}, \"baxis\": {\"endlinecolor\": \"#2a3f5f\", \"gridcolor\": \"white\", \"linecolor\": \"white\", \"minorgridcolor\": \"white\", \"startlinecolor\": \"#2a3f5f\"}, \"type\": \"carpet\"}], \"choropleth\": [{\"colorbar\": {\"outlinewidth\": 0, \"ticks\": \"\"}, \"type\": \"choropleth\"}], \"contour\": [{\"colorbar\": {\"outlinewidth\": 0, \"ticks\": \"\"}, \"colorscale\": [[0.0, \"#0d0887\"], [0.1111111111111111, \"#46039f\"], [0.2222222222222222, \"#7201a8\"], [0.3333333333333333, \"#9c179e\"], [0.4444444444444444, \"#bd3786\"], [0.5555555555555556, \"#d8576b\"], [0.6666666666666666, \"#ed7953\"], [0.7777777777777778, \"#fb9f3a\"], [0.8888888888888888, \"#fdca26\"], [1.0, \"#f0f921\"]], \"type\": \"contour\"}], \"contourcarpet\": [{\"colorbar\": {\"outlinewidth\": 0, \"ticks\": \"\"}, \"type\": \"contourcarpet\"}], \"heatmap\": [{\"colorbar\": {\"outlinewidth\": 0, \"ticks\": \"\"}, \"colorscale\": [[0.0, \"#0d0887\"], [0.1111111111111111, \"#46039f\"], [0.2222222222222222, \"#7201a8\"], [0.3333333333333333, \"#9c179e\"], [0.4444444444444444, \"#bd3786\"], [0.5555555555555556, \"#d8576b\"], [0.6666666666666666, \"#ed7953\"], [0.7777777777777778, \"#fb9f3a\"], [0.8888888888888888, \"#fdca26\"], [1.0, \"#f0f921\"]], \"type\": \"heatmap\"}], \"heatmapgl\": [{\"colorbar\": {\"outlinewidth\": 0, \"ticks\": \"\"}, \"colorscale\": [[0.0, \"#0d0887\"], [0.1111111111111111, \"#46039f\"], [0.2222222222222222, \"#7201a8\"], [0.3333333333333333, \"#9c179e\"], [0.4444444444444444, \"#bd3786\"], [0.5555555555555556, \"#d8576b\"], [0.6666666666666666, \"#ed7953\"], [0.7777777777777778, \"#fb9f3a\"], [0.8888888888888888, \"#fdca26\"], [1.0, \"#f0f921\"]], \"type\": \"heatmapgl\"}], \"histogram\": [{\"marker\": {\"colorbar\": {\"outlinewidth\": 0, \"ticks\": \"\"}}, \"type\": \"histogram\"}], \"histogram2d\": [{\"colorbar\": {\"outlinewidth\": 0, \"ticks\": \"\"}, \"colorscale\": [[0.0, \"#0d0887\"], [0.1111111111111111, \"#46039f\"], [0.2222222222222222, \"#7201a8\"], [0.3333333333333333, \"#9c179e\"], [0.4444444444444444, \"#bd3786\"], [0.5555555555555556, \"#d8576b\"], [0.6666666666666666, \"#ed7953\"], [0.7777777777777778, \"#fb9f3a\"], [0.8888888888888888, \"#fdca26\"], [1.0, \"#f0f921\"]], \"type\": \"histogram2d\"}], \"histogram2dcontour\": [{\"colorbar\": {\"outlinewidth\": 0, \"ticks\": \"\"}, \"colorscale\": [[0.0, \"#0d0887\"], [0.1111111111111111, \"#46039f\"], [0.2222222222222222, \"#7201a8\"], [0.3333333333333333, \"#9c179e\"], [0.4444444444444444, \"#bd3786\"], [0.5555555555555556, \"#d8576b\"], [0.6666666666666666, \"#ed7953\"], [0.7777777777777778, \"#fb9f3a\"], [0.8888888888888888, \"#fdca26\"], [1.0, \"#f0f921\"]], \"type\": \"histogram2dcontour\"}], \"mesh3d\": [{\"colorbar\": {\"outlinewidth\": 0, \"ticks\": \"\"}, \"type\": \"mesh3d\"}], \"parcoords\": [{\"line\": {\"colorbar\": {\"outlinewidth\": 0, \"ticks\": \"\"}}, \"type\": \"parcoords\"}], \"pie\": [{\"automargin\": true, \"type\": \"pie\"}], \"scatter\": [{\"marker\": {\"colorbar\": {\"outlinewidth\": 0, \"ticks\": \"\"}}, \"type\": \"scatter\"}], \"scatter3d\": [{\"line\": {\"colorbar\": {\"outlinewidth\": 0, \"ticks\": \"\"}}, \"marker\": {\"colorbar\": {\"outlinewidth\": 0, \"ticks\": \"\"}}, \"type\": \"scatter3d\"}], \"scattercarpet\": [{\"marker\": {\"colorbar\": {\"outlinewidth\": 0, \"ticks\": \"\"}}, \"type\": \"scattercarpet\"}], \"scattergeo\": [{\"marker\": {\"colorbar\": {\"outlinewidth\": 0, \"ticks\": \"\"}}, \"type\": \"scattergeo\"}], \"scattergl\": [{\"marker\": {\"colorbar\": {\"outlinewidth\": 0, \"ticks\": \"\"}}, \"type\": \"scattergl\"}], \"scattermapbox\": [{\"marker\": {\"colorbar\": {\"outlinewidth\": 0, \"ticks\": \"\"}}, \"type\": \"scattermapbox\"}], \"scatterpolar\": [{\"marker\": {\"colorbar\": {\"outlinewidth\": 0, \"ticks\": \"\"}}, \"type\": \"scatterpolar\"}], \"scatterpolargl\": [{\"marker\": {\"colorbar\": {\"outlinewidth\": 0, \"ticks\": \"\"}}, \"type\": \"scatterpolargl\"}], \"scatterternary\": [{\"marker\": {\"colorbar\": {\"outlinewidth\": 0, \"ticks\": \"\"}}, \"type\": \"scatterternary\"}], \"surface\": [{\"colorbar\": {\"outlinewidth\": 0, \"ticks\": \"\"}, \"colorscale\": [[0.0, \"#0d0887\"], [0.1111111111111111, \"#46039f\"], [0.2222222222222222, \"#7201a8\"], [0.3333333333333333, \"#9c179e\"], [0.4444444444444444, \"#bd3786\"], [0.5555555555555556, \"#d8576b\"], [0.6666666666666666, \"#ed7953\"], [0.7777777777777778, \"#fb9f3a\"], [0.8888888888888888, \"#fdca26\"], [1.0, \"#f0f921\"]], \"type\": \"surface\"}], \"table\": [{\"cells\": {\"fill\": {\"color\": \"#EBF0F8\"}, \"line\": {\"color\": \"white\"}}, \"header\": {\"fill\": {\"color\": \"#C8D4E3\"}, \"line\": {\"color\": \"white\"}}, \"type\": \"table\"}]}, \"layout\": {\"annotationdefaults\": {\"arrowcolor\": \"#2a3f5f\", \"arrowhead\": 0, \"arrowwidth\": 1}, \"autotypenumbers\": \"strict\", \"coloraxis\": {\"colorbar\": {\"outlinewidth\": 0, \"ticks\": \"\"}}, \"colorscale\": {\"diverging\": [[0, \"#8e0152\"], [0.1, \"#c51b7d\"], [0.2, \"#de77ae\"], [0.3, \"#f1b6da\"], [0.4, \"#fde0ef\"], [0.5, \"#f7f7f7\"], [0.6, \"#e6f5d0\"], [0.7, \"#b8e186\"], [0.8, \"#7fbc41\"], [0.9, \"#4d9221\"], [1, \"#276419\"]], \"sequential\": [[0.0, \"#0d0887\"], [0.1111111111111111, \"#46039f\"], [0.2222222222222222, \"#7201a8\"], [0.3333333333333333, \"#9c179e\"], [0.4444444444444444, \"#bd3786\"], [0.5555555555555556, \"#d8576b\"], [0.6666666666666666, \"#ed7953\"], [0.7777777777777778, \"#fb9f3a\"], [0.8888888888888888, \"#fdca26\"], [1.0, \"#f0f921\"]], \"sequentialminus\": [[0.0, \"#0d0887\"], [0.1111111111111111, \"#46039f\"], [0.2222222222222222, \"#7201a8\"], [0.3333333333333333, \"#9c179e\"], [0.4444444444444444, \"#bd3786\"], [0.5555555555555556, \"#d8576b\"], [0.6666666666666666, \"#ed7953\"], [0.7777777777777778, \"#fb9f3a\"], [0.8888888888888888, \"#fdca26\"], [1.0, \"#f0f921\"]]}, \"colorway\": [\"#636efa\", \"#EF553B\", \"#00cc96\", \"#ab63fa\", \"#FFA15A\", \"#19d3f3\", \"#FF6692\", \"#B6E880\", \"#FF97FF\", \"#FECB52\"], \"font\": {\"color\": \"#2a3f5f\"}, \"geo\": {\"bgcolor\": \"white\", \"lakecolor\": \"white\", \"landcolor\": \"#E5ECF6\", \"showlakes\": true, \"showland\": true, \"subunitcolor\": \"white\"}, \"hoverlabel\": {\"align\": \"left\"}, \"hovermode\": \"closest\", \"mapbox\": {\"style\": \"light\"}, \"paper_bgcolor\": \"white\", \"plot_bgcolor\": \"#E5ECF6\", \"polar\": {\"angularaxis\": {\"gridcolor\": \"white\", \"linecolor\": \"white\", \"ticks\": \"\"}, \"bgcolor\": \"#E5ECF6\", \"radialaxis\": {\"gridcolor\": \"white\", \"linecolor\": \"white\", \"ticks\": \"\"}}, \"scene\": {\"xaxis\": {\"backgroundcolor\": \"#E5ECF6\", \"gridcolor\": \"white\", \"gridwidth\": 2, \"linecolor\": \"white\", \"showbackground\": true, \"ticks\": \"\", \"zerolinecolor\": \"white\"}, \"yaxis\": {\"backgroundcolor\": \"#E5ECF6\", \"gridcolor\": \"white\", \"gridwidth\": 2, \"linecolor\": \"white\", \"showbackground\": true, \"ticks\": \"\", \"zerolinecolor\": \"white\"}, \"zaxis\": {\"backgroundcolor\": \"#E5ECF6\", \"gridcolor\": \"white\", \"gridwidth\": 2, \"linecolor\": \"white\", \"showbackground\": true, \"ticks\": \"\", \"zerolinecolor\": \"white\"}}, \"shapedefaults\": {\"line\": {\"color\": \"#2a3f5f\"}}, \"ternary\": {\"aaxis\": {\"gridcolor\": \"white\", \"linecolor\": \"white\", \"ticks\": \"\"}, \"baxis\": {\"gridcolor\": \"white\", \"linecolor\": \"white\", \"ticks\": \"\"}, \"bgcolor\": \"#E5ECF6\", \"caxis\": {\"gridcolor\": \"white\", \"linecolor\": \"white\", \"ticks\": \"\"}}, \"title\": {\"x\": 0.05}, \"xaxis\": {\"automargin\": true, \"gridcolor\": \"white\", \"linecolor\": \"white\", \"ticks\": \"\", \"title\": {\"standoff\": 15}, \"zerolinecolor\": \"white\", \"zerolinewidth\": 2}, \"yaxis\": {\"automargin\": true, \"gridcolor\": \"white\", \"linecolor\": \"white\", \"ticks\": \"\", \"title\": {\"standoff\": 15}, \"zerolinecolor\": \"white\", \"zerolinewidth\": 2}}}, \"title\": {\"text\": \"Age Distribution\", \"x\": 0.5}, \"xaxis\": {\"title\": {\"text\": \"Age\"}}, \"yaxis\": {\"title\": {\"text\": \"Count \"}}},                        {\"responsive\": true}                    ).then(function(){\n",
       "                            \n",
       "var gd = document.getElementById('e5a6317a-cece-48bc-ab05-82632df8c949');\n",
       "var x = new MutationObserver(function (mutations, observer) {{\n",
       "        var display = window.getComputedStyle(gd).display;\n",
       "        if (!display || display === 'none') {{\n",
       "            console.log([gd, 'removed!']);\n",
       "            Plotly.purge(gd);\n",
       "            observer.disconnect();\n",
       "        }}\n",
       "}});\n",
       "\n",
       "// Listen for the removal of the full notebook cells\n",
       "var notebookContainer = gd.closest('#notebook-container');\n",
       "if (notebookContainer) {{\n",
       "    x.observe(notebookContainer, {childList: true});\n",
       "}}\n",
       "\n",
       "// Listen for the clearing of the current output cell\n",
       "var outputEl = gd.closest('.output');\n",
       "if (outputEl) {{\n",
       "    x.observe(outputEl, {childList: true});\n",
       "}}\n",
       "\n",
       "                        })                };                });            </script>        </div>"
      ]
     },
     "metadata": {},
     "output_type": "display_data"
    }
   ],
   "source": [
    "df_Age=df['Age'].value_counts().to_frame().reset_index().rename(columns={'index':'Age','Age':'count'})\n",
    "\n",
    "fig = go.Figure(go.Bar(\n",
    "    x=df_Age['Age'],y=df_Age['count'],\n",
    "    marker={'color': df_Age['count'], \n",
    "    'colorscale': 'Viridis'},  \n",
    "    text=df_Age['count'],\n",
    "    textposition = \"outside\",\n",
    "))\n",
    "fig.update_layout(title_text='Age Distribution',xaxis_title=\"Age\",yaxis_title=\"Count \",title_x=0.5)\n",
    "fig.show()"
   ]
  },
  {
   "cell_type": "code",
   "execution_count": 17,
   "metadata": {
    "execution": {
     "iopub.execute_input": "2021-02-21T23:25:16.511942Z",
     "iopub.status.busy": "2021-02-21T23:25:16.511234Z",
     "iopub.status.idle": "2021-02-21T23:25:16.536822Z",
     "shell.execute_reply": "2021-02-21T23:25:16.537399Z"
    },
    "papermill": {
     "duration": 0.068181,
     "end_time": "2021-02-21T23:25:16.537590",
     "exception": false,
     "start_time": "2021-02-21T23:25:16.469409",
     "status": "completed"
    },
    "tags": []
   },
   "outputs": [
    {
     "data": {
      "text/html": [
       "<div>\n",
       "<style scoped>\n",
       "    .dataframe tbody tr th:only-of-type {\n",
       "        vertical-align: middle;\n",
       "    }\n",
       "\n",
       "    .dataframe tbody tr th {\n",
       "        vertical-align: top;\n",
       "    }\n",
       "\n",
       "    .dataframe thead th {\n",
       "        text-align: right;\n",
       "    }\n",
       "</style>\n",
       "<table border=\"1\" class=\"dataframe\">\n",
       "  <thead>\n",
       "    <tr style=\"text-align: right;\">\n",
       "      <th></th>\n",
       "      <th>Age</th>\n",
       "      <th>AVG_Salary</th>\n",
       "      <th>AVG_AmountSpent</th>\n",
       "    </tr>\n",
       "  </thead>\n",
       "  <tbody>\n",
       "    <tr>\n",
       "      <th>0</th>\n",
       "      <td>Middle</td>\n",
       "      <td>72036.42</td>\n",
       "      <td>1501.69</td>\n",
       "    </tr>\n",
       "    <tr>\n",
       "      <th>1</th>\n",
       "      <td>Old</td>\n",
       "      <td>56365.85</td>\n",
       "      <td>1432.13</td>\n",
       "    </tr>\n",
       "    <tr>\n",
       "      <th>2</th>\n",
       "      <td>Young</td>\n",
       "      <td>27715.68</td>\n",
       "      <td>558.62</td>\n",
       "    </tr>\n",
       "  </tbody>\n",
       "</table>\n",
       "</div>"
      ],
      "text/plain": [
       "      Age  AVG_Salary  AVG_AmountSpent\n",
       "0  Middle    72036.42          1501.69\n",
       "1     Old    56365.85          1432.13\n",
       "2   Young    27715.68           558.62"
      ]
     },
     "execution_count": 17,
     "metadata": {},
     "output_type": "execute_result"
    }
   ],
   "source": [
    "df_Age_Salary=df.groupby(by =['Age'])['Salary'].mean().to_frame().reset_index().rename(columns={'Salary':'AVG_Salary'})\n",
    "df_Age_AmountSpent=df.groupby(by =['Age'])['AmountSpent'].mean().to_frame().reset_index().rename(columns={'Age':'Age1','AmountSpent':'AVG_AmountSpent'})\n",
    "result = pd.concat([df_Age_Salary,df_Age_AmountSpent], axis=1)\n",
    "result.drop(['Age1'],inplace=True,axis=1)\n",
    "result[\"AVG_Salary\"]=result[\"AVG_Salary\"].map(lambda x:round(x,2))\n",
    "result[\"AVG_AmountSpent\"]=result[\"AVG_AmountSpent\"].map(lambda x:round(x,2))\n",
    "result"
   ]
  },
  {
   "cell_type": "code",
   "execution_count": 18,
   "metadata": {
    "execution": {
     "iopub.execute_input": "2021-02-21T23:25:16.606040Z",
     "iopub.status.busy": "2021-02-21T23:25:16.605197Z",
     "iopub.status.idle": "2021-02-21T23:25:16.943250Z",
     "shell.execute_reply": "2021-02-21T23:25:16.942692Z"
    },
    "papermill": {
     "duration": 0.373628,
     "end_time": "2021-02-21T23:25:16.943435",
     "exception": false,
     "start_time": "2021-02-21T23:25:16.569807",
     "status": "completed"
    },
    "tags": []
   },
   "outputs": [
    {
     "data": {
      "text/html": [
       "<div>                            <div id=\"a4ee5f94-5d7c-4fec-91d9-64beea41aa64\" class=\"plotly-graph-div\" style=\"height:525px; width:100%;\"></div>            <script type=\"text/javascript\">                require([\"plotly\"], function(Plotly) {                    window.PLOTLYENV=window.PLOTLYENV || {};                                    if (document.getElementById(\"a4ee5f94-5d7c-4fec-91d9-64beea41aa64\")) {                    Plotly.newPlot(                        \"a4ee5f94-5d7c-4fec-91d9-64beea41aa64\",                        [{\"marker\": {\"color\": [72036.42, 56365.85, 27715.68], \"colorscale\": [[0.0, \"rgb(61, 89, 65)\"], [0.16666666666666666, \"rgb(119, 136, 104)\"], [0.3333333333333333, \"rgb(181, 185, 145)\"], [0.5, \"rgb(246, 237, 189)\"], [0.6666666666666666, \"rgb(237, 187, 138)\"], [0.8333333333333334, \"rgb(222, 138, 90)\"], [1.0, \"rgb(202, 86, 44)\"]]}, \"name\": \"Mean Salary\", \"text\": [72036.42, 56365.85, 27715.68], \"textposition\": \"inside\", \"type\": \"bar\", \"x\": [\"Middle\", \"Old\", \"Young\"], \"xaxis\": \"x\", \"y\": [72036.42, 56365.85, 27715.68], \"yaxis\": \"y\"}, {\"marker\": {\"color\": [1501.69, 1432.13, 558.62], \"colorscale\": [[0.0, \"rgb(61, 89, 65)\"], [0.16666666666666666, \"rgb(119, 136, 104)\"], [0.3333333333333333, \"rgb(181, 185, 145)\"], [0.5, \"rgb(246, 237, 189)\"], [0.6666666666666666, \"rgb(237, 187, 138)\"], [0.8333333333333334, \"rgb(222, 138, 90)\"], [1.0, \"rgb(202, 86, 44)\"]]}, \"name\": \"Mean Amount Spent\", \"text\": [1501.69, 1432.13, 558.62], \"textposition\": \"inside\", \"type\": \"bar\", \"x\": [\"Middle\", \"Old\", \"Young\"], \"xaxis\": \"x2\", \"y\": [1501.69, 1432.13, 558.62], \"yaxis\": \"y2\"}],                        {\"annotations\": [{\"font\": {\"size\": 16}, \"showarrow\": false, \"text\": \"Age AVG Salary \", \"x\": 0.5, \"xanchor\": \"center\", \"xref\": \"paper\", \"y\": 1.0, \"yanchor\": \"bottom\", \"yref\": \"paper\"}, {\"font\": {\"size\": 16}, \"showarrow\": false, \"text\": \"Age AVG Amount Spent \", \"x\": 0.5, \"xanchor\": \"center\", \"xref\": \"paper\", \"y\": 0.375, \"yanchor\": \"bottom\", \"yref\": \"paper\"}], \"template\": {\"data\": {\"bar\": [{\"error_x\": {\"color\": \"#2a3f5f\"}, \"error_y\": {\"color\": \"#2a3f5f\"}, \"marker\": {\"line\": {\"color\": \"#E5ECF6\", \"width\": 0.5}}, \"type\": \"bar\"}], \"barpolar\": [{\"marker\": {\"line\": {\"color\": \"#E5ECF6\", \"width\": 0.5}}, \"type\": \"barpolar\"}], \"carpet\": [{\"aaxis\": {\"endlinecolor\": \"#2a3f5f\", \"gridcolor\": \"white\", \"linecolor\": \"white\", \"minorgridcolor\": \"white\", \"startlinecolor\": \"#2a3f5f\"}, \"baxis\": {\"endlinecolor\": \"#2a3f5f\", \"gridcolor\": \"white\", \"linecolor\": \"white\", \"minorgridcolor\": \"white\", \"startlinecolor\": \"#2a3f5f\"}, \"type\": \"carpet\"}], \"choropleth\": [{\"colorbar\": {\"outlinewidth\": 0, \"ticks\": \"\"}, \"type\": \"choropleth\"}], \"contour\": [{\"colorbar\": {\"outlinewidth\": 0, \"ticks\": \"\"}, \"colorscale\": [[0.0, \"#0d0887\"], [0.1111111111111111, \"#46039f\"], [0.2222222222222222, \"#7201a8\"], [0.3333333333333333, \"#9c179e\"], [0.4444444444444444, \"#bd3786\"], [0.5555555555555556, \"#d8576b\"], [0.6666666666666666, \"#ed7953\"], [0.7777777777777778, \"#fb9f3a\"], [0.8888888888888888, \"#fdca26\"], [1.0, \"#f0f921\"]], \"type\": \"contour\"}], \"contourcarpet\": [{\"colorbar\": {\"outlinewidth\": 0, \"ticks\": \"\"}, \"type\": \"contourcarpet\"}], \"heatmap\": [{\"colorbar\": {\"outlinewidth\": 0, \"ticks\": \"\"}, \"colorscale\": [[0.0, \"#0d0887\"], [0.1111111111111111, \"#46039f\"], [0.2222222222222222, \"#7201a8\"], [0.3333333333333333, \"#9c179e\"], [0.4444444444444444, \"#bd3786\"], [0.5555555555555556, \"#d8576b\"], [0.6666666666666666, \"#ed7953\"], [0.7777777777777778, \"#fb9f3a\"], [0.8888888888888888, \"#fdca26\"], [1.0, \"#f0f921\"]], \"type\": \"heatmap\"}], \"heatmapgl\": [{\"colorbar\": {\"outlinewidth\": 0, \"ticks\": \"\"}, \"colorscale\": [[0.0, \"#0d0887\"], [0.1111111111111111, \"#46039f\"], [0.2222222222222222, \"#7201a8\"], [0.3333333333333333, \"#9c179e\"], [0.4444444444444444, \"#bd3786\"], [0.5555555555555556, \"#d8576b\"], [0.6666666666666666, \"#ed7953\"], [0.7777777777777778, \"#fb9f3a\"], [0.8888888888888888, \"#fdca26\"], [1.0, \"#f0f921\"]], \"type\": \"heatmapgl\"}], \"histogram\": [{\"marker\": {\"colorbar\": {\"outlinewidth\": 0, \"ticks\": \"\"}}, \"type\": \"histogram\"}], \"histogram2d\": [{\"colorbar\": {\"outlinewidth\": 0, \"ticks\": \"\"}, \"colorscale\": [[0.0, \"#0d0887\"], [0.1111111111111111, \"#46039f\"], [0.2222222222222222, \"#7201a8\"], [0.3333333333333333, \"#9c179e\"], [0.4444444444444444, \"#bd3786\"], [0.5555555555555556, \"#d8576b\"], [0.6666666666666666, \"#ed7953\"], [0.7777777777777778, \"#fb9f3a\"], [0.8888888888888888, \"#fdca26\"], [1.0, \"#f0f921\"]], \"type\": \"histogram2d\"}], \"histogram2dcontour\": [{\"colorbar\": {\"outlinewidth\": 0, \"ticks\": \"\"}, \"colorscale\": [[0.0, \"#0d0887\"], [0.1111111111111111, \"#46039f\"], [0.2222222222222222, \"#7201a8\"], [0.3333333333333333, \"#9c179e\"], [0.4444444444444444, \"#bd3786\"], [0.5555555555555556, \"#d8576b\"], [0.6666666666666666, \"#ed7953\"], [0.7777777777777778, \"#fb9f3a\"], [0.8888888888888888, \"#fdca26\"], [1.0, \"#f0f921\"]], \"type\": \"histogram2dcontour\"}], \"mesh3d\": [{\"colorbar\": {\"outlinewidth\": 0, \"ticks\": \"\"}, \"type\": \"mesh3d\"}], \"parcoords\": [{\"line\": {\"colorbar\": {\"outlinewidth\": 0, \"ticks\": \"\"}}, \"type\": \"parcoords\"}], \"pie\": [{\"automargin\": true, \"type\": \"pie\"}], \"scatter\": [{\"marker\": {\"colorbar\": {\"outlinewidth\": 0, \"ticks\": \"\"}}, \"type\": \"scatter\"}], \"scatter3d\": [{\"line\": {\"colorbar\": {\"outlinewidth\": 0, \"ticks\": \"\"}}, \"marker\": {\"colorbar\": {\"outlinewidth\": 0, \"ticks\": \"\"}}, \"type\": \"scatter3d\"}], \"scattercarpet\": [{\"marker\": {\"colorbar\": {\"outlinewidth\": 0, \"ticks\": \"\"}}, \"type\": \"scattercarpet\"}], \"scattergeo\": [{\"marker\": {\"colorbar\": {\"outlinewidth\": 0, \"ticks\": \"\"}}, \"type\": \"scattergeo\"}], \"scattergl\": [{\"marker\": {\"colorbar\": {\"outlinewidth\": 0, \"ticks\": \"\"}}, \"type\": \"scattergl\"}], \"scattermapbox\": [{\"marker\": {\"colorbar\": {\"outlinewidth\": 0, \"ticks\": \"\"}}, \"type\": \"scattermapbox\"}], \"scatterpolar\": [{\"marker\": {\"colorbar\": {\"outlinewidth\": 0, \"ticks\": \"\"}}, \"type\": \"scatterpolar\"}], \"scatterpolargl\": [{\"marker\": {\"colorbar\": {\"outlinewidth\": 0, \"ticks\": \"\"}}, \"type\": \"scatterpolargl\"}], \"scatterternary\": [{\"marker\": {\"colorbar\": {\"outlinewidth\": 0, \"ticks\": \"\"}}, \"type\": \"scatterternary\"}], \"surface\": [{\"colorbar\": {\"outlinewidth\": 0, \"ticks\": \"\"}, \"colorscale\": [[0.0, \"#0d0887\"], [0.1111111111111111, \"#46039f\"], [0.2222222222222222, \"#7201a8\"], [0.3333333333333333, \"#9c179e\"], [0.4444444444444444, \"#bd3786\"], [0.5555555555555556, \"#d8576b\"], [0.6666666666666666, \"#ed7953\"], [0.7777777777777778, \"#fb9f3a\"], [0.8888888888888888, \"#fdca26\"], [1.0, \"#f0f921\"]], \"type\": \"surface\"}], \"table\": [{\"cells\": {\"fill\": {\"color\": \"#EBF0F8\"}, \"line\": {\"color\": \"white\"}}, \"header\": {\"fill\": {\"color\": \"#C8D4E3\"}, \"line\": {\"color\": \"white\"}}, \"type\": \"table\"}]}, \"layout\": {\"annotationdefaults\": {\"arrowcolor\": \"#2a3f5f\", \"arrowhead\": 0, \"arrowwidth\": 1}, \"autotypenumbers\": \"strict\", \"coloraxis\": {\"colorbar\": {\"outlinewidth\": 0, \"ticks\": \"\"}}, \"colorscale\": {\"diverging\": [[0, \"#8e0152\"], [0.1, \"#c51b7d\"], [0.2, \"#de77ae\"], [0.3, \"#f1b6da\"], [0.4, \"#fde0ef\"], [0.5, \"#f7f7f7\"], [0.6, \"#e6f5d0\"], [0.7, \"#b8e186\"], [0.8, \"#7fbc41\"], [0.9, \"#4d9221\"], [1, \"#276419\"]], \"sequential\": [[0.0, \"#0d0887\"], [0.1111111111111111, \"#46039f\"], [0.2222222222222222, \"#7201a8\"], [0.3333333333333333, \"#9c179e\"], [0.4444444444444444, \"#bd3786\"], [0.5555555555555556, \"#d8576b\"], [0.6666666666666666, \"#ed7953\"], [0.7777777777777778, \"#fb9f3a\"], [0.8888888888888888, \"#fdca26\"], [1.0, \"#f0f921\"]], \"sequentialminus\": [[0.0, \"#0d0887\"], [0.1111111111111111, \"#46039f\"], [0.2222222222222222, \"#7201a8\"], [0.3333333333333333, \"#9c179e\"], [0.4444444444444444, \"#bd3786\"], [0.5555555555555556, \"#d8576b\"], [0.6666666666666666, \"#ed7953\"], [0.7777777777777778, \"#fb9f3a\"], [0.8888888888888888, \"#fdca26\"], [1.0, \"#f0f921\"]]}, \"colorway\": [\"#636efa\", \"#EF553B\", \"#00cc96\", \"#ab63fa\", \"#FFA15A\", \"#19d3f3\", \"#FF6692\", \"#B6E880\", \"#FF97FF\", \"#FECB52\"], \"font\": {\"color\": \"#2a3f5f\"}, \"geo\": {\"bgcolor\": \"white\", \"lakecolor\": \"white\", \"landcolor\": \"#E5ECF6\", \"showlakes\": true, \"showland\": true, \"subunitcolor\": \"white\"}, \"hoverlabel\": {\"align\": \"left\"}, \"hovermode\": \"closest\", \"mapbox\": {\"style\": \"light\"}, \"paper_bgcolor\": \"white\", \"plot_bgcolor\": \"#E5ECF6\", \"polar\": {\"angularaxis\": {\"gridcolor\": \"white\", \"linecolor\": \"white\", \"ticks\": \"\"}, \"bgcolor\": \"#E5ECF6\", \"radialaxis\": {\"gridcolor\": \"white\", \"linecolor\": \"white\", \"ticks\": \"\"}}, \"scene\": {\"xaxis\": {\"backgroundcolor\": \"#E5ECF6\", \"gridcolor\": \"white\", \"gridwidth\": 2, \"linecolor\": \"white\", \"showbackground\": true, \"ticks\": \"\", \"zerolinecolor\": \"white\"}, \"yaxis\": {\"backgroundcolor\": \"#E5ECF6\", \"gridcolor\": \"white\", \"gridwidth\": 2, \"linecolor\": \"white\", \"showbackground\": true, \"ticks\": \"\", \"zerolinecolor\": \"white\"}, \"zaxis\": {\"backgroundcolor\": \"#E5ECF6\", \"gridcolor\": \"white\", \"gridwidth\": 2, \"linecolor\": \"white\", \"showbackground\": true, \"ticks\": \"\", \"zerolinecolor\": \"white\"}}, \"shapedefaults\": {\"line\": {\"color\": \"#2a3f5f\"}}, \"ternary\": {\"aaxis\": {\"gridcolor\": \"white\", \"linecolor\": \"white\", \"ticks\": \"\"}, \"baxis\": {\"gridcolor\": \"white\", \"linecolor\": \"white\", \"ticks\": \"\"}, \"bgcolor\": \"#E5ECF6\", \"caxis\": {\"gridcolor\": \"white\", \"linecolor\": \"white\", \"ticks\": \"\"}}, \"title\": {\"x\": 0.05}, \"xaxis\": {\"automargin\": true, \"gridcolor\": \"white\", \"linecolor\": \"white\", \"ticks\": \"\", \"title\": {\"standoff\": 15}, \"zerolinecolor\": \"white\", \"zerolinewidth\": 2}, \"yaxis\": {\"automargin\": true, \"gridcolor\": \"white\", \"linecolor\": \"white\", \"ticks\": \"\", \"title\": {\"standoff\": 15}, \"zerolinecolor\": \"white\", \"zerolinewidth\": 2}}}, \"title\": {\"text\": \"Age \", \"x\": 0.5}, \"xaxis\": {\"anchor\": \"y\", \"domain\": [0.0, 1.0]}, \"xaxis2\": {\"anchor\": \"y2\", \"domain\": [0.0, 1.0]}, \"yaxis\": {\"anchor\": \"x\", \"domain\": [0.625, 1.0]}, \"yaxis2\": {\"anchor\": \"x2\", \"domain\": [0.0, 0.375]}},                        {\"responsive\": true}                    ).then(function(){\n",
       "                            \n",
       "var gd = document.getElementById('a4ee5f94-5d7c-4fec-91d9-64beea41aa64');\n",
       "var x = new MutationObserver(function (mutations, observer) {{\n",
       "        var display = window.getComputedStyle(gd).display;\n",
       "        if (!display || display === 'none') {{\n",
       "            console.log([gd, 'removed!']);\n",
       "            Plotly.purge(gd);\n",
       "            observer.disconnect();\n",
       "        }}\n",
       "}});\n",
       "\n",
       "// Listen for the removal of the full notebook cells\n",
       "var notebookContainer = gd.closest('#notebook-container');\n",
       "if (notebookContainer) {{\n",
       "    x.observe(notebookContainer, {childList: true});\n",
       "}}\n",
       "\n",
       "// Listen for the clearing of the current output cell\n",
       "var outputEl = gd.closest('.output');\n",
       "if (outputEl) {{\n",
       "    x.observe(outputEl, {childList: true});\n",
       "}}\n",
       "\n",
       "                        })                };                });            </script>        </div>"
      ]
     },
     "metadata": {},
     "output_type": "display_data"
    }
   ],
   "source": [
    "df_Age_Salary=df.groupby(by =['Age'])['Salary'].mean().to_frame().reset_index().rename(columns={'Salary':'AVG_Salary'})\n",
    "df_Age_AmountSpent=df.groupby(by =['Age'])['AmountSpent'].mean().to_frame().reset_index().rename(columns={'Age':'Age1','AmountSpent':'AVG_AmountSpent'})\n",
    "result = pd.concat([df_Age_Salary,df_Age_AmountSpent], axis=1)\n",
    "result.drop(['Age1'],inplace=True,axis=1)\n",
    "result[\"AVG_Salary\"]=result[\"AVG_Salary\"].map(lambda x:round(x,2))\n",
    "result[\"AVG_AmountSpent\"]=result[\"AVG_AmountSpent\"].map(lambda x:round(x,2))\n",
    "\n",
    "\n",
    "fig = make_subplots(rows=2, cols=1,\n",
    "                   subplot_titles=(\"Age AVG Salary \",\n",
    "                                   \"Age AVG Amount Spent \" ))  # Subplot titles\n",
    "                                  \n",
    "\n",
    "fig.add_trace(go.Bar(\n",
    "    x=result['Age'],y=result['AVG_Salary'],\n",
    "    name=\"Mean Salary\",\n",
    "    marker={'color': result['AVG_Salary'], \n",
    "    'colorscale': 'fall'},  \n",
    "    text=result['AVG_Salary'],\n",
    "    textposition = \"inside\"),\n",
    "    row=1, col=1         \n",
    ")\n",
    "fig.add_trace(go.Bar(\n",
    "    x=result['Age'],y=result['AVG_AmountSpent'],\n",
    "    name=\"Mean Amount Spent\",\n",
    "    marker={'color': result['AVG_AmountSpent'], \n",
    "    'colorscale': 'fall'},  \n",
    "    text=result['AVG_AmountSpent'],\n",
    "    textposition = \"inside\"),\n",
    "    row=2, col=1         \n",
    ")\n",
    "\n",
    "fig.update_layout(title = \"Age \",title_x=0.5)\n",
    "fig.show()"
   ]
  },
  {
   "cell_type": "code",
   "execution_count": 19,
   "metadata": {
    "execution": {
     "iopub.execute_input": "2021-02-21T23:25:17.014974Z",
     "iopub.status.busy": "2021-02-21T23:25:17.014236Z",
     "iopub.status.idle": "2021-02-21T23:25:19.760998Z",
     "shell.execute_reply": "2021-02-21T23:25:19.760399Z"
    },
    "papermill": {
     "duration": 2.785446,
     "end_time": "2021-02-21T23:25:19.761161",
     "exception": false,
     "start_time": "2021-02-21T23:25:16.975715",
     "status": "completed"
    },
    "tags": []
   },
   "outputs": [
    {
     "data": {
      "text/html": [
       "<div>                            <div id=\"322786f5-8455-4eee-88bb-8913ea415da2\" class=\"plotly-graph-div\" style=\"height:525px; width:100%;\"></div>            <script type=\"text/javascript\">                require([\"plotly\"], function(Plotly) {                    window.PLOTLYENV=window.PLOTLYENV || {};                                    if (document.getElementById(\"322786f5-8455-4eee-88bb-8913ea415da2\")) {                    Plotly.newPlot(                        \"322786f5-8455-4eee-88bb-8913ea415da2\",                        [{\"hovertemplate\": \"Age=Old<br>Salary=%{x}<br>AmountSpent=%{y}<extra></extra>\", \"legendgroup\": \"Old\", \"marker\": {\"color\": \"#636efa\", \"symbol\": \"circle\"}, \"mode\": \"markers\", \"name\": \"Old\", \"orientation\": \"v\", \"showlegend\": true, \"type\": \"scatter\", \"x\": [47500, 80700, 110000, 82800, 14000, 60200, 39700, 41600, 20100, 81500, 111500, 69800, 14600, 62600, 11400, 134500, 75500, 33600, 91800, 70700, 106600, 56300, 58300, 59700, 52500, 100100, 21400, 114800, 67900, 42600, 51200, 84800, 28500, 73100, 45700, 28900, 35000, 46900, 64600, 80000, 23600, 62200, 97000, 71200, 15000, 33000, 74400, 33200, 107400, 66300, 29000, 14600, 65300, 90200, 62000, 103300, 43300, 51900, 54600, 55500, 42800, 30900, 84300, 53400, 26800, 78800, 15400, 88400, 74800, 24000, 66300, 69100, 39600, 123000, 64600, 56600, 37000, 22800, 10100, 54600, 62300, 74900, 73300, 41300, 32700, 35200, 17900, 74700, 60000, 108900, 84100, 78900, 36100, 17300, 118800, 20400, 17600, 58700, 72900, 21200, 32400, 24400, 72200, 22000, 45900, 95900, 51400, 38200, 65900, 12800, 12600, 23800, 20600, 54700, 39900, 61000, 38700, 89000, 13900, 81800, 41700, 51000, 58200, 37500, 22800, 102700, 81400, 90500, 15100, 23800, 52200, 40100, 84500, 34500, 79300, 30300, 86500, 42500, 28300, 41900, 70400, 74500, 34500, 83700, 42800, 65500, 33600, 21500, 68600, 112800, 124900, 14900, 35900, 39500, 85300, 110700, 44400, 19700, 52000, 25900, 11000, 65900, 96200, 26700, 61000, 90600, 12700, 71800, 29200, 40600, 50500, 16300, 49200, 32500, 69400, 118000, 59300, 22400, 116100, 40200, 74900, 62800, 76900, 77600, 128700, 49600, 57900, 66200, 168800, 25500, 23400, 37000, 22600, 37300, 77300, 70900, 71300, 71800, 43600, 33000, 66200, 63200, 112900, 11700, 44800], \"xaxis\": \"x\", \"y\": [755, 3034, 5564, 3010, 410, 2328, 573, 982, 576, 3655, 2510, 2764, 468, 565, 258, 4558, 741, 805, 2452, 2150, 1877, 873, 1472, 1857, 2038, 3104, 498, 3596, 2925, 1790, 1293, 2624, 621, 1582, 724, 830, 473, 703, 1298, 1985, 161, 1583, 2599, 638, 378, 979, 2479, 1037, 1485, 2243, 482, 385, 1443, 2183, 3293, 3378, 1584, 1148, 2163, 858, 922, 862, 2842, 886, 435, 3398, 297, 3632, 1968, 357, 1088, 1477, 610, 3671, 2206, 1607, 632, 452, 93, 1246, 2644, 1474, 1694, 1985, 1252, 827, 446, 1699, 966, 1841, 2710, 2233, 438, 166, 2176, 513, 224, 1479, 753, 242, 515, 491, 3069, 736, 1645, 2585, 694, 526, 1436, 230, 164, 438, 201, 1404, 619, 1850, 1506, 1487, 191, 919, 1398, 1025, 981, 1578, 258, 2381, 3001, 863, 348, 428, 669, 1384, 1557, 802, 2047, 1062, 2690, 918, 933, 654, 2610, 1413, 639, 1582, 685, 1931, 573, 445, 1342, 1861, 4109, 275, 962, 1006, 2523, 2458, 886, 535, 2545, 582, 195, 777, 1457, 1120, 975, 3167, 65, 1946, 556, 690, 642, 317, 1078, 883, 2419, 581, 929, 947, 2975, 1197, 1804, 1403, 3230, 2004, 3995, 770, 1693, 1024, 1512, 636, 348, 850, 865, 673, 1853, 1685, 1543, 1389, 1047, 700, 2057, 1507, 6217, 540, 1417], \"yaxis\": \"y\"}, {\"hovertemplate\": \"<b>OLS trendline</b><br>AmountSpent = 0.0264089 * Salary + -56.4342<br>R<sup>2</sup>=0.580527<br><br>Age=Old<br>Salary=%{x}<br>AmountSpent=%{y} <b>(trend)</b><extra></extra>\", \"legendgroup\": \"Old\", \"marker\": {\"color\": \"#636efa\", \"symbol\": \"circle\"}, \"mode\": \"lines\", \"name\": \"Old\", \"showlegend\": false, \"type\": \"scatter\", \"x\": [10100, 11000, 11400, 11700, 12600, 12700, 12800, 13900, 14000, 14600, 14600, 14900, 15000, 15100, 15400, 16300, 17300, 17600, 17900, 19700, 20100, 20400, 20600, 21200, 21400, 21500, 22000, 22400, 22600, 22800, 22800, 23400, 23600, 23800, 23800, 24000, 24400, 25500, 25900, 26700, 26800, 28300, 28500, 28900, 29000, 29200, 30300, 30900, 32400, 32500, 32700, 33000, 33000, 33200, 33600, 33600, 34500, 34500, 35000, 35200, 35900, 36100, 37000, 37000, 37300, 37500, 38200, 38700, 39500, 39600, 39700, 39900, 40100, 40200, 40600, 41300, 41600, 41700, 41900, 42500, 42600, 42800, 42800, 43300, 43600, 44400, 44800, 45700, 45900, 46900, 47500, 49200, 49600, 50500, 51000, 51200, 51400, 51900, 52000, 52200, 52500, 53400, 54600, 54600, 54700, 55500, 56300, 56600, 57900, 58200, 58300, 58700, 59300, 59700, 60000, 60200, 61000, 61000, 62000, 62200, 62300, 62600, 62800, 63200, 64600, 64600, 65300, 65500, 65900, 65900, 66200, 66200, 66300, 66300, 67900, 68600, 69100, 69400, 69800, 70400, 70700, 70900, 71200, 71300, 71800, 71800, 72200, 72900, 73100, 73300, 74400, 74500, 74700, 74800, 74900, 74900, 75500, 76900, 77300, 77600, 78800, 78900, 79300, 80000, 80700, 81400, 81500, 81800, 82800, 83700, 84100, 84300, 84500, 84800, 85300, 86500, 88400, 89000, 90200, 90500, 90600, 91800, 95900, 96200, 97000, 100100, 102700, 103300, 106600, 107400, 108900, 110000, 110700, 111500, 112800, 112900, 114800, 116100, 118000, 118800, 123000, 124900, 128700, 134500, 168800], \"xaxis\": \"x\", \"y\": [210.2958207884312, 234.06384451815174, 244.62741062024978, 252.55008519682323, 276.3181089265438, 278.9590004520683, 281.59989197759285, 310.6496987583624, 313.29059028388684, 329.13593943703387, 329.13593943703387, 337.0586140136074, 339.6995055391319, 342.3403970646564, 350.2630716412299, 374.0310953709504, 400.4400106261955, 408.362685202769, 416.28535977934246, 463.8214072387836, 474.3849733408816, 482.3076479174551, 487.589430968504, 503.43478012165104, 508.7165631727001, 511.35745469822456, 524.5619123258471, 535.125478427945, 540.4072614789941, 545.6890445300431, 545.6890445300431, 561.53439368319, 566.8161767342391, 572.0979597852881, 572.0979597852881, 577.3797428363371, 587.9433089384352, 616.9931157192046, 627.5566818213027, 648.6838140254987, 651.3247055510232, 690.9380784338907, 696.2198614849398, 706.7834275870377, 709.4243191125623, 714.7061021636113, 743.7559089443808, 759.6012580975279, 799.2146309803953, 801.8555225059199, 807.1373055569688, 815.0599801335424, 815.0599801335424, 820.3417631845914, 830.9053292866894, 830.9053292866894, 854.6733530164099, 854.6733530164099, 867.8778106440325, 873.1595936950815, 891.645834373753, 896.927617424802, 920.6956411545225, 920.6956411545225, 928.618315731096, 933.900098782145, 952.3863394608165, 965.5907970884391, 986.7179292926352, 989.3588208181596, 991.9997123436841, 997.281495394733, 1002.5632784457822, 1005.2041699713067, 1015.7677360734045, 1034.2539767520764, 1042.1766513286498, 1044.8175428541742, 1050.0993259052234, 1065.9446750583704, 1068.585566583895, 1073.8673496349438, 1073.8673496349438, 1087.0718072625664, 1094.9944818391398, 1116.121614043336, 1126.6851801454338, 1150.4532038751545, 1155.7349869262034, 1182.1439021814485, 1197.9892513345956, 1242.884407268512, 1253.44797337061, 1277.2159971003305, 1290.420454727953, 1295.7022377790022, 1300.9840208300511, 1314.1884784576737, 1316.8293699831981, 1322.111153034247, 1330.0338276108207, 1353.8018513405411, 1385.4925496468352, 1385.4925496468352, 1388.1334411723597, 1409.2605733765556, 1430.3877055807518, 1438.3103801573252, 1472.6419699891437, 1480.5646445657173, 1483.2055360912418, 1493.76910219334, 1509.614451346487, 1520.1780174485848, 1528.1006920251584, 1533.3824750762074, 1554.5096072804033, 1554.5096072804033, 1580.9185225356484, 1586.2003055866974, 1588.8411971122218, 1596.7638716887955, 1602.0456547398444, 1612.6092208419425, 1649.5817021992855, 1649.5817021992855, 1668.067942877957, 1673.3497259290061, 1683.913292031104, 1683.913292031104, 1691.8359666076776, 1691.8359666076776, 1694.476858133202, 1694.476858133202, 1736.731122541594, 1755.2173632202657, 1768.421820847888, 1776.3444954244617, 1786.9080615265598, 1802.7534106797068, 1810.6760852562802, 1815.9578683073291, 1823.8805428839028, 1826.5214344094272, 1839.7258920370498, 1839.7258920370498, 1850.2894581391477, 1868.7756988178194, 1874.0574818688683, 1879.3392649199172, 1908.3890717006868, 1911.0299632262113, 1916.3117462772602, 1918.952637802785, 1921.5935293283094, 1921.5935293283094, 1937.4388784814564, 1974.4113598387994, 1984.9749259408975, 1992.8976005174711, 2024.5882988237652, 2027.2291903492894, 2037.7927564513873, 2056.278997130059, 2074.7652378087305, 2093.251478487402, 2095.892370012926, 2103.8150445895, 2130.223959844745, 2153.9919835744654, 2164.5555496765633, 2169.837332727612, 2175.1191157786616, 2183.0417903552348, 2196.2462479828573, 2227.9369462891514, 2278.113885274117, 2293.959234427264, 2325.649932733558, 2333.5726073101314, 2336.213498835656, 2367.90419714195, 2476.180749688455, 2484.1034242650285, 2505.230556469224, 2587.098193760484, 2655.761373424121, 2671.606722577268, 2758.7561429195766, 2779.883275123773, 2819.49664800664, 2848.54645478741, 2867.0326954660813, 2888.159827670277, 2922.491417502096, 2925.1323090276205, 2975.309248012586, 3009.6408378444044, 3059.81777682937, 3080.944909033566, 3191.862353105595, 3242.0392920905606, 3342.3931700604917, 3495.564878540913, 4401.390671795818], \"yaxis\": \"y\"}, {\"hovertemplate\": \"Age=Middle<br>Salary=%{x}<br>AmountSpent=%{y}<extra></extra>\", \"legendgroup\": \"Middle\", \"marker\": {\"color\": \"#EF553B\", \"symbol\": \"circle\"}, \"mode\": \"markers\", \"name\": \"Middle\", \"orientation\": \"v\", \"showlegend\": true, \"type\": \"scatter\", \"x\": [63600, 85600, 68400, 48100, 68400, 51900, 111800, 44100, 111400, 83100, 90100, 38600, 92300, 62800, 72900, 66900, 72200, 87700, 104100, 67700, 27000, 64100, 47000, 64000, 96800, 76200, 49600, 77700, 126500, 83300, 90500, 87200, 105300, 56000, 46600, 60300, 42300, 62700, 72500, 51300, 72300, 90400, 71500, 57600, 84300, 48800, 74700, 127000, 47200, 48700, 39000, 67300, 110400, 81200, 87100, 42200, 59000, 52700, 90700, 79600, 96400, 46600, 104900, 70200, 51900, 66800, 105300, 44200, 35200, 113000, 63300, 93400, 45400, 53700, 103700, 81700, 53700, 109800, 64200, 41400, 49100, 113600, 52900, 59600, 39700, 88200, 122100, 140000, 60300, 60200, 81200, 84800, 123600, 77800, 48700, 39000, 118300, 91000, 35300, 113800, 113400, 100100, 83900, 77000, 72900, 54700, 56900, 68700, 61500, 101700, 120800, 53300, 42800, 98400, 51200, 109200, 64000, 68700, 79900, 120000, 54400, 84200, 100800, 56700, 43200, 114100, 96100, 97200, 82400, 108200, 81800, 76100, 82100, 47500, 72200, 107600, 109900, 65400, 80600, 42700, 68200, 65900, 59700, 102800, 34700, 50600, 106700, 53900, 118600, 130700, 118300, 63500, 55900, 53900, 96900, 55800, 96700, 40200, 61800, 102500, 48900, 60300, 73700, 43700, 63300, 82500, 80800, 88100, 124800, 53300, 70200, 82400, 97900, 86900, 45100, 41800, 73000, 118500, 65300, 66300, 103900, 71900, 86100, 96300, 96300, 46700, 53700, 108300, 70000, 47900, 40500, 75800, 48600, 34600, 74500, 61400, 76400, 59100, 73800, 113300, 118400, 92300, 43500, 97500, 42500, 82800, 35600, 96900, 93500, 97300, 63000, 44600, 45100, 97400, 49200, 45000, 87200, 49900, 66900, 47600, 47900, 59400, 32700, 34200, 96600, 126300, 108100, 43300, 50100, 68800, 25700, 83700, 50500, 45800, 60500, 69900, 97100, 72200, 62500, 105500, 46100, 48400, 45600, 35200, 60200, 53900, 70400, 61600, 88700, 88600, 79500, 81400, 43300, 76700, 123000, 56300, 70000, 48100, 63700, 53900, 79400, 52400, 95100, 119800, 76700, 67600, 61500, 62200, 66500, 72100, 55600, 140700, 90300, 98400, 102400, 50500, 42000, 95800, 39900, 97500, 63000, 45500, 50700, 84700, 36900, 83100, 88700, 68900, 70900, 55900, 80800, 100600, 98900, 64300, 75600, 66600, 45600, 92900, 77100, 55900, 84100, 85600, 96300, 60500, 35800, 106100, 50000, 59900, 62800, 70000, 97400, 107400, 38400, 54200, 60200, 64800, 55600, 89500, 87000, 31200, 55500, 58600, 82200, 65400, 74400, 43900, 97600, 41300, 102400, 100000, 43300, 65800, 49700, 82300, 41200, 51900, 85500, 111900, 40400, 82400, 57800, 64600, 43100, 44500, 102300, 52600, 37800, 71600, 54700, 58600, 53800, 131500, 52200, 52100, 38700, 44100, 79200, 55100, 107300, 66500, 26200, 72200, 36700, 60200, 106400, 118800, 39500, 45900, 28200, 74600, 122700, 75500, 62900, 46600, 79700, 45900, 55600, 53300, 72200, 35100, 72000, 82400, 68500, 86400, 53800, 135700, 83500, 84200, 79900, 35300, 63700, 65800, 108100, 107300, 79500, 95900, 45200, 98500, 42700, 49700, 43000, 27200, 76600, 117500, 77600, 92400, 95800, 74500, 117700, 64100, 46500, 130600, 74400, 65400, 49100, 93700, 49000, 96500, 55600, 99600, 79900, 48100, 61300, 72600, 51100, 76800, 60200, 59100, 49500, 109600, 93000, 64300, 75400, 96100, 88600, 102600, 43700, 70500, 54200, 25300, 46600, 82700, 83000, 109800, 64400, 46300, 67900, 88500, 99200, 84100, 47000, 65800, 52800, 96500, 63500, 60400, 102700, 100100, 54400, 105600, 60100, 87400, 117900, 48800, 67900, 88000, 94200, 40200, 72200, 55200, 44600, 58400, 67800, 52600, 97600, 102500, 52300, 65400, 63800, 36700, 63200, 43100, 44800, 38200, 40700, 36400, 39100, 43800, 73200, 79000, 75200, 83600, 56200, 99300, 108000, 84900, 93000, 82000, 36900, 33200, 96800, 32100, 102700, 123800, 101700, 99200, 40500, 79000], \"xaxis\": \"x\", \"y\": [1318, 2436, 1304, 782, 1155, 158, 2065, 704, 2136, 2766, 1956, 542, 655, 707, 2075, 769, 2082, 2446, 2636, 2226, 183, 1595, 584, 410, 3082, 2437, 844, 983, 2000, 2574, 1116, 3604, 3360, 530, 906, 1263, 1051, 704, 2595, 1424, 4182, 2924, 964, 1006, 1648, 1647, 704, 1821, 1587, 528, 643, 1513, 1093, 1856, 1688, 1753, 3044, 855, 2265, 1575, 1822, 1153, 450, 1702, 1492, 2098, 3505, 2524, 607, 1554, 633, 3079, 1203, 235, 2339, 879, 1081, 4279, 1642, 223, 474, 3237, 2316, 1217, 238, 2749, 2408, 4894, 701, 1365, 2693, 1826, 1892, 1813, 1457, 292, 2681, 708, 1093, 3273, 1790, 3491, 1721, 2104, 252, 848, 1857, 1699, 1162, 2551, 5830, 1720, 759, 3305, 1257, 1102, 1552, 2763, 1165, 1926, 342, 1654, 1789, 536, 917, 1976, 316, 1634, 2035, 635, 1838, 719, 1308, 847, 2492, 1512, 870, 938, 2840, 827, 818, 1081, 1422, 2238, 1615, 713, 607, 735, 1553, 2070, 2502, 2321, 2555, 1186, 1420, 821, 1231, 881, 1156, 2464, 915, 2091, 1274, 950, 679, 859, 2444, 1078, 2537, 508, 1583, 657, 2149, 2230, 448, 301, 490, 3063, 193, 544, 2666, 1846, 1255, 1081, 3916, 983, 1194, 2224, 1227, 662, 622, 1830, 1583, 748, 1481, 1575, 881, 1426, 3120, 5151, 3941, 2141, 500, 2837, 798, 1544, 865, 1159, 1426, 3048, 1910, 236, 794, 880, 210, 902, 1274, 1631, 1220, 801, 1090, 1699, 273, 523, 1437, 1888, 2632, 326, 1071, 1658, 173, 3344, 1029, 712, 409, 2101, 1473, 715, 921, 1781, 418, 992, 1388, 233, 2304, 2177, 1127, 1666, 2448, 2563, 1763, 1014, 1021, 1431, 5878, 321, 1974, 1640, 364, 1060, 200, 857, 809, 2090, 534, 1172, 968, 2119, 286, 3052, 1786, 1001, 1944, 1414, 1237, 940, 232, 678, 586, 1280, 2107, 1624, 157, 2705, 371, 586, 2693, 2784, 794, 964, 1598, 2838, 3126, 1325, 1541, 1177, 1322, 1705, 568, 909, 2362, 3380, 1909, 340, 1355, 472, 1079, 613, 177, 785, 213, 1821, 188, 1405, 1364, 574, 984, 5209, 1594, 1087, 427, 624, 1517, 836, 1152, 358, 1162, 932, 2466, 2247, 716, 1017, 613, 580, 841, 1162, 895, 2340, 630, 2122, 1149, 2935, 1444, 1175, 2438, 1307, 1185, 1198, 1355, 989, 1803, 2840, 1909, 1668, 1009, 1659, 1905, 826, 1194, 1181, 381, 1811, 1218, 1748, 1757, 2631, 412, 716, 224, 705, 4984, 2450, 2561, 546, 3384, 416, 1553, 1598, 3278, 421, 1475, 1779, 1500, 1713, 843, 2746, 2098, 954, 1041, 1369, 1351, 578, 1133, 1566, 1651, 3168, 699, 2034, 541, 2844, 225, 243, 2904, 927, 858, 2191, 2581, 824, 2104, 1332, 829, 3442, 1893, 2290, 934, 1521, 1523, 1364, 952, 871, 295, 961, 1241, 1999, 1984, 1061, 1955, 580, 1195, 2318, 2644, 661, 2723, 1588, 212, 2546, 1344, 2145, 757, 451, 158, 1753, 726, 2258, 1913, 1138, 1418, 1104, 2796, 1352, 963, 869, 926, 3780, 1023, 791, 1473, 1597, 1150, 304, 1430, 2729, 1760, 1271, 356, 524, 1211, 1634, 1042, 1714, 966, 829, 680, 1773, 2902, 548, 2034, 2296, 1622, 529, 1932, 1224, 666, 1476, 232, 506, 1001, 606, 2177, 2279, 2702, 538, 1546, 1504, 1849, 3072, 1046, 1800, 514, 320, 2299, 405, 3785, 3537, 941, 5503, 1073, 671], \"yaxis\": \"y\"}, {\"hovertemplate\": \"<b>OLS trendline</b><br>AmountSpent = 0.0210153 * Salary + -12.1766<br>R<sup>2</sup>=0.294065<br><br>Age=Middle<br>Salary=%{x}<br>AmountSpent=%{y} <b>(trend)</b><extra></extra>\", \"legendgroup\": \"Middle\", \"marker\": {\"color\": \"#EF553B\", \"symbol\": \"circle\"}, \"mode\": \"lines\", \"name\": \"Middle\", \"showlegend\": false, \"type\": \"scatter\", \"x\": [25300, 25700, 26200, 27000, 27200, 28200, 31200, 32100, 32700, 33200, 34200, 34600, 34700, 35100, 35200, 35200, 35300, 35300, 35600, 35800, 36400, 36700, 36700, 36900, 36900, 37800, 38200, 38400, 38600, 38700, 39000, 39000, 39100, 39500, 39700, 39900, 40200, 40200, 40400, 40500, 40500, 40700, 41200, 41300, 41400, 41800, 42000, 42200, 42300, 42500, 42700, 42700, 42800, 43000, 43100, 43100, 43200, 43300, 43300, 43300, 43500, 43700, 43700, 43800, 43900, 44100, 44100, 44200, 44500, 44600, 44600, 44800, 45000, 45100, 45100, 45200, 45400, 45500, 45600, 45600, 45800, 45900, 45900, 46100, 46300, 46500, 46600, 46600, 46600, 46600, 46700, 47000, 47000, 47200, 47500, 47600, 47900, 47900, 48100, 48100, 48100, 48400, 48600, 48700, 48700, 48800, 48800, 48900, 49000, 49100, 49100, 49200, 49500, 49600, 49700, 49700, 49900, 50000, 50100, 50500, 50500, 50600, 50700, 51100, 51200, 51300, 51900, 51900, 51900, 52100, 52200, 52300, 52400, 52600, 52600, 52700, 52800, 52900, 53300, 53300, 53300, 53700, 53700, 53700, 53800, 53800, 53900, 53900, 53900, 53900, 54200, 54200, 54400, 54400, 54700, 54700, 55100, 55200, 55500, 55600, 55600, 55600, 55600, 55800, 55900, 55900, 55900, 56000, 56200, 56300, 56700, 56900, 57600, 57800, 58400, 58600, 58600, 59000, 59100, 59100, 59400, 59600, 59700, 59900, 60100, 60200, 60200, 60200, 60200, 60200, 60300, 60300, 60300, 60400, 60500, 60500, 61300, 61400, 61500, 61500, 61600, 61800, 62200, 62500, 62700, 62800, 62800, 62900, 63000, 63000, 63200, 63300, 63300, 63500, 63500, 63600, 63700, 63700, 63800, 64000, 64000, 64100, 64100, 64200, 64300, 64300, 64400, 64600, 64800, 65300, 65400, 65400, 65400, 65400, 65800, 65800, 65800, 65900, 66300, 66500, 66500, 66600, 66800, 66900, 66900, 67300, 67600, 67700, 67800, 67900, 67900, 68200, 68400, 68400, 68500, 68700, 68700, 68800, 68900, 69900, 70000, 70000, 70000, 70200, 70200, 70400, 70500, 70900, 71500, 71600, 71900, 72000, 72100, 72200, 72200, 72200, 72200, 72200, 72200, 72300, 72500, 72600, 72900, 72900, 73000, 73200, 73700, 73800, 74400, 74400, 74500, 74500, 74600, 74700, 75200, 75400, 75500, 75600, 75800, 76100, 76200, 76400, 76600, 76700, 76700, 76800, 77000, 77100, 77600, 77700, 77800, 79000, 79000, 79200, 79400, 79500, 79500, 79600, 79700, 79900, 79900, 79900, 80600, 80800, 80800, 81200, 81200, 81400, 81700, 81800, 82000, 82100, 82200, 82300, 82400, 82400, 82400, 82400, 82500, 82700, 82800, 83000, 83100, 83100, 83300, 83500, 83600, 83700, 83900, 84100, 84100, 84200, 84200, 84300, 84700, 84800, 84900, 85500, 85600, 85600, 86100, 86400, 86900, 87000, 87100, 87200, 87200, 87400, 87700, 88000, 88100, 88200, 88500, 88600, 88600, 88700, 88700, 89500, 90100, 90300, 90400, 90500, 90700, 91000, 92300, 92300, 92400, 92900, 93000, 93000, 93400, 93500, 93700, 94200, 95100, 95800, 95800, 95900, 96100, 96100, 96300, 96300, 96300, 96400, 96500, 96500, 96600, 96700, 96800, 96800, 96900, 96900, 97100, 97200, 97300, 97400, 97400, 97500, 97500, 97600, 97600, 97900, 98400, 98400, 98500, 98900, 99200, 99200, 99300, 99600, 100000, 100100, 100100, 100600, 100800, 101700, 101700, 102300, 102400, 102400, 102500, 102500, 102600, 102700, 102700, 102800, 103700, 103900, 104100, 104900, 105300, 105300, 105500, 105600, 106100, 106400, 106700, 107300, 107300, 107400, 107600, 108000, 108100, 108100, 108200, 108300, 109200, 109600, 109800, 109800, 109900, 110400, 111400, 111800, 111900, 113000, 113300, 113400, 113600, 113800, 114100, 117500, 117700, 117900, 118300, 118300, 118400, 118500, 118600, 118800, 119800, 120000, 120800, 122100, 122700, 123000, 123600, 123800, 124800, 126300, 126500, 127000, 130600, 130700, 131500, 135700, 140000, 140700], \"xaxis\": \"x\", \"y\": [519.5107000944747, 527.916823636234, 538.4244780634331, 555.2367251469516, 559.4397869178312, 580.4550957722294, 643.5010223354237, 662.4148003043821, 675.0239856170209, 685.53164004422, 706.5469488986181, 714.9530724403774, 717.0546033258172, 725.4607268675765, 727.5622577530163, 727.5622577530163, 729.663788638456, 729.663788638456, 735.9683812947756, 740.1714430656551, 752.7806283782941, 759.0852210346135, 759.0852210346135, 763.288282805493, 763.288282805493, 782.2020607744514, 790.6081843162107, 794.8112460870902, 799.0143078579699, 801.1158387434098, 807.4204313997292, 807.4204313997292, 809.521962285169, 817.9280858269283, 822.1311475978079, 826.3342093686875, 832.638802025007, 832.638802025007, 836.8418637958865, 838.9433946813264, 838.9433946813264, 843.1464564522059, 853.654110879405, 855.7556417648449, 857.8571726502847, 866.263296192044, 870.4663579629236, 874.6694197338032, 876.770950619243, 880.9740123901227, 885.1770741610022, 885.1770741610022, 887.2786050464421, 891.4816668173218, 893.5831977027615, 893.5831977027615, 895.6847285882013, 897.7862594736412, 897.7862594736412, 897.7862594736412, 901.9893212445207, 906.1923830154004, 906.1923830154004, 908.2939139008402, 910.39544478628, 914.5985065571597, 914.5985065571597, 916.7000374425994, 923.0046300989189, 925.1061609843587, 925.1061609843587, 929.3092227552384, 933.5122845261179, 935.6138154115578, 935.6138154115578, 937.7153462969976, 941.9184080678772, 944.019938953317, 946.1214698387569, 946.1214698387569, 950.3245316096364, 952.4260624950763, 952.4260624950763, 956.6291242659559, 960.8321860368355, 965.0352478077151, 967.136778693155, 967.136778693155, 967.136778693155, 967.136778693155, 969.2383095785948, 975.5429022349142, 975.5429022349142, 979.7459640057939, 986.0505566621133, 988.1520875475532, 994.4566802038726, 994.4566802038726, 998.6597419747521, 998.6597419747521, 998.6597419747521, 1004.9643346310717, 1009.1673964019512, 1011.2689272873911, 1011.2689272873911, 1013.3704581728309, 1013.3704581728309, 1015.4719890582708, 1017.5735199437104, 1019.6750508291502, 1019.6750508291502, 1021.7765817145901, 1028.0811743709096, 1030.1827052563494, 1032.2842361417893, 1032.2842361417893, 1036.4872979126687, 1038.5888287981086, 1040.6903596835484, 1049.0964832253078, 1049.0964832253078, 1051.1980141107474, 1053.2995449961873, 1061.7056685379466, 1063.8071994233865, 1065.908730308826, 1078.5179156214651, 1078.5179156214651, 1078.5179156214651, 1082.7209773923446, 1084.8225082777844, 1086.9240391632243, 1089.0255700486641, 1093.2286318195438, 1093.2286318195438, 1095.3301627049836, 1097.4316935904235, 1099.533224475863, 1107.9393480176225, 1107.9393480176225, 1107.9393480176225, 1116.3454715593816, 1116.3454715593816, 1116.3454715593816, 1118.4470024448215, 1118.4470024448215, 1120.5485333302613, 1120.5485333302613, 1120.5485333302613, 1120.5485333302613, 1126.8531259865808, 1126.8531259865808, 1131.0561877574603, 1131.0561877574603, 1137.3607804137798, 1137.3607804137798, 1145.7669039555392, 1147.8684348409788, 1154.1730274972983, 1156.2745583827382, 1156.2745583827382, 1156.2745583827382, 1156.2745583827382, 1160.4776201536179, 1162.5791510390577, 1162.5791510390577, 1162.5791510390577, 1164.6806819244973, 1168.883743695377, 1170.9852745808168, 1179.391398122576, 1183.5944598934557, 1198.3051760915343, 1202.508237862414, 1215.1174231750529, 1219.3204849459325, 1219.3204849459325, 1227.726608487692, 1229.8281393731315, 1229.8281393731315, 1236.132732029451, 1240.3357938003307, 1242.4373246857706, 1246.64038645665, 1250.8434482275297, 1252.9449791129696, 1252.9449791129696, 1252.9449791129696, 1252.9449791129696, 1252.9449791129696, 1255.0465099984094, 1255.0465099984094, 1255.0465099984094, 1257.1480408838493, 1259.249571769289, 1259.249571769289, 1276.0618188528076, 1278.1633497382472, 1280.264880623687, 1280.264880623687, 1282.366411509127, 1286.5694732800066, 1294.9755968217657, 1301.2801894780853, 1305.483251248965, 1307.5847821344048, 1307.5847821344048, 1309.6863130198444, 1311.7878439052843, 1311.7878439052843, 1315.990905676164, 1318.0924365616038, 1318.0924365616038, 1322.2954983324835, 1322.2954983324835, 1324.3970292179233, 1326.498560103363, 1326.498560103363, 1328.6000909888028, 1332.8031527596825, 1332.8031527596825, 1334.9046836451223, 1334.9046836451223, 1337.0062145305621, 1339.107745416002, 1339.107745416002, 1341.2092763014418, 1345.4123380723213, 1349.615399843201, 1360.1230542704, 1362.2245851558398, 1362.2245851558398, 1362.2245851558398, 1362.2245851558398, 1370.6307086975992, 1370.6307086975992, 1370.6307086975992, 1372.732239583039, 1381.1383631247982, 1385.3414248956778, 1385.3414248956778, 1387.4429557811177, 1391.6460175519971, 1393.747548437437, 1393.747548437437, 1402.1536719791964, 1408.4582646355157, 1410.5597955209555, 1412.6613264063953, 1414.7628572918352, 1414.7628572918352, 1421.0674499481547, 1425.2705117190342, 1425.2705117190342, 1427.372042604474, 1431.5751043753537, 1431.5751043753537, 1433.6766352607935, 1435.7781661462334, 1456.7934750006314, 1458.8950058860712, 1458.8950058860712, 1458.8950058860712, 1463.098067656951, 1463.098067656951, 1467.3011294278306, 1469.4026603132704, 1477.8087838550296, 1490.4179691676684, 1492.5195000531082, 1498.8240927094278, 1500.9256235948676, 1503.0271544803074, 1505.128685365747, 1505.128685365747, 1505.128685365747, 1505.128685365747, 1505.128685365747, 1505.128685365747, 1507.230216251187, 1511.4332780220666, 1513.5348089075064, 1519.8394015638257, 1519.8394015638257, 1521.9409324492656, 1526.1439942201453, 1536.6516486473442, 1538.753179532784, 1551.3623648454231, 1551.3623648454231, 1553.4638957308628, 1553.4638957308628, 1555.5654266163026, 1557.6669575017424, 1568.1746119289417, 1572.3776736998211, 1574.479204585261, 1576.5807354707008, 1580.7837972415805, 1587.0883898978998, 1589.1899207833396, 1593.3929825542193, 1597.596044325099, 1599.6975752105388, 1599.6975752105388, 1601.7991060959785, 1606.0021678668581, 1608.103698752298, 1618.611353179497, 1620.7128840649368, 1622.8144149503767, 1648.0327855756545, 1648.0327855756545, 1652.235847346534, 1656.4389091174137, 1658.5404400028535, 1658.5404400028535, 1660.6419708882934, 1662.7435017737332, 1666.9465635446127, 1666.9465635446127, 1666.9465635446127, 1681.6572797426916, 1685.860341513571, 1685.860341513571, 1694.2664650553304, 1694.2664650553304, 1698.4695268262099, 1704.7741194825294, 1706.8756503679692, 1711.078712138849, 1713.1802430242888, 1715.2817739097284, 1717.3833047951682, 1719.484835680608, 1719.484835680608, 1719.484835680608, 1719.484835680608, 1721.586366566048, 1725.7894283369276, 1727.8909592223674, 1732.0940209932469, 1734.1955518786867, 1734.1955518786867, 1738.3986136495664, 1742.601675420446, 1744.703206305886, 1746.8047371913256, 1751.0077989622052, 1755.210860733085, 1755.210860733085, 1757.3123916185248, 1757.3123916185248, 1759.4139225039646, 1767.8200460457238, 1769.9215769311636, 1772.0231078166034, 1784.6322931292423, 1786.733824014682, 1786.733824014682, 1797.241478441881, 1803.5460710982006, 1814.0537255253996, 1816.1552564108395, 1818.2567872962793, 1820.3583181817191, 1820.3583181817191, 1824.5613799525988, 1830.8659726089181, 1837.1705652652377, 1839.2720961506775, 1841.3736270361173, 1847.6782196924366, 1849.7797505778765, 1849.7797505778765, 1851.8812814633163, 1851.8812814633163, 1868.6935285468348, 1881.3027138594737, 1885.5057756303534, 1887.6073065157932, 1889.708837401233, 1893.9118991721125, 1900.216491828432, 1927.5363933391495, 1927.5363933391495, 1929.6379242245894, 1940.1455786517886, 1942.2471095372282, 1942.2471095372282, 1950.6532330789876, 1952.7547639644274, 1956.957825735307, 1967.465480162506, 1986.3792581314644, 2001.089974329543, 2001.089974329543, 2003.191505214983, 2007.3945669858624, 2007.3945669858624, 2011.597628756742, 2011.597628756742, 2011.597628756742, 2013.699159642182, 2015.8006905276218, 2015.8006905276218, 2017.9022214130616, 2020.0037522985015, 2022.1052831839413, 2022.1052831839413, 2024.206814069381, 2024.206814069381, 2028.4098758402606, 2030.5114067257005, 2032.6129376111403, 2034.7144684965801, 2034.7144684965801, 2036.81599938202, 2036.81599938202, 2038.9175302674598, 2038.9175302674598, 2045.2221229237794, 2055.729777350978, 2055.729777350978, 2057.831308236418, 2066.2374317781773, 2072.542024434497, 2072.542024434497, 2074.6435553199367, 2080.9481479762558, 2089.354271518015, 2091.455802403455, 2091.455802403455, 2101.963456830654, 2106.166518601534, 2125.080296570492, 2125.080296570492, 2137.689481883131, 2139.791012768571, 2139.791012768571, 2141.8925436540108, 2141.8925436540108, 2143.99407453945, 2146.09560542489, 2146.09560542489, 2148.19713631033, 2167.1109142792884, 2171.313976050168, 2175.517037821048, 2192.329284904566, 2200.7354084463254, 2200.7354084463254, 2204.938470217205, 2207.040001102645, 2217.5476555298437, 2223.8522481861633, 2230.156840842483, 2242.7660261551214, 2242.7660261551214, 2244.867557040561, 2249.070618811441, 2257.4767423532003, 2259.57827323864, 2259.57827323864, 2261.67980412408, 2263.78133500952, 2282.695112978478, 2291.1012365202373, 2295.304298291117, 2295.304298291117, 2297.405829176557, 2307.9134836037556, 2328.928792458154, 2337.3349159999134, 2339.436446885353, 2362.553286625191, 2368.8578792815106, 2370.95941016695, 2375.1624719378297, 2379.3655337087093, 2385.670126365029, 2457.1221764699826, 2461.3252382408623, 2465.528300011742, 2473.934423553501, 2473.934423553501, 2476.0359544389407, 2478.1374853243806, 2480.2390162098204, 2484.4420779807, 2505.457386835098, 2509.6604486059778, 2526.4726956894965, 2553.792597200214, 2566.4017825128526, 2572.706375169172, 2585.315560481811, 2589.518622252691, 2610.533931107089, 2642.056894388686, 2646.2599561595657, 2656.767610586765, 2732.422722462598, 2734.5242533480377, 2751.3365004315565, 2839.6007976200285, 2929.9666256939404, 2944.6773418920193], \"yaxis\": \"y\"}, {\"hovertemplate\": \"Age=Young<br>Salary=%{x}<br>AmountSpent=%{y}<extra></extra>\", \"legendgroup\": \"Young\", \"marker\": {\"color\": \"#00cc96\", \"symbol\": \"circle\"}, \"mode\": \"markers\", \"name\": \"Young\", \"orientation\": \"v\", \"showlegend\": true, \"type\": \"scatter\", \"x\": [13500, 30400, 43700, 14300, 49800, 43500, 41700, 21700, 58900, 67800, 33700, 25900, 15600, 66700, 13200, 15600, 14400, 15000, 60600, 24400, 22100, 32400, 20400, 12900, 16300, 27400, 21100, 21700, 20900, 27900, 14800, 25800, 12000, 13800, 14800, 10400, 16100, 19100, 21400, 68000, 17400, 14600, 10800, 11400, 34300, 16400, 17000, 11900, 14300, 21000, 51900, 60100, 61700, 45800, 40000, 27100, 10200, 12500, 16900, 13600, 80700, 40900, 26700, 19300, 20200, 17300, 42300, 11400, 14000, 29600, 20300, 53600, 70900, 23200, 41400, 63200, 13900, 13800, 14500, 21300, 19800, 26100, 15900, 12700, 13400, 76200, 12000, 14200, 31300, 32700, 19000, 14500, 36700, 39600, 67300, 25500, 46300, 27800, 25600, 25900, 22000, 16700, 40900, 41500, 20900, 69700, 41600, 27000, 10200, 33200, 31900, 23000, 10200, 12100, 36600, 33400, 13300, 11700, 52600, 14600, 18400, 25000, 55100, 17800, 19700, 11200, 30100, 21900, 36900, 21900, 11500, 21900, 14200, 23200, 13100, 23100, 31600, 33400, 17300, 25100, 17800, 27100, 60300, 12000, 36900, 11000, 18900, 36500, 79400, 21200, 23500, 56900, 16900, 56300, 18800, 26600, 14600, 15100, 20800, 15000, 17700, 17800, 13800, 15200, 15800, 21600, 31900, 17900, 14400, 41500, 22200, 71200, 53700, 18200, 73600, 73000, 29600, 64300, 27500, 19800, 17600, 13400, 47200, 18000, 13500, 18400, 13600, 14200, 18700, 28900, 13300, 21400, 21700, 23200, 12500, 13700, 55900, 13700, 63300, 51600, 55000, 20300, 16300, 12500, 10600, 27200, 27900, 29200, 12400, 10900, 13200, 61000, 39700, 20100, 20300, 54500, 37200, 22900, 55500, 12800, 17600, 14100, 22600, 10200, 41000, 14800, 42000, 21900, 37100, 14200, 19400, 24000, 25700, 23100, 41600, 62200, 14100, 36500, 17700, 33200, 20700, 21300, 17900, 15500, 13000, 12600, 32600, 12900, 12400, 54200, 10600, 76400, 19500, 17200, 47300, 32000, 44700, 69700, 15900, 23200, 18200, 17000, 42400, 17300, 27600, 25100, 19100, 14400, 36600, 31500, 29200, 15300, 17500, 28400, 20000, 19600, 13200, 14900, 18400, 15400, 25300, 25300, 45500, 49300, 17600, 19400, 53600], \"xaxis\": \"x\", \"y\": [296, 495, 927, 194, 827, 808, 521, 774, 1215, 1084, 614, 449, 136, 1310, 358, 468, 615, 38, 307, 220, 280, 920, 867, 107, 470, 278, 470, 708, 550, 1184, 209, 451, 344, 127, 436, 189, 202, 176, 326, 3688, 332, 143, 123, 312, 1297, 218, 581, 143, 458, 646, 780, 1594, 1161, 489, 613, 437, 213, 202, 247, 183, 202, 962, 459, 308, 500, 381, 856, 186, 229, 774, 450, 1560, 690, 770, 643, 1512, 570, 363, 222, 677, 991, 494, 503, 87, 143, 979, 264, 400, 357, 1276, 428, 183, 731, 1085, 1212, 139, 1357, 408, 426, 242, 472, 108, 576, 1314, 296, 584, 1690, 1012, 333, 607, 616, 79, 199, 90, 587, 617, 236, 193, 1052, 307, 303, 264, 1439, 292, 330, 106, 530, 192, 1480, 276, 157, 576, 250, 788, 314, 466, 476, 567, 345, 592, 216, 268, 1252, 140, 721, 393, 184, 1140, 1175, 417, 371, 687, 281, 1608, 170, 245, 47, 274, 260, 341, 268, 589, 368, 324, 147, 491, 860, 62, 223, 1213, 275, 392, 2491, 322, 647, 1534, 583, 239, 571, 209, 245, 424, 1272, 303, 160, 662, 349, 192, 289, 905, 184, 414, 387, 504, 422, 163, 788, 414, 1408, 1082, 1162, 304, 360, 206, 114, 446, 576, 737, 205, 407, 227, 1611, 1011, 271, 180, 1001, 247, 814, 216, 365, 163, 153, 521, 362, 768, 376, 105, 486, 653, 197, 563, 362, 907, 457, 1634, 1348, 328, 747, 742, 1639, 550, 329, 395, 210, 43, 241, 172, 167, 229, 486, 517, 2216, 571, 329, 640, 1320, 502, 1432, 406, 534, 401, 659, 1166, 411, 893, 421, 403, 390, 833, 269, 636, 645, 472, 182, 182, 395, 512, 422, 319, 172, 591, 510, 754, 1692, 273, 384, 973], \"yaxis\": \"y\"}, {\"hovertemplate\": \"<b>OLS trendline</b><br>AmountSpent = 0.018189 * Salary + 54.5041<br>R<sup>2</sup>=0.455313<br><br>Age=Young<br>Salary=%{x}<br>AmountSpent=%{y} <b>(trend)</b><extra></extra>\", \"legendgroup\": \"Young\", \"marker\": {\"color\": \"#00cc96\", \"symbol\": \"circle\"}, \"mode\": \"lines\", \"name\": \"Young\", \"showlegend\": false, \"type\": \"scatter\", \"x\": [10200, 10200, 10200, 10200, 10400, 10600, 10600, 10800, 10900, 11000, 11200, 11400, 11400, 11500, 11700, 11900, 12000, 12000, 12000, 12100, 12400, 12400, 12500, 12500, 12500, 12600, 12700, 12800, 12900, 12900, 13000, 13100, 13200, 13200, 13200, 13300, 13300, 13400, 13400, 13500, 13500, 13600, 13600, 13700, 13700, 13800, 13800, 13800, 13900, 14000, 14100, 14100, 14200, 14200, 14200, 14200, 14300, 14300, 14400, 14400, 14400, 14500, 14500, 14600, 14600, 14600, 14800, 14800, 14800, 14900, 15000, 15000, 15100, 15200, 15300, 15400, 15500, 15600, 15600, 15800, 15900, 15900, 16100, 16300, 16300, 16400, 16700, 16900, 16900, 17000, 17000, 17200, 17300, 17300, 17300, 17400, 17500, 17600, 17600, 17600, 17700, 17700, 17800, 17800, 17800, 17900, 17900, 18000, 18200, 18200, 18400, 18400, 18400, 18700, 18800, 18900, 19000, 19100, 19100, 19300, 19400, 19400, 19500, 19600, 19700, 19800, 19800, 20000, 20100, 20200, 20300, 20300, 20300, 20400, 20700, 20800, 20900, 20900, 21000, 21100, 21200, 21300, 21300, 21400, 21400, 21600, 21700, 21700, 21700, 21900, 21900, 21900, 21900, 22000, 22100, 22200, 22600, 22900, 23000, 23100, 23100, 23200, 23200, 23200, 23200, 23500, 24000, 24400, 25000, 25100, 25100, 25300, 25300, 25500, 25600, 25700, 25800, 25900, 25900, 26100, 26600, 26700, 27000, 27100, 27100, 27200, 27400, 27500, 27600, 27800, 27900, 27900, 28400, 28900, 29200, 29200, 29600, 29600, 30100, 30400, 31300, 31500, 31600, 31900, 31900, 32000, 32400, 32600, 32700, 33200, 33200, 33400, 33400, 33700, 34300, 36500, 36500, 36600, 36600, 36700, 36900, 36900, 37100, 37200, 39600, 39700, 40000, 40900, 40900, 41000, 41400, 41500, 41500, 41600, 41600, 41700, 42000, 42300, 42400, 43500, 43700, 44700, 45500, 45800, 46300, 47200, 47300, 49300, 49800, 51600, 51900, 52600, 53600, 53600, 53700, 54200, 54500, 55000, 55100, 55500, 55900, 56300, 56900, 58900, 60100, 60300, 60600, 61000, 61700, 62200, 63200, 63300, 64300, 66700, 67300, 67800, 68000, 69700, 69700, 70900, 71200, 73000, 73600, 76200, 76400, 79400, 80700], \"xaxis\": \"x\", \"y\": [240.03154578911864, 240.03154578911864, 240.03154578911864, 240.03154578911864, 243.66933955711238, 247.30713332510612, 247.30713332510612, 250.94492709309986, 252.76382397709676, 254.58272086109366, 258.2205146290874, 261.85830839708115, 261.85830839708115, 263.67720528107805, 267.3149990490718, 270.95279281706553, 272.7716897010624, 272.7716897010624, 272.7716897010624, 274.59058658505927, 280.0472772370499, 280.0472772370499, 281.8661741210468, 281.8661741210468, 281.8661741210468, 283.68507100504365, 285.50396788904055, 287.32286477303745, 289.1417616570343, 289.1417616570343, 290.9606585410312, 292.77955542502804, 294.59845230902494, 294.59845230902494, 294.59845230902494, 296.41734919302183, 296.41734919302183, 298.2362460770187, 298.2362460770187, 300.0551429610156, 300.0551429610156, 301.8740398450124, 301.8740398450124, 303.6929367290093, 303.6929367290093, 305.5118336130062, 305.5118336130062, 305.5118336130062, 307.33073049700306, 309.14962738099996, 310.9685242649968, 310.9685242649968, 312.7874211489937, 312.7874211489937, 312.7874211489937, 312.7874211489937, 314.60631803299054, 314.60631803299054, 316.42521491698744, 316.42521491698744, 316.42521491698744, 318.24411180098434, 318.24411180098434, 320.0630086849812, 320.0630086849812, 320.0630086849812, 323.7008024529749, 323.7008024529749, 323.7008024529749, 325.5196993369718, 327.3385962209687, 327.3385962209687, 329.15749310496557, 330.97638998896247, 332.7952868729593, 334.6141837569562, 336.4330806409531, 338.25197752494995, 338.25197752494995, 341.8897712929437, 343.7086681769406, 343.7086681769406, 347.34646194493433, 350.9842557129281, 350.9842557129281, 352.803152596925, 358.2598432489156, 361.89763701690936, 361.89763701690936, 363.71653390090626, 363.71653390090626, 367.3543276689, 369.17322455289684, 369.17322455289684, 369.17322455289684, 370.99212143689374, 372.81101832089064, 374.6299152048875, 374.6299152048875, 374.6299152048875, 376.4488120888844, 376.4488120888844, 378.2677089728813, 378.2677089728813, 378.2677089728813, 380.0866058568781, 380.0866058568781, 381.905502740875, 385.54329650886876, 385.54329650886876, 389.1810902768625, 389.1810902768625, 389.1810902768625, 394.63778092885315, 396.45667781285005, 398.2755746968469, 400.0944715808438, 401.91336846484063, 401.91336846484063, 405.55116223283443, 407.37005911683127, 407.37005911683127, 409.18895600082817, 411.007852884825, 412.8267497688219, 414.6456466528188, 414.6456466528188, 418.28344042081255, 420.1023373048094, 421.9212341888063, 423.7401310728032, 423.7401310728032, 423.7401310728032, 425.55902795680004, 431.0157186087907, 432.8346154927876, 434.6535123767844, 434.6535123767844, 436.4724092607813, 438.29130614477816, 440.11020302877506, 441.92909991277196, 441.92909991277196, 443.7479967967688, 443.7479967967688, 447.38579056476254, 449.20468744875944, 449.20468744875944, 449.20468744875944, 452.8424812167532, 452.8424812167532, 452.8424812167532, 452.8424812167532, 454.6613781007501, 456.4802749847469, 458.2991718687438, 465.57475940473137, 471.03145005672195, 472.85034694071885, 474.66924382471575, 474.66924382471575, 476.4881407087126, 476.4881407087126, 476.4881407087126, 476.4881407087126, 481.94483136070323, 491.0393157806876, 498.3149033166751, 509.2282846206564, 511.0471815046533, 511.0471815046533, 514.6849752726471, 514.6849752726471, 518.3227690406408, 520.1416659246377, 521.9605628086346, 523.7794596926315, 525.5983565766282, 525.5983565766282, 529.236150344622, 538.3306347646064, 540.1495316486033, 545.6062223005939, 547.4251191845908, 547.4251191845908, 549.2440160685877, 552.8818098365814, 554.7007067205783, 556.5196036045752, 560.157397372569, 561.9762942565659, 561.9762942565659, 571.0707786765503, 580.1652630965347, 585.6219537485252, 585.6219537485252, 592.8975412845127, 592.8975412845127, 601.9920257044971, 607.4487163564878, 623.8187883124597, 627.4565820804535, 629.2754789644503, 634.732169616441, 634.732169616441, 636.5510665004379, 643.8266540364253, 647.464447804419, 649.2833446884159, 658.3778291084003, 658.3778291084003, 662.0156228763941, 662.0156228763941, 667.4723135283847, 678.385694832366, 718.4014262802973, 718.4014262802973, 720.2203231642942, 720.2203231642942, 722.039220048291, 725.6770138162848, 725.6770138162848, 729.3148075842786, 731.1337044682754, 774.7872296842005, 776.6061265681973, 782.062817220188, 798.4328891761598, 798.4328891761598, 800.2517860601567, 807.5273735961442, 809.3462704801411, 809.3462704801411, 811.165167364138, 811.165167364138, 812.9840642481348, 818.4407549001255, 823.8974455521161, 825.716342436113, 845.7242081600787, 849.3620019280723, 867.5509707680411, 882.1021458400162, 887.5588364920068, 896.6533209119912, 913.0233928679631, 914.8422897519599, 951.2202274318975, 960.3147118518818, 993.0548557638257, 998.5115464158163, 1011.2438246037945, 1029.432793443763, 1029.432793443763, 1031.2516903277601, 1040.3461747477445, 1045.802865399735, 1054.8973498197195, 1056.7162467037163, 1063.9918342397038, 1071.2674217756912, 1078.5430093116788, 1089.45639061566, 1125.8343282955975, 1147.66109090356, 1151.2988846715539, 1156.7555753235445, 1164.031162859532, 1176.76344104751, 1185.8579254674944, 1204.0468943074632, 1205.8657911914602, 1224.054760031429, 1267.7082852473538, 1278.6216665513352, 1287.7161509713196, 1291.3539447393134, 1322.2751917672601, 1322.2751917672601, 1344.1019543752227, 1349.5586450272135, 1382.2987889391572, 1393.2121702431384, 1440.5034892270573, 1444.141282995051, 1498.7081895149572, 1522.3538490069168], \"yaxis\": \"y\"}],                        {\"legend\": {\"title\": {\"text\": \"Age\"}, \"tracegroupgap\": 0}, \"margin\": {\"t\": 60}, \"template\": {\"data\": {\"bar\": [{\"error_x\": {\"color\": \"#2a3f5f\"}, \"error_y\": {\"color\": \"#2a3f5f\"}, \"marker\": {\"line\": {\"color\": \"#E5ECF6\", \"width\": 0.5}}, \"type\": \"bar\"}], \"barpolar\": [{\"marker\": {\"line\": {\"color\": \"#E5ECF6\", \"width\": 0.5}}, \"type\": \"barpolar\"}], \"carpet\": [{\"aaxis\": {\"endlinecolor\": \"#2a3f5f\", \"gridcolor\": \"white\", \"linecolor\": \"white\", \"minorgridcolor\": \"white\", \"startlinecolor\": \"#2a3f5f\"}, \"baxis\": {\"endlinecolor\": \"#2a3f5f\", \"gridcolor\": \"white\", \"linecolor\": \"white\", \"minorgridcolor\": \"white\", \"startlinecolor\": \"#2a3f5f\"}, \"type\": \"carpet\"}], \"choropleth\": [{\"colorbar\": {\"outlinewidth\": 0, \"ticks\": \"\"}, \"type\": \"choropleth\"}], \"contour\": [{\"colorbar\": {\"outlinewidth\": 0, \"ticks\": \"\"}, \"colorscale\": [[0.0, \"#0d0887\"], [0.1111111111111111, \"#46039f\"], [0.2222222222222222, \"#7201a8\"], [0.3333333333333333, \"#9c179e\"], [0.4444444444444444, \"#bd3786\"], [0.5555555555555556, \"#d8576b\"], [0.6666666666666666, \"#ed7953\"], [0.7777777777777778, \"#fb9f3a\"], [0.8888888888888888, \"#fdca26\"], [1.0, \"#f0f921\"]], \"type\": \"contour\"}], \"contourcarpet\": [{\"colorbar\": {\"outlinewidth\": 0, \"ticks\": \"\"}, \"type\": \"contourcarpet\"}], \"heatmap\": [{\"colorbar\": {\"outlinewidth\": 0, \"ticks\": \"\"}, \"colorscale\": [[0.0, \"#0d0887\"], [0.1111111111111111, \"#46039f\"], [0.2222222222222222, \"#7201a8\"], [0.3333333333333333, \"#9c179e\"], [0.4444444444444444, \"#bd3786\"], [0.5555555555555556, \"#d8576b\"], [0.6666666666666666, \"#ed7953\"], [0.7777777777777778, \"#fb9f3a\"], [0.8888888888888888, \"#fdca26\"], [1.0, \"#f0f921\"]], \"type\": \"heatmap\"}], \"heatmapgl\": [{\"colorbar\": {\"outlinewidth\": 0, \"ticks\": \"\"}, \"colorscale\": [[0.0, \"#0d0887\"], [0.1111111111111111, \"#46039f\"], [0.2222222222222222, \"#7201a8\"], [0.3333333333333333, \"#9c179e\"], [0.4444444444444444, \"#bd3786\"], [0.5555555555555556, \"#d8576b\"], [0.6666666666666666, \"#ed7953\"], [0.7777777777777778, \"#fb9f3a\"], [0.8888888888888888, \"#fdca26\"], [1.0, \"#f0f921\"]], \"type\": \"heatmapgl\"}], \"histogram\": [{\"marker\": {\"colorbar\": {\"outlinewidth\": 0, \"ticks\": \"\"}}, \"type\": \"histogram\"}], \"histogram2d\": [{\"colorbar\": {\"outlinewidth\": 0, \"ticks\": \"\"}, \"colorscale\": [[0.0, \"#0d0887\"], [0.1111111111111111, \"#46039f\"], [0.2222222222222222, \"#7201a8\"], [0.3333333333333333, \"#9c179e\"], [0.4444444444444444, \"#bd3786\"], [0.5555555555555556, \"#d8576b\"], [0.6666666666666666, \"#ed7953\"], [0.7777777777777778, \"#fb9f3a\"], [0.8888888888888888, \"#fdca26\"], [1.0, \"#f0f921\"]], \"type\": \"histogram2d\"}], \"histogram2dcontour\": [{\"colorbar\": {\"outlinewidth\": 0, \"ticks\": \"\"}, \"colorscale\": [[0.0, \"#0d0887\"], [0.1111111111111111, \"#46039f\"], [0.2222222222222222, \"#7201a8\"], [0.3333333333333333, \"#9c179e\"], [0.4444444444444444, \"#bd3786\"], [0.5555555555555556, \"#d8576b\"], [0.6666666666666666, \"#ed7953\"], [0.7777777777777778, \"#fb9f3a\"], [0.8888888888888888, \"#fdca26\"], [1.0, \"#f0f921\"]], \"type\": \"histogram2dcontour\"}], \"mesh3d\": [{\"colorbar\": {\"outlinewidth\": 0, \"ticks\": \"\"}, \"type\": \"mesh3d\"}], \"parcoords\": [{\"line\": {\"colorbar\": {\"outlinewidth\": 0, \"ticks\": \"\"}}, \"type\": \"parcoords\"}], \"pie\": [{\"automargin\": true, \"type\": \"pie\"}], \"scatter\": [{\"marker\": {\"colorbar\": {\"outlinewidth\": 0, \"ticks\": \"\"}}, \"type\": \"scatter\"}], \"scatter3d\": [{\"line\": {\"colorbar\": {\"outlinewidth\": 0, \"ticks\": \"\"}}, \"marker\": {\"colorbar\": {\"outlinewidth\": 0, \"ticks\": \"\"}}, \"type\": \"scatter3d\"}], \"scattercarpet\": [{\"marker\": {\"colorbar\": {\"outlinewidth\": 0, \"ticks\": \"\"}}, \"type\": \"scattercarpet\"}], \"scattergeo\": [{\"marker\": {\"colorbar\": {\"outlinewidth\": 0, \"ticks\": \"\"}}, \"type\": \"scattergeo\"}], \"scattergl\": [{\"marker\": {\"colorbar\": {\"outlinewidth\": 0, \"ticks\": \"\"}}, \"type\": \"scattergl\"}], \"scattermapbox\": [{\"marker\": {\"colorbar\": {\"outlinewidth\": 0, \"ticks\": \"\"}}, \"type\": \"scattermapbox\"}], \"scatterpolar\": [{\"marker\": {\"colorbar\": {\"outlinewidth\": 0, \"ticks\": \"\"}}, \"type\": \"scatterpolar\"}], \"scatterpolargl\": [{\"marker\": {\"colorbar\": {\"outlinewidth\": 0, \"ticks\": \"\"}}, \"type\": \"scatterpolargl\"}], \"scatterternary\": [{\"marker\": {\"colorbar\": {\"outlinewidth\": 0, \"ticks\": \"\"}}, \"type\": \"scatterternary\"}], \"surface\": [{\"colorbar\": {\"outlinewidth\": 0, \"ticks\": \"\"}, \"colorscale\": [[0.0, \"#0d0887\"], [0.1111111111111111, \"#46039f\"], [0.2222222222222222, \"#7201a8\"], [0.3333333333333333, \"#9c179e\"], [0.4444444444444444, \"#bd3786\"], [0.5555555555555556, \"#d8576b\"], [0.6666666666666666, \"#ed7953\"], [0.7777777777777778, \"#fb9f3a\"], [0.8888888888888888, \"#fdca26\"], [1.0, \"#f0f921\"]], \"type\": \"surface\"}], \"table\": [{\"cells\": {\"fill\": {\"color\": \"#EBF0F8\"}, \"line\": {\"color\": \"white\"}}, \"header\": {\"fill\": {\"color\": \"#C8D4E3\"}, \"line\": {\"color\": \"white\"}}, \"type\": \"table\"}]}, \"layout\": {\"annotationdefaults\": {\"arrowcolor\": \"#2a3f5f\", \"arrowhead\": 0, \"arrowwidth\": 1}, \"autotypenumbers\": \"strict\", \"coloraxis\": {\"colorbar\": {\"outlinewidth\": 0, \"ticks\": \"\"}}, \"colorscale\": {\"diverging\": [[0, \"#8e0152\"], [0.1, \"#c51b7d\"], [0.2, \"#de77ae\"], [0.3, \"#f1b6da\"], [0.4, \"#fde0ef\"], [0.5, \"#f7f7f7\"], [0.6, \"#e6f5d0\"], [0.7, \"#b8e186\"], [0.8, \"#7fbc41\"], [0.9, \"#4d9221\"], [1, \"#276419\"]], \"sequential\": [[0.0, \"#0d0887\"], [0.1111111111111111, \"#46039f\"], [0.2222222222222222, \"#7201a8\"], [0.3333333333333333, \"#9c179e\"], [0.4444444444444444, \"#bd3786\"], [0.5555555555555556, \"#d8576b\"], [0.6666666666666666, \"#ed7953\"], [0.7777777777777778, \"#fb9f3a\"], [0.8888888888888888, \"#fdca26\"], [1.0, \"#f0f921\"]], \"sequentialminus\": [[0.0, \"#0d0887\"], [0.1111111111111111, \"#46039f\"], [0.2222222222222222, \"#7201a8\"], [0.3333333333333333, \"#9c179e\"], [0.4444444444444444, \"#bd3786\"], [0.5555555555555556, \"#d8576b\"], [0.6666666666666666, \"#ed7953\"], [0.7777777777777778, \"#fb9f3a\"], [0.8888888888888888, \"#fdca26\"], [1.0, \"#f0f921\"]]}, \"colorway\": [\"#636efa\", \"#EF553B\", \"#00cc96\", \"#ab63fa\", \"#FFA15A\", \"#19d3f3\", \"#FF6692\", \"#B6E880\", \"#FF97FF\", \"#FECB52\"], \"font\": {\"color\": \"#2a3f5f\"}, \"geo\": {\"bgcolor\": \"white\", \"lakecolor\": \"white\", \"landcolor\": \"#E5ECF6\", \"showlakes\": true, \"showland\": true, \"subunitcolor\": \"white\"}, \"hoverlabel\": {\"align\": \"left\"}, \"hovermode\": \"closest\", \"mapbox\": {\"style\": \"light\"}, \"paper_bgcolor\": \"white\", \"plot_bgcolor\": \"#E5ECF6\", \"polar\": {\"angularaxis\": {\"gridcolor\": \"white\", \"linecolor\": \"white\", \"ticks\": \"\"}, \"bgcolor\": \"#E5ECF6\", \"radialaxis\": {\"gridcolor\": \"white\", \"linecolor\": \"white\", \"ticks\": \"\"}}, \"scene\": {\"xaxis\": {\"backgroundcolor\": \"#E5ECF6\", \"gridcolor\": \"white\", \"gridwidth\": 2, \"linecolor\": \"white\", \"showbackground\": true, \"ticks\": \"\", \"zerolinecolor\": \"white\"}, \"yaxis\": {\"backgroundcolor\": \"#E5ECF6\", \"gridcolor\": \"white\", \"gridwidth\": 2, \"linecolor\": \"white\", \"showbackground\": true, \"ticks\": \"\", \"zerolinecolor\": \"white\"}, \"zaxis\": {\"backgroundcolor\": \"#E5ECF6\", \"gridcolor\": \"white\", \"gridwidth\": 2, \"linecolor\": \"white\", \"showbackground\": true, \"ticks\": \"\", \"zerolinecolor\": \"white\"}}, \"shapedefaults\": {\"line\": {\"color\": \"#2a3f5f\"}}, \"ternary\": {\"aaxis\": {\"gridcolor\": \"white\", \"linecolor\": \"white\", \"ticks\": \"\"}, \"baxis\": {\"gridcolor\": \"white\", \"linecolor\": \"white\", \"ticks\": \"\"}, \"bgcolor\": \"#E5ECF6\", \"caxis\": {\"gridcolor\": \"white\", \"linecolor\": \"white\", \"ticks\": \"\"}}, \"title\": {\"x\": 0.05}, \"xaxis\": {\"automargin\": true, \"gridcolor\": \"white\", \"linecolor\": \"white\", \"ticks\": \"\", \"title\": {\"standoff\": 15}, \"zerolinecolor\": \"white\", \"zerolinewidth\": 2}, \"yaxis\": {\"automargin\": true, \"gridcolor\": \"white\", \"linecolor\": \"white\", \"ticks\": \"\", \"title\": {\"standoff\": 15}, \"zerolinecolor\": \"white\", \"zerolinewidth\": 2}}}, \"title\": {\"text\": \"Age With Salary Vs Amount Spent \", \"x\": 0.5}, \"xaxis\": {\"anchor\": \"y\", \"domain\": [0.0, 1.0], \"title\": {\"text\": \"Salary\"}}, \"yaxis\": {\"anchor\": \"x\", \"domain\": [0.0, 1.0], \"title\": {\"text\": \"Amount Spent\"}}},                        {\"responsive\": true}                    ).then(function(){\n",
       "                            \n",
       "var gd = document.getElementById('322786f5-8455-4eee-88bb-8913ea415da2');\n",
       "var x = new MutationObserver(function (mutations, observer) {{\n",
       "        var display = window.getComputedStyle(gd).display;\n",
       "        if (!display || display === 'none') {{\n",
       "            console.log([gd, 'removed!']);\n",
       "            Plotly.purge(gd);\n",
       "            observer.disconnect();\n",
       "        }}\n",
       "}});\n",
       "\n",
       "// Listen for the removal of the full notebook cells\n",
       "var notebookContainer = gd.closest('#notebook-container');\n",
       "if (notebookContainer) {{\n",
       "    x.observe(notebookContainer, {childList: true});\n",
       "}}\n",
       "\n",
       "// Listen for the clearing of the current output cell\n",
       "var outputEl = gd.closest('.output');\n",
       "if (outputEl) {{\n",
       "    x.observe(outputEl, {childList: true});\n",
       "}}\n",
       "\n",
       "                        })                };                });            </script>        </div>"
      ]
     },
     "metadata": {},
     "output_type": "display_data"
    }
   ],
   "source": [
    "# Scatter plot - Category\n",
    "\n",
    "fig = px.scatter(df, x='Salary', y='AmountSpent',trendline=\"ols\",\n",
    "                 color='Age') # Added color to basic scatter\n",
    "fig.update_layout(title='Age With Salary Vs Amount Spent ',xaxis_title=\"Salary\",yaxis_title=\"Amount Spent\",title_x=0.5)\n",
    "fig.show()"
   ]
  },
  {
   "cell_type": "code",
   "execution_count": 20,
   "metadata": {
    "execution": {
     "iopub.execute_input": "2021-02-21T23:25:19.845408Z",
     "iopub.status.busy": "2021-02-21T23:25:19.844500Z",
     "iopub.status.idle": "2021-02-21T23:25:19.851494Z",
     "shell.execute_reply": "2021-02-21T23:25:19.850782Z"
    },
    "papermill": {
     "duration": 0.054184,
     "end_time": "2021-02-21T23:25:19.851644",
     "exception": false,
     "start_time": "2021-02-21T23:25:19.797460",
     "status": "completed"
    },
    "tags": []
   },
   "outputs": [
    {
     "data": {
      "text/html": [
       "<div>\n",
       "<style scoped>\n",
       "    .dataframe tbody tr th:only-of-type {\n",
       "        vertical-align: middle;\n",
       "    }\n",
       "\n",
       "    .dataframe tbody tr th {\n",
       "        vertical-align: top;\n",
       "    }\n",
       "\n",
       "    .dataframe thead th {\n",
       "        text-align: right;\n",
       "    }\n",
       "</style>\n",
       "<table border=\"1\" class=\"dataframe\">\n",
       "  <thead>\n",
       "    <tr style=\"text-align: right;\">\n",
       "      <th></th>\n",
       "      <th>Gender</th>\n",
       "      <th>count</th>\n",
       "    </tr>\n",
       "  </thead>\n",
       "  <tbody>\n",
       "    <tr>\n",
       "      <th>0</th>\n",
       "      <td>Female</td>\n",
       "      <td>506</td>\n",
       "    </tr>\n",
       "    <tr>\n",
       "      <th>1</th>\n",
       "      <td>Male</td>\n",
       "      <td>494</td>\n",
       "    </tr>\n",
       "  </tbody>\n",
       "</table>\n",
       "</div>"
      ],
      "text/plain": [
       "   Gender  count\n",
       "0  Female    506\n",
       "1    Male    494"
      ]
     },
     "execution_count": 20,
     "metadata": {},
     "output_type": "execute_result"
    }
   ],
   "source": [
    "df_Gender=df['Gender'].value_counts().to_frame().reset_index().rename(columns={'index':'Gender','Gender':'count'})\n",
    "df_Gender"
   ]
  },
  {
   "cell_type": "code",
   "execution_count": 21,
   "metadata": {
    "execution": {
     "iopub.execute_input": "2021-02-21T23:25:19.941208Z",
     "iopub.status.busy": "2021-02-21T23:25:19.931340Z",
     "iopub.status.idle": "2021-02-21T23:25:19.948983Z",
     "shell.execute_reply": "2021-02-21T23:25:19.948318Z"
    },
    "papermill": {
     "duration": 0.060049,
     "end_time": "2021-02-21T23:25:19.949132",
     "exception": false,
     "start_time": "2021-02-21T23:25:19.889083",
     "status": "completed"
    },
    "tags": []
   },
   "outputs": [
    {
     "data": {
      "text/html": [
       "<div>                            <div id=\"89173f8e-c058-49a5-bddf-47a3eb690232\" class=\"plotly-graph-div\" style=\"height:525px; width:100%;\"></div>            <script type=\"text/javascript\">                require([\"plotly\"], function(Plotly) {                    window.PLOTLYENV=window.PLOTLYENV || {};                                    if (document.getElementById(\"89173f8e-c058-49a5-bddf-47a3eb690232\")) {                    Plotly.newPlot(                        \"89173f8e-c058-49a5-bddf-47a3eb690232\",                        [{\"marker\": {\"color\": [506, 494], \"colorscale\": [[0.0, \"#440154\"], [0.1111111111111111, \"#482878\"], [0.2222222222222222, \"#3e4989\"], [0.3333333333333333, \"#31688e\"], [0.4444444444444444, \"#26828e\"], [0.5555555555555556, \"#1f9e89\"], [0.6666666666666666, \"#35b779\"], [0.7777777777777778, \"#6ece58\"], [0.8888888888888888, \"#b5de2b\"], [1.0, \"#fde725\"]]}, \"text\": [506.0, 494.0], \"textposition\": \"outside\", \"type\": \"bar\", \"x\": [\"Female\", \"Male\"], \"y\": [506, 494]}],                        {\"template\": {\"data\": {\"bar\": [{\"error_x\": {\"color\": \"#2a3f5f\"}, \"error_y\": {\"color\": \"#2a3f5f\"}, \"marker\": {\"line\": {\"color\": \"#E5ECF6\", \"width\": 0.5}}, \"type\": \"bar\"}], \"barpolar\": [{\"marker\": {\"line\": {\"color\": \"#E5ECF6\", \"width\": 0.5}}, \"type\": \"barpolar\"}], \"carpet\": [{\"aaxis\": {\"endlinecolor\": \"#2a3f5f\", \"gridcolor\": \"white\", \"linecolor\": \"white\", \"minorgridcolor\": \"white\", \"startlinecolor\": \"#2a3f5f\"}, \"baxis\": {\"endlinecolor\": \"#2a3f5f\", \"gridcolor\": \"white\", \"linecolor\": \"white\", \"minorgridcolor\": \"white\", \"startlinecolor\": \"#2a3f5f\"}, \"type\": \"carpet\"}], \"choropleth\": [{\"colorbar\": {\"outlinewidth\": 0, \"ticks\": \"\"}, \"type\": \"choropleth\"}], \"contour\": [{\"colorbar\": {\"outlinewidth\": 0, \"ticks\": \"\"}, \"colorscale\": [[0.0, \"#0d0887\"], [0.1111111111111111, \"#46039f\"], [0.2222222222222222, \"#7201a8\"], [0.3333333333333333, \"#9c179e\"], [0.4444444444444444, \"#bd3786\"], [0.5555555555555556, \"#d8576b\"], [0.6666666666666666, \"#ed7953\"], [0.7777777777777778, \"#fb9f3a\"], [0.8888888888888888, \"#fdca26\"], [1.0, \"#f0f921\"]], \"type\": \"contour\"}], \"contourcarpet\": [{\"colorbar\": {\"outlinewidth\": 0, \"ticks\": \"\"}, \"type\": \"contourcarpet\"}], \"heatmap\": [{\"colorbar\": {\"outlinewidth\": 0, \"ticks\": \"\"}, \"colorscale\": [[0.0, \"#0d0887\"], [0.1111111111111111, \"#46039f\"], [0.2222222222222222, \"#7201a8\"], [0.3333333333333333, \"#9c179e\"], [0.4444444444444444, \"#bd3786\"], [0.5555555555555556, \"#d8576b\"], [0.6666666666666666, \"#ed7953\"], [0.7777777777777778, \"#fb9f3a\"], [0.8888888888888888, \"#fdca26\"], [1.0, \"#f0f921\"]], \"type\": \"heatmap\"}], \"heatmapgl\": [{\"colorbar\": {\"outlinewidth\": 0, \"ticks\": \"\"}, \"colorscale\": [[0.0, \"#0d0887\"], [0.1111111111111111, \"#46039f\"], [0.2222222222222222, \"#7201a8\"], [0.3333333333333333, \"#9c179e\"], [0.4444444444444444, \"#bd3786\"], [0.5555555555555556, \"#d8576b\"], [0.6666666666666666, \"#ed7953\"], [0.7777777777777778, \"#fb9f3a\"], [0.8888888888888888, \"#fdca26\"], [1.0, \"#f0f921\"]], \"type\": \"heatmapgl\"}], \"histogram\": [{\"marker\": {\"colorbar\": {\"outlinewidth\": 0, \"ticks\": \"\"}}, \"type\": \"histogram\"}], \"histogram2d\": [{\"colorbar\": {\"outlinewidth\": 0, \"ticks\": \"\"}, \"colorscale\": [[0.0, \"#0d0887\"], [0.1111111111111111, \"#46039f\"], [0.2222222222222222, \"#7201a8\"], [0.3333333333333333, \"#9c179e\"], [0.4444444444444444, \"#bd3786\"], [0.5555555555555556, \"#d8576b\"], [0.6666666666666666, \"#ed7953\"], [0.7777777777777778, \"#fb9f3a\"], [0.8888888888888888, \"#fdca26\"], [1.0, \"#f0f921\"]], \"type\": \"histogram2d\"}], \"histogram2dcontour\": [{\"colorbar\": {\"outlinewidth\": 0, \"ticks\": \"\"}, \"colorscale\": [[0.0, \"#0d0887\"], [0.1111111111111111, \"#46039f\"], [0.2222222222222222, \"#7201a8\"], [0.3333333333333333, \"#9c179e\"], [0.4444444444444444, \"#bd3786\"], [0.5555555555555556, \"#d8576b\"], [0.6666666666666666, \"#ed7953\"], [0.7777777777777778, \"#fb9f3a\"], [0.8888888888888888, \"#fdca26\"], [1.0, \"#f0f921\"]], \"type\": \"histogram2dcontour\"}], \"mesh3d\": [{\"colorbar\": {\"outlinewidth\": 0, \"ticks\": \"\"}, \"type\": \"mesh3d\"}], \"parcoords\": [{\"line\": {\"colorbar\": {\"outlinewidth\": 0, \"ticks\": \"\"}}, \"type\": \"parcoords\"}], \"pie\": [{\"automargin\": true, \"type\": \"pie\"}], \"scatter\": [{\"marker\": {\"colorbar\": {\"outlinewidth\": 0, \"ticks\": \"\"}}, \"type\": \"scatter\"}], \"scatter3d\": [{\"line\": {\"colorbar\": {\"outlinewidth\": 0, \"ticks\": \"\"}}, \"marker\": {\"colorbar\": {\"outlinewidth\": 0, \"ticks\": \"\"}}, \"type\": \"scatter3d\"}], \"scattercarpet\": [{\"marker\": {\"colorbar\": {\"outlinewidth\": 0, \"ticks\": \"\"}}, \"type\": \"scattercarpet\"}], \"scattergeo\": [{\"marker\": {\"colorbar\": {\"outlinewidth\": 0, \"ticks\": \"\"}}, \"type\": \"scattergeo\"}], \"scattergl\": [{\"marker\": {\"colorbar\": {\"outlinewidth\": 0, \"ticks\": \"\"}}, \"type\": \"scattergl\"}], \"scattermapbox\": [{\"marker\": {\"colorbar\": {\"outlinewidth\": 0, \"ticks\": \"\"}}, \"type\": \"scattermapbox\"}], \"scatterpolar\": [{\"marker\": {\"colorbar\": {\"outlinewidth\": 0, \"ticks\": \"\"}}, \"type\": \"scatterpolar\"}], \"scatterpolargl\": [{\"marker\": {\"colorbar\": {\"outlinewidth\": 0, \"ticks\": \"\"}}, \"type\": \"scatterpolargl\"}], \"scatterternary\": [{\"marker\": {\"colorbar\": {\"outlinewidth\": 0, \"ticks\": \"\"}}, \"type\": \"scatterternary\"}], \"surface\": [{\"colorbar\": {\"outlinewidth\": 0, \"ticks\": \"\"}, \"colorscale\": [[0.0, \"#0d0887\"], [0.1111111111111111, \"#46039f\"], [0.2222222222222222, \"#7201a8\"], [0.3333333333333333, \"#9c179e\"], [0.4444444444444444, \"#bd3786\"], [0.5555555555555556, \"#d8576b\"], [0.6666666666666666, \"#ed7953\"], [0.7777777777777778, \"#fb9f3a\"], [0.8888888888888888, \"#fdca26\"], [1.0, \"#f0f921\"]], \"type\": \"surface\"}], \"table\": [{\"cells\": {\"fill\": {\"color\": \"#EBF0F8\"}, \"line\": {\"color\": \"white\"}}, \"header\": {\"fill\": {\"color\": \"#C8D4E3\"}, \"line\": {\"color\": \"white\"}}, \"type\": \"table\"}]}, \"layout\": {\"annotationdefaults\": {\"arrowcolor\": \"#2a3f5f\", \"arrowhead\": 0, \"arrowwidth\": 1}, \"autotypenumbers\": \"strict\", \"coloraxis\": {\"colorbar\": {\"outlinewidth\": 0, \"ticks\": \"\"}}, \"colorscale\": {\"diverging\": [[0, \"#8e0152\"], [0.1, \"#c51b7d\"], [0.2, \"#de77ae\"], [0.3, \"#f1b6da\"], [0.4, \"#fde0ef\"], [0.5, \"#f7f7f7\"], [0.6, \"#e6f5d0\"], [0.7, \"#b8e186\"], [0.8, \"#7fbc41\"], [0.9, \"#4d9221\"], [1, \"#276419\"]], \"sequential\": [[0.0, \"#0d0887\"], [0.1111111111111111, \"#46039f\"], [0.2222222222222222, \"#7201a8\"], [0.3333333333333333, \"#9c179e\"], [0.4444444444444444, \"#bd3786\"], [0.5555555555555556, \"#d8576b\"], [0.6666666666666666, \"#ed7953\"], [0.7777777777777778, \"#fb9f3a\"], [0.8888888888888888, \"#fdca26\"], [1.0, \"#f0f921\"]], \"sequentialminus\": [[0.0, \"#0d0887\"], [0.1111111111111111, \"#46039f\"], [0.2222222222222222, \"#7201a8\"], [0.3333333333333333, \"#9c179e\"], [0.4444444444444444, \"#bd3786\"], [0.5555555555555556, \"#d8576b\"], [0.6666666666666666, \"#ed7953\"], [0.7777777777777778, \"#fb9f3a\"], [0.8888888888888888, \"#fdca26\"], [1.0, \"#f0f921\"]]}, \"colorway\": [\"#636efa\", \"#EF553B\", \"#00cc96\", \"#ab63fa\", \"#FFA15A\", \"#19d3f3\", \"#FF6692\", \"#B6E880\", \"#FF97FF\", \"#FECB52\"], \"font\": {\"color\": \"#2a3f5f\"}, \"geo\": {\"bgcolor\": \"white\", \"lakecolor\": \"white\", \"landcolor\": \"#E5ECF6\", \"showlakes\": true, \"showland\": true, \"subunitcolor\": \"white\"}, \"hoverlabel\": {\"align\": \"left\"}, \"hovermode\": \"closest\", \"mapbox\": {\"style\": \"light\"}, \"paper_bgcolor\": \"white\", \"plot_bgcolor\": \"#E5ECF6\", \"polar\": {\"angularaxis\": {\"gridcolor\": \"white\", \"linecolor\": \"white\", \"ticks\": \"\"}, \"bgcolor\": \"#E5ECF6\", \"radialaxis\": {\"gridcolor\": \"white\", \"linecolor\": \"white\", \"ticks\": \"\"}}, \"scene\": {\"xaxis\": {\"backgroundcolor\": \"#E5ECF6\", \"gridcolor\": \"white\", \"gridwidth\": 2, \"linecolor\": \"white\", \"showbackground\": true, \"ticks\": \"\", \"zerolinecolor\": \"white\"}, \"yaxis\": {\"backgroundcolor\": \"#E5ECF6\", \"gridcolor\": \"white\", \"gridwidth\": 2, \"linecolor\": \"white\", \"showbackground\": true, \"ticks\": \"\", \"zerolinecolor\": \"white\"}, \"zaxis\": {\"backgroundcolor\": \"#E5ECF6\", \"gridcolor\": \"white\", \"gridwidth\": 2, \"linecolor\": \"white\", \"showbackground\": true, \"ticks\": \"\", \"zerolinecolor\": \"white\"}}, \"shapedefaults\": {\"line\": {\"color\": \"#2a3f5f\"}}, \"ternary\": {\"aaxis\": {\"gridcolor\": \"white\", \"linecolor\": \"white\", \"ticks\": \"\"}, \"baxis\": {\"gridcolor\": \"white\", \"linecolor\": \"white\", \"ticks\": \"\"}, \"bgcolor\": \"#E5ECF6\", \"caxis\": {\"gridcolor\": \"white\", \"linecolor\": \"white\", \"ticks\": \"\"}}, \"title\": {\"x\": 0.05}, \"xaxis\": {\"automargin\": true, \"gridcolor\": \"white\", \"linecolor\": \"white\", \"ticks\": \"\", \"title\": {\"standoff\": 15}, \"zerolinecolor\": \"white\", \"zerolinewidth\": 2}, \"yaxis\": {\"automargin\": true, \"gridcolor\": \"white\", \"linecolor\": \"white\", \"ticks\": \"\", \"title\": {\"standoff\": 15}, \"zerolinecolor\": \"white\", \"zerolinewidth\": 2}}}, \"title\": {\"text\": \"Gender Distribution\", \"x\": 0.5}, \"xaxis\": {\"title\": {\"text\": \"Gender\"}}, \"yaxis\": {\"title\": {\"text\": \"Count \"}}},                        {\"responsive\": true}                    ).then(function(){\n",
       "                            \n",
       "var gd = document.getElementById('89173f8e-c058-49a5-bddf-47a3eb690232');\n",
       "var x = new MutationObserver(function (mutations, observer) {{\n",
       "        var display = window.getComputedStyle(gd).display;\n",
       "        if (!display || display === 'none') {{\n",
       "            console.log([gd, 'removed!']);\n",
       "            Plotly.purge(gd);\n",
       "            observer.disconnect();\n",
       "        }}\n",
       "}});\n",
       "\n",
       "// Listen for the removal of the full notebook cells\n",
       "var notebookContainer = gd.closest('#notebook-container');\n",
       "if (notebookContainer) {{\n",
       "    x.observe(notebookContainer, {childList: true});\n",
       "}}\n",
       "\n",
       "// Listen for the clearing of the current output cell\n",
       "var outputEl = gd.closest('.output');\n",
       "if (outputEl) {{\n",
       "    x.observe(outputEl, {childList: true});\n",
       "}}\n",
       "\n",
       "                        })                };                });            </script>        </div>"
      ]
     },
     "metadata": {},
     "output_type": "display_data"
    }
   ],
   "source": [
    "fig = go.Figure(go.Bar(\n",
    "    x=df_Gender['Gender'],y=df_Gender['count'],\n",
    "    marker={'color': df_Gender['count'], \n",
    "    'colorscale': 'Viridis'},  \n",
    "    text=df_Gender['count'],\n",
    "    textposition = \"outside\",\n",
    "))\n",
    "fig.update_layout(title_text='Gender Distribution',xaxis_title=\"Gender\",yaxis_title=\"Count \",title_x=0.5)\n",
    "fig.show()"
   ]
  },
  {
   "cell_type": "code",
   "execution_count": 22,
   "metadata": {
    "execution": {
     "iopub.execute_input": "2021-02-21T23:25:20.038010Z",
     "iopub.status.busy": "2021-02-21T23:25:20.034076Z",
     "iopub.status.idle": "2021-02-21T23:25:20.090176Z",
     "shell.execute_reply": "2021-02-21T23:25:20.089542Z"
    },
    "papermill": {
     "duration": 0.105244,
     "end_time": "2021-02-21T23:25:20.090355",
     "exception": false,
     "start_time": "2021-02-21T23:25:19.985111",
     "status": "completed"
    },
    "tags": []
   },
   "outputs": [
    {
     "data": {
      "text/html": [
       "<div>                            <div id=\"206ceb23-91a4-4f61-b3b4-deb61d93124f\" class=\"plotly-graph-div\" style=\"height:525px; width:100%;\"></div>            <script type=\"text/javascript\">                require([\"plotly\"], function(Plotly) {                    window.PLOTLYENV=window.PLOTLYENV || {};                                    if (document.getElementById(\"206ceb23-91a4-4f61-b3b4-deb61d93124f\")) {                    Plotly.newPlot(                        \"206ceb23-91a4-4f61-b3b4-deb61d93124f\",                        [{\"marker\": {\"color\": [48197.43, 64202.43], \"colorscale\": [[0.0, \"rgb(61, 89, 65)\"], [0.16666666666666666, \"rgb(119, 136, 104)\"], [0.3333333333333333, \"rgb(181, 185, 145)\"], [0.5, \"rgb(246, 237, 189)\"], [0.6666666666666666, \"rgb(237, 187, 138)\"], [0.8333333333333334, \"rgb(222, 138, 90)\"], [1.0, \"rgb(202, 86, 44)\"]]}, \"name\": \"Mean Salary\", \"text\": [48197.43, 64202.43], \"textposition\": \"inside\", \"type\": \"bar\", \"x\": [\"Female\", \"Male\"], \"xaxis\": \"x\", \"y\": [48197.43, 64202.43], \"yaxis\": \"y\"}, {\"marker\": {\"color\": [1025.34, 1412.85], \"colorscale\": [[0.0, \"rgb(61, 89, 65)\"], [0.16666666666666666, \"rgb(119, 136, 104)\"], [0.3333333333333333, \"rgb(181, 185, 145)\"], [0.5, \"rgb(246, 237, 189)\"], [0.6666666666666666, \"rgb(237, 187, 138)\"], [0.8333333333333334, \"rgb(222, 138, 90)\"], [1.0, \"rgb(202, 86, 44)\"]]}, \"name\": \"Mean Amount Spent\", \"text\": [1025.34, 1412.85], \"textposition\": \"inside\", \"type\": \"bar\", \"x\": [\"Female\", \"Male\"], \"xaxis\": \"x2\", \"y\": [1025.34, 1412.85], \"yaxis\": \"y2\"}],                        {\"annotations\": [{\"font\": {\"size\": 16}, \"showarrow\": false, \"text\": \"Gender AVG Salary \", \"x\": 0.5, \"xanchor\": \"center\", \"xref\": \"paper\", \"y\": 1.0, \"yanchor\": \"bottom\", \"yref\": \"paper\"}, {\"font\": {\"size\": 16}, \"showarrow\": false, \"text\": \"Gender AVG Amount Spent \", \"x\": 0.5, \"xanchor\": \"center\", \"xref\": \"paper\", \"y\": 0.375, \"yanchor\": \"bottom\", \"yref\": \"paper\"}], \"template\": {\"data\": {\"bar\": [{\"error_x\": {\"color\": \"#2a3f5f\"}, \"error_y\": {\"color\": \"#2a3f5f\"}, \"marker\": {\"line\": {\"color\": \"#E5ECF6\", \"width\": 0.5}}, \"type\": \"bar\"}], \"barpolar\": [{\"marker\": {\"line\": {\"color\": \"#E5ECF6\", \"width\": 0.5}}, \"type\": \"barpolar\"}], \"carpet\": [{\"aaxis\": {\"endlinecolor\": \"#2a3f5f\", \"gridcolor\": \"white\", \"linecolor\": \"white\", \"minorgridcolor\": \"white\", \"startlinecolor\": \"#2a3f5f\"}, \"baxis\": {\"endlinecolor\": \"#2a3f5f\", \"gridcolor\": \"white\", \"linecolor\": \"white\", \"minorgridcolor\": \"white\", \"startlinecolor\": \"#2a3f5f\"}, \"type\": \"carpet\"}], \"choropleth\": [{\"colorbar\": {\"outlinewidth\": 0, \"ticks\": \"\"}, \"type\": \"choropleth\"}], \"contour\": [{\"colorbar\": {\"outlinewidth\": 0, \"ticks\": \"\"}, \"colorscale\": [[0.0, \"#0d0887\"], [0.1111111111111111, \"#46039f\"], [0.2222222222222222, \"#7201a8\"], [0.3333333333333333, \"#9c179e\"], [0.4444444444444444, \"#bd3786\"], [0.5555555555555556, \"#d8576b\"], [0.6666666666666666, \"#ed7953\"], [0.7777777777777778, \"#fb9f3a\"], [0.8888888888888888, \"#fdca26\"], [1.0, \"#f0f921\"]], \"type\": \"contour\"}], \"contourcarpet\": [{\"colorbar\": {\"outlinewidth\": 0, \"ticks\": \"\"}, \"type\": \"contourcarpet\"}], \"heatmap\": [{\"colorbar\": {\"outlinewidth\": 0, \"ticks\": \"\"}, \"colorscale\": [[0.0, \"#0d0887\"], [0.1111111111111111, \"#46039f\"], [0.2222222222222222, \"#7201a8\"], [0.3333333333333333, \"#9c179e\"], [0.4444444444444444, \"#bd3786\"], [0.5555555555555556, \"#d8576b\"], [0.6666666666666666, \"#ed7953\"], [0.7777777777777778, \"#fb9f3a\"], [0.8888888888888888, \"#fdca26\"], [1.0, \"#f0f921\"]], \"type\": \"heatmap\"}], \"heatmapgl\": [{\"colorbar\": {\"outlinewidth\": 0, \"ticks\": \"\"}, \"colorscale\": [[0.0, \"#0d0887\"], [0.1111111111111111, \"#46039f\"], [0.2222222222222222, \"#7201a8\"], [0.3333333333333333, \"#9c179e\"], [0.4444444444444444, \"#bd3786\"], [0.5555555555555556, \"#d8576b\"], [0.6666666666666666, \"#ed7953\"], [0.7777777777777778, \"#fb9f3a\"], [0.8888888888888888, \"#fdca26\"], [1.0, \"#f0f921\"]], \"type\": \"heatmapgl\"}], \"histogram\": [{\"marker\": {\"colorbar\": {\"outlinewidth\": 0, \"ticks\": \"\"}}, \"type\": \"histogram\"}], \"histogram2d\": [{\"colorbar\": {\"outlinewidth\": 0, \"ticks\": \"\"}, \"colorscale\": [[0.0, \"#0d0887\"], [0.1111111111111111, \"#46039f\"], [0.2222222222222222, \"#7201a8\"], [0.3333333333333333, \"#9c179e\"], [0.4444444444444444, \"#bd3786\"], [0.5555555555555556, \"#d8576b\"], [0.6666666666666666, \"#ed7953\"], [0.7777777777777778, \"#fb9f3a\"], [0.8888888888888888, \"#fdca26\"], [1.0, \"#f0f921\"]], \"type\": \"histogram2d\"}], \"histogram2dcontour\": [{\"colorbar\": {\"outlinewidth\": 0, \"ticks\": \"\"}, \"colorscale\": [[0.0, \"#0d0887\"], [0.1111111111111111, \"#46039f\"], [0.2222222222222222, \"#7201a8\"], [0.3333333333333333, \"#9c179e\"], [0.4444444444444444, \"#bd3786\"], [0.5555555555555556, \"#d8576b\"], [0.6666666666666666, \"#ed7953\"], [0.7777777777777778, \"#fb9f3a\"], [0.8888888888888888, \"#fdca26\"], [1.0, \"#f0f921\"]], \"type\": \"histogram2dcontour\"}], \"mesh3d\": [{\"colorbar\": {\"outlinewidth\": 0, \"ticks\": \"\"}, \"type\": \"mesh3d\"}], \"parcoords\": [{\"line\": {\"colorbar\": {\"outlinewidth\": 0, \"ticks\": \"\"}}, \"type\": \"parcoords\"}], \"pie\": [{\"automargin\": true, \"type\": \"pie\"}], \"scatter\": [{\"marker\": {\"colorbar\": {\"outlinewidth\": 0, \"ticks\": \"\"}}, \"type\": \"scatter\"}], \"scatter3d\": [{\"line\": {\"colorbar\": {\"outlinewidth\": 0, \"ticks\": \"\"}}, \"marker\": {\"colorbar\": {\"outlinewidth\": 0, \"ticks\": \"\"}}, \"type\": \"scatter3d\"}], \"scattercarpet\": [{\"marker\": {\"colorbar\": {\"outlinewidth\": 0, \"ticks\": \"\"}}, \"type\": \"scattercarpet\"}], \"scattergeo\": [{\"marker\": {\"colorbar\": {\"outlinewidth\": 0, \"ticks\": \"\"}}, \"type\": \"scattergeo\"}], \"scattergl\": [{\"marker\": {\"colorbar\": {\"outlinewidth\": 0, \"ticks\": \"\"}}, \"type\": \"scattergl\"}], \"scattermapbox\": [{\"marker\": {\"colorbar\": {\"outlinewidth\": 0, \"ticks\": \"\"}}, \"type\": \"scattermapbox\"}], \"scatterpolar\": [{\"marker\": {\"colorbar\": {\"outlinewidth\": 0, \"ticks\": \"\"}}, \"type\": \"scatterpolar\"}], \"scatterpolargl\": [{\"marker\": {\"colorbar\": {\"outlinewidth\": 0, \"ticks\": \"\"}}, \"type\": \"scatterpolargl\"}], \"scatterternary\": [{\"marker\": {\"colorbar\": {\"outlinewidth\": 0, \"ticks\": \"\"}}, \"type\": \"scatterternary\"}], \"surface\": [{\"colorbar\": {\"outlinewidth\": 0, \"ticks\": \"\"}, \"colorscale\": [[0.0, \"#0d0887\"], [0.1111111111111111, \"#46039f\"], [0.2222222222222222, \"#7201a8\"], [0.3333333333333333, \"#9c179e\"], [0.4444444444444444, \"#bd3786\"], [0.5555555555555556, \"#d8576b\"], [0.6666666666666666, \"#ed7953\"], [0.7777777777777778, \"#fb9f3a\"], [0.8888888888888888, \"#fdca26\"], [1.0, \"#f0f921\"]], \"type\": \"surface\"}], \"table\": [{\"cells\": {\"fill\": {\"color\": \"#EBF0F8\"}, \"line\": {\"color\": \"white\"}}, \"header\": {\"fill\": {\"color\": \"#C8D4E3\"}, \"line\": {\"color\": \"white\"}}, \"type\": \"table\"}]}, \"layout\": {\"annotationdefaults\": {\"arrowcolor\": \"#2a3f5f\", \"arrowhead\": 0, \"arrowwidth\": 1}, \"autotypenumbers\": \"strict\", \"coloraxis\": {\"colorbar\": {\"outlinewidth\": 0, \"ticks\": \"\"}}, \"colorscale\": {\"diverging\": [[0, \"#8e0152\"], [0.1, \"#c51b7d\"], [0.2, \"#de77ae\"], [0.3, \"#f1b6da\"], [0.4, \"#fde0ef\"], [0.5, \"#f7f7f7\"], [0.6, \"#e6f5d0\"], [0.7, \"#b8e186\"], [0.8, \"#7fbc41\"], [0.9, \"#4d9221\"], [1, \"#276419\"]], \"sequential\": [[0.0, \"#0d0887\"], [0.1111111111111111, \"#46039f\"], [0.2222222222222222, \"#7201a8\"], [0.3333333333333333, \"#9c179e\"], [0.4444444444444444, \"#bd3786\"], [0.5555555555555556, \"#d8576b\"], [0.6666666666666666, \"#ed7953\"], [0.7777777777777778, \"#fb9f3a\"], [0.8888888888888888, \"#fdca26\"], [1.0, \"#f0f921\"]], \"sequentialminus\": [[0.0, \"#0d0887\"], [0.1111111111111111, \"#46039f\"], [0.2222222222222222, \"#7201a8\"], [0.3333333333333333, \"#9c179e\"], [0.4444444444444444, \"#bd3786\"], [0.5555555555555556, \"#d8576b\"], [0.6666666666666666, \"#ed7953\"], [0.7777777777777778, \"#fb9f3a\"], [0.8888888888888888, \"#fdca26\"], [1.0, \"#f0f921\"]]}, \"colorway\": [\"#636efa\", \"#EF553B\", \"#00cc96\", \"#ab63fa\", \"#FFA15A\", \"#19d3f3\", \"#FF6692\", \"#B6E880\", \"#FF97FF\", \"#FECB52\"], \"font\": {\"color\": \"#2a3f5f\"}, \"geo\": {\"bgcolor\": \"white\", \"lakecolor\": \"white\", \"landcolor\": \"#E5ECF6\", \"showlakes\": true, \"showland\": true, \"subunitcolor\": \"white\"}, \"hoverlabel\": {\"align\": \"left\"}, \"hovermode\": \"closest\", \"mapbox\": {\"style\": \"light\"}, \"paper_bgcolor\": \"white\", \"plot_bgcolor\": \"#E5ECF6\", \"polar\": {\"angularaxis\": {\"gridcolor\": \"white\", \"linecolor\": \"white\", \"ticks\": \"\"}, \"bgcolor\": \"#E5ECF6\", \"radialaxis\": {\"gridcolor\": \"white\", \"linecolor\": \"white\", \"ticks\": \"\"}}, \"scene\": {\"xaxis\": {\"backgroundcolor\": \"#E5ECF6\", \"gridcolor\": \"white\", \"gridwidth\": 2, \"linecolor\": \"white\", \"showbackground\": true, \"ticks\": \"\", \"zerolinecolor\": \"white\"}, \"yaxis\": {\"backgroundcolor\": \"#E5ECF6\", \"gridcolor\": \"white\", \"gridwidth\": 2, \"linecolor\": \"white\", \"showbackground\": true, \"ticks\": \"\", \"zerolinecolor\": \"white\"}, \"zaxis\": {\"backgroundcolor\": \"#E5ECF6\", \"gridcolor\": \"white\", \"gridwidth\": 2, \"linecolor\": \"white\", \"showbackground\": true, \"ticks\": \"\", \"zerolinecolor\": \"white\"}}, \"shapedefaults\": {\"line\": {\"color\": \"#2a3f5f\"}}, \"ternary\": {\"aaxis\": {\"gridcolor\": \"white\", \"linecolor\": \"white\", \"ticks\": \"\"}, \"baxis\": {\"gridcolor\": \"white\", \"linecolor\": \"white\", \"ticks\": \"\"}, \"bgcolor\": \"#E5ECF6\", \"caxis\": {\"gridcolor\": \"white\", \"linecolor\": \"white\", \"ticks\": \"\"}}, \"title\": {\"x\": 0.05}, \"xaxis\": {\"automargin\": true, \"gridcolor\": \"white\", \"linecolor\": \"white\", \"ticks\": \"\", \"title\": {\"standoff\": 15}, \"zerolinecolor\": \"white\", \"zerolinewidth\": 2}, \"yaxis\": {\"automargin\": true, \"gridcolor\": \"white\", \"linecolor\": \"white\", \"ticks\": \"\", \"title\": {\"standoff\": 15}, \"zerolinecolor\": \"white\", \"zerolinewidth\": 2}}}, \"title\": {\"text\": \"Gender \", \"x\": 0.5}, \"xaxis\": {\"anchor\": \"y\", \"domain\": [0.0, 1.0]}, \"xaxis2\": {\"anchor\": \"y2\", \"domain\": [0.0, 1.0]}, \"yaxis\": {\"anchor\": \"x\", \"domain\": [0.625, 1.0]}, \"yaxis2\": {\"anchor\": \"x2\", \"domain\": [0.0, 0.375]}},                        {\"responsive\": true}                    ).then(function(){\n",
       "                            \n",
       "var gd = document.getElementById('206ceb23-91a4-4f61-b3b4-deb61d93124f');\n",
       "var x = new MutationObserver(function (mutations, observer) {{\n",
       "        var display = window.getComputedStyle(gd).display;\n",
       "        if (!display || display === 'none') {{\n",
       "            console.log([gd, 'removed!']);\n",
       "            Plotly.purge(gd);\n",
       "            observer.disconnect();\n",
       "        }}\n",
       "}});\n",
       "\n",
       "// Listen for the removal of the full notebook cells\n",
       "var notebookContainer = gd.closest('#notebook-container');\n",
       "if (notebookContainer) {{\n",
       "    x.observe(notebookContainer, {childList: true});\n",
       "}}\n",
       "\n",
       "// Listen for the clearing of the current output cell\n",
       "var outputEl = gd.closest('.output');\n",
       "if (outputEl) {{\n",
       "    x.observe(outputEl, {childList: true});\n",
       "}}\n",
       "\n",
       "                        })                };                });            </script>        </div>"
      ]
     },
     "metadata": {},
     "output_type": "display_data"
    }
   ],
   "source": [
    "df_Gender_Salary=df.groupby(by =['Gender'])['Salary'].mean().to_frame().reset_index().rename(columns={'Salary':'AVG_Salary'})\n",
    "df_Gender_AmountSpent=df.groupby(by =['Gender'])['AmountSpent'].mean().to_frame().reset_index().rename(columns={'Gender':'Gender1','AmountSpent':'AVG_AmountSpent'})\n",
    "result = pd.concat([df_Gender_Salary,df_Gender_AmountSpent], axis=1)\n",
    "result.drop(['Gender1'],inplace=True,axis=1)\n",
    "result[\"AVG_Salary\"]=result[\"AVG_Salary\"].map(lambda x:round(x,2))\n",
    "result[\"AVG_AmountSpent\"]=result[\"AVG_AmountSpent\"].map(lambda x:round(x,2))\n",
    "\n",
    "\n",
    "fig = make_subplots(rows=2, cols=1,\n",
    "                   subplot_titles=(\"Gender AVG Salary \",\n",
    "                                   \"Gender AVG Amount Spent \" ))  # Subplot titles\n",
    "                                  \n",
    "\n",
    "fig.add_trace(go.Bar(\n",
    "    x=result['Gender'],y=result['AVG_Salary'],\n",
    "    name=\"Mean Salary\",\n",
    "    marker={'color': result['AVG_Salary'], \n",
    "    'colorscale': 'fall'},  \n",
    "    text=result['AVG_Salary'],\n",
    "    textposition = \"inside\"),\n",
    "    row=1, col=1         \n",
    ")\n",
    "fig.add_trace(go.Bar(\n",
    "    x=result['Gender'],y=result['AVG_AmountSpent'],\n",
    "    name=\"Mean Amount Spent\",\n",
    "    marker={'color': result['AVG_AmountSpent'], \n",
    "    'colorscale': 'fall'},  \n",
    "    text=result['AVG_AmountSpent'],\n",
    "    textposition = \"inside\"),\n",
    "    row=2, col=1         \n",
    ")\n",
    "\n",
    "fig.update_layout(title = \"Gender \",title_x=0.5)\n",
    "fig.show()"
   ]
  },
  {
   "cell_type": "code",
   "execution_count": 23,
   "metadata": {
    "execution": {
     "iopub.execute_input": "2021-02-21T23:25:20.184550Z",
     "iopub.status.busy": "2021-02-21T23:25:20.182679Z",
     "iopub.status.idle": "2021-02-21T23:25:20.283632Z",
     "shell.execute_reply": "2021-02-21T23:25:20.282957Z"
    },
    "papermill": {
     "duration": 0.15474,
     "end_time": "2021-02-21T23:25:20.283777",
     "exception": false,
     "start_time": "2021-02-21T23:25:20.129037",
     "status": "completed"
    },
    "tags": []
   },
   "outputs": [
    {
     "data": {
      "text/html": [
       "<div>                            <div id=\"5eab884e-11c5-45ee-b452-153a0bc1f261\" class=\"plotly-graph-div\" style=\"height:525px; width:100%;\"></div>            <script type=\"text/javascript\">                require([\"plotly\"], function(Plotly) {                    window.PLOTLYENV=window.PLOTLYENV || {};                                    if (document.getElementById(\"5eab884e-11c5-45ee-b452-153a0bc1f261\")) {                    Plotly.newPlot(                        \"5eab884e-11c5-45ee-b452-153a0bc1f261\",                        [{\"hovertemplate\": \"Gender=Female<br>Salary=%{x}<br>AmountSpent=%{y}<extra></extra>\", \"legendgroup\": \"Female\", \"marker\": {\"color\": \"#636efa\", \"symbol\": \"circle\"}, \"mode\": \"markers\", \"name\": \"Female\", \"orientation\": \"v\", \"showlegend\": true, \"type\": \"scatter\", \"x\": [47500, 13500, 68400, 48100, 51900, 44100, 110000, 83100, 82800, 14000, 14300, 60200, 41700, 92300, 72900, 66900, 39700, 87700, 27000, 64100, 41600, 20100, 96800, 81500, 49600, 111500, 83300, 90500, 87200, 105300, 56000, 46600, 33700, 25900, 15600, 14600, 62600, 13200, 51300, 15600, 90400, 60600, 24400, 22100, 74700, 32400, 11400, 48700, 12900, 67300, 33600, 16300, 110400, 21100, 21700, 42200, 52700, 91800, 27900, 70700, 46600, 104900, 14800, 12000, 66800, 13800, 44200, 35200, 16100, 93400, 52500, 45400, 21400, 53700, 68000, 14600, 100100, 10800, 81700, 21400, 114800, 67900, 11400, 16400, 109800, 41400, 49100, 42600, 11900, 14300, 39700, 88200, 84800, 28500, 51900, 28900, 60100, 84800, 35000, 61700, 46900, 123600, 48700, 39000, 40000, 118300, 27100, 91000, 35300, 10200, 12500, 64600, 16900, 13600, 80000, 72900, 40900, 26700, 23600, 19300, 61500, 101700, 120800, 17300, 42300, 42800, 51200, 11400, 14000, 97000, 29600, 15000, 74400, 33200, 70900, 23200, 63200, 79900, 54400, 13800, 14500, 14600, 100800, 19800, 15900, 12700, 114100, 13400, 76200, 12000, 103300, 47500, 31300, 32700, 107600, 65400, 43300, 51900, 80600, 42700, 14500, 68200, 102800, 34700, 25500, 27800, 130700, 118300, 25600, 30900, 25900, 22000, 96700, 40200, 16700, 40900, 69700, 48900, 27000, 43700, 63300, 33200, 78800, 53300, 23000, 82400, 97900, 88400, 86900, 45100, 73000, 66300, 71900, 10200, 24000, 46700, 53700, 12100, 33400, 47900, 40500, 13300, 75800, 48600, 39600, 11700, 64600, 34600, 37000, 18400, 22800, 10100, 59100, 19700, 30100, 43500, 35600, 36900, 93500, 11500, 21900, 74900, 23200, 32700, 35200, 13100, 23100, 47600, 47900, 32700, 126300, 108100, 43300, 17900, 74700, 68800, 25700, 17300, 60500, 84100, 72200, 78900, 62500, 17800, 105500, 46100, 12000, 48400, 35200, 53900, 36100, 11000, 88600, 18900, 17300, 81400, 43300, 79400, 63700, 118800, 79400, 20400, 17600, 76700, 72900, 21200, 62200, 24400, 72200, 16900, 22000, 18800, 26600, 72100, 14600, 15100, 15000, 50500, 42000, 38200, 39900, 21600, 65900, 97500, 31900, 45500, 12800, 12600, 17900, 14400, 23800, 36900, 20600, 54700, 22200, 70900, 80800, 39900, 71200, 61000, 75600, 53700, 89000, 18200, 73600, 45600, 13900, 27500, 41700, 51000, 47200, 35800, 58200, 13500, 59900, 18400, 13600, 97400, 37500, 22800, 14200, 28900, 13300, 21700, 12500, 31200, 13700, 58600, 55900, 13700, 81400, 90500, 82200, 43900, 20300, 16300, 15100, 12500, 10600, 41300, 27200, 27900, 43300, 49700, 82300, 51900, 85500, 12400, 111900, 40400, 13200, 52200, 43100, 40100, 61000, 79300, 30300, 20100, 42500, 52600, 37800, 20300, 131500, 12800, 17600, 28300, 14100, 44100, 22600, 70400, 66500, 41000, 26200, 60200, 83700, 42000, 21900, 37100, 28200, 14200, 46600, 42800, 33600, 55600, 24000, 21500, 68600, 23100, 53300, 112800, 72200, 14900, 68500, 35900, 36500, 86400, 39500, 110700, 33200, 53800, 135700, 20700, 84200, 79900, 19700, 35300, 25900, 11000, 65900, 108100, 79500, 95900, 96200, 43000, 15500, 27200, 26700, 76600, 12600, 12700, 77600, 92400, 71800, 32600, 29200, 12900, 64100, 46500, 12400, 40600, 54200, 10600, 76400, 93700, 96500, 79900, 50500, 16300, 49200, 72600, 17200, 32500, 49500, 47300, 32000, 44700, 69400, 118000, 88600, 22400, 25300, 15900, 46600, 82700, 17000, 42400, 17300, 109800, 64400, 27600, 25100, 46300, 74900, 62800, 77600, 19100, 128700, 14400, 47000, 36600, 65800, 63500, 57900, 60100, 67900, 29200, 55200, 44600, 67800, 25500, 20000, 102500, 52300, 13200, 22600, 37300, 36700, 44800, 70900, 38200, 18400, 40700, 36400, 75200, 25300, 43600, 56200, 84900, 82000, 33000, 36900, 33200, 32100, 11700, 99200, 19400], \"xaxis\": \"x\", \"y\": [755, 296, 1304, 782, 158, 704, 5564, 2766, 3010, 410, 194, 2328, 521, 655, 2075, 769, 573, 2446, 183, 1595, 982, 576, 3082, 3655, 844, 2510, 2574, 1116, 3604, 3360, 530, 906, 614, 449, 136, 468, 565, 358, 1424, 468, 2924, 307, 220, 280, 704, 920, 258, 528, 107, 1513, 805, 470, 1093, 470, 708, 1753, 855, 2452, 1184, 2150, 1153, 450, 209, 344, 2098, 127, 2524, 607, 202, 3079, 2038, 1203, 326, 235, 3688, 143, 3104, 123, 879, 498, 3596, 2925, 312, 218, 4279, 223, 474, 1790, 143, 458, 238, 2749, 2624, 621, 780, 830, 1594, 1826, 473, 1161, 703, 1892, 1457, 292, 613, 2681, 437, 708, 1093, 213, 202, 1298, 247, 183, 1985, 252, 962, 459, 161, 308, 1162, 2551, 5830, 381, 856, 759, 1257, 186, 229, 2599, 774, 378, 2479, 1037, 690, 770, 1512, 1165, 342, 363, 222, 385, 1789, 991, 503, 87, 1976, 143, 979, 264, 3378, 847, 357, 1276, 1512, 938, 1584, 1148, 2840, 827, 183, 818, 2238, 1615, 139, 408, 2070, 2502, 426, 862, 242, 472, 1231, 881, 108, 576, 584, 915, 1012, 950, 679, 607, 3398, 508, 79, 657, 2149, 3632, 2230, 448, 490, 544, 1846, 199, 357, 983, 1194, 90, 617, 662, 622, 236, 1830, 1583, 610, 193, 2206, 748, 632, 303, 452, 93, 1426, 330, 530, 500, 865, 1480, 1426, 157, 576, 1474, 788, 1252, 827, 314, 466, 801, 1090, 273, 1888, 2632, 326, 446, 1699, 1658, 173, 345, 409, 2710, 715, 2233, 921, 216, 1781, 418, 140, 992, 233, 2177, 438, 393, 2563, 184, 166, 1014, 1021, 1175, 364, 2176, 200, 513, 224, 534, 753, 242, 2119, 491, 3069, 281, 736, 170, 245, 3052, 47, 274, 341, 940, 232, 526, 586, 491, 1436, 1280, 860, 1624, 230, 164, 62, 223, 438, 371, 201, 1404, 275, 794, 1598, 619, 392, 1850, 1541, 2491, 1487, 322, 647, 1322, 191, 571, 1398, 1025, 1272, 1355, 981, 160, 613, 662, 349, 213, 1578, 258, 192, 905, 184, 387, 422, 1087, 163, 624, 788, 414, 3001, 863, 1517, 358, 304, 360, 348, 206, 114, 932, 446, 576, 716, 613, 580, 1162, 895, 205, 2340, 630, 227, 669, 1444, 1384, 1611, 2047, 1062, 271, 918, 1307, 1185, 180, 2840, 365, 163, 933, 153, 1659, 521, 2610, 1181, 768, 381, 1748, 1582, 105, 486, 653, 224, 197, 546, 685, 573, 1553, 362, 445, 1342, 457, 1598, 1861, 3278, 275, 1500, 962, 747, 1713, 1006, 2458, 1639, 843, 2746, 550, 954, 1041, 535, 1369, 582, 195, 777, 1133, 1651, 3168, 1457, 225, 210, 243, 1120, 2904, 241, 65, 858, 2191, 1946, 172, 556, 167, 1332, 829, 229, 690, 486, 517, 2216, 1521, 1364, 295, 642, 317, 1078, 1999, 329, 883, 1195, 640, 1320, 502, 2419, 581, 212, 947, 451, 406, 158, 1753, 659, 1166, 411, 2258, 1913, 893, 421, 1138, 1804, 1403, 2004, 403, 3995, 390, 963, 833, 869, 1023, 1693, 1430, 356, 636, 1714, 966, 680, 636, 182, 548, 2034, 512, 865, 673, 529, 666, 1685, 1476, 319, 232, 506, 2702, 510, 1047, 1546, 3072, 1800, 700, 514, 320, 405, 540, 5503, 384], \"yaxis\": \"y\"}, {\"hovertemplate\": \"<b>OLS trendline</b><br>AmountSpent = 0.0223505 * Salary + -51.8977<br>R<sup>2</sup>=0.525540<br><br>Gender=Female<br>Salary=%{x}<br>AmountSpent=%{y} <b>(trend)</b><extra></extra>\", \"legendgroup\": \"Female\", \"marker\": {\"color\": \"#636efa\", \"symbol\": \"circle\"}, \"mode\": \"lines\", \"name\": \"Female\", \"showlegend\": false, \"type\": \"scatter\", \"x\": [10100, 10200, 10200, 10600, 10600, 10800, 11000, 11000, 11400, 11400, 11400, 11500, 11700, 11700, 11900, 12000, 12000, 12000, 12100, 12400, 12400, 12500, 12500, 12500, 12600, 12600, 12700, 12700, 12800, 12800, 12900, 12900, 13100, 13200, 13200, 13200, 13300, 13300, 13400, 13500, 13500, 13600, 13600, 13700, 13700, 13800, 13800, 13900, 14000, 14000, 14100, 14200, 14200, 14300, 14300, 14400, 14400, 14500, 14500, 14600, 14600, 14600, 14600, 14800, 14900, 15000, 15000, 15100, 15100, 15500, 15600, 15600, 15900, 15900, 16100, 16300, 16300, 16300, 16400, 16700, 16900, 16900, 17000, 17200, 17300, 17300, 17300, 17300, 17600, 17600, 17800, 17900, 17900, 18200, 18400, 18400, 18400, 18800, 18900, 19100, 19300, 19400, 19700, 19700, 19800, 20000, 20100, 20100, 20300, 20300, 20400, 20600, 20700, 21100, 21200, 21400, 21400, 21500, 21600, 21700, 21700, 21900, 21900, 22000, 22000, 22100, 22200, 22400, 22600, 22600, 22800, 22800, 23000, 23100, 23100, 23200, 23200, 23600, 23800, 24000, 24000, 24400, 24400, 25100, 25300, 25300, 25500, 25500, 25600, 25700, 25900, 25900, 25900, 26200, 26600, 26700, 26700, 27000, 27000, 27100, 27200, 27200, 27500, 27600, 27800, 27900, 27900, 28200, 28300, 28500, 28900, 28900, 29200, 29200, 29600, 30100, 30300, 30900, 31200, 31300, 31900, 32000, 32100, 32400, 32500, 32600, 32700, 32700, 32700, 33000, 33200, 33200, 33200, 33200, 33400, 33600, 33600, 33700, 34600, 34700, 35000, 35200, 35200, 35200, 35300, 35300, 35600, 35800, 35900, 36100, 36400, 36500, 36600, 36700, 36900, 36900, 36900, 37000, 37100, 37300, 37500, 37800, 38200, 38200, 39000, 39500, 39600, 39700, 39700, 39900, 39900, 40000, 40100, 40200, 40400, 40500, 40600, 40700, 40900, 40900, 41000, 41300, 41400, 41600, 41700, 41700, 42000, 42000, 42200, 42300, 42400, 42500, 42600, 42700, 42800, 42800, 43000, 43100, 43300, 43300, 43300, 43300, 43500, 43600, 43700, 43900, 44100, 44100, 44200, 44600, 44700, 44800, 45100, 45400, 45500, 45600, 46100, 46300, 46500, 46600, 46600, 46600, 46600, 46700, 46900, 47000, 47200, 47300, 47500, 47500, 47600, 47900, 47900, 48100, 48400, 48600, 48700, 48700, 48900, 49100, 49200, 49500, 49600, 49700, 50500, 50500, 51000, 51200, 51300, 51900, 51900, 51900, 51900, 52200, 52300, 52500, 52600, 52700, 53300, 53300, 53700, 53700, 53700, 53800, 53900, 54200, 54400, 54700, 55200, 55600, 55900, 56000, 56200, 57900, 58200, 58600, 59100, 59900, 60100, 60100, 60200, 60200, 60500, 60600, 61000, 61000, 61500, 61700, 62200, 62500, 62600, 62800, 63200, 63300, 63500, 63700, 64100, 64100, 64400, 64600, 64600, 65400, 65800, 65900, 65900, 66300, 66500, 66800, 66900, 67300, 67800, 67900, 67900, 68000, 68200, 68400, 68500, 68600, 68800, 69400, 69700, 70400, 70700, 70900, 70900, 70900, 71200, 71800, 71900, 72100, 72200, 72200, 72200, 72600, 72900, 72900, 72900, 73000, 73600, 74400, 74700, 74700, 74900, 74900, 75200, 75600, 75800, 76200, 76400, 76600, 76700, 77600, 77600, 78800, 78900, 79300, 79400, 79400, 79500, 79900, 79900, 79900, 80000, 80600, 80800, 81400, 81400, 81500, 81700, 82000, 82200, 82300, 82400, 82700, 82800, 83100, 83300, 83700, 84100, 84200, 84800, 84800, 84900, 85500, 86400, 86900, 87200, 87700, 88200, 88400, 88600, 88600, 89000, 90400, 90500, 90500, 91000, 91800, 92300, 92400, 93400, 93500, 93700, 95900, 96200, 96500, 96700, 96800, 97000, 97400, 97500, 97900, 99200, 100100, 100800, 101700, 102500, 102800, 103300, 104900, 105300, 105500, 107600, 108100, 108100, 109800, 109800, 110000, 110400, 110700, 111500, 111900, 112800, 114100, 114800, 118000, 118300, 118300, 118800, 120800, 123600, 126300, 128700, 130700, 131500, 135700], \"xaxis\": \"x\", \"y\": [173.84254523171927, 176.07759719497528, 176.07759719497528, 185.01780504799933, 185.01780504799933, 189.4879089745113, 193.95801290102332, 193.95801290102332, 202.89822075404737, 202.89822075404737, 202.89822075404737, 205.13327271730333, 209.60337664381535, 209.60337664381535, 214.07348057032738, 216.3085325335834, 216.3085325335834, 216.3085325335834, 218.54358449683934, 225.24874038660738, 225.24874038660738, 227.4837923498634, 227.4837923498634, 227.4837923498634, 229.7188443131194, 229.7188443131194, 231.95389627637542, 231.95389627637542, 234.18894823963143, 234.18894823963143, 236.42400020288738, 236.42400020288738, 240.8941041293994, 243.12915609265542, 243.12915609265542, 243.12915609265542, 245.36420805591143, 245.36420805591143, 247.59926001916745, 249.83431198242346, 249.83431198242346, 252.06936394567947, 252.06936394567947, 254.30441590893543, 254.30441590893543, 256.53946787219144, 256.53946787219144, 258.77451983544745, 261.00957179870346, 261.00957179870346, 263.2446237619595, 265.4796757252155, 265.4796757252155, 267.7147276884715, 267.7147276884715, 269.94977965172745, 269.94977965172745, 272.18483161498347, 272.18483161498347, 274.4198835782395, 274.4198835782395, 274.4198835782395, 274.4198835782395, 278.8899875047515, 281.1250394680075, 283.3600914312635, 283.3600914312635, 285.59514339451954, 285.59514339451954, 294.53535124754353, 296.77040321079954, 296.77040321079954, 303.4755591005676, 303.4755591005676, 307.94566302707955, 312.41576695359157, 312.41576695359157, 312.41576695359157, 314.6508189168476, 321.3559748066156, 325.8260787331276, 325.8260787331276, 328.0611306963836, 332.5312346228956, 334.76628658615164, 334.76628658615164, 334.76628658615164, 334.76628658615164, 341.4714424759196, 341.4714424759196, 345.94154640243164, 348.17659836568765, 348.17659836568765, 354.8817542554557, 359.35185818196766, 359.35185818196766, 359.35185818196766, 368.2920660349917, 370.5271179982477, 374.9972219247597, 379.4673258512717, 381.7023778145277, 388.40753370429576, 388.40753370429576, 390.64258566755177, 395.11268959406374, 397.34774155731975, 397.34774155731975, 401.8178454838318, 401.8178454838318, 404.0528974470878, 408.52300137359975, 410.75805333685577, 419.6982611898798, 421.9333131531358, 426.4034170796478, 426.4034170796478, 428.6384690429038, 430.8735210061598, 433.10857296941583, 433.10857296941583, 437.57867689592786, 437.57867689592786, 439.81372885918387, 439.81372885918387, 442.0487808224399, 444.28383278569584, 448.75393671220786, 453.2240406387199, 453.2240406387199, 457.6941445652319, 457.6941445652319, 462.1642484917439, 464.39930045499995, 464.39930045499995, 466.6343524182559, 466.6343524182559, 475.57456027127995, 480.044664197792, 484.514768124304, 484.514768124304, 493.45497597732793, 493.45497597732793, 509.10033972011996, 513.570443646632, 513.570443646632, 518.0405475731441, 518.0405475731441, 520.2755995364001, 522.5106514996561, 526.9807554261681, 526.9807554261681, 526.9807554261681, 533.6859113159361, 542.6261191689601, 544.8611711322161, 544.8611711322161, 551.5663270219842, 551.5663270219842, 553.8013789852401, 556.0364309484962, 556.0364309484962, 562.7415868382642, 564.9766388015202, 569.4467427280322, 571.6817946912882, 571.6817946912882, 578.3869505810562, 580.6220025443122, 585.0921064708242, 594.0323143238483, 594.0323143238483, 600.7374702136162, 600.7374702136162, 609.6776780666403, 620.8529378829203, 625.3230418094323, 638.7333535889684, 645.4385094787364, 647.6735614419923, 661.0838732215284, 663.3189251847843, 665.5539771480404, 672.2591330378084, 674.4941850010645, 676.7292369643204, 678.9642889275764, 678.9642889275764, 678.9642889275764, 685.6694448173445, 690.1395487438565, 690.1395487438565, 690.1395487438565, 690.1395487438565, 694.6096526703685, 699.0797565968804, 699.0797565968804, 701.3148085601365, 721.4302762294406, 723.6653281926965, 730.3704840824645, 734.8405880089765, 734.8405880089765, 734.8405880089765, 737.0756399722326, 737.0756399722326, 743.7807958620006, 748.2508997885126, 750.4859517517685, 754.9560556782806, 761.6612115680487, 763.8962635313046, 766.1313154945606, 768.3663674578166, 772.8364713843287, 772.8364713843287, 772.8364713843287, 775.0715233475846, 777.3065753108407, 781.7766792373527, 786.2467831638646, 792.9519390536327, 801.8921469066566, 801.8921469066566, 819.7725626127047, 830.9478224289848, 833.1828743922408, 835.4179263554968, 835.4179263554968, 839.8880302820088, 839.8880302820088, 842.1230822452648, 844.3581342085208, 846.5931861717768, 851.0632900982888, 853.2983420615448, 855.5333940248008, 857.7684459880568, 862.2385499145688, 862.2385499145688, 864.4736018778249, 871.1787577675929, 873.4138097308488, 877.8839136573608, 880.1189656206169, 880.1189656206169, 886.8241215103849, 886.8241215103849, 891.2942254368969, 893.5292774001529, 895.7643293634089, 897.9993813266649, 900.234433289921, 902.4694852531769, 904.7045372164329, 904.7045372164329, 909.1746411429449, 911.409693106201, 915.879797032713, 915.879797032713, 915.879797032713, 915.879797032713, 920.349900959225, 922.584952922481, 924.8200048857369, 929.290108812249, 933.760212738761, 933.760212738761, 935.995264702017, 944.935472555041, 947.170524518297, 949.405576481553, 956.110732371321, 962.8158882610891, 965.050940224345, 967.2859921876011, 978.461252003881, 982.9313559303931, 987.401459856905, 989.6365118201612, 989.6365118201612, 989.6365118201612, 989.6365118201612, 991.8715637834172, 996.3416677099291, 998.576719673185, 1003.0468235996972, 1005.2818755629531, 1009.751979489465, 1009.751979489465, 1011.9870314527212, 1018.6921873424891, 1018.6921873424891, 1023.1622912690012, 1029.867447158769, 1034.3375510852811, 1036.572603048537, 1036.572603048537, 1041.0427069750492, 1045.5128109015611, 1047.747862864817, 1054.4530187545852, 1056.6880707178411, 1058.923122681097, 1076.8035383871452, 1076.8035383871452, 1087.9787982034252, 1092.4489021299373, 1094.6839540931933, 1108.0942658727292, 1108.0942658727292, 1108.0942658727292, 1108.0942658727292, 1114.7994217624973, 1117.0344737257533, 1121.5045776522652, 1123.7396296155214, 1125.9746815787773, 1139.3849933583133, 1139.3849933583133, 1148.3252012113373, 1148.3252012113373, 1148.3252012113373, 1150.5602531745933, 1152.7953051378493, 1159.5004610276173, 1163.9705649541295, 1170.6757208438974, 1181.8509806601774, 1190.7911885132014, 1197.4963444029695, 1199.7313963662255, 1204.2015002927374, 1242.1973836680895, 1248.9025395578576, 1257.8427474108817, 1269.0180072271617, 1286.8984229332095, 1291.3685268597217, 1291.3685268597217, 1293.6035788229776, 1293.6035788229776, 1300.3087347127457, 1302.5437866760017, 1311.4839945290257, 1311.4839945290257, 1322.6592543453057, 1327.1293582718176, 1338.3046180880976, 1345.0097739778657, 1347.2448259411217, 1351.7149298676338, 1360.6551377206579, 1362.8901896839138, 1367.3602936104257, 1371.8303975369379, 1380.770605389962, 1380.770605389962, 1387.4757612797298, 1391.945865206242, 1391.945865206242, 1409.8262809122898, 1418.7664887653139, 1421.00154072857, 1421.00154072857, 1429.9417485815939, 1434.411852508106, 1441.117008397874, 1443.35206036113, 1452.292268214154, 1463.467528030434, 1465.70257999369, 1465.70257999369, 1467.937631956946, 1472.4077358834581, 1476.87783980997, 1479.112891773226, 1481.347943736482, 1485.818047662994, 1499.22835944253, 1505.9335153322982, 1521.57887907509, 1528.2840349648582, 1532.75413889137, 1532.75413889137, 1532.75413889137, 1539.4592947811382, 1552.8696065606741, 1555.1046585239303, 1559.5747624504422, 1561.8098144136982, 1561.8098144136982, 1561.8098144136982, 1570.7500222667222, 1577.4551781564903, 1577.4551781564903, 1577.4551781564903, 1579.6902301197463, 1593.1005418992822, 1610.9809576053303, 1617.6861134950984, 1617.6861134950984, 1622.1562174216103, 1622.1562174216103, 1628.8613733113784, 1637.8015811644025, 1642.2716850909144, 1651.2118929439384, 1655.6819968704503, 1660.1521007969625, 1662.3871527602184, 1682.5026204295225, 1682.5026204295225, 1709.3232439885946, 1711.5582959518506, 1720.4985038048746, 1722.7335557681306, 1722.7335557681306, 1724.9686077313866, 1733.9088155844106, 1733.9088155844106, 1733.9088155844106, 1736.1438675476666, 1749.5541793272027, 1754.0242832537147, 1767.4345950332506, 1767.4345950332506, 1769.6696469965068, 1774.1397509230187, 1780.8449068127868, 1785.3150107392987, 1787.5500627025547, 1789.7851146658106, 1796.4902705555787, 1798.7253225188347, 1805.4304784086028, 1809.9005823351147, 1818.8407901881387, 1827.7809980411628, 1830.0160500044187, 1843.426361783955, 1843.426361783955, 1845.6614137472109, 1859.0717255267468, 1879.1871931960509, 1890.362453012331, 1897.067608902099, 1908.242868718379, 1919.418128534659, 1923.8882324611711, 1928.358336387683, 1928.358336387683, 1937.298544240707, 1968.5892717262911, 1970.824323689547, 1970.824323689547, 1981.999583505827, 1999.8799992118752, 2011.0552590281554, 2013.2903109914114, 2035.6408306239714, 2037.8758825872274, 2042.3459865137393, 2091.517129705371, 2098.2222855951395, 2104.9274414849074, 2109.3975454114193, 2111.6325973746752, 2116.1027013011876, 2125.0429091542114, 2127.2779611174674, 2136.2181689704917, 2165.2738444928195, 2185.3893121621236, 2201.0346759049157, 2221.15014357422, 2239.030559280268, 2245.7357151700357, 2256.910974986316, 2292.6718063984117, 2301.612014251436, 2306.082118177948, 2353.018209406324, 2364.193469222604, 2364.193469222604, 2402.1893525979563, 2402.1893525979563, 2406.659456524468, 2415.599664377492, 2422.3048202672603, 2440.185235973308, 2449.1254438263322, 2469.2409114956363, 2498.296587017964, 2513.9419507607563, 2585.4636135849487, 2592.1687694747166, 2592.1687694747166, 2603.3440292909963, 2648.045068556117, 2710.626523527285, 2770.972926535197, 2824.614173653341, 2869.315212918461, 2887.195628624509, 2981.0678110812614], \"yaxis\": \"y\"}, {\"hovertemplate\": \"Gender=Male<br>Salary=%{x}<br>AmountSpent=%{y}<extra></extra>\", \"legendgroup\": \"Male\", \"marker\": {\"color\": \"#EF553B\", \"symbol\": \"circle\"}, \"mode\": \"markers\", \"name\": \"Male\", \"orientation\": \"v\", \"showlegend\": true, \"type\": \"scatter\", \"x\": [63600, 85600, 30400, 68400, 80700, 43700, 111800, 111400, 90100, 38600, 49800, 43500, 62800, 21700, 72200, 104100, 67700, 47000, 64000, 76200, 77700, 58900, 126500, 69800, 60300, 67800, 42300, 62700, 66700, 72500, 72300, 71500, 14400, 15000, 57600, 84300, 48800, 127000, 47200, 20400, 39000, 134500, 75500, 27400, 81200, 87100, 59000, 20900, 90700, 79600, 96400, 106600, 56300, 58300, 70200, 59700, 25800, 51900, 105300, 14800, 10400, 113000, 63300, 19100, 17400, 103700, 53700, 34300, 64200, 17000, 113600, 52900, 21000, 59600, 51200, 122100, 140000, 60300, 60200, 81200, 73100, 45700, 45800, 77800, 113800, 113400, 100100, 83900, 77000, 80700, 54700, 56900, 68700, 20200, 53300, 98400, 62200, 109200, 71200, 64000, 33000, 20300, 68700, 53600, 41400, 107400, 13900, 120000, 66300, 84200, 21300, 29000, 65300, 56700, 90200, 26100, 43200, 96100, 97200, 82400, 62000, 108200, 81800, 76100, 82100, 14200, 72200, 109900, 19000, 36700, 54600, 65900, 39600, 67300, 59700, 50600, 106700, 53900, 46300, 55500, 118600, 42800, 63500, 55900, 53900, 84300, 53400, 96900, 55800, 26800, 41500, 20900, 61800, 102500, 60300, 41600, 73700, 10200, 82500, 80800, 88100, 124800, 31900, 15400, 70200, 41800, 74800, 118500, 65300, 103900, 86100, 96300, 96300, 108300, 36600, 66300, 70000, 69100, 52600, 14600, 123000, 74500, 56600, 25000, 61400, 76400, 55100, 17800, 73800, 113300, 118400, 92300, 11200, 97500, 54600, 42500, 82800, 62300, 21900, 96900, 97300, 21900, 63000, 44600, 45100, 14200, 73300, 41300, 97400, 49200, 45000, 87200, 49900, 66900, 59400, 34200, 96600, 31600, 50100, 60000, 33400, 83700, 50500, 45800, 108900, 25100, 69900, 97100, 27100, 60300, 45600, 60200, 70400, 36900, 61600, 88700, 79500, 36500, 76700, 123000, 56300, 70000, 48100, 21200, 53900, 52400, 23500, 56900, 95100, 119800, 58700, 67600, 61500, 32400, 66500, 56300, 55600, 45900, 140700, 90300, 95900, 20800, 98400, 17700, 102400, 17800, 13800, 95800, 15200, 15800, 51400, 63000, 50700, 84700, 41500, 83100, 88700, 68900, 55900, 100600, 38700, 98900, 64300, 66600, 73000, 29600, 92900, 64300, 77100, 81800, 55900, 19800, 17600, 84100, 85600, 13400, 96300, 60500, 106100, 18000, 50000, 62800, 70000, 18700, 107400, 38400, 54200, 102700, 60200, 21400, 23200, 64800, 55600, 89500, 87000, 55500, 65400, 74400, 63300, 51600, 55000, 97600, 102400, 23800, 100000, 65800, 41200, 29200, 10900, 82400, 57800, 64600, 84500, 34500, 44500, 39700, 86500, 102300, 71600, 54500, 54700, 58600, 53800, 52200, 37200, 22900, 55500, 41900, 52100, 38700, 79200, 55100, 107300, 10200, 72200, 36700, 74500, 34500, 14800, 106400, 118800, 39500, 45900, 74600, 122700, 75500, 62900, 19400, 79700, 45900, 65500, 25700, 124900, 35100, 72000, 82400, 41600, 62200, 14100, 85300, 17700, 44400, 83500, 52000, 21300, 63700, 65800, 107300, 45200, 98500, 17900, 42700, 49700, 13000, 61000, 117500, 90600, 95800, 74500, 117700, 130600, 74400, 65400, 49100, 49000, 55600, 99600, 48100, 61300, 19500, 51100, 76800, 60200, 59100, 109600, 93000, 64300, 75400, 96100, 69700, 59300, 102600, 43700, 70500, 54200, 116100, 23200, 18200, 83000, 40200, 67900, 88500, 99200, 76900, 84100, 49600, 52800, 96500, 60400, 102700, 100100, 54400, 105600, 31500, 87400, 117900, 48800, 66200, 88000, 94200, 15300, 17500, 168800, 40200, 28400, 72200, 58400, 52600, 97600, 23400, 65400, 19600, 37000, 63800, 14900, 63200, 77300, 43100, 71300, 15400, 39100, 43800, 25300, 71800, 73200, 79000, 83600, 45500, 99300, 108000, 93000, 49300, 66200, 96800, 63200, 112900, 102700, 123800, 101700, 17600, 40500, 44800, 79000, 53600], \"xaxis\": \"x\", \"y\": [1318, 2436, 495, 1155, 3034, 927, 2065, 2136, 1956, 542, 827, 808, 707, 774, 2082, 2636, 2226, 584, 410, 2437, 983, 1215, 2000, 2764, 1263, 1084, 1051, 704, 1310, 2595, 4182, 964, 615, 38, 1006, 1648, 1647, 1821, 1587, 867, 643, 4558, 741, 278, 1856, 1688, 3044, 550, 2265, 1575, 1822, 1877, 873, 1472, 1702, 1857, 451, 1492, 3505, 436, 189, 1554, 633, 176, 332, 2339, 1081, 1297, 1642, 581, 3237, 2316, 646, 1217, 1293, 2408, 4894, 701, 1365, 2693, 1582, 724, 489, 1813, 3273, 1790, 3491, 1721, 2104, 202, 848, 1857, 1699, 500, 1720, 3305, 1583, 1102, 638, 1552, 979, 450, 2763, 1560, 643, 1485, 570, 1926, 2243, 1654, 677, 482, 1443, 536, 2183, 494, 917, 316, 1634, 2035, 3293, 635, 1838, 719, 1308, 400, 2492, 870, 428, 731, 2163, 1081, 1085, 1212, 1422, 713, 607, 735, 1357, 858, 1553, 922, 2321, 2555, 1186, 2842, 886, 1420, 821, 435, 1314, 296, 1156, 2464, 2091, 1690, 1274, 333, 859, 2444, 1078, 2537, 616, 297, 1583, 301, 1968, 3063, 193, 2666, 1255, 1081, 3916, 2224, 587, 1088, 1227, 1477, 1052, 307, 3671, 1481, 1607, 264, 1575, 881, 1439, 292, 3120, 5151, 3941, 2141, 106, 2837, 1246, 798, 1544, 2644, 192, 1159, 3048, 276, 1910, 236, 794, 250, 1694, 1985, 880, 210, 902, 1274, 1631, 1220, 1699, 523, 1437, 476, 1071, 966, 567, 3344, 1029, 712, 1841, 592, 2101, 1473, 268, 1252, 1388, 2304, 1127, 721, 1666, 2448, 1763, 1140, 1431, 5878, 321, 1974, 1640, 417, 1060, 857, 371, 687, 809, 2090, 1479, 1172, 968, 515, 286, 1608, 1786, 1645, 1001, 1944, 2585, 260, 1414, 268, 1237, 589, 368, 678, 324, 147, 694, 2107, 157, 2705, 1213, 586, 2693, 2784, 964, 2838, 1506, 3126, 1325, 1177, 1534, 583, 1705, 239, 568, 919, 909, 209, 245, 2362, 3380, 424, 1909, 340, 472, 303, 1079, 177, 785, 289, 1821, 188, 1405, 2381, 1364, 414, 504, 574, 984, 5209, 1594, 427, 836, 1152, 1408, 1082, 1162, 1162, 2466, 428, 2247, 1017, 841, 737, 407, 2122, 1149, 2935, 1557, 802, 1175, 1011, 2690, 2438, 1198, 1001, 1355, 989, 1803, 1909, 247, 814, 216, 654, 1668, 1009, 1905, 826, 1194, 362, 1811, 1218, 1413, 639, 376, 1757, 2631, 412, 716, 705, 4984, 2450, 2561, 563, 3384, 416, 1931, 907, 4109, 421, 1475, 1779, 1634, 1348, 328, 2523, 742, 886, 2098, 2545, 329, 1351, 578, 1566, 699, 2034, 395, 541, 2844, 43, 975, 927, 3167, 2581, 824, 2104, 3442, 1893, 2290, 934, 1523, 952, 871, 961, 1241, 571, 1984, 1061, 1955, 580, 2318, 2644, 661, 2723, 1588, 1432, 929, 2546, 1344, 2145, 757, 2975, 534, 401, 726, 1197, 1418, 1104, 2796, 3230, 1352, 770, 926, 3780, 791, 1473, 1597, 1150, 304, 269, 2729, 1760, 1271, 1024, 524, 1211, 645, 472, 1512, 1634, 182, 1042, 829, 1773, 2902, 348, 2296, 395, 850, 1622, 422, 1932, 1853, 1224, 1543, 172, 1001, 606, 591, 1389, 2177, 2279, 538, 754, 1504, 1849, 1046, 1692, 2057, 2299, 1507, 6217, 3785, 3537, 941, 273, 1073, 1417, 671, 973], \"yaxis\": \"y\"}, {\"hovertemplate\": \"<b>OLS trendline</b><br>AmountSpent = 0.0212297 * Salary + 49.8502<br>R<sup>2</sup>=0.417285<br><br>Gender=Male<br>Salary=%{x}<br>AmountSpent=%{y} <b>(trend)</b><extra></extra>\", \"legendgroup\": \"Male\", \"marker\": {\"color\": \"#EF553B\", \"symbol\": \"circle\"}, \"mode\": \"lines\", \"name\": \"Male\", \"showlegend\": false, \"type\": \"scatter\", \"x\": [10200, 10200, 10400, 10900, 11200, 13000, 13400, 13800, 13900, 14100, 14200, 14200, 14400, 14600, 14800, 14800, 14900, 15000, 15200, 15300, 15400, 15400, 15800, 17000, 17400, 17500, 17600, 17600, 17700, 17700, 17800, 17800, 17900, 18000, 18200, 18700, 19000, 19100, 19400, 19500, 19600, 19800, 20200, 20300, 20400, 20800, 20900, 20900, 21000, 21200, 21300, 21300, 21400, 21700, 21900, 21900, 22900, 23200, 23200, 23400, 23500, 23800, 25000, 25100, 25300, 25700, 25800, 26100, 26800, 27100, 27400, 28400, 29000, 29200, 29600, 30400, 31500, 31600, 31900, 32400, 33000, 33400, 34200, 34300, 34500, 34500, 35100, 36500, 36600, 36700, 36700, 36900, 37000, 37200, 38400, 38600, 38700, 38700, 39000, 39100, 39500, 39600, 39700, 40200, 40200, 40500, 41200, 41300, 41400, 41500, 41500, 41600, 41600, 41800, 41900, 42300, 42500, 42700, 42800, 43100, 43200, 43500, 43700, 43700, 43800, 44400, 44500, 44600, 44800, 45000, 45100, 45200, 45500, 45600, 45700, 45800, 45800, 45900, 45900, 45900, 46300, 47000, 47200, 48100, 48100, 48800, 48800, 49000, 49100, 49200, 49300, 49600, 49700, 49800, 49900, 50000, 50100, 50500, 50600, 50700, 51100, 51200, 51400, 51600, 51900, 52000, 52100, 52200, 52400, 52600, 52600, 52800, 52900, 53300, 53400, 53600, 53600, 53700, 53800, 53900, 53900, 53900, 54200, 54200, 54400, 54500, 54600, 54600, 54700, 54700, 55000, 55100, 55100, 55500, 55500, 55500, 55600, 55600, 55600, 55800, 55900, 55900, 55900, 56300, 56300, 56300, 56600, 56700, 56900, 56900, 57600, 57800, 58300, 58400, 58600, 58700, 58900, 59000, 59100, 59300, 59400, 59600, 59700, 59700, 60000, 60200, 60200, 60200, 60200, 60300, 60300, 60300, 60300, 60400, 60500, 61000, 61300, 61400, 61500, 61600, 61800, 62000, 62200, 62200, 62300, 62700, 62800, 62800, 62900, 63000, 63000, 63200, 63200, 63300, 63300, 63500, 63600, 63700, 63800, 64000, 64000, 64200, 64300, 64300, 64300, 64600, 64800, 65300, 65300, 65400, 65400, 65400, 65500, 65800, 65800, 65900, 66200, 66200, 66300, 66300, 66500, 66600, 66700, 66900, 67300, 67600, 67700, 67800, 67900, 68400, 68700, 68700, 68900, 69100, 69700, 69800, 69900, 70000, 70000, 70000, 70200, 70200, 70400, 70500, 71200, 71300, 71500, 71600, 71800, 72000, 72200, 72200, 72200, 72200, 72300, 72500, 73000, 73100, 73200, 73300, 73700, 73800, 74400, 74400, 74500, 74500, 74500, 74600, 74800, 75400, 75500, 75500, 76100, 76200, 76400, 76700, 76800, 76900, 77000, 77100, 77300, 77700, 77800, 79000, 79000, 79200, 79500, 79600, 79700, 80700, 80700, 80800, 81200, 81200, 81800, 81800, 82100, 82400, 82400, 82400, 82500, 82800, 83000, 83100, 83500, 83600, 83700, 83900, 84100, 84100, 84200, 84300, 84300, 84500, 84700, 85300, 85600, 85600, 86100, 86500, 87000, 87100, 87200, 87400, 88000, 88100, 88500, 88700, 88700, 89500, 90100, 90200, 90300, 90600, 90700, 92300, 92900, 93000, 93000, 94200, 95100, 95800, 95800, 95900, 96100, 96100, 96300, 96300, 96300, 96400, 96500, 96600, 96800, 96900, 96900, 97100, 97200, 97300, 97400, 97500, 97600, 97600, 98400, 98400, 98500, 98900, 99200, 99300, 99600, 100000, 100100, 100100, 100600, 101700, 102300, 102400, 102400, 102500, 102600, 102700, 102700, 102700, 103700, 103900, 104100, 105300, 105600, 106100, 106400, 106600, 106700, 107300, 107300, 107400, 107400, 108000, 108200, 108300, 108900, 109200, 109600, 109900, 111400, 111800, 112900, 113000, 113300, 113400, 113600, 113800, 116100, 117500, 117700, 117900, 118400, 118500, 118600, 118800, 119800, 120000, 122100, 122700, 123000, 123000, 123800, 124800, 124900, 126500, 127000, 130600, 134500, 140000, 140700, 168800], \"xaxis\": \"x\", \"y\": [266.3933986209772, 266.3933986209772, 270.63934393068917, 281.254207204969, 287.62312516953693, 325.8366329569444, 334.3285235763683, 342.8204141957922, 344.94338685064815, 349.1893321603601, 351.31230481521607, 351.31230481521607, 355.558250124928, 359.80419543463995, 364.0501407443519, 364.0501407443519, 366.17311339920786, 368.29608605406384, 372.5420313637758, 374.66500401863175, 376.7879766734877, 376.7879766734877, 385.2798672929116, 410.7555391511833, 419.2474297706072, 421.37040242546317, 423.49337508031914, 423.49337508031914, 425.6163477351751, 425.6163477351751, 427.7393203900311, 427.7393203900311, 429.86229304488705, 431.985265699743, 436.23121100945497, 446.8460742837348, 453.21499224830274, 455.3379649031587, 461.7068828677266, 463.8298555225826, 465.95282817743856, 470.1987734871505, 478.6906641065744, 480.81363676143036, 482.93660941628633, 491.4285000357102, 493.5514726905662, 493.5514726905662, 495.67444534542216, 499.9203906551341, 502.04336330999007, 502.04336330999007, 504.16633596484604, 510.53525392941395, 514.781199239126, 514.781199239126, 536.0109257876857, 542.3798437522536, 542.3798437522536, 546.6257890619655, 548.7487617168215, 555.1176796813894, 580.5933515396611, 582.716324194517, 586.962269504229, 595.4541601236529, 597.5771327785088, 603.9460507430767, 618.8068593270685, 625.1757772916365, 631.5446952562044, 652.7744218047641, 665.5122577338999, 669.7582030436118, 678.2500936630357, 695.2338749018835, 718.5865741052992, 720.7095467601551, 727.0784647247231, 737.6933279990029, 750.4311639281387, 758.9230545475626, 775.9068357864105, 778.0298084412665, 782.2757537509784, 782.2757537509784, 795.0135896801143, 824.7352068480978, 826.8581795029538, 828.9811521578098, 828.9811521578098, 833.2270974675217, 835.3500701223777, 839.5960154320896, 865.0716872903613, 869.3176326000732, 871.4406052549292, 871.4406052549292, 877.8095232194971, 879.9324958743531, 888.424386493777, 890.547359148633, 892.6703318034889, 903.2851950777688, 903.2851950777688, 909.6541130423367, 924.5149216263285, 926.6378942811845, 928.7608669360404, 930.8838395908964, 930.8838395908964, 933.0068122457524, 933.0068122457524, 937.2527575554643, 939.3757302103203, 947.8676208297442, 952.1135661394561, 956.359511449168, 958.482484104024, 964.8514020685919, 966.9743747234479, 973.3432926880158, 977.5892379977278, 977.5892379977278, 979.7122106525837, 992.4500465817196, 994.5730192365755, 996.6959918914315, 1000.9419372011434, 1005.1878825108554, 1007.3108551657114, 1009.4338278205673, 1015.8027457851352, 1017.9257184399912, 1020.0486910948472, 1022.1716637497032, 1022.1716637497032, 1024.2946364045592, 1024.2946364045592, 1024.2946364045592, 1032.7865270239831, 1047.6473356079748, 1051.893280917687, 1071.0000348113906, 1071.0000348113906, 1085.8608433953825, 1085.8608433953825, 1090.1067887050945, 1092.2297613599503, 1094.3527340148064, 1096.4757066696623, 1102.8446246342303, 1104.9675972890861, 1107.0905699439422, 1109.213542598798, 1111.3365152536542, 1113.45948790851, 1121.951378527934, 1124.07435118279, 1126.1973238376459, 1134.6892144570697, 1136.8121871119258, 1141.0581324216378, 1145.3040777313497, 1151.6729956959175, 1153.7959683507736, 1155.9189410056294, 1158.0419136604855, 1162.2878589701975, 1166.5338042799094, 1166.5338042799094, 1170.7797495896214, 1172.9027222444772, 1181.394612863901, 1183.5175855187572, 1187.7635308284691, 1187.7635308284691, 1189.886503483325, 1192.009476138181, 1194.1324487930372, 1194.1324487930372, 1194.1324487930372, 1200.501366757605, 1200.501366757605, 1204.747312067317, 1206.870284722173, 1208.9932573770288, 1208.9932573770288, 1211.116230031885, 1211.116230031885, 1217.4851479964527, 1219.6081206513088, 1219.6081206513088, 1228.1000112707327, 1228.1000112707327, 1228.1000112707327, 1230.2229839255886, 1230.2229839255886, 1230.2229839255886, 1234.4689292353005, 1236.5919018901566, 1236.5919018901566, 1236.5919018901566, 1245.0837925095805, 1245.0837925095805, 1245.0837925095805, 1251.4527104741483, 1253.5756831290043, 1257.8216284387163, 1257.8216284387163, 1272.682437022708, 1276.92838233242, 1287.5432456066999, 1289.6662182615557, 1293.9121635712677, 1296.0351362261238, 1300.2810815358357, 1302.4040541906916, 1304.5270268455477, 1308.7729721552596, 1310.8959448101155, 1315.1418901198274, 1317.2648627746835, 1317.2648627746835, 1323.6337807392513, 1327.8797260489632, 1327.8797260489632, 1327.8797260489632, 1327.8797260489632, 1330.0026987038193, 1330.0026987038193, 1330.0026987038193, 1330.0026987038193, 1332.1256713586752, 1334.2486440135312, 1344.863507287811, 1351.232425252379, 1353.3553979072349, 1355.478370562091, 1357.6013432169468, 1361.8472885266588, 1366.0932338363707, 1370.3391791460826, 1370.3391791460826, 1372.4621518009387, 1380.9540424203626, 1383.0770150752185, 1383.0770150752185, 1385.1999877300746, 1387.3229603849304, 1387.3229603849304, 1391.5689056946424, 1391.5689056946424, 1393.6918783494984, 1393.6918783494984, 1397.9378236592104, 1400.0607963140662, 1402.1837689689223, 1404.3067416237782, 1408.5526869334901, 1408.5526869334901, 1412.798632243202, 1414.9216048980581, 1414.9216048980581, 1414.9216048980581, 1421.290522862626, 1425.536468172338, 1436.1513314466179, 1436.1513314466179, 1438.2743041014737, 1438.2743041014737, 1438.2743041014737, 1440.3972767563298, 1446.7661947208976, 1446.7661947208976, 1448.8891673757537, 1455.2580853403215, 1455.2580853403215, 1457.3810579951776, 1457.3810579951776, 1461.6270033048895, 1463.7499759597454, 1465.8729486146015, 1470.1188939243134, 1478.6107845437373, 1484.9797025083053, 1487.1026751631612, 1489.2256478180173, 1491.348620472873, 1501.963483747153, 1508.3324017117209, 1508.3324017117209, 1512.5783470214328, 1516.8242923311448, 1529.5621282602806, 1531.6851009151367, 1533.8080735699925, 1535.9310462248486, 1535.9310462248486, 1535.9310462248486, 1540.1769915345606, 1540.1769915345606, 1544.4229368442725, 1546.5459094991284, 1561.4067180831203, 1563.5296907379761, 1567.775636047688, 1569.8986087025442, 1574.144554012256, 1578.390499321968, 1582.63644463168, 1582.63644463168, 1582.63644463168, 1582.63644463168, 1584.7594172865358, 1589.0053625962478, 1599.6202258705277, 1601.7431985253836, 1603.8661711802397, 1605.9891438350955, 1614.4810344545194, 1616.6040071093755, 1629.3418430385113, 1629.3418430385113, 1631.4648156933672, 1631.4648156933672, 1631.4648156933672, 1633.5877883482233, 1637.8337336579352, 1650.571569587071, 1652.694542241927, 1652.694542241927, 1665.4323781710627, 1667.5553508259188, 1671.8012961356308, 1678.1702141001986, 1680.2931867550546, 1682.4161594099105, 1684.5391320647666, 1686.6621047196224, 1690.9080500293344, 1699.3999406487583, 1701.5229133036144, 1726.998585161886, 1726.998585161886, 1731.244530471598, 1737.6134484361658, 1739.7364210910218, 1741.8593937458777, 1763.0891202944376, 1763.0891202944376, 1765.2120929492935, 1773.7039835687174, 1773.7039835687174, 1786.4418194978532, 1786.4418194978532, 1792.8107374624212, 1799.179655426989, 1799.179655426989, 1799.179655426989, 1801.3026280818451, 1807.671546046413, 1811.9174913561249, 1814.040464010981, 1822.5323546304048, 1824.6553272852607, 1826.7782999401168, 1831.0242452498287, 1835.2701905595407, 1835.2701905595407, 1837.3931632143965, 1839.5161358692526, 1839.5161358692526, 1843.7620811789645, 1848.0080264886765, 1860.7458624178123, 1867.11478038238, 1867.11478038238, 1877.72964365666, 1886.221534276084, 1896.8363975503637, 1898.9593702052198, 1901.0823428600756, 1905.3282881697876, 1918.0661240989234, 1920.1890967537795, 1928.6809873732034, 1932.9269326829153, 1932.9269326829153, 1949.910713921763, 1962.648549850899, 1964.7715225057548, 1966.8944951606109, 1973.2634131251787, 1975.3863857800347, 2009.3539482577303, 2022.091784186866, 2024.214756841722, 2024.214756841722, 2049.690428699994, 2068.7971825936975, 2083.6579911776894, 2083.6579911776894, 2085.7809638325452, 2090.026909142257, 2090.026909142257, 2094.272854451969, 2094.272854451969, 2094.272854451969, 2096.395827106825, 2098.518799761681, 2100.6417724165367, 2104.887717726249, 2107.0106903811047, 2107.0106903811047, 2111.256635690817, 2113.3796083456728, 2115.5025810005286, 2117.6255536553845, 2119.748526310241, 2121.8714989650966, 2121.8714989650966, 2138.8552802039444, 2138.8552802039444, 2140.9782528588003, 2149.470143478224, 2155.839061442792, 2157.962034097648, 2164.330952062216, 2172.82284268164, 2174.945815336496, 2174.945815336496, 2185.5606786107755, 2208.9133778141913, 2221.6512137433274, 2223.7741863981832, 2223.7741863981832, 2225.897159053039, 2228.020131707895, 2230.1431043627513, 2230.1431043627513, 2230.1431043627513, 2251.3728309113108, 2255.618776221023, 2259.8647215307346, 2285.3403933890063, 2291.7093113535743, 2302.324174627854, 2308.693092592422, 2312.939037902134, 2315.06201055699, 2327.7998464861257, 2327.7998464861257, 2329.9228191409816, 2329.9228191409816, 2342.6606550701176, 2346.90660037983, 2349.0295730346857, 2361.7674089638213, 2368.1363269283893, 2376.628217547813, 2382.997135512381, 2414.841725335221, 2423.3336159546448, 2446.68631515806, 2448.8092878129164, 2455.178205777484, 2457.3011784323403, 2461.547123742052, 2465.793069051764, 2514.621440113451, 2544.343057281435, 2548.5890025911467, 2552.834947900859, 2563.4498111751386, 2565.5727838299945, 2567.695756484851, 2571.9417017945625, 2593.1714283431224, 2597.417373652834, 2641.99979940481, 2654.7376353339455, 2661.1065532985135, 2661.1065532985135, 2678.0903345373613, 2699.3200610859208, 2701.443033740777, 2735.4105962184726, 2746.0254594927524, 2822.4524750675673, 2905.2484086069503, 3022.011904624029, 3036.8727132080203, 3633.4280292225485], \"yaxis\": \"y\"}],                        {\"legend\": {\"title\": {\"text\": \"Gender\"}, \"tracegroupgap\": 0}, \"margin\": {\"t\": 60}, \"template\": {\"data\": {\"bar\": [{\"error_x\": {\"color\": \"#2a3f5f\"}, \"error_y\": {\"color\": \"#2a3f5f\"}, \"marker\": {\"line\": {\"color\": \"#E5ECF6\", \"width\": 0.5}}, \"type\": \"bar\"}], \"barpolar\": [{\"marker\": {\"line\": {\"color\": \"#E5ECF6\", \"width\": 0.5}}, \"type\": \"barpolar\"}], \"carpet\": [{\"aaxis\": {\"endlinecolor\": \"#2a3f5f\", \"gridcolor\": \"white\", \"linecolor\": \"white\", \"minorgridcolor\": \"white\", \"startlinecolor\": \"#2a3f5f\"}, \"baxis\": {\"endlinecolor\": \"#2a3f5f\", \"gridcolor\": \"white\", \"linecolor\": \"white\", \"minorgridcolor\": \"white\", \"startlinecolor\": \"#2a3f5f\"}, \"type\": \"carpet\"}], \"choropleth\": [{\"colorbar\": {\"outlinewidth\": 0, \"ticks\": \"\"}, \"type\": \"choropleth\"}], \"contour\": [{\"colorbar\": {\"outlinewidth\": 0, \"ticks\": \"\"}, \"colorscale\": [[0.0, \"#0d0887\"], [0.1111111111111111, \"#46039f\"], [0.2222222222222222, \"#7201a8\"], [0.3333333333333333, \"#9c179e\"], [0.4444444444444444, \"#bd3786\"], [0.5555555555555556, \"#d8576b\"], [0.6666666666666666, \"#ed7953\"], [0.7777777777777778, \"#fb9f3a\"], [0.8888888888888888, \"#fdca26\"], [1.0, \"#f0f921\"]], \"type\": \"contour\"}], \"contourcarpet\": [{\"colorbar\": {\"outlinewidth\": 0, \"ticks\": \"\"}, \"type\": \"contourcarpet\"}], \"heatmap\": [{\"colorbar\": {\"outlinewidth\": 0, \"ticks\": \"\"}, \"colorscale\": [[0.0, \"#0d0887\"], [0.1111111111111111, \"#46039f\"], [0.2222222222222222, \"#7201a8\"], [0.3333333333333333, \"#9c179e\"], [0.4444444444444444, \"#bd3786\"], [0.5555555555555556, \"#d8576b\"], [0.6666666666666666, \"#ed7953\"], [0.7777777777777778, \"#fb9f3a\"], [0.8888888888888888, \"#fdca26\"], [1.0, \"#f0f921\"]], \"type\": \"heatmap\"}], \"heatmapgl\": [{\"colorbar\": {\"outlinewidth\": 0, \"ticks\": \"\"}, \"colorscale\": [[0.0, \"#0d0887\"], [0.1111111111111111, \"#46039f\"], [0.2222222222222222, \"#7201a8\"], [0.3333333333333333, \"#9c179e\"], [0.4444444444444444, \"#bd3786\"], [0.5555555555555556, \"#d8576b\"], [0.6666666666666666, \"#ed7953\"], [0.7777777777777778, \"#fb9f3a\"], [0.8888888888888888, \"#fdca26\"], [1.0, \"#f0f921\"]], \"type\": \"heatmapgl\"}], \"histogram\": [{\"marker\": {\"colorbar\": {\"outlinewidth\": 0, \"ticks\": \"\"}}, \"type\": \"histogram\"}], \"histogram2d\": [{\"colorbar\": {\"outlinewidth\": 0, \"ticks\": \"\"}, \"colorscale\": [[0.0, \"#0d0887\"], [0.1111111111111111, \"#46039f\"], [0.2222222222222222, \"#7201a8\"], [0.3333333333333333, \"#9c179e\"], [0.4444444444444444, \"#bd3786\"], [0.5555555555555556, \"#d8576b\"], [0.6666666666666666, \"#ed7953\"], [0.7777777777777778, \"#fb9f3a\"], [0.8888888888888888, \"#fdca26\"], [1.0, \"#f0f921\"]], \"type\": \"histogram2d\"}], \"histogram2dcontour\": [{\"colorbar\": {\"outlinewidth\": 0, \"ticks\": \"\"}, \"colorscale\": [[0.0, \"#0d0887\"], [0.1111111111111111, \"#46039f\"], [0.2222222222222222, \"#7201a8\"], [0.3333333333333333, \"#9c179e\"], [0.4444444444444444, \"#bd3786\"], [0.5555555555555556, \"#d8576b\"], [0.6666666666666666, \"#ed7953\"], [0.7777777777777778, \"#fb9f3a\"], [0.8888888888888888, \"#fdca26\"], [1.0, \"#f0f921\"]], \"type\": \"histogram2dcontour\"}], \"mesh3d\": [{\"colorbar\": {\"outlinewidth\": 0, \"ticks\": \"\"}, \"type\": \"mesh3d\"}], \"parcoords\": [{\"line\": {\"colorbar\": {\"outlinewidth\": 0, \"ticks\": \"\"}}, \"type\": \"parcoords\"}], \"pie\": [{\"automargin\": true, \"type\": \"pie\"}], \"scatter\": [{\"marker\": {\"colorbar\": {\"outlinewidth\": 0, \"ticks\": \"\"}}, \"type\": \"scatter\"}], \"scatter3d\": [{\"line\": {\"colorbar\": {\"outlinewidth\": 0, \"ticks\": \"\"}}, \"marker\": {\"colorbar\": {\"outlinewidth\": 0, \"ticks\": \"\"}}, \"type\": \"scatter3d\"}], \"scattercarpet\": [{\"marker\": {\"colorbar\": {\"outlinewidth\": 0, \"ticks\": \"\"}}, \"type\": \"scattercarpet\"}], \"scattergeo\": [{\"marker\": {\"colorbar\": {\"outlinewidth\": 0, \"ticks\": \"\"}}, \"type\": \"scattergeo\"}], \"scattergl\": [{\"marker\": {\"colorbar\": {\"outlinewidth\": 0, \"ticks\": \"\"}}, \"type\": \"scattergl\"}], \"scattermapbox\": [{\"marker\": {\"colorbar\": {\"outlinewidth\": 0, \"ticks\": \"\"}}, \"type\": \"scattermapbox\"}], \"scatterpolar\": [{\"marker\": {\"colorbar\": {\"outlinewidth\": 0, \"ticks\": \"\"}}, \"type\": \"scatterpolar\"}], \"scatterpolargl\": [{\"marker\": {\"colorbar\": {\"outlinewidth\": 0, \"ticks\": \"\"}}, \"type\": \"scatterpolargl\"}], \"scatterternary\": [{\"marker\": {\"colorbar\": {\"outlinewidth\": 0, \"ticks\": \"\"}}, \"type\": \"scatterternary\"}], \"surface\": [{\"colorbar\": {\"outlinewidth\": 0, \"ticks\": \"\"}, \"colorscale\": [[0.0, \"#0d0887\"], [0.1111111111111111, \"#46039f\"], [0.2222222222222222, \"#7201a8\"], [0.3333333333333333, \"#9c179e\"], [0.4444444444444444, \"#bd3786\"], [0.5555555555555556, \"#d8576b\"], [0.6666666666666666, \"#ed7953\"], [0.7777777777777778, \"#fb9f3a\"], [0.8888888888888888, \"#fdca26\"], [1.0, \"#f0f921\"]], \"type\": \"surface\"}], \"table\": [{\"cells\": {\"fill\": {\"color\": \"#EBF0F8\"}, \"line\": {\"color\": \"white\"}}, \"header\": {\"fill\": {\"color\": \"#C8D4E3\"}, \"line\": {\"color\": \"white\"}}, \"type\": \"table\"}]}, \"layout\": {\"annotationdefaults\": {\"arrowcolor\": \"#2a3f5f\", \"arrowhead\": 0, \"arrowwidth\": 1}, \"autotypenumbers\": \"strict\", \"coloraxis\": {\"colorbar\": {\"outlinewidth\": 0, \"ticks\": \"\"}}, \"colorscale\": {\"diverging\": [[0, \"#8e0152\"], [0.1, \"#c51b7d\"], [0.2, \"#de77ae\"], [0.3, \"#f1b6da\"], [0.4, \"#fde0ef\"], [0.5, \"#f7f7f7\"], [0.6, \"#e6f5d0\"], [0.7, \"#b8e186\"], [0.8, \"#7fbc41\"], [0.9, \"#4d9221\"], [1, \"#276419\"]], \"sequential\": [[0.0, \"#0d0887\"], [0.1111111111111111, \"#46039f\"], [0.2222222222222222, \"#7201a8\"], [0.3333333333333333, \"#9c179e\"], [0.4444444444444444, \"#bd3786\"], [0.5555555555555556, \"#d8576b\"], [0.6666666666666666, \"#ed7953\"], [0.7777777777777778, \"#fb9f3a\"], [0.8888888888888888, \"#fdca26\"], [1.0, \"#f0f921\"]], \"sequentialminus\": [[0.0, \"#0d0887\"], [0.1111111111111111, \"#46039f\"], [0.2222222222222222, \"#7201a8\"], [0.3333333333333333, \"#9c179e\"], [0.4444444444444444, \"#bd3786\"], [0.5555555555555556, \"#d8576b\"], [0.6666666666666666, \"#ed7953\"], [0.7777777777777778, \"#fb9f3a\"], [0.8888888888888888, \"#fdca26\"], [1.0, \"#f0f921\"]]}, \"colorway\": [\"#636efa\", \"#EF553B\", \"#00cc96\", \"#ab63fa\", \"#FFA15A\", \"#19d3f3\", \"#FF6692\", \"#B6E880\", \"#FF97FF\", \"#FECB52\"], \"font\": {\"color\": \"#2a3f5f\"}, \"geo\": {\"bgcolor\": \"white\", \"lakecolor\": \"white\", \"landcolor\": \"#E5ECF6\", \"showlakes\": true, \"showland\": true, \"subunitcolor\": \"white\"}, \"hoverlabel\": {\"align\": \"left\"}, \"hovermode\": \"closest\", \"mapbox\": {\"style\": \"light\"}, \"paper_bgcolor\": \"white\", \"plot_bgcolor\": \"#E5ECF6\", \"polar\": {\"angularaxis\": {\"gridcolor\": \"white\", \"linecolor\": \"white\", \"ticks\": \"\"}, \"bgcolor\": \"#E5ECF6\", \"radialaxis\": {\"gridcolor\": \"white\", \"linecolor\": \"white\", \"ticks\": \"\"}}, \"scene\": {\"xaxis\": {\"backgroundcolor\": \"#E5ECF6\", \"gridcolor\": \"white\", \"gridwidth\": 2, \"linecolor\": \"white\", \"showbackground\": true, \"ticks\": \"\", \"zerolinecolor\": \"white\"}, \"yaxis\": {\"backgroundcolor\": \"#E5ECF6\", \"gridcolor\": \"white\", \"gridwidth\": 2, \"linecolor\": \"white\", \"showbackground\": true, \"ticks\": \"\", \"zerolinecolor\": \"white\"}, \"zaxis\": {\"backgroundcolor\": \"#E5ECF6\", \"gridcolor\": \"white\", \"gridwidth\": 2, \"linecolor\": \"white\", \"showbackground\": true, \"ticks\": \"\", \"zerolinecolor\": \"white\"}}, \"shapedefaults\": {\"line\": {\"color\": \"#2a3f5f\"}}, \"ternary\": {\"aaxis\": {\"gridcolor\": \"white\", \"linecolor\": \"white\", \"ticks\": \"\"}, \"baxis\": {\"gridcolor\": \"white\", \"linecolor\": \"white\", \"ticks\": \"\"}, \"bgcolor\": \"#E5ECF6\", \"caxis\": {\"gridcolor\": \"white\", \"linecolor\": \"white\", \"ticks\": \"\"}}, \"title\": {\"x\": 0.05}, \"xaxis\": {\"automargin\": true, \"gridcolor\": \"white\", \"linecolor\": \"white\", \"ticks\": \"\", \"title\": {\"standoff\": 15}, \"zerolinecolor\": \"white\", \"zerolinewidth\": 2}, \"yaxis\": {\"automargin\": true, \"gridcolor\": \"white\", \"linecolor\": \"white\", \"ticks\": \"\", \"title\": {\"standoff\": 15}, \"zerolinecolor\": \"white\", \"zerolinewidth\": 2}}}, \"title\": {\"text\": \"Gender With Salary Vs Amount Spent \", \"x\": 0.5}, \"xaxis\": {\"anchor\": \"y\", \"domain\": [0.0, 1.0], \"title\": {\"text\": \"Salary\"}}, \"yaxis\": {\"anchor\": \"x\", \"domain\": [0.0, 1.0], \"title\": {\"text\": \"Amount Spent\"}}},                        {\"responsive\": true}                    ).then(function(){\n",
       "                            \n",
       "var gd = document.getElementById('5eab884e-11c5-45ee-b452-153a0bc1f261');\n",
       "var x = new MutationObserver(function (mutations, observer) {{\n",
       "        var display = window.getComputedStyle(gd).display;\n",
       "        if (!display || display === 'none') {{\n",
       "            console.log([gd, 'removed!']);\n",
       "            Plotly.purge(gd);\n",
       "            observer.disconnect();\n",
       "        }}\n",
       "}});\n",
       "\n",
       "// Listen for the removal of the full notebook cells\n",
       "var notebookContainer = gd.closest('#notebook-container');\n",
       "if (notebookContainer) {{\n",
       "    x.observe(notebookContainer, {childList: true});\n",
       "}}\n",
       "\n",
       "// Listen for the clearing of the current output cell\n",
       "var outputEl = gd.closest('.output');\n",
       "if (outputEl) {{\n",
       "    x.observe(outputEl, {childList: true});\n",
       "}}\n",
       "\n",
       "                        })                };                });            </script>        </div>"
      ]
     },
     "metadata": {},
     "output_type": "display_data"
    }
   ],
   "source": [
    "fig = px.scatter(df, x='Salary', y='AmountSpent',trendline=\"ols\",\n",
    "                 color='Gender') # Added color to basic scatter\n",
    "fig.update_layout(title='Gender With Salary Vs Amount Spent ',xaxis_title=\"Salary\",yaxis_title=\"Amount Spent\",title_x=0.5)\n",
    "fig.show()"
   ]
  },
  {
   "cell_type": "code",
   "execution_count": 24,
   "metadata": {
    "execution": {
     "iopub.execute_input": "2021-02-21T23:25:20.363122Z",
     "iopub.status.busy": "2021-02-21T23:25:20.361791Z",
     "iopub.status.idle": "2021-02-21T23:25:20.382001Z",
     "shell.execute_reply": "2021-02-21T23:25:20.382523Z"
    },
    "papermill": {
     "duration": 0.066681,
     "end_time": "2021-02-21T23:25:20.382715",
     "exception": false,
     "start_time": "2021-02-21T23:25:20.316034",
     "status": "completed"
    },
    "tags": []
   },
   "outputs": [
    {
     "data": {
      "text/html": [
       "<div>\n",
       "<style scoped>\n",
       "    .dataframe tbody tr th:only-of-type {\n",
       "        vertical-align: middle;\n",
       "    }\n",
       "\n",
       "    .dataframe tbody tr th {\n",
       "        vertical-align: top;\n",
       "    }\n",
       "\n",
       "    .dataframe thead th {\n",
       "        text-align: right;\n",
       "    }\n",
       "</style>\n",
       "<table border=\"1\" class=\"dataframe\">\n",
       "  <thead>\n",
       "    <tr style=\"text-align: right;\">\n",
       "      <th></th>\n",
       "      <th>Gender</th>\n",
       "      <th>Age</th>\n",
       "      <th>count</th>\n",
       "    </tr>\n",
       "  </thead>\n",
       "  <tbody>\n",
       "    <tr>\n",
       "      <th>0</th>\n",
       "      <td>Female</td>\n",
       "      <td>Middle</td>\n",
       "      <td>206</td>\n",
       "    </tr>\n",
       "    <tr>\n",
       "      <th>1</th>\n",
       "      <td>Female</td>\n",
       "      <td>Old</td>\n",
       "      <td>129</td>\n",
       "    </tr>\n",
       "    <tr>\n",
       "      <th>2</th>\n",
       "      <td>Female</td>\n",
       "      <td>Young</td>\n",
       "      <td>171</td>\n",
       "    </tr>\n",
       "    <tr>\n",
       "      <th>3</th>\n",
       "      <td>Male</td>\n",
       "      <td>Middle</td>\n",
       "      <td>302</td>\n",
       "    </tr>\n",
       "    <tr>\n",
       "      <th>4</th>\n",
       "      <td>Male</td>\n",
       "      <td>Old</td>\n",
       "      <td>76</td>\n",
       "    </tr>\n",
       "    <tr>\n",
       "      <th>5</th>\n",
       "      <td>Male</td>\n",
       "      <td>Young</td>\n",
       "      <td>116</td>\n",
       "    </tr>\n",
       "  </tbody>\n",
       "</table>\n",
       "</div>"
      ],
      "text/plain": [
       "   Gender     Age  count\n",
       "0  Female  Middle    206\n",
       "1  Female     Old    129\n",
       "2  Female   Young    171\n",
       "3    Male  Middle    302\n",
       "4    Male     Old     76\n",
       "5    Male   Young    116"
      ]
     },
     "execution_count": 24,
     "metadata": {},
     "output_type": "execute_result"
    }
   ],
   "source": [
    "df_G_and_A=df.groupby(by =['Gender','Age'])['Married'].count().to_frame().reset_index().rename(columns={'Gender':'Gender','Age':'Age','Married':'count'})\n",
    "df_G_and_A"
   ]
  },
  {
   "cell_type": "code",
   "execution_count": 25,
   "metadata": {
    "execution": {
     "iopub.execute_input": "2021-02-21T23:25:20.467586Z",
     "iopub.status.busy": "2021-02-21T23:25:20.466878Z",
     "iopub.status.idle": "2021-02-21T23:25:20.556531Z",
     "shell.execute_reply": "2021-02-21T23:25:20.557010Z"
    },
    "papermill": {
     "duration": 0.134081,
     "end_time": "2021-02-21T23:25:20.557206",
     "exception": false,
     "start_time": "2021-02-21T23:25:20.423125",
     "status": "completed"
    },
    "tags": []
   },
   "outputs": [
    {
     "data": {
      "text/html": [
       "<div>                            <div id=\"7896110e-ffa7-4707-bc0e-4adb8a919efe\" class=\"plotly-graph-div\" style=\"height:525px; width:100%;\"></div>            <script type=\"text/javascript\">                require([\"plotly\"], function(Plotly) {                    window.PLOTLYENV=window.PLOTLYENV || {};                                    if (document.getElementById(\"7896110e-ffa7-4707-bc0e-4adb8a919efe\")) {                    Plotly.newPlot(                        \"7896110e-ffa7-4707-bc0e-4adb8a919efe\",                        [{\"alignmentgroup\": \"True\", \"hovertemplate\": \"Gender=Female<br>Age=%{x}<br>count=%{y}<extra></extra>\", \"legendgroup\": \"Female\", \"marker\": {\"color\": \"#636efa\"}, \"name\": \"Female\", \"offsetgroup\": \"Female\", \"orientation\": \"v\", \"showlegend\": true, \"textposition\": \"auto\", \"type\": \"bar\", \"x\": [\"Middle\", \"Old\", \"Young\"], \"xaxis\": \"x\", \"y\": [206, 129, 171], \"yaxis\": \"y\"}, {\"alignmentgroup\": \"True\", \"hovertemplate\": \"Gender=Male<br>Age=%{x}<br>count=%{y}<extra></extra>\", \"legendgroup\": \"Male\", \"marker\": {\"color\": \"#EF553B\"}, \"name\": \"Male\", \"offsetgroup\": \"Male\", \"orientation\": \"v\", \"showlegend\": true, \"textposition\": \"auto\", \"type\": \"bar\", \"x\": [\"Middle\", \"Old\", \"Young\"], \"xaxis\": \"x\", \"y\": [302, 76, 116], \"yaxis\": \"y\"}],                        {\"barmode\": \"group\", \"legend\": {\"title\": {\"text\": \"Gender\"}, \"tracegroupgap\": 0}, \"margin\": {\"t\": 60}, \"template\": {\"data\": {\"bar\": [{\"error_x\": {\"color\": \"#2a3f5f\"}, \"error_y\": {\"color\": \"#2a3f5f\"}, \"marker\": {\"line\": {\"color\": \"#E5ECF6\", \"width\": 0.5}}, \"type\": \"bar\"}], \"barpolar\": [{\"marker\": {\"line\": {\"color\": \"#E5ECF6\", \"width\": 0.5}}, \"type\": \"barpolar\"}], \"carpet\": [{\"aaxis\": {\"endlinecolor\": \"#2a3f5f\", \"gridcolor\": \"white\", \"linecolor\": \"white\", \"minorgridcolor\": \"white\", \"startlinecolor\": \"#2a3f5f\"}, \"baxis\": {\"endlinecolor\": \"#2a3f5f\", \"gridcolor\": \"white\", \"linecolor\": \"white\", \"minorgridcolor\": \"white\", \"startlinecolor\": \"#2a3f5f\"}, \"type\": \"carpet\"}], \"choropleth\": [{\"colorbar\": {\"outlinewidth\": 0, \"ticks\": \"\"}, \"type\": \"choropleth\"}], \"contour\": [{\"colorbar\": {\"outlinewidth\": 0, \"ticks\": \"\"}, \"colorscale\": [[0.0, \"#0d0887\"], [0.1111111111111111, \"#46039f\"], [0.2222222222222222, \"#7201a8\"], [0.3333333333333333, \"#9c179e\"], [0.4444444444444444, \"#bd3786\"], [0.5555555555555556, \"#d8576b\"], [0.6666666666666666, \"#ed7953\"], [0.7777777777777778, \"#fb9f3a\"], [0.8888888888888888, \"#fdca26\"], [1.0, \"#f0f921\"]], \"type\": \"contour\"}], \"contourcarpet\": [{\"colorbar\": {\"outlinewidth\": 0, \"ticks\": \"\"}, \"type\": \"contourcarpet\"}], \"heatmap\": [{\"colorbar\": {\"outlinewidth\": 0, \"ticks\": \"\"}, \"colorscale\": [[0.0, \"#0d0887\"], [0.1111111111111111, \"#46039f\"], [0.2222222222222222, \"#7201a8\"], [0.3333333333333333, \"#9c179e\"], [0.4444444444444444, \"#bd3786\"], [0.5555555555555556, \"#d8576b\"], [0.6666666666666666, \"#ed7953\"], [0.7777777777777778, \"#fb9f3a\"], [0.8888888888888888, \"#fdca26\"], [1.0, \"#f0f921\"]], \"type\": \"heatmap\"}], \"heatmapgl\": [{\"colorbar\": {\"outlinewidth\": 0, \"ticks\": \"\"}, \"colorscale\": [[0.0, \"#0d0887\"], [0.1111111111111111, \"#46039f\"], [0.2222222222222222, \"#7201a8\"], [0.3333333333333333, \"#9c179e\"], [0.4444444444444444, \"#bd3786\"], [0.5555555555555556, \"#d8576b\"], [0.6666666666666666, \"#ed7953\"], [0.7777777777777778, \"#fb9f3a\"], [0.8888888888888888, \"#fdca26\"], [1.0, \"#f0f921\"]], \"type\": \"heatmapgl\"}], \"histogram\": [{\"marker\": {\"colorbar\": {\"outlinewidth\": 0, \"ticks\": \"\"}}, \"type\": \"histogram\"}], \"histogram2d\": [{\"colorbar\": {\"outlinewidth\": 0, \"ticks\": \"\"}, \"colorscale\": [[0.0, \"#0d0887\"], [0.1111111111111111, \"#46039f\"], [0.2222222222222222, \"#7201a8\"], [0.3333333333333333, \"#9c179e\"], [0.4444444444444444, \"#bd3786\"], [0.5555555555555556, \"#d8576b\"], [0.6666666666666666, \"#ed7953\"], [0.7777777777777778, \"#fb9f3a\"], [0.8888888888888888, \"#fdca26\"], [1.0, \"#f0f921\"]], \"type\": \"histogram2d\"}], \"histogram2dcontour\": [{\"colorbar\": {\"outlinewidth\": 0, \"ticks\": \"\"}, \"colorscale\": [[0.0, \"#0d0887\"], [0.1111111111111111, \"#46039f\"], [0.2222222222222222, \"#7201a8\"], [0.3333333333333333, \"#9c179e\"], [0.4444444444444444, \"#bd3786\"], [0.5555555555555556, \"#d8576b\"], [0.6666666666666666, \"#ed7953\"], [0.7777777777777778, \"#fb9f3a\"], [0.8888888888888888, \"#fdca26\"], [1.0, \"#f0f921\"]], \"type\": \"histogram2dcontour\"}], \"mesh3d\": [{\"colorbar\": {\"outlinewidth\": 0, \"ticks\": \"\"}, \"type\": \"mesh3d\"}], \"parcoords\": [{\"line\": {\"colorbar\": {\"outlinewidth\": 0, \"ticks\": \"\"}}, \"type\": \"parcoords\"}], \"pie\": [{\"automargin\": true, \"type\": \"pie\"}], \"scatter\": [{\"marker\": {\"colorbar\": {\"outlinewidth\": 0, \"ticks\": \"\"}}, \"type\": \"scatter\"}], \"scatter3d\": [{\"line\": {\"colorbar\": {\"outlinewidth\": 0, \"ticks\": \"\"}}, \"marker\": {\"colorbar\": {\"outlinewidth\": 0, \"ticks\": \"\"}}, \"type\": \"scatter3d\"}], \"scattercarpet\": [{\"marker\": {\"colorbar\": {\"outlinewidth\": 0, \"ticks\": \"\"}}, \"type\": \"scattercarpet\"}], \"scattergeo\": [{\"marker\": {\"colorbar\": {\"outlinewidth\": 0, \"ticks\": \"\"}}, \"type\": \"scattergeo\"}], \"scattergl\": [{\"marker\": {\"colorbar\": {\"outlinewidth\": 0, \"ticks\": \"\"}}, \"type\": \"scattergl\"}], \"scattermapbox\": [{\"marker\": {\"colorbar\": {\"outlinewidth\": 0, \"ticks\": \"\"}}, \"type\": \"scattermapbox\"}], \"scatterpolar\": [{\"marker\": {\"colorbar\": {\"outlinewidth\": 0, \"ticks\": \"\"}}, \"type\": \"scatterpolar\"}], \"scatterpolargl\": [{\"marker\": {\"colorbar\": {\"outlinewidth\": 0, \"ticks\": \"\"}}, \"type\": \"scatterpolargl\"}], \"scatterternary\": [{\"marker\": {\"colorbar\": {\"outlinewidth\": 0, \"ticks\": \"\"}}, \"type\": \"scatterternary\"}], \"surface\": [{\"colorbar\": {\"outlinewidth\": 0, \"ticks\": \"\"}, \"colorscale\": [[0.0, \"#0d0887\"], [0.1111111111111111, \"#46039f\"], [0.2222222222222222, \"#7201a8\"], [0.3333333333333333, \"#9c179e\"], [0.4444444444444444, \"#bd3786\"], [0.5555555555555556, \"#d8576b\"], [0.6666666666666666, \"#ed7953\"], [0.7777777777777778, \"#fb9f3a\"], [0.8888888888888888, \"#fdca26\"], [1.0, \"#f0f921\"]], \"type\": \"surface\"}], \"table\": [{\"cells\": {\"fill\": {\"color\": \"#EBF0F8\"}, \"line\": {\"color\": \"white\"}}, \"header\": {\"fill\": {\"color\": \"#C8D4E3\"}, \"line\": {\"color\": \"white\"}}, \"type\": \"table\"}]}, \"layout\": {\"annotationdefaults\": {\"arrowcolor\": \"#2a3f5f\", \"arrowhead\": 0, \"arrowwidth\": 1}, \"autotypenumbers\": \"strict\", \"coloraxis\": {\"colorbar\": {\"outlinewidth\": 0, \"ticks\": \"\"}}, \"colorscale\": {\"diverging\": [[0, \"#8e0152\"], [0.1, \"#c51b7d\"], [0.2, \"#de77ae\"], [0.3, \"#f1b6da\"], [0.4, \"#fde0ef\"], [0.5, \"#f7f7f7\"], [0.6, \"#e6f5d0\"], [0.7, \"#b8e186\"], [0.8, \"#7fbc41\"], [0.9, \"#4d9221\"], [1, \"#276419\"]], \"sequential\": [[0.0, \"#0d0887\"], [0.1111111111111111, \"#46039f\"], [0.2222222222222222, \"#7201a8\"], [0.3333333333333333, \"#9c179e\"], [0.4444444444444444, \"#bd3786\"], [0.5555555555555556, \"#d8576b\"], [0.6666666666666666, \"#ed7953\"], [0.7777777777777778, \"#fb9f3a\"], [0.8888888888888888, \"#fdca26\"], [1.0, \"#f0f921\"]], \"sequentialminus\": [[0.0, \"#0d0887\"], [0.1111111111111111, \"#46039f\"], [0.2222222222222222, \"#7201a8\"], [0.3333333333333333, \"#9c179e\"], [0.4444444444444444, \"#bd3786\"], [0.5555555555555556, \"#d8576b\"], [0.6666666666666666, \"#ed7953\"], [0.7777777777777778, \"#fb9f3a\"], [0.8888888888888888, \"#fdca26\"], [1.0, \"#f0f921\"]]}, \"colorway\": [\"#636efa\", \"#EF553B\", \"#00cc96\", \"#ab63fa\", \"#FFA15A\", \"#19d3f3\", \"#FF6692\", \"#B6E880\", \"#FF97FF\", \"#FECB52\"], \"font\": {\"color\": \"#2a3f5f\"}, \"geo\": {\"bgcolor\": \"white\", \"lakecolor\": \"white\", \"landcolor\": \"#E5ECF6\", \"showlakes\": true, \"showland\": true, \"subunitcolor\": \"white\"}, \"hoverlabel\": {\"align\": \"left\"}, \"hovermode\": \"closest\", \"mapbox\": {\"style\": \"light\"}, \"paper_bgcolor\": \"white\", \"plot_bgcolor\": \"#E5ECF6\", \"polar\": {\"angularaxis\": {\"gridcolor\": \"white\", \"linecolor\": \"white\", \"ticks\": \"\"}, \"bgcolor\": \"#E5ECF6\", \"radialaxis\": {\"gridcolor\": \"white\", \"linecolor\": \"white\", \"ticks\": \"\"}}, \"scene\": {\"xaxis\": {\"backgroundcolor\": \"#E5ECF6\", \"gridcolor\": \"white\", \"gridwidth\": 2, \"linecolor\": \"white\", \"showbackground\": true, \"ticks\": \"\", \"zerolinecolor\": \"white\"}, \"yaxis\": {\"backgroundcolor\": \"#E5ECF6\", \"gridcolor\": \"white\", \"gridwidth\": 2, \"linecolor\": \"white\", \"showbackground\": true, \"ticks\": \"\", \"zerolinecolor\": \"white\"}, \"zaxis\": {\"backgroundcolor\": \"#E5ECF6\", \"gridcolor\": \"white\", \"gridwidth\": 2, \"linecolor\": \"white\", \"showbackground\": true, \"ticks\": \"\", \"zerolinecolor\": \"white\"}}, \"shapedefaults\": {\"line\": {\"color\": \"#2a3f5f\"}}, \"ternary\": {\"aaxis\": {\"gridcolor\": \"white\", \"linecolor\": \"white\", \"ticks\": \"\"}, \"baxis\": {\"gridcolor\": \"white\", \"linecolor\": \"white\", \"ticks\": \"\"}, \"bgcolor\": \"#E5ECF6\", \"caxis\": {\"gridcolor\": \"white\", \"linecolor\": \"white\", \"ticks\": \"\"}}, \"title\": {\"x\": 0.05}, \"xaxis\": {\"automargin\": true, \"gridcolor\": \"white\", \"linecolor\": \"white\", \"ticks\": \"\", \"title\": {\"standoff\": 15}, \"zerolinecolor\": \"white\", \"zerolinewidth\": 2}, \"yaxis\": {\"automargin\": true, \"gridcolor\": \"white\", \"linecolor\": \"white\", \"ticks\": \"\", \"title\": {\"standoff\": 15}, \"zerolinecolor\": \"white\", \"zerolinewidth\": 2}}}, \"title\": {\"text\": \"Age Count With Gender\", \"x\": 0.5}, \"xaxis\": {\"anchor\": \"y\", \"domain\": [0.0, 1.0], \"title\": {\"text\": \"Age\"}}, \"yaxis\": {\"anchor\": \"x\", \"domain\": [0.0, 1.0], \"title\": {\"text\": \"Count\"}}},                        {\"responsive\": true}                    ).then(function(){\n",
       "                            \n",
       "var gd = document.getElementById('7896110e-ffa7-4707-bc0e-4adb8a919efe');\n",
       "var x = new MutationObserver(function (mutations, observer) {{\n",
       "        var display = window.getComputedStyle(gd).display;\n",
       "        if (!display || display === 'none') {{\n",
       "            console.log([gd, 'removed!']);\n",
       "            Plotly.purge(gd);\n",
       "            observer.disconnect();\n",
       "        }}\n",
       "}});\n",
       "\n",
       "// Listen for the removal of the full notebook cells\n",
       "var notebookContainer = gd.closest('#notebook-container');\n",
       "if (notebookContainer) {{\n",
       "    x.observe(notebookContainer, {childList: true});\n",
       "}}\n",
       "\n",
       "// Listen for the clearing of the current output cell\n",
       "var outputEl = gd.closest('.output');\n",
       "if (outputEl) {{\n",
       "    x.observe(outputEl, {childList: true});\n",
       "}}\n",
       "\n",
       "                        })                };                });            </script>        </div>"
      ]
     },
     "metadata": {},
     "output_type": "display_data"
    }
   ],
   "source": [
    "df_G_and_A=df.groupby(by =['Gender','Age'])['Married'].count().to_frame().reset_index().rename(columns={'Gender':'Gender','Age':'Age','Married':'count'})\n",
    "\n",
    "fig = px.bar(df_G_and_A, x=\"Age\", y=\"count\",color=\"Gender\",barmode=\"group\",\n",
    "             \n",
    "             )\n",
    "fig.update_layout(title_text='Age Count With Gender',title_x=0.5,yaxis_title=\"Count\",\n",
    "                 )\n",
    "fig.show()"
   ]
  },
  {
   "cell_type": "code",
   "execution_count": 26,
   "metadata": {
    "execution": {
     "iopub.execute_input": "2021-02-21T23:25:20.643283Z",
     "iopub.status.busy": "2021-02-21T23:25:20.642059Z",
     "iopub.status.idle": "2021-02-21T23:25:20.657276Z",
     "shell.execute_reply": "2021-02-21T23:25:20.657975Z"
    },
    "papermill": {
     "duration": 0.06114,
     "end_time": "2021-02-21T23:25:20.658160",
     "exception": false,
     "start_time": "2021-02-21T23:25:20.597020",
     "status": "completed"
    },
    "tags": []
   },
   "outputs": [
    {
     "data": {
      "text/html": [
       "<div>\n",
       "<style scoped>\n",
       "    .dataframe tbody tr th:only-of-type {\n",
       "        vertical-align: middle;\n",
       "    }\n",
       "\n",
       "    .dataframe tbody tr th {\n",
       "        vertical-align: top;\n",
       "    }\n",
       "\n",
       "    .dataframe thead th {\n",
       "        text-align: right;\n",
       "    }\n",
       "</style>\n",
       "<table border=\"1\" class=\"dataframe\">\n",
       "  <thead>\n",
       "    <tr style=\"text-align: right;\">\n",
       "      <th></th>\n",
       "      <th>Gender</th>\n",
       "      <th>Age</th>\n",
       "      <th>AVG_AmountSpent</th>\n",
       "    </tr>\n",
       "  </thead>\n",
       "  <tbody>\n",
       "    <tr>\n",
       "      <th>0</th>\n",
       "      <td>Female</td>\n",
       "      <td>Middle</td>\n",
       "      <td>1301.34</td>\n",
       "    </tr>\n",
       "    <tr>\n",
       "      <th>1</th>\n",
       "      <td>Female</td>\n",
       "      <td>Old</td>\n",
       "      <td>1279.31</td>\n",
       "    </tr>\n",
       "    <tr>\n",
       "      <th>2</th>\n",
       "      <td>Female</td>\n",
       "      <td>Young</td>\n",
       "      <td>501.26</td>\n",
       "    </tr>\n",
       "    <tr>\n",
       "      <th>3</th>\n",
       "      <td>Male</td>\n",
       "      <td>Middle</td>\n",
       "      <td>1638.35</td>\n",
       "    </tr>\n",
       "    <tr>\n",
       "      <th>4</th>\n",
       "      <td>Male</td>\n",
       "      <td>Old</td>\n",
       "      <td>1691.51</td>\n",
       "    </tr>\n",
       "    <tr>\n",
       "      <th>5</th>\n",
       "      <td>Male</td>\n",
       "      <td>Young</td>\n",
       "      <td>643.19</td>\n",
       "    </tr>\n",
       "  </tbody>\n",
       "</table>\n",
       "</div>"
      ],
      "text/plain": [
       "   Gender     Age  AVG_AmountSpent\n",
       "0  Female  Middle          1301.34\n",
       "1  Female     Old          1279.31\n",
       "2  Female   Young           501.26\n",
       "3    Male  Middle          1638.35\n",
       "4    Male     Old          1691.51\n",
       "5    Male   Young           643.19"
      ]
     },
     "execution_count": 26,
     "metadata": {},
     "output_type": "execute_result"
    }
   ],
   "source": [
    "df_G_and_A=df.groupby(by =['Gender','Age'])['AmountSpent'].mean().to_frame().reset_index().rename(columns={'AmountSpent':'AVG_AmountSpent'})\n",
    "df_G_and_A[\"AVG_AmountSpent\"]=df_G_and_A[\"AVG_AmountSpent\"].map(lambda x:round(x,2))\n",
    "df_G_and_A"
   ]
  },
  {
   "cell_type": "code",
   "execution_count": 27,
   "metadata": {
    "execution": {
     "iopub.execute_input": "2021-02-21T23:25:20.750145Z",
     "iopub.status.busy": "2021-02-21T23:25:20.749265Z",
     "iopub.status.idle": "2021-02-21T23:25:20.860269Z",
     "shell.execute_reply": "2021-02-21T23:25:20.859266Z"
    },
    "papermill": {
     "duration": 0.161986,
     "end_time": "2021-02-21T23:25:20.860456",
     "exception": false,
     "start_time": "2021-02-21T23:25:20.698470",
     "status": "completed"
    },
    "tags": []
   },
   "outputs": [
    {
     "data": {
      "text/html": [
       "<div>                            <div id=\"539848a8-a8aa-4de3-94ed-bfcde6276431\" class=\"plotly-graph-div\" style=\"height:525px; width:100%;\"></div>            <script type=\"text/javascript\">                require([\"plotly\"], function(Plotly) {                    window.PLOTLYENV=window.PLOTLYENV || {};                                    if (document.getElementById(\"539848a8-a8aa-4de3-94ed-bfcde6276431\")) {                    Plotly.newPlot(                        \"539848a8-a8aa-4de3-94ed-bfcde6276431\",                        [{\"alignmentgroup\": \"True\", \"hovertemplate\": \"Gender=Female<br>Age=%{x}<br>AVG_AmountSpent=%{y}<extra></extra>\", \"legendgroup\": \"Female\", \"marker\": {\"color\": \"#636efa\"}, \"name\": \"Female\", \"offsetgroup\": \"Female\", \"orientation\": \"v\", \"showlegend\": true, \"textposition\": \"auto\", \"type\": \"bar\", \"x\": [\"Middle\", \"Old\", \"Young\"], \"xaxis\": \"x\", \"y\": [1301.34, 1279.31, 501.26], \"yaxis\": \"y\"}, {\"alignmentgroup\": \"True\", \"hovertemplate\": \"Gender=Male<br>Age=%{x}<br>AVG_AmountSpent=%{y}<extra></extra>\", \"legendgroup\": \"Male\", \"marker\": {\"color\": \"#EF553B\"}, \"name\": \"Male\", \"offsetgroup\": \"Male\", \"orientation\": \"v\", \"showlegend\": true, \"textposition\": \"auto\", \"type\": \"bar\", \"x\": [\"Middle\", \"Old\", \"Young\"], \"xaxis\": \"x\", \"y\": [1638.35, 1691.51, 643.19], \"yaxis\": \"y\"}],                        {\"barmode\": \"group\", \"legend\": {\"title\": {\"text\": \"Gender\"}, \"tracegroupgap\": 0}, \"margin\": {\"t\": 60}, \"template\": {\"data\": {\"bar\": [{\"error_x\": {\"color\": \"#2a3f5f\"}, \"error_y\": {\"color\": \"#2a3f5f\"}, \"marker\": {\"line\": {\"color\": \"#E5ECF6\", \"width\": 0.5}}, \"type\": \"bar\"}], \"barpolar\": [{\"marker\": {\"line\": {\"color\": \"#E5ECF6\", \"width\": 0.5}}, \"type\": \"barpolar\"}], \"carpet\": [{\"aaxis\": {\"endlinecolor\": \"#2a3f5f\", \"gridcolor\": \"white\", \"linecolor\": \"white\", \"minorgridcolor\": \"white\", \"startlinecolor\": \"#2a3f5f\"}, \"baxis\": {\"endlinecolor\": \"#2a3f5f\", \"gridcolor\": \"white\", \"linecolor\": \"white\", \"minorgridcolor\": \"white\", \"startlinecolor\": \"#2a3f5f\"}, \"type\": \"carpet\"}], \"choropleth\": [{\"colorbar\": {\"outlinewidth\": 0, \"ticks\": \"\"}, \"type\": \"choropleth\"}], \"contour\": [{\"colorbar\": {\"outlinewidth\": 0, \"ticks\": \"\"}, \"colorscale\": [[0.0, \"#0d0887\"], [0.1111111111111111, \"#46039f\"], [0.2222222222222222, \"#7201a8\"], [0.3333333333333333, \"#9c179e\"], [0.4444444444444444, \"#bd3786\"], [0.5555555555555556, \"#d8576b\"], [0.6666666666666666, \"#ed7953\"], [0.7777777777777778, \"#fb9f3a\"], [0.8888888888888888, \"#fdca26\"], [1.0, \"#f0f921\"]], \"type\": \"contour\"}], \"contourcarpet\": [{\"colorbar\": {\"outlinewidth\": 0, \"ticks\": \"\"}, \"type\": \"contourcarpet\"}], \"heatmap\": [{\"colorbar\": {\"outlinewidth\": 0, \"ticks\": \"\"}, \"colorscale\": [[0.0, \"#0d0887\"], [0.1111111111111111, \"#46039f\"], [0.2222222222222222, \"#7201a8\"], [0.3333333333333333, \"#9c179e\"], [0.4444444444444444, \"#bd3786\"], [0.5555555555555556, \"#d8576b\"], [0.6666666666666666, \"#ed7953\"], [0.7777777777777778, \"#fb9f3a\"], [0.8888888888888888, \"#fdca26\"], [1.0, \"#f0f921\"]], \"type\": \"heatmap\"}], \"heatmapgl\": [{\"colorbar\": {\"outlinewidth\": 0, \"ticks\": \"\"}, \"colorscale\": [[0.0, \"#0d0887\"], [0.1111111111111111, \"#46039f\"], [0.2222222222222222, \"#7201a8\"], [0.3333333333333333, \"#9c179e\"], [0.4444444444444444, \"#bd3786\"], [0.5555555555555556, \"#d8576b\"], [0.6666666666666666, \"#ed7953\"], [0.7777777777777778, \"#fb9f3a\"], [0.8888888888888888, \"#fdca26\"], [1.0, \"#f0f921\"]], \"type\": \"heatmapgl\"}], \"histogram\": [{\"marker\": {\"colorbar\": {\"outlinewidth\": 0, \"ticks\": \"\"}}, \"type\": \"histogram\"}], \"histogram2d\": [{\"colorbar\": {\"outlinewidth\": 0, \"ticks\": \"\"}, \"colorscale\": [[0.0, \"#0d0887\"], [0.1111111111111111, \"#46039f\"], [0.2222222222222222, \"#7201a8\"], [0.3333333333333333, \"#9c179e\"], [0.4444444444444444, \"#bd3786\"], [0.5555555555555556, \"#d8576b\"], [0.6666666666666666, \"#ed7953\"], [0.7777777777777778, \"#fb9f3a\"], [0.8888888888888888, \"#fdca26\"], [1.0, \"#f0f921\"]], \"type\": \"histogram2d\"}], \"histogram2dcontour\": [{\"colorbar\": {\"outlinewidth\": 0, \"ticks\": \"\"}, \"colorscale\": [[0.0, \"#0d0887\"], [0.1111111111111111, \"#46039f\"], [0.2222222222222222, \"#7201a8\"], [0.3333333333333333, \"#9c179e\"], [0.4444444444444444, \"#bd3786\"], [0.5555555555555556, \"#d8576b\"], [0.6666666666666666, \"#ed7953\"], [0.7777777777777778, \"#fb9f3a\"], [0.8888888888888888, \"#fdca26\"], [1.0, \"#f0f921\"]], \"type\": \"histogram2dcontour\"}], \"mesh3d\": [{\"colorbar\": {\"outlinewidth\": 0, \"ticks\": \"\"}, \"type\": \"mesh3d\"}], \"parcoords\": [{\"line\": {\"colorbar\": {\"outlinewidth\": 0, \"ticks\": \"\"}}, \"type\": \"parcoords\"}], \"pie\": [{\"automargin\": true, \"type\": \"pie\"}], \"scatter\": [{\"marker\": {\"colorbar\": {\"outlinewidth\": 0, \"ticks\": \"\"}}, \"type\": \"scatter\"}], \"scatter3d\": [{\"line\": {\"colorbar\": {\"outlinewidth\": 0, \"ticks\": \"\"}}, \"marker\": {\"colorbar\": {\"outlinewidth\": 0, \"ticks\": \"\"}}, \"type\": \"scatter3d\"}], \"scattercarpet\": [{\"marker\": {\"colorbar\": {\"outlinewidth\": 0, \"ticks\": \"\"}}, \"type\": \"scattercarpet\"}], \"scattergeo\": [{\"marker\": {\"colorbar\": {\"outlinewidth\": 0, \"ticks\": \"\"}}, \"type\": \"scattergeo\"}], \"scattergl\": [{\"marker\": {\"colorbar\": {\"outlinewidth\": 0, \"ticks\": \"\"}}, \"type\": \"scattergl\"}], \"scattermapbox\": [{\"marker\": {\"colorbar\": {\"outlinewidth\": 0, \"ticks\": \"\"}}, \"type\": \"scattermapbox\"}], \"scatterpolar\": [{\"marker\": {\"colorbar\": {\"outlinewidth\": 0, \"ticks\": \"\"}}, \"type\": \"scatterpolar\"}], \"scatterpolargl\": [{\"marker\": {\"colorbar\": {\"outlinewidth\": 0, \"ticks\": \"\"}}, \"type\": \"scatterpolargl\"}], \"scatterternary\": [{\"marker\": {\"colorbar\": {\"outlinewidth\": 0, \"ticks\": \"\"}}, \"type\": \"scatterternary\"}], \"surface\": [{\"colorbar\": {\"outlinewidth\": 0, \"ticks\": \"\"}, \"colorscale\": [[0.0, \"#0d0887\"], [0.1111111111111111, \"#46039f\"], [0.2222222222222222, \"#7201a8\"], [0.3333333333333333, \"#9c179e\"], [0.4444444444444444, \"#bd3786\"], [0.5555555555555556, \"#d8576b\"], [0.6666666666666666, \"#ed7953\"], [0.7777777777777778, \"#fb9f3a\"], [0.8888888888888888, \"#fdca26\"], [1.0, \"#f0f921\"]], \"type\": \"surface\"}], \"table\": [{\"cells\": {\"fill\": {\"color\": \"#EBF0F8\"}, \"line\": {\"color\": \"white\"}}, \"header\": {\"fill\": {\"color\": \"#C8D4E3\"}, \"line\": {\"color\": \"white\"}}, \"type\": \"table\"}]}, \"layout\": {\"annotationdefaults\": {\"arrowcolor\": \"#2a3f5f\", \"arrowhead\": 0, \"arrowwidth\": 1}, \"autotypenumbers\": \"strict\", \"coloraxis\": {\"colorbar\": {\"outlinewidth\": 0, \"ticks\": \"\"}}, \"colorscale\": {\"diverging\": [[0, \"#8e0152\"], [0.1, \"#c51b7d\"], [0.2, \"#de77ae\"], [0.3, \"#f1b6da\"], [0.4, \"#fde0ef\"], [0.5, \"#f7f7f7\"], [0.6, \"#e6f5d0\"], [0.7, \"#b8e186\"], [0.8, \"#7fbc41\"], [0.9, \"#4d9221\"], [1, \"#276419\"]], \"sequential\": [[0.0, \"#0d0887\"], [0.1111111111111111, \"#46039f\"], [0.2222222222222222, \"#7201a8\"], [0.3333333333333333, \"#9c179e\"], [0.4444444444444444, \"#bd3786\"], [0.5555555555555556, \"#d8576b\"], [0.6666666666666666, \"#ed7953\"], [0.7777777777777778, \"#fb9f3a\"], [0.8888888888888888, \"#fdca26\"], [1.0, \"#f0f921\"]], \"sequentialminus\": [[0.0, \"#0d0887\"], [0.1111111111111111, \"#46039f\"], [0.2222222222222222, \"#7201a8\"], [0.3333333333333333, \"#9c179e\"], [0.4444444444444444, \"#bd3786\"], [0.5555555555555556, \"#d8576b\"], [0.6666666666666666, \"#ed7953\"], [0.7777777777777778, \"#fb9f3a\"], [0.8888888888888888, \"#fdca26\"], [1.0, \"#f0f921\"]]}, \"colorway\": [\"#636efa\", \"#EF553B\", \"#00cc96\", \"#ab63fa\", \"#FFA15A\", \"#19d3f3\", \"#FF6692\", \"#B6E880\", \"#FF97FF\", \"#FECB52\"], \"font\": {\"color\": \"#2a3f5f\"}, \"geo\": {\"bgcolor\": \"white\", \"lakecolor\": \"white\", \"landcolor\": \"#E5ECF6\", \"showlakes\": true, \"showland\": true, \"subunitcolor\": \"white\"}, \"hoverlabel\": {\"align\": \"left\"}, \"hovermode\": \"closest\", \"mapbox\": {\"style\": \"light\"}, \"paper_bgcolor\": \"white\", \"plot_bgcolor\": \"#E5ECF6\", \"polar\": {\"angularaxis\": {\"gridcolor\": \"white\", \"linecolor\": \"white\", \"ticks\": \"\"}, \"bgcolor\": \"#E5ECF6\", \"radialaxis\": {\"gridcolor\": \"white\", \"linecolor\": \"white\", \"ticks\": \"\"}}, \"scene\": {\"xaxis\": {\"backgroundcolor\": \"#E5ECF6\", \"gridcolor\": \"white\", \"gridwidth\": 2, \"linecolor\": \"white\", \"showbackground\": true, \"ticks\": \"\", \"zerolinecolor\": \"white\"}, \"yaxis\": {\"backgroundcolor\": \"#E5ECF6\", \"gridcolor\": \"white\", \"gridwidth\": 2, \"linecolor\": \"white\", \"showbackground\": true, \"ticks\": \"\", \"zerolinecolor\": \"white\"}, \"zaxis\": {\"backgroundcolor\": \"#E5ECF6\", \"gridcolor\": \"white\", \"gridwidth\": 2, \"linecolor\": \"white\", \"showbackground\": true, \"ticks\": \"\", \"zerolinecolor\": \"white\"}}, \"shapedefaults\": {\"line\": {\"color\": \"#2a3f5f\"}}, \"ternary\": {\"aaxis\": {\"gridcolor\": \"white\", \"linecolor\": \"white\", \"ticks\": \"\"}, \"baxis\": {\"gridcolor\": \"white\", \"linecolor\": \"white\", \"ticks\": \"\"}, \"bgcolor\": \"#E5ECF6\", \"caxis\": {\"gridcolor\": \"white\", \"linecolor\": \"white\", \"ticks\": \"\"}}, \"title\": {\"x\": 0.05}, \"xaxis\": {\"automargin\": true, \"gridcolor\": \"white\", \"linecolor\": \"white\", \"ticks\": \"\", \"title\": {\"standoff\": 15}, \"zerolinecolor\": \"white\", \"zerolinewidth\": 2}, \"yaxis\": {\"automargin\": true, \"gridcolor\": \"white\", \"linecolor\": \"white\", \"ticks\": \"\", \"title\": {\"standoff\": 15}, \"zerolinecolor\": \"white\", \"zerolinewidth\": 2}}}, \"title\": {\"text\": \"Age Amount Spent With Gender,Age\", \"x\": 0.5}, \"xaxis\": {\"anchor\": \"y\", \"domain\": [0.0, 1.0], \"title\": {\"text\": \"Age\"}}, \"yaxis\": {\"anchor\": \"x\", \"domain\": [0.0, 1.0], \"title\": {\"text\": \"Amount Spent\"}}},                        {\"responsive\": true}                    ).then(function(){\n",
       "                            \n",
       "var gd = document.getElementById('539848a8-a8aa-4de3-94ed-bfcde6276431');\n",
       "var x = new MutationObserver(function (mutations, observer) {{\n",
       "        var display = window.getComputedStyle(gd).display;\n",
       "        if (!display || display === 'none') {{\n",
       "            console.log([gd, 'removed!']);\n",
       "            Plotly.purge(gd);\n",
       "            observer.disconnect();\n",
       "        }}\n",
       "}});\n",
       "\n",
       "// Listen for the removal of the full notebook cells\n",
       "var notebookContainer = gd.closest('#notebook-container');\n",
       "if (notebookContainer) {{\n",
       "    x.observe(notebookContainer, {childList: true});\n",
       "}}\n",
       "\n",
       "// Listen for the clearing of the current output cell\n",
       "var outputEl = gd.closest('.output');\n",
       "if (outputEl) {{\n",
       "    x.observe(outputEl, {childList: true});\n",
       "}}\n",
       "\n",
       "                        })                };                });            </script>        </div>"
      ]
     },
     "metadata": {},
     "output_type": "display_data"
    }
   ],
   "source": [
    "df_G_and_A=df.groupby(by =['Gender','Age'])['AmountSpent'].mean().to_frame().reset_index().rename(columns={'AmountSpent':'AVG_AmountSpent'})\n",
    "df_G_and_A[\"AVG_AmountSpent\"]=df_G_and_A[\"AVG_AmountSpent\"].map(lambda x:round(x,2))\n",
    "\n",
    "fig = px.bar(df_G_and_A, x=\"Age\", y=\"AVG_AmountSpent\",color=\"Gender\",barmode=\"group\",\n",
    "             \n",
    "             )\n",
    "fig.update_layout(title_text='Age Amount Spent With Gender,Age',title_x=0.5,yaxis_title=\"Amount Spent\",\n",
    "                 )\n",
    "fig.show()"
   ]
  },
  {
   "cell_type": "code",
   "execution_count": 28,
   "metadata": {
    "execution": {
     "iopub.execute_input": "2021-02-21T23:25:20.950223Z",
     "iopub.status.busy": "2021-02-21T23:25:20.948620Z",
     "iopub.status.idle": "2021-02-21T23:25:20.980028Z",
     "shell.execute_reply": "2021-02-21T23:25:20.979368Z"
    },
    "papermill": {
     "duration": 0.077825,
     "end_time": "2021-02-21T23:25:20.980172",
     "exception": false,
     "start_time": "2021-02-21T23:25:20.902347",
     "status": "completed"
    },
    "tags": []
   },
   "outputs": [
    {
     "data": {
      "text/html": [
       "<div>\n",
       "<style scoped>\n",
       "    .dataframe tbody tr th:only-of-type {\n",
       "        vertical-align: middle;\n",
       "    }\n",
       "\n",
       "    .dataframe tbody tr th {\n",
       "        vertical-align: top;\n",
       "    }\n",
       "\n",
       "    .dataframe thead th {\n",
       "        text-align: right;\n",
       "    }\n",
       "</style>\n",
       "<table border=\"1\" class=\"dataframe\">\n",
       "  <thead>\n",
       "    <tr style=\"text-align: right;\">\n",
       "      <th></th>\n",
       "      <th></th>\n",
       "      <th>min</th>\n",
       "      <th>mean</th>\n",
       "      <th>max</th>\n",
       "    </tr>\n",
       "    <tr>\n",
       "      <th>Age</th>\n",
       "      <th>Gender</th>\n",
       "      <th></th>\n",
       "      <th></th>\n",
       "      <th></th>\n",
       "    </tr>\n",
       "  </thead>\n",
       "  <tbody>\n",
       "    <tr>\n",
       "      <th rowspan=\"2\" valign=\"top\">Middle</th>\n",
       "      <th>Female</th>\n",
       "      <td>158</td>\n",
       "      <td>1301.339806</td>\n",
       "      <td>5830</td>\n",
       "    </tr>\n",
       "    <tr>\n",
       "      <th>Male</th>\n",
       "      <td>157</td>\n",
       "      <td>1638.354305</td>\n",
       "      <td>5878</td>\n",
       "    </tr>\n",
       "    <tr>\n",
       "      <th rowspan=\"2\" valign=\"top\">Old</th>\n",
       "      <th>Female</th>\n",
       "      <td>65</td>\n",
       "      <td>1279.310078</td>\n",
       "      <td>5564</td>\n",
       "    </tr>\n",
       "    <tr>\n",
       "      <th>Male</th>\n",
       "      <td>297</td>\n",
       "      <td>1691.513158</td>\n",
       "      <td>6217</td>\n",
       "    </tr>\n",
       "    <tr>\n",
       "      <th rowspan=\"2\" valign=\"top\">Young</th>\n",
       "      <th>Female</th>\n",
       "      <td>47</td>\n",
       "      <td>501.257310</td>\n",
       "      <td>3688</td>\n",
       "    </tr>\n",
       "    <tr>\n",
       "      <th>Male</th>\n",
       "      <td>38</td>\n",
       "      <td>643.189655</td>\n",
       "      <td>1692</td>\n",
       "    </tr>\n",
       "  </tbody>\n",
       "</table>\n",
       "</div>"
      ],
      "text/plain": [
       "               min         mean   max\n",
       "Age    Gender                        \n",
       "Middle Female  158  1301.339806  5830\n",
       "       Male    157  1638.354305  5878\n",
       "Old    Female   65  1279.310078  5564\n",
       "       Male    297  1691.513158  6217\n",
       "Young  Female   47   501.257310  3688\n",
       "       Male     38   643.189655  1692"
      ]
     },
     "execution_count": 28,
     "metadata": {},
     "output_type": "execute_result"
    }
   ],
   "source": [
    "df_age_gender_agg=df.groupby(by=[\"Age\",\"Gender\"])['AmountSpent'].agg([\"min\",\"mean\",\"max\"])\n",
    "df_age_gender_agg"
   ]
  },
  {
   "cell_type": "code",
   "execution_count": 29,
   "metadata": {
    "execution": {
     "iopub.execute_input": "2021-02-21T23:25:21.073168Z",
     "iopub.status.busy": "2021-02-21T23:25:21.070994Z",
     "iopub.status.idle": "2021-02-21T23:25:21.114094Z",
     "shell.execute_reply": "2021-02-21T23:25:21.113431Z"
    },
    "papermill": {
     "duration": 0.093242,
     "end_time": "2021-02-21T23:25:21.114240",
     "exception": false,
     "start_time": "2021-02-21T23:25:21.020998",
     "status": "completed"
    },
    "tags": []
   },
   "outputs": [
    {
     "data": {
      "text/html": [
       "<div>\n",
       "<style scoped>\n",
       "    .dataframe tbody tr th:only-of-type {\n",
       "        vertical-align: middle;\n",
       "    }\n",
       "\n",
       "    .dataframe tbody tr th {\n",
       "        vertical-align: top;\n",
       "    }\n",
       "\n",
       "    .dataframe thead th {\n",
       "        text-align: right;\n",
       "    }\n",
       "</style>\n",
       "<table border=\"1\" class=\"dataframe\">\n",
       "  <thead>\n",
       "    <tr style=\"text-align: right;\">\n",
       "      <th></th>\n",
       "      <th>AVG_AmountSpent</th>\n",
       "      <th>Max_AmountSpent</th>\n",
       "      <th>Min_AmountSpent</th>\n",
       "      <th>Count</th>\n",
       "      <th>Gender_Age</th>\n",
       "    </tr>\n",
       "  </thead>\n",
       "  <tbody>\n",
       "    <tr>\n",
       "      <th>0</th>\n",
       "      <td>1301.34</td>\n",
       "      <td>5830</td>\n",
       "      <td>158</td>\n",
       "      <td>206</td>\n",
       "      <td>Female Middle</td>\n",
       "    </tr>\n",
       "    <tr>\n",
       "      <th>1</th>\n",
       "      <td>1279.31</td>\n",
       "      <td>5564</td>\n",
       "      <td>65</td>\n",
       "      <td>129</td>\n",
       "      <td>Female Old</td>\n",
       "    </tr>\n",
       "    <tr>\n",
       "      <th>2</th>\n",
       "      <td>501.26</td>\n",
       "      <td>3688</td>\n",
       "      <td>47</td>\n",
       "      <td>171</td>\n",
       "      <td>Female Young</td>\n",
       "    </tr>\n",
       "    <tr>\n",
       "      <th>3</th>\n",
       "      <td>1638.35</td>\n",
       "      <td>5878</td>\n",
       "      <td>157</td>\n",
       "      <td>302</td>\n",
       "      <td>Male Middle</td>\n",
       "    </tr>\n",
       "    <tr>\n",
       "      <th>4</th>\n",
       "      <td>1691.51</td>\n",
       "      <td>6217</td>\n",
       "      <td>297</td>\n",
       "      <td>76</td>\n",
       "      <td>Male Old</td>\n",
       "    </tr>\n",
       "    <tr>\n",
       "      <th>5</th>\n",
       "      <td>643.19</td>\n",
       "      <td>1692</td>\n",
       "      <td>38</td>\n",
       "      <td>116</td>\n",
       "      <td>Male Young</td>\n",
       "    </tr>\n",
       "  </tbody>\n",
       "</table>\n",
       "</div>"
      ],
      "text/plain": [
       "   AVG_AmountSpent  Max_AmountSpent  Min_AmountSpent  Count     Gender_Age\n",
       "0          1301.34             5830              158    206  Female Middle\n",
       "1          1279.31             5564               65    129     Female Old\n",
       "2           501.26             3688               47    171   Female Young\n",
       "3          1638.35             5878              157    302    Male Middle\n",
       "4          1691.51             6217              297     76       Male Old\n",
       "5           643.19             1692               38    116     Male Young"
      ]
     },
     "execution_count": 29,
     "metadata": {},
     "output_type": "execute_result"
    }
   ],
   "source": [
    "df_G_and_A_AVG=df.groupby(by =['Gender','Age'])['AmountSpent'].mean().to_frame().reset_index().rename(columns={'Gender':'Gender','Age':'Age','AmountSpent':'AVG_AmountSpent'})\n",
    "df_G_and_A_Max=df.groupby(by =['Gender','Age'])['AmountSpent'].max().to_frame().reset_index().rename(columns={'Gender':'Gender1','Age':'Age1','AmountSpent':'Max_AmountSpent'})\n",
    "df_G_and_A_Min=df.groupby(by =['Gender','Age'])['AmountSpent'].min().to_frame().reset_index().rename(columns={'Gender':'Gender2','Age':'Age2','AmountSpent':'Min_AmountSpent'})\n",
    "df_G_and_A_Count=df.groupby(by =['Gender','Age'])['AmountSpent'].count().to_frame().reset_index().rename(columns={'Gender':'Gender3','Age':'Age3','AmountSpent':'Count'})\n",
    "result = pd.concat([df_G_and_A_AVG, df_G_and_A_Max,df_G_and_A_Min,df_G_and_A_Count], axis=1)\n",
    "result.drop(['Gender1','Gender2','Gender3','Age1','Age2','Age3'],inplace=True,axis=1)\n",
    "result[\"AVG_AmountSpent\"]=result[\"AVG_AmountSpent\"].map(lambda x:round(x,2))\n",
    "result[\"Gender_Age\"]=result[\"Gender\"]+\" \"+result[\"Age\"]\n",
    "result.drop(['Gender','Age'],inplace=True,axis=1)\n",
    "result"
   ]
  },
  {
   "cell_type": "code",
   "execution_count": 30,
   "metadata": {
    "execution": {
     "iopub.execute_input": "2021-02-21T23:25:21.211130Z",
     "iopub.status.busy": "2021-02-21T23:25:21.209869Z",
     "iopub.status.idle": "2021-02-21T23:25:21.317488Z",
     "shell.execute_reply": "2021-02-21T23:25:21.316170Z"
    },
    "papermill": {
     "duration": 0.160519,
     "end_time": "2021-02-21T23:25:21.317713",
     "exception": false,
     "start_time": "2021-02-21T23:25:21.157194",
     "status": "completed"
    },
    "tags": []
   },
   "outputs": [
    {
     "data": {
      "text/html": [
       "<div>                            <div id=\"3d14277f-1273-480a-b80d-0f5f2af3d4b6\" class=\"plotly-graph-div\" style=\"height:525px; width:100%;\"></div>            <script type=\"text/javascript\">                require([\"plotly\"], function(Plotly) {                    window.PLOTLYENV=window.PLOTLYENV || {};                                    if (document.getElementById(\"3d14277f-1273-480a-b80d-0f5f2af3d4b6\")) {                    Plotly.newPlot(                        \"3d14277f-1273-480a-b80d-0f5f2af3d4b6\",                        [{\"marker\": {\"color\": [1301.34, 1279.31, 501.26, 1638.35, 1691.51, 643.19], \"colorscale\": [[0.0, \"rgb(61, 89, 65)\"], [0.16666666666666666, \"rgb(119, 136, 104)\"], [0.3333333333333333, \"rgb(181, 185, 145)\"], [0.5, \"rgb(246, 237, 189)\"], [0.6666666666666666, \"rgb(237, 187, 138)\"], [0.8333333333333334, \"rgb(222, 138, 90)\"], [1.0, \"rgb(202, 86, 44)\"]]}, \"name\": \"Mean\", \"text\": [1301.34, 1279.31, 501.26, 1638.35, 1691.51, 643.19], \"textposition\": \"inside\", \"type\": \"bar\", \"x\": [\"Female Middle\", \"Female Old\", \"Female Young\", \"Male Middle\", \"Male Old\", \"Male Young\"], \"xaxis\": \"x\", \"y\": [1301.34, 1279.31, 501.26, 1638.35, 1691.51, 643.19], \"yaxis\": \"y\"}, {\"marker\": {\"color\": [158, 65, 47, 157, 297, 38], \"colorscale\": [[0.0, \"rgb(61, 89, 65)\"], [0.16666666666666666, \"rgb(119, 136, 104)\"], [0.3333333333333333, \"rgb(181, 185, 145)\"], [0.5, \"rgb(246, 237, 189)\"], [0.6666666666666666, \"rgb(237, 187, 138)\"], [0.8333333333333334, \"rgb(222, 138, 90)\"], [1.0, \"rgb(202, 86, 44)\"]]}, \"name\": \"Min\", \"text\": [158.0, 65.0, 47.0, 157.0, 297.0, 38.0], \"textposition\": \"inside\", \"type\": \"bar\", \"x\": [\"Female Middle\", \"Female Old\", \"Female Young\", \"Male Middle\", \"Male Old\", \"Male Young\"], \"xaxis\": \"x2\", \"y\": [158, 65, 47, 157, 297, 38], \"yaxis\": \"y2\"}, {\"marker\": {\"color\": [5830, 5564, 3688, 5878, 6217, 1692], \"colorscale\": [[0.0, \"rgb(61, 89, 65)\"], [0.16666666666666666, \"rgb(119, 136, 104)\"], [0.3333333333333333, \"rgb(181, 185, 145)\"], [0.5, \"rgb(246, 237, 189)\"], [0.6666666666666666, \"rgb(237, 187, 138)\"], [0.8333333333333334, \"rgb(222, 138, 90)\"], [1.0, \"rgb(202, 86, 44)\"]]}, \"name\": \"Max\", \"text\": [5830.0, 5564.0, 3688.0, 5878.0, 6217.0, 1692.0], \"textposition\": \"inside\", \"type\": \"bar\", \"x\": [\"Female Middle\", \"Female Old\", \"Female Young\", \"Male Middle\", \"Male Old\", \"Male Young\"], \"xaxis\": \"x3\", \"y\": [5830, 5564, 3688, 5878, 6217, 1692], \"yaxis\": \"y3\"}, {\"marker\": {\"color\": [206, 129, 171, 302, 76, 116], \"colorscale\": [[0.0, \"rgb(61, 89, 65)\"], [0.16666666666666666, \"rgb(119, 136, 104)\"], [0.3333333333333333, \"rgb(181, 185, 145)\"], [0.5, \"rgb(246, 237, 189)\"], [0.6666666666666666, \"rgb(237, 187, 138)\"], [0.8333333333333334, \"rgb(222, 138, 90)\"], [1.0, \"rgb(202, 86, 44)\"]]}, \"name\": \"Count\", \"text\": [206.0, 129.0, 171.0, 302.0, 76.0, 116.0], \"textposition\": \"inside\", \"type\": \"bar\", \"x\": [\"Female Middle\", \"Female Old\", \"Female Young\", \"Male Middle\", \"Male Old\", \"Male Young\"], \"xaxis\": \"x4\", \"y\": [206, 129, 171, 302, 76, 116], \"yaxis\": \"y4\"}],                        {\"annotations\": [{\"font\": {\"size\": 16}, \"showarrow\": false, \"text\": \" Mean Amount Spent\", \"x\": 0.5, \"xanchor\": \"center\", \"xref\": \"paper\", \"y\": 1.0, \"yanchor\": \"bottom\", \"yref\": \"paper\"}, {\"font\": {\"size\": 16}, \"showarrow\": false, \"text\": \" Min Amount Spent\", \"x\": 0.5, \"xanchor\": \"center\", \"xref\": \"paper\", \"y\": 0.71875, \"yanchor\": \"bottom\", \"yref\": \"paper\"}, {\"font\": {\"size\": 16}, \"showarrow\": false, \"text\": \" Max Amount Spent\", \"x\": 0.5, \"xanchor\": \"center\", \"xref\": \"paper\", \"y\": 0.4375, \"yanchor\": \"bottom\", \"yref\": \"paper\"}, {\"font\": {\"size\": 16}, \"showarrow\": false, \"text\": \" Count \", \"x\": 0.5, \"xanchor\": \"center\", \"xref\": \"paper\", \"y\": 0.15625, \"yanchor\": \"bottom\", \"yref\": \"paper\"}], \"template\": {\"data\": {\"bar\": [{\"error_x\": {\"color\": \"#2a3f5f\"}, \"error_y\": {\"color\": \"#2a3f5f\"}, \"marker\": {\"line\": {\"color\": \"#E5ECF6\", \"width\": 0.5}}, \"type\": \"bar\"}], \"barpolar\": [{\"marker\": {\"line\": {\"color\": \"#E5ECF6\", \"width\": 0.5}}, \"type\": \"barpolar\"}], \"carpet\": [{\"aaxis\": {\"endlinecolor\": \"#2a3f5f\", \"gridcolor\": \"white\", \"linecolor\": \"white\", \"minorgridcolor\": \"white\", \"startlinecolor\": \"#2a3f5f\"}, \"baxis\": {\"endlinecolor\": \"#2a3f5f\", \"gridcolor\": \"white\", \"linecolor\": \"white\", \"minorgridcolor\": \"white\", \"startlinecolor\": \"#2a3f5f\"}, \"type\": \"carpet\"}], \"choropleth\": [{\"colorbar\": {\"outlinewidth\": 0, \"ticks\": \"\"}, \"type\": \"choropleth\"}], \"contour\": [{\"colorbar\": {\"outlinewidth\": 0, \"ticks\": \"\"}, \"colorscale\": [[0.0, \"#0d0887\"], [0.1111111111111111, \"#46039f\"], [0.2222222222222222, \"#7201a8\"], [0.3333333333333333, \"#9c179e\"], [0.4444444444444444, \"#bd3786\"], [0.5555555555555556, \"#d8576b\"], [0.6666666666666666, \"#ed7953\"], [0.7777777777777778, \"#fb9f3a\"], [0.8888888888888888, \"#fdca26\"], [1.0, \"#f0f921\"]], \"type\": \"contour\"}], \"contourcarpet\": [{\"colorbar\": {\"outlinewidth\": 0, \"ticks\": \"\"}, \"type\": \"contourcarpet\"}], \"heatmap\": [{\"colorbar\": {\"outlinewidth\": 0, \"ticks\": \"\"}, \"colorscale\": [[0.0, \"#0d0887\"], [0.1111111111111111, \"#46039f\"], [0.2222222222222222, \"#7201a8\"], [0.3333333333333333, \"#9c179e\"], [0.4444444444444444, \"#bd3786\"], [0.5555555555555556, \"#d8576b\"], [0.6666666666666666, \"#ed7953\"], [0.7777777777777778, \"#fb9f3a\"], [0.8888888888888888, \"#fdca26\"], [1.0, \"#f0f921\"]], \"type\": \"heatmap\"}], \"heatmapgl\": [{\"colorbar\": {\"outlinewidth\": 0, \"ticks\": \"\"}, \"colorscale\": [[0.0, \"#0d0887\"], [0.1111111111111111, \"#46039f\"], [0.2222222222222222, \"#7201a8\"], [0.3333333333333333, \"#9c179e\"], [0.4444444444444444, \"#bd3786\"], [0.5555555555555556, \"#d8576b\"], [0.6666666666666666, \"#ed7953\"], [0.7777777777777778, \"#fb9f3a\"], [0.8888888888888888, \"#fdca26\"], [1.0, \"#f0f921\"]], \"type\": \"heatmapgl\"}], \"histogram\": [{\"marker\": {\"colorbar\": {\"outlinewidth\": 0, \"ticks\": \"\"}}, \"type\": \"histogram\"}], \"histogram2d\": [{\"colorbar\": {\"outlinewidth\": 0, \"ticks\": \"\"}, \"colorscale\": [[0.0, \"#0d0887\"], [0.1111111111111111, \"#46039f\"], [0.2222222222222222, \"#7201a8\"], [0.3333333333333333, \"#9c179e\"], [0.4444444444444444, \"#bd3786\"], [0.5555555555555556, \"#d8576b\"], [0.6666666666666666, \"#ed7953\"], [0.7777777777777778, \"#fb9f3a\"], [0.8888888888888888, \"#fdca26\"], [1.0, \"#f0f921\"]], \"type\": \"histogram2d\"}], \"histogram2dcontour\": [{\"colorbar\": {\"outlinewidth\": 0, \"ticks\": \"\"}, \"colorscale\": [[0.0, \"#0d0887\"], [0.1111111111111111, \"#46039f\"], [0.2222222222222222, \"#7201a8\"], [0.3333333333333333, \"#9c179e\"], [0.4444444444444444, \"#bd3786\"], [0.5555555555555556, \"#d8576b\"], [0.6666666666666666, \"#ed7953\"], [0.7777777777777778, \"#fb9f3a\"], [0.8888888888888888, \"#fdca26\"], [1.0, \"#f0f921\"]], \"type\": \"histogram2dcontour\"}], \"mesh3d\": [{\"colorbar\": {\"outlinewidth\": 0, \"ticks\": \"\"}, \"type\": \"mesh3d\"}], \"parcoords\": [{\"line\": {\"colorbar\": {\"outlinewidth\": 0, \"ticks\": \"\"}}, \"type\": \"parcoords\"}], \"pie\": [{\"automargin\": true, \"type\": \"pie\"}], \"scatter\": [{\"marker\": {\"colorbar\": {\"outlinewidth\": 0, \"ticks\": \"\"}}, \"type\": \"scatter\"}], \"scatter3d\": [{\"line\": {\"colorbar\": {\"outlinewidth\": 0, \"ticks\": \"\"}}, \"marker\": {\"colorbar\": {\"outlinewidth\": 0, \"ticks\": \"\"}}, \"type\": \"scatter3d\"}], \"scattercarpet\": [{\"marker\": {\"colorbar\": {\"outlinewidth\": 0, \"ticks\": \"\"}}, \"type\": \"scattercarpet\"}], \"scattergeo\": [{\"marker\": {\"colorbar\": {\"outlinewidth\": 0, \"ticks\": \"\"}}, \"type\": \"scattergeo\"}], \"scattergl\": [{\"marker\": {\"colorbar\": {\"outlinewidth\": 0, \"ticks\": \"\"}}, \"type\": \"scattergl\"}], \"scattermapbox\": [{\"marker\": {\"colorbar\": {\"outlinewidth\": 0, \"ticks\": \"\"}}, \"type\": \"scattermapbox\"}], \"scatterpolar\": [{\"marker\": {\"colorbar\": {\"outlinewidth\": 0, \"ticks\": \"\"}}, \"type\": \"scatterpolar\"}], \"scatterpolargl\": [{\"marker\": {\"colorbar\": {\"outlinewidth\": 0, \"ticks\": \"\"}}, \"type\": \"scatterpolargl\"}], \"scatterternary\": [{\"marker\": {\"colorbar\": {\"outlinewidth\": 0, \"ticks\": \"\"}}, \"type\": \"scatterternary\"}], \"surface\": [{\"colorbar\": {\"outlinewidth\": 0, \"ticks\": \"\"}, \"colorscale\": [[0.0, \"#0d0887\"], [0.1111111111111111, \"#46039f\"], [0.2222222222222222, \"#7201a8\"], [0.3333333333333333, \"#9c179e\"], [0.4444444444444444, \"#bd3786\"], [0.5555555555555556, \"#d8576b\"], [0.6666666666666666, \"#ed7953\"], [0.7777777777777778, \"#fb9f3a\"], [0.8888888888888888, \"#fdca26\"], [1.0, \"#f0f921\"]], \"type\": \"surface\"}], \"table\": [{\"cells\": {\"fill\": {\"color\": \"#EBF0F8\"}, \"line\": {\"color\": \"white\"}}, \"header\": {\"fill\": {\"color\": \"#C8D4E3\"}, \"line\": {\"color\": \"white\"}}, \"type\": \"table\"}]}, \"layout\": {\"annotationdefaults\": {\"arrowcolor\": \"#2a3f5f\", \"arrowhead\": 0, \"arrowwidth\": 1}, \"autotypenumbers\": \"strict\", \"coloraxis\": {\"colorbar\": {\"outlinewidth\": 0, \"ticks\": \"\"}}, \"colorscale\": {\"diverging\": [[0, \"#8e0152\"], [0.1, \"#c51b7d\"], [0.2, \"#de77ae\"], [0.3, \"#f1b6da\"], [0.4, \"#fde0ef\"], [0.5, \"#f7f7f7\"], [0.6, \"#e6f5d0\"], [0.7, \"#b8e186\"], [0.8, \"#7fbc41\"], [0.9, \"#4d9221\"], [1, \"#276419\"]], \"sequential\": [[0.0, \"#0d0887\"], [0.1111111111111111, \"#46039f\"], [0.2222222222222222, \"#7201a8\"], [0.3333333333333333, \"#9c179e\"], [0.4444444444444444, \"#bd3786\"], [0.5555555555555556, \"#d8576b\"], [0.6666666666666666, \"#ed7953\"], [0.7777777777777778, \"#fb9f3a\"], [0.8888888888888888, \"#fdca26\"], [1.0, \"#f0f921\"]], \"sequentialminus\": [[0.0, \"#0d0887\"], [0.1111111111111111, \"#46039f\"], [0.2222222222222222, \"#7201a8\"], [0.3333333333333333, \"#9c179e\"], [0.4444444444444444, \"#bd3786\"], [0.5555555555555556, \"#d8576b\"], [0.6666666666666666, \"#ed7953\"], [0.7777777777777778, \"#fb9f3a\"], [0.8888888888888888, \"#fdca26\"], [1.0, \"#f0f921\"]]}, \"colorway\": [\"#636efa\", \"#EF553B\", \"#00cc96\", \"#ab63fa\", \"#FFA15A\", \"#19d3f3\", \"#FF6692\", \"#B6E880\", \"#FF97FF\", \"#FECB52\"], \"font\": {\"color\": \"#2a3f5f\"}, \"geo\": {\"bgcolor\": \"white\", \"lakecolor\": \"white\", \"landcolor\": \"#E5ECF6\", \"showlakes\": true, \"showland\": true, \"subunitcolor\": \"white\"}, \"hoverlabel\": {\"align\": \"left\"}, \"hovermode\": \"closest\", \"mapbox\": {\"style\": \"light\"}, \"paper_bgcolor\": \"white\", \"plot_bgcolor\": \"#E5ECF6\", \"polar\": {\"angularaxis\": {\"gridcolor\": \"white\", \"linecolor\": \"white\", \"ticks\": \"\"}, \"bgcolor\": \"#E5ECF6\", \"radialaxis\": {\"gridcolor\": \"white\", \"linecolor\": \"white\", \"ticks\": \"\"}}, \"scene\": {\"xaxis\": {\"backgroundcolor\": \"#E5ECF6\", \"gridcolor\": \"white\", \"gridwidth\": 2, \"linecolor\": \"white\", \"showbackground\": true, \"ticks\": \"\", \"zerolinecolor\": \"white\"}, \"yaxis\": {\"backgroundcolor\": \"#E5ECF6\", \"gridcolor\": \"white\", \"gridwidth\": 2, \"linecolor\": \"white\", \"showbackground\": true, \"ticks\": \"\", \"zerolinecolor\": \"white\"}, \"zaxis\": {\"backgroundcolor\": \"#E5ECF6\", \"gridcolor\": \"white\", \"gridwidth\": 2, \"linecolor\": \"white\", \"showbackground\": true, \"ticks\": \"\", \"zerolinecolor\": \"white\"}}, \"shapedefaults\": {\"line\": {\"color\": \"#2a3f5f\"}}, \"ternary\": {\"aaxis\": {\"gridcolor\": \"white\", \"linecolor\": \"white\", \"ticks\": \"\"}, \"baxis\": {\"gridcolor\": \"white\", \"linecolor\": \"white\", \"ticks\": \"\"}, \"bgcolor\": \"#E5ECF6\", \"caxis\": {\"gridcolor\": \"white\", \"linecolor\": \"white\", \"ticks\": \"\"}}, \"title\": {\"x\": 0.05}, \"xaxis\": {\"automargin\": true, \"gridcolor\": \"white\", \"linecolor\": \"white\", \"ticks\": \"\", \"title\": {\"standoff\": 15}, \"zerolinecolor\": \"white\", \"zerolinewidth\": 2}, \"yaxis\": {\"automargin\": true, \"gridcolor\": \"white\", \"linecolor\": \"white\", \"ticks\": \"\", \"title\": {\"standoff\": 15}, \"zerolinecolor\": \"white\", \"zerolinewidth\": 2}}}, \"title\": {\"text\": \"Gender Age With Amount Spent\", \"x\": 0.5}, \"xaxis\": {\"anchor\": \"y\", \"domain\": [0.0, 1.0], \"tickangle\": 0}, \"xaxis2\": {\"anchor\": \"y2\", \"domain\": [0.0, 1.0], \"tickangle\": 0}, \"xaxis3\": {\"anchor\": \"y3\", \"domain\": [0.0, 1.0], \"tickangle\": 0}, \"xaxis4\": {\"anchor\": \"y4\", \"domain\": [0.0, 1.0], \"tickangle\": 0}, \"yaxis\": {\"anchor\": \"x\", \"domain\": [0.84375, 1.0]}, \"yaxis2\": {\"anchor\": \"x2\", \"domain\": [0.5625, 0.71875]}, \"yaxis3\": {\"anchor\": \"x3\", \"domain\": [0.28125, 0.4375]}, \"yaxis4\": {\"anchor\": \"x4\", \"domain\": [0.0, 0.15625]}},                        {\"responsive\": true}                    ).then(function(){\n",
       "                            \n",
       "var gd = document.getElementById('3d14277f-1273-480a-b80d-0f5f2af3d4b6');\n",
       "var x = new MutationObserver(function (mutations, observer) {{\n",
       "        var display = window.getComputedStyle(gd).display;\n",
       "        if (!display || display === 'none') {{\n",
       "            console.log([gd, 'removed!']);\n",
       "            Plotly.purge(gd);\n",
       "            observer.disconnect();\n",
       "        }}\n",
       "}});\n",
       "\n",
       "// Listen for the removal of the full notebook cells\n",
       "var notebookContainer = gd.closest('#notebook-container');\n",
       "if (notebookContainer) {{\n",
       "    x.observe(notebookContainer, {childList: true});\n",
       "}}\n",
       "\n",
       "// Listen for the clearing of the current output cell\n",
       "var outputEl = gd.closest('.output');\n",
       "if (outputEl) {{\n",
       "    x.observe(outputEl, {childList: true});\n",
       "}}\n",
       "\n",
       "                        })                };                });            </script>        </div>"
      ]
     },
     "metadata": {},
     "output_type": "display_data"
    }
   ],
   "source": [
    "df_G_and_A_AVG=df.groupby(by =['Gender','Age'])['AmountSpent'].mean().to_frame().reset_index().rename(columns={'Gender':'Gender','Age':'Age','AmountSpent':'AVG_AmountSpent'})\n",
    "df_G_and_A_Max=df.groupby(by =['Gender','Age'])['AmountSpent'].max().to_frame().reset_index().rename(columns={'Gender':'Gender1','Age':'Age1','AmountSpent':'Max_AmountSpent'})\n",
    "df_G_and_A_Min=df.groupby(by =['Gender','Age'])['AmountSpent'].min().to_frame().reset_index().rename(columns={'Gender':'Gender2','Age':'Age2','AmountSpent':'Min_AmountSpent'})\n",
    "df_G_and_A_Count=df.groupby(by =['Gender','Age'])['AmountSpent'].count().to_frame().reset_index().rename(columns={'Gender':'Gender3','Age':'Age3','AmountSpent':'Count'})\n",
    "result = pd.concat([df_G_and_A_AVG, df_G_and_A_Max,df_G_and_A_Min,df_G_and_A_Count], axis=1)\n",
    "result.drop(['Gender1','Gender2','Gender3','Age1','Age2','Age3'],inplace=True,axis=1)\n",
    "result[\"AVG_AmountSpent\"]=result[\"AVG_AmountSpent\"].map(lambda x:round(x,2))\n",
    "result[\"Gender_Age\"]=result[\"Gender\"]+\" \"+result[\"Age\"]\n",
    "result.drop(['Gender','Age'],inplace=True,axis=1)\n",
    "\n",
    "fig = make_subplots(rows=4, cols=1,\n",
    "                   subplot_titles=(\" Mean Amount Spent\",\n",
    "                                   \" Min Amount Spent\",\n",
    "                                   \" Max Amount Spent\",\n",
    "                                   \" Count \"))  # Subplot titles\n",
    "\n",
    "fig.add_trace(go.Bar(\n",
    "    x=result['Gender_Age'],y=result['AVG_AmountSpent'],\n",
    "    name=\"Mean\",\n",
    "    marker={'color': result['AVG_AmountSpent'], \n",
    "    'colorscale': 'fall'},  \n",
    "    text=result['AVG_AmountSpent'],\n",
    "    textposition = \"inside\"),\n",
    "    row=1, col=1         \n",
    ")\n",
    "fig.add_trace(go.Bar(\n",
    "    x=result['Gender_Age'],y=result['Min_AmountSpent'],\n",
    "    name=\"Min\",\n",
    "    marker={'color': result['Min_AmountSpent'], \n",
    "    'colorscale': 'fall'},  \n",
    "    text=result['Min_AmountSpent'],\n",
    "    textposition = \"inside\"),\n",
    "    row=2, col=1         \n",
    ")\n",
    "fig.add_trace(go.Bar(\n",
    "    x=result['Gender_Age'],y=result['Max_AmountSpent'],\n",
    "    name=\"Max\",\n",
    "    marker={'color': result['Max_AmountSpent'], \n",
    "    'colorscale': 'fall'},  \n",
    "    text=result['Max_AmountSpent'],\n",
    "    textposition = \"inside\"),\n",
    "    row=3, col=1           \n",
    ")\n",
    "fig.add_trace(go.Bar(\n",
    "    x=result['Gender_Age'],y=result['Count'],\n",
    "    name=\"Count\",\n",
    "    marker={'color': result['Count'], \n",
    "    'colorscale': 'fall'},  \n",
    "    text=result['Count'],\n",
    "    textposition = \"inside\"),\n",
    "    row=4, col=1           \n",
    ")\n",
    "fig.update_layout(title = \"Gender Age With Amount Spent\",title_x=0.5)\n",
    "fig.update_xaxes(\n",
    "        tickangle = 0,\n",
    "        )\n",
    "fig.show()"
   ]
  },
  {
   "cell_type": "code",
   "execution_count": 31,
   "metadata": {
    "execution": {
     "iopub.execute_input": "2021-02-21T23:25:21.430029Z",
     "iopub.status.busy": "2021-02-21T23:25:21.414367Z",
     "iopub.status.idle": "2021-02-21T23:25:21.439968Z",
     "shell.execute_reply": "2021-02-21T23:25:21.440644Z"
    },
    "papermill": {
     "duration": 0.077699,
     "end_time": "2021-02-21T23:25:21.440877",
     "exception": false,
     "start_time": "2021-02-21T23:25:21.363178",
     "status": "completed"
    },
    "tags": []
   },
   "outputs": [
    {
     "data": {
      "text/html": [
       "<div>\n",
       "<style scoped>\n",
       "    .dataframe tbody tr th:only-of-type {\n",
       "        vertical-align: middle;\n",
       "    }\n",
       "\n",
       "    .dataframe tbody tr th {\n",
       "        vertical-align: top;\n",
       "    }\n",
       "\n",
       "    .dataframe thead th {\n",
       "        text-align: right;\n",
       "    }\n",
       "</style>\n",
       "<table border=\"1\" class=\"dataframe\">\n",
       "  <thead>\n",
       "    <tr style=\"text-align: right;\">\n",
       "      <th></th>\n",
       "      <th></th>\n",
       "      <th>min</th>\n",
       "      <th>mean</th>\n",
       "      <th>max</th>\n",
       "    </tr>\n",
       "    <tr>\n",
       "      <th>Age</th>\n",
       "      <th>Gender</th>\n",
       "      <th></th>\n",
       "      <th></th>\n",
       "      <th></th>\n",
       "    </tr>\n",
       "  </thead>\n",
       "  <tbody>\n",
       "    <tr>\n",
       "      <th rowspan=\"2\" valign=\"top\">Middle</th>\n",
       "      <th>Female</th>\n",
       "      <td>25300</td>\n",
       "      <td>65787.864078</td>\n",
       "      <td>135700</td>\n",
       "    </tr>\n",
       "    <tr>\n",
       "      <th>Male</th>\n",
       "      <td>34200</td>\n",
       "      <td>76298.675497</td>\n",
       "      <td>140700</td>\n",
       "    </tr>\n",
       "    <tr>\n",
       "      <th rowspan=\"2\" valign=\"top\">Old</th>\n",
       "      <th>Female</th>\n",
       "      <td>10100</td>\n",
       "      <td>50213.953488</td>\n",
       "      <td>128700</td>\n",
       "    </tr>\n",
       "    <tr>\n",
       "      <th>Male</th>\n",
       "      <td>15400</td>\n",
       "      <td>66807.894737</td>\n",
       "      <td>168800</td>\n",
       "    </tr>\n",
       "    <tr>\n",
       "      <th rowspan=\"2\" valign=\"top\">Young</th>\n",
       "      <th>Female</th>\n",
       "      <td>10200</td>\n",
       "      <td>25485.380117</td>\n",
       "      <td>79400</td>\n",
       "    </tr>\n",
       "    <tr>\n",
       "      <th>Male</th>\n",
       "      <td>10200</td>\n",
       "      <td>31003.448276</td>\n",
       "      <td>80700</td>\n",
       "    </tr>\n",
       "  </tbody>\n",
       "</table>\n",
       "</div>"
      ],
      "text/plain": [
       "                 min          mean     max\n",
       "Age    Gender                             \n",
       "Middle Female  25300  65787.864078  135700\n",
       "       Male    34200  76298.675497  140700\n",
       "Old    Female  10100  50213.953488  128700\n",
       "       Male    15400  66807.894737  168800\n",
       "Young  Female  10200  25485.380117   79400\n",
       "       Male    10200  31003.448276   80700"
      ]
     },
     "execution_count": 31,
     "metadata": {},
     "output_type": "execute_result"
    }
   ],
   "source": [
    "df_age_gender_agg=df.groupby(by=[\"Age\",\"Gender\"])['Salary'].agg([\"min\",\"mean\",\"max\"])\n",
    "df_age_gender_agg"
   ]
  }
 ],
 "metadata": {
  "kernelspec": {
   "display_name": "Python 3",
   "language": "python",
   "name": "python3"
  },
  "language_info": {
   "codemirror_mode": {
    "name": "ipython",
    "version": 3
   },
   "file_extension": ".py",
   "mimetype": "text/x-python",
   "name": "python",
   "nbconvert_exporter": "python",
   "pygments_lexer": "ipython3",
   "version": "3.7.9"
  },
  "papermill": {
   "default_parameters": {},
   "duration": 18.084476,
   "end_time": "2021-02-21T23:25:22.320440",
   "environment_variables": {},
   "exception": null,
   "input_path": "__notebook__.ipynb",
   "output_path": "__notebook__.ipynb",
   "parameters": {},
   "start_time": "2021-02-21T23:25:04.235964",
   "version": "2.2.2"
  }
 },
 "nbformat": 4,
 "nbformat_minor": 4
}
