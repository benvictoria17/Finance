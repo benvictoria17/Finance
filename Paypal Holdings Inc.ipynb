{
  "cells":[
    {
      "cell_type":"code",
      "source":[
        "!pip3 install yfinance\n",
        "import pandas as pd\n",
        "import numpy as np \n",
        "import matplotlib.pyplot as plt \n",
        "import yfinance\n",
        "import seaborn as sns "
      ],
      "execution_count":13,
      "outputs":[
        {
          "name":"stdout",
          "text":[
            "Requirement already satisfied: yfinance in \/opt\/python\/envs\/default\/lib\/python3.8\/site-packages (0.1.67)\r\n",
            "Requirement already satisfied: requests>=2.20 in \/opt\/python\/envs\/default\/lib\/python3.8\/site-packages (from yfinance) (2.26.0)\r\n",
            "Requirement already satisfied: multitasking>=0.0.7 in \/opt\/python\/envs\/default\/lib\/python3.8\/site-packages (from yfinance) (0.0.10)\r\n",
            "Requirement already satisfied: lxml>=4.5.1 in \/opt\/python\/envs\/default\/lib\/python3.8\/site-packages (from yfinance) (4.6.3)\r\n",
            "Requirement already satisfied: pandas>=0.24 in \/opt\/python\/envs\/default\/lib\/python3.8\/site-packages (from yfinance) (1.3.4)\r\n",
            "Requirement already satisfied: numpy>=1.15 in \/opt\/python\/envs\/default\/lib\/python3.8\/site-packages (from yfinance) (1.19.5)\r\n",
            "Requirement already satisfied: pytz>=2017.3 in \/opt\/python\/envs\/default\/lib\/python3.8\/site-packages (from pandas>=0.24->yfinance) (2021.3)\r\n",
            "Requirement already satisfied: python-dateutil>=2.7.3 in \/opt\/python\/envs\/default\/lib\/python3.8\/site-packages (from pandas>=0.24->yfinance) (2.8.2)\r\n",
            "Requirement already satisfied: certifi>=2017.4.17 in \/opt\/python\/envs\/default\/lib\/python3.8\/site-packages (from requests>=2.20->yfinance) (2021.10.8)\r\n",
            "Requirement already satisfied: idna<4,>=2.5 in \/opt\/python\/envs\/default\/lib\/python3.8\/site-packages (from requests>=2.20->yfinance) (3.3)\r\n",
            "Requirement already satisfied: urllib3<1.27,>=1.21.1 in \/opt\/python\/envs\/default\/lib\/python3.8\/site-packages (from requests>=2.20->yfinance) (1.26.7)\r\n",
            "Requirement already satisfied: charset-normalizer~=2.0.0 in \/opt\/python\/envs\/default\/lib\/python3.8\/site-packages (from requests>=2.20->yfinance) (2.0.7)\r\n",
            "Requirement already satisfied: six>=1.5 in \/opt\/python\/envs\/default\/lib\/python3.8\/site-packages (from python-dateutil>=2.7.3->pandas>=0.24->yfinance) (1.15.0)\r\n"
          ],
          "output_type":"stream"
        }
      ],
      "metadata":{
        "datalore":{
          "sheet_delimiter":false
        }
      }
    },
    {
      "cell_type":"code",
      "source":[
        "paypal = yfinance.download(\"PYPL\")\n",
        "paypal"
      ],
      "execution_count":14,
      "outputs":[
        {
          "name":"stdout",
          "text":[
            "\r[*********************100%***********************]  1 of 1 completed\n"
          ],
          "output_type":"stream"
        },
        {
          "data":{
            "text\/html":[
              "<div>\n",
              "<style scoped>\n",
              "    .dataframe tbody tr th:only-of-type {\n",
              "        vertical-align: middle;\n",
              "    }\n",
              "\n",
              "    .dataframe tbody tr th {\n",
              "        vertical-align: top;\n",
              "    }\n",
              "\n",
              "    .dataframe thead th {\n",
              "        text-align: right;\n",
              "    }\n",
              "<\/style>\n",
              "<table border=\"1\" class=\"dataframe\">\n",
              "  <thead>\n",
              "    <tr style=\"text-align: right;\">\n",
              "      <th><\/th>\n",
              "      <th>Open<\/th>\n",
              "      <th>High<\/th>\n",
              "      <th>Low<\/th>\n",
              "      <th>Close<\/th>\n",
              "      <th>Adj Close<\/th>\n",
              "      <th>Volume<\/th>\n",
              "    <\/tr>\n",
              "    <tr>\n",
              "      <th>Date<\/th>\n",
              "      <th><\/th>\n",
              "      <th><\/th>\n",
              "      <th><\/th>\n",
              "      <th><\/th>\n",
              "      <th><\/th>\n",
              "      <th><\/th>\n",
              "    <\/tr>\n",
              "  <\/thead>\n",
              "  <tbody>\n",
              "    <tr>\n",
              "      <th>2015-07-06<\/th>\n",
              "      <td>38.000000<\/td>\n",
              "      <td>39.750000<\/td>\n",
              "      <td>36.000000<\/td>\n",
              "      <td>36.709999<\/td>\n",
              "      <td>36.709999<\/td>\n",
              "      <td>5866600<\/td>\n",
              "    <\/tr>\n",
              "    <tr>\n",
              "      <th>2015-07-07<\/th>\n",
              "      <td>37.720001<\/td>\n",
              "      <td>37.810001<\/td>\n",
              "      <td>36.000000<\/td>\n",
              "      <td>36.619999<\/td>\n",
              "      <td>36.619999<\/td>\n",
              "      <td>7359000<\/td>\n",
              "    <\/tr>\n",
              "    <tr>\n",
              "      <th>2015-07-08<\/th>\n",
              "      <td>36.340000<\/td>\n",
              "      <td>36.360001<\/td>\n",
              "      <td>34.529999<\/td>\n",
              "      <td>34.700001<\/td>\n",
              "      <td>34.700001<\/td>\n",
              "      <td>5387700<\/td>\n",
              "    <\/tr>\n",
              "    <tr>\n",
              "      <th>2015-07-09<\/th>\n",
              "      <td>35.099998<\/td>\n",
              "      <td>35.520000<\/td>\n",
              "      <td>33.990002<\/td>\n",
              "      <td>34.500000<\/td>\n",
              "      <td>34.500000<\/td>\n",
              "      <td>3760100<\/td>\n",
              "    <\/tr>\n",
              "    <tr>\n",
              "      <th>2015-07-10<\/th>\n",
              "      <td>34.660000<\/td>\n",
              "      <td>35.189999<\/td>\n",
              "      <td>33.980000<\/td>\n",
              "      <td>34.689999<\/td>\n",
              "      <td>34.689999<\/td>\n",
              "      <td>4472800<\/td>\n",
              "    <\/tr>\n",
              "    <tr>\n",
              "      <th>...<\/th>\n",
              "      <td>...<\/td>\n",
              "      <td>...<\/td>\n",
              "      <td>...<\/td>\n",
              "      <td>...<\/td>\n",
              "      <td>...<\/td>\n",
              "      <td>...<\/td>\n",
              "    <\/tr>\n",
              "    <tr>\n",
              "      <th>2021-12-13<\/th>\n",
              "      <td>187.500000<\/td>\n",
              "      <td>190.199997<\/td>\n",
              "      <td>185.300003<\/td>\n",
              "      <td>186.380005<\/td>\n",
              "      <td>186.380005<\/td>\n",
              "      <td>11812200<\/td>\n",
              "    <\/tr>\n",
              "    <tr>\n",
              "      <th>2021-12-14<\/th>\n",
              "      <td>183.740005<\/td>\n",
              "      <td>189.143005<\/td>\n",
              "      <td>182.779999<\/td>\n",
              "      <td>186.800003<\/td>\n",
              "      <td>186.800003<\/td>\n",
              "      <td>11414200<\/td>\n",
              "    <\/tr>\n",
              "    <tr>\n",
              "      <th>2021-12-15<\/th>\n",
              "      <td>185.119995<\/td>\n",
              "      <td>191.100006<\/td>\n",
              "      <td>183.669998<\/td>\n",
              "      <td>190.660004<\/td>\n",
              "      <td>190.660004<\/td>\n",
              "      <td>11278500<\/td>\n",
              "    <\/tr>\n",
              "    <tr>\n",
              "      <th>2021-12-16<\/th>\n",
              "      <td>194.166000<\/td>\n",
              "      <td>195.240005<\/td>\n",
              "      <td>188.251007<\/td>\n",
              "      <td>188.750000<\/td>\n",
              "      <td>188.750000<\/td>\n",
              "      <td>12310500<\/td>\n",
              "    <\/tr>\n",
              "    <tr>\n",
              "      <th>2021-12-17<\/th>\n",
              "      <td>187.005005<\/td>\n",
              "      <td>187.839996<\/td>\n",
              "      <td>181.990005<\/td>\n",
              "      <td>185.695007<\/td>\n",
              "      <td>185.695007<\/td>\n",
              "      <td>8265984<\/td>\n",
              "    <\/tr>\n",
              "  <\/tbody>\n",
              "<\/table>\n",
              "<p>1628 rows × 6 columns<\/p>\n",
              "<\/div>"
            ]
          },
          "metadata":{
            
          },
          "output_type":"display_data"
        }
      ],
      "metadata":{
        "datalore":{
          "sheet_delimiter":false
        }
      }
    },
    {
      "cell_type":"code",
      "source":[
        "paypal.head()"
      ],
      "execution_count":15,
      "outputs":[
        {
          "data":{
            "text\/html":[
              "<div>\n",
              "<style scoped>\n",
              "    .dataframe tbody tr th:only-of-type {\n",
              "        vertical-align: middle;\n",
              "    }\n",
              "\n",
              "    .dataframe tbody tr th {\n",
              "        vertical-align: top;\n",
              "    }\n",
              "\n",
              "    .dataframe thead th {\n",
              "        text-align: right;\n",
              "    }\n",
              "<\/style>\n",
              "<table border=\"1\" class=\"dataframe\">\n",
              "  <thead>\n",
              "    <tr style=\"text-align: right;\">\n",
              "      <th><\/th>\n",
              "      <th>Open<\/th>\n",
              "      <th>High<\/th>\n",
              "      <th>Low<\/th>\n",
              "      <th>Close<\/th>\n",
              "      <th>Adj Close<\/th>\n",
              "      <th>Volume<\/th>\n",
              "    <\/tr>\n",
              "    <tr>\n",
              "      <th>Date<\/th>\n",
              "      <th><\/th>\n",
              "      <th><\/th>\n",
              "      <th><\/th>\n",
              "      <th><\/th>\n",
              "      <th><\/th>\n",
              "      <th><\/th>\n",
              "    <\/tr>\n",
              "  <\/thead>\n",
              "  <tbody>\n",
              "    <tr>\n",
              "      <th>2015-07-06<\/th>\n",
              "      <td>38.000000<\/td>\n",
              "      <td>39.750000<\/td>\n",
              "      <td>36.000000<\/td>\n",
              "      <td>36.709999<\/td>\n",
              "      <td>36.709999<\/td>\n",
              "      <td>5866600<\/td>\n",
              "    <\/tr>\n",
              "    <tr>\n",
              "      <th>2015-07-07<\/th>\n",
              "      <td>37.720001<\/td>\n",
              "      <td>37.810001<\/td>\n",
              "      <td>36.000000<\/td>\n",
              "      <td>36.619999<\/td>\n",
              "      <td>36.619999<\/td>\n",
              "      <td>7359000<\/td>\n",
              "    <\/tr>\n",
              "    <tr>\n",
              "      <th>2015-07-08<\/th>\n",
              "      <td>36.340000<\/td>\n",
              "      <td>36.360001<\/td>\n",
              "      <td>34.529999<\/td>\n",
              "      <td>34.700001<\/td>\n",
              "      <td>34.700001<\/td>\n",
              "      <td>5387700<\/td>\n",
              "    <\/tr>\n",
              "    <tr>\n",
              "      <th>2015-07-09<\/th>\n",
              "      <td>35.099998<\/td>\n",
              "      <td>35.520000<\/td>\n",
              "      <td>33.990002<\/td>\n",
              "      <td>34.500000<\/td>\n",
              "      <td>34.500000<\/td>\n",
              "      <td>3760100<\/td>\n",
              "    <\/tr>\n",
              "    <tr>\n",
              "      <th>2015-07-10<\/th>\n",
              "      <td>34.660000<\/td>\n",
              "      <td>35.189999<\/td>\n",
              "      <td>33.980000<\/td>\n",
              "      <td>34.689999<\/td>\n",
              "      <td>34.689999<\/td>\n",
              "      <td>4472800<\/td>\n",
              "    <\/tr>\n",
              "  <\/tbody>\n",
              "<\/table>\n",
              "<\/div>"
            ]
          },
          "metadata":{
            
          },
          "output_type":"display_data"
        }
      ],
      "metadata":{
        "datalore":{
          "sheet_delimiter":false
        }
      }
    },
    {
      "cell_type":"code",
      "source":[
        "paypal.tail()"
      ],
      "execution_count":16,
      "outputs":[
        {
          "data":{
            "text\/html":[
              "<div>\n",
              "<style scoped>\n",
              "    .dataframe tbody tr th:only-of-type {\n",
              "        vertical-align: middle;\n",
              "    }\n",
              "\n",
              "    .dataframe tbody tr th {\n",
              "        vertical-align: top;\n",
              "    }\n",
              "\n",
              "    .dataframe thead th {\n",
              "        text-align: right;\n",
              "    }\n",
              "<\/style>\n",
              "<table border=\"1\" class=\"dataframe\">\n",
              "  <thead>\n",
              "    <tr style=\"text-align: right;\">\n",
              "      <th><\/th>\n",
              "      <th>Open<\/th>\n",
              "      <th>High<\/th>\n",
              "      <th>Low<\/th>\n",
              "      <th>Close<\/th>\n",
              "      <th>Adj Close<\/th>\n",
              "      <th>Volume<\/th>\n",
              "    <\/tr>\n",
              "    <tr>\n",
              "      <th>Date<\/th>\n",
              "      <th><\/th>\n",
              "      <th><\/th>\n",
              "      <th><\/th>\n",
              "      <th><\/th>\n",
              "      <th><\/th>\n",
              "      <th><\/th>\n",
              "    <\/tr>\n",
              "  <\/thead>\n",
              "  <tbody>\n",
              "    <tr>\n",
              "      <th>2021-12-13<\/th>\n",
              "      <td>187.500000<\/td>\n",
              "      <td>190.199997<\/td>\n",
              "      <td>185.300003<\/td>\n",
              "      <td>186.380005<\/td>\n",
              "      <td>186.380005<\/td>\n",
              "      <td>11812200<\/td>\n",
              "    <\/tr>\n",
              "    <tr>\n",
              "      <th>2021-12-14<\/th>\n",
              "      <td>183.740005<\/td>\n",
              "      <td>189.143005<\/td>\n",
              "      <td>182.779999<\/td>\n",
              "      <td>186.800003<\/td>\n",
              "      <td>186.800003<\/td>\n",
              "      <td>11414200<\/td>\n",
              "    <\/tr>\n",
              "    <tr>\n",
              "      <th>2021-12-15<\/th>\n",
              "      <td>185.119995<\/td>\n",
              "      <td>191.100006<\/td>\n",
              "      <td>183.669998<\/td>\n",
              "      <td>190.660004<\/td>\n",
              "      <td>190.660004<\/td>\n",
              "      <td>11278500<\/td>\n",
              "    <\/tr>\n",
              "    <tr>\n",
              "      <th>2021-12-16<\/th>\n",
              "      <td>194.166000<\/td>\n",
              "      <td>195.240005<\/td>\n",
              "      <td>188.251007<\/td>\n",
              "      <td>188.750000<\/td>\n",
              "      <td>188.750000<\/td>\n",
              "      <td>12310500<\/td>\n",
              "    <\/tr>\n",
              "    <tr>\n",
              "      <th>2021-12-17<\/th>\n",
              "      <td>187.005005<\/td>\n",
              "      <td>187.839996<\/td>\n",
              "      <td>181.990005<\/td>\n",
              "      <td>185.695007<\/td>\n",
              "      <td>185.695007<\/td>\n",
              "      <td>8265984<\/td>\n",
              "    <\/tr>\n",
              "  <\/tbody>\n",
              "<\/table>\n",
              "<\/div>"
            ]
          },
          "metadata":{
            
          },
          "output_type":"display_data"
        }
      ],
      "metadata":{
        "datalore":{
          "sheet_delimiter":false
        }
      }
    },
    {
      "cell_type":"code",
      "source":[
        "paypal.info()"
      ],
      "execution_count":17,
      "outputs":[
        {
          "name":"stdout",
          "text":[
            "<class 'pandas.core.frame.DataFrame'>\n",
            "DatetimeIndex: 1628 entries, 2015-07-06 to 2021-12-17\n",
            "Data columns (total 6 columns):\n",
            " #   Column     Non-Null Count  Dtype  \n",
            "---  ------     --------------  -----  \n",
            " 0   Open       1628 non-null   float64\n",
            " 1   High       1628 non-null   float64\n",
            " 2   Low        1628 non-null   float64\n",
            " 3   Close      1628 non-null   float64\n",
            " 4   Adj Close  1628 non-null   float64\n",
            " 5   Volume     1628 non-null   int64  \n",
            "dtypes: float64(5), int64(1)\n",
            "memory usage: 89.0 KB\n"
          ],
          "output_type":"stream"
        }
      ],
      "metadata":{
        "datalore":{
          "sheet_delimiter":false
        }
      }
    },
    {
      "cell_type":"code",
      "source":[
        "paypal.describe()"
      ],
      "execution_count":18,
      "outputs":[
        {
          "data":{
            "text\/html":[
              "<div>\n",
              "<style scoped>\n",
              "    .dataframe tbody tr th:only-of-type {\n",
              "        vertical-align: middle;\n",
              "    }\n",
              "\n",
              "    .dataframe tbody tr th {\n",
              "        vertical-align: top;\n",
              "    }\n",
              "\n",
              "    .dataframe thead th {\n",
              "        text-align: right;\n",
              "    }\n",
              "<\/style>\n",
              "<table border=\"1\" class=\"dataframe\">\n",
              "  <thead>\n",
              "    <tr style=\"text-align: right;\">\n",
              "      <th><\/th>\n",
              "      <th>Open<\/th>\n",
              "      <th>High<\/th>\n",
              "      <th>Low<\/th>\n",
              "      <th>Close<\/th>\n",
              "      <th>Adj Close<\/th>\n",
              "      <th>Volume<\/th>\n",
              "    <\/tr>\n",
              "  <\/thead>\n",
              "  <tbody>\n",
              "    <tr>\n",
              "      <th>count<\/th>\n",
              "      <td>1628.000000<\/td>\n",
              "      <td>1628.000000<\/td>\n",
              "      <td>1628.000000<\/td>\n",
              "      <td>1628.000000<\/td>\n",
              "      <td>1628.000000<\/td>\n",
              "      <td>1.628000e+03<\/td>\n",
              "    <\/tr>\n",
              "    <tr>\n",
              "      <th>mean<\/th>\n",
              "      <td>109.749413<\/td>\n",
              "      <td>111.113328<\/td>\n",
              "      <td>108.138635<\/td>\n",
              "      <td>109.684260<\/td>\n",
              "      <td>109.684260<\/td>\n",
              "      <td>8.565357e+06<\/td>\n",
              "    <\/tr>\n",
              "    <tr>\n",
              "      <th>std<\/th>\n",
              "      <td>76.687163<\/td>\n",
              "      <td>77.626676<\/td>\n",
              "      <td>75.383706<\/td>\n",
              "      <td>76.544353<\/td>\n",
              "      <td>76.544353<\/td>\n",
              "      <td>4.946538e+06<\/td>\n",
              "    <\/tr>\n",
              "    <tr>\n",
              "      <th>min<\/th>\n",
              "      <td>30.820000<\/td>\n",
              "      <td>31.280001<\/td>\n",
              "      <td>30.000000<\/td>\n",
              "      <td>30.629999<\/td>\n",
              "      <td>30.629999<\/td>\n",
              "      <td>1.680000e+06<\/td>\n",
              "    <\/tr>\n",
              "    <tr>\n",
              "      <th>25%<\/th>\n",
              "      <td>42.107500<\/td>\n",
              "      <td>42.527499<\/td>\n",
              "      <td>41.785000<\/td>\n",
              "      <td>42.074999<\/td>\n",
              "      <td>42.074999<\/td>\n",
              "      <td>5.678775e+06<\/td>\n",
              "    <\/tr>\n",
              "    <tr>\n",
              "      <th>50%<\/th>\n",
              "      <td>85.779999<\/td>\n",
              "      <td>86.720001<\/td>\n",
              "      <td>84.584999<\/td>\n",
              "      <td>85.759998<\/td>\n",
              "      <td>85.759998<\/td>\n",
              "      <td>7.356950e+06<\/td>\n",
              "    <\/tr>\n",
              "    <tr>\n",
              "      <th>75%<\/th>\n",
              "      <td>140.667500<\/td>\n",
              "      <td>145.142506<\/td>\n",
              "      <td>139.712502<\/td>\n",
              "      <td>143.787498<\/td>\n",
              "      <td>143.787498<\/td>\n",
              "      <td>9.745575e+06<\/td>\n",
              "    <\/tr>\n",
              "    <tr>\n",
              "      <th>max<\/th>\n",
              "      <td>309.660004<\/td>\n",
              "      <td>310.160004<\/td>\n",
              "      <td>305.230011<\/td>\n",
              "      <td>308.529999<\/td>\n",
              "      <td>308.529999<\/td>\n",
              "      <td>6.399510e+07<\/td>\n",
              "    <\/tr>\n",
              "  <\/tbody>\n",
              "<\/table>\n",
              "<\/div>"
            ]
          },
          "metadata":{
            
          },
          "output_type":"display_data"
        }
      ],
      "metadata":{
        "datalore":{
          "sheet_delimiter":false
        }
      }
    },
    {
      "cell_type":"code",
      "source":[
        "tips = sns.load_dataset(\"tips\")\n",
        "g = sns.FacetGrid(tips, col=\"time\")\n",
        "g = sns.FacetGrid(tips, col=\"time\")\n",
        "g.map(sns.histplot, \"tip\")"
      ],
      "execution_count":20,
      "outputs":[
        {
          "data":{
            "text\/plain":[
              "<seaborn.axisgrid.FacetGrid at 0x7fa517cda640>"
            ]
          },
          "metadata":{
            
          },
          "output_type":"display_data"
        }
      ],
      "metadata":{
        "datalore":{
          "sheet_delimiter":false
        }
      }
    },
    {
      "cell_type":"code",
      "source":[
        "g = sns.FacetGrid(tips, col=\"sex\", hue=\"smoker\")\n",
        "g.map(sns.scatterplot, \"total_bill\", \"tip\", alpha=.7)\n",
        "g.add_legend()"
      ],
      "execution_count":21,
      "outputs":[
        {
          "data":{
            "text\/plain":[
              "<seaborn.axisgrid.FacetGrid at 0x7fa50f1ead00>"
            ]
          },
          "metadata":{
            
          },
          "output_type":"display_data"
        }
      ],
      "metadata":{
        "datalore":{
          "sheet_delimiter":false
        }
      }
    },
    {
      "cell_type":"code",
      "source":[
        "g = sns.FacetGrid(tips, row=\"smoker\", col=\"time\", margin_titles=True)\n",
        "g.map(sns.regplot, \"size\", \"total_bill\", color=\".3\", fit_reg=False, x_jitter=.1)\n",
        "g = sns.FacetGrid(tips, col=\"day\", height=4, aspect=.5)\n",
        "g.map(sns.barplot, \"sex\", \"total_bill\", order=[\"Male\", \"Female\"])"
      ],
      "execution_count":22,
      "outputs":[
        {
          "data":{
            "text\/plain":[
              "<seaborn.axisgrid.FacetGrid at 0x7fa50f02efd0>"
            ]
          },
          "metadata":{
            
          },
          "output_type":"display_data"
        }
      ],
      "metadata":{
        "datalore":{
          "sheet_delimiter":false
        }
      }
    },
    {
      "cell_type":"code",
      "source":[
        "ordered_days = tips.day.value_counts().index\n",
        "g = sns.FacetGrid(tips, row=\"day\", row_order=ordered_days,\n",
        "                  height=1.7, aspect=4,)\n",
        "g.map(sns.kdeplot, \"total_bill\")"
      ],
      "execution_count":23,
      "outputs":[
        {
          "data":{
            "text\/plain":[
              "<seaborn.axisgrid.FacetGrid at 0x7fa50f049a60>"
            ]
          },
          "metadata":{
            
          },
          "output_type":"display_data"
        }
      ],
      "metadata":{
        "datalore":{
          "sheet_delimiter":false
        }
      }
    },
    {
      "cell_type":"code",
      "source":[
        "pal = dict(Lunch=\"seagreen\", Dinner=\".7\")\n",
        "g = sns.FacetGrid(tips, hue=\"time\", palette=pal, height=5)\n",
        "g.map(sns.scatterplot, \"total_bill\", \"tip\", s=100, alpha=.5)\n",
        "g.add_legend()"
      ],
      "execution_count":24,
      "outputs":[
        {
          "data":{
            "text\/plain":[
              "<seaborn.axisgrid.FacetGrid at 0x7fa50eedf730>"
            ]
          },
          "metadata":{
            
          },
          "output_type":"display_data"
        }
      ],
      "metadata":{
        "datalore":{
          "sheet_delimiter":false
        }
      }
    },
    {
      "cell_type":"code",
      "source":[
        "pal = dict(Lunch=\"seagreen\", Dinner=\".7\")\n",
        "g = sns.FacetGrid(tips, hue=\"time\", palette=pal, height=5)\n",
        "g.map(sns.scatterplot, \"total_bill\", \"tip\", s=100, alpha=.5)\n",
        "g.add_legend()\n",
        "attend = sns.load_dataset(\"attention\").query(\"subject <= 12\")\n",
        "g = sns.FacetGrid(attend, col=\"subject\", col_wrap=4, height=2, ylim=(0, 10))\n",
        "g.map(sns.pointplot, \"solutions\", \"score\", order=[1, 2, 3], color=\".3\", ci=None)\n",
        "with sns.axes_style(\"white\"):\n",
        "    g = sns.FacetGrid(tips, row=\"sex\", col=\"smoker\", margin_titles=True, height=2.5)\n",
        "g.map(sns.scatterplot, \"total_bill\", \"tip\", color=\"#334488\")\n",
        "g.set_axis_labels(\"Total bill (US Dollars)\", \"Tip\")\n",
        "g.set(xticks=[10, 30, 50], yticks=[2, 6, 10])\n",
        "g.figure.subplots_adjust(wspace=.02, hspace=.02)"
      ],
      "execution_count":25,
      "outputs":[
        
      ],
      "metadata":{
        "datalore":{
          "sheet_delimiter":false
        }
      }
    },
    {
      "cell_type":"code",
      "source":[
        "g = sns.FacetGrid(tips, col=\"day\", height=4, aspect=.5)\n",
        "g.map(sns.barplot, \"sex\", \"total_bill\", order=[\"Male\", \"Female\"])\n",
        "with sns.axes_style(\"white\"):\n",
        "    g = sns.FacetGrid(tips, row=\"sex\", col=\"smoker\", margin_titles=True, height=2.5)\n",
        "g.map(sns.scatterplot, \"total_bill\", \"tip\", color=\"#334488\")\n",
        "g.set_axis_labels(\"Total bill (US Dollars)\", \"Tip\")\n",
        "g.set(xticks=[10, 30, 50], yticks=[2, 6, 10])\n",
        "g.figure.subplots_adjust(wspace=.02, hspace=.02)\n",
        "g = sns.FacetGrid(tips, col=\"smoker\", margin_titles=True, height=4)\n",
        "g.map(plt.scatter, \"total_bill\", \"tip\", color=\"#338844\", edgecolor=\"white\", s=50, lw=1)\n",
        "for ax in g.axes_dict.values():\n",
        "    ax.axline((0, 0), slope=.2, c=\".2\", ls=\"--\", zorder=0)\n",
        "g.set(xlim=(0, 60), ylim=(0, 14))"
      ],
      "execution_count":26,
      "outputs":[
        {
          "data":{
            "text\/plain":[
              "<seaborn.axisgrid.FacetGrid at 0x7fa50cb95a30>"
            ]
          },
          "metadata":{
            
          },
          "output_type":"display_data"
        }
      ],
      "metadata":{
        "datalore":{
          "sheet_delimiter":false
        }
      }
    },
    {
      "cell_type":"code",
      "source":[
        "def hexbin(x, y, color, **kwargs):\n",
        "    cmap = sns.light_palette(color, as_cmap=True)\n",
        "    plt.hexbin(x, y, gridsize=15, cmap=cmap, **kwargs)\n",
        "\n",
        "with sns.axes_style(\"dark\"):\n",
        "    g = sns.FacetGrid(tips, hue=\"time\", col=\"time\", height=4)\n",
        "g.map(hexbin, \"total_bill\", \"tip\", extent=[0, 50, 0, 10]);"
      ],
      "execution_count":29,
      "outputs":[
        
      ],
      "metadata":{
        "datalore":{
          "sheet_delimiter":false
        }
      }
    },
    {
      "cell_type":"code",
      "source":[
        "iris = sns.load_dataset(\"iris\")\n",
        "g = sns.PairGrid(iris)\n",
        "g.map(sns.scatterplot)\n",
        "g = sns.PairGrid(iris)\n",
        "g.map_diag(sns.histplot)\n",
        "g.map_offdiag(sns.scatterplot)\n",
        "g = sns.PairGrid(iris)\n",
        "g.map_diag(sns.histplot)\n",
        "g.map_offdiag(sns.scatterplot)"
      ],
      "execution_count":30,
      "outputs":[
        {
          "data":{
            "text\/plain":[
              "<seaborn.axisgrid.PairGrid at 0x7fa50c9992e0>"
            ]
          },
          "metadata":{
            
          },
          "output_type":"display_data"
        }
      ],
      "metadata":{
        "datalore":{
          "sheet_delimiter":false
        }
      }
    },
    {
      "cell_type":"code",
      "source":[
        "g = sns.PairGrid(iris)\n",
        "g.map_diag(sns.histplot)\n",
        "g.map_offdiag(sns.scatterplot)"
      ],
      "execution_count":31,
      "outputs":[
        {
          "data":{
            "text\/plain":[
              "<seaborn.axisgrid.PairGrid at 0x7fa50bed1d90>"
            ]
          },
          "metadata":{
            
          },
          "output_type":"display_data"
        }
      ],
      "metadata":{
        "datalore":{
          "sheet_delimiter":false
        }
      }
    },
    {
      "cell_type":"code",
      "source":[
        "g = sns.PairGrid(iris, hue=\"species\")\n",
        "g.map_diag(sns.histplot)\n",
        "g.map_offdiag(sns.scatterplot)\n",
        "g.add_legend()\n",
        "g = sns.PairGrid(iris, vars=[\"sepal_length\", \"sepal_width\"], hue=\"species\")\n",
        "g.map(sns.scatterplot)\n",
        "g = sns.PairGrid(iris)\n",
        "g.map_upper(sns.scatterplot)\n",
        "g.map_lower(sns.kdeplot)\n",
        "g.map_diag(sns.kdeplot, lw=3, legend=False)"
      ],
      "execution_count":34,
      "outputs":[
        {
          "data":{
            "text\/plain":[
              "<seaborn.axisgrid.PairGrid at 0x7fa50b6cd760>"
            ]
          },
          "metadata":{
            
          },
          "output_type":"display_data"
        }
      ],
      "metadata":{
        "datalore":{
          "sheet_delimiter":false
        }
      }
    },
    {
      "cell_type":"code",
      "source":[
        "g = sns.PairGrid(tips, y_vars=[\"tip\"], x_vars=[\"total_bill\", \"size\"], height=4)\n",
        "g.map(sns.regplot, color=\".3\")\n",
        "g.set(ylim=(-1, 11), yticks=[0, 5, 10])\n",
        "g = sns.PairGrid(tips, hue=\"size\", palette=\"GnBu_d\")\n",
        "g.map(plt.scatter, s=50, edgecolor=\"white\")\n",
        "g.add_legend()\n",
        "sns.pairplot(iris, hue=\"species\", height=2.5)\n",
        "g = sns.pairplot(iris, hue=\"species\", palette=\"Set2\", diag_kind=\"kde\", height=2.5)"
      ],
      "execution_count":35,
      "outputs":[
        
      ],
      "metadata":{
        "datalore":{
          "sheet_delimiter":false
        }
      }
    }
  ],
  "metadata":{
    
  },
  "nbformat":4,
  "nbformat_minor":0
}