{
  "nbformat": 4,
  "nbformat_minor": 0,
  "metadata": {
    "colab": {
      "name": "sale dataset.ipynb",
      "provenance": [],
      "authorship_tag": "ABX9TyMKo8V2vfTF55lcjRXyl2L5",
      "include_colab_link": true
    },
    "kernelspec": {
      "name": "python3",
      "display_name": "Python 3"
    }
  },
  "cells": [
    {
      "cell_type": "markdown",
      "metadata": {
        "id": "view-in-github",
        "colab_type": "text"
      },
      "source": [
        "<a href=\"https://colab.research.google.com/github/benvictoria21/pandas/blob/master/sale_dataset.ipynb\" target=\"_parent\"><img src=\"https://colab.research.google.com/assets/colab-badge.svg\" alt=\"Open In Colab\"/></a>"
      ]
    },
    {
      "cell_type": "code",
      "metadata": {
        "id": "Fjg5FQS_u7Lt"
      },
      "source": [
        "import numpy as np \n",
        "import pandas as pd \n",
        "import matplotlib.pyplot as plt"
      ],
      "execution_count": 1,
      "outputs": []
    },
    {
      "cell_type": "code",
      "metadata": {
        "colab": {
          "base_uri": "https://localhost:8080/",
          "height": 407
        },
        "id": "Ni0jUin8vOhE",
        "outputId": "a02f3875-979f-4de4-ad1d-6561a3f585ce"
      },
      "source": [
        "sale = pd.read_csv(\"https://raw.githubusercontent.com/benvictoria21/pandas/master/dataset/Sales.csv\")\n",
        "sale "
      ],
      "execution_count": 4,
      "outputs": [
        {
          "output_type": "execute_result",
          "data": {
            "text/html": [
              "<div>\n",
              "<style scoped>\n",
              "    .dataframe tbody tr th:only-of-type {\n",
              "        vertical-align: middle;\n",
              "    }\n",
              "\n",
              "    .dataframe tbody tr th {\n",
              "        vertical-align: top;\n",
              "    }\n",
              "\n",
              "    .dataframe thead th {\n",
              "        text-align: right;\n",
              "    }\n",
              "</style>\n",
              "<table border=\"1\" class=\"dataframe\">\n",
              "  <thead>\n",
              "    <tr style=\"text-align: right;\">\n",
              "      <th></th>\n",
              "      <th>Date</th>\n",
              "      <th>Daily Amount</th>\n",
              "      <th>Total Amount</th>\n",
              "    </tr>\n",
              "  </thead>\n",
              "  <tbody>\n",
              "    <tr>\n",
              "      <th>0</th>\n",
              "      <td>May 15</td>\n",
              "      <td>$1,200.00</td>\n",
              "      <td>$1,200.00</td>\n",
              "    </tr>\n",
              "    <tr>\n",
              "      <th>1</th>\n",
              "      <td>May 16</td>\n",
              "      <td>$60.00</td>\n",
              "      <td>$1,260.00</td>\n",
              "    </tr>\n",
              "    <tr>\n",
              "      <th>2</th>\n",
              "      <td>May 17</td>\n",
              "      <td>$35.00</td>\n",
              "      <td>$1,295.00</td>\n",
              "    </tr>\n",
              "    <tr>\n",
              "      <th>3</th>\n",
              "      <td>May 18</td>\n",
              "      <td>$0.00</td>\n",
              "      <td>$1,295.00</td>\n",
              "    </tr>\n",
              "    <tr>\n",
              "      <th>4</th>\n",
              "      <td>May 19</td>\n",
              "      <td>$65.00</td>\n",
              "      <td>$1,360.00</td>\n",
              "    </tr>\n",
              "    <tr>\n",
              "      <th>...</th>\n",
              "      <td>...</td>\n",
              "      <td>...</td>\n",
              "      <td>...</td>\n",
              "    </tr>\n",
              "    <tr>\n",
              "      <th>140</th>\n",
              "      <td>October 2</td>\n",
              "      <td>NaN</td>\n",
              "      <td>NaN</td>\n",
              "    </tr>\n",
              "    <tr>\n",
              "      <th>141</th>\n",
              "      <td>October 3</td>\n",
              "      <td>NaN</td>\n",
              "      <td>NaN</td>\n",
              "    </tr>\n",
              "    <tr>\n",
              "      <th>142</th>\n",
              "      <td>October 4</td>\n",
              "      <td>NaN</td>\n",
              "      <td>NaN</td>\n",
              "    </tr>\n",
              "    <tr>\n",
              "      <th>143</th>\n",
              "      <td>October 5</td>\n",
              "      <td>NaN</td>\n",
              "      <td>NaN</td>\n",
              "    </tr>\n",
              "    <tr>\n",
              "      <th>144</th>\n",
              "      <td>October 6</td>\n",
              "      <td>NaN</td>\n",
              "      <td>NaN</td>\n",
              "    </tr>\n",
              "  </tbody>\n",
              "</table>\n",
              "<p>145 rows × 3 columns</p>\n",
              "</div>"
            ],
            "text/plain": [
              "          Date Daily Amount Total Amount\n",
              "0       May 15    $1,200.00    $1,200.00\n",
              "1       May 16       $60.00    $1,260.00\n",
              "2       May 17       $35.00    $1,295.00\n",
              "3       May 18        $0.00    $1,295.00\n",
              "4       May 19       $65.00    $1,360.00\n",
              "..         ...          ...          ...\n",
              "140  October 2          NaN          NaN\n",
              "141  October 3          NaN          NaN\n",
              "142  October 4          NaN          NaN\n",
              "143  October 5          NaN          NaN\n",
              "144  October 6          NaN          NaN\n",
              "\n",
              "[145 rows x 3 columns]"
            ]
          },
          "metadata": {
            "tags": []
          },
          "execution_count": 4
        }
      ]
    },
    {
      "cell_type": "code",
      "metadata": {
        "colab": {
          "base_uri": "https://localhost:8080/",
          "height": 198
        },
        "id": "ouDEXRjtx7xr",
        "outputId": "b3671aaa-2824-4c9f-b703-86574d2731bf"
      },
      "source": [
        "sale.head()"
      ],
      "execution_count": 37,
      "outputs": [
        {
          "output_type": "execute_result",
          "data": {
            "text/html": [
              "<div>\n",
              "<style scoped>\n",
              "    .dataframe tbody tr th:only-of-type {\n",
              "        vertical-align: middle;\n",
              "    }\n",
              "\n",
              "    .dataframe tbody tr th {\n",
              "        vertical-align: top;\n",
              "    }\n",
              "\n",
              "    .dataframe thead th {\n",
              "        text-align: right;\n",
              "    }\n",
              "</style>\n",
              "<table border=\"1\" class=\"dataframe\">\n",
              "  <thead>\n",
              "    <tr style=\"text-align: right;\">\n",
              "      <th></th>\n",
              "      <th>Date</th>\n",
              "      <th>Daily Amount</th>\n",
              "      <th>Total Amount</th>\n",
              "    </tr>\n",
              "  </thead>\n",
              "  <tbody>\n",
              "    <tr>\n",
              "      <th>122</th>\n",
              "      <td>September 14</td>\n",
              "      <td>NaN</td>\n",
              "      <td>$4,756.00</td>\n",
              "    </tr>\n",
              "    <tr>\n",
              "      <th>123</th>\n",
              "      <td>September 15</td>\n",
              "      <td>NaN</td>\n",
              "      <td>$4,756.00</td>\n",
              "    </tr>\n",
              "    <tr>\n",
              "      <th>125</th>\n",
              "      <td>September 17</td>\n",
              "      <td>NaN</td>\n",
              "      <td>$4,791.00</td>\n",
              "    </tr>\n",
              "    <tr>\n",
              "      <th>126</th>\n",
              "      <td>September 18</td>\n",
              "      <td>NaN</td>\n",
              "      <td>$4,791.00</td>\n",
              "    </tr>\n",
              "    <tr>\n",
              "      <th>127</th>\n",
              "      <td>September 19</td>\n",
              "      <td>NaN</td>\n",
              "      <td>$4,791.00</td>\n",
              "    </tr>\n",
              "  </tbody>\n",
              "</table>\n",
              "</div>"
            ],
            "text/plain": [
              "             Date Daily Amount Total Amount\n",
              "122  September 14          NaN    $4,756.00\n",
              "123  September 15          NaN    $4,756.00\n",
              "125  September 17          NaN    $4,791.00\n",
              "126  September 18          NaN    $4,791.00\n",
              "127  September 19          NaN    $4,791.00"
            ]
          },
          "metadata": {
            "tags": []
          },
          "execution_count": 37
        }
      ]
    },
    {
      "cell_type": "code",
      "metadata": {
        "colab": {
          "base_uri": "https://localhost:8080/",
          "height": 198
        },
        "id": "yspuM62tx92U",
        "outputId": "3de646ba-0c1c-470f-de05-97aa97f4b9b2"
      },
      "source": [
        "sale.tail()"
      ],
      "execution_count": 38,
      "outputs": [
        {
          "output_type": "execute_result",
          "data": {
            "text/html": [
              "<div>\n",
              "<style scoped>\n",
              "    .dataframe tbody tr th:only-of-type {\n",
              "        vertical-align: middle;\n",
              "    }\n",
              "\n",
              "    .dataframe tbody tr th {\n",
              "        vertical-align: top;\n",
              "    }\n",
              "\n",
              "    .dataframe thead th {\n",
              "        text-align: right;\n",
              "    }\n",
              "</style>\n",
              "<table border=\"1\" class=\"dataframe\">\n",
              "  <thead>\n",
              "    <tr style=\"text-align: right;\">\n",
              "      <th></th>\n",
              "      <th>Date</th>\n",
              "      <th>Daily Amount</th>\n",
              "      <th>Total Amount</th>\n",
              "    </tr>\n",
              "  </thead>\n",
              "  <tbody>\n",
              "    <tr>\n",
              "      <th>140</th>\n",
              "      <td>October 2</td>\n",
              "      <td>NaN</td>\n",
              "      <td>NaN</td>\n",
              "    </tr>\n",
              "    <tr>\n",
              "      <th>141</th>\n",
              "      <td>October 3</td>\n",
              "      <td>NaN</td>\n",
              "      <td>NaN</td>\n",
              "    </tr>\n",
              "    <tr>\n",
              "      <th>142</th>\n",
              "      <td>October 4</td>\n",
              "      <td>NaN</td>\n",
              "      <td>NaN</td>\n",
              "    </tr>\n",
              "    <tr>\n",
              "      <th>143</th>\n",
              "      <td>October 5</td>\n",
              "      <td>NaN</td>\n",
              "      <td>NaN</td>\n",
              "    </tr>\n",
              "    <tr>\n",
              "      <th>144</th>\n",
              "      <td>October 6</td>\n",
              "      <td>NaN</td>\n",
              "      <td>NaN</td>\n",
              "    </tr>\n",
              "  </tbody>\n",
              "</table>\n",
              "</div>"
            ],
            "text/plain": [
              "          Date Daily Amount Total Amount\n",
              "140  October 2          NaN          NaN\n",
              "141  October 3          NaN          NaN\n",
              "142  October 4          NaN          NaN\n",
              "143  October 5          NaN          NaN\n",
              "144  October 6          NaN          NaN"
            ]
          },
          "metadata": {
            "tags": []
          },
          "execution_count": 38
        }
      ]
    },
    {
      "cell_type": "code",
      "metadata": {
        "colab": {
          "base_uri": "https://localhost:8080/"
        },
        "id": "GlcQ993ix946",
        "outputId": "878ba201-e0ac-4773-f23e-b009eedc5f86"
      },
      "source": [
        "sale.describe"
      ],
      "execution_count": 39,
      "outputs": [
        {
          "output_type": "execute_result",
          "data": {
            "text/plain": [
              "<bound method NDFrame.describe of              Date Daily Amount Total Amount\n",
              "122  September 14          NaN    $4,756.00\n",
              "123  September 15          NaN    $4,756.00\n",
              "125  September 17          NaN    $4,791.00\n",
              "126  September 18          NaN    $4,791.00\n",
              "127  September 19          NaN    $4,791.00\n",
              "128  September 20          NaN    $4,791.00\n",
              "131  September 23          NaN    $4,931.00\n",
              "132  September 24          NaN    $4,931.00\n",
              "133  September 25          NaN    $4,931.00\n",
              "137  September 29          NaN    $5,151.00\n",
              "138  September 30          NaN    $5,151.00\n",
              "139     October 1          NaN          NaN\n",
              "140     October 2          NaN          NaN\n",
              "141     October 3          NaN          NaN\n",
              "142     October 4          NaN          NaN\n",
              "143     October 5          NaN          NaN\n",
              "144     October 6          NaN          NaN>"
            ]
          },
          "metadata": {
            "tags": []
          },
          "execution_count": 39
        }
      ]
    },
    {
      "cell_type": "code",
      "metadata": {
        "colab": {
          "base_uri": "https://localhost:8080/"
        },
        "id": "c-AEi_Nzx97C",
        "outputId": "2af1e366-c900-451e-b90f-df56aa0c587d"
      },
      "source": [
        "sale.info"
      ],
      "execution_count": 40,
      "outputs": [
        {
          "output_type": "execute_result",
          "data": {
            "text/plain": [
              "<bound method DataFrame.info of              Date Daily Amount Total Amount\n",
              "122  September 14          NaN    $4,756.00\n",
              "123  September 15          NaN    $4,756.00\n",
              "125  September 17          NaN    $4,791.00\n",
              "126  September 18          NaN    $4,791.00\n",
              "127  September 19          NaN    $4,791.00\n",
              "128  September 20          NaN    $4,791.00\n",
              "131  September 23          NaN    $4,931.00\n",
              "132  September 24          NaN    $4,931.00\n",
              "133  September 25          NaN    $4,931.00\n",
              "137  September 29          NaN    $5,151.00\n",
              "138  September 30          NaN    $5,151.00\n",
              "139     October 1          NaN          NaN\n",
              "140     October 2          NaN          NaN\n",
              "141     October 3          NaN          NaN\n",
              "142     October 4          NaN          NaN\n",
              "143     October 5          NaN          NaN\n",
              "144     October 6          NaN          NaN>"
            ]
          },
          "metadata": {
            "tags": []
          },
          "execution_count": 40
        }
      ]
    },
    {
      "cell_type": "code",
      "metadata": {
        "colab": {
          "base_uri": "https://localhost:8080/"
        },
        "id": "k3y7LLMix99a",
        "outputId": "c7a06b3d-af34-4de2-ccb5-5b3440714bd3"
      },
      "source": [
        "sale.info()"
      ],
      "execution_count": 41,
      "outputs": [
        {
          "output_type": "stream",
          "text": [
            "<class 'pandas.core.frame.DataFrame'>\n",
            "Int64Index: 17 entries, 122 to 144\n",
            "Data columns (total 3 columns):\n",
            " #   Column        Non-Null Count  Dtype \n",
            "---  ------        --------------  ----- \n",
            " 0   Date          17 non-null     object\n",
            " 1   Daily Amount  0 non-null      object\n",
            " 2   Total Amount  11 non-null     object\n",
            "dtypes: object(3)\n",
            "memory usage: 544.0+ bytes\n"
          ],
          "name": "stdout"
        }
      ]
    },
    {
      "cell_type": "code",
      "metadata": {
        "colab": {
          "base_uri": "https://localhost:8080/"
        },
        "id": "UpbM1SSvx-AT",
        "outputId": "1bd8dbdc-1938-4753-e170-e2778610cdee"
      },
      "source": [
        "sale.shape"
      ],
      "execution_count": 42,
      "outputs": [
        {
          "output_type": "execute_result",
          "data": {
            "text/plain": [
              "(17, 3)"
            ]
          },
          "metadata": {
            "tags": []
          },
          "execution_count": 42
        }
      ]
    },
    {
      "cell_type": "code",
      "metadata": {
        "id": "mgNvdeiQx-CQ"
      },
      "source": [
        "import sqlite3"
      ],
      "execution_count": 43,
      "outputs": []
    },
    {
      "cell_type": "code",
      "metadata": {
        "id": "WkgrLByHyzPQ"
      },
      "source": [
        "conn = sqlite3.connect(\"sale.db\")\n",
        "c = conn.cursor()"
      ],
      "execution_count": 44,
      "outputs": []
    },
    {
      "cell_type": "code",
      "metadata": {
        "id": "v7QmVppwyzSh"
      },
      "source": [
        "conn = sqlite3.connect(\"sale.db\")\n",
        "c = conn.cursor()"
      ],
      "execution_count": 45,
      "outputs": []
    },
    {
      "cell_type": "code",
      "metadata": {
        "colab": {
          "base_uri": "https://localhost:8080/"
        },
        "id": "EptS6_YPyzVl",
        "outputId": "d3fcbc1b-0acb-437c-dae3-7cc87a821027"
      },
      "source": [
        "sale.to_sql(\"sale\", conn, if_exists='replace')"
      ],
      "execution_count": 46,
      "outputs": [
        {
          "output_type": "stream",
          "text": [
            "/usr/local/lib/python3.6/dist-packages/pandas/core/generic.py:2615: UserWarning: The spaces in these column names will not be changed. In pandas versions < 0.14, spaces were converted to underscores.\n",
            "  method=method,\n"
          ],
          "name": "stderr"
        }
      ]
    },
    {
      "cell_type": "code",
      "metadata": {
        "colab": {
          "base_uri": "https://localhost:8080/"
        },
        "id": "QpKEZfBayzXq",
        "outputId": "2031b947-2026-41e3-d2ff-05beb4ebb029"
      },
      "source": [
        "#See data\n",
        "c.execute(\"\"\"SELECT * FROM sale\"\"\")\n",
        "rows = c.fetchall()\n",
        "rows"
      ],
      "execution_count": 47,
      "outputs": [
        {
          "output_type": "execute_result",
          "data": {
            "text/plain": [
              "[(122, 'September 14', None, '$4,756.00'),\n",
              " (123, 'September 15', None, '$4,756.00'),\n",
              " (125, 'September 17', None, '$4,791.00'),\n",
              " (126, 'September 18', None, '$4,791.00'),\n",
              " (127, 'September 19', None, '$4,791.00'),\n",
              " (128, 'September 20', None, '$4,791.00'),\n",
              " (131, 'September 23', None, '$4,931.00'),\n",
              " (132, 'September 24', None, '$4,931.00'),\n",
              " (133, 'September 25', None, '$4,931.00'),\n",
              " (137, 'September 29', None, '$5,151.00'),\n",
              " (138, 'September 30', None, '$5,151.00'),\n",
              " (139, 'October 1', None, None),\n",
              " (140, 'October 2', None, None),\n",
              " (141, 'October 3', None, None),\n",
              " (142, 'October 4', None, None),\n",
              " (143, 'October 5', None, None),\n",
              " (144, 'October 6', None, None)]"
            ]
          },
          "metadata": {
            "tags": []
          },
          "execution_count": 47
        }
      ]
    },
    {
      "cell_type": "code",
      "metadata": {
        "colab": {
          "base_uri": "https://localhost:8080/",
          "height": 558
        },
        "id": "l3-v55L4yzah",
        "outputId": "7f575d9c-0031-4b3f-e772-b1a150d81b77"
      },
      "source": [
        "sale.to_excel(\"sale.xls\")\n",
        "\n",
        "pd.read_excel(\"sale.xls\")"
      ],
      "execution_count": 48,
      "outputs": [
        {
          "output_type": "execute_result",
          "data": {
            "text/html": [
              "<div>\n",
              "<style scoped>\n",
              "    .dataframe tbody tr th:only-of-type {\n",
              "        vertical-align: middle;\n",
              "    }\n",
              "\n",
              "    .dataframe tbody tr th {\n",
              "        vertical-align: top;\n",
              "    }\n",
              "\n",
              "    .dataframe thead th {\n",
              "        text-align: right;\n",
              "    }\n",
              "</style>\n",
              "<table border=\"1\" class=\"dataframe\">\n",
              "  <thead>\n",
              "    <tr style=\"text-align: right;\">\n",
              "      <th></th>\n",
              "      <th>Unnamed: 0</th>\n",
              "      <th>Date</th>\n",
              "      <th>Daily Amount</th>\n",
              "      <th>Total Amount</th>\n",
              "    </tr>\n",
              "  </thead>\n",
              "  <tbody>\n",
              "    <tr>\n",
              "      <th>0</th>\n",
              "      <td>122</td>\n",
              "      <td>September 14</td>\n",
              "      <td>NaN</td>\n",
              "      <td>$4,756.00</td>\n",
              "    </tr>\n",
              "    <tr>\n",
              "      <th>1</th>\n",
              "      <td>123</td>\n",
              "      <td>September 15</td>\n",
              "      <td>NaN</td>\n",
              "      <td>$4,756.00</td>\n",
              "    </tr>\n",
              "    <tr>\n",
              "      <th>2</th>\n",
              "      <td>125</td>\n",
              "      <td>September 17</td>\n",
              "      <td>NaN</td>\n",
              "      <td>$4,791.00</td>\n",
              "    </tr>\n",
              "    <tr>\n",
              "      <th>3</th>\n",
              "      <td>126</td>\n",
              "      <td>September 18</td>\n",
              "      <td>NaN</td>\n",
              "      <td>$4,791.00</td>\n",
              "    </tr>\n",
              "    <tr>\n",
              "      <th>4</th>\n",
              "      <td>127</td>\n",
              "      <td>September 19</td>\n",
              "      <td>NaN</td>\n",
              "      <td>$4,791.00</td>\n",
              "    </tr>\n",
              "    <tr>\n",
              "      <th>5</th>\n",
              "      <td>128</td>\n",
              "      <td>September 20</td>\n",
              "      <td>NaN</td>\n",
              "      <td>$4,791.00</td>\n",
              "    </tr>\n",
              "    <tr>\n",
              "      <th>6</th>\n",
              "      <td>131</td>\n",
              "      <td>September 23</td>\n",
              "      <td>NaN</td>\n",
              "      <td>$4,931.00</td>\n",
              "    </tr>\n",
              "    <tr>\n",
              "      <th>7</th>\n",
              "      <td>132</td>\n",
              "      <td>September 24</td>\n",
              "      <td>NaN</td>\n",
              "      <td>$4,931.00</td>\n",
              "    </tr>\n",
              "    <tr>\n",
              "      <th>8</th>\n",
              "      <td>133</td>\n",
              "      <td>September 25</td>\n",
              "      <td>NaN</td>\n",
              "      <td>$4,931.00</td>\n",
              "    </tr>\n",
              "    <tr>\n",
              "      <th>9</th>\n",
              "      <td>137</td>\n",
              "      <td>September 29</td>\n",
              "      <td>NaN</td>\n",
              "      <td>$5,151.00</td>\n",
              "    </tr>\n",
              "    <tr>\n",
              "      <th>10</th>\n",
              "      <td>138</td>\n",
              "      <td>September 30</td>\n",
              "      <td>NaN</td>\n",
              "      <td>$5,151.00</td>\n",
              "    </tr>\n",
              "    <tr>\n",
              "      <th>11</th>\n",
              "      <td>139</td>\n",
              "      <td>October 1</td>\n",
              "      <td>NaN</td>\n",
              "      <td>NaN</td>\n",
              "    </tr>\n",
              "    <tr>\n",
              "      <th>12</th>\n",
              "      <td>140</td>\n",
              "      <td>October 2</td>\n",
              "      <td>NaN</td>\n",
              "      <td>NaN</td>\n",
              "    </tr>\n",
              "    <tr>\n",
              "      <th>13</th>\n",
              "      <td>141</td>\n",
              "      <td>October 3</td>\n",
              "      <td>NaN</td>\n",
              "      <td>NaN</td>\n",
              "    </tr>\n",
              "    <tr>\n",
              "      <th>14</th>\n",
              "      <td>142</td>\n",
              "      <td>October 4</td>\n",
              "      <td>NaN</td>\n",
              "      <td>NaN</td>\n",
              "    </tr>\n",
              "    <tr>\n",
              "      <th>15</th>\n",
              "      <td>143</td>\n",
              "      <td>October 5</td>\n",
              "      <td>NaN</td>\n",
              "      <td>NaN</td>\n",
              "    </tr>\n",
              "    <tr>\n",
              "      <th>16</th>\n",
              "      <td>144</td>\n",
              "      <td>October 6</td>\n",
              "      <td>NaN</td>\n",
              "      <td>NaN</td>\n",
              "    </tr>\n",
              "  </tbody>\n",
              "</table>\n",
              "</div>"
            ],
            "text/plain": [
              "    Unnamed: 0          Date  Daily Amount Total Amount\n",
              "0          122  September 14           NaN    $4,756.00\n",
              "1          123  September 15           NaN    $4,756.00\n",
              "2          125  September 17           NaN    $4,791.00\n",
              "3          126  September 18           NaN    $4,791.00\n",
              "4          127  September 19           NaN    $4,791.00\n",
              "5          128  September 20           NaN    $4,791.00\n",
              "6          131  September 23           NaN    $4,931.00\n",
              "7          132  September 24           NaN    $4,931.00\n",
              "8          133  September 25           NaN    $4,931.00\n",
              "9          137  September 29           NaN    $5,151.00\n",
              "10         138  September 30           NaN    $5,151.00\n",
              "11         139     October 1           NaN          NaN\n",
              "12         140     October 2           NaN          NaN\n",
              "13         141     October 3           NaN          NaN\n",
              "14         142     October 4           NaN          NaN\n",
              "15         143     October 5           NaN          NaN\n",
              "16         144     October 6           NaN          NaN"
            ]
          },
          "metadata": {
            "tags": []
          },
          "execution_count": 48
        }
      ]
    }
  ]
}