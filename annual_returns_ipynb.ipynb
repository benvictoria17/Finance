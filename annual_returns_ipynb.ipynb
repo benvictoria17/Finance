{
  "nbformat": 4,
  "nbformat_minor": 0,
  "metadata": {
    "kernelspec": {
      "name": "python3",
      "display_name": "Python 3",
      "language": "python"
    },
    "language_info": {
      "name": "python",
      "version": "3.7.6",
      "mimetype": "text/x-python",
      "codemirror_mode": {
        "name": "ipython",
        "version": 3
      },
      "pygments_lexer": "ipython3",
      "nbconvert_exporter": "python",
      "file_extension": ".py"
    },
    "colab": {
      "name": "annual-returns-ipynb.ipynb",
      "provenance": [],
      "include_colab_link": true
    }
  },
  "cells": [
    {
      "cell_type": "markdown",
      "metadata": {
        "id": "view-in-github",
        "colab_type": "text"
      },
      "source": [
        "<a href=\"https://colab.research.google.com/github/benvictoria21/python-stock-/blob/master/annual_returns_ipynb.ipynb\" target=\"_parent\"><img src=\"https://colab.research.google.com/assets/colab-badge.svg\" alt=\"Open In Colab\"/></a>"
      ]
    },
    {
      "cell_type": "code",
      "metadata": {
        "trusted": true,
        "id": "3ZnJekCnT8by",
        "colab_type": "code",
        "colab": {
          "base_uri": "https://localhost:8080/",
          "height": 171
        },
        "outputId": "bb3c3f43-2f68-44bb-eae1-b06bab32fb9f"
      },
      "source": [
        "!pip install --upgrade pip"
      ],
      "execution_count": 1,
      "outputs": [
        {
          "output_type": "stream",
          "text": [
            "Collecting pip\n",
            "\u001b[?25l  Downloading https://files.pythonhosted.org/packages/5a/4a/39400ff9b36e719bdf8f31c99fe1fa7842a42fa77432e584f707a5080063/pip-20.2.2-py2.py3-none-any.whl (1.5MB)\n",
            "\u001b[K     |████████████████████████████████| 1.5MB 2.8MB/s \n",
            "\u001b[?25hInstalling collected packages: pip\n",
            "  Found existing installation: pip 19.3.1\n",
            "    Uninstalling pip-19.3.1:\n",
            "      Successfully uninstalled pip-19.3.1\n",
            "Successfully installed pip-20.2.2\n"
          ],
          "name": "stdout"
        }
      ]
    },
    {
      "cell_type": "code",
      "metadata": {
        "trusted": true,
        "id": "DVr-24qUT8b5",
        "colab_type": "code",
        "colab": {
          "base_uri": "https://localhost:8080/",
          "height": 373
        },
        "outputId": "24926d38-3384-41fc-e30a-d35bf3798268"
      },
      "source": [
        "!pip install yfinance"
      ],
      "execution_count": 2,
      "outputs": [
        {
          "output_type": "stream",
          "text": [
            "Collecting yfinance\n",
            "  Downloading yfinance-0.1.54.tar.gz (19 kB)\n",
            "Requirement already satisfied: pandas>=0.24 in /usr/local/lib/python3.6/dist-packages (from yfinance) (1.0.5)\n",
            "Requirement already satisfied: numpy>=1.15 in /usr/local/lib/python3.6/dist-packages (from yfinance) (1.18.5)\n",
            "Requirement already satisfied: requests>=2.20 in /usr/local/lib/python3.6/dist-packages (from yfinance) (2.23.0)\n",
            "Requirement already satisfied: multitasking>=0.0.7 in /usr/local/lib/python3.6/dist-packages (from yfinance) (0.0.9)\n",
            "Requirement already satisfied: python-dateutil>=2.6.1 in /usr/local/lib/python3.6/dist-packages (from pandas>=0.24->yfinance) (2.8.1)\n",
            "Requirement already satisfied: pytz>=2017.2 in /usr/local/lib/python3.6/dist-packages (from pandas>=0.24->yfinance) (2018.9)\n",
            "Requirement already satisfied: urllib3!=1.25.0,!=1.25.1,<1.26,>=1.21.1 in /usr/local/lib/python3.6/dist-packages (from requests>=2.20->yfinance) (1.24.3)\n",
            "Requirement already satisfied: certifi>=2017.4.17 in /usr/local/lib/python3.6/dist-packages (from requests>=2.20->yfinance) (2020.6.20)\n",
            "Requirement already satisfied: chardet<4,>=3.0.2 in /usr/local/lib/python3.6/dist-packages (from requests>=2.20->yfinance) (3.0.4)\n",
            "Requirement already satisfied: idna<3,>=2.5 in /usr/local/lib/python3.6/dist-packages (from requests>=2.20->yfinance) (2.10)\n",
            "Requirement already satisfied: six>=1.5 in /usr/local/lib/python3.6/dist-packages (from python-dateutil>=2.6.1->pandas>=0.24->yfinance) (1.15.0)\n",
            "Building wheels for collected packages: yfinance\n",
            "  Building wheel for yfinance (setup.py) ... \u001b[?25l\u001b[?25hdone\n",
            "  Created wheel for yfinance: filename=yfinance-0.1.54-py2.py3-none-any.whl size=22409 sha256=0c0a6775d7dbef2c5d18952bac5c88fcb3fd0591066a768e24ac3d108654d9c5\n",
            "  Stored in directory: /root/.cache/pip/wheels/6f/ad/f4/4a269deab015672fd1ab353d6b2c3fcf64f413980737c13541\n",
            "Successfully built yfinance\n",
            "Installing collected packages: yfinance\n",
            "Successfully installed yfinance-0.1.54\n"
          ],
          "name": "stdout"
        }
      ]
    },
    {
      "cell_type": "code",
      "metadata": {
        "_uuid": "8f2839f25d086af736a60e9eeb907d3b93b6e0e5",
        "_cell_guid": "b1076dfc-b9ad-4769-8c92-a6c4dae69d19",
        "trusted": true,
        "id": "Eiq7M5JWT8b8",
        "colab_type": "code",
        "colab": {}
      },
      "source": [
        "import numpy as np\n",
        "import matplotlib.pyplot as plt; plt.rcdefaults()\n",
        "import pandas as pd\n",
        "\n",
        "import warnings\n",
        "warnings.filterwarnings(\"ignore\")\n",
        "import yfinance as yf"
      ],
      "execution_count": 3,
      "outputs": []
    },
    {
      "cell_type": "code",
      "metadata": {
        "trusted": true,
        "id": "cxt1KQ1yT8b_",
        "colab_type": "code",
        "colab": {
          "base_uri": "https://localhost:8080/",
          "height": 242
        },
        "outputId": "56f44a80-0b8a-4e55-bd07-70c564e83623"
      },
      "source": [
        "# input\n",
        "symbol = 'AMD'\n",
        "start = '2007-01-01'\n",
        "end = '2019-01-01'\n",
        "\n",
        "# Read data \n",
        "dataset = yf.download(symbol,start,end)\n",
        "\n",
        "# View Data\n",
        "dataset.head()"
      ],
      "execution_count": 4,
      "outputs": [
        {
          "output_type": "stream",
          "text": [
            "\r[*********************100%***********************]  1 of 1 completed\n"
          ],
          "name": "stdout"
        },
        {
          "output_type": "execute_result",
          "data": {
            "text/html": [
              "<div>\n",
              "<style scoped>\n",
              "    .dataframe tbody tr th:only-of-type {\n",
              "        vertical-align: middle;\n",
              "    }\n",
              "\n",
              "    .dataframe tbody tr th {\n",
              "        vertical-align: top;\n",
              "    }\n",
              "\n",
              "    .dataframe thead th {\n",
              "        text-align: right;\n",
              "    }\n",
              "</style>\n",
              "<table border=\"1\" class=\"dataframe\">\n",
              "  <thead>\n",
              "    <tr style=\"text-align: right;\">\n",
              "      <th></th>\n",
              "      <th>Open</th>\n",
              "      <th>High</th>\n",
              "      <th>Low</th>\n",
              "      <th>Close</th>\n",
              "      <th>Adj Close</th>\n",
              "      <th>Volume</th>\n",
              "    </tr>\n",
              "    <tr>\n",
              "      <th>Date</th>\n",
              "      <th></th>\n",
              "      <th></th>\n",
              "      <th></th>\n",
              "      <th></th>\n",
              "      <th></th>\n",
              "      <th></th>\n",
              "    </tr>\n",
              "  </thead>\n",
              "  <tbody>\n",
              "    <tr>\n",
              "      <th>2007-01-03</th>\n",
              "      <td>20.080000</td>\n",
              "      <td>20.400000</td>\n",
              "      <td>19.350000</td>\n",
              "      <td>19.520000</td>\n",
              "      <td>19.520000</td>\n",
              "      <td>28350300</td>\n",
              "    </tr>\n",
              "    <tr>\n",
              "      <th>2007-01-04</th>\n",
              "      <td>19.660000</td>\n",
              "      <td>19.860001</td>\n",
              "      <td>19.320000</td>\n",
              "      <td>19.790001</td>\n",
              "      <td>19.790001</td>\n",
              "      <td>23652500</td>\n",
              "    </tr>\n",
              "    <tr>\n",
              "      <th>2007-01-05</th>\n",
              "      <td>19.540001</td>\n",
              "      <td>19.910000</td>\n",
              "      <td>19.540001</td>\n",
              "      <td>19.709999</td>\n",
              "      <td>19.709999</td>\n",
              "      <td>15902400</td>\n",
              "    </tr>\n",
              "    <tr>\n",
              "      <th>2007-01-08</th>\n",
              "      <td>19.709999</td>\n",
              "      <td>19.860001</td>\n",
              "      <td>19.370001</td>\n",
              "      <td>19.469999</td>\n",
              "      <td>19.469999</td>\n",
              "      <td>15814800</td>\n",
              "    </tr>\n",
              "    <tr>\n",
              "      <th>2007-01-09</th>\n",
              "      <td>19.450001</td>\n",
              "      <td>19.709999</td>\n",
              "      <td>19.370001</td>\n",
              "      <td>19.650000</td>\n",
              "      <td>19.650000</td>\n",
              "      <td>14494200</td>\n",
              "    </tr>\n",
              "  </tbody>\n",
              "</table>\n",
              "</div>"
            ],
            "text/plain": [
              "                 Open       High        Low      Close  Adj Close    Volume\n",
              "Date                                                                       \n",
              "2007-01-03  20.080000  20.400000  19.350000  19.520000  19.520000  28350300\n",
              "2007-01-04  19.660000  19.860001  19.320000  19.790001  19.790001  23652500\n",
              "2007-01-05  19.540001  19.910000  19.540001  19.709999  19.709999  15902400\n",
              "2007-01-08  19.709999  19.860001  19.370001  19.469999  19.469999  15814800\n",
              "2007-01-09  19.450001  19.709999  19.370001  19.650000  19.650000  14494200"
            ]
          },
          "metadata": {
            "tags": []
          },
          "execution_count": 4
        }
      ]
    },
    {
      "cell_type": "code",
      "metadata": {
        "trusted": true,
        "id": "qKhxTpZYT8cC",
        "colab_type": "code",
        "colab": {
          "base_uri": "https://localhost:8080/",
          "height": 225
        },
        "outputId": "d9a034c7-606b-4e8d-f5f0-156600193ca5"
      },
      "source": [
        "dataset.tail()"
      ],
      "execution_count": 5,
      "outputs": [
        {
          "output_type": "execute_result",
          "data": {
            "text/html": [
              "<div>\n",
              "<style scoped>\n",
              "    .dataframe tbody tr th:only-of-type {\n",
              "        vertical-align: middle;\n",
              "    }\n",
              "\n",
              "    .dataframe tbody tr th {\n",
              "        vertical-align: top;\n",
              "    }\n",
              "\n",
              "    .dataframe thead th {\n",
              "        text-align: right;\n",
              "    }\n",
              "</style>\n",
              "<table border=\"1\" class=\"dataframe\">\n",
              "  <thead>\n",
              "    <tr style=\"text-align: right;\">\n",
              "      <th></th>\n",
              "      <th>Open</th>\n",
              "      <th>High</th>\n",
              "      <th>Low</th>\n",
              "      <th>Close</th>\n",
              "      <th>Adj Close</th>\n",
              "      <th>Volume</th>\n",
              "    </tr>\n",
              "    <tr>\n",
              "      <th>Date</th>\n",
              "      <th></th>\n",
              "      <th></th>\n",
              "      <th></th>\n",
              "      <th></th>\n",
              "      <th></th>\n",
              "      <th></th>\n",
              "    </tr>\n",
              "  </thead>\n",
              "  <tbody>\n",
              "    <tr>\n",
              "      <th>2018-12-24</th>\n",
              "      <td>16.520000</td>\n",
              "      <td>17.219999</td>\n",
              "      <td>16.370001</td>\n",
              "      <td>16.650000</td>\n",
              "      <td>16.650000</td>\n",
              "      <td>62933100</td>\n",
              "    </tr>\n",
              "    <tr>\n",
              "      <th>2018-12-26</th>\n",
              "      <td>16.879999</td>\n",
              "      <td>17.910000</td>\n",
              "      <td>16.030001</td>\n",
              "      <td>17.900000</td>\n",
              "      <td>17.900000</td>\n",
              "      <td>108811800</td>\n",
              "    </tr>\n",
              "    <tr>\n",
              "      <th>2018-12-27</th>\n",
              "      <td>17.430000</td>\n",
              "      <td>17.740000</td>\n",
              "      <td>16.440001</td>\n",
              "      <td>17.490000</td>\n",
              "      <td>17.490000</td>\n",
              "      <td>111373000</td>\n",
              "    </tr>\n",
              "    <tr>\n",
              "      <th>2018-12-28</th>\n",
              "      <td>17.530001</td>\n",
              "      <td>18.309999</td>\n",
              "      <td>17.139999</td>\n",
              "      <td>17.820000</td>\n",
              "      <td>17.820000</td>\n",
              "      <td>109214400</td>\n",
              "    </tr>\n",
              "    <tr>\n",
              "      <th>2018-12-31</th>\n",
              "      <td>18.150000</td>\n",
              "      <td>18.510000</td>\n",
              "      <td>17.850000</td>\n",
              "      <td>18.459999</td>\n",
              "      <td>18.459999</td>\n",
              "      <td>84732200</td>\n",
              "    </tr>\n",
              "  </tbody>\n",
              "</table>\n",
              "</div>"
            ],
            "text/plain": [
              "                 Open       High        Low      Close  Adj Close     Volume\n",
              "Date                                                                        \n",
              "2018-12-24  16.520000  17.219999  16.370001  16.650000  16.650000   62933100\n",
              "2018-12-26  16.879999  17.910000  16.030001  17.900000  17.900000  108811800\n",
              "2018-12-27  17.430000  17.740000  16.440001  17.490000  17.490000  111373000\n",
              "2018-12-28  17.530001  18.309999  17.139999  17.820000  17.820000  109214400\n",
              "2018-12-31  18.150000  18.510000  17.850000  18.459999  18.459999   84732200"
            ]
          },
          "metadata": {
            "tags": []
          },
          "execution_count": 5
        }
      ]
    },
    {
      "cell_type": "code",
      "metadata": {
        "trusted": true,
        "id": "kYpiogFbT8cF",
        "colab_type": "code",
        "colab": {
          "base_uri": "https://localhost:8080/",
          "height": 355
        },
        "outputId": "c1bc3e29-9ba8-42b7-8f6b-821eff3f1b17"
      },
      "source": [
        "plt.figure(figsize=(16,8))\n",
        "plt.plot(dataset['Adj Close'])\n",
        "plt.title('Closing Price Chart')\n",
        "plt.xlabel('Date')\n",
        "plt.ylabel('Price')\n",
        "plt.grid(True)\n",
        "plt.show()"
      ],
      "execution_count": 6,
      "outputs": [
        {
          "output_type": "display_data",
          "data": {
            "image/png": "[encoded data removed]",
            "text/plain": [
              "<Figure size 1600x800 with 1 Axes>"
            ]
          },
          "metadata": {
            "tags": []
          }
        }
      ]
    },
    {
      "cell_type": "code",
      "metadata": {
        "trusted": true,
        "id": "UgEz5T4WT8cH",
        "colab_type": "code",
        "colab": {
          "base_uri": "https://localhost:8080/",
          "height": 225
        },
        "outputId": "4b8420d2-71ef-41a1-89b3-10461a61e693"
      },
      "source": [
        "monthly = dataset.asfreq('BM')\n",
        "monthly['Returns'] = dataset['Adj Close'].pct_change().dropna()\n",
        "monthly.head()"
      ],
      "execution_count": 7,
      "outputs": [
        {
          "output_type": "execute_result",
          "data": {
            "text/html": [
              "<div>\n",
              "<style scoped>\n",
              "    .dataframe tbody tr th:only-of-type {\n",
              "        vertical-align: middle;\n",
              "    }\n",
              "\n",
              "    .dataframe tbody tr th {\n",
              "        vertical-align: top;\n",
              "    }\n",
              "\n",
              "    .dataframe thead th {\n",
              "        text-align: right;\n",
              "    }\n",
              "</style>\n",
              "<table border=\"1\" class=\"dataframe\">\n",
              "  <thead>\n",
              "    <tr style=\"text-align: right;\">\n",
              "      <th></th>\n",
              "      <th>Open</th>\n",
              "      <th>High</th>\n",
              "      <th>Low</th>\n",
              "      <th>Close</th>\n",
              "      <th>Adj Close</th>\n",
              "      <th>Volume</th>\n",
              "      <th>Returns</th>\n",
              "    </tr>\n",
              "    <tr>\n",
              "      <th>Date</th>\n",
              "      <th></th>\n",
              "      <th></th>\n",
              "      <th></th>\n",
              "      <th></th>\n",
              "      <th></th>\n",
              "      <th></th>\n",
              "      <th></th>\n",
              "    </tr>\n",
              "  </thead>\n",
              "  <tbody>\n",
              "    <tr>\n",
              "      <th>2007-01-31</th>\n",
              "      <td>15.83</td>\n",
              "      <td>15.89</td>\n",
              "      <td>15.52</td>\n",
              "      <td>15.55</td>\n",
              "      <td>15.55</td>\n",
              "      <td>30280100.0</td>\n",
              "      <td>-0.015199</td>\n",
              "    </tr>\n",
              "    <tr>\n",
              "      <th>2007-02-28</th>\n",
              "      <td>15.30</td>\n",
              "      <td>15.30</td>\n",
              "      <td>14.96</td>\n",
              "      <td>15.07</td>\n",
              "      <td>15.07</td>\n",
              "      <td>32605500.0</td>\n",
              "      <td>-0.000663</td>\n",
              "    </tr>\n",
              "    <tr>\n",
              "      <th>2007-03-30</th>\n",
              "      <td>13.09</td>\n",
              "      <td>13.18</td>\n",
              "      <td>12.97</td>\n",
              "      <td>13.06</td>\n",
              "      <td>13.06</td>\n",
              "      <td>18148200.0</td>\n",
              "      <td>-0.001529</td>\n",
              "    </tr>\n",
              "    <tr>\n",
              "      <th>2007-04-30</th>\n",
              "      <td>14.27</td>\n",
              "      <td>14.28</td>\n",
              "      <td>13.81</td>\n",
              "      <td>13.82</td>\n",
              "      <td>13.82</td>\n",
              "      <td>20980200.0</td>\n",
              "      <td>-0.034916</td>\n",
              "    </tr>\n",
              "    <tr>\n",
              "      <th>2007-05-31</th>\n",
              "      <td>14.43</td>\n",
              "      <td>14.43</td>\n",
              "      <td>14.24</td>\n",
              "      <td>14.27</td>\n",
              "      <td>14.27</td>\n",
              "      <td>14011200.0</td>\n",
              "      <td>-0.006959</td>\n",
              "    </tr>\n",
              "  </tbody>\n",
              "</table>\n",
              "</div>"
            ],
            "text/plain": [
              "             Open   High    Low  Close  Adj Close      Volume   Returns\n",
              "Date                                                                   \n",
              "2007-01-31  15.83  15.89  15.52  15.55      15.55  30280100.0 -0.015199\n",
              "2007-02-28  15.30  15.30  14.96  15.07      15.07  32605500.0 -0.000663\n",
              "2007-03-30  13.09  13.18  12.97  13.06      13.06  18148200.0 -0.001529\n",
              "2007-04-30  14.27  14.28  13.81  13.82      13.82  20980200.0 -0.034916\n",
              "2007-05-31  14.43  14.43  14.24  14.27      14.27  14011200.0 -0.006959"
            ]
          },
          "metadata": {
            "tags": []
          },
          "execution_count": 7
        }
      ]
    },
    {
      "cell_type": "code",
      "metadata": {
        "trusted": true,
        "id": "lEG54GdGT8cL",
        "colab_type": "code",
        "colab": {}
      },
      "source": [
        "monthly['Month_Name'] = monthly.index.strftime(\"%b\")\n",
        "monthly['Month_Name_Year'] = monthly.index.strftime(\"%b-%Y\")"
      ],
      "execution_count": 8,
      "outputs": []
    },
    {
      "cell_type": "code",
      "metadata": {
        "trusted": true,
        "id": "DQmaTPcwT8cO",
        "colab_type": "code",
        "colab": {}
      },
      "source": [
        "import calendar\n",
        "import datetime\n",
        "\n",
        "monthly = monthly.reset_index()\n",
        "monthly['Month'] = monthly[\"Date\"].dt.month"
      ],
      "execution_count": 9,
      "outputs": []
    },
    {
      "cell_type": "code",
      "metadata": {
        "trusted": true,
        "id": "2L5s0xt0T8cQ",
        "colab_type": "code",
        "colab": {
          "base_uri": "https://localhost:8080/",
          "height": 316
        },
        "outputId": "a9f097b5-f435-4107-b704-16c46a8183eb"
      },
      "source": [
        "monthly.head()"
      ],
      "execution_count": 10,
      "outputs": [
        {
          "output_type": "execute_result",
          "data": {
            "text/html": [
              "<div>\n",
              "<style scoped>\n",
              "    .dataframe tbody tr th:only-of-type {\n",
              "        vertical-align: middle;\n",
              "    }\n",
              "\n",
              "    .dataframe tbody tr th {\n",
              "        vertical-align: top;\n",
              "    }\n",
              "\n",
              "    .dataframe thead th {\n",
              "        text-align: right;\n",
              "    }\n",
              "</style>\n",
              "<table border=\"1\" class=\"dataframe\">\n",
              "  <thead>\n",
              "    <tr style=\"text-align: right;\">\n",
              "      <th></th>\n",
              "      <th>Date</th>\n",
              "      <th>Open</th>\n",
              "      <th>High</th>\n",
              "      <th>Low</th>\n",
              "      <th>Close</th>\n",
              "      <th>Adj Close</th>\n",
              "      <th>Volume</th>\n",
              "      <th>Returns</th>\n",
              "      <th>Month_Name</th>\n",
              "      <th>Month_Name_Year</th>\n",
              "      <th>Month</th>\n",
              "    </tr>\n",
              "  </thead>\n",
              "  <tbody>\n",
              "    <tr>\n",
              "      <th>0</th>\n",
              "      <td>2007-01-31</td>\n",
              "      <td>15.83</td>\n",
              "      <td>15.89</td>\n",
              "      <td>15.52</td>\n",
              "      <td>15.55</td>\n",
              "      <td>15.55</td>\n",
              "      <td>30280100.0</td>\n",
              "      <td>-0.015199</td>\n",
              "      <td>Jan</td>\n",
              "      <td>Jan-2007</td>\n",
              "      <td>1</td>\n",
              "    </tr>\n",
              "    <tr>\n",
              "      <th>1</th>\n",
              "      <td>2007-02-28</td>\n",
              "      <td>15.30</td>\n",
              "      <td>15.30</td>\n",
              "      <td>14.96</td>\n",
              "      <td>15.07</td>\n",
              "      <td>15.07</td>\n",
              "      <td>32605500.0</td>\n",
              "      <td>-0.000663</td>\n",
              "      <td>Feb</td>\n",
              "      <td>Feb-2007</td>\n",
              "      <td>2</td>\n",
              "    </tr>\n",
              "    <tr>\n",
              "      <th>2</th>\n",
              "      <td>2007-03-30</td>\n",
              "      <td>13.09</td>\n",
              "      <td>13.18</td>\n",
              "      <td>12.97</td>\n",
              "      <td>13.06</td>\n",
              "      <td>13.06</td>\n",
              "      <td>18148200.0</td>\n",
              "      <td>-0.001529</td>\n",
              "      <td>Mar</td>\n",
              "      <td>Mar-2007</td>\n",
              "      <td>3</td>\n",
              "    </tr>\n",
              "    <tr>\n",
              "      <th>3</th>\n",
              "      <td>2007-04-30</td>\n",
              "      <td>14.27</td>\n",
              "      <td>14.28</td>\n",
              "      <td>13.81</td>\n",
              "      <td>13.82</td>\n",
              "      <td>13.82</td>\n",
              "      <td>20980200.0</td>\n",
              "      <td>-0.034916</td>\n",
              "      <td>Apr</td>\n",
              "      <td>Apr-2007</td>\n",
              "      <td>4</td>\n",
              "    </tr>\n",
              "    <tr>\n",
              "      <th>4</th>\n",
              "      <td>2007-05-31</td>\n",
              "      <td>14.43</td>\n",
              "      <td>14.43</td>\n",
              "      <td>14.24</td>\n",
              "      <td>14.27</td>\n",
              "      <td>14.27</td>\n",
              "      <td>14011200.0</td>\n",
              "      <td>-0.006959</td>\n",
              "      <td>May</td>\n",
              "      <td>May-2007</td>\n",
              "      <td>5</td>\n",
              "    </tr>\n",
              "  </tbody>\n",
              "</table>\n",
              "</div>"
            ],
            "text/plain": [
              "        Date   Open   High    Low  ...   Returns  Month_Name  Month_Name_Year  Month\n",
              "0 2007-01-31  15.83  15.89  15.52  ... -0.015199         Jan         Jan-2007      1\n",
              "1 2007-02-28  15.30  15.30  14.96  ... -0.000663         Feb         Feb-2007      2\n",
              "2 2007-03-30  13.09  13.18  12.97  ... -0.001529         Mar         Mar-2007      3\n",
              "3 2007-04-30  14.27  14.28  13.81  ... -0.034916         Apr         Apr-2007      4\n",
              "4 2007-05-31  14.43  14.43  14.24  ... -0.006959         May         May-2007      5\n",
              "\n",
              "[5 rows x 11 columns]"
            ]
          },
          "metadata": {
            "tags": []
          },
          "execution_count": 10
        }
      ]
    },
    {
      "cell_type": "code",
      "metadata": {
        "trusted": true,
        "id": "ScQAQrocT8cT",
        "colab_type": "code",
        "colab": {
          "base_uri": "https://localhost:8080/",
          "height": 316
        },
        "outputId": "cb030d3d-5932-4dbf-847f-5c6af7562030"
      },
      "source": [
        "monthly.head()"
      ],
      "execution_count": 11,
      "outputs": [
        {
          "output_type": "execute_result",
          "data": {
            "text/html": [
              "<div>\n",
              "<style scoped>\n",
              "    .dataframe tbody tr th:only-of-type {\n",
              "        vertical-align: middle;\n",
              "    }\n",
              "\n",
              "    .dataframe tbody tr th {\n",
              "        vertical-align: top;\n",
              "    }\n",
              "\n",
              "    .dataframe thead th {\n",
              "        text-align: right;\n",
              "    }\n",
              "</style>\n",
              "<table border=\"1\" class=\"dataframe\">\n",
              "  <thead>\n",
              "    <tr style=\"text-align: right;\">\n",
              "      <th></th>\n",
              "      <th>Date</th>\n",
              "      <th>Open</th>\n",
              "      <th>High</th>\n",
              "      <th>Low</th>\n",
              "      <th>Close</th>\n",
              "      <th>Adj Close</th>\n",
              "      <th>Volume</th>\n",
              "      <th>Returns</th>\n",
              "      <th>Month_Name</th>\n",
              "      <th>Month_Name_Year</th>\n",
              "      <th>Month</th>\n",
              "    </tr>\n",
              "  </thead>\n",
              "  <tbody>\n",
              "    <tr>\n",
              "      <th>0</th>\n",
              "      <td>2007-01-31</td>\n",
              "      <td>15.83</td>\n",
              "      <td>15.89</td>\n",
              "      <td>15.52</td>\n",
              "      <td>15.55</td>\n",
              "      <td>15.55</td>\n",
              "      <td>30280100.0</td>\n",
              "      <td>-0.015199</td>\n",
              "      <td>Jan</td>\n",
              "      <td>Jan-2007</td>\n",
              "      <td>1</td>\n",
              "    </tr>\n",
              "    <tr>\n",
              "      <th>1</th>\n",
              "      <td>2007-02-28</td>\n",
              "      <td>15.30</td>\n",
              "      <td>15.30</td>\n",
              "      <td>14.96</td>\n",
              "      <td>15.07</td>\n",
              "      <td>15.07</td>\n",
              "      <td>32605500.0</td>\n",
              "      <td>-0.000663</td>\n",
              "      <td>Feb</td>\n",
              "      <td>Feb-2007</td>\n",
              "      <td>2</td>\n",
              "    </tr>\n",
              "    <tr>\n",
              "      <th>2</th>\n",
              "      <td>2007-03-30</td>\n",
              "      <td>13.09</td>\n",
              "      <td>13.18</td>\n",
              "      <td>12.97</td>\n",
              "      <td>13.06</td>\n",
              "      <td>13.06</td>\n",
              "      <td>18148200.0</td>\n",
              "      <td>-0.001529</td>\n",
              "      <td>Mar</td>\n",
              "      <td>Mar-2007</td>\n",
              "      <td>3</td>\n",
              "    </tr>\n",
              "    <tr>\n",
              "      <th>3</th>\n",
              "      <td>2007-04-30</td>\n",
              "      <td>14.27</td>\n",
              "      <td>14.28</td>\n",
              "      <td>13.81</td>\n",
              "      <td>13.82</td>\n",
              "      <td>13.82</td>\n",
              "      <td>20980200.0</td>\n",
              "      <td>-0.034916</td>\n",
              "      <td>Apr</td>\n",
              "      <td>Apr-2007</td>\n",
              "      <td>4</td>\n",
              "    </tr>\n",
              "    <tr>\n",
              "      <th>4</th>\n",
              "      <td>2007-05-31</td>\n",
              "      <td>14.43</td>\n",
              "      <td>14.43</td>\n",
              "      <td>14.24</td>\n",
              "      <td>14.27</td>\n",
              "      <td>14.27</td>\n",
              "      <td>14011200.0</td>\n",
              "      <td>-0.006959</td>\n",
              "      <td>May</td>\n",
              "      <td>May-2007</td>\n",
              "      <td>5</td>\n",
              "    </tr>\n",
              "  </tbody>\n",
              "</table>\n",
              "</div>"
            ],
            "text/plain": [
              "        Date   Open   High    Low  ...   Returns  Month_Name  Month_Name_Year  Month\n",
              "0 2007-01-31  15.83  15.89  15.52  ... -0.015199         Jan         Jan-2007      1\n",
              "1 2007-02-28  15.30  15.30  14.96  ... -0.000663         Feb         Feb-2007      2\n",
              "2 2007-03-30  13.09  13.18  12.97  ... -0.001529         Mar         Mar-2007      3\n",
              "3 2007-04-30  14.27  14.28  13.81  ... -0.034916         Apr         Apr-2007      4\n",
              "4 2007-05-31  14.43  14.43  14.24  ... -0.006959         May         May-2007      5\n",
              "\n",
              "[5 rows x 11 columns]"
            ]
          },
          "metadata": {
            "tags": []
          },
          "execution_count": 11
        }
      ]
    },
    {
      "cell_type": "code",
      "metadata": {
        "id": "fAoWNzEJT_do",
        "colab_type": "code",
        "colab": {
          "base_uri": "https://localhost:8080/",
          "height": 316
        },
        "outputId": "af1011bf-1da3-40c4-ddd7-04a5e1589723"
      },
      "source": [
        "monthly.tail()"
      ],
      "execution_count": 12,
      "outputs": [
        {
          "output_type": "execute_result",
          "data": {
            "text/html": [
              "<div>\n",
              "<style scoped>\n",
              "    .dataframe tbody tr th:only-of-type {\n",
              "        vertical-align: middle;\n",
              "    }\n",
              "\n",
              "    .dataframe tbody tr th {\n",
              "        vertical-align: top;\n",
              "    }\n",
              "\n",
              "    .dataframe thead th {\n",
              "        text-align: right;\n",
              "    }\n",
              "</style>\n",
              "<table border=\"1\" class=\"dataframe\">\n",
              "  <thead>\n",
              "    <tr style=\"text-align: right;\">\n",
              "      <th></th>\n",
              "      <th>Date</th>\n",
              "      <th>Open</th>\n",
              "      <th>High</th>\n",
              "      <th>Low</th>\n",
              "      <th>Close</th>\n",
              "      <th>Adj Close</th>\n",
              "      <th>Volume</th>\n",
              "      <th>Returns</th>\n",
              "      <th>Month_Name</th>\n",
              "      <th>Month_Name_Year</th>\n",
              "      <th>Month</th>\n",
              "    </tr>\n",
              "  </thead>\n",
              "  <tbody>\n",
              "    <tr>\n",
              "      <th>139</th>\n",
              "      <td>2018-08-31</td>\n",
              "      <td>24.889999</td>\n",
              "      <td>25.240000</td>\n",
              "      <td>24.719999</td>\n",
              "      <td>25.170000</td>\n",
              "      <td>25.170000</td>\n",
              "      <td>65206400.0</td>\n",
              "      <td>0.011250</td>\n",
              "      <td>Aug</td>\n",
              "      <td>Aug-2018</td>\n",
              "      <td>8</td>\n",
              "    </tr>\n",
              "    <tr>\n",
              "      <th>140</th>\n",
              "      <td>2018-09-28</td>\n",
              "      <td>32.240002</td>\n",
              "      <td>32.779999</td>\n",
              "      <td>29.980000</td>\n",
              "      <td>30.889999</td>\n",
              "      <td>30.889999</td>\n",
              "      <td>165453500.0</td>\n",
              "      <td>-0.052163</td>\n",
              "      <td>Sep</td>\n",
              "      <td>Sep-2018</td>\n",
              "      <td>9</td>\n",
              "    </tr>\n",
              "    <tr>\n",
              "      <th>141</th>\n",
              "      <td>2018-10-31</td>\n",
              "      <td>17.870001</td>\n",
              "      <td>18.340000</td>\n",
              "      <td>17.120001</td>\n",
              "      <td>18.209999</td>\n",
              "      <td>18.209999</td>\n",
              "      <td>110463700.0</td>\n",
              "      <td>0.058721</td>\n",
              "      <td>Oct</td>\n",
              "      <td>Oct-2018</td>\n",
              "      <td>10</td>\n",
              "    </tr>\n",
              "    <tr>\n",
              "      <th>142</th>\n",
              "      <td>2018-11-30</td>\n",
              "      <td>21.299999</td>\n",
              "      <td>21.360001</td>\n",
              "      <td>20.520000</td>\n",
              "      <td>21.299999</td>\n",
              "      <td>21.299999</td>\n",
              "      <td>82370700.0</td>\n",
              "      <td>-0.006066</td>\n",
              "      <td>Nov</td>\n",
              "      <td>Nov-2018</td>\n",
              "      <td>11</td>\n",
              "    </tr>\n",
              "    <tr>\n",
              "      <th>143</th>\n",
              "      <td>2018-12-31</td>\n",
              "      <td>18.150000</td>\n",
              "      <td>18.510000</td>\n",
              "      <td>17.850000</td>\n",
              "      <td>18.459999</td>\n",
              "      <td>18.459999</td>\n",
              "      <td>84732200.0</td>\n",
              "      <td>0.035915</td>\n",
              "      <td>Dec</td>\n",
              "      <td>Dec-2018</td>\n",
              "      <td>12</td>\n",
              "    </tr>\n",
              "  </tbody>\n",
              "</table>\n",
              "</div>"
            ],
            "text/plain": [
              "          Date       Open       High  ...  Month_Name  Month_Name_Year  Month\n",
              "139 2018-08-31  24.889999  25.240000  ...         Aug         Aug-2018      8\n",
              "140 2018-09-28  32.240002  32.779999  ...         Sep         Sep-2018      9\n",
              "141 2018-10-31  17.870001  18.340000  ...         Oct         Oct-2018     10\n",
              "142 2018-11-30  21.299999  21.360001  ...         Nov         Nov-2018     11\n",
              "143 2018-12-31  18.150000  18.510000  ...         Dec         Dec-2018     12\n",
              "\n",
              "[5 rows x 11 columns]"
            ]
          },
          "metadata": {
            "tags": []
          },
          "execution_count": 12
        }
      ]
    },
    {
      "cell_type": "code",
      "metadata": {
        "id": "J0-lvovfUEDp",
        "colab_type": "code",
        "colab": {
          "base_uri": "https://localhost:8080/",
          "height": 163
        },
        "outputId": "f4b91ed3-8aff-4c2d-8b9f-ff1ea3e8f722"
      },
      "source": [
        "monthly['Returns'].plot(kind='bar', figsize=(30,6))\n",
        "plt.xlabel(\"Months\")\n",
        "plt.ylabel(\"Returns\")\n",
        "plt.title(\"Returns for Each Month\")\n",
        "plt.show()"
      ],
      "execution_count": 13,
      "outputs": [
        {
          "output_type": "display_data",
          "data": {
            "image/png": "[encoded data removed]",
            "text/plain": [
              "<Figure size 3000x600 with 1 Axes>"
            ]
          },
          "metadata": {
            "tags": []
          }
        }
      ]
    },
    {
      "cell_type": "code",
      "metadata": {
        "id": "G_Kl4opLUEHC",
        "colab_type": "code",
        "colab": {
          "base_uri": "https://localhost:8080/",
          "height": 163
        },
        "outputId": "7708a5a0-f9ec-4286-e8b3-6367d3e8611f"
      },
      "source": [
        "monthly['Returns'].plot(kind='bar', figsize=(30,6))\n",
        "plt.xlabel(\"Months\")\n",
        "plt.ylabel(\"Returns\")\n",
        "plt.title(\"Returns for Each Month\")\n",
        "plt.xticks(monthly.index, monthly['Month_Name'])\n",
        "plt.show()"
      ],
      "execution_count": 14,
      "outputs": [
        {
          "output_type": "display_data",
          "data": {
            "image/png": "[encoded data removed]",
            "text/plain": [
              "<Figure size 3000x600 with 1 Axes>"
            ]
          },
          "metadata": {
            "tags": []
          }
        }
      ]
    },
    {
      "cell_type": "code",
      "metadata": {
        "id": "KPPYi9D5UEJk",
        "colab_type": "code",
        "colab": {}
      },
      "source": [
        "from matplotlib import dates as mdates\n",
        "import datetime as dt\n",
        "\n",
        "monthly['ReturnsPositive'] = 0 < monthly['Returns']\n",
        "monthly['Date'] = pd.to_datetime(monthly['Date'])\n",
        "monthly['Date'] = monthly['Date'].apply(mdates.date2num)"
      ],
      "execution_count": 15,
      "outputs": []
    },
    {
      "cell_type": "code",
      "metadata": {
        "id": "aYOMJjEUUEOC",
        "colab_type": "code",
        "colab": {
          "base_uri": "https://localhost:8080/",
          "height": 163
        },
        "outputId": "9cafb8dd-a1ad-41cb-dacc-b75f1fbf63f6"
      },
      "source": [
        "colors = monthly.ReturnsPositive.map({True: 'g', False: 'r'})\n",
        "monthly['Returns'].plot(kind='bar', color = colors, figsize=(30,6))\n",
        "plt.xlabel(\"Months\")\n",
        "plt.ylabel(\"Returns\")\n",
        "plt.title(\"Returns for Each Month \" + start + ' to ' + end)\n",
        "plt.xticks(monthly.index, monthly['Month_Name'])\n",
        "plt.show()"
      ],
      "execution_count": 16,
      "outputs": [
        {
          "output_type": "display_data",
          "data": {
            "image/png": "[encoded data removed]",
            "text/plain": [
              "<Figure size 3000x600 with 1 Axes>"
            ]
          },
          "metadata": {
            "tags": []
          }
        }
      ]
    },
    {
      "cell_type": "code",
      "metadata": {
        "id": "qNh1hFYfUMWm",
        "colab_type": "code",
        "colab": {}
      },
      "source": [
        "yearly = dataset.asfreq('BY')\n",
        "yearly['Returns'] = dataset['Adj Close'].pct_change().dropna()"
      ],
      "execution_count": 17,
      "outputs": []
    },
    {
      "cell_type": "code",
      "metadata": {
        "id": "Oi3hYOOaUMfN",
        "colab_type": "code",
        "colab": {
          "base_uri": "https://localhost:8080/",
          "height": 432
        },
        "outputId": "1af7aaf3-182b-49ab-fb0d-12c1d979b9f0"
      },
      "source": [
        "yearly"
      ],
      "execution_count": 18,
      "outputs": [
        {
          "output_type": "execute_result",
          "data": {
            "text/html": [
              "<div>\n",
              "<style scoped>\n",
              "    .dataframe tbody tr th:only-of-type {\n",
              "        vertical-align: middle;\n",
              "    }\n",
              "\n",
              "    .dataframe tbody tr th {\n",
              "        vertical-align: top;\n",
              "    }\n",
              "\n",
              "    .dataframe thead th {\n",
              "        text-align: right;\n",
              "    }\n",
              "</style>\n",
              "<table border=\"1\" class=\"dataframe\">\n",
              "  <thead>\n",
              "    <tr style=\"text-align: right;\">\n",
              "      <th></th>\n",
              "      <th>Open</th>\n",
              "      <th>High</th>\n",
              "      <th>Low</th>\n",
              "      <th>Close</th>\n",
              "      <th>Adj Close</th>\n",
              "      <th>Volume</th>\n",
              "      <th>Returns</th>\n",
              "    </tr>\n",
              "    <tr>\n",
              "      <th>Date</th>\n",
              "      <th></th>\n",
              "      <th></th>\n",
              "      <th></th>\n",
              "      <th></th>\n",
              "      <th></th>\n",
              "      <th></th>\n",
              "      <th></th>\n",
              "    </tr>\n",
              "  </thead>\n",
              "  <tbody>\n",
              "    <tr>\n",
              "      <th>2007-12-31</th>\n",
              "      <td>7.26</td>\n",
              "      <td>7.60</td>\n",
              "      <td>7.26</td>\n",
              "      <td>7.500000</td>\n",
              "      <td>7.500000</td>\n",
              "      <td>19668800</td>\n",
              "      <td>0.024590</td>\n",
              "    </tr>\n",
              "    <tr>\n",
              "      <th>2008-12-31</th>\n",
              "      <td>2.20</td>\n",
              "      <td>2.20</td>\n",
              "      <td>2.11</td>\n",
              "      <td>2.160000</td>\n",
              "      <td>2.160000</td>\n",
              "      <td>10226500</td>\n",
              "      <td>-0.022624</td>\n",
              "    </tr>\n",
              "    <tr>\n",
              "      <th>2009-12-31</th>\n",
              "      <td>9.75</td>\n",
              "      <td>9.77</td>\n",
              "      <td>9.63</td>\n",
              "      <td>9.680000</td>\n",
              "      <td>9.680000</td>\n",
              "      <td>9396500</td>\n",
              "      <td>-0.004115</td>\n",
              "    </tr>\n",
              "    <tr>\n",
              "      <th>2010-12-31</th>\n",
              "      <td>8.14</td>\n",
              "      <td>8.19</td>\n",
              "      <td>8.05</td>\n",
              "      <td>8.180000</td>\n",
              "      <td>8.180000</td>\n",
              "      <td>7971200</td>\n",
              "      <td>0.004914</td>\n",
              "    </tr>\n",
              "    <tr>\n",
              "      <th>2011-12-30</th>\n",
              "      <td>5.34</td>\n",
              "      <td>5.45</td>\n",
              "      <td>5.28</td>\n",
              "      <td>5.400000</td>\n",
              "      <td>5.400000</td>\n",
              "      <td>6906000</td>\n",
              "      <td>0.011236</td>\n",
              "    </tr>\n",
              "    <tr>\n",
              "      <th>2012-12-31</th>\n",
              "      <td>2.29</td>\n",
              "      <td>2.42</td>\n",
              "      <td>2.28</td>\n",
              "      <td>2.400000</td>\n",
              "      <td>2.400000</td>\n",
              "      <td>20698200</td>\n",
              "      <td>0.052632</td>\n",
              "    </tr>\n",
              "    <tr>\n",
              "      <th>2013-12-31</th>\n",
              "      <td>3.87</td>\n",
              "      <td>3.88</td>\n",
              "      <td>3.83</td>\n",
              "      <td>3.870000</td>\n",
              "      <td>3.870000</td>\n",
              "      <td>12347800</td>\n",
              "      <td>0.005195</td>\n",
              "    </tr>\n",
              "    <tr>\n",
              "      <th>2014-12-31</th>\n",
              "      <td>2.64</td>\n",
              "      <td>2.70</td>\n",
              "      <td>2.64</td>\n",
              "      <td>2.670000</td>\n",
              "      <td>2.670000</td>\n",
              "      <td>11177900</td>\n",
              "      <td>0.015209</td>\n",
              "    </tr>\n",
              "    <tr>\n",
              "      <th>2015-12-31</th>\n",
              "      <td>2.97</td>\n",
              "      <td>3.01</td>\n",
              "      <td>2.87</td>\n",
              "      <td>2.870000</td>\n",
              "      <td>2.870000</td>\n",
              "      <td>11086100</td>\n",
              "      <td>-0.036913</td>\n",
              "    </tr>\n",
              "    <tr>\n",
              "      <th>2016-12-30</th>\n",
              "      <td>11.70</td>\n",
              "      <td>11.78</td>\n",
              "      <td>11.25</td>\n",
              "      <td>11.340000</td>\n",
              "      <td>11.340000</td>\n",
              "      <td>44095400</td>\n",
              "      <td>-0.021570</td>\n",
              "    </tr>\n",
              "    <tr>\n",
              "      <th>2017-12-29</th>\n",
              "      <td>10.57</td>\n",
              "      <td>10.58</td>\n",
              "      <td>10.27</td>\n",
              "      <td>10.280000</td>\n",
              "      <td>10.280000</td>\n",
              "      <td>26678900</td>\n",
              "      <td>-0.025592</td>\n",
              "    </tr>\n",
              "    <tr>\n",
              "      <th>2018-12-31</th>\n",
              "      <td>18.15</td>\n",
              "      <td>18.51</td>\n",
              "      <td>17.85</td>\n",
              "      <td>18.459999</td>\n",
              "      <td>18.459999</td>\n",
              "      <td>84732200</td>\n",
              "      <td>0.035915</td>\n",
              "    </tr>\n",
              "  </tbody>\n",
              "</table>\n",
              "</div>"
            ],
            "text/plain": [
              "             Open   High    Low      Close  Adj Close    Volume   Returns\n",
              "Date                                                                     \n",
              "2007-12-31   7.26   7.60   7.26   7.500000   7.500000  19668800  0.024590\n",
              "2008-12-31   2.20   2.20   2.11   2.160000   2.160000  10226500 -0.022624\n",
              "2009-12-31   9.75   9.77   9.63   9.680000   9.680000   9396500 -0.004115\n",
              "2010-12-31   8.14   8.19   8.05   8.180000   8.180000   7971200  0.004914\n",
              "2011-12-30   5.34   5.45   5.28   5.400000   5.400000   6906000  0.011236\n",
              "2012-12-31   2.29   2.42   2.28   2.400000   2.400000  20698200  0.052632\n",
              "2013-12-31   3.87   3.88   3.83   3.870000   3.870000  12347800  0.005195\n",
              "2014-12-31   2.64   2.70   2.64   2.670000   2.670000  11177900  0.015209\n",
              "2015-12-31   2.97   3.01   2.87   2.870000   2.870000  11086100 -0.036913\n",
              "2016-12-30  11.70  11.78  11.25  11.340000  11.340000  44095400 -0.021570\n",
              "2017-12-29  10.57  10.58  10.27  10.280000  10.280000  26678900 -0.025592\n",
              "2018-12-31  18.15  18.51  17.85  18.459999  18.459999  84732200  0.035915"
            ]
          },
          "metadata": {
            "tags": []
          },
          "execution_count": 18
        }
      ]
    },
    {
      "cell_type": "code",
      "metadata": {
        "id": "N7N7tDl3UMhr",
        "colab_type": "code",
        "colab": {}
      },
      "source": [
        "yearly = yearly.reset_index()"
      ],
      "execution_count": 19,
      "outputs": []
    },
    {
      "cell_type": "code",
      "metadata": {
        "id": "g0RbCaHoUMlv",
        "colab_type": "code",
        "colab": {
          "base_uri": "https://localhost:8080/",
          "height": 402
        },
        "outputId": "4cd9d952-8fe1-4913-c0fd-e6165f65629a"
      },
      "source": [
        "yearly"
      ],
      "execution_count": 20,
      "outputs": [
        {
          "output_type": "execute_result",
          "data": {
            "text/html": [
              "<div>\n",
              "<style scoped>\n",
              "    .dataframe tbody tr th:only-of-type {\n",
              "        vertical-align: middle;\n",
              "    }\n",
              "\n",
              "    .dataframe tbody tr th {\n",
              "        vertical-align: top;\n",
              "    }\n",
              "\n",
              "    .dataframe thead th {\n",
              "        text-align: right;\n",
              "    }\n",
              "</style>\n",
              "<table border=\"1\" class=\"dataframe\">\n",
              "  <thead>\n",
              "    <tr style=\"text-align: right;\">\n",
              "      <th></th>\n",
              "      <th>Date</th>\n",
              "      <th>Open</th>\n",
              "      <th>High</th>\n",
              "      <th>Low</th>\n",
              "      <th>Close</th>\n",
              "      <th>Adj Close</th>\n",
              "      <th>Volume</th>\n",
              "      <th>Returns</th>\n",
              "    </tr>\n",
              "  </thead>\n",
              "  <tbody>\n",
              "    <tr>\n",
              "      <th>0</th>\n",
              "      <td>2007-12-31</td>\n",
              "      <td>7.26</td>\n",
              "      <td>7.60</td>\n",
              "      <td>7.26</td>\n",
              "      <td>7.500000</td>\n",
              "      <td>7.500000</td>\n",
              "      <td>19668800</td>\n",
              "      <td>0.024590</td>\n",
              "    </tr>\n",
              "    <tr>\n",
              "      <th>1</th>\n",
              "      <td>2008-12-31</td>\n",
              "      <td>2.20</td>\n",
              "      <td>2.20</td>\n",
              "      <td>2.11</td>\n",
              "      <td>2.160000</td>\n",
              "      <td>2.160000</td>\n",
              "      <td>10226500</td>\n",
              "      <td>-0.022624</td>\n",
              "    </tr>\n",
              "    <tr>\n",
              "      <th>2</th>\n",
              "      <td>2009-12-31</td>\n",
              "      <td>9.75</td>\n",
              "      <td>9.77</td>\n",
              "      <td>9.63</td>\n",
              "      <td>9.680000</td>\n",
              "      <td>9.680000</td>\n",
              "      <td>9396500</td>\n",
              "      <td>-0.004115</td>\n",
              "    </tr>\n",
              "    <tr>\n",
              "      <th>3</th>\n",
              "      <td>2010-12-31</td>\n",
              "      <td>8.14</td>\n",
              "      <td>8.19</td>\n",
              "      <td>8.05</td>\n",
              "      <td>8.180000</td>\n",
              "      <td>8.180000</td>\n",
              "      <td>7971200</td>\n",
              "      <td>0.004914</td>\n",
              "    </tr>\n",
              "    <tr>\n",
              "      <th>4</th>\n",
              "      <td>2011-12-30</td>\n",
              "      <td>5.34</td>\n",
              "      <td>5.45</td>\n",
              "      <td>5.28</td>\n",
              "      <td>5.400000</td>\n",
              "      <td>5.400000</td>\n",
              "      <td>6906000</td>\n",
              "      <td>0.011236</td>\n",
              "    </tr>\n",
              "    <tr>\n",
              "      <th>5</th>\n",
              "      <td>2012-12-31</td>\n",
              "      <td>2.29</td>\n",
              "      <td>2.42</td>\n",
              "      <td>2.28</td>\n",
              "      <td>2.400000</td>\n",
              "      <td>2.400000</td>\n",
              "      <td>20698200</td>\n",
              "      <td>0.052632</td>\n",
              "    </tr>\n",
              "    <tr>\n",
              "      <th>6</th>\n",
              "      <td>2013-12-31</td>\n",
              "      <td>3.87</td>\n",
              "      <td>3.88</td>\n",
              "      <td>3.83</td>\n",
              "      <td>3.870000</td>\n",
              "      <td>3.870000</td>\n",
              "      <td>12347800</td>\n",
              "      <td>0.005195</td>\n",
              "    </tr>\n",
              "    <tr>\n",
              "      <th>7</th>\n",
              "      <td>2014-12-31</td>\n",
              "      <td>2.64</td>\n",
              "      <td>2.70</td>\n",
              "      <td>2.64</td>\n",
              "      <td>2.670000</td>\n",
              "      <td>2.670000</td>\n",
              "      <td>11177900</td>\n",
              "      <td>0.015209</td>\n",
              "    </tr>\n",
              "    <tr>\n",
              "      <th>8</th>\n",
              "      <td>2015-12-31</td>\n",
              "      <td>2.97</td>\n",
              "      <td>3.01</td>\n",
              "      <td>2.87</td>\n",
              "      <td>2.870000</td>\n",
              "      <td>2.870000</td>\n",
              "      <td>11086100</td>\n",
              "      <td>-0.036913</td>\n",
              "    </tr>\n",
              "    <tr>\n",
              "      <th>9</th>\n",
              "      <td>2016-12-30</td>\n",
              "      <td>11.70</td>\n",
              "      <td>11.78</td>\n",
              "      <td>11.25</td>\n",
              "      <td>11.340000</td>\n",
              "      <td>11.340000</td>\n",
              "      <td>44095400</td>\n",
              "      <td>-0.021570</td>\n",
              "    </tr>\n",
              "    <tr>\n",
              "      <th>10</th>\n",
              "      <td>2017-12-29</td>\n",
              "      <td>10.57</td>\n",
              "      <td>10.58</td>\n",
              "      <td>10.27</td>\n",
              "      <td>10.280000</td>\n",
              "      <td>10.280000</td>\n",
              "      <td>26678900</td>\n",
              "      <td>-0.025592</td>\n",
              "    </tr>\n",
              "    <tr>\n",
              "      <th>11</th>\n",
              "      <td>2018-12-31</td>\n",
              "      <td>18.15</td>\n",
              "      <td>18.51</td>\n",
              "      <td>17.85</td>\n",
              "      <td>18.459999</td>\n",
              "      <td>18.459999</td>\n",
              "      <td>84732200</td>\n",
              "      <td>0.035915</td>\n",
              "    </tr>\n",
              "  </tbody>\n",
              "</table>\n",
              "</div>"
            ],
            "text/plain": [
              "         Date   Open   High    Low      Close  Adj Close    Volume   Returns\n",
              "0  2007-12-31   7.26   7.60   7.26   7.500000   7.500000  19668800  0.024590\n",
              "1  2008-12-31   2.20   2.20   2.11   2.160000   2.160000  10226500 -0.022624\n",
              "2  2009-12-31   9.75   9.77   9.63   9.680000   9.680000   9396500 -0.004115\n",
              "3  2010-12-31   8.14   8.19   8.05   8.180000   8.180000   7971200  0.004914\n",
              "4  2011-12-30   5.34   5.45   5.28   5.400000   5.400000   6906000  0.011236\n",
              "5  2012-12-31   2.29   2.42   2.28   2.400000   2.400000  20698200  0.052632\n",
              "6  2013-12-31   3.87   3.88   3.83   3.870000   3.870000  12347800  0.005195\n",
              "7  2014-12-31   2.64   2.70   2.64   2.670000   2.670000  11177900  0.015209\n",
              "8  2015-12-31   2.97   3.01   2.87   2.870000   2.870000  11086100 -0.036913\n",
              "9  2016-12-30  11.70  11.78  11.25  11.340000  11.340000  44095400 -0.021570\n",
              "10 2017-12-29  10.57  10.58  10.27  10.280000  10.280000  26678900 -0.025592\n",
              "11 2018-12-31  18.15  18.51  17.85  18.459999  18.459999  84732200  0.035915"
            ]
          },
          "metadata": {
            "tags": []
          },
          "execution_count": 20
        }
      ]
    },
    {
      "cell_type": "code",
      "metadata": {
        "id": "M4CuUU8JUMum",
        "colab_type": "code",
        "colab": {}
      },
      "source": [
        "yearly['Years'] = yearly['Date'].dt.year"
      ],
      "execution_count": 21,
      "outputs": []
    },
    {
      "cell_type": "code",
      "metadata": {
        "id": "YF36MLKNUWWf",
        "colab_type": "code",
        "colab": {
          "base_uri": "https://localhost:8080/",
          "height": 621
        },
        "outputId": "45c6a675-8424-4d32-99a2-b0cb23a83da4"
      },
      "source": [
        "yearly"
      ],
      "execution_count": 22,
      "outputs": [
        {
          "output_type": "execute_result",
          "data": {
            "text/html": [
              "<div>\n",
              "<style scoped>\n",
              "    .dataframe tbody tr th:only-of-type {\n",
              "        vertical-align: middle;\n",
              "    }\n",
              "\n",
              "    .dataframe tbody tr th {\n",
              "        vertical-align: top;\n",
              "    }\n",
              "\n",
              "    .dataframe thead th {\n",
              "        text-align: right;\n",
              "    }\n",
              "</style>\n",
              "<table border=\"1\" class=\"dataframe\">\n",
              "  <thead>\n",
              "    <tr style=\"text-align: right;\">\n",
              "      <th></th>\n",
              "      <th>Date</th>\n",
              "      <th>Open</th>\n",
              "      <th>High</th>\n",
              "      <th>Low</th>\n",
              "      <th>Close</th>\n",
              "      <th>Adj Close</th>\n",
              "      <th>Volume</th>\n",
              "      <th>Returns</th>\n",
              "      <th>Years</th>\n",
              "    </tr>\n",
              "  </thead>\n",
              "  <tbody>\n",
              "    <tr>\n",
              "      <th>0</th>\n",
              "      <td>2007-12-31</td>\n",
              "      <td>7.26</td>\n",
              "      <td>7.60</td>\n",
              "      <td>7.26</td>\n",
              "      <td>7.500000</td>\n",
              "      <td>7.500000</td>\n",
              "      <td>19668800</td>\n",
              "      <td>0.024590</td>\n",
              "      <td>2007</td>\n",
              "    </tr>\n",
              "    <tr>\n",
              "      <th>1</th>\n",
              "      <td>2008-12-31</td>\n",
              "      <td>2.20</td>\n",
              "      <td>2.20</td>\n",
              "      <td>2.11</td>\n",
              "      <td>2.160000</td>\n",
              "      <td>2.160000</td>\n",
              "      <td>10226500</td>\n",
              "      <td>-0.022624</td>\n",
              "      <td>2008</td>\n",
              "    </tr>\n",
              "    <tr>\n",
              "      <th>2</th>\n",
              "      <td>2009-12-31</td>\n",
              "      <td>9.75</td>\n",
              "      <td>9.77</td>\n",
              "      <td>9.63</td>\n",
              "      <td>9.680000</td>\n",
              "      <td>9.680000</td>\n",
              "      <td>9396500</td>\n",
              "      <td>-0.004115</td>\n",
              "      <td>2009</td>\n",
              "    </tr>\n",
              "    <tr>\n",
              "      <th>3</th>\n",
              "      <td>2010-12-31</td>\n",
              "      <td>8.14</td>\n",
              "      <td>8.19</td>\n",
              "      <td>8.05</td>\n",
              "      <td>8.180000</td>\n",
              "      <td>8.180000</td>\n",
              "      <td>7971200</td>\n",
              "      <td>0.004914</td>\n",
              "      <td>2010</td>\n",
              "    </tr>\n",
              "    <tr>\n",
              "      <th>4</th>\n",
              "      <td>2011-12-30</td>\n",
              "      <td>5.34</td>\n",
              "      <td>5.45</td>\n",
              "      <td>5.28</td>\n",
              "      <td>5.400000</td>\n",
              "      <td>5.400000</td>\n",
              "      <td>6906000</td>\n",
              "      <td>0.011236</td>\n",
              "      <td>2011</td>\n",
              "    </tr>\n",
              "    <tr>\n",
              "      <th>5</th>\n",
              "      <td>2012-12-31</td>\n",
              "      <td>2.29</td>\n",
              "      <td>2.42</td>\n",
              "      <td>2.28</td>\n",
              "      <td>2.400000</td>\n",
              "      <td>2.400000</td>\n",
              "      <td>20698200</td>\n",
              "      <td>0.052632</td>\n",
              "      <td>2012</td>\n",
              "    </tr>\n",
              "    <tr>\n",
              "      <th>6</th>\n",
              "      <td>2013-12-31</td>\n",
              "      <td>3.87</td>\n",
              "      <td>3.88</td>\n",
              "      <td>3.83</td>\n",
              "      <td>3.870000</td>\n",
              "      <td>3.870000</td>\n",
              "      <td>12347800</td>\n",
              "      <td>0.005195</td>\n",
              "      <td>2013</td>\n",
              "    </tr>\n",
              "    <tr>\n",
              "      <th>7</th>\n",
              "      <td>2014-12-31</td>\n",
              "      <td>2.64</td>\n",
              "      <td>2.70</td>\n",
              "      <td>2.64</td>\n",
              "      <td>2.670000</td>\n",
              "      <td>2.670000</td>\n",
              "      <td>11177900</td>\n",
              "      <td>0.015209</td>\n",
              "      <td>2014</td>\n",
              "    </tr>\n",
              "    <tr>\n",
              "      <th>8</th>\n",
              "      <td>2015-12-31</td>\n",
              "      <td>2.97</td>\n",
              "      <td>3.01</td>\n",
              "      <td>2.87</td>\n",
              "      <td>2.870000</td>\n",
              "      <td>2.870000</td>\n",
              "      <td>11086100</td>\n",
              "      <td>-0.036913</td>\n",
              "      <td>2015</td>\n",
              "    </tr>\n",
              "    <tr>\n",
              "      <th>9</th>\n",
              "      <td>2016-12-30</td>\n",
              "      <td>11.70</td>\n",
              "      <td>11.78</td>\n",
              "      <td>11.25</td>\n",
              "      <td>11.340000</td>\n",
              "      <td>11.340000</td>\n",
              "      <td>44095400</td>\n",
              "      <td>-0.021570</td>\n",
              "      <td>2016</td>\n",
              "    </tr>\n",
              "    <tr>\n",
              "      <th>10</th>\n",
              "      <td>2017-12-29</td>\n",
              "      <td>10.57</td>\n",
              "      <td>10.58</td>\n",
              "      <td>10.27</td>\n",
              "      <td>10.280000</td>\n",
              "      <td>10.280000</td>\n",
              "      <td>26678900</td>\n",
              "      <td>-0.025592</td>\n",
              "      <td>2017</td>\n",
              "    </tr>\n",
              "    <tr>\n",
              "      <th>11</th>\n",
              "      <td>2018-12-31</td>\n",
              "      <td>18.15</td>\n",
              "      <td>18.51</td>\n",
              "      <td>17.85</td>\n",
              "      <td>18.459999</td>\n",
              "      <td>18.459999</td>\n",
              "      <td>84732200</td>\n",
              "      <td>0.035915</td>\n",
              "      <td>2018</td>\n",
              "    </tr>\n",
              "  </tbody>\n",
              "</table>\n",
              "</div>"
            ],
            "text/plain": [
              "         Date   Open   High    Low  ...  Adj Close    Volume   Returns  Years\n",
              "0  2007-12-31   7.26   7.60   7.26  ...   7.500000  19668800  0.024590   2007\n",
              "1  2008-12-31   2.20   2.20   2.11  ...   2.160000  10226500 -0.022624   2008\n",
              "2  2009-12-31   9.75   9.77   9.63  ...   9.680000   9396500 -0.004115   2009\n",
              "3  2010-12-31   8.14   8.19   8.05  ...   8.180000   7971200  0.004914   2010\n",
              "4  2011-12-30   5.34   5.45   5.28  ...   5.400000   6906000  0.011236   2011\n",
              "5  2012-12-31   2.29   2.42   2.28  ...   2.400000  20698200  0.052632   2012\n",
              "6  2013-12-31   3.87   3.88   3.83  ...   3.870000  12347800  0.005195   2013\n",
              "7  2014-12-31   2.64   2.70   2.64  ...   2.670000  11177900  0.015209   2014\n",
              "8  2015-12-31   2.97   3.01   2.87  ...   2.870000  11086100 -0.036913   2015\n",
              "9  2016-12-30  11.70  11.78  11.25  ...  11.340000  44095400 -0.021570   2016\n",
              "10 2017-12-29  10.57  10.58  10.27  ...  10.280000  26678900 -0.025592   2017\n",
              "11 2018-12-31  18.15  18.51  17.85  ...  18.459999  84732200  0.035915   2018\n",
              "\n",
              "[12 rows x 9 columns]"
            ]
          },
          "metadata": {
            "tags": []
          },
          "execution_count": 22
        }
      ]
    },
    {
      "cell_type": "code",
      "metadata": {
        "id": "WADynDuUUWeH",
        "colab_type": "code",
        "colab": {
          "base_uri": "https://localhost:8080/",
          "height": 358
        },
        "outputId": "7661ecea-4480-4907-ff9b-8b67089f03d2"
      },
      "source": [
        "plt.figure(figsize=(10,5))\n",
        "plt.bar(yearly['Years'], yearly['Returns'], align='center')\n",
        "plt.title('Yearly Returns')\n",
        "plt.xlabel('Date')\n",
        "plt.ylabel('Returns')\n",
        "plt.show()"
      ],
      "execution_count": 23,
      "outputs": [
        {
          "output_type": "display_data",
          "data": {
            "image/png": "[encoded data removed]",
            "text/plain": [
              "<Figure size 1000x500 with 1 Axes>"
            ]
          },
          "metadata": {
            "tags": []
          }
        }
      ]
    },
    {
      "cell_type": "code",
      "metadata": {
        "id": "QRRzATHdUWi8",
        "colab_type": "code",
        "colab": {}
      },
      "source": [
        "from matplotlib import dates as mdates\n",
        "import datetime as dt\n",
        "\n",
        "yearly['ReturnsPositive'] = 0 < yearly['Returns']\n",
        "yearly['Date'] = pd.to_datetime(yearly['Date'])\n",
        "yearly['Date'] = yearly['Date'].apply(mdates.date2num)"
      ],
      "execution_count": 24,
      "outputs": []
    },
    {
      "cell_type": "code",
      "metadata": {
        "id": "JlphRImOUWpO",
        "colab_type": "code",
        "colab": {
          "base_uri": "https://localhost:8080/",
          "height": 439
        },
        "outputId": "89196b68-6df9-4488-8cd9-9db4900568e3"
      },
      "source": [
        "yearly"
      ],
      "execution_count": 25,
      "outputs": [
        {
          "output_type": "execute_result",
          "data": {
            "text/html": [
              "<div>\n",
              "<style scoped>\n",
              "    .dataframe tbody tr th:only-of-type {\n",
              "        vertical-align: middle;\n",
              "    }\n",
              "\n",
              "    .dataframe tbody tr th {\n",
              "        vertical-align: top;\n",
              "    }\n",
              "\n",
              "    .dataframe thead th {\n",
              "        text-align: right;\n",
              "    }\n",
              "</style>\n",
              "<table border=\"1\" class=\"dataframe\">\n",
              "  <thead>\n",
              "    <tr style=\"text-align: right;\">\n",
              "      <th></th>\n",
              "      <th>Date</th>\n",
              "      <th>Open</th>\n",
              "      <th>High</th>\n",
              "      <th>Low</th>\n",
              "      <th>Close</th>\n",
              "      <th>Adj Close</th>\n",
              "      <th>Volume</th>\n",
              "      <th>Returns</th>\n",
              "      <th>Years</th>\n",
              "      <th>ReturnsPositive</th>\n",
              "    </tr>\n",
              "  </thead>\n",
              "  <tbody>\n",
              "    <tr>\n",
              "      <th>0</th>\n",
              "      <td>733041.0</td>\n",
              "      <td>7.26</td>\n",
              "      <td>7.60</td>\n",
              "      <td>7.26</td>\n",
              "      <td>7.500000</td>\n",
              "      <td>7.500000</td>\n",
              "      <td>19668800</td>\n",
              "      <td>0.024590</td>\n",
              "      <td>2007</td>\n",
              "      <td>True</td>\n",
              "    </tr>\n",
              "    <tr>\n",
              "      <th>1</th>\n",
              "      <td>733407.0</td>\n",
              "      <td>2.20</td>\n",
              "      <td>2.20</td>\n",
              "      <td>2.11</td>\n",
              "      <td>2.160000</td>\n",
              "      <td>2.160000</td>\n",
              "      <td>10226500</td>\n",
              "      <td>-0.022624</td>\n",
              "      <td>2008</td>\n",
              "      <td>False</td>\n",
              "    </tr>\n",
              "    <tr>\n",
              "      <th>2</th>\n",
              "      <td>733772.0</td>\n",
              "      <td>9.75</td>\n",
              "      <td>9.77</td>\n",
              "      <td>9.63</td>\n",
              "      <td>9.680000</td>\n",
              "      <td>9.680000</td>\n",
              "      <td>9396500</td>\n",
              "      <td>-0.004115</td>\n",
              "      <td>2009</td>\n",
              "      <td>False</td>\n",
              "    </tr>\n",
              "    <tr>\n",
              "      <th>3</th>\n",
              "      <td>734137.0</td>\n",
              "      <td>8.14</td>\n",
              "      <td>8.19</td>\n",
              "      <td>8.05</td>\n",
              "      <td>8.180000</td>\n",
              "      <td>8.180000</td>\n",
              "      <td>7971200</td>\n",
              "      <td>0.004914</td>\n",
              "      <td>2010</td>\n",
              "      <td>True</td>\n",
              "    </tr>\n",
              "    <tr>\n",
              "      <th>4</th>\n",
              "      <td>734501.0</td>\n",
              "      <td>5.34</td>\n",
              "      <td>5.45</td>\n",
              "      <td>5.28</td>\n",
              "      <td>5.400000</td>\n",
              "      <td>5.400000</td>\n",
              "      <td>6906000</td>\n",
              "      <td>0.011236</td>\n",
              "      <td>2011</td>\n",
              "      <td>True</td>\n",
              "    </tr>\n",
              "    <tr>\n",
              "      <th>5</th>\n",
              "      <td>734868.0</td>\n",
              "      <td>2.29</td>\n",
              "      <td>2.42</td>\n",
              "      <td>2.28</td>\n",
              "      <td>2.400000</td>\n",
              "      <td>2.400000</td>\n",
              "      <td>20698200</td>\n",
              "      <td>0.052632</td>\n",
              "      <td>2012</td>\n",
              "      <td>True</td>\n",
              "    </tr>\n",
              "    <tr>\n",
              "      <th>6</th>\n",
              "      <td>735233.0</td>\n",
              "      <td>3.87</td>\n",
              "      <td>3.88</td>\n",
              "      <td>3.83</td>\n",
              "      <td>3.870000</td>\n",
              "      <td>3.870000</td>\n",
              "      <td>12347800</td>\n",
              "      <td>0.005195</td>\n",
              "      <td>2013</td>\n",
              "      <td>True</td>\n",
              "    </tr>\n",
              "    <tr>\n",
              "      <th>7</th>\n",
              "      <td>735598.0</td>\n",
              "      <td>2.64</td>\n",
              "      <td>2.70</td>\n",
              "      <td>2.64</td>\n",
              "      <td>2.670000</td>\n",
              "      <td>2.670000</td>\n",
              "      <td>11177900</td>\n",
              "      <td>0.015209</td>\n",
              "      <td>2014</td>\n",
              "      <td>True</td>\n",
              "    </tr>\n",
              "    <tr>\n",
              "      <th>8</th>\n",
              "      <td>735963.0</td>\n",
              "      <td>2.97</td>\n",
              "      <td>3.01</td>\n",
              "      <td>2.87</td>\n",
              "      <td>2.870000</td>\n",
              "      <td>2.870000</td>\n",
              "      <td>11086100</td>\n",
              "      <td>-0.036913</td>\n",
              "      <td>2015</td>\n",
              "      <td>False</td>\n",
              "    </tr>\n",
              "    <tr>\n",
              "      <th>9</th>\n",
              "      <td>736328.0</td>\n",
              "      <td>11.70</td>\n",
              "      <td>11.78</td>\n",
              "      <td>11.25</td>\n",
              "      <td>11.340000</td>\n",
              "      <td>11.340000</td>\n",
              "      <td>44095400</td>\n",
              "      <td>-0.021570</td>\n",
              "      <td>2016</td>\n",
              "      <td>False</td>\n",
              "    </tr>\n",
              "    <tr>\n",
              "      <th>10</th>\n",
              "      <td>736692.0</td>\n",
              "      <td>10.57</td>\n",
              "      <td>10.58</td>\n",
              "      <td>10.27</td>\n",
              "      <td>10.280000</td>\n",
              "      <td>10.280000</td>\n",
              "      <td>26678900</td>\n",
              "      <td>-0.025592</td>\n",
              "      <td>2017</td>\n",
              "      <td>False</td>\n",
              "    </tr>\n",
              "    <tr>\n",
              "      <th>11</th>\n",
              "      <td>737059.0</td>\n",
              "      <td>18.15</td>\n",
              "      <td>18.51</td>\n",
              "      <td>17.85</td>\n",
              "      <td>18.459999</td>\n",
              "      <td>18.459999</td>\n",
              "      <td>84732200</td>\n",
              "      <td>0.035915</td>\n",
              "      <td>2018</td>\n",
              "      <td>True</td>\n",
              "    </tr>\n",
              "  </tbody>\n",
              "</table>\n",
              "</div>"
            ],
            "text/plain": [
              "        Date   Open   High    Low  ...    Volume   Returns  Years  ReturnsPositive\n",
              "0   733041.0   7.26   7.60   7.26  ...  19668800  0.024590   2007             True\n",
              "1   733407.0   2.20   2.20   2.11  ...  10226500 -0.022624   2008            False\n",
              "2   733772.0   9.75   9.77   9.63  ...   9396500 -0.004115   2009            False\n",
              "3   734137.0   8.14   8.19   8.05  ...   7971200  0.004914   2010             True\n",
              "4   734501.0   5.34   5.45   5.28  ...   6906000  0.011236   2011             True\n",
              "5   734868.0   2.29   2.42   2.28  ...  20698200  0.052632   2012             True\n",
              "6   735233.0   3.87   3.88   3.83  ...  12347800  0.005195   2013             True\n",
              "7   735598.0   2.64   2.70   2.64  ...  11177900  0.015209   2014             True\n",
              "8   735963.0   2.97   3.01   2.87  ...  11086100 -0.036913   2015            False\n",
              "9   736328.0  11.70  11.78  11.25  ...  44095400 -0.021570   2016            False\n",
              "10  736692.0  10.57  10.58  10.27  ...  26678900 -0.025592   2017            False\n",
              "11  737059.0  18.15  18.51  17.85  ...  84732200  0.035915   2018             True\n",
              "\n",
              "[12 rows x 10 columns]"
            ]
          },
          "metadata": {
            "tags": []
          },
          "execution_count": 25
        }
      ]
    },
    {
      "cell_type": "code",
      "metadata": {
        "id": "wwTTLi82UWvs",
        "colab_type": "code",
        "colab": {
          "base_uri": "https://localhost:8080/",
          "height": 358
        },
        "outputId": "2535f38c-0afd-4574-d699-3aa12efd700b"
      },
      "source": [
        "colors = yearly.ReturnsPositive.map({True: 'g', False: 'r'})\n",
        "plt.figure(figsize=(10,5))\n",
        "plt.bar(yearly['Years'], yearly['Returns'], color=colors, align='center')\n",
        "plt.title('Yearly Returns')\n",
        "plt.xlabel('Date')\n",
        "plt.ylabel('Returns')\n",
        "plt.show()"
      ],
      "execution_count": 26,
      "outputs": [
        {
          "output_type": "display_data",
          "data": {
            "image/png": "[encoded data removed]",
            "text/plain": [
              "<Figure size 1000x500 with 1 Axes>"
            ]
          },
          "metadata": {
            "tags": []
          }
        }
      ]
    },
    {
      "cell_type": "code",
      "metadata": {
        "id": "I-mtYLPZUWm_",
        "colab_type": "code",
        "colab": {}
      },
      "source": [
        "dataset['Returns'] = dataset['Adj Close'].pct_change().dropna()"
      ],
      "execution_count": 27,
      "outputs": []
    },
    {
      "cell_type": "code",
      "metadata": {
        "id": "LNljBG2JUk0s",
        "colab_type": "code",
        "colab": {}
      },
      "source": [
        "yearly_returns_avg = dataset['Returns'].groupby([dataset.index.year]).mean()"
      ],
      "execution_count": 28,
      "outputs": []
    },
    {
      "cell_type": "code",
      "metadata": {
        "id": "xWoEAwQeUk59",
        "colab_type": "code",
        "colab": {
          "base_uri": "https://localhost:8080/",
          "height": 252
        },
        "outputId": "3c67ac41-3f0d-4dcc-890b-f03d20a3bd4e"
      },
      "source": [
        "yearly_returns_avg"
      ],
      "execution_count": 29,
      "outputs": [
        {
          "output_type": "execute_result",
          "data": {
            "text/plain": [
              "Date\n",
              "2007   -0.003543\n",
              "2008   -0.003470\n",
              "2009    0.007087\n",
              "2010   -0.000265\n",
              "2011   -0.001038\n",
              "2012   -0.002664\n",
              "2013    0.002413\n",
              "2014   -0.001137\n",
              "2015    0.000893\n",
              "2016    0.006752\n",
              "2017    0.000297\n",
              "2018    0.003122\n",
              "Name: Returns, dtype: float64"
            ]
          },
          "metadata": {
            "tags": []
          },
          "execution_count": 29
        }
      ]
    },
    {
      "cell_type": "code",
      "metadata": {
        "id": "eql2wN-RUlCZ",
        "colab_type": "code",
        "colab": {
          "base_uri": "https://localhost:8080/",
          "height": 358
        },
        "outputId": "a20f5c09-c011-429c-f99e-d91b6e5e43f5"
      },
      "source": [
        "colors = yearly.ReturnsPositive.map({True: 'g', False: 'r'})\n",
        "plt.figure(figsize=(10,5))\n",
        "plt.bar(yearly['Years'], yearly['Returns'], color=colors, align='center')\n",
        "plt.plot(yearly_returns_avg, marker='o', color='b')\n",
        "plt.title('Yearly Returns')\n",
        "plt.xlabel('Date')\n",
        "plt.ylabel('Returns')\n",
        "plt.show()"
      ],
      "execution_count": 30,
      "outputs": [
        {
          "output_type": "display_data",
          "data": {
            "image/png": "[encoded data removed]",
            "text/plain": [
              "<Figure size 1000x500 with 1 Axes>"
            ]
          },
          "metadata": {
            "tags": []
          }
        }
      ]
    }
  ]
}