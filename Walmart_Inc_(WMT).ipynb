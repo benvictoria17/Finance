{
  "nbformat": 4,
  "nbformat_minor": 0,
  "metadata": {
    "colab": {
      "name": "Walmart Inc. (WMT).ipynb",
      "provenance": [],
      "authorship_tag": "ABX9TyNTPLRDKBF5gM6778lY1nSU",
      "include_colab_link": true
    },
    "kernelspec": {
      "name": "python3",
      "display_name": "Python 3"
    }
  },
  "cells": [
    {
      "cell_type": "markdown",
      "metadata": {
        "id": "view-in-github",
        "colab_type": "text"
      },
      "source": [
        "<a href=\"https://colab.research.google.com/github/benvictoria21/AnalyzeStocks/blob/master/Walmart_Inc_(WMT).ipynb\" target=\"_parent\"><img src=\"https://colab.research.google.com/assets/colab-badge.svg\" alt=\"Open In Colab\"/></a>"
      ]
    },
    {
      "cell_type": "code",
      "metadata": {
        "colab": {
          "base_uri": "https://localhost:8080/"
        },
        "id": "OPn_wNx4dPvH",
        "outputId": "046dcd70-1fd4-4d84-ea8a-466dfbde002a"
      },
      "source": [
        "!sudo pip install  yfinance"
      ],
      "execution_count": 74,
      "outputs": [
        {
          "output_type": "stream",
          "text": [
            "Requirement already satisfied: yfinance in /usr/local/lib/python3.6/dist-packages (0.1.55)\n",
            "Requirement already satisfied: lxml>=4.5.1 in /usr/local/lib/python3.6/dist-packages (from yfinance) (4.6.1)\n",
            "Requirement already satisfied: numpy>=1.15 in /usr/local/lib/python3.6/dist-packages (from yfinance) (1.18.5)\n",
            "Requirement already satisfied: pandas>=0.24 in /usr/local/lib/python3.6/dist-packages (from yfinance) (1.1.4)\n",
            "Requirement already satisfied: requests>=2.20 in /usr/local/lib/python3.6/dist-packages (from yfinance) (2.23.0)\n",
            "Requirement already satisfied: multitasking>=0.0.7 in /usr/local/lib/python3.6/dist-packages (from yfinance) (0.0.9)\n",
            "Requirement already satisfied: python-dateutil>=2.7.3 in /usr/local/lib/python3.6/dist-packages (from pandas>=0.24->yfinance) (2.8.1)\n",
            "Requirement already satisfied: pytz>=2017.2 in /usr/local/lib/python3.6/dist-packages (from pandas>=0.24->yfinance) (2018.9)\n",
            "Requirement already satisfied: certifi>=2017.4.17 in /usr/local/lib/python3.6/dist-packages (from requests>=2.20->yfinance) (2020.11.8)\n",
            "Requirement already satisfied: chardet<4,>=3.0.2 in /usr/local/lib/python3.6/dist-packages (from requests>=2.20->yfinance) (3.0.4)\n",
            "Requirement already satisfied: idna<3,>=2.5 in /usr/local/lib/python3.6/dist-packages (from requests>=2.20->yfinance) (2.10)\n",
            "Requirement already satisfied: urllib3!=1.25.0,!=1.25.1,<1.26,>=1.21.1 in /usr/local/lib/python3.6/dist-packages (from requests>=2.20->yfinance) (1.24.3)\n",
            "Requirement already satisfied: six>=1.5 in /usr/local/lib/python3.6/dist-packages (from python-dateutil>=2.7.3->pandas>=0.24->yfinance) (1.15.0)\n"
          ],
          "name": "stdout"
        }
      ]
    },
    {
      "cell_type": "code",
      "metadata": {
        "id": "k8yoJL99cuXk"
      },
      "source": [
        "import numpy as np \n",
        "import pandas as pd \n",
        "import matplotlib.pyplot as plt\n",
        "import yfinance"
      ],
      "execution_count": 75,
      "outputs": []
    },
    {
      "cell_type": "code",
      "metadata": {
        "colab": {
          "base_uri": "https://localhost:8080/",
          "height": 467
        },
        "id": "Zt4xpw9jdTZt",
        "outputId": "0bea05d1-3acd-42a0-cb9e-ce0ca0408c2f"
      },
      "source": [
        "WMT = yfinance.download(\"WMT\")\n",
        "WMT"
      ],
      "execution_count": 76,
      "outputs": [
        {
          "output_type": "stream",
          "text": [
            "\r[*********************100%***********************]  1 of 1 completed\n"
          ],
          "name": "stdout"
        },
        {
          "output_type": "execute_result",
          "data": {
            "text/html": [
              "<div>\n",
              "<style scoped>\n",
              "    .dataframe tbody tr th:only-of-type {\n",
              "        vertical-align: middle;\n",
              "    }\n",
              "\n",
              "    .dataframe tbody tr th {\n",
              "        vertical-align: top;\n",
              "    }\n",
              "\n",
              "    .dataframe thead th {\n",
              "        text-align: right;\n",
              "    }\n",
              "</style>\n",
              "<table border=\"1\" class=\"dataframe\">\n",
              "  <thead>\n",
              "    <tr style=\"text-align: right;\">\n",
              "      <th></th>\n",
              "      <th>Open</th>\n",
              "      <th>High</th>\n",
              "      <th>Low</th>\n",
              "      <th>Close</th>\n",
              "      <th>Adj Close</th>\n",
              "      <th>Volume</th>\n",
              "    </tr>\n",
              "    <tr>\n",
              "      <th>Date</th>\n",
              "      <th></th>\n",
              "      <th></th>\n",
              "      <th></th>\n",
              "      <th></th>\n",
              "      <th></th>\n",
              "      <th></th>\n",
              "    </tr>\n",
              "  </thead>\n",
              "  <tbody>\n",
              "    <tr>\n",
              "      <th>1972-08-25</th>\n",
              "      <td>0.063477</td>\n",
              "      <td>0.064697</td>\n",
              "      <td>0.063477</td>\n",
              "      <td>0.064453</td>\n",
              "      <td>0.036959</td>\n",
              "      <td>2508800</td>\n",
              "    </tr>\n",
              "    <tr>\n",
              "      <th>1972-08-28</th>\n",
              "      <td>0.064453</td>\n",
              "      <td>0.064941</td>\n",
              "      <td>0.064209</td>\n",
              "      <td>0.064209</td>\n",
              "      <td>0.036819</td>\n",
              "      <td>972800</td>\n",
              "    </tr>\n",
              "    <tr>\n",
              "      <th>1972-08-29</th>\n",
              "      <td>0.063965</td>\n",
              "      <td>0.063965</td>\n",
              "      <td>0.063477</td>\n",
              "      <td>0.063477</td>\n",
              "      <td>0.036399</td>\n",
              "      <td>1945600</td>\n",
              "    </tr>\n",
              "    <tr>\n",
              "      <th>1972-08-30</th>\n",
              "      <td>0.063477</td>\n",
              "      <td>0.063477</td>\n",
              "      <td>0.062988</td>\n",
              "      <td>0.063477</td>\n",
              "      <td>0.036399</td>\n",
              "      <td>409600</td>\n",
              "    </tr>\n",
              "    <tr>\n",
              "      <th>1972-08-31</th>\n",
              "      <td>0.062988</td>\n",
              "      <td>0.062988</td>\n",
              "      <td>0.062500</td>\n",
              "      <td>0.062500</td>\n",
              "      <td>0.035839</td>\n",
              "      <td>870400</td>\n",
              "    </tr>\n",
              "    <tr>\n",
              "      <th>...</th>\n",
              "      <td>...</td>\n",
              "      <td>...</td>\n",
              "      <td>...</td>\n",
              "      <td>...</td>\n",
              "      <td>...</td>\n",
              "      <td>...</td>\n",
              "    </tr>\n",
              "    <tr>\n",
              "      <th>2020-11-19</th>\n",
              "      <td>149.460007</td>\n",
              "      <td>152.449997</td>\n",
              "      <td>149.320007</td>\n",
              "      <td>152.119995</td>\n",
              "      <td>152.119995</td>\n",
              "      <td>6196900</td>\n",
              "    </tr>\n",
              "    <tr>\n",
              "      <th>2020-11-20</th>\n",
              "      <td>151.169998</td>\n",
              "      <td>152.759995</td>\n",
              "      <td>149.809998</td>\n",
              "      <td>150.240005</td>\n",
              "      <td>150.240005</td>\n",
              "      <td>7312400</td>\n",
              "    </tr>\n",
              "    <tr>\n",
              "      <th>2020-11-23</th>\n",
              "      <td>150.369995</td>\n",
              "      <td>151.399994</td>\n",
              "      <td>149.369995</td>\n",
              "      <td>150.929993</td>\n",
              "      <td>150.929993</td>\n",
              "      <td>6185700</td>\n",
              "    </tr>\n",
              "    <tr>\n",
              "      <th>2020-11-24</th>\n",
              "      <td>151.740005</td>\n",
              "      <td>151.979996</td>\n",
              "      <td>150.270004</td>\n",
              "      <td>151.360001</td>\n",
              "      <td>151.360001</td>\n",
              "      <td>5718400</td>\n",
              "    </tr>\n",
              "    <tr>\n",
              "      <th>2020-11-25</th>\n",
              "      <td>151.250000</td>\n",
              "      <td>152.389999</td>\n",
              "      <td>151.210007</td>\n",
              "      <td>151.830002</td>\n",
              "      <td>151.830002</td>\n",
              "      <td>4608200</td>\n",
              "    </tr>\n",
              "  </tbody>\n",
              "</table>\n",
              "<p>12170 rows × 6 columns</p>\n",
              "</div>"
            ],
            "text/plain": [
              "                  Open        High         Low       Close   Adj Close   Volume\n",
              "Date                                                                           \n",
              "1972-08-25    0.063477    0.064697    0.063477    0.064453    0.036959  2508800\n",
              "1972-08-28    0.064453    0.064941    0.064209    0.064209    0.036819   972800\n",
              "1972-08-29    0.063965    0.063965    0.063477    0.063477    0.036399  1945600\n",
              "1972-08-30    0.063477    0.063477    0.062988    0.063477    0.036399   409600\n",
              "1972-08-31    0.062988    0.062988    0.062500    0.062500    0.035839   870400\n",
              "...                ...         ...         ...         ...         ...      ...\n",
              "2020-11-19  149.460007  152.449997  149.320007  152.119995  152.119995  6196900\n",
              "2020-11-20  151.169998  152.759995  149.809998  150.240005  150.240005  7312400\n",
              "2020-11-23  150.369995  151.399994  149.369995  150.929993  150.929993  6185700\n",
              "2020-11-24  151.740005  151.979996  150.270004  151.360001  151.360001  5718400\n",
              "2020-11-25  151.250000  152.389999  151.210007  151.830002  151.830002  4608200\n",
              "\n",
              "[12170 rows x 6 columns]"
            ]
          },
          "metadata": {
            "tags": []
          },
          "execution_count": 76
        }
      ]
    },
    {
      "cell_type": "code",
      "metadata": {
        "colab": {
          "base_uri": "https://localhost:8080/",
          "height": 235
        },
        "id": "ENQnVAzVdlt5",
        "outputId": "52b1cc80-cd54-43ff-ebf6-968e2240642f"
      },
      "source": [
        "WMT.head()"
      ],
      "execution_count": 77,
      "outputs": [
        {
          "output_type": "execute_result",
          "data": {
            "text/html": [
              "<div>\n",
              "<style scoped>\n",
              "    .dataframe tbody tr th:only-of-type {\n",
              "        vertical-align: middle;\n",
              "    }\n",
              "\n",
              "    .dataframe tbody tr th {\n",
              "        vertical-align: top;\n",
              "    }\n",
              "\n",
              "    .dataframe thead th {\n",
              "        text-align: right;\n",
              "    }\n",
              "</style>\n",
              "<table border=\"1\" class=\"dataframe\">\n",
              "  <thead>\n",
              "    <tr style=\"text-align: right;\">\n",
              "      <th></th>\n",
              "      <th>Open</th>\n",
              "      <th>High</th>\n",
              "      <th>Low</th>\n",
              "      <th>Close</th>\n",
              "      <th>Adj Close</th>\n",
              "      <th>Volume</th>\n",
              "    </tr>\n",
              "    <tr>\n",
              "      <th>Date</th>\n",
              "      <th></th>\n",
              "      <th></th>\n",
              "      <th></th>\n",
              "      <th></th>\n",
              "      <th></th>\n",
              "      <th></th>\n",
              "    </tr>\n",
              "  </thead>\n",
              "  <tbody>\n",
              "    <tr>\n",
              "      <th>1972-08-25</th>\n",
              "      <td>0.063477</td>\n",
              "      <td>0.064697</td>\n",
              "      <td>0.063477</td>\n",
              "      <td>0.064453</td>\n",
              "      <td>0.036959</td>\n",
              "      <td>2508800</td>\n",
              "    </tr>\n",
              "    <tr>\n",
              "      <th>1972-08-28</th>\n",
              "      <td>0.064453</td>\n",
              "      <td>0.064941</td>\n",
              "      <td>0.064209</td>\n",
              "      <td>0.064209</td>\n",
              "      <td>0.036819</td>\n",
              "      <td>972800</td>\n",
              "    </tr>\n",
              "    <tr>\n",
              "      <th>1972-08-29</th>\n",
              "      <td>0.063965</td>\n",
              "      <td>0.063965</td>\n",
              "      <td>0.063477</td>\n",
              "      <td>0.063477</td>\n",
              "      <td>0.036399</td>\n",
              "      <td>1945600</td>\n",
              "    </tr>\n",
              "    <tr>\n",
              "      <th>1972-08-30</th>\n",
              "      <td>0.063477</td>\n",
              "      <td>0.063477</td>\n",
              "      <td>0.062988</td>\n",
              "      <td>0.063477</td>\n",
              "      <td>0.036399</td>\n",
              "      <td>409600</td>\n",
              "    </tr>\n",
              "    <tr>\n",
              "      <th>1972-08-31</th>\n",
              "      <td>0.062988</td>\n",
              "      <td>0.062988</td>\n",
              "      <td>0.062500</td>\n",
              "      <td>0.062500</td>\n",
              "      <td>0.035839</td>\n",
              "      <td>870400</td>\n",
              "    </tr>\n",
              "  </tbody>\n",
              "</table>\n",
              "</div>"
            ],
            "text/plain": [
              "                Open      High       Low     Close  Adj Close   Volume\n",
              "Date                                                                  \n",
              "1972-08-25  0.063477  0.064697  0.063477  0.064453   0.036959  2508800\n",
              "1972-08-28  0.064453  0.064941  0.064209  0.064209   0.036819   972800\n",
              "1972-08-29  0.063965  0.063965  0.063477  0.063477   0.036399  1945600\n",
              "1972-08-30  0.063477  0.063477  0.062988  0.063477   0.036399   409600\n",
              "1972-08-31  0.062988  0.062988  0.062500  0.062500   0.035839   870400"
            ]
          },
          "metadata": {
            "tags": []
          },
          "execution_count": 77
        }
      ]
    },
    {
      "cell_type": "code",
      "metadata": {
        "colab": {
          "base_uri": "https://localhost:8080/"
        },
        "id": "tGp4wu1wdlw8",
        "outputId": "ddb40e15-3095-4851-8a10-820a978677a5"
      },
      "source": [
        "WMT.Close"
      ],
      "execution_count": 78,
      "outputs": [
        {
          "output_type": "execute_result",
          "data": {
            "text/plain": [
              "Date\n",
              "1972-08-25      0.064453\n",
              "1972-08-28      0.064209\n",
              "1972-08-29      0.063477\n",
              "1972-08-30      0.063477\n",
              "1972-08-31      0.062500\n",
              "                 ...    \n",
              "2020-11-19    152.119995\n",
              "2020-11-20    150.240005\n",
              "2020-11-23    150.929993\n",
              "2020-11-24    151.360001\n",
              "2020-11-25    151.830002\n",
              "Name: Close, Length: 12170, dtype: float64"
            ]
          },
          "metadata": {
            "tags": []
          },
          "execution_count": 78
        }
      ]
    },
    {
      "cell_type": "code",
      "metadata": {
        "colab": {
          "base_uri": "https://localhost:8080/",
          "height": 300
        },
        "id": "JGG54M7rdl0G",
        "outputId": "6be07448-bcdc-4c16-aff6-948b8de86d2f"
      },
      "source": [
        "plt.xlabel(\"days\")         \n",
        "plt.ylabel(\"price\")    \n",
        "plt.grid()              \n",
        "plt.plot(WMT.Close)"
      ],
      "execution_count": 79,
      "outputs": [
        {
          "output_type": "execute_result",
          "data": {
            "text/plain": [
              "[<matplotlib.lines.Line2D at 0x7fb1f166f358>]"
            ]
          },
          "metadata": {
            "tags": []
          },
          "execution_count": 79
        },
        {
          "output_type": "display_data",
          "data": {
            "image/png": "[encoded data removed]",
            "text/plain": [
              "<Figure size 432x288 with 1 Axes>"
            ]
          },
          "metadata": {
            "tags": [],
            "needs_background": "light"
          }
        }
      ]
    },
    {
      "cell_type": "code",
      "metadata": {
        "colab": {
          "base_uri": "https://localhost:8080/"
        },
        "id": "mAi2iuVodl11",
        "outputId": "6aab4d5e-7a82-423b-d2a6-94cdec60623b"
      },
      "source": [
        "WMT.High"
      ],
      "execution_count": 80,
      "outputs": [
        {
          "output_type": "execute_result",
          "data": {
            "text/plain": [
              "Date\n",
              "1972-08-25      0.064697\n",
              "1972-08-28      0.064941\n",
              "1972-08-29      0.063965\n",
              "1972-08-30      0.063477\n",
              "1972-08-31      0.062988\n",
              "                 ...    \n",
              "2020-11-19    152.449997\n",
              "2020-11-20    152.759995\n",
              "2020-11-23    151.399994\n",
              "2020-11-24    151.979996\n",
              "2020-11-25    152.389999\n",
              "Name: High, Length: 12170, dtype: float64"
            ]
          },
          "metadata": {
            "tags": []
          },
          "execution_count": 80
        }
      ]
    },
    {
      "cell_type": "code",
      "metadata": {
        "colab": {
          "base_uri": "https://localhost:8080/",
          "height": 268
        },
        "id": "6lcDQiR0dl7u",
        "outputId": "b6b32238-b61e-41dc-bc50-e7474e8f2a16"
      },
      "source": [
        "plt.plot(WMT.High)\n",
        "plt.grid()"
      ],
      "execution_count": 81,
      "outputs": [
        {
          "output_type": "display_data",
          "data": {
            "image/png": "[encoded data removed]",
            "text/plain": [
              "<Figure size 432x288 with 1 Axes>"
            ]
          },
          "metadata": {
            "tags": [],
            "needs_background": "light"
          }
        }
      ]
    },
    {
      "cell_type": "code",
      "metadata": {
        "colab": {
          "base_uri": "https://localhost:8080/"
        },
        "id": "t2C6ZCUGdl_E",
        "outputId": "7677dc74-3063-4ccd-ef22-ce594d4786a5"
      },
      "source": [
        "WMT.Open"
      ],
      "execution_count": 82,
      "outputs": [
        {
          "output_type": "execute_result",
          "data": {
            "text/plain": [
              "Date\n",
              "1972-08-25      0.063477\n",
              "1972-08-28      0.064453\n",
              "1972-08-29      0.063965\n",
              "1972-08-30      0.063477\n",
              "1972-08-31      0.062988\n",
              "                 ...    \n",
              "2020-11-19    149.460007\n",
              "2020-11-20    151.169998\n",
              "2020-11-23    150.369995\n",
              "2020-11-24    151.740005\n",
              "2020-11-25    151.250000\n",
              "Name: Open, Length: 12170, dtype: float64"
            ]
          },
          "metadata": {
            "tags": []
          },
          "execution_count": 82
        }
      ]
    }
  ]
}