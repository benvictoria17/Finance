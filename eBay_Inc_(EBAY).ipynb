{
 "cells": [
  {
   "cell_type": "markdown",
   "metadata": {
    "colab_type": "text",
    "id": "view-in-github"
   },
   "source": [
    "<a href=\"https://colab.research.google.com/github/benvictoria21/python-stock/blob/master/eBay_Inc_(EBAY).ipynb\" target=\"_parent\"><img src=\"https://colab.research.google.com/assets/colab-badge.svg\" alt=\"Open In Colab\"/></a>"
   ]
  },
  {
   "cell_type": "code",
   "execution_count": null,
   "metadata": {
    "colab": {},
    "colab_type": "code",
    "id": "J_yOdJfZND_s"
   },
   "outputs": [],
   "source": [
    "!pip install yfinance"
   ]
  },
  {
   "cell_type": "code",
   "execution_count": null,
   "metadata": {
    "colab": {},
    "colab_type": "code",
    "id": "r2CCEVaENyMT"
   },
   "outputs": [],
   "source": [
    "import pandas as pd \n",
    "import numpy as np \n",
    "import math \n",
    "import matplotlib.pyplot as plt\n",
    "import sqlite3\n",
    "import yfinance\n",
    "import pandas_datareader as pdr \n",
    "import datetime "
   ]
  },
  {
   "cell_type": "code",
   "execution_count": null,
   "metadata": {
    "colab": {},
    "colab_type": "code",
    "id": "cSXvgIuGN0QM"
   },
   "outputs": [],
   "source": [
    "EBAY = pd.read_csv(\"https://query1.finance.yahoo.com/v7/finance/download/EBAY?period1=1562882095&period2=1594504495&interval=1d&events=history\")\n",
    "\n",
    "EBAY"
   ]
  },
  {
   "cell_type": "code",
   "execution_count": null,
   "metadata": {
    "colab": {},
    "colab_type": "code",
    "id": "EvbvvHdTZDJx"
   },
   "outputs": [],
   "source": [
    "EBAY.head()"
   ]
  },
  {
   "cell_type": "code",
   "execution_count": null,
   "metadata": {
    "colab": {},
    "colab_type": "code",
    "id": "DgMAuGBVZIEr"
   },
   "outputs": [],
   "source": [
    "EBAY.tail()"
   ]
  },
  {
   "cell_type": "code",
   "execution_count": null,
   "metadata": {
    "colab": {},
    "colab_type": "code",
    "id": "wjcaERhxZIHX"
   },
   "outputs": [],
   "source": [
    "EBAY.describe()"
   ]
  },
  {
   "cell_type": "code",
   "execution_count": null,
   "metadata": {
    "colab": {},
    "colab_type": "code",
    "id": "uoFhoAVaZIKG"
   },
   "outputs": [],
   "source": [
    "plt.plot([0,1,2,3,4,5])\n",
    "plt.show"
   ]
  },
  {
   "cell_type": "code",
   "execution_count": null,
   "metadata": {
    "colab": {},
    "colab_type": "code",
    "id": "sPvAlyrvZIPU"
   },
   "outputs": [],
   "source": [
    "plt.pie([0,1,2,4,5]) \n",
    "plt.show"
   ]
  },
  {
   "cell_type": "code",
   "execution_count": null,
   "metadata": {
    "colab": {},
    "colab_type": "code",
    "id": "utEfwhFkacKm"
   },
   "outputs": [],
   "source": [
    "EBAY.to_excel(\"EBAY.xls\")\n",
    "\n",
    "pd.read_excel(\"EBAY.xls\")"
   ]
  },
  {
   "cell_type": "code",
   "execution_count": null,
   "metadata": {
    "colab": {},
    "colab_type": "code",
    "id": "0O-NKJWgcJAu"
   },
   "outputs": [],
   "source": [
    "x = [0,1,2,3,4]\n",
    "y = [0,2,4,6,8]\n",
    "\n",
    "# Resize your Graph (dpi specifies pixels per inch. When saving probably should use 300 if possible)\n",
    "plt.figure(figsize=(8,5), dpi=100)\n",
    "\n",
    "# Line 1\n",
    "\n",
    "# Keyword Argument Notation\n",
    "#plt.plot(x,y, label='2x', color='red', linewidth=2, marker='.', linestyle='--', markersize=10, markeredgecolor='blue')\n",
    "\n",
    "# Shorthand notation\n",
    "# fmt = '[color][marker][line]'\n",
    "plt.plot(x,y, 'b^--', label='2x')\n",
    "\n",
    "## Line 2\n",
    "\n",
    "# select interval we want to plot points at\n",
    "x2 = np.arange(0,4.5,0.5)\n",
    "\n",
    "# Plot part of the graph as line\n",
    "plt.plot(x2[:6], x2[:6]**2, 'r', label='X^2')\n",
    "\n",
    "# Plot remainder of graph as a dot\n",
    "plt.plot(x2[5:], x2[5:]**2, 'r--')\n",
    "\n",
    "# Add a title (specify font parameters with fontdict)\n",
    "plt.title('eBay Inc. (EBAY)', fontdict={'fontname': 'Comic Sans MS', 'fontsize': 20})\n",
    "\n",
    "# X and Y labels\n",
    "plt.xlabel('EBAY')\n",
    "\n",
    "# X, Y axis Tickmarks (scale of your graph)\n",
    "plt.xticks([0,1,2,3,4,])\n",
    "#plt.yticks([0,2,4,6,8,10])\n",
    "\n",
    "# Add a legend\n",
    "plt.legend()\n",
    "\n",
    "# Save figure (dpi 300 is good when saving so graph has high resolution)\n",
    "plt.savefig('mygraph.png', dpi=300)\n",
    "\n",
    "# Show plot\n",
    "plt.show()"
   ]
  },
  {
   "cell_type": "code",
   "execution_count": null,
   "metadata": {
    "colab": {},
    "colab_type": "code",
    "id": "IEAkovCLcM-N"
   },
   "outputs": [],
   "source": [
    "labels = ['A', 'B', 'C']\n",
    "values = [1,4,2]\n",
    "\n",
    "plt.figure(figsize=(5,3), dpi=100)\n",
    "\n",
    "bars = plt.bar(labels, values)\n",
    "\n",
    "patterns = ['/', 'O', '*']\n",
    "for bar in bars:\n",
    "    bar.set_hatch(patterns.pop(0))\n",
    "\n",
    "plt.savefig('barchart.png', dpi=300)\n",
    "\n",
    "plt.show()\n"
   ]
  }
 ],
 "metadata": {
  "accelerator": "TPU",
  "colab": {
   "authorship_tag": "ABX9TyNJBL5uJeCKrgAJPIw5q0xG",
   "include_colab_link": true,
   "name": "eBay Inc. (EBAY).ipynb",
   "private_outputs": true,
   "provenance": []
  },
  "kernelspec": {
   "display_name": "Python 3",
   "name": "python3"
  }
 },
 "nbformat": 4,
 "nbformat_minor": 0
}
