{
  "nbformat": 4,
  "nbformat_minor": 0,
  "metadata": {
    "colab": {
      "name": "Zoom Video Communications.ipynb",
      "provenance": [],
      "authorship_tag": "ABX9TyNVibSK1yeM4aNesPmT62JY",
      "include_colab_link": true
    },
    "kernelspec": {
      "name": "python3",
      "display_name": "Python 3"
    }
  },
  "cells": [
    {
      "cell_type": "markdown",
      "metadata": {
        "id": "view-in-github",
        "colab_type": "text"
      },
      "source": [
        "<a href=\"https://colab.research.google.com/github/benvictoria21/python-panda/blob/master/Zoom_Video_Communications.ipynb\" target=\"_parent\"><img src=\"https://colab.research.google.com/assets/colab-badge.svg\" alt=\"Open In Colab\"/></a>"
      ]
    },
    {
      "cell_type": "code",
      "metadata": {
        "id": "h-Dv1TgpSQzT",
        "colab_type": "code",
        "colab": {}
      },
      "source": [
        "import pandas as pd\n",
        "import numpy as np\n",
        "import matplotlib.pyplot as plt"
      ],
      "execution_count": 1,
      "outputs": []
    },
    {
      "cell_type": "code",
      "metadata": {
        "id": "3qAC3_REPevG",
        "colab_type": "code",
        "colab": {
          "base_uri": "https://localhost:8080/",
          "height": 1000
        },
        "outputId": "b11e208b-f63c-468e-ab70-3bc12beb0cc5"
      },
      "source": [
        "ZoomVideoCommunications = pd.read_csv(\"https://raw.githubusercontent.com/benvictoria21/python-panda/master/python%20pandas%20data/Zoom%20Video%20Communications.csv\")\n",
        "\n",
        "ZoomVideoCommunications"
      ],
      "execution_count": 3,
      "outputs": [
        {
          "output_type": "execute_result",
          "data": {
            "text/html": [
              "<div>\n",
              "<style scoped>\n",
              "    .dataframe tbody tr th:only-of-type {\n",
              "        vertical-align: middle;\n",
              "    }\n",
              "\n",
              "    .dataframe tbody tr th {\n",
              "        vertical-align: top;\n",
              "    }\n",
              "\n",
              "    .dataframe thead th {\n",
              "        text-align: right;\n",
              "    }\n",
              "</style>\n",
              "<table border=\"1\" class=\"dataframe\">\n",
              "  <thead>\n",
              "    <tr style=\"text-align: right;\">\n",
              "      <th></th>\n",
              "      <th>Category: All categories</th>\n",
              "    </tr>\n",
              "  </thead>\n",
              "  <tbody>\n",
              "    <tr>\n",
              "      <th>Region</th>\n",
              "      <td>Zoom Video Communications: (8/13/19 - 8/13/20)</td>\n",
              "    </tr>\n",
              "    <tr>\n",
              "      <th>Vermont</th>\n",
              "      <td>100</td>\n",
              "    </tr>\n",
              "    <tr>\n",
              "      <th>Massachusetts</th>\n",
              "      <td>93</td>\n",
              "    </tr>\n",
              "    <tr>\n",
              "      <th>Delaware</th>\n",
              "      <td>88</td>\n",
              "    </tr>\n",
              "    <tr>\n",
              "      <th>California</th>\n",
              "      <td>87</td>\n",
              "    </tr>\n",
              "    <tr>\n",
              "      <th>New Hampshire</th>\n",
              "      <td>85</td>\n",
              "    </tr>\n",
              "    <tr>\n",
              "      <th>District of Columbia</th>\n",
              "      <td>84</td>\n",
              "    </tr>\n",
              "    <tr>\n",
              "      <th>Maryland</th>\n",
              "      <td>83</td>\n",
              "    </tr>\n",
              "    <tr>\n",
              "      <th>Rhode Island</th>\n",
              "      <td>81</td>\n",
              "    </tr>\n",
              "    <tr>\n",
              "      <th>Maine</th>\n",
              "      <td>81</td>\n",
              "    </tr>\n",
              "    <tr>\n",
              "      <th>New Jersey</th>\n",
              "      <td>78</td>\n",
              "    </tr>\n",
              "    <tr>\n",
              "      <th>Connecticut</th>\n",
              "      <td>74</td>\n",
              "    </tr>\n",
              "    <tr>\n",
              "      <th>Washington</th>\n",
              "      <td>73</td>\n",
              "    </tr>\n",
              "    <tr>\n",
              "      <th>Alaska</th>\n",
              "      <td>73</td>\n",
              "    </tr>\n",
              "    <tr>\n",
              "      <th>Oregon</th>\n",
              "      <td>68</td>\n",
              "    </tr>\n",
              "    <tr>\n",
              "      <th>Hawaii</th>\n",
              "      <td>68</td>\n",
              "    </tr>\n",
              "    <tr>\n",
              "      <th>Colorado</th>\n",
              "      <td>68</td>\n",
              "    </tr>\n",
              "    <tr>\n",
              "      <th>New York</th>\n",
              "      <td>67</td>\n",
              "    </tr>\n",
              "    <tr>\n",
              "      <th>Kansas</th>\n",
              "      <td>66</td>\n",
              "    </tr>\n",
              "    <tr>\n",
              "      <th>Pennsylvania</th>\n",
              "      <td>63</td>\n",
              "    </tr>\n",
              "    <tr>\n",
              "      <th>Nebraska</th>\n",
              "      <td>62</td>\n",
              "    </tr>\n",
              "    <tr>\n",
              "      <th>Virginia</th>\n",
              "      <td>62</td>\n",
              "    </tr>\n",
              "    <tr>\n",
              "      <th>Minnesota</th>\n",
              "      <td>62</td>\n",
              "    </tr>\n",
              "    <tr>\n",
              "      <th>Utah</th>\n",
              "      <td>61</td>\n",
              "    </tr>\n",
              "    <tr>\n",
              "      <th>South Dakota</th>\n",
              "      <td>61</td>\n",
              "    </tr>\n",
              "    <tr>\n",
              "      <th>Illinois</th>\n",
              "      <td>61</td>\n",
              "    </tr>\n",
              "    <tr>\n",
              "      <th>Wyoming</th>\n",
              "      <td>59</td>\n",
              "    </tr>\n",
              "    <tr>\n",
              "      <th>Idaho</th>\n",
              "      <td>58</td>\n",
              "    </tr>\n",
              "    <tr>\n",
              "      <th>Michigan</th>\n",
              "      <td>58</td>\n",
              "    </tr>\n",
              "    <tr>\n",
              "      <th>Iowa</th>\n",
              "      <td>57</td>\n",
              "    </tr>\n",
              "    <tr>\n",
              "      <th>Texas</th>\n",
              "      <td>56</td>\n",
              "    </tr>\n",
              "    <tr>\n",
              "      <th>North Carolina</th>\n",
              "      <td>56</td>\n",
              "    </tr>\n",
              "    <tr>\n",
              "      <th>Arizona</th>\n",
              "      <td>55</td>\n",
              "    </tr>\n",
              "    <tr>\n",
              "      <th>New Mexico</th>\n",
              "      <td>54</td>\n",
              "    </tr>\n",
              "    <tr>\n",
              "      <th>Montana</th>\n",
              "      <td>54</td>\n",
              "    </tr>\n",
              "    <tr>\n",
              "      <th>Wisconsin</th>\n",
              "      <td>54</td>\n",
              "    </tr>\n",
              "    <tr>\n",
              "      <th>Florida</th>\n",
              "      <td>53</td>\n",
              "    </tr>\n",
              "    <tr>\n",
              "      <th>North Dakota</th>\n",
              "      <td>53</td>\n",
              "    </tr>\n",
              "    <tr>\n",
              "      <th>Missouri</th>\n",
              "      <td>51</td>\n",
              "    </tr>\n",
              "    <tr>\n",
              "      <th>Indiana</th>\n",
              "      <td>50</td>\n",
              "    </tr>\n",
              "    <tr>\n",
              "      <th>Ohio</th>\n",
              "      <td>48</td>\n",
              "    </tr>\n",
              "    <tr>\n",
              "      <th>Arkansas</th>\n",
              "      <td>48</td>\n",
              "    </tr>\n",
              "    <tr>\n",
              "      <th>Oklahoma</th>\n",
              "      <td>46</td>\n",
              "    </tr>\n",
              "    <tr>\n",
              "      <th>Georgia</th>\n",
              "      <td>46</td>\n",
              "    </tr>\n",
              "    <tr>\n",
              "      <th>Tennessee</th>\n",
              "      <td>44</td>\n",
              "    </tr>\n",
              "    <tr>\n",
              "      <th>Nevada</th>\n",
              "      <td>43</td>\n",
              "    </tr>\n",
              "    <tr>\n",
              "      <th>South Carolina</th>\n",
              "      <td>43</td>\n",
              "    </tr>\n",
              "    <tr>\n",
              "      <th>Kentucky</th>\n",
              "      <td>43</td>\n",
              "    </tr>\n",
              "    <tr>\n",
              "      <th>Louisiana</th>\n",
              "      <td>42</td>\n",
              "    </tr>\n",
              "    <tr>\n",
              "      <th>Alabama</th>\n",
              "      <td>38</td>\n",
              "    </tr>\n",
              "    <tr>\n",
              "      <th>Mississippi</th>\n",
              "      <td>36</td>\n",
              "    </tr>\n",
              "    <tr>\n",
              "      <th>West Virginia</th>\n",
              "      <td>34</td>\n",
              "    </tr>\n",
              "  </tbody>\n",
              "</table>\n",
              "</div>"
            ],
            "text/plain": [
              "                                            Category: All categories\n",
              "Region                Zoom Video Communications: (8/13/19 - 8/13/20)\n",
              "Vermont                                                          100\n",
              "Massachusetts                                                     93\n",
              "Delaware                                                          88\n",
              "California                                                        87\n",
              "New Hampshire                                                     85\n",
              "District of Columbia                                              84\n",
              "Maryland                                                          83\n",
              "Rhode Island                                                      81\n",
              "Maine                                                             81\n",
              "New Jersey                                                        78\n",
              "Connecticut                                                       74\n",
              "Washington                                                        73\n",
              "Alaska                                                            73\n",
              "Oregon                                                            68\n",
              "Hawaii                                                            68\n",
              "Colorado                                                          68\n",
              "New York                                                          67\n",
              "Kansas                                                            66\n",
              "Pennsylvania                                                      63\n",
              "Nebraska                                                          62\n",
              "Virginia                                                          62\n",
              "Minnesota                                                         62\n",
              "Utah                                                              61\n",
              "South Dakota                                                      61\n",
              "Illinois                                                          61\n",
              "Wyoming                                                           59\n",
              "Idaho                                                             58\n",
              "Michigan                                                          58\n",
              "Iowa                                                              57\n",
              "Texas                                                             56\n",
              "North Carolina                                                    56\n",
              "Arizona                                                           55\n",
              "New Mexico                                                        54\n",
              "Montana                                                           54\n",
              "Wisconsin                                                         54\n",
              "Florida                                                           53\n",
              "North Dakota                                                      53\n",
              "Missouri                                                          51\n",
              "Indiana                                                           50\n",
              "Ohio                                                              48\n",
              "Arkansas                                                          48\n",
              "Oklahoma                                                          46\n",
              "Georgia                                                           46\n",
              "Tennessee                                                         44\n",
              "Nevada                                                            43\n",
              "South Carolina                                                    43\n",
              "Kentucky                                                          43\n",
              "Louisiana                                                         42\n",
              "Alabama                                                           38\n",
              "Mississippi                                                       36\n",
              "West Virginia                                                     34"
            ]
          },
          "metadata": {
            "tags": []
          },
          "execution_count": 3
        }
      ]
    },
    {
      "cell_type": "code",
      "metadata": {
        "id": "W6RvJ-vPSVRV",
        "colab_type": "code",
        "colab": {
          "base_uri": "https://localhost:8080/",
          "height": 198
        },
        "outputId": "aeb47e19-a2a7-4711-aef0-21850c277deb"
      },
      "source": [
        "ZoomVideoCommunications.head()"
      ],
      "execution_count": 4,
      "outputs": [
        {
          "output_type": "execute_result",
          "data": {
            "text/html": [
              "<div>\n",
              "<style scoped>\n",
              "    .dataframe tbody tr th:only-of-type {\n",
              "        vertical-align: middle;\n",
              "    }\n",
              "\n",
              "    .dataframe tbody tr th {\n",
              "        vertical-align: top;\n",
              "    }\n",
              "\n",
              "    .dataframe thead th {\n",
              "        text-align: right;\n",
              "    }\n",
              "</style>\n",
              "<table border=\"1\" class=\"dataframe\">\n",
              "  <thead>\n",
              "    <tr style=\"text-align: right;\">\n",
              "      <th></th>\n",
              "      <th>Category: All categories</th>\n",
              "    </tr>\n",
              "  </thead>\n",
              "  <tbody>\n",
              "    <tr>\n",
              "      <th>Region</th>\n",
              "      <td>Zoom Video Communications: (8/13/19 - 8/13/20)</td>\n",
              "    </tr>\n",
              "    <tr>\n",
              "      <th>Vermont</th>\n",
              "      <td>100</td>\n",
              "    </tr>\n",
              "    <tr>\n",
              "      <th>Massachusetts</th>\n",
              "      <td>93</td>\n",
              "    </tr>\n",
              "    <tr>\n",
              "      <th>Delaware</th>\n",
              "      <td>88</td>\n",
              "    </tr>\n",
              "    <tr>\n",
              "      <th>California</th>\n",
              "      <td>87</td>\n",
              "    </tr>\n",
              "  </tbody>\n",
              "</table>\n",
              "</div>"
            ],
            "text/plain": [
              "                                     Category: All categories\n",
              "Region         Zoom Video Communications: (8/13/19 - 8/13/20)\n",
              "Vermont                                                   100\n",
              "Massachusetts                                              93\n",
              "Delaware                                                   88\n",
              "California                                                 87"
            ]
          },
          "metadata": {
            "tags": []
          },
          "execution_count": 4
        }
      ]
    },
    {
      "cell_type": "code",
      "metadata": {
        "id": "G7hvGROBTY87",
        "colab_type": "code",
        "colab": {
          "base_uri": "https://localhost:8080/",
          "height": 198
        },
        "outputId": "4fc2a26d-7382-4725-a195-affa214b615e"
      },
      "source": [
        "ZoomVideoCommunications.tail()"
      ],
      "execution_count": 5,
      "outputs": [
        {
          "output_type": "execute_result",
          "data": {
            "text/html": [
              "<div>\n",
              "<style scoped>\n",
              "    .dataframe tbody tr th:only-of-type {\n",
              "        vertical-align: middle;\n",
              "    }\n",
              "\n",
              "    .dataframe tbody tr th {\n",
              "        vertical-align: top;\n",
              "    }\n",
              "\n",
              "    .dataframe thead th {\n",
              "        text-align: right;\n",
              "    }\n",
              "</style>\n",
              "<table border=\"1\" class=\"dataframe\">\n",
              "  <thead>\n",
              "    <tr style=\"text-align: right;\">\n",
              "      <th></th>\n",
              "      <th>Category: All categories</th>\n",
              "    </tr>\n",
              "  </thead>\n",
              "  <tbody>\n",
              "    <tr>\n",
              "      <th>Kentucky</th>\n",
              "      <td>43</td>\n",
              "    </tr>\n",
              "    <tr>\n",
              "      <th>Louisiana</th>\n",
              "      <td>42</td>\n",
              "    </tr>\n",
              "    <tr>\n",
              "      <th>Alabama</th>\n",
              "      <td>38</td>\n",
              "    </tr>\n",
              "    <tr>\n",
              "      <th>Mississippi</th>\n",
              "      <td>36</td>\n",
              "    </tr>\n",
              "    <tr>\n",
              "      <th>West Virginia</th>\n",
              "      <td>34</td>\n",
              "    </tr>\n",
              "  </tbody>\n",
              "</table>\n",
              "</div>"
            ],
            "text/plain": [
              "              Category: All categories\n",
              "Kentucky                            43\n",
              "Louisiana                           42\n",
              "Alabama                             38\n",
              "Mississippi                         36\n",
              "West Virginia                       34"
            ]
          },
          "metadata": {
            "tags": []
          },
          "execution_count": 5
        }
      ]
    },
    {
      "cell_type": "code",
      "metadata": {
        "id": "rfs4hJoATY_G",
        "colab_type": "code",
        "colab": {
          "base_uri": "https://localhost:8080/",
          "height": 168
        },
        "outputId": "53b88b70-8562-4118-c37e-2ae51a377b32"
      },
      "source": [
        "ZoomVideoCommunications.describe()"
      ],
      "execution_count": 6,
      "outputs": [
        {
          "output_type": "execute_result",
          "data": {
            "text/html": [
              "<div>\n",
              "<style scoped>\n",
              "    .dataframe tbody tr th:only-of-type {\n",
              "        vertical-align: middle;\n",
              "    }\n",
              "\n",
              "    .dataframe tbody tr th {\n",
              "        vertical-align: top;\n",
              "    }\n",
              "\n",
              "    .dataframe thead th {\n",
              "        text-align: right;\n",
              "    }\n",
              "</style>\n",
              "<table border=\"1\" class=\"dataframe\">\n",
              "  <thead>\n",
              "    <tr style=\"text-align: right;\">\n",
              "      <th></th>\n",
              "      <th>Category: All categories</th>\n",
              "    </tr>\n",
              "  </thead>\n",
              "  <tbody>\n",
              "    <tr>\n",
              "      <th>count</th>\n",
              "      <td>52</td>\n",
              "    </tr>\n",
              "    <tr>\n",
              "      <th>unique</th>\n",
              "      <td>35</td>\n",
              "    </tr>\n",
              "    <tr>\n",
              "      <th>top</th>\n",
              "      <td>68</td>\n",
              "    </tr>\n",
              "    <tr>\n",
              "      <th>freq</th>\n",
              "      <td>3</td>\n",
              "    </tr>\n",
              "  </tbody>\n",
              "</table>\n",
              "</div>"
            ],
            "text/plain": [
              "       Category: All categories\n",
              "count                        52\n",
              "unique                       35\n",
              "top                          68\n",
              "freq                          3"
            ]
          },
          "metadata": {
            "tags": []
          },
          "execution_count": 6
        }
      ]
    },
    {
      "cell_type": "code",
      "metadata": {
        "id": "JZoWbyrpTZBh",
        "colab_type": "code",
        "colab": {}
      },
      "source": [
        "import sqlite3"
      ],
      "execution_count": 7,
      "outputs": []
    },
    {
      "cell_type": "code",
      "metadata": {
        "id": "XS6mMWhhTZEL",
        "colab_type": "code",
        "colab": {}
      },
      "source": [
        "conn = sqlite3.connect(\"ZoomVideoCommunications.db\")\n",
        "c = conn.cursor()"
      ],
      "execution_count": 8,
      "outputs": []
    },
    {
      "cell_type": "code",
      "metadata": {
        "id": "gZGMcQDaTZHB",
        "colab_type": "code",
        "colab": {}
      },
      "source": [
        "conn = sqlite3.connect(\"ZoomVideoCommunications.db\")\n",
        "c = conn.cursor()"
      ],
      "execution_count": 9,
      "outputs": []
    },
    {
      "cell_type": "code",
      "metadata": {
        "id": "aiUo0pDyTZLC",
        "colab_type": "code",
        "colab": {
          "base_uri": "https://localhost:8080/",
          "height": 72
        },
        "outputId": "a4165757-e14e-4797-e999-331910b9e68f"
      },
      "source": [
        "ZoomVideoCommunications.to_sql(\"ZoomVideoCommunications\", conn, if_exists='replace')"
      ],
      "execution_count": 10,
      "outputs": [
        {
          "output_type": "stream",
          "text": [
            "/usr/local/lib/python3.6/dist-packages/pandas/core/generic.py:2663: UserWarning: The spaces in these column names will not be changed. In pandas versions < 0.14, spaces were converted to underscores.\n",
            "  method=method,\n"
          ],
          "name": "stderr"
        }
      ]
    },
    {
      "cell_type": "code",
      "metadata": {
        "id": "ikrPM5BRTwvY",
        "colab_type": "code",
        "colab": {
          "base_uri": "https://localhost:8080/",
          "height": 915
        },
        "outputId": "45a29379-9025-4cf9-b709-b9b60b5db0c9"
      },
      "source": [
        "#See data\n",
        "c.execute(\"\"\"SELECT * FROM ZoomVideoCommunications\"\"\")\n",
        "rows = c.fetchall()\n",
        "rows"
      ],
      "execution_count": 11,
      "outputs": [
        {
          "output_type": "execute_result",
          "data": {
            "text/plain": [
              "[('Region', 'Zoom Video Communications: (8/13/19 - 8/13/20)'),\n",
              " ('Vermont', '100'),\n",
              " ('Massachusetts', '93'),\n",
              " ('Delaware', '88'),\n",
              " ('California', '87'),\n",
              " ('New Hampshire', '85'),\n",
              " ('District of Columbia', '84'),\n",
              " ('Maryland', '83'),\n",
              " ('Rhode Island', '81'),\n",
              " ('Maine', '81'),\n",
              " ('New Jersey', '78'),\n",
              " ('Connecticut', '74'),\n",
              " ('Washington', '73'),\n",
              " ('Alaska', '73'),\n",
              " ('Oregon', '68'),\n",
              " ('Hawaii', '68'),\n",
              " ('Colorado', '68'),\n",
              " ('New York', '67'),\n",
              " ('Kansas', '66'),\n",
              " ('Pennsylvania', '63'),\n",
              " ('Nebraska', '62'),\n",
              " ('Virginia', '62'),\n",
              " ('Minnesota', '62'),\n",
              " ('Utah', '61'),\n",
              " ('South Dakota', '61'),\n",
              " ('Illinois', '61'),\n",
              " ('Wyoming', '59'),\n",
              " ('Idaho', '58'),\n",
              " ('Michigan', '58'),\n",
              " ('Iowa', '57'),\n",
              " ('Texas', '56'),\n",
              " ('North Carolina', '56'),\n",
              " ('Arizona', '55'),\n",
              " ('New Mexico', '54'),\n",
              " ('Montana', '54'),\n",
              " ('Wisconsin', '54'),\n",
              " ('Florida', '53'),\n",
              " ('North Dakota', '53'),\n",
              " ('Missouri', '51'),\n",
              " ('Indiana', '50'),\n",
              " ('Ohio', '48'),\n",
              " ('Arkansas', '48'),\n",
              " ('Oklahoma', '46'),\n",
              " ('Georgia', '46'),\n",
              " ('Tennessee', '44'),\n",
              " ('Nevada', '43'),\n",
              " ('South Carolina', '43'),\n",
              " ('Kentucky', '43'),\n",
              " ('Louisiana', '42'),\n",
              " ('Alabama', '38'),\n",
              " ('Mississippi', '36'),\n",
              " ('West Virginia', '34')]"
            ]
          },
          "metadata": {
            "tags": []
          },
          "execution_count": 11
        }
      ]
    },
    {
      "cell_type": "code",
      "metadata": {
        "id": "AMj4frwuVW5d",
        "colab_type": "code",
        "colab": {
          "base_uri": "https://localhost:8080/",
          "height": 505
        },
        "outputId": "c72bdfb8-7fcf-436b-9216-f516beaa1236"
      },
      "source": [
        "x = [0,1,2,3,4]\n",
        "y = [0,2,4,6,8]\n",
        "\n",
        "# Resize your Graph (dpi specifies pixels per inch. When saving probably should use 300 if possible)\n",
        "plt.figure(figsize=(8,5), dpi=100)\n",
        "\n",
        "# Line 1\n",
        "\n",
        "# Keyword Argument Notation\n",
        "#plt.plot(x,y, label='2x', color='red', linewidth=2, marker='.', linestyle='--', markersize=10, markeredgecolor='blue')\n",
        "\n",
        "# Shorthand notation\n",
        "# fmt = '[color][marker][line]'\n",
        "plt.plot(x,y, 'b^--', label='2x')\n",
        "\n",
        "## Line 2\n",
        "\n",
        "# select interval we want to plot points at\n",
        "x2 = np.arange(0,4.5,0.5)\n",
        "\n",
        "# Plot part of the graph as line\n",
        "plt.plot(x2[:6], x2[:6]**2, 'r', label='X^2')\n",
        "\n",
        "# Plot remainder of graph as a dot\n",
        "plt.plot(x2[5:], x2[5:]**2, 'r--')\n",
        "\n",
        "# Add a title (specify font parameters with fontdict)\n",
        "plt.title('Zoom Video Communications.', fontdict={'fontname': 'Comic Sans MS', 'fontsize': 20})\n",
        "\n",
        "# X and Y labels\n",
        "plt.xlabel('Zoom Video Communications.')\n",
        "\n",
        "# X, Y axis Tickmarks (scale of your graph)\n",
        "plt.xticks([0,1,2,3,4,])\n",
        "#plt.yticks([0,2,4,6,8,10])\n",
        "\n",
        "# Add a legend\n",
        "plt.legend()\n",
        "\n",
        "# Save figure (dpi 300 is good when saving so graph has high resolution)\n",
        "plt.savefig('mygraph.png', dpi=300)\n",
        "\n",
        "# Show plot\n",
        "plt.show()"
      ],
      "execution_count": 12,
      "outputs": [
        {
          "output_type": "stream",
          "text": [
            "findfont: Font family ['Comic Sans MS'] not found. Falling back to DejaVu Sans.\n"
          ],
          "name": "stderr"
        },
        {
          "output_type": "display_data",
          "data": {
            "image/png": "[encoded data removed]",
            "text/plain": [
              "<Figure size 800x500 with 1 Axes>"
            ]
          },
          "metadata": {
            "tags": [],
            "needs_background": "light"
          }
        }
      ]
    },
    {
      "cell_type": "code",
      "metadata": {
        "id": "9BF77NCoVkeM",
        "colab_type": "code",
        "colab": {
          "base_uri": "https://localhost:8080/",
          "height": 287
        },
        "outputId": "86666c12-e858-4dec-df5b-fd4810998e3b"
      },
      "source": [
        "labels = ['A', 'B', 'C']\n",
        "values = [1,4,2]\n",
        "\n",
        "plt.figure(figsize=(5,3), dpi=100)\n",
        "\n",
        "bars = plt.bar(labels, values)\n",
        "\n",
        "patterns = ['/', 'O', '*']\n",
        "for bar in bars:\n",
        "    bar.set_hatch(patterns.pop(0))\n",
        "\n",
        "plt.savefig('barchart.png', dpi=300)\n",
        "\n",
        "plt.show()"
      ],
      "execution_count": 13,
      "outputs": [
        {
          "output_type": "display_data",
          "data": {
            "image/png": "[encoded data removed]",
            "text/plain": [
              "<Figure size 500x300 with 1 Axes>"
            ]
          },
          "metadata": {
            "tags": [],
            "needs_background": "light"
          }
        }
      ]
    }
  ]
}