{
  "nbformat": 4,
  "nbformat_minor": 0,
  "metadata": {
    "colab": {
      "name": "Honda Motor Co Ltd(HMC).ipynb",
      "provenance": [],
      "authorship_tag": "ABX9TyNO6xGsTixKa7UpQwln7yJb",
      "include_colab_link": true
    },
    "kernelspec": {
      "name": "python3",
      "display_name": "Python 3"
    }
  },
  "cells": [
    {
      "cell_type": "markdown",
      "metadata": {
        "id": "view-in-github",
        "colab_type": "text"
      },
      "source": [
        "<a href=\"https://colab.research.google.com/github/benvictoria21/AnalyzeStocks/blob/master/Honda_Motor_Co_Ltd(HMC).ipynb\" target=\"_parent\"><img src=\"https://colab.research.google.com/assets/colab-badge.svg\" alt=\"Open In Colab\"/></a>"
      ]
    },
    {
      "cell_type": "code",
      "metadata": {
        "colab": {
          "base_uri": "https://localhost:8080/"
        },
        "id": "OPn_wNx4dPvH",
        "outputId": "5d9424c9-1a5f-42d3-8310-40635de58216"
      },
      "source": [
        "!sudo pip install  yfinance"
      ],
      "execution_count": 86,
      "outputs": [
        {
          "output_type": "stream",
          "text": [
            "Requirement already satisfied: yfinance in /usr/local/lib/python3.6/dist-packages (0.1.55)\n",
            "Requirement already satisfied: pandas>=0.24 in /usr/local/lib/python3.6/dist-packages (from yfinance) (1.1.4)\n",
            "Requirement already satisfied: requests>=2.20 in /usr/local/lib/python3.6/dist-packages (from yfinance) (2.23.0)\n",
            "Requirement already satisfied: numpy>=1.15 in /usr/local/lib/python3.6/dist-packages (from yfinance) (1.18.5)\n",
            "Requirement already satisfied: multitasking>=0.0.7 in /usr/local/lib/python3.6/dist-packages (from yfinance) (0.0.9)\n",
            "Requirement already satisfied: lxml>=4.5.1 in /usr/local/lib/python3.6/dist-packages (from yfinance) (4.6.1)\n",
            "Requirement already satisfied: python-dateutil>=2.7.3 in /usr/local/lib/python3.6/dist-packages (from pandas>=0.24->yfinance) (2.8.1)\n",
            "Requirement already satisfied: pytz>=2017.2 in /usr/local/lib/python3.6/dist-packages (from pandas>=0.24->yfinance) (2018.9)\n",
            "Requirement already satisfied: certifi>=2017.4.17 in /usr/local/lib/python3.6/dist-packages (from requests>=2.20->yfinance) (2020.11.8)\n",
            "Requirement already satisfied: idna<3,>=2.5 in /usr/local/lib/python3.6/dist-packages (from requests>=2.20->yfinance) (2.10)\n",
            "Requirement already satisfied: chardet<4,>=3.0.2 in /usr/local/lib/python3.6/dist-packages (from requests>=2.20->yfinance) (3.0.4)\n",
            "Requirement already satisfied: urllib3!=1.25.0,!=1.25.1,<1.26,>=1.21.1 in /usr/local/lib/python3.6/dist-packages (from requests>=2.20->yfinance) (1.24.3)\n",
            "Requirement already satisfied: six>=1.5 in /usr/local/lib/python3.6/dist-packages (from python-dateutil>=2.7.3->pandas>=0.24->yfinance) (1.15.0)\n"
          ],
          "name": "stdout"
        }
      ]
    },
    {
      "cell_type": "code",
      "metadata": {
        "id": "k8yoJL99cuXk"
      },
      "source": [
        "import numpy as np \n",
        "import pandas as pd \n",
        "import matplotlib.pyplot as plt\n",
        "import yfinance"
      ],
      "execution_count": 87,
      "outputs": []
    },
    {
      "cell_type": "code",
      "metadata": {
        "colab": {
          "base_uri": "https://localhost:8080/",
          "height": 467
        },
        "id": "Zt4xpw9jdTZt",
        "outputId": "20902599-6248-422a-df78-4337ab6fbf36"
      },
      "source": [
        "HMC = yfinance.download(\"HMC\")\n",
        "HMC"
      ],
      "execution_count": 88,
      "outputs": [
        {
          "output_type": "stream",
          "text": [
            "\r[*********************100%***********************]  1 of 1 completed\n"
          ],
          "name": "stdout"
        },
        {
          "output_type": "execute_result",
          "data": {
            "text/html": [
              "<div>\n",
              "<style scoped>\n",
              "    .dataframe tbody tr th:only-of-type {\n",
              "        vertical-align: middle;\n",
              "    }\n",
              "\n",
              "    .dataframe tbody tr th {\n",
              "        vertical-align: top;\n",
              "    }\n",
              "\n",
              "    .dataframe thead th {\n",
              "        text-align: right;\n",
              "    }\n",
              "</style>\n",
              "<table border=\"1\" class=\"dataframe\">\n",
              "  <thead>\n",
              "    <tr style=\"text-align: right;\">\n",
              "      <th></th>\n",
              "      <th>Open</th>\n",
              "      <th>High</th>\n",
              "      <th>Low</th>\n",
              "      <th>Close</th>\n",
              "      <th>Adj Close</th>\n",
              "      <th>Volume</th>\n",
              "    </tr>\n",
              "    <tr>\n",
              "      <th>Date</th>\n",
              "      <th></th>\n",
              "      <th></th>\n",
              "      <th></th>\n",
              "      <th></th>\n",
              "      <th></th>\n",
              "      <th></th>\n",
              "    </tr>\n",
              "  </thead>\n",
              "  <tbody>\n",
              "    <tr>\n",
              "      <th>1980-03-17</th>\n",
              "      <td>0.893750</td>\n",
              "      <td>0.909375</td>\n",
              "      <td>0.893750</td>\n",
              "      <td>0.893750</td>\n",
              "      <td>0.455719</td>\n",
              "      <td>26000</td>\n",
              "    </tr>\n",
              "    <tr>\n",
              "      <th>1980-03-18</th>\n",
              "      <td>0.909375</td>\n",
              "      <td>0.909375</td>\n",
              "      <td>0.909375</td>\n",
              "      <td>0.909375</td>\n",
              "      <td>0.463687</td>\n",
              "      <td>2000</td>\n",
              "    </tr>\n",
              "    <tr>\n",
              "      <th>1980-03-19</th>\n",
              "      <td>0.900000</td>\n",
              "      <td>0.900000</td>\n",
              "      <td>0.900000</td>\n",
              "      <td>0.900000</td>\n",
              "      <td>0.458906</td>\n",
              "      <td>2000</td>\n",
              "    </tr>\n",
              "    <tr>\n",
              "      <th>1980-03-20</th>\n",
              "      <td>0.900000</td>\n",
              "      <td>0.900000</td>\n",
              "      <td>0.900000</td>\n",
              "      <td>0.900000</td>\n",
              "      <td>0.458906</td>\n",
              "      <td>0</td>\n",
              "    </tr>\n",
              "    <tr>\n",
              "      <th>1980-03-21</th>\n",
              "      <td>0.900000</td>\n",
              "      <td>0.900000</td>\n",
              "      <td>0.900000</td>\n",
              "      <td>0.900000</td>\n",
              "      <td>0.458906</td>\n",
              "      <td>2000</td>\n",
              "    </tr>\n",
              "    <tr>\n",
              "      <th>...</th>\n",
              "      <td>...</td>\n",
              "      <td>...</td>\n",
              "      <td>...</td>\n",
              "      <td>...</td>\n",
              "      <td>...</td>\n",
              "      <td>...</td>\n",
              "    </tr>\n",
              "    <tr>\n",
              "      <th>2020-11-19</th>\n",
              "      <td>28.430000</td>\n",
              "      <td>28.570000</td>\n",
              "      <td>28.320000</td>\n",
              "      <td>28.450001</td>\n",
              "      <td>28.450001</td>\n",
              "      <td>409400</td>\n",
              "    </tr>\n",
              "    <tr>\n",
              "      <th>2020-11-20</th>\n",
              "      <td>28.809999</td>\n",
              "      <td>28.889999</td>\n",
              "      <td>28.620001</td>\n",
              "      <td>28.780001</td>\n",
              "      <td>28.780001</td>\n",
              "      <td>708000</td>\n",
              "    </tr>\n",
              "    <tr>\n",
              "      <th>2020-11-23</th>\n",
              "      <td>29.200001</td>\n",
              "      <td>29.330000</td>\n",
              "      <td>29.070000</td>\n",
              "      <td>29.110001</td>\n",
              "      <td>29.110001</td>\n",
              "      <td>566100</td>\n",
              "    </tr>\n",
              "    <tr>\n",
              "      <th>2020-11-24</th>\n",
              "      <td>29.639999</td>\n",
              "      <td>29.799999</td>\n",
              "      <td>29.500000</td>\n",
              "      <td>29.730000</td>\n",
              "      <td>29.730000</td>\n",
              "      <td>687100</td>\n",
              "    </tr>\n",
              "    <tr>\n",
              "      <th>2020-11-25</th>\n",
              "      <td>29.230000</td>\n",
              "      <td>29.379999</td>\n",
              "      <td>29.040001</td>\n",
              "      <td>29.350000</td>\n",
              "      <td>29.350000</td>\n",
              "      <td>733800</td>\n",
              "    </tr>\n",
              "  </tbody>\n",
              "</table>\n",
              "<p>10264 rows × 6 columns</p>\n",
              "</div>"
            ],
            "text/plain": [
              "                 Open       High        Low      Close  Adj Close  Volume\n",
              "Date                                                                     \n",
              "1980-03-17   0.893750   0.909375   0.893750   0.893750   0.455719   26000\n",
              "1980-03-18   0.909375   0.909375   0.909375   0.909375   0.463687    2000\n",
              "1980-03-19   0.900000   0.900000   0.900000   0.900000   0.458906    2000\n",
              "1980-03-20   0.900000   0.900000   0.900000   0.900000   0.458906       0\n",
              "1980-03-21   0.900000   0.900000   0.900000   0.900000   0.458906    2000\n",
              "...               ...        ...        ...        ...        ...     ...\n",
              "2020-11-19  28.430000  28.570000  28.320000  28.450001  28.450001  409400\n",
              "2020-11-20  28.809999  28.889999  28.620001  28.780001  28.780001  708000\n",
              "2020-11-23  29.200001  29.330000  29.070000  29.110001  29.110001  566100\n",
              "2020-11-24  29.639999  29.799999  29.500000  29.730000  29.730000  687100\n",
              "2020-11-25  29.230000  29.379999  29.040001  29.350000  29.350000  733800\n",
              "\n",
              "[10264 rows x 6 columns]"
            ]
          },
          "metadata": {
            "tags": []
          },
          "execution_count": 88
        }
      ]
    },
    {
      "cell_type": "code",
      "metadata": {
        "colab": {
          "base_uri": "https://localhost:8080/",
          "height": 235
        },
        "id": "ENQnVAzVdlt5",
        "outputId": "efd7d871-5f90-43d0-c545-92a8f73fd55a"
      },
      "source": [
        "HMC.head()"
      ],
      "execution_count": 89,
      "outputs": [
        {
          "output_type": "execute_result",
          "data": {
            "text/html": [
              "<div>\n",
              "<style scoped>\n",
              "    .dataframe tbody tr th:only-of-type {\n",
              "        vertical-align: middle;\n",
              "    }\n",
              "\n",
              "    .dataframe tbody tr th {\n",
              "        vertical-align: top;\n",
              "    }\n",
              "\n",
              "    .dataframe thead th {\n",
              "        text-align: right;\n",
              "    }\n",
              "</style>\n",
              "<table border=\"1\" class=\"dataframe\">\n",
              "  <thead>\n",
              "    <tr style=\"text-align: right;\">\n",
              "      <th></th>\n",
              "      <th>Open</th>\n",
              "      <th>High</th>\n",
              "      <th>Low</th>\n",
              "      <th>Close</th>\n",
              "      <th>Adj Close</th>\n",
              "      <th>Volume</th>\n",
              "    </tr>\n",
              "    <tr>\n",
              "      <th>Date</th>\n",
              "      <th></th>\n",
              "      <th></th>\n",
              "      <th></th>\n",
              "      <th></th>\n",
              "      <th></th>\n",
              "      <th></th>\n",
              "    </tr>\n",
              "  </thead>\n",
              "  <tbody>\n",
              "    <tr>\n",
              "      <th>1980-03-17</th>\n",
              "      <td>0.893750</td>\n",
              "      <td>0.909375</td>\n",
              "      <td>0.893750</td>\n",
              "      <td>0.893750</td>\n",
              "      <td>0.455719</td>\n",
              "      <td>26000</td>\n",
              "    </tr>\n",
              "    <tr>\n",
              "      <th>1980-03-18</th>\n",
              "      <td>0.909375</td>\n",
              "      <td>0.909375</td>\n",
              "      <td>0.909375</td>\n",
              "      <td>0.909375</td>\n",
              "      <td>0.463687</td>\n",
              "      <td>2000</td>\n",
              "    </tr>\n",
              "    <tr>\n",
              "      <th>1980-03-19</th>\n",
              "      <td>0.900000</td>\n",
              "      <td>0.900000</td>\n",
              "      <td>0.900000</td>\n",
              "      <td>0.900000</td>\n",
              "      <td>0.458906</td>\n",
              "      <td>2000</td>\n",
              "    </tr>\n",
              "    <tr>\n",
              "      <th>1980-03-20</th>\n",
              "      <td>0.900000</td>\n",
              "      <td>0.900000</td>\n",
              "      <td>0.900000</td>\n",
              "      <td>0.900000</td>\n",
              "      <td>0.458906</td>\n",
              "      <td>0</td>\n",
              "    </tr>\n",
              "    <tr>\n",
              "      <th>1980-03-21</th>\n",
              "      <td>0.900000</td>\n",
              "      <td>0.900000</td>\n",
              "      <td>0.900000</td>\n",
              "      <td>0.900000</td>\n",
              "      <td>0.458906</td>\n",
              "      <td>2000</td>\n",
              "    </tr>\n",
              "  </tbody>\n",
              "</table>\n",
              "</div>"
            ],
            "text/plain": [
              "                Open      High       Low     Close  Adj Close  Volume\n",
              "Date                                                                 \n",
              "1980-03-17  0.893750  0.909375  0.893750  0.893750   0.455719   26000\n",
              "1980-03-18  0.909375  0.909375  0.909375  0.909375   0.463687    2000\n",
              "1980-03-19  0.900000  0.900000  0.900000  0.900000   0.458906    2000\n",
              "1980-03-20  0.900000  0.900000  0.900000  0.900000   0.458906       0\n",
              "1980-03-21  0.900000  0.900000  0.900000  0.900000   0.458906    2000"
            ]
          },
          "metadata": {
            "tags": []
          },
          "execution_count": 89
        }
      ]
    },
    {
      "cell_type": "code",
      "metadata": {
        "colab": {
          "base_uri": "https://localhost:8080/"
        },
        "id": "tGp4wu1wdlw8",
        "outputId": "a9e4db5f-3a77-4300-a9eb-2bddc234a6f8"
      },
      "source": [
        "HMC.Close"
      ],
      "execution_count": 90,
      "outputs": [
        {
          "output_type": "execute_result",
          "data": {
            "text/plain": [
              "Date\n",
              "1980-03-17     0.893750\n",
              "1980-03-18     0.909375\n",
              "1980-03-19     0.900000\n",
              "1980-03-20     0.900000\n",
              "1980-03-21     0.900000\n",
              "                ...    \n",
              "2020-11-19    28.450001\n",
              "2020-11-20    28.780001\n",
              "2020-11-23    29.110001\n",
              "2020-11-24    29.730000\n",
              "2020-11-25    29.350000\n",
              "Name: Close, Length: 10264, dtype: float64"
            ]
          },
          "metadata": {
            "tags": []
          },
          "execution_count": 90
        }
      ]
    },
    {
      "cell_type": "code",
      "metadata": {
        "colab": {
          "base_uri": "https://localhost:8080/",
          "height": 296
        },
        "id": "JGG54M7rdl0G",
        "outputId": "b9c36eda-de2b-460f-f3ae-844f4f98cd99"
      },
      "source": [
        "plt.xlabel(\"days\")         \n",
        "plt.ylabel(\"price\")    \n",
        "plt.grid()              \n",
        "plt.plot(HMC.Close)"
      ],
      "execution_count": 91,
      "outputs": [
        {
          "output_type": "execute_result",
          "data": {
            "text/plain": [
              "[<matplotlib.lines.Line2D at 0x7fb1f15c2f98>]"
            ]
          },
          "metadata": {
            "tags": []
          },
          "execution_count": 91
        },
        {
          "output_type": "display_data",
          "data": {
            "image/png": "[encoded data removed]",
            "text/plain": [
              "<Figure size 432x288 with 1 Axes>"
            ]
          },
          "metadata": {
            "tags": [],
            "needs_background": "light"
          }
        }
      ]
    },
    {
      "cell_type": "code",
      "metadata": {
        "colab": {
          "base_uri": "https://localhost:8080/"
        },
        "id": "mAi2iuVodl11",
        "outputId": "6d6d961b-6b96-40b3-e573-102baf56da8d"
      },
      "source": [
        "HMC.High"
      ],
      "execution_count": 92,
      "outputs": [
        {
          "output_type": "execute_result",
          "data": {
            "text/plain": [
              "Date\n",
              "1980-03-17     0.909375\n",
              "1980-03-18     0.909375\n",
              "1980-03-19     0.900000\n",
              "1980-03-20     0.900000\n",
              "1980-03-21     0.900000\n",
              "                ...    \n",
              "2020-11-19    28.570000\n",
              "2020-11-20    28.889999\n",
              "2020-11-23    29.330000\n",
              "2020-11-24    29.799999\n",
              "2020-11-25    29.379999\n",
              "Name: High, Length: 10264, dtype: float64"
            ]
          },
          "metadata": {
            "tags": []
          },
          "execution_count": 92
        }
      ]
    },
    {
      "cell_type": "code",
      "metadata": {
        "colab": {
          "base_uri": "https://localhost:8080/",
          "height": 265
        },
        "id": "6lcDQiR0dl7u",
        "outputId": "6de87869-db6f-4447-873c-785bd96307b8"
      },
      "source": [
        "plt.plot(HMC.High)\n",
        "plt.grid()"
      ],
      "execution_count": 93,
      "outputs": [
        {
          "output_type": "display_data",
          "data": {
            "image/png": "[encoded data removed]",
            "text/plain": [
              "<Figure size 432x288 with 1 Axes>"
            ]
          },
          "metadata": {
            "tags": [],
            "needs_background": "light"
          }
        }
      ]
    },
    {
      "cell_type": "code",
      "metadata": {
        "colab": {
          "base_uri": "https://localhost:8080/"
        },
        "id": "t2C6ZCUGdl_E",
        "outputId": "2cc5ca91-317e-4faf-ae02-14d5f68b43e5"
      },
      "source": [
        "HMC.Open"
      ],
      "execution_count": 94,
      "outputs": [
        {
          "output_type": "execute_result",
          "data": {
            "text/plain": [
              "Date\n",
              "1980-03-17     0.893750\n",
              "1980-03-18     0.909375\n",
              "1980-03-19     0.900000\n",
              "1980-03-20     0.900000\n",
              "1980-03-21     0.900000\n",
              "                ...    \n",
              "2020-11-19    28.430000\n",
              "2020-11-20    28.809999\n",
              "2020-11-23    29.200001\n",
              "2020-11-24    29.639999\n",
              "2020-11-25    29.230000\n",
              "Name: Open, Length: 10264, dtype: float64"
            ]
          },
          "metadata": {
            "tags": []
          },
          "execution_count": 94
        }
      ]
    }
  ]
}