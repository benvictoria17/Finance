{
 "cells": [
  {
   "cell_type": "code",
   "execution_count": 1,
   "metadata": {
    "_cell_guid": "b1076dfc-b9ad-4769-8c92-a6c4dae69d19",
    "_uuid": "8f2839f25d086af736a60e9eeb907d3b93b6e0e5",
    "execution": {
     "iopub.execute_input": "2022-02-17T05:52:06.094089Z",
     "iopub.status.busy": "2022-02-17T05:52:06.093733Z",
     "iopub.status.idle": "2022-02-17T05:52:07.224459Z",
     "shell.execute_reply": "2022-02-17T05:52:07.223868Z",
     "shell.execute_reply.started": "2022-02-17T05:52:06.093983Z"
    }
   },
   "outputs": [],
   "source": [
    "import numpy as np \n",
    "import pandas as pd \n",
    "import matplotlib.pyplot as plt \n",
    "import seaborn as sns "
   ]
  },
  {
   "cell_type": "code",
   "execution_count": 2,
   "metadata": {
    "execution": {
     "iopub.execute_input": "2022-02-17T05:52:07.2268Z",
     "iopub.status.busy": "2022-02-17T05:52:07.226092Z",
     "iopub.status.idle": "2022-02-17T05:52:15.920869Z",
     "shell.execute_reply": "2022-02-17T05:52:15.919994Z",
     "shell.execute_reply.started": "2022-02-17T05:52:07.226755Z"
    }
   },
   "outputs": [
    {
     "name": "stderr",
     "output_type": "stream",
     "text": [
      "/Users/thomo/Library/Python/3.9/lib/python/site-packages/IPython/core/interactiveshell.py:3441: DtypeWarning: Columns (15,16,17,31,32,33,34,42,43,44) have mixed types.Specify dtype option on import or set low_memory=False.\n",
      "  exec(code_obj, self.user_global_ns, self.user_ns)\n"
     ]
    },
    {
     "data": {
      "text/html": [
       "<div>\n",
       "<style scoped>\n",
       "    .dataframe tbody tr th:only-of-type {\n",
       "        vertical-align: middle;\n",
       "    }\n",
       "\n",
       "    .dataframe tbody tr th {\n",
       "        vertical-align: top;\n",
       "    }\n",
       "\n",
       "    .dataframe thead th {\n",
       "        text-align: right;\n",
       "    }\n",
       "</style>\n",
       "<table border=\"1\" class=\"dataframe\">\n",
       "  <thead>\n",
       "    <tr style=\"text-align: right;\">\n",
       "      <th></th>\n",
       "      <th>action_taken</th>\n",
       "      <th>action_taken_name</th>\n",
       "      <th>agency_code</th>\n",
       "      <th>agency_abbr</th>\n",
       "      <th>agency_name</th>\n",
       "      <th>applicant_ethnicity</th>\n",
       "      <th>applicant_ethnicity_name</th>\n",
       "      <th>applicant_income_000s</th>\n",
       "      <th>applicant_race_1</th>\n",
       "      <th>applicant_race_2</th>\n",
       "      <th>...</th>\n",
       "      <th>state_abbr</th>\n",
       "      <th>state_name</th>\n",
       "      <th>hud_median_family_income</th>\n",
       "      <th>loan_amount_000s</th>\n",
       "      <th>number_of_1_to_4_family_units</th>\n",
       "      <th>number_of_owner_occupied_units</th>\n",
       "      <th>minority_population</th>\n",
       "      <th>population</th>\n",
       "      <th>rate_spread</th>\n",
       "      <th>tract_to_msamd_income</th>\n",
       "    </tr>\n",
       "  </thead>\n",
       "  <tbody>\n",
       "    <tr>\n",
       "      <th>0</th>\n",
       "      <td>1</td>\n",
       "      <td>Loan originated</td>\n",
       "      <td>9</td>\n",
       "      <td>CFPB</td>\n",
       "      <td>Consumer Financial Protection Bureau</td>\n",
       "      <td>2</td>\n",
       "      <td>Not Hispanic or Latino</td>\n",
       "      <td>97.0</td>\n",
       "      <td>5</td>\n",
       "      <td>NaN</td>\n",
       "      <td>...</td>\n",
       "      <td>NY</td>\n",
       "      <td>New York</td>\n",
       "      <td>109000.0</td>\n",
       "      <td>187</td>\n",
       "      <td>363.0</td>\n",
       "      <td>1817.0</td>\n",
       "      <td>21.139999</td>\n",
       "      <td>5870.0</td>\n",
       "      <td>NaN</td>\n",
       "      <td>109.459999</td>\n",
       "    </tr>\n",
       "    <tr>\n",
       "      <th>1</th>\n",
       "      <td>1</td>\n",
       "      <td>Loan originated</td>\n",
       "      <td>9</td>\n",
       "      <td>CFPB</td>\n",
       "      <td>Consumer Financial Protection Bureau</td>\n",
       "      <td>2</td>\n",
       "      <td>Not Hispanic or Latino</td>\n",
       "      <td>200.0</td>\n",
       "      <td>5</td>\n",
       "      <td>NaN</td>\n",
       "      <td>...</td>\n",
       "      <td>NY</td>\n",
       "      <td>New York</td>\n",
       "      <td>71300.0</td>\n",
       "      <td>460</td>\n",
       "      <td>53.0</td>\n",
       "      <td>256.0</td>\n",
       "      <td>45.959999</td>\n",
       "      <td>3512.0</td>\n",
       "      <td>NaN</td>\n",
       "      <td>160.600006</td>\n",
       "    </tr>\n",
       "    <tr>\n",
       "      <th>2</th>\n",
       "      <td>1</td>\n",
       "      <td>Loan originated</td>\n",
       "      <td>7</td>\n",
       "      <td>HUD</td>\n",
       "      <td>Department of Housing and Urban Development</td>\n",
       "      <td>2</td>\n",
       "      <td>Not Hispanic or Latino</td>\n",
       "      <td>NaN</td>\n",
       "      <td>3</td>\n",
       "      <td>NaN</td>\n",
       "      <td>...</td>\n",
       "      <td>NY</td>\n",
       "      <td>New York</td>\n",
       "      <td>71300.0</td>\n",
       "      <td>296</td>\n",
       "      <td>2745.0</td>\n",
       "      <td>2586.0</td>\n",
       "      <td>38.990002</td>\n",
       "      <td>8357.0</td>\n",
       "      <td>NaN</td>\n",
       "      <td>134.820007</td>\n",
       "    </tr>\n",
       "    <tr>\n",
       "      <th>3</th>\n",
       "      <td>1</td>\n",
       "      <td>Loan originated</td>\n",
       "      <td>9</td>\n",
       "      <td>CFPB</td>\n",
       "      <td>Consumer Financial Protection Bureau</td>\n",
       "      <td>2</td>\n",
       "      <td>Not Hispanic or Latino</td>\n",
       "      <td>202.0</td>\n",
       "      <td>5</td>\n",
       "      <td>NaN</td>\n",
       "      <td>...</td>\n",
       "      <td>NY</td>\n",
       "      <td>New York</td>\n",
       "      <td>109000.0</td>\n",
       "      <td>770</td>\n",
       "      <td>1879.0</td>\n",
       "      <td>2147.0</td>\n",
       "      <td>7.350000</td>\n",
       "      <td>6642.0</td>\n",
       "      <td>NaN</td>\n",
       "      <td>165.830002</td>\n",
       "    </tr>\n",
       "    <tr>\n",
       "      <th>4</th>\n",
       "      <td>1</td>\n",
       "      <td>Loan originated</td>\n",
       "      <td>9</td>\n",
       "      <td>CFPB</td>\n",
       "      <td>Consumer Financial Protection Bureau</td>\n",
       "      <td>2</td>\n",
       "      <td>Not Hispanic or Latino</td>\n",
       "      <td>255.0</td>\n",
       "      <td>5</td>\n",
       "      <td>NaN</td>\n",
       "      <td>...</td>\n",
       "      <td>NY</td>\n",
       "      <td>New York</td>\n",
       "      <td>109000.0</td>\n",
       "      <td>648</td>\n",
       "      <td>835.0</td>\n",
       "      <td>676.0</td>\n",
       "      <td>30.059999</td>\n",
       "      <td>2339.0</td>\n",
       "      <td>NaN</td>\n",
       "      <td>133.300003</td>\n",
       "    </tr>\n",
       "  </tbody>\n",
       "</table>\n",
       "<p>5 rows × 78 columns</p>\n",
       "</div>"
      ],
      "text/plain": [
       "   action_taken action_taken_name  agency_code agency_abbr  \\\n",
       "0             1   Loan originated            9        CFPB   \n",
       "1             1   Loan originated            9        CFPB   \n",
       "2             1   Loan originated            7         HUD   \n",
       "3             1   Loan originated            9        CFPB   \n",
       "4             1   Loan originated            9        CFPB   \n",
       "\n",
       "                                   agency_name  applicant_ethnicity  \\\n",
       "0         Consumer Financial Protection Bureau                    2   \n",
       "1         Consumer Financial Protection Bureau                    2   \n",
       "2  Department of Housing and Urban Development                    2   \n",
       "3         Consumer Financial Protection Bureau                    2   \n",
       "4         Consumer Financial Protection Bureau                    2   \n",
       "\n",
       "  applicant_ethnicity_name  applicant_income_000s  applicant_race_1  \\\n",
       "0   Not Hispanic or Latino                   97.0                 5   \n",
       "1   Not Hispanic or Latino                  200.0                 5   \n",
       "2   Not Hispanic or Latino                    NaN                 3   \n",
       "3   Not Hispanic or Latino                  202.0                 5   \n",
       "4   Not Hispanic or Latino                  255.0                 5   \n",
       "\n",
       "   applicant_race_2  ...  state_abbr  state_name  hud_median_family_income  \\\n",
       "0               NaN  ...          NY    New York                  109000.0   \n",
       "1               NaN  ...          NY    New York                   71300.0   \n",
       "2               NaN  ...          NY    New York                   71300.0   \n",
       "3               NaN  ...          NY    New York                  109000.0   \n",
       "4               NaN  ...          NY    New York                  109000.0   \n",
       "\n",
       "  loan_amount_000s number_of_1_to_4_family_units  \\\n",
       "0              187                         363.0   \n",
       "1              460                          53.0   \n",
       "2              296                        2745.0   \n",
       "3              770                        1879.0   \n",
       "4              648                         835.0   \n",
       "\n",
       "  number_of_owner_occupied_units minority_population population  rate_spread  \\\n",
       "0                         1817.0           21.139999     5870.0          NaN   \n",
       "1                          256.0           45.959999     3512.0          NaN   \n",
       "2                         2586.0           38.990002     8357.0          NaN   \n",
       "3                         2147.0            7.350000     6642.0          NaN   \n",
       "4                          676.0           30.059999     2339.0          NaN   \n",
       "\n",
       "  tract_to_msamd_income  \n",
       "0            109.459999  \n",
       "1            160.600006  \n",
       "2            134.820007  \n",
       "3            165.830002  \n",
       "4            133.300003  \n",
       "\n",
       "[5 rows x 78 columns]"
      ]
     },
     "execution_count": 2,
     "metadata": {},
     "output_type": "execute_result"
    }
   ],
   "source": [
    "raw_data = pd.read_csv(\"dataset/HomeMortgageDisclosureActDataNY2015//ny_hmda_2015.csv\")\n",
    "raw_data.head()"
   ]
  },
  {
   "cell_type": "code",
   "execution_count": 3,
   "metadata": {
    "execution": {
     "iopub.execute_input": "2022-02-17T05:52:15.922286Z",
     "iopub.status.busy": "2022-02-17T05:52:15.922034Z",
     "iopub.status.idle": "2022-02-17T05:52:15.928009Z",
     "shell.execute_reply": "2022-02-17T05:52:15.927422Z",
     "shell.execute_reply.started": "2022-02-17T05:52:15.922257Z"
    }
   },
   "outputs": [
    {
     "data": {
      "text/plain": [
       "(439654, 78)"
      ]
     },
     "execution_count": 3,
     "metadata": {},
     "output_type": "execute_result"
    }
   ],
   "source": [
    "raw_data.shape"
   ]
  },
  {
   "cell_type": "code",
   "execution_count": 4,
   "metadata": {
    "execution": {
     "iopub.execute_input": "2022-02-17T05:52:15.929737Z",
     "iopub.status.busy": "2022-02-17T05:52:15.929133Z",
     "iopub.status.idle": "2022-02-17T05:52:15.945355Z",
     "shell.execute_reply": "2022-02-17T05:52:15.944533Z",
     "shell.execute_reply.started": "2022-02-17T05:52:15.929699Z"
    }
   },
   "outputs": [
    {
     "data": {
      "text/plain": [
       "Index(['action_taken', 'action_taken_name', 'agency_code', 'agency_abbr',\n",
       "       'agency_name', 'applicant_ethnicity', 'applicant_ethnicity_name',\n",
       "       'applicant_income_000s', 'applicant_race_1', 'applicant_race_2',\n",
       "       'applicant_race_3', 'applicant_race_4', 'applicant_race_5',\n",
       "       'applicant_race_name_1', 'applicant_race_name_2',\n",
       "       'applicant_race_name_3', 'applicant_race_name_4',\n",
       "       'applicant_race_name_5', 'applicant_sex', 'applicant_sex_name',\n",
       "       'application_date_indicator', 'as_of_year', 'census_tract_number',\n",
       "       'co_applicant_ethnicity', 'co_applicant_ethnicity_name',\n",
       "       'co_applicant_race_1', 'co_applicant_race_2', 'co_applicant_race_3',\n",
       "       'co_applicant_race_4', 'co_applicant_race_5',\n",
       "       'co_applicant_race_name_1', 'co_applicant_race_name_2',\n",
       "       'co_applicant_race_name_3', 'co_applicant_race_name_4',\n",
       "       'co_applicant_race_name_5', 'co_applicant_sex', 'co_applicant_sex_name',\n",
       "       'county_code', 'county_name', 'denial_reason_1', 'denial_reason_2',\n",
       "       'denial_reason_3', 'denial_reason_name_1', 'denial_reason_name_2',\n",
       "       'denial_reason_name_3', 'edit_status', 'edit_status_name',\n",
       "       'hoepa_status', 'hoepa_status_name', 'lien_status', 'lien_status_name',\n",
       "       'loan_purpose', 'loan_purpose_name', 'loan_type', 'loan_type_name',\n",
       "       'msamd', 'msamd_name', 'owner_occupancy', 'owner_occupancy_name',\n",
       "       'preapproval', 'preapproval_name', 'property_type',\n",
       "       'property_type_name', 'purchaser_type', 'purchaser_type_name',\n",
       "       'respondent_id', 'sequence_number', 'state_code', 'state_abbr',\n",
       "       'state_name', 'hud_median_family_income', 'loan_amount_000s',\n",
       "       'number_of_1_to_4_family_units', 'number_of_owner_occupied_units',\n",
       "       'minority_population', 'population', 'rate_spread',\n",
       "       'tract_to_msamd_income'],\n",
       "      dtype='object')"
      ]
     },
     "execution_count": 4,
     "metadata": {},
     "output_type": "execute_result"
    }
   ],
   "source": [
    "raw_data.columns"
   ]
  },
  {
   "cell_type": "code",
   "execution_count": 5,
   "metadata": {
    "execution": {
     "iopub.execute_input": "2022-02-17T05:52:15.947735Z",
     "iopub.status.busy": "2022-02-17T05:52:15.947483Z",
     "iopub.status.idle": "2022-02-17T05:52:15.971605Z",
     "shell.execute_reply": "2022-02-17T05:52:15.97055Z",
     "shell.execute_reply.started": "2022-02-17T05:52:15.947704Z"
    }
   },
   "outputs": [
    {
     "data": {
      "text/plain": [
       "1    228054\n",
       "2     14180\n",
       "3     79697\n",
       "4     39496\n",
       "5     16733\n",
       "6     61490\n",
       "7         4\n",
       "Name: action_taken, dtype: int64"
      ]
     },
     "execution_count": 5,
     "metadata": {},
     "output_type": "execute_result"
    }
   ],
   "source": [
    "raw_data[\"action_taken\"].value_counts().sort_index()"
   ]
  },
  {
   "cell_type": "code",
   "execution_count": 6,
   "metadata": {
    "execution": {
     "iopub.execute_input": "2022-02-17T05:52:15.974133Z",
     "iopub.status.busy": "2022-02-17T05:52:15.973581Z",
     "iopub.status.idle": "2022-02-17T05:52:16.053844Z",
     "shell.execute_reply": "2022-02-17T05:52:16.052669Z",
     "shell.execute_reply.started": "2022-02-17T05:52:15.9739Z"
    }
   },
   "outputs": [
    {
     "data": {
      "text/plain": [
       "Loan originated                                        228054\n",
       "Application denied by financial institution             79697\n",
       "Loan purchased by the institution                       61490\n",
       "Application withdrawn by applicant                      39496\n",
       "File closed for incompleteness                          16733\n",
       "Application approved but not accepted                   14180\n",
       "Preapproval request denied by financial institution         4\n",
       "Name: action_taken_name, dtype: int64"
      ]
     },
     "execution_count": 6,
     "metadata": {},
     "output_type": "execute_result"
    }
   ],
   "source": [
    "raw_data['action_taken_name'].value_counts()"
   ]
  },
  {
   "cell_type": "code",
   "execution_count": 7,
   "metadata": {
    "execution": {
     "iopub.execute_input": "2022-02-17T05:52:16.05542Z",
     "iopub.status.busy": "2022-02-17T05:52:16.055174Z",
     "iopub.status.idle": "2022-02-17T05:52:16.200247Z",
     "shell.execute_reply": "2022-02-17T05:52:16.199671Z",
     "shell.execute_reply.started": "2022-02-17T05:52:16.055389Z"
    }
   },
   "outputs": [
    {
     "data": {
      "text/plain": [
       "(321931, 78)"
      ]
     },
     "execution_count": 7,
     "metadata": {},
     "output_type": "execute_result"
    }
   ],
   "source": [
    "filter1 = (raw_data['action_taken'] >= 1) & (raw_data['action_taken'] <= 3)\n",
    "data = raw_data[filter1]\n",
    "data.shape"
   ]
  },
  {
   "cell_type": "code",
   "execution_count": 8,
   "metadata": {
    "execution": {
     "iopub.execute_input": "2022-02-17T05:52:16.201864Z",
     "iopub.status.busy": "2022-02-17T05:52:16.201478Z",
     "iopub.status.idle": "2022-02-17T05:52:16.210513Z",
     "shell.execute_reply": "2022-02-17T05:52:16.209728Z",
     "shell.execute_reply.started": "2022-02-17T05:52:16.201823Z"
    }
   },
   "outputs": [
    {
     "data": {
      "text/plain": [
       "1    228054\n",
       "3     79697\n",
       "2     14180\n",
       "Name: action_taken, dtype: int64"
      ]
     },
     "execution_count": 8,
     "metadata": {},
     "output_type": "execute_result"
    }
   ],
   "source": [
    "freqs = data['action_taken'].value_counts()\n",
    "freqs"
   ]
  },
  {
   "cell_type": "code",
   "execution_count": 9,
   "metadata": {
    "execution": {
     "iopub.execute_input": "2022-02-17T05:52:16.212466Z",
     "iopub.status.busy": "2022-02-17T05:52:16.211789Z",
     "iopub.status.idle": "2022-02-17T05:52:16.22411Z",
     "shell.execute_reply": "2022-02-17T05:52:16.22323Z",
     "shell.execute_reply.started": "2022-02-17T05:52:16.212431Z"
    }
   },
   "outputs": [
    {
     "name": "stdout",
     "output_type": "stream",
     "text": [
      "Overall approval rate: 0.7524407404071058\n"
     ]
    }
   ],
   "source": [
    "overall_approval_rate = (freqs[1] + freqs[2]) / data.shape[0]\n",
    "print(\"Overall approval rate:\", overall_approval_rate)"
   ]
  },
  {
   "cell_type": "code",
   "execution_count": 10,
   "metadata": {
    "execution": {
     "iopub.execute_input": "2022-02-17T05:52:16.227765Z",
     "iopub.status.busy": "2022-02-17T05:52:16.227506Z",
     "iopub.status.idle": "2022-02-17T05:52:16.243221Z",
     "shell.execute_reply": "2022-02-17T05:52:16.24226Z",
     "shell.execute_reply.started": "2022-02-17T05:52:16.227734Z"
    }
   },
   "outputs": [
    {
     "data": {
      "text/plain": [
       "1    195566\n",
       "2     98112\n",
       "3     21456\n",
       "4      6797\n",
       "Name: applicant_sex, dtype: int64"
      ]
     },
     "execution_count": 10,
     "metadata": {},
     "output_type": "execute_result"
    }
   ],
   "source": [
    "data['applicant_sex'].value_counts()"
   ]
  },
  {
   "cell_type": "code",
   "execution_count": 11,
   "metadata": {
    "execution": {
     "iopub.execute_input": "2022-02-17T05:52:16.244847Z",
     "iopub.status.busy": "2022-02-17T05:52:16.244606Z",
     "iopub.status.idle": "2022-02-17T05:52:16.492231Z",
     "shell.execute_reply": "2022-02-17T05:52:16.491359Z",
     "shell.execute_reply.started": "2022-02-17T05:52:16.24482Z"
    }
   },
   "outputs": [
    {
     "data": {
      "text/plain": [
       "<AxesSubplot:>"
      ]
     },
     "execution_count": 11,
     "metadata": {},
     "output_type": "execute_result"
    },
    {
     "data": {
      "image/png": "[encoded data removed]",
      "text/plain": [
       "<Figure size 432x288 with 1 Axes>"
      ]
     },
     "metadata": {
      "needs_background": "light"
     },
     "output_type": "display_data"
    }
   ],
   "source": [
    "data['applicant_sex'].hist()"
   ]
  },
  {
   "cell_type": "code",
   "execution_count": 12,
   "metadata": {
    "execution": {
     "iopub.execute_input": "2022-02-17T05:52:16.493946Z",
     "iopub.status.busy": "2022-02-17T05:52:16.493567Z",
     "iopub.status.idle": "2022-02-17T05:52:16.554131Z",
     "shell.execute_reply": "2022-02-17T05:52:16.552977Z",
     "shell.execute_reply.started": "2022-02-17T05:52:16.493903Z"
    }
   },
   "outputs": [
    {
     "data": {
      "text/plain": [
       "Male                                                                                 195566\n",
       "Female                                                                                98112\n",
       "Information not provided by applicant in mail, Internet, or telephone application     21456\n",
       "Not applicable                                                                         6797\n",
       "Name: applicant_sex_name, dtype: int64"
      ]
     },
     "execution_count": 12,
     "metadata": {},
     "output_type": "execute_result"
    }
   ],
   "source": [
    "data['applicant_sex_name'].value_counts()"
   ]
  },
  {
   "cell_type": "code",
   "execution_count": 13,
   "metadata": {
    "execution": {
     "iopub.execute_input": "2022-02-17T05:52:16.555887Z",
     "iopub.status.busy": "2022-02-17T05:52:16.555621Z",
     "iopub.status.idle": "2022-02-17T05:52:16.825665Z",
     "shell.execute_reply": "2022-02-17T05:52:16.825102Z",
     "shell.execute_reply.started": "2022-02-17T05:52:16.555852Z"
    }
   },
   "outputs": [
    {
     "data": {
      "text/plain": [
       "(293678, 78)"
      ]
     },
     "execution_count": 13,
     "metadata": {},
     "output_type": "execute_result"
    }
   ],
   "source": [
    "filter2 = (data['applicant_sex_name'] == 'Male') | (data['applicant_sex_name'] == 'Female')\n",
    "data = data[filter2]\n",
    "data.shape"
   ]
  },
  {
   "cell_type": "code",
   "execution_count": 14,
   "metadata": {
    "execution": {
     "iopub.execute_input": "2022-02-17T05:52:16.828333Z",
     "iopub.status.busy": "2022-02-17T05:52:16.827988Z",
     "iopub.status.idle": "2022-02-17T05:52:17.066395Z",
     "shell.execute_reply": "2022-02-17T05:52:17.065368Z",
     "shell.execute_reply.started": "2022-02-17T05:52:16.828304Z"
    }
   },
   "outputs": [
    {
     "name": "stdout",
     "output_type": "stream",
     "text": [
      "Male: (195566, 78)\n",
      "Female: (98112, 78)\n"
     ]
    }
   ],
   "source": [
    "filter3 = (data['applicant_sex_name'] == 'Male')\n",
    "data_male = data[filter3]\n",
    "print(\"Male:\", data_male.shape)\n",
    "\n",
    "data_female = data[data['applicant_sex_name'] == 'Female']\n",
    "print(\"Female:\", data_female.shape)"
   ]
  },
  {
   "cell_type": "code",
   "execution_count": 15,
   "metadata": {
    "execution": {
     "iopub.execute_input": "2022-02-17T05:52:17.067819Z",
     "iopub.status.busy": "2022-02-17T05:52:17.067614Z",
     "iopub.status.idle": "2022-02-17T05:52:17.080947Z",
     "shell.execute_reply": "2022-02-17T05:52:17.079943Z",
     "shell.execute_reply.started": "2022-02-17T05:52:17.067793Z"
    }
   },
   "outputs": [
    {
     "name": "stdout",
     "output_type": "stream",
     "text": [
      "Male approvale rate: 0.7634353619749854\n",
      "Female approvale rate: 0.7408675799086758\n"
     ]
    }
   ],
   "source": [
    "freqs = data_male['action_taken'].value_counts()\n",
    "approval_rate_male = (freqs[1] + freqs[2]) / data_male.shape[0]\n",
    "print(\"Male approvale rate:\", approval_rate_male)\n",
    "\n",
    "freqs = data_female['action_taken'].value_counts()\n",
    "approval_rate_female = (freqs[1] + freqs[2]) / data_female.shape[0]\n",
    "print(\"Female approvale rate:\", approval_rate_female)"
   ]
  },
  {
   "cell_type": "code",
   "execution_count": 16,
   "metadata": {
    "execution": {
     "iopub.execute_input": "2022-02-17T05:52:17.082538Z",
     "iopub.status.busy": "2022-02-17T05:52:17.082255Z",
     "iopub.status.idle": "2022-02-17T05:52:17.09915Z",
     "shell.execute_reply": "2022-02-17T05:52:17.098128Z",
     "shell.execute_reply.started": "2022-02-17T05:52:17.082508Z"
    }
   },
   "outputs": [
    {
     "data": {
      "text/plain": [
       "5    231698\n",
       "2     22357\n",
       "3     21949\n",
       "6     15278\n",
       "1      1353\n",
       "4       991\n",
       "7        52\n",
       "Name: applicant_race_1, dtype: int64"
      ]
     },
     "execution_count": 16,
     "metadata": {},
     "output_type": "execute_result"
    }
   ],
   "source": [
    "data[\"applicant_race_1\"].value_counts()"
   ]
  },
  {
   "cell_type": "code",
   "execution_count": 17,
   "metadata": {
    "execution": {
     "iopub.execute_input": "2022-02-17T05:52:17.102429Z",
     "iopub.status.busy": "2022-02-17T05:52:17.102063Z",
     "iopub.status.idle": "2022-02-17T05:52:17.287626Z",
     "shell.execute_reply": "2022-02-17T05:52:17.286762Z",
     "shell.execute_reply.started": "2022-02-17T05:52:17.102386Z"
    }
   },
   "outputs": [
    {
     "data": {
      "text/plain": [
       "<AxesSubplot:>"
      ]
     },
     "execution_count": 17,
     "metadata": {},
     "output_type": "execute_result"
    },
    {
     "data": {
      "image/png": "[encoded data removed]",
      "text/plain": [
       "<Figure size 432x288 with 1 Axes>"
      ]
     },
     "metadata": {
      "needs_background": "light"
     },
     "output_type": "display_data"
    }
   ],
   "source": [
    "data[\"applicant_race_1\"].hist()"
   ]
  },
  {
   "cell_type": "code",
   "execution_count": 18,
   "metadata": {
    "execution": {
     "iopub.execute_input": "2022-02-17T05:52:17.289409Z",
     "iopub.status.busy": "2022-02-17T05:52:17.288982Z",
     "iopub.status.idle": "2022-02-17T05:52:17.345634Z",
     "shell.execute_reply": "2022-02-17T05:52:17.344708Z",
     "shell.execute_reply.started": "2022-02-17T05:52:17.289363Z"
    }
   },
   "outputs": [
    {
     "data": {
      "text/plain": [
       "White                                                                                231698\n",
       "Asian                                                                                 22357\n",
       "Black or African American                                                             21949\n",
       "Information not provided by applicant in mail, Internet, or telephone application     15278\n",
       "American Indian or Alaska Native                                                       1353\n",
       "Native Hawaiian or Other Pacific Islander                                               991\n",
       "Not applicable                                                                           52\n",
       "Name: applicant_race_name_1, dtype: int64"
      ]
     },
     "execution_count": 18,
     "metadata": {},
     "output_type": "execute_result"
    }
   ],
   "source": [
    "data['applicant_race_name_1'].value_counts()"
   ]
  },
  {
   "cell_type": "code",
   "execution_count": 19,
   "metadata": {
    "execution": {
     "iopub.execute_input": "2022-02-17T05:52:17.347397Z",
     "iopub.status.busy": "2022-02-17T05:52:17.347159Z",
     "iopub.status.idle": "2022-02-17T05:52:17.745007Z",
     "shell.execute_reply": "2022-02-17T05:52:17.744154Z",
     "shell.execute_reply.started": "2022-02-17T05:52:17.347367Z"
    }
   },
   "outputs": [
    {
     "data": {
      "text/plain": [
       "(278348, 78)"
      ]
     },
     "execution_count": 19,
     "metadata": {},
     "output_type": "execute_result"
    }
   ],
   "source": [
    "filter4 = (data['applicant_race_name_1'] == 'White') | (data['applicant_race_name_1'] == 'Asian') | (data['applicant_race_name_1'] == 'Black or African American') | (data['applicant_race_name_1'] == 'American Indian or Alaska Native') | (data['applicant_race_name_1'] == 'Native Hawaiian or Other Pacific Islander')\n",
    "data = data[filter4]\n",
    "data.shape"
   ]
  },
  {
   "cell_type": "code",
   "execution_count": 20,
   "metadata": {
    "execution": {
     "iopub.execute_input": "2022-02-17T05:52:17.747168Z",
     "iopub.status.busy": "2022-02-17T05:52:17.746243Z",
     "iopub.status.idle": "2022-02-17T05:52:18.143816Z",
     "shell.execute_reply": "2022-02-17T05:52:18.142872Z",
     "shell.execute_reply.started": "2022-02-17T05:52:17.747115Z"
    }
   },
   "outputs": [
    {
     "name": "stdout",
     "output_type": "stream",
     "text": [
      "White: (231698, 78)\n",
      "Asian: (22357, 78)\n",
      "Black or African American: (21949, 78)\n",
      "American Indian or Alaska Native: (1353, 78)\n",
      "Native Hawaiian or Other Pacific Islander: (991, 78)\n"
     ]
    }
   ],
   "source": [
    "\n",
    "filter5 = (data['applicant_race_name_1'] == 'White')\n",
    "data_White = data[filter5]\n",
    "print(\"White:\", data_White.shape)\n",
    "\n",
    "data_Asian = data[data['applicant_race_name_1'] == 'Asian']\n",
    "print(\"Asian:\", data_Asian.shape)\n",
    "\n",
    "data_Black_or_African_American = data[data['applicant_race_name_1'] == 'Black or African American']\n",
    "print(\"Black or African American:\", data_Black_or_African_American.shape)\n",
    "\n",
    "data_American_Indian_or_Alaska_Native = data[data['applicant_race_name_1'] == 'American Indian or Alaska Native']\n",
    "print(\"American Indian or Alaska Native:\", data_American_Indian_or_Alaska_Native.shape)\n",
    "\n",
    "data_Native_Hawaiian_or_Other_Pacific_Islander = data[data['applicant_race_name_1'] == 'Native Hawaiian or Other Pacific Islander']\n",
    "print(\"Native Hawaiian or Other Pacific Islander:\", data_Native_Hawaiian_or_Other_Pacific_Islander.shape)"
   ]
  },
  {
   "cell_type": "code",
   "execution_count": 21,
   "metadata": {
    "execution": {
     "iopub.execute_input": "2022-02-17T05:52:18.145573Z",
     "iopub.status.busy": "2022-02-17T05:52:18.145345Z",
     "iopub.status.idle": "2022-02-17T05:52:18.164893Z",
     "shell.execute_reply": "2022-02-17T05:52:18.163703Z",
     "shell.execute_reply.started": "2022-02-17T05:52:18.145545Z"
    }
   },
   "outputs": [
    {
     "name": "stdout",
     "output_type": "stream",
     "text": [
      "White approval rate: 0.7795319769700213\n",
      "Asian approval rate: 0.7591358411235855\n",
      "Black_or_African_American approval rate: 0.6136498245933756\n",
      "American_Indian_or_Alaska_Native approval rate: 0.5225424981522543\n",
      "Native_Hawaiian_or_Other_Pacific_Islander approval rate: 0.6195761856710393\n"
     ]
    }
   ],
   "source": [
    "freqs = data_White['action_taken'].value_counts()\n",
    "approval_rate_White = (freqs[1] + freqs[2]) / data_White.shape[0]\n",
    "print(\"White approval rate:\", approval_rate_White)\n",
    "\n",
    "freqs = data_Asian['action_taken'].value_counts()\n",
    "approval_rate_Asian = (freqs[1] + freqs[2]) / data_Asian.shape[0]\n",
    "print(\"Asian approval rate:\", approval_rate_Asian)\n",
    "\n",
    "freqs = data_Black_or_African_American['action_taken'].value_counts()\n",
    "approval_rate_Black_or_African_American = (freqs[1] + freqs[2]) / data_Black_or_African_American.shape[0]\n",
    "print(\"Black_or_African_American approval rate:\", approval_rate_Black_or_African_American)\n",
    "\n",
    "freqs = data_American_Indian_or_Alaska_Native['action_taken'].value_counts()\n",
    "approval_rate_American_Indian_or_Alaska_Native = (freqs[1] + freqs[2]) / data_American_Indian_or_Alaska_Native.shape[0]\n",
    "print(\"American_Indian_or_Alaska_Native approval rate:\", approval_rate_American_Indian_or_Alaska_Native)\n",
    "\n",
    "freqs = data_Native_Hawaiian_or_Other_Pacific_Islander['action_taken'].value_counts()\n",
    "approval_rate_Native_Hawaiian_or_Other_Pacific_Islander = (freqs[1] + freqs[2]) / data_Native_Hawaiian_or_Other_Pacific_Islander.shape[0]\n",
    "print(\"Native_Hawaiian_or_Other_Pacific_Islander approval rate:\", approval_rate_Native_Hawaiian_or_Other_Pacific_Islander)"
   ]
  },
  {
   "cell_type": "code",
   "execution_count": 22,
   "metadata": {},
   "outputs": [
    {
     "data": {
      "text/plain": [
       "0       996\n",
       "1     41945\n",
       "2    134848\n",
       "3    127397\n",
       "4     25644\n",
       "5     37157\n",
       "6     71667\n",
       "Name: tax_bracket, dtype: int64"
      ]
     },
     "execution_count": 22,
     "metadata": {},
     "output_type": "execute_result"
    }
   ],
   "source": [
    "def get_tax_bracket(income):\n",
    "    \"\"\"\n",
    "    Tax brackets 2020:\n",
    "    9875, 40125, 85525, 163300, 207350, 518400\n",
    "    \"\"\"\n",
    "    if income < 9.875:\n",
    "        return 0\n",
    "    elif income < 40.125:\n",
    "        return 1\n",
    "    elif income < 85.525:\n",
    "        return 2\n",
    "    elif income < 163.3:\n",
    "        return 3\n",
    "    elif income < 207.35:\n",
    "        return 4\n",
    "    elif income < 518.4:\n",
    "        return 5\n",
    "    else:\n",
    "        return 6\n",
    "def tax_Bracket_Name (tax_bracket):\n",
    "    \"\"\"\n",
    "    \n",
    "    9875, 40125, 85525, 163300, 207350, 518400\n",
    "    \n",
    "    \"\"\"\n",
    "        \n",
    "    if tax_bracket == 0:\n",
    "        return 'Income (0) < 9875'\n",
    "    elif tax_bracket == 1:\n",
    "        return 'Income (1) < 40,125'\n",
    "    elif tax_bracket == 2:\n",
    "        return 'Income (2) < 85,525'\n",
    "    elif tax_bracket == 3:\n",
    "        return 'Income (3) < 163,300'\n",
    "    elif tax_bracket == 4:\n",
    "        return 'Income (4) < 207,350'\n",
    "    elif tax_bracket == 5:\n",
    "        return 'Income (5) < 518,400'\n",
    "    elif tax_bracket == 6:\n",
    "        return 'Income (6) > 518,400'\n",
    "    else:\n",
    "        return 'Not a Number'\n",
    "    \n",
    "data_income = raw_data.copy()\n",
    "data_income_name = data_income.copy()\n",
    "data_income['tax_bracket'] = data_income['applicant_income_000s'].apply(get_tax_bracket)\n",
    "data_income_name['tax_bracket_name'] = data_income['tax_bracket'].apply(tax_Bracket_Name)\n",
    "data_income['tax_bracket'].value_counts().sort_index()"
   ]
  },
  {
   "cell_type": "code",
   "execution_count": 23,
   "metadata": {},
   "outputs": [
    {
     "name": "stdout",
     "output_type": "stream",
     "text": [
      "Income (0) < 9875: (231698, 78)\n",
      "Income (1) < 40,125: (31582, 78)\n",
      "Income (2) < 85,525: (96063, 78)\n"
     ]
    },
    {
     "name": "stderr",
     "output_type": "stream",
     "text": [
      "<ipython-input-23-5ada5c1fe2db>:8: UserWarning: Boolean Series key will be reindexed to match DataFrame index.\n",
      "  data_Income_40125 = data[data_income_name['tax_bracket_name']       == 'Income (1) < 40,125']\n",
      "<ipython-input-23-5ada5c1fe2db>:11: UserWarning: Boolean Series key will be reindexed to match DataFrame index.\n",
      "  data_Income_85525 = data[data_income_name['tax_bracket_name']       == 'Income (2) < 85,525']\n",
      "<ipython-input-23-5ada5c1fe2db>:14: UserWarning: Boolean Series key will be reindexed to match DataFrame index.\n",
      "  data_Income_163300 = data[data_income_name['tax_bracket_name']      == 'Income (3) < 163,300']\n"
     ]
    },
    {
     "name": "stdout",
     "output_type": "stream",
     "text": [
      "Income (3) < 163,300: (87252, 78)\n",
      "Income (4) < 207,350: (17022, 78)\n",
      "Income (5) < 518,400: (24472, 78)\n",
      "Income (6) > 518,400: (21218, 78)\n"
     ]
    },
    {
     "name": "stderr",
     "output_type": "stream",
     "text": [
      "<ipython-input-23-5ada5c1fe2db>:17: UserWarning: Boolean Series key will be reindexed to match DataFrame index.\n",
      "  data_Income_207350 = data[data_income_name['tax_bracket_name']      == 'Income (4) < 207,350']\n",
      "<ipython-input-23-5ada5c1fe2db>:20: UserWarning: Boolean Series key will be reindexed to match DataFrame index.\n",
      "  data_Income_518400 = data[data_income_name['tax_bracket_name']      == 'Income (5) < 518,400']\n",
      "<ipython-input-23-5ada5c1fe2db>:23: UserWarning: Boolean Series key will be reindexed to match DataFrame index.\n",
      "  data_Income_over_518400 = data[data_income_name['tax_bracket_name'] == 'Income (6) > 518,400']\n"
     ]
    },
    {
     "data": {
      "image/png": "[encoded data removed]",
      "text/plain": [
       "<Figure size 432x288 with 1 Axes>"
      ]
     },
     "metadata": {
      "needs_background": "light"
     },
     "output_type": "display_data"
    }
   ],
   "source": [
    "data_income['tax_bracket'].hist()\n",
    "data_income_name['tax_bracket_name'].value_counts().sort_index()\n",
    "\n",
    "filter6 = (data_income_name['tax_bracket_name']                     == 'Income (0) < 9875')\n",
    "data_Income_9875 = data[filter5]\n",
    "print(\"Income (0) < 9875:\", data_Income_9875.shape)\n",
    "\n",
    "data_Income_40125 = data[data_income_name['tax_bracket_name']       == 'Income (1) < 40,125']\n",
    "print(\"Income (1) < 40,125:\", data_Income_40125.shape)\n",
    "\n",
    "data_Income_85525 = data[data_income_name['tax_bracket_name']       == 'Income (2) < 85,525']\n",
    "print(\"Income (2) < 85,525:\", data_Income_85525.shape)\n",
    "\n",
    "data_Income_163300 = data[data_income_name['tax_bracket_name']      == 'Income (3) < 163,300']\n",
    "print(\"Income (3) < 163,300:\", data_Income_163300.shape)\n",
    "\n",
    "data_Income_207350 = data[data_income_name['tax_bracket_name']      == 'Income (4) < 207,350']\n",
    "print(\"Income (4) < 207,350:\", data_Income_207350.shape)\n",
    "\n",
    "data_Income_518400 = data[data_income_name['tax_bracket_name']      == 'Income (5) < 518,400']\n",
    "print(\"Income (5) < 518,400:\", data_Income_518400.shape)\n",
    "\n",
    "data_Income_over_518400 = data[data_income_name['tax_bracket_name'] == 'Income (6) > 518,400']\n",
    "print(\"Income (6) > 518,400:\", data_Income_over_518400.shape)"
   ]
  },
  {
   "cell_type": "code",
   "execution_count": 24,
   "metadata": {},
   "outputs": [
    {
     "name": "stdout",
     "output_type": "stream",
     "text": [
      "Income (0) < 9875: (231698, 78)\n",
      "Income (1) < 40,125: (31582, 78)\n",
      "Income (2) < 85,525: (96063, 78)\n"
     ]
    },
    {
     "name": "stderr",
     "output_type": "stream",
     "text": [
      "<ipython-input-24-4aed93ee41ee>:5: UserWarning: Boolean Series key will be reindexed to match DataFrame index.\n",
      "  data_Income_40125 = data[data_income_name['tax_bracket_name']       == 'Income (1) < 40,125']\n",
      "<ipython-input-24-4aed93ee41ee>:8: UserWarning: Boolean Series key will be reindexed to match DataFrame index.\n",
      "  data_Income_85525 = data[data_income_name['tax_bracket_name']       == 'Income (2) < 85,525']\n",
      "<ipython-input-24-4aed93ee41ee>:11: UserWarning: Boolean Series key will be reindexed to match DataFrame index.\n",
      "  data_Income_163300 = data[data_income_name['tax_bracket_name']      == 'Income (3) < 163,300']\n"
     ]
    },
    {
     "name": "stdout",
     "output_type": "stream",
     "text": [
      "Income (3) < 163,300: (87252, 78)\n",
      "Income (4) < 207,350: (17022, 78)\n",
      "Income (5) < 518,400: (24472, 78)\n",
      "Income (6) > 518,400: (21218, 78)\n"
     ]
    },
    {
     "name": "stderr",
     "output_type": "stream",
     "text": [
      "<ipython-input-24-4aed93ee41ee>:14: UserWarning: Boolean Series key will be reindexed to match DataFrame index.\n",
      "  data_Income_207350 = data[data_income_name['tax_bracket_name']      == 'Income (4) < 207,350']\n",
      "<ipython-input-24-4aed93ee41ee>:17: UserWarning: Boolean Series key will be reindexed to match DataFrame index.\n",
      "  data_Income_518400 = data[data_income_name['tax_bracket_name']      == 'Income (5) < 518,400']\n",
      "<ipython-input-24-4aed93ee41ee>:20: UserWarning: Boolean Series key will be reindexed to match DataFrame index.\n",
      "  data_Income_over_518400 = data[data_income_name['tax_bracket_name'] == 'Income (6) > 518,400']\n"
     ]
    }
   ],
   "source": [
    "\n",
    "filter6 = (data_income_name['tax_bracket_name']                     == 'Income (0) < 9875')\n",
    "data_Income_9875 = data[filter5]\n",
    "print(\"Income (0) < 9875:\", data_Income_9875.shape)\n",
    "\n",
    "data_Income_40125 = data[data_income_name['tax_bracket_name']       == 'Income (1) < 40,125']\n",
    "print(\"Income (1) < 40,125:\", data_Income_40125.shape)\n",
    "\n",
    "data_Income_85525 = data[data_income_name['tax_bracket_name']       == 'Income (2) < 85,525']\n",
    "print(\"Income (2) < 85,525:\", data_Income_85525.shape)\n",
    "\n",
    "data_Income_163300 = data[data_income_name['tax_bracket_name']      == 'Income (3) < 163,300']\n",
    "print(\"Income (3) < 163,300:\", data_Income_163300.shape)\n",
    "\n",
    "data_Income_207350 = data[data_income_name['tax_bracket_name']      == 'Income (4) < 207,350']\n",
    "print(\"Income (4) < 207,350:\", data_Income_207350.shape)\n",
    "\n",
    "data_Income_518400 = data[data_income_name['tax_bracket_name']      == 'Income (5) < 518,400']\n",
    "print(\"Income (5) < 518,400:\", data_Income_518400.shape)\n",
    "\n",
    "data_Income_over_518400 = data[data_income_name['tax_bracket_name'] == 'Income (6) > 518,400']\n",
    "print(\"Income (6) > 518,400:\", data_Income_over_518400.shape)"
   ]
  },
  {
   "cell_type": "code",
   "execution_count": 25,
   "metadata": {},
   "outputs": [
    {
     "name": "stdout",
     "output_type": "stream",
     "text": [
      "Income (0) < 9875 approval rate: 0.7795319769700213\n",
      "Income (1) < 40,125 approval rate: 0.6295991387499208\n",
      "Income (2) < 85,525 approval rate: 0.7545256758585511\n",
      "Income (3) < 163,300 approval rate: 0.8042910191170403\n",
      "Income (4) < 207,350 approval rate: 0.8191751850546352\n",
      "Income (5) < 518,400 approval rate: 0.8269450800915332\n",
      "Income (6) > 518,400 approval rate: 0.7267885757375813\n"
     ]
    }
   ],
   "source": [
    "freqs = data_Income_9875['action_taken'].value_counts()\n",
    "approval_Income_9875 = (freqs[1] + freqs[2]) / data_Income_9875.shape[0]\n",
    "print(\"Income (0) < 9875 approval rate:\", approval_Income_9875)\n",
    "\n",
    "freqs = data_Income_40125['action_taken'].value_counts()\n",
    "approval_Income_40125 = (freqs[1] + freqs[2]) / data_Income_40125.shape[0]\n",
    "print(\"Income (1) < 40,125 approval rate:\", approval_Income_40125)\n",
    "\n",
    "freqs = data_Income_85525['action_taken'].value_counts()\n",
    "approval_Income_85525 = (freqs[1] + freqs[2]) / data_Income_85525.shape[0]\n",
    "print(\"Income (2) < 85,525 approval rate:\", approval_Income_85525)\n",
    "\n",
    "freqs = data_Income_163300['action_taken'].value_counts()\n",
    "approval_Income_163300 = (freqs[1] + freqs[2]) / data_Income_163300.shape[0]\n",
    "print(\"Income (3) < 163,300 approval rate:\", approval_Income_163300)\n",
    "\n",
    "freqs = data_Income_207350['action_taken'].value_counts()\n",
    "approval_Income_207350 = (freqs[1] + freqs[2]) / data_Income_207350.shape[0]\n",
    "print(\"Income (4) < 207,350 approval rate:\", approval_Income_207350)\n",
    "\n",
    "freqs = data_Income_518400['action_taken'].value_counts()\n",
    "approval_Income_518400 = (freqs[1] + freqs[2]) / data_Income_518400.shape[0]\n",
    "print(\"Income (5) < 518,400 approval rate:\", approval_Income_518400)\n",
    "\n",
    "freqs = data_Income_over_518400['action_taken'].value_counts()\n",
    "approval_Income_over_518400 = (freqs[1] + freqs[2]) / data_Income_over_518400.shape[0]\n",
    "print(\"Income (6) > 518,400 approval rate:\", approval_Income_over_518400)"
   ]
  }
 ],
 "metadata": {
  "kernelspec": {
   "display_name": "Python 3",
   "language": "python",
   "name": "python3"
  },
  "language_info": {
   "codemirror_mode": {
    "name": "ipython",
    "version": 3
   },
   "file_extension": ".py",
   "mimetype": "text/x-python",
   "name": "python",
   "nbconvert_exporter": "python",
   "pygments_lexer": "ipython3",
   "version": "3.9.5"
  }
 },
 "nbformat": 4,
 "nbformat_minor": 4
}
