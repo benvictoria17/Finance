{
  "nbformat": 4,
  "nbformat_minor": 0,
  "metadata": {
    "colab": {
      "name": "The Walt Disney Company (DIS).ipynb",
      "provenance": [],
      "authorship_tag": "ABX9TyO3P507BQR+r90KDpqWA7Gh",
      "include_colab_link": true
    },
    "kernelspec": {
      "name": "python3",
      "display_name": "Python 3"
    }
  },
  "cells": [
    {
      "cell_type": "markdown",
      "metadata": {
        "id": "view-in-github",
        "colab_type": "text"
      },
      "source": [
        "<a href=\"https://colab.research.google.com/github/benvictoria21/AnalyzeStocks/blob/master/The_Walt_Disney_Company_(DIS).ipynb\" target=\"_parent\"><img src=\"https://colab.research.google.com/assets/colab-badge.svg\" alt=\"Open In Colab\"/></a>"
      ]
    },
    {
      "cell_type": "code",
      "metadata": {
        "colab": {
          "base_uri": "https://localhost:8080/"
        },
        "id": "OPn_wNx4dPvH",
        "outputId": "8a0fc378-3828-429d-d221-055c6698cce6"
      },
      "source": [
        "!sudo pip install  yfinance"
      ],
      "execution_count": 56,
      "outputs": [
        {
          "output_type": "stream",
          "text": [
            "Requirement already satisfied: yfinance in /usr/local/lib/python3.6/dist-packages (0.1.55)\n",
            "Requirement already satisfied: lxml>=4.5.1 in /usr/local/lib/python3.6/dist-packages (from yfinance) (4.6.1)\n",
            "Requirement already satisfied: requests>=2.20 in /usr/local/lib/python3.6/dist-packages (from yfinance) (2.23.0)\n",
            "Requirement already satisfied: numpy>=1.15 in /usr/local/lib/python3.6/dist-packages (from yfinance) (1.18.5)\n",
            "Requirement already satisfied: pandas>=0.24 in /usr/local/lib/python3.6/dist-packages (from yfinance) (1.1.4)\n",
            "Requirement already satisfied: multitasking>=0.0.7 in /usr/local/lib/python3.6/dist-packages (from yfinance) (0.0.9)\n",
            "Requirement already satisfied: urllib3!=1.25.0,!=1.25.1,<1.26,>=1.21.1 in /usr/local/lib/python3.6/dist-packages (from requests>=2.20->yfinance) (1.24.3)\n",
            "Requirement already satisfied: idna<3,>=2.5 in /usr/local/lib/python3.6/dist-packages (from requests>=2.20->yfinance) (2.10)\n",
            "Requirement already satisfied: certifi>=2017.4.17 in /usr/local/lib/python3.6/dist-packages (from requests>=2.20->yfinance) (2020.11.8)\n",
            "Requirement already satisfied: chardet<4,>=3.0.2 in /usr/local/lib/python3.6/dist-packages (from requests>=2.20->yfinance) (3.0.4)\n",
            "Requirement already satisfied: python-dateutil>=2.7.3 in /usr/local/lib/python3.6/dist-packages (from pandas>=0.24->yfinance) (2.8.1)\n",
            "Requirement already satisfied: pytz>=2017.2 in /usr/local/lib/python3.6/dist-packages (from pandas>=0.24->yfinance) (2018.9)\n",
            "Requirement already satisfied: six>=1.5 in /usr/local/lib/python3.6/dist-packages (from python-dateutil>=2.7.3->pandas>=0.24->yfinance) (1.15.0)\n"
          ],
          "name": "stdout"
        }
      ]
    },
    {
      "cell_type": "code",
      "metadata": {
        "id": "k8yoJL99cuXk"
      },
      "source": [
        "import numpy as np \n",
        "import pandas as pd \n",
        "import matplotlib.pyplot as plt\n",
        "import yfinance"
      ],
      "execution_count": 57,
      "outputs": []
    },
    {
      "cell_type": "code",
      "metadata": {
        "colab": {
          "base_uri": "https://localhost:8080/",
          "height": 467
        },
        "id": "Zt4xpw9jdTZt",
        "outputId": "8f3d9072-8129-4d9a-d2b6-13b6d6708b0b"
      },
      "source": [
        "DIS = yfinance.download(\"DIS\")\n",
        "DIS"
      ],
      "execution_count": 58,
      "outputs": [
        {
          "output_type": "stream",
          "text": [
            "\r[*********************100%***********************]  1 of 1 completed\n"
          ],
          "name": "stdout"
        },
        {
          "output_type": "execute_result",
          "data": {
            "text/html": [
              "<div>\n",
              "<style scoped>\n",
              "    .dataframe tbody tr th:only-of-type {\n",
              "        vertical-align: middle;\n",
              "    }\n",
              "\n",
              "    .dataframe tbody tr th {\n",
              "        vertical-align: top;\n",
              "    }\n",
              "\n",
              "    .dataframe thead th {\n",
              "        text-align: right;\n",
              "    }\n",
              "</style>\n",
              "<table border=\"1\" class=\"dataframe\">\n",
              "  <thead>\n",
              "    <tr style=\"text-align: right;\">\n",
              "      <th></th>\n",
              "      <th>Open</th>\n",
              "      <th>High</th>\n",
              "      <th>Low</th>\n",
              "      <th>Close</th>\n",
              "      <th>Adj Close</th>\n",
              "      <th>Volume</th>\n",
              "    </tr>\n",
              "    <tr>\n",
              "      <th>Date</th>\n",
              "      <th></th>\n",
              "      <th></th>\n",
              "      <th></th>\n",
              "      <th></th>\n",
              "      <th></th>\n",
              "      <th></th>\n",
              "    </tr>\n",
              "  </thead>\n",
              "  <tbody>\n",
              "    <tr>\n",
              "      <th>1962-01-02</th>\n",
              "      <td>0.092908</td>\n",
              "      <td>0.096026</td>\n",
              "      <td>0.092908</td>\n",
              "      <td>0.092908</td>\n",
              "      <td>0.058360</td>\n",
              "      <td>817400</td>\n",
              "    </tr>\n",
              "    <tr>\n",
              "      <th>1962-01-03</th>\n",
              "      <td>0.092908</td>\n",
              "      <td>0.094467</td>\n",
              "      <td>0.092908</td>\n",
              "      <td>0.094155</td>\n",
              "      <td>0.059143</td>\n",
              "      <td>778500</td>\n",
              "    </tr>\n",
              "    <tr>\n",
              "      <th>1962-01-04</th>\n",
              "      <td>0.094155</td>\n",
              "      <td>0.094467</td>\n",
              "      <td>0.093532</td>\n",
              "      <td>0.094155</td>\n",
              "      <td>0.059143</td>\n",
              "      <td>934200</td>\n",
              "    </tr>\n",
              "    <tr>\n",
              "      <th>1962-01-05</th>\n",
              "      <td>0.094155</td>\n",
              "      <td>0.094779</td>\n",
              "      <td>0.093844</td>\n",
              "      <td>0.094467</td>\n",
              "      <td>0.059339</td>\n",
              "      <td>934200</td>\n",
              "    </tr>\n",
              "    <tr>\n",
              "      <th>1962-01-08</th>\n",
              "      <td>0.094467</td>\n",
              "      <td>0.095714</td>\n",
              "      <td>0.092285</td>\n",
              "      <td>0.094155</td>\n",
              "      <td>0.059143</td>\n",
              "      <td>1245600</td>\n",
              "    </tr>\n",
              "    <tr>\n",
              "      <th>...</th>\n",
              "      <td>...</td>\n",
              "      <td>...</td>\n",
              "      <td>...</td>\n",
              "      <td>...</td>\n",
              "      <td>...</td>\n",
              "      <td>...</td>\n",
              "    </tr>\n",
              "    <tr>\n",
              "      <th>2020-11-19</th>\n",
              "      <td>142.570007</td>\n",
              "      <td>143.300003</td>\n",
              "      <td>141.699997</td>\n",
              "      <td>141.720001</td>\n",
              "      <td>141.720001</td>\n",
              "      <td>8892500</td>\n",
              "    </tr>\n",
              "    <tr>\n",
              "      <th>2020-11-20</th>\n",
              "      <td>141.710007</td>\n",
              "      <td>142.610001</td>\n",
              "      <td>140.860001</td>\n",
              "      <td>141.070007</td>\n",
              "      <td>141.070007</td>\n",
              "      <td>8481600</td>\n",
              "    </tr>\n",
              "    <tr>\n",
              "      <th>2020-11-23</th>\n",
              "      <td>142.449997</td>\n",
              "      <td>147.750000</td>\n",
              "      <td>141.699997</td>\n",
              "      <td>145.979996</td>\n",
              "      <td>145.979996</td>\n",
              "      <td>12887000</td>\n",
              "    </tr>\n",
              "    <tr>\n",
              "      <th>2020-11-24</th>\n",
              "      <td>148.160004</td>\n",
              "      <td>151.860001</td>\n",
              "      <td>147.850006</td>\n",
              "      <td>151.490005</td>\n",
              "      <td>151.490005</td>\n",
              "      <td>16711700</td>\n",
              "    </tr>\n",
              "    <tr>\n",
              "      <th>2020-11-25</th>\n",
              "      <td>150.270004</td>\n",
              "      <td>150.270004</td>\n",
              "      <td>147.240005</td>\n",
              "      <td>149.089996</td>\n",
              "      <td>149.089996</td>\n",
              "      <td>9548100</td>\n",
              "    </tr>\n",
              "  </tbody>\n",
              "</table>\n",
              "<p>14829 rows × 6 columns</p>\n",
              "</div>"
            ],
            "text/plain": [
              "                  Open        High  ...   Adj Close    Volume\n",
              "Date                                ...                      \n",
              "1962-01-02    0.092908    0.096026  ...    0.058360    817400\n",
              "1962-01-03    0.092908    0.094467  ...    0.059143    778500\n",
              "1962-01-04    0.094155    0.094467  ...    0.059143    934200\n",
              "1962-01-05    0.094155    0.094779  ...    0.059339    934200\n",
              "1962-01-08    0.094467    0.095714  ...    0.059143   1245600\n",
              "...                ...         ...  ...         ...       ...\n",
              "2020-11-19  142.570007  143.300003  ...  141.720001   8892500\n",
              "2020-11-20  141.710007  142.610001  ...  141.070007   8481600\n",
              "2020-11-23  142.449997  147.750000  ...  145.979996  12887000\n",
              "2020-11-24  148.160004  151.860001  ...  151.490005  16711700\n",
              "2020-11-25  150.270004  150.270004  ...  149.089996   9548100\n",
              "\n",
              "[14829 rows x 6 columns]"
            ]
          },
          "metadata": {
            "tags": []
          },
          "execution_count": 58
        }
      ]
    },
    {
      "cell_type": "code",
      "metadata": {
        "colab": {
          "base_uri": "https://localhost:8080/",
          "height": 235
        },
        "id": "ENQnVAzVdlt5",
        "outputId": "406c4f61-006d-4b18-a127-c3ae14647aaa"
      },
      "source": [
        "DIS.head()"
      ],
      "execution_count": 59,
      "outputs": [
        {
          "output_type": "execute_result",
          "data": {
            "text/html": [
              "<div>\n",
              "<style scoped>\n",
              "    .dataframe tbody tr th:only-of-type {\n",
              "        vertical-align: middle;\n",
              "    }\n",
              "\n",
              "    .dataframe tbody tr th {\n",
              "        vertical-align: top;\n",
              "    }\n",
              "\n",
              "    .dataframe thead th {\n",
              "        text-align: right;\n",
              "    }\n",
              "</style>\n",
              "<table border=\"1\" class=\"dataframe\">\n",
              "  <thead>\n",
              "    <tr style=\"text-align: right;\">\n",
              "      <th></th>\n",
              "      <th>Open</th>\n",
              "      <th>High</th>\n",
              "      <th>Low</th>\n",
              "      <th>Close</th>\n",
              "      <th>Adj Close</th>\n",
              "      <th>Volume</th>\n",
              "    </tr>\n",
              "    <tr>\n",
              "      <th>Date</th>\n",
              "      <th></th>\n",
              "      <th></th>\n",
              "      <th></th>\n",
              "      <th></th>\n",
              "      <th></th>\n",
              "      <th></th>\n",
              "    </tr>\n",
              "  </thead>\n",
              "  <tbody>\n",
              "    <tr>\n",
              "      <th>1962-01-02</th>\n",
              "      <td>0.092908</td>\n",
              "      <td>0.096026</td>\n",
              "      <td>0.092908</td>\n",
              "      <td>0.092908</td>\n",
              "      <td>0.058360</td>\n",
              "      <td>817400</td>\n",
              "    </tr>\n",
              "    <tr>\n",
              "      <th>1962-01-03</th>\n",
              "      <td>0.092908</td>\n",
              "      <td>0.094467</td>\n",
              "      <td>0.092908</td>\n",
              "      <td>0.094155</td>\n",
              "      <td>0.059143</td>\n",
              "      <td>778500</td>\n",
              "    </tr>\n",
              "    <tr>\n",
              "      <th>1962-01-04</th>\n",
              "      <td>0.094155</td>\n",
              "      <td>0.094467</td>\n",
              "      <td>0.093532</td>\n",
              "      <td>0.094155</td>\n",
              "      <td>0.059143</td>\n",
              "      <td>934200</td>\n",
              "    </tr>\n",
              "    <tr>\n",
              "      <th>1962-01-05</th>\n",
              "      <td>0.094155</td>\n",
              "      <td>0.094779</td>\n",
              "      <td>0.093844</td>\n",
              "      <td>0.094467</td>\n",
              "      <td>0.059339</td>\n",
              "      <td>934200</td>\n",
              "    </tr>\n",
              "    <tr>\n",
              "      <th>1962-01-08</th>\n",
              "      <td>0.094467</td>\n",
              "      <td>0.095714</td>\n",
              "      <td>0.092285</td>\n",
              "      <td>0.094155</td>\n",
              "      <td>0.059143</td>\n",
              "      <td>1245600</td>\n",
              "    </tr>\n",
              "  </tbody>\n",
              "</table>\n",
              "</div>"
            ],
            "text/plain": [
              "                Open      High       Low     Close  Adj Close   Volume\n",
              "Date                                                                  \n",
              "1962-01-02  0.092908  0.096026  0.092908  0.092908   0.058360   817400\n",
              "1962-01-03  0.092908  0.094467  0.092908  0.094155   0.059143   778500\n",
              "1962-01-04  0.094155  0.094467  0.093532  0.094155   0.059143   934200\n",
              "1962-01-05  0.094155  0.094779  0.093844  0.094467   0.059339   934200\n",
              "1962-01-08  0.094467  0.095714  0.092285  0.094155   0.059143  1245600"
            ]
          },
          "metadata": {
            "tags": []
          },
          "execution_count": 59
        }
      ]
    },
    {
      "cell_type": "code",
      "metadata": {
        "colab": {
          "base_uri": "https://localhost:8080/"
        },
        "id": "tGp4wu1wdlw8",
        "outputId": "cc7b3574-80ac-46b9-b874-9d5d1a5018b4"
      },
      "source": [
        "DIS.Close"
      ],
      "execution_count": 60,
      "outputs": [
        {
          "output_type": "execute_result",
          "data": {
            "text/plain": [
              "Date\n",
              "1962-01-02      0.092908\n",
              "1962-01-03      0.094155\n",
              "1962-01-04      0.094155\n",
              "1962-01-05      0.094467\n",
              "1962-01-08      0.094155\n",
              "                 ...    \n",
              "2020-11-19    141.720001\n",
              "2020-11-20    141.070007\n",
              "2020-11-23    145.979996\n",
              "2020-11-24    151.490005\n",
              "2020-11-25    149.089996\n",
              "Name: Close, Length: 14829, dtype: float64"
            ]
          },
          "metadata": {
            "tags": []
          },
          "execution_count": 60
        }
      ]
    },
    {
      "cell_type": "code",
      "metadata": {
        "colab": {
          "base_uri": "https://localhost:8080/",
          "height": 296
        },
        "id": "JGG54M7rdl0G",
        "outputId": "1e58375e-c816-4aee-cea0-562485686a5f"
      },
      "source": [
        "plt.xlabel(\"days\")         \n",
        "plt.ylabel(\"price\")    \n",
        "plt.grid()              \n",
        "plt.plot(DIS.Close)"
      ],
      "execution_count": 61,
      "outputs": [
        {
          "output_type": "execute_result",
          "data": {
            "text/plain": [
              "[<matplotlib.lines.Line2D at 0x7fb1f92fa208>]"
            ]
          },
          "metadata": {
            "tags": []
          },
          "execution_count": 61
        },
        {
          "output_type": "display_data",
          "data": {
            "image/png": "[encoded data removed]",
            "text/plain": [
              "<Figure size 432x288 with 1 Axes>"
            ]
          },
          "metadata": {
            "tags": [],
            "needs_background": "light"
          }
        }
      ]
    },
    {
      "cell_type": "code",
      "metadata": {
        "colab": {
          "base_uri": "https://localhost:8080/"
        },
        "id": "mAi2iuVodl11",
        "outputId": "0ed648f3-2147-49a6-87b7-62d34237ca3a"
      },
      "source": [
        "DIS.High"
      ],
      "execution_count": 62,
      "outputs": [
        {
          "output_type": "execute_result",
          "data": {
            "text/plain": [
              "Date\n",
              "1962-01-02      0.096026\n",
              "1962-01-03      0.094467\n",
              "1962-01-04      0.094467\n",
              "1962-01-05      0.094779\n",
              "1962-01-08      0.095714\n",
              "                 ...    \n",
              "2020-11-19    143.300003\n",
              "2020-11-20    142.610001\n",
              "2020-11-23    147.750000\n",
              "2020-11-24    151.860001\n",
              "2020-11-25    150.270004\n",
              "Name: High, Length: 14829, dtype: float64"
            ]
          },
          "metadata": {
            "tags": []
          },
          "execution_count": 62
        }
      ]
    },
    {
      "cell_type": "code",
      "metadata": {
        "colab": {
          "base_uri": "https://localhost:8080/",
          "height": 268
        },
        "id": "6lcDQiR0dl7u",
        "outputId": "59ae826a-2d26-42f8-968a-468dcc21f943"
      },
      "source": [
        "plt.plot(DIS.High)\n",
        "plt.grid()"
      ],
      "execution_count": 63,
      "outputs": [
        {
          "output_type": "display_data",
          "data": {
            "image/png": "[encoded data removed]",
            "text/plain": [
              "<Figure size 432x288 with 1 Axes>"
            ]
          },
          "metadata": {
            "tags": [],
            "needs_background": "light"
          }
        }
      ]
    },
    {
      "cell_type": "code",
      "metadata": {
        "colab": {
          "base_uri": "https://localhost:8080/"
        },
        "id": "t2C6ZCUGdl_E",
        "outputId": "d15d446f-0372-4d0e-fcab-81099b17c7ed"
      },
      "source": [
        "DIS.Open"
      ],
      "execution_count": 64,
      "outputs": [
        {
          "output_type": "execute_result",
          "data": {
            "text/plain": [
              "Date\n",
              "1962-01-02      0.092908\n",
              "1962-01-03      0.092908\n",
              "1962-01-04      0.094155\n",
              "1962-01-05      0.094155\n",
              "1962-01-08      0.094467\n",
              "                 ...    \n",
              "2020-11-19    142.570007\n",
              "2020-11-20    141.710007\n",
              "2020-11-23    142.449997\n",
              "2020-11-24    148.160004\n",
              "2020-11-25    150.270004\n",
              "Name: Open, Length: 14829, dtype: float64"
            ]
          },
          "metadata": {
            "tags": []
          },
          "execution_count": 64
        }
      ]
    }
  ]
}