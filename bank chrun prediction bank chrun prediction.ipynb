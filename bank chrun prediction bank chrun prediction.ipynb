{
  "metadata": {
    "kernelspec": {
      "language": "python",
      "display_name": "Python 3",
      "name": "python3"
    },
    "language_info": {
      "pygments_lexer": "ipython3",
      "nbconvert_exporter": "python",
      "version": "3.6.4",
      "file_extension": ".py",
      "codemirror_mode": {
        "name": "ipython",
        "version": 3
      },
      "name": "python",
      "mimetype": "text/x-python"
    },
    "colab": {
      "name": "bank chrun prediction bank chrun prediction.ipynb",
      "provenance": [],
      "include_colab_link": true
    }
  },
  "nbformat_minor": 0,
  "nbformat": 4,
  "cells": [
    {
      "cell_type": "markdown",
      "metadata": {
        "id": "view-in-github",
        "colab_type": "text"
      },
      "source": [
        "<a href=\"https://colab.research.google.com/github/benvictoria17/DataAnalytics/blob/master/bank%20chrun%20prediction%20bank%20chrun%20prediction.ipynb\" target=\"_parent\"><img src=\"https://colab.research.google.com/assets/colab-badge.svg\" alt=\"Open In Colab\"/></a>"
      ]
    },
    {
      "cell_type": "code",
      "source": [
        "import pandas as pd\n",
        "import numpy as np\n",
        "import matplotlib.pyplot as plt\n",
        "import seaborn as sns\n",
        "\n",
        "%matplotlib inline"
      ],
      "metadata": {
        "_uuid": "8f2839f25d086af736a60e9eeb907d3b93b6e0e5",
        "_cell_guid": "b1076dfc-b9ad-4769-8c92-a6c4dae69d19",
        "execution": {
          "iopub.status.busy": "2021-10-18T02:31:41.443334Z",
          "iopub.execute_input": "2021-10-18T02:31:41.443622Z",
          "iopub.status.idle": "2021-10-18T02:31:42.293489Z",
          "shell.execute_reply.started": "2021-10-18T02:31:41.443592Z",
          "shell.execute_reply": "2021-10-18T02:31:42.292697Z"
        },
        "trusted": true,
        "id": "j0-f73QUiFC4"
      },
      "execution_count": 1,
      "outputs": []
    },
    {
      "cell_type": "code",
      "source": [
        "data = pd.read_csv(\"https://raw.githubusercontent.com/benvictoria17/DataVisualization/master/dataset/Predicting%20Churn%20for%20Bank%20Customers/Churn_Modelling.csv\")"
      ],
      "metadata": {
        "execution": {
          "iopub.status.busy": "2021-10-18T02:31:42.295001Z",
          "iopub.execute_input": "2021-10-18T02:31:42.295703Z",
          "iopub.status.idle": "2021-10-18T02:31:42.552432Z",
          "shell.execute_reply.started": "2021-10-18T02:31:42.295668Z",
          "shell.execute_reply": "2021-10-18T02:31:42.551365Z"
        },
        "trusted": true,
        "id": "uqhtMbgNiFC8"
      },
      "execution_count": 2,
      "outputs": []
    },
    {
      "cell_type": "code",
      "source": [
        "data.info()"
      ],
      "metadata": {
        "execution": {
          "iopub.status.busy": "2021-10-18T02:31:42.553476Z",
          "iopub.execute_input": "2021-10-18T02:31:42.553690Z",
          "iopub.status.idle": "2021-10-18T02:31:42.582845Z",
          "shell.execute_reply.started": "2021-10-18T02:31:42.553664Z",
          "shell.execute_reply": "2021-10-18T02:31:42.581838Z"
        },
        "trusted": true,
        "id": "E7oKKFt6iFC9",
        "outputId": "28500569-3698-4e65-a71c-0daba1ed325f",
        "colab": {
          "base_uri": "https://localhost:8080/"
        }
      },
      "execution_count": 3,
      "outputs": [
        {
          "output_type": "stream",
          "name": "stdout",
          "text": [
            "<class 'pandas.core.frame.DataFrame'>\n",
            "RangeIndex: 10000 entries, 0 to 9999\n",
            "Data columns (total 14 columns):\n",
            " #   Column           Non-Null Count  Dtype  \n",
            "---  ------           --------------  -----  \n",
            " 0   RowNumber        10000 non-null  int64  \n",
            " 1   CustomerId       10000 non-null  int64  \n",
            " 2   Surname          10000 non-null  object \n",
            " 3   CreditScore      10000 non-null  int64  \n",
            " 4   Geography        10000 non-null  object \n",
            " 5   Gender           10000 non-null  object \n",
            " 6   Age              10000 non-null  int64  \n",
            " 7   Tenure           10000 non-null  int64  \n",
            " 8   Balance          10000 non-null  float64\n",
            " 9   NumOfProducts    10000 non-null  int64  \n",
            " 10  HasCrCard        10000 non-null  int64  \n",
            " 11  IsActiveMember   10000 non-null  int64  \n",
            " 12  EstimatedSalary  10000 non-null  float64\n",
            " 13  Exited           10000 non-null  int64  \n",
            "dtypes: float64(2), int64(9), object(3)\n",
            "memory usage: 1.1+ MB\n"
          ]
        }
      ]
    },
    {
      "cell_type": "code",
      "source": [
        "data.describe(include='all').T"
      ],
      "metadata": {
        "execution": {
          "iopub.status.busy": "2021-10-18T02:31:42.584401Z",
          "iopub.execute_input": "2021-10-18T02:31:42.584709Z",
          "iopub.status.idle": "2021-10-18T02:31:42.651199Z",
          "shell.execute_reply.started": "2021-10-18T02:31:42.584666Z",
          "shell.execute_reply": "2021-10-18T02:31:42.650186Z"
        },
        "trusted": true,
        "id": "lcPwnTQSiFC9",
        "outputId": "00cfc8a7-fcb7-492c-f8dc-18d1ce8c4c36",
        "colab": {
          "base_uri": "https://localhost:8080/",
          "height": 552
        }
      },
      "execution_count": 4,
      "outputs": [
        {
          "output_type": "execute_result",
          "data": {
            "text/plain": [
              "                   count unique     top  freq           mean           std  \\\n",
              "RowNumber        10000.0    NaN     NaN   NaN         5000.5    2886.89568   \n",
              "CustomerId       10000.0    NaN     NaN   NaN  15690940.5694  71936.186123   \n",
              "Surname            10000   2932   Smith    32            NaN           NaN   \n",
              "CreditScore      10000.0    NaN     NaN   NaN       650.5288     96.653299   \n",
              "Geography          10000      3  France  5014            NaN           NaN   \n",
              "Gender             10000      2    Male  5457            NaN           NaN   \n",
              "Age              10000.0    NaN     NaN   NaN        38.9218     10.487806   \n",
              "Tenure           10000.0    NaN     NaN   NaN         5.0128      2.892174   \n",
              "Balance          10000.0    NaN     NaN   NaN   76485.889288  62397.405202   \n",
              "NumOfProducts    10000.0    NaN     NaN   NaN         1.5302      0.581654   \n",
              "HasCrCard        10000.0    NaN     NaN   NaN         0.7055       0.45584   \n",
              "IsActiveMember   10000.0    NaN     NaN   NaN         0.5151      0.499797   \n",
              "EstimatedSalary  10000.0    NaN     NaN   NaN  100090.239881  57510.492818   \n",
              "Exited           10000.0    NaN     NaN   NaN         0.2037      0.402769   \n",
              "\n",
              "                        min          25%         50%          75%         max  \n",
              "RowNumber               1.0      2500.75      5000.5      7500.25     10000.0  \n",
              "CustomerId       15565701.0  15628528.25  15690738.0  15753233.75  15815690.0  \n",
              "Surname                 NaN          NaN         NaN          NaN         NaN  \n",
              "CreditScore           350.0        584.0       652.0        718.0       850.0  \n",
              "Geography               NaN          NaN         NaN          NaN         NaN  \n",
              "Gender                  NaN          NaN         NaN          NaN         NaN  \n",
              "Age                    18.0         32.0        37.0         44.0        92.0  \n",
              "Tenure                  0.0          3.0         5.0          7.0        10.0  \n",
              "Balance                 0.0          0.0    97198.54    127644.24   250898.09  \n",
              "NumOfProducts           1.0          1.0         1.0          2.0         4.0  \n",
              "HasCrCard               0.0          0.0         1.0          1.0         1.0  \n",
              "IsActiveMember          0.0          0.0         1.0          1.0         1.0  \n",
              "EstimatedSalary       11.58     51002.11  100193.915  149388.2475   199992.48  \n",
              "Exited                  0.0          0.0         0.0          0.0         1.0  "
            ],
            "text/html": [
              "\n",
              "  <div id=\"df-3ec5e415-a84b-4026-bff1-f1aa9a2c4fa3\">\n",
              "    <div class=\"colab-df-container\">\n",
              "      <div>\n",
              "<style scoped>\n",
              "    .dataframe tbody tr th:only-of-type {\n",
              "        vertical-align: middle;\n",
              "    }\n",
              "\n",
              "    .dataframe tbody tr th {\n",
              "        vertical-align: top;\n",
              "    }\n",
              "\n",
              "    .dataframe thead th {\n",
              "        text-align: right;\n",
              "    }\n",
              "</style>\n",
              "<table border=\"1\" class=\"dataframe\">\n",
              "  <thead>\n",
              "    <tr style=\"text-align: right;\">\n",
              "      <th></th>\n",
              "      <th>count</th>\n",
              "      <th>unique</th>\n",
              "      <th>top</th>\n",
              "      <th>freq</th>\n",
              "      <th>mean</th>\n",
              "      <th>std</th>\n",
              "      <th>min</th>\n",
              "      <th>25%</th>\n",
              "      <th>50%</th>\n",
              "      <th>75%</th>\n",
              "      <th>max</th>\n",
              "    </tr>\n",
              "  </thead>\n",
              "  <tbody>\n",
              "    <tr>\n",
              "      <th>RowNumber</th>\n",
              "      <td>10000.0</td>\n",
              "      <td>NaN</td>\n",
              "      <td>NaN</td>\n",
              "      <td>NaN</td>\n",
              "      <td>5000.5</td>\n",
              "      <td>2886.89568</td>\n",
              "      <td>1.0</td>\n",
              "      <td>2500.75</td>\n",
              "      <td>5000.5</td>\n",
              "      <td>7500.25</td>\n",
              "      <td>10000.0</td>\n",
              "    </tr>\n",
              "    <tr>\n",
              "      <th>CustomerId</th>\n",
              "      <td>10000.0</td>\n",
              "      <td>NaN</td>\n",
              "      <td>NaN</td>\n",
              "      <td>NaN</td>\n",
              "      <td>15690940.5694</td>\n",
              "      <td>71936.186123</td>\n",
              "      <td>15565701.0</td>\n",
              "      <td>15628528.25</td>\n",
              "      <td>15690738.0</td>\n",
              "      <td>15753233.75</td>\n",
              "      <td>15815690.0</td>\n",
              "    </tr>\n",
              "    <tr>\n",
              "      <th>Surname</th>\n",
              "      <td>10000</td>\n",
              "      <td>2932</td>\n",
              "      <td>Smith</td>\n",
              "      <td>32</td>\n",
              "      <td>NaN</td>\n",
              "      <td>NaN</td>\n",
              "      <td>NaN</td>\n",
              "      <td>NaN</td>\n",
              "      <td>NaN</td>\n",
              "      <td>NaN</td>\n",
              "      <td>NaN</td>\n",
              "    </tr>\n",
              "    <tr>\n",
              "      <th>CreditScore</th>\n",
              "      <td>10000.0</td>\n",
              "      <td>NaN</td>\n",
              "      <td>NaN</td>\n",
              "      <td>NaN</td>\n",
              "      <td>650.5288</td>\n",
              "      <td>96.653299</td>\n",
              "      <td>350.0</td>\n",
              "      <td>584.0</td>\n",
              "      <td>652.0</td>\n",
              "      <td>718.0</td>\n",
              "      <td>850.0</td>\n",
              "    </tr>\n",
              "    <tr>\n",
              "      <th>Geography</th>\n",
              "      <td>10000</td>\n",
              "      <td>3</td>\n",
              "      <td>France</td>\n",
              "      <td>5014</td>\n",
              "      <td>NaN</td>\n",
              "      <td>NaN</td>\n",
              "      <td>NaN</td>\n",
              "      <td>NaN</td>\n",
              "      <td>NaN</td>\n",
              "      <td>NaN</td>\n",
              "      <td>NaN</td>\n",
              "    </tr>\n",
              "    <tr>\n",
              "      <th>Gender</th>\n",
              "      <td>10000</td>\n",
              "      <td>2</td>\n",
              "      <td>Male</td>\n",
              "      <td>5457</td>\n",
              "      <td>NaN</td>\n",
              "      <td>NaN</td>\n",
              "      <td>NaN</td>\n",
              "      <td>NaN</td>\n",
              "      <td>NaN</td>\n",
              "      <td>NaN</td>\n",
              "      <td>NaN</td>\n",
              "    </tr>\n",
              "    <tr>\n",
              "      <th>Age</th>\n",
              "      <td>10000.0</td>\n",
              "      <td>NaN</td>\n",
              "      <td>NaN</td>\n",
              "      <td>NaN</td>\n",
              "      <td>38.9218</td>\n",
              "      <td>10.487806</td>\n",
              "      <td>18.0</td>\n",
              "      <td>32.0</td>\n",
              "      <td>37.0</td>\n",
              "      <td>44.0</td>\n",
              "      <td>92.0</td>\n",
              "    </tr>\n",
              "    <tr>\n",
              "      <th>Tenure</th>\n",
              "      <td>10000.0</td>\n",
              "      <td>NaN</td>\n",
              "      <td>NaN</td>\n",
              "      <td>NaN</td>\n",
              "      <td>5.0128</td>\n",
              "      <td>2.892174</td>\n",
              "      <td>0.0</td>\n",
              "      <td>3.0</td>\n",
              "      <td>5.0</td>\n",
              "      <td>7.0</td>\n",
              "      <td>10.0</td>\n",
              "    </tr>\n",
              "    <tr>\n",
              "      <th>Balance</th>\n",
              "      <td>10000.0</td>\n",
              "      <td>NaN</td>\n",
              "      <td>NaN</td>\n",
              "      <td>NaN</td>\n",
              "      <td>76485.889288</td>\n",
              "      <td>62397.405202</td>\n",
              "      <td>0.0</td>\n",
              "      <td>0.0</td>\n",
              "      <td>97198.54</td>\n",
              "      <td>127644.24</td>\n",
              "      <td>250898.09</td>\n",
              "    </tr>\n",
              "    <tr>\n",
              "      <th>NumOfProducts</th>\n",
              "      <td>10000.0</td>\n",
              "      <td>NaN</td>\n",
              "      <td>NaN</td>\n",
              "      <td>NaN</td>\n",
              "      <td>1.5302</td>\n",
              "      <td>0.581654</td>\n",
              "      <td>1.0</td>\n",
              "      <td>1.0</td>\n",
              "      <td>1.0</td>\n",
              "      <td>2.0</td>\n",
              "      <td>4.0</td>\n",
              "    </tr>\n",
              "    <tr>\n",
              "      <th>HasCrCard</th>\n",
              "      <td>10000.0</td>\n",
              "      <td>NaN</td>\n",
              "      <td>NaN</td>\n",
              "      <td>NaN</td>\n",
              "      <td>0.7055</td>\n",
              "      <td>0.45584</td>\n",
              "      <td>0.0</td>\n",
              "      <td>0.0</td>\n",
              "      <td>1.0</td>\n",
              "      <td>1.0</td>\n",
              "      <td>1.0</td>\n",
              "    </tr>\n",
              "    <tr>\n",
              "      <th>IsActiveMember</th>\n",
              "      <td>10000.0</td>\n",
              "      <td>NaN</td>\n",
              "      <td>NaN</td>\n",
              "      <td>NaN</td>\n",
              "      <td>0.5151</td>\n",
              "      <td>0.499797</td>\n",
              "      <td>0.0</td>\n",
              "      <td>0.0</td>\n",
              "      <td>1.0</td>\n",
              "      <td>1.0</td>\n",
              "      <td>1.0</td>\n",
              "    </tr>\n",
              "    <tr>\n",
              "      <th>EstimatedSalary</th>\n",
              "      <td>10000.0</td>\n",
              "      <td>NaN</td>\n",
              "      <td>NaN</td>\n",
              "      <td>NaN</td>\n",
              "      <td>100090.239881</td>\n",
              "      <td>57510.492818</td>\n",
              "      <td>11.58</td>\n",
              "      <td>51002.11</td>\n",
              "      <td>100193.915</td>\n",
              "      <td>149388.2475</td>\n",
              "      <td>199992.48</td>\n",
              "    </tr>\n",
              "    <tr>\n",
              "      <th>Exited</th>\n",
              "      <td>10000.0</td>\n",
              "      <td>NaN</td>\n",
              "      <td>NaN</td>\n",
              "      <td>NaN</td>\n",
              "      <td>0.2037</td>\n",
              "      <td>0.402769</td>\n",
              "      <td>0.0</td>\n",
              "      <td>0.0</td>\n",
              "      <td>0.0</td>\n",
              "      <td>0.0</td>\n",
              "      <td>1.0</td>\n",
              "    </tr>\n",
              "  </tbody>\n",
              "</table>\n",
              "</div>\n",
              "      <button class=\"colab-df-convert\" onclick=\"convertToInteractive('df-3ec5e415-a84b-4026-bff1-f1aa9a2c4fa3')\"\n",
              "              title=\"Convert this dataframe to an interactive table.\"\n",
              "              style=\"display:none;\">\n",
              "        \n",
              "  <svg xmlns=\"http://www.w3.org/2000/svg\" height=\"24px\"viewBox=\"0 0 24 24\"\n",
              "       width=\"24px\">\n",
              "    <path d=\"M0 0h24v24H0V0z\" fill=\"none\"/>\n",
              "    <path d=\"M18.56 5.44l.94 2.06.94-2.06 2.06-.94-2.06-.94-.94-2.06-.94 2.06-2.06.94zm-11 1L8.5 8.5l.94-2.06 2.06-.94-2.06-.94L8.5 2.5l-.94 2.06-2.06.94zm10 10l.94 2.06.94-2.06 2.06-.94-2.06-.94-.94-2.06-.94 2.06-2.06.94z\"/><path d=\"M17.41 7.96l-1.37-1.37c-.4-.4-.92-.59-1.43-.59-.52 0-1.04.2-1.43.59L10.3 9.45l-7.72 7.72c-.78.78-.78 2.05 0 2.83L4 21.41c.39.39.9.59 1.41.59.51 0 1.02-.2 1.41-.59l7.78-7.78 2.81-2.81c.8-.78.8-2.07 0-2.86zM5.41 20L4 18.59l7.72-7.72 1.47 1.35L5.41 20z\"/>\n",
              "  </svg>\n",
              "      </button>\n",
              "      \n",
              "  <style>\n",
              "    .colab-df-container {\n",
              "      display:flex;\n",
              "      flex-wrap:wrap;\n",
              "      gap: 12px;\n",
              "    }\n",
              "\n",
              "    .colab-df-convert {\n",
              "      background-color: #E8F0FE;\n",
              "      border: none;\n",
              "      border-radius: 50%;\n",
              "      cursor: pointer;\n",
              "      display: none;\n",
              "      fill: #1967D2;\n",
              "      height: 32px;\n",
              "      padding: 0 0 0 0;\n",
              "      width: 32px;\n",
              "    }\n",
              "\n",
              "    .colab-df-convert:hover {\n",
              "      background-color: #E2EBFA;\n",
              "      box-shadow: 0px 1px 2px rgba(60, 64, 67, 0.3), 0px 1px 3px 1px rgba(60, 64, 67, 0.15);\n",
              "      fill: #174EA6;\n",
              "    }\n",
              "\n",
              "    [theme=dark] .colab-df-convert {\n",
              "      background-color: #3B4455;\n",
              "      fill: #D2E3FC;\n",
              "    }\n",
              "\n",
              "    [theme=dark] .colab-df-convert:hover {\n",
              "      background-color: #434B5C;\n",
              "      box-shadow: 0px 1px 3px 1px rgba(0, 0, 0, 0.15);\n",
              "      filter: drop-shadow(0px 1px 2px rgba(0, 0, 0, 0.3));\n",
              "      fill: #FFFFFF;\n",
              "    }\n",
              "  </style>\n",
              "\n",
              "      <script>\n",
              "        const buttonEl =\n",
              "          document.querySelector('#df-3ec5e415-a84b-4026-bff1-f1aa9a2c4fa3 button.colab-df-convert');\n",
              "        buttonEl.style.display =\n",
              "          google.colab.kernel.accessAllowed ? 'block' : 'none';\n",
              "\n",
              "        async function convertToInteractive(key) {\n",
              "          const element = document.querySelector('#df-3ec5e415-a84b-4026-bff1-f1aa9a2c4fa3');\n",
              "          const dataTable =\n",
              "            await google.colab.kernel.invokeFunction('convertToInteractive',\n",
              "                                                     [key], {});\n",
              "          if (!dataTable) return;\n",
              "\n",
              "          const docLinkHtml = 'Like what you see? Visit the ' +\n",
              "            '<a target=\"_blank\" href=https://colab.research.google.com/notebooks/data_table.ipynb>data table notebook</a>'\n",
              "            + ' to learn more about interactive tables.';\n",
              "          element.innerHTML = '';\n",
              "          dataTable['output_type'] = 'display_data';\n",
              "          await google.colab.output.renderOutput(dataTable, element);\n",
              "          const docLink = document.createElement('div');\n",
              "          docLink.innerHTML = docLinkHtml;\n",
              "          element.appendChild(docLink);\n",
              "        }\n",
              "      </script>\n",
              "    </div>\n",
              "  </div>\n",
              "  "
            ]
          },
          "metadata": {},
          "execution_count": 4
        }
      ]
    },
    {
      "cell_type": "code",
      "source": [
        "data.head()"
      ],
      "metadata": {
        "execution": {
          "iopub.status.busy": "2021-10-18T02:31:50.860090Z",
          "iopub.execute_input": "2021-10-18T02:31:50.860404Z",
          "iopub.status.idle": "2021-10-18T02:31:50.877354Z",
          "shell.execute_reply.started": "2021-10-18T02:31:50.860369Z",
          "shell.execute_reply": "2021-10-18T02:31:50.876785Z"
        },
        "trusted": true,
        "id": "sOzJ-JZQiFC9",
        "outputId": "576e3f13-7f93-4a94-ad45-5753af53f1bf",
        "colab": {
          "base_uri": "https://localhost:8080/",
          "height": 270
        }
      },
      "execution_count": 5,
      "outputs": [
        {
          "output_type": "execute_result",
          "data": {
            "text/plain": [
              "   RowNumber  CustomerId   Surname  CreditScore Geography  Gender  Age  \\\n",
              "0          1    15634602  Hargrave          619    France  Female   42   \n",
              "1          2    15647311      Hill          608     Spain  Female   41   \n",
              "2          3    15619304      Onio          502    France  Female   42   \n",
              "3          4    15701354      Boni          699    France  Female   39   \n",
              "4          5    15737888  Mitchell          850     Spain  Female   43   \n",
              "\n",
              "   Tenure    Balance  NumOfProducts  HasCrCard  IsActiveMember  \\\n",
              "0       2       0.00              1          1               1   \n",
              "1       1   83807.86              1          0               1   \n",
              "2       8  159660.80              3          1               0   \n",
              "3       1       0.00              2          0               0   \n",
              "4       2  125510.82              1          1               1   \n",
              "\n",
              "   EstimatedSalary  Exited  \n",
              "0        101348.88       1  \n",
              "1        112542.58       0  \n",
              "2        113931.57       1  \n",
              "3         93826.63       0  \n",
              "4         79084.10       0  "
            ],
            "text/html": [
              "\n",
              "  <div id=\"df-7f28d74c-72d7-4839-98e8-5e17f565eaa4\">\n",
              "    <div class=\"colab-df-container\">\n",
              "      <div>\n",
              "<style scoped>\n",
              "    .dataframe tbody tr th:only-of-type {\n",
              "        vertical-align: middle;\n",
              "    }\n",
              "\n",
              "    .dataframe tbody tr th {\n",
              "        vertical-align: top;\n",
              "    }\n",
              "\n",
              "    .dataframe thead th {\n",
              "        text-align: right;\n",
              "    }\n",
              "</style>\n",
              "<table border=\"1\" class=\"dataframe\">\n",
              "  <thead>\n",
              "    <tr style=\"text-align: right;\">\n",
              "      <th></th>\n",
              "      <th>RowNumber</th>\n",
              "      <th>CustomerId</th>\n",
              "      <th>Surname</th>\n",
              "      <th>CreditScore</th>\n",
              "      <th>Geography</th>\n",
              "      <th>Gender</th>\n",
              "      <th>Age</th>\n",
              "      <th>Tenure</th>\n",
              "      <th>Balance</th>\n",
              "      <th>NumOfProducts</th>\n",
              "      <th>HasCrCard</th>\n",
              "      <th>IsActiveMember</th>\n",
              "      <th>EstimatedSalary</th>\n",
              "      <th>Exited</th>\n",
              "    </tr>\n",
              "  </thead>\n",
              "  <tbody>\n",
              "    <tr>\n",
              "      <th>0</th>\n",
              "      <td>1</td>\n",
              "      <td>15634602</td>\n",
              "      <td>Hargrave</td>\n",
              "      <td>619</td>\n",
              "      <td>France</td>\n",
              "      <td>Female</td>\n",
              "      <td>42</td>\n",
              "      <td>2</td>\n",
              "      <td>0.00</td>\n",
              "      <td>1</td>\n",
              "      <td>1</td>\n",
              "      <td>1</td>\n",
              "      <td>101348.88</td>\n",
              "      <td>1</td>\n",
              "    </tr>\n",
              "    <tr>\n",
              "      <th>1</th>\n",
              "      <td>2</td>\n",
              "      <td>15647311</td>\n",
              "      <td>Hill</td>\n",
              "      <td>608</td>\n",
              "      <td>Spain</td>\n",
              "      <td>Female</td>\n",
              "      <td>41</td>\n",
              "      <td>1</td>\n",
              "      <td>83807.86</td>\n",
              "      <td>1</td>\n",
              "      <td>0</td>\n",
              "      <td>1</td>\n",
              "      <td>112542.58</td>\n",
              "      <td>0</td>\n",
              "    </tr>\n",
              "    <tr>\n",
              "      <th>2</th>\n",
              "      <td>3</td>\n",
              "      <td>15619304</td>\n",
              "      <td>Onio</td>\n",
              "      <td>502</td>\n",
              "      <td>France</td>\n",
              "      <td>Female</td>\n",
              "      <td>42</td>\n",
              "      <td>8</td>\n",
              "      <td>159660.80</td>\n",
              "      <td>3</td>\n",
              "      <td>1</td>\n",
              "      <td>0</td>\n",
              "      <td>113931.57</td>\n",
              "      <td>1</td>\n",
              "    </tr>\n",
              "    <tr>\n",
              "      <th>3</th>\n",
              "      <td>4</td>\n",
              "      <td>15701354</td>\n",
              "      <td>Boni</td>\n",
              "      <td>699</td>\n",
              "      <td>France</td>\n",
              "      <td>Female</td>\n",
              "      <td>39</td>\n",
              "      <td>1</td>\n",
              "      <td>0.00</td>\n",
              "      <td>2</td>\n",
              "      <td>0</td>\n",
              "      <td>0</td>\n",
              "      <td>93826.63</td>\n",
              "      <td>0</td>\n",
              "    </tr>\n",
              "    <tr>\n",
              "      <th>4</th>\n",
              "      <td>5</td>\n",
              "      <td>15737888</td>\n",
              "      <td>Mitchell</td>\n",
              "      <td>850</td>\n",
              "      <td>Spain</td>\n",
              "      <td>Female</td>\n",
              "      <td>43</td>\n",
              "      <td>2</td>\n",
              "      <td>125510.82</td>\n",
              "      <td>1</td>\n",
              "      <td>1</td>\n",
              "      <td>1</td>\n",
              "      <td>79084.10</td>\n",
              "      <td>0</td>\n",
              "    </tr>\n",
              "  </tbody>\n",
              "</table>\n",
              "</div>\n",
              "      <button class=\"colab-df-convert\" onclick=\"convertToInteractive('df-7f28d74c-72d7-4839-98e8-5e17f565eaa4')\"\n",
              "              title=\"Convert this dataframe to an interactive table.\"\n",
              "              style=\"display:none;\">\n",
              "        \n",
              "  <svg xmlns=\"http://www.w3.org/2000/svg\" height=\"24px\"viewBox=\"0 0 24 24\"\n",
              "       width=\"24px\">\n",
              "    <path d=\"M0 0h24v24H0V0z\" fill=\"none\"/>\n",
              "    <path d=\"M18.56 5.44l.94 2.06.94-2.06 2.06-.94-2.06-.94-.94-2.06-.94 2.06-2.06.94zm-11 1L8.5 8.5l.94-2.06 2.06-.94-2.06-.94L8.5 2.5l-.94 2.06-2.06.94zm10 10l.94 2.06.94-2.06 2.06-.94-2.06-.94-.94-2.06-.94 2.06-2.06.94z\"/><path d=\"M17.41 7.96l-1.37-1.37c-.4-.4-.92-.59-1.43-.59-.52 0-1.04.2-1.43.59L10.3 9.45l-7.72 7.72c-.78.78-.78 2.05 0 2.83L4 21.41c.39.39.9.59 1.41.59.51 0 1.02-.2 1.41-.59l7.78-7.78 2.81-2.81c.8-.78.8-2.07 0-2.86zM5.41 20L4 18.59l7.72-7.72 1.47 1.35L5.41 20z\"/>\n",
              "  </svg>\n",
              "      </button>\n",
              "      \n",
              "  <style>\n",
              "    .colab-df-container {\n",
              "      display:flex;\n",
              "      flex-wrap:wrap;\n",
              "      gap: 12px;\n",
              "    }\n",
              "\n",
              "    .colab-df-convert {\n",
              "      background-color: #E8F0FE;\n",
              "      border: none;\n",
              "      border-radius: 50%;\n",
              "      cursor: pointer;\n",
              "      display: none;\n",
              "      fill: #1967D2;\n",
              "      height: 32px;\n",
              "      padding: 0 0 0 0;\n",
              "      width: 32px;\n",
              "    }\n",
              "\n",
              "    .colab-df-convert:hover {\n",
              "      background-color: #E2EBFA;\n",
              "      box-shadow: 0px 1px 2px rgba(60, 64, 67, 0.3), 0px 1px 3px 1px rgba(60, 64, 67, 0.15);\n",
              "      fill: #174EA6;\n",
              "    }\n",
              "\n",
              "    [theme=dark] .colab-df-convert {\n",
              "      background-color: #3B4455;\n",
              "      fill: #D2E3FC;\n",
              "    }\n",
              "\n",
              "    [theme=dark] .colab-df-convert:hover {\n",
              "      background-color: #434B5C;\n",
              "      box-shadow: 0px 1px 3px 1px rgba(0, 0, 0, 0.15);\n",
              "      filter: drop-shadow(0px 1px 2px rgba(0, 0, 0, 0.3));\n",
              "      fill: #FFFFFF;\n",
              "    }\n",
              "  </style>\n",
              "\n",
              "      <script>\n",
              "        const buttonEl =\n",
              "          document.querySelector('#df-7f28d74c-72d7-4839-98e8-5e17f565eaa4 button.colab-df-convert');\n",
              "        buttonEl.style.display =\n",
              "          google.colab.kernel.accessAllowed ? 'block' : 'none';\n",
              "\n",
              "        async function convertToInteractive(key) {\n",
              "          const element = document.querySelector('#df-7f28d74c-72d7-4839-98e8-5e17f565eaa4');\n",
              "          const dataTable =\n",
              "            await google.colab.kernel.invokeFunction('convertToInteractive',\n",
              "                                                     [key], {});\n",
              "          if (!dataTable) return;\n",
              "\n",
              "          const docLinkHtml = 'Like what you see? Visit the ' +\n",
              "            '<a target=\"_blank\" href=https://colab.research.google.com/notebooks/data_table.ipynb>data table notebook</a>'\n",
              "            + ' to learn more about interactive tables.';\n",
              "          element.innerHTML = '';\n",
              "          dataTable['output_type'] = 'display_data';\n",
              "          await google.colab.output.renderOutput(dataTable, element);\n",
              "          const docLink = document.createElement('div');\n",
              "          docLink.innerHTML = docLinkHtml;\n",
              "          element.appendChild(docLink);\n",
              "        }\n",
              "      </script>\n",
              "    </div>\n",
              "  </div>\n",
              "  "
            ]
          },
          "metadata": {},
          "execution_count": 5
        }
      ]
    },
    {
      "cell_type": "code",
      "source": [
        "data.tail()"
      ],
      "metadata": {
        "execution": {
          "iopub.status.busy": "2021-10-18T02:31:59.696967Z",
          "iopub.execute_input": "2021-10-18T02:31:59.697624Z",
          "iopub.status.idle": "2021-10-18T02:31:59.714152Z",
          "shell.execute_reply.started": "2021-10-18T02:31:59.697582Z",
          "shell.execute_reply": "2021-10-18T02:31:59.713275Z"
        },
        "trusted": true,
        "id": "77CLUKrwiFC-",
        "outputId": "a70ce1d2-77e5-46cf-b9ea-0d92d0a108d3",
        "colab": {
          "base_uri": "https://localhost:8080/",
          "height": 270
        }
      },
      "execution_count": 6,
      "outputs": [
        {
          "output_type": "execute_result",
          "data": {
            "text/plain": [
              "      RowNumber  CustomerId    Surname  CreditScore Geography  Gender  Age  \\\n",
              "9995       9996    15606229   Obijiaku          771    France    Male   39   \n",
              "9996       9997    15569892  Johnstone          516    France    Male   35   \n",
              "9997       9998    15584532        Liu          709    France  Female   36   \n",
              "9998       9999    15682355  Sabbatini          772   Germany    Male   42   \n",
              "9999      10000    15628319     Walker          792    France  Female   28   \n",
              "\n",
              "      Tenure    Balance  NumOfProducts  HasCrCard  IsActiveMember  \\\n",
              "9995       5       0.00              2          1               0   \n",
              "9996      10   57369.61              1          1               1   \n",
              "9997       7       0.00              1          0               1   \n",
              "9998       3   75075.31              2          1               0   \n",
              "9999       4  130142.79              1          1               0   \n",
              "\n",
              "      EstimatedSalary  Exited  \n",
              "9995         96270.64       0  \n",
              "9996        101699.77       0  \n",
              "9997         42085.58       1  \n",
              "9998         92888.52       1  \n",
              "9999         38190.78       0  "
            ],
            "text/html": [
              "\n",
              "  <div id=\"df-13d5f7e9-d9a7-47d4-9a4b-4434ad59aa36\">\n",
              "    <div class=\"colab-df-container\">\n",
              "      <div>\n",
              "<style scoped>\n",
              "    .dataframe tbody tr th:only-of-type {\n",
              "        vertical-align: middle;\n",
              "    }\n",
              "\n",
              "    .dataframe tbody tr th {\n",
              "        vertical-align: top;\n",
              "    }\n",
              "\n",
              "    .dataframe thead th {\n",
              "        text-align: right;\n",
              "    }\n",
              "</style>\n",
              "<table border=\"1\" class=\"dataframe\">\n",
              "  <thead>\n",
              "    <tr style=\"text-align: right;\">\n",
              "      <th></th>\n",
              "      <th>RowNumber</th>\n",
              "      <th>CustomerId</th>\n",
              "      <th>Surname</th>\n",
              "      <th>CreditScore</th>\n",
              "      <th>Geography</th>\n",
              "      <th>Gender</th>\n",
              "      <th>Age</th>\n",
              "      <th>Tenure</th>\n",
              "      <th>Balance</th>\n",
              "      <th>NumOfProducts</th>\n",
              "      <th>HasCrCard</th>\n",
              "      <th>IsActiveMember</th>\n",
              "      <th>EstimatedSalary</th>\n",
              "      <th>Exited</th>\n",
              "    </tr>\n",
              "  </thead>\n",
              "  <tbody>\n",
              "    <tr>\n",
              "      <th>9995</th>\n",
              "      <td>9996</td>\n",
              "      <td>15606229</td>\n",
              "      <td>Obijiaku</td>\n",
              "      <td>771</td>\n",
              "      <td>France</td>\n",
              "      <td>Male</td>\n",
              "      <td>39</td>\n",
              "      <td>5</td>\n",
              "      <td>0.00</td>\n",
              "      <td>2</td>\n",
              "      <td>1</td>\n",
              "      <td>0</td>\n",
              "      <td>96270.64</td>\n",
              "      <td>0</td>\n",
              "    </tr>\n",
              "    <tr>\n",
              "      <th>9996</th>\n",
              "      <td>9997</td>\n",
              "      <td>15569892</td>\n",
              "      <td>Johnstone</td>\n",
              "      <td>516</td>\n",
              "      <td>France</td>\n",
              "      <td>Male</td>\n",
              "      <td>35</td>\n",
              "      <td>10</td>\n",
              "      <td>57369.61</td>\n",
              "      <td>1</td>\n",
              "      <td>1</td>\n",
              "      <td>1</td>\n",
              "      <td>101699.77</td>\n",
              "      <td>0</td>\n",
              "    </tr>\n",
              "    <tr>\n",
              "      <th>9997</th>\n",
              "      <td>9998</td>\n",
              "      <td>15584532</td>\n",
              "      <td>Liu</td>\n",
              "      <td>709</td>\n",
              "      <td>France</td>\n",
              "      <td>Female</td>\n",
              "      <td>36</td>\n",
              "      <td>7</td>\n",
              "      <td>0.00</td>\n",
              "      <td>1</td>\n",
              "      <td>0</td>\n",
              "      <td>1</td>\n",
              "      <td>42085.58</td>\n",
              "      <td>1</td>\n",
              "    </tr>\n",
              "    <tr>\n",
              "      <th>9998</th>\n",
              "      <td>9999</td>\n",
              "      <td>15682355</td>\n",
              "      <td>Sabbatini</td>\n",
              "      <td>772</td>\n",
              "      <td>Germany</td>\n",
              "      <td>Male</td>\n",
              "      <td>42</td>\n",
              "      <td>3</td>\n",
              "      <td>75075.31</td>\n",
              "      <td>2</td>\n",
              "      <td>1</td>\n",
              "      <td>0</td>\n",
              "      <td>92888.52</td>\n",
              "      <td>1</td>\n",
              "    </tr>\n",
              "    <tr>\n",
              "      <th>9999</th>\n",
              "      <td>10000</td>\n",
              "      <td>15628319</td>\n",
              "      <td>Walker</td>\n",
              "      <td>792</td>\n",
              "      <td>France</td>\n",
              "      <td>Female</td>\n",
              "      <td>28</td>\n",
              "      <td>4</td>\n",
              "      <td>130142.79</td>\n",
              "      <td>1</td>\n",
              "      <td>1</td>\n",
              "      <td>0</td>\n",
              "      <td>38190.78</td>\n",
              "      <td>0</td>\n",
              "    </tr>\n",
              "  </tbody>\n",
              "</table>\n",
              "</div>\n",
              "      <button class=\"colab-df-convert\" onclick=\"convertToInteractive('df-13d5f7e9-d9a7-47d4-9a4b-4434ad59aa36')\"\n",
              "              title=\"Convert this dataframe to an interactive table.\"\n",
              "              style=\"display:none;\">\n",
              "        \n",
              "  <svg xmlns=\"http://www.w3.org/2000/svg\" height=\"24px\"viewBox=\"0 0 24 24\"\n",
              "       width=\"24px\">\n",
              "    <path d=\"M0 0h24v24H0V0z\" fill=\"none\"/>\n",
              "    <path d=\"M18.56 5.44l.94 2.06.94-2.06 2.06-.94-2.06-.94-.94-2.06-.94 2.06-2.06.94zm-11 1L8.5 8.5l.94-2.06 2.06-.94-2.06-.94L8.5 2.5l-.94 2.06-2.06.94zm10 10l.94 2.06.94-2.06 2.06-.94-2.06-.94-.94-2.06-.94 2.06-2.06.94z\"/><path d=\"M17.41 7.96l-1.37-1.37c-.4-.4-.92-.59-1.43-.59-.52 0-1.04.2-1.43.59L10.3 9.45l-7.72 7.72c-.78.78-.78 2.05 0 2.83L4 21.41c.39.39.9.59 1.41.59.51 0 1.02-.2 1.41-.59l7.78-7.78 2.81-2.81c.8-.78.8-2.07 0-2.86zM5.41 20L4 18.59l7.72-7.72 1.47 1.35L5.41 20z\"/>\n",
              "  </svg>\n",
              "      </button>\n",
              "      \n",
              "  <style>\n",
              "    .colab-df-container {\n",
              "      display:flex;\n",
              "      flex-wrap:wrap;\n",
              "      gap: 12px;\n",
              "    }\n",
              "\n",
              "    .colab-df-convert {\n",
              "      background-color: #E8F0FE;\n",
              "      border: none;\n",
              "      border-radius: 50%;\n",
              "      cursor: pointer;\n",
              "      display: none;\n",
              "      fill: #1967D2;\n",
              "      height: 32px;\n",
              "      padding: 0 0 0 0;\n",
              "      width: 32px;\n",
              "    }\n",
              "\n",
              "    .colab-df-convert:hover {\n",
              "      background-color: #E2EBFA;\n",
              "      box-shadow: 0px 1px 2px rgba(60, 64, 67, 0.3), 0px 1px 3px 1px rgba(60, 64, 67, 0.15);\n",
              "      fill: #174EA6;\n",
              "    }\n",
              "\n",
              "    [theme=dark] .colab-df-convert {\n",
              "      background-color: #3B4455;\n",
              "      fill: #D2E3FC;\n",
              "    }\n",
              "\n",
              "    [theme=dark] .colab-df-convert:hover {\n",
              "      background-color: #434B5C;\n",
              "      box-shadow: 0px 1px 3px 1px rgba(0, 0, 0, 0.15);\n",
              "      filter: drop-shadow(0px 1px 2px rgba(0, 0, 0, 0.3));\n",
              "      fill: #FFFFFF;\n",
              "    }\n",
              "  </style>\n",
              "\n",
              "      <script>\n",
              "        const buttonEl =\n",
              "          document.querySelector('#df-13d5f7e9-d9a7-47d4-9a4b-4434ad59aa36 button.colab-df-convert');\n",
              "        buttonEl.style.display =\n",
              "          google.colab.kernel.accessAllowed ? 'block' : 'none';\n",
              "\n",
              "        async function convertToInteractive(key) {\n",
              "          const element = document.querySelector('#df-13d5f7e9-d9a7-47d4-9a4b-4434ad59aa36');\n",
              "          const dataTable =\n",
              "            await google.colab.kernel.invokeFunction('convertToInteractive',\n",
              "                                                     [key], {});\n",
              "          if (!dataTable) return;\n",
              "\n",
              "          const docLinkHtml = 'Like what you see? Visit the ' +\n",
              "            '<a target=\"_blank\" href=https://colab.research.google.com/notebooks/data_table.ipynb>data table notebook</a>'\n",
              "            + ' to learn more about interactive tables.';\n",
              "          element.innerHTML = '';\n",
              "          dataTable['output_type'] = 'display_data';\n",
              "          await google.colab.output.renderOutput(dataTable, element);\n",
              "          const docLink = document.createElement('div');\n",
              "          docLink.innerHTML = docLinkHtml;\n",
              "          element.appendChild(docLink);\n",
              "        }\n",
              "      </script>\n",
              "    </div>\n",
              "  </div>\n",
              "  "
            ]
          },
          "metadata": {},
          "execution_count": 6
        }
      ]
    },
    {
      "cell_type": "code",
      "source": [
        "data.sample(10)"
      ],
      "metadata": {
        "execution": {
          "iopub.status.busy": "2021-10-18T02:32:07.296061Z",
          "iopub.execute_input": "2021-10-18T02:32:07.296714Z",
          "iopub.status.idle": "2021-10-18T02:32:07.321848Z",
          "shell.execute_reply.started": "2021-10-18T02:32:07.296672Z",
          "shell.execute_reply": "2021-10-18T02:32:07.320824Z"
        },
        "trusted": true,
        "id": "tMjdSCKQiFC-",
        "outputId": "8b99ec76-c01f-4d2f-875b-cb008fa562f9",
        "colab": {
          "base_uri": "https://localhost:8080/",
          "height": 427
        }
      },
      "execution_count": 7,
      "outputs": [
        {
          "output_type": "execute_result",
          "data": {
            "text/plain": [
              "      RowNumber  CustomerId          Surname  CreditScore Geography  Gender  \\\n",
              "8737       8738    15780498          Maynard          634    France    Male   \n",
              "8513       8514    15740602            Boyle          674   Germany  Female   \n",
              "4504       4505    15788930            Silva          761     Spain    Male   \n",
              "8443       8444    15567897  Chiazagomekpere          619   Germany    Male   \n",
              "7687       7688    15776494        Siciliano          754    France    Male   \n",
              "4636       4637    15630709      Castiglione          619   Germany  Female   \n",
              "1917       1918    15699772          Barclay          428   Germany  Female   \n",
              "3074       3075    15609653           Ifeatu          614   Germany  Female   \n",
              "2090       2091    15602551          Johnson          667     Spain    Male   \n",
              "8239       8240    15753955             Lori          639     Spain    Male   \n",
              "\n",
              "      Age  Tenure    Balance  NumOfProducts  HasCrCard  IsActiveMember  \\\n",
              "8737   34       3  145030.92              1          1               1   \n",
              "8513   27       4  111568.01              1          0               1   \n",
              "4504   37       7  132730.17              1          1               0   \n",
              "8443   23       5  132725.10              1          1               1   \n",
              "7687   61       5  146622.35              1          1               1   \n",
              "4636   31       2   56116.30              2          0               0   \n",
              "1917   40       3  129248.11              2          1               0   \n",
              "3074   44       6  118715.86              1          1               0   \n",
              "2090   39       9       0.00              2          1               0   \n",
              "8239   34       7  149940.04              2          0               0   \n",
              "\n",
              "      EstimatedSalary  Exited  \n",
              "8737         41820.65       0  \n",
              "8513         22026.18       0  \n",
              "4504        199293.01       0  \n",
              "8443        143913.33       0  \n",
              "7687         41815.22       1  \n",
              "4636          2181.94       0  \n",
              "1917         72876.43       1  \n",
              "3074        133591.11       1  \n",
              "2090         68873.80       0  \n",
              "8239        156648.81       0  "
            ],
            "text/html": [
              "\n",
              "  <div id=\"df-a9fb2667-1037-483c-9a7d-78d8fe78ee59\">\n",
              "    <div class=\"colab-df-container\">\n",
              "      <div>\n",
              "<style scoped>\n",
              "    .dataframe tbody tr th:only-of-type {\n",
              "        vertical-align: middle;\n",
              "    }\n",
              "\n",
              "    .dataframe tbody tr th {\n",
              "        vertical-align: top;\n",
              "    }\n",
              "\n",
              "    .dataframe thead th {\n",
              "        text-align: right;\n",
              "    }\n",
              "</style>\n",
              "<table border=\"1\" class=\"dataframe\">\n",
              "  <thead>\n",
              "    <tr style=\"text-align: right;\">\n",
              "      <th></th>\n",
              "      <th>RowNumber</th>\n",
              "      <th>CustomerId</th>\n",
              "      <th>Surname</th>\n",
              "      <th>CreditScore</th>\n",
              "      <th>Geography</th>\n",
              "      <th>Gender</th>\n",
              "      <th>Age</th>\n",
              "      <th>Tenure</th>\n",
              "      <th>Balance</th>\n",
              "      <th>NumOfProducts</th>\n",
              "      <th>HasCrCard</th>\n",
              "      <th>IsActiveMember</th>\n",
              "      <th>EstimatedSalary</th>\n",
              "      <th>Exited</th>\n",
              "    </tr>\n",
              "  </thead>\n",
              "  <tbody>\n",
              "    <tr>\n",
              "      <th>8737</th>\n",
              "      <td>8738</td>\n",
              "      <td>15780498</td>\n",
              "      <td>Maynard</td>\n",
              "      <td>634</td>\n",
              "      <td>France</td>\n",
              "      <td>Male</td>\n",
              "      <td>34</td>\n",
              "      <td>3</td>\n",
              "      <td>145030.92</td>\n",
              "      <td>1</td>\n",
              "      <td>1</td>\n",
              "      <td>1</td>\n",
              "      <td>41820.65</td>\n",
              "      <td>0</td>\n",
              "    </tr>\n",
              "    <tr>\n",
              "      <th>8513</th>\n",
              "      <td>8514</td>\n",
              "      <td>15740602</td>\n",
              "      <td>Boyle</td>\n",
              "      <td>674</td>\n",
              "      <td>Germany</td>\n",
              "      <td>Female</td>\n",
              "      <td>27</td>\n",
              "      <td>4</td>\n",
              "      <td>111568.01</td>\n",
              "      <td>1</td>\n",
              "      <td>0</td>\n",
              "      <td>1</td>\n",
              "      <td>22026.18</td>\n",
              "      <td>0</td>\n",
              "    </tr>\n",
              "    <tr>\n",
              "      <th>4504</th>\n",
              "      <td>4505</td>\n",
              "      <td>15788930</td>\n",
              "      <td>Silva</td>\n",
              "      <td>761</td>\n",
              "      <td>Spain</td>\n",
              "      <td>Male</td>\n",
              "      <td>37</td>\n",
              "      <td>7</td>\n",
              "      <td>132730.17</td>\n",
              "      <td>1</td>\n",
              "      <td>1</td>\n",
              "      <td>0</td>\n",
              "      <td>199293.01</td>\n",
              "      <td>0</td>\n",
              "    </tr>\n",
              "    <tr>\n",
              "      <th>8443</th>\n",
              "      <td>8444</td>\n",
              "      <td>15567897</td>\n",
              "      <td>Chiazagomekpere</td>\n",
              "      <td>619</td>\n",
              "      <td>Germany</td>\n",
              "      <td>Male</td>\n",
              "      <td>23</td>\n",
              "      <td>5</td>\n",
              "      <td>132725.10</td>\n",
              "      <td>1</td>\n",
              "      <td>1</td>\n",
              "      <td>1</td>\n",
              "      <td>143913.33</td>\n",
              "      <td>0</td>\n",
              "    </tr>\n",
              "    <tr>\n",
              "      <th>7687</th>\n",
              "      <td>7688</td>\n",
              "      <td>15776494</td>\n",
              "      <td>Siciliano</td>\n",
              "      <td>754</td>\n",
              "      <td>France</td>\n",
              "      <td>Male</td>\n",
              "      <td>61</td>\n",
              "      <td>5</td>\n",
              "      <td>146622.35</td>\n",
              "      <td>1</td>\n",
              "      <td>1</td>\n",
              "      <td>1</td>\n",
              "      <td>41815.22</td>\n",
              "      <td>1</td>\n",
              "    </tr>\n",
              "    <tr>\n",
              "      <th>4636</th>\n",
              "      <td>4637</td>\n",
              "      <td>15630709</td>\n",
              "      <td>Castiglione</td>\n",
              "      <td>619</td>\n",
              "      <td>Germany</td>\n",
              "      <td>Female</td>\n",
              "      <td>31</td>\n",
              "      <td>2</td>\n",
              "      <td>56116.30</td>\n",
              "      <td>2</td>\n",
              "      <td>0</td>\n",
              "      <td>0</td>\n",
              "      <td>2181.94</td>\n",
              "      <td>0</td>\n",
              "    </tr>\n",
              "    <tr>\n",
              "      <th>1917</th>\n",
              "      <td>1918</td>\n",
              "      <td>15699772</td>\n",
              "      <td>Barclay</td>\n",
              "      <td>428</td>\n",
              "      <td>Germany</td>\n",
              "      <td>Female</td>\n",
              "      <td>40</td>\n",
              "      <td>3</td>\n",
              "      <td>129248.11</td>\n",
              "      <td>2</td>\n",
              "      <td>1</td>\n",
              "      <td>0</td>\n",
              "      <td>72876.43</td>\n",
              "      <td>1</td>\n",
              "    </tr>\n",
              "    <tr>\n",
              "      <th>3074</th>\n",
              "      <td>3075</td>\n",
              "      <td>15609653</td>\n",
              "      <td>Ifeatu</td>\n",
              "      <td>614</td>\n",
              "      <td>Germany</td>\n",
              "      <td>Female</td>\n",
              "      <td>44</td>\n",
              "      <td>6</td>\n",
              "      <td>118715.86</td>\n",
              "      <td>1</td>\n",
              "      <td>1</td>\n",
              "      <td>0</td>\n",
              "      <td>133591.11</td>\n",
              "      <td>1</td>\n",
              "    </tr>\n",
              "    <tr>\n",
              "      <th>2090</th>\n",
              "      <td>2091</td>\n",
              "      <td>15602551</td>\n",
              "      <td>Johnson</td>\n",
              "      <td>667</td>\n",
              "      <td>Spain</td>\n",
              "      <td>Male</td>\n",
              "      <td>39</td>\n",
              "      <td>9</td>\n",
              "      <td>0.00</td>\n",
              "      <td>2</td>\n",
              "      <td>1</td>\n",
              "      <td>0</td>\n",
              "      <td>68873.80</td>\n",
              "      <td>0</td>\n",
              "    </tr>\n",
              "    <tr>\n",
              "      <th>8239</th>\n",
              "      <td>8240</td>\n",
              "      <td>15753955</td>\n",
              "      <td>Lori</td>\n",
              "      <td>639</td>\n",
              "      <td>Spain</td>\n",
              "      <td>Male</td>\n",
              "      <td>34</td>\n",
              "      <td>7</td>\n",
              "      <td>149940.04</td>\n",
              "      <td>2</td>\n",
              "      <td>0</td>\n",
              "      <td>0</td>\n",
              "      <td>156648.81</td>\n",
              "      <td>0</td>\n",
              "    </tr>\n",
              "  </tbody>\n",
              "</table>\n",
              "</div>\n",
              "      <button class=\"colab-df-convert\" onclick=\"convertToInteractive('df-a9fb2667-1037-483c-9a7d-78d8fe78ee59')\"\n",
              "              title=\"Convert this dataframe to an interactive table.\"\n",
              "              style=\"display:none;\">\n",
              "        \n",
              "  <svg xmlns=\"http://www.w3.org/2000/svg\" height=\"24px\"viewBox=\"0 0 24 24\"\n",
              "       width=\"24px\">\n",
              "    <path d=\"M0 0h24v24H0V0z\" fill=\"none\"/>\n",
              "    <path d=\"M18.56 5.44l.94 2.06.94-2.06 2.06-.94-2.06-.94-.94-2.06-.94 2.06-2.06.94zm-11 1L8.5 8.5l.94-2.06 2.06-.94-2.06-.94L8.5 2.5l-.94 2.06-2.06.94zm10 10l.94 2.06.94-2.06 2.06-.94-2.06-.94-.94-2.06-.94 2.06-2.06.94z\"/><path d=\"M17.41 7.96l-1.37-1.37c-.4-.4-.92-.59-1.43-.59-.52 0-1.04.2-1.43.59L10.3 9.45l-7.72 7.72c-.78.78-.78 2.05 0 2.83L4 21.41c.39.39.9.59 1.41.59.51 0 1.02-.2 1.41-.59l7.78-7.78 2.81-2.81c.8-.78.8-2.07 0-2.86zM5.41 20L4 18.59l7.72-7.72 1.47 1.35L5.41 20z\"/>\n",
              "  </svg>\n",
              "      </button>\n",
              "      \n",
              "  <style>\n",
              "    .colab-df-container {\n",
              "      display:flex;\n",
              "      flex-wrap:wrap;\n",
              "      gap: 12px;\n",
              "    }\n",
              "\n",
              "    .colab-df-convert {\n",
              "      background-color: #E8F0FE;\n",
              "      border: none;\n",
              "      border-radius: 50%;\n",
              "      cursor: pointer;\n",
              "      display: none;\n",
              "      fill: #1967D2;\n",
              "      height: 32px;\n",
              "      padding: 0 0 0 0;\n",
              "      width: 32px;\n",
              "    }\n",
              "\n",
              "    .colab-df-convert:hover {\n",
              "      background-color: #E2EBFA;\n",
              "      box-shadow: 0px 1px 2px rgba(60, 64, 67, 0.3), 0px 1px 3px 1px rgba(60, 64, 67, 0.15);\n",
              "      fill: #174EA6;\n",
              "    }\n",
              "\n",
              "    [theme=dark] .colab-df-convert {\n",
              "      background-color: #3B4455;\n",
              "      fill: #D2E3FC;\n",
              "    }\n",
              "\n",
              "    [theme=dark] .colab-df-convert:hover {\n",
              "      background-color: #434B5C;\n",
              "      box-shadow: 0px 1px 3px 1px rgba(0, 0, 0, 0.15);\n",
              "      filter: drop-shadow(0px 1px 2px rgba(0, 0, 0, 0.3));\n",
              "      fill: #FFFFFF;\n",
              "    }\n",
              "  </style>\n",
              "\n",
              "      <script>\n",
              "        const buttonEl =\n",
              "          document.querySelector('#df-a9fb2667-1037-483c-9a7d-78d8fe78ee59 button.colab-df-convert');\n",
              "        buttonEl.style.display =\n",
              "          google.colab.kernel.accessAllowed ? 'block' : 'none';\n",
              "\n",
              "        async function convertToInteractive(key) {\n",
              "          const element = document.querySelector('#df-a9fb2667-1037-483c-9a7d-78d8fe78ee59');\n",
              "          const dataTable =\n",
              "            await google.colab.kernel.invokeFunction('convertToInteractive',\n",
              "                                                     [key], {});\n",
              "          if (!dataTable) return;\n",
              "\n",
              "          const docLinkHtml = 'Like what you see? Visit the ' +\n",
              "            '<a target=\"_blank\" href=https://colab.research.google.com/notebooks/data_table.ipynb>data table notebook</a>'\n",
              "            + ' to learn more about interactive tables.';\n",
              "          element.innerHTML = '';\n",
              "          dataTable['output_type'] = 'display_data';\n",
              "          await google.colab.output.renderOutput(dataTable, element);\n",
              "          const docLink = document.createElement('div');\n",
              "          docLink.innerHTML = docLinkHtml;\n",
              "          element.appendChild(docLink);\n",
              "        }\n",
              "      </script>\n",
              "    </div>\n",
              "  </div>\n",
              "  "
            ]
          },
          "metadata": {},
          "execution_count": 7
        }
      ]
    },
    {
      "cell_type": "code",
      "source": [
        "data.duplicated().sum()"
      ],
      "metadata": {
        "execution": {
          "iopub.status.busy": "2021-10-18T02:32:17.486948Z",
          "iopub.execute_input": "2021-10-18T02:32:17.487582Z",
          "iopub.status.idle": "2021-10-18T02:32:17.505324Z",
          "shell.execute_reply.started": "2021-10-18T02:32:17.487538Z",
          "shell.execute_reply": "2021-10-18T02:32:17.504628Z"
        },
        "trusted": true,
        "id": "A1RfwuiCiFC_",
        "outputId": "d9d8db0c-f9b5-4bb9-9359-c0d50cbf3f2a",
        "colab": {
          "base_uri": "https://localhost:8080/"
        }
      },
      "execution_count": 8,
      "outputs": [
        {
          "output_type": "execute_result",
          "data": {
            "text/plain": [
              "0"
            ]
          },
          "metadata": {},
          "execution_count": 8
        }
      ]
    },
    {
      "cell_type": "code",
      "source": [
        "data.isnull().sum()"
      ],
      "metadata": {
        "execution": {
          "iopub.status.busy": "2021-10-18T02:32:26.791991Z",
          "iopub.execute_input": "2021-10-18T02:32:26.792268Z",
          "iopub.status.idle": "2021-10-18T02:32:26.804163Z",
          "shell.execute_reply.started": "2021-10-18T02:32:26.792239Z",
          "shell.execute_reply": "2021-10-18T02:32:26.803348Z"
        },
        "trusted": true,
        "id": "CKIosiQjiFDA",
        "outputId": "81e11986-c316-47c9-cea9-7c287f5d5b9f",
        "colab": {
          "base_uri": "https://localhost:8080/"
        }
      },
      "execution_count": 9,
      "outputs": [
        {
          "output_type": "execute_result",
          "data": {
            "text/plain": [
              "RowNumber          0\n",
              "CustomerId         0\n",
              "Surname            0\n",
              "CreditScore        0\n",
              "Geography          0\n",
              "Gender             0\n",
              "Age                0\n",
              "Tenure             0\n",
              "Balance            0\n",
              "NumOfProducts      0\n",
              "HasCrCard          0\n",
              "IsActiveMember     0\n",
              "EstimatedSalary    0\n",
              "Exited             0\n",
              "dtype: int64"
            ]
          },
          "metadata": {},
          "execution_count": 9
        }
      ]
    },
    {
      "cell_type": "code",
      "source": [
        "data.nunique()"
      ],
      "metadata": {
        "execution": {
          "iopub.status.busy": "2021-10-18T02:32:37.408456Z",
          "iopub.execute_input": "2021-10-18T02:32:37.408978Z",
          "iopub.status.idle": "2021-10-18T02:32:37.423450Z",
          "shell.execute_reply.started": "2021-10-18T02:32:37.408941Z",
          "shell.execute_reply": "2021-10-18T02:32:37.422574Z"
        },
        "trusted": true,
        "id": "HExo3FJSiFDA",
        "outputId": "f824ab26-3ebd-4ad0-d671-2332133d738b",
        "colab": {
          "base_uri": "https://localhost:8080/"
        }
      },
      "execution_count": 10,
      "outputs": [
        {
          "output_type": "execute_result",
          "data": {
            "text/plain": [
              "RowNumber          10000\n",
              "CustomerId         10000\n",
              "Surname             2932\n",
              "CreditScore          460\n",
              "Geography              3\n",
              "Gender                 2\n",
              "Age                   70\n",
              "Tenure                11\n",
              "Balance             6382\n",
              "NumOfProducts          4\n",
              "HasCrCard              2\n",
              "IsActiveMember         2\n",
              "EstimatedSalary     9999\n",
              "Exited                 2\n",
              "dtype: int64"
            ]
          },
          "metadata": {},
          "execution_count": 10
        }
      ]
    },
    {
      "cell_type": "code",
      "source": [
        "for feature in data.columns:\n",
        "  print(data[feature].value_counts(normalize=True))"
      ],
      "metadata": {
        "execution": {
          "iopub.status.busy": "2021-10-18T02:32:50.123631Z",
          "iopub.execute_input": "2021-10-18T02:32:50.123936Z",
          "iopub.status.idle": "2021-10-18T02:32:50.164892Z",
          "shell.execute_reply.started": "2021-10-18T02:32:50.123906Z",
          "shell.execute_reply": "2021-10-18T02:32:50.163939Z"
        },
        "trusted": true,
        "id": "KMVqwIdUiFDB",
        "outputId": "67972539-089c-463c-b125-3ecff679d5fe",
        "colab": {
          "base_uri": "https://localhost:8080/"
        }
      },
      "execution_count": 11,
      "outputs": [
        {
          "output_type": "stream",
          "name": "stdout",
          "text": [
            "1        0.0001\n",
            "6671     0.0001\n",
            "6664     0.0001\n",
            "6665     0.0001\n",
            "6666     0.0001\n",
            "          ...  \n",
            "3334     0.0001\n",
            "3335     0.0001\n",
            "3336     0.0001\n",
            "3337     0.0001\n",
            "10000    0.0001\n",
            "Name: RowNumber, Length: 10000, dtype: float64\n",
            "15634602    0.0001\n",
            "15667932    0.0001\n",
            "15766185    0.0001\n",
            "15667632    0.0001\n",
            "15599024    0.0001\n",
            "             ...  \n",
            "15599078    0.0001\n",
            "15702300    0.0001\n",
            "15660735    0.0001\n",
            "15671390    0.0001\n",
            "15628319    0.0001\n",
            "Name: CustomerId, Length: 10000, dtype: float64\n",
            "Smith       0.0032\n",
            "Scott       0.0029\n",
            "Martin      0.0029\n",
            "Walker      0.0028\n",
            "Brown       0.0026\n",
            "             ...  \n",
            "Izmailov    0.0001\n",
            "Bold        0.0001\n",
            "Bonham      0.0001\n",
            "Poninski    0.0001\n",
            "Burbidge    0.0001\n",
            "Name: Surname, Length: 2932, dtype: float64\n",
            "850    0.0233\n",
            "678    0.0063\n",
            "655    0.0054\n",
            "705    0.0053\n",
            "667    0.0053\n",
            "        ...  \n",
            "404    0.0001\n",
            "351    0.0001\n",
            "365    0.0001\n",
            "417    0.0001\n",
            "419    0.0001\n",
            "Name: CreditScore, Length: 460, dtype: float64\n",
            "France     0.5014\n",
            "Germany    0.2509\n",
            "Spain      0.2477\n",
            "Name: Geography, dtype: float64\n",
            "Male      0.5457\n",
            "Female    0.4543\n",
            "Name: Gender, dtype: float64\n",
            "37    0.0478\n",
            "38    0.0477\n",
            "35    0.0474\n",
            "36    0.0456\n",
            "34    0.0447\n",
            "       ...  \n",
            "92    0.0002\n",
            "82    0.0001\n",
            "88    0.0001\n",
            "85    0.0001\n",
            "83    0.0001\n",
            "Name: Age, Length: 70, dtype: float64\n",
            "2     0.1048\n",
            "1     0.1035\n",
            "7     0.1028\n",
            "8     0.1025\n",
            "5     0.1012\n",
            "3     0.1009\n",
            "4     0.0989\n",
            "9     0.0984\n",
            "6     0.0967\n",
            "10    0.0490\n",
            "0     0.0413\n",
            "Name: Tenure, dtype: float64\n",
            "0.00         0.3617\n",
            "130170.82    0.0002\n",
            "105473.74    0.0002\n",
            "85304.27     0.0001\n",
            "159397.75    0.0001\n",
            "              ...  \n",
            "81556.89     0.0001\n",
            "112687.69    0.0001\n",
            "108698.96    0.0001\n",
            "238387.56    0.0001\n",
            "130142.79    0.0001\n",
            "Name: Balance, Length: 6382, dtype: float64\n",
            "1    0.5084\n",
            "2    0.4590\n",
            "3    0.0266\n",
            "4    0.0060\n",
            "Name: NumOfProducts, dtype: float64\n",
            "1    0.7055\n",
            "0    0.2945\n",
            "Name: HasCrCard, dtype: float64\n",
            "1    0.5151\n",
            "0    0.4849\n",
            "Name: IsActiveMember, dtype: float64\n",
            "24924.92     0.0002\n",
            "101348.88    0.0001\n",
            "55313.44     0.0001\n",
            "72500.68     0.0001\n",
            "182692.80    0.0001\n",
            "              ...  \n",
            "120893.07    0.0001\n",
            "188377.21    0.0001\n",
            "55902.93     0.0001\n",
            "4523.74      0.0001\n",
            "38190.78     0.0001\n",
            "Name: EstimatedSalary, Length: 9999, dtype: float64\n",
            "0    0.7963\n",
            "1    0.2037\n",
            "Name: Exited, dtype: float64\n"
          ]
        }
      ]
    },
    {
      "cell_type": "code",
      "source": [
        "data.columns"
      ],
      "metadata": {
        "execution": {
          "iopub.status.busy": "2021-10-18T02:33:08.633891Z",
          "iopub.execute_input": "2021-10-18T02:33:08.634433Z",
          "iopub.status.idle": "2021-10-18T02:33:08.641581Z",
          "shell.execute_reply.started": "2021-10-18T02:33:08.634389Z",
          "shell.execute_reply": "2021-10-18T02:33:08.640712Z"
        },
        "trusted": true,
        "id": "YL9hXaIRiFDB",
        "outputId": "535a74de-dba0-425e-9f7a-853559b33618",
        "colab": {
          "base_uri": "https://localhost:8080/"
        }
      },
      "execution_count": 12,
      "outputs": [
        {
          "output_type": "execute_result",
          "data": {
            "text/plain": [
              "Index(['RowNumber', 'CustomerId', 'Surname', 'CreditScore', 'Geography',\n",
              "       'Gender', 'Age', 'Tenure', 'Balance', 'NumOfProducts', 'HasCrCard',\n",
              "       'IsActiveMember', 'EstimatedSalary', 'Exited'],\n",
              "      dtype='object')"
            ]
          },
          "metadata": {},
          "execution_count": 12
        }
      ]
    },
    {
      "cell_type": "code",
      "source": [
        "for feature in ['CreditScore', 'Tenure', 'Age', 'Balance', 'EstimatedSalary']:\n",
        "  plt.figure(figsize=(5, 5))\n",
        "  sns.boxplot(x = feature, data = data)"
      ],
      "metadata": {
        "execution": {
          "iopub.status.busy": "2021-10-18T02:33:19.074769Z",
          "iopub.execute_input": "2021-10-18T02:33:19.075277Z",
          "iopub.status.idle": "2021-10-18T02:33:19.854098Z",
          "shell.execute_reply.started": "2021-10-18T02:33:19.075226Z",
          "shell.execute_reply": "2021-10-18T02:33:19.853151Z"
        },
        "trusted": true,
        "id": "_4bd8-oRiFDB",
        "outputId": "19a1bc85-ed8b-4f83-8578-0451a634dddb",
        "colab": {
          "base_uri": "https://localhost:8080/",
          "height": 1000
        }
      },
      "execution_count": 13,
      "outputs": [
        {
          "output_type": "display_data",
          "data": {
            "text/plain": [
              "<Figure size 360x360 with 1 Axes>"
            ],
            "image/png": "[encoded data removed]"
          },
          "metadata": {
            "needs_background": "light"
          }
        },
        {
          "output_type": "display_data",
          "data": {
            "text/plain": [
              "<Figure size 360x360 with 1 Axes>"
            ],
            "image/png": "[encoded data removed]"
          },
          "metadata": {
            "needs_background": "light"
          }
        },
        {
          "output_type": "display_data",
          "data": {
            "text/plain": [
              "<Figure size 360x360 with 1 Axes>"
            ],
            "image/png": "[encoded data removed]"
          },
          "metadata": {
            "needs_background": "light"
          }
        },
        {
          "output_type": "display_data",
          "data": {
            "text/plain": [
              "<Figure size 360x360 with 1 Axes>"
            ],
            "image/png": "[encoded data removed]"
          },
          "metadata": {
            "needs_background": "light"
          }
        },
        {
          "output_type": "display_data",
          "data": {
            "text/plain": [
              "<Figure size 360x360 with 1 Axes>"
            ],
            "image/png": "[encoded data removed]"
          },
          "metadata": {
            "needs_background": "light"
          }
        }
      ]
    },
    {
      "cell_type": "code",
      "source": [
        "quantile25 = data.CreditScore.quantile(0.25)\n",
        "quantile75 = data.CreditScore.quantile(0.75)\n",
        "\n",
        "iqr = (quantile75 - quantile25)\n",
        "\n",
        "lowWhisker = quantile25 - (1.5 * iqr)\n",
        "upperWhisker = quantile75 + (1.5 * iqr)\n",
        "\n",
        "lowOutliersCount = len(data[data.CreditScore < lowWhisker])\n",
        "upperOutliersCount = len(data[data.CreditScore > upperWhisker])\n",
        "\n",
        "percentageOfOutliers = ((lowOutliersCount + upperOutliersCount) / len(data)) * 100\n",
        "\n",
        "print ( \"Percentage of outliers in CreditScore feature : {0}% \" .format(percentageOfOutliers))"
      ],
      "metadata": {
        "execution": {
          "iopub.status.busy": "2021-10-18T02:34:12.989366Z",
          "iopub.execute_input": "2021-10-18T02:34:12.989713Z",
          "iopub.status.idle": "2021-10-18T02:34:13.003181Z",
          "shell.execute_reply.started": "2021-10-18T02:34:12.989670Z",
          "shell.execute_reply": "2021-10-18T02:34:13.002181Z"
        },
        "trusted": true,
        "id": "ha2DwYZSiFDC",
        "outputId": "6b3a8aaf-fab5-486b-bd90-1aa6bbe9e3f9",
        "colab": {
          "base_uri": "https://localhost:8080/"
        }
      },
      "execution_count": 14,
      "outputs": [
        {
          "output_type": "stream",
          "name": "stdout",
          "text": [
            "Percentage of outliers in CreditScore feature : 0.15% \n"
          ]
        }
      ]
    },
    {
      "cell_type": "code",
      "source": [
        "data.CreditScore.clip(lower = lowWhisker, upper = upperWhisker, inplace=True)"
      ],
      "metadata": {
        "execution": {
          "iopub.status.busy": "2021-10-18T02:34:25.541569Z",
          "iopub.execute_input": "2021-10-18T02:34:25.541897Z",
          "iopub.status.idle": "2021-10-18T02:34:25.549510Z",
          "shell.execute_reply.started": "2021-10-18T02:34:25.541857Z",
          "shell.execute_reply": "2021-10-18T02:34:25.548817Z"
        },
        "trusted": true,
        "id": "nriF6NbIiFDC"
      },
      "execution_count": 15,
      "outputs": []
    },
    {
      "cell_type": "code",
      "source": [
        "data.Age.describe()"
      ],
      "metadata": {
        "execution": {
          "iopub.status.busy": "2021-10-18T02:34:40.236128Z",
          "iopub.execute_input": "2021-10-18T02:34:40.236411Z",
          "iopub.status.idle": "2021-10-18T02:34:40.247122Z",
          "shell.execute_reply.started": "2021-10-18T02:34:40.236381Z",
          "shell.execute_reply": "2021-10-18T02:34:40.246091Z"
        },
        "trusted": true,
        "id": "id2gPmoBiFDD",
        "outputId": "cac8845d-c5f0-4309-d38d-26e6bc5beb29",
        "colab": {
          "base_uri": "https://localhost:8080/"
        }
      },
      "execution_count": 16,
      "outputs": [
        {
          "output_type": "execute_result",
          "data": {
            "text/plain": [
              "count    10000.000000\n",
              "mean        38.921800\n",
              "std         10.487806\n",
              "min         18.000000\n",
              "25%         32.000000\n",
              "50%         37.000000\n",
              "75%         44.000000\n",
              "max         92.000000\n",
              "Name: Age, dtype: float64"
            ]
          },
          "metadata": {},
          "execution_count": 16
        }
      ]
    },
    {
      "cell_type": "code",
      "source": [
        "data['AgeGroup'] = pd.cut(data.Age,bins=[17, 65, 93],labels=['Adult','Elderly'])"
      ],
      "metadata": {
        "execution": {
          "iopub.status.busy": "2021-10-18T02:34:51.349543Z",
          "iopub.execute_input": "2021-10-18T02:34:51.349852Z",
          "iopub.status.idle": "2021-10-18T02:34:51.358427Z",
          "shell.execute_reply.started": "2021-10-18T02:34:51.349804Z",
          "shell.execute_reply": "2021-10-18T02:34:51.357243Z"
        },
        "trusted": true,
        "id": "K2ammIdtiFDD"
      },
      "execution_count": 17,
      "outputs": []
    },
    {
      "cell_type": "code",
      "source": [
        "data.head()"
      ],
      "metadata": {
        "execution": {
          "iopub.status.busy": "2021-10-18T02:34:56.860772Z",
          "iopub.execute_input": "2021-10-18T02:34:56.861054Z",
          "iopub.status.idle": "2021-10-18T02:34:56.880844Z",
          "shell.execute_reply.started": "2021-10-18T02:34:56.861024Z",
          "shell.execute_reply": "2021-10-18T02:34:56.879893Z"
        },
        "trusted": true,
        "id": "993mQLFQiFDD",
        "outputId": "4777f087-89af-4eca-d3a1-f047927f3000",
        "colab": {
          "base_uri": "https://localhost:8080/",
          "height": 270
        }
      },
      "execution_count": 18,
      "outputs": [
        {
          "output_type": "execute_result",
          "data": {
            "text/plain": [
              "   RowNumber  CustomerId   Surname  CreditScore Geography  Gender  Age  \\\n",
              "0          1    15634602  Hargrave        619.0    France  Female   42   \n",
              "1          2    15647311      Hill        608.0     Spain  Female   41   \n",
              "2          3    15619304      Onio        502.0    France  Female   42   \n",
              "3          4    15701354      Boni        699.0    France  Female   39   \n",
              "4          5    15737888  Mitchell        850.0     Spain  Female   43   \n",
              "\n",
              "   Tenure    Balance  NumOfProducts  HasCrCard  IsActiveMember  \\\n",
              "0       2       0.00              1          1               1   \n",
              "1       1   83807.86              1          0               1   \n",
              "2       8  159660.80              3          1               0   \n",
              "3       1       0.00              2          0               0   \n",
              "4       2  125510.82              1          1               1   \n",
              "\n",
              "   EstimatedSalary  Exited AgeGroup  \n",
              "0        101348.88       1    Adult  \n",
              "1        112542.58       0    Adult  \n",
              "2        113931.57       1    Adult  \n",
              "3         93826.63       0    Adult  \n",
              "4         79084.10       0    Adult  "
            ],
            "text/html": [
              "\n",
              "  <div id=\"df-570c14f0-360a-423c-8e4d-81b747fa427b\">\n",
              "    <div class=\"colab-df-container\">\n",
              "      <div>\n",
              "<style scoped>\n",
              "    .dataframe tbody tr th:only-of-type {\n",
              "        vertical-align: middle;\n",
              "    }\n",
              "\n",
              "    .dataframe tbody tr th {\n",
              "        vertical-align: top;\n",
              "    }\n",
              "\n",
              "    .dataframe thead th {\n",
              "        text-align: right;\n",
              "    }\n",
              "</style>\n",
              "<table border=\"1\" class=\"dataframe\">\n",
              "  <thead>\n",
              "    <tr style=\"text-align: right;\">\n",
              "      <th></th>\n",
              "      <th>RowNumber</th>\n",
              "      <th>CustomerId</th>\n",
              "      <th>Surname</th>\n",
              "      <th>CreditScore</th>\n",
              "      <th>Geography</th>\n",
              "      <th>Gender</th>\n",
              "      <th>Age</th>\n",
              "      <th>Tenure</th>\n",
              "      <th>Balance</th>\n",
              "      <th>NumOfProducts</th>\n",
              "      <th>HasCrCard</th>\n",
              "      <th>IsActiveMember</th>\n",
              "      <th>EstimatedSalary</th>\n",
              "      <th>Exited</th>\n",
              "      <th>AgeGroup</th>\n",
              "    </tr>\n",
              "  </thead>\n",
              "  <tbody>\n",
              "    <tr>\n",
              "      <th>0</th>\n",
              "      <td>1</td>\n",
              "      <td>15634602</td>\n",
              "      <td>Hargrave</td>\n",
              "      <td>619.0</td>\n",
              "      <td>France</td>\n",
              "      <td>Female</td>\n",
              "      <td>42</td>\n",
              "      <td>2</td>\n",
              "      <td>0.00</td>\n",
              "      <td>1</td>\n",
              "      <td>1</td>\n",
              "      <td>1</td>\n",
              "      <td>101348.88</td>\n",
              "      <td>1</td>\n",
              "      <td>Adult</td>\n",
              "    </tr>\n",
              "    <tr>\n",
              "      <th>1</th>\n",
              "      <td>2</td>\n",
              "      <td>15647311</td>\n",
              "      <td>Hill</td>\n",
              "      <td>608.0</td>\n",
              "      <td>Spain</td>\n",
              "      <td>Female</td>\n",
              "      <td>41</td>\n",
              "      <td>1</td>\n",
              "      <td>83807.86</td>\n",
              "      <td>1</td>\n",
              "      <td>0</td>\n",
              "      <td>1</td>\n",
              "      <td>112542.58</td>\n",
              "      <td>0</td>\n",
              "      <td>Adult</td>\n",
              "    </tr>\n",
              "    <tr>\n",
              "      <th>2</th>\n",
              "      <td>3</td>\n",
              "      <td>15619304</td>\n",
              "      <td>Onio</td>\n",
              "      <td>502.0</td>\n",
              "      <td>France</td>\n",
              "      <td>Female</td>\n",
              "      <td>42</td>\n",
              "      <td>8</td>\n",
              "      <td>159660.80</td>\n",
              "      <td>3</td>\n",
              "      <td>1</td>\n",
              "      <td>0</td>\n",
              "      <td>113931.57</td>\n",
              "      <td>1</td>\n",
              "      <td>Adult</td>\n",
              "    </tr>\n",
              "    <tr>\n",
              "      <th>3</th>\n",
              "      <td>4</td>\n",
              "      <td>15701354</td>\n",
              "      <td>Boni</td>\n",
              "      <td>699.0</td>\n",
              "      <td>France</td>\n",
              "      <td>Female</td>\n",
              "      <td>39</td>\n",
              "      <td>1</td>\n",
              "      <td>0.00</td>\n",
              "      <td>2</td>\n",
              "      <td>0</td>\n",
              "      <td>0</td>\n",
              "      <td>93826.63</td>\n",
              "      <td>0</td>\n",
              "      <td>Adult</td>\n",
              "    </tr>\n",
              "    <tr>\n",
              "      <th>4</th>\n",
              "      <td>5</td>\n",
              "      <td>15737888</td>\n",
              "      <td>Mitchell</td>\n",
              "      <td>850.0</td>\n",
              "      <td>Spain</td>\n",
              "      <td>Female</td>\n",
              "      <td>43</td>\n",
              "      <td>2</td>\n",
              "      <td>125510.82</td>\n",
              "      <td>1</td>\n",
              "      <td>1</td>\n",
              "      <td>1</td>\n",
              "      <td>79084.10</td>\n",
              "      <td>0</td>\n",
              "      <td>Adult</td>\n",
              "    </tr>\n",
              "  </tbody>\n",
              "</table>\n",
              "</div>\n",
              "      <button class=\"colab-df-convert\" onclick=\"convertToInteractive('df-570c14f0-360a-423c-8e4d-81b747fa427b')\"\n",
              "              title=\"Convert this dataframe to an interactive table.\"\n",
              "              style=\"display:none;\">\n",
              "        \n",
              "  <svg xmlns=\"http://www.w3.org/2000/svg\" height=\"24px\"viewBox=\"0 0 24 24\"\n",
              "       width=\"24px\">\n",
              "    <path d=\"M0 0h24v24H0V0z\" fill=\"none\"/>\n",
              "    <path d=\"M18.56 5.44l.94 2.06.94-2.06 2.06-.94-2.06-.94-.94-2.06-.94 2.06-2.06.94zm-11 1L8.5 8.5l.94-2.06 2.06-.94-2.06-.94L8.5 2.5l-.94 2.06-2.06.94zm10 10l.94 2.06.94-2.06 2.06-.94-2.06-.94-.94-2.06-.94 2.06-2.06.94z\"/><path d=\"M17.41 7.96l-1.37-1.37c-.4-.4-.92-.59-1.43-.59-.52 0-1.04.2-1.43.59L10.3 9.45l-7.72 7.72c-.78.78-.78 2.05 0 2.83L4 21.41c.39.39.9.59 1.41.59.51 0 1.02-.2 1.41-.59l7.78-7.78 2.81-2.81c.8-.78.8-2.07 0-2.86zM5.41 20L4 18.59l7.72-7.72 1.47 1.35L5.41 20z\"/>\n",
              "  </svg>\n",
              "      </button>\n",
              "      \n",
              "  <style>\n",
              "    .colab-df-container {\n",
              "      display:flex;\n",
              "      flex-wrap:wrap;\n",
              "      gap: 12px;\n",
              "    }\n",
              "\n",
              "    .colab-df-convert {\n",
              "      background-color: #E8F0FE;\n",
              "      border: none;\n",
              "      border-radius: 50%;\n",
              "      cursor: pointer;\n",
              "      display: none;\n",
              "      fill: #1967D2;\n",
              "      height: 32px;\n",
              "      padding: 0 0 0 0;\n",
              "      width: 32px;\n",
              "    }\n",
              "\n",
              "    .colab-df-convert:hover {\n",
              "      background-color: #E2EBFA;\n",
              "      box-shadow: 0px 1px 2px rgba(60, 64, 67, 0.3), 0px 1px 3px 1px rgba(60, 64, 67, 0.15);\n",
              "      fill: #174EA6;\n",
              "    }\n",
              "\n",
              "    [theme=dark] .colab-df-convert {\n",
              "      background-color: #3B4455;\n",
              "      fill: #D2E3FC;\n",
              "    }\n",
              "\n",
              "    [theme=dark] .colab-df-convert:hover {\n",
              "      background-color: #434B5C;\n",
              "      box-shadow: 0px 1px 3px 1px rgba(0, 0, 0, 0.15);\n",
              "      filter: drop-shadow(0px 1px 2px rgba(0, 0, 0, 0.3));\n",
              "      fill: #FFFFFF;\n",
              "    }\n",
              "  </style>\n",
              "\n",
              "      <script>\n",
              "        const buttonEl =\n",
              "          document.querySelector('#df-570c14f0-360a-423c-8e4d-81b747fa427b button.colab-df-convert');\n",
              "        buttonEl.style.display =\n",
              "          google.colab.kernel.accessAllowed ? 'block' : 'none';\n",
              "\n",
              "        async function convertToInteractive(key) {\n",
              "          const element = document.querySelector('#df-570c14f0-360a-423c-8e4d-81b747fa427b');\n",
              "          const dataTable =\n",
              "            await google.colab.kernel.invokeFunction('convertToInteractive',\n",
              "                                                     [key], {});\n",
              "          if (!dataTable) return;\n",
              "\n",
              "          const docLinkHtml = 'Like what you see? Visit the ' +\n",
              "            '<a target=\"_blank\" href=https://colab.research.google.com/notebooks/data_table.ipynb>data table notebook</a>'\n",
              "            + ' to learn more about interactive tables.';\n",
              "          element.innerHTML = '';\n",
              "          dataTable['output_type'] = 'display_data';\n",
              "          await google.colab.output.renderOutput(dataTable, element);\n",
              "          const docLink = document.createElement('div');\n",
              "          docLink.innerHTML = docLinkHtml;\n",
              "          element.appendChild(docLink);\n",
              "        }\n",
              "      </script>\n",
              "    </div>\n",
              "  </div>\n",
              "  "
            ]
          },
          "metadata": {},
          "execution_count": 18
        }
      ]
    },
    {
      "cell_type": "code",
      "source": [
        "sns.countplot(x = 'AgeGroup', data = data[data.Exited == 1])"
      ],
      "metadata": {
        "execution": {
          "iopub.status.busy": "2021-10-18T02:35:03.912198Z",
          "iopub.execute_input": "2021-10-18T02:35:03.912630Z",
          "iopub.status.idle": "2021-10-18T02:35:04.069293Z",
          "shell.execute_reply.started": "2021-10-18T02:35:03.912575Z",
          "shell.execute_reply": "2021-10-18T02:35:04.068567Z"
        },
        "trusted": true,
        "id": "Gf8m6HgjiFDE",
        "outputId": "d048d1ef-a142-445a-f610-bc80e0834b3e",
        "colab": {
          "base_uri": "https://localhost:8080/",
          "height": 297
        }
      },
      "execution_count": 19,
      "outputs": [
        {
          "output_type": "execute_result",
          "data": {
            "text/plain": [
              "<matplotlib.axes._subplots.AxesSubplot at 0x7f628f23ac90>"
            ]
          },
          "metadata": {},
          "execution_count": 19
        },
        {
          "output_type": "display_data",
          "data": {
            "text/plain": [
              "<Figure size 432x288 with 1 Axes>"
            ],
            "image/png": "[encoded data removed]"
          },
          "metadata": {
            "needs_background": "light"
          }
        }
      ]
    },
    {
      "cell_type": "code",
      "source": [
        "data.CreditScore.describe()"
      ],
      "metadata": {
        "execution": {
          "iopub.status.busy": "2021-10-18T02:35:14.639683Z",
          "iopub.execute_input": "2021-10-18T02:35:14.639989Z",
          "iopub.status.idle": "2021-10-18T02:35:14.650138Z",
          "shell.execute_reply.started": "2021-10-18T02:35:14.639958Z",
          "shell.execute_reply": "2021-10-18T02:35:14.649308Z"
        },
        "trusted": true,
        "id": "Lihx7mKSiFDE",
        "outputId": "957a84ec-dbb9-46b4-a09d-851455ac73ae",
        "colab": {
          "base_uri": "https://localhost:8080/"
        }
      },
      "execution_count": 20,
      "outputs": [
        {
          "output_type": "execute_result",
          "data": {
            "text/plain": [
              "count    10000.000000\n",
              "mean       650.561300\n",
              "std         96.558702\n",
              "min        383.000000\n",
              "25%        584.000000\n",
              "50%        652.000000\n",
              "75%        718.000000\n",
              "max        850.000000\n",
              "Name: CreditScore, dtype: float64"
            ]
          },
          "metadata": {},
          "execution_count": 20
        }
      ]
    },
    {
      "cell_type": "code",
      "source": [
        "data['CreditScoreGroup'] = pd.cut(data.CreditScore,bins=[300, 579, 669, 739, 799, 900],labels=[0, 1, 2, 3, 4])\n",
        "data['CreditScoreGroup'] = data.CreditScoreGroup.astype(int)\n",
        "sns.countplot(x = 'CreditScoreGroup', data = data[data.Exited == 1])"
      ],
      "metadata": {
        "execution": {
          "iopub.status.busy": "2021-10-18T02:35:29.558953Z",
          "iopub.execute_input": "2021-10-18T02:35:29.559262Z",
          "iopub.status.idle": "2021-10-18T02:35:29.739176Z",
          "shell.execute_reply.started": "2021-10-18T02:35:29.559227Z",
          "shell.execute_reply": "2021-10-18T02:35:29.738205Z"
        },
        "trusted": true,
        "id": "-xSoSVOtiFDE",
        "outputId": "04961640-c9e0-4ef4-8c1b-57e5f2b7185f",
        "colab": {
          "base_uri": "https://localhost:8080/",
          "height": 297
        }
      },
      "execution_count": 21,
      "outputs": [
        {
          "output_type": "execute_result",
          "data": {
            "text/plain": [
              "<matplotlib.axes._subplots.AxesSubplot at 0x7f628ecfd2d0>"
            ]
          },
          "metadata": {},
          "execution_count": 21
        },
        {
          "output_type": "display_data",
          "data": {
            "text/plain": [
              "<Figure size 432x288 with 1 Axes>"
            ],
            "image/png": "[encoded data removed]"
          },
          "metadata": {
            "needs_background": "light"
          }
        }
      ]
    },
    {
      "cell_type": "code",
      "source": [
        "plt.figure(figsize=(10, 10))\n",
        "sns.countplot( x = 'CreditScoreGroup', data = data[data.Exited == 1], hue = 'AgeGroup')"
      ],
      "metadata": {
        "execution": {
          "iopub.status.busy": "2021-10-18T02:35:41.676715Z",
          "iopub.execute_input": "2021-10-18T02:35:41.677038Z",
          "iopub.status.idle": "2021-10-18T02:35:41.917343Z",
          "shell.execute_reply.started": "2021-10-18T02:35:41.677005Z",
          "shell.execute_reply": "2021-10-18T02:35:41.916263Z"
        },
        "trusted": true,
        "id": "ZtTTbZbiiFDE",
        "outputId": "097494b8-1bdc-4b75-84b1-f7c9a3a9d7ed",
        "colab": {
          "base_uri": "https://localhost:8080/",
          "height": 623
        }
      },
      "execution_count": 22,
      "outputs": [
        {
          "output_type": "execute_result",
          "data": {
            "text/plain": [
              "<matplotlib.axes._subplots.AxesSubplot at 0x7f628ed6da50>"
            ]
          },
          "metadata": {},
          "execution_count": 22
        },
        {
          "output_type": "display_data",
          "data": {
            "text/plain": [
              "<Figure size 720x720 with 1 Axes>"
            ],
            "image/png": "[encoded data removed]"
          },
          "metadata": {
            "needs_background": "light"
          }
        }
      ]
    },
    {
      "cell_type": "code",
      "source": [
        "plt.figure(figsize=(10, 10))\n",
        "sns.countplot( x = 'CreditScoreGroup', data = data[data.Exited == 1], hue = 'AgeGroup')"
      ],
      "metadata": {
        "execution": {
          "iopub.status.busy": "2021-10-18T02:36:02.861182Z",
          "iopub.execute_input": "2021-10-18T02:36:02.862274Z",
          "iopub.status.idle": "2021-10-18T02:36:03.100165Z",
          "shell.execute_reply.started": "2021-10-18T02:36:02.862232Z",
          "shell.execute_reply": "2021-10-18T02:36:03.099181Z"
        },
        "trusted": true,
        "id": "XRxM9KxviFDF",
        "outputId": "c86259c7-c0bd-4d1e-fc3f-d08285279fa5",
        "colab": {
          "base_uri": "https://localhost:8080/",
          "height": 623
        }
      },
      "execution_count": 23,
      "outputs": [
        {
          "output_type": "execute_result",
          "data": {
            "text/plain": [
              "<matplotlib.axes._subplots.AxesSubplot at 0x7f628ece6b90>"
            ]
          },
          "metadata": {},
          "execution_count": 23
        },
        {
          "output_type": "display_data",
          "data": {
            "text/plain": [
              "<Figure size 720x720 with 1 Axes>"
            ],
            "image/png": "[encoded data removed]"
          },
          "metadata": {
            "needs_background": "light"
          }
        }
      ]
    },
    {
      "cell_type": "code",
      "source": [
        "for feature in ['CreditScore', 'Tenure', 'Age', 'Balance', 'EstimatedSalary']:\n",
        "  plt.figure(figsize=(5, 5))\n",
        "  sns.boxplot(x = 'Exited', y = feature, data = data)\n",
        "\n",
        "  quantile25 = data[data.Exited == 1][feature].quantile(0.25)\n",
        "  quantile75 = data[data.Exited == 1][feature].quantile(0.75)\n",
        "  print (\"50% of observation lies in feature {0} between {1} and {2} based on 25th and 75th percentile when Exited value is 1\" .format(feature, quantile25, quantile75)) \n",
        "  \n",
        "  quantile25 = data[data.Exited == 0][feature].quantile(0.25)\n",
        "  quantile75 = data[data.Exited == 0][feature].quantile(0.75)\n",
        "  print (\"50% of observation lies in feature {0} between {1} and {2} based on 25th and 75th percentile when Exited value is 0\" .format(feature, quantile25, quantile75)) "
      ],
      "metadata": {
        "execution": {
          "iopub.status.busy": "2021-10-18T02:36:25.444215Z",
          "iopub.execute_input": "2021-10-18T02:36:25.444481Z",
          "iopub.status.idle": "2021-10-18T02:36:26.426825Z",
          "shell.execute_reply.started": "2021-10-18T02:36:25.444453Z",
          "shell.execute_reply": "2021-10-18T02:36:26.425981Z"
        },
        "trusted": true,
        "id": "QB1Fj5hTiFDF",
        "outputId": "c2102a9f-5b8f-4561-890f-5d5f57734ada",
        "colab": {
          "base_uri": "https://localhost:8080/",
          "height": 1000
        }
      },
      "execution_count": 24,
      "outputs": [
        {
          "output_type": "stream",
          "name": "stdout",
          "text": [
            "50% of observation lies in feature CreditScore between 578.0 and 716.0 based on 25th and 75th percentile when Exited value is 1\n",
            "50% of observation lies in feature CreditScore between 585.0 and 718.0 based on 25th and 75th percentile when Exited value is 0\n",
            "50% of observation lies in feature Tenure between 2.0 and 8.0 based on 25th and 75th percentile when Exited value is 1\n",
            "50% of observation lies in feature Tenure between 3.0 and 7.0 based on 25th and 75th percentile when Exited value is 0\n",
            "50% of observation lies in feature Age between 38.0 and 51.0 based on 25th and 75th percentile when Exited value is 1\n",
            "50% of observation lies in feature Age between 31.0 and 41.0 based on 25th and 75th percentile when Exited value is 0\n",
            "50% of observation lies in feature Balance between 38340.02 and 131433.33 based on 25th and 75th percentile when Exited value is 1\n",
            "50% of observation lies in feature Balance between 0.0 and 126410.28 based on 25th and 75th percentile when Exited value is 0\n",
            "50% of observation lies in feature EstimatedSalary between 51907.72 and 152422.91 based on 25th and 75th percentile when Exited value is 1\n",
            "50% of observation lies in feature EstimatedSalary between 50783.49 and 148609.95500000002 based on 25th and 75th percentile when Exited value is 0\n"
          ]
        },
        {
          "output_type": "display_data",
          "data": {
            "text/plain": [
              "<Figure size 360x360 with 1 Axes>"
            ],
            "image/png": "[encoded data removed]"
          },
          "metadata": {
            "needs_background": "light"
          }
        },
        {
          "output_type": "display_data",
          "data": {
            "text/plain": [
              "<Figure size 360x360 with 1 Axes>"
            ],
            "image/png": "[encoded data removed]"
          },
          "metadata": {
            "needs_background": "light"
          }
        },
        {
          "output_type": "display_data",
          "data": {
            "text/plain": [
              "<Figure size 360x360 with 1 Axes>"
            ],
            "image/png": "[encoded data removed]"
          },
          "metadata": {
            "needs_background": "light"
          }
        },
        {
          "output_type": "display_data",
          "data": {
            "text/plain": [
              "<Figure size 360x360 with 1 Axes>"
            ],
            "image/png": "[encoded data removed]"
          },
          "metadata": {
            "needs_background": "light"
          }
        },
        {
          "output_type": "display_data",
          "data": {
            "text/plain": [
              "<Figure size 360x360 with 1 Axes>"
            ],
            "image/png": "[encoded data removed]"
          },
          "metadata": {
            "needs_background": "light"
          }
        }
      ]
    },
    {
      "cell_type": "code",
      "source": [
        "for feature in ['Geography', 'Gender', 'NumOfProducts', 'HasCrCard', \n",
        "                'IsActiveMember', 'AgeGroup', 'CreditScoreGroup']:\n",
        "  plt.figure(figsize=(5, 5))\n",
        "  sns.countplot(x = feature, data = data, hue = 'Exited')\n",
        "\n",
        "  # Percentage of observation by Geography for each Exited Category ( 0 and 1)\n",
        "  print(\"================================================================\")  \n",
        "  print(\"(Exited == 0) =======>>>>\\n{0}\"  .format(data[data.Exited == 0][feature].value_counts(normalize = True)))\n",
        "  print(\"(Exited == 1) =======>>>>\\n{0}\"  .format(data[data.Exited == 1][feature].value_counts(normalize = True)))"
      ],
      "metadata": {
        "execution": {
          "iopub.status.busy": "2021-10-18T02:37:14.059146Z",
          "iopub.execute_input": "2021-10-18T02:37:14.059905Z",
          "iopub.status.idle": "2021-10-18T02:37:15.801528Z",
          "shell.execute_reply.started": "2021-10-18T02:37:14.059868Z",
          "shell.execute_reply": "2021-10-18T02:37:15.800639Z"
        },
        "trusted": true,
        "id": "U-MMoko4iFDF",
        "outputId": "62195ae9-83ea-4fd7-a252-89848517dba0",
        "colab": {
          "base_uri": "https://localhost:8080/",
          "height": 1000
        }
      },
      "execution_count": 25,
      "outputs": [
        {
          "output_type": "stream",
          "name": "stdout",
          "text": [
            "================================================================\n",
            "(Exited == 0) =======>>>>\n",
            "France     0.527942\n",
            "Spain      0.259199\n",
            "Germany    0.212859\n",
            "Name: Geography, dtype: float64\n",
            "(Exited == 1) =======>>>>\n",
            "Germany    0.399607\n",
            "France     0.397644\n",
            "Spain      0.202749\n",
            "Name: Geography, dtype: float64\n",
            "================================================================\n",
            "(Exited == 0) =======>>>>\n",
            "Male      0.572523\n",
            "Female    0.427477\n",
            "Name: Gender, dtype: float64\n",
            "(Exited == 1) =======>>>>\n",
            "Female    0.559156\n",
            "Male      0.440844\n",
            "Name: Gender, dtype: float64\n",
            "================================================================\n",
            "(Exited == 0) =======>>>>\n",
            "2    0.532714\n",
            "1    0.461509\n",
            "3    0.005777\n",
            "Name: NumOfProducts, dtype: float64\n",
            "(Exited == 1) =======>>>>\n",
            "1    0.691703\n",
            "2    0.170839\n",
            "3    0.108002\n",
            "4    0.029455\n",
            "Name: NumOfProducts, dtype: float64\n",
            "================================================================\n",
            "(Exited == 0) =======>>>>\n",
            "1    0.707146\n",
            "0    0.292854\n",
            "Name: HasCrCard, dtype: float64\n",
            "(Exited == 1) =======>>>>\n",
            "1    0.699067\n",
            "0    0.300933\n",
            "Name: HasCrCard, dtype: float64\n",
            "================================================================\n",
            "(Exited == 0) =======>>>>\n",
            "1    0.554565\n",
            "0    0.445435\n",
            "Name: IsActiveMember, dtype: float64\n",
            "(Exited == 1) =======>>>>\n",
            "0    0.639175\n",
            "1    0.360825\n",
            "Name: IsActiveMember, dtype: float64\n",
            "================================================================\n",
            "(Exited == 0) =======>>>>\n",
            "Adult      0.971242\n",
            "Elderly    0.028758\n",
            "Name: AgeGroup, dtype: float64\n",
            "(Exited == 1) =======>>>>\n",
            "Adult      0.982818\n",
            "Elderly    0.017182\n",
            "Name: AgeGroup, dtype: float64\n",
            "================================================================\n",
            "(Exited == 0) =======>>>>\n",
            "1    0.332287\n",
            "2    0.248148\n",
            "0    0.231320\n",
            "3    0.122065\n",
            "4    0.066181\n",
            "Name: CreditScoreGroup, dtype: float64\n",
            "(Exited == 1) =======>>>>\n",
            "1    0.336279\n",
            "0    0.255277\n",
            "2    0.221895\n",
            "3    0.123711\n",
            "4    0.062838\n",
            "Name: CreditScoreGroup, dtype: float64\n"
          ]
        },
        {
          "output_type": "display_data",
          "data": {
            "text/plain": [
              "<Figure size 360x360 with 1 Axes>"
            ],
            "image/png": "[encoded data removed]"
          },
          "metadata": {
            "needs_background": "light"
          }
        },
        {
          "output_type": "display_data",
          "data": {
            "text/plain": [
              "<Figure size 360x360 with 1 Axes>"
            ],
            "image/png": "[encoded data removed]"
          },
          "metadata": {
            "needs_background": "light"
          }
        },
        {
          "output_type": "display_data",
          "data": {
            "text/plain": [
              "<Figure size 360x360 with 1 Axes>"
            ],
            "image/png": "[encoded data removed]"
          },
          "metadata": {
            "needs_background": "light"
          }
        },
        {
          "output_type": "display_data",
          "data": {
            "text/plain": [
              "<Figure size 360x360 with 1 Axes>"
            ],
            "image/png": "[encoded data removed]"
          },
          "metadata": {
            "needs_background": "light"
          }
        },
        {
          "output_type": "display_data",
          "data": {
            "text/plain": [
              "<Figure size 360x360 with 1 Axes>"
            ],
            "image/png": "[encoded data removed]"
          },
          "metadata": {
            "needs_background": "light"
          }
        },
        {
          "output_type": "display_data",
          "data": {
            "text/plain": [
              "<Figure size 360x360 with 1 Axes>"
            ],
            "image/png": "[encoded data removed]"
          },
          "metadata": {
            "needs_background": "light"
          }
        },
        {
          "output_type": "display_data",
          "data": {
            "text/plain": [
              "<Figure size 360x360 with 1 Axes>"
            ],
            "image/png": "[encoded data removed]"
          },
          "metadata": {
            "needs_background": "light"
          }
        }
      ]
    }
  ]
}