{
 "cells":[
  {
   "cell_type":"code",
   "source":[
    "import seaborn as sns\n",
    "import matplotlib.pyplot as plt\n",
    "import warnings\n",
    "import pandas as pd \n",
    "import numpy as np\n",
    "warnings.filterwarnings('ignore')"
   ],
   "execution_count":3,
   "outputs":[
    
   ],
   "metadata":{
    "datalore":{
     "type":"CODE",
     "hide_input_from_viewers":false,
     "hide_output_from_viewers":false
    }
   }
  },
  {
   "cell_type":"code",
   "source":[
    "df_twlo = pd.read_csv(\"https:\/\/raw.githubusercontent.com\/benvictoria17\/Finance\/master\/dataset\/Twilio%20stock%20price%20(TWLO%202016-2021)\/TWLO_stock.csv\")"
   ],
   "execution_count":4,
   "outputs":[
    
   ],
   "metadata":{
    "datalore":{
     "type":"CODE",
     "hide_input_from_viewers":false,
     "hide_output_from_viewers":false
    }
   }
  },
  {
   "cell_type":"code",
   "source":[
    "df_twlo.head()"
   ],
   "execution_count":5,
   "outputs":[
    {
     "data":{
      "text\/html":[
       "<div>\n",
       "<style scoped>\n",
       "    .dataframe tbody tr th:only-of-type {\n",
       "        vertical-align: middle;\n",
       "    }\n",
       "\n",
       "    .dataframe tbody tr th {\n",
       "        vertical-align: top;\n",
       "    }\n",
       "\n",
       "    .dataframe thead th {\n",
       "        text-align: right;\n",
       "    }\n",
       "<\/style>\n",
       "<table border=\"1\" class=\"dataframe\">\n",
       "  <thead>\n",
       "    <tr style=\"text-align: right;\">\n",
       "      <th><\/th>\n",
       "      <th>date<\/th>\n",
       "      <th>1. open<\/th>\n",
       "      <th>2. high<\/th>\n",
       "      <th>3. low<\/th>\n",
       "      <th>4. close<\/th>\n",
       "      <th>5. volume<\/th>\n",
       "    <\/tr>\n",
       "  <\/thead>\n",
       "  <tbody>\n",
       "    <tr>\n",
       "      <th>0<\/th>\n",
       "      <td>2021-06-10<\/td>\n",
       "      <td>314.00<\/td>\n",
       "      <td>324.95<\/td>\n",
       "      <td>312.7527<\/td>\n",
       "      <td>324.10<\/td>\n",
       "      <td>1388017.0<\/td>\n",
       "    <\/tr>\n",
       "    <tr>\n",
       "      <th>1<\/th>\n",
       "      <td>2021-06-09<\/td>\n",
       "      <td>318.90<\/td>\n",
       "      <td>326.74<\/td>\n",
       "      <td>314.2800<\/td>\n",
       "      <td>314.61<\/td>\n",
       "      <td>1573897.0<\/td>\n",
       "    <\/tr>\n",
       "    <tr>\n",
       "      <th>2<\/th>\n",
       "      <td>2021-06-08<\/td>\n",
       "      <td>316.38<\/td>\n",
       "      <td>323.81<\/td>\n",
       "      <td>312.5000<\/td>\n",
       "      <td>317.20<\/td>\n",
       "      <td>1424033.0<\/td>\n",
       "    <\/tr>\n",
       "    <tr>\n",
       "      <th>3<\/th>\n",
       "      <td>2021-06-07<\/td>\n",
       "      <td>308.84<\/td>\n",
       "      <td>315.78<\/td>\n",
       "      <td>304.5000<\/td>\n",
       "      <td>314.52<\/td>\n",
       "      <td>1719334.0<\/td>\n",
       "    <\/tr>\n",
       "    <tr>\n",
       "      <th>4<\/th>\n",
       "      <td>2021-06-04<\/td>\n",
       "      <td>313.70<\/td>\n",
       "      <td>319.00<\/td>\n",
       "      <td>309.0100<\/td>\n",
       "      <td>309.91<\/td>\n",
       "      <td>1833589.0<\/td>\n",
       "    <\/tr>\n",
       "  <\/tbody>\n",
       "<\/table>\n",
       "<\/div>"
      ]
     },
     "metadata":{
      
     },
     "output_type":"display_data"
    }
   ],
   "metadata":{
    "datalore":{
     "type":"CODE",
     "hide_input_from_viewers":false,
     "hide_output_from_viewers":false
    }
   }
  },
  {
   "cell_type":"code",
   "source":[
    "df_twlo.columns"
   ],
   "execution_count":6,
   "outputs":[
    {
     "data":{
      "text\/plain":[
       "Index(['date', '1. open', '2. high', '3. low', '4. close', '5. volume'], dtype='object')"
      ]
     },
     "metadata":{
      
     },
     "output_type":"display_data"
    }
   ],
   "metadata":{
    "datalore":{
     "type":"CODE",
     "hide_input_from_viewers":false,
     "hide_output_from_viewers":false
    }
   }
  },
  {
   "cell_type":"code",
   "source":[
    "df_twlo_renamed = df_twlo.rename(columns = {'1. open':'open', '2. high':'high', '3. low':'low','4. close':'close','5. volume':'volume'}, inplace = False)"
   ],
   "execution_count":7,
   "outputs":[
    
   ],
   "metadata":{
    "datalore":{
     "type":"CODE",
     "hide_input_from_viewers":false,
     "hide_output_from_viewers":false
    }
   }
  },
  {
   "cell_type":"code",
   "source":[
    "df_twlo_renamed.head()"
   ],
   "execution_count":8,
   "outputs":[
    {
     "data":{
      "text\/html":[
       "<div>\n",
       "<style scoped>\n",
       "    .dataframe tbody tr th:only-of-type {\n",
       "        vertical-align: middle;\n",
       "    }\n",
       "\n",
       "    .dataframe tbody tr th {\n",
       "        vertical-align: top;\n",
       "    }\n",
       "\n",
       "    .dataframe thead th {\n",
       "        text-align: right;\n",
       "    }\n",
       "<\/style>\n",
       "<table border=\"1\" class=\"dataframe\">\n",
       "  <thead>\n",
       "    <tr style=\"text-align: right;\">\n",
       "      <th><\/th>\n",
       "      <th>date<\/th>\n",
       "      <th>open<\/th>\n",
       "      <th>high<\/th>\n",
       "      <th>low<\/th>\n",
       "      <th>close<\/th>\n",
       "      <th>volume<\/th>\n",
       "    <\/tr>\n",
       "  <\/thead>\n",
       "  <tbody>\n",
       "    <tr>\n",
       "      <th>0<\/th>\n",
       "      <td>2021-06-10<\/td>\n",
       "      <td>314.00<\/td>\n",
       "      <td>324.95<\/td>\n",
       "      <td>312.7527<\/td>\n",
       "      <td>324.10<\/td>\n",
       "      <td>1388017.0<\/td>\n",
       "    <\/tr>\n",
       "    <tr>\n",
       "      <th>1<\/th>\n",
       "      <td>2021-06-09<\/td>\n",
       "      <td>318.90<\/td>\n",
       "      <td>326.74<\/td>\n",
       "      <td>314.2800<\/td>\n",
       "      <td>314.61<\/td>\n",
       "      <td>1573897.0<\/td>\n",
       "    <\/tr>\n",
       "    <tr>\n",
       "      <th>2<\/th>\n",
       "      <td>2021-06-08<\/td>\n",
       "      <td>316.38<\/td>\n",
       "      <td>323.81<\/td>\n",
       "      <td>312.5000<\/td>\n",
       "      <td>317.20<\/td>\n",
       "      <td>1424033.0<\/td>\n",
       "    <\/tr>\n",
       "    <tr>\n",
       "      <th>3<\/th>\n",
       "      <td>2021-06-07<\/td>\n",
       "      <td>308.84<\/td>\n",
       "      <td>315.78<\/td>\n",
       "      <td>304.5000<\/td>\n",
       "      <td>314.52<\/td>\n",
       "      <td>1719334.0<\/td>\n",
       "    <\/tr>\n",
       "    <tr>\n",
       "      <th>4<\/th>\n",
       "      <td>2021-06-04<\/td>\n",
       "      <td>313.70<\/td>\n",
       "      <td>319.00<\/td>\n",
       "      <td>309.0100<\/td>\n",
       "      <td>309.91<\/td>\n",
       "      <td>1833589.0<\/td>\n",
       "    <\/tr>\n",
       "  <\/tbody>\n",
       "<\/table>\n",
       "<\/div>"
      ]
     },
     "metadata":{
      
     },
     "output_type":"display_data"
    }
   ],
   "metadata":{
    "datalore":{
     "type":"CODE",
     "hide_input_from_viewers":false,
     "hide_output_from_viewers":false
    }
   }
  },
  {
   "cell_type":"code",
   "source":[
    "df_twlo_renamed.dtypes"
   ],
   "execution_count":9,
   "outputs":[
    {
     "data":{
      "text\/html":[
       
      ]
     },
     "metadata":{
      
     },
     "output_type":"display_data"
    }
   ],
   "metadata":{
    "datalore":{
     "type":"CODE",
     "hide_input_from_viewers":false,
     "hide_output_from_viewers":false
    }
   }
  },
  {
   "cell_type":"code",
   "source":[
    "df_twlo.shape"
   ],
   "execution_count":10,
   "outputs":[
    {
     "data":{
      "text\/plain":[
       "(1250, 6)"
      ]
     },
     "metadata":{
      
     },
     "output_type":"display_data"
    }
   ],
   "metadata":{
    "datalore":{
     "type":"CODE",
     "hide_input_from_viewers":false,
     "hide_output_from_viewers":false
    }
   }
  },
  {
   "cell_type":"code",
   "source":[
    "df_twlo_renamed.isnull().sum()\/df_twlo_renamed.shape[0]*100"
   ],
   "execution_count":11,
   "outputs":[
    {
     "data":{
      "text\/html":[
       
      ]
     },
     "metadata":{
      
     },
     "output_type":"display_data"
    }
   ],
   "metadata":{
    "datalore":{
     "type":"CODE",
     "hide_input_from_viewers":false,
     "hide_output_from_viewers":false
    }
   }
  },
  {
   "cell_type":"code",
   "source":[
    "df_twlo_renamed.describe()"
   ],
   "execution_count":12,
   "outputs":[
    {
     "data":{
      "text\/html":[
       "<div>\n",
       "<style scoped>\n",
       "    .dataframe tbody tr th:only-of-type {\n",
       "        vertical-align: middle;\n",
       "    }\n",
       "\n",
       "    .dataframe tbody tr th {\n",
       "        vertical-align: top;\n",
       "    }\n",
       "\n",
       "    .dataframe thead th {\n",
       "        text-align: right;\n",
       "    }\n",
       "<\/style>\n",
       "<table border=\"1\" class=\"dataframe\">\n",
       "  <thead>\n",
       "    <tr style=\"text-align: right;\">\n",
       "      <th><\/th>\n",
       "      <th>open<\/th>\n",
       "      <th>high<\/th>\n",
       "      <th>low<\/th>\n",
       "      <th>close<\/th>\n",
       "      <th>volume<\/th>\n",
       "    <\/tr>\n",
       "  <\/thead>\n",
       "  <tbody>\n",
       "    <tr>\n",
       "      <th>count<\/th>\n",
       "      <td>1250.000000<\/td>\n",
       "      <td>1250.000000<\/td>\n",
       "      <td>1250.000000<\/td>\n",
       "      <td>1250.000000<\/td>\n",
       "      <td>1.250000e+03<\/td>\n",
       "    <\/tr>\n",
       "    <tr>\n",
       "      <th>mean<\/th>\n",
       "      <td>120.115512<\/td>\n",
       "      <td>122.915464<\/td>\n",
       "      <td>117.232336<\/td>\n",
       "      <td>120.140104<\/td>\n",
       "      <td>3.398219e+06<\/td>\n",
       "    <\/tr>\n",
       "    <tr>\n",
       "      <th>std<\/th>\n",
       "      <td>106.756919<\/td>\n",
       "      <td>109.088938<\/td>\n",
       "      <td>104.026158<\/td>\n",
       "      <td>106.628929<\/td>\n",
       "      <td>2.708836e+06<\/td>\n",
       "    <\/tr>\n",
       "    <tr>\n",
       "      <th>min<\/th>\n",
       "      <td>23.160000<\/td>\n",
       "      <td>23.327000<\/td>\n",
       "      <td>22.800000<\/td>\n",
       "      <td>23.170000<\/td>\n",
       "      <td>5.644250e+05<\/td>\n",
       "    <\/tr>\n",
       "    <tr>\n",
       "      <th>25%<\/th>\n",
       "      <td>33.147500<\/td>\n",
       "      <td>34.282500<\/td>\n",
       "      <td>32.455000<\/td>\n",
       "      <td>33.232500<\/td>\n",
       "      <td>1.833656e+06<\/td>\n",
       "    <\/tr>\n",
       "    <tr>\n",
       "      <th>50%<\/th>\n",
       "      <td>87.000000<\/td>\n",
       "      <td>89.395000<\/td>\n",
       "      <td>84.035000<\/td>\n",
       "      <td>87.060000<\/td>\n",
       "      <td>2.717472e+06<\/td>\n",
       "    <\/tr>\n",
       "    <tr>\n",
       "      <th>75%<\/th>\n",
       "      <td>138.237500<\/td>\n",
       "      <td>140.859375<\/td>\n",
       "      <td>135.887500<\/td>\n",
       "      <td>137.800000<\/td>\n",
       "      <td>3.988398e+06<\/td>\n",
       "    <\/tr>\n",
       "    <tr>\n",
       "      <th>max<\/th>\n",
       "      <td>441.000000<\/td>\n",
       "      <td>457.300000<\/td>\n",
       "      <td>437.000000<\/td>\n",
       "      <td>443.490000<\/td>\n",
       "      <td>3.107713e+07<\/td>\n",
       "    <\/tr>\n",
       "  <\/tbody>\n",
       "<\/table>\n",
       "<\/div>"
      ]
     },
     "metadata":{
      
     },
     "output_type":"display_data"
    }
   ],
   "metadata":{
    "datalore":{
     "type":"CODE",
     "hide_input_from_viewers":false,
     "hide_output_from_viewers":false
    }
   }
  },
  {
   "cell_type":"code",
   "source":[
    "df_twlo_renamed.describe()"
   ],
   "execution_count":13,
   "outputs":[
    {
     "data":{
      "text\/html":[
       "<div>\n",
       "<style scoped>\n",
       "    .dataframe tbody tr th:only-of-type {\n",
       "        vertical-align: middle;\n",
       "    }\n",
       "\n",
       "    .dataframe tbody tr th {\n",
       "        vertical-align: top;\n",
       "    }\n",
       "\n",
       "    .dataframe thead th {\n",
       "        text-align: right;\n",
       "    }\n",
       "<\/style>\n",
       "<table border=\"1\" class=\"dataframe\">\n",
       "  <thead>\n",
       "    <tr style=\"text-align: right;\">\n",
       "      <th><\/th>\n",
       "      <th>open<\/th>\n",
       "      <th>high<\/th>\n",
       "      <th>low<\/th>\n",
       "      <th>close<\/th>\n",
       "      <th>volume<\/th>\n",
       "    <\/tr>\n",
       "  <\/thead>\n",
       "  <tbody>\n",
       "    <tr>\n",
       "      <th>count<\/th>\n",
       "      <td>1250.000000<\/td>\n",
       "      <td>1250.000000<\/td>\n",
       "      <td>1250.000000<\/td>\n",
       "      <td>1250.000000<\/td>\n",
       "      <td>1.250000e+03<\/td>\n",
       "    <\/tr>\n",
       "    <tr>\n",
       "      <th>mean<\/th>\n",
       "      <td>120.115512<\/td>\n",
       "      <td>122.915464<\/td>\n",
       "      <td>117.232336<\/td>\n",
       "      <td>120.140104<\/td>\n",
       "      <td>3.398219e+06<\/td>\n",
       "    <\/tr>\n",
       "    <tr>\n",
       "      <th>std<\/th>\n",
       "      <td>106.756919<\/td>\n",
       "      <td>109.088938<\/td>\n",
       "      <td>104.026158<\/td>\n",
       "      <td>106.628929<\/td>\n",
       "      <td>2.708836e+06<\/td>\n",
       "    <\/tr>\n",
       "    <tr>\n",
       "      <th>min<\/th>\n",
       "      <td>23.160000<\/td>\n",
       "      <td>23.327000<\/td>\n",
       "      <td>22.800000<\/td>\n",
       "      <td>23.170000<\/td>\n",
       "      <td>5.644250e+05<\/td>\n",
       "    <\/tr>\n",
       "    <tr>\n",
       "      <th>25%<\/th>\n",
       "      <td>33.147500<\/td>\n",
       "      <td>34.282500<\/td>\n",
       "      <td>32.455000<\/td>\n",
       "      <td>33.232500<\/td>\n",
       "      <td>1.833656e+06<\/td>\n",
       "    <\/tr>\n",
       "    <tr>\n",
       "      <th>50%<\/th>\n",
       "      <td>87.000000<\/td>\n",
       "      <td>89.395000<\/td>\n",
       "      <td>84.035000<\/td>\n",
       "      <td>87.060000<\/td>\n",
       "      <td>2.717472e+06<\/td>\n",
       "    <\/tr>\n",
       "    <tr>\n",
       "      <th>75%<\/th>\n",
       "      <td>138.237500<\/td>\n",
       "      <td>140.859375<\/td>\n",
       "      <td>135.887500<\/td>\n",
       "      <td>137.800000<\/td>\n",
       "      <td>3.988398e+06<\/td>\n",
       "    <\/tr>\n",
       "    <tr>\n",
       "      <th>max<\/th>\n",
       "      <td>441.000000<\/td>\n",
       "      <td>457.300000<\/td>\n",
       "      <td>437.000000<\/td>\n",
       "      <td>443.490000<\/td>\n",
       "      <td>3.107713e+07<\/td>\n",
       "    <\/tr>\n",
       "  <\/tbody>\n",
       "<\/table>\n",
       "<\/div>"
      ]
     },
     "metadata":{
      
     },
     "output_type":"display_data"
    }
   ],
   "metadata":{
    "datalore":{
     "type":"CODE",
     "hide_input_from_viewers":false,
     "hide_output_from_viewers":false
    }
   }
  },
  {
   "cell_type":"code",
   "source":[
    "df_twlo_renamed['date'] = pd.to_datetime(df_twlo_renamed['date'], utc=True)"
   ],
   "execution_count":14,
   "outputs":[
    
   ],
   "metadata":{
    "datalore":{
     "type":"CODE",
     "hide_input_from_viewers":false,
     "hide_output_from_viewers":false
    }
   }
  },
  {
   "cell_type":"code",
   "source":[
    "df_twlo_renamed.dtypes"
   ],
   "execution_count":15,
   "outputs":[
    {
     "data":{
      "text\/html":[
       
      ]
     },
     "metadata":{
      
     },
     "output_type":"display_data"
    }
   ],
   "metadata":{
    "datalore":{
     "type":"CODE",
     "hide_input_from_viewers":false,
     "hide_output_from_viewers":false
    }
   }
  },
  {
   "cell_type":"code",
   "source":[
    "df_twlo_renamed.tail()"
   ],
   "execution_count":16,
   "outputs":[
    {
     "data":{
      "text\/html":[
       "<div>\n",
       "<style scoped>\n",
       "    .dataframe tbody tr th:only-of-type {\n",
       "        vertical-align: middle;\n",
       "    }\n",
       "\n",
       "    .dataframe tbody tr th {\n",
       "        vertical-align: top;\n",
       "    }\n",
       "\n",
       "    .dataframe thead th {\n",
       "        text-align: right;\n",
       "    }\n",
       "<\/style>\n",
       "<table border=\"1\" class=\"dataframe\">\n",
       "  <thead>\n",
       "    <tr style=\"text-align: right;\">\n",
       "      <th><\/th>\n",
       "      <th>date<\/th>\n",
       "      <th>open<\/th>\n",
       "      <th>high<\/th>\n",
       "      <th>low<\/th>\n",
       "      <th>close<\/th>\n",
       "      <th>volume<\/th>\n",
       "    <\/tr>\n",
       "  <\/thead>\n",
       "  <tbody>\n",
       "    <tr>\n",
       "      <th>1245<\/th>\n",
       "      <td>2016-06-29 00:00:00+00:00<\/td>\n",
       "      <td>31.98<\/td>\n",
       "      <td>37.1900<\/td>\n",
       "      <td>31.75<\/td>\n",
       "      <td>37.08<\/td>\n",
       "      <td>13782994.0<\/td>\n",
       "    <\/tr>\n",
       "    <tr>\n",
       "      <th>1246<\/th>\n",
       "      <td>2016-06-28 00:00:00+00:00<\/td>\n",
       "      <td>30.40<\/td>\n",
       "      <td>33.4114<\/td>\n",
       "      <td>29.57<\/td>\n",
       "      <td>29.92<\/td>\n",
       "      <td>10620519.0<\/td>\n",
       "    <\/tr>\n",
       "    <tr>\n",
       "      <th>1247<\/th>\n",
       "      <td>2016-06-27 00:00:00+00:00<\/td>\n",
       "      <td>27.35<\/td>\n",
       "      <td>28.1900<\/td>\n",
       "      <td>26.30<\/td>\n",
       "      <td>27.25<\/td>\n",
       "      <td>3929574.0<\/td>\n",
       "    <\/tr>\n",
       "    <tr>\n",
       "      <th>1248<\/th>\n",
       "      <td>2016-06-24 00:00:00+00:00<\/td>\n",
       "      <td>27.54<\/td>\n",
       "      <td>28.7390<\/td>\n",
       "      <td>26.05<\/td>\n",
       "      <td>26.30<\/td>\n",
       "      <td>4670689.0<\/td>\n",
       "    <\/tr>\n",
       "    <tr>\n",
       "      <th>1249<\/th>\n",
       "      <td>2016-06-23 00:00:00+00:00<\/td>\n",
       "      <td>23.99<\/td>\n",
       "      <td>29.6100<\/td>\n",
       "      <td>23.66<\/td>\n",
       "      <td>28.79<\/td>\n",
       "      <td>21299009.0<\/td>\n",
       "    <\/tr>\n",
       "  <\/tbody>\n",
       "<\/table>\n",
       "<\/div>"
      ]
     },
     "metadata":{
      
     },
     "output_type":"display_data"
    }
   ],
   "metadata":{
    "datalore":{
     "type":"CODE",
     "hide_input_from_viewers":false,
     "hide_output_from_viewers":false
    }
   }
  },
  {
   "cell_type":"code",
   "source":[
    "sns.lineplot(x=df_twlo_renamed.date, y=df_twlo_renamed.close)\n",
    "plt.show()"
   ],
   "execution_count":17,
   "outputs":[
    {
     "data":{
      "image\/png":"[encoded data removed]"
     },
     "metadata":{
      "image\/png":{
       
      }
     },
     "output_type":"display_data"
    }
   ],
   "metadata":{
    "datalore":{
     "type":"CODE",
     "hide_input_from_viewers":false,
     "hide_output_from_viewers":false
    }
   }
  },
  {
   "cell_type":"code",
   "source":[
    "names = ['open', 'close', 'high', 'low']\n",
    "fig = plt.figure(figsize=(14,22))\n",
    "\n",
    "a = 2  \n",
    "b = 4 \n",
    "c = 1 \n",
    "for i in names:\n",
    "    plt.subplot(a, b, c)\n",
    "    plt.title('{} displot'.format(i))\n",
    "    plt.xlabel(i)\n",
    "    sns.distplot(df_twlo_renamed[i])\n",
    "    c = c + 1\n",
    "    \n",
    "    plt.subplot(a,b,c)\n",
    "    plt.title('{} boxplot'.format(i))\n",
    "    plt.xlabel(i)\n",
    "    plt.boxplot(x=df_twlo_renamed[i])\n",
    "    c = c + 1\n",
    "plt.show()"
   ],
   "execution_count":18,
   "outputs":[
    {
     "data":{
      "image\/png":"[encoded data removed]"
     },
     "metadata":{
      "image\/png":{
       
      }
     },
     "output_type":"display_data"
    }
   ],
   "metadata":{
    "datalore":{
     "type":"CODE",
     "hide_input_from_viewers":false,
     "hide_output_from_viewers":false
    }
   }
  }
 ],
 "metadata":{
  "datalore":{
   "version":1,
   "computation_mode":"JUPYTER",
   "package_manager":"pip",
   "base_environment":"default",
   "packages":[
    
   ]
  }
 },
 "nbformat":4,
 "nbformat_minor":4
}