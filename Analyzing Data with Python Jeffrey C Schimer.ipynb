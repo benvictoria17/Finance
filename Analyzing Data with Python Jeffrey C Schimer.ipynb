{
 "cells": [
  {
   "cell_type": "code",
   "execution_count": 1,
   "id": "2060c47d",
   "metadata": {},
   "outputs": [],
   "source": [
    "import pandas as pd\n",
    "import numpy as np\n",
    "import matplotlib.pyplot as plt"
   ]
  },
  {
   "cell_type": "code",
   "execution_count": 2,
   "id": "0d81ac87",
   "metadata": {},
   "outputs": [],
   "source": [
    "df =pd.read_csv('https://raw.githubusercontent.com/benvictoria17/Finance/main/dataset/Auto%20mobile%20pricing/imports_85_data.csv',header=None,encoding='utf-8')"
   ]
  },
  {
   "cell_type": "code",
   "execution_count": 3,
   "id": "43ee971a",
   "metadata": {},
   "outputs": [],
   "source": [
    "header=['Symbolling','Normalized Losses','Make','Fuel Type','Aspiration','Num_Doors','Body-Style','Drive-Wheels',\n",
    "       'Engine Location','Wheel Base','Length','Width','Height','Curb-Weight','Engine-Type',\n",
    "       'Num Of Cylinders', 'Engine - Size' , 'Fuel System' ,'Bore','Stroke','Compression-Ratio','Horse-Power','Peak-RPM','City-MPG',\"Price\"]\n",
    "header.append('Highway-MPG')"
   ]
  },
  {
   "cell_type": "code",
   "execution_count": 4,
   "id": "78ee6648",
   "metadata": {},
   "outputs": [],
   "source": [
    "df.columns=header"
   ]
  },
  {
   "cell_type": "code",
   "execution_count": 5,
   "id": "8ff76808",
   "metadata": {},
   "outputs": [
    {
     "data": {
      "text/plain": [
       "Symbolling           object\n",
       "Normalized Losses    object\n",
       "Make                 object\n",
       "Fuel Type            object\n",
       "Aspiration           object\n",
       "Num_Doors            object\n",
       "Body-Style           object\n",
       "Drive-Wheels         object\n",
       "Engine Location      object\n",
       "Wheel Base           object\n",
       "Length               object\n",
       "Width                object\n",
       "Height               object\n",
       "Curb-Weight          object\n",
       "Engine-Type          object\n",
       "Num Of Cylinders     object\n",
       "Engine - Size        object\n",
       "Fuel System          object\n",
       "Bore                 object\n",
       "Stroke               object\n",
       "Compression-Ratio    object\n",
       "Horse-Power          object\n",
       "Peak-RPM             object\n",
       "City-MPG             object\n",
       "Price                object\n",
       "Highway-MPG          object\n",
       "dtype: object"
      ]
     },
     "execution_count": 5,
     "metadata": {},
     "output_type": "execute_result"
    }
   ],
   "source": [
    "df.dtypes"
   ]
  },
  {
   "cell_type": "code",
   "execution_count": null,
   "id": "9799cd94",
   "metadata": {},
   "outputs": [],
   "source": []
  },
  {
   "cell_type": "code",
   "execution_count": null,
   "id": "311958d9",
   "metadata": {},
   "outputs": [],
   "source": []
  }
 ],
 "metadata": {
  "kernelspec": {
   "display_name": "Python 3",
   "language": "python",
   "name": "python3"
  },
  "language_info": {
   "codemirror_mode": {
    "name": "ipython",
    "version": 3
   },
   "file_extension": ".py",
   "mimetype": "text/x-python",
   "name": "python",
   "nbconvert_exporter": "python",
   "pygments_lexer": "ipython3",
   "version": "3.9.5"
  }
 },
 "nbformat": 4,
 "nbformat_minor": 5
}
