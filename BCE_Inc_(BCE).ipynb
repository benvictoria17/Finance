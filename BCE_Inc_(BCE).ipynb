{
 "cells": [
  {
   "cell_type": "markdown",
   "metadata": {
    "colab_type": "text",
    "id": "view-in-github"
   },
   "source": [
    "<a href=\"https://colab.research.google.com/github/benvictoria21/python-stock/blob/master/BCE_Inc_(BCE).ipynb\" target=\"_parent\"><img src=\"https://colab.research.google.com/assets/colab-badge.svg\" alt=\"Open In Colab\"/></a>"
   ]
  },
  {
   "cell_type": "code",
   "execution_count": null,
   "metadata": {
    "colab": {},
    "colab_type": "code",
    "id": "eERcA1oxL5VC"
   },
   "outputs": [],
   "source": [
    "!pip install yfinance"
   ]
  },
  {
   "cell_type": "code",
   "execution_count": null,
   "metadata": {
    "colab": {},
    "colab_type": "code",
    "id": "kzoOCsEdMCpO"
   },
   "outputs": [],
   "source": [
    "import pandas as pd \n",
    "import numpy as np \n",
    "import math \n",
    "import matplotlib.pyplot as plt\n",
    "import sqlite3\n",
    "import yfinance"
   ]
  },
  {
   "cell_type": "code",
   "execution_count": null,
   "metadata": {
    "colab": {},
    "colab_type": "code",
    "id": "Nd3ELhU1K0b7"
   },
   "outputs": [],
   "source": [
    "BCE = pd.read_csv(\"https://query1.finance.yahoo.com/v7/finance/download/BCE?period1=1562870501&period2=1594492901&interval=1d&events=history\")\n",
    "\n",
    "\n",
    "BCE"
   ]
  },
  {
   "cell_type": "code",
   "execution_count": null,
   "metadata": {
    "colab": {},
    "colab_type": "code",
    "id": "PnvSvcWIMGUS"
   },
   "outputs": [],
   "source": [
    "BCE.head()"
   ]
  },
  {
   "cell_type": "code",
   "execution_count": null,
   "metadata": {
    "colab": {},
    "colab_type": "code",
    "id": "5FHgYXPQMJtF"
   },
   "outputs": [],
   "source": [
    "BCE.tail()"
   ]
  },
  {
   "cell_type": "code",
   "execution_count": null,
   "metadata": {
    "colab": {},
    "colab_type": "code",
    "id": "tuusKBWLMJvx"
   },
   "outputs": [],
   "source": [
    "BCE.describe()"
   ]
  },
  {
   "cell_type": "code",
   "execution_count": null,
   "metadata": {
    "colab": {},
    "colab_type": "code",
    "id": "6Ecg9btWMJ0v"
   },
   "outputs": [],
   "source": [
    "plt.plot([0,1,2,3,4,5])\n",
    "plt.show"
   ]
  },
  {
   "cell_type": "code",
   "execution_count": null,
   "metadata": {
    "colab": {},
    "colab_type": "code",
    "id": "cPq77-BbMJ3Q"
   },
   "outputs": [],
   "source": [
    "plt.pie([0,1,2,4,5]) \n",
    "plt.show"
   ]
  },
  {
   "cell_type": "code",
   "execution_count": null,
   "metadata": {
    "colab": {},
    "colab_type": "code",
    "id": "PuliETucMJ6N"
   },
   "outputs": [],
   "source": [
    "import pandas_datareader as pdr \n",
    "import datetime \n",
    "BCE = pdr.get_data_yahoo(\"BCE\",\n",
    "                          start=datetime.datetime(2006,10,1),\n",
    "                          end=datetime.datetime(2012,1,1))\n",
    "\n",
    "BCE.head()"
   ]
  },
  {
   "cell_type": "code",
   "execution_count": null,
   "metadata": {
    "colab": {},
    "colab_type": "code",
    "id": "TxulyM8LMJ9P"
   },
   "outputs": [],
   "source": [
    "import sqlite3"
   ]
  },
  {
   "cell_type": "code",
   "execution_count": null,
   "metadata": {
    "colab": {},
    "colab_type": "code",
    "id": "fzImGKhtMbCd"
   },
   "outputs": [],
   "source": [
    "conn = sqlite3.connect(\"BCE.db\")\n",
    "c = conn.cursor()"
   ]
  },
  {
   "cell_type": "code",
   "execution_count": null,
   "metadata": {
    "colab": {},
    "colab_type": "code",
    "id": "8h_F4lxzMeOG"
   },
   "outputs": [],
   "source": [
    "BCE.to_sql(\"BCE\", conn, if_exists='replace')"
   ]
  },
  {
   "cell_type": "code",
   "execution_count": null,
   "metadata": {
    "colab": {},
    "colab_type": "code",
    "id": "xl77WZgWMgST"
   },
   "outputs": [],
   "source": [
    "#See data\n",
    "c.execute(\"\"\"SELECT * FROM BCE\"\"\")\n",
    "rows = c.fetchall()\n",
    "rows"
   ]
  },
  {
   "cell_type": "code",
   "execution_count": null,
   "metadata": {
    "colab": {},
    "colab_type": "code",
    "id": "lNw9K7WFMgVE"
   },
   "outputs": [],
   "source": [
    "BCE.to_excel(\"BCE.xls\")\n",
    "\n",
    "pd.read_excel(\"BCE.xls\")"
   ]
  },
  {
   "cell_type": "code",
   "execution_count": null,
   "metadata": {
    "colab": {},
    "colab_type": "code",
    "id": "ezGBl6MKMgXr"
   },
   "outputs": [],
   "source": [
    "x = [0,1,2,3,4]\n",
    "y = [0,2,4,6,8]\n",
    "\n",
    "# Resize your Graph (dpi specifies pixels per inch. When saving probably should use 300 if possible)\n",
    "plt.figure(figsize=(8,5), dpi=100)\n",
    "\n",
    "# Line 1\n",
    "\n",
    "# Keyword Argument Notation\n",
    "#plt.plot(x,y, label='2x', color='red', linewidth=2, marker='.', linestyle='--', markersize=10, markeredgecolor='blue')\n",
    "\n",
    "# Shorthand notation\n",
    "# fmt = '[color][marker][line]'\n",
    "plt.plot(x,y, 'b^--', label='2x')\n",
    "\n",
    "## Line 2\n",
    "\n",
    "# select interval we want to plot points at\n",
    "x2 = np.arange(0,4.5,0.5)\n",
    "\n",
    "# Plot part of the graph as line\n",
    "plt.plot(x2[:6], x2[:6]**2, 'r', label='X^2')\n",
    "\n",
    "# Plot remainder of graph as a dot\n",
    "plt.plot(x2[5:], x2[5:]**2, 'r--')\n",
    "\n",
    "# Add a title (specify font parameters with fontdict)\n",
    "plt.title('BCE Inc. (BCE)', fontdict={'fontname': 'Comic Sans MS', 'fontsize': 20})\n",
    "\n",
    "# X and Y labels\n",
    "plt.xlabel('BCE')\n",
    "\n",
    "# X, Y axis Tickmarks (scale of your graph)\n",
    "plt.xticks([0,1,2,3,4,])\n",
    "#plt.yticks([0,2,4,6,8,10])\n",
    "\n",
    "# Add a legend\n",
    "plt.legend()\n",
    "\n",
    "# Save figure (dpi 300 is good when saving so graph has high resolution)\n",
    "plt.savefig('mygraph.png', dpi=300)\n",
    "\n",
    "# Show plot\n",
    "plt.show()"
   ]
  },
  {
   "cell_type": "code",
   "execution_count": null,
   "metadata": {
    "colab": {},
    "colab_type": "code",
    "id": "8YOkB4NiMgak"
   },
   "outputs": [],
   "source": [
    "labels = ['A', 'B', 'C']\n",
    "values = [1,4,2]\n",
    "\n",
    "plt.figure(figsize=(5,3), dpi=100)\n",
    "\n",
    "bars = plt.bar(labels, values)\n",
    "\n",
    "patterns = ['/', 'O', '*']\n",
    "for bar in bars:\n",
    "    bar.set_hatch(patterns.pop(0))\n",
    "\n",
    "plt.savefig('barchart.png', dpi=300)\n",
    "\n",
    "plt.show()\n"
   ]
  }
 ],
 "metadata": {
  "colab": {
   "authorship_tag": "ABX9TyPihQKGiE7bJwL3AlZAevJ/",
   "include_colab_link": true,
   "name": "BCE Inc. (BCE).ipynb",
   "private_outputs": true,
   "provenance": []
  },
  "kernelspec": {
   "display_name": "Python 3",
   "name": "python3"
  }
 },
 "nbformat": 4,
 "nbformat_minor": 0
}
