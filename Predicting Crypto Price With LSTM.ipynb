{
 "cells": [
  {
   "cell_type": "code",
   "execution_count": 1,
   "id": "72e4cb62",
   "metadata": {
    "collapsed": false,
    "datalore": {
     "sheet_delimiter": false,
     "type": "CODE"
    },
    "execution": {
     "iopub.execute_input": "2022-02-12T00:10:47.516522Z",
     "iopub.status.busy": "2022-02-12T00:10:47.515854Z",
     "iopub.status.idle": "2022-02-12T00:10:47.520472Z",
     "shell.execute_reply": "2022-02-12T00:10:47.519940Z",
     "shell.execute_reply.started": "2022-02-12T00:07:59.573800Z"
    },
    "jupyter": {
     "outputs_hidden": false,
     "source_hidden": false
    },
    "papermill": {
     "duration": 0.034838,
     "end_time": "2022-02-12T00:10:47.520610",
     "exception": false,
     "start_time": "2022-02-12T00:10:47.485772",
     "status": "completed"
    },
    "tags": []
   },
   "outputs": [],
   "source": [
    "import numpy as np \n",
    "import pandas as pd \n",
    "import matplotlib.pyplot as plt"
   ]
  },
  {
   "cell_type": "code",
   "execution_count": 2,
   "id": "5d625b80",
   "metadata": {
    "collapsed": false,
    "datalore": {
     "sheet_delimiter": false,
     "type": "CODE"
    },
    "execution": {
     "iopub.execute_input": "2022-02-12T00:10:47.557552Z",
     "iopub.status.busy": "2022-02-12T00:10:47.550921Z",
     "iopub.status.idle": "2022-02-12T00:10:48.092270Z",
     "shell.execute_reply": "2022-02-12T00:10:48.091760Z",
     "shell.execute_reply.started": "2022-02-12T00:07:59.599029Z"
    },
    "jupyter": {
     "outputs_hidden": false,
     "source_hidden": false
    },
    "papermill": {
     "duration": 0.557913,
     "end_time": "2022-02-12T00:10:48.092410",
     "exception": false,
     "start_time": "2022-02-12T00:10:47.534497",
     "status": "completed"
    },
    "tags": []
   },
   "outputs": [],
   "source": [
    "data = 'https://raw.githubusercontent.com/benvictoria17/AnalyzeStocks/master/dataset/Cryptocurrency%20Historical%20Prices/coin_Bitcoin.csv'\n",
    "dataset = pd.read_csv(data)\n",
    "chosen_col = 'Close'"
   ]
  },
  {
   "cell_type": "code",
   "execution_count": 3,
   "id": "fd7518ac",
   "metadata": {
    "collapsed": false,
    "datalore": {
     "sheet_delimiter": false,
     "type": "CODE"
    },
    "execution": {
     "iopub.execute_input": "2022-02-12T00:10:48.123965Z",
     "iopub.status.busy": "2022-02-12T00:10:48.123231Z",
     "iopub.status.idle": "2022-02-12T00:10:48.140686Z",
     "shell.execute_reply": "2022-02-12T00:10:48.141272Z",
     "shell.execute_reply.started": "2022-02-12T00:07:59.927907Z"
    },
    "jupyter": {
     "outputs_hidden": false,
     "source_hidden": false
    },
    "papermill": {
     "duration": 0.037001,
     "end_time": "2022-02-12T00:10:48.141441",
     "exception": false,
     "start_time": "2022-02-12T00:10:48.104440",
     "status": "completed"
    },
    "tags": []
   },
   "outputs": [
    {
     "name": "stdout",
     "output_type": "stream",
     "text": [
      "2991\n"
     ]
    },
    {
     "data": {
      "text/html": [
       "<div>\n",
       "<style scoped>\n",
       "    .dataframe tbody tr th:only-of-type {\n",
       "        vertical-align: middle;\n",
       "    }\n",
       "\n",
       "    .dataframe tbody tr th {\n",
       "        vertical-align: top;\n",
       "    }\n",
       "\n",
       "    .dataframe thead th {\n",
       "        text-align: right;\n",
       "    }\n",
       "</style>\n",
       "<table border=\"1\" class=\"dataframe\">\n",
       "  <thead>\n",
       "    <tr style=\"text-align: right;\">\n",
       "      <th></th>\n",
       "      <th>SNo</th>\n",
       "      <th>Name</th>\n",
       "      <th>Symbol</th>\n",
       "      <th>Date</th>\n",
       "      <th>High</th>\n",
       "      <th>Low</th>\n",
       "      <th>Open</th>\n",
       "      <th>Close</th>\n",
       "      <th>Volume</th>\n",
       "      <th>Marketcap</th>\n",
       "    </tr>\n",
       "  </thead>\n",
       "  <tbody>\n",
       "    <tr>\n",
       "      <th>0</th>\n",
       "      <td>1</td>\n",
       "      <td>Bitcoin</td>\n",
       "      <td>BTC</td>\n",
       "      <td>2013-04-29 23:59:59</td>\n",
       "      <td>147.488007</td>\n",
       "      <td>134.000000</td>\n",
       "      <td>134.444000</td>\n",
       "      <td>144.539993</td>\n",
       "      <td>0.0</td>\n",
       "      <td>1.603769e+09</td>\n",
       "    </tr>\n",
       "    <tr>\n",
       "      <th>1</th>\n",
       "      <td>2</td>\n",
       "      <td>Bitcoin</td>\n",
       "      <td>BTC</td>\n",
       "      <td>2013-04-30 23:59:59</td>\n",
       "      <td>146.929993</td>\n",
       "      <td>134.050003</td>\n",
       "      <td>144.000000</td>\n",
       "      <td>139.000000</td>\n",
       "      <td>0.0</td>\n",
       "      <td>1.542813e+09</td>\n",
       "    </tr>\n",
       "    <tr>\n",
       "      <th>2</th>\n",
       "      <td>3</td>\n",
       "      <td>Bitcoin</td>\n",
       "      <td>BTC</td>\n",
       "      <td>2013-05-01 23:59:59</td>\n",
       "      <td>139.889999</td>\n",
       "      <td>107.720001</td>\n",
       "      <td>139.000000</td>\n",
       "      <td>116.989998</td>\n",
       "      <td>0.0</td>\n",
       "      <td>1.298955e+09</td>\n",
       "    </tr>\n",
       "    <tr>\n",
       "      <th>3</th>\n",
       "      <td>4</td>\n",
       "      <td>Bitcoin</td>\n",
       "      <td>BTC</td>\n",
       "      <td>2013-05-02 23:59:59</td>\n",
       "      <td>125.599998</td>\n",
       "      <td>92.281898</td>\n",
       "      <td>116.379997</td>\n",
       "      <td>105.209999</td>\n",
       "      <td>0.0</td>\n",
       "      <td>1.168517e+09</td>\n",
       "    </tr>\n",
       "    <tr>\n",
       "      <th>4</th>\n",
       "      <td>5</td>\n",
       "      <td>Bitcoin</td>\n",
       "      <td>BTC</td>\n",
       "      <td>2013-05-03 23:59:59</td>\n",
       "      <td>108.127998</td>\n",
       "      <td>79.099998</td>\n",
       "      <td>106.250000</td>\n",
       "      <td>97.750000</td>\n",
       "      <td>0.0</td>\n",
       "      <td>1.085995e+09</td>\n",
       "    </tr>\n",
       "  </tbody>\n",
       "</table>\n",
       "</div>"
      ],
      "text/plain": [
       "   SNo     Name Symbol                 Date        High         Low  \\\n",
       "0    1  Bitcoin    BTC  2013-04-29 23:59:59  147.488007  134.000000   \n",
       "1    2  Bitcoin    BTC  2013-04-30 23:59:59  146.929993  134.050003   \n",
       "2    3  Bitcoin    BTC  2013-05-01 23:59:59  139.889999  107.720001   \n",
       "3    4  Bitcoin    BTC  2013-05-02 23:59:59  125.599998   92.281898   \n",
       "4    5  Bitcoin    BTC  2013-05-03 23:59:59  108.127998   79.099998   \n",
       "\n",
       "         Open       Close  Volume     Marketcap  \n",
       "0  134.444000  144.539993     0.0  1.603769e+09  \n",
       "1  144.000000  139.000000     0.0  1.542813e+09  \n",
       "2  139.000000  116.989998     0.0  1.298955e+09  \n",
       "3  116.379997  105.209999     0.0  1.168517e+09  \n",
       "4  106.250000   97.750000     0.0  1.085995e+09  "
      ]
     },
     "execution_count": 3,
     "metadata": {},
     "output_type": "execute_result"
    }
   ],
   "source": [
    "print(len(dataset))\n",
    "dataset.head()"
   ]
  },
  {
   "cell_type": "code",
   "execution_count": 4,
   "id": "d52767bf",
   "metadata": {
    "collapsed": false,
    "datalore": {
     "sheet_delimiter": false,
     "type": "CODE"
    },
    "execution": {
     "iopub.execute_input": "2022-02-12T00:10:48.177507Z",
     "iopub.status.busy": "2022-02-12T00:10:48.176695Z",
     "iopub.status.idle": "2022-02-12T00:10:48.514406Z",
     "shell.execute_reply": "2022-02-12T00:10:48.514821Z",
     "shell.execute_reply.started": "2022-02-12T00:07:59.952883Z"
    },
    "jupyter": {
     "outputs_hidden": false,
     "source_hidden": false
    },
    "papermill": {
     "duration": 0.360272,
     "end_time": "2022-02-12T00:10:48.514967",
     "exception": false,
     "start_time": "2022-02-12T00:10:48.154695",
     "status": "completed"
    },
    "tags": []
   },
   "outputs": [
    {
     "data": {
      "text/plain": [
       "<matplotlib.legend.Legend at 0x7fdcf0dab590>"
      ]
     },
     "execution_count": 4,
     "metadata": {},
     "output_type": "execute_result"
    },
    {
     "data": {
      "image/png": "[encoded data removed]",
      "text/plain": [
       "<Figure size 936x504 with 1 Axes>"
      ]
     },
     "metadata": {
      "needs_background": "light"
     },
     "output_type": "display_data"
    }
   ],
   "source": [
    "split_row = len(dataset) - int(0.2 * len(dataset))\n",
    "train_data = dataset.iloc[:split_row]\n",
    "test_data = dataset.iloc[split_row:]\n",
    "fig, ax = plt.subplots(1, figsize=(13, 7))\n",
    "ax.plot(train_data[chosen_col], label='Train', linewidth=2)\n",
    "ax.plot(test_data[chosen_col], label='Test', linewidth=2)\n",
    "ax.set_ylabel('Price USD', fontsize=14)\n",
    "ax.set_title('', fontsize=16)\n",
    "ax.legend(loc='best', fontsize=16)"
   ]
  },
  {
   "cell_type": "code",
   "execution_count": 5,
   "id": "2c0665e6",
   "metadata": {
    "collapsed": false,
    "datalore": {
     "sheet_delimiter": false,
     "type": "CODE"
    },
    "execution": {
     "iopub.execute_input": "2022-02-12T00:10:48.550049Z",
     "iopub.status.busy": "2022-02-12T00:10:48.549503Z",
     "iopub.status.idle": "2022-02-12T00:10:49.274533Z",
     "shell.execute_reply": "2022-02-12T00:10:49.274015Z",
     "shell.execute_reply.started": "2022-02-12T00:08:00.300403Z"
    },
    "jupyter": {
     "outputs_hidden": false,
     "source_hidden": false
    },
    "papermill": {
     "duration": 0.744878,
     "end_time": "2022-02-12T00:10:49.274679",
     "exception": false,
     "start_time": "2022-02-12T00:10:48.529801",
     "status": "completed"
    },
    "tags": []
   },
   "outputs": [],
   "source": [
    "from sklearn.preprocessing import MinMaxScaler\n",
    "\n",
    "datacol = dataset.iloc[:, 7:8].values\n",
    "traincol = train_data.iloc[:, 7:8].values\n",
    "testcol = test_data.iloc[:, 7:8].values\n",
    "\n",
    "shaped_data = np.reshape(datacol, (-1,1))\n",
    "train_shaped = np.reshape(traincol, (-1,1))\n",
    "test_shaped = np.reshape(testcol, (-1,1))\n",
    "\n",
    "sc = MinMaxScaler(feature_range=(0,1))\n",
    "sc.fit(shaped_data)\n",
    "\n",
    "train_scaled_data = sc.transform(train_shaped)\n",
    "test_scaled_data = sc.transform(test_shaped)"
   ]
  },
  {
   "cell_type": "code",
   "execution_count": 6,
   "id": "207c53f4",
   "metadata": {
    "collapsed": false,
    "datalore": {
     "sheet_delimiter": false,
     "type": "CODE"
    },
    "execution": {
     "iopub.execute_input": "2022-02-12T00:10:49.311665Z",
     "iopub.status.busy": "2022-02-12T00:10:49.310871Z",
     "iopub.status.idle": "2022-02-12T00:10:49.315861Z",
     "shell.execute_reply": "2022-02-12T00:10:49.315353Z",
     "shell.execute_reply.started": "2022-02-12T00:08:01.135885Z"
    },
    "jupyter": {
     "outputs_hidden": false,
     "source_hidden": false
    },
    "papermill": {
     "duration": 0.026868,
     "end_time": "2022-02-12T00:10:49.315967",
     "exception": false,
     "start_time": "2022-02-12T00:10:49.289099",
     "status": "completed"
    },
    "tags": []
   },
   "outputs": [],
   "source": [
    "X = []\n",
    "y = []\n",
    "time_steps = 50\n",
    "\n",
    "for i in range(time_steps, len(train_data)):\n",
    "    X.append(train_scaled_data[i-time_steps:i,0])\n",
    "    y.append(train_scaled_data[i, 0])\n",
    "\n",
    "X, y = np.array(X), np.array(y)\n",
    "X = np.reshape(X, (X.shape[0], X.shape[1], 1))"
   ]
  },
  {
   "cell_type": "code",
   "execution_count": 7,
   "id": "6dcbafd3",
   "metadata": {
    "collapsed": false,
    "datalore": {
     "sheet_delimiter": false,
     "type": "CODE"
    },
    "execution": {
     "iopub.execute_input": "2022-02-12T00:10:49.347771Z",
     "iopub.status.busy": "2022-02-12T00:10:49.347148Z",
     "iopub.status.idle": "2022-02-12T00:10:49.385222Z",
     "shell.execute_reply": "2022-02-12T00:10:49.384779Z",
     "shell.execute_reply.started": "2022-02-12T00:08:01.151333Z"
    },
    "jupyter": {
     "outputs_hidden": false,
     "source_hidden": false
    },
    "papermill": {
     "duration": 0.055364,
     "end_time": "2022-02-12T00:10:49.385338",
     "exception": false,
     "start_time": "2022-02-12T00:10:49.329974",
     "status": "completed"
    },
    "tags": []
   },
   "outputs": [],
   "source": [
    "from sklearn.model_selection import train_test_split\n",
    "\n",
    "X_train, X_test, y_train, y_test = train_test_split(X, y, test_size=0.2)"
   ]
  },
  {
   "cell_type": "code",
   "execution_count": 8,
   "id": "0f03064b",
   "metadata": {
    "collapsed": false,
    "datalore": {
     "sheet_delimiter": false,
     "type": "CODE"
    },
    "execution": {
     "iopub.execute_input": "2022-02-12T00:10:49.421163Z",
     "iopub.status.busy": "2022-02-12T00:10:49.420621Z",
     "iopub.status.idle": "2022-02-12T00:10:56.251591Z",
     "shell.execute_reply": "2022-02-12T00:10:56.252006Z",
     "shell.execute_reply.started": "2022-02-12T00:08:01.202412Z"
    },
    "jupyter": {
     "outputs_hidden": false,
     "source_hidden": false
    },
    "papermill": {
     "duration": 6.85258,
     "end_time": "2022-02-12T00:10:56.252224",
     "exception": false,
     "start_time": "2022-02-12T00:10:49.399644",
     "status": "completed"
    },
    "tags": []
   },
   "outputs": [
    {
     "name": "stderr",
     "output_type": "stream",
     "text": [
      "2022-02-12 00:10:53.794854: I tensorflow/stream_executor/cuda/cuda_gpu_executor.cc:937] successful NUMA node read from SysFS had negative value (-1), but there must be at least one NUMA node, so returning NUMA node zero\n",
      "2022-02-12 00:10:53.925624: I tensorflow/stream_executor/cuda/cuda_gpu_executor.cc:937] successful NUMA node read from SysFS had negative value (-1), but there must be at least one NUMA node, so returning NUMA node zero\n",
      "2022-02-12 00:10:53.926365: I tensorflow/stream_executor/cuda/cuda_gpu_executor.cc:937] successful NUMA node read from SysFS had negative value (-1), but there must be at least one NUMA node, so returning NUMA node zero\n",
      "2022-02-12 00:10:53.927494: I tensorflow/core/platform/cpu_feature_guard.cc:142] This TensorFlow binary is optimized with oneAPI Deep Neural Network Library (oneDNN) to use the following CPU instructions in performance-critical operations:  AVX2 AVX512F FMA\n",
      "To enable them in other operations, rebuild TensorFlow with the appropriate compiler flags.\n",
      "2022-02-12 00:10:53.928427: I tensorflow/stream_executor/cuda/cuda_gpu_executor.cc:937] successful NUMA node read from SysFS had negative value (-1), but there must be at least one NUMA node, so returning NUMA node zero\n",
      "2022-02-12 00:10:53.929061: I tensorflow/stream_executor/cuda/cuda_gpu_executor.cc:937] successful NUMA node read from SysFS had negative value (-1), but there must be at least one NUMA node, so returning NUMA node zero\n",
      "2022-02-12 00:10:53.929678: I tensorflow/stream_executor/cuda/cuda_gpu_executor.cc:937] successful NUMA node read from SysFS had negative value (-1), but there must be at least one NUMA node, so returning NUMA node zero\n",
      "2022-02-12 00:10:55.663913: I tensorflow/stream_executor/cuda/cuda_gpu_executor.cc:937] successful NUMA node read from SysFS had negative value (-1), but there must be at least one NUMA node, so returning NUMA node zero\n",
      "2022-02-12 00:10:55.664779: I tensorflow/stream_executor/cuda/cuda_gpu_executor.cc:937] successful NUMA node read from SysFS had negative value (-1), but there must be at least one NUMA node, so returning NUMA node zero\n",
      "2022-02-12 00:10:55.665423: I tensorflow/stream_executor/cuda/cuda_gpu_executor.cc:937] successful NUMA node read from SysFS had negative value (-1), but there must be at least one NUMA node, so returning NUMA node zero\n",
      "2022-02-12 00:10:55.665982: I tensorflow/core/common_runtime/gpu/gpu_device.cc:1510] Created device /job:localhost/replica:0/task:0/device:GPU:0 with 15403 MB memory:  -> device: 0, name: Tesla P100-PCIE-16GB, pci bus id: 0000:00:04.0, compute capability: 6.0\n"
     ]
    }
   ],
   "source": [
    "from keras.models import Sequential\n",
    "from keras.layers import LSTM\n",
    "from keras.layers import Dense\n",
    "from keras.layers import Dropout\n",
    "from keras.layers import Activation\n",
    "\n",
    "model = Sequential()\n",
    "model.add(LSTM(units=100, input_shape=(X_train.shape[1], X_train.shape[2])))\n",
    "model.add(Dropout(0.2))\n",
    "model.add(Dense(1))\n",
    "model.add(Activation('linear'))\n",
    "model.compile(optimizer='adam', loss='mse')"
   ]
  },
  {
   "cell_type": "code",
   "execution_count": 9,
   "id": "09ac9731",
   "metadata": {
    "execution": {
     "iopub.execute_input": "2022-02-12T00:10:56.287141Z",
     "iopub.status.busy": "2022-02-12T00:10:56.286327Z",
     "iopub.status.idle": "2022-02-12T00:11:09.560331Z",
     "shell.execute_reply": "2022-02-12T00:11:09.560827Z",
     "shell.execute_reply.started": "2022-02-12T00:08:08.178112Z"
    },
    "papermill": {
     "duration": 13.293564,
     "end_time": "2022-02-12T00:11:09.560990",
     "exception": false,
     "start_time": "2022-02-12T00:10:56.267426",
     "status": "completed"
    },
    "tags": []
   },
   "outputs": [
    {
     "name": "stderr",
     "output_type": "stream",
     "text": [
      "2022-02-12 00:10:56.330575: I tensorflow/compiler/mlir/mlir_graph_optimization_pass.cc:185] None of the MLIR Optimization Passes are enabled (registered 2)\n"
     ]
    },
    {
     "name": "stdout",
     "output_type": "stream",
     "text": [
      "Epoch 1/100\n"
     ]
    },
    {
     "name": "stderr",
     "output_type": "stream",
     "text": [
      "2022-02-12 00:10:58.403315: I tensorflow/stream_executor/cuda/cuda_dnn.cc:369] Loaded cuDNN version 8005\n"
     ]
    },
    {
     "name": "stdout",
     "output_type": "stream",
     "text": [
      "59/59 [==============================] - 4s 14ms/step - loss: 5.2203e-04 - val_loss: 8.8252e-05\n",
      "Epoch 2/100\n",
      "59/59 [==============================] - 0s 7ms/step - loss: 9.8784e-05 - val_loss: 6.3936e-05\n",
      "Epoch 3/100\n",
      "59/59 [==============================] - 0s 7ms/step - loss: 7.5177e-05 - val_loss: 5.3616e-05\n",
      "Epoch 4/100\n",
      "59/59 [==============================] - 0s 5ms/step - loss: 8.4130e-05 - val_loss: 5.8014e-05\n",
      "Epoch 5/100\n",
      "59/59 [==============================] - 0s 5ms/step - loss: 7.9751e-05 - val_loss: 4.8194e-05\n",
      "Epoch 6/100\n",
      "59/59 [==============================] - 0s 5ms/step - loss: 7.3113e-05 - val_loss: 5.7152e-05\n",
      "Epoch 7/100\n",
      "59/59 [==============================] - 0s 5ms/step - loss: 7.3249e-05 - val_loss: 5.7738e-05\n",
      "Epoch 8/100\n",
      "59/59 [==============================] - 0s 5ms/step - loss: 6.4106e-05 - val_loss: 5.1061e-05\n",
      "Epoch 9/100\n",
      "59/59 [==============================] - 0s 5ms/step - loss: 6.3796e-05 - val_loss: 4.3302e-05\n",
      "Epoch 10/100\n",
      "59/59 [==============================] - 0s 5ms/step - loss: 5.8965e-05 - val_loss: 4.9861e-05\n",
      "Epoch 11/100\n",
      "59/59 [==============================] - 0s 5ms/step - loss: 5.8321e-05 - val_loss: 3.7134e-05\n",
      "Epoch 12/100\n",
      "59/59 [==============================] - 0s 5ms/step - loss: 5.3403e-05 - val_loss: 3.7692e-05\n",
      "Epoch 13/100\n",
      "59/59 [==============================] - 0s 5ms/step - loss: 4.8444e-05 - val_loss: 4.2569e-05\n",
      "Epoch 14/100\n",
      "59/59 [==============================] - 0s 5ms/step - loss: 5.6055e-05 - val_loss: 3.6723e-05\n",
      "Epoch 15/100\n",
      "59/59 [==============================] - 0s 5ms/step - loss: 4.9471e-05 - val_loss: 4.0251e-05\n",
      "Epoch 16/100\n",
      "59/59 [==============================] - 0s 5ms/step - loss: 5.9326e-05 - val_loss: 3.5583e-05\n",
      "Epoch 17/100\n",
      "59/59 [==============================] - 0s 6ms/step - loss: 5.4589e-05 - val_loss: 4.6361e-05\n",
      "Epoch 18/100\n",
      "59/59 [==============================] - 0s 5ms/step - loss: 4.1346e-05 - val_loss: 4.1546e-05\n",
      "Epoch 19/100\n",
      "59/59 [==============================] - 0s 5ms/step - loss: 4.7615e-05 - val_loss: 3.4170e-05\n",
      "Epoch 20/100\n",
      "59/59 [==============================] - 0s 5ms/step - loss: 4.4075e-05 - val_loss: 3.5328e-05\n",
      "Epoch 21/100\n",
      "59/59 [==============================] - 0s 5ms/step - loss: 3.9196e-05 - val_loss: 4.2986e-05\n",
      "Epoch 22/100\n",
      "59/59 [==============================] - 0s 5ms/step - loss: 4.6053e-05 - val_loss: 3.8013e-05\n",
      "Epoch 23/100\n",
      "59/59 [==============================] - 0s 5ms/step - loss: 4.4459e-05 - val_loss: 3.4295e-05\n",
      "Epoch 24/100\n",
      "59/59 [==============================] - 0s 6ms/step - loss: 4.2452e-05 - val_loss: 3.2899e-05\n",
      "Epoch 25/100\n",
      "59/59 [==============================] - 0s 5ms/step - loss: 4.2313e-05 - val_loss: 3.4550e-05\n",
      "Epoch 26/100\n",
      "59/59 [==============================] - 0s 5ms/step - loss: 4.0838e-05 - val_loss: 3.3740e-05\n",
      "Epoch 27/100\n",
      "59/59 [==============================] - 0s 5ms/step - loss: 4.2806e-05 - val_loss: 3.2953e-05\n",
      "Epoch 28/100\n",
      "59/59 [==============================] - 0s 5ms/step - loss: 3.9408e-05 - val_loss: 3.5765e-05\n",
      "Epoch 29/100\n",
      "59/59 [==============================] - 0s 5ms/step - loss: 4.2686e-05 - val_loss: 3.0668e-05\n",
      "Epoch 30/100\n",
      "59/59 [==============================] - 0s 5ms/step - loss: 5.2218e-05 - val_loss: 3.5111e-05\n",
      "Epoch 31/100\n",
      "59/59 [==============================] - 0s 5ms/step - loss: 4.6643e-05 - val_loss: 4.0931e-05\n"
     ]
    }
   ],
   "source": [
    "from keras.callbacks import EarlyStopping\n",
    "\n",
    "callback = EarlyStopping(monitor='loss', patience=10, restore_best_weights=True)\n",
    "history = model.fit(X_train, y_train, validation_data=(X_test, y_test), epochs=100, batch_size=32, verbose=1, callbacks=[callback], shuffle=True)"
   ]
  },
  {
   "cell_type": "code",
   "execution_count": 10,
   "id": "bbf21b7e",
   "metadata": {
    "execution": {
     "iopub.execute_input": "2022-02-12T00:11:09.717470Z",
     "iopub.status.busy": "2022-02-12T00:11:09.715968Z",
     "iopub.status.idle": "2022-02-12T00:11:09.722292Z",
     "shell.execute_reply": "2022-02-12T00:11:09.721819Z",
     "shell.execute_reply.started": "2022-02-12T00:09:31.898956Z"
    },
    "papermill": {
     "duration": 0.085903,
     "end_time": "2022-02-12T00:11:09.722414",
     "exception": false,
     "start_time": "2022-02-12T00:11:09.636511",
     "status": "completed"
    },
    "tags": []
   },
   "outputs": [
    {
     "name": "stdout",
     "output_type": "stream",
     "text": [
      "Model: \"sequential\"\n",
      "_________________________________________________________________\n",
      "Layer (type)                 Output Shape              Param #   \n",
      "=================================================================\n",
      "lstm (LSTM)                  (None, 100)               40800     \n",
      "_________________________________________________________________\n",
      "dropout (Dropout)            (None, 100)               0         \n",
      "_________________________________________________________________\n",
      "dense (Dense)                (None, 1)                 101       \n",
      "_________________________________________________________________\n",
      "activation (Activation)      (None, 1)                 0         \n",
      "=================================================================\n",
      "Total params: 40,901\n",
      "Trainable params: 40,901\n",
      "Non-trainable params: 0\n",
      "_________________________________________________________________\n"
     ]
    }
   ],
   "source": [
    "model.summary()"
   ]
  },
  {
   "cell_type": "code",
   "execution_count": 11,
   "id": "21ab66f6",
   "metadata": {
    "execution": {
     "iopub.execute_input": "2022-02-12T00:11:09.875927Z",
     "iopub.status.busy": "2022-02-12T00:11:09.875366Z",
     "iopub.status.idle": "2022-02-12T00:11:10.241612Z",
     "shell.execute_reply": "2022-02-12T00:11:10.241016Z",
     "shell.execute_reply.started": "2022-02-12T00:09:44.669882Z"
    },
    "papermill": {
     "duration": 0.44533,
     "end_time": "2022-02-12T00:11:10.241767",
     "exception": false,
     "start_time": "2022-02-12T00:11:09.796437",
     "status": "completed"
    },
    "tags": []
   },
   "outputs": [],
   "source": [
    "from keras.metrics import mean_absolute_error\n",
    "\n",
    "X_testing = []\n",
    "y_testing = []\n",
    "\n",
    "for i in range(time_steps, len(test_data)):\n",
    "    X_testing.append(test_scaled_data[i-time_steps:i,0])\n",
    "    y_testing.append(test_scaled_data[i, 0])\n",
    "\n",
    "X_testing, y_testing = np.array(X_testing), np.array(y_testing)\n",
    "X_testing = np.reshape(X_testing, (X_testing.shape[0], X_testing.shape[1], 1))\n",
    "\n",
    "predicted_price = model.predict(X_testing)\n",
    "inv_price = sc.inverse_transform(predicted_price)\n",
    "real_price = np.reshape(y_testing, (-1,1))\n",
    "real_price = sc.inverse_transform(real_price)"
   ]
  },
  {
   "cell_type": "code",
   "execution_count": 12,
   "id": "a8257394",
   "metadata": {
    "execution": {
     "iopub.execute_input": "2022-02-12T00:11:10.433179Z",
     "iopub.status.busy": "2022-02-12T00:11:10.432345Z",
     "iopub.status.idle": "2022-02-12T00:11:10.646158Z",
     "shell.execute_reply": "2022-02-12T00:11:10.646639Z",
     "shell.execute_reply.started": "2022-02-12T00:09:59.157235Z"
    },
    "papermill": {
     "duration": 0.316076,
     "end_time": "2022-02-12T00:11:10.646799",
     "exception": false,
     "start_time": "2022-02-12T00:11:10.330723",
     "status": "completed"
    },
    "tags": []
   },
   "outputs": [
    {
     "data": {
      "text/plain": [
       "<matplotlib.legend.Legend at 0x7fdc701a8250>"
      ]
     },
     "execution_count": 12,
     "metadata": {},
     "output_type": "execute_result"
    },
    {
     "data": {
      "image/png": "[encoded data removed]",
      "text/plain": [
       "<Figure size 936x504 with 1 Axes>"
      ]
     },
     "metadata": {
      "needs_background": "light"
     },
     "output_type": "display_data"
    }
   ],
   "source": [
    "fig, ax = plt.subplots(1, figsize=(13, 7))\n",
    "ax.plot(real_price, label='Real', linewidth=2)\n",
    "ax.plot(inv_price, label='Pred', linewidth=2)\n",
    "ax.set_ylabel('Price USD', fontsize=14)\n",
    "ax.set_title('', fontsize=16)\n",
    "ax.legend(loc='best', fontsize=16)"
   ]
  }
 ],
 "metadata": {
  "kernelspec": {
   "display_name": "Python 3",
   "language": "python",
   "name": "python3"
  },
  "language_info": {
   "codemirror_mode": {
    "name": "ipython",
    "version": 3
   },
   "file_extension": ".py",
   "mimetype": "text/x-python",
   "name": "python",
   "nbconvert_exporter": "python",
   "pygments_lexer": "ipython3",
   "version": "3.7.12"
  },
  "papermill": {
   "default_parameters": {},
   "duration": 34.356803,
   "end_time": "2022-02-12T00:11:13.871425",
   "environment_variables": {},
   "exception": null,
   "input_path": "__notebook__.ipynb",
   "output_path": "__notebook__.ipynb",
   "parameters": {},
   "start_time": "2022-02-12T00:10:39.514622",
   "version": "2.3.3"
  }
 },
 "nbformat": 4,
 "nbformat_minor": 5
}
