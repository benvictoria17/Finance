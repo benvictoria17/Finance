{
 "cells": [
  {
   "cell_type": "code",
   "execution_count": 27,
   "id": "70c8b08a",
   "metadata": {},
   "outputs": [],
   "source": [
    "import pandas as pd\n",
    "import numpy as np\n",
    "import scipy as sp\n",
    "import sklearn as sk\n",
    "import matplotlib.pyplot as plt\n",
    "%matplotlib inline\n",
    "from sklearn.model_selection import cross_val_score, KFold\n",
    "from sklearn import model_selection\n",
    "from sklearn import linear_model\n",
    "from sklearn.metrics import mean_squared_error,mean_absolute_error"
   ]
  },
  {
   "cell_type": "code",
   "execution_count": 28,
   "id": "a970c8f5",
   "metadata": {},
   "outputs": [
    {
     "data": {
      "text/html": [
       "<div>\n",
       "<style scoped>\n",
       "    .dataframe tbody tr th:only-of-type {\n",
       "        vertical-align: middle;\n",
       "    }\n",
       "\n",
       "    .dataframe tbody tr th {\n",
       "        vertical-align: top;\n",
       "    }\n",
       "\n",
       "    .dataframe thead th {\n",
       "        text-align: right;\n",
       "    }\n",
       "</style>\n",
       "<table border=\"1\" class=\"dataframe\">\n",
       "  <thead>\n",
       "    <tr style=\"text-align: right;\">\n",
       "      <th></th>\n",
       "      <th>age</th>\n",
       "      <th>sex</th>\n",
       "      <th>bmi</th>\n",
       "      <th>children</th>\n",
       "      <th>smoker</th>\n",
       "      <th>region</th>\n",
       "      <th>charges</th>\n",
       "    </tr>\n",
       "  </thead>\n",
       "  <tbody>\n",
       "    <tr>\n",
       "      <th>0</th>\n",
       "      <td>19</td>\n",
       "      <td>female</td>\n",
       "      <td>27.900</td>\n",
       "      <td>0</td>\n",
       "      <td>yes</td>\n",
       "      <td>southwest</td>\n",
       "      <td>16884.92400</td>\n",
       "    </tr>\n",
       "    <tr>\n",
       "      <th>1</th>\n",
       "      <td>18</td>\n",
       "      <td>male</td>\n",
       "      <td>33.770</td>\n",
       "      <td>1</td>\n",
       "      <td>no</td>\n",
       "      <td>southeast</td>\n",
       "      <td>1725.55230</td>\n",
       "    </tr>\n",
       "    <tr>\n",
       "      <th>2</th>\n",
       "      <td>28</td>\n",
       "      <td>male</td>\n",
       "      <td>33.000</td>\n",
       "      <td>3</td>\n",
       "      <td>no</td>\n",
       "      <td>southeast</td>\n",
       "      <td>4449.46200</td>\n",
       "    </tr>\n",
       "    <tr>\n",
       "      <th>3</th>\n",
       "      <td>33</td>\n",
       "      <td>male</td>\n",
       "      <td>22.705</td>\n",
       "      <td>0</td>\n",
       "      <td>no</td>\n",
       "      <td>northwest</td>\n",
       "      <td>21984.47061</td>\n",
       "    </tr>\n",
       "    <tr>\n",
       "      <th>4</th>\n",
       "      <td>32</td>\n",
       "      <td>male</td>\n",
       "      <td>28.880</td>\n",
       "      <td>0</td>\n",
       "      <td>no</td>\n",
       "      <td>northwest</td>\n",
       "      <td>3866.85520</td>\n",
       "    </tr>\n",
       "    <tr>\n",
       "      <th>...</th>\n",
       "      <td>...</td>\n",
       "      <td>...</td>\n",
       "      <td>...</td>\n",
       "      <td>...</td>\n",
       "      <td>...</td>\n",
       "      <td>...</td>\n",
       "      <td>...</td>\n",
       "    </tr>\n",
       "    <tr>\n",
       "      <th>1333</th>\n",
       "      <td>50</td>\n",
       "      <td>male</td>\n",
       "      <td>30.970</td>\n",
       "      <td>3</td>\n",
       "      <td>no</td>\n",
       "      <td>northwest</td>\n",
       "      <td>10600.54830</td>\n",
       "    </tr>\n",
       "    <tr>\n",
       "      <th>1334</th>\n",
       "      <td>18</td>\n",
       "      <td>female</td>\n",
       "      <td>31.920</td>\n",
       "      <td>0</td>\n",
       "      <td>no</td>\n",
       "      <td>northeast</td>\n",
       "      <td>2205.98080</td>\n",
       "    </tr>\n",
       "    <tr>\n",
       "      <th>1335</th>\n",
       "      <td>18</td>\n",
       "      <td>female</td>\n",
       "      <td>36.850</td>\n",
       "      <td>0</td>\n",
       "      <td>no</td>\n",
       "      <td>southeast</td>\n",
       "      <td>1629.83350</td>\n",
       "    </tr>\n",
       "    <tr>\n",
       "      <th>1336</th>\n",
       "      <td>21</td>\n",
       "      <td>female</td>\n",
       "      <td>25.800</td>\n",
       "      <td>0</td>\n",
       "      <td>no</td>\n",
       "      <td>southwest</td>\n",
       "      <td>2007.94500</td>\n",
       "    </tr>\n",
       "    <tr>\n",
       "      <th>1337</th>\n",
       "      <td>61</td>\n",
       "      <td>female</td>\n",
       "      <td>29.070</td>\n",
       "      <td>0</td>\n",
       "      <td>yes</td>\n",
       "      <td>northwest</td>\n",
       "      <td>29141.36030</td>\n",
       "    </tr>\n",
       "  </tbody>\n",
       "</table>\n",
       "<p>1338 rows × 7 columns</p>\n",
       "</div>"
      ],
      "text/plain": [
       "      age     sex     bmi  children smoker     region      charges\n",
       "0      19  female  27.900         0    yes  southwest  16884.92400\n",
       "1      18    male  33.770         1     no  southeast   1725.55230\n",
       "2      28    male  33.000         3     no  southeast   4449.46200\n",
       "3      33    male  22.705         0     no  northwest  21984.47061\n",
       "4      32    male  28.880         0     no  northwest   3866.85520\n",
       "...   ...     ...     ...       ...    ...        ...          ...\n",
       "1333   50    male  30.970         3     no  northwest  10600.54830\n",
       "1334   18  female  31.920         0     no  northeast   2205.98080\n",
       "1335   18  female  36.850         0     no  southeast   1629.83350\n",
       "1336   21  female  25.800         0     no  southwest   2007.94500\n",
       "1337   61  female  29.070         0    yes  northwest  29141.36030\n",
       "\n",
       "[1338 rows x 7 columns]"
      ]
     },
     "execution_count": 28,
     "metadata": {},
     "output_type": "execute_result"
    }
   ],
   "source": [
    "insurance = pd.read_csv(\"https://raw.githubusercontent.com/benvictoria17/Finance/main/dataset/Medical%20Cost%20Personal%20Datasets/insurance.csv\")\n",
    "insurance"
   ]
  },
  {
   "cell_type": "code",
   "execution_count": 29,
   "id": "bffe796d",
   "metadata": {},
   "outputs": [],
   "source": [
    "def map_smoking(column):\n",
    "    mapped=[]\n",
    "    \n",
    "    for row in column:\n",
    "        \n",
    "        if row==\"yes\":\n",
    "            mapped.append(1)\n",
    "        else:\n",
    "            mapped.append(0)\n",
    "        \n",
    "        \n",
    "    return mapped\n",
    "insurance[\"smoker_norm\"]=map_smoking(insurance[\"smoker\"])"
   ]
  },
  {
   "cell_type": "code",
   "execution_count": 30,
   "id": "10f52788",
   "metadata": {},
   "outputs": [],
   "source": [
    "nonnum_cols=[col for col in insurance.select_dtypes(include=[\"object\"])]"
   ]
  },
  {
   "cell_type": "code",
   "execution_count": 31,
   "id": "f18c91c9",
   "metadata": {},
   "outputs": [],
   "source": [
    "def map_obese(column):\n",
    "    mapped=[]\n",
    "    for row in column:\n",
    "        if row>30:\n",
    "            mapped.append(1)\n",
    "        else:\n",
    "            mapped.append(0)\n",
    "    return mapped\n",
    "insurance[\"obese\"]=map_obese(insurance[\"bmi\"])"
   ]
  },
  {
   "cell_type": "code",
   "execution_count": 32,
   "id": "e009b449",
   "metadata": {},
   "outputs": [
    {
     "data": {
      "text/html": [
       "<div>\n",
       "<style scoped>\n",
       "    .dataframe tbody tr th:only-of-type {\n",
       "        vertical-align: middle;\n",
       "    }\n",
       "\n",
       "    .dataframe tbody tr th {\n",
       "        vertical-align: top;\n",
       "    }\n",
       "\n",
       "    .dataframe thead th {\n",
       "        text-align: right;\n",
       "    }\n",
       "</style>\n",
       "<table border=\"1\" class=\"dataframe\">\n",
       "  <thead>\n",
       "    <tr style=\"text-align: right;\">\n",
       "      <th></th>\n",
       "      <th>age</th>\n",
       "      <th>sex</th>\n",
       "      <th>bmi</th>\n",
       "      <th>children</th>\n",
       "      <th>smoker</th>\n",
       "      <th>region</th>\n",
       "      <th>charges</th>\n",
       "      <th>smoker_norm</th>\n",
       "      <th>obese</th>\n",
       "    </tr>\n",
       "  </thead>\n",
       "  <tbody>\n",
       "    <tr>\n",
       "      <th>0</th>\n",
       "      <td>19</td>\n",
       "      <td>female</td>\n",
       "      <td>27.900</td>\n",
       "      <td>0</td>\n",
       "      <td>yes</td>\n",
       "      <td>southwest</td>\n",
       "      <td>16884.92400</td>\n",
       "      <td>1</td>\n",
       "      <td>0</td>\n",
       "    </tr>\n",
       "    <tr>\n",
       "      <th>1</th>\n",
       "      <td>18</td>\n",
       "      <td>male</td>\n",
       "      <td>33.770</td>\n",
       "      <td>1</td>\n",
       "      <td>no</td>\n",
       "      <td>southeast</td>\n",
       "      <td>1725.55230</td>\n",
       "      <td>0</td>\n",
       "      <td>1</td>\n",
       "    </tr>\n",
       "    <tr>\n",
       "      <th>2</th>\n",
       "      <td>28</td>\n",
       "      <td>male</td>\n",
       "      <td>33.000</td>\n",
       "      <td>3</td>\n",
       "      <td>no</td>\n",
       "      <td>southeast</td>\n",
       "      <td>4449.46200</td>\n",
       "      <td>0</td>\n",
       "      <td>1</td>\n",
       "    </tr>\n",
       "    <tr>\n",
       "      <th>3</th>\n",
       "      <td>33</td>\n",
       "      <td>male</td>\n",
       "      <td>22.705</td>\n",
       "      <td>0</td>\n",
       "      <td>no</td>\n",
       "      <td>northwest</td>\n",
       "      <td>21984.47061</td>\n",
       "      <td>0</td>\n",
       "      <td>0</td>\n",
       "    </tr>\n",
       "    <tr>\n",
       "      <th>4</th>\n",
       "      <td>32</td>\n",
       "      <td>male</td>\n",
       "      <td>28.880</td>\n",
       "      <td>0</td>\n",
       "      <td>no</td>\n",
       "      <td>northwest</td>\n",
       "      <td>3866.85520</td>\n",
       "      <td>0</td>\n",
       "      <td>0</td>\n",
       "    </tr>\n",
       "  </tbody>\n",
       "</table>\n",
       "</div>"
      ],
      "text/plain": [
       "   age     sex     bmi  children smoker     region      charges  smoker_norm  \\\n",
       "0   19  female  27.900         0    yes  southwest  16884.92400            1   \n",
       "1   18    male  33.770         1     no  southeast   1725.55230            0   \n",
       "2   28    male  33.000         3     no  southeast   4449.46200            0   \n",
       "3   33    male  22.705         0     no  northwest  21984.47061            0   \n",
       "4   32    male  28.880         0     no  northwest   3866.85520            0   \n",
       "\n",
       "   obese  \n",
       "0      0  \n",
       "1      1  \n",
       "2      1  \n",
       "3      0  \n",
       "4      0  "
      ]
     },
     "execution_count": 32,
     "metadata": {},
     "output_type": "execute_result"
    }
   ],
   "source": [
    "insurance.head(5)"
   ]
  },
  {
   "cell_type": "code",
   "execution_count": 33,
   "id": "004276bf",
   "metadata": {},
   "outputs": [
    {
     "data": {
      "image/png": "[encoded data removed]",
      "text/plain": [
       "<Figure size 216x1800 with 6 Axes>"
      ]
     },
     "metadata": {
      "needs_background": "light"
     },
     "output_type": "display_data"
    }
   ],
   "source": [
    "colnum=len(insurance.columns)-3\n",
    "fig,ax=plt.subplots(colnum,1,figsize=(3,25))\n",
    "ax[0].set_ylabel(\"charges\")\n",
    "p_vals={}\n",
    "for ind,col in enumerate([i for i in insurance.columns if i not in [\"smoker\",\"region\",\"charges\",\"sex_norm\"]]):\n",
    "    \n",
    "    ax[ind].scatter(insurance[col],insurance.charges,s=5)\n",
    "    ax[ind].set_xlabel(col)\n",
    "    ax[ind].set_ylabel(\"charges\")    \n",
    "plt.show()"
   ]
  },
  {
   "cell_type": "code",
   "execution_count": 34,
   "id": "ea0ef0f7",
   "metadata": {},
   "outputs": [
    {
     "name": "stdout",
     "output_type": "stream",
     "text": [
      "age :  0.2990081933306476\n",
      "bmi :  0.1983409688336288\n",
      "children :  0.0679982268479048\n",
      "charges :  1.0\n",
      "smoker_norm :  0.7872514304984775\n",
      "obese :  0.19968322199588243\n"
     ]
    },
    {
     "data": {
      "text/plain": [
       "Text(0, 0.5, 'Absolute correlation')"
      ]
     },
     "execution_count": 34,
     "metadata": {},
     "output_type": "execute_result"
    },
    {
     "data": {
      "image/png": "[encoded data removed]",
      "text/plain": [
       "<Figure size 432x288 with 1 Axes>"
      ]
     },
     "metadata": {
      "needs_background": "light"
     },
     "output_type": "display_data"
    }
   ],
   "source": [
    "corr_vals=[]\n",
    "collabel=[]\n",
    "for col in [i for i in insurance.columns if i not in nonnum_cols]:\n",
    "    \n",
    "    p_val=sp.stats.pearsonr(insurance[col],insurance[\"charges\"])\n",
    "    corr_vals.append(np.abs(p_val[0]))\n",
    "    print(col,\": \",np.abs(p_val[0]))\n",
    "    collabel.append(col)\n",
    "plt.bar(range(1,len(corr_vals)+1),corr_vals)\n",
    "plt.xticks(range(1,len(corr_vals)+1),collabel,rotation=45)\n",
    "plt.ylabel(\"Absolute correlation\")"
   ]
  },
  {
   "cell_type": "code",
   "execution_count": 35,
   "id": "5e08ef55",
   "metadata": {},
   "outputs": [],
   "source": [
    "cols_not_reg3=['age', 'obese', 'smoker_norm']"
   ]
  },
  {
   "cell_type": "code",
   "execution_count": 36,
   "id": "ede622b4",
   "metadata": {},
   "outputs": [
    {
     "name": "stdout",
     "output_type": "stream",
     "text": [
      "a:  261.83801848327676  b:  4227.7376009403615  c:  23851.067053865718  intercept:  -4107.42213325581\n"
     ]
    }
   ],
   "source": [
    "kf=KFold(n_splits=10, random_state=1, shuffle=True)\n",
    "intercepts=[]\n",
    "mses=[]\n",
    "coefs=[]\n",
    "\n",
    "for train_index, test_index in kf.split(insurance[cols_not_reg3]):\n",
    "    \n",
    "    lr=linear_model.LinearRegression()\n",
    "    lr.fit(insurance[cols_not_reg3].iloc[train_index],insurance[\"charges\"].iloc[train_index])\n",
    "    lr_predictions=lr.predict(insurance[cols_not_reg3].iloc[test_index])\n",
    "    \n",
    "    lr_mse=mean_squared_error(insurance[\"charges\"].iloc[test_index],lr_predictions)\n",
    "    \n",
    "    intercepts.append(lr.intercept_)\n",
    "    \n",
    "    coefs.append(lr.coef_)\n",
    "    mses.append(lr_mse)\n",
    "    \n",
    "rmses=[x**.5 for x in mses]\n",
    "avg_rmse=np.mean(rmses)\n",
    "avg_intercept=np.mean(intercepts)\n",
    "age_coefs=[]\n",
    "obesity_coefs=[]\n",
    "smoking_coefs=[]\n",
    "for vals in coefs:\n",
    "    age_coefs.append(vals[0])\n",
    "    obesity_coefs.append(vals[1])\n",
    "    smoking_coefs.append(vals[2])\n",
    "age_coef=np.mean(age_coefs)\n",
    "obesity_coef=np.mean(obesity_coefs)\n",
    "smoking_coef=np.mean(smoking_coefs)\n",
    "print(\"a: \",age_coef,\" b: \",obesity_coef,\" c: \",smoking_coef,\" intercept: \",avg_intercept)"
   ]
  },
  {
   "cell_type": "code",
   "execution_count": 37,
   "id": "f39b52c3",
   "metadata": {},
   "outputs": [],
   "source": [
    "def calculate_insurance(age,obesity,smoking):\n",
    "    y=(age_coef*age)+(obesity_coef*obesity)+(smoking_coef*smoking)+avg_intercept\n",
    "    return y"
   ]
  },
  {
   "cell_type": "code",
   "execution_count": 38,
   "id": "e6706670",
   "metadata": {},
   "outputs": [
    {
     "name": "stdout",
     "output_type": "stream",
     "text": [
      "32873.87514998168\n"
     ]
    }
   ],
   "source": [
    "print(calculate_insurance(34,1,1))"
   ]
  }
 ],
 "metadata": {
  "kernelspec": {
   "display_name": "Python 3",
   "language": "python",
   "name": "python3"
  },
  "language_info": {
   "codemirror_mode": {
    "name": "ipython",
    "version": 3
   },
   "file_extension": ".py",
   "mimetype": "text/x-python",
   "name": "python",
   "nbconvert_exporter": "python",
   "pygments_lexer": "ipython3",
   "version": "3.9.5"
  }
 },
 "nbformat": 4,
 "nbformat_minor": 5
}
