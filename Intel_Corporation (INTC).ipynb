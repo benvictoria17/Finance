{
 "cells": [
  {
   "cell_type": "code",
   "execution_count": 78,
   "metadata": {
    "id": "94Or_XZkunjZ"
   },
   "outputs": [],
   "source": [
    "import pandas as pd \n",
    "import numpy as np \n",
    "import matplotlib.pyplot as plt\n",
    "import seaborn as sns\n",
    "import yfinance "
   ]
  },
  {
   "cell_type": "code",
   "execution_count": 79,
   "metadata": {
    "id": "vvO2cxR3unjh"
   },
   "outputs": [],
   "source": [
    "INTC = \"INTC\""
   ]
  },
  {
   "cell_type": "code",
   "execution_count": 80,
   "metadata": {
    "id": "JZgTQptnunjh",
    "outputId": "e96f70e1-9a77-4681-a39d-4fc73127adfa"
   },
   "outputs": [
    {
     "name": "stdout",
     "output_type": "stream",
     "text": [
      "[*********************100%***********************]  1 of 1 completed\n"
     ]
    },
    {
     "data": {
      "text/html": [
       "<div>\n",
       "<style scoped>\n",
       "    .dataframe tbody tr th:only-of-type {\n",
       "        vertical-align: middle;\n",
       "    }\n",
       "\n",
       "    .dataframe tbody tr th {\n",
       "        vertical-align: top;\n",
       "    }\n",
       "\n",
       "    .dataframe thead th {\n",
       "        text-align: right;\n",
       "    }\n",
       "</style>\n",
       "<table border=\"1\" class=\"dataframe\">\n",
       "  <thead>\n",
       "    <tr style=\"text-align: right;\">\n",
       "      <th></th>\n",
       "      <th>Open</th>\n",
       "      <th>High</th>\n",
       "      <th>Low</th>\n",
       "      <th>Close</th>\n",
       "      <th>Adj Close</th>\n",
       "      <th>Volume</th>\n",
       "    </tr>\n",
       "    <tr>\n",
       "      <th>Date</th>\n",
       "      <th></th>\n",
       "      <th></th>\n",
       "      <th></th>\n",
       "      <th></th>\n",
       "      <th></th>\n",
       "      <th></th>\n",
       "    </tr>\n",
       "  </thead>\n",
       "  <tbody>\n",
       "    <tr>\n",
       "      <th>1980-03-17</th>\n",
       "      <td>0.325521</td>\n",
       "      <td>0.330729</td>\n",
       "      <td>0.325521</td>\n",
       "      <td>0.325521</td>\n",
       "      <td>0.200768</td>\n",
       "      <td>10924800</td>\n",
       "    </tr>\n",
       "    <tr>\n",
       "      <th>1980-03-18</th>\n",
       "      <td>0.325521</td>\n",
       "      <td>0.328125</td>\n",
       "      <td>0.322917</td>\n",
       "      <td>0.322917</td>\n",
       "      <td>0.199162</td>\n",
       "      <td>17068800</td>\n",
       "    </tr>\n",
       "    <tr>\n",
       "      <th>1980-03-19</th>\n",
       "      <td>0.330729</td>\n",
       "      <td>0.335938</td>\n",
       "      <td>0.330729</td>\n",
       "      <td>0.330729</td>\n",
       "      <td>0.203981</td>\n",
       "      <td>18508800</td>\n",
       "    </tr>\n",
       "    <tr>\n",
       "      <th>1980-03-20</th>\n",
       "      <td>0.330729</td>\n",
       "      <td>0.334635</td>\n",
       "      <td>0.329427</td>\n",
       "      <td>0.329427</td>\n",
       "      <td>0.203178</td>\n",
       "      <td>11174400</td>\n",
       "    </tr>\n",
       "    <tr>\n",
       "      <th>1980-03-21</th>\n",
       "      <td>0.322917</td>\n",
       "      <td>0.322917</td>\n",
       "      <td>0.317708</td>\n",
       "      <td>0.317708</td>\n",
       "      <td>0.195950</td>\n",
       "      <td>12172800</td>\n",
       "    </tr>\n",
       "    <tr>\n",
       "      <th>...</th>\n",
       "      <td>...</td>\n",
       "      <td>...</td>\n",
       "      <td>...</td>\n",
       "      <td>...</td>\n",
       "      <td>...</td>\n",
       "      <td>...</td>\n",
       "    </tr>\n",
       "    <tr>\n",
       "      <th>2021-01-28</th>\n",
       "      <td>54.790001</td>\n",
       "      <td>57.400002</td>\n",
       "      <td>54.700001</td>\n",
       "      <td>56.070000</td>\n",
       "      <td>56.070000</td>\n",
       "      <td>49202600</td>\n",
       "    </tr>\n",
       "    <tr>\n",
       "      <th>2021-01-29</th>\n",
       "      <td>55.980000</td>\n",
       "      <td>57.160000</td>\n",
       "      <td>55.360001</td>\n",
       "      <td>55.509998</td>\n",
       "      <td>55.509998</td>\n",
       "      <td>37238000</td>\n",
       "    </tr>\n",
       "    <tr>\n",
       "      <th>2021-02-01</th>\n",
       "      <td>55.950001</td>\n",
       "      <td>57.389999</td>\n",
       "      <td>55.709999</td>\n",
       "      <td>56.689999</td>\n",
       "      <td>56.689999</td>\n",
       "      <td>26926600</td>\n",
       "    </tr>\n",
       "    <tr>\n",
       "      <th>2021-02-02</th>\n",
       "      <td>57.189999</td>\n",
       "      <td>58.279999</td>\n",
       "      <td>56.880001</td>\n",
       "      <td>58.000000</td>\n",
       "      <td>58.000000</td>\n",
       "      <td>23552700</td>\n",
       "    </tr>\n",
       "    <tr>\n",
       "      <th>2021-02-03</th>\n",
       "      <td>57.894299</td>\n",
       "      <td>58.330002</td>\n",
       "      <td>57.380001</td>\n",
       "      <td>57.825001</td>\n",
       "      <td>57.825001</td>\n",
       "      <td>7657237</td>\n",
       "    </tr>\n",
       "  </tbody>\n",
       "</table>\n",
       "<p>10310 rows × 6 columns</p>\n",
       "</div>"
      ],
      "text/plain": [
       "                 Open       High        Low      Close  Adj Close    Volume\n",
       "Date                                                                       \n",
       "1980-03-17   0.325521   0.330729   0.325521   0.325521   0.200768  10924800\n",
       "1980-03-18   0.325521   0.328125   0.322917   0.322917   0.199162  17068800\n",
       "1980-03-19   0.330729   0.335938   0.330729   0.330729   0.203981  18508800\n",
       "1980-03-20   0.330729   0.334635   0.329427   0.329427   0.203178  11174400\n",
       "1980-03-21   0.322917   0.322917   0.317708   0.317708   0.195950  12172800\n",
       "...               ...        ...        ...        ...        ...       ...\n",
       "2021-01-28  54.790001  57.400002  54.700001  56.070000  56.070000  49202600\n",
       "2021-01-29  55.980000  57.160000  55.360001  55.509998  55.509998  37238000\n",
       "2021-02-01  55.950001  57.389999  55.709999  56.689999  56.689999  26926600\n",
       "2021-02-02  57.189999  58.279999  56.880001  58.000000  58.000000  23552700\n",
       "2021-02-03  57.894299  58.330002  57.380001  57.825001  57.825001   7657237\n",
       "\n",
       "[10310 rows x 6 columns]"
      ]
     },
     "execution_count": 80,
     "metadata": {},
     "output_type": "execute_result"
    }
   ],
   "source": [
    "INTC = yfinance.download(\"INTC\")\n",
    "\n",
    "INTC"
   ]
  },
  {
   "cell_type": "code",
   "execution_count": 81,
   "metadata": {
    "id": "G9WXLsYbunji",
    "outputId": "870f3342-f3fb-45e0-9fbc-b88683578552"
   },
   "outputs": [
    {
     "data": {
      "text/html": [
       "<div>\n",
       "<style scoped>\n",
       "    .dataframe tbody tr th:only-of-type {\n",
       "        vertical-align: middle;\n",
       "    }\n",
       "\n",
       "    .dataframe tbody tr th {\n",
       "        vertical-align: top;\n",
       "    }\n",
       "\n",
       "    .dataframe thead th {\n",
       "        text-align: right;\n",
       "    }\n",
       "</style>\n",
       "<table border=\"1\" class=\"dataframe\">\n",
       "  <thead>\n",
       "    <tr style=\"text-align: right;\">\n",
       "      <th></th>\n",
       "      <th>Open</th>\n",
       "      <th>High</th>\n",
       "      <th>Low</th>\n",
       "      <th>Close</th>\n",
       "      <th>Adj Close</th>\n",
       "      <th>Volume</th>\n",
       "    </tr>\n",
       "    <tr>\n",
       "      <th>Date</th>\n",
       "      <th></th>\n",
       "      <th></th>\n",
       "      <th></th>\n",
       "      <th></th>\n",
       "      <th></th>\n",
       "      <th></th>\n",
       "    </tr>\n",
       "  </thead>\n",
       "  <tbody>\n",
       "    <tr>\n",
       "      <th>2021-01-28</th>\n",
       "      <td>54.790001</td>\n",
       "      <td>57.400002</td>\n",
       "      <td>54.700001</td>\n",
       "      <td>56.070000</td>\n",
       "      <td>56.070000</td>\n",
       "      <td>49202600</td>\n",
       "    </tr>\n",
       "    <tr>\n",
       "      <th>2021-01-29</th>\n",
       "      <td>55.980000</td>\n",
       "      <td>57.160000</td>\n",
       "      <td>55.360001</td>\n",
       "      <td>55.509998</td>\n",
       "      <td>55.509998</td>\n",
       "      <td>37238000</td>\n",
       "    </tr>\n",
       "    <tr>\n",
       "      <th>2021-02-01</th>\n",
       "      <td>55.950001</td>\n",
       "      <td>57.389999</td>\n",
       "      <td>55.709999</td>\n",
       "      <td>56.689999</td>\n",
       "      <td>56.689999</td>\n",
       "      <td>26926600</td>\n",
       "    </tr>\n",
       "    <tr>\n",
       "      <th>2021-02-02</th>\n",
       "      <td>57.189999</td>\n",
       "      <td>58.279999</td>\n",
       "      <td>56.880001</td>\n",
       "      <td>58.000000</td>\n",
       "      <td>58.000000</td>\n",
       "      <td>23552700</td>\n",
       "    </tr>\n",
       "    <tr>\n",
       "      <th>2021-02-03</th>\n",
       "      <td>57.894299</td>\n",
       "      <td>58.330002</td>\n",
       "      <td>57.380001</td>\n",
       "      <td>57.825001</td>\n",
       "      <td>57.825001</td>\n",
       "      <td>7657237</td>\n",
       "    </tr>\n",
       "  </tbody>\n",
       "</table>\n",
       "</div>"
      ],
      "text/plain": [
       "                 Open       High        Low      Close  Adj Close    Volume\n",
       "Date                                                                       \n",
       "2021-01-28  54.790001  57.400002  54.700001  56.070000  56.070000  49202600\n",
       "2021-01-29  55.980000  57.160000  55.360001  55.509998  55.509998  37238000\n",
       "2021-02-01  55.950001  57.389999  55.709999  56.689999  56.689999  26926600\n",
       "2021-02-02  57.189999  58.279999  56.880001  58.000000  58.000000  23552700\n",
       "2021-02-03  57.894299  58.330002  57.380001  57.825001  57.825001   7657237"
      ]
     },
     "execution_count": 81,
     "metadata": {},
     "output_type": "execute_result"
    }
   ],
   "source": [
    "INTC.tail()"
   ]
  },
  {
   "cell_type": "code",
   "execution_count": 82,
   "metadata": {
    "id": "sH55MzJmunjj",
    "outputId": "d36053e3-dc05-4811-f488-e269d6187f5e"
   },
   "outputs": [
    {
     "data": {
      "text/html": [
       "<div>\n",
       "<style scoped>\n",
       "    .dataframe tbody tr th:only-of-type {\n",
       "        vertical-align: middle;\n",
       "    }\n",
       "\n",
       "    .dataframe tbody tr th {\n",
       "        vertical-align: top;\n",
       "    }\n",
       "\n",
       "    .dataframe thead th {\n",
       "        text-align: right;\n",
       "    }\n",
       "</style>\n",
       "<table border=\"1\" class=\"dataframe\">\n",
       "  <thead>\n",
       "    <tr style=\"text-align: right;\">\n",
       "      <th></th>\n",
       "      <th>Open</th>\n",
       "      <th>High</th>\n",
       "      <th>Low</th>\n",
       "      <th>Close</th>\n",
       "      <th>Adj Close</th>\n",
       "      <th>Volume</th>\n",
       "    </tr>\n",
       "  </thead>\n",
       "  <tbody>\n",
       "    <tr>\n",
       "      <th>count</th>\n",
       "      <td>10310.000000</td>\n",
       "      <td>10310.000000</td>\n",
       "      <td>10310.000000</td>\n",
       "      <td>10310.000000</td>\n",
       "      <td>10310.000000</td>\n",
       "      <td>1.031000e+04</td>\n",
       "    </tr>\n",
       "    <tr>\n",
       "      <th>mean</th>\n",
       "      <td>18.510017</td>\n",
       "      <td>18.767176</td>\n",
       "      <td>18.258281</td>\n",
       "      <td>18.510539</td>\n",
       "      <td>14.192332</td>\n",
       "      <td>5.139280e+07</td>\n",
       "    </tr>\n",
       "    <tr>\n",
       "      <th>std</th>\n",
       "      <td>16.755015</td>\n",
       "      <td>16.997091</td>\n",
       "      <td>16.525709</td>\n",
       "      <td>16.756945</td>\n",
       "      <td>14.549054</td>\n",
       "      <td>3.542343e+07</td>\n",
       "    </tr>\n",
       "    <tr>\n",
       "      <th>min</th>\n",
       "      <td>0.218750</td>\n",
       "      <td>0.218750</td>\n",
       "      <td>0.216146</td>\n",
       "      <td>0.216146</td>\n",
       "      <td>0.133310</td>\n",
       "      <td>0.000000e+00</td>\n",
       "    </tr>\n",
       "    <tr>\n",
       "      <th>25%</th>\n",
       "      <td>1.188802</td>\n",
       "      <td>1.218750</td>\n",
       "      <td>1.171875</td>\n",
       "      <td>1.195313</td>\n",
       "      <td>0.737222</td>\n",
       "      <td>2.727222e+07</td>\n",
       "    </tr>\n",
       "    <tr>\n",
       "      <th>50%</th>\n",
       "      <td>19.520000</td>\n",
       "      <td>19.790001</td>\n",
       "      <td>19.280001</td>\n",
       "      <td>19.525001</td>\n",
       "      <td>12.929085</td>\n",
       "      <td>4.576950e+07</td>\n",
       "    </tr>\n",
       "    <tr>\n",
       "      <th>75%</th>\n",
       "      <td>28.177500</td>\n",
       "      <td>28.559999</td>\n",
       "      <td>27.747500</td>\n",
       "      <td>28.190001</td>\n",
       "      <td>19.682407</td>\n",
       "      <td>6.572275e+07</td>\n",
       "    </tr>\n",
       "    <tr>\n",
       "      <th>max</th>\n",
       "      <td>75.625000</td>\n",
       "      <td>75.828125</td>\n",
       "      <td>73.625000</td>\n",
       "      <td>74.875000</td>\n",
       "      <td>66.808777</td>\n",
       "      <td>5.677088e+08</td>\n",
       "    </tr>\n",
       "  </tbody>\n",
       "</table>\n",
       "</div>"
      ],
      "text/plain": [
       "               Open          High           Low         Close     Adj Close  \\\n",
       "count  10310.000000  10310.000000  10310.000000  10310.000000  10310.000000   \n",
       "mean      18.510017     18.767176     18.258281     18.510539     14.192332   \n",
       "std       16.755015     16.997091     16.525709     16.756945     14.549054   \n",
       "min        0.218750      0.218750      0.216146      0.216146      0.133310   \n",
       "25%        1.188802      1.218750      1.171875      1.195313      0.737222   \n",
       "50%       19.520000     19.790001     19.280001     19.525001     12.929085   \n",
       "75%       28.177500     28.559999     27.747500     28.190001     19.682407   \n",
       "max       75.625000     75.828125     73.625000     74.875000     66.808777   \n",
       "\n",
       "             Volume  \n",
       "count  1.031000e+04  \n",
       "mean   5.139280e+07  \n",
       "std    3.542343e+07  \n",
       "min    0.000000e+00  \n",
       "25%    2.727222e+07  \n",
       "50%    4.576950e+07  \n",
       "75%    6.572275e+07  \n",
       "max    5.677088e+08  "
      ]
     },
     "execution_count": 82,
     "metadata": {},
     "output_type": "execute_result"
    }
   ],
   "source": [
    "INTC.describe()"
   ]
  },
  {
   "cell_type": "code",
   "execution_count": 83,
   "metadata": {
    "id": "xHl6Aippunjj",
    "outputId": "e71cc87f-968a-4a51-f789-da0656b29277"
   },
   "outputs": [
    {
     "name": "stdout",
     "output_type": "stream",
     "text": [
      "<class 'pandas.core.frame.DataFrame'>\n",
      "DatetimeIndex: 10310 entries, 1980-03-17 to 2021-02-03\n",
      "Data columns (total 6 columns):\n",
      " #   Column     Non-Null Count  Dtype  \n",
      "---  ------     --------------  -----  \n",
      " 0   Open       10310 non-null  float64\n",
      " 1   High       10310 non-null  float64\n",
      " 2   Low        10310 non-null  float64\n",
      " 3   Close      10310 non-null  float64\n",
      " 4   Adj Close  10310 non-null  float64\n",
      " 5   Volume     10310 non-null  int64  \n",
      "dtypes: float64(5), int64(1)\n",
      "memory usage: 563.8 KB\n"
     ]
    }
   ],
   "source": [
    "INTC.info()"
   ]
  },
  {
   "cell_type": "code",
   "execution_count": 84,
   "metadata": {
    "id": "SPDAlAmkunjk",
    "outputId": "30c65b7e-5df7-4e7f-c440-105756d22913"
   },
   "outputs": [
    {
     "data": {
      "text/plain": [
       "Open         float64\n",
       "High         float64\n",
       "Low          float64\n",
       "Close        float64\n",
       "Adj Close    float64\n",
       "Volume         int64\n",
       "dtype: object"
      ]
     },
     "execution_count": 84,
     "metadata": {},
     "output_type": "execute_result"
    }
   ],
   "source": [
    "INTC.dtypes"
   ]
  },
  {
   "cell_type": "code",
   "execution_count": 85,
   "metadata": {
    "id": "ppMur0Bxunjk",
    "outputId": "a7d1ba96-b2b8-4932-9e5d-f54c96e6bf3c"
   },
   "outputs": [
    {
     "data": {
      "text/plain": [
       "<bound method DataFrame.count of                  Open       High        Low      Close  Adj Close    Volume\n",
       "Date                                                                       \n",
       "1980-03-17   0.325521   0.330729   0.325521   0.325521   0.200768  10924800\n",
       "1980-03-18   0.325521   0.328125   0.322917   0.322917   0.199162  17068800\n",
       "1980-03-19   0.330729   0.335938   0.330729   0.330729   0.203981  18508800\n",
       "1980-03-20   0.330729   0.334635   0.329427   0.329427   0.203178  11174400\n",
       "1980-03-21   0.322917   0.322917   0.317708   0.317708   0.195950  12172800\n",
       "...               ...        ...        ...        ...        ...       ...\n",
       "2021-01-28  54.790001  57.400002  54.700001  56.070000  56.070000  49202600\n",
       "2021-01-29  55.980000  57.160000  55.360001  55.509998  55.509998  37238000\n",
       "2021-02-01  55.950001  57.389999  55.709999  56.689999  56.689999  26926600\n",
       "2021-02-02  57.189999  58.279999  56.880001  58.000000  58.000000  23552700\n",
       "2021-02-03  57.894299  58.330002  57.380001  57.825001  57.825001   7657237\n",
       "\n",
       "[10310 rows x 6 columns]>"
      ]
     },
     "execution_count": 85,
     "metadata": {},
     "output_type": "execute_result"
    }
   ],
   "source": [
    "INTC.count"
   ]
  },
  {
   "cell_type": "code",
   "execution_count": 87,
   "metadata": {
    "id": "Sai7IagIunjl",
    "outputId": "76419146-d91b-405a-b2fa-61c97e42b608"
   },
   "outputs": [
    {
     "data": {
      "text/plain": [
       "Open         1.908383e+05\n",
       "High         1.934896e+05\n",
       "Low          1.882429e+05\n",
       "Close        1.908437e+05\n",
       "Adj Close    1.463229e+05\n",
       "Volume       5.298598e+11\n",
       "dtype: float64"
      ]
     },
     "execution_count": 87,
     "metadata": {},
     "output_type": "execute_result"
    }
   ],
   "source": [
    "INTC.sum()"
   ]
  },
  {
   "cell_type": "code",
   "execution_count": null,
   "metadata": {
    "id": "L5Pyn8b9unjl",
    "outputId": "44b57c2f-99d4-4155-9dfd-880a9beeff5f"
   },
   "outputs": [],
   "source": [
    "INTC.all()"
   ]
  },
  {
   "cell_type": "code",
   "execution_count": null,
   "metadata": {
    "id": "xDT6jOGDunjm",
    "outputId": "76c6abed-a47e-4d73-da01-8b34166fcf36"
   },
   "outputs": [],
   "source": [
    "INTC.any()"
   ]
  },
  {
   "cell_type": "code",
   "execution_count": null,
   "metadata": {
    "id": "CwAqRjr5unjm",
    "outputId": "7b341f84-a69d-4a82-ae48-480d5568ce04"
   },
   "outputs": [],
   "source": [
    "INTC.abs()"
   ]
  },
  {
   "cell_type": "code",
   "execution_count": null,
   "metadata": {
    "id": "pNPRXSHAunjm",
    "outputId": "2256e60b-bc5f-4d9f-d46f-6c5c7372663a"
   },
   "outputs": [],
   "source": [
    "INTC.add"
   ]
  },
  {
   "cell_type": "code",
   "execution_count": null,
   "metadata": {
    "id": "X9PhS--Xunjm",
    "outputId": "20c71560-4f8c-429b-c966-63be0a784d62"
   },
   "outputs": [],
   "source": [
    "INTC.add_prefix"
   ]
  },
  {
   "cell_type": "code",
   "execution_count": 88,
   "metadata": {
    "id": "cFTbEQc0unjn",
    "outputId": "f1044b59-4f4d-484b-acd6-32fccb44c2c1"
   },
   "outputs": [
    {
     "data": {
      "text/plain": [
       "<bound method NDFrame.add_suffix of                  Open       High        Low      Close  Adj Close    Volume\n",
       "Date                                                                       \n",
       "1980-03-17   0.325521   0.330729   0.325521   0.325521   0.200768  10924800\n",
       "1980-03-18   0.325521   0.328125   0.322917   0.322917   0.199162  17068800\n",
       "1980-03-19   0.330729   0.335938   0.330729   0.330729   0.203981  18508800\n",
       "1980-03-20   0.330729   0.334635   0.329427   0.329427   0.203178  11174400\n",
       "1980-03-21   0.322917   0.322917   0.317708   0.317708   0.195950  12172800\n",
       "...               ...        ...        ...        ...        ...       ...\n",
       "2021-01-28  54.790001  57.400002  54.700001  56.070000  56.070000  49202600\n",
       "2021-01-29  55.980000  57.160000  55.360001  55.509998  55.509998  37238000\n",
       "2021-02-01  55.950001  57.389999  55.709999  56.689999  56.689999  26926600\n",
       "2021-02-02  57.189999  58.279999  56.880001  58.000000  58.000000  23552700\n",
       "2021-02-03  57.894299  58.330002  57.380001  57.825001  57.825001   7657237\n",
       "\n",
       "[10310 rows x 6 columns]>"
      ]
     },
     "execution_count": 88,
     "metadata": {},
     "output_type": "execute_result"
    }
   ],
   "source": [
    "INTC.add_suffix"
   ]
  },
  {
   "cell_type": "code",
   "execution_count": null,
   "metadata": {
    "id": "3PL_W2feunjn",
    "outputId": "df7f62c6-0a55-4fcf-b90f-c52c4c251c6c"
   },
   "outputs": [],
   "source": [
    "uber.agg"
   ]
  },
  {
   "cell_type": "code",
   "execution_count": null,
   "metadata": {
    "id": "ERSiyyhhunjn",
    "outputId": "dba3e8d5-7566-462a-b663-40f4f27bf3f4"
   },
   "outputs": [],
   "source": [
    "uber.aggregate"
   ]
  },
  {
   "cell_type": "code",
   "execution_count": null,
   "metadata": {
    "id": "UCwBuEvRunjo",
    "outputId": "0210e8fb-15e8-426d-cd56-c8b80c6c3c24"
   },
   "outputs": [],
   "source": [
    "uber.align"
   ]
  },
  {
   "cell_type": "code",
   "execution_count": null,
   "metadata": {
    "id": "_hVz26iPunjo",
    "outputId": "8f75eee5-7ee9-40c9-9ce4-ea969b212d32"
   },
   "outputs": [],
   "source": [
    "uber.align"
   ]
  },
  {
   "cell_type": "code",
   "execution_count": null,
   "metadata": {
    "id": "4tU40SYyunjp",
    "outputId": "5a21b8d5-b8bb-484d-e746-58e36674d991"
   },
   "outputs": [],
   "source": [
    "uber.align"
   ]
  },
  {
   "cell_type": "code",
   "execution_count": null,
   "metadata": {
    "id": "x5Icv8lsunjp",
    "outputId": "7d133adb-c1ec-4d68-b569-9fe3a36e4125"
   },
   "outputs": [],
   "source": [
    "INTC.append"
   ]
  },
  {
   "cell_type": "code",
   "execution_count": null,
   "metadata": {
    "id": "H4W0v2qKunjq",
    "outputId": "98686604-e3c5-4fba-9027-af12d6a581f1"
   },
   "outputs": [],
   "source": [
    "INTC.append"
   ]
  },
  {
   "cell_type": "code",
   "execution_count": null,
   "metadata": {
    "id": "Mq3KCScuunjq",
    "outputId": "643b7411-f0a5-4f9c-ebf0-a0232bf62385"
   },
   "outputs": [],
   "source": [
    "INTC.join"
   ]
  },
  {
   "cell_type": "code",
   "execution_count": null,
   "metadata": {
    "id": "8wDvKVqVunjq",
    "outputId": "48ddb9ec-b9c4-4abf-9818-e7b5e98a3d71"
   },
   "outputs": [],
   "source": [
    "tips = sns.load_dataset(\"tips\")\n",
    "sns.relplot(x=\"total_bill\", y=\"tip\", data=tips);"
   ]
  },
  {
   "cell_type": "code",
   "execution_count": null,
   "metadata": {
    "id": "ZioWjOptunjr",
    "outputId": "b865b327-92d7-48df-d92b-32ce9182ec09"
   },
   "outputs": [],
   "source": [
    "sns.relplot(x=\"total_bill\", y=\"tip\", hue=\"smoker\", style=\"smoker\",\n",
    "            data=tips);"
   ]
  },
  {
   "cell_type": "code",
   "execution_count": null,
   "metadata": {
    "id": "FDElHRxuunjr",
    "outputId": "15c02da4-a17e-4435-dc6d-2a6869d15d76"
   },
   "outputs": [],
   "source": [
    "sns.relplot(x=\"total_bill\", y=\"tip\", hue=\"smoker\", style=\"time\", data=tips);"
   ]
  },
  {
   "cell_type": "code",
   "execution_count": null,
   "metadata": {
    "id": "KOpftamLunjs",
    "outputId": "551704a7-8e01-4fe0-889e-2025afc5987a"
   },
   "outputs": [],
   "source": [
    "sns.relplot(x=\"total_bill\", y=\"tip\", hue=\"size\", data=tips);"
   ]
  },
  {
   "cell_type": "code",
   "execution_count": null,
   "metadata": {
    "id": "08Z8iAe0unjs",
    "outputId": "13ac7b19-4c70-4951-cee9-065a23eecd5e"
   },
   "outputs": [],
   "source": [
    "sns.relplot(x=\"total_bill\", y=\"tip\", hue=\"size\", palette=\"ch:r=-.5,l=.75\", data=tips);"
   ]
  },
  {
   "cell_type": "code",
   "execution_count": null,
   "metadata": {
    "id": "7IRocA76unjs",
    "outputId": "d058ca45-d041-47e5-b207-021dae28063b"
   },
   "outputs": [],
   "source": [
    "sns.relplot(x=\"total_bill\", y=\"tip\", size=\"size\", data=tips);"
   ]
  },
  {
   "cell_type": "code",
   "execution_count": null,
   "metadata": {
    "id": "7VAsNWs6unjt",
    "outputId": "a673d932-2ef0-47ea-b883-dcba494c8dcb"
   },
   "outputs": [],
   "source": [
    "sns.relplot(x=\"total_bill\", y=\"tip\", size=\"size\", sizes=(15, 200), data=tips);"
   ]
  },
  {
   "cell_type": "code",
   "execution_count": null,
   "metadata": {
    "id": "eHSjOd6Qunjt",
    "outputId": "09310f50-7d50-4a0c-bf38-d98420b2b55e"
   },
   "outputs": [],
   "source": [
    "df = pd.DataFrame(dict(time=np.arange(500),\n",
    "                       value=np.random.randn(500).cumsum()))\n",
    "g = sns.relplot(x=\"time\", y=\"value\", kind=\"line\", data=df)\n",
    "g.fig.autofmt_xdate()"
   ]
  },
  {
   "cell_type": "code",
   "execution_count": null,
   "metadata": {
    "id": "aP5PXycFunjt",
    "outputId": "f4a216a2-0356-4fa0-891b-93a48c001af2"
   },
   "outputs": [],
   "source": [
    "df = pd.DataFrame(np.random.randn(500, 2).cumsum(axis=0), columns=[\"x\", \"y\"])\n",
    "sns.relplot(x=\"x\", y=\"y\", sort=False, kind=\"line\", data=df);"
   ]
  },
  {
   "cell_type": "code",
   "execution_count": null,
   "metadata": {
    "id": "5AcJTnyqunju",
    "outputId": "880bb7d8-a7f3-45b6-9dac-a071cceaba28"
   },
   "outputs": [],
   "source": [
    "fmri = sns.load_dataset(\"fmri\")\n",
    "sns.relplot(x=\"timepoint\", y=\"signal\", kind=\"line\", data=fmri);"
   ]
  },
  {
   "cell_type": "code",
   "execution_count": null,
   "metadata": {
    "id": "NvcivKRVunju",
    "outputId": "9f0e561e-1d10-40cf-cefc-b713f1b063fb"
   },
   "outputs": [],
   "source": [
    "sns.relplot(x=\"timepoint\", y=\"signal\", ci=None, kind=\"line\", data=fmri);"
   ]
  },
  {
   "cell_type": "code",
   "execution_count": null,
   "metadata": {
    "id": "Owt8rMh3unju",
    "outputId": "0a2f08b2-0d29-46ee-fd42-4b7544e0aaf3"
   },
   "outputs": [],
   "source": [
    "sns.relplot(x=\"timepoint\", y=\"signal\", kind=\"line\", ci=\"sd\", data=fmri);"
   ]
  },
  {
   "cell_type": "code",
   "execution_count": null,
   "metadata": {
    "id": "FiwQfnfGunjv",
    "outputId": "2d2ce9f6-6a19-4c79-a3e1-2d85602a3195"
   },
   "outputs": [],
   "source": [
    "sns.relplot(x=\"timepoint\", y=\"signal\", estimator=None, kind=\"line\", data=fmri);"
   ]
  },
  {
   "cell_type": "code",
   "execution_count": null,
   "metadata": {
    "id": "6-KTeNEQunjv",
    "outputId": "90181ca1-85aa-4305-df79-59f375c36d07"
   },
   "outputs": [],
   "source": [
    "sns.relplot(x=\"timepoint\", y=\"signal\", hue=\"event\", kind=\"line\", data=fmri);"
   ]
  },
  {
   "cell_type": "code",
   "execution_count": null,
   "metadata": {
    "id": "2-4mGMgPunjv",
    "outputId": "0dc0d32b-4adf-4287-ba07-c4b46725b718"
   },
   "outputs": [],
   "source": [
    "sns.relplot(x=\"timepoint\", y=\"signal\", hue=\"region\", style=\"event\",\n",
    "            kind=\"line\", data=fmri);"
   ]
  },
  {
   "cell_type": "code",
   "execution_count": null,
   "metadata": {
    "id": "gikazAiaunjv",
    "outputId": "a74cc502-b70c-440d-80cb-7d7a976c0f08"
   },
   "outputs": [],
   "source": [
    "sns.relplot(x=\"timepoint\", y=\"signal\", hue=\"region\", style=\"event\",\n",
    "            dashes=False, markers=True, kind=\"line\", data=fmri);"
   ]
  },
  {
   "cell_type": "code",
   "execution_count": null,
   "metadata": {
    "id": "VG6u2HfHunjw",
    "outputId": "9cfef4d9-3329-4699-ff6b-498d80c53ebd"
   },
   "outputs": [],
   "source": [
    "sns.relplot(x=\"timepoint\", y=\"signal\", hue=\"event\", style=\"event\",\n",
    "            kind=\"line\", data=fmri);"
   ]
  },
  {
   "cell_type": "code",
   "execution_count": null,
   "metadata": {
    "id": "GWEYbemjunjw",
    "outputId": "33768e3e-c17b-426e-ad21-3c71f6a4f5bd"
   },
   "outputs": [],
   "source": [
    "sns.relplot(x=\"timepoint\", y=\"signal\", hue=\"region\",\n",
    "            units=\"subject\", estimator=None,\n",
    "            kind=\"line\", data=fmri.query(\"event == 'stim'\"));"
   ]
  },
  {
   "cell_type": "code",
   "execution_count": null,
   "metadata": {
    "id": "0jl1Xe0cunjw",
    "outputId": "ca5c23ac-8db1-4530-9e20-484b829e5b17"
   },
   "outputs": [],
   "source": [
    "dots = sns.load_dataset(\"dots\").query(\"align == 'dots'\")\n",
    "sns.relplot(x=\"time\", y=\"firing_rate\",\n",
    "            hue=\"coherence\", style=\"choice\",\n",
    "            kind=\"line\", data=dots);"
   ]
  },
  {
   "cell_type": "code",
   "execution_count": null,
   "metadata": {
    "id": "JCSY5rBQunjx",
    "outputId": "51b5d015-90a8-4abd-cd42-9f46199505f6"
   },
   "outputs": [],
   "source": [
    "palette = sns.cubehelix_palette(light=.8, n_colors=6)\n",
    "sns.relplot(x=\"time\", y=\"firing_rate\",\n",
    "            hue=\"coherence\", style=\"choice\",\n",
    "            palette=palette,\n",
    "            kind=\"line\", data=dots);"
   ]
  },
  {
   "cell_type": "code",
   "execution_count": null,
   "metadata": {
    "id": "aBYPCCsjunjx",
    "outputId": "046f64d4-1a5a-441a-8c77-ae9b9dc24420"
   },
   "outputs": [],
   "source": [
    "from matplotlib.colors import LogNorm\n",
    "palette = sns.cubehelix_palette(light=.7, n_colors=6)\n",
    "sns.relplot(x=\"time\", y=\"firing_rate\",\n",
    "            hue=\"coherence\", style=\"choice\",\n",
    "            hue_norm=LogNorm(),\n",
    "            kind=\"line\",\n",
    "            data=dots.query(\"coherence > 0\"));"
   ]
  },
  {
   "cell_type": "code",
   "execution_count": null,
   "metadata": {
    "id": "rHa26URcunjx",
    "outputId": "aab055f0-2c0b-47a8-8bdf-083397baa104"
   },
   "outputs": [],
   "source": [
    "sns.relplot(x=\"time\", y=\"firing_rate\",\n",
    "            size=\"coherence\", style=\"choice\",\n",
    "            kind=\"line\", data=dots);"
   ]
  },
  {
   "cell_type": "code",
   "execution_count": null,
   "metadata": {
    "id": "TlQVIF--unjx",
    "outputId": "bc00f544-b300-4675-cb99-275518596487"
   },
   "outputs": [],
   "source": [
    "sns.relplot(x=\"time\", y=\"firing_rate\",\n",
    "           hue=\"coherence\", size=\"choice\",\n",
    "           palette=palette,\n",
    "           kind=\"line\", data=dots);"
   ]
  },
  {
   "cell_type": "code",
   "execution_count": null,
   "metadata": {
    "id": "bNMS7D5Sunjy",
    "outputId": "0c9da5ff-aacc-4c07-ec84-ceb614a89711"
   },
   "outputs": [],
   "source": [
    "df = pd.DataFrame(dict(time=pd.date_range(\"2017-1-1\", periods=500),\n",
    "                       value=np.random.randn(500).cumsum()))\n",
    "g = sns.relplot(x=\"time\", y=\"value\", kind=\"line\", data=df)\n",
    "g.fig.autofmt_xdate()"
   ]
  },
  {
   "cell_type": "code",
   "execution_count": null,
   "metadata": {
    "id": "UC0ff1yHunjy",
    "outputId": "2594ddf8-a87e-4735-e52e-64eac18863db"
   },
   "outputs": [],
   "source": [
    "sns.relplot(x=\"total_bill\", y=\"tip\", hue=\"smoker\",\n",
    "            col=\"time\", data=tips);"
   ]
  },
  {
   "cell_type": "code",
   "execution_count": null,
   "metadata": {
    "id": "JoM1XJDtunjy",
    "outputId": "67a78939-ba76-445e-d0ad-a7f17873e811"
   },
   "outputs": [],
   "source": [
    "sns.relplot(x=\"timepoint\", y=\"signal\", hue=\"subject\",\n",
    "            col=\"region\", row=\"event\", height=3,\n",
    "            kind=\"line\", estimator=None, data=fmri);"
   ]
  },
  {
   "cell_type": "code",
   "execution_count": null,
   "metadata": {
    "id": "CG3lQW1Runjy",
    "outputId": "06c2750f-b2b5-44f5-e7c2-9bce7e436afb"
   },
   "outputs": [],
   "source": [
    "sns.relplot(x=\"timepoint\", y=\"signal\", hue=\"event\", style=\"event\",\n",
    "            col=\"subject\", col_wrap=5,\n",
    "            height=3, aspect=.75, linewidth=2.5,\n",
    "            kind=\"line\", data=fmri.query(\"region == 'frontal'\"));"
   ]
  }
 ],
 "metadata": {
  "colab": {
   "name": "Canadian Imperial Bank of Commerce.ipynb",
   "provenance": []
  },
  "kernelspec": {
   "display_name": "Python 3",
   "language": "python",
   "name": "python3"
  },
  "language_info": {
   "codemirror_mode": {
    "name": "ipython",
    "version": 3
   },
   "file_extension": ".py",
   "mimetype": "text/x-python",
   "name": "python",
   "nbconvert_exporter": "python",
   "pygments_lexer": "ipython3",
   "version": "3.8.3"
  }
 },
 "nbformat": 4,
 "nbformat_minor": 1
}
