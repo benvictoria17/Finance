{
  "nbformat": 4,
  "nbformat_minor": 0,
  "metadata": {
    "colab": {
      "name": "Under Armour, Inc. (UA).ipynb",
      "provenance": [],
      "authorship_tag": "ABX9TyPYowUtMhtoOs2pUdUPvr4C",
      "include_colab_link": true
    },
    "kernelspec": {
      "name": "python3",
      "display_name": "Python 3"
    }
  },
  "cells": [
    {
      "cell_type": "markdown",
      "metadata": {
        "id": "view-in-github",
        "colab_type": "text"
      },
      "source": [
        "<a href=\"https://colab.research.google.com/github/benvictoria21/AnalyzeStocks/blob/master/Under_Armour%2C_Inc_(UA).ipynb\" target=\"_parent\"><img src=\"https://colab.research.google.com/assets/colab-badge.svg\" alt=\"Open In Colab\"/></a>"
      ]
    },
    {
      "cell_type": "code",
      "metadata": {
        "colab": {
          "base_uri": "https://localhost:8080/"
        },
        "id": "OPn_wNx4dPvH",
        "outputId": "495ddb34-f22e-4f56-d551-c3af7716b9b1"
      },
      "source": [
        "!sudo pip install  yfinance"
      ],
      "execution_count": 37,
      "outputs": [
        {
          "output_type": "stream",
          "text": [
            "Requirement already satisfied: yfinance in /usr/local/lib/python3.6/dist-packages (0.1.55)\n",
            "Requirement already satisfied: numpy>=1.15 in /usr/local/lib/python3.6/dist-packages (from yfinance) (1.18.5)\n",
            "Requirement already satisfied: multitasking>=0.0.7 in /usr/local/lib/python3.6/dist-packages (from yfinance) (0.0.9)\n",
            "Requirement already satisfied: pandas>=0.24 in /usr/local/lib/python3.6/dist-packages (from yfinance) (1.1.4)\n",
            "Requirement already satisfied: lxml>=4.5.1 in /usr/local/lib/python3.6/dist-packages (from yfinance) (4.6.1)\n",
            "Requirement already satisfied: requests>=2.20 in /usr/local/lib/python3.6/dist-packages (from yfinance) (2.23.0)\n",
            "Requirement already satisfied: pytz>=2017.2 in /usr/local/lib/python3.6/dist-packages (from pandas>=0.24->yfinance) (2018.9)\n",
            "Requirement already satisfied: python-dateutil>=2.7.3 in /usr/local/lib/python3.6/dist-packages (from pandas>=0.24->yfinance) (2.8.1)\n",
            "Requirement already satisfied: idna<3,>=2.5 in /usr/local/lib/python3.6/dist-packages (from requests>=2.20->yfinance) (2.10)\n",
            "Requirement already satisfied: urllib3!=1.25.0,!=1.25.1,<1.26,>=1.21.1 in /usr/local/lib/python3.6/dist-packages (from requests>=2.20->yfinance) (1.24.3)\n",
            "Requirement already satisfied: chardet<4,>=3.0.2 in /usr/local/lib/python3.6/dist-packages (from requests>=2.20->yfinance) (3.0.4)\n",
            "Requirement already satisfied: certifi>=2017.4.17 in /usr/local/lib/python3.6/dist-packages (from requests>=2.20->yfinance) (2020.11.8)\n",
            "Requirement already satisfied: six>=1.5 in /usr/local/lib/python3.6/dist-packages (from python-dateutil>=2.7.3->pandas>=0.24->yfinance) (1.15.0)\n"
          ],
          "name": "stdout"
        }
      ]
    },
    {
      "cell_type": "code",
      "metadata": {
        "id": "k8yoJL99cuXk"
      },
      "source": [
        "import numpy as np \n",
        "import pandas as pd \n",
        "import matplotlib.pyplot as plt\n",
        "import yfinance"
      ],
      "execution_count": 38,
      "outputs": []
    },
    {
      "cell_type": "code",
      "metadata": {
        "colab": {
          "base_uri": "https://localhost:8080/",
          "height": 467
        },
        "id": "Zt4xpw9jdTZt",
        "outputId": "f2f7e268-605a-4719-e7bc-7170e4c05182"
      },
      "source": [
        "UA = yfinance.download(\"UA\")\n",
        "UA"
      ],
      "execution_count": 39,
      "outputs": [
        {
          "output_type": "stream",
          "text": [
            "\r[*********************100%***********************]  1 of 1 completed\n"
          ],
          "name": "stdout"
        },
        {
          "output_type": "execute_result",
          "data": {
            "text/html": [
              "<div>\n",
              "<style scoped>\n",
              "    .dataframe tbody tr th:only-of-type {\n",
              "        vertical-align: middle;\n",
              "    }\n",
              "\n",
              "    .dataframe tbody tr th {\n",
              "        vertical-align: top;\n",
              "    }\n",
              "\n",
              "    .dataframe thead th {\n",
              "        text-align: right;\n",
              "    }\n",
              "</style>\n",
              "<table border=\"1\" class=\"dataframe\">\n",
              "  <thead>\n",
              "    <tr style=\"text-align: right;\">\n",
              "      <th></th>\n",
              "      <th>Open</th>\n",
              "      <th>High</th>\n",
              "      <th>Low</th>\n",
              "      <th>Close</th>\n",
              "      <th>Adj Close</th>\n",
              "      <th>Volume</th>\n",
              "    </tr>\n",
              "    <tr>\n",
              "      <th>Date</th>\n",
              "      <th></th>\n",
              "      <th></th>\n",
              "      <th></th>\n",
              "      <th></th>\n",
              "      <th></th>\n",
              "      <th></th>\n",
              "    </tr>\n",
              "  </thead>\n",
              "  <tbody>\n",
              "    <tr>\n",
              "      <th>2015-07-01</th>\n",
              "      <td>84.260002</td>\n",
              "      <td>84.739998</td>\n",
              "      <td>83.709999</td>\n",
              "      <td>84.260002</td>\n",
              "      <td>84.260002</td>\n",
              "      <td>1607600</td>\n",
              "    </tr>\n",
              "    <tr>\n",
              "      <th>2015-07-02</th>\n",
              "      <td>84.489998</td>\n",
              "      <td>84.779999</td>\n",
              "      <td>83.900002</td>\n",
              "      <td>84.589996</td>\n",
              "      <td>84.589996</td>\n",
              "      <td>1051600</td>\n",
              "    </tr>\n",
              "    <tr>\n",
              "      <th>2015-07-06</th>\n",
              "      <td>83.989998</td>\n",
              "      <td>85.000000</td>\n",
              "      <td>83.709999</td>\n",
              "      <td>84.580002</td>\n",
              "      <td>84.580002</td>\n",
              "      <td>888600</td>\n",
              "    </tr>\n",
              "    <tr>\n",
              "      <th>2015-07-07</th>\n",
              "      <td>84.800003</td>\n",
              "      <td>84.949997</td>\n",
              "      <td>83.309998</td>\n",
              "      <td>84.940002</td>\n",
              "      <td>84.940002</td>\n",
              "      <td>1398700</td>\n",
              "    </tr>\n",
              "    <tr>\n",
              "      <th>2015-07-08</th>\n",
              "      <td>84.370003</td>\n",
              "      <td>85.129997</td>\n",
              "      <td>83.870003</td>\n",
              "      <td>84.389999</td>\n",
              "      <td>84.389999</td>\n",
              "      <td>1733100</td>\n",
              "    </tr>\n",
              "    <tr>\n",
              "      <th>...</th>\n",
              "      <td>...</td>\n",
              "      <td>...</td>\n",
              "      <td>...</td>\n",
              "      <td>...</td>\n",
              "      <td>...</td>\n",
              "      <td>...</td>\n",
              "    </tr>\n",
              "    <tr>\n",
              "      <th>2020-11-19</th>\n",
              "      <td>14.310000</td>\n",
              "      <td>14.715000</td>\n",
              "      <td>14.180000</td>\n",
              "      <td>14.690000</td>\n",
              "      <td>14.690000</td>\n",
              "      <td>2350500</td>\n",
              "    </tr>\n",
              "    <tr>\n",
              "      <th>2020-11-20</th>\n",
              "      <td>14.720000</td>\n",
              "      <td>14.870000</td>\n",
              "      <td>14.520000</td>\n",
              "      <td>14.640000</td>\n",
              "      <td>14.640000</td>\n",
              "      <td>5146500</td>\n",
              "    </tr>\n",
              "    <tr>\n",
              "      <th>2020-11-23</th>\n",
              "      <td>14.830000</td>\n",
              "      <td>14.877000</td>\n",
              "      <td>14.424000</td>\n",
              "      <td>14.500000</td>\n",
              "      <td>14.500000</td>\n",
              "      <td>3152100</td>\n",
              "    </tr>\n",
              "    <tr>\n",
              "      <th>2020-11-24</th>\n",
              "      <td>14.780000</td>\n",
              "      <td>15.035000</td>\n",
              "      <td>14.590000</td>\n",
              "      <td>14.930000</td>\n",
              "      <td>14.930000</td>\n",
              "      <td>3952800</td>\n",
              "    </tr>\n",
              "    <tr>\n",
              "      <th>2020-11-25</th>\n",
              "      <td>14.830000</td>\n",
              "      <td>14.865000</td>\n",
              "      <td>14.310000</td>\n",
              "      <td>14.820000</td>\n",
              "      <td>14.820000</td>\n",
              "      <td>3152500</td>\n",
              "    </tr>\n",
              "  </tbody>\n",
              "</table>\n",
              "<p>1358 rows × 6 columns</p>\n",
              "</div>"
            ],
            "text/plain": [
              "                 Open       High        Low      Close  Adj Close   Volume\n",
              "Date                                                                      \n",
              "2015-07-01  84.260002  84.739998  83.709999  84.260002  84.260002  1607600\n",
              "2015-07-02  84.489998  84.779999  83.900002  84.589996  84.589996  1051600\n",
              "2015-07-06  83.989998  85.000000  83.709999  84.580002  84.580002   888600\n",
              "2015-07-07  84.800003  84.949997  83.309998  84.940002  84.940002  1398700\n",
              "2015-07-08  84.370003  85.129997  83.870003  84.389999  84.389999  1733100\n",
              "...               ...        ...        ...        ...        ...      ...\n",
              "2020-11-19  14.310000  14.715000  14.180000  14.690000  14.690000  2350500\n",
              "2020-11-20  14.720000  14.870000  14.520000  14.640000  14.640000  5146500\n",
              "2020-11-23  14.830000  14.877000  14.424000  14.500000  14.500000  3152100\n",
              "2020-11-24  14.780000  15.035000  14.590000  14.930000  14.930000  3952800\n",
              "2020-11-25  14.830000  14.865000  14.310000  14.820000  14.820000  3152500\n",
              "\n",
              "[1358 rows x 6 columns]"
            ]
          },
          "metadata": {
            "tags": []
          },
          "execution_count": 39
        }
      ]
    },
    {
      "cell_type": "code",
      "metadata": {
        "colab": {
          "base_uri": "https://localhost:8080/",
          "height": 235
        },
        "id": "ENQnVAzVdlt5",
        "outputId": "ceea2a59-4d72-495c-d123-c1871bb0f1cb"
      },
      "source": [
        "UA.head()"
      ],
      "execution_count": 40,
      "outputs": [
        {
          "output_type": "execute_result",
          "data": {
            "text/html": [
              "<div>\n",
              "<style scoped>\n",
              "    .dataframe tbody tr th:only-of-type {\n",
              "        vertical-align: middle;\n",
              "    }\n",
              "\n",
              "    .dataframe tbody tr th {\n",
              "        vertical-align: top;\n",
              "    }\n",
              "\n",
              "    .dataframe thead th {\n",
              "        text-align: right;\n",
              "    }\n",
              "</style>\n",
              "<table border=\"1\" class=\"dataframe\">\n",
              "  <thead>\n",
              "    <tr style=\"text-align: right;\">\n",
              "      <th></th>\n",
              "      <th>Open</th>\n",
              "      <th>High</th>\n",
              "      <th>Low</th>\n",
              "      <th>Close</th>\n",
              "      <th>Adj Close</th>\n",
              "      <th>Volume</th>\n",
              "    </tr>\n",
              "    <tr>\n",
              "      <th>Date</th>\n",
              "      <th></th>\n",
              "      <th></th>\n",
              "      <th></th>\n",
              "      <th></th>\n",
              "      <th></th>\n",
              "      <th></th>\n",
              "    </tr>\n",
              "  </thead>\n",
              "  <tbody>\n",
              "    <tr>\n",
              "      <th>2015-07-01</th>\n",
              "      <td>84.260002</td>\n",
              "      <td>84.739998</td>\n",
              "      <td>83.709999</td>\n",
              "      <td>84.260002</td>\n",
              "      <td>84.260002</td>\n",
              "      <td>1607600</td>\n",
              "    </tr>\n",
              "    <tr>\n",
              "      <th>2015-07-02</th>\n",
              "      <td>84.489998</td>\n",
              "      <td>84.779999</td>\n",
              "      <td>83.900002</td>\n",
              "      <td>84.589996</td>\n",
              "      <td>84.589996</td>\n",
              "      <td>1051600</td>\n",
              "    </tr>\n",
              "    <tr>\n",
              "      <th>2015-07-06</th>\n",
              "      <td>83.989998</td>\n",
              "      <td>85.000000</td>\n",
              "      <td>83.709999</td>\n",
              "      <td>84.580002</td>\n",
              "      <td>84.580002</td>\n",
              "      <td>888600</td>\n",
              "    </tr>\n",
              "    <tr>\n",
              "      <th>2015-07-07</th>\n",
              "      <td>84.800003</td>\n",
              "      <td>84.949997</td>\n",
              "      <td>83.309998</td>\n",
              "      <td>84.940002</td>\n",
              "      <td>84.940002</td>\n",
              "      <td>1398700</td>\n",
              "    </tr>\n",
              "    <tr>\n",
              "      <th>2015-07-08</th>\n",
              "      <td>84.370003</td>\n",
              "      <td>85.129997</td>\n",
              "      <td>83.870003</td>\n",
              "      <td>84.389999</td>\n",
              "      <td>84.389999</td>\n",
              "      <td>1733100</td>\n",
              "    </tr>\n",
              "  </tbody>\n",
              "</table>\n",
              "</div>"
            ],
            "text/plain": [
              "                 Open       High        Low      Close  Adj Close   Volume\n",
              "Date                                                                      \n",
              "2015-07-01  84.260002  84.739998  83.709999  84.260002  84.260002  1607600\n",
              "2015-07-02  84.489998  84.779999  83.900002  84.589996  84.589996  1051600\n",
              "2015-07-06  83.989998  85.000000  83.709999  84.580002  84.580002   888600\n",
              "2015-07-07  84.800003  84.949997  83.309998  84.940002  84.940002  1398700\n",
              "2015-07-08  84.370003  85.129997  83.870003  84.389999  84.389999  1733100"
            ]
          },
          "metadata": {
            "tags": []
          },
          "execution_count": 40
        }
      ]
    },
    {
      "cell_type": "code",
      "metadata": {
        "colab": {
          "base_uri": "https://localhost:8080/"
        },
        "id": "tGp4wu1wdlw8",
        "outputId": "44616b4c-2ce2-4f39-8501-15baa4ef8c77"
      },
      "source": [
        "UA.Close"
      ],
      "execution_count": 41,
      "outputs": [
        {
          "output_type": "execute_result",
          "data": {
            "text/plain": [
              "Date\n",
              "2015-07-01    84.260002\n",
              "2015-07-02    84.589996\n",
              "2015-07-06    84.580002\n",
              "2015-07-07    84.940002\n",
              "2015-07-08    84.389999\n",
              "                ...    \n",
              "2020-11-19    14.690000\n",
              "2020-11-20    14.640000\n",
              "2020-11-23    14.500000\n",
              "2020-11-24    14.930000\n",
              "2020-11-25    14.820000\n",
              "Name: Close, Length: 1358, dtype: float64"
            ]
          },
          "metadata": {
            "tags": []
          },
          "execution_count": 41
        }
      ]
    },
    {
      "cell_type": "code",
      "metadata": {
        "colab": {
          "base_uri": "https://localhost:8080/",
          "height": 296
        },
        "id": "JGG54M7rdl0G",
        "outputId": "f4a9c2f9-4233-49a3-c9d1-ef23e2414e93"
      },
      "source": [
        "plt.xlabel(\"days\")         \n",
        "plt.ylabel(\"price\")    \n",
        "plt.grid()              \n",
        "plt.plot(UA.Close)"
      ],
      "execution_count": 42,
      "outputs": [
        {
          "output_type": "execute_result",
          "data": {
            "text/plain": [
              "[<matplotlib.lines.Line2D at 0x7fb1f9215828>]"
            ]
          },
          "metadata": {
            "tags": []
          },
          "execution_count": 42
        },
        {
          "output_type": "display_data",
          "data": {
            "image/png": "[encoded data removed]",
            "text/plain": [
              "<Figure size 432x288 with 1 Axes>"
            ]
          },
          "metadata": {
            "tags": [],
            "needs_background": "light"
          }
        }
      ]
    },
    {
      "cell_type": "code",
      "metadata": {
        "colab": {
          "base_uri": "https://localhost:8080/"
        },
        "id": "mAi2iuVodl11",
        "outputId": "bee2190e-87ac-471c-a61a-c0dfaacdf54d"
      },
      "source": [
        "NKE.High"
      ],
      "execution_count": 43,
      "outputs": [
        {
          "output_type": "execute_result",
          "data": {
            "text/plain": [
              "Date\n",
              "1980-12-02      0.183594\n",
              "1980-12-03      0.177734\n",
              "1980-12-04      0.183594\n",
              "1980-12-05      0.175781\n",
              "1980-12-08      0.164062\n",
              "                 ...    \n",
              "2020-11-19    132.110001\n",
              "2020-11-20    133.529999\n",
              "2020-11-23    134.889999\n",
              "2020-11-24    135.990005\n",
              "2020-11-25    135.800003\n",
              "Name: High, Length: 10085, dtype: float64"
            ]
          },
          "metadata": {
            "tags": []
          },
          "execution_count": 43
        }
      ]
    },
    {
      "cell_type": "code",
      "metadata": {
        "colab": {
          "base_uri": "https://localhost:8080/",
          "height": 265
        },
        "id": "6lcDQiR0dl7u",
        "outputId": "635d73f9-65c0-4a98-e6ef-c9678dbab715"
      },
      "source": [
        "plt.plot(UA.High)\n",
        "plt.grid()"
      ],
      "execution_count": 44,
      "outputs": [
        {
          "output_type": "display_data",
          "data": {
            "image/png": "[encoded data removed]",
            "text/plain": [
              "<Figure size 432x288 with 1 Axes>"
            ]
          },
          "metadata": {
            "tags": [],
            "needs_background": "light"
          }
        }
      ]
    },
    {
      "cell_type": "code",
      "metadata": {
        "colab": {
          "base_uri": "https://localhost:8080/"
        },
        "id": "t2C6ZCUGdl_E",
        "outputId": "4ab33ee8-048d-460b-f5d2-55e1989d30be"
      },
      "source": [
        "UA.Open"
      ],
      "execution_count": 45,
      "outputs": [
        {
          "output_type": "execute_result",
          "data": {
            "text/plain": [
              "Date\n",
              "2015-07-01    84.260002\n",
              "2015-07-02    84.489998\n",
              "2015-07-06    83.989998\n",
              "2015-07-07    84.800003\n",
              "2015-07-08    84.370003\n",
              "                ...    \n",
              "2020-11-19    14.310000\n",
              "2020-11-20    14.720000\n",
              "2020-11-23    14.830000\n",
              "2020-11-24    14.780000\n",
              "2020-11-25    14.830000\n",
              "Name: Open, Length: 1358, dtype: float64"
            ]
          },
          "metadata": {
            "tags": []
          },
          "execution_count": 45
        }
      ]
    }
  ]
}