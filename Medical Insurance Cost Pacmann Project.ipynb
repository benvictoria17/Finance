{
 "cells": [
  {
   "cell_type": "code",
   "execution_count": 1,
   "id": "36e0be75",
   "metadata": {},
   "outputs": [],
   "source": [
    "import pandas as pd\n",
    "import numpy as np\n",
    "import matplotlib.pyplot as plt\n",
    "import seaborn as sns\n",
    "import scipy.stats as stats\n",
    "import warnings\n",
    "warnings.filterwarnings('ignore')\n",
    "from scipy.stats import chi2_contingency"
   ]
  },
  {
   "cell_type": "code",
   "execution_count": 3,
   "id": "664122a6",
   "metadata": {},
   "outputs": [
    {
     "data": {
      "text/html": [
       "<div>\n",
       "<style scoped>\n",
       "    .dataframe tbody tr th:only-of-type {\n",
       "        vertical-align: middle;\n",
       "    }\n",
       "\n",
       "    .dataframe tbody tr th {\n",
       "        vertical-align: top;\n",
       "    }\n",
       "\n",
       "    .dataframe thead th {\n",
       "        text-align: right;\n",
       "    }\n",
       "</style>\n",
       "<table border=\"1\" class=\"dataframe\">\n",
       "  <thead>\n",
       "    <tr style=\"text-align: right;\">\n",
       "      <th></th>\n",
       "      <th>age</th>\n",
       "      <th>sex</th>\n",
       "      <th>bmi</th>\n",
       "      <th>children</th>\n",
       "      <th>smoker</th>\n",
       "      <th>region</th>\n",
       "      <th>charges</th>\n",
       "    </tr>\n",
       "  </thead>\n",
       "  <tbody>\n",
       "    <tr>\n",
       "      <th>0</th>\n",
       "      <td>19</td>\n",
       "      <td>female</td>\n",
       "      <td>27.900</td>\n",
       "      <td>0</td>\n",
       "      <td>yes</td>\n",
       "      <td>southwest</td>\n",
       "      <td>16884.92400</td>\n",
       "    </tr>\n",
       "    <tr>\n",
       "      <th>1</th>\n",
       "      <td>18</td>\n",
       "      <td>male</td>\n",
       "      <td>33.770</td>\n",
       "      <td>1</td>\n",
       "      <td>no</td>\n",
       "      <td>southeast</td>\n",
       "      <td>1725.55230</td>\n",
       "    </tr>\n",
       "    <tr>\n",
       "      <th>2</th>\n",
       "      <td>28</td>\n",
       "      <td>male</td>\n",
       "      <td>33.000</td>\n",
       "      <td>3</td>\n",
       "      <td>no</td>\n",
       "      <td>southeast</td>\n",
       "      <td>4449.46200</td>\n",
       "    </tr>\n",
       "    <tr>\n",
       "      <th>3</th>\n",
       "      <td>33</td>\n",
       "      <td>male</td>\n",
       "      <td>22.705</td>\n",
       "      <td>0</td>\n",
       "      <td>no</td>\n",
       "      <td>northwest</td>\n",
       "      <td>21984.47061</td>\n",
       "    </tr>\n",
       "    <tr>\n",
       "      <th>4</th>\n",
       "      <td>32</td>\n",
       "      <td>male</td>\n",
       "      <td>28.880</td>\n",
       "      <td>0</td>\n",
       "      <td>no</td>\n",
       "      <td>northwest</td>\n",
       "      <td>3866.85520</td>\n",
       "    </tr>\n",
       "    <tr>\n",
       "      <th>...</th>\n",
       "      <td>...</td>\n",
       "      <td>...</td>\n",
       "      <td>...</td>\n",
       "      <td>...</td>\n",
       "      <td>...</td>\n",
       "      <td>...</td>\n",
       "      <td>...</td>\n",
       "    </tr>\n",
       "    <tr>\n",
       "      <th>1333</th>\n",
       "      <td>50</td>\n",
       "      <td>male</td>\n",
       "      <td>30.970</td>\n",
       "      <td>3</td>\n",
       "      <td>no</td>\n",
       "      <td>northwest</td>\n",
       "      <td>10600.54830</td>\n",
       "    </tr>\n",
       "    <tr>\n",
       "      <th>1334</th>\n",
       "      <td>18</td>\n",
       "      <td>female</td>\n",
       "      <td>31.920</td>\n",
       "      <td>0</td>\n",
       "      <td>no</td>\n",
       "      <td>northeast</td>\n",
       "      <td>2205.98080</td>\n",
       "    </tr>\n",
       "    <tr>\n",
       "      <th>1335</th>\n",
       "      <td>18</td>\n",
       "      <td>female</td>\n",
       "      <td>36.850</td>\n",
       "      <td>0</td>\n",
       "      <td>no</td>\n",
       "      <td>southeast</td>\n",
       "      <td>1629.83350</td>\n",
       "    </tr>\n",
       "    <tr>\n",
       "      <th>1336</th>\n",
       "      <td>21</td>\n",
       "      <td>female</td>\n",
       "      <td>25.800</td>\n",
       "      <td>0</td>\n",
       "      <td>no</td>\n",
       "      <td>southwest</td>\n",
       "      <td>2007.94500</td>\n",
       "    </tr>\n",
       "    <tr>\n",
       "      <th>1337</th>\n",
       "      <td>61</td>\n",
       "      <td>female</td>\n",
       "      <td>29.070</td>\n",
       "      <td>0</td>\n",
       "      <td>yes</td>\n",
       "      <td>northwest</td>\n",
       "      <td>29141.36030</td>\n",
       "    </tr>\n",
       "  </tbody>\n",
       "</table>\n",
       "<p>1338 rows × 7 columns</p>\n",
       "</div>"
      ],
      "text/plain": [
       "      age     sex     bmi  children smoker     region      charges\n",
       "0      19  female  27.900         0    yes  southwest  16884.92400\n",
       "1      18    male  33.770         1     no  southeast   1725.55230\n",
       "2      28    male  33.000         3     no  southeast   4449.46200\n",
       "3      33    male  22.705         0     no  northwest  21984.47061\n",
       "4      32    male  28.880         0     no  northwest   3866.85520\n",
       "...   ...     ...     ...       ...    ...        ...          ...\n",
       "1333   50    male  30.970         3     no  northwest  10600.54830\n",
       "1334   18  female  31.920         0     no  northeast   2205.98080\n",
       "1335   18  female  36.850         0     no  southeast   1629.83350\n",
       "1336   21  female  25.800         0     no  southwest   2007.94500\n",
       "1337   61  female  29.070         0    yes  northwest  29141.36030\n",
       "\n",
       "[1338 rows x 7 columns]"
      ]
     },
     "execution_count": 3,
     "metadata": {},
     "output_type": "execute_result"
    }
   ],
   "source": [
    "insurance_data = pd.read_csv(\"https://raw.githubusercontent.com/benvictoria17/Finance/main/dataset/Medical%20Cost%20Personal%20Datasets/insurance.csv\")\n",
    "insurance_data"
   ]
  },
  {
   "cell_type": "code",
   "execution_count": 4,
   "id": "87350ce0",
   "metadata": {},
   "outputs": [
    {
     "name": "stdout",
     "output_type": "stream",
     "text": [
      "<class 'pandas.core.frame.DataFrame'>\n",
      "RangeIndex: 1338 entries, 0 to 1337\n",
      "Data columns (total 7 columns):\n",
      " #   Column    Non-Null Count  Dtype  \n",
      "---  ------    --------------  -----  \n",
      " 0   age       1338 non-null   int64  \n",
      " 1   sex       1338 non-null   object \n",
      " 2   bmi       1338 non-null   float64\n",
      " 3   children  1338 non-null   int64  \n",
      " 4   smoker    1338 non-null   object \n",
      " 5   region    1338 non-null   object \n",
      " 6   charges   1338 non-null   float64\n",
      "dtypes: float64(2), int64(2), object(3)\n",
      "memory usage: 73.3+ KB\n"
     ]
    }
   ],
   "source": [
    "insurance_data.info()"
   ]
  },
  {
   "cell_type": "code",
   "execution_count": 6,
   "id": "89abc73f",
   "metadata": {},
   "outputs": [
    {
     "data": {
      "text/plain": [
       "age         0\n",
       "sex         0\n",
       "bmi         0\n",
       "children    0\n",
       "smoker      0\n",
       "region      0\n",
       "charges     0\n",
       "dtype: int64"
      ]
     },
     "execution_count": 6,
     "metadata": {},
     "output_type": "execute_result"
    }
   ],
   "source": [
    "insurance_data.isnull().sum()"
   ]
  },
  {
   "cell_type": "code",
   "execution_count": 7,
   "id": "442491f1",
   "metadata": {},
   "outputs": [
    {
     "data": {
      "text/html": [
       "<div>\n",
       "<style scoped>\n",
       "    .dataframe tbody tr th:only-of-type {\n",
       "        vertical-align: middle;\n",
       "    }\n",
       "\n",
       "    .dataframe tbody tr th {\n",
       "        vertical-align: top;\n",
       "    }\n",
       "\n",
       "    .dataframe thead th {\n",
       "        text-align: right;\n",
       "    }\n",
       "</style>\n",
       "<table border=\"1\" class=\"dataframe\">\n",
       "  <thead>\n",
       "    <tr style=\"text-align: right;\">\n",
       "      <th></th>\n",
       "      <th>age</th>\n",
       "      <th>bmi</th>\n",
       "      <th>children</th>\n",
       "      <th>charges</th>\n",
       "    </tr>\n",
       "  </thead>\n",
       "  <tbody>\n",
       "    <tr>\n",
       "      <th>count</th>\n",
       "      <td>1338.000000</td>\n",
       "      <td>1338.000000</td>\n",
       "      <td>1338.000000</td>\n",
       "      <td>1338.000000</td>\n",
       "    </tr>\n",
       "    <tr>\n",
       "      <th>mean</th>\n",
       "      <td>39.207025</td>\n",
       "      <td>30.663397</td>\n",
       "      <td>1.094918</td>\n",
       "      <td>13270.422265</td>\n",
       "    </tr>\n",
       "    <tr>\n",
       "      <th>std</th>\n",
       "      <td>14.049960</td>\n",
       "      <td>6.098187</td>\n",
       "      <td>1.205493</td>\n",
       "      <td>12110.011237</td>\n",
       "    </tr>\n",
       "    <tr>\n",
       "      <th>min</th>\n",
       "      <td>18.000000</td>\n",
       "      <td>15.960000</td>\n",
       "      <td>0.000000</td>\n",
       "      <td>1121.873900</td>\n",
       "    </tr>\n",
       "    <tr>\n",
       "      <th>25%</th>\n",
       "      <td>27.000000</td>\n",
       "      <td>26.296250</td>\n",
       "      <td>0.000000</td>\n",
       "      <td>4740.287150</td>\n",
       "    </tr>\n",
       "    <tr>\n",
       "      <th>50%</th>\n",
       "      <td>39.000000</td>\n",
       "      <td>30.400000</td>\n",
       "      <td>1.000000</td>\n",
       "      <td>9382.033000</td>\n",
       "    </tr>\n",
       "    <tr>\n",
       "      <th>75%</th>\n",
       "      <td>51.000000</td>\n",
       "      <td>34.693750</td>\n",
       "      <td>2.000000</td>\n",
       "      <td>16639.912515</td>\n",
       "    </tr>\n",
       "    <tr>\n",
       "      <th>max</th>\n",
       "      <td>64.000000</td>\n",
       "      <td>53.130000</td>\n",
       "      <td>5.000000</td>\n",
       "      <td>63770.428010</td>\n",
       "    </tr>\n",
       "  </tbody>\n",
       "</table>\n",
       "</div>"
      ],
      "text/plain": [
       "               age          bmi     children       charges\n",
       "count  1338.000000  1338.000000  1338.000000   1338.000000\n",
       "mean     39.207025    30.663397     1.094918  13270.422265\n",
       "std      14.049960     6.098187     1.205493  12110.011237\n",
       "min      18.000000    15.960000     0.000000   1121.873900\n",
       "25%      27.000000    26.296250     0.000000   4740.287150\n",
       "50%      39.000000    30.400000     1.000000   9382.033000\n",
       "75%      51.000000    34.693750     2.000000  16639.912515\n",
       "max      64.000000    53.130000     5.000000  63770.428010"
      ]
     },
     "execution_count": 7,
     "metadata": {},
     "output_type": "execute_result"
    }
   ],
   "source": [
    "insurance_data.describe()"
   ]
  },
  {
   "cell_type": "code",
   "execution_count": 8,
   "id": "849ab067",
   "metadata": {},
   "outputs": [
    {
     "data": {
      "text/html": [
       "<div>\n",
       "<style scoped>\n",
       "    .dataframe tbody tr th:only-of-type {\n",
       "        vertical-align: middle;\n",
       "    }\n",
       "\n",
       "    .dataframe tbody tr th {\n",
       "        vertical-align: top;\n",
       "    }\n",
       "\n",
       "    .dataframe thead th {\n",
       "        text-align: right;\n",
       "    }\n",
       "</style>\n",
       "<table border=\"1\" class=\"dataframe\">\n",
       "  <thead>\n",
       "    <tr style=\"text-align: right;\">\n",
       "      <th></th>\n",
       "      <th>age</th>\n",
       "      <th>bmi</th>\n",
       "      <th>children</th>\n",
       "      <th>charges</th>\n",
       "    </tr>\n",
       "  </thead>\n",
       "  <tbody>\n",
       "    <tr>\n",
       "      <th>count</th>\n",
       "      <td>274.000000</td>\n",
       "      <td>274.000000</td>\n",
       "      <td>274.000000</td>\n",
       "      <td>274.000000</td>\n",
       "    </tr>\n",
       "    <tr>\n",
       "      <th>mean</th>\n",
       "      <td>38.514599</td>\n",
       "      <td>30.708449</td>\n",
       "      <td>1.113139</td>\n",
       "      <td>32050.231832</td>\n",
       "    </tr>\n",
       "    <tr>\n",
       "      <th>std</th>\n",
       "      <td>13.923186</td>\n",
       "      <td>6.318644</td>\n",
       "      <td>1.157066</td>\n",
       "      <td>11541.547176</td>\n",
       "    </tr>\n",
       "    <tr>\n",
       "      <th>min</th>\n",
       "      <td>18.000000</td>\n",
       "      <td>17.195000</td>\n",
       "      <td>0.000000</td>\n",
       "      <td>12829.455100</td>\n",
       "    </tr>\n",
       "    <tr>\n",
       "      <th>25%</th>\n",
       "      <td>27.000000</td>\n",
       "      <td>26.083750</td>\n",
       "      <td>0.000000</td>\n",
       "      <td>20826.244213</td>\n",
       "    </tr>\n",
       "    <tr>\n",
       "      <th>50%</th>\n",
       "      <td>38.000000</td>\n",
       "      <td>30.447500</td>\n",
       "      <td>1.000000</td>\n",
       "      <td>34456.348450</td>\n",
       "    </tr>\n",
       "    <tr>\n",
       "      <th>75%</th>\n",
       "      <td>49.000000</td>\n",
       "      <td>35.200000</td>\n",
       "      <td>2.000000</td>\n",
       "      <td>41019.207275</td>\n",
       "    </tr>\n",
       "    <tr>\n",
       "      <th>max</th>\n",
       "      <td>64.000000</td>\n",
       "      <td>52.580000</td>\n",
       "      <td>5.000000</td>\n",
       "      <td>63770.428010</td>\n",
       "    </tr>\n",
       "  </tbody>\n",
       "</table>\n",
       "</div>"
      ],
      "text/plain": [
       "              age         bmi    children       charges\n",
       "count  274.000000  274.000000  274.000000    274.000000\n",
       "mean    38.514599   30.708449    1.113139  32050.231832\n",
       "std     13.923186    6.318644    1.157066  11541.547176\n",
       "min     18.000000   17.195000    0.000000  12829.455100\n",
       "25%     27.000000   26.083750    0.000000  20826.244213\n",
       "50%     38.000000   30.447500    1.000000  34456.348450\n",
       "75%     49.000000   35.200000    2.000000  41019.207275\n",
       "max     64.000000   52.580000    5.000000  63770.428010"
      ]
     },
     "execution_count": 8,
     "metadata": {},
     "output_type": "execute_result"
    }
   ],
   "source": [
    "insurance_data[insurance_data[\"smoker\"] == 'yes'].describe()"
   ]
  },
  {
   "cell_type": "code",
   "execution_count": 9,
   "id": "4674b789",
   "metadata": {},
   "outputs": [
    {
     "data": {
      "text/html": [
       "<div>\n",
       "<style scoped>\n",
       "    .dataframe tbody tr th:only-of-type {\n",
       "        vertical-align: middle;\n",
       "    }\n",
       "\n",
       "    .dataframe tbody tr th {\n",
       "        vertical-align: top;\n",
       "    }\n",
       "\n",
       "    .dataframe thead th {\n",
       "        text-align: right;\n",
       "    }\n",
       "</style>\n",
       "<table border=\"1\" class=\"dataframe\">\n",
       "  <thead>\n",
       "    <tr style=\"text-align: right;\">\n",
       "      <th></th>\n",
       "      <th>age</th>\n",
       "      <th>bmi</th>\n",
       "      <th>children</th>\n",
       "      <th>charges</th>\n",
       "    </tr>\n",
       "  </thead>\n",
       "  <tbody>\n",
       "    <tr>\n",
       "      <th>count</th>\n",
       "      <td>1064.000000</td>\n",
       "      <td>1064.000000</td>\n",
       "      <td>1064.000000</td>\n",
       "      <td>1064.000000</td>\n",
       "    </tr>\n",
       "    <tr>\n",
       "      <th>mean</th>\n",
       "      <td>39.385338</td>\n",
       "      <td>30.651795</td>\n",
       "      <td>1.090226</td>\n",
       "      <td>8434.268298</td>\n",
       "    </tr>\n",
       "    <tr>\n",
       "      <th>std</th>\n",
       "      <td>14.083410</td>\n",
       "      <td>6.043111</td>\n",
       "      <td>1.218136</td>\n",
       "      <td>5993.781819</td>\n",
       "    </tr>\n",
       "    <tr>\n",
       "      <th>min</th>\n",
       "      <td>18.000000</td>\n",
       "      <td>15.960000</td>\n",
       "      <td>0.000000</td>\n",
       "      <td>1121.873900</td>\n",
       "    </tr>\n",
       "    <tr>\n",
       "      <th>25%</th>\n",
       "      <td>26.750000</td>\n",
       "      <td>26.315000</td>\n",
       "      <td>0.000000</td>\n",
       "      <td>3986.438700</td>\n",
       "    </tr>\n",
       "    <tr>\n",
       "      <th>50%</th>\n",
       "      <td>40.000000</td>\n",
       "      <td>30.352500</td>\n",
       "      <td>1.000000</td>\n",
       "      <td>7345.405300</td>\n",
       "    </tr>\n",
       "    <tr>\n",
       "      <th>75%</th>\n",
       "      <td>52.000000</td>\n",
       "      <td>34.430000</td>\n",
       "      <td>2.000000</td>\n",
       "      <td>11362.887050</td>\n",
       "    </tr>\n",
       "    <tr>\n",
       "      <th>max</th>\n",
       "      <td>64.000000</td>\n",
       "      <td>53.130000</td>\n",
       "      <td>5.000000</td>\n",
       "      <td>36910.608030</td>\n",
       "    </tr>\n",
       "  </tbody>\n",
       "</table>\n",
       "</div>"
      ],
      "text/plain": [
       "               age          bmi     children       charges\n",
       "count  1064.000000  1064.000000  1064.000000   1064.000000\n",
       "mean     39.385338    30.651795     1.090226   8434.268298\n",
       "std      14.083410     6.043111     1.218136   5993.781819\n",
       "min      18.000000    15.960000     0.000000   1121.873900\n",
       "25%      26.750000    26.315000     0.000000   3986.438700\n",
       "50%      40.000000    30.352500     1.000000   7345.405300\n",
       "75%      52.000000    34.430000     2.000000  11362.887050\n",
       "max      64.000000    53.130000     5.000000  36910.608030"
      ]
     },
     "execution_count": 9,
     "metadata": {},
     "output_type": "execute_result"
    }
   ],
   "source": [
    "insurance_data[insurance_data[\"smoker\"] == 'no'].describe()"
   ]
  },
  {
   "cell_type": "code",
   "execution_count": 10,
   "id": "33ffcdde",
   "metadata": {},
   "outputs": [
    {
     "data": {
      "text/html": [
       "<div>\n",
       "<style scoped>\n",
       "    .dataframe tbody tr th:only-of-type {\n",
       "        vertical-align: middle;\n",
       "    }\n",
       "\n",
       "    .dataframe tbody tr th {\n",
       "        vertical-align: top;\n",
       "    }\n",
       "\n",
       "    .dataframe thead th {\n",
       "        text-align: right;\n",
       "    }\n",
       "</style>\n",
       "<table border=\"1\" class=\"dataframe\">\n",
       "  <thead>\n",
       "    <tr style=\"text-align: right;\">\n",
       "      <th></th>\n",
       "      <th>age</th>\n",
       "      <th>bmi</th>\n",
       "      <th>children</th>\n",
       "      <th>charges</th>\n",
       "    </tr>\n",
       "  </thead>\n",
       "  <tbody>\n",
       "    <tr>\n",
       "      <th>count</th>\n",
       "      <td>245.000000</td>\n",
       "      <td>245.000000</td>\n",
       "      <td>245.000000</td>\n",
       "      <td>245.000000</td>\n",
       "    </tr>\n",
       "    <tr>\n",
       "      <th>mean</th>\n",
       "      <td>36.375510</td>\n",
       "      <td>22.203898</td>\n",
       "      <td>1.122449</td>\n",
       "      <td>10282.224474</td>\n",
       "    </tr>\n",
       "    <tr>\n",
       "      <th>std</th>\n",
       "      <td>13.606811</td>\n",
       "      <td>2.103806</td>\n",
       "      <td>1.238598</td>\n",
       "      <td>7520.485850</td>\n",
       "    </tr>\n",
       "    <tr>\n",
       "      <th>min</th>\n",
       "      <td>18.000000</td>\n",
       "      <td>15.960000</td>\n",
       "      <td>0.000000</td>\n",
       "      <td>1121.873900</td>\n",
       "    </tr>\n",
       "    <tr>\n",
       "      <th>25%</th>\n",
       "      <td>24.000000</td>\n",
       "      <td>20.800000</td>\n",
       "      <td>0.000000</td>\n",
       "      <td>3861.209650</td>\n",
       "    </tr>\n",
       "    <tr>\n",
       "      <th>50%</th>\n",
       "      <td>35.000000</td>\n",
       "      <td>22.705000</td>\n",
       "      <td>1.000000</td>\n",
       "      <td>8582.302300</td>\n",
       "    </tr>\n",
       "    <tr>\n",
       "      <th>75%</th>\n",
       "      <td>47.000000</td>\n",
       "      <td>23.900000</td>\n",
       "      <td>2.000000</td>\n",
       "      <td>14571.890800</td>\n",
       "    </tr>\n",
       "    <tr>\n",
       "      <th>max</th>\n",
       "      <td>64.000000</td>\n",
       "      <td>24.985000</td>\n",
       "      <td>5.000000</td>\n",
       "      <td>35069.374520</td>\n",
       "    </tr>\n",
       "  </tbody>\n",
       "</table>\n",
       "</div>"
      ],
      "text/plain": [
       "              age         bmi    children       charges\n",
       "count  245.000000  245.000000  245.000000    245.000000\n",
       "mean    36.375510   22.203898    1.122449  10282.224474\n",
       "std     13.606811    2.103806    1.238598   7520.485850\n",
       "min     18.000000   15.960000    0.000000   1121.873900\n",
       "25%     24.000000   20.800000    0.000000   3861.209650\n",
       "50%     35.000000   22.705000    1.000000   8582.302300\n",
       "75%     47.000000   23.900000    2.000000  14571.890800\n",
       "max     64.000000   24.985000    5.000000  35069.374520"
      ]
     },
     "execution_count": 10,
     "metadata": {},
     "output_type": "execute_result"
    }
   ],
   "source": [
    "insurance_data[insurance_data[\"bmi\"] < 25].describe()"
   ]
  },
  {
   "cell_type": "code",
   "execution_count": 11,
   "id": "cf11061a",
   "metadata": {},
   "outputs": [
    {
     "data": {
      "text/html": [
       "<div>\n",
       "<style scoped>\n",
       "    .dataframe tbody tr th:only-of-type {\n",
       "        vertical-align: middle;\n",
       "    }\n",
       "\n",
       "    .dataframe tbody tr th {\n",
       "        vertical-align: top;\n",
       "    }\n",
       "\n",
       "    .dataframe thead th {\n",
       "        text-align: right;\n",
       "    }\n",
       "</style>\n",
       "<table border=\"1\" class=\"dataframe\">\n",
       "  <thead>\n",
       "    <tr style=\"text-align: right;\">\n",
       "      <th></th>\n",
       "      <th>age</th>\n",
       "      <th>bmi</th>\n",
       "      <th>children</th>\n",
       "      <th>charges</th>\n",
       "    </tr>\n",
       "  </thead>\n",
       "  <tbody>\n",
       "    <tr>\n",
       "      <th>count</th>\n",
       "      <td>1091.000000</td>\n",
       "      <td>1091.000000</td>\n",
       "      <td>1091.000000</td>\n",
       "      <td>1091.000000</td>\n",
       "    </tr>\n",
       "    <tr>\n",
       "      <th>mean</th>\n",
       "      <td>39.817599</td>\n",
       "      <td>32.573483</td>\n",
       "      <td>1.089826</td>\n",
       "      <td>13946.476035</td>\n",
       "    </tr>\n",
       "    <tr>\n",
       "      <th>std</th>\n",
       "      <td>14.071792</td>\n",
       "      <td>4.982788</td>\n",
       "      <td>1.199081</td>\n",
       "      <td>12834.725537</td>\n",
       "    </tr>\n",
       "    <tr>\n",
       "      <th>min</th>\n",
       "      <td>18.000000</td>\n",
       "      <td>25.080000</td>\n",
       "      <td>0.000000</td>\n",
       "      <td>1131.506600</td>\n",
       "    </tr>\n",
       "    <tr>\n",
       "      <th>25%</th>\n",
       "      <td>27.000000</td>\n",
       "      <td>28.600000</td>\n",
       "      <td>0.000000</td>\n",
       "      <td>4889.518150</td>\n",
       "    </tr>\n",
       "    <tr>\n",
       "      <th>50%</th>\n",
       "      <td>40.000000</td>\n",
       "      <td>31.900000</td>\n",
       "      <td>1.000000</td>\n",
       "      <td>9563.029000</td>\n",
       "    </tr>\n",
       "    <tr>\n",
       "      <th>75%</th>\n",
       "      <td>52.000000</td>\n",
       "      <td>35.815000</td>\n",
       "      <td>2.000000</td>\n",
       "      <td>17654.442975</td>\n",
       "    </tr>\n",
       "    <tr>\n",
       "      <th>max</th>\n",
       "      <td>64.000000</td>\n",
       "      <td>53.130000</td>\n",
       "      <td>5.000000</td>\n",
       "      <td>63770.428010</td>\n",
       "    </tr>\n",
       "  </tbody>\n",
       "</table>\n",
       "</div>"
      ],
      "text/plain": [
       "               age          bmi     children       charges\n",
       "count  1091.000000  1091.000000  1091.000000   1091.000000\n",
       "mean     39.817599    32.573483     1.089826  13946.476035\n",
       "std      14.071792     4.982788     1.199081  12834.725537\n",
       "min      18.000000    25.080000     0.000000   1131.506600\n",
       "25%      27.000000    28.600000     0.000000   4889.518150\n",
       "50%      40.000000    31.900000     1.000000   9563.029000\n",
       "75%      52.000000    35.815000     2.000000  17654.442975\n",
       "max      64.000000    53.130000     5.000000  63770.428010"
      ]
     },
     "execution_count": 11,
     "metadata": {},
     "output_type": "execute_result"
    }
   ],
   "source": [
    "insurance_data[insurance_data[\"bmi\"] > 25].describe()"
   ]
  },
  {
   "cell_type": "code",
   "execution_count": 12,
   "id": "db02b0ca",
   "metadata": {},
   "outputs": [
    {
     "data": {
      "text/html": [
       "<div>\n",
       "<style scoped>\n",
       "    .dataframe tbody tr th:only-of-type {\n",
       "        vertical-align: middle;\n",
       "    }\n",
       "\n",
       "    .dataframe tbody tr th {\n",
       "        vertical-align: top;\n",
       "    }\n",
       "\n",
       "    .dataframe thead th {\n",
       "        text-align: right;\n",
       "    }\n",
       "</style>\n",
       "<table border=\"1\" class=\"dataframe\">\n",
       "  <thead>\n",
       "    <tr style=\"text-align: right;\">\n",
       "      <th></th>\n",
       "      <th>age</th>\n",
       "      <th>bmi</th>\n",
       "      <th>children</th>\n",
       "      <th>charges</th>\n",
       "    </tr>\n",
       "  </thead>\n",
       "  <tbody>\n",
       "    <tr>\n",
       "      <th>count</th>\n",
       "      <td>676.000000</td>\n",
       "      <td>676.000000</td>\n",
       "      <td>676.000000</td>\n",
       "      <td>676.000000</td>\n",
       "    </tr>\n",
       "    <tr>\n",
       "      <th>mean</th>\n",
       "      <td>38.917160</td>\n",
       "      <td>30.943129</td>\n",
       "      <td>1.115385</td>\n",
       "      <td>13956.751178</td>\n",
       "    </tr>\n",
       "    <tr>\n",
       "      <th>std</th>\n",
       "      <td>14.050141</td>\n",
       "      <td>6.140435</td>\n",
       "      <td>1.218986</td>\n",
       "      <td>12971.025915</td>\n",
       "    </tr>\n",
       "    <tr>\n",
       "      <th>min</th>\n",
       "      <td>18.000000</td>\n",
       "      <td>15.960000</td>\n",
       "      <td>0.000000</td>\n",
       "      <td>1121.873900</td>\n",
       "    </tr>\n",
       "    <tr>\n",
       "      <th>25%</th>\n",
       "      <td>26.000000</td>\n",
       "      <td>26.410000</td>\n",
       "      <td>0.000000</td>\n",
       "      <td>4619.134000</td>\n",
       "    </tr>\n",
       "    <tr>\n",
       "      <th>50%</th>\n",
       "      <td>39.000000</td>\n",
       "      <td>30.687500</td>\n",
       "      <td>1.000000</td>\n",
       "      <td>9369.615750</td>\n",
       "    </tr>\n",
       "    <tr>\n",
       "      <th>75%</th>\n",
       "      <td>51.000000</td>\n",
       "      <td>34.992500</td>\n",
       "      <td>2.000000</td>\n",
       "      <td>18989.590250</td>\n",
       "    </tr>\n",
       "    <tr>\n",
       "      <th>max</th>\n",
       "      <td>64.000000</td>\n",
       "      <td>53.130000</td>\n",
       "      <td>5.000000</td>\n",
       "      <td>62592.873090</td>\n",
       "    </tr>\n",
       "  </tbody>\n",
       "</table>\n",
       "</div>"
      ],
      "text/plain": [
       "              age         bmi    children       charges\n",
       "count  676.000000  676.000000  676.000000    676.000000\n",
       "mean    38.917160   30.943129    1.115385  13956.751178\n",
       "std     14.050141    6.140435    1.218986  12971.025915\n",
       "min     18.000000   15.960000    0.000000   1121.873900\n",
       "25%     26.000000   26.410000    0.000000   4619.134000\n",
       "50%     39.000000   30.687500    1.000000   9369.615750\n",
       "75%     51.000000   34.992500    2.000000  18989.590250\n",
       "max     64.000000   53.130000    5.000000  62592.873090"
      ]
     },
     "execution_count": 12,
     "metadata": {},
     "output_type": "execute_result"
    }
   ],
   "source": [
    "insurance_data[insurance_data['sex'] == 'male'].describe()"
   ]
  },
  {
   "cell_type": "code",
   "execution_count": 13,
   "id": "a14fd5bb",
   "metadata": {},
   "outputs": [
    {
     "data": {
      "text/html": [
       "<div>\n",
       "<style scoped>\n",
       "    .dataframe tbody tr th:only-of-type {\n",
       "        vertical-align: middle;\n",
       "    }\n",
       "\n",
       "    .dataframe tbody tr th {\n",
       "        vertical-align: top;\n",
       "    }\n",
       "\n",
       "    .dataframe thead th {\n",
       "        text-align: right;\n",
       "    }\n",
       "</style>\n",
       "<table border=\"1\" class=\"dataframe\">\n",
       "  <thead>\n",
       "    <tr style=\"text-align: right;\">\n",
       "      <th></th>\n",
       "      <th>age</th>\n",
       "      <th>bmi</th>\n",
       "      <th>children</th>\n",
       "      <th>charges</th>\n",
       "    </tr>\n",
       "  </thead>\n",
       "  <tbody>\n",
       "    <tr>\n",
       "      <th>count</th>\n",
       "      <td>662.000000</td>\n",
       "      <td>662.000000</td>\n",
       "      <td>662.000000</td>\n",
       "      <td>662.000000</td>\n",
       "    </tr>\n",
       "    <tr>\n",
       "      <th>mean</th>\n",
       "      <td>39.503021</td>\n",
       "      <td>30.377749</td>\n",
       "      <td>1.074018</td>\n",
       "      <td>12569.578844</td>\n",
       "    </tr>\n",
       "    <tr>\n",
       "      <th>std</th>\n",
       "      <td>14.054223</td>\n",
       "      <td>6.046023</td>\n",
       "      <td>1.192115</td>\n",
       "      <td>11128.703801</td>\n",
       "    </tr>\n",
       "    <tr>\n",
       "      <th>min</th>\n",
       "      <td>18.000000</td>\n",
       "      <td>16.815000</td>\n",
       "      <td>0.000000</td>\n",
       "      <td>1607.510100</td>\n",
       "    </tr>\n",
       "    <tr>\n",
       "      <th>25%</th>\n",
       "      <td>27.000000</td>\n",
       "      <td>26.125000</td>\n",
       "      <td>0.000000</td>\n",
       "      <td>4885.158700</td>\n",
       "    </tr>\n",
       "    <tr>\n",
       "      <th>50%</th>\n",
       "      <td>40.000000</td>\n",
       "      <td>30.107500</td>\n",
       "      <td>1.000000</td>\n",
       "      <td>9412.962500</td>\n",
       "    </tr>\n",
       "    <tr>\n",
       "      <th>75%</th>\n",
       "      <td>51.750000</td>\n",
       "      <td>34.313750</td>\n",
       "      <td>2.000000</td>\n",
       "      <td>14454.691825</td>\n",
       "    </tr>\n",
       "    <tr>\n",
       "      <th>max</th>\n",
       "      <td>64.000000</td>\n",
       "      <td>48.070000</td>\n",
       "      <td>5.000000</td>\n",
       "      <td>63770.428010</td>\n",
       "    </tr>\n",
       "  </tbody>\n",
       "</table>\n",
       "</div>"
      ],
      "text/plain": [
       "              age         bmi    children       charges\n",
       "count  662.000000  662.000000  662.000000    662.000000\n",
       "mean    39.503021   30.377749    1.074018  12569.578844\n",
       "std     14.054223    6.046023    1.192115  11128.703801\n",
       "min     18.000000   16.815000    0.000000   1607.510100\n",
       "25%     27.000000   26.125000    0.000000   4885.158700\n",
       "50%     40.000000   30.107500    1.000000   9412.962500\n",
       "75%     51.750000   34.313750    2.000000  14454.691825\n",
       "max     64.000000   48.070000    5.000000  63770.428010"
      ]
     },
     "execution_count": 13,
     "metadata": {},
     "output_type": "execute_result"
    }
   ],
   "source": [
    "insurance_data[insurance_data[\"sex\"] == 'female'].describe()"
   ]
  },
  {
   "cell_type": "code",
   "execution_count": 14,
   "id": "06c81466",
   "metadata": {},
   "outputs": [
    {
     "data": {
      "text/html": [
       "<div>\n",
       "<style scoped>\n",
       "    .dataframe tbody tr th:only-of-type {\n",
       "        vertical-align: middle;\n",
       "    }\n",
       "\n",
       "    .dataframe tbody tr th {\n",
       "        vertical-align: top;\n",
       "    }\n",
       "\n",
       "    .dataframe thead th {\n",
       "        text-align: right;\n",
       "    }\n",
       "</style>\n",
       "<table border=\"1\" class=\"dataframe\">\n",
       "  <thead>\n",
       "    <tr style=\"text-align: right;\">\n",
       "      <th></th>\n",
       "      <th>age</th>\n",
       "      <th>bmi</th>\n",
       "      <th>children</th>\n",
       "      <th>charges</th>\n",
       "    </tr>\n",
       "  </thead>\n",
       "  <tbody>\n",
       "    <tr>\n",
       "      <th>count</th>\n",
       "      <td>55.000000</td>\n",
       "      <td>55.000000</td>\n",
       "      <td>55.000000</td>\n",
       "      <td>55.000000</td>\n",
       "    </tr>\n",
       "    <tr>\n",
       "      <th>mean</th>\n",
       "      <td>37.309091</td>\n",
       "      <td>22.277182</td>\n",
       "      <td>1.236364</td>\n",
       "      <td>19839.278309</td>\n",
       "    </tr>\n",
       "    <tr>\n",
       "      <th>std</th>\n",
       "      <td>12.480908</td>\n",
       "      <td>2.182447</td>\n",
       "      <td>1.261446</td>\n",
       "      <td>4583.245438</td>\n",
       "    </tr>\n",
       "    <tr>\n",
       "      <th>min</th>\n",
       "      <td>18.000000</td>\n",
       "      <td>17.195000</td>\n",
       "      <td>0.000000</td>\n",
       "      <td>12829.455100</td>\n",
       "    </tr>\n",
       "    <tr>\n",
       "      <th>25%</th>\n",
       "      <td>27.500000</td>\n",
       "      <td>20.710000</td>\n",
       "      <td>0.000000</td>\n",
       "      <td>16499.137025</td>\n",
       "    </tr>\n",
       "    <tr>\n",
       "      <th>50%</th>\n",
       "      <td>38.000000</td>\n",
       "      <td>22.895000</td>\n",
       "      <td>1.000000</td>\n",
       "      <td>19361.998800</td>\n",
       "    </tr>\n",
       "    <tr>\n",
       "      <th>75%</th>\n",
       "      <td>45.500000</td>\n",
       "      <td>24.130000</td>\n",
       "      <td>2.000000</td>\n",
       "      <td>22049.467450</td>\n",
       "    </tr>\n",
       "    <tr>\n",
       "      <th>max</th>\n",
       "      <td>64.000000</td>\n",
       "      <td>24.890000</td>\n",
       "      <td>5.000000</td>\n",
       "      <td>35069.374520</td>\n",
       "    </tr>\n",
       "  </tbody>\n",
       "</table>\n",
       "</div>"
      ],
      "text/plain": [
       "             age        bmi   children       charges\n",
       "count  55.000000  55.000000  55.000000     55.000000\n",
       "mean   37.309091  22.277182   1.236364  19839.278309\n",
       "std    12.480908   2.182447   1.261446   4583.245438\n",
       "min    18.000000  17.195000   0.000000  12829.455100\n",
       "25%    27.500000  20.710000   0.000000  16499.137025\n",
       "50%    38.000000  22.895000   1.000000  19361.998800\n",
       "75%    45.500000  24.130000   2.000000  22049.467450\n",
       "max    64.000000  24.890000   5.000000  35069.374520"
      ]
     },
     "execution_count": 14,
     "metadata": {},
     "output_type": "execute_result"
    }
   ],
   "source": [
    "insurance_data[(insurance_data['smoker'] == 'yes') & \n",
    "               (insurance_data['bmi'] < 25)].describe()"
   ]
  },
  {
   "cell_type": "code",
   "execution_count": 15,
   "id": "0fffc984",
   "metadata": {},
   "outputs": [
    {
     "data": {
      "text/html": [
       "<div>\n",
       "<style scoped>\n",
       "    .dataframe tbody tr th:only-of-type {\n",
       "        vertical-align: middle;\n",
       "    }\n",
       "\n",
       "    .dataframe tbody tr th {\n",
       "        vertical-align: top;\n",
       "    }\n",
       "\n",
       "    .dataframe thead th {\n",
       "        text-align: right;\n",
       "    }\n",
       "</style>\n",
       "<table border=\"1\" class=\"dataframe\">\n",
       "  <thead>\n",
       "    <tr style=\"text-align: right;\">\n",
       "      <th></th>\n",
       "      <th>age</th>\n",
       "      <th>bmi</th>\n",
       "      <th>children</th>\n",
       "      <th>charges</th>\n",
       "    </tr>\n",
       "  </thead>\n",
       "  <tbody>\n",
       "    <tr>\n",
       "      <th>count</th>\n",
       "      <td>219.000000</td>\n",
       "      <td>219.000000</td>\n",
       "      <td>219.000000</td>\n",
       "      <td>219.000000</td>\n",
       "    </tr>\n",
       "    <tr>\n",
       "      <th>mean</th>\n",
       "      <td>38.817352</td>\n",
       "      <td>32.825890</td>\n",
       "      <td>1.082192</td>\n",
       "      <td>35116.909657</td>\n",
       "    </tr>\n",
       "    <tr>\n",
       "      <th>std</th>\n",
       "      <td>14.273009</td>\n",
       "      <td>5.136105</td>\n",
       "      <td>1.130317</td>\n",
       "      <td>10702.561195</td>\n",
       "    </tr>\n",
       "    <tr>\n",
       "      <th>min</th>\n",
       "      <td>18.000000</td>\n",
       "      <td>25.100000</td>\n",
       "      <td>0.000000</td>\n",
       "      <td>15518.180250</td>\n",
       "    </tr>\n",
       "    <tr>\n",
       "      <th>25%</th>\n",
       "      <td>25.500000</td>\n",
       "      <td>28.345000</td>\n",
       "      <td>0.000000</td>\n",
       "      <td>24601.558775</td>\n",
       "    </tr>\n",
       "    <tr>\n",
       "      <th>50%</th>\n",
       "      <td>38.000000</td>\n",
       "      <td>32.015000</td>\n",
       "      <td>1.000000</td>\n",
       "      <td>37270.151200</td>\n",
       "    </tr>\n",
       "    <tr>\n",
       "      <th>75%</th>\n",
       "      <td>50.000000</td>\n",
       "      <td>36.080000</td>\n",
       "      <td>2.000000</td>\n",
       "      <td>42808.670100</td>\n",
       "    </tr>\n",
       "    <tr>\n",
       "      <th>max</th>\n",
       "      <td>64.000000</td>\n",
       "      <td>52.580000</td>\n",
       "      <td>4.000000</td>\n",
       "      <td>63770.428010</td>\n",
       "    </tr>\n",
       "  </tbody>\n",
       "</table>\n",
       "</div>"
      ],
      "text/plain": [
       "              age         bmi    children       charges\n",
       "count  219.000000  219.000000  219.000000    219.000000\n",
       "mean    38.817352   32.825890    1.082192  35116.909657\n",
       "std     14.273009    5.136105    1.130317  10702.561195\n",
       "min     18.000000   25.100000    0.000000  15518.180250\n",
       "25%     25.500000   28.345000    0.000000  24601.558775\n",
       "50%     38.000000   32.015000    1.000000  37270.151200\n",
       "75%     50.000000   36.080000    2.000000  42808.670100\n",
       "max     64.000000   52.580000    4.000000  63770.428010"
      ]
     },
     "execution_count": 15,
     "metadata": {},
     "output_type": "execute_result"
    }
   ],
   "source": [
    "insurance_data[(insurance_data['smoker'] == 'yes') & \n",
    "               (insurance_data['bmi'] > 25)].describe()"
   ]
  },
  {
   "cell_type": "code",
   "execution_count": 16,
   "id": "2e8b678f",
   "metadata": {},
   "outputs": [
    {
     "data": {
      "text/html": [
       "<div>\n",
       "<style scoped>\n",
       "    .dataframe tbody tr th:only-of-type {\n",
       "        vertical-align: middle;\n",
       "    }\n",
       "\n",
       "    .dataframe tbody tr th {\n",
       "        vertical-align: top;\n",
       "    }\n",
       "\n",
       "    .dataframe thead th {\n",
       "        text-align: right;\n",
       "    }\n",
       "</style>\n",
       "<table border=\"1\" class=\"dataframe\">\n",
       "  <thead>\n",
       "    <tr style=\"text-align: right;\">\n",
       "      <th></th>\n",
       "      <th>age</th>\n",
       "      <th>bmi</th>\n",
       "      <th>children</th>\n",
       "      <th>charges</th>\n",
       "    </tr>\n",
       "  </thead>\n",
       "  <tbody>\n",
       "    <tr>\n",
       "      <th>count</th>\n",
       "      <td>159.000000</td>\n",
       "      <td>159.000000</td>\n",
       "      <td>159.000000</td>\n",
       "      <td>159.000000</td>\n",
       "    </tr>\n",
       "    <tr>\n",
       "      <th>mean</th>\n",
       "      <td>38.446541</td>\n",
       "      <td>31.504182</td>\n",
       "      <td>1.188679</td>\n",
       "      <td>33042.005975</td>\n",
       "    </tr>\n",
       "    <tr>\n",
       "      <th>std</th>\n",
       "      <td>13.751247</td>\n",
       "      <td>5.952028</td>\n",
       "      <td>1.170144</td>\n",
       "      <td>11202.670862</td>\n",
       "    </tr>\n",
       "    <tr>\n",
       "      <th>min</th>\n",
       "      <td>18.000000</td>\n",
       "      <td>17.290000</td>\n",
       "      <td>0.000000</td>\n",
       "      <td>12829.455100</td>\n",
       "    </tr>\n",
       "    <tr>\n",
       "      <th>25%</th>\n",
       "      <td>27.000000</td>\n",
       "      <td>27.360000</td>\n",
       "      <td>0.000000</td>\n",
       "      <td>21241.526875</td>\n",
       "    </tr>\n",
       "    <tr>\n",
       "      <th>50%</th>\n",
       "      <td>38.000000</td>\n",
       "      <td>31.130000</td>\n",
       "      <td>1.000000</td>\n",
       "      <td>36085.219000</td>\n",
       "    </tr>\n",
       "    <tr>\n",
       "      <th>75%</th>\n",
       "      <td>49.500000</td>\n",
       "      <td>35.565000</td>\n",
       "      <td>2.000000</td>\n",
       "      <td>41797.589050</td>\n",
       "    </tr>\n",
       "    <tr>\n",
       "      <th>max</th>\n",
       "      <td>64.000000</td>\n",
       "      <td>52.580000</td>\n",
       "      <td>4.000000</td>\n",
       "      <td>62592.873090</td>\n",
       "    </tr>\n",
       "  </tbody>\n",
       "</table>\n",
       "</div>"
      ],
      "text/plain": [
       "              age         bmi    children       charges\n",
       "count  159.000000  159.000000  159.000000    159.000000\n",
       "mean    38.446541   31.504182    1.188679  33042.005975\n",
       "std     13.751247    5.952028    1.170144  11202.670862\n",
       "min     18.000000   17.290000    0.000000  12829.455100\n",
       "25%     27.000000   27.360000    0.000000  21241.526875\n",
       "50%     38.000000   31.130000    1.000000  36085.219000\n",
       "75%     49.500000   35.565000    2.000000  41797.589050\n",
       "max     64.000000   52.580000    4.000000  62592.873090"
      ]
     },
     "execution_count": 16,
     "metadata": {},
     "output_type": "execute_result"
    }
   ],
   "source": [
    "insurance_data[(insurance_data['smoker'] == 'yes') & \n",
    "               (insurance_data['sex'] == 'male')].describe()"
   ]
  },
  {
   "cell_type": "code",
   "execution_count": 17,
   "id": "9058bae9",
   "metadata": {},
   "outputs": [
    {
     "data": {
      "text/html": [
       "<div>\n",
       "<style scoped>\n",
       "    .dataframe tbody tr th:only-of-type {\n",
       "        vertical-align: middle;\n",
       "    }\n",
       "\n",
       "    .dataframe tbody tr th {\n",
       "        vertical-align: top;\n",
       "    }\n",
       "\n",
       "    .dataframe thead th {\n",
       "        text-align: right;\n",
       "    }\n",
       "</style>\n",
       "<table border=\"1\" class=\"dataframe\">\n",
       "  <thead>\n",
       "    <tr style=\"text-align: right;\">\n",
       "      <th></th>\n",
       "      <th>age</th>\n",
       "      <th>bmi</th>\n",
       "      <th>children</th>\n",
       "      <th>charges</th>\n",
       "    </tr>\n",
       "  </thead>\n",
       "  <tbody>\n",
       "    <tr>\n",
       "      <th>count</th>\n",
       "      <td>115.000000</td>\n",
       "      <td>115.000000</td>\n",
       "      <td>115.000000</td>\n",
       "      <td>115.000000</td>\n",
       "    </tr>\n",
       "    <tr>\n",
       "      <th>mean</th>\n",
       "      <td>38.608696</td>\n",
       "      <td>29.608261</td>\n",
       "      <td>1.008696</td>\n",
       "      <td>30678.996276</td>\n",
       "    </tr>\n",
       "    <tr>\n",
       "      <th>std</th>\n",
       "      <td>14.217419</td>\n",
       "      <td>6.663802</td>\n",
       "      <td>1.135516</td>\n",
       "      <td>11907.536381</td>\n",
       "    </tr>\n",
       "    <tr>\n",
       "      <th>min</th>\n",
       "      <td>18.000000</td>\n",
       "      <td>17.195000</td>\n",
       "      <td>0.000000</td>\n",
       "      <td>13844.506000</td>\n",
       "    </tr>\n",
       "    <tr>\n",
       "      <th>25%</th>\n",
       "      <td>26.500000</td>\n",
       "      <td>24.650000</td>\n",
       "      <td>0.000000</td>\n",
       "      <td>19696.432100</td>\n",
       "    </tr>\n",
       "    <tr>\n",
       "      <th>50%</th>\n",
       "      <td>39.000000</td>\n",
       "      <td>28.380000</td>\n",
       "      <td>1.000000</td>\n",
       "      <td>28950.469200</td>\n",
       "    </tr>\n",
       "    <tr>\n",
       "      <th>75%</th>\n",
       "      <td>48.500000</td>\n",
       "      <td>34.352500</td>\n",
       "      <td>2.000000</td>\n",
       "      <td>40918.314500</td>\n",
       "    </tr>\n",
       "    <tr>\n",
       "      <th>max</th>\n",
       "      <td>64.000000</td>\n",
       "      <td>47.600000</td>\n",
       "      <td>5.000000</td>\n",
       "      <td>63770.428010</td>\n",
       "    </tr>\n",
       "  </tbody>\n",
       "</table>\n",
       "</div>"
      ],
      "text/plain": [
       "              age         bmi    children       charges\n",
       "count  115.000000  115.000000  115.000000    115.000000\n",
       "mean    38.608696   29.608261    1.008696  30678.996276\n",
       "std     14.217419    6.663802    1.135516  11907.536381\n",
       "min     18.000000   17.195000    0.000000  13844.506000\n",
       "25%     26.500000   24.650000    0.000000  19696.432100\n",
       "50%     39.000000   28.380000    1.000000  28950.469200\n",
       "75%     48.500000   34.352500    2.000000  40918.314500\n",
       "max     64.000000   47.600000    5.000000  63770.428010"
      ]
     },
     "execution_count": 17,
     "metadata": {},
     "output_type": "execute_result"
    }
   ],
   "source": [
    "insurance_data[(insurance_data['smoker'] == 'yes') & \n",
    "               (insurance_data['sex'] == 'female')].describe()"
   ]
  },
  {
   "cell_type": "code",
   "execution_count": 18,
   "id": "500c7463",
   "metadata": {},
   "outputs": [
    {
     "name": "stdout",
     "output_type": "stream",
     "text": [
      "SW policyholder amount: 325\n",
      "SE policyholder amount: 364\n",
      "NW policyholder amount: 325\n",
      "NE policyholder amount: 324\n"
     ]
    }
   ],
   "source": [
    "sw_ph = len(insurance_data[insurance_data[\"region\"]==\"southwest\"])\n",
    "se_ph = len(insurance_data[insurance_data[\"region\"]==\"southeast\"])\n",
    "nw_ph = len(insurance_data[insurance_data[\"region\"]==\"northwest\"])\n",
    "ne_ph = len(insurance_data[insurance_data[\"region\"]==\"northeast\"])\n",
    "\n",
    "print(f\"SW policyholder amount: {sw_ph}\")\n",
    "print(f\"SE policyholder amount: {se_ph}\")\n",
    "print(f\"NW policyholder amount: {nw_ph}\")\n",
    "print(f\"NE policyholder amount: {ne_ph}\")"
   ]
  },
  {
   "cell_type": "code",
   "execution_count": 19,
   "id": "843873dc",
   "metadata": {},
   "outputs": [
    {
     "data": {
      "text/plain": [
       "([<matplotlib.patches.Wedge at 0x16184df40>,\n",
       "  <matplotlib.patches.Wedge at 0x16149da30>,\n",
       "  <matplotlib.patches.Wedge at 0x1618d1880>,\n",
       "  <matplotlib.patches.Wedge at 0x1616280d0>],\n",
       " [Text(0.7949723523462666, 0.7602755809606433, 'Southwest policyholder'),\n",
       "  Text(-0.7967552295083369, 0.7584069516104911, 'Southeast policyholder'),\n",
       "  Text(-0.7201694244483217, -0.8314782018127556, 'Northwest policyholder'),\n",
       "  Text(0.7967551940047441, -0.7584069889092945, 'Northeast policyholder')],\n",
       " [Text(0.43362128309796355, 0.4146957714330781, '24%'),\n",
       "  Text(-0.4345937615500019, 0.4136765190602678, '27%'),\n",
       "  Text(-0.39281968606272083, -0.45353356462513933, '24%'),\n",
       "  Text(0.43459374218440583, -0.41367653940506965, '24%')])"
      ]
     },
     "execution_count": 19,
     "metadata": {},
     "output_type": "execute_result"
    },
    {
     "data": {
      "image/png": "[encoded data removed]",
      "text/plain": [
       "<Figure size 432x288 with 1 Axes>"
      ]
     },
     "metadata": {},
     "output_type": "display_data"
    }
   ],
   "source": [
    "region_pie_label = [\"Southwest policyholder\",\"Southeast policyholder\", \"Northwest policyholder\", \"Northeast policyholder\"]\n",
    "region_pie_data = [sw_ph, se_ph, nw_ph, ne_ph]\n",
    "\n",
    "plt.pie(region_pie_data, labels=region_pie_label, colors=sns.color_palette('Set2'), autopct='%.0f%%')"
   ]
  },
  {
   "cell_type": "code",
   "execution_count": 20,
   "id": "10df7afa",
   "metadata": {},
   "outputs": [
    {
     "name": "stdout",
     "output_type": "stream",
     "text": [
      "smoker policyholder amount: 274\n",
      "nonsmoker policyholder amount: 1064\n"
     ]
    }
   ],
   "source": [
    "n_smoker = len(insurance_data[insurance_data[\"smoker\"]==\"yes\"])\n",
    "n_non_smoker = len(insurance_data[insurance_data[\"smoker\"]==\"no\"])\n",
    "\n",
    "print(f\"smoker policyholder amount: {n_smoker}\")\n",
    "print(f\"nonsmoker policyholder amount: {n_non_smoker}\")"
   ]
  },
  {
   "cell_type": "code",
   "execution_count": 21,
   "id": "fc5f976b",
   "metadata": {},
   "outputs": [
    {
     "data": {
      "text/plain": [
       "([<matplotlib.patches.Wedge at 0x161565c70>,\n",
       "  <matplotlib.patches.Wedge at 0x161977430>],\n",
       " [Text(0.8801026332278259, 0.6598631335250115, 'Smoker'),\n",
       "  Text(-0.880102633227826, -0.6598631335250114, 'Nonsmoker')],\n",
       " [Text(0.48005598176063224, 0.35992534555909717, '20%'),\n",
       "  Text(-0.4800559817606323, -0.3599253455590971, '80%')])"
      ]
     },
     "execution_count": 21,
     "metadata": {},
     "output_type": "execute_result"
    },
    {
     "data": {
      "image/png": "[encoded data removed]",
      "text/plain": [
       "<Figure size 432x288 with 1 Axes>"
      ]
     },
     "metadata": {},
     "output_type": "display_data"
    }
   ],
   "source": [
    "smoker_color = ['#6c3461', # Smoker\n",
    "                '#ff796c', # Non-smoker\n",
    "               ]\n",
    "smoker_pie_label = [\"Smoker\", \"Nonsmoker\"]\n",
    "smoker_pie_data = [n_smoker, n_non_smoker]\n",
    "\n",
    "plt.pie(smoker_pie_data, labels=smoker_pie_label, colors=sns.color_palette(smoker_color), autopct='%.0f%%')"
   ]
  },
  {
   "cell_type": "code",
   "execution_count": 22,
   "id": "46634e58",
   "metadata": {},
   "outputs": [
    {
     "name": "stdout",
     "output_type": "stream",
     "text": [
      "male policyholder amount: 676\n",
      "female policyholder amount: 662\n"
     ]
    }
   ],
   "source": [
    "n_male = len(insurance_data[insurance_data[\"sex\"]==\"male\"])\n",
    "n_female = len(insurance_data[insurance_data[\"sex\"]==\"female\"])\n",
    "\n",
    "print(f\"male policyholder amount: {n_male}\")\n",
    "print(f\"female policyholder amount: {n_female}\")"
   ]
  },
  {
   "cell_type": "code",
   "execution_count": 23,
   "id": "299eacc5",
   "metadata": {},
   "outputs": [
    {
     "data": {
      "text/plain": [
       "([<matplotlib.patches.Wedge at 0x1619bd700>,\n",
       "  <matplotlib.patches.Wedge at 0x1619bde80>],\n",
       " [Text(-0.018078568997004985, 1.0998514287589123, 'Male'),\n",
       "  Text(0.018078568997005343, -1.0998514287589123, 'Female')],\n",
       " [Text(-0.009861037634729992, 0.5999189611412249, '51%'),\n",
       "  Text(0.009861037634730185, -0.5999189611412248, '49%')])"
      ]
     },
     "execution_count": 23,
     "metadata": {},
     "output_type": "execute_result"
    },
    {
     "data": {
      "image/png": "[encoded data removed]",
      "text/plain": [
       "<Figure size 432x288 with 1 Axes>"
      ]
     },
     "metadata": {},
     "output_type": "display_data"
    }
   ],
   "source": [
    "gender_color = ['#36a4c4', #Male\n",
    "                '#cb416b', #Female\n",
    "               ]\n",
    "gender_pie_label = [\"Male\", \"Female\"]\n",
    "gender_pie_data = [n_male, n_female]\n",
    "\n",
    "plt.pie(gender_pie_data, labels=gender_pie_label, colors=sns.color_palette(gender_color), autopct='%.0f%%')"
   ]
  },
  {
   "cell_type": "code",
   "execution_count": 24,
   "id": "f78b83d9",
   "metadata": {},
   "outputs": [
    {
     "name": "stdout",
     "output_type": "stream",
     "text": [
      "n(smoker)= 274\n",
      "n(smoker n male)= 159\n",
      "n(smoker n female)= 115 \n",
      "\n",
      "P(male|smoker)= 0.58\n",
      "P(female|smoker)= 0.42\n"
     ]
    }
   ],
   "source": [
    "n_smoker = len(insurance_data[insurance_data[\"smoker\"]==\"yes\"])\n",
    "n_smoker_female = len(insurance_data[(insurance_data[\"smoker\"]==\"yes\") & (insurance_data[\"sex\"]==\"female\")])\n",
    "n_smoker_male = len(insurance_data[(insurance_data[\"smoker\"]==\"yes\") & (insurance_data[\"sex\"]==\"male\")])\n",
    "\n",
    "print(f\"n(smoker)= {n_smoker}\")\n",
    "print(f\"n(smoker n male)= {n_smoker_male}\")\n",
    "print(f\"n(smoker n female)= {n_smoker_female} \\n\")\n",
    "\n",
    "p_smoker_male = n_smoker_male / n_smoker\n",
    "p_smoker_female = n_smoker_female / n_smoker\n",
    "\n",
    "print(f\"P(male|smoker)= {round(p_smoker_male,2)}\")\n",
    "print(f\"P(female|smoker)= {round(p_smoker_female,2)}\")"
   ]
  },
  {
   "cell_type": "code",
   "execution_count": 25,
   "id": "74e103e1",
   "metadata": {},
   "outputs": [
    {
     "name": "stdout",
     "output_type": "stream",
     "text": [
      "n(smoker)= 274\n",
      "n(smoker n charges>16.7k)= 254\n",
      "P(smoker n charges>16.7k)= 0.927007299270073\n"
     ]
    }
   ],
   "source": [
    "n_smoker = len(insurance_data[(insurance_data[\"smoker\"]==\"yes\")])\n",
    "n_smoker_ch167 = len(insurance_data[(insurance_data[\"smoker\"]==\"yes\") & \n",
    "                                    (insurance_data[\"charges\"]>16700)])\n",
    "p_smoker_ch167 = n_smoker_ch167 / n_smoker\n",
    "\n",
    "print(\"n(smoker)=\",n_smoker)\n",
    "print(\"n(smoker n charges>16.7k)=\",n_smoker_ch167)\n",
    "print(\"P(smoker n charges>16.7k)=\",p_smoker_ch167)"
   ]
  },
  {
   "cell_type": "code",
   "execution_count": 26,
   "id": "c0b6d55a",
   "metadata": {},
   "outputs": [
    {
     "name": "stdout",
     "output_type": "stream",
     "text": [
      "n(nonsmoker)= 1064\n",
      "n(nonsmoker n charges>16.7k)= 80\n",
      "P(nonsmoker n charges>16.7k)= 0.07518796992481203\n"
     ]
    }
   ],
   "source": [
    "n_nonsmoker = len(insurance_data[(insurance_data[\"smoker\"]==\"no\")])\n",
    "n_nonsmoker_ch167 = len(insurance_data[(insurance_data[\"smoker\"]==\"no\") & \n",
    "                                       (insurance_data[\"charges\"]>16700)])\n",
    "p_nonsmoker_ch167 = n_nonsmoker_ch167 / n_nonsmoker\n",
    "\n",
    "print(\"n(nonsmoker)=\",n_nonsmoker)\n",
    "print(\"n(nonsmoker n charges>16.7k)=\",n_nonsmoker_ch167)\n",
    "print(\"P(nonsmoker n charges>16.7k)=\",p_nonsmoker_ch167)"
   ]
  },
  {
   "cell_type": "code",
   "execution_count": 27,
   "id": "ee63bbe5",
   "metadata": {},
   "outputs": [
    {
     "name": "stdout",
     "output_type": "stream",
     "text": [
      "n(bmi>25)= 1091\n",
      "n(bmi>25 n charges>16.7k)= 283\n",
      "P(bmi>25 n charges>16.7k)= 0.25939505041246563\n"
     ]
    }
   ],
   "source": [
    "n_bmia25 = len(insurance_data[(insurance_data[\"bmi\"]>25)])\n",
    "n_bmia25_ch167 = len(insurance_data[(insurance_data[\"bmi\"]>25) & \n",
    "                                    (insurance_data[\"charges\"]>16700)])\n",
    "p_bmia25_ch167 = n_bmia25_ch167 / n_bmia25\n",
    "print(\"n(bmi>25)=\",n_bmia25)\n",
    "print(\"n(bmi>25 n charges>16.7k)=\",n_bmia25_ch167)\n",
    "print(\"P(bmi>25 n charges>16.7k)=\",p_bmia25_ch167)"
   ]
  },
  {
   "cell_type": "code",
   "execution_count": 28,
   "id": "84e7aa4d",
   "metadata": {},
   "outputs": [
    {
     "name": "stdout",
     "output_type": "stream",
     "text": [
      "n(bmi<25)= 245\n",
      "n(bmi<25 n charges>16.7k)= 51\n",
      "P(bmi<25 n charges>16.7k)= 0.20816326530612245\n"
     ]
    }
   ],
   "source": [
    "n_bmiu25 = len(insurance_data[(insurance_data[\"bmi\"]<25)])\n",
    "n_bmiu25_ch167 = len(insurance_data[(insurance_data[\"bmi\"]<25) & \n",
    "                                    (insurance_data[\"charges\"]>16700)])\n",
    "p_bmiu25_ch167 = n_bmiu25_ch167 / n_bmiu25\n",
    "print(\"n(bmi<25)=\", n_bmiu25)\n",
    "print(\"n(bmi<25 n charges>16.7k)=\", n_bmiu25_ch167)\n",
    "print(\"P(bmi<25 n charges>16.7k)=\", p_bmiu25_ch167)"
   ]
  },
  {
   "cell_type": "code",
   "execution_count": 29,
   "id": "b589e9fe",
   "metadata": {},
   "outputs": [
    {
     "name": "stdout",
     "output_type": "stream",
     "text": [
      "n(smoker n BMI>25)= 219\n",
      "n(smoker n BMI>25 n charges>16.7k)= 215\n",
      "P(charges>16.7k | smoker n BMI>25)= 0.9817351598173516\n"
     ]
    }
   ],
   "source": [
    "n_smoker_bmia25 = len(insurance_data[(insurance_data[\"smoker\"]==\"yes\") & \n",
    "                                     (insurance_data[\"bmi\"]>25)])\n",
    "n_smoker_bmia25_ch167 = len(insurance_data[(insurance_data[\"smoker\"]==\"yes\") & \n",
    "                                           (insurance_data[\"bmi\"]>25) & \n",
    "                                           (insurance_data[\"charges\"]>16700)])\n",
    "p_smoker_bmia25_ch167 = n_smoker_bmia25_ch167 / n_smoker_bmia25\n",
    "\n",
    "print(\"n(smoker n BMI>25)=\",n_smoker_bmia25)\n",
    "print(\"n(smoker n BMI>25 n charges>16.7k)=\",n_smoker_bmia25_ch167)\n",
    "print(\"P(charges>16.7k | smoker n BMI>25)=\",p_smoker_bmia25_ch167)"
   ]
  },
  {
   "cell_type": "code",
   "execution_count": 30,
   "id": "b196e9c3",
   "metadata": {},
   "outputs": [
    {
     "name": "stdout",
     "output_type": "stream",
     "text": [
      "n(nonsmoker n BMI>25)= 872\n",
      "n(nonsmoker n BMI>25 n charges>16.7k)= 68\n",
      "P(charges>16.7k | nonsmoker n BMI>25)= 0.0779816513761468\n"
     ]
    }
   ],
   "source": [
    "n_nonsmoker_bmia25 = len(insurance_data[(insurance_data[\"smoker\"]==\"no\") & \n",
    "                                        (insurance_data[\"bmi\"]>25)])\n",
    "n_nonsmoker_bmia25_ch167 = len(insurance_data[(insurance_data[\"smoker\"]==\"no\") & \n",
    "                                              (insurance_data[\"bmi\"]>25) & \n",
    "                                              (insurance_data[\"charges\"]>16700)])\n",
    "p_nonsmoker_bmia25_ch167 = n_nonsmoker_bmia25_ch167 / n_nonsmoker_bmia25\n",
    "\n",
    "print(\"n(nonsmoker n BMI>25)=\",n_nonsmoker_bmia25)\n",
    "print(\"n(nonsmoker n BMI>25 n charges>16.7k)=\",n_nonsmoker_bmia25_ch167)\n",
    "print(\"P(charges>16.7k | nonsmoker n BMI>25)=\",p_nonsmoker_bmia25_ch167)"
   ]
  },
  {
   "cell_type": "code",
   "execution_count": 31,
   "id": "d6a95634",
   "metadata": {},
   "outputs": [
    {
     "name": "stdout",
     "output_type": "stream",
     "text": [
      "n(smoker n BMI<25)= 55\n",
      "n(smoker n BMI<25 n charges>16.7k)= 39\n",
      "P(charges>16.7k | smoker n BMI<25)= 0.7090909090909091\n"
     ]
    }
   ],
   "source": [
    "n_smoker_bmiu25 = len(insurance_data[(insurance_data[\"smoker\"]==\"yes\") & \n",
    "                                     (insurance_data[\"bmi\"]<25)])\n",
    "n_smoker_bmiu25_ch167 = len(insurance_data[(insurance_data[\"smoker\"]==\"yes\") & \n",
    "                                           (insurance_data[\"bmi\"]<25) & \n",
    "                                           (insurance_data[\"charges\"]>16700)])\n",
    "p_smoker_bmiu25_ch167 = n_smoker_bmiu25_ch167 / n_smoker_bmiu25\n",
    "\n",
    "print(\"n(smoker n BMI<25)=\",n_smoker_bmiu25)\n",
    "print(\"n(smoker n BMI<25 n charges>16.7k)=\",n_smoker_bmiu25_ch167)\n",
    "print(\"P(charges>16.7k | smoker n BMI<25)=\",p_smoker_bmiu25_ch167)"
   ]
  },
  {
   "cell_type": "code",
   "execution_count": 32,
   "id": "5f494405",
   "metadata": {},
   "outputs": [
    {
     "name": "stdout",
     "output_type": "stream",
     "text": [
      "n(nonsmoker n BMI<25)= 190\n",
      "n(nonsmoker n BMI<25 n charges>16.7k)= 12\n",
      "P(charges>16.7k | nonsmoker n BMI<25)= 0.06315789473684211\n"
     ]
    }
   ],
   "source": [
    "n_nonsmoker_bmiu25 = len(insurance_data[(insurance_data[\"smoker\"]==\"no\") & \n",
    "                                        (insurance_data[\"bmi\"]<25)])\n",
    "n_nonsmoker_bmiu25_ch167 = len(insurance_data[(insurance_data[\"smoker\"]==\"no\") & \n",
    "                                              (insurance_data[\"bmi\"]<25) & \n",
    "                                              (insurance_data[\"charges\"]>16700)])\n",
    "p_nonsmoker_bmiu25_ch167 = n_nonsmoker_bmiu25_ch167 / n_nonsmoker_bmiu25\n",
    "\n",
    "print(\"n(nonsmoker n BMI<25)=\",n_nonsmoker_bmiu25)\n",
    "print(\"n(nonsmoker n BMI<25 n charges>16.7k)=\",n_nonsmoker_bmiu25_ch167)\n",
    "print(\"P(charges>16.7k | nonsmoker n BMI<25)=\",p_nonsmoker_bmiu25_ch167)"
   ]
  },
  {
   "cell_type": "code",
   "execution_count": 33,
   "id": "7dce821f",
   "metadata": {},
   "outputs": [
    {
     "name": "stdout",
     "output_type": "stream",
     "text": [
      "covariance between quantitative variables\n",
      "                   age           bmi    children       charges\n",
      "age         197.401387      9.362337    0.719303  5.087480e+04\n",
      "bmi           9.362337     37.187884    0.093795  1.464730e+04\n",
      "children      0.719303      0.093795    1.453213  9.926742e+02\n",
      "charges   50874.802298  14647.304426  992.674197  1.466524e+08 \n",
      "\n",
      "correlation coefficient between quantitative variables\n",
      "               age       bmi  children   charges\n",
      "age       1.000000  0.109272  0.042469  0.299008\n",
      "bmi       0.109272  1.000000  0.012759  0.198341\n",
      "children  0.042469  0.012759  1.000000  0.067998\n",
      "charges   0.299008  0.198341  0.067998  1.000000\n"
     ]
    },
    {
     "data": {
      "text/plain": [
       "<AxesSubplot:title={'center':'Heat map for correlation coefficient between quantitative variables'}>"
      ]
     },
     "execution_count": 33,
     "metadata": {},
     "output_type": "execute_result"
    },
    {
     "data": {
      "image/png": "[encoded data removed]",
      "text/plain": [
       "<Figure size 360x288 with 2 Axes>"
      ]
     },
     "metadata": {
      "needs_background": "light"
     },
     "output_type": "display_data"
    }
   ],
   "source": [
    "cov_insurance_data = insurance_data.cov()\n",
    "corr_insurance_data = insurance_data.corr()\n",
    "\n",
    "print('covariance between quantitative variables')\n",
    "print(cov_insurance_data,'\\n')\n",
    "print('correlation coefficient between quantitative variables')\n",
    "print(corr_insurance_data)\n",
    "\n",
    "f, ax = plt.subplots(figsize=(5, 4))\n",
    "plt.title(\"Heat map for correlation coefficient between quantitative variables\")\n",
    "sns.heatmap(corr_insurance_data, mask=np.zeros_like(corr_insurance_data, dtype=np.bool), cmap=sns.diverging_palette(240,10,as_cmap=True),\n",
    "            square=True, annot = True, ax=ax)"
   ]
  },
  {
   "cell_type": "code",
   "execution_count": 34,
   "id": "5ba15c54",
   "metadata": {},
   "outputs": [
    {
     "data": {
      "text/plain": [
       "<AxesSubplot:title={'center':'age by smoke status'}, xlabel='smoker', ylabel='age'>"
      ]
     },
     "execution_count": 34,
     "metadata": {},
     "output_type": "execute_result"
    },
    {
     "data": {
      "image/png": "[encoded data removed]",
      "text/plain": [
       "<Figure size 432x288 with 4 Axes>"
      ]
     },
     "metadata": {
      "needs_background": "light"
     },
     "output_type": "display_data"
    }
   ],
   "source": [
    "plt.subplots_adjust(bottom=1, right=3, top=2)\n",
    "\n",
    "plt.subplot(141)\n",
    "plt.title(\"charges by smoke status\")\n",
    "sns.boxplot(y=\"charges\", x=\"smoker\", data =  insurance_data, palette = 'magma')\n",
    "\n",
    "plt.subplot(142)\n",
    "plt.title(\"bmi by smoke status\")\n",
    "sns.boxplot(y=\"bmi\", x=\"smoker\", data =  insurance_data, palette = 'magma')\n",
    "\n",
    "plt.subplot(143)\n",
    "plt.title(\"children by smoke status\")\n",
    "sns.boxplot(y=\"children\", x=\"smoker\", data =  insurance_data, palette = 'magma')\n",
    "\n",
    "plt.subplot(144)\n",
    "plt.title(\"age by smoke status\")\n",
    "sns.boxplot(y=\"age\", x=\"smoker\", data =  insurance_data, palette = 'magma')"
   ]
  },
  {
   "cell_type": "code",
   "execution_count": 35,
   "id": "ce7780e2",
   "metadata": {},
   "outputs": [
    {
     "data": {
      "text/plain": [
       "<AxesSubplot:title={'center':'age by gender'}, xlabel='sex', ylabel='age'>"
      ]
     },
     "execution_count": 35,
     "metadata": {},
     "output_type": "execute_result"
    },
    {
     "data": {
      "image/png": "[encoded data removed]",
      "text/plain": [
       "<Figure size 432x288 with 4 Axes>"
      ]
     },
     "metadata": {
      "needs_background": "light"
     },
     "output_type": "display_data"
    }
   ],
   "source": [
    "plt.subplots_adjust(bottom=1, right=3, top=2)\n",
    "\n",
    "plt.subplot(141)\n",
    "plt.title(\"charges by gender\")\n",
    "sns.boxplot(y=\"charges\", x=\"sex\", data =  insurance_data, palette = 'magma')\n",
    "\n",
    "plt.subplot(142)\n",
    "plt.title(\"bmi by gender\")\n",
    "sns.boxplot(y=\"bmi\", x=\"sex\", data =  insurance_data, palette = 'magma')\n",
    "\n",
    "plt.subplot(143)\n",
    "plt.title(\"children by gender\")\n",
    "sns.boxplot(y=\"children\", x=\"sex\", data =  insurance_data, palette = 'magma')\n",
    "\n",
    "plt.subplot(144)\n",
    "plt.title(\"age by gender\")\n",
    "sns.boxplot(y=\"age\", x=\"sex\", data =  insurance_data, palette = 'magma')"
   ]
  },
  {
   "cell_type": "code",
   "execution_count": 36,
   "id": "df3d22af",
   "metadata": {},
   "outputs": [
    {
     "data": {
      "text/plain": [
       "<AxesSubplot:title={'center':'children by region'}, xlabel='region', ylabel='age'>"
      ]
     },
     "execution_count": 36,
     "metadata": {},
     "output_type": "execute_result"
    },
    {
     "data": {
      "image/png": "[encoded data removed]",
      "text/plain": [
       "<Figure size 432x288 with 4 Axes>"
      ]
     },
     "metadata": {
      "needs_background": "light"
     },
     "output_type": "display_data"
    }
   ],
   "source": [
    "plt.subplots_adjust(bottom=1, right=3, top=2)\n",
    "\n",
    "plt.subplot(141)\n",
    "plt.title(\"charges by region\")\n",
    "sns.boxplot(y=\"charges\", x=\"region\", data =  insurance_data, palette = 'magma')\n",
    "\n",
    "plt.subplot(142)\n",
    "plt.title(\"bmi by region\")\n",
    "sns.boxplot(y=\"bmi\", x=\"region\", data =  insurance_data, palette = 'magma')\n",
    "\n",
    "plt.subplot(143)\n",
    "plt.title(\"children by region\")\n",
    "sns.boxplot(y=\"children\", x=\"region\", data =  insurance_data, palette = 'magma')\n",
    "\n",
    "plt.subplot(144)\n",
    "plt.title(\"children by region\")\n",
    "sns.boxplot(y=\"age\", x=\"region\", data =  insurance_data, palette = 'magma')"
   ]
  },
  {
   "cell_type": "code",
   "execution_count": 38,
   "id": "286d5fe3",
   "metadata": {},
   "outputs": [
    {
     "data": {
      "image/png": "[encoded data removed]",
      "text/plain": [
       "<Figure size 413.25x360 with 1 Axes>"
      ]
     },
     "metadata": {
      "needs_background": "light"
     },
     "output_type": "display_data"
    },
    {
     "data": {
      "image/png": "[encoded data removed]",
      "text/plain": [
       "<Figure size 413.25x360 with 1 Axes>"
      ]
     },
     "metadata": {
      "needs_background": "light"
     },
     "output_type": "display_data"
    },
    {
     "data": {
      "image/png": "[encoded data removed]",
      "text/plain": [
       "<Figure size 413.25x360 with 1 Axes>"
      ]
     },
     "metadata": {
      "needs_background": "light"
     },
     "output_type": "display_data"
    }
   ],
   "source": [
    "smoker_color = ['#6c3461', \n",
    "                '#ff796c',\n",
    "               ]\n",
    "\n",
    "ax = sns.lmplot(x = 'age', y = 'charges', data=insurance_data, hue='smoker', palette=smoker_color)\n",
    "ax = sns.lmplot(x = 'bmi', y = 'charges', data=insurance_data, hue='smoker', palette=smoker_color)\n",
    "ax = sns.lmplot(x = 'children', y = 'charges', data=insurance_data, hue='smoker', palette=smoker_color)"
   ]
  },
  {
   "cell_type": "code",
   "execution_count": 39,
   "id": "01f636d2",
   "metadata": {},
   "outputs": [],
   "source": [
    "cont_sex_smoker = pd.crosstab(insurance_data['sex'],\n",
    "                              insurance_data['smoker'])\n",
    "cont_region_smoker = pd.crosstab(insurance_data['region'],\n",
    "                              insurance_data['smoker'])\n",
    "cont_region_sex = pd.crosstab(insurance_data['region'],\n",
    "                              insurance_data['sex'])"
   ]
  },
  {
   "cell_type": "code",
   "execution_count": 40,
   "id": "dd49c0c1",
   "metadata": {},
   "outputs": [
    {
     "name": "stdout",
     "output_type": "stream",
     "text": [
      "p value is 0.006548143503580696\n",
      "Dependent (reject H0)\n"
     ]
    }
   ],
   "source": [
    "#independency test sex-smoker\n",
    "c, p, dof, expected = chi2_contingency(cont_sex_smoker)\n",
    "p\n",
    "\n",
    "# interpret p-value\n",
    "alpha = 0.05\n",
    "print(\"p value is \" + str(p))\n",
    "if p <= alpha:\n",
    "    print('Dependent (reject H0)')\n",
    "else:\n",
    "    print('Independent (H0 holds true)')"
   ]
  },
  {
   "cell_type": "code",
   "execution_count": 41,
   "id": "1bf66ce7",
   "metadata": {},
   "outputs": [
    {
     "name": "stdout",
     "output_type": "stream",
     "text": [
      "p value is 0.06171954839170541\n",
      "Independent (H0 holds true)\n"
     ]
    }
   ],
   "source": [
    "#independency test region-smoker\n",
    "c, p, dof, expected = chi2_contingency(cont_region_smoker)\n",
    "p\n",
    "\n",
    "# interpret p-value\n",
    "alpha = 0.05\n",
    "print(\"p value is \" + str(p))\n",
    "if p <= alpha:\n",
    "    print('Dependent (reject H0)')\n",
    "else:\n",
    "    print('Independent (H0 holds true)')"
   ]
  },
  {
   "cell_type": "code",
   "execution_count": 43,
   "id": "c3bb8e82",
   "metadata": {},
   "outputs": [
    {
     "name": "stdout",
     "output_type": "stream",
     "text": [
      "p value is 0.9328921288772233\n",
      "Independent (H0 holds true)\n"
     ]
    }
   ],
   "source": [
    "c, p, dof, expected = chi2_contingency(cont_region_sex)\n",
    "p\n",
    "\n",
    "alpha = 0.05\n",
    "print(\"p value is \" + str(p))\n",
    "if p <= alpha:\n",
    "    print('Dependent (reject H0)')\n",
    "else:\n",
    "    print('Independent (H0 holds true)')"
   ]
  },
  {
   "cell_type": "code",
   "execution_count": 44,
   "id": "699710bf",
   "metadata": {},
   "outputs": [
    {
     "name": "stdout",
     "output_type": "stream",
     "text": [
      "no. of smoker sample: 274\n",
      "no. of nonsmoker sample: 1064\n"
     ]
    }
   ],
   "source": [
    "n_smoker = len(insurance_data[insurance_data['smoker']=='yes'])\n",
    "n_nonsmoker = len(insurance_data[insurance_data['smoker']=='no'])\n",
    "print('no. of smoker sample:', n_smoker)\n",
    "print('no. of nonsmoker sample:', n_nonsmoker)"
   ]
  },
  {
   "cell_type": "code",
   "execution_count": 45,
   "id": "51ce13d6",
   "metadata": {},
   "outputs": [
    {
     "name": "stdout",
     "output_type": "stream",
     "text": [
      "p value is 5.06089742139399e-52\n",
      "The variances are not equal (reject H0)\n"
     ]
    }
   ],
   "source": [
    "smoker_charges = insurance_data.loc[insurance_data['smoker']=='yes','charges']\n",
    "nonsmoker_charges = insurance_data.loc[insurance_data['smoker']=='no','charges']\n",
    "\n",
    "stat_bart, p_bart = stats.bartlett(smoker_charges, nonsmoker_charges)\n",
    "\n",
    "alpha = 0.05\n",
    "print(\"p value is \" + str(p_bart))\n",
    "if p_bart <= alpha:\n",
    "    print('The variances are not equal (reject H0)')\n",
    "else:\n",
    "    print('The variances are equal (H0 holds true)')"
   ]
  },
  {
   "cell_type": "code",
   "execution_count": 46,
   "id": "02d20f7a",
   "metadata": {},
   "outputs": [
    {
     "name": "stdout",
     "output_type": "stream",
     "text": [
      "test statistic = 32.751887766341824 , p-value =5.88946444671698e-103 , one-tail p-value = 2.94473222335849e-103\n",
      "The average charges of smokers is greater than nonsmokers (reject H0)\n"
     ]
    }
   ],
   "source": [
    "alpha = 0.05\n",
    "t_stat_1, p_val_t1 = stats.ttest_ind(smoker_charges, nonsmoker_charges, equal_var = False)\n",
    "p_value_onetail_1 = p_val_t1/2\n",
    "\n",
    "print(\"test statistic = {} , p-value ={} , one-tail p-value = {}\".format(t_stat_1,p_val_t1, p_value_onetail_1 ))\n",
    "\n",
    "if p_value_onetail_1 < alpha :\n",
    "    print(\"The average charges of smokers is greater than nonsmokers (reject H0)\")\n",
    "    \n",
    "else:\n",
    "    print(\"The average charges of smokers is less than or equal to nonsmokers (H0 holds true)\")"
   ]
  },
  {
   "cell_type": "code",
   "execution_count": 47,
   "id": "72ea25ca",
   "metadata": {},
   "outputs": [
    {
     "name": "stdout",
     "output_type": "stream",
     "text": [
      "no. of bmi above 25: 1091\n",
      "no. of bmi under 25: 245\n"
     ]
    }
   ],
   "source": [
    "n_bmi_a_25 = len(insurance_data[insurance_data['bmi']>25])\n",
    "n_bmi_u_25 = len(insurance_data[insurance_data['bmi']<25])\n",
    "print('no. of bmi above 25:', n_bmi_a_25)\n",
    "print('no. of bmi under 25:', n_bmi_u_25)"
   ]
  },
  {
   "cell_type": "code",
   "execution_count": 48,
   "id": "95cc9eff",
   "metadata": {},
   "outputs": [
    {
     "name": "stdout",
     "output_type": "stream",
     "text": [
      "p value is 2.3532085528057478e-21\n",
      "The variances are not equal (reject H0)\n"
     ]
    }
   ],
   "source": [
    "bmi_a_25_charges = insurance_data.loc[insurance_data['bmi']>25,'charges']\n",
    "bmi_u_25_charges = insurance_data.loc[insurance_data['bmi']<25,'charges']\n",
    "\n",
    "stat_bart, p_bart = stats.bartlett(bmi_a_25_charges, bmi_u_25_charges)\n",
    "\n",
    "alpha = 0.05\n",
    "print(\"p value is \" + str(p_bart))\n",
    "if p_bart <= alpha:\n",
    "    print('The variances are not equal (reject H0)')\n",
    "else:\n",
    "    print('The variances are equal (H0 holds true)')"
   ]
  },
  {
   "cell_type": "code",
   "execution_count": 49,
   "id": "d924f7b2",
   "metadata": {},
   "outputs": [
    {
     "name": "stdout",
     "output_type": "stream",
     "text": [
      "test statistic = 5.929878344096734 , p-value =5.080897303161378e-09 , one-tail p-value = 2.540448651580689e-09\n",
      "The average charges of insurance customer with BMI above 25 is greater than those with BMI value under 25 (reject H0)\n"
     ]
    }
   ],
   "source": [
    "alpha = 0.05\n",
    "t_stat_2, p_val_t2 = stats.ttest_ind(bmi_a_25_charges, bmi_u_25_charges, equal_var = False)\n",
    "p_value_onetail_2 = p_val_t2/2\n",
    "\n",
    "print(\"test statistic = {} , p-value ={} , one-tail p-value = {}\".format(t_stat_2,p_val_t2, p_value_onetail_2 ))\n",
    "\n",
    "if p_value_onetail_2 < alpha :\n",
    "    print(\"The average charges of insurance customer with BMI above 25 is greater than those with BMI value under 25 (reject H0)\")\n",
    "    \n",
    "else:\n",
    "    print(\"The average charges of insurance customer with BMI above 25 is less than or equal to those with BMI value under 25 (H0 holds true)\")"
   ]
  },
  {
   "cell_type": "code",
   "execution_count": 50,
   "id": "ed7fef79",
   "metadata": {},
   "outputs": [
    {
     "name": "stdout",
     "output_type": "stream",
     "text": [
      "no. of male: 676\n",
      "no. of female 662\n"
     ]
    }
   ],
   "source": [
    "n_male = len(insurance_data[insurance_data['sex']=='male'])\n",
    "n_female = len(insurance_data[insurance_data['sex']=='female'])\n",
    "print('no. of male:', n_male)\n",
    "print('no. of female', n_female)"
   ]
  },
  {
   "cell_type": "code",
   "execution_count": 51,
   "id": "6eb5f336",
   "metadata": {},
   "outputs": [
    {
     "name": "stdout",
     "output_type": "stream",
     "text": [
      "p value is 7.886776680290195e-05\n",
      "The variances are not equal (reject H0)\n"
     ]
    }
   ],
   "source": [
    "male_charges = insurance_data.loc[insurance_data['sex']=='male','charges']\n",
    "female_charges = insurance_data.loc[insurance_data['sex']=='female','charges']\n",
    "\n",
    "stat_bart, p_bart = stats.bartlett(male_charges, female_charges)\n",
    "\n",
    "alpha = 0.05\n",
    "print(\"p value is \" + str(p_bart))\n",
    "if p_bart <= alpha:\n",
    "    print('The variances are not equal (reject H0)')\n",
    "else:\n",
    "    print('The variances are equal (H0 holds true)')"
   ]
  },
  {
   "cell_type": "code",
   "execution_count": 52,
   "id": "b41666b8",
   "metadata": {},
   "outputs": [
    {
     "name": "stdout",
     "output_type": "stream",
     "text": [
      "test statistic = 2.1008878232359565 , p-value =0.035841014956016645 , one-tail p-value = 0.017920507478008323\n",
      "The average charges of male is greater than female (reject H0)\n"
     ]
    }
   ],
   "source": [
    "alpha = 0.05\n",
    "t_stat_3, p_val_t3 = stats.ttest_ind(male_charges, female_charges, equal_var = False)\n",
    "p_value_onetail_3 = p_val_t3/2\n",
    "\n",
    "print(\"test statistic = {} , p-value ={} , one-tail p-value = {}\".format(t_stat_3,p_val_t3, p_value_onetail_3 ))\n",
    "\n",
    "if p_value_onetail_3 < alpha :\n",
    "    print(\"The average charges of male is greater than female (reject H0)\")\n",
    "    \n",
    "else:\n",
    "    print(\"The average charges of male is less than or equal to female (H0 holds true)\")"
   ]
  }
 ],
 "metadata": {
  "kernelspec": {
   "display_name": "Python 3",
   "language": "python",
   "name": "python3"
  },
  "language_info": {
   "codemirror_mode": {
    "name": "ipython",
    "version": 3
   },
   "file_extension": ".py",
   "mimetype": "text/x-python",
   "name": "python",
   "nbconvert_exporter": "python",
   "pygments_lexer": "ipython3",
   "version": "3.9.5"
  }
 },
 "nbformat": 4,
 "nbformat_minor": 5
}
