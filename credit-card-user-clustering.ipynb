{
 "cells": [
  {
   "cell_type": "code",
   "execution_count": 1,
   "id": "a413059d",
   "metadata": {
    "_cell_guid": "b1076dfc-b9ad-4769-8c92-a6c4dae69d19",
    "_uuid": "8f2839f25d086af736a60e9eeb907d3b93b6e0e5",
    "execution": {
     "iopub.execute_input": "2021-10-09T17:06:04.007434Z",
     "iopub.status.busy": "2021-10-09T17:06:04.001751Z",
     "iopub.status.idle": "2021-10-09T17:06:05.075085Z",
     "shell.execute_reply": "2021-10-09T17:06:05.074243Z",
     "shell.execute_reply.started": "2021-10-09T16:47:51.472760Z"
    },
    "papermill": {
     "duration": 1.117314,
     "end_time": "2021-10-09T17:06:05.075302",
     "exception": false,
     "start_time": "2021-10-09T17:06:03.957988",
     "status": "completed"
    },
    "tags": []
   },
   "outputs": [],
   "source": [
    "import pandas as pd \n",
    "import numpy as np \n",
    "import seaborn as sns \n",
    "import matplotlib.pyplot as plt "
   ]
  },
  {
   "cell_type": "code",
   "execution_count": 2,
   "id": "2d693af7",
   "metadata": {
    "execution": {
     "iopub.execute_input": "2021-10-09T17:06:05.165382Z",
     "iopub.status.busy": "2021-10-09T17:06:05.164634Z",
     "iopub.status.idle": "2021-10-09T17:06:05.967936Z",
     "shell.execute_reply": "2021-10-09T17:06:05.968443Z",
     "shell.execute_reply.started": "2021-10-09T16:48:16.972684Z"
    },
    "papermill": {
     "duration": 0.855177,
     "end_time": "2021-10-09T17:06:05.968632",
     "exception": false,
     "start_time": "2021-10-09T17:06:05.113455",
     "status": "completed"
    },
    "tags": []
   },
   "outputs": [
    {
     "data": {
      "text/html": [
       "<div>\n",
       "<style scoped>\n",
       "    .dataframe tbody tr th:only-of-type {\n",
       "        vertical-align: middle;\n",
       "    }\n",
       "\n",
       "    .dataframe tbody tr th {\n",
       "        vertical-align: top;\n",
       "    }\n",
       "\n",
       "    .dataframe thead th {\n",
       "        text-align: right;\n",
       "    }\n",
       "</style>\n",
       "<table border=\"1\" class=\"dataframe\">\n",
       "  <thead>\n",
       "    <tr style=\"text-align: right;\">\n",
       "      <th></th>\n",
       "      <th>CUST_ID</th>\n",
       "      <th>BALANCE</th>\n",
       "      <th>BALANCE_FREQUENCY</th>\n",
       "      <th>PURCHASES</th>\n",
       "      <th>ONEOFF_PURCHASES</th>\n",
       "      <th>INSTALLMENTS_PURCHASES</th>\n",
       "      <th>CASH_ADVANCE</th>\n",
       "      <th>PURCHASES_FREQUENCY</th>\n",
       "      <th>ONEOFF_PURCHASES_FREQUENCY</th>\n",
       "      <th>PURCHASES_INSTALLMENTS_FREQUENCY</th>\n",
       "      <th>CASH_ADVANCE_FREQUENCY</th>\n",
       "      <th>CASH_ADVANCE_TRX</th>\n",
       "      <th>PURCHASES_TRX</th>\n",
       "      <th>CREDIT_LIMIT</th>\n",
       "      <th>PAYMENTS</th>\n",
       "      <th>MINIMUM_PAYMENTS</th>\n",
       "      <th>PRC_FULL_PAYMENT</th>\n",
       "      <th>TENURE</th>\n",
       "    </tr>\n",
       "  </thead>\n",
       "  <tbody>\n",
       "    <tr>\n",
       "      <th>0</th>\n",
       "      <td>C10001</td>\n",
       "      <td>40.900749</td>\n",
       "      <td>0.818182</td>\n",
       "      <td>95.40</td>\n",
       "      <td>0.00</td>\n",
       "      <td>95.40</td>\n",
       "      <td>0.000000</td>\n",
       "      <td>0.166667</td>\n",
       "      <td>0.000000</td>\n",
       "      <td>0.083333</td>\n",
       "      <td>0.000000</td>\n",
       "      <td>0</td>\n",
       "      <td>2</td>\n",
       "      <td>1000.0</td>\n",
       "      <td>201.802084</td>\n",
       "      <td>139.509787</td>\n",
       "      <td>0.000000</td>\n",
       "      <td>12</td>\n",
       "    </tr>\n",
       "    <tr>\n",
       "      <th>1</th>\n",
       "      <td>C10002</td>\n",
       "      <td>3202.467416</td>\n",
       "      <td>0.909091</td>\n",
       "      <td>0.00</td>\n",
       "      <td>0.00</td>\n",
       "      <td>0.00</td>\n",
       "      <td>6442.945483</td>\n",
       "      <td>0.000000</td>\n",
       "      <td>0.000000</td>\n",
       "      <td>0.000000</td>\n",
       "      <td>0.250000</td>\n",
       "      <td>4</td>\n",
       "      <td>0</td>\n",
       "      <td>7000.0</td>\n",
       "      <td>4103.032597</td>\n",
       "      <td>1072.340217</td>\n",
       "      <td>0.222222</td>\n",
       "      <td>12</td>\n",
       "    </tr>\n",
       "    <tr>\n",
       "      <th>2</th>\n",
       "      <td>C10003</td>\n",
       "      <td>2495.148862</td>\n",
       "      <td>1.000000</td>\n",
       "      <td>773.17</td>\n",
       "      <td>773.17</td>\n",
       "      <td>0.00</td>\n",
       "      <td>0.000000</td>\n",
       "      <td>1.000000</td>\n",
       "      <td>1.000000</td>\n",
       "      <td>0.000000</td>\n",
       "      <td>0.000000</td>\n",
       "      <td>0</td>\n",
       "      <td>12</td>\n",
       "      <td>7500.0</td>\n",
       "      <td>622.066742</td>\n",
       "      <td>627.284787</td>\n",
       "      <td>0.000000</td>\n",
       "      <td>12</td>\n",
       "    </tr>\n",
       "    <tr>\n",
       "      <th>3</th>\n",
       "      <td>C10004</td>\n",
       "      <td>1666.670542</td>\n",
       "      <td>0.636364</td>\n",
       "      <td>1499.00</td>\n",
       "      <td>1499.00</td>\n",
       "      <td>0.00</td>\n",
       "      <td>205.788017</td>\n",
       "      <td>0.083333</td>\n",
       "      <td>0.083333</td>\n",
       "      <td>0.000000</td>\n",
       "      <td>0.083333</td>\n",
       "      <td>1</td>\n",
       "      <td>1</td>\n",
       "      <td>7500.0</td>\n",
       "      <td>0.000000</td>\n",
       "      <td>NaN</td>\n",
       "      <td>0.000000</td>\n",
       "      <td>12</td>\n",
       "    </tr>\n",
       "    <tr>\n",
       "      <th>4</th>\n",
       "      <td>C10005</td>\n",
       "      <td>817.714335</td>\n",
       "      <td>1.000000</td>\n",
       "      <td>16.00</td>\n",
       "      <td>16.00</td>\n",
       "      <td>0.00</td>\n",
       "      <td>0.000000</td>\n",
       "      <td>0.083333</td>\n",
       "      <td>0.083333</td>\n",
       "      <td>0.000000</td>\n",
       "      <td>0.000000</td>\n",
       "      <td>0</td>\n",
       "      <td>1</td>\n",
       "      <td>1200.0</td>\n",
       "      <td>678.334763</td>\n",
       "      <td>244.791237</td>\n",
       "      <td>0.000000</td>\n",
       "      <td>12</td>\n",
       "    </tr>\n",
       "    <tr>\n",
       "      <th>...</th>\n",
       "      <td>...</td>\n",
       "      <td>...</td>\n",
       "      <td>...</td>\n",
       "      <td>...</td>\n",
       "      <td>...</td>\n",
       "      <td>...</td>\n",
       "      <td>...</td>\n",
       "      <td>...</td>\n",
       "      <td>...</td>\n",
       "      <td>...</td>\n",
       "      <td>...</td>\n",
       "      <td>...</td>\n",
       "      <td>...</td>\n",
       "      <td>...</td>\n",
       "      <td>...</td>\n",
       "      <td>...</td>\n",
       "      <td>...</td>\n",
       "      <td>...</td>\n",
       "    </tr>\n",
       "    <tr>\n",
       "      <th>8945</th>\n",
       "      <td>C19186</td>\n",
       "      <td>28.493517</td>\n",
       "      <td>1.000000</td>\n",
       "      <td>291.12</td>\n",
       "      <td>0.00</td>\n",
       "      <td>291.12</td>\n",
       "      <td>0.000000</td>\n",
       "      <td>1.000000</td>\n",
       "      <td>0.000000</td>\n",
       "      <td>0.833333</td>\n",
       "      <td>0.000000</td>\n",
       "      <td>0</td>\n",
       "      <td>6</td>\n",
       "      <td>1000.0</td>\n",
       "      <td>325.594462</td>\n",
       "      <td>48.886365</td>\n",
       "      <td>0.500000</td>\n",
       "      <td>6</td>\n",
       "    </tr>\n",
       "    <tr>\n",
       "      <th>8946</th>\n",
       "      <td>C19187</td>\n",
       "      <td>19.183215</td>\n",
       "      <td>1.000000</td>\n",
       "      <td>300.00</td>\n",
       "      <td>0.00</td>\n",
       "      <td>300.00</td>\n",
       "      <td>0.000000</td>\n",
       "      <td>1.000000</td>\n",
       "      <td>0.000000</td>\n",
       "      <td>0.833333</td>\n",
       "      <td>0.000000</td>\n",
       "      <td>0</td>\n",
       "      <td>6</td>\n",
       "      <td>1000.0</td>\n",
       "      <td>275.861322</td>\n",
       "      <td>NaN</td>\n",
       "      <td>0.000000</td>\n",
       "      <td>6</td>\n",
       "    </tr>\n",
       "    <tr>\n",
       "      <th>8947</th>\n",
       "      <td>C19188</td>\n",
       "      <td>23.398673</td>\n",
       "      <td>0.833333</td>\n",
       "      <td>144.40</td>\n",
       "      <td>0.00</td>\n",
       "      <td>144.40</td>\n",
       "      <td>0.000000</td>\n",
       "      <td>0.833333</td>\n",
       "      <td>0.000000</td>\n",
       "      <td>0.666667</td>\n",
       "      <td>0.000000</td>\n",
       "      <td>0</td>\n",
       "      <td>5</td>\n",
       "      <td>1000.0</td>\n",
       "      <td>81.270775</td>\n",
       "      <td>82.418369</td>\n",
       "      <td>0.250000</td>\n",
       "      <td>6</td>\n",
       "    </tr>\n",
       "    <tr>\n",
       "      <th>8948</th>\n",
       "      <td>C19189</td>\n",
       "      <td>13.457564</td>\n",
       "      <td>0.833333</td>\n",
       "      <td>0.00</td>\n",
       "      <td>0.00</td>\n",
       "      <td>0.00</td>\n",
       "      <td>36.558778</td>\n",
       "      <td>0.000000</td>\n",
       "      <td>0.000000</td>\n",
       "      <td>0.000000</td>\n",
       "      <td>0.166667</td>\n",
       "      <td>2</td>\n",
       "      <td>0</td>\n",
       "      <td>500.0</td>\n",
       "      <td>52.549959</td>\n",
       "      <td>55.755628</td>\n",
       "      <td>0.250000</td>\n",
       "      <td>6</td>\n",
       "    </tr>\n",
       "    <tr>\n",
       "      <th>8949</th>\n",
       "      <td>C19190</td>\n",
       "      <td>372.708075</td>\n",
       "      <td>0.666667</td>\n",
       "      <td>1093.25</td>\n",
       "      <td>1093.25</td>\n",
       "      <td>0.00</td>\n",
       "      <td>127.040008</td>\n",
       "      <td>0.666667</td>\n",
       "      <td>0.666667</td>\n",
       "      <td>0.000000</td>\n",
       "      <td>0.333333</td>\n",
       "      <td>2</td>\n",
       "      <td>23</td>\n",
       "      <td>1200.0</td>\n",
       "      <td>63.165404</td>\n",
       "      <td>88.288956</td>\n",
       "      <td>0.000000</td>\n",
       "      <td>6</td>\n",
       "    </tr>\n",
       "  </tbody>\n",
       "</table>\n",
       "<p>8950 rows × 18 columns</p>\n",
       "</div>"
      ],
      "text/plain": [
       "     CUST_ID      BALANCE  BALANCE_FREQUENCY  PURCHASES  ONEOFF_PURCHASES  \\\n",
       "0     C10001    40.900749           0.818182      95.40              0.00   \n",
       "1     C10002  3202.467416           0.909091       0.00              0.00   \n",
       "2     C10003  2495.148862           1.000000     773.17            773.17   \n",
       "3     C10004  1666.670542           0.636364    1499.00           1499.00   \n",
       "4     C10005   817.714335           1.000000      16.00             16.00   \n",
       "...      ...          ...                ...        ...               ...   \n",
       "8945  C19186    28.493517           1.000000     291.12              0.00   \n",
       "8946  C19187    19.183215           1.000000     300.00              0.00   \n",
       "8947  C19188    23.398673           0.833333     144.40              0.00   \n",
       "8948  C19189    13.457564           0.833333       0.00              0.00   \n",
       "8949  C19190   372.708075           0.666667    1093.25           1093.25   \n",
       "\n",
       "      INSTALLMENTS_PURCHASES  CASH_ADVANCE  PURCHASES_FREQUENCY  \\\n",
       "0                      95.40      0.000000             0.166667   \n",
       "1                       0.00   6442.945483             0.000000   \n",
       "2                       0.00      0.000000             1.000000   \n",
       "3                       0.00    205.788017             0.083333   \n",
       "4                       0.00      0.000000             0.083333   \n",
       "...                      ...           ...                  ...   \n",
       "8945                  291.12      0.000000             1.000000   \n",
       "8946                  300.00      0.000000             1.000000   \n",
       "8947                  144.40      0.000000             0.833333   \n",
       "8948                    0.00     36.558778             0.000000   \n",
       "8949                    0.00    127.040008             0.666667   \n",
       "\n",
       "      ONEOFF_PURCHASES_FREQUENCY  PURCHASES_INSTALLMENTS_FREQUENCY  \\\n",
       "0                       0.000000                          0.083333   \n",
       "1                       0.000000                          0.000000   \n",
       "2                       1.000000                          0.000000   \n",
       "3                       0.083333                          0.000000   \n",
       "4                       0.083333                          0.000000   \n",
       "...                          ...                               ...   \n",
       "8945                    0.000000                          0.833333   \n",
       "8946                    0.000000                          0.833333   \n",
       "8947                    0.000000                          0.666667   \n",
       "8948                    0.000000                          0.000000   \n",
       "8949                    0.666667                          0.000000   \n",
       "\n",
       "      CASH_ADVANCE_FREQUENCY  CASH_ADVANCE_TRX  PURCHASES_TRX  CREDIT_LIMIT  \\\n",
       "0                   0.000000                 0              2        1000.0   \n",
       "1                   0.250000                 4              0        7000.0   \n",
       "2                   0.000000                 0             12        7500.0   \n",
       "3                   0.083333                 1              1        7500.0   \n",
       "4                   0.000000                 0              1        1200.0   \n",
       "...                      ...               ...            ...           ...   \n",
       "8945                0.000000                 0              6        1000.0   \n",
       "8946                0.000000                 0              6        1000.0   \n",
       "8947                0.000000                 0              5        1000.0   \n",
       "8948                0.166667                 2              0         500.0   \n",
       "8949                0.333333                 2             23        1200.0   \n",
       "\n",
       "         PAYMENTS  MINIMUM_PAYMENTS  PRC_FULL_PAYMENT  TENURE  \n",
       "0      201.802084        139.509787          0.000000      12  \n",
       "1     4103.032597       1072.340217          0.222222      12  \n",
       "2      622.066742        627.284787          0.000000      12  \n",
       "3        0.000000               NaN          0.000000      12  \n",
       "4      678.334763        244.791237          0.000000      12  \n",
       "...           ...               ...               ...     ...  \n",
       "8945   325.594462         48.886365          0.500000       6  \n",
       "8946   275.861322               NaN          0.000000       6  \n",
       "8947    81.270775         82.418369          0.250000       6  \n",
       "8948    52.549959         55.755628          0.250000       6  \n",
       "8949    63.165404         88.288956          0.000000       6  \n",
       "\n",
       "[8950 rows x 18 columns]"
      ]
     },
     "execution_count": 2,
     "metadata": {},
     "output_type": "execute_result"
    }
   ],
   "source": [
    "df = pd.read_csv(\"https://raw.githubusercontent.com/benvictoria17/DataVisualization/master/dataset/CC%20GENERAL.csv\")\n",
    "df"
   ]
  },
  {
   "cell_type": "code",
   "execution_count": 3,
   "id": "ed4268f5",
   "metadata": {
    "execution": {
     "iopub.execute_input": "2021-10-09T17:06:06.041455Z",
     "iopub.status.busy": "2021-10-09T17:06:06.040374Z",
     "iopub.status.idle": "2021-10-09T17:06:06.053802Z",
     "shell.execute_reply": "2021-10-09T17:06:06.054344Z",
     "shell.execute_reply.started": "2021-10-09T16:48:59.400698Z"
    },
    "papermill": {
     "duration": 0.052458,
     "end_time": "2021-10-09T17:06:06.054543",
     "exception": false,
     "start_time": "2021-10-09T17:06:06.002085",
     "status": "completed"
    },
    "tags": []
   },
   "outputs": [
    {
     "data": {
      "text/plain": [
       "CUST_ID                             0.000000\n",
       "BALANCE                             0.000000\n",
       "BALANCE_FREQUENCY                   0.000000\n",
       "PURCHASES                           0.000000\n",
       "ONEOFF_PURCHASES                    0.000000\n",
       "INSTALLMENTS_PURCHASES              0.000000\n",
       "CASH_ADVANCE                        0.000000\n",
       "PURCHASES_FREQUENCY                 0.000000\n",
       "ONEOFF_PURCHASES_FREQUENCY          0.000000\n",
       "PURCHASES_INSTALLMENTS_FREQUENCY    0.000000\n",
       "CASH_ADVANCE_FREQUENCY              0.000000\n",
       "CASH_ADVANCE_TRX                    0.000000\n",
       "PURCHASES_TRX                       0.000000\n",
       "CREDIT_LIMIT                        0.011173\n",
       "PAYMENTS                            0.000000\n",
       "MINIMUM_PAYMENTS                    3.497207\n",
       "PRC_FULL_PAYMENT                    0.000000\n",
       "TENURE                              0.000000\n",
       "dtype: float64"
      ]
     },
     "execution_count": 3,
     "metadata": {},
     "output_type": "execute_result"
    }
   ],
   "source": [
    "df.isnull().mean()*100"
   ]
  },
  {
   "cell_type": "code",
   "execution_count": 4,
   "id": "e25a17cd",
   "metadata": {
    "execution": {
     "iopub.execute_input": "2021-10-09T17:06:06.131851Z",
     "iopub.status.busy": "2021-10-09T17:06:06.130746Z",
     "iopub.status.idle": "2021-10-09T17:06:06.900648Z",
     "shell.execute_reply": "2021-10-09T17:06:06.901115Z",
     "shell.execute_reply.started": "2021-10-09T16:49:32.954070Z"
    },
    "papermill": {
     "duration": 0.809938,
     "end_time": "2021-10-09T17:06:06.901306",
     "exception": false,
     "start_time": "2021-10-09T17:06:06.091368",
     "status": "completed"
    },
    "tags": []
   },
   "outputs": [
    {
     "data": {
      "text/plain": [
       "<AxesSubplot:>"
      ]
     },
     "execution_count": 4,
     "metadata": {},
     "output_type": "execute_result"
    },
    {
     "data": {
      "image/png": "[encoded data removed]",
      "text/plain": [
       "<Figure size 432x288 with 2 Axes>"
      ]
     },
     "metadata": {
      "needs_background": "light"
     },
     "output_type": "display_data"
    }
   ],
   "source": [
    "sns.heatmap(df.isnull())"
   ]
  },
  {
   "cell_type": "code",
   "execution_count": 5,
   "id": "6c93849c",
   "metadata": {
    "execution": {
     "iopub.execute_input": "2021-10-09T17:06:06.973161Z",
     "iopub.status.busy": "2021-10-09T17:06:06.972237Z",
     "iopub.status.idle": "2021-10-09T17:06:06.983900Z",
     "shell.execute_reply": "2021-10-09T17:06:06.983357Z",
     "shell.execute_reply.started": "2021-10-09T16:53:19.686394Z"
    },
    "papermill": {
     "duration": 0.048981,
     "end_time": "2021-10-09T17:06:06.984057",
     "exception": false,
     "start_time": "2021-10-09T17:06:06.935076",
     "status": "completed"
    },
    "tags": []
   },
   "outputs": [],
   "source": [
    "df = df.dropna()"
   ]
  },
  {
   "cell_type": "code",
   "execution_count": 6,
   "id": "7f23f9b3",
   "metadata": {
    "execution": {
     "iopub.execute_input": "2021-10-09T17:06:07.055123Z",
     "iopub.status.busy": "2021-10-09T17:06:07.054479Z",
     "iopub.status.idle": "2021-10-09T17:06:07.061675Z",
     "shell.execute_reply": "2021-10-09T17:06:07.062243Z",
     "shell.execute_reply.started": "2021-10-09T16:53:36.874287Z"
    },
    "papermill": {
     "duration": 0.045163,
     "end_time": "2021-10-09T17:06:07.062536",
     "exception": false,
     "start_time": "2021-10-09T17:06:07.017373",
     "status": "completed"
    },
    "tags": []
   },
   "outputs": [
    {
     "data": {
      "text/plain": [
       "(8636, 18)"
      ]
     },
     "execution_count": 6,
     "metadata": {},
     "output_type": "execute_result"
    }
   ],
   "source": [
    "df.shape"
   ]
  },
  {
   "cell_type": "code",
   "execution_count": 7,
   "id": "aacc8294",
   "metadata": {
    "execution": {
     "iopub.execute_input": "2021-10-09T17:06:07.137886Z",
     "iopub.status.busy": "2021-10-09T17:06:07.137079Z",
     "iopub.status.idle": "2021-10-09T17:06:07.166497Z",
     "shell.execute_reply": "2021-10-09T17:06:07.165761Z",
     "shell.execute_reply.started": "2021-10-09T16:53:44.726334Z"
    },
    "papermill": {
     "duration": 0.070196,
     "end_time": "2021-10-09T17:06:07.166656",
     "exception": false,
     "start_time": "2021-10-09T17:06:07.096460",
     "status": "completed"
    },
    "tags": []
   },
   "outputs": [
    {
     "name": "stdout",
     "output_type": "stream",
     "text": [
      "<class 'pandas.core.frame.DataFrame'>\n",
      "Int64Index: 8636 entries, 0 to 8949\n",
      "Data columns (total 18 columns):\n",
      " #   Column                            Non-Null Count  Dtype  \n",
      "---  ------                            --------------  -----  \n",
      " 0   CUST_ID                           8636 non-null   object \n",
      " 1   BALANCE                           8636 non-null   float64\n",
      " 2   BALANCE_FREQUENCY                 8636 non-null   float64\n",
      " 3   PURCHASES                         8636 non-null   float64\n",
      " 4   ONEOFF_PURCHASES                  8636 non-null   float64\n",
      " 5   INSTALLMENTS_PURCHASES            8636 non-null   float64\n",
      " 6   CASH_ADVANCE                      8636 non-null   float64\n",
      " 7   PURCHASES_FREQUENCY               8636 non-null   float64\n",
      " 8   ONEOFF_PURCHASES_FREQUENCY        8636 non-null   float64\n",
      " 9   PURCHASES_INSTALLMENTS_FREQUENCY  8636 non-null   float64\n",
      " 10  CASH_ADVANCE_FREQUENCY            8636 non-null   float64\n",
      " 11  CASH_ADVANCE_TRX                  8636 non-null   int64  \n",
      " 12  PURCHASES_TRX                     8636 non-null   int64  \n",
      " 13  CREDIT_LIMIT                      8636 non-null   float64\n",
      " 14  PAYMENTS                          8636 non-null   float64\n",
      " 15  MINIMUM_PAYMENTS                  8636 non-null   float64\n",
      " 16  PRC_FULL_PAYMENT                  8636 non-null   float64\n",
      " 17  TENURE                            8636 non-null   int64  \n",
      "dtypes: float64(14), int64(3), object(1)\n",
      "memory usage: 1.3+ MB\n"
     ]
    }
   ],
   "source": [
    "df.info()"
   ]
  },
  {
   "cell_type": "code",
   "execution_count": 8,
   "id": "035bd4f6",
   "metadata": {
    "execution": {
     "iopub.execute_input": "2021-10-09T17:06:07.248016Z",
     "iopub.status.busy": "2021-10-09T17:06:07.245997Z",
     "iopub.status.idle": "2021-10-09T17:06:07.312936Z",
     "shell.execute_reply": "2021-10-09T17:06:07.312143Z",
     "shell.execute_reply.started": "2021-10-09T16:55:26.397884Z"
    },
    "papermill": {
     "duration": 0.112454,
     "end_time": "2021-10-09T17:06:07.313089",
     "exception": false,
     "start_time": "2021-10-09T17:06:07.200635",
     "status": "completed"
    },
    "tags": []
   },
   "outputs": [
    {
     "data": {
      "text/html": [
       "<div>\n",
       "<style scoped>\n",
       "    .dataframe tbody tr th:only-of-type {\n",
       "        vertical-align: middle;\n",
       "    }\n",
       "\n",
       "    .dataframe tbody tr th {\n",
       "        vertical-align: top;\n",
       "    }\n",
       "\n",
       "    .dataframe thead th {\n",
       "        text-align: right;\n",
       "    }\n",
       "</style>\n",
       "<table border=\"1\" class=\"dataframe\">\n",
       "  <thead>\n",
       "    <tr style=\"text-align: right;\">\n",
       "      <th></th>\n",
       "      <th>BALANCE</th>\n",
       "      <th>BALANCE_FREQUENCY</th>\n",
       "      <th>PURCHASES</th>\n",
       "      <th>ONEOFF_PURCHASES</th>\n",
       "      <th>INSTALLMENTS_PURCHASES</th>\n",
       "      <th>CASH_ADVANCE</th>\n",
       "      <th>PURCHASES_FREQUENCY</th>\n",
       "      <th>ONEOFF_PURCHASES_FREQUENCY</th>\n",
       "      <th>PURCHASES_INSTALLMENTS_FREQUENCY</th>\n",
       "      <th>CASH_ADVANCE_FREQUENCY</th>\n",
       "      <th>CASH_ADVANCE_TRX</th>\n",
       "      <th>PURCHASES_TRX</th>\n",
       "      <th>CREDIT_LIMIT</th>\n",
       "      <th>PAYMENTS</th>\n",
       "      <th>MINIMUM_PAYMENTS</th>\n",
       "      <th>PRC_FULL_PAYMENT</th>\n",
       "      <th>TENURE</th>\n",
       "    </tr>\n",
       "  </thead>\n",
       "  <tbody>\n",
       "    <tr>\n",
       "      <th>count</th>\n",
       "      <td>8636.000000</td>\n",
       "      <td>8636.000000</td>\n",
       "      <td>8636.000000</td>\n",
       "      <td>8636.000000</td>\n",
       "      <td>8636.000000</td>\n",
       "      <td>8636.000000</td>\n",
       "      <td>8636.000000</td>\n",
       "      <td>8636.000000</td>\n",
       "      <td>8636.000000</td>\n",
       "      <td>8636.000000</td>\n",
       "      <td>8636.000000</td>\n",
       "      <td>8636.000000</td>\n",
       "      <td>8636.000000</td>\n",
       "      <td>8636.000000</td>\n",
       "      <td>8636.000000</td>\n",
       "      <td>8636.000000</td>\n",
       "      <td>8636.000000</td>\n",
       "    </tr>\n",
       "    <tr>\n",
       "      <th>mean</th>\n",
       "      <td>1601.224893</td>\n",
       "      <td>0.895035</td>\n",
       "      <td>1025.433874</td>\n",
       "      <td>604.901438</td>\n",
       "      <td>420.843533</td>\n",
       "      <td>994.175523</td>\n",
       "      <td>0.496000</td>\n",
       "      <td>0.205909</td>\n",
       "      <td>0.368820</td>\n",
       "      <td>0.137604</td>\n",
       "      <td>3.313918</td>\n",
       "      <td>15.033233</td>\n",
       "      <td>4522.091030</td>\n",
       "      <td>1784.478099</td>\n",
       "      <td>864.304943</td>\n",
       "      <td>0.159304</td>\n",
       "      <td>11.534391</td>\n",
       "    </tr>\n",
       "    <tr>\n",
       "      <th>std</th>\n",
       "      <td>2095.571300</td>\n",
       "      <td>0.207697</td>\n",
       "      <td>2167.107984</td>\n",
       "      <td>1684.307803</td>\n",
       "      <td>917.245182</td>\n",
       "      <td>2121.458303</td>\n",
       "      <td>0.401273</td>\n",
       "      <td>0.300054</td>\n",
       "      <td>0.398093</td>\n",
       "      <td>0.201791</td>\n",
       "      <td>6.912506</td>\n",
       "      <td>25.180468</td>\n",
       "      <td>3659.240379</td>\n",
       "      <td>2909.810090</td>\n",
       "      <td>2372.566350</td>\n",
       "      <td>0.296271</td>\n",
       "      <td>1.310984</td>\n",
       "    </tr>\n",
       "    <tr>\n",
       "      <th>min</th>\n",
       "      <td>0.000000</td>\n",
       "      <td>0.000000</td>\n",
       "      <td>0.000000</td>\n",
       "      <td>0.000000</td>\n",
       "      <td>0.000000</td>\n",
       "      <td>0.000000</td>\n",
       "      <td>0.000000</td>\n",
       "      <td>0.000000</td>\n",
       "      <td>0.000000</td>\n",
       "      <td>0.000000</td>\n",
       "      <td>0.000000</td>\n",
       "      <td>0.000000</td>\n",
       "      <td>50.000000</td>\n",
       "      <td>0.049513</td>\n",
       "      <td>0.019163</td>\n",
       "      <td>0.000000</td>\n",
       "      <td>6.000000</td>\n",
       "    </tr>\n",
       "    <tr>\n",
       "      <th>25%</th>\n",
       "      <td>148.095189</td>\n",
       "      <td>0.909091</td>\n",
       "      <td>43.367500</td>\n",
       "      <td>0.000000</td>\n",
       "      <td>0.000000</td>\n",
       "      <td>0.000000</td>\n",
       "      <td>0.083333</td>\n",
       "      <td>0.000000</td>\n",
       "      <td>0.000000</td>\n",
       "      <td>0.000000</td>\n",
       "      <td>0.000000</td>\n",
       "      <td>1.000000</td>\n",
       "      <td>1600.000000</td>\n",
       "      <td>418.559237</td>\n",
       "      <td>169.163545</td>\n",
       "      <td>0.000000</td>\n",
       "      <td>12.000000</td>\n",
       "    </tr>\n",
       "    <tr>\n",
       "      <th>50%</th>\n",
       "      <td>916.855459</td>\n",
       "      <td>1.000000</td>\n",
       "      <td>375.405000</td>\n",
       "      <td>44.995000</td>\n",
       "      <td>94.785000</td>\n",
       "      <td>0.000000</td>\n",
       "      <td>0.500000</td>\n",
       "      <td>0.083333</td>\n",
       "      <td>0.166667</td>\n",
       "      <td>0.000000</td>\n",
       "      <td>0.000000</td>\n",
       "      <td>7.000000</td>\n",
       "      <td>3000.000000</td>\n",
       "      <td>896.675701</td>\n",
       "      <td>312.452292</td>\n",
       "      <td>0.000000</td>\n",
       "      <td>12.000000</td>\n",
       "    </tr>\n",
       "    <tr>\n",
       "      <th>75%</th>\n",
       "      <td>2105.195853</td>\n",
       "      <td>1.000000</td>\n",
       "      <td>1145.980000</td>\n",
       "      <td>599.100000</td>\n",
       "      <td>484.147500</td>\n",
       "      <td>1132.385490</td>\n",
       "      <td>0.916667</td>\n",
       "      <td>0.333333</td>\n",
       "      <td>0.750000</td>\n",
       "      <td>0.250000</td>\n",
       "      <td>4.000000</td>\n",
       "      <td>18.000000</td>\n",
       "      <td>6500.000000</td>\n",
       "      <td>1951.142090</td>\n",
       "      <td>825.496463</td>\n",
       "      <td>0.166667</td>\n",
       "      <td>12.000000</td>\n",
       "    </tr>\n",
       "    <tr>\n",
       "      <th>max</th>\n",
       "      <td>19043.138560</td>\n",
       "      <td>1.000000</td>\n",
       "      <td>49039.570000</td>\n",
       "      <td>40761.250000</td>\n",
       "      <td>22500.000000</td>\n",
       "      <td>47137.211760</td>\n",
       "      <td>1.000000</td>\n",
       "      <td>1.000000</td>\n",
       "      <td>1.000000</td>\n",
       "      <td>1.500000</td>\n",
       "      <td>123.000000</td>\n",
       "      <td>358.000000</td>\n",
       "      <td>30000.000000</td>\n",
       "      <td>50721.483360</td>\n",
       "      <td>76406.207520</td>\n",
       "      <td>1.000000</td>\n",
       "      <td>12.000000</td>\n",
       "    </tr>\n",
       "  </tbody>\n",
       "</table>\n",
       "</div>"
      ],
      "text/plain": [
       "            BALANCE  BALANCE_FREQUENCY     PURCHASES  ONEOFF_PURCHASES  \\\n",
       "count   8636.000000        8636.000000   8636.000000       8636.000000   \n",
       "mean    1601.224893           0.895035   1025.433874        604.901438   \n",
       "std     2095.571300           0.207697   2167.107984       1684.307803   \n",
       "min        0.000000           0.000000      0.000000          0.000000   \n",
       "25%      148.095189           0.909091     43.367500          0.000000   \n",
       "50%      916.855459           1.000000    375.405000         44.995000   \n",
       "75%     2105.195853           1.000000   1145.980000        599.100000   \n",
       "max    19043.138560           1.000000  49039.570000      40761.250000   \n",
       "\n",
       "       INSTALLMENTS_PURCHASES  CASH_ADVANCE  PURCHASES_FREQUENCY  \\\n",
       "count             8636.000000   8636.000000          8636.000000   \n",
       "mean               420.843533    994.175523             0.496000   \n",
       "std                917.245182   2121.458303             0.401273   \n",
       "min                  0.000000      0.000000             0.000000   \n",
       "25%                  0.000000      0.000000             0.083333   \n",
       "50%                 94.785000      0.000000             0.500000   \n",
       "75%                484.147500   1132.385490             0.916667   \n",
       "max              22500.000000  47137.211760             1.000000   \n",
       "\n",
       "       ONEOFF_PURCHASES_FREQUENCY  PURCHASES_INSTALLMENTS_FREQUENCY  \\\n",
       "count                 8636.000000                       8636.000000   \n",
       "mean                     0.205909                          0.368820   \n",
       "std                      0.300054                          0.398093   \n",
       "min                      0.000000                          0.000000   \n",
       "25%                      0.000000                          0.000000   \n",
       "50%                      0.083333                          0.166667   \n",
       "75%                      0.333333                          0.750000   \n",
       "max                      1.000000                          1.000000   \n",
       "\n",
       "       CASH_ADVANCE_FREQUENCY  CASH_ADVANCE_TRX  PURCHASES_TRX  CREDIT_LIMIT  \\\n",
       "count             8636.000000       8636.000000    8636.000000   8636.000000   \n",
       "mean                 0.137604          3.313918      15.033233   4522.091030   \n",
       "std                  0.201791          6.912506      25.180468   3659.240379   \n",
       "min                  0.000000          0.000000       0.000000     50.000000   \n",
       "25%                  0.000000          0.000000       1.000000   1600.000000   \n",
       "50%                  0.000000          0.000000       7.000000   3000.000000   \n",
       "75%                  0.250000          4.000000      18.000000   6500.000000   \n",
       "max                  1.500000        123.000000     358.000000  30000.000000   \n",
       "\n",
       "           PAYMENTS  MINIMUM_PAYMENTS  PRC_FULL_PAYMENT       TENURE  \n",
       "count   8636.000000       8636.000000       8636.000000  8636.000000  \n",
       "mean    1784.478099        864.304943          0.159304    11.534391  \n",
       "std     2909.810090       2372.566350          0.296271     1.310984  \n",
       "min        0.049513          0.019163          0.000000     6.000000  \n",
       "25%      418.559237        169.163545          0.000000    12.000000  \n",
       "50%      896.675701        312.452292          0.000000    12.000000  \n",
       "75%     1951.142090        825.496463          0.166667    12.000000  \n",
       "max    50721.483360      76406.207520          1.000000    12.000000  "
      ]
     },
     "execution_count": 8,
     "metadata": {},
     "output_type": "execute_result"
    }
   ],
   "source": [
    "df.describe()"
   ]
  },
  {
   "cell_type": "code",
   "execution_count": 9,
   "id": "50efdd97",
   "metadata": {
    "execution": {
     "iopub.execute_input": "2021-10-09T17:06:07.393012Z",
     "iopub.status.busy": "2021-10-09T17:06:07.390510Z",
     "iopub.status.idle": "2021-10-09T17:06:07.431048Z",
     "shell.execute_reply": "2021-10-09T17:06:07.430426Z",
     "shell.execute_reply.started": "2021-10-09T16:55:36.284627Z"
    },
    "papermill": {
     "duration": 0.082059,
     "end_time": "2021-10-09T17:06:07.431196",
     "exception": false,
     "start_time": "2021-10-09T17:06:07.349137",
     "status": "completed"
    },
    "tags": []
   },
   "outputs": [
    {
     "data": {
      "text/html": [
       "<div>\n",
       "<style scoped>\n",
       "    .dataframe tbody tr th:only-of-type {\n",
       "        vertical-align: middle;\n",
       "    }\n",
       "\n",
       "    .dataframe tbody tr th {\n",
       "        vertical-align: top;\n",
       "    }\n",
       "\n",
       "    .dataframe thead th {\n",
       "        text-align: right;\n",
       "    }\n",
       "</style>\n",
       "<table border=\"1\" class=\"dataframe\">\n",
       "  <thead>\n",
       "    <tr style=\"text-align: right;\">\n",
       "      <th></th>\n",
       "      <th>BALANCE</th>\n",
       "      <th>BALANCE_FREQUENCY</th>\n",
       "      <th>PURCHASES</th>\n",
       "      <th>ONEOFF_PURCHASES</th>\n",
       "      <th>INSTALLMENTS_PURCHASES</th>\n",
       "      <th>CASH_ADVANCE</th>\n",
       "      <th>PURCHASES_FREQUENCY</th>\n",
       "      <th>ONEOFF_PURCHASES_FREQUENCY</th>\n",
       "      <th>PURCHASES_INSTALLMENTS_FREQUENCY</th>\n",
       "      <th>CASH_ADVANCE_FREQUENCY</th>\n",
       "      <th>CASH_ADVANCE_TRX</th>\n",
       "      <th>PURCHASES_TRX</th>\n",
       "      <th>CREDIT_LIMIT</th>\n",
       "      <th>PAYMENTS</th>\n",
       "      <th>MINIMUM_PAYMENTS</th>\n",
       "      <th>PRC_FULL_PAYMENT</th>\n",
       "      <th>TENURE</th>\n",
       "    </tr>\n",
       "  </thead>\n",
       "  <tbody>\n",
       "    <tr>\n",
       "      <th>BALANCE</th>\n",
       "      <td>1.000000</td>\n",
       "      <td>0.310140</td>\n",
       "      <td>0.176083</td>\n",
       "      <td>0.159985</td>\n",
       "      <td>0.122109</td>\n",
       "      <td>0.495586</td>\n",
       "      <td>-0.088459</td>\n",
       "      <td>0.063832</td>\n",
       "      <td>-0.069582</td>\n",
       "      <td>0.445307</td>\n",
       "      <td>0.382388</td>\n",
       "      <td>0.147887</td>\n",
       "      <td>0.535518</td>\n",
       "      <td>0.322830</td>\n",
       "      <td>0.398669</td>\n",
       "      <td>-0.333594</td>\n",
       "      <td>0.066987</td>\n",
       "    </tr>\n",
       "    <tr>\n",
       "      <th>BALANCE_FREQUENCY</th>\n",
       "      <td>0.310140</td>\n",
       "      <td>1.000000</td>\n",
       "      <td>0.122635</td>\n",
       "      <td>0.095254</td>\n",
       "      <td>0.114739</td>\n",
       "      <td>0.089036</td>\n",
       "      <td>0.228158</td>\n",
       "      <td>0.187467</td>\n",
       "      <td>0.184159</td>\n",
       "      <td>0.181132</td>\n",
       "      <td>0.133265</td>\n",
       "      <td>0.183095</td>\n",
       "      <td>0.087682</td>\n",
       "      <td>0.039169</td>\n",
       "      <td>0.132519</td>\n",
       "      <td>-0.156961</td>\n",
       "      <td>0.104714</td>\n",
       "    </tr>\n",
       "    <tr>\n",
       "      <th>PURCHASES</th>\n",
       "      <td>0.176083</td>\n",
       "      <td>0.122635</td>\n",
       "      <td>1.000000</td>\n",
       "      <td>0.916780</td>\n",
       "      <td>0.679259</td>\n",
       "      <td>-0.053760</td>\n",
       "      <td>0.393000</td>\n",
       "      <td>0.497384</td>\n",
       "      <td>0.316025</td>\n",
       "      <td>-0.124863</td>\n",
       "      <td>-0.070277</td>\n",
       "      <td>0.688732</td>\n",
       "      <td>0.358425</td>\n",
       "      <td>0.606782</td>\n",
       "      <td>0.093842</td>\n",
       "      <td>0.176447</td>\n",
       "      <td>0.084545</td>\n",
       "    </tr>\n",
       "    <tr>\n",
       "      <th>ONEOFF_PURCHASES</th>\n",
       "      <td>0.159985</td>\n",
       "      <td>0.095254</td>\n",
       "      <td>0.916780</td>\n",
       "      <td>1.000000</td>\n",
       "      <td>0.329650</td>\n",
       "      <td>-0.033244</td>\n",
       "      <td>0.265460</td>\n",
       "      <td>0.524514</td>\n",
       "      <td>0.128380</td>\n",
       "      <td>-0.086413</td>\n",
       "      <td>-0.048705</td>\n",
       "      <td>0.545313</td>\n",
       "      <td>0.320613</td>\n",
       "      <td>0.570850</td>\n",
       "      <td>0.048741</td>\n",
       "      <td>0.129890</td>\n",
       "      <td>0.063400</td>\n",
       "    </tr>\n",
       "    <tr>\n",
       "      <th>INSTALLMENTS_PURCHASES</th>\n",
       "      <td>0.122109</td>\n",
       "      <td>0.114739</td>\n",
       "      <td>0.679259</td>\n",
       "      <td>0.329650</td>\n",
       "      <td>1.000000</td>\n",
       "      <td>-0.066099</td>\n",
       "      <td>0.441193</td>\n",
       "      <td>0.211829</td>\n",
       "      <td>0.511130</td>\n",
       "      <td>-0.136455</td>\n",
       "      <td>-0.076716</td>\n",
       "      <td>0.626083</td>\n",
       "      <td>0.258057</td>\n",
       "      <td>0.385391</td>\n",
       "      <td>0.132156</td>\n",
       "      <td>0.178440</td>\n",
       "      <td>0.083346</td>\n",
       "    </tr>\n",
       "    <tr>\n",
       "      <th>CASH_ADVANCE</th>\n",
       "      <td>0.495586</td>\n",
       "      <td>0.089036</td>\n",
       "      <td>-0.053760</td>\n",
       "      <td>-0.033244</td>\n",
       "      <td>-0.066099</td>\n",
       "      <td>1.000000</td>\n",
       "      <td>-0.218566</td>\n",
       "      <td>-0.090111</td>\n",
       "      <td>-0.178873</td>\n",
       "      <td>0.629030</td>\n",
       "      <td>0.656911</td>\n",
       "      <td>-0.078449</td>\n",
       "      <td>0.304161</td>\n",
       "      <td>0.459342</td>\n",
       "      <td>0.140094</td>\n",
       "      <td>-0.158566</td>\n",
       "      <td>-0.073090</td>\n",
       "    </tr>\n",
       "    <tr>\n",
       "      <th>PURCHASES_FREQUENCY</th>\n",
       "      <td>-0.088459</td>\n",
       "      <td>0.228158</td>\n",
       "      <td>0.393000</td>\n",
       "      <td>0.265460</td>\n",
       "      <td>0.441193</td>\n",
       "      <td>-0.218566</td>\n",
       "      <td>1.000000</td>\n",
       "      <td>0.502123</td>\n",
       "      <td>0.862338</td>\n",
       "      <td>-0.316771</td>\n",
       "      <td>-0.208749</td>\n",
       "      <td>0.567168</td>\n",
       "      <td>0.121372</td>\n",
       "      <td>0.100715</td>\n",
       "      <td>0.002979</td>\n",
       "      <td>0.305393</td>\n",
       "      <td>0.052161</td>\n",
       "    </tr>\n",
       "    <tr>\n",
       "      <th>ONEOFF_PURCHASES_FREQUENCY</th>\n",
       "      <td>0.063832</td>\n",
       "      <td>0.187467</td>\n",
       "      <td>0.497384</td>\n",
       "      <td>0.524514</td>\n",
       "      <td>0.211829</td>\n",
       "      <td>-0.090111</td>\n",
       "      <td>0.502123</td>\n",
       "      <td>1.000000</td>\n",
       "      <td>0.143911</td>\n",
       "      <td>-0.118225</td>\n",
       "      <td>-0.073384</td>\n",
       "      <td>0.544364</td>\n",
       "      <td>0.295432</td>\n",
       "      <td>0.244346</td>\n",
       "      <td>-0.030357</td>\n",
       "      <td>0.154073</td>\n",
       "      <td>0.080437</td>\n",
       "    </tr>\n",
       "    <tr>\n",
       "      <th>PURCHASES_INSTALLMENTS_FREQUENCY</th>\n",
       "      <td>-0.069582</td>\n",
       "      <td>0.184159</td>\n",
       "      <td>0.316025</td>\n",
       "      <td>0.128380</td>\n",
       "      <td>0.511130</td>\n",
       "      <td>-0.178873</td>\n",
       "      <td>0.862338</td>\n",
       "      <td>0.143911</td>\n",
       "      <td>1.000000</td>\n",
       "      <td>-0.268924</td>\n",
       "      <td>-0.172811</td>\n",
       "      <td>0.529192</td>\n",
       "      <td>0.063421</td>\n",
       "      <td>0.083424</td>\n",
       "      <td>0.030036</td>\n",
       "      <td>0.249547</td>\n",
       "      <td>0.065779</td>\n",
       "    </tr>\n",
       "    <tr>\n",
       "      <th>CASH_ADVANCE_FREQUENCY</th>\n",
       "      <td>0.445307</td>\n",
       "      <td>0.181132</td>\n",
       "      <td>-0.124863</td>\n",
       "      <td>-0.086413</td>\n",
       "      <td>-0.136455</td>\n",
       "      <td>0.629030</td>\n",
       "      <td>-0.316771</td>\n",
       "      <td>-0.118225</td>\n",
       "      <td>-0.268924</td>\n",
       "      <td>1.000000</td>\n",
       "      <td>0.799593</td>\n",
       "      <td>-0.136913</td>\n",
       "      <td>0.132841</td>\n",
       "      <td>0.182340</td>\n",
       "      <td>0.098844</td>\n",
       "      <td>-0.260001</td>\n",
       "      <td>-0.140038</td>\n",
       "    </tr>\n",
       "    <tr>\n",
       "      <th>CASH_ADVANCE_TRX</th>\n",
       "      <td>0.382388</td>\n",
       "      <td>0.133265</td>\n",
       "      <td>-0.070277</td>\n",
       "      <td>-0.048705</td>\n",
       "      <td>-0.076716</td>\n",
       "      <td>0.656911</td>\n",
       "      <td>-0.208749</td>\n",
       "      <td>-0.073384</td>\n",
       "      <td>-0.172811</td>\n",
       "      <td>0.799593</td>\n",
       "      <td>1.000000</td>\n",
       "      <td>-0.069879</td>\n",
       "      <td>0.150261</td>\n",
       "      <td>0.255921</td>\n",
       "      <td>0.109727</td>\n",
       "      <td>-0.176574</td>\n",
       "      <td>-0.045350</td>\n",
       "    </tr>\n",
       "    <tr>\n",
       "      <th>PURCHASES_TRX</th>\n",
       "      <td>0.147887</td>\n",
       "      <td>0.183095</td>\n",
       "      <td>0.688732</td>\n",
       "      <td>0.545313</td>\n",
       "      <td>0.626083</td>\n",
       "      <td>-0.078449</td>\n",
       "      <td>0.567168</td>\n",
       "      <td>0.544364</td>\n",
       "      <td>0.529192</td>\n",
       "      <td>-0.136913</td>\n",
       "      <td>-0.069879</td>\n",
       "      <td>1.000000</td>\n",
       "      <td>0.273715</td>\n",
       "      <td>0.371477</td>\n",
       "      <td>0.096311</td>\n",
       "      <td>0.156789</td>\n",
       "      <td>0.118889</td>\n",
       "    </tr>\n",
       "    <tr>\n",
       "      <th>CREDIT_LIMIT</th>\n",
       "      <td>0.535518</td>\n",
       "      <td>0.087682</td>\n",
       "      <td>0.358425</td>\n",
       "      <td>0.320613</td>\n",
       "      <td>0.258057</td>\n",
       "      <td>0.304161</td>\n",
       "      <td>0.121372</td>\n",
       "      <td>0.295432</td>\n",
       "      <td>0.063421</td>\n",
       "      <td>0.132841</td>\n",
       "      <td>0.150261</td>\n",
       "      <td>0.273715</td>\n",
       "      <td>1.000000</td>\n",
       "      <td>0.426951</td>\n",
       "      <td>0.126671</td>\n",
       "      <td>0.052578</td>\n",
       "      <td>0.136464</td>\n",
       "    </tr>\n",
       "    <tr>\n",
       "      <th>PAYMENTS</th>\n",
       "      <td>0.322830</td>\n",
       "      <td>0.039169</td>\n",
       "      <td>0.606782</td>\n",
       "      <td>0.570850</td>\n",
       "      <td>0.385391</td>\n",
       "      <td>0.459342</td>\n",
       "      <td>0.100715</td>\n",
       "      <td>0.244346</td>\n",
       "      <td>0.083424</td>\n",
       "      <td>0.182340</td>\n",
       "      <td>0.255921</td>\n",
       "      <td>0.371477</td>\n",
       "      <td>0.426951</td>\n",
       "      <td>1.000000</td>\n",
       "      <td>0.126630</td>\n",
       "      <td>0.104668</td>\n",
       "      <td>0.102986</td>\n",
       "    </tr>\n",
       "    <tr>\n",
       "      <th>MINIMUM_PAYMENTS</th>\n",
       "      <td>0.398669</td>\n",
       "      <td>0.132519</td>\n",
       "      <td>0.093842</td>\n",
       "      <td>0.048741</td>\n",
       "      <td>0.132156</td>\n",
       "      <td>0.140094</td>\n",
       "      <td>0.002979</td>\n",
       "      <td>-0.030357</td>\n",
       "      <td>0.030036</td>\n",
       "      <td>0.098844</td>\n",
       "      <td>0.109727</td>\n",
       "      <td>0.096311</td>\n",
       "      <td>0.126671</td>\n",
       "      <td>0.126630</td>\n",
       "      <td>1.000000</td>\n",
       "      <td>-0.140404</td>\n",
       "      <td>0.059330</td>\n",
       "    </tr>\n",
       "    <tr>\n",
       "      <th>PRC_FULL_PAYMENT</th>\n",
       "      <td>-0.333594</td>\n",
       "      <td>-0.156961</td>\n",
       "      <td>0.176447</td>\n",
       "      <td>0.129890</td>\n",
       "      <td>0.178440</td>\n",
       "      <td>-0.158566</td>\n",
       "      <td>0.305393</td>\n",
       "      <td>0.154073</td>\n",
       "      <td>0.249547</td>\n",
       "      <td>-0.260001</td>\n",
       "      <td>-0.176574</td>\n",
       "      <td>0.156789</td>\n",
       "      <td>0.052578</td>\n",
       "      <td>0.104668</td>\n",
       "      <td>-0.140404</td>\n",
       "      <td>1.000000</td>\n",
       "      <td>-0.024223</td>\n",
       "    </tr>\n",
       "    <tr>\n",
       "      <th>TENURE</th>\n",
       "      <td>0.066987</td>\n",
       "      <td>0.104714</td>\n",
       "      <td>0.084545</td>\n",
       "      <td>0.063400</td>\n",
       "      <td>0.083346</td>\n",
       "      <td>-0.073090</td>\n",
       "      <td>0.052161</td>\n",
       "      <td>0.080437</td>\n",
       "      <td>0.065779</td>\n",
       "      <td>-0.140038</td>\n",
       "      <td>-0.045350</td>\n",
       "      <td>0.118889</td>\n",
       "      <td>0.136464</td>\n",
       "      <td>0.102986</td>\n",
       "      <td>0.059330</td>\n",
       "      <td>-0.024223</td>\n",
       "      <td>1.000000</td>\n",
       "    </tr>\n",
       "  </tbody>\n",
       "</table>\n",
       "</div>"
      ],
      "text/plain": [
       "                                   BALANCE  BALANCE_FREQUENCY  PURCHASES  \\\n",
       "BALANCE                           1.000000           0.310140   0.176083   \n",
       "BALANCE_FREQUENCY                 0.310140           1.000000   0.122635   \n",
       "PURCHASES                         0.176083           0.122635   1.000000   \n",
       "ONEOFF_PURCHASES                  0.159985           0.095254   0.916780   \n",
       "INSTALLMENTS_PURCHASES            0.122109           0.114739   0.679259   \n",
       "CASH_ADVANCE                      0.495586           0.089036  -0.053760   \n",
       "PURCHASES_FREQUENCY              -0.088459           0.228158   0.393000   \n",
       "ONEOFF_PURCHASES_FREQUENCY        0.063832           0.187467   0.497384   \n",
       "PURCHASES_INSTALLMENTS_FREQUENCY -0.069582           0.184159   0.316025   \n",
       "CASH_ADVANCE_FREQUENCY            0.445307           0.181132  -0.124863   \n",
       "CASH_ADVANCE_TRX                  0.382388           0.133265  -0.070277   \n",
       "PURCHASES_TRX                     0.147887           0.183095   0.688732   \n",
       "CREDIT_LIMIT                      0.535518           0.087682   0.358425   \n",
       "PAYMENTS                          0.322830           0.039169   0.606782   \n",
       "MINIMUM_PAYMENTS                  0.398669           0.132519   0.093842   \n",
       "PRC_FULL_PAYMENT                 -0.333594          -0.156961   0.176447   \n",
       "TENURE                            0.066987           0.104714   0.084545   \n",
       "\n",
       "                                  ONEOFF_PURCHASES  INSTALLMENTS_PURCHASES  \\\n",
       "BALANCE                                   0.159985                0.122109   \n",
       "BALANCE_FREQUENCY                         0.095254                0.114739   \n",
       "PURCHASES                                 0.916780                0.679259   \n",
       "ONEOFF_PURCHASES                          1.000000                0.329650   \n",
       "INSTALLMENTS_PURCHASES                    0.329650                1.000000   \n",
       "CASH_ADVANCE                             -0.033244               -0.066099   \n",
       "PURCHASES_FREQUENCY                       0.265460                0.441193   \n",
       "ONEOFF_PURCHASES_FREQUENCY                0.524514                0.211829   \n",
       "PURCHASES_INSTALLMENTS_FREQUENCY          0.128380                0.511130   \n",
       "CASH_ADVANCE_FREQUENCY                   -0.086413               -0.136455   \n",
       "CASH_ADVANCE_TRX                         -0.048705               -0.076716   \n",
       "PURCHASES_TRX                             0.545313                0.626083   \n",
       "CREDIT_LIMIT                              0.320613                0.258057   \n",
       "PAYMENTS                                  0.570850                0.385391   \n",
       "MINIMUM_PAYMENTS                          0.048741                0.132156   \n",
       "PRC_FULL_PAYMENT                          0.129890                0.178440   \n",
       "TENURE                                    0.063400                0.083346   \n",
       "\n",
       "                                  CASH_ADVANCE  PURCHASES_FREQUENCY  \\\n",
       "BALANCE                               0.495586            -0.088459   \n",
       "BALANCE_FREQUENCY                     0.089036             0.228158   \n",
       "PURCHASES                            -0.053760             0.393000   \n",
       "ONEOFF_PURCHASES                     -0.033244             0.265460   \n",
       "INSTALLMENTS_PURCHASES               -0.066099             0.441193   \n",
       "CASH_ADVANCE                          1.000000            -0.218566   \n",
       "PURCHASES_FREQUENCY                  -0.218566             1.000000   \n",
       "ONEOFF_PURCHASES_FREQUENCY           -0.090111             0.502123   \n",
       "PURCHASES_INSTALLMENTS_FREQUENCY     -0.178873             0.862338   \n",
       "CASH_ADVANCE_FREQUENCY                0.629030            -0.316771   \n",
       "CASH_ADVANCE_TRX                      0.656911            -0.208749   \n",
       "PURCHASES_TRX                        -0.078449             0.567168   \n",
       "CREDIT_LIMIT                          0.304161             0.121372   \n",
       "PAYMENTS                              0.459342             0.100715   \n",
       "MINIMUM_PAYMENTS                      0.140094             0.002979   \n",
       "PRC_FULL_PAYMENT                     -0.158566             0.305393   \n",
       "TENURE                               -0.073090             0.052161   \n",
       "\n",
       "                                  ONEOFF_PURCHASES_FREQUENCY  \\\n",
       "BALANCE                                             0.063832   \n",
       "BALANCE_FREQUENCY                                   0.187467   \n",
       "PURCHASES                                           0.497384   \n",
       "ONEOFF_PURCHASES                                    0.524514   \n",
       "INSTALLMENTS_PURCHASES                              0.211829   \n",
       "CASH_ADVANCE                                       -0.090111   \n",
       "PURCHASES_FREQUENCY                                 0.502123   \n",
       "ONEOFF_PURCHASES_FREQUENCY                          1.000000   \n",
       "PURCHASES_INSTALLMENTS_FREQUENCY                    0.143911   \n",
       "CASH_ADVANCE_FREQUENCY                             -0.118225   \n",
       "CASH_ADVANCE_TRX                                   -0.073384   \n",
       "PURCHASES_TRX                                       0.544364   \n",
       "CREDIT_LIMIT                                        0.295432   \n",
       "PAYMENTS                                            0.244346   \n",
       "MINIMUM_PAYMENTS                                   -0.030357   \n",
       "PRC_FULL_PAYMENT                                    0.154073   \n",
       "TENURE                                              0.080437   \n",
       "\n",
       "                                  PURCHASES_INSTALLMENTS_FREQUENCY  \\\n",
       "BALANCE                                                  -0.069582   \n",
       "BALANCE_FREQUENCY                                         0.184159   \n",
       "PURCHASES                                                 0.316025   \n",
       "ONEOFF_PURCHASES                                          0.128380   \n",
       "INSTALLMENTS_PURCHASES                                    0.511130   \n",
       "CASH_ADVANCE                                             -0.178873   \n",
       "PURCHASES_FREQUENCY                                       0.862338   \n",
       "ONEOFF_PURCHASES_FREQUENCY                                0.143911   \n",
       "PURCHASES_INSTALLMENTS_FREQUENCY                          1.000000   \n",
       "CASH_ADVANCE_FREQUENCY                                   -0.268924   \n",
       "CASH_ADVANCE_TRX                                         -0.172811   \n",
       "PURCHASES_TRX                                             0.529192   \n",
       "CREDIT_LIMIT                                              0.063421   \n",
       "PAYMENTS                                                  0.083424   \n",
       "MINIMUM_PAYMENTS                                          0.030036   \n",
       "PRC_FULL_PAYMENT                                          0.249547   \n",
       "TENURE                                                    0.065779   \n",
       "\n",
       "                                  CASH_ADVANCE_FREQUENCY  CASH_ADVANCE_TRX  \\\n",
       "BALANCE                                         0.445307          0.382388   \n",
       "BALANCE_FREQUENCY                               0.181132          0.133265   \n",
       "PURCHASES                                      -0.124863         -0.070277   \n",
       "ONEOFF_PURCHASES                               -0.086413         -0.048705   \n",
       "INSTALLMENTS_PURCHASES                         -0.136455         -0.076716   \n",
       "CASH_ADVANCE                                    0.629030          0.656911   \n",
       "PURCHASES_FREQUENCY                            -0.316771         -0.208749   \n",
       "ONEOFF_PURCHASES_FREQUENCY                     -0.118225         -0.073384   \n",
       "PURCHASES_INSTALLMENTS_FREQUENCY               -0.268924         -0.172811   \n",
       "CASH_ADVANCE_FREQUENCY                          1.000000          0.799593   \n",
       "CASH_ADVANCE_TRX                                0.799593          1.000000   \n",
       "PURCHASES_TRX                                  -0.136913         -0.069879   \n",
       "CREDIT_LIMIT                                    0.132841          0.150261   \n",
       "PAYMENTS                                        0.182340          0.255921   \n",
       "MINIMUM_PAYMENTS                                0.098844          0.109727   \n",
       "PRC_FULL_PAYMENT                               -0.260001         -0.176574   \n",
       "TENURE                                         -0.140038         -0.045350   \n",
       "\n",
       "                                  PURCHASES_TRX  CREDIT_LIMIT  PAYMENTS  \\\n",
       "BALANCE                                0.147887      0.535518  0.322830   \n",
       "BALANCE_FREQUENCY                      0.183095      0.087682  0.039169   \n",
       "PURCHASES                              0.688732      0.358425  0.606782   \n",
       "ONEOFF_PURCHASES                       0.545313      0.320613  0.570850   \n",
       "INSTALLMENTS_PURCHASES                 0.626083      0.258057  0.385391   \n",
       "CASH_ADVANCE                          -0.078449      0.304161  0.459342   \n",
       "PURCHASES_FREQUENCY                    0.567168      0.121372  0.100715   \n",
       "ONEOFF_PURCHASES_FREQUENCY             0.544364      0.295432  0.244346   \n",
       "PURCHASES_INSTALLMENTS_FREQUENCY       0.529192      0.063421  0.083424   \n",
       "CASH_ADVANCE_FREQUENCY                -0.136913      0.132841  0.182340   \n",
       "CASH_ADVANCE_TRX                      -0.069879      0.150261  0.255921   \n",
       "PURCHASES_TRX                          1.000000      0.273715  0.371477   \n",
       "CREDIT_LIMIT                           0.273715      1.000000  0.426951   \n",
       "PAYMENTS                               0.371477      0.426951  1.000000   \n",
       "MINIMUM_PAYMENTS                       0.096311      0.126671  0.126630   \n",
       "PRC_FULL_PAYMENT                       0.156789      0.052578  0.104668   \n",
       "TENURE                                 0.118889      0.136464  0.102986   \n",
       "\n",
       "                                  MINIMUM_PAYMENTS  PRC_FULL_PAYMENT    TENURE  \n",
       "BALANCE                                   0.398669         -0.333594  0.066987  \n",
       "BALANCE_FREQUENCY                         0.132519         -0.156961  0.104714  \n",
       "PURCHASES                                 0.093842          0.176447  0.084545  \n",
       "ONEOFF_PURCHASES                          0.048741          0.129890  0.063400  \n",
       "INSTALLMENTS_PURCHASES                    0.132156          0.178440  0.083346  \n",
       "CASH_ADVANCE                              0.140094         -0.158566 -0.073090  \n",
       "PURCHASES_FREQUENCY                       0.002979          0.305393  0.052161  \n",
       "ONEOFF_PURCHASES_FREQUENCY               -0.030357          0.154073  0.080437  \n",
       "PURCHASES_INSTALLMENTS_FREQUENCY          0.030036          0.249547  0.065779  \n",
       "CASH_ADVANCE_FREQUENCY                    0.098844         -0.260001 -0.140038  \n",
       "CASH_ADVANCE_TRX                          0.109727         -0.176574 -0.045350  \n",
       "PURCHASES_TRX                             0.096311          0.156789  0.118889  \n",
       "CREDIT_LIMIT                              0.126671          0.052578  0.136464  \n",
       "PAYMENTS                                  0.126630          0.104668  0.102986  \n",
       "MINIMUM_PAYMENTS                          1.000000         -0.140404  0.059330  \n",
       "PRC_FULL_PAYMENT                         -0.140404          1.000000 -0.024223  \n",
       "TENURE                                    0.059330         -0.024223  1.000000  "
      ]
     },
     "execution_count": 9,
     "metadata": {},
     "output_type": "execute_result"
    }
   ],
   "source": [
    "df.corr()"
   ]
  },
  {
   "cell_type": "code",
   "execution_count": 10,
   "id": "a32c64a2",
   "metadata": {
    "execution": {
     "iopub.execute_input": "2021-10-09T17:06:07.512675Z",
     "iopub.status.busy": "2021-10-09T17:06:07.511648Z",
     "iopub.status.idle": "2021-10-09T17:06:08.092027Z",
     "shell.execute_reply": "2021-10-09T17:06:08.091396Z",
     "shell.execute_reply.started": "2021-10-09T16:58:16.690496Z"
    },
    "papermill": {
     "duration": 0.622769,
     "end_time": "2021-10-09T17:06:08.092169",
     "exception": false,
     "start_time": "2021-10-09T17:06:07.469400",
     "status": "completed"
    },
    "tags": []
   },
   "outputs": [
    {
     "data": {
      "text/plain": [
       "<AxesSubplot:>"
      ]
     },
     "execution_count": 10,
     "metadata": {},
     "output_type": "execute_result"
    },
    {
     "data": {
      "image/png": "[encoded data removed]",
      "text/plain": [
       "<Figure size 432x288 with 2 Axes>"
      ]
     },
     "metadata": {
      "needs_background": "light"
     },
     "output_type": "display_data"
    }
   ],
   "source": [
    "sns.heatmap(df.corr())"
   ]
  },
  {
   "cell_type": "code",
   "execution_count": 11,
   "id": "51f7d4cf",
   "metadata": {
    "execution": {
     "iopub.execute_input": "2021-10-09T17:06:08.200665Z",
     "iopub.status.busy": "2021-10-09T17:06:08.199647Z",
     "iopub.status.idle": "2021-10-09T17:06:08.342763Z",
     "shell.execute_reply": "2021-10-09T17:06:08.343496Z",
     "shell.execute_reply.started": "2021-10-09T16:59:17.158079Z"
    },
    "papermill": {
     "duration": 0.212219,
     "end_time": "2021-10-09T17:06:08.343731",
     "exception": false,
     "start_time": "2021-10-09T17:06:08.131512",
     "status": "completed"
    },
    "tags": []
   },
   "outputs": [
    {
     "data": {
      "text/plain": [
       "<AxesSubplot:xlabel='BALANCE'>"
      ]
     },
     "execution_count": 11,
     "metadata": {},
     "output_type": "execute_result"
    },
    {
     "data": {
      "image/png": "[encoded data removed]",
      "text/plain": [
       "<Figure size 432x288 with 1 Axes>"
      ]
     },
     "metadata": {
      "needs_background": "light"
     },
     "output_type": "display_data"
    }
   ],
   "source": [
    "sns.boxplot(x= 'BALANCE', data=df)"
   ]
  },
  {
   "cell_type": "code",
   "execution_count": 12,
   "id": "66e33cce",
   "metadata": {
    "execution": {
     "iopub.execute_input": "2021-10-09T17:06:08.456835Z",
     "iopub.status.busy": "2021-10-09T17:06:08.456055Z",
     "iopub.status.idle": "2021-10-09T17:06:08.898414Z",
     "shell.execute_reply": "2021-10-09T17:06:08.899164Z",
     "shell.execute_reply.started": "2021-10-09T16:59:26.183196Z"
    },
    "papermill": {
     "duration": 0.494635,
     "end_time": "2021-10-09T17:06:08.899448",
     "exception": false,
     "start_time": "2021-10-09T17:06:08.404813",
     "status": "completed"
    },
    "tags": []
   },
   "outputs": [
    {
     "data": {
      "text/plain": [
       "<AxesSubplot:>"
      ]
     },
     "execution_count": 12,
     "metadata": {},
     "output_type": "execute_result"
    },
    {
     "data": {
      "image/png": "[encoded data removed]",
      "text/plain": [
       "<Figure size 432x288 with 1 Axes>"
      ]
     },
     "metadata": {
      "needs_background": "light"
     },
     "output_type": "display_data"
    }
   ],
   "source": [
    "df.boxplot(column = ['BALANCE', 'PURCHASES'])"
   ]
  },
  {
   "cell_type": "code",
   "execution_count": 13,
   "id": "b38fe8cf",
   "metadata": {
    "execution": {
     "iopub.execute_input": "2021-10-09T17:06:09.004567Z",
     "iopub.status.busy": "2021-10-09T17:06:09.003212Z",
     "iopub.status.idle": "2021-10-09T17:06:09.727523Z",
     "shell.execute_reply": "2021-10-09T17:06:09.728305Z",
     "shell.execute_reply.started": "2021-10-09T16:59:34.080814Z"
    },
    "papermill": {
     "duration": 0.780553,
     "end_time": "2021-10-09T17:06:09.728524",
     "exception": false,
     "start_time": "2021-10-09T17:06:08.947971",
     "status": "completed"
    },
    "tags": []
   },
   "outputs": [
    {
     "data": {
      "text/plain": [
       "<AxesSubplot:>"
      ]
     },
     "execution_count": 13,
     "metadata": {},
     "output_type": "execute_result"
    },
    {
     "data": {
      "image/png": "[encoded data removed]",
      "text/plain": [
       "<Figure size 720x720 with 1 Axes>"
      ]
     },
     "metadata": {
      "needs_background": "light"
     },
     "output_type": "display_data"
    }
   ],
   "source": [
    "plt.figure(figsize = (10,10))\n",
    "sns.boxplot(data = df, orient = 'h', palette = 'Set2')"
   ]
  },
  {
   "cell_type": "code",
   "execution_count": 14,
   "id": "ec0a22cb",
   "metadata": {
    "execution": {
     "iopub.execute_input": "2021-10-09T17:06:09.829140Z",
     "iopub.status.busy": "2021-10-09T17:06:09.828016Z",
     "iopub.status.idle": "2021-10-09T17:06:10.050386Z",
     "shell.execute_reply": "2021-10-09T17:06:10.049627Z",
     "shell.execute_reply.started": "2021-10-09T16:59:47.428650Z"
    },
    "papermill": {
     "duration": 0.272355,
     "end_time": "2021-10-09T17:06:10.050553",
     "exception": false,
     "start_time": "2021-10-09T17:06:09.778198",
     "status": "completed"
    },
    "tags": []
   },
   "outputs": [
    {
     "data": {
      "text/html": [
       "<div>\n",
       "<style scoped>\n",
       "    .dataframe tbody tr th:only-of-type {\n",
       "        vertical-align: middle;\n",
       "    }\n",
       "\n",
       "    .dataframe tbody tr th {\n",
       "        vertical-align: top;\n",
       "    }\n",
       "\n",
       "    .dataframe thead th {\n",
       "        text-align: right;\n",
       "    }\n",
       "</style>\n",
       "<table border=\"1\" class=\"dataframe\">\n",
       "  <thead>\n",
       "    <tr style=\"text-align: right;\">\n",
       "      <th></th>\n",
       "      <th>BALANCE</th>\n",
       "      <th>BALANCE_FREQUENCY</th>\n",
       "      <th>PURCHASES</th>\n",
       "      <th>ONEOFF_PURCHASES</th>\n",
       "      <th>INSTALLMENTS_PURCHASES</th>\n",
       "      <th>CASH_ADVANCE</th>\n",
       "      <th>PURCHASES_FREQUENCY</th>\n",
       "      <th>ONEOFF_PURCHASES_FREQUENCY</th>\n",
       "      <th>PURCHASES_INSTALLMENTS_FREQUENCY</th>\n",
       "      <th>CASH_ADVANCE_FREQUENCY</th>\n",
       "      <th>CASH_ADVANCE_TRX</th>\n",
       "      <th>PURCHASES_TRX</th>\n",
       "      <th>CREDIT_LIMIT</th>\n",
       "      <th>PAYMENTS</th>\n",
       "      <th>MINIMUM_PAYMENTS</th>\n",
       "      <th>PRC_FULL_PAYMENT</th>\n",
       "      <th>TENURE</th>\n",
       "    </tr>\n",
       "  </thead>\n",
       "  <tbody>\n",
       "    <tr>\n",
       "      <th>0</th>\n",
       "      <td>40.900749</td>\n",
       "      <td>0.818182</td>\n",
       "      <td>95.40</td>\n",
       "      <td>0.00</td>\n",
       "      <td>95.40</td>\n",
       "      <td>0.000000</td>\n",
       "      <td>0.166667</td>\n",
       "      <td>0.000000</td>\n",
       "      <td>0.083333</td>\n",
       "      <td>0.000000</td>\n",
       "      <td>0</td>\n",
       "      <td>2</td>\n",
       "      <td>1000.0</td>\n",
       "      <td>201.802084</td>\n",
       "      <td>139.509787</td>\n",
       "      <td>0.000000</td>\n",
       "      <td>12</td>\n",
       "    </tr>\n",
       "    <tr>\n",
       "      <th>1</th>\n",
       "      <td>3202.467416</td>\n",
       "      <td>0.909091</td>\n",
       "      <td>0.00</td>\n",
       "      <td>0.00</td>\n",
       "      <td>0.00</td>\n",
       "      <td>6442.945483</td>\n",
       "      <td>0.000000</td>\n",
       "      <td>0.000000</td>\n",
       "      <td>0.000000</td>\n",
       "      <td>0.250000</td>\n",
       "      <td>4</td>\n",
       "      <td>0</td>\n",
       "      <td>7000.0</td>\n",
       "      <td>4103.032597</td>\n",
       "      <td>1072.340217</td>\n",
       "      <td>0.222222</td>\n",
       "      <td>12</td>\n",
       "    </tr>\n",
       "    <tr>\n",
       "      <th>2</th>\n",
       "      <td>2495.148862</td>\n",
       "      <td>1.000000</td>\n",
       "      <td>773.17</td>\n",
       "      <td>773.17</td>\n",
       "      <td>0.00</td>\n",
       "      <td>0.000000</td>\n",
       "      <td>1.000000</td>\n",
       "      <td>1.000000</td>\n",
       "      <td>0.000000</td>\n",
       "      <td>0.000000</td>\n",
       "      <td>0</td>\n",
       "      <td>12</td>\n",
       "      <td>7500.0</td>\n",
       "      <td>622.066742</td>\n",
       "      <td>627.284787</td>\n",
       "      <td>0.000000</td>\n",
       "      <td>12</td>\n",
       "    </tr>\n",
       "    <tr>\n",
       "      <th>4</th>\n",
       "      <td>817.714335</td>\n",
       "      <td>1.000000</td>\n",
       "      <td>16.00</td>\n",
       "      <td>16.00</td>\n",
       "      <td>0.00</td>\n",
       "      <td>0.000000</td>\n",
       "      <td>0.083333</td>\n",
       "      <td>0.083333</td>\n",
       "      <td>0.000000</td>\n",
       "      <td>0.000000</td>\n",
       "      <td>0</td>\n",
       "      <td>1</td>\n",
       "      <td>1200.0</td>\n",
       "      <td>678.334763</td>\n",
       "      <td>244.791237</td>\n",
       "      <td>0.000000</td>\n",
       "      <td>12</td>\n",
       "    </tr>\n",
       "    <tr>\n",
       "      <th>5</th>\n",
       "      <td>1809.828751</td>\n",
       "      <td>1.000000</td>\n",
       "      <td>1333.28</td>\n",
       "      <td>0.00</td>\n",
       "      <td>1333.28</td>\n",
       "      <td>0.000000</td>\n",
       "      <td>0.666667</td>\n",
       "      <td>0.000000</td>\n",
       "      <td>0.583333</td>\n",
       "      <td>0.000000</td>\n",
       "      <td>0</td>\n",
       "      <td>8</td>\n",
       "      <td>1800.0</td>\n",
       "      <td>1400.057770</td>\n",
       "      <td>2407.246035</td>\n",
       "      <td>0.000000</td>\n",
       "      <td>12</td>\n",
       "    </tr>\n",
       "    <tr>\n",
       "      <th>...</th>\n",
       "      <td>...</td>\n",
       "      <td>...</td>\n",
       "      <td>...</td>\n",
       "      <td>...</td>\n",
       "      <td>...</td>\n",
       "      <td>...</td>\n",
       "      <td>...</td>\n",
       "      <td>...</td>\n",
       "      <td>...</td>\n",
       "      <td>...</td>\n",
       "      <td>...</td>\n",
       "      <td>...</td>\n",
       "      <td>...</td>\n",
       "      <td>...</td>\n",
       "      <td>...</td>\n",
       "      <td>...</td>\n",
       "      <td>...</td>\n",
       "    </tr>\n",
       "    <tr>\n",
       "      <th>8943</th>\n",
       "      <td>5.871712</td>\n",
       "      <td>0.500000</td>\n",
       "      <td>20.90</td>\n",
       "      <td>20.90</td>\n",
       "      <td>0.00</td>\n",
       "      <td>0.000000</td>\n",
       "      <td>0.166667</td>\n",
       "      <td>0.166667</td>\n",
       "      <td>0.000000</td>\n",
       "      <td>0.000000</td>\n",
       "      <td>0</td>\n",
       "      <td>1</td>\n",
       "      <td>500.0</td>\n",
       "      <td>58.644883</td>\n",
       "      <td>43.473717</td>\n",
       "      <td>0.000000</td>\n",
       "      <td>6</td>\n",
       "    </tr>\n",
       "    <tr>\n",
       "      <th>8945</th>\n",
       "      <td>28.493517</td>\n",
       "      <td>1.000000</td>\n",
       "      <td>291.12</td>\n",
       "      <td>0.00</td>\n",
       "      <td>291.12</td>\n",
       "      <td>0.000000</td>\n",
       "      <td>1.000000</td>\n",
       "      <td>0.000000</td>\n",
       "      <td>0.833333</td>\n",
       "      <td>0.000000</td>\n",
       "      <td>0</td>\n",
       "      <td>6</td>\n",
       "      <td>1000.0</td>\n",
       "      <td>325.594462</td>\n",
       "      <td>48.886365</td>\n",
       "      <td>0.500000</td>\n",
       "      <td>6</td>\n",
       "    </tr>\n",
       "    <tr>\n",
       "      <th>8947</th>\n",
       "      <td>23.398673</td>\n",
       "      <td>0.833333</td>\n",
       "      <td>144.40</td>\n",
       "      <td>0.00</td>\n",
       "      <td>144.40</td>\n",
       "      <td>0.000000</td>\n",
       "      <td>0.833333</td>\n",
       "      <td>0.000000</td>\n",
       "      <td>0.666667</td>\n",
       "      <td>0.000000</td>\n",
       "      <td>0</td>\n",
       "      <td>5</td>\n",
       "      <td>1000.0</td>\n",
       "      <td>81.270775</td>\n",
       "      <td>82.418369</td>\n",
       "      <td>0.250000</td>\n",
       "      <td>6</td>\n",
       "    </tr>\n",
       "    <tr>\n",
       "      <th>8948</th>\n",
       "      <td>13.457564</td>\n",
       "      <td>0.833333</td>\n",
       "      <td>0.00</td>\n",
       "      <td>0.00</td>\n",
       "      <td>0.00</td>\n",
       "      <td>36.558778</td>\n",
       "      <td>0.000000</td>\n",
       "      <td>0.000000</td>\n",
       "      <td>0.000000</td>\n",
       "      <td>0.166667</td>\n",
       "      <td>2</td>\n",
       "      <td>0</td>\n",
       "      <td>500.0</td>\n",
       "      <td>52.549959</td>\n",
       "      <td>55.755628</td>\n",
       "      <td>0.250000</td>\n",
       "      <td>6</td>\n",
       "    </tr>\n",
       "    <tr>\n",
       "      <th>8949</th>\n",
       "      <td>372.708075</td>\n",
       "      <td>0.666667</td>\n",
       "      <td>1093.25</td>\n",
       "      <td>1093.25</td>\n",
       "      <td>0.00</td>\n",
       "      <td>127.040008</td>\n",
       "      <td>0.666667</td>\n",
       "      <td>0.666667</td>\n",
       "      <td>0.000000</td>\n",
       "      <td>0.333333</td>\n",
       "      <td>2</td>\n",
       "      <td>23</td>\n",
       "      <td>1200.0</td>\n",
       "      <td>63.165404</td>\n",
       "      <td>88.288956</td>\n",
       "      <td>0.000000</td>\n",
       "      <td>6</td>\n",
       "    </tr>\n",
       "  </tbody>\n",
       "</table>\n",
       "<p>8636 rows × 17 columns</p>\n",
       "</div>"
      ],
      "text/plain": [
       "          BALANCE  BALANCE_FREQUENCY  PURCHASES  ONEOFF_PURCHASES  \\\n",
       "0       40.900749           0.818182      95.40              0.00   \n",
       "1     3202.467416           0.909091       0.00              0.00   \n",
       "2     2495.148862           1.000000     773.17            773.17   \n",
       "4      817.714335           1.000000      16.00             16.00   \n",
       "5     1809.828751           1.000000    1333.28              0.00   \n",
       "...           ...                ...        ...               ...   \n",
       "8943     5.871712           0.500000      20.90             20.90   \n",
       "8945    28.493517           1.000000     291.12              0.00   \n",
       "8947    23.398673           0.833333     144.40              0.00   \n",
       "8948    13.457564           0.833333       0.00              0.00   \n",
       "8949   372.708075           0.666667    1093.25           1093.25   \n",
       "\n",
       "      INSTALLMENTS_PURCHASES  CASH_ADVANCE  PURCHASES_FREQUENCY  \\\n",
       "0                      95.40      0.000000             0.166667   \n",
       "1                       0.00   6442.945483             0.000000   \n",
       "2                       0.00      0.000000             1.000000   \n",
       "4                       0.00      0.000000             0.083333   \n",
       "5                    1333.28      0.000000             0.666667   \n",
       "...                      ...           ...                  ...   \n",
       "8943                    0.00      0.000000             0.166667   \n",
       "8945                  291.12      0.000000             1.000000   \n",
       "8947                  144.40      0.000000             0.833333   \n",
       "8948                    0.00     36.558778             0.000000   \n",
       "8949                    0.00    127.040008             0.666667   \n",
       "\n",
       "      ONEOFF_PURCHASES_FREQUENCY  PURCHASES_INSTALLMENTS_FREQUENCY  \\\n",
       "0                       0.000000                          0.083333   \n",
       "1                       0.000000                          0.000000   \n",
       "2                       1.000000                          0.000000   \n",
       "4                       0.083333                          0.000000   \n",
       "5                       0.000000                          0.583333   \n",
       "...                          ...                               ...   \n",
       "8943                    0.166667                          0.000000   \n",
       "8945                    0.000000                          0.833333   \n",
       "8947                    0.000000                          0.666667   \n",
       "8948                    0.000000                          0.000000   \n",
       "8949                    0.666667                          0.000000   \n",
       "\n",
       "      CASH_ADVANCE_FREQUENCY  CASH_ADVANCE_TRX  PURCHASES_TRX  CREDIT_LIMIT  \\\n",
       "0                   0.000000                 0              2        1000.0   \n",
       "1                   0.250000                 4              0        7000.0   \n",
       "2                   0.000000                 0             12        7500.0   \n",
       "4                   0.000000                 0              1        1200.0   \n",
       "5                   0.000000                 0              8        1800.0   \n",
       "...                      ...               ...            ...           ...   \n",
       "8943                0.000000                 0              1         500.0   \n",
       "8945                0.000000                 0              6        1000.0   \n",
       "8947                0.000000                 0              5        1000.0   \n",
       "8948                0.166667                 2              0         500.0   \n",
       "8949                0.333333                 2             23        1200.0   \n",
       "\n",
       "         PAYMENTS  MINIMUM_PAYMENTS  PRC_FULL_PAYMENT  TENURE  \n",
       "0      201.802084        139.509787          0.000000      12  \n",
       "1     4103.032597       1072.340217          0.222222      12  \n",
       "2      622.066742        627.284787          0.000000      12  \n",
       "4      678.334763        244.791237          0.000000      12  \n",
       "5     1400.057770       2407.246035          0.000000      12  \n",
       "...           ...               ...               ...     ...  \n",
       "8943    58.644883         43.473717          0.000000       6  \n",
       "8945   325.594462         48.886365          0.500000       6  \n",
       "8947    81.270775         82.418369          0.250000       6  \n",
       "8948    52.549959         55.755628          0.250000       6  \n",
       "8949    63.165404         88.288956          0.000000       6  \n",
       "\n",
       "[8636 rows x 17 columns]"
      ]
     },
     "execution_count": 14,
     "metadata": {},
     "output_type": "execute_result"
    }
   ],
   "source": [
    "from sklearn.model_selection import train_test_split\n",
    "from sklearn.preprocessing import StandardScaler\n",
    "df = df.drop('CUST_ID', axis=1)\n",
    "df"
   ]
  },
  {
   "cell_type": "code",
   "execution_count": 15,
   "id": "1c96af76",
   "metadata": {
    "execution": {
     "iopub.execute_input": "2021-10-09T17:06:10.147068Z",
     "iopub.status.busy": "2021-10-09T17:06:10.145733Z",
     "iopub.status.idle": "2021-10-09T17:06:10.157934Z",
     "shell.execute_reply": "2021-10-09T17:06:10.157247Z",
     "shell.execute_reply.started": "2021-10-09T16:59:57.193495Z"
    },
    "papermill": {
     "duration": 0.063116,
     "end_time": "2021-10-09T17:06:10.158080",
     "exception": false,
     "start_time": "2021-10-09T17:06:10.094964",
     "status": "completed"
    },
    "tags": []
   },
   "outputs": [
    {
     "data": {
      "text/plain": [
       "(8636, 17)"
      ]
     },
     "execution_count": 15,
     "metadata": {},
     "output_type": "execute_result"
    }
   ],
   "source": [
    "std_scaler = StandardScaler()\n",
    "df_scaled = std_scaler.fit_transform(df)\n",
    "df_scaled.shape"
   ]
  },
  {
   "cell_type": "code",
   "execution_count": 16,
   "id": "fa57d7b7",
   "metadata": {
    "execution": {
     "iopub.execute_input": "2021-10-09T17:06:10.252362Z",
     "iopub.status.busy": "2021-10-09T17:06:10.251702Z",
     "iopub.status.idle": "2021-10-09T17:06:10.256658Z",
     "shell.execute_reply": "2021-10-09T17:06:10.256021Z",
     "shell.execute_reply.started": "2021-10-09T17:00:07.479642Z"
    },
    "papermill": {
     "duration": 0.054806,
     "end_time": "2021-10-09T17:06:10.256798",
     "exception": false,
     "start_time": "2021-10-09T17:06:10.201992",
     "status": "completed"
    },
    "tags": []
   },
   "outputs": [
    {
     "data": {
      "text/plain": [
       "array([[-0.74462486, -0.37004679, -0.42918384, ..., -0.30550763,\n",
       "        -0.53772694,  0.35518066],\n",
       "       [ 0.76415211,  0.06767893, -0.47320819, ...,  0.08768873,\n",
       "         0.21238001,  0.35518066],\n",
       "       [ 0.42660239,  0.50540465, -0.11641251, ..., -0.09990611,\n",
       "        -0.53772694,  0.35518066],\n",
       "       ...,\n",
       "       [-0.75297728, -0.29709491, -0.40657175, ..., -0.32957217,\n",
       "         0.30614422, -4.22180042],\n",
       "       [-0.75772142, -0.29709491, -0.47320819, ..., -0.34081076,\n",
       "         0.30614422, -4.22180042],\n",
       "       [-0.58627829, -1.09958965,  0.03129519, ..., -0.32709767,\n",
       "        -0.53772694, -4.22180042]])"
      ]
     },
     "execution_count": 16,
     "metadata": {},
     "output_type": "execute_result"
    }
   ],
   "source": [
    "df_scaled"
   ]
  },
  {
   "cell_type": "code",
   "execution_count": 17,
   "id": "451c03ef",
   "metadata": {
    "execution": {
     "iopub.execute_input": "2021-10-09T17:06:10.350288Z",
     "iopub.status.busy": "2021-10-09T17:06:10.349583Z",
     "iopub.status.idle": "2021-10-09T17:06:10.491592Z",
     "shell.execute_reply": "2021-10-09T17:06:10.492475Z",
     "shell.execute_reply.started": "2021-10-09T17:00:41.296350Z"
    },
    "papermill": {
     "duration": 0.191868,
     "end_time": "2021-10-09T17:06:10.492756",
     "exception": false,
     "start_time": "2021-10-09T17:06:10.300888",
     "status": "completed"
    },
    "tags": []
   },
   "outputs": [
    {
     "data": {
      "text/plain": [
       "PCA()"
      ]
     },
     "execution_count": 17,
     "metadata": {},
     "output_type": "execute_result"
    }
   ],
   "source": [
    "from sklearn.decomposition import PCA\n",
    "pca = PCA()\n",
    "pca.fit(df_scaled)"
   ]
  },
  {
   "cell_type": "code",
   "execution_count": 18,
   "id": "e9118f85",
   "metadata": {
    "execution": {
     "iopub.execute_input": "2021-10-09T17:06:10.637495Z",
     "iopub.status.busy": "2021-10-09T17:06:10.636473Z",
     "iopub.status.idle": "2021-10-09T17:06:10.641353Z",
     "shell.execute_reply": "2021-10-09T17:06:10.641844Z",
     "shell.execute_reply.started": "2021-10-09T17:01:00.212953Z"
    },
    "papermill": {
     "duration": 0.06766,
     "end_time": "2021-10-09T17:06:10.642076",
     "exception": false,
     "start_time": "2021-10-09T17:06:10.574416",
     "status": "completed"
    },
    "tags": []
   },
   "outputs": [
    {
     "data": {
      "text/plain": [
       "array([4.62983620e+00, 3.46403341e+00, 1.51629231e+00, 1.28766257e+00,\n",
       "       1.06714866e+00, 9.71286112e-01, 8.35848726e-01, 7.15907723e-01,\n",
       "       6.25960921e-01, 5.23917010e-01, 4.01893153e-01, 3.01706671e-01,\n",
       "       2.42568833e-01, 2.00395358e-01, 1.71396366e-01, 4.61029927e-02,\n",
       "       1.17321400e-05])"
      ]
     },
     "execution_count": 18,
     "metadata": {},
     "output_type": "execute_result"
    }
   ],
   "source": [
    "exp_var = pca.explained_variance_\n",
    "exp_var"
   ]
  },
  {
   "cell_type": "code",
   "execution_count": 19,
   "id": "b2adc9e2",
   "metadata": {
    "execution": {
     "iopub.execute_input": "2021-10-09T17:06:10.750171Z",
     "iopub.status.busy": "2021-10-09T17:06:10.749276Z",
     "iopub.status.idle": "2021-10-09T17:06:10.752515Z",
     "shell.execute_reply": "2021-10-09T17:06:10.752989Z",
     "shell.execute_reply.started": "2021-10-09T17:01:20.088392Z"
    },
    "papermill": {
     "duration": 0.062351,
     "end_time": "2021-10-09T17:06:10.753216",
     "exception": false,
     "start_time": "2021-10-09T17:06:10.690865",
     "status": "completed"
    },
    "tags": []
   },
   "outputs": [
    {
     "data": {
      "text/plain": [
       "array([2.72311770e-01, 2.03743076e-01, 8.91833372e-02, 7.57360860e-02,\n",
       "       6.27661816e-02, 5.71278613e-02, 4.91618788e-02, 4.21073427e-02,\n",
       "       3.68169669e-02, 3.08150790e-02, 2.36380362e-02, 1.77453962e-02,\n",
       "       1.42671026e-02, 1.17865972e-02, 1.00809717e-02, 2.71162672e-03,\n",
       "       6.90045972e-07])"
      ]
     },
     "execution_count": 19,
     "metadata": {},
     "output_type": "execute_result"
    }
   ],
   "source": [
    "var_ratio = pca.explained_variance_ratio_\n",
    "var_ratio"
   ]
  },
  {
   "cell_type": "code",
   "execution_count": 20,
   "id": "fccd082a",
   "metadata": {
    "execution": {
     "iopub.execute_input": "2021-10-09T17:06:10.859360Z",
     "iopub.status.busy": "2021-10-09T17:06:10.858464Z",
     "iopub.status.idle": "2021-10-09T17:06:10.862314Z",
     "shell.execute_reply": "2021-10-09T17:06:10.862882Z",
     "shell.execute_reply.started": "2021-10-09T17:01:22.456611Z"
    },
    "papermill": {
     "duration": 0.059469,
     "end_time": "2021-10-09T17:06:10.863109",
     "exception": false,
     "start_time": "2021-10-09T17:06:10.803640",
     "status": "completed"
    },
    "tags": []
   },
   "outputs": [
    {
     "data": {
      "text/plain": [
       "array([0.27231177, 0.47605485, 0.56523818, 0.64097427, 0.70374045,\n",
       "       0.76086831, 0.81003019, 0.85213753, 0.8889545 , 0.91976958,\n",
       "       0.94340762, 0.96115301, 0.97542011, 0.98720671, 0.99728768,\n",
       "       0.99999931, 1.        ])"
      ]
     },
     "execution_count": 20,
     "metadata": {},
     "output_type": "execute_result"
    }
   ],
   "source": [
    "cumsum = np.cumsum(var_ratio)\n",
    "cumsum"
   ]
  },
  {
   "cell_type": "code",
   "execution_count": 21,
   "id": "b941de3e",
   "metadata": {
    "execution": {
     "iopub.execute_input": "2021-10-09T17:06:10.969230Z",
     "iopub.status.busy": "2021-10-09T17:06:10.968131Z",
     "iopub.status.idle": "2021-10-09T17:06:11.258745Z",
     "shell.execute_reply": "2021-10-09T17:06:11.259350Z",
     "shell.execute_reply.started": "2021-10-09T17:01:32.038026Z"
    },
    "papermill": {
     "duration": 0.345533,
     "end_time": "2021-10-09T17:06:11.259564",
     "exception": false,
     "start_time": "2021-10-09T17:06:10.914031",
     "status": "completed"
    },
    "tags": []
   },
   "outputs": [
    {
     "data": {
      "text/plain": [
       "[<matplotlib.lines.Line2D at 0x7f5fd119d710>]"
      ]
     },
     "execution_count": 21,
     "metadata": {},
     "output_type": "execute_result"
    },
    {
     "data": {
      "image/png": "[encoded data removed]",
      "text/plain": [
       "<Figure size 432x288 with 1 Axes>"
      ]
     },
     "metadata": {
      "needs_background": "light"
     },
     "output_type": "display_data"
    }
   ],
   "source": [
    "plt.title('Optimal number of Dimensions')\n",
    "plt.plot(cumsum)"
   ]
  },
  {
   "cell_type": "code",
   "execution_count": 22,
   "id": "a79c3901",
   "metadata": {
    "execution": {
     "iopub.execute_input": "2021-10-09T17:06:11.359723Z",
     "iopub.status.busy": "2021-10-09T17:06:11.358726Z",
     "iopub.status.idle": "2021-10-09T17:06:11.408365Z",
     "shell.execute_reply": "2021-10-09T17:06:11.409420Z",
     "shell.execute_reply.started": "2021-10-09T17:01:40.807579Z"
    },
    "papermill": {
     "duration": 0.100832,
     "end_time": "2021-10-09T17:06:11.409723",
     "exception": false,
     "start_time": "2021-10-09T17:06:11.308891",
     "status": "completed"
    },
    "tags": []
   },
   "outputs": [
    {
     "data": {
      "text/plain": [
       "PCA(n_components=7)"
      ]
     },
     "execution_count": 22,
     "metadata": {},
     "output_type": "execute_result"
    }
   ],
   "source": [
    "pca_final = PCA(n_components = 7).fit(df_scaled)\n",
    "pca_final"
   ]
  },
  {
   "cell_type": "code",
   "execution_count": 23,
   "id": "c710759f",
   "metadata": {
    "execution": {
     "iopub.execute_input": "2021-10-09T17:06:11.562678Z",
     "iopub.status.busy": "2021-10-09T17:06:11.561897Z",
     "iopub.status.idle": "2021-10-09T17:06:11.565290Z",
     "shell.execute_reply": "2021-10-09T17:06:11.565823Z",
     "shell.execute_reply.started": "2021-10-09T17:01:49.403274Z"
    },
    "papermill": {
     "duration": 0.06528,
     "end_time": "2021-10-09T17:06:11.566023",
     "exception": false,
     "start_time": "2021-10-09T17:06:11.500743",
     "status": "completed"
    },
    "tags": []
   },
   "outputs": [
    {
     "data": {
      "text/plain": [
       "array([4.6298362 , 3.46403341, 1.51629231, 1.28766257, 1.06714866,\n",
       "       0.97128611, 0.83584873])"
      ]
     },
     "execution_count": 23,
     "metadata": {},
     "output_type": "execute_result"
    }
   ],
   "source": [
    "pca_final.explained_variance_"
   ]
  },
  {
   "cell_type": "code",
   "execution_count": 24,
   "id": "c0a7b2b5",
   "metadata": {
    "execution": {
     "iopub.execute_input": "2021-10-09T17:06:11.668602Z",
     "iopub.status.busy": "2021-10-09T17:06:11.665315Z",
     "iopub.status.idle": "2021-10-09T17:06:11.672636Z",
     "shell.execute_reply": "2021-10-09T17:06:11.673171Z",
     "shell.execute_reply.started": "2021-10-09T17:01:59.261822Z"
    },
    "papermill": {
     "duration": 0.058917,
     "end_time": "2021-10-09T17:06:11.673349",
     "exception": false,
     "start_time": "2021-10-09T17:06:11.614432",
     "status": "completed"
    },
    "tags": []
   },
   "outputs": [
    {
     "data": {
      "text/plain": [
       "array([0.27231177, 0.20374308, 0.08918334, 0.07573609, 0.06276618,\n",
       "       0.05712786, 0.04916188])"
      ]
     },
     "execution_count": 24,
     "metadata": {},
     "output_type": "execute_result"
    }
   ],
   "source": [
    "pca_final.explained_variance_ratio_"
   ]
  },
  {
   "cell_type": "code",
   "execution_count": 25,
   "id": "6640a78a",
   "metadata": {
    "execution": {
     "iopub.execute_input": "2021-10-09T17:06:11.781332Z",
     "iopub.status.busy": "2021-10-09T17:06:11.777711Z",
     "iopub.status.idle": "2021-10-09T17:06:11.817438Z",
     "shell.execute_reply": "2021-10-09T17:06:11.819094Z",
     "shell.execute_reply.started": "2021-10-09T17:02:04.834415Z"
    },
    "papermill": {
     "duration": 0.094737,
     "end_time": "2021-10-09T17:06:11.819419",
     "exception": false,
     "start_time": "2021-10-09T17:06:11.724682",
     "status": "completed"
    },
    "tags": []
   },
   "outputs": [],
   "source": [
    "reduced_cr = pca_final.fit_transform(df_scaled)"
   ]
  },
  {
   "cell_type": "code",
   "execution_count": 26,
   "id": "6a1c4221",
   "metadata": {
    "execution": {
     "iopub.execute_input": "2021-10-09T17:06:11.976443Z",
     "iopub.status.busy": "2021-10-09T17:06:11.975369Z",
     "iopub.status.idle": "2021-10-09T17:06:11.990941Z",
     "shell.execute_reply": "2021-10-09T17:06:11.991487Z",
     "shell.execute_reply.started": "2021-10-09T17:02:13.990970Z"
    },
    "papermill": {
     "duration": 0.079819,
     "end_time": "2021-10-09T17:06:11.991665",
     "exception": false,
     "start_time": "2021-10-09T17:06:11.911846",
     "status": "completed"
    },
    "tags": []
   },
   "outputs": [
    {
     "data": {
      "text/html": [
       "<div>\n",
       "<style scoped>\n",
       "    .dataframe tbody tr th:only-of-type {\n",
       "        vertical-align: middle;\n",
       "    }\n",
       "\n",
       "    .dataframe tbody tr th {\n",
       "        vertical-align: top;\n",
       "    }\n",
       "\n",
       "    .dataframe thead th {\n",
       "        text-align: right;\n",
       "    }\n",
       "</style>\n",
       "<table border=\"1\" class=\"dataframe\">\n",
       "  <thead>\n",
       "    <tr style=\"text-align: right;\">\n",
       "      <th></th>\n",
       "      <th>C1</th>\n",
       "      <th>C2</th>\n",
       "      <th>C3</th>\n",
       "      <th>C4</th>\n",
       "      <th>C5</th>\n",
       "      <th>C6</th>\n",
       "      <th>C7</th>\n",
       "    </tr>\n",
       "  </thead>\n",
       "  <tbody>\n",
       "    <tr>\n",
       "      <th>0</th>\n",
       "      <td>-1.696395</td>\n",
       "      <td>-1.122584</td>\n",
       "      <td>0.491562</td>\n",
       "      <td>0.719521</td>\n",
       "      <td>0.079830</td>\n",
       "      <td>0.118234</td>\n",
       "      <td>0.808993</td>\n",
       "    </tr>\n",
       "    <tr>\n",
       "      <th>1</th>\n",
       "      <td>-1.215681</td>\n",
       "      <td>2.435638</td>\n",
       "      <td>0.694658</td>\n",
       "      <td>-0.098843</td>\n",
       "      <td>0.803019</td>\n",
       "      <td>-0.917777</td>\n",
       "      <td>-0.322969</td>\n",
       "    </tr>\n",
       "    <tr>\n",
       "      <th>2</th>\n",
       "      <td>0.935853</td>\n",
       "      <td>-0.385202</td>\n",
       "      <td>-0.025953</td>\n",
       "      <td>1.293844</td>\n",
       "      <td>-1.987285</td>\n",
       "      <td>-0.682139</td>\n",
       "      <td>-1.624721</td>\n",
       "    </tr>\n",
       "    <tr>\n",
       "      <th>3</th>\n",
       "      <td>-1.614638</td>\n",
       "      <td>-0.724586</td>\n",
       "      <td>0.272358</td>\n",
       "      <td>1.086116</td>\n",
       "      <td>-0.427814</td>\n",
       "      <td>0.082982</td>\n",
       "      <td>0.687001</td>\n",
       "    </tr>\n",
       "    <tr>\n",
       "      <th>4</th>\n",
       "      <td>0.223701</td>\n",
       "      <td>-0.783610</td>\n",
       "      <td>-1.184434</td>\n",
       "      <td>0.721353</td>\n",
       "      <td>0.801243</td>\n",
       "      <td>0.525879</td>\n",
       "      <td>0.788893</td>\n",
       "    </tr>\n",
       "    <tr>\n",
       "      <th>...</th>\n",
       "      <td>...</td>\n",
       "      <td>...</td>\n",
       "      <td>...</td>\n",
       "      <td>...</td>\n",
       "      <td>...</td>\n",
       "      <td>...</td>\n",
       "      <td>...</td>\n",
       "    </tr>\n",
       "    <tr>\n",
       "      <th>8631</th>\n",
       "      <td>-2.221637</td>\n",
       "      <td>-1.328411</td>\n",
       "      <td>1.643826</td>\n",
       "      <td>-1.421354</td>\n",
       "      <td>-0.175573</td>\n",
       "      <td>3.518499</td>\n",
       "      <td>-1.313848</td>\n",
       "    </tr>\n",
       "    <tr>\n",
       "      <th>8632</th>\n",
       "      <td>-0.362326</td>\n",
       "      <td>-2.032249</td>\n",
       "      <td>-0.875053</td>\n",
       "      <td>-2.800940</td>\n",
       "      <td>-0.313566</td>\n",
       "      <td>2.808854</td>\n",
       "      <td>-1.549426</td>\n",
       "    </tr>\n",
       "    <tr>\n",
       "      <th>8633</th>\n",
       "      <td>-0.930026</td>\n",
       "      <td>-1.841236</td>\n",
       "      <td>-0.350037</td>\n",
       "      <td>-2.351591</td>\n",
       "      <td>-0.219492</td>\n",
       "      <td>3.090269</td>\n",
       "      <td>-1.421757</td>\n",
       "    </tr>\n",
       "    <tr>\n",
       "      <th>8634</th>\n",
       "      <td>-2.356010</td>\n",
       "      <td>-0.718730</td>\n",
       "      <td>1.048522</td>\n",
       "      <td>-1.776467</td>\n",
       "      <td>-0.552690</td>\n",
       "      <td>3.333452</td>\n",
       "      <td>-0.996810</td>\n",
       "    </tr>\n",
       "    <tr>\n",
       "      <th>8635</th>\n",
       "      <td>-0.596818</td>\n",
       "      <td>-0.446019</td>\n",
       "      <td>1.105246</td>\n",
       "      <td>-1.865521</td>\n",
       "      <td>-1.930906</td>\n",
       "      <td>3.484945</td>\n",
       "      <td>-1.550747</td>\n",
       "    </tr>\n",
       "  </tbody>\n",
       "</table>\n",
       "<p>8636 rows × 7 columns</p>\n",
       "</div>"
      ],
      "text/plain": [
       "            C1        C2        C3        C4        C5        C6        C7\n",
       "0    -1.696395 -1.122584  0.491562  0.719521  0.079830  0.118234  0.808993\n",
       "1    -1.215681  2.435638  0.694658 -0.098843  0.803019 -0.917777 -0.322969\n",
       "2     0.935853 -0.385202 -0.025953  1.293844 -1.987285 -0.682139 -1.624721\n",
       "3    -1.614638 -0.724586  0.272358  1.086116 -0.427814  0.082982  0.687001\n",
       "4     0.223701 -0.783610 -1.184434  0.721353  0.801243  0.525879  0.788893\n",
       "...        ...       ...       ...       ...       ...       ...       ...\n",
       "8631 -2.221637 -1.328411  1.643826 -1.421354 -0.175573  3.518499 -1.313848\n",
       "8632 -0.362326 -2.032249 -0.875053 -2.800940 -0.313566  2.808854 -1.549426\n",
       "8633 -0.930026 -1.841236 -0.350037 -2.351591 -0.219492  3.090269 -1.421757\n",
       "8634 -2.356010 -0.718730  1.048522 -1.776467 -0.552690  3.333452 -0.996810\n",
       "8635 -0.596818 -0.446019  1.105246 -1.865521 -1.930906  3.484945 -1.550747\n",
       "\n",
       "[8636 rows x 7 columns]"
      ]
     },
     "execution_count": 26,
     "metadata": {},
     "output_type": "execute_result"
    }
   ],
   "source": [
    "dimensions = pd.DataFrame(reduced_cr)\n",
    "dimensions.columns = ['C1', 'C2', 'C3', 'C4', 'C5', 'C6', 'C7']\n",
    "dimensions"
   ]
  },
  {
   "cell_type": "code",
   "execution_count": 27,
   "id": "458172a0",
   "metadata": {
    "execution": {
     "iopub.execute_input": "2021-10-09T17:06:12.097721Z",
     "iopub.status.busy": "2021-10-09T17:06:12.096632Z",
     "iopub.status.idle": "2021-10-09T17:06:13.652930Z",
     "shell.execute_reply": "2021-10-09T17:06:13.653960Z",
     "shell.execute_reply.started": "2021-10-09T17:02:25.173772Z"
    },
    "papermill": {
     "duration": 1.610819,
     "end_time": "2021-10-09T17:06:13.654252",
     "exception": false,
     "start_time": "2021-10-09T17:06:12.043433",
     "status": "completed"
    },
    "tags": []
   },
   "outputs": [
    {
     "data": {
      "text/plain": [
       "KMeans(n_clusters=3, random_state=123)"
      ]
     },
     "execution_count": 27,
     "metadata": {},
     "output_type": "execute_result"
    }
   ],
   "source": [
    "from sklearn.cluster import KMeans\n",
    "k_means = KMeans(n_clusters = 3, random_state = 123)\n",
    "k_means.fit(dimensions)"
   ]
  },
  {
   "cell_type": "code",
   "execution_count": 28,
   "id": "0b92db81",
   "metadata": {
    "execution": {
     "iopub.execute_input": "2021-10-09T17:06:13.795469Z",
     "iopub.status.busy": "2021-10-09T17:06:13.794636Z",
     "iopub.status.idle": "2021-10-09T17:06:13.797757Z",
     "shell.execute_reply": "2021-10-09T17:06:13.798328Z",
     "shell.execute_reply.started": "2021-10-09T17:02:36.718366Z"
    },
    "papermill": {
     "duration": 0.076463,
     "end_time": "2021-10-09T17:06:13.798557",
     "exception": false,
     "start_time": "2021-10-09T17:06:13.722094",
     "status": "completed"
    },
    "tags": []
   },
   "outputs": [
    {
     "data": {
      "text/plain": [
       "array([[ 3.81906397, -0.10879322,  0.06494917,  0.11204239, -0.30737105,\n",
       "        -0.05442776, -0.17991947],\n",
       "       [-0.82832671,  2.97691395, -0.2162108 , -0.3398991 ,  0.03174461,\n",
       "        -0.13436056, -0.14893815],\n",
       "       [-0.58225088, -0.75214023,  0.04270925,  0.06506594,  0.05595141,\n",
       "         0.04634382,  0.0763553 ]])"
      ]
     },
     "execution_count": 28,
     "metadata": {},
     "output_type": "execute_result"
    }
   ],
   "source": [
    "k_means.cluster_centers_"
   ]
  },
  {
   "cell_type": "code",
   "execution_count": 29,
   "id": "6b6d72e6",
   "metadata": {
    "execution": {
     "iopub.execute_input": "2021-10-09T17:06:13.941194Z",
     "iopub.status.busy": "2021-10-09T17:06:13.940397Z",
     "iopub.status.idle": "2021-10-09T17:06:23.187721Z",
     "shell.execute_reply": "2021-10-09T17:06:23.188318Z",
     "shell.execute_reply.started": "2021-10-09T17:02:52.922950Z"
    },
    "papermill": {
     "duration": 9.320881,
     "end_time": "2021-10-09T17:06:23.188569",
     "exception": false,
     "start_time": "2021-10-09T17:06:13.867688",
     "status": "completed"
    },
    "tags": []
   },
   "outputs": [],
   "source": [
    "k_means4 = KMeans(n_clusters = 4,random_state = 123).fit(dimensions)\n",
    "k_means5 = KMeans(n_clusters = 5,random_state = 123).fit(dimensions)\n",
    "k_means6 = KMeans(n_clusters = 6,random_state = 123).fit(dimensions)\n",
    "k_means7 = KMeans(n_clusters = 7,random_state = 123).fit(dimensions)\n",
    "k_means8 = KMeans(n_clusters = 8,random_state = 123).fit(dimensions)\n",
    "k_means9 = KMeans(n_clusters = 9,random_state = 123).fit(dimensions)"
   ]
  },
  {
   "cell_type": "code",
   "execution_count": 30,
   "id": "2a0e0595",
   "metadata": {
    "execution": {
     "iopub.execute_input": "2021-10-09T17:06:23.320820Z",
     "iopub.status.busy": "2021-10-09T17:06:23.320090Z",
     "iopub.status.idle": "2021-10-09T17:06:23.337063Z",
     "shell.execute_reply": "2021-10-09T17:06:23.338027Z",
     "shell.execute_reply.started": "2021-10-09T17:03:03.894149Z"
    },
    "papermill": {
     "duration": 0.088161,
     "end_time": "2021-10-09T17:06:23.338243",
     "exception": false,
     "start_time": "2021-10-09T17:06:23.250082",
     "status": "completed"
    },
    "tags": []
   },
   "outputs": [
    {
     "data": {
      "text/plain": [
       "2    5880\n",
       "1    1525\n",
       "0    1231\n",
       "Name: 3_clusters, dtype: int64"
      ]
     },
     "execution_count": 30,
     "metadata": {},
     "output_type": "execute_result"
    }
   ],
   "source": [
    "labels = k_means.labels_\n",
    "df['3_clusters'] = k_means.labels_\n",
    "df['4_clusters'] = k_means4.labels_\n",
    "df['5_clusters'] = k_means5.labels_\n",
    "df['6_clusters'] = k_means6.labels_\n",
    "df['7_clusters'] = k_means7.labels_\n",
    "df['8_clusters'] = k_means8.labels_\n",
    "df['9_clusters'] = k_means9.labels_\n",
    "df['3_clusters'].value_counts()"
   ]
  },
  {
   "cell_type": "code",
   "execution_count": 31,
   "id": "7c505127",
   "metadata": {
    "execution": {
     "iopub.execute_input": "2021-10-09T17:06:23.495231Z",
     "iopub.status.busy": "2021-10-09T17:06:23.494399Z",
     "iopub.status.idle": "2021-10-09T17:06:23.502408Z",
     "shell.execute_reply": "2021-10-09T17:06:23.503644Z",
     "shell.execute_reply.started": "2021-10-09T17:03:14.690043Z"
    },
    "papermill": {
     "duration": 0.10249,
     "end_time": "2021-10-09T17:06:23.503877",
     "exception": false,
     "start_time": "2021-10-09T17:06:23.401387",
     "status": "completed"
    },
    "tags": []
   },
   "outputs": [
    {
     "data": {
      "text/html": [
       "<div>\n",
       "<style scoped>\n",
       "    .dataframe tbody tr th:only-of-type {\n",
       "        vertical-align: middle;\n",
       "    }\n",
       "\n",
       "    .dataframe tbody tr th {\n",
       "        vertical-align: top;\n",
       "    }\n",
       "\n",
       "    .dataframe thead th {\n",
       "        text-align: right;\n",
       "    }\n",
       "</style>\n",
       "<table border=\"1\" class=\"dataframe\">\n",
       "  <thead>\n",
       "    <tr style=\"text-align: right;\">\n",
       "      <th></th>\n",
       "      <th>BALANCE</th>\n",
       "      <th>BALANCE_FREQUENCY</th>\n",
       "      <th>PURCHASES</th>\n",
       "      <th>ONEOFF_PURCHASES</th>\n",
       "      <th>INSTALLMENTS_PURCHASES</th>\n",
       "      <th>CASH_ADVANCE</th>\n",
       "      <th>PURCHASES_FREQUENCY</th>\n",
       "      <th>ONEOFF_PURCHASES_FREQUENCY</th>\n",
       "      <th>PURCHASES_INSTALLMENTS_FREQUENCY</th>\n",
       "      <th>CASH_ADVANCE_FREQUENCY</th>\n",
       "      <th>...</th>\n",
       "      <th>MINIMUM_PAYMENTS</th>\n",
       "      <th>PRC_FULL_PAYMENT</th>\n",
       "      <th>TENURE</th>\n",
       "      <th>3_clusters</th>\n",
       "      <th>4_clusters</th>\n",
       "      <th>5_clusters</th>\n",
       "      <th>6_clusters</th>\n",
       "      <th>7_clusters</th>\n",
       "      <th>8_clusters</th>\n",
       "      <th>9_clusters</th>\n",
       "    </tr>\n",
       "  </thead>\n",
       "  <tbody>\n",
       "    <tr>\n",
       "      <th>0</th>\n",
       "      <td>40.900749</td>\n",
       "      <td>0.818182</td>\n",
       "      <td>95.40</td>\n",
       "      <td>0.00</td>\n",
       "      <td>95.40</td>\n",
       "      <td>0.000000</td>\n",
       "      <td>0.166667</td>\n",
       "      <td>0.000000</td>\n",
       "      <td>0.083333</td>\n",
       "      <td>0.00</td>\n",
       "      <td>...</td>\n",
       "      <td>139.509787</td>\n",
       "      <td>0.000000</td>\n",
       "      <td>12</td>\n",
       "      <td>2</td>\n",
       "      <td>1</td>\n",
       "      <td>0</td>\n",
       "      <td>2</td>\n",
       "      <td>1</td>\n",
       "      <td>3</td>\n",
       "      <td>0</td>\n",
       "    </tr>\n",
       "    <tr>\n",
       "      <th>1</th>\n",
       "      <td>3202.467416</td>\n",
       "      <td>0.909091</td>\n",
       "      <td>0.00</td>\n",
       "      <td>0.00</td>\n",
       "      <td>0.00</td>\n",
       "      <td>6442.945483</td>\n",
       "      <td>0.000000</td>\n",
       "      <td>0.000000</td>\n",
       "      <td>0.000000</td>\n",
       "      <td>0.25</td>\n",
       "      <td>...</td>\n",
       "      <td>1072.340217</td>\n",
       "      <td>0.222222</td>\n",
       "      <td>12</td>\n",
       "      <td>1</td>\n",
       "      <td>2</td>\n",
       "      <td>3</td>\n",
       "      <td>1</td>\n",
       "      <td>6</td>\n",
       "      <td>2</td>\n",
       "      <td>7</td>\n",
       "    </tr>\n",
       "    <tr>\n",
       "      <th>2</th>\n",
       "      <td>2495.148862</td>\n",
       "      <td>1.000000</td>\n",
       "      <td>773.17</td>\n",
       "      <td>773.17</td>\n",
       "      <td>0.00</td>\n",
       "      <td>0.000000</td>\n",
       "      <td>1.000000</td>\n",
       "      <td>1.000000</td>\n",
       "      <td>0.000000</td>\n",
       "      <td>0.00</td>\n",
       "      <td>...</td>\n",
       "      <td>627.284787</td>\n",
       "      <td>0.000000</td>\n",
       "      <td>12</td>\n",
       "      <td>2</td>\n",
       "      <td>0</td>\n",
       "      <td>2</td>\n",
       "      <td>4</td>\n",
       "      <td>3</td>\n",
       "      <td>7</td>\n",
       "      <td>6</td>\n",
       "    </tr>\n",
       "    <tr>\n",
       "      <th>4</th>\n",
       "      <td>817.714335</td>\n",
       "      <td>1.000000</td>\n",
       "      <td>16.00</td>\n",
       "      <td>16.00</td>\n",
       "      <td>0.00</td>\n",
       "      <td>0.000000</td>\n",
       "      <td>0.083333</td>\n",
       "      <td>0.083333</td>\n",
       "      <td>0.000000</td>\n",
       "      <td>0.00</td>\n",
       "      <td>...</td>\n",
       "      <td>244.791237</td>\n",
       "      <td>0.000000</td>\n",
       "      <td>12</td>\n",
       "      <td>2</td>\n",
       "      <td>1</td>\n",
       "      <td>0</td>\n",
       "      <td>2</td>\n",
       "      <td>1</td>\n",
       "      <td>3</td>\n",
       "      <td>0</td>\n",
       "    </tr>\n",
       "    <tr>\n",
       "      <th>5</th>\n",
       "      <td>1809.828751</td>\n",
       "      <td>1.000000</td>\n",
       "      <td>1333.28</td>\n",
       "      <td>0.00</td>\n",
       "      <td>1333.28</td>\n",
       "      <td>0.000000</td>\n",
       "      <td>0.666667</td>\n",
       "      <td>0.000000</td>\n",
       "      <td>0.583333</td>\n",
       "      <td>0.00</td>\n",
       "      <td>...</td>\n",
       "      <td>2407.246035</td>\n",
       "      <td>0.000000</td>\n",
       "      <td>12</td>\n",
       "      <td>2</td>\n",
       "      <td>0</td>\n",
       "      <td>4</td>\n",
       "      <td>4</td>\n",
       "      <td>4</td>\n",
       "      <td>0</td>\n",
       "      <td>3</td>\n",
       "    </tr>\n",
       "  </tbody>\n",
       "</table>\n",
       "<p>5 rows × 24 columns</p>\n",
       "</div>"
      ],
      "text/plain": [
       "       BALANCE  BALANCE_FREQUENCY  PURCHASES  ONEOFF_PURCHASES  \\\n",
       "0    40.900749           0.818182      95.40              0.00   \n",
       "1  3202.467416           0.909091       0.00              0.00   \n",
       "2  2495.148862           1.000000     773.17            773.17   \n",
       "4   817.714335           1.000000      16.00             16.00   \n",
       "5  1809.828751           1.000000    1333.28              0.00   \n",
       "\n",
       "   INSTALLMENTS_PURCHASES  CASH_ADVANCE  PURCHASES_FREQUENCY  \\\n",
       "0                   95.40      0.000000             0.166667   \n",
       "1                    0.00   6442.945483             0.000000   \n",
       "2                    0.00      0.000000             1.000000   \n",
       "4                    0.00      0.000000             0.083333   \n",
       "5                 1333.28      0.000000             0.666667   \n",
       "\n",
       "   ONEOFF_PURCHASES_FREQUENCY  PURCHASES_INSTALLMENTS_FREQUENCY  \\\n",
       "0                    0.000000                          0.083333   \n",
       "1                    0.000000                          0.000000   \n",
       "2                    1.000000                          0.000000   \n",
       "4                    0.083333                          0.000000   \n",
       "5                    0.000000                          0.583333   \n",
       "\n",
       "   CASH_ADVANCE_FREQUENCY  ...  MINIMUM_PAYMENTS  PRC_FULL_PAYMENT  TENURE  \\\n",
       "0                    0.00  ...        139.509787          0.000000      12   \n",
       "1                    0.25  ...       1072.340217          0.222222      12   \n",
       "2                    0.00  ...        627.284787          0.000000      12   \n",
       "4                    0.00  ...        244.791237          0.000000      12   \n",
       "5                    0.00  ...       2407.246035          0.000000      12   \n",
       "\n",
       "   3_clusters  4_clusters  5_clusters  6_clusters  7_clusters  8_clusters  \\\n",
       "0           2           1           0           2           1           3   \n",
       "1           1           2           3           1           6           2   \n",
       "2           2           0           2           4           3           7   \n",
       "4           2           1           0           2           1           3   \n",
       "5           2           0           4           4           4           0   \n",
       "\n",
       "   9_clusters  \n",
       "0           0  \n",
       "1           7  \n",
       "2           6  \n",
       "4           0  \n",
       "5           3  \n",
       "\n",
       "[5 rows x 24 columns]"
      ]
     },
     "execution_count": 31,
     "metadata": {},
     "output_type": "execute_result"
    }
   ],
   "source": [
    "df.head()"
   ]
  },
  {
   "cell_type": "code",
   "execution_count": 32,
   "id": "53bcfcab",
   "metadata": {
    "execution": {
     "iopub.execute_input": "2021-10-09T17:06:23.650188Z",
     "iopub.status.busy": "2021-10-09T17:06:23.649192Z",
     "iopub.status.idle": "2021-10-09T17:06:24.680785Z",
     "shell.execute_reply": "2021-10-09T17:06:24.682092Z",
     "shell.execute_reply.started": "2021-10-09T17:03:23.634069Z"
    },
    "papermill": {
     "duration": 1.111311,
     "end_time": "2021-10-09T17:06:24.682416",
     "exception": false,
     "start_time": "2021-10-09T17:06:23.571105",
     "status": "completed"
    },
    "tags": []
   },
   "outputs": [
    {
     "data": {
      "text/plain": [
       "<AxesSubplot:xlabel='BALANCE', ylabel='PURCHASES'>"
      ]
     },
     "execution_count": 32,
     "metadata": {},
     "output_type": "execute_result"
    },
    {
     "data": {
      "image/png": "[encoded data removed]",
      "text/plain": [
       "<Figure size 432x288 with 1 Axes>"
      ]
     },
     "metadata": {
      "needs_background": "light"
     },
     "output_type": "display_data"
    }
   ],
   "source": [
    "sns.scatterplot(x = 'BALANCE', y = 'PURCHASES', data = df, hue = '8_clusters')"
   ]
  },
  {
   "cell_type": "code",
   "execution_count": 33,
   "id": "c588f1db",
   "metadata": {
    "execution": {
     "iopub.execute_input": "2021-10-09T17:06:24.799152Z",
     "iopub.status.busy": "2021-10-09T17:06:24.798437Z",
     "iopub.status.idle": "2021-10-09T17:06:25.668204Z",
     "shell.execute_reply": "2021-10-09T17:06:25.668767Z",
     "shell.execute_reply.started": "2021-10-09T17:03:33.756449Z"
    },
    "papermill": {
     "duration": 0.930152,
     "end_time": "2021-10-09T17:06:25.669011",
     "exception": false,
     "start_time": "2021-10-09T17:06:24.738859",
     "status": "completed"
    },
    "tags": []
   },
   "outputs": [
    {
     "data": {
      "text/plain": [
       "<AxesSubplot:xlabel='PURCHASES', ylabel='CASH_ADVANCE'>"
      ]
     },
     "execution_count": 33,
     "metadata": {},
     "output_type": "execute_result"
    },
    {
     "data": {
      "image/png": "[encoded data removed]",
      "text/plain": [
       "<Figure size 432x288 with 1 Axes>"
      ]
     },
     "metadata": {
      "needs_background": "light"
     },
     "output_type": "display_data"
    }
   ],
   "source": [
    "sns.scatterplot(y = 'CASH_ADVANCE', x = 'PURCHASES', data = df, hue = '8_clusters')"
   ]
  },
  {
   "cell_type": "code",
   "execution_count": 34,
   "id": "8cee3573",
   "metadata": {
    "execution": {
     "iopub.execute_input": "2021-10-09T17:06:25.798034Z",
     "iopub.status.busy": "2021-10-09T17:06:25.797199Z",
     "iopub.status.idle": "2021-10-09T17:06:25.806405Z",
     "shell.execute_reply": "2021-10-09T17:06:25.806901Z",
     "shell.execute_reply.started": "2021-10-09T17:04:07.744485Z"
    },
    "papermill": {
     "duration": 0.075822,
     "end_time": "2021-10-09T17:06:25.807149",
     "exception": false,
     "start_time": "2021-10-09T17:06:25.731327",
     "status": "completed"
    },
    "tags": []
   },
   "outputs": [
    {
     "name": "stdout",
     "output_type": "stream",
     "text": [
      "3    0.316698\n",
      "0    0.215725\n",
      "7    0.129342\n",
      "5    0.122974\n",
      "2    0.103868\n",
      "1    0.068203\n",
      "6    0.039717\n",
      "4    0.003474\n",
      "Name: 8_clusters, dtype: float64\n"
     ]
    }
   ],
   "source": [
    "print(df['8_clusters'].value_counts()/ sum(df['8_clusters'].value_counts()))"
   ]
  },
  {
   "cell_type": "code",
   "execution_count": 35,
   "id": "731151f4",
   "metadata": {
    "execution": {
     "iopub.execute_input": "2021-10-09T17:06:25.924725Z",
     "iopub.status.busy": "2021-10-09T17:06:25.919800Z",
     "iopub.status.idle": "2021-10-09T17:06:27.172943Z",
     "shell.execute_reply": "2021-10-09T17:06:27.171800Z",
     "shell.execute_reply.started": "2021-10-09T17:04:36.966424Z"
    },
    "papermill": {
     "duration": 1.312077,
     "end_time": "2021-10-09T17:06:27.173155",
     "exception": false,
     "start_time": "2021-10-09T17:06:25.861078",
     "status": "completed"
    },
    "tags": []
   },
   "outputs": [
    {
     "data": {
      "text/plain": [
       "0.2806729812295261"
      ]
     },
     "execution_count": 35,
     "metadata": {},
     "output_type": "execute_result"
    }
   ],
   "source": [
    "from sklearn.metrics import silhouette_score\n",
    "score = silhouette_score(dimensions, labels = k_means.labels_)\n",
    "score"
   ]
  },
  {
   "cell_type": "code",
   "execution_count": 36,
   "id": "407c74d0",
   "metadata": {
    "execution": {
     "iopub.execute_input": "2021-10-09T17:06:27.309168Z",
     "iopub.status.busy": "2021-10-09T17:06:27.307906Z",
     "iopub.status.idle": "2021-10-09T17:06:57.753234Z",
     "shell.execute_reply": "2021-10-09T17:06:57.754117Z",
     "shell.execute_reply.started": "2021-10-09T17:04:48.174934Z"
    },
    "papermill": {
     "duration": 30.518306,
     "end_time": "2021-10-09T17:06:57.754383",
     "exception": false,
     "start_time": "2021-10-09T17:06:27.236077",
     "status": "completed"
    },
    "tags": []
   },
   "outputs": [
    {
     "data": {
      "text/plain": [
       "[95513.37213893823,\n",
       " 80477.21356434915,\n",
       " 68173.69322379483,\n",
       " 61431.939948469626,\n",
       " 55943.8277580374,\n",
       " 50865.06001233824,\n",
       " 46809.91537404776,\n",
       " 43830.99007581992,\n",
       " 40962.924596087374,\n",
       " 39279.14417103312,\n",
       " 37639.21117955778,\n",
       " 36010.26453846839,\n",
       " 34823.72089430363,\n",
       " 33618.167862204464,\n",
       " 32674.89610297687,\n",
       " 31719.98669198055,\n",
       " 30598.261833251967,\n",
       " 29940.901135831184]"
      ]
     },
     "execution_count": 36,
     "metadata": {},
     "output_type": "execute_result"
    }
   ],
   "source": [
    "cluster_range = range(2,20)\n",
    "variance = []\n",
    "\n",
    "for num_clusters in cluster_range:\n",
    "    cluster = KMeans(num_clusters)\n",
    "    cluster.fit(dimensions)\n",
    "    variance.append(cluster.inertia_)\n",
    "variance"
   ]
  },
  {
   "cell_type": "code",
   "execution_count": 37,
   "id": "824d78df",
   "metadata": {
    "execution": {
     "iopub.execute_input": "2021-10-09T17:06:57.904773Z",
     "iopub.status.busy": "2021-10-09T17:06:57.903996Z",
     "iopub.status.idle": "2021-10-09T17:06:57.915045Z",
     "shell.execute_reply": "2021-10-09T17:06:57.915879Z",
     "shell.execute_reply.started": "2021-10-09T17:05:15.956560Z"
    },
    "papermill": {
     "duration": 0.094041,
     "end_time": "2021-10-09T17:06:57.916145",
     "exception": false,
     "start_time": "2021-10-09T17:06:57.822104",
     "status": "completed"
    },
    "tags": []
   },
   "outputs": [
    {
     "data": {
      "text/html": [
       "<div>\n",
       "<style scoped>\n",
       "    .dataframe tbody tr th:only-of-type {\n",
       "        vertical-align: middle;\n",
       "    }\n",
       "\n",
       "    .dataframe tbody tr th {\n",
       "        vertical-align: top;\n",
       "    }\n",
       "\n",
       "    .dataframe thead th {\n",
       "        text-align: right;\n",
       "    }\n",
       "</style>\n",
       "<table border=\"1\" class=\"dataframe\">\n",
       "  <thead>\n",
       "    <tr style=\"text-align: right;\">\n",
       "      <th></th>\n",
       "      <th>Cluster_no</th>\n",
       "      <th>unexplained_variance</th>\n",
       "    </tr>\n",
       "  </thead>\n",
       "  <tbody>\n",
       "    <tr>\n",
       "      <th>0</th>\n",
       "      <td>2</td>\n",
       "      <td>95513.372139</td>\n",
       "    </tr>\n",
       "    <tr>\n",
       "      <th>1</th>\n",
       "      <td>3</td>\n",
       "      <td>80477.213564</td>\n",
       "    </tr>\n",
       "    <tr>\n",
       "      <th>2</th>\n",
       "      <td>4</td>\n",
       "      <td>68173.693224</td>\n",
       "    </tr>\n",
       "    <tr>\n",
       "      <th>3</th>\n",
       "      <td>5</td>\n",
       "      <td>61431.939948</td>\n",
       "    </tr>\n",
       "    <tr>\n",
       "      <th>4</th>\n",
       "      <td>6</td>\n",
       "      <td>55943.827758</td>\n",
       "    </tr>\n",
       "    <tr>\n",
       "      <th>5</th>\n",
       "      <td>7</td>\n",
       "      <td>50865.060012</td>\n",
       "    </tr>\n",
       "    <tr>\n",
       "      <th>6</th>\n",
       "      <td>8</td>\n",
       "      <td>46809.915374</td>\n",
       "    </tr>\n",
       "    <tr>\n",
       "      <th>7</th>\n",
       "      <td>9</td>\n",
       "      <td>43830.990076</td>\n",
       "    </tr>\n",
       "    <tr>\n",
       "      <th>8</th>\n",
       "      <td>10</td>\n",
       "      <td>40962.924596</td>\n",
       "    </tr>\n",
       "    <tr>\n",
       "      <th>9</th>\n",
       "      <td>11</td>\n",
       "      <td>39279.144171</td>\n",
       "    </tr>\n",
       "  </tbody>\n",
       "</table>\n",
       "</div>"
      ],
      "text/plain": [
       "   Cluster_no  unexplained_variance\n",
       "0           2          95513.372139\n",
       "1           3          80477.213564\n",
       "2           4          68173.693224\n",
       "3           5          61431.939948\n",
       "4           6          55943.827758\n",
       "5           7          50865.060012\n",
       "6           8          46809.915374\n",
       "7           9          43830.990076\n",
       "8          10          40962.924596\n",
       "9          11          39279.144171"
      ]
     },
     "execution_count": 37,
     "metadata": {},
     "output_type": "execute_result"
    }
   ],
   "source": [
    "cluster_df = pd.DataFrame({'Cluster_no' : range(2,20), 'unexplained_variance': variance})\n",
    "cluster_df.head(10)"
   ]
  },
  {
   "cell_type": "code",
   "execution_count": 38,
   "id": "4bfed9bf",
   "metadata": {
    "execution": {
     "iopub.execute_input": "2021-10-09T17:06:58.061157Z",
     "iopub.status.busy": "2021-10-09T17:06:58.060224Z",
     "iopub.status.idle": "2021-10-09T17:06:58.292823Z",
     "shell.execute_reply": "2021-10-09T17:06:58.293797Z",
     "shell.execute_reply.started": "2021-10-09T17:05:20.821016Z"
    },
    "papermill": {
     "duration": 0.308405,
     "end_time": "2021-10-09T17:06:58.294051",
     "exception": false,
     "start_time": "2021-10-09T17:06:57.985646",
     "status": "completed"
    },
    "tags": []
   },
   "outputs": [
    {
     "data": {
      "image/png": "[encoded data removed]",
      "text/plain": [
       "<Figure size 432x288 with 1 Axes>"
      ]
     },
     "metadata": {
      "needs_background": "light"
     },
     "output_type": "display_data"
    }
   ],
   "source": [
    "%matplotlib inline\n",
    "plt.plot(cluster_df.Cluster_no, cluster_df.unexplained_variance, marker = 'o')\n",
    "plt.xlabel('No of clusters')\n",
    "plt.ylabel('Unexplained Variance(error)')\n",
    "plt.grid('True')"
   ]
  }
 ],
 "metadata": {
  "kernelspec": {
   "display_name": "Python 3",
   "language": "python",
   "name": "python3"
  },
  "language_info": {
   "codemirror_mode": {
    "name": "ipython",
    "version": 3
   },
   "file_extension": ".py",
   "mimetype": "text/x-python",
   "name": "python",
   "nbconvert_exporter": "python",
   "pygments_lexer": "ipython3",
   "version": "3.7.10"
  },
  "papermill": {
   "default_parameters": {},
   "duration": 64.703758,
   "end_time": "2021-10-09T17:06:59.173729",
   "environment_variables": {},
   "exception": null,
   "input_path": "__notebook__.ipynb",
   "output_path": "__notebook__.ipynb",
   "parameters": {},
   "start_time": "2021-10-09T17:05:54.469971",
   "version": "2.3.3"
  }
 },
 "nbformat": 4,
 "nbformat_minor": 5
}
