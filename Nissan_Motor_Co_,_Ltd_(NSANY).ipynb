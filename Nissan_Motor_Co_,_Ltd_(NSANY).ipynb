{
  "nbformat": 4,
  "nbformat_minor": 0,
  "metadata": {
    "colab": {
      "name": "Nissan Motor Co., Ltd. (NSANY).ipynb",
      "provenance": [],
      "authorship_tag": "ABX9TyOqHhiFO5Ef/A14Cx4frl/K",
      "include_colab_link": true
    },
    "kernelspec": {
      "name": "python3",
      "display_name": "Python 3"
    }
  },
  "cells": [
    {
      "cell_type": "markdown",
      "metadata": {
        "id": "view-in-github",
        "colab_type": "text"
      },
      "source": [
        "<a href=\"https://colab.research.google.com/github/benvictoria21/AnalyzeStocks/blob/master/Nissan_Motor_Co_%2C_Ltd_(NSANY).ipynb\" target=\"_parent\"><img src=\"https://colab.research.google.com/assets/colab-badge.svg\" alt=\"Open In Colab\"/></a>"
      ]
    },
    {
      "cell_type": "code",
      "metadata": {
        "colab": {
          "base_uri": "https://localhost:8080/"
        },
        "id": "OPn_wNx4dPvH",
        "outputId": "d1296cfc-84e4-4114-fdcd-6c02e9dbc4c6"
      },
      "source": [
        "!sudo pip install  yfinance"
      ],
      "execution_count": 105,
      "outputs": [
        {
          "output_type": "stream",
          "text": [
            "Requirement already satisfied: yfinance in /usr/local/lib/python3.6/dist-packages (0.1.55)\n",
            "Requirement already satisfied: lxml>=4.5.1 in /usr/local/lib/python3.6/dist-packages (from yfinance) (4.6.1)\n",
            "Requirement already satisfied: requests>=2.20 in /usr/local/lib/python3.6/dist-packages (from yfinance) (2.23.0)\n",
            "Requirement already satisfied: pandas>=0.24 in /usr/local/lib/python3.6/dist-packages (from yfinance) (1.1.4)\n",
            "Requirement already satisfied: multitasking>=0.0.7 in /usr/local/lib/python3.6/dist-packages (from yfinance) (0.0.9)\n",
            "Requirement already satisfied: numpy>=1.15 in /usr/local/lib/python3.6/dist-packages (from yfinance) (1.18.5)\n",
            "Requirement already satisfied: chardet<4,>=3.0.2 in /usr/local/lib/python3.6/dist-packages (from requests>=2.20->yfinance) (3.0.4)\n",
            "Requirement already satisfied: idna<3,>=2.5 in /usr/local/lib/python3.6/dist-packages (from requests>=2.20->yfinance) (2.10)\n",
            "Requirement already satisfied: urllib3!=1.25.0,!=1.25.1,<1.26,>=1.21.1 in /usr/local/lib/python3.6/dist-packages (from requests>=2.20->yfinance) (1.24.3)\n",
            "Requirement already satisfied: certifi>=2017.4.17 in /usr/local/lib/python3.6/dist-packages (from requests>=2.20->yfinance) (2020.11.8)\n",
            "Requirement already satisfied: python-dateutil>=2.7.3 in /usr/local/lib/python3.6/dist-packages (from pandas>=0.24->yfinance) (2.8.1)\n",
            "Requirement already satisfied: pytz>=2017.2 in /usr/local/lib/python3.6/dist-packages (from pandas>=0.24->yfinance) (2018.9)\n",
            "Requirement already satisfied: six>=1.5 in /usr/local/lib/python3.6/dist-packages (from python-dateutil>=2.7.3->pandas>=0.24->yfinance) (1.15.0)\n"
          ],
          "name": "stdout"
        }
      ]
    },
    {
      "cell_type": "code",
      "metadata": {
        "id": "k8yoJL99cuXk"
      },
      "source": [
        "import numpy as np \n",
        "import pandas as pd \n",
        "import matplotlib.pyplot as plt\n",
        "import yfinance"
      ],
      "execution_count": 106,
      "outputs": []
    },
    {
      "cell_type": "code",
      "metadata": {
        "colab": {
          "base_uri": "https://localhost:8080/",
          "height": 467
        },
        "id": "Zt4xpw9jdTZt",
        "outputId": "03a7f655-33ed-4f05-aa55-2d9f7fbf20a1"
      },
      "source": [
        "NSANY = yfinance.download(\"NSANY\")\n",
        "NSANY"
      ],
      "execution_count": 107,
      "outputs": [
        {
          "output_type": "stream",
          "text": [
            "\r[*********************100%***********************]  1 of 1 completed\n"
          ],
          "name": "stdout"
        },
        {
          "output_type": "execute_result",
          "data": {
            "text/html": [
              "<div>\n",
              "<style scoped>\n",
              "    .dataframe tbody tr th:only-of-type {\n",
              "        vertical-align: middle;\n",
              "    }\n",
              "\n",
              "    .dataframe tbody tr th {\n",
              "        vertical-align: top;\n",
              "    }\n",
              "\n",
              "    .dataframe thead th {\n",
              "        text-align: right;\n",
              "    }\n",
              "</style>\n",
              "<table border=\"1\" class=\"dataframe\">\n",
              "  <thead>\n",
              "    <tr style=\"text-align: right;\">\n",
              "      <th></th>\n",
              "      <th>Open</th>\n",
              "      <th>High</th>\n",
              "      <th>Low</th>\n",
              "      <th>Close</th>\n",
              "      <th>Adj Close</th>\n",
              "      <th>Volume</th>\n",
              "    </tr>\n",
              "    <tr>\n",
              "      <th>Date</th>\n",
              "      <th></th>\n",
              "      <th></th>\n",
              "      <th></th>\n",
              "      <th></th>\n",
              "      <th></th>\n",
              "      <th></th>\n",
              "    </tr>\n",
              "  </thead>\n",
              "  <tbody>\n",
              "    <tr>\n",
              "      <th>1980-03-24</th>\n",
              "      <td>0.000000</td>\n",
              "      <td>4.421488</td>\n",
              "      <td>4.338843</td>\n",
              "      <td>4.338843</td>\n",
              "      <td>2.190961</td>\n",
              "      <td>500.0</td>\n",
              "    </tr>\n",
              "    <tr>\n",
              "      <th>1980-03-25</th>\n",
              "      <td>4.338843</td>\n",
              "      <td>4.338843</td>\n",
              "      <td>4.338843</td>\n",
              "      <td>4.338843</td>\n",
              "      <td>2.190961</td>\n",
              "      <td>0.0</td>\n",
              "    </tr>\n",
              "    <tr>\n",
              "      <th>1980-03-26</th>\n",
              "      <td>4.338843</td>\n",
              "      <td>4.338843</td>\n",
              "      <td>4.338843</td>\n",
              "      <td>4.338843</td>\n",
              "      <td>2.190961</td>\n",
              "      <td>0.0</td>\n",
              "    </tr>\n",
              "    <tr>\n",
              "      <th>1980-03-27</th>\n",
              "      <td>0.000000</td>\n",
              "      <td>4.524794</td>\n",
              "      <td>4.442149</td>\n",
              "      <td>4.442149</td>\n",
              "      <td>2.243127</td>\n",
              "      <td>500.0</td>\n",
              "    </tr>\n",
              "    <tr>\n",
              "      <th>1980-03-28</th>\n",
              "      <td>0.000000</td>\n",
              "      <td>4.545455</td>\n",
              "      <td>4.462810</td>\n",
              "      <td>4.462810</td>\n",
              "      <td>2.253561</td>\n",
              "      <td>500.0</td>\n",
              "    </tr>\n",
              "    <tr>\n",
              "      <th>...</th>\n",
              "      <td>...</td>\n",
              "      <td>...</td>\n",
              "      <td>...</td>\n",
              "      <td>...</td>\n",
              "      <td>...</td>\n",
              "      <td>...</td>\n",
              "    </tr>\n",
              "    <tr>\n",
              "      <th>2020-11-19</th>\n",
              "      <td>9.120000</td>\n",
              "      <td>9.360000</td>\n",
              "      <td>9.100000</td>\n",
              "      <td>9.150000</td>\n",
              "      <td>9.150000</td>\n",
              "      <td>35600.0</td>\n",
              "    </tr>\n",
              "    <tr>\n",
              "      <th>2020-11-20</th>\n",
              "      <td>9.490000</td>\n",
              "      <td>9.490000</td>\n",
              "      <td>9.170000</td>\n",
              "      <td>9.450000</td>\n",
              "      <td>9.450000</td>\n",
              "      <td>61200.0</td>\n",
              "    </tr>\n",
              "    <tr>\n",
              "      <th>2020-11-23</th>\n",
              "      <td>9.590000</td>\n",
              "      <td>9.590000</td>\n",
              "      <td>9.450000</td>\n",
              "      <td>9.520000</td>\n",
              "      <td>9.520000</td>\n",
              "      <td>86700.0</td>\n",
              "    </tr>\n",
              "    <tr>\n",
              "      <th>2020-11-24</th>\n",
              "      <td>9.590000</td>\n",
              "      <td>9.830000</td>\n",
              "      <td>9.520000</td>\n",
              "      <td>9.800000</td>\n",
              "      <td>9.800000</td>\n",
              "      <td>95500.0</td>\n",
              "    </tr>\n",
              "    <tr>\n",
              "      <th>2020-11-25</th>\n",
              "      <td>9.900000</td>\n",
              "      <td>10.460000</td>\n",
              "      <td>9.900000</td>\n",
              "      <td>10.360000</td>\n",
              "      <td>10.360000</td>\n",
              "      <td>161500.0</td>\n",
              "    </tr>\n",
              "  </tbody>\n",
              "</table>\n",
              "<p>10260 rows × 6 columns</p>\n",
              "</div>"
            ],
            "text/plain": [
              "                Open       High       Low      Close  Adj Close    Volume\n",
              "Date                                                                     \n",
              "1980-03-24  0.000000   4.421488  4.338843   4.338843   2.190961     500.0\n",
              "1980-03-25  4.338843   4.338843  4.338843   4.338843   2.190961       0.0\n",
              "1980-03-26  4.338843   4.338843  4.338843   4.338843   2.190961       0.0\n",
              "1980-03-27  0.000000   4.524794  4.442149   4.442149   2.243127     500.0\n",
              "1980-03-28  0.000000   4.545455  4.462810   4.462810   2.253561     500.0\n",
              "...              ...        ...       ...        ...        ...       ...\n",
              "2020-11-19  9.120000   9.360000  9.100000   9.150000   9.150000   35600.0\n",
              "2020-11-20  9.490000   9.490000  9.170000   9.450000   9.450000   61200.0\n",
              "2020-11-23  9.590000   9.590000  9.450000   9.520000   9.520000   86700.0\n",
              "2020-11-24  9.590000   9.830000  9.520000   9.800000   9.800000   95500.0\n",
              "2020-11-25  9.900000  10.460000  9.900000  10.360000  10.360000  161500.0\n",
              "\n",
              "[10260 rows x 6 columns]"
            ]
          },
          "metadata": {
            "tags": []
          },
          "execution_count": 107
        }
      ]
    },
    {
      "cell_type": "code",
      "metadata": {
        "colab": {
          "base_uri": "https://localhost:8080/",
          "height": 235
        },
        "id": "ENQnVAzVdlt5",
        "outputId": "c186b97d-d9ea-4e4b-d382-67c3149ad941"
      },
      "source": [
        "NSANY.head()"
      ],
      "execution_count": 108,
      "outputs": [
        {
          "output_type": "execute_result",
          "data": {
            "text/html": [
              "<div>\n",
              "<style scoped>\n",
              "    .dataframe tbody tr th:only-of-type {\n",
              "        vertical-align: middle;\n",
              "    }\n",
              "\n",
              "    .dataframe tbody tr th {\n",
              "        vertical-align: top;\n",
              "    }\n",
              "\n",
              "    .dataframe thead th {\n",
              "        text-align: right;\n",
              "    }\n",
              "</style>\n",
              "<table border=\"1\" class=\"dataframe\">\n",
              "  <thead>\n",
              "    <tr style=\"text-align: right;\">\n",
              "      <th></th>\n",
              "      <th>Open</th>\n",
              "      <th>High</th>\n",
              "      <th>Low</th>\n",
              "      <th>Close</th>\n",
              "      <th>Adj Close</th>\n",
              "      <th>Volume</th>\n",
              "    </tr>\n",
              "    <tr>\n",
              "      <th>Date</th>\n",
              "      <th></th>\n",
              "      <th></th>\n",
              "      <th></th>\n",
              "      <th></th>\n",
              "      <th></th>\n",
              "      <th></th>\n",
              "    </tr>\n",
              "  </thead>\n",
              "  <tbody>\n",
              "    <tr>\n",
              "      <th>1980-03-24</th>\n",
              "      <td>0.000000</td>\n",
              "      <td>4.421488</td>\n",
              "      <td>4.338843</td>\n",
              "      <td>4.338843</td>\n",
              "      <td>2.190961</td>\n",
              "      <td>500.0</td>\n",
              "    </tr>\n",
              "    <tr>\n",
              "      <th>1980-03-25</th>\n",
              "      <td>4.338843</td>\n",
              "      <td>4.338843</td>\n",
              "      <td>4.338843</td>\n",
              "      <td>4.338843</td>\n",
              "      <td>2.190961</td>\n",
              "      <td>0.0</td>\n",
              "    </tr>\n",
              "    <tr>\n",
              "      <th>1980-03-26</th>\n",
              "      <td>4.338843</td>\n",
              "      <td>4.338843</td>\n",
              "      <td>4.338843</td>\n",
              "      <td>4.338843</td>\n",
              "      <td>2.190961</td>\n",
              "      <td>0.0</td>\n",
              "    </tr>\n",
              "    <tr>\n",
              "      <th>1980-03-27</th>\n",
              "      <td>0.000000</td>\n",
              "      <td>4.524794</td>\n",
              "      <td>4.442149</td>\n",
              "      <td>4.442149</td>\n",
              "      <td>2.243127</td>\n",
              "      <td>500.0</td>\n",
              "    </tr>\n",
              "    <tr>\n",
              "      <th>1980-03-28</th>\n",
              "      <td>0.000000</td>\n",
              "      <td>4.545455</td>\n",
              "      <td>4.462810</td>\n",
              "      <td>4.462810</td>\n",
              "      <td>2.253561</td>\n",
              "      <td>500.0</td>\n",
              "    </tr>\n",
              "  </tbody>\n",
              "</table>\n",
              "</div>"
            ],
            "text/plain": [
              "                Open      High       Low     Close  Adj Close  Volume\n",
              "Date                                                                 \n",
              "1980-03-24  0.000000  4.421488  4.338843  4.338843   2.190961   500.0\n",
              "1980-03-25  4.338843  4.338843  4.338843  4.338843   2.190961     0.0\n",
              "1980-03-26  4.338843  4.338843  4.338843  4.338843   2.190961     0.0\n",
              "1980-03-27  0.000000  4.524794  4.442149  4.442149   2.243127   500.0\n",
              "1980-03-28  0.000000  4.545455  4.462810  4.462810   2.253561   500.0"
            ]
          },
          "metadata": {
            "tags": []
          },
          "execution_count": 108
        }
      ]
    },
    {
      "cell_type": "code",
      "metadata": {
        "colab": {
          "base_uri": "https://localhost:8080/"
        },
        "id": "tGp4wu1wdlw8",
        "outputId": "a4836fd9-1f6a-4be3-b6fd-39b4bf923039"
      },
      "source": [
        "NSANY.Close"
      ],
      "execution_count": 109,
      "outputs": [
        {
          "output_type": "execute_result",
          "data": {
            "text/plain": [
              "Date\n",
              "1980-03-24     4.338843\n",
              "1980-03-25     4.338843\n",
              "1980-03-26     4.338843\n",
              "1980-03-27     4.442149\n",
              "1980-03-28     4.462810\n",
              "                ...    \n",
              "2020-11-19     9.150000\n",
              "2020-11-20     9.450000\n",
              "2020-11-23     9.520000\n",
              "2020-11-24     9.800000\n",
              "2020-11-25    10.360000\n",
              "Name: Close, Length: 10260, dtype: float64"
            ]
          },
          "metadata": {
            "tags": []
          },
          "execution_count": 109
        }
      ]
    },
    {
      "cell_type": "code",
      "metadata": {
        "colab": {
          "base_uri": "https://localhost:8080/",
          "height": 296
        },
        "id": "JGG54M7rdl0G",
        "outputId": "334b0eb3-6c5d-4195-e53f-69352c8ae77d"
      },
      "source": [
        "plt.xlabel(\"days\")         \n",
        "plt.ylabel(\"price\")    \n",
        "plt.grid()              \n",
        "plt.plot(NSANY.Close)"
      ],
      "execution_count": 110,
      "outputs": [
        {
          "output_type": "execute_result",
          "data": {
            "text/plain": [
              "[<matplotlib.lines.Line2D at 0x7fb1f13a1630>]"
            ]
          },
          "metadata": {
            "tags": []
          },
          "execution_count": 110
        },
        {
          "output_type": "display_data",
          "data": {
            "image/png": "[encoded data removed]",
            "text/plain": [
              "<Figure size 432x288 with 1 Axes>"
            ]
          },
          "metadata": {
            "tags": [],
            "needs_background": "light"
          }
        }
      ]
    },
    {
      "cell_type": "code",
      "metadata": {
        "colab": {
          "base_uri": "https://localhost:8080/"
        },
        "id": "mAi2iuVodl11",
        "outputId": "e1c7e5fc-54d4-4e1d-f252-30f6aa7fa15c"
      },
      "source": [
        "NSANY.High"
      ],
      "execution_count": 111,
      "outputs": [
        {
          "output_type": "execute_result",
          "data": {
            "text/plain": [
              "Date\n",
              "1980-03-24     4.421488\n",
              "1980-03-25     4.338843\n",
              "1980-03-26     4.338843\n",
              "1980-03-27     4.524794\n",
              "1980-03-28     4.545455\n",
              "                ...    \n",
              "2020-11-19     9.360000\n",
              "2020-11-20     9.490000\n",
              "2020-11-23     9.590000\n",
              "2020-11-24     9.830000\n",
              "2020-11-25    10.460000\n",
              "Name: High, Length: 10260, dtype: float64"
            ]
          },
          "metadata": {
            "tags": []
          },
          "execution_count": 111
        }
      ]
    },
    {
      "cell_type": "code",
      "metadata": {
        "colab": {
          "base_uri": "https://localhost:8080/",
          "height": 265
        },
        "id": "6lcDQiR0dl7u",
        "outputId": "508910bc-79b3-4e34-ec1a-171dde72d82c"
      },
      "source": [
        "plt.plot(NSANY.High)\n",
        "plt.grid()"
      ],
      "execution_count": 112,
      "outputs": [
        {
          "output_type": "display_data",
          "data": {
            "image/png": "[encoded data removed]",
            "text/plain": [
              "<Figure size 432x288 with 1 Axes>"
            ]
          },
          "metadata": {
            "tags": [],
            "needs_background": "light"
          }
        }
      ]
    },
    {
      "cell_type": "code",
      "metadata": {
        "colab": {
          "base_uri": "https://localhost:8080/"
        },
        "id": "t2C6ZCUGdl_E",
        "outputId": "ffd0c054-248f-4823-910a-c30f10092d27"
      },
      "source": [
        "NSANY.Open"
      ],
      "execution_count": 113,
      "outputs": [
        {
          "output_type": "execute_result",
          "data": {
            "text/plain": [
              "Date\n",
              "1980-03-24    0.000000\n",
              "1980-03-25    4.338843\n",
              "1980-03-26    4.338843\n",
              "1980-03-27    0.000000\n",
              "1980-03-28    0.000000\n",
              "                ...   \n",
              "2020-11-19    9.120000\n",
              "2020-11-20    9.490000\n",
              "2020-11-23    9.590000\n",
              "2020-11-24    9.590000\n",
              "2020-11-25    9.900000\n",
              "Name: Open, Length: 10260, dtype: float64"
            ]
          },
          "metadata": {
            "tags": []
          },
          "execution_count": 113
        }
      ]
    }
  ]
}