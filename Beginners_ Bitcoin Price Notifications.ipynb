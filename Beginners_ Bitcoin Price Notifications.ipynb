{
 "cells": [
  {
   "cell_type": "code",
   "execution_count": 0,
   "metadata": {
    "colab": {},
    "colab_type": "code",
    "id": "jxTUrRX2zKT1"
   },
   "outputs": [],
   "source": [
    "!mkvirtualenv -p $(which python3) bitcoin_notifications"
   ]
  },
  {
   "cell_type": "code",
   "execution_count": 0,
   "metadata": {
    "colab": {},
    "colab_type": "code",
    "id": "Lrtlx0s1zTKy"
   },
   "outputs": [],
   "source": [
    "import requests\n",
    ">>> bitcoin_api_url = 'https://api.coinmarketcap.com/v1/ticker/bitcoin/'\n",
    ">>> response = requests.get(bitcoin_api_url)\n",
    ">>> response_json = response.json()\n",
    ">>> type(response_json) # The API returns a list"
   ]
  },
  {
   "cell_type": "code",
   "execution_count": 0,
   "metadata": {
    "colab": {},
    "colab_type": "code",
    "id": "yEayszd1zy3d"
   },
   "outputs": [],
   "source": [
    ">>> import requests\n",
    ">>> # Make sure that your key is in the URL\n",
    ">>> ifttt_webhook_url = 'https://maker.ifttt.com/trigger/test_event/with/key/{your-IFTTT-key}'\n",
    ">>> requests.post(ifttt_webhook_url)"
   ]
  },
  {
   "cell_type": "code",
   "execution_count": 0,
   "metadata": {
    "colab": {},
    "colab_type": "code",
    "id": "buOA9cxiz4_R"
   },
   "outputs": [],
   "source": [
    "import requests\n",
    "import time\n",
    "from datetime import datetime\n",
    "\n",
    "def main():\n",
    "    pass\n",
    "\n",
    "if __name__ == '__main__':\n",
    "    main()"
   ]
  },
  {
   "cell_type": "code",
   "execution_count": 0,
   "metadata": {
    "colab": {},
    "colab_type": "code",
    "id": "rHHSbQQj0EGW"
   },
   "outputs": [],
   "source": [
    "def get_latest_bitcoin_price():\n",
    "    response = requests.get(BITCOIN_API_URL)\n",
    "    response_json = response.json()\n",
    "    # Convert the price to a floating point number\n",
    "    return float(response_json[0]['price_usd'])"
   ]
  },
  {
   "cell_type": "code",
   "execution_count": 0,
   "metadata": {
    "colab": {},
    "colab_type": "code",
    "id": "kQ8_sMPQ0K3F"
   },
   "outputs": [],
   "source": [
    "         def post_ifttt_webhook(event, value):\n",
    "    # The payload that will be sent to IFTTT service\n",
    "    data = {'value1': value}\n",
    "    # inserts our desired event\n",
    "    ifttt_event_url = IFTTT_WEBHOOKS_URL.format(event)\n",
    "    # Sends a HTTP POST request to the webhook URL\n",
    "    requests.post(ifttt_event_url, json=data)"
   ]
  },
  {
   "cell_type": "code",
   "execution_count": 0,
   "metadata": {
    "colab": {},
    "colab_type": "code",
    "id": "WJpo0lRe0Oym"
   },
   "outputs": [],
   "source": [
    "BITCOIN_PRICE_THRESHOLD = 10000  # Set this to whatever you like\n",
    "\n",
    "def main():\n",
    "    bitcoin_history = []\n",
    "    while True:\n",
    "        price = get_latest_bitcoin_price()\n",
    "        date = datetime.now()\n",
    "        bitcoin_history.append({'date': date, 'price': price})\n",
    "\n",
    "        # Send an emergency notification\n",
    "        if price < BITCOIN_PRICE_THRESHOLD:\n",
    "            post_ifttt_webhook('bitcoin_price_emergency', price)\n",
    "\n",
    "        # Send a Telegram notification\n",
    "        # Once we have 5 items in our bitcoin_history send an update\n",
    "        if len(bitcoin_history) == 5:\n",
    "            post_ifttt_webhook('bitcoin_price_update', \n",
    "                               format_bitcoin_history(bitcoin_history))\n",
    "            # Reset the history\n",
    "            bitcoin_history = []\n",
    "\n",
    "        # Sleep for 5 minutes \n",
    "        # (For testing purposes you can set it to a lower number)\n",
    "        time.sleep(5 * 60)"
   ]
  },
  {
   "cell_type": "code",
   "execution_count": 0,
   "metadata": {
    "colab": {},
    "colab_type": "code",
    "id": "zG_nXIFe0UGw"
   },
   "outputs": [],
   "source": [
    "def format_bitcoin_history(bitcoin_history):\n",
    "    rows = []\n",
    "    for bitcoin_price in bitcoin_history:\n",
    "        # Formats the date into a string: '24.02.2018 15:09'\n",
    "        date = bitcoin_price['date'].strftime('%d.%m.%Y %H:%M')\n",
    "        price = bitcoin_price['price']\n",
    "        # <b> (bold) tag creates bolded text\n",
    "        # 24.02.2018 15:09: $<b>10123.4</b>\n",
    "        row = '{}: $<b>{}</b>'.format(date, price)\n",
    "        rows.append(row)\n",
    "\n",
    "    # Use a <br> (break) tag to create a new line\n",
    "    # Join the rows delimited by <br> tag: row1<br>row2<br>row3\n",
    "    return '<br>'.join(rows)"
   ]
  },
  {
   "cell_type": "code",
   "execution_count": 0,
   "metadata": {
    "colab": {},
    "colab_type": "code",
    "id": "Bmi_JHrP0W7E"
   },
   "outputs": [],
   "source": [
    "! python bitcoin_notifications.py"
   ]
  },
  {
   "cell_type": "code",
   "execution_count": 0,
   "metadata": {
    "colab": {},
    "colab_type": "code",
    "id": "maOQclGP0l7r"
   },
   "outputs": [],
   "source": [
    "BITCOIN_PRICE_THRESHOLD = 10000\n",
    "BITCOIN_API_URL = 'https://api.coinmarketcap.com/v1/ticker/bitcoin/'\n",
    "IFTTT_WEBHOOKS_URL = 'https://maker.ifttt.com/trigger/{}/with/key/{your-IFTTT-key}'"
   ]
  },
  {
   "cell_type": "code",
   "execution_count": 0,
   "metadata": {
    "colab": {},
    "colab_type": "code",
    "id": "-YO6LKh40mCv"
   },
   "outputs": [],
   "source": [
    "def get_latest_bitcoin_price():\n",
    "    response = requests.get(BITCOIN_API_URL)\n",
    "    response_json = response.json()\n",
    "    return float(response_json[0]['price_usd'])  # Convert the price to a floating point number\n"
   ]
  },
  {
   "cell_type": "code",
   "execution_count": 0,
   "metadata": {
    "colab": {},
    "colab_type": "code",
    "id": "FiorZIgb0m_T"
   },
   "outputs": [],
   "source": [
    "def post_ifttt_webhook(event, value):\n",
    "    data = {'value1': value}  # The payload that will be sent to IFTTT service\n",
    "    ifttt_event_url = IFTTT_WEBHOOKS_URL.format(event)  # Inserts our desired event\n",
    "    requests.post(ifttt_event_url, json=data)  # Sends a HTTP POST request to the webhook URL\n"
   ]
  },
  {
   "cell_type": "code",
   "execution_count": 0,
   "metadata": {
    "colab": {},
    "colab_type": "code",
    "id": "P404E-wX0m3O"
   },
   "outputs": [],
   "source": [
    "def format_bitcoin_history(bitcoin_history):\n",
    "    rows = []\n",
    "    for bitcoin_price in bitcoin_history:\n",
    "        date = bitcoin_price['date'].strftime('%d.%m.%Y %H:%M')  # Formats the date into a string: '24.02.2018 15:09'\n",
    "        price = bitcoin_price['price']\n",
    "        # <b> (bold) tag creates bolded text\n",
    "        row = '{}: $<b>{}</b>'.format(date, price)  # 24.02.2018 15:09: $<b>10123.4</b>\n",
    "        rows.append(row)"
   ]
  }
 ],
 "metadata": {
  "colab": {
   "authorship_tag": "ABX9TyNNNExQ80PTEFkgBKn8f42C",
   "name": "Beginners: Bitcoin Price Notifications",
   "private_outputs": true,
   "provenance": []
  },
  "kernelspec": {
   "display_name": "Python 3",
   "name": "python3"
  }
 },
 "nbformat": 4,
 "nbformat_minor": 0
}
