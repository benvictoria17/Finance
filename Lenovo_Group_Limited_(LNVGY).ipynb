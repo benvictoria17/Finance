{
  "nbformat": 4,
  "nbformat_minor": 0,
  "metadata": {
    "colab": {
      "name": "Lenovo Group Limited (LNVGY).ipynb",
      "provenance": [],
      "authorship_tag": "ABX9TyNZec1MTtyLyEKDBV5Drw2S",
      "include_colab_link": true
    },
    "kernelspec": {
      "name": "python3",
      "display_name": "Python 3"
    }
  },
  "cells": [
    {
      "cell_type": "markdown",
      "metadata": {
        "id": "view-in-github",
        "colab_type": "text"
      },
      "source": [
        "<a href=\"https://colab.research.google.com/github/benvictoria21/AnalyzeStocks/blob/master/Lenovo_Group_Limited_(LNVGY).ipynb\" target=\"_parent\"><img src=\"https://colab.research.google.com/assets/colab-badge.svg\" alt=\"Open In Colab\"/></a>"
      ]
    },
    {
      "cell_type": "code",
      "metadata": {
        "colab": {
          "base_uri": "https://localhost:8080/"
        },
        "id": "qvKTPiiJz_tm",
        "outputId": "8b115653-2576-46f0-9923-de940dd3e957"
      },
      "source": [
        "!sudo pip install  yfinance"
      ],
      "execution_count": 11,
      "outputs": [
        {
          "output_type": "stream",
          "text": [
            "Requirement already satisfied: yfinance in /usr/local/lib/python3.6/dist-packages (0.1.55)\n",
            "Requirement already satisfied: requests>=2.20 in /usr/local/lib/python3.6/dist-packages (from yfinance) (2.23.0)\n",
            "Requirement already satisfied: pandas>=0.24 in /usr/local/lib/python3.6/dist-packages (from yfinance) (1.1.4)\n",
            "Requirement already satisfied: lxml>=4.5.1 in /usr/local/lib/python3.6/dist-packages (from yfinance) (4.6.1)\n",
            "Requirement already satisfied: multitasking>=0.0.7 in /usr/local/lib/python3.6/dist-packages (from yfinance) (0.0.9)\n",
            "Requirement already satisfied: numpy>=1.15 in /usr/local/lib/python3.6/dist-packages (from yfinance) (1.18.5)\n",
            "Requirement already satisfied: idna<3,>=2.5 in /usr/local/lib/python3.6/dist-packages (from requests>=2.20->yfinance) (2.10)\n",
            "Requirement already satisfied: certifi>=2017.4.17 in /usr/local/lib/python3.6/dist-packages (from requests>=2.20->yfinance) (2020.11.8)\n",
            "Requirement already satisfied: urllib3!=1.25.0,!=1.25.1,<1.26,>=1.21.1 in /usr/local/lib/python3.6/dist-packages (from requests>=2.20->yfinance) (1.24.3)\n",
            "Requirement already satisfied: chardet<4,>=3.0.2 in /usr/local/lib/python3.6/dist-packages (from requests>=2.20->yfinance) (3.0.4)\n",
            "Requirement already satisfied: python-dateutil>=2.7.3 in /usr/local/lib/python3.6/dist-packages (from pandas>=0.24->yfinance) (2.8.1)\n",
            "Requirement already satisfied: pytz>=2017.2 in /usr/local/lib/python3.6/dist-packages (from pandas>=0.24->yfinance) (2018.9)\n",
            "Requirement already satisfied: six>=1.5 in /usr/local/lib/python3.6/dist-packages (from python-dateutil>=2.7.3->pandas>=0.24->yfinance) (1.15.0)\n"
          ],
          "name": "stdout"
        }
      ]
    },
    {
      "cell_type": "code",
      "metadata": {
        "id": "eIBMY9O70P2h"
      },
      "source": [
        "import pandas as pd \n",
        "import numpy as np \n",
        "import matplotlib.pyplot as plt\n",
        "import pandas_datareader\n",
        "import sqlite3\n",
        "import yfinance"
      ],
      "execution_count": 12,
      "outputs": []
    },
    {
      "cell_type": "code",
      "metadata": {
        "colab": {
          "base_uri": "https://localhost:8080/",
          "height": 467
        },
        "id": "SEpNfeXo0QFH",
        "outputId": "0cd38fdd-1c89-44e5-c305-f59b97b2ac73"
      },
      "source": [
        "LNVGY = yfinance.download(\"LNVGY\")\n",
        "\n",
        "LNVGY"
      ],
      "execution_count": 23,
      "outputs": [
        {
          "output_type": "stream",
          "text": [
            "\r[*********************100%***********************]  1 of 1 completed\n"
          ],
          "name": "stdout"
        },
        {
          "output_type": "execute_result",
          "data": {
            "text/html": [
              "<div>\n",
              "<style scoped>\n",
              "    .dataframe tbody tr th:only-of-type {\n",
              "        vertical-align: middle;\n",
              "    }\n",
              "\n",
              "    .dataframe tbody tr th {\n",
              "        vertical-align: top;\n",
              "    }\n",
              "\n",
              "    .dataframe thead th {\n",
              "        text-align: right;\n",
              "    }\n",
              "</style>\n",
              "<table border=\"1\" class=\"dataframe\">\n",
              "  <thead>\n",
              "    <tr style=\"text-align: right;\">\n",
              "      <th></th>\n",
              "      <th>Open</th>\n",
              "      <th>High</th>\n",
              "      <th>Low</th>\n",
              "      <th>Close</th>\n",
              "      <th>Adj Close</th>\n",
              "      <th>Volume</th>\n",
              "    </tr>\n",
              "    <tr>\n",
              "      <th>Date</th>\n",
              "      <th></th>\n",
              "      <th></th>\n",
              "      <th></th>\n",
              "      <th></th>\n",
              "      <th></th>\n",
              "      <th></th>\n",
              "    </tr>\n",
              "  </thead>\n",
              "  <tbody>\n",
              "    <tr>\n",
              "      <th>1998-12-07</th>\n",
              "      <td>1.59375</td>\n",
              "      <td>1.59375</td>\n",
              "      <td>1.59375</td>\n",
              "      <td>1.59375</td>\n",
              "      <td>0.794903</td>\n",
              "      <td>400</td>\n",
              "    </tr>\n",
              "    <tr>\n",
              "      <th>1998-12-08</th>\n",
              "      <td>1.59375</td>\n",
              "      <td>1.59375</td>\n",
              "      <td>1.59375</td>\n",
              "      <td>1.59375</td>\n",
              "      <td>0.794903</td>\n",
              "      <td>0</td>\n",
              "    </tr>\n",
              "    <tr>\n",
              "      <th>1998-12-09</th>\n",
              "      <td>1.59375</td>\n",
              "      <td>1.59375</td>\n",
              "      <td>1.59375</td>\n",
              "      <td>1.59375</td>\n",
              "      <td>0.794903</td>\n",
              "      <td>0</td>\n",
              "    </tr>\n",
              "    <tr>\n",
              "      <th>1998-12-10</th>\n",
              "      <td>1.59375</td>\n",
              "      <td>1.59375</td>\n",
              "      <td>1.59375</td>\n",
              "      <td>1.59375</td>\n",
              "      <td>0.794903</td>\n",
              "      <td>0</td>\n",
              "    </tr>\n",
              "    <tr>\n",
              "      <th>1998-12-11</th>\n",
              "      <td>1.56250</td>\n",
              "      <td>1.56250</td>\n",
              "      <td>1.56250</td>\n",
              "      <td>1.56250</td>\n",
              "      <td>0.779316</td>\n",
              "      <td>2000</td>\n",
              "    </tr>\n",
              "    <tr>\n",
              "      <th>...</th>\n",
              "      <td>...</td>\n",
              "      <td>...</td>\n",
              "      <td>...</td>\n",
              "      <td>...</td>\n",
              "      <td>...</td>\n",
              "      <td>...</td>\n",
              "    </tr>\n",
              "    <tr>\n",
              "      <th>2020-11-19</th>\n",
              "      <td>14.10000</td>\n",
              "      <td>14.10000</td>\n",
              "      <td>13.94000</td>\n",
              "      <td>14.05000</td>\n",
              "      <td>13.889050</td>\n",
              "      <td>40400</td>\n",
              "    </tr>\n",
              "    <tr>\n",
              "      <th>2020-11-20</th>\n",
              "      <td>14.10000</td>\n",
              "      <td>14.22000</td>\n",
              "      <td>14.08000</td>\n",
              "      <td>14.21000</td>\n",
              "      <td>14.047216</td>\n",
              "      <td>23500</td>\n",
              "    </tr>\n",
              "    <tr>\n",
              "      <th>2020-11-23</th>\n",
              "      <td>14.59000</td>\n",
              "      <td>14.89000</td>\n",
              "      <td>14.59000</td>\n",
              "      <td>14.84000</td>\n",
              "      <td>14.670000</td>\n",
              "      <td>51600</td>\n",
              "    </tr>\n",
              "    <tr>\n",
              "      <th>2020-11-24</th>\n",
              "      <td>14.88000</td>\n",
              "      <td>14.88000</td>\n",
              "      <td>14.50000</td>\n",
              "      <td>14.64000</td>\n",
              "      <td>14.640000</td>\n",
              "      <td>35200</td>\n",
              "    </tr>\n",
              "    <tr>\n",
              "      <th>2020-11-25</th>\n",
              "      <td>14.65000</td>\n",
              "      <td>14.75000</td>\n",
              "      <td>14.34000</td>\n",
              "      <td>14.47000</td>\n",
              "      <td>14.470000</td>\n",
              "      <td>30448</td>\n",
              "    </tr>\n",
              "  </tbody>\n",
              "</table>\n",
              "<p>5530 rows × 6 columns</p>\n",
              "</div>"
            ],
            "text/plain": [
              "                Open      High       Low     Close  Adj Close  Volume\n",
              "Date                                                                 \n",
              "1998-12-07   1.59375   1.59375   1.59375   1.59375   0.794903     400\n",
              "1998-12-08   1.59375   1.59375   1.59375   1.59375   0.794903       0\n",
              "1998-12-09   1.59375   1.59375   1.59375   1.59375   0.794903       0\n",
              "1998-12-10   1.59375   1.59375   1.59375   1.59375   0.794903       0\n",
              "1998-12-11   1.56250   1.56250   1.56250   1.56250   0.779316    2000\n",
              "...              ...       ...       ...       ...        ...     ...\n",
              "2020-11-19  14.10000  14.10000  13.94000  14.05000  13.889050   40400\n",
              "2020-11-20  14.10000  14.22000  14.08000  14.21000  14.047216   23500\n",
              "2020-11-23  14.59000  14.89000  14.59000  14.84000  14.670000   51600\n",
              "2020-11-24  14.88000  14.88000  14.50000  14.64000  14.640000   35200\n",
              "2020-11-25  14.65000  14.75000  14.34000  14.47000  14.470000   30448\n",
              "\n",
              "[5530 rows x 6 columns]"
            ]
          },
          "metadata": {
            "tags": []
          },
          "execution_count": 23
        }
      ]
    },
    {
      "cell_type": "code",
      "metadata": {
        "colab": {
          "base_uri": "https://localhost:8080/",
          "height": 235
        },
        "id": "CfeiZ4-v0QIK",
        "outputId": "da9edbf9-4508-4069-8f00-8ec4dbca4d21"
      },
      "source": [
        "LNVGY.head()"
      ],
      "execution_count": 24,
      "outputs": [
        {
          "output_type": "execute_result",
          "data": {
            "text/html": [
              "<div>\n",
              "<style scoped>\n",
              "    .dataframe tbody tr th:only-of-type {\n",
              "        vertical-align: middle;\n",
              "    }\n",
              "\n",
              "    .dataframe tbody tr th {\n",
              "        vertical-align: top;\n",
              "    }\n",
              "\n",
              "    .dataframe thead th {\n",
              "        text-align: right;\n",
              "    }\n",
              "</style>\n",
              "<table border=\"1\" class=\"dataframe\">\n",
              "  <thead>\n",
              "    <tr style=\"text-align: right;\">\n",
              "      <th></th>\n",
              "      <th>Open</th>\n",
              "      <th>High</th>\n",
              "      <th>Low</th>\n",
              "      <th>Close</th>\n",
              "      <th>Adj Close</th>\n",
              "      <th>Volume</th>\n",
              "    </tr>\n",
              "    <tr>\n",
              "      <th>Date</th>\n",
              "      <th></th>\n",
              "      <th></th>\n",
              "      <th></th>\n",
              "      <th></th>\n",
              "      <th></th>\n",
              "      <th></th>\n",
              "    </tr>\n",
              "  </thead>\n",
              "  <tbody>\n",
              "    <tr>\n",
              "      <th>1998-12-07</th>\n",
              "      <td>1.59375</td>\n",
              "      <td>1.59375</td>\n",
              "      <td>1.59375</td>\n",
              "      <td>1.59375</td>\n",
              "      <td>0.794903</td>\n",
              "      <td>400</td>\n",
              "    </tr>\n",
              "    <tr>\n",
              "      <th>1998-12-08</th>\n",
              "      <td>1.59375</td>\n",
              "      <td>1.59375</td>\n",
              "      <td>1.59375</td>\n",
              "      <td>1.59375</td>\n",
              "      <td>0.794903</td>\n",
              "      <td>0</td>\n",
              "    </tr>\n",
              "    <tr>\n",
              "      <th>1998-12-09</th>\n",
              "      <td>1.59375</td>\n",
              "      <td>1.59375</td>\n",
              "      <td>1.59375</td>\n",
              "      <td>1.59375</td>\n",
              "      <td>0.794903</td>\n",
              "      <td>0</td>\n",
              "    </tr>\n",
              "    <tr>\n",
              "      <th>1998-12-10</th>\n",
              "      <td>1.59375</td>\n",
              "      <td>1.59375</td>\n",
              "      <td>1.59375</td>\n",
              "      <td>1.59375</td>\n",
              "      <td>0.794903</td>\n",
              "      <td>0</td>\n",
              "    </tr>\n",
              "    <tr>\n",
              "      <th>1998-12-11</th>\n",
              "      <td>1.56250</td>\n",
              "      <td>1.56250</td>\n",
              "      <td>1.56250</td>\n",
              "      <td>1.56250</td>\n",
              "      <td>0.779316</td>\n",
              "      <td>2000</td>\n",
              "    </tr>\n",
              "  </tbody>\n",
              "</table>\n",
              "</div>"
            ],
            "text/plain": [
              "               Open     High      Low    Close  Adj Close  Volume\n",
              "Date                                                             \n",
              "1998-12-07  1.59375  1.59375  1.59375  1.59375   0.794903     400\n",
              "1998-12-08  1.59375  1.59375  1.59375  1.59375   0.794903       0\n",
              "1998-12-09  1.59375  1.59375  1.59375  1.59375   0.794903       0\n",
              "1998-12-10  1.59375  1.59375  1.59375  1.59375   0.794903       0\n",
              "1998-12-11  1.56250  1.56250  1.56250  1.56250   0.779316    2000"
            ]
          },
          "metadata": {
            "tags": []
          },
          "execution_count": 24
        }
      ]
    },
    {
      "cell_type": "code",
      "metadata": {
        "colab": {
          "base_uri": "https://localhost:8080/",
          "height": 235
        },
        "id": "aX87cago0QLn",
        "outputId": "0a86cd1d-d231-4bd5-e01a-718a59cf7e14"
      },
      "source": [
        "LNVGY.tail()"
      ],
      "execution_count": 26,
      "outputs": [
        {
          "output_type": "execute_result",
          "data": {
            "text/html": [
              "<div>\n",
              "<style scoped>\n",
              "    .dataframe tbody tr th:only-of-type {\n",
              "        vertical-align: middle;\n",
              "    }\n",
              "\n",
              "    .dataframe tbody tr th {\n",
              "        vertical-align: top;\n",
              "    }\n",
              "\n",
              "    .dataframe thead th {\n",
              "        text-align: right;\n",
              "    }\n",
              "</style>\n",
              "<table border=\"1\" class=\"dataframe\">\n",
              "  <thead>\n",
              "    <tr style=\"text-align: right;\">\n",
              "      <th></th>\n",
              "      <th>Open</th>\n",
              "      <th>High</th>\n",
              "      <th>Low</th>\n",
              "      <th>Close</th>\n",
              "      <th>Adj Close</th>\n",
              "      <th>Volume</th>\n",
              "    </tr>\n",
              "    <tr>\n",
              "      <th>Date</th>\n",
              "      <th></th>\n",
              "      <th></th>\n",
              "      <th></th>\n",
              "      <th></th>\n",
              "      <th></th>\n",
              "      <th></th>\n",
              "    </tr>\n",
              "  </thead>\n",
              "  <tbody>\n",
              "    <tr>\n",
              "      <th>2020-11-19</th>\n",
              "      <td>14.10</td>\n",
              "      <td>14.10</td>\n",
              "      <td>13.94</td>\n",
              "      <td>14.05</td>\n",
              "      <td>13.889050</td>\n",
              "      <td>40400</td>\n",
              "    </tr>\n",
              "    <tr>\n",
              "      <th>2020-11-20</th>\n",
              "      <td>14.10</td>\n",
              "      <td>14.22</td>\n",
              "      <td>14.08</td>\n",
              "      <td>14.21</td>\n",
              "      <td>14.047216</td>\n",
              "      <td>23500</td>\n",
              "    </tr>\n",
              "    <tr>\n",
              "      <th>2020-11-23</th>\n",
              "      <td>14.59</td>\n",
              "      <td>14.89</td>\n",
              "      <td>14.59</td>\n",
              "      <td>14.84</td>\n",
              "      <td>14.670000</td>\n",
              "      <td>51600</td>\n",
              "    </tr>\n",
              "    <tr>\n",
              "      <th>2020-11-24</th>\n",
              "      <td>14.88</td>\n",
              "      <td>14.88</td>\n",
              "      <td>14.50</td>\n",
              "      <td>14.64</td>\n",
              "      <td>14.640000</td>\n",
              "      <td>35200</td>\n",
              "    </tr>\n",
              "    <tr>\n",
              "      <th>2020-11-25</th>\n",
              "      <td>14.65</td>\n",
              "      <td>14.75</td>\n",
              "      <td>14.34</td>\n",
              "      <td>14.47</td>\n",
              "      <td>14.470000</td>\n",
              "      <td>30448</td>\n",
              "    </tr>\n",
              "  </tbody>\n",
              "</table>\n",
              "</div>"
            ],
            "text/plain": [
              "             Open   High    Low  Close  Adj Close  Volume\n",
              "Date                                                     \n",
              "2020-11-19  14.10  14.10  13.94  14.05  13.889050   40400\n",
              "2020-11-20  14.10  14.22  14.08  14.21  14.047216   23500\n",
              "2020-11-23  14.59  14.89  14.59  14.84  14.670000   51600\n",
              "2020-11-24  14.88  14.88  14.50  14.64  14.640000   35200\n",
              "2020-11-25  14.65  14.75  14.34  14.47  14.470000   30448"
            ]
          },
          "metadata": {
            "tags": []
          },
          "execution_count": 26
        }
      ]
    },
    {
      "cell_type": "code",
      "metadata": {
        "colab": {
          "base_uri": "https://localhost:8080/",
          "height": 297
        },
        "id": "9czxv7kJ0QOD",
        "outputId": "b169aab6-a176-4608-bed1-e5e7d8eadde3"
      },
      "source": [
        "LNVGY.describe()"
      ],
      "execution_count": 27,
      "outputs": [
        {
          "output_type": "execute_result",
          "data": {
            "text/html": [
              "<div>\n",
              "<style scoped>\n",
              "    .dataframe tbody tr th:only-of-type {\n",
              "        vertical-align: middle;\n",
              "    }\n",
              "\n",
              "    .dataframe tbody tr th {\n",
              "        vertical-align: top;\n",
              "    }\n",
              "\n",
              "    .dataframe thead th {\n",
              "        text-align: right;\n",
              "    }\n",
              "</style>\n",
              "<table border=\"1\" class=\"dataframe\">\n",
              "  <thead>\n",
              "    <tr style=\"text-align: right;\">\n",
              "      <th></th>\n",
              "      <th>Open</th>\n",
              "      <th>High</th>\n",
              "      <th>Low</th>\n",
              "      <th>Close</th>\n",
              "      <th>Adj Close</th>\n",
              "      <th>Volume</th>\n",
              "    </tr>\n",
              "  </thead>\n",
              "  <tbody>\n",
              "    <tr>\n",
              "      <th>count</th>\n",
              "      <td>5530.000000</td>\n",
              "      <td>5530.000000</td>\n",
              "      <td>5530.000000</td>\n",
              "      <td>5530.000000</td>\n",
              "      <td>5530.000000</td>\n",
              "      <td>5.530000e+03</td>\n",
              "    </tr>\n",
              "    <tr>\n",
              "      <th>mean</th>\n",
              "      <td>12.930671</td>\n",
              "      <td>13.108801</td>\n",
              "      <td>12.760830</td>\n",
              "      <td>12.932530</td>\n",
              "      <td>8.750540</td>\n",
              "      <td>3.685773e+04</td>\n",
              "    </tr>\n",
              "    <tr>\n",
              "      <th>std</th>\n",
              "      <td>6.399575</td>\n",
              "      <td>6.478616</td>\n",
              "      <td>6.296281</td>\n",
              "      <td>6.397228</td>\n",
              "      <td>4.736145</td>\n",
              "      <td>6.357706e+04</td>\n",
              "    </tr>\n",
              "    <tr>\n",
              "      <th>min</th>\n",
              "      <td>1.500000</td>\n",
              "      <td>1.562500</td>\n",
              "      <td>1.500000</td>\n",
              "      <td>1.500000</td>\n",
              "      <td>0.748144</td>\n",
              "      <td>0.000000e+00</td>\n",
              "    </tr>\n",
              "    <tr>\n",
              "      <th>25%</th>\n",
              "      <td>8.050000</td>\n",
              "      <td>8.200000</td>\n",
              "      <td>7.950000</td>\n",
              "      <td>8.050000</td>\n",
              "      <td>4.674334</td>\n",
              "      <td>1.000000e+04</td>\n",
              "    </tr>\n",
              "    <tr>\n",
              "      <th>50%</th>\n",
              "      <td>12.200000</td>\n",
              "      <td>12.355000</td>\n",
              "      <td>12.080000</td>\n",
              "      <td>12.235000</td>\n",
              "      <td>8.442706</td>\n",
              "      <td>2.150000e+04</td>\n",
              "    </tr>\n",
              "    <tr>\n",
              "      <th>75%</th>\n",
              "      <td>16.000000</td>\n",
              "      <td>16.157500</td>\n",
              "      <td>15.750000</td>\n",
              "      <td>15.997500</td>\n",
              "      <td>11.794292</td>\n",
              "      <td>4.110000e+04</td>\n",
              "    </tr>\n",
              "    <tr>\n",
              "      <th>max</th>\n",
              "      <td>52.000000</td>\n",
              "      <td>55.000000</td>\n",
              "      <td>43.000000</td>\n",
              "      <td>52.000000</td>\n",
              "      <td>25.935658</td>\n",
              "      <td>1.415700e+06</td>\n",
              "    </tr>\n",
              "  </tbody>\n",
              "</table>\n",
              "</div>"
            ],
            "text/plain": [
              "              Open         High  ...    Adj Close        Volume\n",
              "count  5530.000000  5530.000000  ...  5530.000000  5.530000e+03\n",
              "mean     12.930671    13.108801  ...     8.750540  3.685773e+04\n",
              "std       6.399575     6.478616  ...     4.736145  6.357706e+04\n",
              "min       1.500000     1.562500  ...     0.748144  0.000000e+00\n",
              "25%       8.050000     8.200000  ...     4.674334  1.000000e+04\n",
              "50%      12.200000    12.355000  ...     8.442706  2.150000e+04\n",
              "75%      16.000000    16.157500  ...    11.794292  4.110000e+04\n",
              "max      52.000000    55.000000  ...    25.935658  1.415700e+06\n",
              "\n",
              "[8 rows x 6 columns]"
            ]
          },
          "metadata": {
            "tags": []
          },
          "execution_count": 27
        }
      ]
    },
    {
      "cell_type": "code",
      "metadata": {
        "colab": {
          "base_uri": "https://localhost:8080/"
        },
        "id": "5u5Xh_cG07P-",
        "outputId": "d061feca-2030-4924-975d-cf8ba784c0a8"
      },
      "source": [
        "LNVGY.info"
      ],
      "execution_count": 28,
      "outputs": [
        {
          "output_type": "execute_result",
          "data": {
            "text/plain": [
              "<bound method DataFrame.info of                 Open      High       Low     Close  Adj Close  Volume\n",
              "Date                                                                 \n",
              "1998-12-07   1.59375   1.59375   1.59375   1.59375   0.794903     400\n",
              "1998-12-08   1.59375   1.59375   1.59375   1.59375   0.794903       0\n",
              "1998-12-09   1.59375   1.59375   1.59375   1.59375   0.794903       0\n",
              "1998-12-10   1.59375   1.59375   1.59375   1.59375   0.794903       0\n",
              "1998-12-11   1.56250   1.56250   1.56250   1.56250   0.779316    2000\n",
              "...              ...       ...       ...       ...        ...     ...\n",
              "2020-11-19  14.10000  14.10000  13.94000  14.05000  13.889050   40400\n",
              "2020-11-20  14.10000  14.22000  14.08000  14.21000  14.047216   23500\n",
              "2020-11-23  14.59000  14.89000  14.59000  14.84000  14.670000   51600\n",
              "2020-11-24  14.88000  14.88000  14.50000  14.64000  14.640000   35200\n",
              "2020-11-25  14.65000  14.75000  14.34000  14.47000  14.470000   30448\n",
              "\n",
              "[5530 rows x 6 columns]>"
            ]
          },
          "metadata": {
            "tags": []
          },
          "execution_count": 28
        }
      ]
    },
    {
      "cell_type": "code",
      "metadata": {
        "colab": {
          "base_uri": "https://localhost:8080/"
        },
        "id": "u6KedO8v07Vg",
        "outputId": "195ae240-c907-4e71-91d8-3e942fc76979"
      },
      "source": [
        "LNVGY.info()"
      ],
      "execution_count": 29,
      "outputs": [
        {
          "output_type": "stream",
          "text": [
            "<class 'pandas.core.frame.DataFrame'>\n",
            "DatetimeIndex: 5530 entries, 1998-12-07 to 2020-11-25\n",
            "Data columns (total 6 columns):\n",
            " #   Column     Non-Null Count  Dtype  \n",
            "---  ------     --------------  -----  \n",
            " 0   Open       5530 non-null   float64\n",
            " 1   High       5530 non-null   float64\n",
            " 2   Low        5530 non-null   float64\n",
            " 3   Close      5530 non-null   float64\n",
            " 4   Adj Close  5530 non-null   float64\n",
            " 5   Volume     5530 non-null   int64  \n",
            "dtypes: float64(5), int64(1)\n",
            "memory usage: 302.4 KB\n"
          ],
          "name": "stdout"
        }
      ]
    },
    {
      "cell_type": "code",
      "metadata": {
        "colab": {
          "base_uri": "https://localhost:8080/"
        },
        "id": "oinvpXpX07YL",
        "outputId": "af2db80e-0d2f-4907-87c6-ccac2026efd8"
      },
      "source": [
        "LNVGY.Close"
      ],
      "execution_count": 30,
      "outputs": [
        {
          "output_type": "execute_result",
          "data": {
            "text/plain": [
              "Date\n",
              "1998-12-07     1.59375\n",
              "1998-12-08     1.59375\n",
              "1998-12-09     1.59375\n",
              "1998-12-10     1.59375\n",
              "1998-12-11     1.56250\n",
              "                ...   \n",
              "2020-11-19    14.05000\n",
              "2020-11-20    14.21000\n",
              "2020-11-23    14.84000\n",
              "2020-11-24    14.64000\n",
              "2020-11-25    14.47000\n",
              "Name: Close, Length: 5530, dtype: float64"
            ]
          },
          "metadata": {
            "tags": []
          },
          "execution_count": 30
        }
      ]
    },
    {
      "cell_type": "code",
      "metadata": {
        "colab": {
          "base_uri": "https://localhost:8080/",
          "height": 296
        },
        "id": "WiPn6uuf1VLQ",
        "outputId": "76f2432c-1ab6-4ec4-9a2e-e778e4996677"
      },
      "source": [
        "plt.xlabel(\"days\")         \n",
        "plt.ylabel(\"price\")    \n",
        "plt.grid()              \n",
        "plt.plot(LNVGY.Close)"
      ],
      "execution_count": 31,
      "outputs": [
        {
          "output_type": "execute_result",
          "data": {
            "text/plain": [
              "[<matplotlib.lines.Line2D at 0x7fa78e29b898>]"
            ]
          },
          "metadata": {
            "tags": []
          },
          "execution_count": 31
        },
        {
          "output_type": "display_data",
          "data": {
            "image/png": "[encoded data removed]",
            "text/plain": [
              "<Figure size 432x288 with 1 Axes>"
            ]
          },
          "metadata": {
            "tags": [],
            "needs_background": "light"
          }
        }
      ]
    },
    {
      "cell_type": "code",
      "metadata": {
        "colab": {
          "base_uri": "https://localhost:8080/"
        },
        "id": "VethUs1z1VNs",
        "outputId": "a781f726-ea13-40dc-f8f3-1549e30047c7"
      },
      "source": [
        "LNVGY.High"
      ],
      "execution_count": 38,
      "outputs": [
        {
          "output_type": "execute_result",
          "data": {
            "text/plain": [
              "Date\n",
              "1998-12-07     1.59375\n",
              "1998-12-08     1.59375\n",
              "1998-12-09     1.59375\n",
              "1998-12-10     1.59375\n",
              "1998-12-11     1.56250\n",
              "                ...   \n",
              "2020-11-19    14.10000\n",
              "2020-11-20    14.22000\n",
              "2020-11-23    14.89000\n",
              "2020-11-24    14.88000\n",
              "2020-11-25    14.75000\n",
              "Name: High, Length: 5530, dtype: float64"
            ]
          },
          "metadata": {
            "tags": []
          },
          "execution_count": 38
        }
      ]
    },
    {
      "cell_type": "code",
      "metadata": {
        "colab": {
          "base_uri": "https://localhost:8080/",
          "height": 296
        },
        "id": "JZJtPhal1VQ_",
        "outputId": "1af23d51-fe2c-46ec-b6b6-495d757d1b21"
      },
      "source": [
        "plt.xlabel(\"days\")        \n",
        "plt.ylabel(\"price\")   \n",
        "plt.grid()              \n",
        "plt.plot(LNVGY.Close)"
      ],
      "execution_count": 39,
      "outputs": [
        {
          "output_type": "execute_result",
          "data": {
            "text/plain": [
              "[<matplotlib.lines.Line2D at 0x7fa78e1cff28>]"
            ]
          },
          "metadata": {
            "tags": []
          },
          "execution_count": 39
        },
        {
          "output_type": "display_data",
          "data": {
            "image/png": "[encoded data removed]",
            "text/plain": [
              "<Figure size 432x288 with 1 Axes>"
            ]
          },
          "metadata": {
            "tags": [],
            "needs_background": "light"
          }
        }
      ]
    },
    {
      "cell_type": "code",
      "metadata": {
        "colab": {
          "base_uri": "https://localhost:8080/",
          "height": 265
        },
        "id": "aZsONKfr1VVr",
        "outputId": "45dbda56-bb23-4e40-e074-2d10362438c6"
      },
      "source": [
        "plt.plot(LNVGY.High)\n",
        "plt.grid()"
      ],
      "execution_count": 40,
      "outputs": [
        {
          "output_type": "display_data",
          "data": {
            "image/png": "[encoded data removed]",
            "text/plain": [
              "<Figure size 432x288 with 1 Axes>"
            ]
          },
          "metadata": {
            "tags": [],
            "needs_background": "light"
          }
        }
      ]
    },
    {
      "cell_type": "code",
      "metadata": {
        "colab": {
          "base_uri": "https://localhost:8080/"
        },
        "id": "JshHzpbR1VYN",
        "outputId": "717db10e-1c99-4be0-fcd0-6dfb78aa4af9"
      },
      "source": [
        "LNVGY.shape"
      ],
      "execution_count": 41,
      "outputs": [
        {
          "output_type": "execute_result",
          "data": {
            "text/plain": [
              "(5530, 6)"
            ]
          },
          "metadata": {
            "tags": []
          },
          "execution_count": 41
        }
      ]
    },
    {
      "cell_type": "code",
      "metadata": {
        "colab": {
          "base_uri": "https://localhost:8080/"
        },
        "id": "URipO-sn1VdX",
        "outputId": "95ff3470-60cc-49f5-f157-b1a926fb3379"
      },
      "source": [
        "LNVGY.Open"
      ],
      "execution_count": 42,
      "outputs": [
        {
          "output_type": "execute_result",
          "data": {
            "text/plain": [
              "Date\n",
              "1998-12-07     1.59375\n",
              "1998-12-08     1.59375\n",
              "1998-12-09     1.59375\n",
              "1998-12-10     1.59375\n",
              "1998-12-11     1.56250\n",
              "                ...   \n",
              "2020-11-19    14.10000\n",
              "2020-11-20    14.10000\n",
              "2020-11-23    14.59000\n",
              "2020-11-24    14.88000\n",
              "2020-11-25    14.65000\n",
              "Name: Open, Length: 5530, dtype: float64"
            ]
          },
          "metadata": {
            "tags": []
          },
          "execution_count": 42
        }
      ]
    },
    {
      "cell_type": "code",
      "metadata": {
        "colab": {
          "base_uri": "https://localhost:8080/",
          "height": 299
        },
        "id": "Ha90w9Ab1VTW",
        "outputId": "9a023224-3c3a-4ed7-e30c-aa7f7af01f54"
      },
      "source": [
        "print(len(LNVGY.Close))\n",
        "las100_days = LNVGY.High[2316:2415]\n",
        "plt.plot(las100_days)"
      ],
      "execution_count": 43,
      "outputs": [
        {
          "output_type": "stream",
          "text": [
            "5530\n"
          ],
          "name": "stdout"
        },
        {
          "output_type": "execute_result",
          "data": {
            "text/plain": [
              "[<matplotlib.lines.Line2D at 0x7fa78dc442b0>]"
            ]
          },
          "metadata": {
            "tags": []
          },
          "execution_count": 43
        },
        {
          "output_type": "display_data",
          "data": {
            "image/png": "[encoded data removed]",
            "text/plain": [
              "<Figure size 432x288 with 1 Axes>"
            ]
          },
          "metadata": {
            "tags": [],
            "needs_background": "light"
          }
        }
      ]
    },
    {
      "cell_type": "code",
      "metadata": {
        "colab": {
          "base_uri": "https://localhost:8080/"
        },
        "id": "cPh_mjkq2EIx",
        "outputId": "014394e9-9db1-48fe-8543-2da4e6501ea3"
      },
      "source": [
        "LNVGY.Close"
      ],
      "execution_count": 44,
      "outputs": [
        {
          "output_type": "execute_result",
          "data": {
            "text/plain": [
              "Date\n",
              "1998-12-07     1.59375\n",
              "1998-12-08     1.59375\n",
              "1998-12-09     1.59375\n",
              "1998-12-10     1.59375\n",
              "1998-12-11     1.56250\n",
              "                ...   \n",
              "2020-11-19    14.05000\n",
              "2020-11-20    14.21000\n",
              "2020-11-23    14.84000\n",
              "2020-11-24    14.64000\n",
              "2020-11-25    14.47000\n",
              "Name: Close, Length: 5530, dtype: float64"
            ]
          },
          "metadata": {
            "tags": []
          },
          "execution_count": 44
        }
      ]
    },
    {
      "cell_type": "code",
      "metadata": {
        "colab": {
          "base_uri": "https://localhost:8080/"
        },
        "id": "obBRGv3p2atb",
        "outputId": "0975edf0-d585-4fb4-8e4d-67b00d7aad70"
      },
      "source": [
        "LNVGY.Volume"
      ],
      "execution_count": 46,
      "outputs": [
        {
          "output_type": "execute_result",
          "data": {
            "text/plain": [
              "Date\n",
              "1998-12-07      400\n",
              "1998-12-08        0\n",
              "1998-12-09        0\n",
              "1998-12-10        0\n",
              "1998-12-11     2000\n",
              "              ...  \n",
              "2020-11-19    40400\n",
              "2020-11-20    23500\n",
              "2020-11-23    51600\n",
              "2020-11-24    35200\n",
              "2020-11-25    30448\n",
              "Name: Volume, Length: 5530, dtype: int64"
            ]
          },
          "metadata": {
            "tags": []
          },
          "execution_count": 46
        }
      ]
    }
  ]
}