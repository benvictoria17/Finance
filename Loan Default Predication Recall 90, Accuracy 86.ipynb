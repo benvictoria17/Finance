{
 "cells": [
  {
   "cell_type": "code",
   "execution_count": 1,
   "id": "1e826b46",
   "metadata": {},
   "outputs": [],
   "source": [
    "import numpy as np \n",
    "import pandas as pd \n",
    "import matplotlib.pyplot as plt\n",
    "import seaborn as sns"
   ]
  },
  {
   "cell_type": "code",
   "execution_count": 3,
   "id": "4fcce2d6",
   "metadata": {},
   "outputs": [
    {
     "data": {
      "text/html": [
       "<div>\n",
       "<style scoped>\n",
       "    .dataframe tbody tr th:only-of-type {\n",
       "        vertical-align: middle;\n",
       "    }\n",
       "\n",
       "    .dataframe tbody tr th {\n",
       "        vertical-align: top;\n",
       "    }\n",
       "\n",
       "    .dataframe thead th {\n",
       "        text-align: right;\n",
       "    }\n",
       "</style>\n",
       "<table border=\"1\" class=\"dataframe\">\n",
       "  <thead>\n",
       "    <tr style=\"text-align: right;\">\n",
       "      <th></th>\n",
       "      <th>Index</th>\n",
       "      <th>Employed</th>\n",
       "      <th>Bank Balance</th>\n",
       "      <th>Annual Salary</th>\n",
       "      <th>Defaulted?</th>\n",
       "    </tr>\n",
       "  </thead>\n",
       "  <tbody>\n",
       "    <tr>\n",
       "      <th>0</th>\n",
       "      <td>1</td>\n",
       "      <td>1</td>\n",
       "      <td>8754.36</td>\n",
       "      <td>532339.56</td>\n",
       "      <td>0</td>\n",
       "    </tr>\n",
       "    <tr>\n",
       "      <th>1</th>\n",
       "      <td>2</td>\n",
       "      <td>0</td>\n",
       "      <td>9806.16</td>\n",
       "      <td>145273.56</td>\n",
       "      <td>0</td>\n",
       "    </tr>\n",
       "    <tr>\n",
       "      <th>2</th>\n",
       "      <td>3</td>\n",
       "      <td>1</td>\n",
       "      <td>12882.60</td>\n",
       "      <td>381205.68</td>\n",
       "      <td>0</td>\n",
       "    </tr>\n",
       "    <tr>\n",
       "      <th>3</th>\n",
       "      <td>4</td>\n",
       "      <td>1</td>\n",
       "      <td>6351.00</td>\n",
       "      <td>428453.88</td>\n",
       "      <td>0</td>\n",
       "    </tr>\n",
       "    <tr>\n",
       "      <th>4</th>\n",
       "      <td>5</td>\n",
       "      <td>1</td>\n",
       "      <td>9427.92</td>\n",
       "      <td>461562.00</td>\n",
       "      <td>0</td>\n",
       "    </tr>\n",
       "  </tbody>\n",
       "</table>\n",
       "</div>"
      ],
      "text/plain": [
       "   Index  Employed  Bank Balance  Annual Salary  Defaulted?\n",
       "0      1         1       8754.36      532339.56           0\n",
       "1      2         0       9806.16      145273.56           0\n",
       "2      3         1      12882.60      381205.68           0\n",
       "3      4         1       6351.00      428453.88           0\n",
       "4      5         1       9427.92      461562.00           0"
      ]
     },
     "execution_count": 3,
     "metadata": {},
     "output_type": "execute_result"
    }
   ],
   "source": [
    "data = pd.read_csv(\"https://raw.githubusercontent.com/benvictoria17/Finance/main/dataset/Loan%20Default%20Prediction/Default_Fin.csv\")\n",
    "data.head()"
   ]
  },
  {
   "cell_type": "code",
   "execution_count": 4,
   "id": "eabeace5",
   "metadata": {},
   "outputs": [
    {
     "name": "stdout",
     "output_type": "stream",
     "text": [
      "                    Bank Balance                                       \\\n",
      "                           count          mean          std       min   \n",
      "Defaulted? Employed                                                     \n",
      "0          0              2817.0  11381.762386  5406.643098      0.00   \n",
      "           1              6850.0   8934.053396  5346.181753      0.00   \n",
      "1          0               127.0  22324.546772  3944.821339  12158.64   \n",
      "           1               206.0  20141.152427  3970.966677   7828.80   \n",
      "\n",
      "                                                            Annual Salary  \\\n",
      "                          25%       50%       75%       max         count   \n",
      "Defaulted? Employed                                                         \n",
      "0          0          7684.32  11437.56  15125.88  28658.04        2817.0   \n",
      "           1          4893.51   8904.78  12734.43  28692.12        6850.0   \n",
      "1          0         19651.08  22671.96  25323.36  31851.84         127.0   \n",
      "           1         17768.49  20518.98  22949.13  29988.24         206.0   \n",
      "\n",
      "                                                                         \\\n",
      "                              mean            std        min        25%   \n",
      "Defaulted? Employed                                                       \n",
      "0          0         215244.105218   54519.841499    9263.64  178310.88   \n",
      "           1         479922.182050  120034.879178   96211.68  400750.20   \n",
      "1          0         218922.098268   51654.155063  115965.48  182895.18   \n",
      "           1         487500.603495  123104.751380  175969.68  416664.90   \n",
      "\n",
      "                                                      \n",
      "                           50%        75%        max  \n",
      "Defaulted? Employed                                   \n",
      "0          0         215907.84  252311.16  396041.04  \n",
      "           1         478626.12  561345.96  882650.76  \n",
      "1          0         216253.32  249707.40  393132.60  \n",
      "           1         483368.70  586460.25  797597.52  \n"
     ]
    },
    {
     "data": {
      "text/html": [
       "<div>\n",
       "<style scoped>\n",
       "    .dataframe tbody tr th:only-of-type {\n",
       "        vertical-align: middle;\n",
       "    }\n",
       "\n",
       "    .dataframe tbody tr th {\n",
       "        vertical-align: top;\n",
       "    }\n",
       "\n",
       "    .dataframe thead th {\n",
       "        text-align: right;\n",
       "    }\n",
       "</style>\n",
       "<table border=\"1\" class=\"dataframe\">\n",
       "  <thead>\n",
       "    <tr style=\"text-align: right;\">\n",
       "      <th>Defaulted?</th>\n",
       "      <th>0</th>\n",
       "      <th>1</th>\n",
       "    </tr>\n",
       "    <tr>\n",
       "      <th>Employed</th>\n",
       "      <th></th>\n",
       "      <th></th>\n",
       "    </tr>\n",
       "  </thead>\n",
       "  <tbody>\n",
       "    <tr>\n",
       "      <th>0</th>\n",
       "      <td>0.96</td>\n",
       "      <td>0.04</td>\n",
       "    </tr>\n",
       "    <tr>\n",
       "      <th>1</th>\n",
       "      <td>0.97</td>\n",
       "      <td>0.03</td>\n",
       "    </tr>\n",
       "  </tbody>\n",
       "</table>\n",
       "</div>"
      ],
      "text/plain": [
       "Defaulted?     0     1\n",
       "Employed              \n",
       "0           0.96  0.04\n",
       "1           0.97  0.03"
      ]
     },
     "execution_count": 4,
     "metadata": {},
     "output_type": "execute_result"
    }
   ],
   "source": [
    "print(data.groupby(['Defaulted?', 'Employed'])[['Bank Balance', 'Annual Salary']].describe())\n",
    "pd.crosstab(data['Employed'], data['Defaulted?'], normalize = 'index').round(2)"
   ]
  },
  {
   "cell_type": "code",
   "execution_count": 5,
   "id": "58e3995c",
   "metadata": {},
   "outputs": [
    {
     "data": {
      "image/png": "[encoded data removed]",
      "text/plain": [
       "<Figure size 720x432 with 1 Axes>"
      ]
     },
     "metadata": {
      "needs_background": "light"
     },
     "output_type": "display_data"
    }
   ],
   "source": [
    "fig = plt.figure(figsize=(10,6))\n",
    "\n",
    "sns.kdeplot(data[data['Defaulted?']==1]['Bank Balance'])\n",
    "sns.kdeplot(data[data['Defaulted?']==0]['Bank Balance'])\n",
    "\n",
    "fig.legend(labels=['Defaulted', 'Not Defaulted'])\n",
    "plt.title('Based on Bank Balance')\n",
    "plt.show()"
   ]
  },
  {
   "cell_type": "code",
   "execution_count": 6,
   "id": "a6c6ba5f",
   "metadata": {},
   "outputs": [
    {
     "data": {
      "image/png": "[encoded data removed]",
      "text/plain": [
       "<Figure size 432x288 with 1 Axes>"
      ]
     },
     "metadata": {},
     "output_type": "display_data"
    },
    {
     "data": {
      "image/png": "[encoded data removed]",
      "text/plain": [
       "<Figure size 432x288 with 1 Axes>"
      ]
     },
     "metadata": {},
     "output_type": "display_data"
    }
   ],
   "source": [
    "data.groupby('Defaulted?').size().plot.pie(autopct='%1.1f%%', title='Defaulted?');\n",
    "plt.show()\n",
    "label=[1,0]\n",
    "plt.pie(data['Employed'].value_counts(), autopct='%1.1f%%',labels=label);\n",
    "plt.title('Employed?');"
   ]
  },
  {
   "cell_type": "code",
   "execution_count": 7,
   "id": "90ef126a",
   "metadata": {},
   "outputs": [
    {
     "name": "stdout",
     "output_type": "stream",
     "text": [
      "KstestResult(statistic=0.9997, pvalue=0.0)\n"
     ]
    }
   ],
   "source": [
    "import scipy.stats as st\n",
    "print(st.ks_2samp(data['Annual Salary'], data['Bank Balance']))"
   ]
  },
  {
   "cell_type": "code",
   "execution_count": 9,
   "id": "7c1595b1",
   "metadata": {},
   "outputs": [],
   "source": [
    "from sklearn.model_selection import train_test_split, cross_val_score\n",
    "from sklearn.linear_model import LogisticRegression\n",
    "from sklearn import metrics, preprocessing\n",
    "from sklearn.metrics import classification_report\n",
    "from sklearn.metrics import confusion_matrix\n",
    "from sklearn.metrics import accuracy_score\n",
    "from sklearn.preprocessing import MinMaxScaler\n",
    "from sklearn.svm import SVC\n",
    "feature_cols = ['Employed', 'Bank Balance', 'Annual Salary']\n",
    "\n",
    "''' Rescaling to [0,1] '''\n",
    "scaler = MinMaxScaler()\n",
    "data[feature_cols] = scaler.fit_transform(data[feature_cols])\n",
    "X = data[feature_cols]\n",
    "y = data['Defaulted?']\n",
    "\n",
    "validation_size = 0.20\n",
    "X_train, X_test, y_train, y_test = train_test_split(X, y, test_size=validation_size, \n",
    "                                                    random_state=4, stratify=y)"
   ]
  },
  {
   "cell_type": "code",
   "execution_count": 10,
   "id": "9625e7bb",
   "metadata": {},
   "outputs": [
    {
     "name": "stdout",
     "output_type": "stream",
     "text": [
      "[[ 0.37752533 13.74108117  0.39631967]]\n"
     ]
    }
   ],
   "source": [
    "model = LogisticRegression(class_weight='balanced')\n",
    "model.fit(X_train, y_train)\n",
    "print(model.coef_)"
   ]
  },
  {
   "cell_type": "code",
   "execution_count": 11,
   "id": "d6cddf92",
   "metadata": {},
   "outputs": [
    {
     "name": "stdout",
     "output_type": "stream",
     "text": [
      "Train metrics...\n",
      "[[6651 1083]\n",
      " [  26  240]]\n",
      "              precision    recall  f1-score   support\n",
      "\n",
      "           0       1.00      0.86      0.92      7734\n",
      "           1       0.18      0.90      0.30       266\n",
      "\n",
      "    accuracy                           0.86      8000\n",
      "   macro avg       0.59      0.88      0.61      8000\n",
      "weighted avg       0.97      0.86      0.90      8000\n",
      "\n",
      "Test metrics...\n",
      "[[1684  249]\n",
      " [   7   60]]\n",
      "              precision    recall  f1-score   support\n",
      "\n",
      "           0       1.00      0.87      0.93      1933\n",
      "           1       0.19      0.90      0.32        67\n",
      "\n",
      "    accuracy                           0.87      2000\n",
      "   macro avg       0.60      0.88      0.62      2000\n",
      "weighted avg       0.97      0.87      0.91      2000\n",
      "\n"
     ]
    }
   ],
   "source": [
    "y_pred = model.predict(X_train)\n",
    "\n",
    "print('Train metrics...')\n",
    "print(confusion_matrix(y_train, y_pred))\n",
    "print(classification_report(y_train, y_pred))\n",
    "\n",
    "y_pred = model.predict(X_test)\n",
    "\n",
    "print('Test metrics...')\n",
    "print(confusion_matrix(y_test, y_pred))\n",
    "print(classification_report(y_test, y_pred))"
   ]
  },
  {
   "cell_type": "code",
   "execution_count": 13,
   "id": "10848450",
   "metadata": {},
   "outputs": [
    {
     "data": {
      "text/html": [
       "<div>\n",
       "<style scoped>\n",
       "    .dataframe tbody tr th:only-of-type {\n",
       "        vertical-align: middle;\n",
       "    }\n",
       "\n",
       "    .dataframe tbody tr th {\n",
       "        vertical-align: top;\n",
       "    }\n",
       "\n",
       "    .dataframe thead tr th {\n",
       "        text-align: left;\n",
       "    }\n",
       "</style>\n",
       "<table border=\"1\" class=\"dataframe\">\n",
       "  <thead>\n",
       "    <tr>\n",
       "      <th></th>\n",
       "      <th></th>\n",
       "      <th colspan=\"2\" halign=\"left\">prediction defaulted ?</th>\n",
       "    </tr>\n",
       "    <tr>\n",
       "      <th></th>\n",
       "      <th></th>\n",
       "      <th>No</th>\n",
       "      <th>Yes</th>\n",
       "    </tr>\n",
       "  </thead>\n",
       "  <tbody>\n",
       "    <tr>\n",
       "      <th rowspan=\"2\" valign=\"top\">actual defaulted?</th>\n",
       "      <th>No</th>\n",
       "      <td>8335</td>\n",
       "      <td>1332</td>\n",
       "    </tr>\n",
       "    <tr>\n",
       "      <th>Yes</th>\n",
       "      <td>33</td>\n",
       "      <td>300</td>\n",
       "    </tr>\n",
       "  </tbody>\n",
       "</table>\n",
       "</div>"
      ],
      "text/plain": [
       "                      prediction defaulted ?      \n",
       "                                          No   Yes\n",
       "actual defaulted? No                    8335  1332\n",
       "                  Yes                     33   300"
      ]
     },
     "metadata": {},
     "output_type": "display_data"
    },
    {
     "name": "stdout",
     "output_type": "stream",
     "text": [
      "              precision    recall  f1-score   support\n",
      "\n",
      "           0       1.00      0.86      0.92      9667\n",
      "           1       0.18      0.90      0.31       333\n",
      "\n",
      "    accuracy                           0.86     10000\n",
      "   macro avg       0.59      0.88      0.61     10000\n",
      "weighted avg       0.97      0.86      0.90     10000\n",
      "\n"
     ]
    }
   ],
   "source": [
    "''' metrics on original data '''\n",
    "y_pred = model.predict(data[feature_cols])\n",
    "\n",
    "def make_cm(matrix, columns):\n",
    "    n = len(columns)\n",
    "    act = ['actual defaulted?'] * n\n",
    "    pred = ['prediction defaulted ?'] * n\n",
    "\n",
    "    cm = pd.DataFrame(matrix, \n",
    "        columns=[pred, columns], index=[act, columns])\n",
    "    return cm\n",
    "\n",
    "df_matrix=make_cm(\n",
    "    confusion_matrix(data['Defaulted?'], y_pred),['No','Yes'])\n",
    "\n",
    "display(df_matrix)\n",
    "print(classification_report(data['Defaulted?'], y_pred))"
   ]
  },
  {
   "cell_type": "code",
   "execution_count": 15,
   "id": "dd27d1a7",
   "metadata": {},
   "outputs": [
    {
     "data": {
      "text/plain": [
       "SVC(class_weight={0: 1, 1: 100})"
      ]
     },
     "execution_count": 15,
     "metadata": {},
     "output_type": "execute_result"
    }
   ],
   "source": [
    "model = SVC(class_weight={0: 1, 1: 100})\n",
    "model.fit(X_train, y_train)"
   ]
  },
  {
   "cell_type": "code",
   "execution_count": 16,
   "id": "2251f371",
   "metadata": {},
   "outputs": [
    {
     "name": "stdout",
     "output_type": "stream",
     "text": [
      "Train metrics...\n",
      "[[5378 2356]\n",
      " [   6  260]]\n",
      "              precision    recall  f1-score   support\n",
      "\n",
      "           0       1.00      0.70      0.82      7734\n",
      "           1       0.10      0.98      0.18       266\n",
      "\n",
      "    accuracy                           0.70      8000\n",
      "   macro avg       0.55      0.84      0.50      8000\n",
      "weighted avg       0.97      0.70      0.80      8000\n",
      "\n",
      "Test metrics...\n",
      "[[1358  575]\n",
      " [   1   66]]\n",
      "              precision    recall  f1-score   support\n",
      "\n",
      "           0       1.00      0.70      0.83      1933\n",
      "           1       0.10      0.99      0.19        67\n",
      "\n",
      "    accuracy                           0.71      2000\n",
      "   macro avg       0.55      0.84      0.51      2000\n",
      "weighted avg       0.97      0.71      0.80      2000\n",
      "\n"
     ]
    }
   ],
   "source": [
    "y_pred = model.predict(X_train)\n",
    "\n",
    "print('Train metrics...')\n",
    "print(confusion_matrix(y_train, y_pred))\n",
    "print(classification_report(y_train, y_pred))\n",
    "\n",
    "y_pred = model.predict(X_test)\n",
    "\n",
    "print('Test metrics...')\n",
    "print(confusion_matrix(y_test, y_pred))\n",
    "print(classification_report(y_test, y_pred))"
   ]
  },
  {
   "cell_type": "code",
   "execution_count": 17,
   "id": "0144f9a4",
   "metadata": {},
   "outputs": [
    {
     "data": {
      "text/html": [
       "<div>\n",
       "<style scoped>\n",
       "    .dataframe tbody tr th:only-of-type {\n",
       "        vertical-align: middle;\n",
       "    }\n",
       "\n",
       "    .dataframe tbody tr th {\n",
       "        vertical-align: top;\n",
       "    }\n",
       "\n",
       "    .dataframe thead tr th {\n",
       "        text-align: left;\n",
       "    }\n",
       "</style>\n",
       "<table border=\"1\" class=\"dataframe\">\n",
       "  <thead>\n",
       "    <tr>\n",
       "      <th></th>\n",
       "      <th></th>\n",
       "      <th colspan=\"2\" halign=\"left\">prediction defaulted ?</th>\n",
       "    </tr>\n",
       "    <tr>\n",
       "      <th></th>\n",
       "      <th></th>\n",
       "      <th>No</th>\n",
       "      <th>Yes</th>\n",
       "    </tr>\n",
       "  </thead>\n",
       "  <tbody>\n",
       "    <tr>\n",
       "      <th rowspan=\"2\" valign=\"top\">actual defaulted?</th>\n",
       "      <th>No</th>\n",
       "      <td>6736</td>\n",
       "      <td>2931</td>\n",
       "    </tr>\n",
       "    <tr>\n",
       "      <th>Yes</th>\n",
       "      <td>7</td>\n",
       "      <td>326</td>\n",
       "    </tr>\n",
       "  </tbody>\n",
       "</table>\n",
       "</div>"
      ],
      "text/plain": [
       "                      prediction defaulted ?      \n",
       "                                          No   Yes\n",
       "actual defaulted? No                    6736  2931\n",
       "                  Yes                      7   326"
      ]
     },
     "metadata": {},
     "output_type": "display_data"
    },
    {
     "name": "stdout",
     "output_type": "stream",
     "text": [
      "              precision    recall  f1-score   support\n",
      "\n",
      "           0       1.00      0.70      0.82      9667\n",
      "           1       0.10      0.98      0.18       333\n",
      "\n",
      "    accuracy                           0.71     10000\n",
      "   macro avg       0.55      0.84      0.50     10000\n",
      "weighted avg       0.97      0.71      0.80     10000\n",
      "\n"
     ]
    }
   ],
   "source": [
    "''' metrics on original data '''\n",
    "y_pred = model.predict(data[feature_cols])\n",
    "\n",
    "def make_cm(matrix, columns):\n",
    "    n = len(columns)\n",
    "    act = ['actual defaulted?'] * n\n",
    "    pred = ['prediction defaulted ?'] * n\n",
    "\n",
    "    cm = pd.DataFrame(matrix, \n",
    "        columns=[pred, columns], index=[act, columns])\n",
    "    return cm\n",
    "\n",
    "df_matrix=make_cm(\n",
    "    confusion_matrix(data['Defaulted?'], y_pred),['No','Yes'])\n",
    "\n",
    "display(df_matrix)\n",
    "print(classification_report(data['Defaulted?'], y_pred))"
   ]
  }
 ],
 "metadata": {
  "kernelspec": {
   "display_name": "Python 3",
   "language": "python",
   "name": "python3"
  },
  "language_info": {
   "codemirror_mode": {
    "name": "ipython",
    "version": 3
   },
   "file_extension": ".py",
   "mimetype": "text/x-python",
   "name": "python",
   "nbconvert_exporter": "python",
   "pygments_lexer": "ipython3",
   "version": "3.9.5"
  }
 },
 "nbformat": 4,
 "nbformat_minor": 5
}
