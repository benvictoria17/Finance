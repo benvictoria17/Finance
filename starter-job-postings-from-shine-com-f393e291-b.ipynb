{
 "cells": [
  {
   "cell_type": "code",
   "execution_count": 1,
   "id": "rough-cheat",
   "metadata": {
    "execution": {
     "iopub.execute_input": "2021-05-04T05:13:13.176516Z",
     "iopub.status.busy": "2021-05-04T05:13:13.175854Z",
     "iopub.status.idle": "2021-05-04T05:13:14.318597Z",
     "shell.execute_reply": "2021-05-04T05:13:14.319126Z"
    },
    "papermill": {
     "duration": 1.15848,
     "end_time": "2021-05-04T05:13:14.319508",
     "exception": false,
     "start_time": "2021-05-04T05:13:13.161028",
     "status": "completed"
    },
    "tags": []
   },
   "outputs": [],
   "source": [
    "from mpl_toolkits.mplot3d import Axes3D\n",
    "from sklearn.preprocessing import StandardScaler\n",
    "import matplotlib.pyplot as plt \n",
    "import numpy as np \n",
    "import os \n",
    "import pandas as pd "
   ]
  },
  {
   "cell_type": "code",
   "execution_count": 2,
   "id": "expected-formation",
   "metadata": {
    "execution": {
     "iopub.execute_input": "2021-05-04T05:13:14.337474Z",
     "iopub.status.busy": "2021-05-04T05:13:14.336687Z",
     "iopub.status.idle": "2021-05-04T05:13:14.352562Z",
     "shell.execute_reply": "2021-05-04T05:13:14.353075Z"
    },
    "papermill": {
     "duration": 0.026392,
     "end_time": "2021-05-04T05:13:14.353334",
     "exception": false,
     "start_time": "2021-05-04T05:13:14.326942",
     "status": "completed"
    },
    "tags": []
   },
   "outputs": [],
   "source": [
    "\n",
    "def plotPerColumnDistribution(df, nGraphShown, nGraphPerRow):\n",
    "    nunique = df.nunique()\n",
    "    df = df[[col for col in df if nunique[col] > 1 and nunique[col] < 50]] # For displaying purposes, pick columns that have between 1 and 50 unique values\n",
    "    nRow, nCol = df.shape\n",
    "    columnNames = list(df)\n",
    "    nGraphRow = (nCol + nGraphPerRow - 1) / nGraphPerRow\n",
    "    plt.figure(num = None, figsize = (6 * nGraphPerRow, 8 * nGraphRow), dpi = 80, facecolor = 'w', edgecolor = 'k')\n",
    "    for i in range(min(nCol, nGraphShown)):\n",
    "        plt.subplot(nGraphRow, nGraphPerRow, i + 1)\n",
    "        columnDf = df.iloc[:, i]\n",
    "        if (not np.issubdtype(type(columnDf.iloc[0]), np.number)):\n",
    "            valueCounts = columnDf.value_counts()\n",
    "            valueCounts.plot.bar()\n",
    "        else:\n",
    "            columnDf.hist()\n",
    "        plt.ylabel('counts')\n",
    "        plt.xticks(rotation = 90)\n",
    "        plt.title(f'{columnNames[i]} (column {i})')\n",
    "    plt.tight_layout(pad = 1.0, w_pad = 1.0, h_pad = 1.0)\n",
    "    plt.show()"
   ]
  },
  {
   "cell_type": "code",
   "execution_count": 3,
   "id": "exposed-watershed",
   "metadata": {
    "execution": {
     "iopub.execute_input": "2021-05-04T05:13:14.371029Z",
     "iopub.status.busy": "2021-05-04T05:13:14.370252Z",
     "iopub.status.idle": "2021-05-04T05:13:14.378623Z",
     "shell.execute_reply": "2021-05-04T05:13:14.379273Z"
    },
    "papermill": {
     "duration": 0.019221,
     "end_time": "2021-05-04T05:13:14.379530",
     "exception": false,
     "start_time": "2021-05-04T05:13:14.360309",
     "status": "completed"
    },
    "tags": []
   },
   "outputs": [],
   "source": [
    "def plotCorrelationMatrix(df, graphWidth):\n",
    "    filename = df.dataframeName\n",
    "    df = df.dropna('columns') # drop columns with NaN\n",
    "    df = df[[col for col in df if df[col].nunique() > 1]] # keep columns where there are more than 1 unique values\n",
    "    if df.shape[1] < 2:\n",
    "        print(f'No correlation plots shown: The number of non-NaN or constant columns ({df.shape[1]}) is less than 2')\n",
    "        return\n",
    "    corr = df.corr()\n",
    "    plt.figure(num=None, figsize=(graphWidth, graphWidth), dpi=80, facecolor='w', edgecolor='k')\n",
    "    corrMat = plt.matshow(corr, fignum = 1)\n",
    "    plt.xticks(range(len(corr.columns)), corr.columns, rotation=90)\n",
    "    plt.yticks(range(len(corr.columns)), corr.columns)\n",
    "    plt.gca().xaxis.tick_bottom()\n",
    "    plt.colorbar(corrMat)\n",
    "    plt.title(f'Correlation Matrix for {filename}', fontsize=15)\n",
    "    plt.show()\n"
   ]
  },
  {
   "cell_type": "code",
   "execution_count": 4,
   "id": "hindu-sussex",
   "metadata": {
    "execution": {
     "iopub.execute_input": "2021-05-04T05:13:14.397437Z",
     "iopub.status.busy": "2021-05-04T05:13:14.396723Z",
     "iopub.status.idle": "2021-05-04T05:13:14.405179Z",
     "shell.execute_reply": "2021-05-04T05:13:14.405752Z"
    },
    "papermill": {
     "duration": 0.01943,
     "end_time": "2021-05-04T05:13:14.405976",
     "exception": false,
     "start_time": "2021-05-04T05:13:14.386546",
     "status": "completed"
    },
    "tags": []
   },
   "outputs": [],
   "source": [
    "\n",
    "def plotScatterMatrix(df, plotSize, textSize):\n",
    "    df = df.select_dtypes(include =[np.number]) # keep only numerical columns\n",
    "    # Remove rows and columns that would lead to df being singular\n",
    "    df = df.dropna('columns')\n",
    "    df = df[[col for col in df if df[col].nunique() > 1]] # keep columns where there are more than 1 unique values\n",
    "    columnNames = list(df)\n",
    "    if len(columnNames) > 10: # reduce the number of columns for matrix inversion of kernel density plots\n",
    "        columnNames = columnNames[:10]\n",
    "    df = df[columnNames]\n",
    "    ax = pd.plotting.scatter_matrix(df, alpha=0.75, figsize=[plotSize, plotSize], diagonal='kde')\n",
    "    corrs = df.corr().values\n",
    "    for i, j in zip(*plt.np.triu_indices_from(ax, k = 1)):\n",
    "        ax[i, j].annotate('Corr. coef = %.3f' % corrs[i, j], (0.8, 0.2), xycoords='axes fraction', ha='center', va='center', size=textSize)\n",
    "    plt.suptitle('Scatter and Density Plot')\n",
    "    plt.show()"
   ]
  },
  {
   "cell_type": "code",
   "execution_count": 5,
   "id": "disabled-honduras",
   "metadata": {
    "execution": {
     "iopub.execute_input": "2021-05-04T05:13:14.424017Z",
     "iopub.status.busy": "2021-05-04T05:13:14.423086Z",
     "iopub.status.idle": "2021-05-04T05:13:14.888794Z",
     "shell.execute_reply": "2021-05-04T05:13:14.889462Z"
    },
    "papermill": {
     "duration": 0.476621,
     "end_time": "2021-05-04T05:13:14.889699",
     "exception": false,
     "start_time": "2021-05-04T05:13:14.413078",
     "status": "completed"
    },
    "tags": []
   },
   "outputs": [
    {
     "name": "stdout",
     "output_type": "stream",
     "text": [
      "There are 1000 rows and 6 columns\n"
     ]
    }
   ],
   "source": [
    "nRowsRead = 1000 # specify 'None' if want to read whole file\n",
    "# shine_data.csv may have more rows in reality, but we are only loading/previewing the first 1000 rows\n",
    "df1 = pd.read_csv('https://raw.githubusercontent.com/benvictoria17/DataVisualization/master/dataset/Job%20Postings%20in%20mumbai/mumbai_jobs_data.csv', delimiter=',', nrows = nRowsRead)\n",
    "df1.dataframeName = 'shine_data.csv'\n",
    "nRow, nCol = df1.shape\n",
    "print(f'There are {nRow} rows and {nCol} columns')"
   ]
  },
  {
   "cell_type": "code",
   "execution_count": 6,
   "id": "wicked-loading",
   "metadata": {
    "execution": {
     "iopub.execute_input": "2021-05-04T05:13:14.908855Z",
     "iopub.status.busy": "2021-05-04T05:13:14.908181Z",
     "iopub.status.idle": "2021-05-04T05:13:14.937768Z",
     "shell.execute_reply": "2021-05-04T05:13:14.938561Z"
    },
    "papermill": {
     "duration": 0.041122,
     "end_time": "2021-05-04T05:13:14.938859",
     "exception": false,
     "start_time": "2021-05-04T05:13:14.897737",
     "status": "completed"
    },
    "tags": []
   },
   "outputs": [
    {
     "data": {
      "text/html": [
       "<div>\n",
       "<style scoped>\n",
       "    .dataframe tbody tr th:only-of-type {\n",
       "        vertical-align: middle;\n",
       "    }\n",
       "\n",
       "    .dataframe tbody tr th {\n",
       "        vertical-align: top;\n",
       "    }\n",
       "\n",
       "    .dataframe thead th {\n",
       "        text-align: right;\n",
       "    }\n",
       "</style>\n",
       "<table border=\"1\" class=\"dataframe\">\n",
       "  <thead>\n",
       "    <tr style=\"text-align: right;\">\n",
       "      <th></th>\n",
       "      <th>Unnamed: 0</th>\n",
       "      <th>job_title</th>\n",
       "      <th>company_name</th>\n",
       "      <th>experience</th>\n",
       "      <th>when_posted</th>\n",
       "      <th>job_url</th>\n",
       "    </tr>\n",
       "  </thead>\n",
       "  <tbody>\n",
       "    <tr>\n",
       "      <th>0</th>\n",
       "      <td>0</td>\n",
       "      <td>Lead Associate - CMC</td>\n",
       "      <td>Genpact India Pvt. Ltd.</td>\n",
       "      <td>2 to 3 Yrs</td>\n",
       "      <td>2 Hours ago</td>\n",
       "      <td>https://www.shine.com/jobs/lead-associate-cmc/...</td>\n",
       "    </tr>\n",
       "    <tr>\n",
       "      <th>1</th>\n",
       "      <td>1</td>\n",
       "      <td>Hiring For India's Biggest Online Investment P...</td>\n",
       "      <td>Quess Corp (Magna Infotech)</td>\n",
       "      <td>1 to 5 Yrs</td>\n",
       "      <td>3 Hours ago</td>\n",
       "      <td>https://www.shine.com/jobs/hiring-for-indias-b...</td>\n",
       "    </tr>\n",
       "    <tr>\n",
       "      <th>2</th>\n",
       "      <td>2</td>\n",
       "      <td>Business analyst -Taxation</td>\n",
       "      <td>Infosys Limited</td>\n",
       "      <td>4 to 6 Yrs</td>\n",
       "      <td>5 Hours ago</td>\n",
       "      <td>https://www.shine.com/jobs/business-analyst-ta...</td>\n",
       "    </tr>\n",
       "    <tr>\n",
       "      <th>3</th>\n",
       "      <td>3</td>\n",
       "      <td>Hiring For India's biggest online investment p...</td>\n",
       "      <td>Quess Corp (Magna Infotech)</td>\n",
       "      <td>1 to 5 Yrs</td>\n",
       "      <td>9 Hours ago</td>\n",
       "      <td>https://www.shine.com/jobs/hiring-for-indias-b...</td>\n",
       "    </tr>\n",
       "    <tr>\n",
       "      <th>4</th>\n",
       "      <td>4</td>\n",
       "      <td>Webmethods Developer</td>\n",
       "      <td>HARJAI COMPUTERS PRIVATE LIMITED</td>\n",
       "      <td>3 to 8 Yrs</td>\n",
       "      <td>21 Hours ago</td>\n",
       "      <td>https://www.shine.com/jobs/webmethods-develope...</td>\n",
       "    </tr>\n",
       "  </tbody>\n",
       "</table>\n",
       "</div>"
      ],
      "text/plain": [
       "   Unnamed: 0                                          job_title  \\\n",
       "0           0                               Lead Associate - CMC   \n",
       "1           1  Hiring For India's Biggest Online Investment P...   \n",
       "2           2                         Business analyst -Taxation   \n",
       "3           3  Hiring For India's biggest online investment p...   \n",
       "4           4                               Webmethods Developer   \n",
       "\n",
       "                       company_name  experience   when_posted  \\\n",
       "0           Genpact India Pvt. Ltd.  2 to 3 Yrs   2 Hours ago   \n",
       "1       Quess Corp (Magna Infotech)  1 to 5 Yrs   3 Hours ago   \n",
       "2                   Infosys Limited  4 to 6 Yrs   5 Hours ago   \n",
       "3       Quess Corp (Magna Infotech)  1 to 5 Yrs   9 Hours ago   \n",
       "4  HARJAI COMPUTERS PRIVATE LIMITED  3 to 8 Yrs  21 Hours ago   \n",
       "\n",
       "                                             job_url  \n",
       "0  https://www.shine.com/jobs/lead-associate-cmc/...  \n",
       "1  https://www.shine.com/jobs/hiring-for-indias-b...  \n",
       "2  https://www.shine.com/jobs/business-analyst-ta...  \n",
       "3  https://www.shine.com/jobs/hiring-for-indias-b...  \n",
       "4  https://www.shine.com/jobs/webmethods-develope...  "
      ]
     },
     "execution_count": 6,
     "metadata": {},
     "output_type": "execute_result"
    }
   ],
   "source": [
    "df1.head(5)"
   ]
  },
  {
   "cell_type": "code",
   "execution_count": 7,
   "id": "wired-terry",
   "metadata": {
    "execution": {
     "iopub.execute_input": "2021-05-04T05:13:14.967871Z",
     "iopub.status.busy": "2021-05-04T05:13:14.967199Z",
     "iopub.status.idle": "2021-05-04T05:13:14.995411Z",
     "shell.execute_reply": "2021-05-04T05:13:14.994366Z"
    },
    "papermill": {
     "duration": 0.047279,
     "end_time": "2021-05-04T05:13:14.995619",
     "exception": false,
     "start_time": "2021-05-04T05:13:14.948340",
     "status": "completed"
    },
    "tags": []
   },
   "outputs": [
    {
     "data": {
      "text/plain": [
       "<Figure size 2400x512 with 0 Axes>"
      ]
     },
     "metadata": {},
     "output_type": "display_data"
    }
   ],
   "source": [
    "plotPerColumnDistribution(df1, 10, 5)"
   ]
  }
 ],
 "metadata": {
  "kernelspec": {
   "display_name": "Python 3",
   "language": "python",
   "name": "python3"
  },
  "language_info": {
   "codemirror_mode": {
    "name": "ipython",
    "version": 3
   },
   "file_extension": ".py",
   "mimetype": "text/x-python",
   "name": "python",
   "nbconvert_exporter": "python",
   "pygments_lexer": "ipython3",
   "version": "3.7.9"
  },
  "papermill": {
   "default_parameters": {},
   "duration": 9.277598,
   "end_time": "2021-05-04T05:13:15.622944",
   "environment_variables": {},
   "exception": null,
   "input_path": "__notebook__.ipynb",
   "output_path": "__notebook__.ipynb",
   "parameters": {},
   "start_time": "2021-05-04T05:13:06.345346",
   "version": "2.3.2"
  }
 },
 "nbformat": 4,
 "nbformat_minor": 5
}
