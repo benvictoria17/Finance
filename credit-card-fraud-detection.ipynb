{
 "cells": [
  {
   "cell_type": "markdown",
   "metadata": {
    "papermill": {
     "duration": 0.02613,
     "end_time": "2020-12-06T14:37:47.897386",
     "exception": false,
     "start_time": "2020-12-06T14:37:47.871256",
     "status": "completed"
    },
    "tags": []
   },
   "source": [
    "# *Configuration*"
   ]
  },
  {
   "cell_type": "code",
   "execution_count": 1,
   "metadata": {
    "_cell_guid": "b1076dfc-b9ad-4769-8c92-a6c4dae69d19",
    "_uuid": "8f2839f25d086af736a60e9eeb907d3b93b6e0e5",
    "execution": {
     "iopub.execute_input": "2020-12-06T14:37:47.954994Z",
     "iopub.status.busy": "2020-12-06T14:37:47.954213Z",
     "iopub.status.idle": "2020-12-06T14:37:47.967397Z",
     "shell.execute_reply": "2020-12-06T14:37:47.966691Z"
    },
    "papermill": {
     "duration": 0.045002,
     "end_time": "2020-12-06T14:37:47.967526",
     "exception": false,
     "start_time": "2020-12-06T14:37:47.922524",
     "status": "completed"
    },
    "tags": []
   },
   "outputs": [
    {
     "name": "stdout",
     "output_type": "stream",
     "text": [
      "/kaggle/input/creditcardfraud/creditcard.csv\n"
     ]
    }
   ],
   "source": [
    "import numpy as np # linear algebra\n",
    "import pandas as pd # data processing, CSV file I/O (e.g. pd.read_csv)\n",
    "\n",
    "import os\n",
    "for dirname, _, filenames in os.walk('/kaggle/input'):\n",
    "    for filename in filenames:\n",
    "        print(os.path.join(dirname, filename))"
   ]
  },
  {
   "cell_type": "code",
   "execution_count": 2,
   "metadata": {
    "execution": {
     "iopub.execute_input": "2020-12-06T14:37:48.025620Z",
     "iopub.status.busy": "2020-12-06T14:37:48.024730Z",
     "iopub.status.idle": "2020-12-06T14:37:57.929250Z",
     "shell.execute_reply": "2020-12-06T14:37:57.928411Z"
    },
    "papermill": {
     "duration": 9.935299,
     "end_time": "2020-12-06T14:37:57.929381",
     "exception": false,
     "start_time": "2020-12-06T14:37:47.994082",
     "status": "completed"
    },
    "tags": []
   },
   "outputs": [
    {
     "name": "stdout",
     "output_type": "stream",
     "text": [
      "Requirement already satisfied: imbalanced-learn in /opt/conda/lib/python3.7/site-packages (0.7.0)\r\n",
      "Requirement already satisfied: numpy>=1.13.3 in /opt/conda/lib/python3.7/site-packages (from imbalanced-learn) (1.18.5)\r\n",
      "Requirement already satisfied: scikit-learn>=0.23 in /opt/conda/lib/python3.7/site-packages (from imbalanced-learn) (0.23.2)\r\n",
      "Requirement already satisfied: scipy>=0.19.1 in /opt/conda/lib/python3.7/site-packages (from imbalanced-learn) (1.4.1)\r\n",
      "Requirement already satisfied: joblib>=0.11 in /opt/conda/lib/python3.7/site-packages (from imbalanced-learn) (0.14.1)\r\n",
      "Requirement already satisfied: numpy>=1.13.3 in /opt/conda/lib/python3.7/site-packages (from imbalanced-learn) (1.18.5)\r\n",
      "Requirement already satisfied: threadpoolctl>=2.0.0 in /opt/conda/lib/python3.7/site-packages (from scikit-learn>=0.23->imbalanced-learn) (2.1.0)\r\n",
      "Requirement already satisfied: scipy>=0.19.1 in /opt/conda/lib/python3.7/site-packages (from imbalanced-learn) (1.4.1)\r\n",
      "Requirement already satisfied: joblib>=0.11 in /opt/conda/lib/python3.7/site-packages (from imbalanced-learn) (0.14.1)\r\n",
      "Requirement already satisfied: numpy>=1.13.3 in /opt/conda/lib/python3.7/site-packages (from imbalanced-learn) (1.18.5)\r\n"
     ]
    }
   ],
   "source": [
    "# For Oversampling\n",
    "!pip install imbalanced-learn"
   ]
  },
  {
   "cell_type": "code",
   "execution_count": 3,
   "metadata": {
    "execution": {
     "iopub.execute_input": "2020-12-06T14:37:57.989964Z",
     "iopub.status.busy": "2020-12-06T14:37:57.989086Z",
     "iopub.status.idle": "2020-12-06T14:37:58.971396Z",
     "shell.execute_reply": "2020-12-06T14:37:58.970635Z"
    },
    "papermill": {
     "duration": 1.015256,
     "end_time": "2020-12-06T14:37:58.971551",
     "exception": false,
     "start_time": "2020-12-06T14:37:57.956295",
     "status": "completed"
    },
    "tags": []
   },
   "outputs": [],
   "source": [
    "# Visualization\n",
    "import matplotlib.pyplot as plt\n",
    "import seaborn as sns\n",
    "%matplotlib inline"
   ]
  },
  {
   "cell_type": "markdown",
   "metadata": {
    "_cell_guid": "79c7e3d0-c299-4dcb-8224-4455121ee9b0",
    "_uuid": "d629ff2d2480ee46fbb7e2d37f6b5fab8052498a",
    "collapsed": true,
    "papermill": {
     "duration": 0.026355,
     "end_time": "2020-12-06T14:37:59.024948",
     "exception": false,
     "start_time": "2020-12-06T14:37:58.998593",
     "status": "completed"
    },
    "tags": []
   },
   "source": [
    "# *Data Loading & First Preprocessing & Learn/Predict/Evaluate*"
   ]
  },
  {
   "cell_type": "code",
   "execution_count": 4,
   "metadata": {
    "execution": {
     "iopub.execute_input": "2020-12-06T14:37:59.087588Z",
     "iopub.status.busy": "2020-12-06T14:37:59.086756Z",
     "iopub.status.idle": "2020-12-06T14:38:03.652611Z",
     "shell.execute_reply": "2020-12-06T14:38:03.653419Z"
    },
    "papermill": {
     "duration": 4.602096,
     "end_time": "2020-12-06T14:38:03.653592",
     "exception": false,
     "start_time": "2020-12-06T14:37:59.051496",
     "status": "completed"
    },
    "tags": []
   },
   "outputs": [
    {
     "data": {
      "text/html": [
       "<div>\n",
       "<style scoped>\n",
       "    .dataframe tbody tr th:only-of-type {\n",
       "        vertical-align: middle;\n",
       "    }\n",
       "\n",
       "    .dataframe tbody tr th {\n",
       "        vertical-align: top;\n",
       "    }\n",
       "\n",
       "    .dataframe thead th {\n",
       "        text-align: right;\n",
       "    }\n",
       "</style>\n",
       "<table border=\"1\" class=\"dataframe\">\n",
       "  <thead>\n",
       "    <tr style=\"text-align: right;\">\n",
       "      <th></th>\n",
       "      <th>Time</th>\n",
       "      <th>V1</th>\n",
       "      <th>V2</th>\n",
       "      <th>V3</th>\n",
       "      <th>V4</th>\n",
       "      <th>V5</th>\n",
       "      <th>V6</th>\n",
       "      <th>V7</th>\n",
       "      <th>V8</th>\n",
       "      <th>V9</th>\n",
       "      <th>...</th>\n",
       "      <th>V21</th>\n",
       "      <th>V22</th>\n",
       "      <th>V23</th>\n",
       "      <th>V24</th>\n",
       "      <th>V25</th>\n",
       "      <th>V26</th>\n",
       "      <th>V27</th>\n",
       "      <th>V28</th>\n",
       "      <th>Amount</th>\n",
       "      <th>Class</th>\n",
       "    </tr>\n",
       "  </thead>\n",
       "  <tbody>\n",
       "    <tr>\n",
       "      <th>0</th>\n",
       "      <td>0.0</td>\n",
       "      <td>-1.359807</td>\n",
       "      <td>-0.072781</td>\n",
       "      <td>2.536347</td>\n",
       "      <td>1.378155</td>\n",
       "      <td>-0.338321</td>\n",
       "      <td>0.462388</td>\n",
       "      <td>0.239599</td>\n",
       "      <td>0.098698</td>\n",
       "      <td>0.363787</td>\n",
       "      <td>...</td>\n",
       "      <td>-0.018307</td>\n",
       "      <td>0.277838</td>\n",
       "      <td>-0.110474</td>\n",
       "      <td>0.066928</td>\n",
       "      <td>0.128539</td>\n",
       "      <td>-0.189115</td>\n",
       "      <td>0.133558</td>\n",
       "      <td>-0.021053</td>\n",
       "      <td>149.62</td>\n",
       "      <td>0</td>\n",
       "    </tr>\n",
       "    <tr>\n",
       "      <th>1</th>\n",
       "      <td>0.0</td>\n",
       "      <td>1.191857</td>\n",
       "      <td>0.266151</td>\n",
       "      <td>0.166480</td>\n",
       "      <td>0.448154</td>\n",
       "      <td>0.060018</td>\n",
       "      <td>-0.082361</td>\n",
       "      <td>-0.078803</td>\n",
       "      <td>0.085102</td>\n",
       "      <td>-0.255425</td>\n",
       "      <td>...</td>\n",
       "      <td>-0.225775</td>\n",
       "      <td>-0.638672</td>\n",
       "      <td>0.101288</td>\n",
       "      <td>-0.339846</td>\n",
       "      <td>0.167170</td>\n",
       "      <td>0.125895</td>\n",
       "      <td>-0.008983</td>\n",
       "      <td>0.014724</td>\n",
       "      <td>2.69</td>\n",
       "      <td>0</td>\n",
       "    </tr>\n",
       "    <tr>\n",
       "      <th>2</th>\n",
       "      <td>1.0</td>\n",
       "      <td>-1.358354</td>\n",
       "      <td>-1.340163</td>\n",
       "      <td>1.773209</td>\n",
       "      <td>0.379780</td>\n",
       "      <td>-0.503198</td>\n",
       "      <td>1.800499</td>\n",
       "      <td>0.791461</td>\n",
       "      <td>0.247676</td>\n",
       "      <td>-1.514654</td>\n",
       "      <td>...</td>\n",
       "      <td>0.247998</td>\n",
       "      <td>0.771679</td>\n",
       "      <td>0.909412</td>\n",
       "      <td>-0.689281</td>\n",
       "      <td>-0.327642</td>\n",
       "      <td>-0.139097</td>\n",
       "      <td>-0.055353</td>\n",
       "      <td>-0.059752</td>\n",
       "      <td>378.66</td>\n",
       "      <td>0</td>\n",
       "    </tr>\n",
       "  </tbody>\n",
       "</table>\n",
       "<p>3 rows × 31 columns</p>\n",
       "</div>"
      ],
      "text/plain": [
       "   Time        V1        V2        V3        V4        V5        V6        V7  \\\n",
       "0   0.0 -1.359807 -0.072781  2.536347  1.378155 -0.338321  0.462388  0.239599   \n",
       "1   0.0  1.191857  0.266151  0.166480  0.448154  0.060018 -0.082361 -0.078803   \n",
       "2   1.0 -1.358354 -1.340163  1.773209  0.379780 -0.503198  1.800499  0.791461   \n",
       "\n",
       "         V8        V9  ...       V21       V22       V23       V24       V25  \\\n",
       "0  0.098698  0.363787  ... -0.018307  0.277838 -0.110474  0.066928  0.128539   \n",
       "1  0.085102 -0.255425  ... -0.225775 -0.638672  0.101288 -0.339846  0.167170   \n",
       "2  0.247676 -1.514654  ...  0.247998  0.771679  0.909412 -0.689281 -0.327642   \n",
       "\n",
       "        V26       V27       V28  Amount  Class  \n",
       "0 -0.189115  0.133558 -0.021053  149.62      0  \n",
       "1  0.125895 -0.008983  0.014724    2.69      0  \n",
       "2 -0.139097 -0.055353 -0.059752  378.66      0  \n",
       "\n",
       "[3 rows x 31 columns]"
      ]
     },
     "execution_count": 4,
     "metadata": {},
     "output_type": "execute_result"
    }
   ],
   "source": [
    "card_df = pd.read_csv('../input/creditcardfraud/creditcard.csv')\n",
    "card_df.head(3)"
   ]
  },
  {
   "cell_type": "code",
   "execution_count": 5,
   "metadata": {
    "execution": {
     "iopub.execute_input": "2020-12-06T14:38:03.716522Z",
     "iopub.status.busy": "2020-12-06T14:38:03.715777Z",
     "iopub.status.idle": "2020-12-06T14:38:03.727042Z",
     "shell.execute_reply": "2020-12-06T14:38:03.726408Z"
    },
    "papermill": {
     "duration": 0.044188,
     "end_time": "2020-12-06T14:38:03.727169",
     "exception": false,
     "start_time": "2020-12-06T14:38:03.682981",
     "status": "completed"
    },
    "tags": []
   },
   "outputs": [
    {
     "data": {
      "text/plain": [
       "0    284315\n",
       "1       492\n",
       "Name: Class, dtype: int64"
      ]
     },
     "execution_count": 5,
     "metadata": {},
     "output_type": "execute_result"
    }
   ],
   "source": [
    "card_df['Class'].value_counts()"
   ]
  },
  {
   "cell_type": "code",
   "execution_count": 6,
   "metadata": {
    "execution": {
     "iopub.execute_input": "2020-12-06T14:38:03.791053Z",
     "iopub.status.busy": "2020-12-06T14:38:03.790112Z",
     "iopub.status.idle": "2020-12-06T14:38:03.912325Z",
     "shell.execute_reply": "2020-12-06T14:38:03.911645Z"
    },
    "papermill": {
     "duration": 0.157148,
     "end_time": "2020-12-06T14:38:03.912464",
     "exception": false,
     "start_time": "2020-12-06T14:38:03.755316",
     "status": "completed"
    },
    "tags": []
   },
   "outputs": [],
   "source": [
    "# Time -> Drop \n",
    "# Class 0 -> 정상, 1 -> Fraud\n",
    "from sklearn.model_selection import train_test_split\n",
    "\n",
    "def get_preprocessed_df(df=None) :\n",
    "    df_copy = df.copy()\n",
    "    df_copy.drop('Time', axis=1, inplace=True)\n",
    "    return df_copy"
   ]
  },
  {
   "cell_type": "code",
   "execution_count": 7,
   "metadata": {
    "execution": {
     "iopub.execute_input": "2020-12-06T14:38:03.978077Z",
     "iopub.status.busy": "2020-12-06T14:38:03.976568Z",
     "iopub.status.idle": "2020-12-06T14:38:04.365985Z",
     "shell.execute_reply": "2020-12-06T14:38:04.365331Z"
    },
    "papermill": {
     "duration": 0.425616,
     "end_time": "2020-12-06T14:38:04.366125",
     "exception": false,
     "start_time": "2020-12-06T14:38:03.940509",
     "status": "completed"
    },
    "tags": []
   },
   "outputs": [],
   "source": [
    "def get_train_test_dataset(df=None) :\n",
    "    df_copy = get_preprocessed_df(df)\n",
    "    x_features = df_copy.iloc[:, :-1]\n",
    "    y_labels = df_copy.iloc[:, -1]\n",
    "    \n",
    "    x_train, x_test, y_train, y_test = train_test_split(x_features, y_labels, test_size=0.3, stratify=y_labels)\n",
    "    return x_train, x_test, y_train, y_test\n",
    "\n",
    "x_train, x_test, y_train, y_test = get_train_test_dataset(card_df)"
   ]
  },
  {
   "cell_type": "code",
   "execution_count": 8,
   "metadata": {
    "execution": {
     "iopub.execute_input": "2020-12-06T14:38:04.429177Z",
     "iopub.status.busy": "2020-12-06T14:38:04.428203Z",
     "iopub.status.idle": "2020-12-06T14:38:04.456354Z",
     "shell.execute_reply": "2020-12-06T14:38:04.455404Z"
    },
    "papermill": {
     "duration": 0.062015,
     "end_time": "2020-12-06T14:38:04.456529",
     "exception": false,
     "start_time": "2020-12-06T14:38:04.394514",
     "status": "completed"
    },
    "tags": []
   },
   "outputs": [
    {
     "name": "stdout",
     "output_type": "stream",
     "text": [
      "0    99.827451\n",
      "1     0.172549\n",
      "Name: Class, dtype: float64\n",
      "0    99.826785\n",
      "1     0.173215\n",
      "Name: Class, dtype: float64\n"
     ]
    }
   ],
   "source": [
    "print(y_train.value_counts() / y_train.shape[0] * 100)\n",
    "print(y_test.value_counts() / y_test.shape[0] * 100)"
   ]
  },
  {
   "cell_type": "code",
   "execution_count": 9,
   "metadata": {
    "execution": {
     "iopub.execute_input": "2020-12-06T14:38:04.527117Z",
     "iopub.status.busy": "2020-12-06T14:38:04.525510Z",
     "iopub.status.idle": "2020-12-06T14:38:07.309123Z",
     "shell.execute_reply": "2020-12-06T14:38:07.308194Z"
    },
    "papermill": {
     "duration": 2.822421,
     "end_time": "2020-12-06T14:38:07.309299",
     "exception": false,
     "start_time": "2020-12-06T14:38:04.486878",
     "status": "completed"
    },
    "tags": []
   },
   "outputs": [
    {
     "name": "stderr",
     "output_type": "stream",
     "text": [
      "/opt/conda/lib/python3.7/site-packages/sklearn/linear_model/_logistic.py:764: ConvergenceWarning: lbfgs failed to converge (status=1):\n",
      "STOP: TOTAL NO. of ITERATIONS REACHED LIMIT.\n",
      "\n",
      "Increase the number of iterations (max_iter) or scale the data as shown in:\n",
      "    https://scikit-learn.org/stable/modules/preprocessing.html\n",
      "Please also refer to the documentation for alternative solver options:\n",
      "    https://scikit-learn.org/stable/modules/linear_model.html#logistic-regression\n",
      "  extra_warning_msg=_LOGISTIC_SOLVER_CONVERGENCE_MSG)\n"
     ]
    },
    {
     "name": "stdout",
     "output_type": "stream",
     "text": [
      "Confusion Matrix\n",
      "[[85267    28]\n",
      " [   62    86]]\n",
      "Accuracy: 0.9989, Precision: 0.7544, Recall: 0.5811, f1-score:  0.6565\n"
     ]
    }
   ],
   "source": [
    "from sklearn.linear_model import LogisticRegression\n",
    "from sklearn.metrics import accuracy_score, precision_score, recall_score, roc_auc_score\n",
    "from sklearn.metrics import f1_score, confusion_matrix, precision_recall_curve, roc_curve\n",
    "\n",
    "def get_clf_eval(y_test, pred) :\n",
    "    confusion = confusion_matrix(y_test, pred)\n",
    "    accuracy = accuracy_score(y_test, pred)\n",
    "    precision = precision_score(y_test, pred)\n",
    "    recall = recall_score(y_test, pred)\n",
    "    f1 = f1_score(y_test, pred)\n",
    "    print('Confusion Matrix')\n",
    "    print(confusion)\n",
    "    print('Accuracy: {0:.4f}, Precision: {1:.4f}, Recall: {2:.4f}, f1-score: {3: .4f}'.format(accuracy, precision, recall, f1))\n",
    "\n",
    "lr_clf = LogisticRegression()\n",
    "lr_clf.fit(x_train, y_train)\n",
    "lr_pred = lr_clf.predict(x_test)\n",
    "get_clf_eval(y_test, lr_pred)"
   ]
  },
  {
   "cell_type": "code",
   "execution_count": 10,
   "metadata": {
    "execution": {
     "iopub.execute_input": "2020-12-06T14:38:07.377725Z",
     "iopub.status.busy": "2020-12-06T14:38:07.376971Z",
     "iopub.status.idle": "2020-12-06T14:38:07.380190Z",
     "shell.execute_reply": "2020-12-06T14:38:07.379454Z"
    },
    "papermill": {
     "duration": 0.039615,
     "end_time": "2020-12-06T14:38:07.380313",
     "exception": false,
     "start_time": "2020-12-06T14:38:07.340698",
     "status": "completed"
    },
    "tags": []
   },
   "outputs": [],
   "source": [
    "# 인자로 Estimator 객체와 학습/테스트 데이터 셋을 입력 받아 학습/평가를 진행함.\n",
    "def get_model_train_eval(model, ftr_train=None, ftr_test=None, tgt_train=None, tgt_test=None) :\n",
    "    model.fit(ftr_train, tgt_train)\n",
    "    pred = model.predict(ftr_test)\n",
    "    get_clf_eval(tgt_test, pred)"
   ]
  },
  {
   "cell_type": "code",
   "execution_count": 11,
   "metadata": {
    "execution": {
     "iopub.execute_input": "2020-12-06T14:38:07.447947Z",
     "iopub.status.busy": "2020-12-06T14:38:07.447195Z",
     "iopub.status.idle": "2020-12-06T14:38:23.988207Z",
     "shell.execute_reply": "2020-12-06T14:38:23.988888Z"
    },
    "papermill": {
     "duration": 16.578579,
     "end_time": "2020-12-06T14:38:23.989118",
     "exception": false,
     "start_time": "2020-12-06T14:38:07.410539",
     "status": "completed"
    },
    "tags": []
   },
   "outputs": [
    {
     "data": {
      "text/html": [
       "<style type='text/css'>\n",
       ".datatable table.frame { margin-bottom: 0; }\n",
       ".datatable table.frame thead { border-bottom: none; }\n",
       ".datatable table.frame tr.coltypes td {  color: #FFFFFF;  line-height: 6px;  padding: 0 0.5em;}\n",
       ".datatable .bool    { background: #DDDD99; }\n",
       ".datatable .object  { background: #565656; }\n",
       ".datatable .int     { background: #5D9E5D; }\n",
       ".datatable .float   { background: #4040CC; }\n",
       ".datatable .str     { background: #CC4040; }\n",
       ".datatable .row_index {  background: var(--jp-border-color3);  border-right: 1px solid var(--jp-border-color0);  color: var(--jp-ui-font-color3);  font-size: 9px;}\n",
       ".datatable .frame tr.coltypes .row_index {  background: var(--jp-border-color0);}\n",
       ".datatable th:nth-child(2) { padding-left: 12px; }\n",
       ".datatable .hellipsis {  color: var(--jp-cell-editor-border-color);}\n",
       ".datatable .vellipsis {  background: var(--jp-layout-color0);  color: var(--jp-cell-editor-border-color);}\n",
       ".datatable .na {  color: var(--jp-cell-editor-border-color);  font-size: 80%;}\n",
       ".datatable .footer { font-size: 9px; }\n",
       ".datatable .frame_dimensions {  background: var(--jp-border-color3);  border-top: 1px solid var(--jp-border-color0);  color: var(--jp-ui-font-color3);  display: inline-block;  opacity: 0.6;  padding: 1px 10px 1px 5px;}\n",
       ".datatable .frame thead tr.colnames {  background-image: url('data:image/png;base64,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');  background-repeat: repeat-x;  background-size: 14px;  height: 28px;}\n",
       "</style>\n"
      ],
      "text/plain": [
       "<IPython.core.display.HTML object>"
      ]
     },
     "metadata": {},
     "output_type": "display_data"
    },
    {
     "name": "stdout",
     "output_type": "stream",
     "text": [
      "Confusion Matrix\n",
      "[[85287     8]\n",
      " [   33   115]]\n",
      "Accuracy: 0.9995, Precision: 0.9350, Recall: 0.7770, f1-score:  0.8487\n"
     ]
    }
   ],
   "source": [
    "from lightgbm import LGBMClassifier\n",
    "\n",
    "lgbm_clf = LGBMClassifier(n_estimators=1000, num_leaves=64, n_jobs=-1, boost_from_average=False, tree_method='gpu_exact')\n",
    "get_model_train_eval(lgbm_clf, x_train, x_test, y_train, y_test)"
   ]
  },
  {
   "cell_type": "markdown",
   "metadata": {
    "papermill": {
     "duration": 0.031052,
     "end_time": "2020-12-06T14:38:24.052617",
     "exception": false,
     "start_time": "2020-12-06T14:38:24.021565",
     "status": "completed"
    },
    "tags": []
   },
   "source": [
    "# *Model Training/Prediction/Evaluation after data distribution transformation*"
   ]
  },
  {
   "cell_type": "code",
   "execution_count": 12,
   "metadata": {
    "execution": {
     "iopub.execute_input": "2020-12-06T14:38:24.122534Z",
     "iopub.status.busy": "2020-12-06T14:38:24.121651Z",
     "iopub.status.idle": "2020-12-06T14:38:24.591985Z",
     "shell.execute_reply": "2020-12-06T14:38:24.591214Z"
    },
    "papermill": {
     "duration": 0.507998,
     "end_time": "2020-12-06T14:38:24.592109",
     "exception": false,
     "start_time": "2020-12-06T14:38:24.084111",
     "status": "completed"
    },
    "tags": []
   },
   "outputs": [
    {
     "data": {
      "text/plain": [
       "<matplotlib.axes._subplots.AxesSubplot at 0x7fdb88ee60d0>"
      ]
     },
     "execution_count": 12,
     "metadata": {},
     "output_type": "execute_result"
    },
    {
     "data": {
      "image/png": "[encoded data removed]",
      "text/plain": [
       "<Figure size 576x288 with 1 Axes>"
      ]
     },
     "metadata": {
      "needs_background": "light"
     },
     "output_type": "display_data"
    }
   ],
   "source": [
    "plt.figure(figsize=(8, 4))\n",
    "plt.xticks(range(0, 30000, 1000), rotation=60)\n",
    "sns.distplot(card_df['Amount'])"
   ]
  },
  {
   "cell_type": "markdown",
   "metadata": {
    "papermill": {
     "duration": 0.032402,
     "end_time": "2020-12-06T14:38:24.657599",
     "exception": false,
     "start_time": "2020-12-06T14:38:24.625197",
     "status": "completed"
    },
    "tags": []
   },
   "source": [
    "### *StandardScaler*"
   ]
  },
  {
   "cell_type": "code",
   "execution_count": 13,
   "metadata": {
    "execution": {
     "iopub.execute_input": "2020-12-06T14:38:24.733171Z",
     "iopub.status.busy": "2020-12-06T14:38:24.732151Z",
     "iopub.status.idle": "2020-12-06T14:38:24.735350Z",
     "shell.execute_reply": "2020-12-06T14:38:24.734734Z"
    },
    "papermill": {
     "duration": 0.045061,
     "end_time": "2020-12-06T14:38:24.735478",
     "exception": false,
     "start_time": "2020-12-06T14:38:24.690417",
     "status": "completed"
    },
    "tags": []
   },
   "outputs": [],
   "source": [
    "# Amount 값을 표준 졍규 분포로 변환시켜준다.\n",
    "from sklearn.preprocessing import StandardScaler\n",
    "\n",
    "def get_preprocessed_df(df=None) :\n",
    "    df_copy = df.copy()\n",
    "    scaler = StandardScaler()\n",
    "    amount_n = scaler.fit_transform(df_copy['Amount'].values.reshape(-1, 1))\n",
    "    df_copy.insert(0, 'Amount_Scaled', amount_n)\n",
    "    df_copy.drop(['Time', 'Amount'], axis=1, inplace=True)\n",
    "    return df_copy"
   ]
  },
  {
   "cell_type": "code",
   "execution_count": 14,
   "metadata": {
    "execution": {
     "iopub.execute_input": "2020-12-06T14:38:24.807262Z",
     "iopub.status.busy": "2020-12-06T14:38:24.806449Z",
     "iopub.status.idle": "2020-12-06T14:38:25.233856Z",
     "shell.execute_reply": "2020-12-06T14:38:25.233206Z"
    },
    "papermill": {
     "duration": 0.46537,
     "end_time": "2020-12-06T14:38:25.233994",
     "exception": false,
     "start_time": "2020-12-06T14:38:24.768624",
     "status": "completed"
    },
    "tags": []
   },
   "outputs": [],
   "source": [
    "x_train, x_test, y_train, y_test = get_train_test_dataset(card_df)"
   ]
  },
  {
   "cell_type": "code",
   "execution_count": 15,
   "metadata": {
    "execution": {
     "iopub.execute_input": "2020-12-06T14:38:25.352211Z",
     "iopub.status.busy": "2020-12-06T14:38:25.351045Z",
     "iopub.status.idle": "2020-12-06T14:38:45.140104Z",
     "shell.execute_reply": "2020-12-06T14:38:45.139401Z"
    },
    "papermill": {
     "duration": 19.848788,
     "end_time": "2020-12-06T14:38:45.140235",
     "exception": false,
     "start_time": "2020-12-06T14:38:25.291447",
     "status": "completed"
    },
    "tags": []
   },
   "outputs": [
    {
     "name": "stdout",
     "output_type": "stream",
     "text": [
      "Confusion Matrix\n",
      "[[85282    13]\n",
      " [   58    90]]\n",
      "Accuracy: 0.9992, Precision: 0.8738, Recall: 0.6081, f1-score:  0.7171\n",
      "Confusion Matrix\n",
      "[[85292     3]\n",
      " [   34   114]]\n",
      "Accuracy: 0.9996, Precision: 0.9744, Recall: 0.7703, f1-score:  0.8604\n"
     ]
    }
   ],
   "source": [
    "lr_clf = LogisticRegression()\n",
    "get_model_train_eval(lr_clf, x_train, x_test, y_train, y_test)\n",
    "\n",
    "lgbm_clf = LGBMClassifier(n_estimators=1000, num_leaves=64, n_jobs=-1, boost_from_average=False, tree_method='gpu_exact')\n",
    "get_model_train_eval(lgbm_clf, x_train, x_test, y_train, y_test)"
   ]
  },
  {
   "cell_type": "markdown",
   "metadata": {
    "papermill": {
     "duration": 0.033966,
     "end_time": "2020-12-06T14:38:45.208853",
     "exception": false,
     "start_time": "2020-12-06T14:38:45.174887",
     "status": "completed"
    },
    "tags": []
   },
   "source": [
    "### *log1p*"
   ]
  },
  {
   "cell_type": "code",
   "execution_count": 16,
   "metadata": {
    "execution": {
     "iopub.execute_input": "2020-12-06T14:38:45.285217Z",
     "iopub.status.busy": "2020-12-06T14:38:45.284158Z",
     "iopub.status.idle": "2020-12-06T14:38:45.287604Z",
     "shell.execute_reply": "2020-12-06T14:38:45.286888Z"
    },
    "papermill": {
     "duration": 0.044607,
     "end_time": "2020-12-06T14:38:45.287732",
     "exception": false,
     "start_time": "2020-12-06T14:38:45.243125",
     "status": "completed"
    },
    "tags": []
   },
   "outputs": [],
   "source": [
    "def get_preprocessed_df(df=None) :\n",
    "    df_copy = df.copy()\n",
    "    amount_n = np.log1p(df_copy['Amount'])\n",
    "    df_copy.insert(0, 'Amount_Scaled', amount_n)\n",
    "    df_copy.drop(['Time', 'Amount'], axis=1, inplace=True)\n",
    "    return df_copy"
   ]
  },
  {
   "cell_type": "code",
   "execution_count": 17,
   "metadata": {
    "execution": {
     "iopub.execute_input": "2020-12-06T14:38:45.364911Z",
     "iopub.status.busy": "2020-12-06T14:38:45.364127Z",
     "iopub.status.idle": "2020-12-06T14:39:06.450367Z",
     "shell.execute_reply": "2020-12-06T14:39:06.450938Z"
    },
    "papermill": {
     "duration": 21.128685,
     "end_time": "2020-12-06T14:39:06.451103",
     "exception": false,
     "start_time": "2020-12-06T14:38:45.322418",
     "status": "completed"
    },
    "tags": []
   },
   "outputs": [
    {
     "name": "stdout",
     "output_type": "stream",
     "text": [
      "Confusion Matrix\n",
      "[[85283    12]\n",
      " [   57    91]]\n",
      "Accuracy: 0.9992, Precision: 0.8835, Recall: 0.6149, f1-score:  0.7251\n",
      "Confusion Matrix\n",
      "[[85289     6]\n",
      " [   30   118]]\n",
      "Accuracy: 0.9996, Precision: 0.9516, Recall: 0.7973, f1-score:  0.8676\n"
     ]
    }
   ],
   "source": [
    "x_train, x_test, y_train, y_test = get_train_test_dataset(card_df)\n",
    "\n",
    "lr_clf = LogisticRegression()\n",
    "get_model_train_eval(lr_clf, x_train, x_test, y_train, y_test)\n",
    "\n",
    "lgbm_clf = LGBMClassifier(n_estimators=1000, num_leaves=64, n_jobs=-1, boost_from_average=False, tree_method='gpu_exact', verbose=1)\n",
    "get_model_train_eval(lgbm_clf, x_train, x_test, y_train, y_test)"
   ]
  },
  {
   "cell_type": "markdown",
   "metadata": {
    "papermill": {
     "duration": 0.035442,
     "end_time": "2020-12-06T14:39:06.522603",
     "exception": false,
     "start_time": "2020-12-06T14:39:06.487161",
     "status": "completed"
    },
    "tags": []
   },
   "source": [
    "# *Model Training/Prediction/Evaluation after removing outlier data*"
   ]
  },
  {
   "cell_type": "code",
   "execution_count": 18,
   "metadata": {
    "execution": {
     "iopub.execute_input": "2020-12-06T14:39:06.601852Z",
     "iopub.status.busy": "2020-12-06T14:39:06.601088Z",
     "iopub.status.idle": "2020-12-06T14:39:07.910182Z",
     "shell.execute_reply": "2020-12-06T14:39:07.909429Z"
    },
    "papermill": {
     "duration": 1.351556,
     "end_time": "2020-12-06T14:39:07.910306",
     "exception": false,
     "start_time": "2020-12-06T14:39:06.558750",
     "status": "completed"
    },
    "tags": []
   },
   "outputs": [
    {
     "data": {
      "text/plain": [
       "<matplotlib.axes._subplots.AxesSubplot at 0x7fdb88ee6790>"
      ]
     },
     "execution_count": 18,
     "metadata": {},
     "output_type": "execute_result"
    },
    {
     "data": {
      "image/png": "[encoded data removed]",
      "text/plain": [
       "<Figure size 720x864 with 2 Axes>"
      ]
     },
     "metadata": {
      "needs_background": "light"
     },
     "output_type": "display_data"
    }
   ],
   "source": [
    "plt.figure(figsize=(10, 12))\n",
    "corr = card_df.corr()\n",
    "sns.heatmap(corr, cmap='RdBu')"
   ]
  },
  {
   "cell_type": "code",
   "execution_count": 19,
   "metadata": {
    "execution": {
     "iopub.execute_input": "2020-12-06T14:39:07.995351Z",
     "iopub.status.busy": "2020-12-06T14:39:07.994319Z",
     "iopub.status.idle": "2020-12-06T14:39:07.997976Z",
     "shell.execute_reply": "2020-12-06T14:39:07.997241Z"
    },
    "papermill": {
     "duration": 0.050008,
     "end_time": "2020-12-06T14:39:07.998100",
     "exception": false,
     "start_time": "2020-12-06T14:39:07.948092",
     "status": "completed"
    },
    "tags": []
   },
   "outputs": [],
   "source": [
    "def get_outlier(df=None, column=None, weight=1.5) :\n",
    "    fraud = df[df.Class == 1][column]\n",
    "    q_25 = np.percentile(fraud.values, 25)\n",
    "    q_75 = np.percentile(fraud.values, 75)\n",
    "    \n",
    "    iqr = q_75 - q_25\n",
    "    iqr_weight = iqr * weight\n",
    "    lowest_val = q_25 - iqr_weight\n",
    "    highest_val = q_75 + iqr_weight\n",
    "    \n",
    "    outlier_index = fraud[(fraud < lowest_val) | (fraud > highest_val)].index\n",
    "    return outlier_index"
   ]
  },
  {
   "cell_type": "code",
   "execution_count": 20,
   "metadata": {
    "execution": {
     "iopub.execute_input": "2020-12-06T14:39:08.079931Z",
     "iopub.status.busy": "2020-12-06T14:39:08.079157Z",
     "iopub.status.idle": "2020-12-06T14:39:08.088949Z",
     "shell.execute_reply": "2020-12-06T14:39:08.087968Z"
    },
    "papermill": {
     "duration": 0.05335,
     "end_time": "2020-12-06T14:39:08.089114",
     "exception": false,
     "start_time": "2020-12-06T14:39:08.035764",
     "status": "completed"
    },
    "tags": []
   },
   "outputs": [
    {
     "name": "stdout",
     "output_type": "stream",
     "text": [
      "Int64Index([8296, 8615, 9035, 9252], dtype='int64')\n"
     ]
    }
   ],
   "source": [
    "outlier_index = get_outlier(card_df, 'V14')\n",
    "print(outlier_index)"
   ]
  },
  {
   "cell_type": "code",
   "execution_count": 21,
   "metadata": {
    "execution": {
     "iopub.execute_input": "2020-12-06T14:39:08.175359Z",
     "iopub.status.busy": "2020-12-06T14:39:08.174305Z",
     "iopub.status.idle": "2020-12-06T14:39:08.177319Z",
     "shell.execute_reply": "2020-12-06T14:39:08.177934Z"
    },
    "papermill": {
     "duration": 0.050224,
     "end_time": "2020-12-06T14:39:08.178112",
     "exception": false,
     "start_time": "2020-12-06T14:39:08.127888",
     "status": "completed"
    },
    "tags": []
   },
   "outputs": [],
   "source": [
    "def get_preprocessed_df(df=None) :\n",
    "    df_copy = df.copy()\n",
    "    amount_n = np.log1p(df_copy['Amount'])\n",
    "    df_copy.insert(0, 'Amount_Scaled', amount_n)\n",
    "    df_copy.drop(['Time', 'Amount'], axis=1, inplace=True)\n",
    "    \n",
    "    outlier_index = get_outlier(card_df, 'V14')\n",
    "    df_copy.drop(outlier_index, axis=0, inplace=True)\n",
    "    return df_copy"
   ]
  },
  {
   "cell_type": "code",
   "execution_count": 22,
   "metadata": {
    "execution": {
     "iopub.execute_input": "2020-12-06T14:39:08.263176Z",
     "iopub.status.busy": "2020-12-06T14:39:08.262366Z",
     "iopub.status.idle": "2020-12-06T14:39:28.914917Z",
     "shell.execute_reply": "2020-12-06T14:39:28.914221Z"
    },
    "papermill": {
     "duration": 20.698351,
     "end_time": "2020-12-06T14:39:28.915049",
     "exception": false,
     "start_time": "2020-12-06T14:39:08.216698",
     "status": "completed"
    },
    "tags": []
   },
   "outputs": [
    {
     "name": "stdout",
     "output_type": "stream",
     "text": [
      "Confusion Matrix\n",
      "[[85284    11]\n",
      " [   67    79]]\n",
      "Accuracy: 0.9991, Precision: 0.8778, Recall: 0.5411, f1-score:  0.6695\n",
      "Confusion Matrix\n",
      "[[85289     6]\n",
      " [   38   108]]\n",
      "Accuracy: 0.9995, Precision: 0.9474, Recall: 0.7397, f1-score:  0.8308\n"
     ]
    }
   ],
   "source": [
    "x_train, x_test, y_train, y_test = get_train_test_dataset(card_df)\n",
    "\n",
    "lr_clf = LogisticRegression()\n",
    "get_model_train_eval(lr_clf, x_train, x_test, y_train, y_test)\n",
    "\n",
    "lgbm_clf = LGBMClassifier(n_estimators=1000, num_leaves=64, n_jobs=-1, boost_from_average=False, tree_method='gpu_exact', verbose=1)\n",
    "get_model_train_eval(lgbm_clf, x_train, x_test, y_train, y_test)"
   ]
  },
  {
   "cell_type": "markdown",
   "metadata": {
    "papermill": {
     "duration": 0.039584,
     "end_time": "2020-12-06T14:39:28.994345",
     "exception": false,
     "start_time": "2020-12-06T14:39:28.954761",
     "status": "completed"
    },
    "tags": []
   },
   "source": [
    "# *Model Training/Prediction/Evaluation after SMOTE Oversampling*"
   ]
  },
  {
   "cell_type": "code",
   "execution_count": 23,
   "metadata": {
    "execution": {
     "iopub.execute_input": "2020-12-06T14:39:29.080782Z",
     "iopub.status.busy": "2020-12-06T14:39:29.080069Z",
     "iopub.status.idle": "2020-12-06T14:39:29.732625Z",
     "shell.execute_reply": "2020-12-06T14:39:29.731721Z"
    },
    "papermill": {
     "duration": 0.698537,
     "end_time": "2020-12-06T14:39:29.732791",
     "exception": false,
     "start_time": "2020-12-06T14:39:29.034254",
     "status": "completed"
    },
    "tags": []
   },
   "outputs": [
    {
     "name": "stdout",
     "output_type": "stream",
     "text": [
      "0    199020\n",
      "1       342\n",
      "Name: Class, dtype: int64\n",
      "1    199020\n",
      "0    199020\n",
      "Name: Class, dtype: int64\n"
     ]
    }
   ],
   "source": [
    "from imblearn.over_sampling import SMOTE\n",
    "\n",
    "smote = SMOTE()\n",
    "x_train_over, y_train_over = smote.fit_sample(x_train, y_train)\n",
    "print(y_train.value_counts())\n",
    "print(pd.Series(y_train_over).value_counts())"
   ]
  },
  {
   "cell_type": "code",
   "execution_count": 24,
   "metadata": {
    "execution": {
     "iopub.execute_input": "2020-12-06T14:39:29.823734Z",
     "iopub.status.busy": "2020-12-06T14:39:29.822971Z",
     "iopub.status.idle": "2020-12-06T14:39:33.588525Z",
     "shell.execute_reply": "2020-12-06T14:39:33.587727Z"
    },
    "papermill": {
     "duration": 3.813633,
     "end_time": "2020-12-06T14:39:33.588654",
     "exception": false,
     "start_time": "2020-12-06T14:39:29.775021",
     "status": "completed"
    },
    "tags": []
   },
   "outputs": [
    {
     "name": "stdout",
     "output_type": "stream",
     "text": [
      "Confusion Matrix\n",
      "[[83579  1716]\n",
      " [   23   123]]\n",
      "Accuracy: 0.9796, Precision: 0.0669, Recall: 0.8425, f1-score:  0.1239\n"
     ]
    }
   ],
   "source": [
    "lr_clf = LogisticRegression()\n",
    "get_model_train_eval(lr_clf, x_train_over, x_test, y_train_over, y_test)"
   ]
  },
  {
   "cell_type": "code",
   "execution_count": 25,
   "metadata": {
    "execution": {
     "iopub.execute_input": "2020-12-06T14:39:33.681627Z",
     "iopub.status.busy": "2020-12-06T14:39:33.680544Z",
     "iopub.status.idle": "2020-12-06T14:39:33.684183Z",
     "shell.execute_reply": "2020-12-06T14:39:33.683396Z"
    },
    "papermill": {
     "duration": 0.054878,
     "end_time": "2020-12-06T14:39:33.684309",
     "exception": false,
     "start_time": "2020-12-06T14:39:33.629431",
     "status": "completed"
    },
    "tags": []
   },
   "outputs": [],
   "source": [
    "from sklearn.metrics import precision_recall_curve\n",
    "\n",
    "def precision_recall_curve_plot(y_test, pred_proba_c1) :\n",
    "    precisions, recalls, thresholds = precision_recall_curve(y_test, pred_proba_c1)\n",
    "    \n",
    "    plt.figure(figsize=(8, 6))\n",
    "    threshold_boundary = thresholds.shape[0]\n",
    "    \n",
    "    plt.plot(thresholds, precisions[0:threshold_boundary], linestyle='--', label='precision')\n",
    "    plt.plot(thresholds, recalls[0:threshold_boundary], label='recall')\n",
    "    \n",
    "    start, end = plt.xlim()\n",
    "    plt.xticks(np.round(np.arange(start, end, 0.1), 2))\n",
    "    plt.legend()\n",
    "    plt.grid()\n",
    "    plt.show()"
   ]
  },
  {
   "cell_type": "code",
   "execution_count": 26,
   "metadata": {
    "execution": {
     "iopub.execute_input": "2020-12-06T14:39:33.774373Z",
     "iopub.status.busy": "2020-12-06T14:39:33.773557Z",
     "iopub.status.idle": "2020-12-06T14:39:34.073294Z",
     "shell.execute_reply": "2020-12-06T14:39:34.072592Z"
    },
    "papermill": {
     "duration": 0.348436,
     "end_time": "2020-12-06T14:39:34.073435",
     "exception": false,
     "start_time": "2020-12-06T14:39:33.724999",
     "status": "completed"
    },
    "tags": []
   },
   "outputs": [
    {
     "data": {
      "image/png": "[encoded data removed]",
      "text/plain": [
       "<Figure size 576x432 with 1 Axes>"
      ]
     },
     "metadata": {
      "needs_background": "light"
     },
     "output_type": "display_data"
    }
   ],
   "source": [
    "precision_recall_curve_plot(y_test, lr_clf.predict_proba(x_test)[:, 1])"
   ]
  },
  {
   "cell_type": "code",
   "execution_count": 27,
   "metadata": {
    "execution": {
     "iopub.execute_input": "2020-12-06T14:39:34.164943Z",
     "iopub.status.busy": "2020-12-06T14:39:34.164183Z",
     "iopub.status.idle": "2020-12-06T14:40:16.593476Z",
     "shell.execute_reply": "2020-12-06T14:40:16.594168Z"
    },
    "papermill": {
     "duration": 42.478334,
     "end_time": "2020-12-06T14:40:16.594337",
     "exception": false,
     "start_time": "2020-12-06T14:39:34.116003",
     "status": "completed"
    },
    "tags": []
   },
   "outputs": [
    {
     "name": "stdout",
     "output_type": "stream",
     "text": [
      "Confusion Matrix\n",
      "[[85281    14]\n",
      " [   32   114]]\n",
      "Accuracy: 0.9995, Precision: 0.8906, Recall: 0.7808, f1-score:  0.8321\n"
     ]
    }
   ],
   "source": [
    "lgbm_clf = LGBMClassifier(n_estimators=1000, num_leaves=64, n_jobs=-1, boost_from_average=False, tree_method='gpu_exact', verbose=1)\n",
    "get_model_train_eval(lgbm_clf, x_train_over, x_test, y_train_over, y_test)"
   ]
  }
 ],
 "metadata": {
  "kernelspec": {
   "display_name": "Python 3",
   "language": "python",
   "name": "python3"
  },
  "language_info": {
   "codemirror_mode": {
    "name": "ipython",
    "version": 3
   },
   "file_extension": ".py",
   "mimetype": "text/x-python",
   "name": "python",
   "nbconvert_exporter": "python",
   "pygments_lexer": "ipython3",
   "version": "3.7.6"
  },
  "papermill": {
   "duration": 154.000269,
   "end_time": "2020-12-06T14:40:16.746451",
   "environment_variables": {},
   "exception": null,
   "input_path": "__notebook__.ipynb",
   "output_path": "__notebook__.ipynb",
   "parameters": {},
   "start_time": "2020-12-06T14:37:42.746182",
   "version": "2.1.0"
  }
 },
 "nbformat": 4,
 "nbformat_minor": 4
}
