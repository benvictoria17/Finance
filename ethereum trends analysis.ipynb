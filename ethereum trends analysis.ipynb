{
 "cells": [
  {
   "cell_type": "code",
   "execution_count": 1,
   "id": "63eb6871",
   "metadata": {
    "collapsed": false,
    "datalore": {
     "sheet_delimiter": false,
     "type": "CODE"
    },
    "execution": {
     "iopub.execute_input": "2022-02-12T17:55:49.229344Z",
     "iopub.status.busy": "2022-02-12T17:55:49.227551Z",
     "iopub.status.idle": "2022-02-12T17:56:02.843808Z",
     "shell.execute_reply": "2022-02-12T17:56:02.843106Z",
     "shell.execute_reply.started": "2022-02-12T17:46:57.538274Z"
    },
    "jupyter": {
     "outputs_hidden": false,
     "source_hidden": false
    },
    "papermill": {
     "duration": 13.652071,
     "end_time": "2022-02-12T17:56:02.843995",
     "exception": false,
     "start_time": "2022-02-12T17:55:49.191924",
     "status": "completed"
    },
    "tags": []
   },
   "outputs": [
    {
     "name": "stdout",
     "output_type": "stream",
     "text": [
      "Collecting mplfinance\r\n",
      "  Downloading mplfinance-0.12.8b9-py3-none-any.whl (70 kB)\r\n",
      "     |████████████████████████████████| 70 kB 309 kB/s            \r\n",
      "\u001b[?25hRequirement already satisfied: matplotlib in /opt/conda/lib/python3.7/site-packages (from mplfinance) (3.5.1)\r\n",
      "Requirement already satisfied: pandas in /opt/conda/lib/python3.7/site-packages (from mplfinance) (1.3.5)\r\n",
      "Requirement already satisfied: fonttools>=4.22.0 in /opt/conda/lib/python3.7/site-packages (from matplotlib->mplfinance) (4.28.4)\r\n",
      "Requirement already satisfied: kiwisolver>=1.0.1 in /opt/conda/lib/python3.7/site-packages (from matplotlib->mplfinance) (1.3.2)\r\n",
      "Requirement already satisfied: python-dateutil>=2.7 in /opt/conda/lib/python3.7/site-packages (from matplotlib->mplfinance) (2.8.2)\r\n",
      "Requirement already satisfied: numpy>=1.17 in /opt/conda/lib/python3.7/site-packages (from matplotlib->mplfinance) (1.20.3)\r\n",
      "Requirement already satisfied: packaging>=20.0 in /opt/conda/lib/python3.7/site-packages (from matplotlib->mplfinance) (21.3)\r\n",
      "Requirement already satisfied: pillow>=6.2.0 in /opt/conda/lib/python3.7/site-packages (from matplotlib->mplfinance) (8.2.0)\r\n",
      "Requirement already satisfied: pyparsing>=2.2.1 in /opt/conda/lib/python3.7/site-packages (from matplotlib->mplfinance) (3.0.6)\r\n",
      "Requirement already satisfied: cycler>=0.10 in /opt/conda/lib/python3.7/site-packages (from matplotlib->mplfinance) (0.11.0)\r\n",
      "Requirement already satisfied: pytz>=2017.3 in /opt/conda/lib/python3.7/site-packages (from pandas->mplfinance) (2021.3)\r\n",
      "Requirement already satisfied: six>=1.5 in /opt/conda/lib/python3.7/site-packages (from python-dateutil>=2.7->matplotlib->mplfinance) (1.16.0)\r\n",
      "Installing collected packages: mplfinance\r\n",
      "Successfully installed mplfinance-0.12.8b9\r\n",
      "\u001b[33mWARNING: Running pip as the 'root' user can result in broken permissions and conflicting behaviour with the system package manager. It is recommended to use a virtual environment instead: https://pip.pypa.io/warnings/venv\u001b[0m\r\n"
     ]
    }
   ],
   "source": [
    "!pip3 install mplfinance\n",
    "import numpy as np\n",
    "import pandas as pd\n",
    "import matplotlib.pyplot as plt\n",
    "import seaborn as sns\n",
    "from mplfinance.original_flavor import candlestick2_ohlc\n",
    "import matplotlib.dates as mpl_date"
   ]
  },
  {
   "cell_type": "code",
   "execution_count": 2,
   "id": "7b95a6a3",
   "metadata": {
    "collapsed": false,
    "datalore": {
     "sheet_delimiter": false,
     "type": "CODE"
    },
    "execution": {
     "iopub.execute_input": "2022-02-12T17:56:02.898203Z",
     "iopub.status.busy": "2022-02-12T17:56:02.897456Z",
     "iopub.status.idle": "2022-02-12T17:56:03.503476Z",
     "shell.execute_reply": "2022-02-12T17:56:03.504034Z",
     "shell.execute_reply.started": "2022-02-12T17:47:06.270317Z"
    },
    "jupyter": {
     "outputs_hidden": false,
     "source_hidden": false
    },
    "papermill": {
     "duration": 0.634441,
     "end_time": "2022-02-12T17:56:03.504206",
     "exception": false,
     "start_time": "2022-02-12T17:56:02.869765",
     "status": "completed"
    },
    "tags": []
   },
   "outputs": [],
   "source": [
    "df = pd.read_csv(\"https://raw.githubusercontent.com/benvictoria17/AnalyzeStocks/master/dataset/Ethereum%20Data/ETH-USD.csv\", parse_dates=True)"
   ]
  },
  {
   "cell_type": "code",
   "execution_count": 3,
   "id": "29173275",
   "metadata": {
    "collapsed": false,
    "datalore": {
     "sheet_delimiter": false,
     "type": "CODE"
    },
    "execution": {
     "iopub.execute_input": "2022-02-12T17:56:03.557690Z",
     "iopub.status.busy": "2022-02-12T17:56:03.557054Z",
     "iopub.status.idle": "2022-02-12T17:56:03.571723Z",
     "shell.execute_reply": "2022-02-12T17:56:03.572272Z",
     "shell.execute_reply.started": "2022-02-12T17:47:06.871133Z"
    },
    "jupyter": {
     "outputs_hidden": false,
     "source_hidden": false
    },
    "papermill": {
     "duration": 0.043184,
     "end_time": "2022-02-12T17:56:03.572446",
     "exception": false,
     "start_time": "2022-02-12T17:56:03.529262",
     "status": "completed"
    },
    "tags": []
   },
   "outputs": [],
   "source": [
    "df = df.drop(columns=[\"Adj Close\"])"
   ]
  },
  {
   "cell_type": "code",
   "execution_count": 4,
   "id": "ce9b93bb",
   "metadata": {
    "collapsed": false,
    "datalore": {
     "sheet_delimiter": false,
     "type": "CODE"
    },
    "execution": {
     "iopub.execute_input": "2022-02-12T17:56:03.626147Z",
     "iopub.status.busy": "2022-02-12T17:56:03.625464Z",
     "iopub.status.idle": "2022-02-12T17:56:03.644209Z",
     "shell.execute_reply": "2022-02-12T17:56:03.644723Z",
     "shell.execute_reply.started": "2022-02-12T17:47:06.877301Z"
    },
    "jupyter": {
     "outputs_hidden": false,
     "source_hidden": false
    },
    "papermill": {
     "duration": 0.04743,
     "end_time": "2022-02-12T17:56:03.644899",
     "exception": false,
     "start_time": "2022-02-12T17:56:03.597469",
     "status": "completed"
    },
    "tags": []
   },
   "outputs": [
    {
     "data": {
      "text/html": [
       "<div>\n",
       "<style scoped>\n",
       "    .dataframe tbody tr th:only-of-type {\n",
       "        vertical-align: middle;\n",
       "    }\n",
       "\n",
       "    .dataframe tbody tr th {\n",
       "        vertical-align: top;\n",
       "    }\n",
       "\n",
       "    .dataframe thead th {\n",
       "        text-align: right;\n",
       "    }\n",
       "</style>\n",
       "<table border=\"1\" class=\"dataframe\">\n",
       "  <thead>\n",
       "    <tr style=\"text-align: right;\">\n",
       "      <th></th>\n",
       "      <th>Date</th>\n",
       "      <th>Open</th>\n",
       "      <th>High</th>\n",
       "      <th>Low</th>\n",
       "      <th>Close</th>\n",
       "      <th>Volume</th>\n",
       "    </tr>\n",
       "  </thead>\n",
       "  <tbody>\n",
       "    <tr>\n",
       "      <th>0</th>\n",
       "      <td>2015-08-07</td>\n",
       "      <td>2.831620</td>\n",
       "      <td>3.536610</td>\n",
       "      <td>2.521120</td>\n",
       "      <td>2.772120</td>\n",
       "      <td>164329.0</td>\n",
       "    </tr>\n",
       "    <tr>\n",
       "      <th>1</th>\n",
       "      <td>2015-08-08</td>\n",
       "      <td>2.793760</td>\n",
       "      <td>2.798810</td>\n",
       "      <td>0.714725</td>\n",
       "      <td>0.753325</td>\n",
       "      <td>674188.0</td>\n",
       "    </tr>\n",
       "    <tr>\n",
       "      <th>2</th>\n",
       "      <td>2015-08-09</td>\n",
       "      <td>0.706136</td>\n",
       "      <td>0.879810</td>\n",
       "      <td>0.629191</td>\n",
       "      <td>0.701897</td>\n",
       "      <td>532170.0</td>\n",
       "    </tr>\n",
       "    <tr>\n",
       "      <th>3</th>\n",
       "      <td>2015-08-10</td>\n",
       "      <td>0.713989</td>\n",
       "      <td>0.729854</td>\n",
       "      <td>0.636546</td>\n",
       "      <td>0.708448</td>\n",
       "      <td>405283.0</td>\n",
       "    </tr>\n",
       "    <tr>\n",
       "      <th>4</th>\n",
       "      <td>2015-08-11</td>\n",
       "      <td>0.708087</td>\n",
       "      <td>1.131410</td>\n",
       "      <td>0.663235</td>\n",
       "      <td>1.067860</td>\n",
       "      <td>1463100.0</td>\n",
       "    </tr>\n",
       "  </tbody>\n",
       "</table>\n",
       "</div>"
      ],
      "text/plain": [
       "         Date      Open      High       Low     Close     Volume\n",
       "0  2015-08-07  2.831620  3.536610  2.521120  2.772120   164329.0\n",
       "1  2015-08-08  2.793760  2.798810  0.714725  0.753325   674188.0\n",
       "2  2015-08-09  0.706136  0.879810  0.629191  0.701897   532170.0\n",
       "3  2015-08-10  0.713989  0.729854  0.636546  0.708448   405283.0\n",
       "4  2015-08-11  0.708087  1.131410  0.663235  1.067860  1463100.0"
      ]
     },
     "execution_count": 4,
     "metadata": {},
     "output_type": "execute_result"
    }
   ],
   "source": [
    "df.head()"
   ]
  },
  {
   "cell_type": "code",
   "execution_count": 5,
   "id": "b52539d9",
   "metadata": {
    "collapsed": false,
    "datalore": {
     "sheet_delimiter": false,
     "type": "CODE"
    },
    "execution": {
     "iopub.execute_input": "2022-02-12T17:56:03.698808Z",
     "iopub.status.busy": "2022-02-12T17:56:03.698162Z",
     "iopub.status.idle": "2022-02-12T17:56:03.728507Z",
     "shell.execute_reply": "2022-02-12T17:56:03.727952Z",
     "shell.execute_reply.started": "2022-02-12T17:47:06.902047Z"
    },
    "jupyter": {
     "outputs_hidden": false,
     "source_hidden": false
    },
    "papermill": {
     "duration": 0.058253,
     "end_time": "2022-02-12T17:56:03.728659",
     "exception": false,
     "start_time": "2022-02-12T17:56:03.670406",
     "status": "completed"
    },
    "tags": []
   },
   "outputs": [
    {
     "data": {
      "text/html": [
       "<div>\n",
       "<style scoped>\n",
       "    .dataframe tbody tr th:only-of-type {\n",
       "        vertical-align: middle;\n",
       "    }\n",
       "\n",
       "    .dataframe tbody tr th {\n",
       "        vertical-align: top;\n",
       "    }\n",
       "\n",
       "    .dataframe thead th {\n",
       "        text-align: right;\n",
       "    }\n",
       "</style>\n",
       "<table border=\"1\" class=\"dataframe\">\n",
       "  <thead>\n",
       "    <tr style=\"text-align: right;\">\n",
       "      <th></th>\n",
       "      <th>Open</th>\n",
       "      <th>High</th>\n",
       "      <th>Low</th>\n",
       "      <th>Close</th>\n",
       "      <th>Volume</th>\n",
       "    </tr>\n",
       "  </thead>\n",
       "  <tbody>\n",
       "    <tr>\n",
       "      <th>count</th>\n",
       "      <td>2208.000000</td>\n",
       "      <td>2208.000000</td>\n",
       "      <td>2208.000000</td>\n",
       "      <td>2208.000000</td>\n",
       "      <td>2.208000e+03</td>\n",
       "    </tr>\n",
       "    <tr>\n",
       "      <th>mean</th>\n",
       "      <td>433.578981</td>\n",
       "      <td>450.619491</td>\n",
       "      <td>414.840862</td>\n",
       "      <td>434.914512</td>\n",
       "      <td>7.348590e+09</td>\n",
       "    </tr>\n",
       "    <tr>\n",
       "      <th>std</th>\n",
       "      <td>683.498443</td>\n",
       "      <td>713.295560</td>\n",
       "      <td>650.311554</td>\n",
       "      <td>685.738356</td>\n",
       "      <td>1.075435e+10</td>\n",
       "    </tr>\n",
       "    <tr>\n",
       "      <th>min</th>\n",
       "      <td>0.431589</td>\n",
       "      <td>0.482988</td>\n",
       "      <td>0.420897</td>\n",
       "      <td>0.434829</td>\n",
       "      <td>1.021280e+05</td>\n",
       "    </tr>\n",
       "    <tr>\n",
       "      <th>25%</th>\n",
       "      <td>14.167250</td>\n",
       "      <td>14.561175</td>\n",
       "      <td>13.567750</td>\n",
       "      <td>14.260150</td>\n",
       "      <td>4.256840e+07</td>\n",
       "    </tr>\n",
       "    <tr>\n",
       "      <th>50%</th>\n",
       "      <td>203.964431</td>\n",
       "      <td>210.450729</td>\n",
       "      <td>196.916908</td>\n",
       "      <td>203.912002</td>\n",
       "      <td>2.290465e+09</td>\n",
       "    </tr>\n",
       "    <tr>\n",
       "      <th>75%</th>\n",
       "      <td>408.495575</td>\n",
       "      <td>418.961944</td>\n",
       "      <td>394.578835</td>\n",
       "      <td>409.866516</td>\n",
       "      <td>1.029495e+10</td>\n",
       "    </tr>\n",
       "    <tr>\n",
       "      <th>max</th>\n",
       "      <td>4174.635742</td>\n",
       "      <td>4362.350586</td>\n",
       "      <td>3785.848633</td>\n",
       "      <td>4168.701172</td>\n",
       "      <td>8.448291e+10</td>\n",
       "    </tr>\n",
       "  </tbody>\n",
       "</table>\n",
       "</div>"
      ],
      "text/plain": [
       "              Open         High          Low        Close        Volume\n",
       "count  2208.000000  2208.000000  2208.000000  2208.000000  2.208000e+03\n",
       "mean    433.578981   450.619491   414.840862   434.914512  7.348590e+09\n",
       "std     683.498443   713.295560   650.311554   685.738356  1.075435e+10\n",
       "min       0.431589     0.482988     0.420897     0.434829  1.021280e+05\n",
       "25%      14.167250    14.561175    13.567750    14.260150  4.256840e+07\n",
       "50%     203.964431   210.450729   196.916908   203.912002  2.290465e+09\n",
       "75%     408.495575   418.961944   394.578835   409.866516  1.029495e+10\n",
       "max    4174.635742  4362.350586  3785.848633  4168.701172  8.448291e+10"
      ]
     },
     "execution_count": 5,
     "metadata": {},
     "output_type": "execute_result"
    }
   ],
   "source": [
    "df.describe()"
   ]
  },
  {
   "cell_type": "code",
   "execution_count": 6,
   "id": "39097a29",
   "metadata": {
    "collapsed": false,
    "datalore": {
     "sheet_delimiter": false,
     "type": "CODE"
    },
    "execution": {
     "iopub.execute_input": "2022-02-12T17:56:03.789339Z",
     "iopub.status.busy": "2022-02-12T17:56:03.788679Z",
     "iopub.status.idle": "2022-02-12T17:56:03.806201Z",
     "shell.execute_reply": "2022-02-12T17:56:03.806767Z",
     "shell.execute_reply.started": "2022-02-12T17:47:06.937276Z"
    },
    "jupyter": {
     "outputs_hidden": false,
     "source_hidden": false
    },
    "papermill": {
     "duration": 0.05203,
     "end_time": "2022-02-12T17:56:03.806950",
     "exception": false,
     "start_time": "2022-02-12T17:56:03.754920",
     "status": "completed"
    },
    "tags": []
   },
   "outputs": [
    {
     "data": {
      "text/html": [
       "<div>\n",
       "<style scoped>\n",
       "    .dataframe tbody tr th:only-of-type {\n",
       "        vertical-align: middle;\n",
       "    }\n",
       "\n",
       "    .dataframe tbody tr th {\n",
       "        vertical-align: top;\n",
       "    }\n",
       "\n",
       "    .dataframe thead th {\n",
       "        text-align: right;\n",
       "    }\n",
       "</style>\n",
       "<table border=\"1\" class=\"dataframe\">\n",
       "  <thead>\n",
       "    <tr style=\"text-align: right;\">\n",
       "      <th></th>\n",
       "      <th>Date</th>\n",
       "      <th>Open</th>\n",
       "      <th>High</th>\n",
       "      <th>Low</th>\n",
       "      <th>Close</th>\n",
       "      <th>Volume</th>\n",
       "      <th>100ma</th>\n",
       "    </tr>\n",
       "  </thead>\n",
       "  <tbody>\n",
       "    <tr>\n",
       "      <th>0</th>\n",
       "      <td>2015-08-07</td>\n",
       "      <td>2.831620</td>\n",
       "      <td>3.536610</td>\n",
       "      <td>2.521120</td>\n",
       "      <td>2.772120</td>\n",
       "      <td>1.643290e+05</td>\n",
       "      <td>2.772120</td>\n",
       "    </tr>\n",
       "    <tr>\n",
       "      <th>1</th>\n",
       "      <td>2015-08-08</td>\n",
       "      <td>2.793760</td>\n",
       "      <td>2.798810</td>\n",
       "      <td>0.714725</td>\n",
       "      <td>0.753325</td>\n",
       "      <td>6.741880e+05</td>\n",
       "      <td>1.762723</td>\n",
       "    </tr>\n",
       "    <tr>\n",
       "      <th>2</th>\n",
       "      <td>2015-08-09</td>\n",
       "      <td>0.706136</td>\n",
       "      <td>0.879810</td>\n",
       "      <td>0.629191</td>\n",
       "      <td>0.701897</td>\n",
       "      <td>5.321700e+05</td>\n",
       "      <td>1.409114</td>\n",
       "    </tr>\n",
       "    <tr>\n",
       "      <th>3</th>\n",
       "      <td>2015-08-10</td>\n",
       "      <td>0.713989</td>\n",
       "      <td>0.729854</td>\n",
       "      <td>0.636546</td>\n",
       "      <td>0.708448</td>\n",
       "      <td>4.052830e+05</td>\n",
       "      <td>1.233947</td>\n",
       "    </tr>\n",
       "    <tr>\n",
       "      <th>4</th>\n",
       "      <td>2015-08-11</td>\n",
       "      <td>0.708087</td>\n",
       "      <td>1.131410</td>\n",
       "      <td>0.663235</td>\n",
       "      <td>1.067860</td>\n",
       "      <td>1.463100e+06</td>\n",
       "      <td>1.200730</td>\n",
       "    </tr>\n",
       "    <tr>\n",
       "      <th>...</th>\n",
       "      <td>...</td>\n",
       "      <td>...</td>\n",
       "      <td>...</td>\n",
       "      <td>...</td>\n",
       "      <td>...</td>\n",
       "      <td>...</td>\n",
       "      <td>...</td>\n",
       "    </tr>\n",
       "    <tr>\n",
       "      <th>2207</th>\n",
       "      <td>2021-08-22</td>\n",
       "      <td>3226.227295</td>\n",
       "      <td>3272.733154</td>\n",
       "      <td>3142.007080</td>\n",
       "      <td>3242.115479</td>\n",
       "      <td>1.598328e+10</td>\n",
       "      <td>2497.191824</td>\n",
       "    </tr>\n",
       "    <tr>\n",
       "      <th>2208</th>\n",
       "      <td>2021-08-23</td>\n",
       "      <td>3241.357422</td>\n",
       "      <td>3373.384277</td>\n",
       "      <td>3235.851318</td>\n",
       "      <td>3319.257324</td>\n",
       "      <td>2.051111e+10</td>\n",
       "      <td>2494.003176</td>\n",
       "    </tr>\n",
       "    <tr>\n",
       "      <th>2209</th>\n",
       "      <td>2021-08-24</td>\n",
       "      <td>3324.855469</td>\n",
       "      <td>3358.688232</td>\n",
       "      <td>3154.121338</td>\n",
       "      <td>3172.456299</td>\n",
       "      <td>2.013103e+10</td>\n",
       "      <td>2489.852678</td>\n",
       "    </tr>\n",
       "    <tr>\n",
       "      <th>2210</th>\n",
       "      <td>2021-08-25</td>\n",
       "      <td>3174.269775</td>\n",
       "      <td>3248.727295</td>\n",
       "      <td>3086.114990</td>\n",
       "      <td>3224.915283</td>\n",
       "      <td>1.890273e+10</td>\n",
       "      <td>2489.277854</td>\n",
       "    </tr>\n",
       "    <tr>\n",
       "      <th>2211</th>\n",
       "      <td>2021-08-26</td>\n",
       "      <td>3229.452148</td>\n",
       "      <td>3247.775391</td>\n",
       "      <td>3062.338867</td>\n",
       "      <td>3101.602051</td>\n",
       "      <td>1.783986e+10</td>\n",
       "      <td>2486.493174</td>\n",
       "    </tr>\n",
       "  </tbody>\n",
       "</table>\n",
       "<p>2212 rows × 7 columns</p>\n",
       "</div>"
      ],
      "text/plain": [
       "            Date         Open         High          Low        Close  \\\n",
       "0     2015-08-07     2.831620     3.536610     2.521120     2.772120   \n",
       "1     2015-08-08     2.793760     2.798810     0.714725     0.753325   \n",
       "2     2015-08-09     0.706136     0.879810     0.629191     0.701897   \n",
       "3     2015-08-10     0.713989     0.729854     0.636546     0.708448   \n",
       "4     2015-08-11     0.708087     1.131410     0.663235     1.067860   \n",
       "...          ...          ...          ...          ...          ...   \n",
       "2207  2021-08-22  3226.227295  3272.733154  3142.007080  3242.115479   \n",
       "2208  2021-08-23  3241.357422  3373.384277  3235.851318  3319.257324   \n",
       "2209  2021-08-24  3324.855469  3358.688232  3154.121338  3172.456299   \n",
       "2210  2021-08-25  3174.269775  3248.727295  3086.114990  3224.915283   \n",
       "2211  2021-08-26  3229.452148  3247.775391  3062.338867  3101.602051   \n",
       "\n",
       "            Volume        100ma  \n",
       "0     1.643290e+05     2.772120  \n",
       "1     6.741880e+05     1.762723  \n",
       "2     5.321700e+05     1.409114  \n",
       "3     4.052830e+05     1.233947  \n",
       "4     1.463100e+06     1.200730  \n",
       "...            ...          ...  \n",
       "2207  1.598328e+10  2497.191824  \n",
       "2208  2.051111e+10  2494.003176  \n",
       "2209  2.013103e+10  2489.852678  \n",
       "2210  1.890273e+10  2489.277854  \n",
       "2211  1.783986e+10  2486.493174  \n",
       "\n",
       "[2212 rows x 7 columns]"
      ]
     },
     "execution_count": 6,
     "metadata": {},
     "output_type": "execute_result"
    }
   ],
   "source": [
    "df['100ma'] = df['Close'].rolling(window = 100, min_periods = 0).mean()\n",
    "df"
   ]
  },
  {
   "cell_type": "code",
   "execution_count": 7,
   "id": "67dd6de5",
   "metadata": {
    "collapsed": false,
    "datalore": {
     "sheet_delimiter": false,
     "type": "CODE"
    },
    "execution": {
     "iopub.execute_input": "2022-02-12T17:56:03.863935Z",
     "iopub.status.busy": "2022-02-12T17:56:03.863260Z",
     "iopub.status.idle": "2022-02-12T17:56:04.649737Z",
     "shell.execute_reply": "2022-02-12T17:56:04.650259Z",
     "shell.execute_reply.started": "2022-02-12T17:47:06.961273Z"
    },
    "jupyter": {
     "outputs_hidden": false,
     "source_hidden": false
    },
    "papermill": {
     "duration": 0.816652,
     "end_time": "2022-02-12T17:56:04.650429",
     "exception": false,
     "start_time": "2022-02-12T17:56:03.833777",
     "status": "completed"
    },
    "tags": []
   },
   "outputs": [
    {
     "data": {
      "image/png": "[encoded data removed]",
      "text/plain": [
       "<Figure size 1152x432 with 1 Axes>"
      ]
     },
     "metadata": {
      "needs_background": "light"
     },
     "output_type": "display_data"
    }
   ],
   "source": [
    "fig, ax = plt.subplots(figsize=(16,6))\n",
    "ax.plot(df.Date, df.Close)\n",
    "ax.plot(df.Date, df['100ma'])\n",
    "ax.xaxis.set_major_locator(plt.MaxNLocator(15)) # reduce number of x-labels\n",
    "plt.title('Ethereum Prices')\n",
    "plt.grid()\n",
    "plt.show()"
   ]
  },
  {
   "cell_type": "code",
   "execution_count": 8,
   "id": "080496ab",
   "metadata": {
    "collapsed": false,
    "datalore": {
     "sheet_delimiter": false,
     "type": "CODE"
    },
    "execution": {
     "iopub.execute_input": "2022-02-12T17:56:04.712437Z",
     "iopub.status.busy": "2022-02-12T17:56:04.711648Z",
     "iopub.status.idle": "2022-02-12T17:56:04.716515Z",
     "shell.execute_reply": "2022-02-12T17:56:04.717124Z",
     "shell.execute_reply.started": "2022-02-12T17:47:07.708244Z"
    },
    "jupyter": {
     "outputs_hidden": false,
     "source_hidden": false
    },
    "papermill": {
     "duration": 0.038217,
     "end_time": "2022-02-12T17:56:04.717310",
     "exception": false,
     "start_time": "2022-02-12T17:56:04.679093",
     "status": "completed"
    },
    "tags": []
   },
   "outputs": [],
   "source": [
    "df[\"Total Traded\"] = df['Open']*df[\"Volume\"]"
   ]
  },
  {
   "cell_type": "code",
   "execution_count": 9,
   "id": "cde49a43",
   "metadata": {
    "collapsed": false,
    "datalore": {
     "sheet_delimiter": false,
     "type": "CODE"
    },
    "execution": {
     "iopub.execute_input": "2022-02-12T17:56:04.778280Z",
     "iopub.status.busy": "2022-02-12T17:56:04.777557Z",
     "iopub.status.idle": "2022-02-12T17:56:05.288005Z",
     "shell.execute_reply": "2022-02-12T17:56:05.288510Z",
     "shell.execute_reply.started": "2022-02-12T17:47:07.715758Z"
    },
    "jupyter": {
     "outputs_hidden": false,
     "source_hidden": false
    },
    "papermill": {
     "duration": 0.542257,
     "end_time": "2022-02-12T17:56:05.288709",
     "exception": false,
     "start_time": "2022-02-12T17:56:04.746452",
     "status": "completed"
    },
    "tags": []
   },
   "outputs": [
    {
     "data": {
      "image/png": "[encoded data removed]",
      "text/plain": [
       "<Figure size 1152x432 with 1 Axes>"
      ]
     },
     "metadata": {
      "needs_background": "light"
     },
     "output_type": "display_data"
    }
   ],
   "source": [
    "fig, ax = plt.subplots(figsize=(16,6))\n",
    "ax.plot(df.Date, df['Total Traded'])\n",
    "ax.xaxis.set_major_locator(plt.MaxNLocator(15)) # reduce number of x-labels\n",
    "plt.title('Total Traded')\n",
    "plt.grid()\n",
    "plt.show()"
   ]
  },
  {
   "cell_type": "code",
   "execution_count": 10,
   "id": "b620173f",
   "metadata": {
    "collapsed": false,
    "datalore": {
     "sheet_delimiter": false,
     "type": "CODE"
    },
    "execution": {
     "iopub.execute_input": "2022-02-12T17:56:05.353601Z",
     "iopub.status.busy": "2022-02-12T17:56:05.351367Z",
     "iopub.status.idle": "2022-02-12T17:56:05.360301Z",
     "shell.execute_reply": "2022-02-12T17:56:05.359757Z",
     "shell.execute_reply.started": "2022-02-12T17:47:08.231136Z"
    },
    "jupyter": {
     "outputs_hidden": false,
     "source_hidden": false
    },
    "papermill": {
     "duration": 0.041902,
     "end_time": "2022-02-12T17:56:05.360441",
     "exception": false,
     "start_time": "2022-02-12T17:56:05.318539",
     "status": "completed"
    },
    "tags": []
   },
   "outputs": [
    {
     "data": {
      "text/plain": [
       "Date                     2021-05-13\n",
       "Open                    3828.918457\n",
       "High                    4032.563477\n",
       "Low                     3549.407227\n",
       "Close                   3715.148438\n",
       "Volume                78398214539.0\n",
       "100ma                   2140.178688\n",
       "Total Traded    300180370644222.875\n",
       "Name: 2106, dtype: object"
      ]
     },
     "execution_count": 10,
     "metadata": {},
     "output_type": "execute_result"
    }
   ],
   "source": [
    "df.iloc[df['Total Traded'].argmax()]"
   ]
  },
  {
   "cell_type": "code",
   "execution_count": 11,
   "id": "1f7eca7f",
   "metadata": {
    "collapsed": false,
    "datalore": {
     "sheet_delimiter": false,
     "type": "CODE"
    },
    "execution": {
     "iopub.execute_input": "2022-02-12T17:56:05.445155Z",
     "iopub.status.busy": "2022-02-12T17:56:05.439530Z",
     "iopub.status.idle": "2022-02-12T17:56:05.939613Z",
     "shell.execute_reply": "2022-02-12T17:56:05.940140Z",
     "shell.execute_reply.started": "2022-02-12T17:47:19.812628Z"
    },
    "jupyter": {
     "outputs_hidden": false,
     "source_hidden": false
    },
    "papermill": {
     "duration": 0.548781,
     "end_time": "2022-02-12T17:56:05.940314",
     "exception": false,
     "start_time": "2022-02-12T17:56:05.391533",
     "status": "completed"
    },
    "tags": []
   },
   "outputs": [
    {
     "data": {
      "image/png": "[encoded data removed]",
      "text/plain": [
       "<Figure size 1152x432 with 1 Axes>"
      ]
     },
     "metadata": {
      "needs_background": "light"
     },
     "output_type": "display_data"
    }
   ],
   "source": [
    "df[\"returns\"] = (df[\"Close\"]/df[\"Close\"].shift(1)) - 1\n",
    "fig, ax = plt.subplots(figsize=(16,6))\n",
    "ax.plot(df.Date, df['returns'])\n",
    "ax.xaxis.set_major_locator(plt.MaxNLocator(15)) # reduce number of x-labels\n",
    "plt.title('Returns')\n",
    "plt.grid()\n",
    "plt.show()"
   ]
  },
  {
   "cell_type": "code",
   "execution_count": 12,
   "id": "461545e4",
   "metadata": {
    "execution": {
     "iopub.execute_input": "2022-02-12T17:56:06.009714Z",
     "iopub.status.busy": "2022-02-12T17:56:06.008946Z",
     "iopub.status.idle": "2022-02-12T17:56:06.418700Z",
     "shell.execute_reply": "2022-02-12T17:56:06.417993Z",
     "shell.execute_reply.started": "2022-02-12T17:47:29.098403Z"
    },
    "papermill": {
     "duration": 0.445973,
     "end_time": "2022-02-12T17:56:06.418875",
     "exception": false,
     "start_time": "2022-02-12T17:56:05.972902",
     "status": "completed"
    },
    "tags": []
   },
   "outputs": [
    {
     "data": {
      "text/plain": [
       "<AxesSubplot:>"
      ]
     },
     "execution_count": 12,
     "metadata": {},
     "output_type": "execute_result"
    },
    {
     "data": {
      "image/png": "[encoded data removed]",
      "text/plain": [
       "<Figure size 432x288 with 1 Axes>"
      ]
     },
     "metadata": {
      "needs_background": "light"
     },
     "output_type": "display_data"
    }
   ],
   "source": [
    "df[\"returns\"].hist(bins=100)"
   ]
  },
  {
   "cell_type": "code",
   "execution_count": 13,
   "id": "532b25d3",
   "metadata": {
    "execution": {
     "iopub.execute_input": "2022-02-12T17:56:06.489341Z",
     "iopub.status.busy": "2022-02-12T17:56:06.488637Z",
     "iopub.status.idle": "2022-02-12T17:56:06.498632Z",
     "shell.execute_reply": "2022-02-12T17:56:06.498133Z",
     "shell.execute_reply.started": "2022-02-12T17:48:03.509536Z"
    },
    "papermill": {
     "duration": 0.046105,
     "end_time": "2022-02-12T17:56:06.498795",
     "exception": false,
     "start_time": "2022-02-12T17:56:06.452690",
     "status": "completed"
    },
    "tags": []
   },
   "outputs": [
    {
     "data": {
      "text/plain": [
       "count    2204.000000\n",
       "mean        0.005304\n",
       "std         0.064583\n",
       "min        -0.728249\n",
       "25%        -0.023070\n",
       "50%         0.000797\n",
       "75%         0.029766\n",
       "max         0.507323\n",
       "Name: returns, dtype: float64"
      ]
     },
     "execution_count": 13,
     "metadata": {},
     "output_type": "execute_result"
    }
   ],
   "source": [
    "df[\"returns\"].describe()"
   ]
  },
  {
   "cell_type": "code",
   "execution_count": 14,
   "id": "43db6c0a",
   "metadata": {
    "execution": {
     "iopub.execute_input": "2022-02-12T17:56:06.592421Z",
     "iopub.status.busy": "2022-02-12T17:56:06.586380Z",
     "iopub.status.idle": "2022-02-12T17:56:06.750870Z",
     "shell.execute_reply": "2022-02-12T17:56:06.750244Z",
     "shell.execute_reply.started": "2022-02-12T17:49:19.053564Z"
    },
    "papermill": {
     "duration": 0.218221,
     "end_time": "2022-02-12T17:56:06.751017",
     "exception": false,
     "start_time": "2022-02-12T17:56:06.532796",
     "status": "completed"
    },
    "tags": []
   },
   "outputs": [
    {
     "data": {
      "text/plain": [
       "<AxesSubplot:>"
      ]
     },
     "execution_count": 14,
     "metadata": {},
     "output_type": "execute_result"
    },
    {
     "data": {
      "image/png": "[encoded data removed]",
      "text/plain": [
       "<Figure size 432x432 with 1 Axes>"
      ]
     },
     "metadata": {
      "needs_background": "light"
     },
     "output_type": "display_data"
    }
   ],
   "source": [
    "df[\"returns\"].plot(kind = \"box\", figsize = (6,6))"
   ]
  },
  {
   "cell_type": "code",
   "execution_count": 15,
   "id": "2465de86",
   "metadata": {
    "execution": {
     "iopub.execute_input": "2022-02-12T17:56:06.825739Z",
     "iopub.status.busy": "2022-02-12T17:56:06.825090Z",
     "iopub.status.idle": "2022-02-12T17:56:06.848479Z",
     "shell.execute_reply": "2022-02-12T17:56:06.847942Z",
     "shell.execute_reply.started": "2022-02-12T17:50:32.068313Z"
    },
    "papermill": {
     "duration": 0.062174,
     "end_time": "2022-02-12T17:56:06.848615",
     "exception": false,
     "start_time": "2022-02-12T17:56:06.786441",
     "status": "completed"
    },
    "tags": []
   },
   "outputs": [
    {
     "data": {
      "text/html": [
       "<div>\n",
       "<style scoped>\n",
       "    .dataframe tbody tr th:only-of-type {\n",
       "        vertical-align: middle;\n",
       "    }\n",
       "\n",
       "    .dataframe tbody tr th {\n",
       "        vertical-align: top;\n",
       "    }\n",
       "\n",
       "    .dataframe thead th {\n",
       "        text-align: right;\n",
       "    }\n",
       "</style>\n",
       "<table border=\"1\" class=\"dataframe\">\n",
       "  <thead>\n",
       "    <tr style=\"text-align: right;\">\n",
       "      <th></th>\n",
       "      <th>Date</th>\n",
       "      <th>Open</th>\n",
       "      <th>High</th>\n",
       "      <th>Low</th>\n",
       "      <th>Close</th>\n",
       "      <th>Volume</th>\n",
       "      <th>100ma</th>\n",
       "      <th>Total Traded</th>\n",
       "      <th>returns</th>\n",
       "      <th>Cumulative Return</th>\n",
       "    </tr>\n",
       "  </thead>\n",
       "  <tbody>\n",
       "    <tr>\n",
       "      <th>0</th>\n",
       "      <td>2015-08-07</td>\n",
       "      <td>2.831620</td>\n",
       "      <td>3.536610</td>\n",
       "      <td>2.521120</td>\n",
       "      <td>2.772120</td>\n",
       "      <td>1.643290e+05</td>\n",
       "      <td>2.772120</td>\n",
       "      <td>4.653173e+05</td>\n",
       "      <td>NaN</td>\n",
       "      <td>NaN</td>\n",
       "    </tr>\n",
       "    <tr>\n",
       "      <th>1</th>\n",
       "      <td>2015-08-08</td>\n",
       "      <td>2.793760</td>\n",
       "      <td>2.798810</td>\n",
       "      <td>0.714725</td>\n",
       "      <td>0.753325</td>\n",
       "      <td>6.741880e+05</td>\n",
       "      <td>1.762723</td>\n",
       "      <td>1.883519e+06</td>\n",
       "      <td>-0.728249</td>\n",
       "      <td>0.271751</td>\n",
       "    </tr>\n",
       "    <tr>\n",
       "      <th>2</th>\n",
       "      <td>2015-08-09</td>\n",
       "      <td>0.706136</td>\n",
       "      <td>0.879810</td>\n",
       "      <td>0.629191</td>\n",
       "      <td>0.701897</td>\n",
       "      <td>5.321700e+05</td>\n",
       "      <td>1.409114</td>\n",
       "      <td>3.757844e+05</td>\n",
       "      <td>-0.068268</td>\n",
       "      <td>0.253199</td>\n",
       "    </tr>\n",
       "    <tr>\n",
       "      <th>3</th>\n",
       "      <td>2015-08-10</td>\n",
       "      <td>0.713989</td>\n",
       "      <td>0.729854</td>\n",
       "      <td>0.636546</td>\n",
       "      <td>0.708448</td>\n",
       "      <td>4.052830e+05</td>\n",
       "      <td>1.233947</td>\n",
       "      <td>2.893676e+05</td>\n",
       "      <td>0.009333</td>\n",
       "      <td>0.255562</td>\n",
       "    </tr>\n",
       "    <tr>\n",
       "      <th>4</th>\n",
       "      <td>2015-08-11</td>\n",
       "      <td>0.708087</td>\n",
       "      <td>1.131410</td>\n",
       "      <td>0.663235</td>\n",
       "      <td>1.067860</td>\n",
       "      <td>1.463100e+06</td>\n",
       "      <td>1.200730</td>\n",
       "      <td>1.036002e+06</td>\n",
       "      <td>0.507323</td>\n",
       "      <td>0.385214</td>\n",
       "    </tr>\n",
       "    <tr>\n",
       "      <th>...</th>\n",
       "      <td>...</td>\n",
       "      <td>...</td>\n",
       "      <td>...</td>\n",
       "      <td>...</td>\n",
       "      <td>...</td>\n",
       "      <td>...</td>\n",
       "      <td>...</td>\n",
       "      <td>...</td>\n",
       "      <td>...</td>\n",
       "      <td>...</td>\n",
       "    </tr>\n",
       "    <tr>\n",
       "      <th>2207</th>\n",
       "      <td>2021-08-22</td>\n",
       "      <td>3226.227295</td>\n",
       "      <td>3272.733154</td>\n",
       "      <td>3142.007080</td>\n",
       "      <td>3242.115479</td>\n",
       "      <td>1.598328e+10</td>\n",
       "      <td>2497.191824</td>\n",
       "      <td>5.156569e+13</td>\n",
       "      <td>0.004969</td>\n",
       "      <td>1008.874339</td>\n",
       "    </tr>\n",
       "    <tr>\n",
       "      <th>2208</th>\n",
       "      <td>2021-08-23</td>\n",
       "      <td>3241.357422</td>\n",
       "      <td>3373.384277</td>\n",
       "      <td>3235.851318</td>\n",
       "      <td>3319.257324</td>\n",
       "      <td>2.051111e+10</td>\n",
       "      <td>2494.003176</td>\n",
       "      <td>6.648384e+13</td>\n",
       "      <td>0.023794</td>\n",
       "      <td>1032.879168</td>\n",
       "    </tr>\n",
       "    <tr>\n",
       "      <th>2209</th>\n",
       "      <td>2021-08-24</td>\n",
       "      <td>3324.855469</td>\n",
       "      <td>3358.688232</td>\n",
       "      <td>3154.121338</td>\n",
       "      <td>3172.456299</td>\n",
       "      <td>2.013103e+10</td>\n",
       "      <td>2489.852678</td>\n",
       "      <td>6.693276e+13</td>\n",
       "      <td>-0.044227</td>\n",
       "      <td>987.197949</td>\n",
       "    </tr>\n",
       "    <tr>\n",
       "      <th>2210</th>\n",
       "      <td>2021-08-25</td>\n",
       "      <td>3174.269775</td>\n",
       "      <td>3248.727295</td>\n",
       "      <td>3086.114990</td>\n",
       "      <td>3224.915283</td>\n",
       "      <td>1.890273e+10</td>\n",
       "      <td>2489.277854</td>\n",
       "      <td>6.000236e+13</td>\n",
       "      <td>0.016536</td>\n",
       "      <td>1003.522020</td>\n",
       "    </tr>\n",
       "    <tr>\n",
       "      <th>2211</th>\n",
       "      <td>2021-08-26</td>\n",
       "      <td>3229.452148</td>\n",
       "      <td>3247.775391</td>\n",
       "      <td>3062.338867</td>\n",
       "      <td>3101.602051</td>\n",
       "      <td>1.783986e+10</td>\n",
       "      <td>2486.493174</td>\n",
       "      <td>5.761297e+13</td>\n",
       "      <td>-0.038238</td>\n",
       "      <td>965.149681</td>\n",
       "    </tr>\n",
       "  </tbody>\n",
       "</table>\n",
       "<p>2212 rows × 10 columns</p>\n",
       "</div>"
      ],
      "text/plain": [
       "            Date         Open         High          Low        Close  \\\n",
       "0     2015-08-07     2.831620     3.536610     2.521120     2.772120   \n",
       "1     2015-08-08     2.793760     2.798810     0.714725     0.753325   \n",
       "2     2015-08-09     0.706136     0.879810     0.629191     0.701897   \n",
       "3     2015-08-10     0.713989     0.729854     0.636546     0.708448   \n",
       "4     2015-08-11     0.708087     1.131410     0.663235     1.067860   \n",
       "...          ...          ...          ...          ...          ...   \n",
       "2207  2021-08-22  3226.227295  3272.733154  3142.007080  3242.115479   \n",
       "2208  2021-08-23  3241.357422  3373.384277  3235.851318  3319.257324   \n",
       "2209  2021-08-24  3324.855469  3358.688232  3154.121338  3172.456299   \n",
       "2210  2021-08-25  3174.269775  3248.727295  3086.114990  3224.915283   \n",
       "2211  2021-08-26  3229.452148  3247.775391  3062.338867  3101.602051   \n",
       "\n",
       "            Volume        100ma  Total Traded   returns  Cumulative Return  \n",
       "0     1.643290e+05     2.772120  4.653173e+05       NaN                NaN  \n",
       "1     6.741880e+05     1.762723  1.883519e+06 -0.728249           0.271751  \n",
       "2     5.321700e+05     1.409114  3.757844e+05 -0.068268           0.253199  \n",
       "3     4.052830e+05     1.233947  2.893676e+05  0.009333           0.255562  \n",
       "4     1.463100e+06     1.200730  1.036002e+06  0.507323           0.385214  \n",
       "...            ...          ...           ...       ...                ...  \n",
       "2207  1.598328e+10  2497.191824  5.156569e+13  0.004969        1008.874339  \n",
       "2208  2.051111e+10  2494.003176  6.648384e+13  0.023794        1032.879168  \n",
       "2209  2.013103e+10  2489.852678  6.693276e+13 -0.044227         987.197949  \n",
       "2210  1.890273e+10  2489.277854  6.000236e+13  0.016536        1003.522020  \n",
       "2211  1.783986e+10  2486.493174  5.761297e+13 -0.038238         965.149681  \n",
       "\n",
       "[2212 rows x 10 columns]"
      ]
     },
     "execution_count": 15,
     "metadata": {},
     "output_type": "execute_result"
    }
   ],
   "source": [
    "df[\"Cumulative Return\"] = (1 + df[\"returns\"]).cumprod()\n",
    "df"
   ]
  },
  {
   "cell_type": "code",
   "execution_count": 16,
   "id": "1642d11f",
   "metadata": {
    "execution": {
     "iopub.execute_input": "2022-02-12T17:56:06.925189Z",
     "iopub.status.busy": "2022-02-12T17:56:06.924451Z",
     "iopub.status.idle": "2022-02-12T17:56:07.442704Z",
     "shell.execute_reply": "2022-02-12T17:56:07.442045Z",
     "shell.execute_reply.started": "2022-02-12T17:50:42.834592Z"
    },
    "papermill": {
     "duration": 0.557634,
     "end_time": "2022-02-12T17:56:07.442856",
     "exception": false,
     "start_time": "2022-02-12T17:56:06.885222",
     "status": "completed"
    },
    "tags": []
   },
   "outputs": [
    {
     "data": {
      "image/png": "[encoded data removed]",
      "text/plain": [
       "<Figure size 1152x432 with 1 Axes>"
      ]
     },
     "metadata": {
      "needs_background": "light"
     },
     "output_type": "display_data"
    }
   ],
   "source": [
    "fig, ax = plt.subplots(figsize=(16,6))\n",
    "ax.plot(df.Date, df['Cumulative Return'])\n",
    "ax.xaxis.set_major_locator(plt.MaxNLocator(15)) # reduce number of x-labels\n",
    "plt.title('Cumulative Return')\n",
    "plt.grid()\n",
    "plt.show()"
   ]
  },
  {
   "cell_type": "code",
   "execution_count": 17,
   "id": "9e972768",
   "metadata": {
    "execution": {
     "iopub.execute_input": "2022-02-12T17:56:07.527543Z",
     "iopub.status.busy": "2022-02-12T17:56:07.526839Z",
     "iopub.status.idle": "2022-02-12T17:56:07.530682Z",
     "shell.execute_reply": "2022-02-12T17:56:07.531201Z",
     "shell.execute_reply.started": "2022-02-12T17:52:05.096169Z"
    },
    "papermill": {
     "duration": 0.050004,
     "end_time": "2022-02-12T17:56:07.531386",
     "exception": false,
     "start_time": "2022-02-12T17:56:07.481382",
     "status": "completed"
    },
    "tags": []
   },
   "outputs": [
    {
     "data": {
      "text/plain": [
       "Date                            2021-05-11\n",
       "Open                           3948.271973\n",
       "High                           4178.208984\n",
       "Low                            3783.889404\n",
       "Close                          4168.701172\n",
       "Volume                       52679737865.0\n",
       "100ma                           2094.01106\n",
       "Total Traded         207993932557366.34375\n",
       "returns                           0.054755\n",
       "Cumulative Return               1297.20723\n",
       "Name: 2104, dtype: object"
      ]
     },
     "execution_count": 17,
     "metadata": {},
     "output_type": "execute_result"
    }
   ],
   "source": [
    "df.iloc[df[\"Cumulative Return\"].argmax()]"
   ]
  },
  {
   "cell_type": "code",
   "execution_count": 18,
   "id": "29e0f9bf",
   "metadata": {
    "execution": {
     "iopub.execute_input": "2022-02-12T17:56:07.612487Z",
     "iopub.status.busy": "2022-02-12T17:56:07.611713Z",
     "iopub.status.idle": "2022-02-12T17:56:08.047386Z",
     "shell.execute_reply": "2022-02-12T17:56:08.047927Z",
     "shell.execute_reply.started": "2022-02-12T17:52:58.431819Z"
    },
    "papermill": {
     "duration": 0.478683,
     "end_time": "2022-02-12T17:56:08.048104",
     "exception": false,
     "start_time": "2022-02-12T17:56:07.569421",
     "status": "completed"
    },
    "tags": []
   },
   "outputs": [
    {
     "data": {
      "image/png": "[encoded data removed]",
      "text/plain": [
       "<Figure size 432x288 with 1 Axes>"
      ]
     },
     "metadata": {
      "needs_background": "light"
     },
     "output_type": "display_data"
    }
   ],
   "source": [
    "from statsmodels.graphics.tsaplots import plot_acf, plot_pacf\n",
    "from pandas.plotting import register_matplotlib_converters\n",
    "acf_plot = plot_acf(df.returns.dropna(), lags=35)"
   ]
  },
  {
   "cell_type": "code",
   "execution_count": 19,
   "id": "3c05c0c9",
   "metadata": {
    "execution": {
     "iopub.execute_input": "2022-02-12T17:56:08.135379Z",
     "iopub.status.busy": "2022-02-12T17:56:08.134602Z",
     "iopub.status.idle": "2022-02-12T17:56:08.523614Z",
     "shell.execute_reply": "2022-02-12T17:56:08.522983Z",
     "shell.execute_reply.started": "2022-02-12T17:54:32.565395Z"
    },
    "papermill": {
     "duration": 0.435429,
     "end_time": "2022-02-12T17:56:08.523787",
     "exception": false,
     "start_time": "2022-02-12T17:56:08.088358",
     "status": "completed"
    },
    "tags": []
   },
   "outputs": [
    {
     "name": "stderr",
     "output_type": "stream",
     "text": [
      "/opt/conda/lib/python3.7/site-packages/statsmodels/graphics/tsaplots.py:353: FutureWarning: The default method 'yw' can produce PACF values outside of the [-1,1] interval. After 0.13, the default will change tounadjusted Yule-Walker ('ywm'). You can use this method now by setting method='ywm'.\n",
      "  FutureWarning,\n"
     ]
    },
    {
     "data": {
      "image/png": "[encoded data removed]",
      "text/plain": [
       "<Figure size 432x288 with 1 Axes>"
      ]
     },
     "metadata": {
      "needs_background": "light"
     },
     "output_type": "display_data"
    }
   ],
   "source": [
    "pacf_plot = plot_pacf(df.returns.dropna())"
   ]
  }
 ],
 "metadata": {
  "kernelspec": {
   "display_name": "Python 3",
   "language": "python",
   "name": "python3"
  },
  "language_info": {
   "codemirror_mode": {
    "name": "ipython",
    "version": 3
   },
   "file_extension": ".py",
   "mimetype": "text/x-python",
   "name": "python",
   "nbconvert_exporter": "python",
   "pygments_lexer": "ipython3",
   "version": "3.7.12"
  },
  "papermill": {
   "default_parameters": {},
   "duration": 30.414368,
   "end_time": "2022-02-12T17:56:09.375999",
   "environment_variables": {},
   "exception": null,
   "input_path": "__notebook__.ipynb",
   "output_path": "__notebook__.ipynb",
   "parameters": {},
   "start_time": "2022-02-12T17:55:38.961631",
   "version": "2.3.3"
  }
 },
 "nbformat": 4,
 "nbformat_minor": 5
}
