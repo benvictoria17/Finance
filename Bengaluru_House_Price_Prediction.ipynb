{
  "nbformat": 4,
  "nbformat_minor": 0,
  "metadata": {
    "colab": {
      "name": "Bengaluru House Price Prediction.ipynb",
      "provenance": [],
      "authorship_tag": "ABX9TyNA9i5s75v21wedtB5e9oTI",
      "include_colab_link": true
    },
    "kernelspec": {
      "name": "python3",
      "display_name": "Python 3"
    }
  },
  "cells": [
    {
      "cell_type": "markdown",
      "metadata": {
        "id": "view-in-github",
        "colab_type": "text"
      },
      "source": [
        "<a href=\"https://colab.research.google.com/github/benvictoria21/pandas/blob/master/Bengaluru_House_Price_Prediction.ipynb\" target=\"_parent\"><img src=\"https://colab.research.google.com/assets/colab-badge.svg\" alt=\"Open In Colab\"/></a>"
      ]
    },
    {
      "cell_type": "code",
      "metadata": {
        "id": "uLAYhQ4cCSGx"
      },
      "source": [
        "import pandas as pd\n",
        "import numpy as np\n",
        "from matplotlib import pyplot as plt\n",
        "%matplotlib inline\n",
        "import matplotlib \n",
        "matplotlib.rcParams[\"figure.figsize\"] = (20,10)"
      ],
      "execution_count": 20,
      "outputs": []
    },
    {
      "cell_type": "code",
      "metadata": {
        "colab": {
          "base_uri": "https://localhost:8080/",
          "height": 198
        },
        "id": "XLWqE7uGCVML",
        "outputId": "bdd10647-b8c7-4077-bef8-8ce50c4d45ab"
      },
      "source": [
        "df= pd.read_csv('https://raw.githubusercontent.com/benvictoria21/pandas/master/dataset/Bengaluru_House_Data.csv')\n",
        "df.head()"
      ],
      "execution_count": 21,
      "outputs": [
        {
          "output_type": "execute_result",
          "data": {
            "text/html": [
              "<div>\n",
              "<style scoped>\n",
              "    .dataframe tbody tr th:only-of-type {\n",
              "        vertical-align: middle;\n",
              "    }\n",
              "\n",
              "    .dataframe tbody tr th {\n",
              "        vertical-align: top;\n",
              "    }\n",
              "\n",
              "    .dataframe thead th {\n",
              "        text-align: right;\n",
              "    }\n",
              "</style>\n",
              "<table border=\"1\" class=\"dataframe\">\n",
              "  <thead>\n",
              "    <tr style=\"text-align: right;\">\n",
              "      <th></th>\n",
              "      <th>area_type</th>\n",
              "      <th>availability</th>\n",
              "      <th>location</th>\n",
              "      <th>size</th>\n",
              "      <th>society</th>\n",
              "      <th>total_sqft</th>\n",
              "      <th>bath</th>\n",
              "      <th>balcony</th>\n",
              "      <th>price</th>\n",
              "    </tr>\n",
              "  </thead>\n",
              "  <tbody>\n",
              "    <tr>\n",
              "      <th>0</th>\n",
              "      <td>Super built-up  Area</td>\n",
              "      <td>19-Dec</td>\n",
              "      <td>Electronic City Phase II</td>\n",
              "      <td>2 BHK</td>\n",
              "      <td>Coomee</td>\n",
              "      <td>1056</td>\n",
              "      <td>2.0</td>\n",
              "      <td>1.0</td>\n",
              "      <td>39.07</td>\n",
              "    </tr>\n",
              "    <tr>\n",
              "      <th>1</th>\n",
              "      <td>Plot  Area</td>\n",
              "      <td>Ready To Move</td>\n",
              "      <td>Chikka Tirupathi</td>\n",
              "      <td>4 Bedroom</td>\n",
              "      <td>Theanmp</td>\n",
              "      <td>2600</td>\n",
              "      <td>5.0</td>\n",
              "      <td>3.0</td>\n",
              "      <td>120.00</td>\n",
              "    </tr>\n",
              "    <tr>\n",
              "      <th>2</th>\n",
              "      <td>Built-up  Area</td>\n",
              "      <td>Ready To Move</td>\n",
              "      <td>Uttarahalli</td>\n",
              "      <td>3 BHK</td>\n",
              "      <td>NaN</td>\n",
              "      <td>1440</td>\n",
              "      <td>2.0</td>\n",
              "      <td>3.0</td>\n",
              "      <td>62.00</td>\n",
              "    </tr>\n",
              "    <tr>\n",
              "      <th>3</th>\n",
              "      <td>Super built-up  Area</td>\n",
              "      <td>Ready To Move</td>\n",
              "      <td>Lingadheeranahalli</td>\n",
              "      <td>3 BHK</td>\n",
              "      <td>Soiewre</td>\n",
              "      <td>1521</td>\n",
              "      <td>3.0</td>\n",
              "      <td>1.0</td>\n",
              "      <td>95.00</td>\n",
              "    </tr>\n",
              "    <tr>\n",
              "      <th>4</th>\n",
              "      <td>Super built-up  Area</td>\n",
              "      <td>Ready To Move</td>\n",
              "      <td>Kothanur</td>\n",
              "      <td>2 BHK</td>\n",
              "      <td>NaN</td>\n",
              "      <td>1200</td>\n",
              "      <td>2.0</td>\n",
              "      <td>1.0</td>\n",
              "      <td>51.00</td>\n",
              "    </tr>\n",
              "  </tbody>\n",
              "</table>\n",
              "</div>"
            ],
            "text/plain": [
              "              area_type   availability  ... balcony   price\n",
              "0  Super built-up  Area         19-Dec  ...     1.0   39.07\n",
              "1            Plot  Area  Ready To Move  ...     3.0  120.00\n",
              "2        Built-up  Area  Ready To Move  ...     3.0   62.00\n",
              "3  Super built-up  Area  Ready To Move  ...     1.0   95.00\n",
              "4  Super built-up  Area  Ready To Move  ...     1.0   51.00\n",
              "\n",
              "[5 rows x 9 columns]"
            ]
          },
          "metadata": {
            "tags": []
          },
          "execution_count": 21
        }
      ]
    },
    {
      "cell_type": "code",
      "metadata": {
        "colab": {
          "base_uri": "https://localhost:8080/"
        },
        "id": "ZtbxaJGwCVPA",
        "outputId": "50f94e73-35ec-4b33-999e-192327fc40d9"
      },
      "source": [
        "df.shape"
      ],
      "execution_count": 22,
      "outputs": [
        {
          "output_type": "execute_result",
          "data": {
            "text/plain": [
              "(13320, 9)"
            ]
          },
          "metadata": {
            "tags": []
          },
          "execution_count": 22
        }
      ]
    },
    {
      "cell_type": "code",
      "metadata": {
        "colab": {
          "base_uri": "https://localhost:8080/"
        },
        "id": "ydnCmgdlCVSc",
        "outputId": "85c675b1-5f9d-4628-d88f-0fd9b028e5d4"
      },
      "source": [
        "df.columns"
      ],
      "execution_count": 23,
      "outputs": [
        {
          "output_type": "execute_result",
          "data": {
            "text/plain": [
              "Index(['area_type', 'availability', 'location', 'size', 'society',\n",
              "       'total_sqft', 'bath', 'balcony', 'price'],\n",
              "      dtype='object')"
            ]
          },
          "metadata": {
            "tags": []
          },
          "execution_count": 23
        }
      ]
    },
    {
      "cell_type": "code",
      "metadata": {
        "colab": {
          "base_uri": "https://localhost:8080/"
        },
        "id": "y6ilEcZLCVUD",
        "outputId": "e418c69e-83cb-4622-c947-d68bf38b8e8c"
      },
      "source": [
        "df.info()"
      ],
      "execution_count": 24,
      "outputs": [
        {
          "output_type": "stream",
          "text": [
            "<class 'pandas.core.frame.DataFrame'>\n",
            "RangeIndex: 13320 entries, 0 to 13319\n",
            "Data columns (total 9 columns):\n",
            " #   Column        Non-Null Count  Dtype  \n",
            "---  ------        --------------  -----  \n",
            " 0   area_type     13320 non-null  object \n",
            " 1   availability  13320 non-null  object \n",
            " 2   location      13319 non-null  object \n",
            " 3   size          13304 non-null  object \n",
            " 4   society       7818 non-null   object \n",
            " 5   total_sqft    13320 non-null  object \n",
            " 6   bath          13247 non-null  float64\n",
            " 7   balcony       12711 non-null  float64\n",
            " 8   price         13320 non-null  float64\n",
            "dtypes: float64(3), object(6)\n",
            "memory usage: 936.7+ KB\n"
          ],
          "name": "stdout"
        }
      ]
    },
    {
      "cell_type": "code",
      "metadata": {
        "colab": {
          "base_uri": "https://localhost:8080/"
        },
        "id": "hh9c7QpJCVYq",
        "outputId": "8bddc465-3f37-4ee6-b6f6-1943b0baa6f2"
      },
      "source": [
        "df[\"area_type\"].value_counts"
      ],
      "execution_count": 25,
      "outputs": [
        {
          "output_type": "execute_result",
          "data": {
            "text/plain": [
              "<bound method IndexOpsMixin.value_counts of 0        Super built-up  Area\n",
              "1                  Plot  Area\n",
              "2              Built-up  Area\n",
              "3        Super built-up  Area\n",
              "4        Super built-up  Area\n",
              "                 ...         \n",
              "13315          Built-up  Area\n",
              "13316    Super built-up  Area\n",
              "13317          Built-up  Area\n",
              "13318    Super built-up  Area\n",
              "13319    Super built-up  Area\n",
              "Name: area_type, Length: 13320, dtype: object>"
            ]
          },
          "metadata": {
            "tags": []
          },
          "execution_count": 25
        }
      ]
    },
    {
      "cell_type": "code",
      "metadata": {
        "colab": {
          "base_uri": "https://localhost:8080/"
        },
        "id": "YbIOips0CikM",
        "outputId": "e2c23b4e-d319-46e4-e3d1-a3946ad20e03"
      },
      "source": [
        "df1 = df.drop(['area_type','society','balcony','availability'],axis='columns')\n",
        "df1.shape"
      ],
      "execution_count": 26,
      "outputs": [
        {
          "output_type": "execute_result",
          "data": {
            "text/plain": [
              "(13320, 5)"
            ]
          },
          "metadata": {
            "tags": []
          },
          "execution_count": 26
        }
      ]
    },
    {
      "cell_type": "code",
      "metadata": {
        "colab": {
          "base_uri": "https://localhost:8080/",
          "height": 198
        },
        "id": "LIaAKuAXCioC",
        "outputId": "8f17bce7-d23e-4214-c22e-04d404726c21"
      },
      "source": [
        "df.head()"
      ],
      "execution_count": 27,
      "outputs": [
        {
          "output_type": "execute_result",
          "data": {
            "text/html": [
              "<div>\n",
              "<style scoped>\n",
              "    .dataframe tbody tr th:only-of-type {\n",
              "        vertical-align: middle;\n",
              "    }\n",
              "\n",
              "    .dataframe tbody tr th {\n",
              "        vertical-align: top;\n",
              "    }\n",
              "\n",
              "    .dataframe thead th {\n",
              "        text-align: right;\n",
              "    }\n",
              "</style>\n",
              "<table border=\"1\" class=\"dataframe\">\n",
              "  <thead>\n",
              "    <tr style=\"text-align: right;\">\n",
              "      <th></th>\n",
              "      <th>area_type</th>\n",
              "      <th>availability</th>\n",
              "      <th>location</th>\n",
              "      <th>size</th>\n",
              "      <th>society</th>\n",
              "      <th>total_sqft</th>\n",
              "      <th>bath</th>\n",
              "      <th>balcony</th>\n",
              "      <th>price</th>\n",
              "    </tr>\n",
              "  </thead>\n",
              "  <tbody>\n",
              "    <tr>\n",
              "      <th>0</th>\n",
              "      <td>Super built-up  Area</td>\n",
              "      <td>19-Dec</td>\n",
              "      <td>Electronic City Phase II</td>\n",
              "      <td>2 BHK</td>\n",
              "      <td>Coomee</td>\n",
              "      <td>1056</td>\n",
              "      <td>2.0</td>\n",
              "      <td>1.0</td>\n",
              "      <td>39.07</td>\n",
              "    </tr>\n",
              "    <tr>\n",
              "      <th>1</th>\n",
              "      <td>Plot  Area</td>\n",
              "      <td>Ready To Move</td>\n",
              "      <td>Chikka Tirupathi</td>\n",
              "      <td>4 Bedroom</td>\n",
              "      <td>Theanmp</td>\n",
              "      <td>2600</td>\n",
              "      <td>5.0</td>\n",
              "      <td>3.0</td>\n",
              "      <td>120.00</td>\n",
              "    </tr>\n",
              "    <tr>\n",
              "      <th>2</th>\n",
              "      <td>Built-up  Area</td>\n",
              "      <td>Ready To Move</td>\n",
              "      <td>Uttarahalli</td>\n",
              "      <td>3 BHK</td>\n",
              "      <td>NaN</td>\n",
              "      <td>1440</td>\n",
              "      <td>2.0</td>\n",
              "      <td>3.0</td>\n",
              "      <td>62.00</td>\n",
              "    </tr>\n",
              "    <tr>\n",
              "      <th>3</th>\n",
              "      <td>Super built-up  Area</td>\n",
              "      <td>Ready To Move</td>\n",
              "      <td>Lingadheeranahalli</td>\n",
              "      <td>3 BHK</td>\n",
              "      <td>Soiewre</td>\n",
              "      <td>1521</td>\n",
              "      <td>3.0</td>\n",
              "      <td>1.0</td>\n",
              "      <td>95.00</td>\n",
              "    </tr>\n",
              "    <tr>\n",
              "      <th>4</th>\n",
              "      <td>Super built-up  Area</td>\n",
              "      <td>Ready To Move</td>\n",
              "      <td>Kothanur</td>\n",
              "      <td>2 BHK</td>\n",
              "      <td>NaN</td>\n",
              "      <td>1200</td>\n",
              "      <td>2.0</td>\n",
              "      <td>1.0</td>\n",
              "      <td>51.00</td>\n",
              "    </tr>\n",
              "  </tbody>\n",
              "</table>\n",
              "</div>"
            ],
            "text/plain": [
              "              area_type   availability  ... balcony   price\n",
              "0  Super built-up  Area         19-Dec  ...     1.0   39.07\n",
              "1            Plot  Area  Ready To Move  ...     3.0  120.00\n",
              "2        Built-up  Area  Ready To Move  ...     3.0   62.00\n",
              "3  Super built-up  Area  Ready To Move  ...     1.0   95.00\n",
              "4  Super built-up  Area  Ready To Move  ...     1.0   51.00\n",
              "\n",
              "[5 rows x 9 columns]"
            ]
          },
          "metadata": {
            "tags": []
          },
          "execution_count": 27
        }
      ]
    },
    {
      "cell_type": "code",
      "metadata": {
        "colab": {
          "base_uri": "https://localhost:8080/"
        },
        "id": "IRPrpzGxCipn",
        "outputId": "ff22576d-bbb4-45a4-acc0-029a13b28136"
      },
      "source": [
        "df1.isnull().sum()"
      ],
      "execution_count": 28,
      "outputs": [
        {
          "output_type": "execute_result",
          "data": {
            "text/plain": [
              "location       1\n",
              "size          16\n",
              "total_sqft     0\n",
              "bath          73\n",
              "price          0\n",
              "dtype: int64"
            ]
          },
          "metadata": {
            "tags": []
          },
          "execution_count": 28
        }
      ]
    },
    {
      "cell_type": "code",
      "metadata": {
        "colab": {
          "base_uri": "https://localhost:8080/"
        },
        "id": "tFD5c5rECrJQ",
        "outputId": "9928e7a3-2b34-44fa-c48e-5a497fc091ca"
      },
      "source": [
        "df2 = df1.dropna()\n",
        "df2.isnull().sum()"
      ],
      "execution_count": 29,
      "outputs": [
        {
          "output_type": "execute_result",
          "data": {
            "text/plain": [
              "location      0\n",
              "size          0\n",
              "total_sqft    0\n",
              "bath          0\n",
              "price         0\n",
              "dtype: int64"
            ]
          },
          "metadata": {
            "tags": []
          },
          "execution_count": 29
        }
      ]
    },
    {
      "cell_type": "code",
      "metadata": {
        "colab": {
          "base_uri": "https://localhost:8080/"
        },
        "id": "YMPI4gcbCrL9",
        "outputId": "3e4a7c21-8ab6-489a-8f9b-1f42a1de555d"
      },
      "source": [
        "df2.shape"
      ],
      "execution_count": 30,
      "outputs": [
        {
          "output_type": "execute_result",
          "data": {
            "text/plain": [
              "(13246, 5)"
            ]
          },
          "metadata": {
            "tags": []
          },
          "execution_count": 30
        }
      ]
    },
    {
      "cell_type": "code",
      "metadata": {
        "colab": {
          "base_uri": "https://localhost:8080/"
        },
        "id": "VxGr1VAeCrPT",
        "outputId": "17efd87b-5135-42ec-977f-bdfd28a981cd"
      },
      "source": [
        "df2[\"size\"].unique()"
      ],
      "execution_count": 31,
      "outputs": [
        {
          "output_type": "execute_result",
          "data": {
            "text/plain": [
              "array(['2 BHK', '4 Bedroom', '3 BHK', '4 BHK', '6 Bedroom', '3 Bedroom',\n",
              "       '1 BHK', '1 RK', '1 Bedroom', '8 Bedroom', '2 Bedroom',\n",
              "       '7 Bedroom', '5 BHK', '7 BHK', '6 BHK', '5 Bedroom', '11 BHK',\n",
              "       '9 BHK', '9 Bedroom', '27 BHK', '10 Bedroom', '11 Bedroom',\n",
              "       '10 BHK', '19 BHK', '16 BHK', '43 Bedroom', '14 BHK', '8 BHK',\n",
              "       '12 Bedroom', '13 BHK', '18 Bedroom'], dtype=object)"
            ]
          },
          "metadata": {
            "tags": []
          },
          "execution_count": 31
        }
      ]
    },
    {
      "cell_type": "code",
      "metadata": {
        "colab": {
          "base_uri": "https://localhost:8080/"
        },
        "id": "0jaZJbaaCrRc",
        "outputId": "9f6cf63a-e77c-4fe1-f236-46803b9d8e6b"
      },
      "source": [
        "df2['bhk']= df2['size'].apply(lambda x: int(x.split(' ')[0]))"
      ],
      "execution_count": 32,
      "outputs": [
        {
          "output_type": "stream",
          "text": [
            "/usr/local/lib/python3.6/dist-packages/ipykernel_launcher.py:1: SettingWithCopyWarning: \n",
            "A value is trying to be set on a copy of a slice from a DataFrame.\n",
            "Try using .loc[row_indexer,col_indexer] = value instead\n",
            "\n",
            "See the caveats in the documentation: https://pandas.pydata.org/pandas-docs/stable/user_guide/indexing.html#returning-a-view-versus-a-copy\n",
            "  \"\"\"Entry point for launching an IPython kernel.\n"
          ],
          "name": "stderr"
        }
      ]
    },
    {
      "cell_type": "code",
      "metadata": {
        "colab": {
          "base_uri": "https://localhost:8080/",
          "height": 198
        },
        "id": "nNVXZwGpCrUB",
        "outputId": "e3a001cf-12fc-445a-f326-7d63843a193f"
      },
      "source": [
        "df2.head()"
      ],
      "execution_count": 33,
      "outputs": [
        {
          "output_type": "execute_result",
          "data": {
            "text/html": [
              "<div>\n",
              "<style scoped>\n",
              "    .dataframe tbody tr th:only-of-type {\n",
              "        vertical-align: middle;\n",
              "    }\n",
              "\n",
              "    .dataframe tbody tr th {\n",
              "        vertical-align: top;\n",
              "    }\n",
              "\n",
              "    .dataframe thead th {\n",
              "        text-align: right;\n",
              "    }\n",
              "</style>\n",
              "<table border=\"1\" class=\"dataframe\">\n",
              "  <thead>\n",
              "    <tr style=\"text-align: right;\">\n",
              "      <th></th>\n",
              "      <th>location</th>\n",
              "      <th>size</th>\n",
              "      <th>total_sqft</th>\n",
              "      <th>bath</th>\n",
              "      <th>price</th>\n",
              "      <th>bhk</th>\n",
              "    </tr>\n",
              "  </thead>\n",
              "  <tbody>\n",
              "    <tr>\n",
              "      <th>0</th>\n",
              "      <td>Electronic City Phase II</td>\n",
              "      <td>2 BHK</td>\n",
              "      <td>1056</td>\n",
              "      <td>2.0</td>\n",
              "      <td>39.07</td>\n",
              "      <td>2</td>\n",
              "    </tr>\n",
              "    <tr>\n",
              "      <th>1</th>\n",
              "      <td>Chikka Tirupathi</td>\n",
              "      <td>4 Bedroom</td>\n",
              "      <td>2600</td>\n",
              "      <td>5.0</td>\n",
              "      <td>120.00</td>\n",
              "      <td>4</td>\n",
              "    </tr>\n",
              "    <tr>\n",
              "      <th>2</th>\n",
              "      <td>Uttarahalli</td>\n",
              "      <td>3 BHK</td>\n",
              "      <td>1440</td>\n",
              "      <td>2.0</td>\n",
              "      <td>62.00</td>\n",
              "      <td>3</td>\n",
              "    </tr>\n",
              "    <tr>\n",
              "      <th>3</th>\n",
              "      <td>Lingadheeranahalli</td>\n",
              "      <td>3 BHK</td>\n",
              "      <td>1521</td>\n",
              "      <td>3.0</td>\n",
              "      <td>95.00</td>\n",
              "      <td>3</td>\n",
              "    </tr>\n",
              "    <tr>\n",
              "      <th>4</th>\n",
              "      <td>Kothanur</td>\n",
              "      <td>2 BHK</td>\n",
              "      <td>1200</td>\n",
              "      <td>2.0</td>\n",
              "      <td>51.00</td>\n",
              "      <td>2</td>\n",
              "    </tr>\n",
              "  </tbody>\n",
              "</table>\n",
              "</div>"
            ],
            "text/plain": [
              "                   location       size total_sqft  bath   price  bhk\n",
              "0  Electronic City Phase II      2 BHK       1056   2.0   39.07    2\n",
              "1          Chikka Tirupathi  4 Bedroom       2600   5.0  120.00    4\n",
              "2               Uttarahalli      3 BHK       1440   2.0   62.00    3\n",
              "3        Lingadheeranahalli      3 BHK       1521   3.0   95.00    3\n",
              "4                  Kothanur      2 BHK       1200   2.0   51.00    2"
            ]
          },
          "metadata": {
            "tags": []
          },
          "execution_count": 33
        }
      ]
    },
    {
      "cell_type": "code",
      "metadata": {
        "colab": {
          "base_uri": "https://localhost:8080/",
          "height": 285
        },
        "id": "nw9tPMJZDS2u",
        "outputId": "05f33464-19c3-442c-de77-54d52b5be1a2"
      },
      "source": [
        "df2.drop(['size'],axis='columns',inplace=True)\n",
        "df2.head()"
      ],
      "execution_count": 34,
      "outputs": [
        {
          "output_type": "stream",
          "text": [
            "/usr/local/lib/python3.6/dist-packages/pandas/core/frame.py:4174: SettingWithCopyWarning: \n",
            "A value is trying to be set on a copy of a slice from a DataFrame\n",
            "\n",
            "See the caveats in the documentation: https://pandas.pydata.org/pandas-docs/stable/user_guide/indexing.html#returning-a-view-versus-a-copy\n",
            "  errors=errors,\n"
          ],
          "name": "stderr"
        },
        {
          "output_type": "execute_result",
          "data": {
            "text/html": [
              "<div>\n",
              "<style scoped>\n",
              "    .dataframe tbody tr th:only-of-type {\n",
              "        vertical-align: middle;\n",
              "    }\n",
              "\n",
              "    .dataframe tbody tr th {\n",
              "        vertical-align: top;\n",
              "    }\n",
              "\n",
              "    .dataframe thead th {\n",
              "        text-align: right;\n",
              "    }\n",
              "</style>\n",
              "<table border=\"1\" class=\"dataframe\">\n",
              "  <thead>\n",
              "    <tr style=\"text-align: right;\">\n",
              "      <th></th>\n",
              "      <th>location</th>\n",
              "      <th>total_sqft</th>\n",
              "      <th>bath</th>\n",
              "      <th>price</th>\n",
              "      <th>bhk</th>\n",
              "    </tr>\n",
              "  </thead>\n",
              "  <tbody>\n",
              "    <tr>\n",
              "      <th>0</th>\n",
              "      <td>Electronic City Phase II</td>\n",
              "      <td>1056</td>\n",
              "      <td>2.0</td>\n",
              "      <td>39.07</td>\n",
              "      <td>2</td>\n",
              "    </tr>\n",
              "    <tr>\n",
              "      <th>1</th>\n",
              "      <td>Chikka Tirupathi</td>\n",
              "      <td>2600</td>\n",
              "      <td>5.0</td>\n",
              "      <td>120.00</td>\n",
              "      <td>4</td>\n",
              "    </tr>\n",
              "    <tr>\n",
              "      <th>2</th>\n",
              "      <td>Uttarahalli</td>\n",
              "      <td>1440</td>\n",
              "      <td>2.0</td>\n",
              "      <td>62.00</td>\n",
              "      <td>3</td>\n",
              "    </tr>\n",
              "    <tr>\n",
              "      <th>3</th>\n",
              "      <td>Lingadheeranahalli</td>\n",
              "      <td>1521</td>\n",
              "      <td>3.0</td>\n",
              "      <td>95.00</td>\n",
              "      <td>3</td>\n",
              "    </tr>\n",
              "    <tr>\n",
              "      <th>4</th>\n",
              "      <td>Kothanur</td>\n",
              "      <td>1200</td>\n",
              "      <td>2.0</td>\n",
              "      <td>51.00</td>\n",
              "      <td>2</td>\n",
              "    </tr>\n",
              "  </tbody>\n",
              "</table>\n",
              "</div>"
            ],
            "text/plain": [
              "                   location total_sqft  bath   price  bhk\n",
              "0  Electronic City Phase II       1056   2.0   39.07    2\n",
              "1          Chikka Tirupathi       2600   5.0  120.00    4\n",
              "2               Uttarahalli       1440   2.0   62.00    3\n",
              "3        Lingadheeranahalli       1521   3.0   95.00    3\n",
              "4                  Kothanur       1200   2.0   51.00    2"
            ]
          },
          "metadata": {
            "tags": []
          },
          "execution_count": 34
        }
      ]
    },
    {
      "cell_type": "code",
      "metadata": {
        "id": "37MS0jo4DS5f"
      },
      "source": [
        "def is_float(x):\n",
        "    try:\n",
        "        float(x)\n",
        "    except:\n",
        "        return False\n",
        "    return True"
      ],
      "execution_count": 35,
      "outputs": []
    },
    {
      "cell_type": "code",
      "metadata": {
        "colab": {
          "base_uri": "https://localhost:8080/",
          "height": 348
        },
        "id": "20zQeJThDS8f",
        "outputId": "402342da-731a-4518-ec5a-d6a050aedda9"
      },
      "source": [
        "df2[~df2['total_sqft'].apply(is_float)].head(10)"
      ],
      "execution_count": 36,
      "outputs": [
        {
          "output_type": "execute_result",
          "data": {
            "text/html": [
              "<div>\n",
              "<style scoped>\n",
              "    .dataframe tbody tr th:only-of-type {\n",
              "        vertical-align: middle;\n",
              "    }\n",
              "\n",
              "    .dataframe tbody tr th {\n",
              "        vertical-align: top;\n",
              "    }\n",
              "\n",
              "    .dataframe thead th {\n",
              "        text-align: right;\n",
              "    }\n",
              "</style>\n",
              "<table border=\"1\" class=\"dataframe\">\n",
              "  <thead>\n",
              "    <tr style=\"text-align: right;\">\n",
              "      <th></th>\n",
              "      <th>location</th>\n",
              "      <th>total_sqft</th>\n",
              "      <th>bath</th>\n",
              "      <th>price</th>\n",
              "      <th>bhk</th>\n",
              "    </tr>\n",
              "  </thead>\n",
              "  <tbody>\n",
              "    <tr>\n",
              "      <th>30</th>\n",
              "      <td>Yelahanka</td>\n",
              "      <td>2100 - 2850</td>\n",
              "      <td>4.0</td>\n",
              "      <td>186.000</td>\n",
              "      <td>4</td>\n",
              "    </tr>\n",
              "    <tr>\n",
              "      <th>122</th>\n",
              "      <td>Hebbal</td>\n",
              "      <td>3067 - 8156</td>\n",
              "      <td>4.0</td>\n",
              "      <td>477.000</td>\n",
              "      <td>4</td>\n",
              "    </tr>\n",
              "    <tr>\n",
              "      <th>137</th>\n",
              "      <td>8th Phase JP Nagar</td>\n",
              "      <td>1042 - 1105</td>\n",
              "      <td>2.0</td>\n",
              "      <td>54.005</td>\n",
              "      <td>2</td>\n",
              "    </tr>\n",
              "    <tr>\n",
              "      <th>165</th>\n",
              "      <td>Sarjapur</td>\n",
              "      <td>1145 - 1340</td>\n",
              "      <td>2.0</td>\n",
              "      <td>43.490</td>\n",
              "      <td>2</td>\n",
              "    </tr>\n",
              "    <tr>\n",
              "      <th>188</th>\n",
              "      <td>KR Puram</td>\n",
              "      <td>1015 - 1540</td>\n",
              "      <td>2.0</td>\n",
              "      <td>56.800</td>\n",
              "      <td>2</td>\n",
              "    </tr>\n",
              "    <tr>\n",
              "      <th>410</th>\n",
              "      <td>Kengeri</td>\n",
              "      <td>34.46Sq. Meter</td>\n",
              "      <td>1.0</td>\n",
              "      <td>18.500</td>\n",
              "      <td>1</td>\n",
              "    </tr>\n",
              "    <tr>\n",
              "      <th>549</th>\n",
              "      <td>Hennur Road</td>\n",
              "      <td>1195 - 1440</td>\n",
              "      <td>2.0</td>\n",
              "      <td>63.770</td>\n",
              "      <td>2</td>\n",
              "    </tr>\n",
              "    <tr>\n",
              "      <th>648</th>\n",
              "      <td>Arekere</td>\n",
              "      <td>4125Perch</td>\n",
              "      <td>9.0</td>\n",
              "      <td>265.000</td>\n",
              "      <td>9</td>\n",
              "    </tr>\n",
              "    <tr>\n",
              "      <th>661</th>\n",
              "      <td>Yelahanka</td>\n",
              "      <td>1120 - 1145</td>\n",
              "      <td>2.0</td>\n",
              "      <td>48.130</td>\n",
              "      <td>2</td>\n",
              "    </tr>\n",
              "    <tr>\n",
              "      <th>672</th>\n",
              "      <td>Bettahalsoor</td>\n",
              "      <td>3090 - 5002</td>\n",
              "      <td>4.0</td>\n",
              "      <td>445.000</td>\n",
              "      <td>4</td>\n",
              "    </tr>\n",
              "  </tbody>\n",
              "</table>\n",
              "</div>"
            ],
            "text/plain": [
              "               location      total_sqft  bath    price  bhk\n",
              "30            Yelahanka     2100 - 2850   4.0  186.000    4\n",
              "122              Hebbal     3067 - 8156   4.0  477.000    4\n",
              "137  8th Phase JP Nagar     1042 - 1105   2.0   54.005    2\n",
              "165            Sarjapur     1145 - 1340   2.0   43.490    2\n",
              "188            KR Puram     1015 - 1540   2.0   56.800    2\n",
              "410             Kengeri  34.46Sq. Meter   1.0   18.500    1\n",
              "549         Hennur Road     1195 - 1440   2.0   63.770    2\n",
              "648             Arekere       4125Perch   9.0  265.000    9\n",
              "661           Yelahanka     1120 - 1145   2.0   48.130    2\n",
              "672        Bettahalsoor     3090 - 5002   4.0  445.000    4"
            ]
          },
          "metadata": {
            "tags": []
          },
          "execution_count": 36
        }
      ]
    },
    {
      "cell_type": "code",
      "metadata": {
        "id": "TZQYffiwDTA2"
      },
      "source": [
        "\n",
        "def convert_sqft_to_num(x):\n",
        "    tokens = x.split('-')\n",
        "    if len(tokens) == 2:\n",
        "        return (float(tokens[0])+float(tokens[1]))/2\n",
        "    try:\n",
        "        return float(x)\n",
        "    except:\n",
        "        return None"
      ],
      "execution_count": 37,
      "outputs": []
    },
    {
      "cell_type": "code",
      "metadata": {
        "colab": {
          "base_uri": "https://localhost:8080/",
          "height": 108
        },
        "id": "rAoU5Q3GDTNj",
        "outputId": "28723953-a80e-408b-9faf-57d8d51826d1"
      },
      "source": [
        "df3 = df2.copy()\n",
        "df3.total_sqft = df3.total_sqft.apply(lambda x: convert_sqft_to_num(x))\n",
        "df3 = df3[df3.total_sqft.notnull()]\n",
        "df3.head(2)"
      ],
      "execution_count": 38,
      "outputs": [
        {
          "output_type": "execute_result",
          "data": {
            "text/html": [
              "<div>\n",
              "<style scoped>\n",
              "    .dataframe tbody tr th:only-of-type {\n",
              "        vertical-align: middle;\n",
              "    }\n",
              "\n",
              "    .dataframe tbody tr th {\n",
              "        vertical-align: top;\n",
              "    }\n",
              "\n",
              "    .dataframe thead th {\n",
              "        text-align: right;\n",
              "    }\n",
              "</style>\n",
              "<table border=\"1\" class=\"dataframe\">\n",
              "  <thead>\n",
              "    <tr style=\"text-align: right;\">\n",
              "      <th></th>\n",
              "      <th>location</th>\n",
              "      <th>total_sqft</th>\n",
              "      <th>bath</th>\n",
              "      <th>price</th>\n",
              "      <th>bhk</th>\n",
              "    </tr>\n",
              "  </thead>\n",
              "  <tbody>\n",
              "    <tr>\n",
              "      <th>0</th>\n",
              "      <td>Electronic City Phase II</td>\n",
              "      <td>1056.0</td>\n",
              "      <td>2.0</td>\n",
              "      <td>39.07</td>\n",
              "      <td>2</td>\n",
              "    </tr>\n",
              "    <tr>\n",
              "      <th>1</th>\n",
              "      <td>Chikka Tirupathi</td>\n",
              "      <td>2600.0</td>\n",
              "      <td>5.0</td>\n",
              "      <td>120.00</td>\n",
              "      <td>4</td>\n",
              "    </tr>\n",
              "  </tbody>\n",
              "</table>\n",
              "</div>"
            ],
            "text/plain": [
              "                   location  total_sqft  bath   price  bhk\n",
              "0  Electronic City Phase II      1056.0   2.0   39.07    2\n",
              "1          Chikka Tirupathi      2600.0   5.0  120.00    4"
            ]
          },
          "metadata": {
            "tags": []
          },
          "execution_count": 38
        }
      ]
    },
    {
      "cell_type": "code",
      "metadata": {
        "colab": {
          "base_uri": "https://localhost:8080/",
          "height": 198
        },
        "id": "-fRQcAOJEEim",
        "outputId": "2d65a148-c013-4ac0-8c92-aa77d68a3a6d"
      },
      "source": [
        "df4 = df3.copy()\n",
        "df4['price_per_sqft'] = df4['price']*100000/df4['total_sqft']\n",
        "df4.head()"
      ],
      "execution_count": 39,
      "outputs": [
        {
          "output_type": "execute_result",
          "data": {
            "text/html": [
              "<div>\n",
              "<style scoped>\n",
              "    .dataframe tbody tr th:only-of-type {\n",
              "        vertical-align: middle;\n",
              "    }\n",
              "\n",
              "    .dataframe tbody tr th {\n",
              "        vertical-align: top;\n",
              "    }\n",
              "\n",
              "    .dataframe thead th {\n",
              "        text-align: right;\n",
              "    }\n",
              "</style>\n",
              "<table border=\"1\" class=\"dataframe\">\n",
              "  <thead>\n",
              "    <tr style=\"text-align: right;\">\n",
              "      <th></th>\n",
              "      <th>location</th>\n",
              "      <th>total_sqft</th>\n",
              "      <th>bath</th>\n",
              "      <th>price</th>\n",
              "      <th>bhk</th>\n",
              "      <th>price_per_sqft</th>\n",
              "    </tr>\n",
              "  </thead>\n",
              "  <tbody>\n",
              "    <tr>\n",
              "      <th>0</th>\n",
              "      <td>Electronic City Phase II</td>\n",
              "      <td>1056.0</td>\n",
              "      <td>2.0</td>\n",
              "      <td>39.07</td>\n",
              "      <td>2</td>\n",
              "      <td>3699.810606</td>\n",
              "    </tr>\n",
              "    <tr>\n",
              "      <th>1</th>\n",
              "      <td>Chikka Tirupathi</td>\n",
              "      <td>2600.0</td>\n",
              "      <td>5.0</td>\n",
              "      <td>120.00</td>\n",
              "      <td>4</td>\n",
              "      <td>4615.384615</td>\n",
              "    </tr>\n",
              "    <tr>\n",
              "      <th>2</th>\n",
              "      <td>Uttarahalli</td>\n",
              "      <td>1440.0</td>\n",
              "      <td>2.0</td>\n",
              "      <td>62.00</td>\n",
              "      <td>3</td>\n",
              "      <td>4305.555556</td>\n",
              "    </tr>\n",
              "    <tr>\n",
              "      <th>3</th>\n",
              "      <td>Lingadheeranahalli</td>\n",
              "      <td>1521.0</td>\n",
              "      <td>3.0</td>\n",
              "      <td>95.00</td>\n",
              "      <td>3</td>\n",
              "      <td>6245.890861</td>\n",
              "    </tr>\n",
              "    <tr>\n",
              "      <th>4</th>\n",
              "      <td>Kothanur</td>\n",
              "      <td>1200.0</td>\n",
              "      <td>2.0</td>\n",
              "      <td>51.00</td>\n",
              "      <td>2</td>\n",
              "      <td>4250.000000</td>\n",
              "    </tr>\n",
              "  </tbody>\n",
              "</table>\n",
              "</div>"
            ],
            "text/plain": [
              "                   location  total_sqft  bath   price  bhk  price_per_sqft\n",
              "0  Electronic City Phase II      1056.0   2.0   39.07    2     3699.810606\n",
              "1          Chikka Tirupathi      2600.0   5.0  120.00    4     4615.384615\n",
              "2               Uttarahalli      1440.0   2.0   62.00    3     4305.555556\n",
              "3        Lingadheeranahalli      1521.0   3.0   95.00    3     6245.890861\n",
              "4                  Kothanur      1200.0   2.0   51.00    2     4250.000000"
            ]
          },
          "metadata": {
            "tags": []
          },
          "execution_count": 39
        }
      ]
    },
    {
      "cell_type": "code",
      "metadata": {
        "colab": {
          "base_uri": "https://localhost:8080/"
        },
        "id": "Or1OVO0bEHIl",
        "outputId": "f52bc221-5ee1-4cb9-953f-373f569222a7"
      },
      "source": [
        "df4_stats = df4['price_per_sqft'].describe()\n",
        "df4_stats"
      ],
      "execution_count": 40,
      "outputs": [
        {
          "output_type": "execute_result",
          "data": {
            "text/plain": [
              "count    1.320000e+04\n",
              "mean     7.920759e+03\n",
              "std      1.067272e+05\n",
              "min      2.678298e+02\n",
              "25%      4.267701e+03\n",
              "50%      5.438331e+03\n",
              "75%      7.317073e+03\n",
              "max      1.200000e+07\n",
              "Name: price_per_sqft, dtype: float64"
            ]
          },
          "metadata": {
            "tags": []
          },
          "execution_count": 40
        }
      ]
    },
    {
      "cell_type": "code",
      "metadata": {
        "colab": {
          "base_uri": "https://localhost:8080/"
        },
        "id": "l7viTju-EHLY",
        "outputId": "18fd2388-2c86-4f24-bc63-dfce891fd018"
      },
      "source": [
        "df4.location = df4.location.apply(lambda x: x.strip())\n",
        "location_stats = df4['location'].value_counts(ascending=False)\n",
        "location_stats"
      ],
      "execution_count": 41,
      "outputs": [
        {
          "output_type": "execute_result",
          "data": {
            "text/plain": [
              "Whitefield                   533\n",
              "Sarjapur  Road               392\n",
              "Electronic City              304\n",
              "Kanakpura Road               264\n",
              "Thanisandra                  235\n",
              "                            ... \n",
              "Lakshmipura Vidyaanyapura      1\n",
              "Subramanyanagar                1\n",
              "Amrita Nagar                   1\n",
              "Banagirinagar                  1\n",
              "Keerthi Layout                 1\n",
              "Name: location, Length: 1287, dtype: int64"
            ]
          },
          "metadata": {
            "tags": []
          },
          "execution_count": 41
        }
      ]
    },
    {
      "cell_type": "code",
      "metadata": {
        "colab": {
          "base_uri": "https://localhost:8080/"
        },
        "id": "GvZStZkPEHRL",
        "outputId": "55d3ef1f-4880-48c9-b481-5833df532517"
      },
      "source": [
        "len(location_stats[location_stats<=10])"
      ],
      "execution_count": 42,
      "outputs": [
        {
          "output_type": "execute_result",
          "data": {
            "text/plain": [
              "1047"
            ]
          },
          "metadata": {
            "tags": []
          },
          "execution_count": 42
        }
      ]
    },
    {
      "cell_type": "code",
      "metadata": {
        "colab": {
          "base_uri": "https://localhost:8080/"
        },
        "id": "mmVIzTlQEHUG",
        "outputId": "85bdccb3-7e19-40f0-c965-d7b6a5d3b3fc"
      },
      "source": [
        "location_stats_less_than_10 = location_stats[location_stats<=10]\n",
        "location_stats_less_than_10"
      ],
      "execution_count": 43,
      "outputs": [
        {
          "output_type": "execute_result",
          "data": {
            "text/plain": [
              "Dodsworth Layout             10\n",
              "Ganga Nagar                  10\n",
              "Basapura                     10\n",
              "Sector 1 HSR Layout          10\n",
              "BTM 1st Stage                10\n",
              "                             ..\n",
              "Lakshmipura Vidyaanyapura     1\n",
              "Subramanyanagar               1\n",
              "Amrita Nagar                  1\n",
              "Banagirinagar                 1\n",
              "Keerthi Layout                1\n",
              "Name: location, Length: 1047, dtype: int64"
            ]
          },
          "metadata": {
            "tags": []
          },
          "execution_count": 43
        }
      ]
    },
    {
      "cell_type": "code",
      "metadata": {
        "colab": {
          "base_uri": "https://localhost:8080/"
        },
        "id": "MzxHobPQElaj",
        "outputId": "d9541582-af88-49c6-d256-d0d91f9e5438"
      },
      "source": [
        "df4.location = df4.location.apply(lambda x: 'other' if x in location_stats_less_than_10 else x)\n",
        "len(df4.location.unique())"
      ],
      "execution_count": 44,
      "outputs": [
        {
          "output_type": "execute_result",
          "data": {
            "text/plain": [
              "241"
            ]
          },
          "metadata": {
            "tags": []
          },
          "execution_count": 44
        }
      ]
    },
    {
      "cell_type": "code",
      "metadata": {
        "colab": {
          "base_uri": "https://localhost:8080/",
          "height": 348
        },
        "id": "comCn4xRGD9K",
        "outputId": "6c4266da-505b-459d-f36f-8fd1bb68d5c4"
      },
      "source": [
        "df4.head(10)"
      ],
      "execution_count": 45,
      "outputs": [
        {
          "output_type": "execute_result",
          "data": {
            "text/html": [
              "<div>\n",
              "<style scoped>\n",
              "    .dataframe tbody tr th:only-of-type {\n",
              "        vertical-align: middle;\n",
              "    }\n",
              "\n",
              "    .dataframe tbody tr th {\n",
              "        vertical-align: top;\n",
              "    }\n",
              "\n",
              "    .dataframe thead th {\n",
              "        text-align: right;\n",
              "    }\n",
              "</style>\n",
              "<table border=\"1\" class=\"dataframe\">\n",
              "  <thead>\n",
              "    <tr style=\"text-align: right;\">\n",
              "      <th></th>\n",
              "      <th>location</th>\n",
              "      <th>total_sqft</th>\n",
              "      <th>bath</th>\n",
              "      <th>price</th>\n",
              "      <th>bhk</th>\n",
              "      <th>price_per_sqft</th>\n",
              "    </tr>\n",
              "  </thead>\n",
              "  <tbody>\n",
              "    <tr>\n",
              "      <th>0</th>\n",
              "      <td>Electronic City Phase II</td>\n",
              "      <td>1056.0</td>\n",
              "      <td>2.0</td>\n",
              "      <td>39.07</td>\n",
              "      <td>2</td>\n",
              "      <td>3699.810606</td>\n",
              "    </tr>\n",
              "    <tr>\n",
              "      <th>1</th>\n",
              "      <td>Chikka Tirupathi</td>\n",
              "      <td>2600.0</td>\n",
              "      <td>5.0</td>\n",
              "      <td>120.00</td>\n",
              "      <td>4</td>\n",
              "      <td>4615.384615</td>\n",
              "    </tr>\n",
              "    <tr>\n",
              "      <th>2</th>\n",
              "      <td>Uttarahalli</td>\n",
              "      <td>1440.0</td>\n",
              "      <td>2.0</td>\n",
              "      <td>62.00</td>\n",
              "      <td>3</td>\n",
              "      <td>4305.555556</td>\n",
              "    </tr>\n",
              "    <tr>\n",
              "      <th>3</th>\n",
              "      <td>Lingadheeranahalli</td>\n",
              "      <td>1521.0</td>\n",
              "      <td>3.0</td>\n",
              "      <td>95.00</td>\n",
              "      <td>3</td>\n",
              "      <td>6245.890861</td>\n",
              "    </tr>\n",
              "    <tr>\n",
              "      <th>4</th>\n",
              "      <td>Kothanur</td>\n",
              "      <td>1200.0</td>\n",
              "      <td>2.0</td>\n",
              "      <td>51.00</td>\n",
              "      <td>2</td>\n",
              "      <td>4250.000000</td>\n",
              "    </tr>\n",
              "    <tr>\n",
              "      <th>5</th>\n",
              "      <td>Whitefield</td>\n",
              "      <td>1170.0</td>\n",
              "      <td>2.0</td>\n",
              "      <td>38.00</td>\n",
              "      <td>2</td>\n",
              "      <td>3247.863248</td>\n",
              "    </tr>\n",
              "    <tr>\n",
              "      <th>6</th>\n",
              "      <td>Old Airport Road</td>\n",
              "      <td>2732.0</td>\n",
              "      <td>4.0</td>\n",
              "      <td>204.00</td>\n",
              "      <td>4</td>\n",
              "      <td>7467.057101</td>\n",
              "    </tr>\n",
              "    <tr>\n",
              "      <th>7</th>\n",
              "      <td>Rajaji Nagar</td>\n",
              "      <td>3300.0</td>\n",
              "      <td>4.0</td>\n",
              "      <td>600.00</td>\n",
              "      <td>4</td>\n",
              "      <td>18181.818182</td>\n",
              "    </tr>\n",
              "    <tr>\n",
              "      <th>8</th>\n",
              "      <td>Marathahalli</td>\n",
              "      <td>1310.0</td>\n",
              "      <td>3.0</td>\n",
              "      <td>63.25</td>\n",
              "      <td>3</td>\n",
              "      <td>4828.244275</td>\n",
              "    </tr>\n",
              "    <tr>\n",
              "      <th>9</th>\n",
              "      <td>other</td>\n",
              "      <td>1020.0</td>\n",
              "      <td>6.0</td>\n",
              "      <td>370.00</td>\n",
              "      <td>6</td>\n",
              "      <td>36274.509804</td>\n",
              "    </tr>\n",
              "  </tbody>\n",
              "</table>\n",
              "</div>"
            ],
            "text/plain": [
              "                   location  total_sqft  bath   price  bhk  price_per_sqft\n",
              "0  Electronic City Phase II      1056.0   2.0   39.07    2     3699.810606\n",
              "1          Chikka Tirupathi      2600.0   5.0  120.00    4     4615.384615\n",
              "2               Uttarahalli      1440.0   2.0   62.00    3     4305.555556\n",
              "3        Lingadheeranahalli      1521.0   3.0   95.00    3     6245.890861\n",
              "4                  Kothanur      1200.0   2.0   51.00    2     4250.000000\n",
              "5                Whitefield      1170.0   2.0   38.00    2     3247.863248\n",
              "6          Old Airport Road      2732.0   4.0  204.00    4     7467.057101\n",
              "7              Rajaji Nagar      3300.0   4.0  600.00    4    18181.818182\n",
              "8              Marathahalli      1310.0   3.0   63.25    3     4828.244275\n",
              "9                     other      1020.0   6.0  370.00    6    36274.509804"
            ]
          },
          "metadata": {
            "tags": []
          },
          "execution_count": 45
        }
      ]
    },
    {
      "cell_type": "code",
      "metadata": {
        "colab": {
          "base_uri": "https://localhost:8080/",
          "height": 198
        },
        "id": "9-HrA-1AGEAw",
        "outputId": "c10f770a-02a3-4437-c599-afed73315622"
      },
      "source": [
        "df4[df4.total_sqft/df4.bhk<300].head()"
      ],
      "execution_count": 46,
      "outputs": [
        {
          "output_type": "execute_result",
          "data": {
            "text/html": [
              "<div>\n",
              "<style scoped>\n",
              "    .dataframe tbody tr th:only-of-type {\n",
              "        vertical-align: middle;\n",
              "    }\n",
              "\n",
              "    .dataframe tbody tr th {\n",
              "        vertical-align: top;\n",
              "    }\n",
              "\n",
              "    .dataframe thead th {\n",
              "        text-align: right;\n",
              "    }\n",
              "</style>\n",
              "<table border=\"1\" class=\"dataframe\">\n",
              "  <thead>\n",
              "    <tr style=\"text-align: right;\">\n",
              "      <th></th>\n",
              "      <th>location</th>\n",
              "      <th>total_sqft</th>\n",
              "      <th>bath</th>\n",
              "      <th>price</th>\n",
              "      <th>bhk</th>\n",
              "      <th>price_per_sqft</th>\n",
              "    </tr>\n",
              "  </thead>\n",
              "  <tbody>\n",
              "    <tr>\n",
              "      <th>9</th>\n",
              "      <td>other</td>\n",
              "      <td>1020.0</td>\n",
              "      <td>6.0</td>\n",
              "      <td>370.0</td>\n",
              "      <td>6</td>\n",
              "      <td>36274.509804</td>\n",
              "    </tr>\n",
              "    <tr>\n",
              "      <th>45</th>\n",
              "      <td>HSR Layout</td>\n",
              "      <td>600.0</td>\n",
              "      <td>9.0</td>\n",
              "      <td>200.0</td>\n",
              "      <td>8</td>\n",
              "      <td>33333.333333</td>\n",
              "    </tr>\n",
              "    <tr>\n",
              "      <th>58</th>\n",
              "      <td>Murugeshpalya</td>\n",
              "      <td>1407.0</td>\n",
              "      <td>4.0</td>\n",
              "      <td>150.0</td>\n",
              "      <td>6</td>\n",
              "      <td>10660.980810</td>\n",
              "    </tr>\n",
              "    <tr>\n",
              "      <th>68</th>\n",
              "      <td>Devarachikkanahalli</td>\n",
              "      <td>1350.0</td>\n",
              "      <td>7.0</td>\n",
              "      <td>85.0</td>\n",
              "      <td>8</td>\n",
              "      <td>6296.296296</td>\n",
              "    </tr>\n",
              "    <tr>\n",
              "      <th>70</th>\n",
              "      <td>other</td>\n",
              "      <td>500.0</td>\n",
              "      <td>3.0</td>\n",
              "      <td>100.0</td>\n",
              "      <td>3</td>\n",
              "      <td>20000.000000</td>\n",
              "    </tr>\n",
              "  </tbody>\n",
              "</table>\n",
              "</div>"
            ],
            "text/plain": [
              "               location  total_sqft  bath  price  bhk  price_per_sqft\n",
              "9                 other      1020.0   6.0  370.0    6    36274.509804\n",
              "45           HSR Layout       600.0   9.0  200.0    8    33333.333333\n",
              "58        Murugeshpalya      1407.0   4.0  150.0    6    10660.980810\n",
              "68  Devarachikkanahalli      1350.0   7.0   85.0    8     6296.296296\n",
              "70                other       500.0   3.0  100.0    3    20000.000000"
            ]
          },
          "metadata": {
            "tags": []
          },
          "execution_count": 46
        }
      ]
    },
    {
      "cell_type": "code",
      "metadata": {
        "colab": {
          "base_uri": "https://localhost:8080/"
        },
        "id": "zoIG92AtGEC1",
        "outputId": "5affb01d-e32e-43d4-cbff-95346fa2645c"
      },
      "source": [
        "df5 = df4[~(df4.total_sqft/df4.bhk<300)]\n",
        "df5.shape"
      ],
      "execution_count": 47,
      "outputs": [
        {
          "output_type": "execute_result",
          "data": {
            "text/plain": [
              "(12456, 6)"
            ]
          },
          "metadata": {
            "tags": []
          },
          "execution_count": 47
        }
      ]
    },
    {
      "cell_type": "code",
      "metadata": {
        "colab": {
          "base_uri": "https://localhost:8080/"
        },
        "id": "XqjxV7nrG_H8",
        "outputId": "c8aaa073-20f5-40e3-9c73-dc15a711678f"
      },
      "source": [
        "df5.price_per_sqft.describe()"
      ],
      "execution_count": 48,
      "outputs": [
        {
          "output_type": "execute_result",
          "data": {
            "text/plain": [
              "count     12456.000000\n",
              "mean       6308.502826\n",
              "std        4168.127339\n",
              "min         267.829813\n",
              "25%        4210.526316\n",
              "50%        5294.117647\n",
              "75%        6916.666667\n",
              "max      176470.588235\n",
              "Name: price_per_sqft, dtype: float64"
            ]
          },
          "metadata": {
            "tags": []
          },
          "execution_count": 48
        }
      ]
    },
    {
      "cell_type": "code",
      "metadata": {
        "colab": {
          "base_uri": "https://localhost:8080/"
        },
        "id": "SFz12zkGG_JU",
        "outputId": "0af8736c-6586-4ad8-db0c-c1303652e466"
      },
      "source": [
        "def remove_pps_outliers(df):\n",
        "    df_out = pd.DataFrame()\n",
        "    for key, subdf in df.groupby('location'):\n",
        "        m = np.mean(subdf.price_per_sqft)\n",
        "        st = np.std(subdf.price_per_sqft)\n",
        "        reduced_df = subdf[(subdf.price_per_sqft>(m-st)) & (subdf.price_per_sqft<=(m+st))]\n",
        "        df_out = pd.concat([df_out,reduced_df],ignore_index=True)\n",
        "    return df_out\n",
        "df6 = remove_pps_outliers(df5)\n",
        "df6.shape"
      ],
      "execution_count": 49,
      "outputs": [
        {
          "output_type": "execute_result",
          "data": {
            "text/plain": [
              "(10242, 6)"
            ]
          },
          "metadata": {
            "tags": []
          },
          "execution_count": 49
        }
      ]
    },
    {
      "cell_type": "code",
      "metadata": {
        "colab": {
          "base_uri": "https://localhost:8080/",
          "height": 621
        },
        "id": "MgZzNwVQG_Md",
        "outputId": "fc9ebe8e-8462-4987-daae-1170917d9e27"
      },
      "source": [
        "def plot_scatter_chart(df,location):\n",
        "    bhk2 = df[(df.location==location) & (df.bhk==2)]\n",
        "    bhk3 = df[(df.location==location) & (df.bhk==3)]\n",
        "    matplotlib.rcParams['figure.figsize'] = (15,10)\n",
        "    plt.scatter(bhk2.total_sqft,bhk2.price,color='blue',label='2 BHK', s=50)\n",
        "    plt.scatter(bhk3.total_sqft,bhk3.price,marker='+', color='green',label='3 BHK', s=50)\n",
        "    plt.xlabel(\"Total Square Feet Area\")\n",
        "    plt.ylabel(\"Price (Lakh Indian Rupees)\")\n",
        "    plt.title(location)\n",
        "    plt.legend()\n",
        "    \n",
        "plot_scatter_chart(df6,\"Rajaji Nagar\")"
      ],
      "execution_count": 50,
      "outputs": [
        {
          "output_type": "display_data",
          "data": {
            "image/png": "[encoded data removed]",
            "text/plain": [
              "<Figure size 1080x720 with 1 Axes>"
            ]
          },
          "metadata": {
            "tags": [],
            "needs_background": "light"
          }
        }
      ]
    },
    {
      "cell_type": "code",
      "metadata": {
        "colab": {
          "base_uri": "https://localhost:8080/",
          "height": 621
        },
        "id": "UV5WZOxxG_VW",
        "outputId": "dd378cd6-6518-41d4-f9ff-815d95acecb4"
      },
      "source": [
        "plot_scatter_chart(df6,\"Hebbal\")"
      ],
      "execution_count": 51,
      "outputs": [
        {
          "output_type": "display_data",
          "data": {
            "image/png": "[encoded data removed]",
            "text/plain": [
              "<Figure size 1080x720 with 1 Axes>"
            ]
          },
          "metadata": {
            "tags": [],
            "needs_background": "light"
          }
        }
      ]
    },
    {
      "cell_type": "code",
      "metadata": {
        "colab": {
          "base_uri": "https://localhost:8080/"
        },
        "id": "0rTnjqHDHWA0",
        "outputId": "fc9cd50e-9f1e-432a-db43-3f97ab0c9c06"
      },
      "source": [
        "def remove_bhk_outliers(df):\n",
        "    exclude_indices = np.array([])\n",
        "    for location, location_df in df.groupby('location'):\n",
        "        bhk_stats = {}\n",
        "        for bhk, bhk_df in location_df.groupby('bhk'):\n",
        "            bhk_stats[bhk] = {\n",
        "                'mean': np.mean(bhk_df.price_per_sqft),\n",
        "                'std': np.std(bhk_df.price_per_sqft),\n",
        "                'count': bhk_df.shape[0]\n",
        "            }\n",
        "        for bhk, bhk_df in location_df.groupby('bhk'):\n",
        "            stats = bhk_stats.get(bhk-1)\n",
        "            if stats and stats['count']>5:\n",
        "                exclude_indices = np.append(exclude_indices, bhk_df[bhk_df.price_per_sqft<(stats['mean'])].index.values)\n",
        "    return df.drop(exclude_indices,axis='index')\n",
        "df7 = remove_bhk_outliers(df6)\n",
        "\n",
        "df7.shape"
      ],
      "execution_count": 52,
      "outputs": [
        {
          "output_type": "execute_result",
          "data": {
            "text/plain": [
              "(7317, 6)"
            ]
          },
          "metadata": {
            "tags": []
          },
          "execution_count": 52
        }
      ]
    },
    {
      "cell_type": "code",
      "metadata": {
        "colab": {
          "base_uri": "https://localhost:8080/",
          "height": 621
        },
        "id": "EJqPKWH9HWDp",
        "outputId": "86cf983f-44af-4f5b-fbc7-0f43e005a5b0"
      },
      "source": [
        "plot_scatter_chart(df7,\"Rajaji Nagar\")"
      ],
      "execution_count": 53,
      "outputs": [
        {
          "output_type": "display_data",
          "data": {
            "image/png": "[encoded data removed]",
            "text/plain": [
              "<Figure size 1080x720 with 1 Axes>"
            ]
          },
          "metadata": {
            "tags": [],
            "needs_background": "light"
          }
        }
      ]
    },
    {
      "cell_type": "code",
      "metadata": {
        "colab": {
          "base_uri": "https://localhost:8080/",
          "height": 624
        },
        "id": "FeCvvjWRHWHJ",
        "outputId": "c26c7fcc-0ff9-427c-c562-678c1a427abf"
      },
      "source": [
        "import matplotlib\n",
        "matplotlib.rcParams[\"figure.figsize\"] = (20,10)\n",
        "plt.hist(df7.price_per_sqft,rwidth=0.8)\n",
        "plt.xlabel(\"Price Per Square Feet\")\n",
        "plt.ylabel(\"Count\")"
      ],
      "execution_count": 54,
      "outputs": [
        {
          "output_type": "execute_result",
          "data": {
            "text/plain": [
              "Text(0, 0.5, 'Count')"
            ]
          },
          "metadata": {
            "tags": []
          },
          "execution_count": 54
        },
        {
          "output_type": "display_data",
          "data": {
            "image/png": "[encoded data removed]",
            "text/plain": [
              "<Figure size 1440x720 with 1 Axes>"
            ]
          },
          "metadata": {
            "tags": [],
            "needs_background": "light"
          }
        }
      ]
    },
    {
      "cell_type": "code",
      "metadata": {
        "colab": {
          "base_uri": "https://localhost:8080/"
        },
        "id": "8v-yjuG0Hq44",
        "outputId": "edffc7fb-cebe-4733-8054-070327f4989e"
      },
      "source": [
        "df7.bath.unique()"
      ],
      "execution_count": 55,
      "outputs": [
        {
          "output_type": "execute_result",
          "data": {
            "text/plain": [
              "array([ 4.,  3.,  2.,  5.,  8.,  1.,  6.,  7.,  9., 12., 16., 13.])"
            ]
          },
          "metadata": {
            "tags": []
          },
          "execution_count": 55
        }
      ]
    },
    {
      "cell_type": "code",
      "metadata": {
        "colab": {
          "base_uri": "https://localhost:8080/",
          "height": 624
        },
        "id": "0UqeX_JrHq6p",
        "outputId": "cd4371b9-afe2-4b3f-eddf-7b7c5cdb5dbf"
      },
      "source": [
        "plt.hist(df7.bath,rwidth=0.8)\n",
        "plt.xlabel(\"Number of bathrooms\")\n",
        "plt.ylabel(\"Count\")"
      ],
      "execution_count": 56,
      "outputs": [
        {
          "output_type": "execute_result",
          "data": {
            "text/plain": [
              "Text(0, 0.5, 'Count')"
            ]
          },
          "metadata": {
            "tags": []
          },
          "execution_count": 56
        },
        {
          "output_type": "display_data",
          "data": {
            "image/png": "[encoded data removed]",
            "text/plain": [
              "<Figure size 1440x720 with 1 Axes>"
            ]
          },
          "metadata": {
            "tags": [],
            "needs_background": "light"
          }
        }
      ]
    },
    {
      "cell_type": "code",
      "metadata": {
        "colab": {
          "base_uri": "https://localhost:8080/",
          "height": 198
        },
        "id": "QQd6wqv0HrG5",
        "outputId": "1b99726a-3ea3-4998-bfa2-5f06909ecac8"
      },
      "source": [
        "df7[df7.bath>10]"
      ],
      "execution_count": 57,
      "outputs": [
        {
          "output_type": "execute_result",
          "data": {
            "text/html": [
              "<div>\n",
              "<style scoped>\n",
              "    .dataframe tbody tr th:only-of-type {\n",
              "        vertical-align: middle;\n",
              "    }\n",
              "\n",
              "    .dataframe tbody tr th {\n",
              "        vertical-align: top;\n",
              "    }\n",
              "\n",
              "    .dataframe thead th {\n",
              "        text-align: right;\n",
              "    }\n",
              "</style>\n",
              "<table border=\"1\" class=\"dataframe\">\n",
              "  <thead>\n",
              "    <tr style=\"text-align: right;\">\n",
              "      <th></th>\n",
              "      <th>location</th>\n",
              "      <th>total_sqft</th>\n",
              "      <th>bath</th>\n",
              "      <th>price</th>\n",
              "      <th>bhk</th>\n",
              "      <th>price_per_sqft</th>\n",
              "    </tr>\n",
              "  </thead>\n",
              "  <tbody>\n",
              "    <tr>\n",
              "      <th>5277</th>\n",
              "      <td>Neeladri Nagar</td>\n",
              "      <td>4000.0</td>\n",
              "      <td>12.0</td>\n",
              "      <td>160.0</td>\n",
              "      <td>10</td>\n",
              "      <td>4000.000000</td>\n",
              "    </tr>\n",
              "    <tr>\n",
              "      <th>8483</th>\n",
              "      <td>other</td>\n",
              "      <td>12000.0</td>\n",
              "      <td>12.0</td>\n",
              "      <td>525.0</td>\n",
              "      <td>10</td>\n",
              "      <td>4375.000000</td>\n",
              "    </tr>\n",
              "    <tr>\n",
              "      <th>8572</th>\n",
              "      <td>other</td>\n",
              "      <td>10000.0</td>\n",
              "      <td>16.0</td>\n",
              "      <td>550.0</td>\n",
              "      <td>16</td>\n",
              "      <td>5500.000000</td>\n",
              "    </tr>\n",
              "    <tr>\n",
              "      <th>9306</th>\n",
              "      <td>other</td>\n",
              "      <td>6000.0</td>\n",
              "      <td>12.0</td>\n",
              "      <td>150.0</td>\n",
              "      <td>11</td>\n",
              "      <td>2500.000000</td>\n",
              "    </tr>\n",
              "    <tr>\n",
              "      <th>9637</th>\n",
              "      <td>other</td>\n",
              "      <td>5425.0</td>\n",
              "      <td>13.0</td>\n",
              "      <td>275.0</td>\n",
              "      <td>13</td>\n",
              "      <td>5069.124424</td>\n",
              "    </tr>\n",
              "  </tbody>\n",
              "</table>\n",
              "</div>"
            ],
            "text/plain": [
              "            location  total_sqft  bath  price  bhk  price_per_sqft\n",
              "5277  Neeladri Nagar      4000.0  12.0  160.0   10     4000.000000\n",
              "8483           other     12000.0  12.0  525.0   10     4375.000000\n",
              "8572           other     10000.0  16.0  550.0   16     5500.000000\n",
              "9306           other      6000.0  12.0  150.0   11     2500.000000\n",
              "9637           other      5425.0  13.0  275.0   13     5069.124424"
            ]
          },
          "metadata": {
            "tags": []
          },
          "execution_count": 57
        }
      ]
    },
    {
      "cell_type": "code",
      "metadata": {
        "colab": {
          "base_uri": "https://localhost:8080/",
          "height": 168
        },
        "id": "SiCpb8JlHrOp",
        "outputId": "2391e2c6-801c-44b3-b562-bd180ce58e38"
      },
      "source": [
        "df7[df7.bath>df7.bhk+2]"
      ],
      "execution_count": 58,
      "outputs": [
        {
          "output_type": "execute_result",
          "data": {
            "text/html": [
              "<div>\n",
              "<style scoped>\n",
              "    .dataframe tbody tr th:only-of-type {\n",
              "        vertical-align: middle;\n",
              "    }\n",
              "\n",
              "    .dataframe tbody tr th {\n",
              "        vertical-align: top;\n",
              "    }\n",
              "\n",
              "    .dataframe thead th {\n",
              "        text-align: right;\n",
              "    }\n",
              "</style>\n",
              "<table border=\"1\" class=\"dataframe\">\n",
              "  <thead>\n",
              "    <tr style=\"text-align: right;\">\n",
              "      <th></th>\n",
              "      <th>location</th>\n",
              "      <th>total_sqft</th>\n",
              "      <th>bath</th>\n",
              "      <th>price</th>\n",
              "      <th>bhk</th>\n",
              "      <th>price_per_sqft</th>\n",
              "    </tr>\n",
              "  </thead>\n",
              "  <tbody>\n",
              "    <tr>\n",
              "      <th>1626</th>\n",
              "      <td>Chikkabanavar</td>\n",
              "      <td>2460.0</td>\n",
              "      <td>7.0</td>\n",
              "      <td>80.0</td>\n",
              "      <td>4</td>\n",
              "      <td>3252.032520</td>\n",
              "    </tr>\n",
              "    <tr>\n",
              "      <th>5238</th>\n",
              "      <td>Nagasandra</td>\n",
              "      <td>7000.0</td>\n",
              "      <td>8.0</td>\n",
              "      <td>450.0</td>\n",
              "      <td>4</td>\n",
              "      <td>6428.571429</td>\n",
              "    </tr>\n",
              "    <tr>\n",
              "      <th>6711</th>\n",
              "      <td>Thanisandra</td>\n",
              "      <td>1806.0</td>\n",
              "      <td>6.0</td>\n",
              "      <td>116.0</td>\n",
              "      <td>3</td>\n",
              "      <td>6423.034330</td>\n",
              "    </tr>\n",
              "    <tr>\n",
              "      <th>8408</th>\n",
              "      <td>other</td>\n",
              "      <td>11338.0</td>\n",
              "      <td>9.0</td>\n",
              "      <td>1000.0</td>\n",
              "      <td>6</td>\n",
              "      <td>8819.897689</td>\n",
              "    </tr>\n",
              "  </tbody>\n",
              "</table>\n",
              "</div>"
            ],
            "text/plain": [
              "           location  total_sqft  bath   price  bhk  price_per_sqft\n",
              "1626  Chikkabanavar      2460.0   7.0    80.0    4     3252.032520\n",
              "5238     Nagasandra      7000.0   8.0   450.0    4     6428.571429\n",
              "6711    Thanisandra      1806.0   6.0   116.0    3     6423.034330\n",
              "8408          other     11338.0   9.0  1000.0    6     8819.897689"
            ]
          },
          "metadata": {
            "tags": []
          },
          "execution_count": 58
        }
      ]
    },
    {
      "cell_type": "code",
      "metadata": {
        "id": "qL_N7zJnIF6_"
      },
      "source": [
        "df8= df7[df7.bath<df7.bhk+2]"
      ],
      "execution_count": 59,
      "outputs": []
    },
    {
      "cell_type": "code",
      "metadata": {
        "colab": {
          "base_uri": "https://localhost:8080/"
        },
        "id": "js88-DwsIGEa",
        "outputId": "9803d273-9499-4a3b-8e2f-3fcb6bcbee18"
      },
      "source": [
        "df8.shape"
      ],
      "execution_count": 60,
      "outputs": [
        {
          "output_type": "execute_result",
          "data": {
            "text/plain": [
              "(7239, 6)"
            ]
          },
          "metadata": {
            "tags": []
          },
          "execution_count": 60
        }
      ]
    },
    {
      "cell_type": "code",
      "metadata": {
        "colab": {
          "base_uri": "https://localhost:8080/",
          "height": 138
        },
        "id": "-aDDqa1uIGQa",
        "outputId": "eec8901e-74aa-4e9b-8561-f4d899a25ce0"
      },
      "source": [
        "df9 = df8.drop(['price_per_sqft'],axis='columns')\n",
        "df9.head(3)"
      ],
      "execution_count": 61,
      "outputs": [
        {
          "output_type": "execute_result",
          "data": {
            "text/html": [
              "<div>\n",
              "<style scoped>\n",
              "    .dataframe tbody tr th:only-of-type {\n",
              "        vertical-align: middle;\n",
              "    }\n",
              "\n",
              "    .dataframe tbody tr th {\n",
              "        vertical-align: top;\n",
              "    }\n",
              "\n",
              "    .dataframe thead th {\n",
              "        text-align: right;\n",
              "    }\n",
              "</style>\n",
              "<table border=\"1\" class=\"dataframe\">\n",
              "  <thead>\n",
              "    <tr style=\"text-align: right;\">\n",
              "      <th></th>\n",
              "      <th>location</th>\n",
              "      <th>total_sqft</th>\n",
              "      <th>bath</th>\n",
              "      <th>price</th>\n",
              "      <th>bhk</th>\n",
              "    </tr>\n",
              "  </thead>\n",
              "  <tbody>\n",
              "    <tr>\n",
              "      <th>0</th>\n",
              "      <td>1st Block Jayanagar</td>\n",
              "      <td>2850.0</td>\n",
              "      <td>4.0</td>\n",
              "      <td>428.0</td>\n",
              "      <td>4</td>\n",
              "    </tr>\n",
              "    <tr>\n",
              "      <th>1</th>\n",
              "      <td>1st Block Jayanagar</td>\n",
              "      <td>1630.0</td>\n",
              "      <td>3.0</td>\n",
              "      <td>194.0</td>\n",
              "      <td>3</td>\n",
              "    </tr>\n",
              "    <tr>\n",
              "      <th>2</th>\n",
              "      <td>1st Block Jayanagar</td>\n",
              "      <td>1875.0</td>\n",
              "      <td>2.0</td>\n",
              "      <td>235.0</td>\n",
              "      <td>3</td>\n",
              "    </tr>\n",
              "  </tbody>\n",
              "</table>\n",
              "</div>"
            ],
            "text/plain": [
              "              location  total_sqft  bath  price  bhk\n",
              "0  1st Block Jayanagar      2850.0   4.0  428.0    4\n",
              "1  1st Block Jayanagar      1630.0   3.0  194.0    3\n",
              "2  1st Block Jayanagar      1875.0   2.0  235.0    3"
            ]
          },
          "metadata": {
            "tags": []
          },
          "execution_count": 61
        }
      ]
    },
    {
      "cell_type": "code",
      "metadata": {
        "colab": {
          "base_uri": "https://localhost:8080/",
          "height": 299
        },
        "id": "OHmja8eeIGXu",
        "outputId": "22a90c85-4b72-410a-c2b8-1fd9dc6f93f2"
      },
      "source": [
        "dummies=pd.get_dummies(df9.location)\n",
        "dummies.head()"
      ],
      "execution_count": 62,
      "outputs": [
        {
          "output_type": "execute_result",
          "data": {
            "text/html": [
              "<div>\n",
              "<style scoped>\n",
              "    .dataframe tbody tr th:only-of-type {\n",
              "        vertical-align: middle;\n",
              "    }\n",
              "\n",
              "    .dataframe tbody tr th {\n",
              "        vertical-align: top;\n",
              "    }\n",
              "\n",
              "    .dataframe thead th {\n",
              "        text-align: right;\n",
              "    }\n",
              "</style>\n",
              "<table border=\"1\" class=\"dataframe\">\n",
              "  <thead>\n",
              "    <tr style=\"text-align: right;\">\n",
              "      <th></th>\n",
              "      <th>1st Block Jayanagar</th>\n",
              "      <th>1st Phase JP Nagar</th>\n",
              "      <th>2nd Phase Judicial Layout</th>\n",
              "      <th>2nd Stage Nagarbhavi</th>\n",
              "      <th>5th Block Hbr Layout</th>\n",
              "      <th>5th Phase JP Nagar</th>\n",
              "      <th>6th Phase JP Nagar</th>\n",
              "      <th>7th Phase JP Nagar</th>\n",
              "      <th>8th Phase JP Nagar</th>\n",
              "      <th>9th Phase JP Nagar</th>\n",
              "      <th>AECS Layout</th>\n",
              "      <th>Abbigere</th>\n",
              "      <th>Akshaya Nagar</th>\n",
              "      <th>Ambalipura</th>\n",
              "      <th>Ambedkar Nagar</th>\n",
              "      <th>Amruthahalli</th>\n",
              "      <th>Anandapura</th>\n",
              "      <th>Ananth Nagar</th>\n",
              "      <th>Anekal</th>\n",
              "      <th>Anjanapura</th>\n",
              "      <th>Ardendale</th>\n",
              "      <th>Arekere</th>\n",
              "      <th>Attibele</th>\n",
              "      <th>BEML Layout</th>\n",
              "      <th>BTM 2nd Stage</th>\n",
              "      <th>BTM Layout</th>\n",
              "      <th>Babusapalaya</th>\n",
              "      <th>Badavala Nagar</th>\n",
              "      <th>Balagere</th>\n",
              "      <th>Banashankari</th>\n",
              "      <th>Banashankari Stage II</th>\n",
              "      <th>Banashankari Stage III</th>\n",
              "      <th>Banashankari Stage V</th>\n",
              "      <th>Banashankari Stage VI</th>\n",
              "      <th>Banaswadi</th>\n",
              "      <th>Banjara Layout</th>\n",
              "      <th>Bannerghatta</th>\n",
              "      <th>Bannerghatta Road</th>\n",
              "      <th>Basavangudi</th>\n",
              "      <th>Basaveshwara Nagar</th>\n",
              "      <th>...</th>\n",
              "      <th>Sanjay nagar</th>\n",
              "      <th>Sarakki Nagar</th>\n",
              "      <th>Sarjapur</th>\n",
              "      <th>Sarjapur  Road</th>\n",
              "      <th>Sarjapura - Attibele Road</th>\n",
              "      <th>Sector 2 HSR Layout</th>\n",
              "      <th>Sector 7 HSR Layout</th>\n",
              "      <th>Seegehalli</th>\n",
              "      <th>Shampura</th>\n",
              "      <th>Shivaji Nagar</th>\n",
              "      <th>Singasandra</th>\n",
              "      <th>Somasundara Palya</th>\n",
              "      <th>Sompura</th>\n",
              "      <th>Sonnenahalli</th>\n",
              "      <th>Subramanyapura</th>\n",
              "      <th>Sultan Palaya</th>\n",
              "      <th>TC Palaya</th>\n",
              "      <th>Talaghattapura</th>\n",
              "      <th>Thanisandra</th>\n",
              "      <th>Thigalarapalya</th>\n",
              "      <th>Thubarahalli</th>\n",
              "      <th>Tindlu</th>\n",
              "      <th>Tumkur Road</th>\n",
              "      <th>Ulsoor</th>\n",
              "      <th>Uttarahalli</th>\n",
              "      <th>Varthur</th>\n",
              "      <th>Varthur Road</th>\n",
              "      <th>Vasanthapura</th>\n",
              "      <th>Vidyaranyapura</th>\n",
              "      <th>Vijayanagar</th>\n",
              "      <th>Vishveshwarya Layout</th>\n",
              "      <th>Vishwapriya Layout</th>\n",
              "      <th>Vittasandra</th>\n",
              "      <th>Whitefield</th>\n",
              "      <th>Yelachenahalli</th>\n",
              "      <th>Yelahanka</th>\n",
              "      <th>Yelahanka New Town</th>\n",
              "      <th>Yelenahalli</th>\n",
              "      <th>Yeshwanthpur</th>\n",
              "      <th>other</th>\n",
              "    </tr>\n",
              "  </thead>\n",
              "  <tbody>\n",
              "    <tr>\n",
              "      <th>0</th>\n",
              "      <td>1</td>\n",
              "      <td>0</td>\n",
              "      <td>0</td>\n",
              "      <td>0</td>\n",
              "      <td>0</td>\n",
              "      <td>0</td>\n",
              "      <td>0</td>\n",
              "      <td>0</td>\n",
              "      <td>0</td>\n",
              "      <td>0</td>\n",
              "      <td>0</td>\n",
              "      <td>0</td>\n",
              "      <td>0</td>\n",
              "      <td>0</td>\n",
              "      <td>0</td>\n",
              "      <td>0</td>\n",
              "      <td>0</td>\n",
              "      <td>0</td>\n",
              "      <td>0</td>\n",
              "      <td>0</td>\n",
              "      <td>0</td>\n",
              "      <td>0</td>\n",
              "      <td>0</td>\n",
              "      <td>0</td>\n",
              "      <td>0</td>\n",
              "      <td>0</td>\n",
              "      <td>0</td>\n",
              "      <td>0</td>\n",
              "      <td>0</td>\n",
              "      <td>0</td>\n",
              "      <td>0</td>\n",
              "      <td>0</td>\n",
              "      <td>0</td>\n",
              "      <td>0</td>\n",
              "      <td>0</td>\n",
              "      <td>0</td>\n",
              "      <td>0</td>\n",
              "      <td>0</td>\n",
              "      <td>0</td>\n",
              "      <td>0</td>\n",
              "      <td>...</td>\n",
              "      <td>0</td>\n",
              "      <td>0</td>\n",
              "      <td>0</td>\n",
              "      <td>0</td>\n",
              "      <td>0</td>\n",
              "      <td>0</td>\n",
              "      <td>0</td>\n",
              "      <td>0</td>\n",
              "      <td>0</td>\n",
              "      <td>0</td>\n",
              "      <td>0</td>\n",
              "      <td>0</td>\n",
              "      <td>0</td>\n",
              "      <td>0</td>\n",
              "      <td>0</td>\n",
              "      <td>0</td>\n",
              "      <td>0</td>\n",
              "      <td>0</td>\n",
              "      <td>0</td>\n",
              "      <td>0</td>\n",
              "      <td>0</td>\n",
              "      <td>0</td>\n",
              "      <td>0</td>\n",
              "      <td>0</td>\n",
              "      <td>0</td>\n",
              "      <td>0</td>\n",
              "      <td>0</td>\n",
              "      <td>0</td>\n",
              "      <td>0</td>\n",
              "      <td>0</td>\n",
              "      <td>0</td>\n",
              "      <td>0</td>\n",
              "      <td>0</td>\n",
              "      <td>0</td>\n",
              "      <td>0</td>\n",
              "      <td>0</td>\n",
              "      <td>0</td>\n",
              "      <td>0</td>\n",
              "      <td>0</td>\n",
              "      <td>0</td>\n",
              "    </tr>\n",
              "    <tr>\n",
              "      <th>1</th>\n",
              "      <td>1</td>\n",
              "      <td>0</td>\n",
              "      <td>0</td>\n",
              "      <td>0</td>\n",
              "      <td>0</td>\n",
              "      <td>0</td>\n",
              "      <td>0</td>\n",
              "      <td>0</td>\n",
              "      <td>0</td>\n",
              "      <td>0</td>\n",
              "      <td>0</td>\n",
              "      <td>0</td>\n",
              "      <td>0</td>\n",
              "      <td>0</td>\n",
              "      <td>0</td>\n",
              "      <td>0</td>\n",
              "      <td>0</td>\n",
              "      <td>0</td>\n",
              "      <td>0</td>\n",
              "      <td>0</td>\n",
              "      <td>0</td>\n",
              "      <td>0</td>\n",
              "      <td>0</td>\n",
              "      <td>0</td>\n",
              "      <td>0</td>\n",
              "      <td>0</td>\n",
              "      <td>0</td>\n",
              "      <td>0</td>\n",
              "      <td>0</td>\n",
              "      <td>0</td>\n",
              "      <td>0</td>\n",
              "      <td>0</td>\n",
              "      <td>0</td>\n",
              "      <td>0</td>\n",
              "      <td>0</td>\n",
              "      <td>0</td>\n",
              "      <td>0</td>\n",
              "      <td>0</td>\n",
              "      <td>0</td>\n",
              "      <td>0</td>\n",
              "      <td>...</td>\n",
              "      <td>0</td>\n",
              "      <td>0</td>\n",
              "      <td>0</td>\n",
              "      <td>0</td>\n",
              "      <td>0</td>\n",
              "      <td>0</td>\n",
              "      <td>0</td>\n",
              "      <td>0</td>\n",
              "      <td>0</td>\n",
              "      <td>0</td>\n",
              "      <td>0</td>\n",
              "      <td>0</td>\n",
              "      <td>0</td>\n",
              "      <td>0</td>\n",
              "      <td>0</td>\n",
              "      <td>0</td>\n",
              "      <td>0</td>\n",
              "      <td>0</td>\n",
              "      <td>0</td>\n",
              "      <td>0</td>\n",
              "      <td>0</td>\n",
              "      <td>0</td>\n",
              "      <td>0</td>\n",
              "      <td>0</td>\n",
              "      <td>0</td>\n",
              "      <td>0</td>\n",
              "      <td>0</td>\n",
              "      <td>0</td>\n",
              "      <td>0</td>\n",
              "      <td>0</td>\n",
              "      <td>0</td>\n",
              "      <td>0</td>\n",
              "      <td>0</td>\n",
              "      <td>0</td>\n",
              "      <td>0</td>\n",
              "      <td>0</td>\n",
              "      <td>0</td>\n",
              "      <td>0</td>\n",
              "      <td>0</td>\n",
              "      <td>0</td>\n",
              "    </tr>\n",
              "    <tr>\n",
              "      <th>2</th>\n",
              "      <td>1</td>\n",
              "      <td>0</td>\n",
              "      <td>0</td>\n",
              "      <td>0</td>\n",
              "      <td>0</td>\n",
              "      <td>0</td>\n",
              "      <td>0</td>\n",
              "      <td>0</td>\n",
              "      <td>0</td>\n",
              "      <td>0</td>\n",
              "      <td>0</td>\n",
              "      <td>0</td>\n",
              "      <td>0</td>\n",
              "      <td>0</td>\n",
              "      <td>0</td>\n",
              "      <td>0</td>\n",
              "      <td>0</td>\n",
              "      <td>0</td>\n",
              "      <td>0</td>\n",
              "      <td>0</td>\n",
              "      <td>0</td>\n",
              "      <td>0</td>\n",
              "      <td>0</td>\n",
              "      <td>0</td>\n",
              "      <td>0</td>\n",
              "      <td>0</td>\n",
              "      <td>0</td>\n",
              "      <td>0</td>\n",
              "      <td>0</td>\n",
              "      <td>0</td>\n",
              "      <td>0</td>\n",
              "      <td>0</td>\n",
              "      <td>0</td>\n",
              "      <td>0</td>\n",
              "      <td>0</td>\n",
              "      <td>0</td>\n",
              "      <td>0</td>\n",
              "      <td>0</td>\n",
              "      <td>0</td>\n",
              "      <td>0</td>\n",
              "      <td>...</td>\n",
              "      <td>0</td>\n",
              "      <td>0</td>\n",
              "      <td>0</td>\n",
              "      <td>0</td>\n",
              "      <td>0</td>\n",
              "      <td>0</td>\n",
              "      <td>0</td>\n",
              "      <td>0</td>\n",
              "      <td>0</td>\n",
              "      <td>0</td>\n",
              "      <td>0</td>\n",
              "      <td>0</td>\n",
              "      <td>0</td>\n",
              "      <td>0</td>\n",
              "      <td>0</td>\n",
              "      <td>0</td>\n",
              "      <td>0</td>\n",
              "      <td>0</td>\n",
              "      <td>0</td>\n",
              "      <td>0</td>\n",
              "      <td>0</td>\n",
              "      <td>0</td>\n",
              "      <td>0</td>\n",
              "      <td>0</td>\n",
              "      <td>0</td>\n",
              "      <td>0</td>\n",
              "      <td>0</td>\n",
              "      <td>0</td>\n",
              "      <td>0</td>\n",
              "      <td>0</td>\n",
              "      <td>0</td>\n",
              "      <td>0</td>\n",
              "      <td>0</td>\n",
              "      <td>0</td>\n",
              "      <td>0</td>\n",
              "      <td>0</td>\n",
              "      <td>0</td>\n",
              "      <td>0</td>\n",
              "      <td>0</td>\n",
              "      <td>0</td>\n",
              "    </tr>\n",
              "    <tr>\n",
              "      <th>3</th>\n",
              "      <td>1</td>\n",
              "      <td>0</td>\n",
              "      <td>0</td>\n",
              "      <td>0</td>\n",
              "      <td>0</td>\n",
              "      <td>0</td>\n",
              "      <td>0</td>\n",
              "      <td>0</td>\n",
              "      <td>0</td>\n",
              "      <td>0</td>\n",
              "      <td>0</td>\n",
              "      <td>0</td>\n",
              "      <td>0</td>\n",
              "      <td>0</td>\n",
              "      <td>0</td>\n",
              "      <td>0</td>\n",
              "      <td>0</td>\n",
              "      <td>0</td>\n",
              "      <td>0</td>\n",
              "      <td>0</td>\n",
              "      <td>0</td>\n",
              "      <td>0</td>\n",
              "      <td>0</td>\n",
              "      <td>0</td>\n",
              "      <td>0</td>\n",
              "      <td>0</td>\n",
              "      <td>0</td>\n",
              "      <td>0</td>\n",
              "      <td>0</td>\n",
              "      <td>0</td>\n",
              "      <td>0</td>\n",
              "      <td>0</td>\n",
              "      <td>0</td>\n",
              "      <td>0</td>\n",
              "      <td>0</td>\n",
              "      <td>0</td>\n",
              "      <td>0</td>\n",
              "      <td>0</td>\n",
              "      <td>0</td>\n",
              "      <td>0</td>\n",
              "      <td>...</td>\n",
              "      <td>0</td>\n",
              "      <td>0</td>\n",
              "      <td>0</td>\n",
              "      <td>0</td>\n",
              "      <td>0</td>\n",
              "      <td>0</td>\n",
              "      <td>0</td>\n",
              "      <td>0</td>\n",
              "      <td>0</td>\n",
              "      <td>0</td>\n",
              "      <td>0</td>\n",
              "      <td>0</td>\n",
              "      <td>0</td>\n",
              "      <td>0</td>\n",
              "      <td>0</td>\n",
              "      <td>0</td>\n",
              "      <td>0</td>\n",
              "      <td>0</td>\n",
              "      <td>0</td>\n",
              "      <td>0</td>\n",
              "      <td>0</td>\n",
              "      <td>0</td>\n",
              "      <td>0</td>\n",
              "      <td>0</td>\n",
              "      <td>0</td>\n",
              "      <td>0</td>\n",
              "      <td>0</td>\n",
              "      <td>0</td>\n",
              "      <td>0</td>\n",
              "      <td>0</td>\n",
              "      <td>0</td>\n",
              "      <td>0</td>\n",
              "      <td>0</td>\n",
              "      <td>0</td>\n",
              "      <td>0</td>\n",
              "      <td>0</td>\n",
              "      <td>0</td>\n",
              "      <td>0</td>\n",
              "      <td>0</td>\n",
              "      <td>0</td>\n",
              "    </tr>\n",
              "    <tr>\n",
              "      <th>4</th>\n",
              "      <td>1</td>\n",
              "      <td>0</td>\n",
              "      <td>0</td>\n",
              "      <td>0</td>\n",
              "      <td>0</td>\n",
              "      <td>0</td>\n",
              "      <td>0</td>\n",
              "      <td>0</td>\n",
              "      <td>0</td>\n",
              "      <td>0</td>\n",
              "      <td>0</td>\n",
              "      <td>0</td>\n",
              "      <td>0</td>\n",
              "      <td>0</td>\n",
              "      <td>0</td>\n",
              "      <td>0</td>\n",
              "      <td>0</td>\n",
              "      <td>0</td>\n",
              "      <td>0</td>\n",
              "      <td>0</td>\n",
              "      <td>0</td>\n",
              "      <td>0</td>\n",
              "      <td>0</td>\n",
              "      <td>0</td>\n",
              "      <td>0</td>\n",
              "      <td>0</td>\n",
              "      <td>0</td>\n",
              "      <td>0</td>\n",
              "      <td>0</td>\n",
              "      <td>0</td>\n",
              "      <td>0</td>\n",
              "      <td>0</td>\n",
              "      <td>0</td>\n",
              "      <td>0</td>\n",
              "      <td>0</td>\n",
              "      <td>0</td>\n",
              "      <td>0</td>\n",
              "      <td>0</td>\n",
              "      <td>0</td>\n",
              "      <td>0</td>\n",
              "      <td>...</td>\n",
              "      <td>0</td>\n",
              "      <td>0</td>\n",
              "      <td>0</td>\n",
              "      <td>0</td>\n",
              "      <td>0</td>\n",
              "      <td>0</td>\n",
              "      <td>0</td>\n",
              "      <td>0</td>\n",
              "      <td>0</td>\n",
              "      <td>0</td>\n",
              "      <td>0</td>\n",
              "      <td>0</td>\n",
              "      <td>0</td>\n",
              "      <td>0</td>\n",
              "      <td>0</td>\n",
              "      <td>0</td>\n",
              "      <td>0</td>\n",
              "      <td>0</td>\n",
              "      <td>0</td>\n",
              "      <td>0</td>\n",
              "      <td>0</td>\n",
              "      <td>0</td>\n",
              "      <td>0</td>\n",
              "      <td>0</td>\n",
              "      <td>0</td>\n",
              "      <td>0</td>\n",
              "      <td>0</td>\n",
              "      <td>0</td>\n",
              "      <td>0</td>\n",
              "      <td>0</td>\n",
              "      <td>0</td>\n",
              "      <td>0</td>\n",
              "      <td>0</td>\n",
              "      <td>0</td>\n",
              "      <td>0</td>\n",
              "      <td>0</td>\n",
              "      <td>0</td>\n",
              "      <td>0</td>\n",
              "      <td>0</td>\n",
              "      <td>0</td>\n",
              "    </tr>\n",
              "  </tbody>\n",
              "</table>\n",
              "<p>5 rows × 241 columns</p>\n",
              "</div>"
            ],
            "text/plain": [
              "   1st Block Jayanagar  1st Phase JP Nagar  ...  Yeshwanthpur  other\n",
              "0                    1                   0  ...             0      0\n",
              "1                    1                   0  ...             0      0\n",
              "2                    1                   0  ...             0      0\n",
              "3                    1                   0  ...             0      0\n",
              "4                    1                   0  ...             0      0\n",
              "\n",
              "[5 rows x 241 columns]"
            ]
          },
          "metadata": {
            "tags": []
          },
          "execution_count": 62
        }
      ]
    },
    {
      "cell_type": "code",
      "metadata": {
        "colab": {
          "base_uri": "https://localhost:8080/",
          "height": 385
        },
        "id": "gnEgvNlHIGcQ",
        "outputId": "d41e75f0-8135-43d8-f740-6d0106d0a8d4"
      },
      "source": [
        "df10 = pd.concat([df9,dummies.drop('other',axis='columns')],axis='columns')\n",
        "df10.head()"
      ],
      "execution_count": 63,
      "outputs": [
        {
          "output_type": "execute_result",
          "data": {
            "text/html": [
              "<div>\n",
              "<style scoped>\n",
              "    .dataframe tbody tr th:only-of-type {\n",
              "        vertical-align: middle;\n",
              "    }\n",
              "\n",
              "    .dataframe tbody tr th {\n",
              "        vertical-align: top;\n",
              "    }\n",
              "\n",
              "    .dataframe thead th {\n",
              "        text-align: right;\n",
              "    }\n",
              "</style>\n",
              "<table border=\"1\" class=\"dataframe\">\n",
              "  <thead>\n",
              "    <tr style=\"text-align: right;\">\n",
              "      <th></th>\n",
              "      <th>location</th>\n",
              "      <th>total_sqft</th>\n",
              "      <th>bath</th>\n",
              "      <th>price</th>\n",
              "      <th>bhk</th>\n",
              "      <th>1st Block Jayanagar</th>\n",
              "      <th>1st Phase JP Nagar</th>\n",
              "      <th>2nd Phase Judicial Layout</th>\n",
              "      <th>2nd Stage Nagarbhavi</th>\n",
              "      <th>5th Block Hbr Layout</th>\n",
              "      <th>5th Phase JP Nagar</th>\n",
              "      <th>6th Phase JP Nagar</th>\n",
              "      <th>7th Phase JP Nagar</th>\n",
              "      <th>8th Phase JP Nagar</th>\n",
              "      <th>9th Phase JP Nagar</th>\n",
              "      <th>AECS Layout</th>\n",
              "      <th>Abbigere</th>\n",
              "      <th>Akshaya Nagar</th>\n",
              "      <th>Ambalipura</th>\n",
              "      <th>Ambedkar Nagar</th>\n",
              "      <th>Amruthahalli</th>\n",
              "      <th>Anandapura</th>\n",
              "      <th>Ananth Nagar</th>\n",
              "      <th>Anekal</th>\n",
              "      <th>Anjanapura</th>\n",
              "      <th>Ardendale</th>\n",
              "      <th>Arekere</th>\n",
              "      <th>Attibele</th>\n",
              "      <th>BEML Layout</th>\n",
              "      <th>BTM 2nd Stage</th>\n",
              "      <th>BTM Layout</th>\n",
              "      <th>Babusapalaya</th>\n",
              "      <th>Badavala Nagar</th>\n",
              "      <th>Balagere</th>\n",
              "      <th>Banashankari</th>\n",
              "      <th>Banashankari Stage II</th>\n",
              "      <th>Banashankari Stage III</th>\n",
              "      <th>Banashankari Stage V</th>\n",
              "      <th>Banashankari Stage VI</th>\n",
              "      <th>Banaswadi</th>\n",
              "      <th>...</th>\n",
              "      <th>Sahakara Nagar</th>\n",
              "      <th>Sanjay nagar</th>\n",
              "      <th>Sarakki Nagar</th>\n",
              "      <th>Sarjapur</th>\n",
              "      <th>Sarjapur  Road</th>\n",
              "      <th>Sarjapura - Attibele Road</th>\n",
              "      <th>Sector 2 HSR Layout</th>\n",
              "      <th>Sector 7 HSR Layout</th>\n",
              "      <th>Seegehalli</th>\n",
              "      <th>Shampura</th>\n",
              "      <th>Shivaji Nagar</th>\n",
              "      <th>Singasandra</th>\n",
              "      <th>Somasundara Palya</th>\n",
              "      <th>Sompura</th>\n",
              "      <th>Sonnenahalli</th>\n",
              "      <th>Subramanyapura</th>\n",
              "      <th>Sultan Palaya</th>\n",
              "      <th>TC Palaya</th>\n",
              "      <th>Talaghattapura</th>\n",
              "      <th>Thanisandra</th>\n",
              "      <th>Thigalarapalya</th>\n",
              "      <th>Thubarahalli</th>\n",
              "      <th>Tindlu</th>\n",
              "      <th>Tumkur Road</th>\n",
              "      <th>Ulsoor</th>\n",
              "      <th>Uttarahalli</th>\n",
              "      <th>Varthur</th>\n",
              "      <th>Varthur Road</th>\n",
              "      <th>Vasanthapura</th>\n",
              "      <th>Vidyaranyapura</th>\n",
              "      <th>Vijayanagar</th>\n",
              "      <th>Vishveshwarya Layout</th>\n",
              "      <th>Vishwapriya Layout</th>\n",
              "      <th>Vittasandra</th>\n",
              "      <th>Whitefield</th>\n",
              "      <th>Yelachenahalli</th>\n",
              "      <th>Yelahanka</th>\n",
              "      <th>Yelahanka New Town</th>\n",
              "      <th>Yelenahalli</th>\n",
              "      <th>Yeshwanthpur</th>\n",
              "    </tr>\n",
              "  </thead>\n",
              "  <tbody>\n",
              "    <tr>\n",
              "      <th>0</th>\n",
              "      <td>1st Block Jayanagar</td>\n",
              "      <td>2850.0</td>\n",
              "      <td>4.0</td>\n",
              "      <td>428.0</td>\n",
              "      <td>4</td>\n",
              "      <td>1</td>\n",
              "      <td>0</td>\n",
              "      <td>0</td>\n",
              "      <td>0</td>\n",
              "      <td>0</td>\n",
              "      <td>0</td>\n",
              "      <td>0</td>\n",
              "      <td>0</td>\n",
              "      <td>0</td>\n",
              "      <td>0</td>\n",
              "      <td>0</td>\n",
              "      <td>0</td>\n",
              "      <td>0</td>\n",
              "      <td>0</td>\n",
              "      <td>0</td>\n",
              "      <td>0</td>\n",
              "      <td>0</td>\n",
              "      <td>0</td>\n",
              "      <td>0</td>\n",
              "      <td>0</td>\n",
              "      <td>0</td>\n",
              "      <td>0</td>\n",
              "      <td>0</td>\n",
              "      <td>0</td>\n",
              "      <td>0</td>\n",
              "      <td>0</td>\n",
              "      <td>0</td>\n",
              "      <td>0</td>\n",
              "      <td>0</td>\n",
              "      <td>0</td>\n",
              "      <td>0</td>\n",
              "      <td>0</td>\n",
              "      <td>0</td>\n",
              "      <td>0</td>\n",
              "      <td>0</td>\n",
              "      <td>...</td>\n",
              "      <td>0</td>\n",
              "      <td>0</td>\n",
              "      <td>0</td>\n",
              "      <td>0</td>\n",
              "      <td>0</td>\n",
              "      <td>0</td>\n",
              "      <td>0</td>\n",
              "      <td>0</td>\n",
              "      <td>0</td>\n",
              "      <td>0</td>\n",
              "      <td>0</td>\n",
              "      <td>0</td>\n",
              "      <td>0</td>\n",
              "      <td>0</td>\n",
              "      <td>0</td>\n",
              "      <td>0</td>\n",
              "      <td>0</td>\n",
              "      <td>0</td>\n",
              "      <td>0</td>\n",
              "      <td>0</td>\n",
              "      <td>0</td>\n",
              "      <td>0</td>\n",
              "      <td>0</td>\n",
              "      <td>0</td>\n",
              "      <td>0</td>\n",
              "      <td>0</td>\n",
              "      <td>0</td>\n",
              "      <td>0</td>\n",
              "      <td>0</td>\n",
              "      <td>0</td>\n",
              "      <td>0</td>\n",
              "      <td>0</td>\n",
              "      <td>0</td>\n",
              "      <td>0</td>\n",
              "      <td>0</td>\n",
              "      <td>0</td>\n",
              "      <td>0</td>\n",
              "      <td>0</td>\n",
              "      <td>0</td>\n",
              "      <td>0</td>\n",
              "    </tr>\n",
              "    <tr>\n",
              "      <th>1</th>\n",
              "      <td>1st Block Jayanagar</td>\n",
              "      <td>1630.0</td>\n",
              "      <td>3.0</td>\n",
              "      <td>194.0</td>\n",
              "      <td>3</td>\n",
              "      <td>1</td>\n",
              "      <td>0</td>\n",
              "      <td>0</td>\n",
              "      <td>0</td>\n",
              "      <td>0</td>\n",
              "      <td>0</td>\n",
              "      <td>0</td>\n",
              "      <td>0</td>\n",
              "      <td>0</td>\n",
              "      <td>0</td>\n",
              "      <td>0</td>\n",
              "      <td>0</td>\n",
              "      <td>0</td>\n",
              "      <td>0</td>\n",
              "      <td>0</td>\n",
              "      <td>0</td>\n",
              "      <td>0</td>\n",
              "      <td>0</td>\n",
              "      <td>0</td>\n",
              "      <td>0</td>\n",
              "      <td>0</td>\n",
              "      <td>0</td>\n",
              "      <td>0</td>\n",
              "      <td>0</td>\n",
              "      <td>0</td>\n",
              "      <td>0</td>\n",
              "      <td>0</td>\n",
              "      <td>0</td>\n",
              "      <td>0</td>\n",
              "      <td>0</td>\n",
              "      <td>0</td>\n",
              "      <td>0</td>\n",
              "      <td>0</td>\n",
              "      <td>0</td>\n",
              "      <td>0</td>\n",
              "      <td>...</td>\n",
              "      <td>0</td>\n",
              "      <td>0</td>\n",
              "      <td>0</td>\n",
              "      <td>0</td>\n",
              "      <td>0</td>\n",
              "      <td>0</td>\n",
              "      <td>0</td>\n",
              "      <td>0</td>\n",
              "      <td>0</td>\n",
              "      <td>0</td>\n",
              "      <td>0</td>\n",
              "      <td>0</td>\n",
              "      <td>0</td>\n",
              "      <td>0</td>\n",
              "      <td>0</td>\n",
              "      <td>0</td>\n",
              "      <td>0</td>\n",
              "      <td>0</td>\n",
              "      <td>0</td>\n",
              "      <td>0</td>\n",
              "      <td>0</td>\n",
              "      <td>0</td>\n",
              "      <td>0</td>\n",
              "      <td>0</td>\n",
              "      <td>0</td>\n",
              "      <td>0</td>\n",
              "      <td>0</td>\n",
              "      <td>0</td>\n",
              "      <td>0</td>\n",
              "      <td>0</td>\n",
              "      <td>0</td>\n",
              "      <td>0</td>\n",
              "      <td>0</td>\n",
              "      <td>0</td>\n",
              "      <td>0</td>\n",
              "      <td>0</td>\n",
              "      <td>0</td>\n",
              "      <td>0</td>\n",
              "      <td>0</td>\n",
              "      <td>0</td>\n",
              "    </tr>\n",
              "    <tr>\n",
              "      <th>2</th>\n",
              "      <td>1st Block Jayanagar</td>\n",
              "      <td>1875.0</td>\n",
              "      <td>2.0</td>\n",
              "      <td>235.0</td>\n",
              "      <td>3</td>\n",
              "      <td>1</td>\n",
              "      <td>0</td>\n",
              "      <td>0</td>\n",
              "      <td>0</td>\n",
              "      <td>0</td>\n",
              "      <td>0</td>\n",
              "      <td>0</td>\n",
              "      <td>0</td>\n",
              "      <td>0</td>\n",
              "      <td>0</td>\n",
              "      <td>0</td>\n",
              "      <td>0</td>\n",
              "      <td>0</td>\n",
              "      <td>0</td>\n",
              "      <td>0</td>\n",
              "      <td>0</td>\n",
              "      <td>0</td>\n",
              "      <td>0</td>\n",
              "      <td>0</td>\n",
              "      <td>0</td>\n",
              "      <td>0</td>\n",
              "      <td>0</td>\n",
              "      <td>0</td>\n",
              "      <td>0</td>\n",
              "      <td>0</td>\n",
              "      <td>0</td>\n",
              "      <td>0</td>\n",
              "      <td>0</td>\n",
              "      <td>0</td>\n",
              "      <td>0</td>\n",
              "      <td>0</td>\n",
              "      <td>0</td>\n",
              "      <td>0</td>\n",
              "      <td>0</td>\n",
              "      <td>0</td>\n",
              "      <td>...</td>\n",
              "      <td>0</td>\n",
              "      <td>0</td>\n",
              "      <td>0</td>\n",
              "      <td>0</td>\n",
              "      <td>0</td>\n",
              "      <td>0</td>\n",
              "      <td>0</td>\n",
              "      <td>0</td>\n",
              "      <td>0</td>\n",
              "      <td>0</td>\n",
              "      <td>0</td>\n",
              "      <td>0</td>\n",
              "      <td>0</td>\n",
              "      <td>0</td>\n",
              "      <td>0</td>\n",
              "      <td>0</td>\n",
              "      <td>0</td>\n",
              "      <td>0</td>\n",
              "      <td>0</td>\n",
              "      <td>0</td>\n",
              "      <td>0</td>\n",
              "      <td>0</td>\n",
              "      <td>0</td>\n",
              "      <td>0</td>\n",
              "      <td>0</td>\n",
              "      <td>0</td>\n",
              "      <td>0</td>\n",
              "      <td>0</td>\n",
              "      <td>0</td>\n",
              "      <td>0</td>\n",
              "      <td>0</td>\n",
              "      <td>0</td>\n",
              "      <td>0</td>\n",
              "      <td>0</td>\n",
              "      <td>0</td>\n",
              "      <td>0</td>\n",
              "      <td>0</td>\n",
              "      <td>0</td>\n",
              "      <td>0</td>\n",
              "      <td>0</td>\n",
              "    </tr>\n",
              "    <tr>\n",
              "      <th>3</th>\n",
              "      <td>1st Block Jayanagar</td>\n",
              "      <td>1200.0</td>\n",
              "      <td>2.0</td>\n",
              "      <td>130.0</td>\n",
              "      <td>3</td>\n",
              "      <td>1</td>\n",
              "      <td>0</td>\n",
              "      <td>0</td>\n",
              "      <td>0</td>\n",
              "      <td>0</td>\n",
              "      <td>0</td>\n",
              "      <td>0</td>\n",
              "      <td>0</td>\n",
              "      <td>0</td>\n",
              "      <td>0</td>\n",
              "      <td>0</td>\n",
              "      <td>0</td>\n",
              "      <td>0</td>\n",
              "      <td>0</td>\n",
              "      <td>0</td>\n",
              "      <td>0</td>\n",
              "      <td>0</td>\n",
              "      <td>0</td>\n",
              "      <td>0</td>\n",
              "      <td>0</td>\n",
              "      <td>0</td>\n",
              "      <td>0</td>\n",
              "      <td>0</td>\n",
              "      <td>0</td>\n",
              "      <td>0</td>\n",
              "      <td>0</td>\n",
              "      <td>0</td>\n",
              "      <td>0</td>\n",
              "      <td>0</td>\n",
              "      <td>0</td>\n",
              "      <td>0</td>\n",
              "      <td>0</td>\n",
              "      <td>0</td>\n",
              "      <td>0</td>\n",
              "      <td>0</td>\n",
              "      <td>...</td>\n",
              "      <td>0</td>\n",
              "      <td>0</td>\n",
              "      <td>0</td>\n",
              "      <td>0</td>\n",
              "      <td>0</td>\n",
              "      <td>0</td>\n",
              "      <td>0</td>\n",
              "      <td>0</td>\n",
              "      <td>0</td>\n",
              "      <td>0</td>\n",
              "      <td>0</td>\n",
              "      <td>0</td>\n",
              "      <td>0</td>\n",
              "      <td>0</td>\n",
              "      <td>0</td>\n",
              "      <td>0</td>\n",
              "      <td>0</td>\n",
              "      <td>0</td>\n",
              "      <td>0</td>\n",
              "      <td>0</td>\n",
              "      <td>0</td>\n",
              "      <td>0</td>\n",
              "      <td>0</td>\n",
              "      <td>0</td>\n",
              "      <td>0</td>\n",
              "      <td>0</td>\n",
              "      <td>0</td>\n",
              "      <td>0</td>\n",
              "      <td>0</td>\n",
              "      <td>0</td>\n",
              "      <td>0</td>\n",
              "      <td>0</td>\n",
              "      <td>0</td>\n",
              "      <td>0</td>\n",
              "      <td>0</td>\n",
              "      <td>0</td>\n",
              "      <td>0</td>\n",
              "      <td>0</td>\n",
              "      <td>0</td>\n",
              "      <td>0</td>\n",
              "    </tr>\n",
              "    <tr>\n",
              "      <th>4</th>\n",
              "      <td>1st Block Jayanagar</td>\n",
              "      <td>1235.0</td>\n",
              "      <td>2.0</td>\n",
              "      <td>148.0</td>\n",
              "      <td>2</td>\n",
              "      <td>1</td>\n",
              "      <td>0</td>\n",
              "      <td>0</td>\n",
              "      <td>0</td>\n",
              "      <td>0</td>\n",
              "      <td>0</td>\n",
              "      <td>0</td>\n",
              "      <td>0</td>\n",
              "      <td>0</td>\n",
              "      <td>0</td>\n",
              "      <td>0</td>\n",
              "      <td>0</td>\n",
              "      <td>0</td>\n",
              "      <td>0</td>\n",
              "      <td>0</td>\n",
              "      <td>0</td>\n",
              "      <td>0</td>\n",
              "      <td>0</td>\n",
              "      <td>0</td>\n",
              "      <td>0</td>\n",
              "      <td>0</td>\n",
              "      <td>0</td>\n",
              "      <td>0</td>\n",
              "      <td>0</td>\n",
              "      <td>0</td>\n",
              "      <td>0</td>\n",
              "      <td>0</td>\n",
              "      <td>0</td>\n",
              "      <td>0</td>\n",
              "      <td>0</td>\n",
              "      <td>0</td>\n",
              "      <td>0</td>\n",
              "      <td>0</td>\n",
              "      <td>0</td>\n",
              "      <td>0</td>\n",
              "      <td>...</td>\n",
              "      <td>0</td>\n",
              "      <td>0</td>\n",
              "      <td>0</td>\n",
              "      <td>0</td>\n",
              "      <td>0</td>\n",
              "      <td>0</td>\n",
              "      <td>0</td>\n",
              "      <td>0</td>\n",
              "      <td>0</td>\n",
              "      <td>0</td>\n",
              "      <td>0</td>\n",
              "      <td>0</td>\n",
              "      <td>0</td>\n",
              "      <td>0</td>\n",
              "      <td>0</td>\n",
              "      <td>0</td>\n",
              "      <td>0</td>\n",
              "      <td>0</td>\n",
              "      <td>0</td>\n",
              "      <td>0</td>\n",
              "      <td>0</td>\n",
              "      <td>0</td>\n",
              "      <td>0</td>\n",
              "      <td>0</td>\n",
              "      <td>0</td>\n",
              "      <td>0</td>\n",
              "      <td>0</td>\n",
              "      <td>0</td>\n",
              "      <td>0</td>\n",
              "      <td>0</td>\n",
              "      <td>0</td>\n",
              "      <td>0</td>\n",
              "      <td>0</td>\n",
              "      <td>0</td>\n",
              "      <td>0</td>\n",
              "      <td>0</td>\n",
              "      <td>0</td>\n",
              "      <td>0</td>\n",
              "      <td>0</td>\n",
              "      <td>0</td>\n",
              "    </tr>\n",
              "  </tbody>\n",
              "</table>\n",
              "<p>5 rows × 245 columns</p>\n",
              "</div>"
            ],
            "text/plain": [
              "              location  total_sqft  ...  Yelenahalli  Yeshwanthpur\n",
              "0  1st Block Jayanagar      2850.0  ...            0             0\n",
              "1  1st Block Jayanagar      1630.0  ...            0             0\n",
              "2  1st Block Jayanagar      1875.0  ...            0             0\n",
              "3  1st Block Jayanagar      1200.0  ...            0             0\n",
              "4  1st Block Jayanagar      1235.0  ...            0             0\n",
              "\n",
              "[5 rows x 245 columns]"
            ]
          },
          "metadata": {
            "tags": []
          },
          "execution_count": 63
        }
      ]
    },
    {
      "cell_type": "code",
      "metadata": {
        "colab": {
          "base_uri": "https://localhost:8080/",
          "height": 209
        },
        "id": "TvhGW-Z9Ib3f",
        "outputId": "d79e9817-7cc7-46d1-ad1b-c4006ecbf30c"
      },
      "source": [
        "df11 = df10.drop('location',axis='columns')\n",
        "df11.head(2)"
      ],
      "execution_count": 64,
      "outputs": [
        {
          "output_type": "execute_result",
          "data": {
            "text/html": [
              "<div>\n",
              "<style scoped>\n",
              "    .dataframe tbody tr th:only-of-type {\n",
              "        vertical-align: middle;\n",
              "    }\n",
              "\n",
              "    .dataframe tbody tr th {\n",
              "        vertical-align: top;\n",
              "    }\n",
              "\n",
              "    .dataframe thead th {\n",
              "        text-align: right;\n",
              "    }\n",
              "</style>\n",
              "<table border=\"1\" class=\"dataframe\">\n",
              "  <thead>\n",
              "    <tr style=\"text-align: right;\">\n",
              "      <th></th>\n",
              "      <th>total_sqft</th>\n",
              "      <th>bath</th>\n",
              "      <th>price</th>\n",
              "      <th>bhk</th>\n",
              "      <th>1st Block Jayanagar</th>\n",
              "      <th>1st Phase JP Nagar</th>\n",
              "      <th>2nd Phase Judicial Layout</th>\n",
              "      <th>2nd Stage Nagarbhavi</th>\n",
              "      <th>5th Block Hbr Layout</th>\n",
              "      <th>5th Phase JP Nagar</th>\n",
              "      <th>6th Phase JP Nagar</th>\n",
              "      <th>7th Phase JP Nagar</th>\n",
              "      <th>8th Phase JP Nagar</th>\n",
              "      <th>9th Phase JP Nagar</th>\n",
              "      <th>AECS Layout</th>\n",
              "      <th>Abbigere</th>\n",
              "      <th>Akshaya Nagar</th>\n",
              "      <th>Ambalipura</th>\n",
              "      <th>Ambedkar Nagar</th>\n",
              "      <th>Amruthahalli</th>\n",
              "      <th>Anandapura</th>\n",
              "      <th>Ananth Nagar</th>\n",
              "      <th>Anekal</th>\n",
              "      <th>Anjanapura</th>\n",
              "      <th>Ardendale</th>\n",
              "      <th>Arekere</th>\n",
              "      <th>Attibele</th>\n",
              "      <th>BEML Layout</th>\n",
              "      <th>BTM 2nd Stage</th>\n",
              "      <th>BTM Layout</th>\n",
              "      <th>Babusapalaya</th>\n",
              "      <th>Badavala Nagar</th>\n",
              "      <th>Balagere</th>\n",
              "      <th>Banashankari</th>\n",
              "      <th>Banashankari Stage II</th>\n",
              "      <th>Banashankari Stage III</th>\n",
              "      <th>Banashankari Stage V</th>\n",
              "      <th>Banashankari Stage VI</th>\n",
              "      <th>Banaswadi</th>\n",
              "      <th>Banjara Layout</th>\n",
              "      <th>...</th>\n",
              "      <th>Sahakara Nagar</th>\n",
              "      <th>Sanjay nagar</th>\n",
              "      <th>Sarakki Nagar</th>\n",
              "      <th>Sarjapur</th>\n",
              "      <th>Sarjapur  Road</th>\n",
              "      <th>Sarjapura - Attibele Road</th>\n",
              "      <th>Sector 2 HSR Layout</th>\n",
              "      <th>Sector 7 HSR Layout</th>\n",
              "      <th>Seegehalli</th>\n",
              "      <th>Shampura</th>\n",
              "      <th>Shivaji Nagar</th>\n",
              "      <th>Singasandra</th>\n",
              "      <th>Somasundara Palya</th>\n",
              "      <th>Sompura</th>\n",
              "      <th>Sonnenahalli</th>\n",
              "      <th>Subramanyapura</th>\n",
              "      <th>Sultan Palaya</th>\n",
              "      <th>TC Palaya</th>\n",
              "      <th>Talaghattapura</th>\n",
              "      <th>Thanisandra</th>\n",
              "      <th>Thigalarapalya</th>\n",
              "      <th>Thubarahalli</th>\n",
              "      <th>Tindlu</th>\n",
              "      <th>Tumkur Road</th>\n",
              "      <th>Ulsoor</th>\n",
              "      <th>Uttarahalli</th>\n",
              "      <th>Varthur</th>\n",
              "      <th>Varthur Road</th>\n",
              "      <th>Vasanthapura</th>\n",
              "      <th>Vidyaranyapura</th>\n",
              "      <th>Vijayanagar</th>\n",
              "      <th>Vishveshwarya Layout</th>\n",
              "      <th>Vishwapriya Layout</th>\n",
              "      <th>Vittasandra</th>\n",
              "      <th>Whitefield</th>\n",
              "      <th>Yelachenahalli</th>\n",
              "      <th>Yelahanka</th>\n",
              "      <th>Yelahanka New Town</th>\n",
              "      <th>Yelenahalli</th>\n",
              "      <th>Yeshwanthpur</th>\n",
              "    </tr>\n",
              "  </thead>\n",
              "  <tbody>\n",
              "    <tr>\n",
              "      <th>0</th>\n",
              "      <td>2850.0</td>\n",
              "      <td>4.0</td>\n",
              "      <td>428.0</td>\n",
              "      <td>4</td>\n",
              "      <td>1</td>\n",
              "      <td>0</td>\n",
              "      <td>0</td>\n",
              "      <td>0</td>\n",
              "      <td>0</td>\n",
              "      <td>0</td>\n",
              "      <td>0</td>\n",
              "      <td>0</td>\n",
              "      <td>0</td>\n",
              "      <td>0</td>\n",
              "      <td>0</td>\n",
              "      <td>0</td>\n",
              "      <td>0</td>\n",
              "      <td>0</td>\n",
              "      <td>0</td>\n",
              "      <td>0</td>\n",
              "      <td>0</td>\n",
              "      <td>0</td>\n",
              "      <td>0</td>\n",
              "      <td>0</td>\n",
              "      <td>0</td>\n",
              "      <td>0</td>\n",
              "      <td>0</td>\n",
              "      <td>0</td>\n",
              "      <td>0</td>\n",
              "      <td>0</td>\n",
              "      <td>0</td>\n",
              "      <td>0</td>\n",
              "      <td>0</td>\n",
              "      <td>0</td>\n",
              "      <td>0</td>\n",
              "      <td>0</td>\n",
              "      <td>0</td>\n",
              "      <td>0</td>\n",
              "      <td>0</td>\n",
              "      <td>0</td>\n",
              "      <td>...</td>\n",
              "      <td>0</td>\n",
              "      <td>0</td>\n",
              "      <td>0</td>\n",
              "      <td>0</td>\n",
              "      <td>0</td>\n",
              "      <td>0</td>\n",
              "      <td>0</td>\n",
              "      <td>0</td>\n",
              "      <td>0</td>\n",
              "      <td>0</td>\n",
              "      <td>0</td>\n",
              "      <td>0</td>\n",
              "      <td>0</td>\n",
              "      <td>0</td>\n",
              "      <td>0</td>\n",
              "      <td>0</td>\n",
              "      <td>0</td>\n",
              "      <td>0</td>\n",
              "      <td>0</td>\n",
              "      <td>0</td>\n",
              "      <td>0</td>\n",
              "      <td>0</td>\n",
              "      <td>0</td>\n",
              "      <td>0</td>\n",
              "      <td>0</td>\n",
              "      <td>0</td>\n",
              "      <td>0</td>\n",
              "      <td>0</td>\n",
              "      <td>0</td>\n",
              "      <td>0</td>\n",
              "      <td>0</td>\n",
              "      <td>0</td>\n",
              "      <td>0</td>\n",
              "      <td>0</td>\n",
              "      <td>0</td>\n",
              "      <td>0</td>\n",
              "      <td>0</td>\n",
              "      <td>0</td>\n",
              "      <td>0</td>\n",
              "      <td>0</td>\n",
              "    </tr>\n",
              "    <tr>\n",
              "      <th>1</th>\n",
              "      <td>1630.0</td>\n",
              "      <td>3.0</td>\n",
              "      <td>194.0</td>\n",
              "      <td>3</td>\n",
              "      <td>1</td>\n",
              "      <td>0</td>\n",
              "      <td>0</td>\n",
              "      <td>0</td>\n",
              "      <td>0</td>\n",
              "      <td>0</td>\n",
              "      <td>0</td>\n",
              "      <td>0</td>\n",
              "      <td>0</td>\n",
              "      <td>0</td>\n",
              "      <td>0</td>\n",
              "      <td>0</td>\n",
              "      <td>0</td>\n",
              "      <td>0</td>\n",
              "      <td>0</td>\n",
              "      <td>0</td>\n",
              "      <td>0</td>\n",
              "      <td>0</td>\n",
              "      <td>0</td>\n",
              "      <td>0</td>\n",
              "      <td>0</td>\n",
              "      <td>0</td>\n",
              "      <td>0</td>\n",
              "      <td>0</td>\n",
              "      <td>0</td>\n",
              "      <td>0</td>\n",
              "      <td>0</td>\n",
              "      <td>0</td>\n",
              "      <td>0</td>\n",
              "      <td>0</td>\n",
              "      <td>0</td>\n",
              "      <td>0</td>\n",
              "      <td>0</td>\n",
              "      <td>0</td>\n",
              "      <td>0</td>\n",
              "      <td>0</td>\n",
              "      <td>...</td>\n",
              "      <td>0</td>\n",
              "      <td>0</td>\n",
              "      <td>0</td>\n",
              "      <td>0</td>\n",
              "      <td>0</td>\n",
              "      <td>0</td>\n",
              "      <td>0</td>\n",
              "      <td>0</td>\n",
              "      <td>0</td>\n",
              "      <td>0</td>\n",
              "      <td>0</td>\n",
              "      <td>0</td>\n",
              "      <td>0</td>\n",
              "      <td>0</td>\n",
              "      <td>0</td>\n",
              "      <td>0</td>\n",
              "      <td>0</td>\n",
              "      <td>0</td>\n",
              "      <td>0</td>\n",
              "      <td>0</td>\n",
              "      <td>0</td>\n",
              "      <td>0</td>\n",
              "      <td>0</td>\n",
              "      <td>0</td>\n",
              "      <td>0</td>\n",
              "      <td>0</td>\n",
              "      <td>0</td>\n",
              "      <td>0</td>\n",
              "      <td>0</td>\n",
              "      <td>0</td>\n",
              "      <td>0</td>\n",
              "      <td>0</td>\n",
              "      <td>0</td>\n",
              "      <td>0</td>\n",
              "      <td>0</td>\n",
              "      <td>0</td>\n",
              "      <td>0</td>\n",
              "      <td>0</td>\n",
              "      <td>0</td>\n",
              "      <td>0</td>\n",
              "    </tr>\n",
              "  </tbody>\n",
              "</table>\n",
              "<p>2 rows × 244 columns</p>\n",
              "</div>"
            ],
            "text/plain": [
              "   total_sqft  bath  price  ...  Yelahanka New Town  Yelenahalli  Yeshwanthpur\n",
              "0      2850.0   4.0  428.0  ...                   0            0             0\n",
              "1      1630.0   3.0  194.0  ...                   0            0             0\n",
              "\n",
              "[2 rows x 244 columns]"
            ]
          },
          "metadata": {
            "tags": []
          },
          "execution_count": 64
        }
      ]
    },
    {
      "cell_type": "code",
      "metadata": {
        "colab": {
          "base_uri": "https://localhost:8080/",
          "height": 239
        },
        "id": "MBaUv6Z-IcFn",
        "outputId": "c668749e-5474-4dfc-93e1-0f274dcf24ce"
      },
      "source": [
        "x = df11.drop(['price'],axis='columns')\n",
        "x.head(3)"
      ],
      "execution_count": 65,
      "outputs": [
        {
          "output_type": "execute_result",
          "data": {
            "text/html": [
              "<div>\n",
              "<style scoped>\n",
              "    .dataframe tbody tr th:only-of-type {\n",
              "        vertical-align: middle;\n",
              "    }\n",
              "\n",
              "    .dataframe tbody tr th {\n",
              "        vertical-align: top;\n",
              "    }\n",
              "\n",
              "    .dataframe thead th {\n",
              "        text-align: right;\n",
              "    }\n",
              "</style>\n",
              "<table border=\"1\" class=\"dataframe\">\n",
              "  <thead>\n",
              "    <tr style=\"text-align: right;\">\n",
              "      <th></th>\n",
              "      <th>total_sqft</th>\n",
              "      <th>bath</th>\n",
              "      <th>bhk</th>\n",
              "      <th>1st Block Jayanagar</th>\n",
              "      <th>1st Phase JP Nagar</th>\n",
              "      <th>2nd Phase Judicial Layout</th>\n",
              "      <th>2nd Stage Nagarbhavi</th>\n",
              "      <th>5th Block Hbr Layout</th>\n",
              "      <th>5th Phase JP Nagar</th>\n",
              "      <th>6th Phase JP Nagar</th>\n",
              "      <th>7th Phase JP Nagar</th>\n",
              "      <th>8th Phase JP Nagar</th>\n",
              "      <th>9th Phase JP Nagar</th>\n",
              "      <th>AECS Layout</th>\n",
              "      <th>Abbigere</th>\n",
              "      <th>Akshaya Nagar</th>\n",
              "      <th>Ambalipura</th>\n",
              "      <th>Ambedkar Nagar</th>\n",
              "      <th>Amruthahalli</th>\n",
              "      <th>Anandapura</th>\n",
              "      <th>Ananth Nagar</th>\n",
              "      <th>Anekal</th>\n",
              "      <th>Anjanapura</th>\n",
              "      <th>Ardendale</th>\n",
              "      <th>Arekere</th>\n",
              "      <th>Attibele</th>\n",
              "      <th>BEML Layout</th>\n",
              "      <th>BTM 2nd Stage</th>\n",
              "      <th>BTM Layout</th>\n",
              "      <th>Babusapalaya</th>\n",
              "      <th>Badavala Nagar</th>\n",
              "      <th>Balagere</th>\n",
              "      <th>Banashankari</th>\n",
              "      <th>Banashankari Stage II</th>\n",
              "      <th>Banashankari Stage III</th>\n",
              "      <th>Banashankari Stage V</th>\n",
              "      <th>Banashankari Stage VI</th>\n",
              "      <th>Banaswadi</th>\n",
              "      <th>Banjara Layout</th>\n",
              "      <th>Bannerghatta</th>\n",
              "      <th>...</th>\n",
              "      <th>Sahakara Nagar</th>\n",
              "      <th>Sanjay nagar</th>\n",
              "      <th>Sarakki Nagar</th>\n",
              "      <th>Sarjapur</th>\n",
              "      <th>Sarjapur  Road</th>\n",
              "      <th>Sarjapura - Attibele Road</th>\n",
              "      <th>Sector 2 HSR Layout</th>\n",
              "      <th>Sector 7 HSR Layout</th>\n",
              "      <th>Seegehalli</th>\n",
              "      <th>Shampura</th>\n",
              "      <th>Shivaji Nagar</th>\n",
              "      <th>Singasandra</th>\n",
              "      <th>Somasundara Palya</th>\n",
              "      <th>Sompura</th>\n",
              "      <th>Sonnenahalli</th>\n",
              "      <th>Subramanyapura</th>\n",
              "      <th>Sultan Palaya</th>\n",
              "      <th>TC Palaya</th>\n",
              "      <th>Talaghattapura</th>\n",
              "      <th>Thanisandra</th>\n",
              "      <th>Thigalarapalya</th>\n",
              "      <th>Thubarahalli</th>\n",
              "      <th>Tindlu</th>\n",
              "      <th>Tumkur Road</th>\n",
              "      <th>Ulsoor</th>\n",
              "      <th>Uttarahalli</th>\n",
              "      <th>Varthur</th>\n",
              "      <th>Varthur Road</th>\n",
              "      <th>Vasanthapura</th>\n",
              "      <th>Vidyaranyapura</th>\n",
              "      <th>Vijayanagar</th>\n",
              "      <th>Vishveshwarya Layout</th>\n",
              "      <th>Vishwapriya Layout</th>\n",
              "      <th>Vittasandra</th>\n",
              "      <th>Whitefield</th>\n",
              "      <th>Yelachenahalli</th>\n",
              "      <th>Yelahanka</th>\n",
              "      <th>Yelahanka New Town</th>\n",
              "      <th>Yelenahalli</th>\n",
              "      <th>Yeshwanthpur</th>\n",
              "    </tr>\n",
              "  </thead>\n",
              "  <tbody>\n",
              "    <tr>\n",
              "      <th>0</th>\n",
              "      <td>2850.0</td>\n",
              "      <td>4.0</td>\n",
              "      <td>4</td>\n",
              "      <td>1</td>\n",
              "      <td>0</td>\n",
              "      <td>0</td>\n",
              "      <td>0</td>\n",
              "      <td>0</td>\n",
              "      <td>0</td>\n",
              "      <td>0</td>\n",
              "      <td>0</td>\n",
              "      <td>0</td>\n",
              "      <td>0</td>\n",
              "      <td>0</td>\n",
              "      <td>0</td>\n",
              "      <td>0</td>\n",
              "      <td>0</td>\n",
              "      <td>0</td>\n",
              "      <td>0</td>\n",
              "      <td>0</td>\n",
              "      <td>0</td>\n",
              "      <td>0</td>\n",
              "      <td>0</td>\n",
              "      <td>0</td>\n",
              "      <td>0</td>\n",
              "      <td>0</td>\n",
              "      <td>0</td>\n",
              "      <td>0</td>\n",
              "      <td>0</td>\n",
              "      <td>0</td>\n",
              "      <td>0</td>\n",
              "      <td>0</td>\n",
              "      <td>0</td>\n",
              "      <td>0</td>\n",
              "      <td>0</td>\n",
              "      <td>0</td>\n",
              "      <td>0</td>\n",
              "      <td>0</td>\n",
              "      <td>0</td>\n",
              "      <td>0</td>\n",
              "      <td>...</td>\n",
              "      <td>0</td>\n",
              "      <td>0</td>\n",
              "      <td>0</td>\n",
              "      <td>0</td>\n",
              "      <td>0</td>\n",
              "      <td>0</td>\n",
              "      <td>0</td>\n",
              "      <td>0</td>\n",
              "      <td>0</td>\n",
              "      <td>0</td>\n",
              "      <td>0</td>\n",
              "      <td>0</td>\n",
              "      <td>0</td>\n",
              "      <td>0</td>\n",
              "      <td>0</td>\n",
              "      <td>0</td>\n",
              "      <td>0</td>\n",
              "      <td>0</td>\n",
              "      <td>0</td>\n",
              "      <td>0</td>\n",
              "      <td>0</td>\n",
              "      <td>0</td>\n",
              "      <td>0</td>\n",
              "      <td>0</td>\n",
              "      <td>0</td>\n",
              "      <td>0</td>\n",
              "      <td>0</td>\n",
              "      <td>0</td>\n",
              "      <td>0</td>\n",
              "      <td>0</td>\n",
              "      <td>0</td>\n",
              "      <td>0</td>\n",
              "      <td>0</td>\n",
              "      <td>0</td>\n",
              "      <td>0</td>\n",
              "      <td>0</td>\n",
              "      <td>0</td>\n",
              "      <td>0</td>\n",
              "      <td>0</td>\n",
              "      <td>0</td>\n",
              "    </tr>\n",
              "    <tr>\n",
              "      <th>1</th>\n",
              "      <td>1630.0</td>\n",
              "      <td>3.0</td>\n",
              "      <td>3</td>\n",
              "      <td>1</td>\n",
              "      <td>0</td>\n",
              "      <td>0</td>\n",
              "      <td>0</td>\n",
              "      <td>0</td>\n",
              "      <td>0</td>\n",
              "      <td>0</td>\n",
              "      <td>0</td>\n",
              "      <td>0</td>\n",
              "      <td>0</td>\n",
              "      <td>0</td>\n",
              "      <td>0</td>\n",
              "      <td>0</td>\n",
              "      <td>0</td>\n",
              "      <td>0</td>\n",
              "      <td>0</td>\n",
              "      <td>0</td>\n",
              "      <td>0</td>\n",
              "      <td>0</td>\n",
              "      <td>0</td>\n",
              "      <td>0</td>\n",
              "      <td>0</td>\n",
              "      <td>0</td>\n",
              "      <td>0</td>\n",
              "      <td>0</td>\n",
              "      <td>0</td>\n",
              "      <td>0</td>\n",
              "      <td>0</td>\n",
              "      <td>0</td>\n",
              "      <td>0</td>\n",
              "      <td>0</td>\n",
              "      <td>0</td>\n",
              "      <td>0</td>\n",
              "      <td>0</td>\n",
              "      <td>0</td>\n",
              "      <td>0</td>\n",
              "      <td>0</td>\n",
              "      <td>...</td>\n",
              "      <td>0</td>\n",
              "      <td>0</td>\n",
              "      <td>0</td>\n",
              "      <td>0</td>\n",
              "      <td>0</td>\n",
              "      <td>0</td>\n",
              "      <td>0</td>\n",
              "      <td>0</td>\n",
              "      <td>0</td>\n",
              "      <td>0</td>\n",
              "      <td>0</td>\n",
              "      <td>0</td>\n",
              "      <td>0</td>\n",
              "      <td>0</td>\n",
              "      <td>0</td>\n",
              "      <td>0</td>\n",
              "      <td>0</td>\n",
              "      <td>0</td>\n",
              "      <td>0</td>\n",
              "      <td>0</td>\n",
              "      <td>0</td>\n",
              "      <td>0</td>\n",
              "      <td>0</td>\n",
              "      <td>0</td>\n",
              "      <td>0</td>\n",
              "      <td>0</td>\n",
              "      <td>0</td>\n",
              "      <td>0</td>\n",
              "      <td>0</td>\n",
              "      <td>0</td>\n",
              "      <td>0</td>\n",
              "      <td>0</td>\n",
              "      <td>0</td>\n",
              "      <td>0</td>\n",
              "      <td>0</td>\n",
              "      <td>0</td>\n",
              "      <td>0</td>\n",
              "      <td>0</td>\n",
              "      <td>0</td>\n",
              "      <td>0</td>\n",
              "    </tr>\n",
              "    <tr>\n",
              "      <th>2</th>\n",
              "      <td>1875.0</td>\n",
              "      <td>2.0</td>\n",
              "      <td>3</td>\n",
              "      <td>1</td>\n",
              "      <td>0</td>\n",
              "      <td>0</td>\n",
              "      <td>0</td>\n",
              "      <td>0</td>\n",
              "      <td>0</td>\n",
              "      <td>0</td>\n",
              "      <td>0</td>\n",
              "      <td>0</td>\n",
              "      <td>0</td>\n",
              "      <td>0</td>\n",
              "      <td>0</td>\n",
              "      <td>0</td>\n",
              "      <td>0</td>\n",
              "      <td>0</td>\n",
              "      <td>0</td>\n",
              "      <td>0</td>\n",
              "      <td>0</td>\n",
              "      <td>0</td>\n",
              "      <td>0</td>\n",
              "      <td>0</td>\n",
              "      <td>0</td>\n",
              "      <td>0</td>\n",
              "      <td>0</td>\n",
              "      <td>0</td>\n",
              "      <td>0</td>\n",
              "      <td>0</td>\n",
              "      <td>0</td>\n",
              "      <td>0</td>\n",
              "      <td>0</td>\n",
              "      <td>0</td>\n",
              "      <td>0</td>\n",
              "      <td>0</td>\n",
              "      <td>0</td>\n",
              "      <td>0</td>\n",
              "      <td>0</td>\n",
              "      <td>0</td>\n",
              "      <td>...</td>\n",
              "      <td>0</td>\n",
              "      <td>0</td>\n",
              "      <td>0</td>\n",
              "      <td>0</td>\n",
              "      <td>0</td>\n",
              "      <td>0</td>\n",
              "      <td>0</td>\n",
              "      <td>0</td>\n",
              "      <td>0</td>\n",
              "      <td>0</td>\n",
              "      <td>0</td>\n",
              "      <td>0</td>\n",
              "      <td>0</td>\n",
              "      <td>0</td>\n",
              "      <td>0</td>\n",
              "      <td>0</td>\n",
              "      <td>0</td>\n",
              "      <td>0</td>\n",
              "      <td>0</td>\n",
              "      <td>0</td>\n",
              "      <td>0</td>\n",
              "      <td>0</td>\n",
              "      <td>0</td>\n",
              "      <td>0</td>\n",
              "      <td>0</td>\n",
              "      <td>0</td>\n",
              "      <td>0</td>\n",
              "      <td>0</td>\n",
              "      <td>0</td>\n",
              "      <td>0</td>\n",
              "      <td>0</td>\n",
              "      <td>0</td>\n",
              "      <td>0</td>\n",
              "      <td>0</td>\n",
              "      <td>0</td>\n",
              "      <td>0</td>\n",
              "      <td>0</td>\n",
              "      <td>0</td>\n",
              "      <td>0</td>\n",
              "      <td>0</td>\n",
              "    </tr>\n",
              "  </tbody>\n",
              "</table>\n",
              "<p>3 rows × 243 columns</p>\n",
              "</div>"
            ],
            "text/plain": [
              "   total_sqft  bath  bhk  ...  Yelahanka New Town  Yelenahalli  Yeshwanthpur\n",
              "0      2850.0   4.0    4  ...                   0            0             0\n",
              "1      1630.0   3.0    3  ...                   0            0             0\n",
              "2      1875.0   2.0    3  ...                   0            0             0\n",
              "\n",
              "[3 rows x 243 columns]"
            ]
          },
          "metadata": {
            "tags": []
          },
          "execution_count": 65
        }
      ]
    },
    {
      "cell_type": "code",
      "metadata": {
        "colab": {
          "base_uri": "https://localhost:8080/"
        },
        "id": "UcYTuh-gIcZG",
        "outputId": "52a9dc5c-b476-40b8-813d-b549de76ab6f"
      },
      "source": [
        "y = df11.price\n",
        "y.head(3)"
      ],
      "execution_count": 66,
      "outputs": [
        {
          "output_type": "execute_result",
          "data": {
            "text/plain": [
              "0    428.0\n",
              "1    194.0\n",
              "2    235.0\n",
              "Name: price, dtype: float64"
            ]
          },
          "metadata": {
            "tags": []
          },
          "execution_count": 66
        }
      ]
    },
    {
      "cell_type": "code",
      "metadata": {
        "id": "iLi-9I-pIckw"
      },
      "source": [
        "from sklearn.model_selection import train_test_split\n",
        "x_train, x_test, y_train, y_test = train_test_split(x,y,test_size=0.3,random_state=10)"
      ],
      "execution_count": 67,
      "outputs": []
    },
    {
      "cell_type": "code",
      "metadata": {
        "colab": {
          "base_uri": "https://localhost:8080/"
        },
        "id": "a81l2UxHIctD",
        "outputId": "b63f794b-1a8d-4c7e-fa0f-faad9d8bea44"
      },
      "source": [
        "from sklearn.linear_model import LinearRegression\n",
        "lr_clf = LinearRegression()\n",
        "lr_clf.fit(x_train,y_train)\n",
        "lr_clf.score(x_test,y_test)"
      ],
      "execution_count": 68,
      "outputs": [
        {
          "output_type": "execute_result",
          "data": {
            "text/plain": [
              "0.8329946002586471"
            ]
          },
          "metadata": {
            "tags": []
          },
          "execution_count": 68
        }
      ]
    },
    {
      "cell_type": "code",
      "metadata": {
        "colab": {
          "base_uri": "https://localhost:8080/"
        },
        "id": "9L82TRVoIc8Z",
        "outputId": "1d3577df-7d77-404d-9e94-6a002f8790f3"
      },
      "source": [
        "from sklearn.model_selection import ShuffleSplit\n",
        "from sklearn.model_selection import cross_val_score\n",
        "\n",
        "cv = ShuffleSplit(n_splits=5, test_size=0.3, random_state=0)\n",
        "\n",
        "cross_val_score(LinearRegression(), x, y, cv=cv)"
      ],
      "execution_count": 69,
      "outputs": [
        {
          "output_type": "execute_result",
          "data": {
            "text/plain": [
              "array([0.825026  , 0.81371831, 0.8556777 , 0.84763806, 0.85130085])"
            ]
          },
          "metadata": {
            "tags": []
          },
          "execution_count": 69
        }
      ]
    },
    {
      "cell_type": "code",
      "metadata": {
        "colab": {
          "base_uri": "https://localhost:8080/",
          "height": 138
        },
        "id": "Bs53ZPteKONy",
        "outputId": "459504f5-7cfd-4e9f-ad4e-51f19862dc01"
      },
      "source": [
        "from sklearn.model_selection import GridSearchCV\n",
        "\n",
        "from sklearn.linear_model import Lasso\n",
        "from sklearn.tree import DecisionTreeRegressor\n",
        "\n",
        "def find_best_model_using_gridsearchcv(x,y):\n",
        "    algos = {\n",
        "        'linear_regression' : {\n",
        "            'model': LinearRegression(),\n",
        "            'params': {\n",
        "                'normalize': [True, False]\n",
        "            }\n",
        "        },\n",
        "        'lasso': {\n",
        "            'model': Lasso(),\n",
        "            'params': {\n",
        "                'alpha': [1,2],\n",
        "                'selection': ['random', 'cyclic']\n",
        "            }\n",
        "        },\n",
        "        'decision_tree': {\n",
        "            'model': DecisionTreeRegressor(),\n",
        "            'params': {\n",
        "                'criterion' : ['mse','friedman_mse'],\n",
        "                'splitter': ['best','random']\n",
        "            }\n",
        "        }\n",
        "    }\n",
        "    scores = []\n",
        "    cv = ShuffleSplit(n_splits=5, test_size=0.3, random_state=0)\n",
        "    for algo_name, config in algos.items():\n",
        "        gs =  GridSearchCV(config['model'], config['params'], cv=cv, return_train_score=False)\n",
        "        gs.fit(x,y)\n",
        "        scores.append({\n",
        "            'model': algo_name,\n",
        "            'best_score': gs.best_score_,\n",
        "            'best_params': gs.best_params_\n",
        "        })\n",
        "\n",
        "    return pd.DataFrame(scores,columns=['model','best_score','best_params'])\n",
        "\n",
        "find_best_model_using_gridsearchcv(x,y)"
      ],
      "execution_count": 70,
      "outputs": [
        {
          "output_type": "execute_result",
          "data": {
            "text/html": [
              "<div>\n",
              "<style scoped>\n",
              "    .dataframe tbody tr th:only-of-type {\n",
              "        vertical-align: middle;\n",
              "    }\n",
              "\n",
              "    .dataframe tbody tr th {\n",
              "        vertical-align: top;\n",
              "    }\n",
              "\n",
              "    .dataframe thead th {\n",
              "        text-align: right;\n",
              "    }\n",
              "</style>\n",
              "<table border=\"1\" class=\"dataframe\">\n",
              "  <thead>\n",
              "    <tr style=\"text-align: right;\">\n",
              "      <th></th>\n",
              "      <th>model</th>\n",
              "      <th>best_score</th>\n",
              "      <th>best_params</th>\n",
              "    </tr>\n",
              "  </thead>\n",
              "  <tbody>\n",
              "    <tr>\n",
              "      <th>0</th>\n",
              "      <td>linear_regression</td>\n",
              "      <td>0.838672</td>\n",
              "      <td>{'normalize': False}</td>\n",
              "    </tr>\n",
              "    <tr>\n",
              "      <th>1</th>\n",
              "      <td>lasso</td>\n",
              "      <td>0.713476</td>\n",
              "      <td>{'alpha': 2, 'selection': 'random'}</td>\n",
              "    </tr>\n",
              "    <tr>\n",
              "      <th>2</th>\n",
              "      <td>decision_tree</td>\n",
              "      <td>0.712110</td>\n",
              "      <td>{'criterion': 'friedman_mse', 'splitter': 'best'}</td>\n",
              "    </tr>\n",
              "  </tbody>\n",
              "</table>\n",
              "</div>"
            ],
            "text/plain": [
              "               model  ...                                        best_params\n",
              "0  linear_regression  ...                               {'normalize': False}\n",
              "1              lasso  ...                {'alpha': 2, 'selection': 'random'}\n",
              "2      decision_tree  ...  {'criterion': 'friedman_mse', 'splitter': 'best'}\n",
              "\n",
              "[3 rows x 3 columns]"
            ]
          },
          "metadata": {
            "tags": []
          },
          "execution_count": 70
        }
      ]
    },
    {
      "cell_type": "code",
      "metadata": {
        "id": "dl9fDc-jKOYh"
      },
      "source": [
        "import pickle\n",
        "with open('banglore_home_prices_model.pickle','wb') as f:\n",
        "    pickle.dump(lr_clf,f)"
      ],
      "execution_count": 72,
      "outputs": []
    },
    {
      "cell_type": "code",
      "metadata": {
        "id": "yjHAPfruKOhz"
      },
      "source": [
        "import json\n",
        "columns = {\n",
        "    'data_columns' : [col.lower() for col in x.columns]\n",
        "}\n",
        "with open(\"columns.json\",\"w\") as f:\n",
        "    f.write(json.dumps(columns))"
      ],
      "execution_count": 73,
      "outputs": []
    }
  ]
}