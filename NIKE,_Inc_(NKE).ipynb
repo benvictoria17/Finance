{
  "nbformat": 4,
  "nbformat_minor": 0,
  "metadata": {
    "colab": {
      "name": "NIKE, Inc. (NKE).ipynb",
      "provenance": [],
      "authorship_tag": "ABX9TyPSUs5ohsZQZVFDjhTfr9Gj",
      "include_colab_link": true
    },
    "kernelspec": {
      "name": "python3",
      "display_name": "Python 3"
    }
  },
  "cells": [
    {
      "cell_type": "markdown",
      "metadata": {
        "id": "view-in-github",
        "colab_type": "text"
      },
      "source": [
        "<a href=\"https://colab.research.google.com/github/benvictoria21/AnalyzeStocks/blob/master/NIKE%2C_Inc_(NKE).ipynb\" target=\"_parent\"><img src=\"https://colab.research.google.com/assets/colab-badge.svg\" alt=\"Open In Colab\"/></a>"
      ]
    },
    {
      "cell_type": "code",
      "metadata": {
        "colab": {
          "base_uri": "https://localhost:8080/"
        },
        "id": "OPn_wNx4dPvH",
        "outputId": "b5c02759-66db-4faa-b75b-08b79300f098"
      },
      "source": [
        "!sudo pip install  yfinance"
      ],
      "execution_count": 19,
      "outputs": [
        {
          "output_type": "stream",
          "text": [
            "Requirement already satisfied: yfinance in /usr/local/lib/python3.6/dist-packages (0.1.55)\n",
            "Requirement already satisfied: requests>=2.20 in /usr/local/lib/python3.6/dist-packages (from yfinance) (2.23.0)\n",
            "Requirement already satisfied: pandas>=0.24 in /usr/local/lib/python3.6/dist-packages (from yfinance) (1.1.4)\n",
            "Requirement already satisfied: lxml>=4.5.1 in /usr/local/lib/python3.6/dist-packages (from yfinance) (4.6.1)\n",
            "Requirement already satisfied: multitasking>=0.0.7 in /usr/local/lib/python3.6/dist-packages (from yfinance) (0.0.9)\n",
            "Requirement already satisfied: numpy>=1.15 in /usr/local/lib/python3.6/dist-packages (from yfinance) (1.18.5)\n",
            "Requirement already satisfied: certifi>=2017.4.17 in /usr/local/lib/python3.6/dist-packages (from requests>=2.20->yfinance) (2020.11.8)\n",
            "Requirement already satisfied: urllib3!=1.25.0,!=1.25.1,<1.26,>=1.21.1 in /usr/local/lib/python3.6/dist-packages (from requests>=2.20->yfinance) (1.24.3)\n",
            "Requirement already satisfied: chardet<4,>=3.0.2 in /usr/local/lib/python3.6/dist-packages (from requests>=2.20->yfinance) (3.0.4)\n",
            "Requirement already satisfied: idna<3,>=2.5 in /usr/local/lib/python3.6/dist-packages (from requests>=2.20->yfinance) (2.10)\n",
            "Requirement already satisfied: python-dateutil>=2.7.3 in /usr/local/lib/python3.6/dist-packages (from pandas>=0.24->yfinance) (2.8.1)\n",
            "Requirement already satisfied: pytz>=2017.2 in /usr/local/lib/python3.6/dist-packages (from pandas>=0.24->yfinance) (2018.9)\n",
            "Requirement already satisfied: six>=1.5 in /usr/local/lib/python3.6/dist-packages (from python-dateutil>=2.7.3->pandas>=0.24->yfinance) (1.15.0)\n"
          ],
          "name": "stdout"
        }
      ]
    },
    {
      "cell_type": "code",
      "metadata": {
        "id": "k8yoJL99cuXk"
      },
      "source": [
        "import numpy as np \n",
        "import pandas as pd \n",
        "import matplotlib.pyplot as plt\n",
        "import yfinance"
      ],
      "execution_count": 20,
      "outputs": []
    },
    {
      "cell_type": "code",
      "metadata": {
        "colab": {
          "base_uri": "https://localhost:8080/",
          "height": 467
        },
        "id": "Zt4xpw9jdTZt",
        "outputId": "62dc36bd-cfdc-467a-a76d-074d2fb103f2"
      },
      "source": [
        "NKE = yfinance.download(\"NKE\")\n",
        "NKE"
      ],
      "execution_count": 21,
      "outputs": [
        {
          "output_type": "stream",
          "text": [
            "\r[*********************100%***********************]  1 of 1 completed\n"
          ],
          "name": "stdout"
        },
        {
          "output_type": "execute_result",
          "data": {
            "text/html": [
              "<div>\n",
              "<style scoped>\n",
              "    .dataframe tbody tr th:only-of-type {\n",
              "        vertical-align: middle;\n",
              "    }\n",
              "\n",
              "    .dataframe tbody tr th {\n",
              "        vertical-align: top;\n",
              "    }\n",
              "\n",
              "    .dataframe thead th {\n",
              "        text-align: right;\n",
              "    }\n",
              "</style>\n",
              "<table border=\"1\" class=\"dataframe\">\n",
              "  <thead>\n",
              "    <tr style=\"text-align: right;\">\n",
              "      <th></th>\n",
              "      <th>Open</th>\n",
              "      <th>High</th>\n",
              "      <th>Low</th>\n",
              "      <th>Close</th>\n",
              "      <th>Adj Close</th>\n",
              "      <th>Volume</th>\n",
              "    </tr>\n",
              "    <tr>\n",
              "      <th>Date</th>\n",
              "      <th></th>\n",
              "      <th></th>\n",
              "      <th></th>\n",
              "      <th></th>\n",
              "      <th></th>\n",
              "      <th></th>\n",
              "    </tr>\n",
              "  </thead>\n",
              "  <tbody>\n",
              "    <tr>\n",
              "      <th>1980-12-02</th>\n",
              "      <td>0.179688</td>\n",
              "      <td>0.183594</td>\n",
              "      <td>0.179688</td>\n",
              "      <td>0.179688</td>\n",
              "      <td>0.000004</td>\n",
              "      <td>100710400.0</td>\n",
              "    </tr>\n",
              "    <tr>\n",
              "      <th>1980-12-03</th>\n",
              "      <td>0.177734</td>\n",
              "      <td>0.177734</td>\n",
              "      <td>0.175781</td>\n",
              "      <td>0.175781</td>\n",
              "      <td>0.000004</td>\n",
              "      <td>25177600.0</td>\n",
              "    </tr>\n",
              "    <tr>\n",
              "      <th>1980-12-04</th>\n",
              "      <td>0.181641</td>\n",
              "      <td>0.183594</td>\n",
              "      <td>0.181641</td>\n",
              "      <td>0.181641</td>\n",
              "      <td>0.000004</td>\n",
              "      <td>22694400.0</td>\n",
              "    </tr>\n",
              "    <tr>\n",
              "      <th>1980-12-05</th>\n",
              "      <td>0.175781</td>\n",
              "      <td>0.175781</td>\n",
              "      <td>0.171875</td>\n",
              "      <td>0.171875</td>\n",
              "      <td>0.000004</td>\n",
              "      <td>7590400.0</td>\n",
              "    </tr>\n",
              "    <tr>\n",
              "      <th>1980-12-08</th>\n",
              "      <td>0.164062</td>\n",
              "      <td>0.164062</td>\n",
              "      <td>0.162109</td>\n",
              "      <td>0.162109</td>\n",
              "      <td>0.000003</td>\n",
              "      <td>5414400.0</td>\n",
              "    </tr>\n",
              "    <tr>\n",
              "      <th>...</th>\n",
              "      <td>...</td>\n",
              "      <td>...</td>\n",
              "      <td>...</td>\n",
              "      <td>...</td>\n",
              "      <td>...</td>\n",
              "      <td>...</td>\n",
              "    </tr>\n",
              "    <tr>\n",
              "      <th>2020-11-19</th>\n",
              "      <td>131.919998</td>\n",
              "      <td>132.110001</td>\n",
              "      <td>129.929993</td>\n",
              "      <td>131.910004</td>\n",
              "      <td>131.910004</td>\n",
              "      <td>4642800.0</td>\n",
              "    </tr>\n",
              "    <tr>\n",
              "      <th>2020-11-20</th>\n",
              "      <td>133.300003</td>\n",
              "      <td>133.529999</td>\n",
              "      <td>131.910004</td>\n",
              "      <td>132.979996</td>\n",
              "      <td>132.979996</td>\n",
              "      <td>4318100.0</td>\n",
              "    </tr>\n",
              "    <tr>\n",
              "      <th>2020-11-23</th>\n",
              "      <td>134.380005</td>\n",
              "      <td>134.889999</td>\n",
              "      <td>133.089996</td>\n",
              "      <td>134.130005</td>\n",
              "      <td>134.130005</td>\n",
              "      <td>6118400.0</td>\n",
              "    </tr>\n",
              "    <tr>\n",
              "      <th>2020-11-24</th>\n",
              "      <td>135.000000</td>\n",
              "      <td>135.990005</td>\n",
              "      <td>134.210007</td>\n",
              "      <td>134.699997</td>\n",
              "      <td>134.699997</td>\n",
              "      <td>7204700.0</td>\n",
              "    </tr>\n",
              "    <tr>\n",
              "      <th>2020-11-25</th>\n",
              "      <td>134.250000</td>\n",
              "      <td>135.800003</td>\n",
              "      <td>133.619995</td>\n",
              "      <td>135.539993</td>\n",
              "      <td>135.539993</td>\n",
              "      <td>4484500.0</td>\n",
              "    </tr>\n",
              "  </tbody>\n",
              "</table>\n",
              "<p>10085 rows × 6 columns</p>\n",
              "</div>"
            ],
            "text/plain": [
              "                  Open        High  ...   Adj Close       Volume\n",
              "Date                                ...                         \n",
              "1980-12-02    0.179688    0.183594  ...    0.000004  100710400.0\n",
              "1980-12-03    0.177734    0.177734  ...    0.000004   25177600.0\n",
              "1980-12-04    0.181641    0.183594  ...    0.000004   22694400.0\n",
              "1980-12-05    0.175781    0.175781  ...    0.000004    7590400.0\n",
              "1980-12-08    0.164062    0.164062  ...    0.000003    5414400.0\n",
              "...                ...         ...  ...         ...          ...\n",
              "2020-11-19  131.919998  132.110001  ...  131.910004    4642800.0\n",
              "2020-11-20  133.300003  133.529999  ...  132.979996    4318100.0\n",
              "2020-11-23  134.380005  134.889999  ...  134.130005    6118400.0\n",
              "2020-11-24  135.000000  135.990005  ...  134.699997    7204700.0\n",
              "2020-11-25  134.250000  135.800003  ...  135.539993    4484500.0\n",
              "\n",
              "[10085 rows x 6 columns]"
            ]
          },
          "metadata": {
            "tags": []
          },
          "execution_count": 21
        }
      ]
    },
    {
      "cell_type": "code",
      "metadata": {
        "colab": {
          "base_uri": "https://localhost:8080/",
          "height": 235
        },
        "id": "ENQnVAzVdlt5",
        "outputId": "0c95f34d-ddb8-4826-c440-ead44f197e3c"
      },
      "source": [
        "NKE.head()"
      ],
      "execution_count": 22,
      "outputs": [
        {
          "output_type": "execute_result",
          "data": {
            "text/html": [
              "<div>\n",
              "<style scoped>\n",
              "    .dataframe tbody tr th:only-of-type {\n",
              "        vertical-align: middle;\n",
              "    }\n",
              "\n",
              "    .dataframe tbody tr th {\n",
              "        vertical-align: top;\n",
              "    }\n",
              "\n",
              "    .dataframe thead th {\n",
              "        text-align: right;\n",
              "    }\n",
              "</style>\n",
              "<table border=\"1\" class=\"dataframe\">\n",
              "  <thead>\n",
              "    <tr style=\"text-align: right;\">\n",
              "      <th></th>\n",
              "      <th>Open</th>\n",
              "      <th>High</th>\n",
              "      <th>Low</th>\n",
              "      <th>Close</th>\n",
              "      <th>Adj Close</th>\n",
              "      <th>Volume</th>\n",
              "    </tr>\n",
              "    <tr>\n",
              "      <th>Date</th>\n",
              "      <th></th>\n",
              "      <th></th>\n",
              "      <th></th>\n",
              "      <th></th>\n",
              "      <th></th>\n",
              "      <th></th>\n",
              "    </tr>\n",
              "  </thead>\n",
              "  <tbody>\n",
              "    <tr>\n",
              "      <th>1980-12-02</th>\n",
              "      <td>0.179688</td>\n",
              "      <td>0.183594</td>\n",
              "      <td>0.179688</td>\n",
              "      <td>0.179688</td>\n",
              "      <td>0.000004</td>\n",
              "      <td>100710400.0</td>\n",
              "    </tr>\n",
              "    <tr>\n",
              "      <th>1980-12-03</th>\n",
              "      <td>0.177734</td>\n",
              "      <td>0.177734</td>\n",
              "      <td>0.175781</td>\n",
              "      <td>0.175781</td>\n",
              "      <td>0.000004</td>\n",
              "      <td>25177600.0</td>\n",
              "    </tr>\n",
              "    <tr>\n",
              "      <th>1980-12-04</th>\n",
              "      <td>0.181641</td>\n",
              "      <td>0.183594</td>\n",
              "      <td>0.181641</td>\n",
              "      <td>0.181641</td>\n",
              "      <td>0.000004</td>\n",
              "      <td>22694400.0</td>\n",
              "    </tr>\n",
              "    <tr>\n",
              "      <th>1980-12-05</th>\n",
              "      <td>0.175781</td>\n",
              "      <td>0.175781</td>\n",
              "      <td>0.171875</td>\n",
              "      <td>0.171875</td>\n",
              "      <td>0.000004</td>\n",
              "      <td>7590400.0</td>\n",
              "    </tr>\n",
              "    <tr>\n",
              "      <th>1980-12-08</th>\n",
              "      <td>0.164062</td>\n",
              "      <td>0.164062</td>\n",
              "      <td>0.162109</td>\n",
              "      <td>0.162109</td>\n",
              "      <td>0.000003</td>\n",
              "      <td>5414400.0</td>\n",
              "    </tr>\n",
              "  </tbody>\n",
              "</table>\n",
              "</div>"
            ],
            "text/plain": [
              "                Open      High       Low     Close  Adj Close       Volume\n",
              "Date                                                                      \n",
              "1980-12-02  0.179688  0.183594  0.179688  0.179688   0.000004  100710400.0\n",
              "1980-12-03  0.177734  0.177734  0.175781  0.175781   0.000004   25177600.0\n",
              "1980-12-04  0.181641  0.183594  0.181641  0.181641   0.000004   22694400.0\n",
              "1980-12-05  0.175781  0.175781  0.171875  0.171875   0.000004    7590400.0\n",
              "1980-12-08  0.164062  0.164062  0.162109  0.162109   0.000003    5414400.0"
            ]
          },
          "metadata": {
            "tags": []
          },
          "execution_count": 22
        }
      ]
    },
    {
      "cell_type": "code",
      "metadata": {
        "colab": {
          "base_uri": "https://localhost:8080/"
        },
        "id": "tGp4wu1wdlw8",
        "outputId": "29eb7d86-e63b-436f-ff0b-3ef7c4ed1820"
      },
      "source": [
        "NKE.Close"
      ],
      "execution_count": 23,
      "outputs": [
        {
          "output_type": "execute_result",
          "data": {
            "text/plain": [
              "Date\n",
              "1980-12-02      0.179688\n",
              "1980-12-03      0.175781\n",
              "1980-12-04      0.181641\n",
              "1980-12-05      0.171875\n",
              "1980-12-08      0.162109\n",
              "                 ...    \n",
              "2020-11-19    131.910004\n",
              "2020-11-20    132.979996\n",
              "2020-11-23    134.130005\n",
              "2020-11-24    134.699997\n",
              "2020-11-25    135.539993\n",
              "Name: Close, Length: 10085, dtype: float64"
            ]
          },
          "metadata": {
            "tags": []
          },
          "execution_count": 23
        }
      ]
    },
    {
      "cell_type": "code",
      "metadata": {
        "colab": {
          "base_uri": "https://localhost:8080/",
          "height": 297
        },
        "id": "JGG54M7rdl0G",
        "outputId": "9b321b69-09fd-44ff-f358-f7b23b730c7c"
      },
      "source": [
        "plt.xlabel(\"days\")         \n",
        "plt.ylabel(\"price\")    \n",
        "plt.grid()              \n",
        "plt.plot(NKE.Close)"
      ],
      "execution_count": 24,
      "outputs": [
        {
          "output_type": "execute_result",
          "data": {
            "text/plain": [
              "[<matplotlib.lines.Line2D at 0x7fb1f93160f0>]"
            ]
          },
          "metadata": {
            "tags": []
          },
          "execution_count": 24
        },
        {
          "output_type": "display_data",
          "data": {
            "image/png": "[encoded data removed]",
            "text/plain": [
              "<Figure size 432x288 with 1 Axes>"
            ]
          },
          "metadata": {
            "tags": [],
            "needs_background": "light"
          }
        }
      ]
    },
    {
      "cell_type": "code",
      "metadata": {
        "colab": {
          "base_uri": "https://localhost:8080/"
        },
        "id": "mAi2iuVodl11",
        "outputId": "9eab2856-ee80-4a38-d2ce-8cdc6f399089"
      },
      "source": [
        "NKE.High"
      ],
      "execution_count": 25,
      "outputs": [
        {
          "output_type": "execute_result",
          "data": {
            "text/plain": [
              "Date\n",
              "1980-12-02      0.183594\n",
              "1980-12-03      0.177734\n",
              "1980-12-04      0.183594\n",
              "1980-12-05      0.175781\n",
              "1980-12-08      0.164062\n",
              "                 ...    \n",
              "2020-11-19    132.110001\n",
              "2020-11-20    133.529999\n",
              "2020-11-23    134.889999\n",
              "2020-11-24    135.990005\n",
              "2020-11-25    135.800003\n",
              "Name: High, Length: 10085, dtype: float64"
            ]
          },
          "metadata": {
            "tags": []
          },
          "execution_count": 25
        }
      ]
    },
    {
      "cell_type": "code",
      "metadata": {
        "colab": {
          "base_uri": "https://localhost:8080/",
          "height": 265
        },
        "id": "6lcDQiR0dl7u",
        "outputId": "4c5bec25-b5f6-4923-87dd-10714453fb5c"
      },
      "source": [
        "plt.plot(NKE.High)\n",
        "plt.grid()"
      ],
      "execution_count": 26,
      "outputs": [
        {
          "output_type": "display_data",
          "data": {
            "image/png": "[encoded data removed]",
            "text/plain": [
              "<Figure size 432x288 with 1 Axes>"
            ]
          },
          "metadata": {
            "tags": [],
            "needs_background": "light"
          }
        }
      ]
    },
    {
      "cell_type": "code",
      "metadata": {
        "colab": {
          "base_uri": "https://localhost:8080/"
        },
        "id": "t2C6ZCUGdl_E",
        "outputId": "f7a31aa0-efc2-4e17-b70f-1cd37079879f"
      },
      "source": [
        "NKE.Open"
      ],
      "execution_count": 27,
      "outputs": [
        {
          "output_type": "execute_result",
          "data": {
            "text/plain": [
              "Date\n",
              "1980-12-02      0.179688\n",
              "1980-12-03      0.177734\n",
              "1980-12-04      0.181641\n",
              "1980-12-05      0.175781\n",
              "1980-12-08      0.164062\n",
              "                 ...    \n",
              "2020-11-19    131.919998\n",
              "2020-11-20    133.300003\n",
              "2020-11-23    134.380005\n",
              "2020-11-24    135.000000\n",
              "2020-11-25    134.250000\n",
              "Name: Open, Length: 10085, dtype: float64"
            ]
          },
          "metadata": {
            "tags": []
          },
          "execution_count": 27
        }
      ]
    },
    {
      "cell_type": "code",
      "metadata": {
        "colab": {
          "base_uri": "https://localhost:8080/",
          "height": 299
        },
        "id": "Itoli-0EdmB2",
        "outputId": "5ec30e07-a867-4c28-bc7d-4d9afc71c712"
      },
      "source": [
        "print(len(NKE.Close))\n",
        "las100_days = ATVI.High[2316:2415]\n",
        "plt.plot(las100_days)"
      ],
      "execution_count": 28,
      "outputs": [
        {
          "output_type": "stream",
          "text": [
            "10085\n"
          ],
          "name": "stdout"
        },
        {
          "output_type": "execute_result",
          "data": {
            "text/plain": [
              "[<matplotlib.lines.Line2D at 0x7fb1f9232c18>]"
            ]
          },
          "metadata": {
            "tags": []
          },
          "execution_count": 28
        },
        {
          "output_type": "display_data",
          "data": {
            "image/png": "[encoded data removed]",
            "text/plain": [
              "<Figure size 432x288 with 1 Axes>"
            ]
          },
          "metadata": {
            "tags": [],
            "needs_background": "light"
          }
        }
      ]
    }
  ]
}