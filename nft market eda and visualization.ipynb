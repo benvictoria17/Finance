{
 "cells": [
  {
   "cell_type": "code",
   "execution_count": 1,
   "id": "8f28deb5",
   "metadata": {
    "execution": {
     "iopub.execute_input": "2022-02-25T01:01:40.721804Z",
     "iopub.status.busy": "2022-02-25T01:01:40.721075Z",
     "iopub.status.idle": "2022-02-25T01:01:41.999687Z",
     "shell.execute_reply": "2022-02-25T01:01:41.998715Z",
     "shell.execute_reply.started": "2022-02-25T00:58:43.617396Z"
    },
    "papermill": {
     "duration": 1.309652,
     "end_time": "2022-02-25T01:01:41.999917",
     "exception": false,
     "start_time": "2022-02-25T01:01:40.690265",
     "status": "completed"
    },
    "tags": []
   },
   "outputs": [],
   "source": [
    "import numpy as np \n",
    "import pandas as pd \n",
    "import seaborn as sns \n",
    "import matplotlib.pyplot as plt"
   ]
  },
  {
   "cell_type": "code",
   "execution_count": 2,
   "id": "f6d0efc8",
   "metadata": {
    "execution": {
     "iopub.execute_input": "2022-02-25T01:01:42.049222Z",
     "iopub.status.busy": "2022-02-25T01:01:42.048466Z",
     "iopub.status.idle": "2022-02-25T01:01:43.768390Z",
     "shell.execute_reply": "2022-02-25T01:01:43.769015Z",
     "shell.execute_reply.started": "2022-02-25T00:58:43.627534Z"
    },
    "papermill": {
     "duration": 1.745204,
     "end_time": "2022-02-25T01:01:43.769206",
     "exception": false,
     "start_time": "2022-02-25T01:01:42.024002",
     "status": "completed"
    },
    "tags": []
   },
   "outputs": [],
   "source": [
    "df_chainlevel = pd.read_csv(\"https://raw.githubusercontent.com/benvictoria17/Finance/master/dataset/NFT%20Dataset%20from%20DefiLlama/nft_chainlevel.csv\")\n",
    "df_collections = pd.read_csv(\"https://raw.githubusercontent.com/benvictoria17/Finance/master/dataset/NFT%20Dataset%20from%20DefiLlama/nft_collections.csv\")\n",
    "df_dailyvolume = pd.read_csv(\"https://raw.githubusercontent.com/benvictoria17/Finance/master/dataset/NFT%20Dataset%20from%20DefiLlama/nft_dailyvolume.csv\")"
   ]
  },
  {
   "cell_type": "code",
   "execution_count": 3,
   "id": "0f207374",
   "metadata": {
    "execution": {
     "iopub.execute_input": "2022-02-25T01:01:43.824350Z",
     "iopub.status.busy": "2022-02-25T01:01:43.823447Z",
     "iopub.status.idle": "2022-02-25T01:01:43.838139Z",
     "shell.execute_reply": "2022-02-25T01:01:43.838691Z",
     "shell.execute_reply.started": "2022-02-25T00:58:44.391616Z"
    },
    "papermill": {
     "duration": 0.048049,
     "end_time": "2022-02-25T01:01:43.838895",
     "exception": false,
     "start_time": "2022-02-25T01:01:43.790846",
     "status": "completed"
    },
    "tags": []
   },
   "outputs": [
    {
     "data": {
      "text/html": [
       "<div>\n",
       "<style scoped>\n",
       "    .dataframe tbody tr th:only-of-type {\n",
       "        vertical-align: middle;\n",
       "    }\n",
       "\n",
       "    .dataframe tbody tr th {\n",
       "        vertical-align: top;\n",
       "    }\n",
       "\n",
       "    .dataframe thead th {\n",
       "        text-align: right;\n",
       "    }\n",
       "</style>\n",
       "<table border=\"1\" class=\"dataframe\">\n",
       "  <thead>\n",
       "    <tr style=\"text-align: right;\">\n",
       "      <th></th>\n",
       "      <th>displayName</th>\n",
       "      <th>chain</th>\n",
       "      <th>collections</th>\n",
       "      <th>dailyVolumeUSD</th>\n",
       "      <th>totalVolumeUSD</th>\n",
       "    </tr>\n",
       "  </thead>\n",
       "  <tbody>\n",
       "    <tr>\n",
       "      <th>0</th>\n",
       "      <td>Ethereum</td>\n",
       "      <td>ethereum</td>\n",
       "      <td>5842</td>\n",
       "      <td>0</td>\n",
       "      <td>13466879582</td>\n",
       "    </tr>\n",
       "    <tr>\n",
       "      <th>1</th>\n",
       "      <td>ImmutableX</td>\n",
       "      <td>immutablex</td>\n",
       "      <td>100</td>\n",
       "      <td>0</td>\n",
       "      <td>66959373</td>\n",
       "    </tr>\n",
       "    <tr>\n",
       "      <th>2</th>\n",
       "      <td>Solana</td>\n",
       "      <td>solana</td>\n",
       "      <td>1774</td>\n",
       "      <td>1141254</td>\n",
       "      <td>58871821</td>\n",
       "    </tr>\n",
       "    <tr>\n",
       "      <th>3</th>\n",
       "      <td>BSC</td>\n",
       "      <td>bsc</td>\n",
       "      <td>19</td>\n",
       "      <td>0</td>\n",
       "      <td>43177294</td>\n",
       "    </tr>\n",
       "    <tr>\n",
       "      <th>4</th>\n",
       "      <td>Terra</td>\n",
       "      <td>terra</td>\n",
       "      <td>61</td>\n",
       "      <td>0</td>\n",
       "      <td>19414566</td>\n",
       "    </tr>\n",
       "    <tr>\n",
       "      <th>5</th>\n",
       "      <td>Arbitrum</td>\n",
       "      <td>arbitrum</td>\n",
       "      <td>10</td>\n",
       "      <td>0</td>\n",
       "      <td>8023700</td>\n",
       "    </tr>\n",
       "    <tr>\n",
       "      <th>6</th>\n",
       "      <td>Cardano</td>\n",
       "      <td>cardano</td>\n",
       "      <td>139</td>\n",
       "      <td>0</td>\n",
       "      <td>2619323</td>\n",
       "    </tr>\n",
       "  </tbody>\n",
       "</table>\n",
       "</div>"
      ],
      "text/plain": [
       "  displayName       chain  collections  dailyVolumeUSD  totalVolumeUSD\n",
       "0    Ethereum    ethereum         5842               0     13466879582\n",
       "1  ImmutableX  immutablex          100               0        66959373\n",
       "2      Solana      solana         1774         1141254        58871821\n",
       "3         BSC         bsc           19               0        43177294\n",
       "4       Terra       terra           61               0        19414566\n",
       "5    Arbitrum    arbitrum           10               0         8023700\n",
       "6     Cardano     cardano          139               0         2619323"
      ]
     },
     "execution_count": 3,
     "metadata": {},
     "output_type": "execute_result"
    }
   ],
   "source": [
    "df_chainlevel"
   ]
  },
  {
   "cell_type": "code",
   "execution_count": 4,
   "id": "146b6750",
   "metadata": {
    "execution": {
     "iopub.execute_input": "2022-02-25T01:01:43.886761Z",
     "iopub.status.busy": "2022-02-25T01:01:43.886053Z",
     "iopub.status.idle": "2022-02-25T01:01:44.370069Z",
     "shell.execute_reply": "2022-02-25T01:01:44.369511Z",
     "shell.execute_reply.started": "2022-02-25T00:58:44.407060Z"
    },
    "papermill": {
     "duration": 0.509148,
     "end_time": "2022-02-25T01:01:44.370236",
     "exception": false,
     "start_time": "2022-02-25T01:01:43.861088",
     "status": "completed"
    },
    "tags": []
   },
   "outputs": [
    {
     "data": {
      "text/plain": [
       "<AxesSubplot:xlabel='totalVolumeUSD', ylabel='displayName'>"
      ]
     },
     "execution_count": 4,
     "metadata": {},
     "output_type": "execute_result"
    },
    {
     "data": {
      "image/png": "[encoded data removed]",
      "text/plain": [
       "<Figure size 1008x288 with 2 Axes>"
      ]
     },
     "metadata": {
      "needs_background": "light"
     },
     "output_type": "display_data"
    }
   ],
   "source": [
    "from matplotlib.pyplot import figure\n",
    "fig,axis = plt.subplots(1,2, figsize=(14,4))\n",
    "\n",
    "\n",
    "sns.barplot(data=df_chainlevel.sort_values(by=[\"collections\"],ascending=False), y = \"displayName\", x =\"collections\",ax=axis[0])\n",
    "sns.barplot(data=df_chainlevel.sort_values(by=[\"totalVolumeUSD\"], ascending=False), y = \"displayName\", x =\"totalVolumeUSD\", ax=axis[1])"
   ]
  },
  {
   "cell_type": "code",
   "execution_count": 5,
   "id": "f4b6d074",
   "metadata": {
    "execution": {
     "iopub.execute_input": "2022-02-25T01:01:44.465499Z",
     "iopub.status.busy": "2022-02-25T01:01:44.426242Z",
     "iopub.status.idle": "2022-02-25T01:01:45.601405Z",
     "shell.execute_reply": "2022-02-25T01:01:45.602053Z",
     "shell.execute_reply.started": "2022-02-25T00:58:44.820180Z"
    },
    "papermill": {
     "duration": 1.208596,
     "end_time": "2022-02-25T01:01:45.602308",
     "exception": false,
     "start_time": "2022-02-25T01:01:44.393712",
     "status": "completed"
    },
    "tags": []
   },
   "outputs": [
    {
     "data": {
      "image/png": "[encoded data removed]",
      "text/plain": [
       "<Figure size 1368x288 with 2 Axes>"
      ]
     },
     "metadata": {
      "needs_background": "light"
     },
     "output_type": "display_data"
    }
   ],
   "source": [
    "fig,axis = plt.subplots(1,2, figsize=(19,4))\n",
    "sns.barplot(data=df_chainlevel.sort_values(by=[\"collections\"],ascending=False), y = \"displayName\", x =\"collections\",ax=axis[0]).set_xscale(\"log\")\n",
    "sns.barplot(data=df_chainlevel.sort_values(by=[\"totalVolumeUSD\"], ascending=False), y = \"displayName\", x =\"totalVolumeUSD\", ax=axis[1]).set_xscale(\"log\")"
   ]
  },
  {
   "cell_type": "code",
   "execution_count": 6,
   "id": "5cb00449",
   "metadata": {
    "execution": {
     "iopub.execute_input": "2022-02-25T01:01:45.657203Z",
     "iopub.status.busy": "2022-02-25T01:01:45.656404Z",
     "iopub.status.idle": "2022-02-25T01:01:45.889660Z",
     "shell.execute_reply": "2022-02-25T01:01:45.890235Z",
     "shell.execute_reply.started": "2022-02-25T00:58:45.821884Z"
    },
    "papermill": {
     "duration": 0.263682,
     "end_time": "2022-02-25T01:01:45.890417",
     "exception": false,
     "start_time": "2022-02-25T01:01:45.626735",
     "status": "completed"
    },
    "tags": []
   },
   "outputs": [
    {
     "data": {
      "text/plain": [
       "<AxesSubplot:xlabel='ratio', ylabel='displayName'>"
      ]
     },
     "execution_count": 6,
     "metadata": {},
     "output_type": "execute_result"
    },
    {
     "data": {
      "image/png": "[encoded data removed]",
      "text/plain": [
       "<Figure size 432x288 with 1 Axes>"
      ]
     },
     "metadata": {
      "needs_background": "light"
     },
     "output_type": "display_data"
    }
   ],
   "source": [
    "df_chainlevel[\"ratio\"] = df_chainlevel[\"totalVolumeUSD\"]/df_chainlevel[\"collections\"]\n",
    "sns.barplot(data=df_chainlevel.sort_values(by=[\"ratio\"],ascending=False), y = \"displayName\", x =\"ratio\")"
   ]
  },
  {
   "cell_type": "code",
   "execution_count": 7,
   "id": "1d11077e",
   "metadata": {
    "execution": {
     "iopub.execute_input": "2022-02-25T01:01:45.946151Z",
     "iopub.status.busy": "2022-02-25T01:01:45.945365Z",
     "iopub.status.idle": "2022-02-25T01:01:45.972546Z",
     "shell.execute_reply": "2022-02-25T01:01:45.973135Z",
     "shell.execute_reply.started": "2022-02-25T00:58:46.056901Z"
    },
    "papermill": {
     "duration": 0.056857,
     "end_time": "2022-02-25T01:01:45.973319",
     "exception": false,
     "start_time": "2022-02-25T01:01:45.916462",
     "status": "completed"
    },
    "tags": []
   },
   "outputs": [
    {
     "data": {
      "text/html": [
       "<div>\n",
       "<style scoped>\n",
       "    .dataframe tbody tr th:only-of-type {\n",
       "        vertical-align: middle;\n",
       "    }\n",
       "\n",
       "    .dataframe tbody tr th {\n",
       "        vertical-align: top;\n",
       "    }\n",
       "\n",
       "    .dataframe thead th {\n",
       "        text-align: right;\n",
       "    }\n",
       "</style>\n",
       "<table border=\"1\" class=\"dataframe\">\n",
       "  <thead>\n",
       "    <tr style=\"text-align: right;\">\n",
       "      <th></th>\n",
       "      <th>floorUSD</th>\n",
       "      <th>totalVolumeUSD</th>\n",
       "      <th>address</th>\n",
       "      <th>logo</th>\n",
       "      <th>marketplaces</th>\n",
       "      <th>name</th>\n",
       "      <th>chains</th>\n",
       "      <th>floor</th>\n",
       "      <th>owners</th>\n",
       "      <th>totalVolume</th>\n",
       "      <th>category</th>\n",
       "      <th>SK</th>\n",
       "      <th>PK</th>\n",
       "      <th>dailyVolumeUSD</th>\n",
       "      <th>dailyVolume</th>\n",
       "      <th>slug</th>\n",
       "    </tr>\n",
       "  </thead>\n",
       "  <tbody>\n",
       "    <tr>\n",
       "      <th>0</th>\n",
       "      <td>0</td>\n",
       "      <td>2734505883</td>\n",
       "      <td>0xb47e3cd837ddf8e4c57f05d70ab865de6e193bbb</td>\n",
       "      <td>https://lh3.googleusercontent.com/BdxvLseXcfl5...</td>\n",
       "      <td>['opensea']</td>\n",
       "      <td>CryptoPunks</td>\n",
       "      <td>['ethereum']</td>\n",
       "      <td>0.000000</td>\n",
       "      <td>3313</td>\n",
       "      <td>775319.649149</td>\n",
       "      <td>collections</td>\n",
       "      <td>overview</td>\n",
       "      <td>collection#cryptopunks</td>\n",
       "      <td>1636712</td>\n",
       "      <td>464.060000</td>\n",
       "      <td>cryptopunks</td>\n",
       "    </tr>\n",
       "    <tr>\n",
       "      <th>1</th>\n",
       "      <td>232425</td>\n",
       "      <td>1061782940</td>\n",
       "      <td>0xbc4ca0eda7647a8ab7c2061c2e118a18a936f13d</td>\n",
       "      <td>https://lh3.googleusercontent.com/Ju9CkWtV-1Ok...</td>\n",
       "      <td>['opensea']</td>\n",
       "      <td>Bored Ape Yacht Club</td>\n",
       "      <td>['ethereum']</td>\n",
       "      <td>65.900000</td>\n",
       "      <td>6088</td>\n",
       "      <td>301049.334636</td>\n",
       "      <td>collections</td>\n",
       "      <td>overview</td>\n",
       "      <td>collection#boredapeyachtclub</td>\n",
       "      <td>6313610</td>\n",
       "      <td>1790.109900</td>\n",
       "      <td>boredapeyachtclub</td>\n",
       "    </tr>\n",
       "    <tr>\n",
       "      <th>2</th>\n",
       "      <td>12400</td>\n",
       "      <td>805030140</td>\n",
       "      <td>0x959e104e1a4db6317fa58f8295f586e1a978c297</td>\n",
       "      <td>https://lh3.googleusercontent.com/5KIxEGmnAiL5...</td>\n",
       "      <td>['opensea']</td>\n",
       "      <td>Decentraland</td>\n",
       "      <td>['ethereum']</td>\n",
       "      <td>3.515817</td>\n",
       "      <td>6261</td>\n",
       "      <td>228251.725191</td>\n",
       "      <td>collections</td>\n",
       "      <td>overview</td>\n",
       "      <td>collection#decentraland</td>\n",
       "      <td>1822724</td>\n",
       "      <td>516.800300</td>\n",
       "      <td>decentraland</td>\n",
       "    </tr>\n",
       "    <tr>\n",
       "      <th>3</th>\n",
       "      <td>51141</td>\n",
       "      <td>624541489</td>\n",
       "      <td>0x60e4d786628fea6478f785a6d7e704777c86a7c6</td>\n",
       "      <td>https://lh3.googleusercontent.com/lHexKRMpw-ao...</td>\n",
       "      <td>['opensea']</td>\n",
       "      <td>Mutant Ape Yacht Club</td>\n",
       "      <td>['ethereum']</td>\n",
       "      <td>14.500000</td>\n",
       "      <td>11199</td>\n",
       "      <td>177077.435100</td>\n",
       "      <td>collections</td>\n",
       "      <td>overview</td>\n",
       "      <td>collection#mutant-ape-yacht-club</td>\n",
       "      <td>8617518</td>\n",
       "      <td>2443.341190</td>\n",
       "      <td>mutant-ape-yacht-club</td>\n",
       "    </tr>\n",
       "    <tr>\n",
       "      <th>4</th>\n",
       "      <td>12274</td>\n",
       "      <td>461613503</td>\n",
       "      <td>0x50f5474724e0ee42d9a4e711ccfb275809fd6d4a</td>\n",
       "      <td>https://lh3.googleusercontent.com/SXH8tW1siikB...</td>\n",
       "      <td>['opensea']</td>\n",
       "      <td>The Sandbox</td>\n",
       "      <td>['ethereum']</td>\n",
       "      <td>3.480000</td>\n",
       "      <td>17884</td>\n",
       "      <td>130882.153670</td>\n",
       "      <td>collections</td>\n",
       "      <td>overview</td>\n",
       "      <td>collection#sandbox</td>\n",
       "      <td>3671598</td>\n",
       "      <td>1041.015168</td>\n",
       "      <td>sandbox</td>\n",
       "    </tr>\n",
       "    <tr>\n",
       "      <th>...</th>\n",
       "      <td>...</td>\n",
       "      <td>...</td>\n",
       "      <td>...</td>\n",
       "      <td>...</td>\n",
       "      <td>...</td>\n",
       "      <td>...</td>\n",
       "      <td>...</td>\n",
       "      <td>...</td>\n",
       "      <td>...</td>\n",
       "      <td>...</td>\n",
       "      <td>...</td>\n",
       "      <td>...</td>\n",
       "      <td>...</td>\n",
       "      <td>...</td>\n",
       "      <td>...</td>\n",
       "      <td>...</td>\n",
       "    </tr>\n",
       "    <tr>\n",
       "      <th>95</th>\n",
       "      <td>529041</td>\n",
       "      <td>31986485</td>\n",
       "      <td>0xb7f7f6c52f2e2fdb1963eab30438024864c313f6</td>\n",
       "      <td>https://lh3.googleusercontent.com/OnBu_tLdS59m...</td>\n",
       "      <td>['opensea']</td>\n",
       "      <td>Wrapped Cryptopunks</td>\n",
       "      <td>['ethereum']</td>\n",
       "      <td>150.000000</td>\n",
       "      <td>56</td>\n",
       "      <td>9069.188927</td>\n",
       "      <td>collections</td>\n",
       "      <td>overview</td>\n",
       "      <td>collection#wrapped-cryptopunks</td>\n",
       "      <td>0</td>\n",
       "      <td>0.000000</td>\n",
       "      <td>wrapped-cryptopunks</td>\n",
       "    </tr>\n",
       "    <tr>\n",
       "      <th>96</th>\n",
       "      <td>261</td>\n",
       "      <td>31475083</td>\n",
       "      <td>0x4f8730e0b32b04beaa5757e5aea3aef970e5b613</td>\n",
       "      <td>https://lh3.googleusercontent.com/srjbORK3qPUa...</td>\n",
       "      <td>['opensea']</td>\n",
       "      <td>Bloot (not for Weaks)</td>\n",
       "      <td>['ethereum']</td>\n",
       "      <td>0.074000</td>\n",
       "      <td>4008</td>\n",
       "      <td>8924.190162</td>\n",
       "      <td>collections</td>\n",
       "      <td>overview</td>\n",
       "      <td>collection#blootofficial</td>\n",
       "      <td>5415</td>\n",
       "      <td>1.535290</td>\n",
       "      <td>blootofficial</td>\n",
       "    </tr>\n",
       "    <tr>\n",
       "      <th>97</th>\n",
       "      <td>520</td>\n",
       "      <td>31256561</td>\n",
       "      <td>0x85f740958906b317de6ed79663012859067e745b</td>\n",
       "      <td>https://lh3.googleusercontent.com/e5s2WcnoPKpV...</td>\n",
       "      <td>['opensea']</td>\n",
       "      <td>The Wicked Craniums</td>\n",
       "      <td>['ethereum']</td>\n",
       "      <td>0.147500</td>\n",
       "      <td>4051</td>\n",
       "      <td>8862.232251</td>\n",
       "      <td>collections</td>\n",
       "      <td>overview</td>\n",
       "      <td>collection#thewickedcraniums</td>\n",
       "      <td>22008</td>\n",
       "      <td>6.240000</td>\n",
       "      <td>thewickedcraniums</td>\n",
       "    </tr>\n",
       "    <tr>\n",
       "      <th>98</th>\n",
       "      <td>5573</td>\n",
       "      <td>31042310</td>\n",
       "      <td>0xfcb1315c4273954f74cb16d5b663dbf479eec62e</td>\n",
       "      <td>https://lh3.googleusercontent.com/jzt7Uq5x6lN4...</td>\n",
       "      <td>['opensea']</td>\n",
       "      <td>Capsule House</td>\n",
       "      <td>['ethereum']</td>\n",
       "      <td>1.580000</td>\n",
       "      <td>3030</td>\n",
       "      <td>8801.485127</td>\n",
       "      <td>collections</td>\n",
       "      <td>overview</td>\n",
       "      <td>collection#capsulehouse</td>\n",
       "      <td>5435194</td>\n",
       "      <td>1541.050920</td>\n",
       "      <td>capsulehouse</td>\n",
       "    </tr>\n",
       "    <tr>\n",
       "      <th>99</th>\n",
       "      <td>3774</td>\n",
       "      <td>30650206</td>\n",
       "      <td>0x90ca8a3eb2574f937f514749ce619fdcca187d45</td>\n",
       "      <td>https://lh3.googleusercontent.com/L4UK_wLnVUUL...</td>\n",
       "      <td>['opensea']</td>\n",
       "      <td>Gambling Apes</td>\n",
       "      <td>['ethereum']</td>\n",
       "      <td>1.070000</td>\n",
       "      <td>3900</td>\n",
       "      <td>8690.311186</td>\n",
       "      <td>collections</td>\n",
       "      <td>overview</td>\n",
       "      <td>collection#gamblingapes</td>\n",
       "      <td>115998</td>\n",
       "      <td>32.889000</td>\n",
       "      <td>gamblingapes</td>\n",
       "    </tr>\n",
       "  </tbody>\n",
       "</table>\n",
       "<p>100 rows × 16 columns</p>\n",
       "</div>"
      ],
      "text/plain": [
       "    floorUSD  totalVolumeUSD                                     address  \\\n",
       "0          0      2734505883  0xb47e3cd837ddf8e4c57f05d70ab865de6e193bbb   \n",
       "1     232425      1061782940  0xbc4ca0eda7647a8ab7c2061c2e118a18a936f13d   \n",
       "2      12400       805030140  0x959e104e1a4db6317fa58f8295f586e1a978c297   \n",
       "3      51141       624541489  0x60e4d786628fea6478f785a6d7e704777c86a7c6   \n",
       "4      12274       461613503  0x50f5474724e0ee42d9a4e711ccfb275809fd6d4a   \n",
       "..       ...             ...                                         ...   \n",
       "95    529041        31986485  0xb7f7f6c52f2e2fdb1963eab30438024864c313f6   \n",
       "96       261        31475083  0x4f8730e0b32b04beaa5757e5aea3aef970e5b613   \n",
       "97       520        31256561  0x85f740958906b317de6ed79663012859067e745b   \n",
       "98      5573        31042310  0xfcb1315c4273954f74cb16d5b663dbf479eec62e   \n",
       "99      3774        30650206  0x90ca8a3eb2574f937f514749ce619fdcca187d45   \n",
       "\n",
       "                                                 logo marketplaces  \\\n",
       "0   https://lh3.googleusercontent.com/BdxvLseXcfl5...  ['opensea']   \n",
       "1   https://lh3.googleusercontent.com/Ju9CkWtV-1Ok...  ['opensea']   \n",
       "2   https://lh3.googleusercontent.com/5KIxEGmnAiL5...  ['opensea']   \n",
       "3   https://lh3.googleusercontent.com/lHexKRMpw-ao...  ['opensea']   \n",
       "4   https://lh3.googleusercontent.com/SXH8tW1siikB...  ['opensea']   \n",
       "..                                                ...          ...   \n",
       "95  https://lh3.googleusercontent.com/OnBu_tLdS59m...  ['opensea']   \n",
       "96  https://lh3.googleusercontent.com/srjbORK3qPUa...  ['opensea']   \n",
       "97  https://lh3.googleusercontent.com/e5s2WcnoPKpV...  ['opensea']   \n",
       "98  https://lh3.googleusercontent.com/jzt7Uq5x6lN4...  ['opensea']   \n",
       "99  https://lh3.googleusercontent.com/L4UK_wLnVUUL...  ['opensea']   \n",
       "\n",
       "                     name        chains       floor  owners    totalVolume  \\\n",
       "0             CryptoPunks  ['ethereum']    0.000000    3313  775319.649149   \n",
       "1    Bored Ape Yacht Club  ['ethereum']   65.900000    6088  301049.334636   \n",
       "2            Decentraland  ['ethereum']    3.515817    6261  228251.725191   \n",
       "3   Mutant Ape Yacht Club  ['ethereum']   14.500000   11199  177077.435100   \n",
       "4             The Sandbox  ['ethereum']    3.480000   17884  130882.153670   \n",
       "..                    ...           ...         ...     ...            ...   \n",
       "95    Wrapped Cryptopunks  ['ethereum']  150.000000      56    9069.188927   \n",
       "96  Bloot (not for Weaks)  ['ethereum']    0.074000    4008    8924.190162   \n",
       "97    The Wicked Craniums  ['ethereum']    0.147500    4051    8862.232251   \n",
       "98          Capsule House  ['ethereum']    1.580000    3030    8801.485127   \n",
       "99          Gambling Apes  ['ethereum']    1.070000    3900    8690.311186   \n",
       "\n",
       "       category        SK                                PK  dailyVolumeUSD  \\\n",
       "0   collections  overview            collection#cryptopunks         1636712   \n",
       "1   collections  overview      collection#boredapeyachtclub         6313610   \n",
       "2   collections  overview           collection#decentraland         1822724   \n",
       "3   collections  overview  collection#mutant-ape-yacht-club         8617518   \n",
       "4   collections  overview                collection#sandbox         3671598   \n",
       "..          ...       ...                               ...             ...   \n",
       "95  collections  overview    collection#wrapped-cryptopunks               0   \n",
       "96  collections  overview          collection#blootofficial            5415   \n",
       "97  collections  overview      collection#thewickedcraniums           22008   \n",
       "98  collections  overview           collection#capsulehouse         5435194   \n",
       "99  collections  overview           collection#gamblingapes          115998   \n",
       "\n",
       "    dailyVolume                   slug  \n",
       "0    464.060000            cryptopunks  \n",
       "1   1790.109900      boredapeyachtclub  \n",
       "2    516.800300           decentraland  \n",
       "3   2443.341190  mutant-ape-yacht-club  \n",
       "4   1041.015168                sandbox  \n",
       "..          ...                    ...  \n",
       "95     0.000000    wrapped-cryptopunks  \n",
       "96     1.535290          blootofficial  \n",
       "97     6.240000      thewickedcraniums  \n",
       "98  1541.050920           capsulehouse  \n",
       "99    32.889000           gamblingapes  \n",
       "\n",
       "[100 rows x 16 columns]"
      ]
     },
     "execution_count": 7,
     "metadata": {},
     "output_type": "execute_result"
    }
   ],
   "source": [
    "df_collections"
   ]
  },
  {
   "cell_type": "code",
   "execution_count": 8,
   "id": "e1895790",
   "metadata": {
    "execution": {
     "iopub.execute_input": "2022-02-25T01:01:46.033782Z",
     "iopub.status.busy": "2022-02-25T01:01:46.033036Z",
     "iopub.status.idle": "2022-02-25T01:01:48.045548Z",
     "shell.execute_reply": "2022-02-25T01:01:48.044848Z",
     "shell.execute_reply.started": "2022-02-25T00:58:46.092333Z"
    },
    "papermill": {
     "duration": 2.046168,
     "end_time": "2022-02-25T01:01:48.045698",
     "exception": false,
     "start_time": "2022-02-25T01:01:45.999530",
     "status": "completed"
    },
    "tags": []
   },
   "outputs": [
    {
     "data": {
      "image/png": "[encoded data removed]",
      "text/plain": [
       "<Figure size 1440x288 with 3 Axes>"
      ]
     },
     "metadata": {
      "needs_background": "light"
     },
     "output_type": "display_data"
    }
   ],
   "source": [
    "fig,axis = plt.subplots(1,3, figsize=(20,4))\n",
    "sns.histplot(data=df_collections[\"owners\"] ,ax=axis[0]).set_yscale(\"log\")\n",
    "sns.histplot(data=df_collections[\"totalVolume\"],ax=axis[1]).set_yscale(\"log\")\n",
    "sns.histplot(data=df_collections[\"floor\"],ax=axis[2]).set_yscale(\"log\")"
   ]
  },
  {
   "cell_type": "code",
   "execution_count": 9,
   "id": "275d915f",
   "metadata": {
    "execution": {
     "iopub.execute_input": "2022-02-25T01:01:48.111292Z",
     "iopub.status.busy": "2022-02-25T01:01:48.110328Z",
     "iopub.status.idle": "2022-02-25T01:01:48.115244Z",
     "shell.execute_reply": "2022-02-25T01:01:48.115817Z",
     "shell.execute_reply.started": "2022-02-25T00:58:48.104181Z"
    },
    "papermill": {
     "duration": 0.041898,
     "end_time": "2022-02-25T01:01:48.116046",
     "exception": false,
     "start_time": "2022-02-25T01:01:48.074148",
     "status": "completed"
    },
    "tags": []
   },
   "outputs": [],
   "source": [
    "top_dailyVolumeUSD = df_collections.sort_values(by=[\"dailyVolumeUSD\"],ascending=False).head(5)\n",
    "top_totalVolumeUSD = df_collections.sort_values(by=[\"totalVolumeUSD\"],ascending=False).head(5)\n",
    "top_floorUSD = df_collections.sort_values(by=[\"floorUSD\"],ascending=False).head(5)\n",
    "top_owners = df_collections.sort_values(by=[\"owners\"],ascending=False).head(5)"
   ]
  },
  {
   "cell_type": "code",
   "execution_count": 10,
   "id": "64d0516f",
   "metadata": {
    "execution": {
     "iopub.execute_input": "2022-02-25T01:01:48.201670Z",
     "iopub.status.busy": "2022-02-25T01:01:48.200937Z",
     "iopub.status.idle": "2022-02-25T01:01:49.492612Z",
     "shell.execute_reply": "2022-02-25T01:01:49.493205Z",
     "shell.execute_reply.started": "2022-02-25T00:59:06.778381Z"
    },
    "papermill": {
     "duration": 1.347195,
     "end_time": "2022-02-25T01:01:49.493394",
     "exception": false,
     "start_time": "2022-02-25T01:01:48.146199",
     "status": "completed"
    },
    "tags": []
   },
   "outputs": [
    {
     "data": {
      "image/png": "[encoded data removed]",
      "text/plain": [
       "<Figure size 936x432 with 1 Axes>"
      ]
     },
     "metadata": {
      "needs_background": "light"
     },
     "output_type": "display_data"
    }
   ],
   "source": [
    "import urllib\n",
    "import math\n",
    "from PIL import Image\n",
    "import requests\n",
    "from io import BytesIO\n",
    "\n",
    "def get_logo(url):\n",
    "    #f = urllib.request.urlopen(url)\n",
    "    response = requests.get(url)\n",
    "    with Image.open(BytesIO(response.content)) as im :\n",
    "        f = im\n",
    "        #im = plt.imread(f, format=\"jpeg\")\n",
    "        f=f.resize((100,100))\n",
    "        return f\n",
    "\n",
    "def offset_image(coord, url, ax, value, offset_factor):\n",
    "    img = get_logo(url)\n",
    "    im = OffsetImage(img, zoom=0.4)\n",
    "    im.image.axes = ax\n",
    "\n",
    "    ab = AnnotationBbox(im, (0,coord),  xybox=(offset_factor*value, 0.), frameon=False,\n",
    "                        xycoords='data',  boxcoords=\"offset points\", pad=0)\n",
    "\n",
    "    ax.add_artist(ab)\n",
    "fig, ax = plt.subplots(figsize=(13,6))\n",
    "from matplotlib.offsetbox import OffsetImage,AnnotationBbox\n",
    "\n",
    "\n",
    "sns.barplot(data=top_dailyVolumeUSD, y =\"name\",x=\"dailyVolumeUSD\")\n",
    "\n",
    "\n",
    "for (i, [url, volume]) in enumerate(top_dailyVolumeUSD.loc[:,[\"logo\",\"dailyVolumeUSD\"]].values.tolist()):\n",
    "    offset_image(i, url, ax,volume,0.00003)"
   ]
  },
  {
   "cell_type": "code",
   "execution_count": 11,
   "id": "705cba03",
   "metadata": {
    "execution": {
     "iopub.execute_input": "2022-02-25T01:01:49.578522Z",
     "iopub.status.busy": "2022-02-25T01:01:49.559356Z",
     "iopub.status.idle": "2022-02-25T01:01:50.878194Z",
     "shell.execute_reply": "2022-02-25T01:01:50.878744Z",
     "shell.execute_reply.started": "2022-02-25T00:59:17.131614Z"
    },
    "papermill": {
     "duration": 1.352661,
     "end_time": "2022-02-25T01:01:50.878978",
     "exception": false,
     "start_time": "2022-02-25T01:01:49.526317",
     "status": "completed"
    },
    "tags": []
   },
   "outputs": [
    {
     "data": {
      "image/png": "[encoded data removed]",
      "text/plain": [
       "<Figure size 936x432 with 1 Axes>"
      ]
     },
     "metadata": {
      "needs_background": "light"
     },
     "output_type": "display_data"
    }
   ],
   "source": [
    "fig, ax = plt.subplots(figsize=(13,6))\n",
    "from matplotlib.offsetbox import OffsetImage,AnnotationBbox\n",
    "\n",
    "\n",
    "sns.barplot(data=top_totalVolumeUSD, y =\"name\",x=\"totalVolumeUSD\")\n",
    "\n",
    "for (i, [url, volume]) in enumerate(top_totalVolumeUSD.loc[:,[\"logo\",\"totalVolumeUSD\"]].values.tolist()):\n",
    "    offset_image(i, url, ax,volume,0.00000012)"
   ]
  },
  {
   "cell_type": "code",
   "execution_count": 12,
   "id": "c15eb6ba",
   "metadata": {
    "execution": {
     "iopub.execute_input": "2022-02-25T01:01:50.968705Z",
     "iopub.status.busy": "2022-02-25T01:01:50.967632Z",
     "iopub.status.idle": "2022-02-25T01:01:52.290855Z",
     "shell.execute_reply": "2022-02-25T01:01:52.290302Z",
     "shell.execute_reply.started": "2022-02-25T00:59:26.857491Z"
    },
    "papermill": {
     "duration": 1.381435,
     "end_time": "2022-02-25T01:01:52.291016",
     "exception": false,
     "start_time": "2022-02-25T01:01:50.909581",
     "status": "completed"
    },
    "tags": []
   },
   "outputs": [
    {
     "data": {
      "image/png": "[encoded data removed]",
      "text/plain": [
       "<Figure size 936x432 with 1 Axes>"
      ]
     },
     "metadata": {
      "needs_background": "light"
     },
     "output_type": "display_data"
    }
   ],
   "source": [
    "fig, ax = plt.subplots(figsize=(13,6))\n",
    "from matplotlib.offsetbox import OffsetImage,AnnotationBbox\n",
    "\n",
    "\n",
    "sns.barplot(data=top_floorUSD, y =\"name\",x=\"floorUSD\")\n",
    "\n",
    "\n",
    "for (i, [url, volume]) in enumerate(top_floorUSD.loc[:,[\"logo\",\"floorUSD\"]].values.tolist()):\n",
    "    offset_image(i, url, ax,volume,0.0006)"
   ]
  },
  {
   "cell_type": "code",
   "execution_count": 13,
   "id": "da563604",
   "metadata": {
    "execution": {
     "iopub.execute_input": "2022-02-25T01:01:52.374467Z",
     "iopub.status.busy": "2022-02-25T01:01:52.373761Z",
     "iopub.status.idle": "2022-02-25T01:01:53.666644Z",
     "shell.execute_reply": "2022-02-25T01:01:53.665933Z",
     "shell.execute_reply.started": "2022-02-25T00:59:39.408206Z"
    },
    "papermill": {
     "duration": 1.344411,
     "end_time": "2022-02-25T01:01:53.666945",
     "exception": false,
     "start_time": "2022-02-25T01:01:52.322534",
     "status": "completed"
    },
    "tags": []
   },
   "outputs": [
    {
     "data": {
      "image/png": "[encoded data removed]",
      "text/plain": [
       "<Figure size 936x432 with 1 Axes>"
      ]
     },
     "metadata": {
      "needs_background": "light"
     },
     "output_type": "display_data"
    }
   ],
   "source": [
    "fig, ax = plt.subplots(figsize=(13,6))\n",
    "from matplotlib.offsetbox import OffsetImage,AnnotationBbox\n",
    "\n",
    "\n",
    "sns.barplot(data=top_owners, y =\"name\",x=\"owners\")\n",
    "\n",
    "\n",
    "for (i, [url, volume]) in enumerate(top_owners.loc[:,[\"logo\",\"owners\"]].values.tolist()):\n",
    "    offset_image(i, url, ax,volume,0.0014)"
   ]
  },
  {
   "cell_type": "code",
   "execution_count": 14,
   "id": "e6e17b49",
   "metadata": {
    "execution": {
     "iopub.execute_input": "2022-02-25T01:01:53.763288Z",
     "iopub.status.busy": "2022-02-25T01:01:53.756708Z",
     "iopub.status.idle": "2022-02-25T01:01:54.087468Z",
     "shell.execute_reply": "2022-02-25T01:01:54.086804Z",
     "shell.execute_reply.started": "2022-02-25T00:59:46.969768Z"
    },
    "papermill": {
     "duration": 0.386723,
     "end_time": "2022-02-25T01:01:54.087615",
     "exception": false,
     "start_time": "2022-02-25T01:01:53.700892",
     "status": "completed"
    },
    "tags": []
   },
   "outputs": [
    {
     "data": {
      "text/plain": [
       "<AxesSubplot:>"
      ]
     },
     "execution_count": 14,
     "metadata": {},
     "output_type": "execute_result"
    },
    {
     "data": {
      "image/png": "[encoded data removed]",
      "text/plain": [
       "<Figure size 432x288 with 2 Axes>"
      ]
     },
     "metadata": {
      "needs_background": "light"
     },
     "output_type": "display_data"
    }
   ],
   "source": [
    "sns.heatmap(df_collections.corr())"
   ]
  },
  {
   "cell_type": "code",
   "execution_count": 15,
   "id": "55631e03",
   "metadata": {
    "execution": {
     "iopub.execute_input": "2022-02-25T01:01:54.171453Z",
     "iopub.status.busy": "2022-02-25T01:01:54.170712Z",
     "iopub.status.idle": "2022-02-25T01:01:54.181340Z",
     "shell.execute_reply": "2022-02-25T01:01:54.181847Z",
     "shell.execute_reply.started": "2022-02-25T00:59:55.102272Z"
    },
    "papermill": {
     "duration": 0.059505,
     "end_time": "2022-02-25T01:01:54.182048",
     "exception": false,
     "start_time": "2022-02-25T01:01:54.122543",
     "status": "completed"
    },
    "tags": []
   },
   "outputs": [],
   "source": [
    "df_dailyvolume[\"year\"] = df_dailyvolume[\"Date\"].str.split(\"-\").str[0]\n",
    "df_dailyvolume[\"month\"] = df_dailyvolume[\"Date\"].str.split(\"-\").str[1]\n",
    "df_dailyvolume[\"dd\"] = df_dailyvolume[\"Date\"].str.split(\"-\").str[2]"
   ]
  },
  {
   "cell_type": "code",
   "execution_count": 16,
   "id": "ffd3a63f",
   "metadata": {
    "execution": {
     "iopub.execute_input": "2022-02-25T01:01:54.256449Z",
     "iopub.status.busy": "2022-02-25T01:01:54.255714Z",
     "iopub.status.idle": "2022-02-25T01:01:54.267092Z",
     "shell.execute_reply": "2022-02-25T01:01:54.267636Z",
     "shell.execute_reply.started": "2022-02-25T01:00:10.473561Z"
    },
    "papermill": {
     "duration": 0.050886,
     "end_time": "2022-02-25T01:01:54.267841",
     "exception": false,
     "start_time": "2022-02-25T01:01:54.216955",
     "status": "completed"
    },
    "tags": []
   },
   "outputs": [
    {
     "data": {
      "text/html": [
       "<div>\n",
       "<style scoped>\n",
       "    .dataframe tbody tr th:only-of-type {\n",
       "        vertical-align: middle;\n",
       "    }\n",
       "\n",
       "    .dataframe tbody tr th {\n",
       "        vertical-align: top;\n",
       "    }\n",
       "\n",
       "    .dataframe thead th {\n",
       "        text-align: right;\n",
       "    }\n",
       "</style>\n",
       "<table border=\"1\" class=\"dataframe\">\n",
       "  <thead>\n",
       "    <tr style=\"text-align: right;\">\n",
       "      <th></th>\n",
       "      <th>NFTMarket_DailyVolumeUSD</th>\n",
       "      <th>Date</th>\n",
       "      <th>year</th>\n",
       "      <th>month</th>\n",
       "      <th>dd</th>\n",
       "    </tr>\n",
       "  </thead>\n",
       "  <tbody>\n",
       "    <tr>\n",
       "      <th>0</th>\n",
       "      <td>296</td>\n",
       "      <td>2018-01-23</td>\n",
       "      <td>2018</td>\n",
       "      <td>01</td>\n",
       "      <td>23</td>\n",
       "    </tr>\n",
       "    <tr>\n",
       "      <th>1</th>\n",
       "      <td>1278</td>\n",
       "      <td>2018-01-25</td>\n",
       "      <td>2018</td>\n",
       "      <td>01</td>\n",
       "      <td>25</td>\n",
       "    </tr>\n",
       "    <tr>\n",
       "      <th>2</th>\n",
       "      <td>7728</td>\n",
       "      <td>2018-01-26</td>\n",
       "      <td>2018</td>\n",
       "      <td>01</td>\n",
       "      <td>26</td>\n",
       "    </tr>\n",
       "    <tr>\n",
       "      <th>3</th>\n",
       "      <td>814</td>\n",
       "      <td>2018-01-27</td>\n",
       "      <td>2018</td>\n",
       "      <td>01</td>\n",
       "      <td>27</td>\n",
       "    </tr>\n",
       "    <tr>\n",
       "      <th>4</th>\n",
       "      <td>5732</td>\n",
       "      <td>2018-01-28</td>\n",
       "      <td>2018</td>\n",
       "      <td>01</td>\n",
       "      <td>28</td>\n",
       "    </tr>\n",
       "  </tbody>\n",
       "</table>\n",
       "</div>"
      ],
      "text/plain": [
       "   NFTMarket_DailyVolumeUSD        Date  year month  dd\n",
       "0                       296  2018-01-23  2018    01  23\n",
       "1                      1278  2018-01-25  2018    01  25\n",
       "2                      7728  2018-01-26  2018    01  26\n",
       "3                       814  2018-01-27  2018    01  27\n",
       "4                      5732  2018-01-28  2018    01  28"
      ]
     },
     "execution_count": 16,
     "metadata": {},
     "output_type": "execute_result"
    }
   ],
   "source": [
    "df_dailyvolume.head()"
   ]
  },
  {
   "cell_type": "code",
   "execution_count": 17,
   "id": "a3b70dcd",
   "metadata": {
    "execution": {
     "iopub.execute_input": "2022-02-25T01:01:54.342197Z",
     "iopub.status.busy": "2022-02-25T01:01:54.341475Z",
     "iopub.status.idle": "2022-02-25T01:01:54.369830Z",
     "shell.execute_reply": "2022-02-25T01:01:54.370298Z",
     "shell.execute_reply.started": "2022-02-25T01:00:22.974360Z"
    },
    "papermill": {
     "duration": 0.067192,
     "end_time": "2022-02-25T01:01:54.370482",
     "exception": false,
     "start_time": "2022-02-25T01:01:54.303290",
     "status": "completed"
    },
    "tags": []
   },
   "outputs": [
    {
     "data": {
      "text/html": [
       "<div>\n",
       "<style scoped>\n",
       "    .dataframe tbody tr th:only-of-type {\n",
       "        vertical-align: middle;\n",
       "    }\n",
       "\n",
       "    .dataframe tbody tr th {\n",
       "        vertical-align: top;\n",
       "    }\n",
       "\n",
       "    .dataframe thead th {\n",
       "        text-align: right;\n",
       "    }\n",
       "</style>\n",
       "<table border=\"1\" class=\"dataframe\">\n",
       "  <thead>\n",
       "    <tr style=\"text-align: right;\">\n",
       "      <th></th>\n",
       "      <th>year</th>\n",
       "      <th>month</th>\n",
       "      <th>NFTMarket_DailyVolumeUSD</th>\n",
       "      <th>Year-Month</th>\n",
       "    </tr>\n",
       "  </thead>\n",
       "  <tbody>\n",
       "    <tr>\n",
       "      <th>0</th>\n",
       "      <td>2018</td>\n",
       "      <td>01</td>\n",
       "      <td>34530</td>\n",
       "      <td>2018-01</td>\n",
       "    </tr>\n",
       "    <tr>\n",
       "      <th>1</th>\n",
       "      <td>2018</td>\n",
       "      <td>02</td>\n",
       "      <td>58099</td>\n",
       "      <td>2018-02</td>\n",
       "    </tr>\n",
       "    <tr>\n",
       "      <th>2</th>\n",
       "      <td>2018</td>\n",
       "      <td>03</td>\n",
       "      <td>3917</td>\n",
       "      <td>2018-03</td>\n",
       "    </tr>\n",
       "    <tr>\n",
       "      <th>3</th>\n",
       "      <td>2018</td>\n",
       "      <td>04</td>\n",
       "      <td>16374</td>\n",
       "      <td>2018-04</td>\n",
       "    </tr>\n",
       "    <tr>\n",
       "      <th>4</th>\n",
       "      <td>2018</td>\n",
       "      <td>05</td>\n",
       "      <td>18121</td>\n",
       "      <td>2018-05</td>\n",
       "    </tr>\n",
       "  </tbody>\n",
       "</table>\n",
       "</div>"
      ],
      "text/plain": [
       "   year month  NFTMarket_DailyVolumeUSD Year-Month\n",
       "0  2018    01                     34530    2018-01\n",
       "1  2018    02                     58099    2018-02\n",
       "2  2018    03                      3917    2018-03\n",
       "3  2018    04                     16374    2018-04\n",
       "4  2018    05                     18121    2018-05"
      ]
     },
     "execution_count": 17,
     "metadata": {},
     "output_type": "execute_result"
    }
   ],
   "source": [
    "df_yearlyvolume = df_dailyvolume.groupby(by=[\"year\"]).sum(\"NFTMarket_DailyVolumeUSD\").reset_index()\n",
    "df_monthlyvolume = df_dailyvolume.groupby(by=[\"year\",\"month\"]).sum(\"NFTMarket_DailyVolumeUSD\").reset_index()\n",
    "df_monthlyvolume[\"Year-Month\"] = df_monthlyvolume[\"year\"].astype(str) +\"-\"+ df_monthlyvolume[\"month\"].astype(str);\n",
    "df_monthlyvolume.head()"
   ]
  },
  {
   "cell_type": "code",
   "execution_count": 18,
   "id": "43edb785",
   "metadata": {
    "execution": {
     "iopub.execute_input": "2022-02-25T01:01:54.445658Z",
     "iopub.status.busy": "2022-02-25T01:01:54.444921Z",
     "iopub.status.idle": "2022-02-25T01:01:54.671234Z",
     "shell.execute_reply": "2022-02-25T01:01:54.670515Z",
     "shell.execute_reply.started": "2022-02-25T01:00:34.407567Z"
    },
    "papermill": {
     "duration": 0.265268,
     "end_time": "2022-02-25T01:01:54.671389",
     "exception": false,
     "start_time": "2022-02-25T01:01:54.406121",
     "status": "completed"
    },
    "tags": []
   },
   "outputs": [
    {
     "data": {
      "text/plain": [
       "<AxesSubplot:xlabel='year', ylabel='NFTMarket_DailyVolumeUSD'>"
      ]
     },
     "execution_count": 18,
     "metadata": {},
     "output_type": "execute_result"
    },
    {
     "data": {
      "image/png": "[encoded data removed]",
      "text/plain": [
       "<Figure size 432x288 with 1 Axes>"
      ]
     },
     "metadata": {
      "needs_background": "light"
     },
     "output_type": "display_data"
    }
   ],
   "source": [
    "sns.barplot(data=df_yearlyvolume.iloc[:-1,:], x=\"year\", y=\"NFTMarket_DailyVolumeUSD\")"
   ]
  },
  {
   "cell_type": "code",
   "execution_count": 19,
   "id": "b9d3debf",
   "metadata": {
    "execution": {
     "iopub.execute_input": "2022-02-25T01:01:54.773387Z",
     "iopub.status.busy": "2022-02-25T01:01:54.771660Z",
     "iopub.status.idle": "2022-02-25T01:01:55.570262Z",
     "shell.execute_reply": "2022-02-25T01:01:55.569666Z",
     "shell.execute_reply.started": "2022-02-25T01:00:40.880502Z"
    },
    "papermill": {
     "duration": 0.861344,
     "end_time": "2022-02-25T01:01:55.570420",
     "exception": false,
     "start_time": "2022-02-25T01:01:54.709076",
     "status": "completed"
    },
    "tags": []
   },
   "outputs": [
    {
     "data": {
      "image/png": "[encoded data removed]",
      "text/plain": [
       "<Figure size 432x288 with 1 Axes>"
      ]
     },
     "metadata": {
      "needs_background": "light"
     },
     "output_type": "display_data"
    }
   ],
   "source": [
    "sns.barplot(data=df_yearlyvolume.iloc[:-1,:], x=\"year\", y=\"NFTMarket_DailyVolumeUSD\").set_yscale(\"log\")"
   ]
  },
  {
   "cell_type": "code",
   "execution_count": 20,
   "id": "2ecbf23d",
   "metadata": {
    "execution": {
     "iopub.execute_input": "2022-02-25T01:01:55.650118Z",
     "iopub.status.busy": "2022-02-25T01:01:55.649410Z",
     "iopub.status.idle": "2022-02-25T01:01:56.249317Z",
     "shell.execute_reply": "2022-02-25T01:01:56.248802Z",
     "shell.execute_reply.started": "2022-02-25T01:00:50.209419Z"
    },
    "papermill": {
     "duration": 0.64033,
     "end_time": "2022-02-25T01:01:56.249465",
     "exception": false,
     "start_time": "2022-02-25T01:01:55.609135",
     "status": "completed"
    },
    "tags": []
   },
   "outputs": [
    {
     "data": {
      "text/plain": [
       "<AxesSubplot:xlabel='Year-Month', ylabel='NFTMarket_DailyVolumeUSD'>"
      ]
     },
     "execution_count": 20,
     "metadata": {},
     "output_type": "execute_result"
    },
    {
     "data": {
      "image/png": "[encoded data removed]",
      "text/plain": [
       "<Figure size 1008x432 with 1 Axes>"
      ]
     },
     "metadata": {
      "needs_background": "light"
     },
     "output_type": "display_data"
    }
   ],
   "source": [
    "figure(figsize=(14, 6))\n",
    "plt.xticks(rotation=90)\n",
    "sns.lineplot(data=df_monthlyvolume.iloc[:-1,:], x=\"Year-Month\", y=\"NFTMarket_DailyVolumeUSD\")"
   ]
  }
 ],
 "metadata": {
  "kernelspec": {
   "display_name": "Python 3",
   "language": "python",
   "name": "python3"
  },
  "language_info": {
   "codemirror_mode": {
    "name": "ipython",
    "version": 3
   },
   "file_extension": ".py",
   "mimetype": "text/x-python",
   "name": "python",
   "nbconvert_exporter": "python",
   "pygments_lexer": "ipython3",
   "version": "3.7.12"
  },
  "papermill": {
   "default_parameters": {},
   "duration": 29.215989,
   "end_time": "2022-02-25T01:01:57.402574",
   "environment_variables": {},
   "exception": null,
   "input_path": "__notebook__.ipynb",
   "output_path": "__notebook__.ipynb",
   "parameters": {},
   "start_time": "2022-02-25T01:01:28.186585",
   "version": "2.3.3"
  }
 },
 "nbformat": 4,
 "nbformat_minor": 5
}
