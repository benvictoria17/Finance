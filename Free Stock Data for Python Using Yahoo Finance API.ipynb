{
  "cells":[
    {
      "cell_type":"code",
      "source":[
        "pip install yfinance"
      ],
      "execution_count":1,
      "outputs":[
        {
          "name":"stdout",
          "text":[
            "Collecting yfinance\r\n",
            "  Downloading yfinance-0.1.63.tar.gz (26 kB)\r\n",
            "Requirement already satisfied: pandas>=0.24 in \/opt\/python\/envs\/default\/lib\/python3.8\/site-packages (from yfinance) (1.2.3)\r\n",
            "Requirement already satisfied: numpy>=1.15 in \/opt\/python\/envs\/default\/lib\/python3.8\/site-packages (from yfinance) (1.19.5)\r\n",
            "Requirement already satisfied: requests>=2.20 in \/opt\/python\/envs\/default\/lib\/python3.8\/site-packages (from yfinance) (2.25.1)\r\n",
            "Collecting multitasking>=0.0.7\r\n",
            "  Downloading multitasking-0.0.9.tar.gz (8.1 kB)\r\n",
            "Requirement already satisfied: lxml>=4.5.1 in \/opt\/python\/envs\/default\/lib\/python3.8\/site-packages (from yfinance) (4.6.3)\r\n",
            "Requirement already satisfied: python-dateutil>=2.7.3 in \/opt\/python\/envs\/default\/lib\/python3.8\/site-packages (from pandas>=0.24->yfinance) (2.8.2)\r\n",
            "Requirement already satisfied: pytz>=2017.3 in \/opt\/python\/envs\/default\/lib\/python3.8\/site-packages (from pandas>=0.24->yfinance) (2021.1)\r\n",
            "Requirement already satisfied: six>=1.5 in \/opt\/python\/envs\/default\/lib\/python3.8\/site-packages (from python-dateutil>=2.7.3->pandas>=0.24->yfinance) (1.15.0)\r\n",
            "Requirement already satisfied: chardet<5,>=3.0.2 in \/opt\/python\/envs\/default\/lib\/python3.8\/site-packages (from requests>=2.20->yfinance) (4.0.0)\r\n",
            "Requirement already satisfied: certifi>=2017.4.17 in \/opt\/python\/envs\/default\/lib\/python3.8\/site-packages (from requests>=2.20->yfinance) (2021.5.30)\r\n",
            "Requirement already satisfied: urllib3<1.27,>=1.21.1 in \/opt\/python\/envs\/default\/lib\/python3.8\/site-packages (from requests>=2.20->yfinance) (1.26.6)\r\n",
            "Requirement already satisfied: idna<3,>=2.5 in \/opt\/python\/envs\/default\/lib\/python3.8\/site-packages (from requests>=2.20->yfinance) (2.10)\r\n",
            "Building wheels for collected packages: yfinance, multitasking\r\n",
            "  Building wheel for yfinance (setup.py) ... \u001b[?25l-\b \b\\\b \bdone\r\n",
            "\u001b[?25h  Created wheel for yfinance: filename=yfinance-0.1.63-py2.py3-none-any.whl size=23909 sha256=1b9664a0f646b78ee3d67029834856f33d26d62b7e6978b1e80ee7f0daaae35b\r\n",
            "  Stored in directory: \/home\/datalore\/.cache\/pip\/wheels\/ec\/cc\/c1\/32da8ee853d742d5d7cbd11ee04421222eb354672020b57297\r\n",
            "  Building wheel for multitasking (setup.py) ... \u001b[?25l-\b \bdone\r\n",
            "\u001b[?25h  Created wheel for multitasking: filename=multitasking-0.0.9-py3-none-any.whl size=8368 sha256=9bab92aa497a29509afdac9595c58ffda8c1585a4deb6829444eea0dbd9426dd\r\n",
            "  Stored in directory: \/home\/datalore\/.cache\/pip\/wheels\/57\/6d\/a3\/a39b839cc75274d2acfb1c58bfead2f726c6577fe8c4723f13\r\n",
            "Successfully built yfinance multitasking\r\n",
            "Installing collected packages: multitasking, yfinance\r\n",
            "Successfully installed multitasking-0.0.9 yfinance-0.1.63\r\n",
            "\u001b[33mWARNING: You are using pip version 21.1; however, version 21.2.3 is available.\r\n",
            "You should consider upgrading via the '\/opt\/python\/envs\/default\/bin\/python3 -m pip install --upgrade pip' command.\u001b[0m\r\n",
            "Note: you may need to restart the kernel to use updated packages.\n"
          ],
          "output_type":"stream"
        }
      ],
      "metadata":{
        
      }
    },
    {
      "cell_type":"code",
      "source":[
        "\n",
        "import yfinance as yf\n",
        "\n",
        "msft = yf.Ticker(\"MSFT\")\n",
        "\n",
        "# get stock info\n",
        "print(msft.info)\n",
        "\n",
        "# get historical market data\n",
        "hist = msft.history(period=\"5d\")\n",
        "hist.head()"
      ],
      "execution_count":6,
      "outputs":[
        {
          "name":"stdout",
          "text":[
            "{'zip': '98052-6399', 'sector': 'Technology', 'fullTimeEmployees': 181000, 'longBusinessSummary': 'Microsoft Corporation develops, licenses, and supports software, services, devices, and solutions worldwide. Its Productivity and Business Processes segment offers Office, Exchange, SharePoint, Microsoft Teams, Office 365 Security and Compliance, and Skype for Business, as well as related Client Access Licenses (CAL); Skype, Outlook.com, OneDrive, and LinkedIn; and Dynamics 365, a set of cloud-based and on-premises business solutions for small and medium businesses, organizations, and enterprise divisions. Its Intelligent Cloud segment licenses SQL, Windows Servers, Visual Studio, System Center, and related CALs; GitHub that provides a collaboration platform and code hosting service for developers; and Azure, a cloud platform. It also offers support services and Microsoft consulting services to assist customers in developing, deploying, and managing Microsoft server and desktop solutions; and training and certification to developers and IT professionals on Microsoft products. Its More Personal Computing segment provides Windows original equipment manufacturer (OEM) licensing and other non-volume licensing of the Windows operating system; Windows Commercial, such as volume licensing of the Windows operating system, Windows cloud services, and other Windows commercial offerings; patent licensing; Windows Internet of Things; and MSN advertising. It also offers Surface, PC accessories, PCs, tablets, gaming and entertainment consoles, and other devices; Gaming, including Xbox hardware, and Xbox content and services; video games and third-party video game royalties; and Search, including Bing and Microsoft advertising. It sells its products through OEMs, distributors, and resellers; and directly through digital marketplaces, online stores, and retail stores. It has a collaboration with Dynatrace, Inc., Morgan Stanley, Micro Focus, WPP plc, ACI Worldwide, Inc., and iCIMS, Inc. Microsoft Corporation was founded in 1975 and is headquartered in Redmond, Washington.', 'city': 'Redmond', 'phone': '425 882 8080', 'state': 'WA', 'country': 'United States', 'companyOfficers': [], 'website': 'http:\/\/www.microsoft.com', 'maxAge': 1, 'address1': 'One Microsoft Way', 'industry': 'Software—Infrastructure', 'ebitdaMargins': 0.48080003, 'profitMargins': 0.36451998, 'grossMargins': 0.68926, 'operatingCashflow': 76740001792, 'revenueGrowth': 0.213, 'operatingMargins': 0.41595, 'ebitda': 80815996928, 'targetLowPrice': 256.7, 'recommendationKey': 'buy', 'grossProfits': 115856000000, 'freeCashflow': 41337249792, 'targetMedianPrice': 300, 'currentPrice': 286.44, 'earningsGrowth': 0.486, 'currentRatio': 2.08, 'returnOnAssets': 0.13761, 'numberOfAnalystOpinions': 33, 'targetMeanPrice': 298.92, 'debtToEquity': 57.947, 'returnOnEquity': 0.47079, 'targetHighPrice': 340, 'totalCash': 130256003072, 'totalDebt': 82277998592, 'totalRevenue': 168087994368, 'totalCashPerShare': 17.333, 'financialCurrency': 'USD', 'revenuePerShare': 22.272, 'quickRatio': 1.898, 'recommendationMean': 1.6, 'exchange': 'NMS', 'shortName': 'Microsoft Corporation', 'longName': 'Microsoft Corporation', 'exchangeTimezoneName': 'America\/New_York', 'exchangeTimezoneShortName': 'EDT', 'isEsgPopulated': False, 'gmtOffSetMilliseconds': '-14400000', 'quoteType': 'EQUITY', 'symbol': 'MSFT', 'messageBoardId': 'finmb_21835', 'market': 'us_market', 'annualHoldingsTurnover': None, 'enterpriseToRevenue': 12.605, 'beta3Year': None, 'enterpriseToEbitda': 26.217, '52WeekChange': 0.3783164, 'morningStarRiskRating': None, 'forwardEps': 8.37, 'revenueQuarterlyGrowth': None, 'sharesOutstanding': 7514890240, 'fundInceptionDate': None, 'annualReportExpenseRatio': None, 'totalAssets': None, 'bookValue': 18.884, 'sharesShort': 56416544, 'sharesPercentSharesOut': 0.0075, 'fundFamily': None, 'lastFiscalYearEnd': 1625011200, 'heldPercentInstitutions': 0.72255, 'netIncomeToCommon': 61270999040, 'trailingEps': 8.05, 'lastDividendValue': 0.56, 'SandP52WeekChange': 0.3112104, 'priceToBook': 15.168396, 'heldPercentInsiders': 0.00078, 'nextFiscalYearEnd': 1688083200, 'yield': None, 'mostRecentQuarter': 1625011200, 'shortRatio': 2.36, 'sharesShortPreviousMonthDate': 1623715200, 'floatShares': 7507000612, 'beta': 0.776223, 'enterpriseValue': 2118790545408, 'priceHint': 2, 'threeYearAverageReturn': None, 'lastSplitDate': 1045526400, 'lastSplitFactor': '2:1', 'legalType': None, 'lastDividendDate': 1621382400, 'morningStarOverallRating': None, 'earningsQuarterlyGrowth': 0.469, 'priceToSalesTrailing12Months': 12.80618, 'dateShortInterest': 1626307200, 'pegRatio': 2.07, 'ytdReturn': None, 'forwardPE': 34.22222, 'lastCapGain': None, 'shortPercentOfFloat': 0.0075, 'sharesShortPriorMonth': 48137624, 'impliedSharesOutstanding': None, 'category': None, 'fiveYearAverageReturn': None, 'previousClose': 288.33, 'regularMarketOpen': 288.8, 'twoHundredDayAverage': 253.66591, 'trailingAnnualDividendYield': 0.0077688764, 'payoutRatio': 0.272, 'volume24Hr': None, 'regularMarketDayHigh': 289.25, 'navPrice': None, 'averageDailyVolume10Day': 16156783, 'regularMarketPreviousClose': 288.33, 'fiftyDayAverage': 279.73, 'trailingAnnualDividendRate': 2.24, 'open': 288.8, 'toCurrency': None, 'averageVolume10days': 16156783, 'expireDate': None, 'algorithm': None, 'dividendRate': 2.24, 'exDividendDate': 1629244800, 'circulatingSupply': None, 'startDate': None, 'regularMarketDayLow': 285.21, 'currency': 'USD', 'trailingPE': 35.582607, 'regularMarketVolume': 18616578, 'lastMarket': None, 'maxSupply': None, 'openInterest': None, 'marketCap': 2152565178368, 'volumeAllCurrencies': None, 'strikePrice': None, 'averageVolume': 23272360, 'dayLow': 285.21, 'ask': 286.45, 'askSize': 1000, 'volume': 18616578, 'fiftyTwoWeekHigh': 291.55, 'fromCurrency': None, 'fiveYearAvgDividendYield': 1.54, 'fiftyTwoWeekLow': 196.25, 'bid': 286.27, 'tradeable': False, 'dividendYield': 0.0078, 'bidSize': 800, 'dayHigh': 289.25, 'regularMarketPrice': 286.44, 'logo_url': 'https:\/\/logo.clearbit.com\/microsoft.com'}\n"
          ],
          "output_type":"stream"
        },
        {
          "data":{
            "text\/html":[
              "<div>\n",
              "<style scoped>\n",
              "    .dataframe tbody tr th:only-of-type {\n",
              "        vertical-align: middle;\n",
              "    }\n",
              "\n",
              "    .dataframe tbody tr th {\n",
              "        vertical-align: top;\n",
              "    }\n",
              "\n",
              "    .dataframe thead th {\n",
              "        text-align: right;\n",
              "    }\n",
              "<\/style>\n",
              "<table border=\"1\" class=\"dataframe\">\n",
              "  <thead>\n",
              "    <tr style=\"text-align: right;\">\n",
              "      <th><\/th>\n",
              "      <th>Open<\/th>\n",
              "      <th>High<\/th>\n",
              "      <th>Low<\/th>\n",
              "      <th>Close<\/th>\n",
              "      <th>Volume<\/th>\n",
              "      <th>Dividends<\/th>\n",
              "      <th>Stock Splits<\/th>\n",
              "    <\/tr>\n",
              "    <tr>\n",
              "      <th>Date<\/th>\n",
              "      <th><\/th>\n",
              "      <th><\/th>\n",
              "      <th><\/th>\n",
              "      <th><\/th>\n",
              "      <th><\/th>\n",
              "      <th><\/th>\n",
              "      <th><\/th>\n",
              "    <\/tr>\n",
              "  <\/thead>\n",
              "  <tbody>\n",
              "    <tr>\n",
              "      <th>2021-08-04<\/th>\n",
              "      <td>286.220001<\/td>\n",
              "      <td>287.589996<\/td>\n",
              "      <td>284.649994<\/td>\n",
              "      <td>286.510010<\/td>\n",
              "      <td>16191300<\/td>\n",
              "      <td>0<\/td>\n",
              "      <td>0<\/td>\n",
              "    <\/tr>\n",
              "    <tr>\n",
              "      <th>2021-08-05<\/th>\n",
              "      <td>286.880005<\/td>\n",
              "      <td>289.630005<\/td>\n",
              "      <td>286.100006<\/td>\n",
              "      <td>289.519989<\/td>\n",
              "      <td>13900200<\/td>\n",
              "      <td>0<\/td>\n",
              "      <td>0<\/td>\n",
              "    <\/tr>\n",
              "    <tr>\n",
              "      <th>2021-08-06<\/th>\n",
              "      <td>288.510010<\/td>\n",
              "      <td>289.500000<\/td>\n",
              "      <td>287.619995<\/td>\n",
              "      <td>289.459991<\/td>\n",
              "      <td>16585200<\/td>\n",
              "      <td>0<\/td>\n",
              "      <td>0<\/td>\n",
              "    <\/tr>\n",
              "    <tr>\n",
              "      <th>2021-08-09<\/th>\n",
              "      <td>289.750000<\/td>\n",
              "      <td>291.549988<\/td>\n",
              "      <td>287.809998<\/td>\n",
              "      <td>288.329987<\/td>\n",
              "      <td>16117600<\/td>\n",
              "      <td>0<\/td>\n",
              "      <td>0<\/td>\n",
              "    <\/tr>\n",
              "    <tr>\n",
              "      <th>2021-08-10<\/th>\n",
              "      <td>288.799988<\/td>\n",
              "      <td>289.250000<\/td>\n",
              "      <td>285.200012<\/td>\n",
              "      <td>286.440002<\/td>\n",
              "      <td>18601500<\/td>\n",
              "      <td>0<\/td>\n",
              "      <td>0<\/td>\n",
              "    <\/tr>\n",
              "  <\/tbody>\n",
              "<\/table>\n",
              "<\/div>"
            ]
          },
          "metadata":{
            
          },
          "output_type":"display_data"
        }
      ],
      "metadata":{
        
      }
    },
    {
      "cell_type":"code",
      "source":[
        "!pip3 install matplotlib\n",
        "!pip3 install seaborn"
      ],
      "execution_count":4,
      "outputs":[
        {
          "name":"stdout",
          "text":[
            "Requirement already satisfied: matplotlib in \/opt\/python\/envs\/default\/lib\/python3.8\/site-packages (3.3.4)\r\n",
            "Requirement already satisfied: pyparsing!=2.0.4,!=2.1.2,!=2.1.6,>=2.0.3 in \/opt\/python\/envs\/default\/lib\/python3.8\/site-packages (from matplotlib) (2.4.7)\r\n",
            "Requirement already satisfied: cycler>=0.10 in \/opt\/python\/envs\/default\/lib\/python3.8\/site-packages (from matplotlib) (0.10.0)\r\n",
            "Requirement already satisfied: pillow>=6.2.0 in \/opt\/python\/envs\/default\/lib\/python3.8\/site-packages (from matplotlib) (8.3.1)\r\n",
            "Requirement already satisfied: kiwisolver>=1.0.1 in \/opt\/python\/envs\/default\/lib\/python3.8\/site-packages (from matplotlib) (1.3.1)\r\n",
            "Requirement already satisfied: python-dateutil>=2.1 in \/opt\/python\/envs\/default\/lib\/python3.8\/site-packages (from matplotlib) (2.8.2)\r\n",
            "Requirement already satisfied: numpy>=1.15 in \/opt\/python\/envs\/default\/lib\/python3.8\/site-packages (from matplotlib) (1.19.5)\r\n",
            "Requirement already satisfied: six in \/opt\/python\/envs\/default\/lib\/python3.8\/site-packages (from cycler>=0.10->matplotlib) (1.15.0)\r\n",
            "\u001b[33mWARNING: You are using pip version 21.1; however, version 21.2.3 is available.\r\n",
            "You should consider upgrading via the '\/opt\/python\/envs\/default\/bin\/python -m pip install --upgrade pip' command.\u001b[0m\r\n",
            "Requirement already satisfied: seaborn in \/opt\/python\/envs\/default\/lib\/python3.8\/site-packages (0.11.1)\r\n",
            "Requirement already satisfied: numpy>=1.15 in \/opt\/python\/envs\/default\/lib\/python3.8\/site-packages (from seaborn) (1.19.5)\r\n",
            "Requirement already satisfied: scipy>=1.0 in \/opt\/python\/envs\/default\/lib\/python3.8\/site-packages (from seaborn) (1.6.1)\r\n",
            "Requirement already satisfied: matplotlib>=2.2 in \/opt\/python\/envs\/default\/lib\/python3.8\/site-packages (from seaborn) (3.3.4)\r\n",
            "Requirement already satisfied: pandas>=0.23 in \/opt\/python\/envs\/default\/lib\/python3.8\/site-packages (from seaborn) (1.2.3)\r\n",
            "Requirement already satisfied: cycler>=0.10 in \/opt\/python\/envs\/default\/lib\/python3.8\/site-packages (from matplotlib>=2.2->seaborn) (0.10.0)\r\n",
            "Requirement already satisfied: pillow>=6.2.0 in \/opt\/python\/envs\/default\/lib\/python3.8\/site-packages (from matplotlib>=2.2->seaborn) (8.3.1)\r\n",
            "Requirement already satisfied: python-dateutil>=2.1 in \/opt\/python\/envs\/default\/lib\/python3.8\/site-packages (from matplotlib>=2.2->seaborn) (2.8.2)\r\n",
            "Requirement already satisfied: kiwisolver>=1.0.1 in \/opt\/python\/envs\/default\/lib\/python3.8\/site-packages (from matplotlib>=2.2->seaborn) (1.3.1)\r\n",
            "Requirement already satisfied: pyparsing!=2.0.4,!=2.1.2,!=2.1.6,>=2.0.3 in \/opt\/python\/envs\/default\/lib\/python3.8\/site-packages (from matplotlib>=2.2->seaborn) (2.4.7)\r\n",
            "Requirement already satisfied: six in \/opt\/python\/envs\/default\/lib\/python3.8\/site-packages (from cycler>=0.10->matplotlib>=2.2->seaborn) (1.15.0)\r\n",
            "Requirement already satisfied: pytz>=2017.3 in \/opt\/python\/envs\/default\/lib\/python3.8\/site-packages (from pandas>=0.23->seaborn) (2021.1)\r\n",
            "\u001b[33mWARNING: You are using pip version 21.1; however, version 21.2.3 is available.\r\n",
            "You should consider upgrading via the '\/opt\/python\/envs\/default\/bin\/python -m pip install --upgrade pip' command.\u001b[0m\r\n"
          ],
          "output_type":"stream"
        }
      ],
      "metadata":{
        
      }
    },
    {
      "cell_type":"code",
      "source":[
        "import matplotlib.pyplot as plt\n",
        "import seaborn\n",
        "\n",
        "# Plot everything by leveraging the very powerful matplotlib package\n",
        "hist['Close'].plot(figsize=(16, 9))"
      ],
      "execution_count":5,
      "outputs":[
        {
          "data":{
            "text\/plain":[
              "<AxesSubplot:xlabel='Date'>"
            ],
            "image\/png":"[encoded data removed]"
          },
          "metadata":{
            "image\/png":{
              
            }
          },
          "output_type":"display_data"
        }
      ],
      "metadata":{
        
      }
    },
    {
      "cell_type":"code",
      "source":[
        "data_df = yf.download(\"AAPL\", start=\"2020-02-01\", end=\"2020-03-20\")\n",
        "data_df.to_csv('aapl.csv')"
      ],
      "execution_count":7,
      "outputs":[
        {
          "name":"stdout",
          "text":[
            "\r[*********************100%***********************]  1 of 1 completed\n"
          ],
          "output_type":"stream"
        }
      ],
      "metadata":{
        
      }
    },
    {
      "cell_type":"code",
      "source":[
        "msft.history(period=\"1y\")\n",
        "\n",
        "# show actions (dividends, splits)\n",
        "msft.actions"
      ],
      "execution_count":8,
      "outputs":[
        {
          "data":{
            "text\/html":[
              "<div>\n",
              "<style scoped>\n",
              "    .dataframe tbody tr th:only-of-type {\n",
              "        vertical-align: middle;\n",
              "    }\n",
              "\n",
              "    .dataframe tbody tr th {\n",
              "        vertical-align: top;\n",
              "    }\n",
              "\n",
              "    .dataframe thead th {\n",
              "        text-align: right;\n",
              "    }\n",
              "<\/style>\n",
              "<table border=\"1\" class=\"dataframe\">\n",
              "  <thead>\n",
              "    <tr style=\"text-align: right;\">\n",
              "      <th><\/th>\n",
              "      <th>Dividends<\/th>\n",
              "      <th>Stock Splits<\/th>\n",
              "    <\/tr>\n",
              "    <tr>\n",
              "      <th>Date<\/th>\n",
              "      <th><\/th>\n",
              "      <th><\/th>\n",
              "    <\/tr>\n",
              "  <\/thead>\n",
              "  <tbody>\n",
              "    <tr>\n",
              "      <th>2020-08-19<\/th>\n",
              "      <td>0.51<\/td>\n",
              "      <td>0.0<\/td>\n",
              "    <\/tr>\n",
              "    <tr>\n",
              "      <th>2020-11-18<\/th>\n",
              "      <td>0.56<\/td>\n",
              "      <td>0.0<\/td>\n",
              "    <\/tr>\n",
              "    <tr>\n",
              "      <th>2021-02-17<\/th>\n",
              "      <td>0.56<\/td>\n",
              "      <td>0.0<\/td>\n",
              "    <\/tr>\n",
              "    <tr>\n",
              "      <th>2021-05-19<\/th>\n",
              "      <td>0.56<\/td>\n",
              "      <td>0.0<\/td>\n",
              "    <\/tr>\n",
              "  <\/tbody>\n",
              "<\/table>\n",
              "<\/div>"
            ]
          },
          "metadata":{
            
          },
          "output_type":"display_data"
        }
      ],
      "metadata":{
        
      }
    }
  ],
  "metadata":{
    
  },
  "nbformat":4,
  "nbformat_minor":0
}