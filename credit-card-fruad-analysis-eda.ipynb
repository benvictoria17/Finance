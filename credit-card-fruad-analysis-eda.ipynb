{
 "cells": [
  {
   "cell_type": "code",
   "execution_count": 1,
   "id": "e266ef04",
   "metadata": {
    "_cell_guid": "b1076dfc-b9ad-4769-8c92-a6c4dae69d19",
    "_uuid": "8f2839f25d086af736a60e9eeb907d3b93b6e0e5",
    "execution": {
     "iopub.execute_input": "2021-10-17T01:51:30.713332Z",
     "iopub.status.busy": "2021-10-17T01:51:30.712128Z",
     "iopub.status.idle": "2021-10-17T01:51:31.767505Z",
     "shell.execute_reply": "2021-10-17T01:51:31.766660Z",
     "shell.execute_reply.started": "2021-10-17T01:32:00.039893Z"
    },
    "papermill": {
     "duration": 1.075357,
     "end_time": "2021-10-17T01:51:31.767708",
     "exception": false,
     "start_time": "2021-10-17T01:51:30.692351",
     "status": "completed"
    },
    "tags": []
   },
   "outputs": [],
   "source": [
    "import pandas as pd \n",
    "import numpy as np \n",
    "import matplotlib.pyplot as plt\n",
    "import seaborn as sns \n",
    "import datetime"
   ]
  },
  {
   "cell_type": "code",
   "execution_count": 2,
   "id": "8e96944f",
   "metadata": {
    "execution": {
     "iopub.execute_input": "2021-10-17T01:51:31.797621Z",
     "iopub.status.busy": "2021-10-17T01:51:31.796957Z",
     "iopub.status.idle": "2021-10-17T01:51:36.568265Z",
     "shell.execute_reply": "2021-10-17T01:51:36.568797Z",
     "shell.execute_reply.started": "2021-10-17T01:32:50.903489Z"
    },
    "papermill": {
     "duration": 4.788748,
     "end_time": "2021-10-17T01:51:36.568992",
     "exception": false,
     "start_time": "2021-10-17T01:51:31.780244",
     "status": "completed"
    },
    "tags": []
   },
   "outputs": [
    {
     "data": {
      "text/html": [
       "<div>\n",
       "<style scoped>\n",
       "    .dataframe tbody tr th:only-of-type {\n",
       "        vertical-align: middle;\n",
       "    }\n",
       "\n",
       "    .dataframe tbody tr th {\n",
       "        vertical-align: top;\n",
       "    }\n",
       "\n",
       "    .dataframe thead th {\n",
       "        text-align: right;\n",
       "    }\n",
       "</style>\n",
       "<table border=\"1\" class=\"dataframe\">\n",
       "  <thead>\n",
       "    <tr style=\"text-align: right;\">\n",
       "      <th></th>\n",
       "      <th>Time</th>\n",
       "      <th>V1</th>\n",
       "      <th>V2</th>\n",
       "      <th>V3</th>\n",
       "      <th>V4</th>\n",
       "      <th>V5</th>\n",
       "      <th>V6</th>\n",
       "      <th>V7</th>\n",
       "      <th>V8</th>\n",
       "      <th>V9</th>\n",
       "      <th>...</th>\n",
       "      <th>V21</th>\n",
       "      <th>V22</th>\n",
       "      <th>V23</th>\n",
       "      <th>V24</th>\n",
       "      <th>V25</th>\n",
       "      <th>V26</th>\n",
       "      <th>V27</th>\n",
       "      <th>V28</th>\n",
       "      <th>Amount</th>\n",
       "      <th>Class</th>\n",
       "    </tr>\n",
       "  </thead>\n",
       "  <tbody>\n",
       "    <tr>\n",
       "      <th>0</th>\n",
       "      <td>0.0</td>\n",
       "      <td>-1.359807</td>\n",
       "      <td>-0.072781</td>\n",
       "      <td>2.536347</td>\n",
       "      <td>1.378155</td>\n",
       "      <td>-0.338321</td>\n",
       "      <td>0.462388</td>\n",
       "      <td>0.239599</td>\n",
       "      <td>0.098698</td>\n",
       "      <td>0.363787</td>\n",
       "      <td>...</td>\n",
       "      <td>-0.018307</td>\n",
       "      <td>0.277838</td>\n",
       "      <td>-0.110474</td>\n",
       "      <td>0.066928</td>\n",
       "      <td>0.128539</td>\n",
       "      <td>-0.189115</td>\n",
       "      <td>0.133558</td>\n",
       "      <td>-0.021053</td>\n",
       "      <td>149.62</td>\n",
       "      <td>0</td>\n",
       "    </tr>\n",
       "    <tr>\n",
       "      <th>1</th>\n",
       "      <td>0.0</td>\n",
       "      <td>1.191857</td>\n",
       "      <td>0.266151</td>\n",
       "      <td>0.166480</td>\n",
       "      <td>0.448154</td>\n",
       "      <td>0.060018</td>\n",
       "      <td>-0.082361</td>\n",
       "      <td>-0.078803</td>\n",
       "      <td>0.085102</td>\n",
       "      <td>-0.255425</td>\n",
       "      <td>...</td>\n",
       "      <td>-0.225775</td>\n",
       "      <td>-0.638672</td>\n",
       "      <td>0.101288</td>\n",
       "      <td>-0.339846</td>\n",
       "      <td>0.167170</td>\n",
       "      <td>0.125895</td>\n",
       "      <td>-0.008983</td>\n",
       "      <td>0.014724</td>\n",
       "      <td>2.69</td>\n",
       "      <td>0</td>\n",
       "    </tr>\n",
       "    <tr>\n",
       "      <th>2</th>\n",
       "      <td>1.0</td>\n",
       "      <td>-1.358354</td>\n",
       "      <td>-1.340163</td>\n",
       "      <td>1.773209</td>\n",
       "      <td>0.379780</td>\n",
       "      <td>-0.503198</td>\n",
       "      <td>1.800499</td>\n",
       "      <td>0.791461</td>\n",
       "      <td>0.247676</td>\n",
       "      <td>-1.514654</td>\n",
       "      <td>...</td>\n",
       "      <td>0.247998</td>\n",
       "      <td>0.771679</td>\n",
       "      <td>0.909412</td>\n",
       "      <td>-0.689281</td>\n",
       "      <td>-0.327642</td>\n",
       "      <td>-0.139097</td>\n",
       "      <td>-0.055353</td>\n",
       "      <td>-0.059752</td>\n",
       "      <td>378.66</td>\n",
       "      <td>0</td>\n",
       "    </tr>\n",
       "    <tr>\n",
       "      <th>3</th>\n",
       "      <td>1.0</td>\n",
       "      <td>-0.966272</td>\n",
       "      <td>-0.185226</td>\n",
       "      <td>1.792993</td>\n",
       "      <td>-0.863291</td>\n",
       "      <td>-0.010309</td>\n",
       "      <td>1.247203</td>\n",
       "      <td>0.237609</td>\n",
       "      <td>0.377436</td>\n",
       "      <td>-1.387024</td>\n",
       "      <td>...</td>\n",
       "      <td>-0.108300</td>\n",
       "      <td>0.005274</td>\n",
       "      <td>-0.190321</td>\n",
       "      <td>-1.175575</td>\n",
       "      <td>0.647376</td>\n",
       "      <td>-0.221929</td>\n",
       "      <td>0.062723</td>\n",
       "      <td>0.061458</td>\n",
       "      <td>123.50</td>\n",
       "      <td>0</td>\n",
       "    </tr>\n",
       "    <tr>\n",
       "      <th>4</th>\n",
       "      <td>2.0</td>\n",
       "      <td>-1.158233</td>\n",
       "      <td>0.877737</td>\n",
       "      <td>1.548718</td>\n",
       "      <td>0.403034</td>\n",
       "      <td>-0.407193</td>\n",
       "      <td>0.095921</td>\n",
       "      <td>0.592941</td>\n",
       "      <td>-0.270533</td>\n",
       "      <td>0.817739</td>\n",
       "      <td>...</td>\n",
       "      <td>-0.009431</td>\n",
       "      <td>0.798278</td>\n",
       "      <td>-0.137458</td>\n",
       "      <td>0.141267</td>\n",
       "      <td>-0.206010</td>\n",
       "      <td>0.502292</td>\n",
       "      <td>0.219422</td>\n",
       "      <td>0.215153</td>\n",
       "      <td>69.99</td>\n",
       "      <td>0</td>\n",
       "    </tr>\n",
       "  </tbody>\n",
       "</table>\n",
       "<p>5 rows × 31 columns</p>\n",
       "</div>"
      ],
      "text/plain": [
       "   Time        V1        V2        V3        V4        V5        V6        V7  \\\n",
       "0   0.0 -1.359807 -0.072781  2.536347  1.378155 -0.338321  0.462388  0.239599   \n",
       "1   0.0  1.191857  0.266151  0.166480  0.448154  0.060018 -0.082361 -0.078803   \n",
       "2   1.0 -1.358354 -1.340163  1.773209  0.379780 -0.503198  1.800499  0.791461   \n",
       "3   1.0 -0.966272 -0.185226  1.792993 -0.863291 -0.010309  1.247203  0.237609   \n",
       "4   2.0 -1.158233  0.877737  1.548718  0.403034 -0.407193  0.095921  0.592941   \n",
       "\n",
       "         V8        V9  ...       V21       V22       V23       V24       V25  \\\n",
       "0  0.098698  0.363787  ... -0.018307  0.277838 -0.110474  0.066928  0.128539   \n",
       "1  0.085102 -0.255425  ... -0.225775 -0.638672  0.101288 -0.339846  0.167170   \n",
       "2  0.247676 -1.514654  ...  0.247998  0.771679  0.909412 -0.689281 -0.327642   \n",
       "3  0.377436 -1.387024  ... -0.108300  0.005274 -0.190321 -1.175575  0.647376   \n",
       "4 -0.270533  0.817739  ... -0.009431  0.798278 -0.137458  0.141267 -0.206010   \n",
       "\n",
       "        V26       V27       V28  Amount  Class  \n",
       "0 -0.189115  0.133558 -0.021053  149.62      0  \n",
       "1  0.125895 -0.008983  0.014724    2.69      0  \n",
       "2 -0.139097 -0.055353 -0.059752  378.66      0  \n",
       "3 -0.221929  0.062723  0.061458  123.50      0  \n",
       "4  0.502292  0.219422  0.215153   69.99      0  \n",
       "\n",
       "[5 rows x 31 columns]"
      ]
     },
     "execution_count": 2,
     "metadata": {},
     "output_type": "execute_result"
    }
   ],
   "source": [
    "creditCardData = pd.read_csv(\"../input/creditcardfraud/creditcard.csv\")\n",
    "creditCardData.head()"
   ]
  },
  {
   "cell_type": "code",
   "execution_count": 3,
   "id": "46213867",
   "metadata": {
    "execution": {
     "iopub.execute_input": "2021-10-17T01:51:36.635948Z",
     "iopub.status.busy": "2021-10-17T01:51:36.634846Z",
     "iopub.status.idle": "2021-10-17T01:51:37.038310Z",
     "shell.execute_reply": "2021-10-17T01:51:37.037617Z",
     "shell.execute_reply.started": "2021-10-17T01:34:20.719574Z"
    },
    "papermill": {
     "duration": 0.456545,
     "end_time": "2021-10-17T01:51:37.038467",
     "exception": false,
     "start_time": "2021-10-17T01:51:36.581922",
     "status": "completed"
    },
    "tags": []
   },
   "outputs": [
    {
     "name": "stdout",
     "output_type": "stream",
     "text": [
      "# of columns:   31\n"
     ]
    },
    {
     "data": {
      "text/html": [
       "<div>\n",
       "<style scoped>\n",
       "    .dataframe tbody tr th:only-of-type {\n",
       "        vertical-align: middle;\n",
       "    }\n",
       "\n",
       "    .dataframe tbody tr th {\n",
       "        vertical-align: top;\n",
       "    }\n",
       "\n",
       "    .dataframe thead th {\n",
       "        text-align: right;\n",
       "    }\n",
       "</style>\n",
       "<table border=\"1\" class=\"dataframe\">\n",
       "  <thead>\n",
       "    <tr style=\"text-align: right;\">\n",
       "      <th></th>\n",
       "      <th>Time</th>\n",
       "      <th>V1</th>\n",
       "      <th>V2</th>\n",
       "      <th>V3</th>\n",
       "      <th>V4</th>\n",
       "      <th>V5</th>\n",
       "      <th>V6</th>\n",
       "      <th>V7</th>\n",
       "      <th>V8</th>\n",
       "      <th>V9</th>\n",
       "      <th>...</th>\n",
       "      <th>V21</th>\n",
       "      <th>V22</th>\n",
       "      <th>V23</th>\n",
       "      <th>V24</th>\n",
       "      <th>V25</th>\n",
       "      <th>V26</th>\n",
       "      <th>V27</th>\n",
       "      <th>V28</th>\n",
       "      <th>Amount</th>\n",
       "      <th>Class</th>\n",
       "    </tr>\n",
       "  </thead>\n",
       "  <tbody>\n",
       "    <tr>\n",
       "      <th>count</th>\n",
       "      <td>284807.000000</td>\n",
       "      <td>2.848070e+05</td>\n",
       "      <td>2.848070e+05</td>\n",
       "      <td>2.848070e+05</td>\n",
       "      <td>2.848070e+05</td>\n",
       "      <td>2.848070e+05</td>\n",
       "      <td>2.848070e+05</td>\n",
       "      <td>2.848070e+05</td>\n",
       "      <td>2.848070e+05</td>\n",
       "      <td>2.848070e+05</td>\n",
       "      <td>...</td>\n",
       "      <td>2.848070e+05</td>\n",
       "      <td>2.848070e+05</td>\n",
       "      <td>2.848070e+05</td>\n",
       "      <td>2.848070e+05</td>\n",
       "      <td>2.848070e+05</td>\n",
       "      <td>2.848070e+05</td>\n",
       "      <td>2.848070e+05</td>\n",
       "      <td>2.848070e+05</td>\n",
       "      <td>284807.000000</td>\n",
       "      <td>284807.000000</td>\n",
       "    </tr>\n",
       "    <tr>\n",
       "      <th>mean</th>\n",
       "      <td>94813.859575</td>\n",
       "      <td>3.918649e-15</td>\n",
       "      <td>5.682686e-16</td>\n",
       "      <td>-8.761736e-15</td>\n",
       "      <td>2.811118e-15</td>\n",
       "      <td>-1.552103e-15</td>\n",
       "      <td>2.040130e-15</td>\n",
       "      <td>-1.698953e-15</td>\n",
       "      <td>-1.893285e-16</td>\n",
       "      <td>-3.147640e-15</td>\n",
       "      <td>...</td>\n",
       "      <td>1.473120e-16</td>\n",
       "      <td>8.042109e-16</td>\n",
       "      <td>5.282512e-16</td>\n",
       "      <td>4.456271e-15</td>\n",
       "      <td>1.426896e-15</td>\n",
       "      <td>1.701640e-15</td>\n",
       "      <td>-3.662252e-16</td>\n",
       "      <td>-1.217809e-16</td>\n",
       "      <td>88.349619</td>\n",
       "      <td>0.001727</td>\n",
       "    </tr>\n",
       "    <tr>\n",
       "      <th>std</th>\n",
       "      <td>47488.145955</td>\n",
       "      <td>1.958696e+00</td>\n",
       "      <td>1.651309e+00</td>\n",
       "      <td>1.516255e+00</td>\n",
       "      <td>1.415869e+00</td>\n",
       "      <td>1.380247e+00</td>\n",
       "      <td>1.332271e+00</td>\n",
       "      <td>1.237094e+00</td>\n",
       "      <td>1.194353e+00</td>\n",
       "      <td>1.098632e+00</td>\n",
       "      <td>...</td>\n",
       "      <td>7.345240e-01</td>\n",
       "      <td>7.257016e-01</td>\n",
       "      <td>6.244603e-01</td>\n",
       "      <td>6.056471e-01</td>\n",
       "      <td>5.212781e-01</td>\n",
       "      <td>4.822270e-01</td>\n",
       "      <td>4.036325e-01</td>\n",
       "      <td>3.300833e-01</td>\n",
       "      <td>250.120109</td>\n",
       "      <td>0.041527</td>\n",
       "    </tr>\n",
       "    <tr>\n",
       "      <th>min</th>\n",
       "      <td>0.000000</td>\n",
       "      <td>-5.640751e+01</td>\n",
       "      <td>-7.271573e+01</td>\n",
       "      <td>-4.832559e+01</td>\n",
       "      <td>-5.683171e+00</td>\n",
       "      <td>-1.137433e+02</td>\n",
       "      <td>-2.616051e+01</td>\n",
       "      <td>-4.355724e+01</td>\n",
       "      <td>-7.321672e+01</td>\n",
       "      <td>-1.343407e+01</td>\n",
       "      <td>...</td>\n",
       "      <td>-3.483038e+01</td>\n",
       "      <td>-1.093314e+01</td>\n",
       "      <td>-4.480774e+01</td>\n",
       "      <td>-2.836627e+00</td>\n",
       "      <td>-1.029540e+01</td>\n",
       "      <td>-2.604551e+00</td>\n",
       "      <td>-2.256568e+01</td>\n",
       "      <td>-1.543008e+01</td>\n",
       "      <td>0.000000</td>\n",
       "      <td>0.000000</td>\n",
       "    </tr>\n",
       "    <tr>\n",
       "      <th>25%</th>\n",
       "      <td>54201.500000</td>\n",
       "      <td>-9.203734e-01</td>\n",
       "      <td>-5.985499e-01</td>\n",
       "      <td>-8.903648e-01</td>\n",
       "      <td>-8.486401e-01</td>\n",
       "      <td>-6.915971e-01</td>\n",
       "      <td>-7.682956e-01</td>\n",
       "      <td>-5.540759e-01</td>\n",
       "      <td>-2.086297e-01</td>\n",
       "      <td>-6.430976e-01</td>\n",
       "      <td>...</td>\n",
       "      <td>-2.283949e-01</td>\n",
       "      <td>-5.423504e-01</td>\n",
       "      <td>-1.618463e-01</td>\n",
       "      <td>-3.545861e-01</td>\n",
       "      <td>-3.171451e-01</td>\n",
       "      <td>-3.269839e-01</td>\n",
       "      <td>-7.083953e-02</td>\n",
       "      <td>-5.295979e-02</td>\n",
       "      <td>5.600000</td>\n",
       "      <td>0.000000</td>\n",
       "    </tr>\n",
       "    <tr>\n",
       "      <th>50%</th>\n",
       "      <td>84692.000000</td>\n",
       "      <td>1.810880e-02</td>\n",
       "      <td>6.548556e-02</td>\n",
       "      <td>1.798463e-01</td>\n",
       "      <td>-1.984653e-02</td>\n",
       "      <td>-5.433583e-02</td>\n",
       "      <td>-2.741871e-01</td>\n",
       "      <td>4.010308e-02</td>\n",
       "      <td>2.235804e-02</td>\n",
       "      <td>-5.142873e-02</td>\n",
       "      <td>...</td>\n",
       "      <td>-2.945017e-02</td>\n",
       "      <td>6.781943e-03</td>\n",
       "      <td>-1.119293e-02</td>\n",
       "      <td>4.097606e-02</td>\n",
       "      <td>1.659350e-02</td>\n",
       "      <td>-5.213911e-02</td>\n",
       "      <td>1.342146e-03</td>\n",
       "      <td>1.124383e-02</td>\n",
       "      <td>22.000000</td>\n",
       "      <td>0.000000</td>\n",
       "    </tr>\n",
       "    <tr>\n",
       "      <th>75%</th>\n",
       "      <td>139320.500000</td>\n",
       "      <td>1.315642e+00</td>\n",
       "      <td>8.037239e-01</td>\n",
       "      <td>1.027196e+00</td>\n",
       "      <td>7.433413e-01</td>\n",
       "      <td>6.119264e-01</td>\n",
       "      <td>3.985649e-01</td>\n",
       "      <td>5.704361e-01</td>\n",
       "      <td>3.273459e-01</td>\n",
       "      <td>5.971390e-01</td>\n",
       "      <td>...</td>\n",
       "      <td>1.863772e-01</td>\n",
       "      <td>5.285536e-01</td>\n",
       "      <td>1.476421e-01</td>\n",
       "      <td>4.395266e-01</td>\n",
       "      <td>3.507156e-01</td>\n",
       "      <td>2.409522e-01</td>\n",
       "      <td>9.104512e-02</td>\n",
       "      <td>7.827995e-02</td>\n",
       "      <td>77.165000</td>\n",
       "      <td>0.000000</td>\n",
       "    </tr>\n",
       "    <tr>\n",
       "      <th>max</th>\n",
       "      <td>172792.000000</td>\n",
       "      <td>2.454930e+00</td>\n",
       "      <td>2.205773e+01</td>\n",
       "      <td>9.382558e+00</td>\n",
       "      <td>1.687534e+01</td>\n",
       "      <td>3.480167e+01</td>\n",
       "      <td>7.330163e+01</td>\n",
       "      <td>1.205895e+02</td>\n",
       "      <td>2.000721e+01</td>\n",
       "      <td>1.559499e+01</td>\n",
       "      <td>...</td>\n",
       "      <td>2.720284e+01</td>\n",
       "      <td>1.050309e+01</td>\n",
       "      <td>2.252841e+01</td>\n",
       "      <td>4.584549e+00</td>\n",
       "      <td>7.519589e+00</td>\n",
       "      <td>3.517346e+00</td>\n",
       "      <td>3.161220e+01</td>\n",
       "      <td>3.384781e+01</td>\n",
       "      <td>25691.160000</td>\n",
       "      <td>1.000000</td>\n",
       "    </tr>\n",
       "  </tbody>\n",
       "</table>\n",
       "<p>8 rows × 31 columns</p>\n",
       "</div>"
      ],
      "text/plain": [
       "                Time            V1            V2            V3            V4  \\\n",
       "count  284807.000000  2.848070e+05  2.848070e+05  2.848070e+05  2.848070e+05   \n",
       "mean    94813.859575  3.918649e-15  5.682686e-16 -8.761736e-15  2.811118e-15   \n",
       "std     47488.145955  1.958696e+00  1.651309e+00  1.516255e+00  1.415869e+00   \n",
       "min         0.000000 -5.640751e+01 -7.271573e+01 -4.832559e+01 -5.683171e+00   \n",
       "25%     54201.500000 -9.203734e-01 -5.985499e-01 -8.903648e-01 -8.486401e-01   \n",
       "50%     84692.000000  1.810880e-02  6.548556e-02  1.798463e-01 -1.984653e-02   \n",
       "75%    139320.500000  1.315642e+00  8.037239e-01  1.027196e+00  7.433413e-01   \n",
       "max    172792.000000  2.454930e+00  2.205773e+01  9.382558e+00  1.687534e+01   \n",
       "\n",
       "                 V5            V6            V7            V8            V9  \\\n",
       "count  2.848070e+05  2.848070e+05  2.848070e+05  2.848070e+05  2.848070e+05   \n",
       "mean  -1.552103e-15  2.040130e-15 -1.698953e-15 -1.893285e-16 -3.147640e-15   \n",
       "std    1.380247e+00  1.332271e+00  1.237094e+00  1.194353e+00  1.098632e+00   \n",
       "min   -1.137433e+02 -2.616051e+01 -4.355724e+01 -7.321672e+01 -1.343407e+01   \n",
       "25%   -6.915971e-01 -7.682956e-01 -5.540759e-01 -2.086297e-01 -6.430976e-01   \n",
       "50%   -5.433583e-02 -2.741871e-01  4.010308e-02  2.235804e-02 -5.142873e-02   \n",
       "75%    6.119264e-01  3.985649e-01  5.704361e-01  3.273459e-01  5.971390e-01   \n",
       "max    3.480167e+01  7.330163e+01  1.205895e+02  2.000721e+01  1.559499e+01   \n",
       "\n",
       "       ...           V21           V22           V23           V24  \\\n",
       "count  ...  2.848070e+05  2.848070e+05  2.848070e+05  2.848070e+05   \n",
       "mean   ...  1.473120e-16  8.042109e-16  5.282512e-16  4.456271e-15   \n",
       "std    ...  7.345240e-01  7.257016e-01  6.244603e-01  6.056471e-01   \n",
       "min    ... -3.483038e+01 -1.093314e+01 -4.480774e+01 -2.836627e+00   \n",
       "25%    ... -2.283949e-01 -5.423504e-01 -1.618463e-01 -3.545861e-01   \n",
       "50%    ... -2.945017e-02  6.781943e-03 -1.119293e-02  4.097606e-02   \n",
       "75%    ...  1.863772e-01  5.285536e-01  1.476421e-01  4.395266e-01   \n",
       "max    ...  2.720284e+01  1.050309e+01  2.252841e+01  4.584549e+00   \n",
       "\n",
       "                V25           V26           V27           V28         Amount  \\\n",
       "count  2.848070e+05  2.848070e+05  2.848070e+05  2.848070e+05  284807.000000   \n",
       "mean   1.426896e-15  1.701640e-15 -3.662252e-16 -1.217809e-16      88.349619   \n",
       "std    5.212781e-01  4.822270e-01  4.036325e-01  3.300833e-01     250.120109   \n",
       "min   -1.029540e+01 -2.604551e+00 -2.256568e+01 -1.543008e+01       0.000000   \n",
       "25%   -3.171451e-01 -3.269839e-01 -7.083953e-02 -5.295979e-02       5.600000   \n",
       "50%    1.659350e-02 -5.213911e-02  1.342146e-03  1.124383e-02      22.000000   \n",
       "75%    3.507156e-01  2.409522e-01  9.104512e-02  7.827995e-02      77.165000   \n",
       "max    7.519589e+00  3.517346e+00  3.161220e+01  3.384781e+01   25691.160000   \n",
       "\n",
       "               Class  \n",
       "count  284807.000000  \n",
       "mean        0.001727  \n",
       "std         0.041527  \n",
       "min         0.000000  \n",
       "25%         0.000000  \n",
       "50%         0.000000  \n",
       "75%         0.000000  \n",
       "max         1.000000  \n",
       "\n",
       "[8 rows x 31 columns]"
      ]
     },
     "execution_count": 3,
     "metadata": {},
     "output_type": "execute_result"
    }
   ],
   "source": [
    "print(\"# of columns:  \", len(creditCardData.columns))\n",
    "creditCardData.describe()"
   ]
  },
  {
   "cell_type": "code",
   "execution_count": 4,
   "id": "f4c6b1b1",
   "metadata": {
    "execution": {
     "iopub.execute_input": "2021-10-17T01:51:37.073301Z",
     "iopub.status.busy": "2021-10-17T01:51:37.072060Z",
     "iopub.status.idle": "2021-10-17T01:51:37.089506Z",
     "shell.execute_reply": "2021-10-17T01:51:37.088782Z",
     "shell.execute_reply.started": "2021-10-17T01:34:49.469371Z"
    },
    "papermill": {
     "duration": 0.037119,
     "end_time": "2021-10-17T01:51:37.089685",
     "exception": false,
     "start_time": "2021-10-17T01:51:37.052566",
     "status": "completed"
    },
    "tags": []
   },
   "outputs": [
    {
     "data": {
      "text/plain": [
       "0"
      ]
     },
     "execution_count": 4,
     "metadata": {},
     "output_type": "execute_result"
    }
   ],
   "source": [
    "creditCardData.isnull().any().sum()"
   ]
  },
  {
   "cell_type": "code",
   "execution_count": 5,
   "id": "1b4788b7",
   "metadata": {
    "execution": {
     "iopub.execute_input": "2021-10-17T01:51:37.125384Z",
     "iopub.status.busy": "2021-10-17T01:51:37.124713Z",
     "iopub.status.idle": "2021-10-17T01:51:38.617236Z",
     "shell.execute_reply": "2021-10-17T01:51:38.617756Z",
     "shell.execute_reply.started": "2021-10-17T01:38:09.716254Z"
    },
    "papermill": {
     "duration": 1.513776,
     "end_time": "2021-10-17T01:51:38.617973",
     "exception": false,
     "start_time": "2021-10-17T01:51:37.104197",
     "status": "completed"
    },
    "tags": []
   },
   "outputs": [
    {
     "data": {
      "text/plain": [
       "<AxesSubplot:>"
      ]
     },
     "execution_count": 5,
     "metadata": {},
     "output_type": "execute_result"
    },
    {
     "data": {
      "image/png": "[encoded data removed]",
      "text/plain": [
       "<Figure size 432x288 with 2 Axes>"
      ]
     },
     "metadata": {
      "needs_background": "light"
     },
     "output_type": "display_data"
    }
   ],
   "source": [
    "sns.heatmap(creditCardData.corr())"
   ]
  },
  {
   "cell_type": "code",
   "execution_count": 6,
   "id": "13743a7c",
   "metadata": {
    "execution": {
     "iopub.execute_input": "2021-10-17T01:51:38.659217Z",
     "iopub.status.busy": "2021-10-17T01:51:38.658503Z",
     "iopub.status.idle": "2021-10-17T01:51:39.190078Z",
     "shell.execute_reply": "2021-10-17T01:51:39.190556Z",
     "shell.execute_reply.started": "2021-10-17T01:46:31.627954Z"
    },
    "papermill": {
     "duration": 0.557505,
     "end_time": "2021-10-17T01:51:39.190787",
     "exception": false,
     "start_time": "2021-10-17T01:51:38.633282",
     "status": "completed"
    },
    "tags": []
   },
   "outputs": [],
   "source": [
    "def convert_totime(seconds):\n",
    "    return datetime.datetime.fromtimestamp(seconds);\n",
    "timeAnalysis = creditCardData[['Time', 'Amount', 'Class']].copy()\n",
    "timeAnalysis['datetime'] = timeAnalysis.Time.apply(convert_totime)\n",
    "timeAnalysis['hour of the day'] = timeAnalysis.datetime.dt.hour\n",
    "timeAnalysisGrouped = timeAnalysis.groupby(['Class', 'hour of the day'])['Amount'].count()"
   ]
  },
  {
   "cell_type": "code",
   "execution_count": 7,
   "id": "7f20f8b0",
   "metadata": {
    "execution": {
     "iopub.execute_input": "2021-10-17T01:51:39.226231Z",
     "iopub.status.busy": "2021-10-17T01:51:39.225548Z",
     "iopub.status.idle": "2021-10-17T01:51:39.650422Z",
     "shell.execute_reply": "2021-10-17T01:51:39.650908Z",
     "shell.execute_reply.started": "2021-10-17T01:46:42.813699Z"
    },
    "papermill": {
     "duration": 0.444449,
     "end_time": "2021-10-17T01:51:39.651081",
     "exception": false,
     "start_time": "2021-10-17T01:51:39.206632",
     "status": "completed"
    },
    "tags": []
   },
   "outputs": [
    {
     "data": {
      "text/plain": [
       "<AxesSubplot:title={'center':'# of legitimate credit card transactions per hour'}, xlabel='hour of the day'>"
      ]
     },
     "execution_count": 7,
     "metadata": {},
     "output_type": "execute_result"
    },
    {
     "data": {
      "image/png": "[encoded data removed]",
      "text/plain": [
       "<Figure size 720x432 with 1 Axes>"
      ]
     },
     "metadata": {
      "needs_background": "light"
     },
     "output_type": "display_data"
    }
   ],
   "source": [
    "plt.figure(figsize = (10, 6))\n",
    "validTransactions = timeAnalysisGrouped[0].copy()\n",
    "validTransactions.name = 'Number of transactions'\n",
    "validTransactions.plot.bar(title = '# of legitimate credit card transactions per hour', legend = True)"
   ]
  },
  {
   "cell_type": "code",
   "execution_count": 8,
   "id": "f51b3c0a",
   "metadata": {
    "execution": {
     "iopub.execute_input": "2021-10-17T01:51:39.688001Z",
     "iopub.status.busy": "2021-10-17T01:51:39.687254Z",
     "iopub.status.idle": "2021-10-17T01:51:40.156460Z",
     "shell.execute_reply": "2021-10-17T01:51:40.157074Z",
     "shell.execute_reply.started": "2021-10-17T01:47:06.796761Z"
    },
    "papermill": {
     "duration": 0.489817,
     "end_time": "2021-10-17T01:51:40.157247",
     "exception": false,
     "start_time": "2021-10-17T01:51:39.667430",
     "status": "completed"
    },
    "tags": []
   },
   "outputs": [
    {
     "data": {
      "text/plain": [
       "<AxesSubplot:title={'center':'# of legitimate credit card transactions per hour'}, xlabel='hour of the day'>"
      ]
     },
     "execution_count": 8,
     "metadata": {},
     "output_type": "execute_result"
    },
    {
     "data": {
      "image/png": "[encoded data removed]",
      "text/plain": [
       "<Figure size 720x432 with 1 Axes>"
      ]
     },
     "metadata": {
      "needs_background": "light"
     },
     "output_type": "display_data"
    }
   ],
   "source": [
    "timeDelta = datetime.datetime.utcnow() - datetime.datetime.now() \n",
    "plt.figure(figsize = (10, 6))\n",
    "timeAnalysis['hour of the day'] = timeAnalysis.datetime + timeDelta\n",
    "timeAnalysis['hour of the day'] = timeAnalysis['hour of the day'].dt.hour\n",
    "timeAnalysisGrouped = timeAnalysis.groupby(['Class', 'hour of the day'])['Amount'].count()\n",
    "validTransactions = timeAnalysisGrouped[0].copy()\n",
    "validTransactions.name = 'Number of transactions'\n",
    "validTransactions.plot.bar(title = '# of legitimate credit card transactions per hour', legend = True)"
   ]
  },
  {
   "cell_type": "code",
   "execution_count": 9,
   "id": "4c7c5054",
   "metadata": {
    "execution": {
     "iopub.execute_input": "2021-10-17T01:51:40.197371Z",
     "iopub.status.busy": "2021-10-17T01:51:40.196709Z",
     "iopub.status.idle": "2021-10-17T01:51:40.617785Z",
     "shell.execute_reply": "2021-10-17T01:51:40.617060Z",
     "shell.execute_reply.started": "2021-10-17T01:48:08.997080Z"
    },
    "papermill": {
     "duration": 0.442476,
     "end_time": "2021-10-17T01:51:40.617947",
     "exception": false,
     "start_time": "2021-10-17T01:51:40.175471",
     "status": "completed"
    },
    "tags": []
   },
   "outputs": [
    {
     "data": {
      "text/plain": [
       "<AxesSubplot:title={'center':'# of fraud credit card transactions per hour'}, xlabel='hour of the day'>"
      ]
     },
     "execution_count": 9,
     "metadata": {},
     "output_type": "execute_result"
    },
    {
     "data": {
      "image/png": "[encoded data removed]",
      "text/plain": [
       "<Figure size 720x432 with 1 Axes>"
      ]
     },
     "metadata": {
      "needs_background": "light"
     },
     "output_type": "display_data"
    }
   ],
   "source": [
    "plt.figure(figsize = (10, 6))\n",
    "fraudTransactions = timeAnalysisGrouped[1].copy()\n",
    "fraudTransactions.name = 'Number of transactions'\n",
    "fraudTransactions.plot.bar(title = '# of fraud credit card transactions per hour', legend = True)"
   ]
  },
  {
   "cell_type": "code",
   "execution_count": 10,
   "id": "817147db",
   "metadata": {
    "execution": {
     "iopub.execute_input": "2021-10-17T01:51:40.662654Z",
     "iopub.status.busy": "2021-10-17T01:51:40.661517Z",
     "iopub.status.idle": "2021-10-17T01:51:40.965137Z",
     "shell.execute_reply": "2021-10-17T01:51:40.964526Z",
     "shell.execute_reply.started": "2021-10-17T01:48:29.255749Z"
    },
    "papermill": {
     "duration": 0.328357,
     "end_time": "2021-10-17T01:51:40.965300",
     "exception": false,
     "start_time": "2021-10-17T01:51:40.636943",
     "status": "completed"
    },
    "tags": []
   },
   "outputs": [
    {
     "data": {
      "text/plain": [
       "<AxesSubplot:title={'center':'Histogram of valid transactions'}, ylabel='Frequency'>"
      ]
     },
     "execution_count": 10,
     "metadata": {},
     "output_type": "execute_result"
    },
    {
     "data": {
      "image/png": "[encoded data removed]",
      "text/plain": [
       "<Figure size 432x288 with 1 Axes>"
      ]
     },
     "metadata": {
      "needs_background": "light"
     },
     "output_type": "display_data"
    }
   ],
   "source": [
    "timeAnalysis[timeAnalysis.Class == 0].Amount.plot.hist(title = 'Histogram of valid transactions')"
   ]
  },
  {
   "cell_type": "code",
   "execution_count": 11,
   "id": "37fa723f",
   "metadata": {
    "execution": {
     "iopub.execute_input": "2021-10-17T01:51:41.014559Z",
     "iopub.status.busy": "2021-10-17T01:51:41.013300Z",
     "iopub.status.idle": "2021-10-17T01:51:41.319954Z",
     "shell.execute_reply": "2021-10-17T01:51:41.319273Z",
     "shell.execute_reply.started": "2021-10-17T01:49:10.862526Z"
    },
    "papermill": {
     "duration": 0.334564,
     "end_time": "2021-10-17T01:51:41.320115",
     "exception": false,
     "start_time": "2021-10-17T01:51:40.985551",
     "status": "completed"
    },
    "tags": []
   },
   "outputs": [
    {
     "data": {
      "text/plain": [
       "<AxesSubplot:title={'center':'Histogram of valid transactions (Amount <= 4K)'}, ylabel='Frequency'>"
      ]
     },
     "execution_count": 11,
     "metadata": {},
     "output_type": "execute_result"
    },
    {
     "data": {
      "image/png": "[encoded data removed]",
      "text/plain": [
       "<Figure size 432x288 with 1 Axes>"
      ]
     },
     "metadata": {
      "needs_background": "light"
     },
     "output_type": "display_data"
    }
   ],
   "source": [
    "timeAnalysis[(timeAnalysis.Class == 0) & (timeAnalysis.Amount <= 4000)].Amount.plot.hist(title = 'Histogram of valid transactions (Amount <= 4K)')"
   ]
  },
  {
   "cell_type": "code",
   "execution_count": 12,
   "id": "20d45fc3",
   "metadata": {
    "execution": {
     "iopub.execute_input": "2021-10-17T01:51:41.369417Z",
     "iopub.status.busy": "2021-10-17T01:51:41.368731Z",
     "iopub.status.idle": "2021-10-17T01:51:41.383315Z",
     "shell.execute_reply": "2021-10-17T01:51:41.383956Z",
     "shell.execute_reply.started": "2021-10-17T01:50:39.537894Z"
    },
    "papermill": {
     "duration": 0.042973,
     "end_time": "2021-10-17T01:51:41.384162",
     "exception": false,
     "start_time": "2021-10-17T01:51:41.341189",
     "status": "completed"
    },
    "tags": []
   },
   "outputs": [
    {
     "data": {
      "text/plain": [
       "3.008289898215099"
      ]
     },
     "execution_count": 12,
     "metadata": {},
     "output_type": "execute_result"
    }
   ],
   "source": [
    "population = timeAnalysis[timeAnalysis.Class == 0].Amount\n",
    "sample = timeAnalysis[timeAnalysis.Class == 1].Amount\n",
    "sampleMean = sample.mean()\n",
    "populationStd = population.std()\n",
    "populationMean = population.mean()\n",
    "z_score = (sampleMean - populationMean) / (populationStd / sample.size ** 0.5)\n",
    "z_score"
   ]
  },
  {
   "cell_type": "code",
   "execution_count": 13,
   "id": "3d0d0afa",
   "metadata": {
    "execution": {
     "iopub.execute_input": "2021-10-17T01:51:41.434857Z",
     "iopub.status.busy": "2021-10-17T01:51:41.430204Z",
     "iopub.status.idle": "2021-10-17T01:51:41.547807Z",
     "shell.execute_reply": "2021-10-17T01:51:41.548510Z",
     "shell.execute_reply.started": "2021-10-17T01:50:56.265808Z"
    },
    "papermill": {
     "duration": 0.143067,
     "end_time": "2021-10-17T01:51:41.548802",
     "exception": false,
     "start_time": "2021-10-17T01:51:41.405735",
     "status": "completed"
    },
    "tags": []
   },
   "outputs": [
    {
     "name": "stdout",
     "output_type": "stream",
     "text": [
      "Column V1 is Significant\n",
      "Column V2 is Significant\n",
      "Column V3 is Significant\n",
      "Column V4 is Significant\n",
      "Column V5 is Significant\n",
      "Column V6 is Significant\n",
      "Column V7 is Significant\n",
      "Column V8 is Significant\n",
      "Column V9 is Significant\n",
      "Column V10 is Significant\n",
      "Column V11 is Significant\n",
      "Column V12 is Significant\n",
      "Column V13 is insignificant\n",
      "Column V14 is Significant\n",
      "Column V15 is insignificant\n",
      "Column V16 is Significant\n",
      "Column V17 is Significant\n",
      "Column V18 is Significant\n",
      "Column V19 is Significant\n",
      "Column V20 is Significant\n",
      "Column V21 is Significant\n",
      "Column V22 is insignificant\n",
      "Column V23 is insignificant\n",
      "Column V24 is Significant\n",
      "Column V25 is insignificant\n",
      "Column V26 is insignificant\n",
      "Column V27 is Significant\n",
      "Column V28 is Significant\n"
     ]
    }
   ],
   "source": [
    "PDA_columns = [x for x in creditCardData.columns if 'V' in x]\n",
    "\n",
    "valid_transactions = creditCardData[creditCardData.Class == 0]\n",
    "Fraud_transactions = creditCardData[creditCardData.Class == 1]\n",
    "#Getting the number of rows\n",
    "sample_size = Fraud_transactions.shape[0]\n",
    "for col in PDA_columns:\n",
    "    mean = valid_transactions[col].mean()\n",
    "    std = valid_transactions[col].std()\n",
    "    zScore = (Fraud_transactions[col].mean() - mean) / (std/sample_size**0.5)\n",
    "    print ('Column', col, 'is', 'Significant' if abs(zScore) >= 3.37 else 'insignificant')"
   ]
  }
 ],
 "metadata": {
  "kernelspec": {
   "display_name": "Python 3",
   "language": "python",
   "name": "python3"
  },
  "language_info": {
   "codemirror_mode": {
    "name": "ipython",
    "version": 3
   },
   "file_extension": ".py",
   "mimetype": "text/x-python",
   "name": "python",
   "nbconvert_exporter": "python",
   "pygments_lexer": "ipython3",
   "version": "3.7.10"
  },
  "papermill": {
   "default_parameters": {},
   "duration": 21.777814,
   "end_time": "2021-10-17T01:51:42.383132",
   "environment_variables": {},
   "exception": null,
   "input_path": "__notebook__.ipynb",
   "output_path": "__notebook__.ipynb",
   "parameters": {},
   "start_time": "2021-10-17T01:51:20.605318",
   "version": "2.3.3"
  }
 },
 "nbformat": 4,
 "nbformat_minor": 5
}
