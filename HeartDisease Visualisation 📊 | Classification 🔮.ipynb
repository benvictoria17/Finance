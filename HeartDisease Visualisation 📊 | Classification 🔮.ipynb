{
 "cells": [
  {
   "cell_type": "code",
   "execution_count": null,
   "id": "78e085ff",
   "metadata": {},
   "outputs": [],
   "source": [
    "import numpy as np\n",
    "import pandas as pd\n",
    "import matplotlib.pyplot as plt\n",
    "import seaborn as sns\n",
    "from sklearn.compose import ColumnTransformer\n",
    "from sklearn.preprocessing import OneHotEncoder\n",
    "from sklearn.preprocessing import LabelEncoder\n",
    "from sklearn.model_selection import cross_val_score\n",
    "from sklearn.linear_model import LogisticRegression\n",
    "from sklearn.neighbors import KNeighborsClassifier\n",
    "from sklearn.svm import SVC\n",
    "from sklearn.naive_bayes import GaussianNB\n",
    "from sklearn.tree import DecisionTreeClassifier\n",
    "from sklearn.ensemble import RandomForestClassifier\n",
    "from sklearn.preprocessing import StandardScaler\n",
    "from scipy.sparse import csr_matrix"
   ]
  },
  {
   "cell_type": "code",
   "execution_count": null,
   "id": "d49cb783",
   "metadata": {},
   "outputs": [],
   "source": [
    "dataset = pd.read_csv(\"https://raw.githubusercontent.com/benvictoria17/DataAnalytics/master/dataset/Personal%20Key%20Indicators%20of%20Heart%20Disease/heart_2020_cleaned.csv\")\n",
    "dataset.head(3)"
   ]
  },
  {
   "cell_type": "code",
   "execution_count": null,
   "id": "4e31ea63",
   "metadata": {},
   "outputs": [],
   "source": [
    "dataset.describe(include=\"all\")"
   ]
  },
  {
   "cell_type": "code",
   "execution_count": null,
   "id": "b92721ed",
   "metadata": {},
   "outputs": [],
   "source": [
    "dataset.dtypes"
   ]
  },
  {
   "cell_type": "code",
   "execution_count": null,
   "id": "aacd8d73",
   "metadata": {},
   "outputs": [],
   "source": [
    "dataset.info()"
   ]
  },
  {
   "cell_type": "code",
   "execution_count": null,
   "id": "2520dc19",
   "metadata": {},
   "outputs": [],
   "source": [
    "dataset.nunique()"
   ]
  },
  {
   "cell_type": "code",
   "execution_count": null,
   "id": "97794d4b",
   "metadata": {},
   "outputs": [],
   "source": [
    "with_hd = dataset[dataset['HeartDisease']=='Yes'].sample(n=10000, random_state=42)\n",
    "without_hd = dataset[dataset['HeartDisease']=='No'].sample(n=10000, random_state=42)\n",
    "sample = pd.concat([with_hd, without_hd])\n",
    "sample.shape"
   ]
  },
  {
   "cell_type": "code",
   "execution_count": null,
   "id": "a99ed2c5",
   "metadata": {},
   "outputs": [],
   "source": [
    "sample.head(5)"
   ]
  },
  {
   "cell_type": "code",
   "execution_count": null,
   "id": "d8b7bce2",
   "metadata": {},
   "outputs": [],
   "source": [
    "sns.set_palette('rocket_r')\n",
    "plt.figure(figsize=(15, 4))\n",
    "sns.stripplot(data=sample, x='HeartDisease', y='BMI')\n",
    "plt.title('BMI vs Heart Disease')\n",
    "plt.xlabel('HeartDisease')\n",
    "plt.ylabel('BMI')\n",
    "plt.show()"
   ]
  },
  {
   "cell_type": "code",
   "execution_count": null,
   "id": "c12f08ef",
   "metadata": {},
   "outputs": [],
   "source": [
    "sns.catplot(data=sample, x='HeartDisease', y='BMI', kind='box')\n",
    "plt.title('BMI vs Heart Disease')\n",
    "plt.ylabel('BMI')\n",
    "plt.xlabel('Heart Disease')\n",
    "plt.show()"
   ]
  },
  {
   "cell_type": "code",
   "execution_count": null,
   "id": "ddea4bf6",
   "metadata": {},
   "outputs": [],
   "source": [
    "sns.set_palette(\"Set2\")\n",
    "plt.figure(figsize=(15,7))\n",
    "sns.countplot(data=sample, x='Smoking', hue='HeartDisease',)\n",
    "plt.title('Smoking vs Heart Disease')\n",
    "plt.xlabel('Smoking')\n",
    "plt.ylabel('Number of Cases')\n",
    "plt.show()"
   ]
  },
  {
   "cell_type": "code",
   "execution_count": null,
   "id": "f8ecd1ab",
   "metadata": {},
   "outputs": [],
   "source": [
    "sns.set_palette('Accent')\n",
    "plt.figure(figsize=(15,7))\n",
    "sns.countplot(data=sample, x='AlcoholDrinking', hue='HeartDisease',)\n",
    "plt.title('Alcohol vs Heart Disease')\n",
    "plt.xlabel('Alcohol Drinking')\n",
    "plt.ylabel('Number of Cases')\n",
    "plt.show()"
   ]
  },
  {
   "cell_type": "code",
   "execution_count": null,
   "id": "e2e424c9",
   "metadata": {},
   "outputs": [],
   "source": [
    "drink_alcohol = dataset[dataset['AlcoholDrinking'] == 'Yes'].sample(10000)\n",
    "plt.figure(figsize=(15,7))\n",
    "sns.countplot(data=drink_alcohol, x='AlcoholDrinking', hue='HeartDisease')\n",
    "plt.title('AlcoholDrinking vs Heart Disease')\n",
    "plt.xlabel('Alcohol Drinking')\n",
    "plt.ylabel('Number of Cases')\n",
    "plt.show()"
   ]
  },
  {
   "cell_type": "code",
   "execution_count": null,
   "id": "de6981da",
   "metadata": {},
   "outputs": [],
   "source": [
    "sns.set_palette('viridis')\n",
    "plt.figure(figsize=(15,7))\n",
    "sns.countplot(data=sample, x='PhysicalHealth', hue='HeartDisease')\n",
    "plt.title('PhysicalHealth vs Heart Disease')\n",
    "plt.xlabel('PhysicalHealth')\n",
    "plt.ylabel('Number of Cases')\n",
    "plt.show()"
   ]
  },
  {
   "cell_type": "code",
   "execution_count": null,
   "id": "a600539b",
   "metadata": {},
   "outputs": [],
   "source": [
    "sns.set_palette('crest')\n",
    "plt.figure(figsize=(15,7))\n",
    "sns.countplot(data=sample, x='MentalHealth', hue='HeartDisease')\n",
    "plt.title('MentalHealth vs Heart Disease')\n",
    "plt.xlabel('MentalHealth')\n",
    "plt.ylabel('Number of Cases')\n",
    "plt.show()"
   ]
  },
  {
   "cell_type": "code",
   "execution_count": null,
   "id": "2a4cbb1d",
   "metadata": {},
   "outputs": [],
   "source": [
    "sns.set_palette('rocket')\n",
    "plt.figure(figsize=(15,7))\n",
    "sns.countplot(data=sample, x='DiffWalking', hue='HeartDisease')\n",
    "plt.title('Diff Walking vs Heart Disease')\n",
    "plt.xlabel('Diff Walking')\n",
    "plt.ylabel('Number of Cases')\n",
    "plt.show()"
   ]
  },
  {
   "cell_type": "code",
   "execution_count": null,
   "id": "ecc90988",
   "metadata": {},
   "outputs": [],
   "source": [
    "sns.set_palette('Set1')\n",
    "plt.figure(figsize=(15,7))\n",
    "sns.countplot(data=sample, x='Sex', hue='HeartDisease')\n",
    "plt.title('Sex vs Heart Disease')\n",
    "plt.xlabel('Sex')\n",
    "plt.ylabel('Number of Cases')\n",
    "plt.show()"
   ]
  },
  {
   "cell_type": "code",
   "execution_count": null,
   "id": "fcf3d76d",
   "metadata": {},
   "outputs": [],
   "source": [
    "sns.set_palette('Pastel2')\n",
    "plt.figure(figsize=(15,7))\n",
    "sns.countplot(data=sample, x='AgeCategory', hue='HeartDisease', order=['18-24', '25-29', '30-34', '35-39', '40-44',\n",
    "                                                                      '45-49', '50-54', '55-59', '60-64', '65-69',\n",
    "                                                                      '70-74', '75-79', '80 or older'])\n",
    "plt.title('Age Category vs Heart Disease')\n",
    "plt.xlabel('Age Category')\n",
    "plt.ylabel('Number of Cases')\n",
    "plt.show()"
   ]
  },
  {
   "cell_type": "code",
   "execution_count": null,
   "id": "931784cb",
   "metadata": {},
   "outputs": [],
   "source": [
    "sns.set_palette('Pastel1')\n",
    "plt.figure(figsize=(15,7))\n",
    "sns.countplot(data=sample, x='Race', hue='HeartDisease')\n",
    "plt.title('Race vs Heart Disease')\n",
    "plt.xlabel('Race')\n",
    "plt.ylabel('Number of Cases')\n",
    "plt.show()"
   ]
  },
  {
   "cell_type": "code",
   "execution_count": null,
   "id": "910282ef",
   "metadata": {},
   "outputs": [],
   "source": [
    "sns.set_palette('PRGn_r')\n",
    "plt.figure(figsize=(15,7))\n",
    "sns.countplot(data=sample, x='Diabetic', hue='HeartDisease')\n",
    "plt.title('Diabetic vs Heart Disease')\n",
    "plt.xlabel('Diabetic')\n",
    "plt.ylabel('Number of Cases')\n",
    "plt.show()"
   ]
  },
  {
   "cell_type": "code",
   "execution_count": null,
   "id": "ce44eb01",
   "metadata": {},
   "outputs": [],
   "source": [
    "sns.set_palette('Set3')\n",
    "plt.figure(figsize=(15,7))\n",
    "sns.countplot(data=sample, x='PhysicalActivity', hue='HeartDisease')\n",
    "plt.title('Physical Activity vs Heart Disease')\n",
    "plt.xlabel('Physical Activity')\n",
    "plt.ylabel('Number of Cases')\n",
    "plt.show()"
   ]
  },
  {
   "cell_type": "code",
   "execution_count": null,
   "id": "c905204f",
   "metadata": {},
   "outputs": [],
   "source": [
    "sns.set_palette('Set3_r')\n",
    "plt.figure(figsize=(15,7))\n",
    "sns.countplot(data=sample, x='GenHealth', hue='HeartDisease')\n",
    "plt.title('Gen Health vs Heart Disease')\n",
    "plt.xlabel('Gen Health')\n",
    "plt.ylabel('Number of Cases')\n",
    "plt.show()"
   ]
  },
  {
   "cell_type": "code",
   "execution_count": null,
   "id": "6432c1b2",
   "metadata": {},
   "outputs": [],
   "source": [
    "sns.set_palette('Set3_r')\n",
    "plt.figure(figsize=(15,7))\n",
    "sns.countplot(data=sample, x='SleepTime', hue='HeartDisease')\n",
    "plt.title('Sleep Time vs Heart Disease')\n",
    "plt.xlabel('Sleep Time')\n",
    "plt.ylabel('Number of Cases')\n",
    "plt.show()"
   ]
  },
  {
   "cell_type": "code",
   "execution_count": null,
   "id": "441ec43a",
   "metadata": {},
   "outputs": [],
   "source": [
    "sns.set_palette('Spectral')\n",
    "plt.figure(figsize=(15,7))\n",
    "sns.countplot(data=sample, x='Asthma', hue='HeartDisease')\n",
    "plt.title('Asthma vs Heart Disease')\n",
    "plt.xlabel('Asthma')\n",
    "plt.ylabel('Number of Cases')\n",
    "plt.show()"
   ]
  },
  {
   "cell_type": "code",
   "execution_count": null,
   "id": "e6e12c76",
   "metadata": {},
   "outputs": [],
   "source": [
    "sns.set_palette('Spectral_r')\n",
    "plt.figure(figsize=(15,7))\n",
    "sns.countplot(data=sample, x='KidneyDisease', hue='HeartDisease')\n",
    "plt.title('Kidney Disease vs Heart Disease')\n",
    "plt.xlabel('Kidney Disease')\n",
    "plt.ylabel('Number of Cases')\n",
    "plt.show()"
   ]
  },
  {
   "cell_type": "code",
   "execution_count": null,
   "id": "48495ac9",
   "metadata": {},
   "outputs": [],
   "source": [
    "sns.set_palette('RdPu')\n",
    "plt.figure(figsize=(15,7))\n",
    "sns.countplot(data=sample, x='SkinCancer', hue='HeartDisease')\n",
    "plt.title('Skin Cancer vs Heart Disease')\n",
    "plt.xlabel('Skin Cancer')\n",
    "plt.ylabel('Number of Cases')\n",
    "plt.show()"
   ]
  },
  {
   "cell_type": "code",
   "execution_count": null,
   "id": "d3064946",
   "metadata": {},
   "outputs": [],
   "source": [
    "X = sample.iloc[:, 1:]\n",
    "y = sample.iloc[:, 0]\n",
    "X.head(3)"
   ]
  },
  {
   "cell_type": "code",
   "execution_count": null,
   "id": "1df3ba87",
   "metadata": {},
   "outputs": [],
   "source": [
    "y.head(3)"
   ]
  },
  {
   "cell_type": "code",
   "execution_count": null,
   "id": "69bc04e3",
   "metadata": {},
   "outputs": [],
   "source": [
    "X_cat = X[['Smoking', 'AlcoholDrinking', 'Stroke', 'DiffWalking', 'Sex', 'AgeCategory',\n",
    "          'Race', 'Diabetic', 'PhysicalActivity', 'GenHealth', 'Asthma', 'KidneyDisease', 'SkinCancer']]\n",
    "X_cat.head(2)"
   ]
  },
  {
   "cell_type": "code",
   "execution_count": null,
   "id": "b0748e0a",
   "metadata": {},
   "outputs": [],
   "source": [
    "X_num = X[['BMI', 'PhysicalHealth', 'MentalHealth', 'SleepTime']]\n",
    "X_num.head(2)"
   ]
  },
  {
   "cell_type": "code",
   "execution_count": null,
   "id": "b3923968",
   "metadata": {},
   "outputs": [],
   "source": [
    "ct = ColumnTransformer(transformers=[('encoder', OneHotEncoder(), [0, 1, 2, 3, 4, 5, 6, 7, 8, 9, 10, 11, 12])],remainder='passthrough')\n",
    "X_cat_encoded = ct.fit_transform(X_cat)\n",
    "X_cat_encoded.shape"
   ]
  },
  {
   "cell_type": "code",
   "execution_count": null,
   "id": "24e704c6",
   "metadata": {},
   "outputs": [],
   "source": [
    "type(X_cat_encoded)"
   ]
  },
  {
   "cell_type": "code",
   "execution_count": null,
   "id": "99941dae",
   "metadata": {},
   "outputs": [],
   "source": [
    "X_cat_encoded = X_cat_encoded.toarray()\n",
    "X_cat_encoded.shape"
   ]
  },
  {
   "cell_type": "code",
   "execution_count": null,
   "id": "6671f16f",
   "metadata": {},
   "outputs": [],
   "source": [
    "X_cat_encoded[1]"
   ]
  },
  {
   "cell_type": "code",
   "execution_count": null,
   "id": "5eb82400",
   "metadata": {},
   "outputs": [],
   "source": [
    "X_cat_df = pd.DataFrame(X_cat_encoded)\n",
    "X_cat_df.head(3)"
   ]
  },
  {
   "cell_type": "code",
   "execution_count": null,
   "id": "fc9baaea",
   "metadata": {},
   "outputs": [],
   "source": [
    "le = LabelEncoder()\n",
    "y = le.fit_transform(y)\n",
    "y.shape"
   ]
  },
  {
   "cell_type": "code",
   "execution_count": null,
   "id": "0a4ef96f",
   "metadata": {},
   "outputs": [],
   "source": [
    "y"
   ]
  },
  {
   "cell_type": "code",
   "execution_count": null,
   "id": "4a191638",
   "metadata": {},
   "outputs": [],
   "source": [
    "sc = StandardScaler()\n",
    "X_num_scaled = sc.fit_transform(X_num)\n",
    "X_num_scaled.shape"
   ]
  },
  {
   "cell_type": "code",
   "execution_count": null,
   "id": "3f7c7bb8",
   "metadata": {},
   "outputs": [],
   "source": [
    "type(X_num_scaled)"
   ]
  },
  {
   "cell_type": "code",
   "execution_count": null,
   "id": "8fdb90d8",
   "metadata": {},
   "outputs": [],
   "source": [
    "X_num_scaled_df = pd.DataFrame(X_num_scaled, columns=['46', '47', '48', '49'])\n",
    "X_num_scaled_df.head(3)"
   ]
  },
  {
   "cell_type": "code",
   "execution_count": null,
   "id": "f1509afe",
   "metadata": {},
   "outputs": [],
   "source": [
    "X_cat_df.reset_index(drop=True, inplace=True)\n",
    "X_num_scaled_df.reset_index(drop=True, inplace=True)\n",
    "X = pd.concat([X_cat_df, X_num_scaled_df], axis=1)\n",
    "X.head(3)"
   ]
  },
  {
   "cell_type": "code",
   "execution_count": null,
   "id": "e03726d9",
   "metadata": {},
   "outputs": [],
   "source": [
    "X.shape"
   ]
  },
  {
   "cell_type": "code",
   "execution_count": null,
   "id": "7d737bac",
   "metadata": {},
   "outputs": [],
   "source": [
    "X = X.values\n",
    "X"
   ]
  },
  {
   "cell_type": "code",
   "execution_count": null,
   "id": "de908011",
   "metadata": {},
   "outputs": [],
   "source": [
    "y"
   ]
  },
  {
   "cell_type": "code",
   "execution_count": null,
   "id": "3e1ec587",
   "metadata": {},
   "outputs": [],
   "source": [
    "y.shape"
   ]
  },
  {
   "cell_type": "code",
   "execution_count": null,
   "id": "d6bb9f51",
   "metadata": {},
   "outputs": [],
   "source": [
    "log_reg = LogisticRegression(solver='lbfgs', max_iter=1000)\n",
    "scores_log_reg = cross_val_score(log_reg, X, y, cv=10)\n",
    "print(f'Mean: {np.mean(scores_log_reg)}')\n",
    "print(f'Standard Deviation: {np.std(scores_log_reg)}')"
   ]
  },
  {
   "cell_type": "code",
   "execution_count": null,
   "id": "bf34967c",
   "metadata": {},
   "outputs": [],
   "source": [
    "knn = KNeighborsClassifier(n_neighbors=23)\n",
    "scores_knn = cross_val_score(knn, X, y, cv=10)\n",
    "print(f'Mean: {np.mean(scores_knn)}')\n",
    "print(f'Standard Deviation: {np.std(scores_knn)}')"
   ]
  },
  {
   "cell_type": "code",
   "execution_count": null,
   "id": "05f869ed",
   "metadata": {},
   "outputs": [],
   "source": [
    "svc = SVC(kernel='linear')\n",
    "scores_svc = cross_val_score(svc, X, y, cv=10)\n",
    "print(f'Mean: {np.mean(scores_svc)}')\n",
    "print(f'Standard Deviation: {np.std(scores_svc)}')"
   ]
  },
  {
   "cell_type": "code",
   "execution_count": null,
   "id": "c58d6c76",
   "metadata": {},
   "outputs": [],
   "source": [
    "kernel_svc = SVC(kernel='rbf')\n",
    "scores_kernel_svc = cross_val_score(kernel_svc, X, y, cv=10)\n",
    "print(f'Mean: {np.mean(scores_kernel_svc)}')\n",
    "print(f'Standard Deviation: {np.std(scores_kernel_svc)}')"
   ]
  },
  {
   "cell_type": "code",
   "execution_count": null,
   "id": "a51e7086",
   "metadata": {},
   "outputs": [],
   "source": [
    "naive_bayes = GaussianNB()\n",
    "scores_naive_bayes = cross_val_score(naive_bayes, X, y, cv=10)\n",
    "print(f'Mean: {np.mean(scores_naive_bayes)}')\n",
    "print(f'Standard Deviation: {np.std(scores_naive_bayes)}')"
   ]
  },
  {
   "cell_type": "code",
   "execution_count": null,
   "id": "4036173a",
   "metadata": {},
   "outputs": [],
   "source": [
    "dtc = DecisionTreeClassifier()\n",
    "scores_dtc = cross_val_score(dtc, X, y, cv=10)\n",
    "print(f'Mean: {np.mean(scores_dtc)}')\n",
    "print(f'Standard Deviation: {np.std(scores_dtc)}')"
   ]
  },
  {
   "cell_type": "code",
   "execution_count": null,
   "id": "71de47e4",
   "metadata": {},
   "outputs": [],
   "source": [
    "rfc = RandomForestClassifier(n_estimators=70)\n",
    "scores_rfc = cross_val_score(rfc, X, y, cv=10)\n",
    "print(f'Mean: {np.mean(scores_rfc)}')\n",
    "print(f'Standard Deviation: {np.std(scores_rfc)}')"
   ]
  }
 ],
 "metadata": {
  "kernelspec": {
   "display_name": "Python 3",
   "language": "python",
   "name": "python3"
  },
  "language_info": {
   "codemirror_mode": {
    "name": "ipython",
    "version": 3
   },
   "file_extension": ".py",
   "mimetype": "text/x-python",
   "name": "python",
   "nbconvert_exporter": "python",
   "pygments_lexer": "ipython3",
   "version": "3.9.5"
  }
 },
 "nbformat": 4,
 "nbformat_minor": 5
}
