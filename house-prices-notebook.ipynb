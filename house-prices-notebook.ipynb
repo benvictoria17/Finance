{
 "cells": [
  {
   "cell_type": "code",
   "execution_count": 1,
   "metadata": {
    "execution": {
     "iopub.execute_input": "2020-12-07T17:25:52.733922Z",
     "iopub.status.busy": "2020-12-07T17:25:52.733133Z",
     "iopub.status.idle": "2020-12-07T17:25:53.911957Z",
     "shell.execute_reply": "2020-12-07T17:25:53.911366Z"
    },
    "papermill": {
     "duration": 1.26994,
     "end_time": "2020-12-07T17:25:53.912092",
     "exception": false,
     "start_time": "2020-12-07T17:25:52.642152",
     "status": "completed"
    },
    "tags": []
   },
   "outputs": [],
   "source": [
    "import pandas as pd\n",
    "import numpy as np\n",
    "import matplotlib.pyplot as plt\n",
    "import seaborn as sns\n",
    "%matplotlib inline\n",
    "from scipy import stats\n",
    "from scipy.stats import skew \n",
    "import warnings\n",
    "from sklearn.model_selection import train_test_split\n",
    "from sklearn.linear_model import LinearRegression, Lasso\n",
    "from sklearn.linear_model import Ridge\n",
    "from sklearn.model_selection import GridSearchCV\n",
    "from sklearn.tree import DecisionTreeRegressor\n",
    "from sklearn.ensemble import RandomForestRegressor\n",
    "from mlxtend.feature_selection import SequentialFeatureSelector as sfs\n",
    "from sklearn.metrics import r2_score,mean_squared_error"
   ]
  },
  {
   "cell_type": "code",
   "execution_count": 2,
   "metadata": {
    "execution": {
     "iopub.execute_input": "2020-12-07T17:25:54.077998Z",
     "iopub.status.busy": "2020-12-07T17:25:54.077130Z",
     "iopub.status.idle": "2020-12-07T17:25:54.080016Z",
     "shell.execute_reply": "2020-12-07T17:25:54.079435Z"
    },
    "papermill": {
     "duration": 0.086718,
     "end_time": "2020-12-07T17:25:54.080118",
     "exception": false,
     "start_time": "2020-12-07T17:25:53.993400",
     "status": "completed"
    },
    "tags": []
   },
   "outputs": [],
   "source": [
    "warnings.simplefilter(action='ignore', category=FutureWarning)\n",
    "pd.set_option('display.float_format', lambda x: '%.3f' % x)"
   ]
  },
  {
   "cell_type": "code",
   "execution_count": 3,
   "metadata": {
    "execution": {
     "iopub.execute_input": "2020-12-07T17:25:54.244949Z",
     "iopub.status.busy": "2020-12-07T17:25:54.244275Z",
     "iopub.status.idle": "2020-12-07T17:25:54.317925Z",
     "shell.execute_reply": "2020-12-07T17:25:54.317266Z"
    },
    "papermill": {
     "duration": 0.158206,
     "end_time": "2020-12-07T17:25:54.318036",
     "exception": false,
     "start_time": "2020-12-07T17:25:54.159830",
     "status": "completed"
    },
    "tags": []
   },
   "outputs": [],
   "source": [
    "train = pd.read_csv('../input/house-prices-advanced-regression-techniques/train.csv')\n",
    "test = pd.read_csv('../input/house-prices-advanced-regression-techniques/test.csv')"
   ]
  },
  {
   "cell_type": "code",
   "execution_count": 4,
   "metadata": {
    "execution": {
     "iopub.execute_input": "2020-12-07T17:25:54.482728Z",
     "iopub.status.busy": "2020-12-07T17:25:54.482102Z",
     "iopub.status.idle": "2020-12-07T17:25:54.486995Z",
     "shell.execute_reply": "2020-12-07T17:25:54.486377Z"
    },
    "papermill": {
     "duration": 0.089094,
     "end_time": "2020-12-07T17:25:54.487101",
     "exception": false,
     "start_time": "2020-12-07T17:25:54.398007",
     "status": "completed"
    },
    "tags": []
   },
   "outputs": [],
   "source": [
    "description = open(\"../input/house-prices-advanced-regression-techniques/data_description.txt\", \"r\")\n"
   ]
  },
  {
   "cell_type": "code",
   "execution_count": 5,
   "metadata": {
    "execution": {
     "iopub.execute_input": "2020-12-07T17:25:54.650853Z",
     "iopub.status.busy": "2020-12-07T17:25:54.650241Z",
     "iopub.status.idle": "2020-12-07T17:25:54.658137Z",
     "shell.execute_reply": "2020-12-07T17:25:54.658945Z"
    },
    "papermill": {
     "duration": 0.092443,
     "end_time": "2020-12-07T17:25:54.659134",
     "exception": false,
     "start_time": "2020-12-07T17:25:54.566691",
     "status": "completed"
    },
    "tags": []
   },
   "outputs": [
    {
     "name": "stdout",
     "output_type": "stream",
     "text": [
      "MSSubClass: Identifies the type of dwelling involved in the sale.\t\n",
      "\n",
      "        20\t1-STORY 1946 & NEWER ALL STYLES\n",
      "        30\t1-STORY 1945 & OLDER\n",
      "        40\t1-STORY W/FINISHED ATTIC ALL AGES\n",
      "        45\t1-1/2 STORY - UNFINISHED ALL AGES\n",
      "        50\t1-1/2 STORY FINISHED ALL AGES\n",
      "        60\t2-STORY 1946 & NEWER\n",
      "        70\t2-STORY 1945 & OLDER\n",
      "        75\t2-1/2 STORY ALL AGES\n",
      "        80\tSPLIT OR MULTI-LEVEL\n",
      "        85\tSPLIT FOYER\n",
      "        90\tDUPLEX - ALL STYLES AND AGES\n",
      "       120\t1-STORY PUD (Planned Unit Development) - 1946 & NEWER\n",
      "       150\t1-1/2 STORY PUD - ALL AGES\n",
      "       160\t2-STORY PUD - 1946 & NEWER\n",
      "       180\tPUD - MULTILEVEL - INCL SPLIT LEV/FOYER\n",
      "       190\t2 FAMILY CONVERSION - ALL STYLES AND AGES\n",
      "\n",
      "MSZoning: Identifies the general zoning classification of the sale.\n",
      "\t\t\n",
      "       A\tAgriculture\n",
      "       C\tCommercial\n",
      "       FV\tFloating Village Residential\n",
      "       I\tIndustrial\n",
      "       RH\tResidential High Density\n",
      "       RL\tResidential Low Density\n",
      "       RP\tResidential Low Density Park \n",
      "       RM\tResidential Medium Density\n",
      "\t\n",
      "LotFrontage: Linear feet of street connected to property\n",
      "\n",
      "LotArea: Lot size in square feet\n",
      "\n",
      "Street: Type of road access to property\n",
      "\n",
      "       Grvl\tGravel\t\n",
      "       Pave\tPaved\n",
      "       \t\n",
      "Alley: Type of alley access to property\n",
      "\n",
      "       Grvl\tGravel\n",
      "       Pave\tPaved\n",
      "       NA \tNo alley access\n",
      "\t\t\n",
      "LotShape: General shape of property\n",
      "\n",
      "       Reg\tRegular\t\n",
      "       IR1\tSlightly irregular\n",
      "       IR2\tModerately Irregular\n",
      "       IR3\tIrregular\n",
      "       \n",
      "LandContour: Flatness of the property\n",
      "\n",
      "       Lvl\tNear Flat/Level\t\n",
      "       Bnk\tBanked - Quick and significant rise from street grade to building\n",
      "       HLS\tHillside - Significant slope from side to side\n",
      "       Low\tDepression\n",
      "\t\t\n",
      "Utilities: Type of utilities available\n",
      "\t\t\n",
      "       AllPub\tAll public Utilities (E,G,W,& S)\t\n",
      "       NoSewr\tElectricity, Gas, and Water (Septic Tank)\n",
      "       NoSeWa\tElectricity and Gas Only\n",
      "       ELO\tElectricity only\t\n",
      "\t\n",
      "LotConfig: Lot configuration\n",
      "\n",
      "       Inside\tInside lot\n",
      "       Corner\tCorner lot\n",
      "       CulDSac\tCul-de-sac\n",
      "       FR2\tFrontage on 2 sides of property\n",
      "       FR3\tFrontage on 3 sides of property\n",
      "\t\n",
      "LandSlope: Slope of property\n",
      "\t\t\n",
      "       Gtl\tGentle slope\n",
      "       Mod\tModerate Slope\t\n",
      "       Sev\tSevere Slope\n",
      "\t\n",
      "Neighborhood: Physical locations within Ames city limits\n",
      "\n",
      "       Blmngtn\tBloomington Heights\n",
      "       Blueste\tBluestem\n",
      "       BrDale\tBriardale\n",
      "       BrkSide\tBrookside\n",
      "       ClearCr\tClear Creek\n",
      "       CollgCr\tCollege Creek\n",
      "       Crawfor\tCrawford\n",
      "       Edwards\tEdwards\n",
      "       Gilbert\tGilbert\n",
      "       IDOTRR\tIowa DOT and Rail Road\n",
      "       MeadowV\tMeadow Village\n",
      "       Mitchel\tMitchell\n",
      "       Names\tNorth Ames\n",
      "       NoRidge\tNorthridge\n",
      "       NPkVill\tNorthpark Villa\n",
      "       NridgHt\tNorthridge Heights\n",
      "       NWAmes\tNorthwest Ames\n",
      "       OldTown\tOld Town\n",
      "       SWISU\tSouth & West of Iowa State University\n",
      "       Sawyer\tSawyer\n",
      "       SawyerW\tSawyer West\n",
      "       Somerst\tSomerset\n",
      "       StoneBr\tStone Brook\n",
      "       Timber\tTimberland\n",
      "       Veenker\tVeenker\n",
      "\t\t\t\n",
      "Condition1: Proximity to various conditions\n",
      "\t\n",
      "       Artery\tAdjacent to arterial street\n",
      "       Feedr\tAdjacent to feeder street\t\n",
      "       Norm\tNormal\t\n",
      "       RRNn\tWithin 200' of North-South Railroad\n",
      "       RRAn\tAdjacent to North-South Railroad\n",
      "       PosN\tNear positive off-site feature--park, greenbelt, etc.\n",
      "       PosA\tAdjacent to postive off-site feature\n",
      "       RRNe\tWithin 200' of East-West Railroad\n",
      "       RRAe\tAdjacent to East-West Railroad\n",
      "\t\n",
      "Condition2: Proximity to various conditions (if more than one is present)\n",
      "\t\t\n",
      "       Artery\tAdjacent to arterial street\n",
      "       Feedr\tAdjacent to feeder street\t\n",
      "       Norm\tNormal\t\n",
      "       RRNn\tWithin 200' of North-South Railroad\n",
      "       RRAn\tAdjacent to North-South Railroad\n",
      "       PosN\tNear positive off-site feature--park, greenbelt, etc.\n",
      "       PosA\tAdjacent to postive off-site feature\n",
      "       RRNe\tWithin 200' of East-West Railroad\n",
      "       RRAe\tAdjacent to East-West Railroad\n",
      "\t\n",
      "BldgType: Type of dwelling\n",
      "\t\t\n",
      "       1Fam\tSingle-family Detached\t\n",
      "       2FmCon\tTwo-family Conversion; originally built as one-family dwelling\n",
      "       Duplx\tDuplex\n",
      "       TwnhsE\tTownhouse End Unit\n",
      "       TwnhsI\tTownhouse Inside Unit\n",
      "\t\n",
      "HouseStyle: Style of dwelling\n",
      "\t\n",
      "       1Story\tOne story\n",
      "       1.5Fin\tOne and one-half story: 2nd level finished\n",
      "       1.5Unf\tOne and one-half story: 2nd level unfinished\n",
      "       2Story\tTwo story\n",
      "       2.5Fin\tTwo and one-half story: 2nd level finished\n",
      "       2.5Unf\tTwo and one-half story: 2nd level unfinished\n",
      "       SFoyer\tSplit Foyer\n",
      "       SLvl\tSplit Level\n",
      "\t\n",
      "OverallQual: Rates the overall material and finish of the house\n",
      "\n",
      "       10\tVery Excellent\n",
      "       9\tExcellent\n",
      "       8\tVery Good\n",
      "       7\tGood\n",
      "       6\tAbove Average\n",
      "       5\tAverage\n",
      "       4\tBelow Average\n",
      "       3\tFair\n",
      "       2\tPoor\n",
      "       1\tVery Poor\n",
      "\t\n",
      "OverallCond: Rates the overall condition of the house\n",
      "\n",
      "       10\tVery Excellent\n",
      "       9\tExcellent\n",
      "       8\tVery Good\n",
      "       7\tGood\n",
      "       6\tAbove Average\t\n",
      "       5\tAverage\n",
      "       4\tBelow Average\t\n",
      "       3\tFair\n",
      "       2\tPoor\n",
      "       1\tVery Poor\n",
      "\t\t\n",
      "YearBuilt: Original construction date\n",
      "\n",
      "YearRemodAdd: Remodel date (same as construction date if no remodeling or additions)\n",
      "\n",
      "RoofStyle: Type of roof\n",
      "\n",
      "       Flat\tFlat\n",
      "       Gable\tGable\n",
      "       Gambrel\tGabrel (Barn)\n",
      "       Hip\tHip\n",
      "       Mansard\tMansard\n",
      "       Shed\tShed\n",
      "\t\t\n",
      "RoofMatl: Roof material\n",
      "\n",
      "       ClyTile\tClay or Tile\n",
      "       CompShg\tStandard (Composite) Shingle\n",
      "       Membran\tMembrane\n",
      "       Metal\tMetal\n",
      "       Roll\tRoll\n",
      "       Tar&Grv\tGravel & Tar\n",
      "       WdShake\tWood Shakes\n",
      "       WdShngl\tWood Shingles\n",
      "\t\t\n",
      "Exterior1st: Exterior covering on house\n",
      "\n",
      "       AsbShng\tAsbestos Shingles\n",
      "       AsphShn\tAsphalt Shingles\n",
      "       BrkComm\tBrick Common\n",
      "       BrkFace\tBrick Face\n",
      "       CBlock\tCinder Block\n",
      "       CemntBd\tCement Board\n",
      "       HdBoard\tHard Board\n",
      "       ImStucc\tImitation Stucco\n",
      "       MetalSd\tMetal Siding\n",
      "       Other\tOther\n",
      "       Plywood\tPlywood\n",
      "       PreCast\tPreCast\t\n",
      "       Stone\tStone\n",
      "       Stucco\tStucco\n",
      "       VinylSd\tVinyl Siding\n",
      "       Wd Sdng\tWood Siding\n",
      "       WdShing\tWood Shingles\n",
      "\t\n",
      "Exterior2nd: Exterior covering on house (if more than one material)\n",
      "\n",
      "       AsbShng\tAsbestos Shingles\n",
      "       AsphShn\tAsphalt Shingles\n",
      "       BrkComm\tBrick Common\n",
      "       BrkFace\tBrick Face\n",
      "       CBlock\tCinder Block\n",
      "       CemntBd\tCement Board\n",
      "       HdBoard\tHard Board\n",
      "       ImStucc\tImitation Stucco\n",
      "       MetalSd\tMetal Siding\n",
      "       Other\tOther\n",
      "       Plywood\tPlywood\n",
      "       PreCast\tPreCast\n",
      "       Stone\tStone\n",
      "       Stucco\tStucco\n",
      "       VinylSd\tVinyl Siding\n",
      "       Wd Sdng\tWood Siding\n",
      "       WdShing\tWood Shingles\n",
      "\t\n",
      "MasVnrType: Masonry veneer type\n",
      "\n",
      "       BrkCmn\tBrick Common\n",
      "       BrkFace\tBrick Face\n",
      "       CBlock\tCinder Block\n",
      "       None\tNone\n",
      "       Stone\tStone\n",
      "\t\n",
      "MasVnrArea: Masonry veneer area in square feet\n",
      "\n",
      "ExterQual: Evaluates the quality of the material on the exterior \n",
      "\t\t\n",
      "       Ex\tExcellent\n",
      "       Gd\tGood\n",
      "       TA\tAverage/Typical\n",
      "       Fa\tFair\n",
      "       Po\tPoor\n",
      "\t\t\n",
      "ExterCond: Evaluates the present condition of the material on the exterior\n",
      "\t\t\n",
      "       Ex\tExcellent\n",
      "       Gd\tGood\n",
      "       TA\tAverage/Typical\n",
      "       Fa\tFair\n",
      "       Po\tPoor\n",
      "\t\t\n",
      "Foundation: Type of foundation\n",
      "\t\t\n",
      "       BrkTil\tBrick & Tile\n",
      "       CBlock\tCinder Block\n",
      "       PConc\tPoured Contrete\t\n",
      "       Slab\tSlab\n",
      "       Stone\tStone\n",
      "       Wood\tWood\n",
      "\t\t\n",
      "BsmtQual: Evaluates the height of the basement\n",
      "\n",
      "       Ex\tExcellent (100+ inches)\t\n",
      "       Gd\tGood (90-99 inches)\n",
      "       TA\tTypical (80-89 inches)\n",
      "       Fa\tFair (70-79 inches)\n",
      "       Po\tPoor (<70 inches\n",
      "       NA\tNo Basement\n",
      "\t\t\n",
      "BsmtCond: Evaluates the general condition of the basement\n",
      "\n",
      "       Ex\tExcellent\n",
      "       Gd\tGood\n",
      "       TA\tTypical - slight dampness allowed\n",
      "       Fa\tFair - dampness or some cracking or settling\n",
      "       Po\tPoor - Severe cracking, settling, or wetness\n",
      "       NA\tNo Basement\n",
      "\t\n",
      "BsmtExposure: Refers to walkout or garden level walls\n",
      "\n",
      "       Gd\tGood Exposure\n",
      "       Av\tAverage Exposure (split levels or foyers typically score average or above)\t\n",
      "       Mn\tMimimum Exposure\n",
      "       No\tNo Exposure\n",
      "       NA\tNo Basement\n",
      "\t\n",
      "BsmtFinType1: Rating of basement finished area\n",
      "\n",
      "       GLQ\tGood Living Quarters\n",
      "       ALQ\tAverage Living Quarters\n",
      "       BLQ\tBelow Average Living Quarters\t\n",
      "       Rec\tAverage Rec Room\n",
      "       LwQ\tLow Quality\n",
      "       Unf\tUnfinshed\n",
      "       NA\tNo Basement\n",
      "\t\t\n",
      "BsmtFinSF1: Type 1 finished square feet\n",
      "\n",
      "BsmtFinType2: Rating of basement finished area (if multiple types)\n",
      "\n",
      "       GLQ\tGood Living Quarters\n",
      "       ALQ\tAverage Living Quarters\n",
      "       BLQ\tBelow Average Living Quarters\t\n",
      "       Rec\tAverage Rec Room\n",
      "       LwQ\tLow Quality\n",
      "       Unf\tUnfinshed\n",
      "       NA\tNo Basement\n",
      "\n",
      "BsmtFinSF2: Type 2 finished square feet\n",
      "\n",
      "BsmtUnfSF: Unfinished square feet of basement area\n",
      "\n",
      "TotalBsmtSF: Total square feet of basement area\n",
      "\n",
      "Heating: Type of heating\n",
      "\t\t\n",
      "       Floor\tFloor Furnace\n",
      "       GasA\tGas forced warm air furnace\n",
      "       GasW\tGas hot water or steam heat\n",
      "       Grav\tGravity furnace\t\n",
      "       OthW\tHot water or steam heat other than gas\n",
      "       Wall\tWall furnace\n",
      "\t\t\n",
      "HeatingQC: Heating quality and condition\n",
      "\n",
      "       Ex\tExcellent\n",
      "       Gd\tGood\n",
      "       TA\tAverage/Typical\n",
      "       Fa\tFair\n",
      "       Po\tPoor\n",
      "\t\t\n",
      "CentralAir: Central air conditioning\n",
      "\n",
      "       N\tNo\n",
      "       Y\tYes\n",
      "\t\t\n",
      "Electrical: Electrical system\n",
      "\n",
      "       SBrkr\tStandard Circuit Breakers & Romex\n",
      "       FuseA\tFuse Box over 60 AMP and all Romex wiring (Average)\t\n",
      "       FuseF\t60 AMP Fuse Box and mostly Romex wiring (Fair)\n",
      "       FuseP\t60 AMP Fuse Box and mostly knob & tube wiring (poor)\n",
      "       Mix\tMixed\n",
      "\t\t\n",
      "1stFlrSF: First Floor square feet\n",
      " \n",
      "2ndFlrSF: Second floor square feet\n",
      "\n",
      "LowQualFinSF: Low quality finished square feet (all floors)\n",
      "\n",
      "GrLivArea: Above grade (ground) living area square feet\n",
      "\n",
      "BsmtFullBath: Basement full bathrooms\n",
      "\n",
      "BsmtHalfBath: Basement half bathrooms\n",
      "\n",
      "FullBath: Full bathrooms above grade\n",
      "\n",
      "HalfBath: Half baths above grade\n",
      "\n",
      "Bedroom: Bedrooms above grade (does NOT include basement bedrooms)\n",
      "\n",
      "Kitchen: Kitchens above grade\n",
      "\n",
      "KitchenQual: Kitchen quality\n",
      "\n",
      "       Ex\tExcellent\n",
      "       Gd\tGood\n",
      "       TA\tTypical/Average\n",
      "       Fa\tFair\n",
      "       Po\tPoor\n",
      "       \t\n",
      "TotRmsAbvGrd: Total rooms above grade (does not include bathrooms)\n",
      "\n",
      "Functional: Home functionality (Assume typical unless deductions are warranted)\n",
      "\n",
      "       Typ\tTypical Functionality\n",
      "       Min1\tMinor Deductions 1\n",
      "       Min2\tMinor Deductions 2\n",
      "       Mod\tModerate Deductions\n",
      "       Maj1\tMajor Deductions 1\n",
      "       Maj2\tMajor Deductions 2\n",
      "       Sev\tSeverely Damaged\n",
      "       Sal\tSalvage only\n",
      "\t\t\n",
      "Fireplaces: Number of fireplaces\n",
      "\n",
      "FireplaceQu: Fireplace quality\n",
      "\n",
      "       Ex\tExcellent - Exceptional Masonry Fireplace\n",
      "       Gd\tGood - Masonry Fireplace in main level\n",
      "       TA\tAverage - Prefabricated Fireplace in main living area or Masonry Fireplace in basement\n",
      "       Fa\tFair - Prefabricated Fireplace in basement\n",
      "       Po\tPoor - Ben Franklin Stove\n",
      "       NA\tNo Fireplace\n",
      "\t\t\n",
      "GarageType: Garage location\n",
      "\t\t\n",
      "       2Types\tMore than one type of garage\n",
      "       Attchd\tAttached to home\n",
      "       Basment\tBasement Garage\n",
      "       BuiltIn\tBuilt-In (Garage part of house - typically has room above garage)\n",
      "       CarPort\tCar Port\n",
      "       Detchd\tDetached from home\n",
      "       NA\tNo Garage\n",
      "\t\t\n",
      "GarageYrBlt: Year garage was built\n",
      "\t\t\n",
      "GarageFinish: Interior finish of the garage\n",
      "\n",
      "       Fin\tFinished\n",
      "       RFn\tRough Finished\t\n",
      "       Unf\tUnfinished\n",
      "       NA\tNo Garage\n",
      "\t\t\n",
      "GarageCars: Size of garage in car capacity\n",
      "\n",
      "GarageArea: Size of garage in square feet\n",
      "\n",
      "GarageQual: Garage quality\n",
      "\n",
      "       Ex\tExcellent\n",
      "       Gd\tGood\n",
      "       TA\tTypical/Average\n",
      "       Fa\tFair\n",
      "       Po\tPoor\n",
      "       NA\tNo Garage\n",
      "\t\t\n",
      "GarageCond: Garage condition\n",
      "\n",
      "       Ex\tExcellent\n",
      "       Gd\tGood\n",
      "       TA\tTypical/Average\n",
      "       Fa\tFair\n",
      "       Po\tPoor\n",
      "       NA\tNo Garage\n",
      "\t\t\n",
      "PavedDrive: Paved driveway\n",
      "\n",
      "       Y\tPaved \n",
      "       P\tPartial Pavement\n",
      "       N\tDirt/Gravel\n",
      "\t\t\n",
      "WoodDeckSF: Wood deck area in square feet\n",
      "\n",
      "OpenPorchSF: Open porch area in square feet\n",
      "\n",
      "EnclosedPorch: Enclosed porch area in square feet\n",
      "\n",
      "3SsnPorch: Three season porch area in square feet\n",
      "\n",
      "ScreenPorch: Screen porch area in square feet\n",
      "\n",
      "PoolArea: Pool area in square feet\n",
      "\n",
      "PoolQC: Pool quality\n",
      "\t\t\n",
      "       Ex\tExcellent\n",
      "       Gd\tGood\n",
      "       TA\tAverage/Typical\n",
      "       Fa\tFair\n",
      "       NA\tNo Pool\n",
      "\t\t\n",
      "Fence: Fence quality\n",
      "\t\t\n",
      "       GdPrv\tGood Privacy\n",
      "       MnPrv\tMinimum Privacy\n",
      "       GdWo\tGood Wood\n",
      "       MnWw\tMinimum Wood/Wire\n",
      "       NA\tNo Fence\n",
      "\t\n",
      "MiscFeature: Miscellaneous feature not covered in other categories\n",
      "\t\t\n",
      "       Elev\tElevator\n",
      "       Gar2\t2nd Garage (if not described in garage section)\n",
      "       Othr\tOther\n",
      "       Shed\tShed (over 100 SF)\n",
      "       TenC\tTennis Court\n",
      "       NA\tNone\n",
      "\t\t\n",
      "MiscVal: $Value of miscellaneous feature\n",
      "\n",
      "MoSold: Month Sold (MM)\n",
      "\n",
      "YrSold: Year Sold (YYYY)\n",
      "\n",
      "SaleType: Type of sale\n",
      "\t\t\n",
      "       WD \tWarranty Deed - Conventional\n",
      "       CWD\tWarranty Deed - Cash\n",
      "       VWD\tWarranty Deed - VA Loan\n",
      "       New\tHome just constructed and sold\n",
      "       COD\tCourt Officer Deed/Estate\n",
      "       Con\tContract 15% Down payment regular terms\n",
      "       ConLw\tContract Low Down payment and low interest\n",
      "       ConLI\tContract Low Interest\n",
      "       ConLD\tContract Low Down\n",
      "       Oth\tOther\n",
      "\t\t\n",
      "SaleCondition: Condition of sale\n",
      "\n",
      "       Normal\tNormal Sale\n",
      "       Abnorml\tAbnormal Sale -  trade, foreclosure, short sale\n",
      "       AdjLand\tAdjoining Land Purchase\n",
      "       Alloca\tAllocation - two linked properties with separate deeds, typically condo with a garage unit\t\n",
      "       Family\tSale between family members\n",
      "       Partial\tHome was not completed when last assessed (associated with New Homes)\n",
      "\n"
     ]
    }
   ],
   "source": [
    "print(description.read())"
   ]
  },
  {
   "cell_type": "code",
   "execution_count": 6,
   "metadata": {
    "execution": {
     "iopub.execute_input": "2020-12-07T17:25:54.835647Z",
     "iopub.status.busy": "2020-12-07T17:25:54.834913Z",
     "iopub.status.idle": "2020-12-07T17:25:54.855735Z",
     "shell.execute_reply": "2020-12-07T17:25:54.856461Z"
    },
    "papermill": {
     "duration": 0.114377,
     "end_time": "2020-12-07T17:25:54.856659",
     "exception": false,
     "start_time": "2020-12-07T17:25:54.742282",
     "status": "completed"
    },
    "tags": []
   },
   "outputs": [
    {
     "name": "stdout",
     "output_type": "stream",
     "text": [
      "<class 'pandas.core.frame.DataFrame'>\n",
      "RangeIndex: 1460 entries, 0 to 1459\n",
      "Data columns (total 81 columns):\n",
      " #   Column         Non-Null Count  Dtype  \n",
      "---  ------         --------------  -----  \n",
      " 0   Id             1460 non-null   int64  \n",
      " 1   MSSubClass     1460 non-null   int64  \n",
      " 2   MSZoning       1460 non-null   object \n",
      " 3   LotFrontage    1201 non-null   float64\n",
      " 4   LotArea        1460 non-null   int64  \n",
      " 5   Street         1460 non-null   object \n",
      " 6   Alley          91 non-null     object \n",
      " 7   LotShape       1460 non-null   object \n",
      " 8   LandContour    1460 non-null   object \n",
      " 9   Utilities      1460 non-null   object \n",
      " 10  LotConfig      1460 non-null   object \n",
      " 11  LandSlope      1460 non-null   object \n",
      " 12  Neighborhood   1460 non-null   object \n",
      " 13  Condition1     1460 non-null   object \n",
      " 14  Condition2     1460 non-null   object \n",
      " 15  BldgType       1460 non-null   object \n",
      " 16  HouseStyle     1460 non-null   object \n",
      " 17  OverallQual    1460 non-null   int64  \n",
      " 18  OverallCond    1460 non-null   int64  \n",
      " 19  YearBuilt      1460 non-null   int64  \n",
      " 20  YearRemodAdd   1460 non-null   int64  \n",
      " 21  RoofStyle      1460 non-null   object \n",
      " 22  RoofMatl       1460 non-null   object \n",
      " 23  Exterior1st    1460 non-null   object \n",
      " 24  Exterior2nd    1460 non-null   object \n",
      " 25  MasVnrType     1452 non-null   object \n",
      " 26  MasVnrArea     1452 non-null   float64\n",
      " 27  ExterQual      1460 non-null   object \n",
      " 28  ExterCond      1460 non-null   object \n",
      " 29  Foundation     1460 non-null   object \n",
      " 30  BsmtQual       1423 non-null   object \n",
      " 31  BsmtCond       1423 non-null   object \n",
      " 32  BsmtExposure   1422 non-null   object \n",
      " 33  BsmtFinType1   1423 non-null   object \n",
      " 34  BsmtFinSF1     1460 non-null   int64  \n",
      " 35  BsmtFinType2   1422 non-null   object \n",
      " 36  BsmtFinSF2     1460 non-null   int64  \n",
      " 37  BsmtUnfSF      1460 non-null   int64  \n",
      " 38  TotalBsmtSF    1460 non-null   int64  \n",
      " 39  Heating        1460 non-null   object \n",
      " 40  HeatingQC      1460 non-null   object \n",
      " 41  CentralAir     1460 non-null   object \n",
      " 42  Electrical     1459 non-null   object \n",
      " 43  1stFlrSF       1460 non-null   int64  \n",
      " 44  2ndFlrSF       1460 non-null   int64  \n",
      " 45  LowQualFinSF   1460 non-null   int64  \n",
      " 46  GrLivArea      1460 non-null   int64  \n",
      " 47  BsmtFullBath   1460 non-null   int64  \n",
      " 48  BsmtHalfBath   1460 non-null   int64  \n",
      " 49  FullBath       1460 non-null   int64  \n",
      " 50  HalfBath       1460 non-null   int64  \n",
      " 51  BedroomAbvGr   1460 non-null   int64  \n",
      " 52  KitchenAbvGr   1460 non-null   int64  \n",
      " 53  KitchenQual    1460 non-null   object \n",
      " 54  TotRmsAbvGrd   1460 non-null   int64  \n",
      " 55  Functional     1460 non-null   object \n",
      " 56  Fireplaces     1460 non-null   int64  \n",
      " 57  FireplaceQu    770 non-null    object \n",
      " 58  GarageType     1379 non-null   object \n",
      " 59  GarageYrBlt    1379 non-null   float64\n",
      " 60  GarageFinish   1379 non-null   object \n",
      " 61  GarageCars     1460 non-null   int64  \n",
      " 62  GarageArea     1460 non-null   int64  \n",
      " 63  GarageQual     1379 non-null   object \n",
      " 64  GarageCond     1379 non-null   object \n",
      " 65  PavedDrive     1460 non-null   object \n",
      " 66  WoodDeckSF     1460 non-null   int64  \n",
      " 67  OpenPorchSF    1460 non-null   int64  \n",
      " 68  EnclosedPorch  1460 non-null   int64  \n",
      " 69  3SsnPorch      1460 non-null   int64  \n",
      " 70  ScreenPorch    1460 non-null   int64  \n",
      " 71  PoolArea       1460 non-null   int64  \n",
      " 72  PoolQC         7 non-null      object \n",
      " 73  Fence          281 non-null    object \n",
      " 74  MiscFeature    54 non-null     object \n",
      " 75  MiscVal        1460 non-null   int64  \n",
      " 76  MoSold         1460 non-null   int64  \n",
      " 77  YrSold         1460 non-null   int64  \n",
      " 78  SaleType       1460 non-null   object \n",
      " 79  SaleCondition  1460 non-null   object \n",
      " 80  SalePrice      1460 non-null   int64  \n",
      "dtypes: float64(3), int64(35), object(43)\n",
      "memory usage: 924.0+ KB\n"
     ]
    }
   ],
   "source": [
    "train.info()"
   ]
  },
  {
   "cell_type": "code",
   "execution_count": 7,
   "metadata": {
    "execution": {
     "iopub.execute_input": "2020-12-07T17:25:55.084271Z",
     "iopub.status.busy": "2020-12-07T17:25:55.074871Z",
     "iopub.status.idle": "2020-12-07T17:25:55.098491Z",
     "shell.execute_reply": "2020-12-07T17:25:55.097954Z"
    },
    "papermill": {
     "duration": 0.15863,
     "end_time": "2020-12-07T17:25:55.098608",
     "exception": false,
     "start_time": "2020-12-07T17:25:54.939978",
     "status": "completed"
    },
    "tags": []
   },
   "outputs": [
    {
     "data": {
      "text/html": [
       "<div>\n",
       "<style scoped>\n",
       "    .dataframe tbody tr th:only-of-type {\n",
       "        vertical-align: middle;\n",
       "    }\n",
       "\n",
       "    .dataframe tbody tr th {\n",
       "        vertical-align: top;\n",
       "    }\n",
       "\n",
       "    .dataframe thead th {\n",
       "        text-align: right;\n",
       "    }\n",
       "</style>\n",
       "<table border=\"1\" class=\"dataframe\">\n",
       "  <thead>\n",
       "    <tr style=\"text-align: right;\">\n",
       "      <th></th>\n",
       "      <th>Id</th>\n",
       "      <th>MSSubClass</th>\n",
       "      <th>MSZoning</th>\n",
       "      <th>LotFrontage</th>\n",
       "      <th>LotArea</th>\n",
       "      <th>Street</th>\n",
       "      <th>Alley</th>\n",
       "      <th>LotShape</th>\n",
       "      <th>LandContour</th>\n",
       "      <th>Utilities</th>\n",
       "      <th>...</th>\n",
       "      <th>PoolArea</th>\n",
       "      <th>PoolQC</th>\n",
       "      <th>Fence</th>\n",
       "      <th>MiscFeature</th>\n",
       "      <th>MiscVal</th>\n",
       "      <th>MoSold</th>\n",
       "      <th>YrSold</th>\n",
       "      <th>SaleType</th>\n",
       "      <th>SaleCondition</th>\n",
       "      <th>SalePrice</th>\n",
       "    </tr>\n",
       "  </thead>\n",
       "  <tbody>\n",
       "    <tr>\n",
       "      <th>0</th>\n",
       "      <td>1</td>\n",
       "      <td>60</td>\n",
       "      <td>RL</td>\n",
       "      <td>65.000</td>\n",
       "      <td>8450</td>\n",
       "      <td>Pave</td>\n",
       "      <td>NaN</td>\n",
       "      <td>Reg</td>\n",
       "      <td>Lvl</td>\n",
       "      <td>AllPub</td>\n",
       "      <td>...</td>\n",
       "      <td>0</td>\n",
       "      <td>NaN</td>\n",
       "      <td>NaN</td>\n",
       "      <td>NaN</td>\n",
       "      <td>0</td>\n",
       "      <td>2</td>\n",
       "      <td>2008</td>\n",
       "      <td>WD</td>\n",
       "      <td>Normal</td>\n",
       "      <td>208500</td>\n",
       "    </tr>\n",
       "    <tr>\n",
       "      <th>1</th>\n",
       "      <td>2</td>\n",
       "      <td>20</td>\n",
       "      <td>RL</td>\n",
       "      <td>80.000</td>\n",
       "      <td>9600</td>\n",
       "      <td>Pave</td>\n",
       "      <td>NaN</td>\n",
       "      <td>Reg</td>\n",
       "      <td>Lvl</td>\n",
       "      <td>AllPub</td>\n",
       "      <td>...</td>\n",
       "      <td>0</td>\n",
       "      <td>NaN</td>\n",
       "      <td>NaN</td>\n",
       "      <td>NaN</td>\n",
       "      <td>0</td>\n",
       "      <td>5</td>\n",
       "      <td>2007</td>\n",
       "      <td>WD</td>\n",
       "      <td>Normal</td>\n",
       "      <td>181500</td>\n",
       "    </tr>\n",
       "    <tr>\n",
       "      <th>2</th>\n",
       "      <td>3</td>\n",
       "      <td>60</td>\n",
       "      <td>RL</td>\n",
       "      <td>68.000</td>\n",
       "      <td>11250</td>\n",
       "      <td>Pave</td>\n",
       "      <td>NaN</td>\n",
       "      <td>IR1</td>\n",
       "      <td>Lvl</td>\n",
       "      <td>AllPub</td>\n",
       "      <td>...</td>\n",
       "      <td>0</td>\n",
       "      <td>NaN</td>\n",
       "      <td>NaN</td>\n",
       "      <td>NaN</td>\n",
       "      <td>0</td>\n",
       "      <td>9</td>\n",
       "      <td>2008</td>\n",
       "      <td>WD</td>\n",
       "      <td>Normal</td>\n",
       "      <td>223500</td>\n",
       "    </tr>\n",
       "    <tr>\n",
       "      <th>3</th>\n",
       "      <td>4</td>\n",
       "      <td>70</td>\n",
       "      <td>RL</td>\n",
       "      <td>60.000</td>\n",
       "      <td>9550</td>\n",
       "      <td>Pave</td>\n",
       "      <td>NaN</td>\n",
       "      <td>IR1</td>\n",
       "      <td>Lvl</td>\n",
       "      <td>AllPub</td>\n",
       "      <td>...</td>\n",
       "      <td>0</td>\n",
       "      <td>NaN</td>\n",
       "      <td>NaN</td>\n",
       "      <td>NaN</td>\n",
       "      <td>0</td>\n",
       "      <td>2</td>\n",
       "      <td>2006</td>\n",
       "      <td>WD</td>\n",
       "      <td>Abnorml</td>\n",
       "      <td>140000</td>\n",
       "    </tr>\n",
       "    <tr>\n",
       "      <th>4</th>\n",
       "      <td>5</td>\n",
       "      <td>60</td>\n",
       "      <td>RL</td>\n",
       "      <td>84.000</td>\n",
       "      <td>14260</td>\n",
       "      <td>Pave</td>\n",
       "      <td>NaN</td>\n",
       "      <td>IR1</td>\n",
       "      <td>Lvl</td>\n",
       "      <td>AllPub</td>\n",
       "      <td>...</td>\n",
       "      <td>0</td>\n",
       "      <td>NaN</td>\n",
       "      <td>NaN</td>\n",
       "      <td>NaN</td>\n",
       "      <td>0</td>\n",
       "      <td>12</td>\n",
       "      <td>2008</td>\n",
       "      <td>WD</td>\n",
       "      <td>Normal</td>\n",
       "      <td>250000</td>\n",
       "    </tr>\n",
       "  </tbody>\n",
       "</table>\n",
       "<p>5 rows × 81 columns</p>\n",
       "</div>"
      ],
      "text/plain": [
       "   Id  MSSubClass MSZoning  LotFrontage  LotArea Street Alley LotShape  \\\n",
       "0   1          60       RL       65.000     8450   Pave   NaN      Reg   \n",
       "1   2          20       RL       80.000     9600   Pave   NaN      Reg   \n",
       "2   3          60       RL       68.000    11250   Pave   NaN      IR1   \n",
       "3   4          70       RL       60.000     9550   Pave   NaN      IR1   \n",
       "4   5          60       RL       84.000    14260   Pave   NaN      IR1   \n",
       "\n",
       "  LandContour Utilities  ... PoolArea PoolQC Fence MiscFeature MiscVal MoSold  \\\n",
       "0         Lvl    AllPub  ...        0    NaN   NaN         NaN       0      2   \n",
       "1         Lvl    AllPub  ...        0    NaN   NaN         NaN       0      5   \n",
       "2         Lvl    AllPub  ...        0    NaN   NaN         NaN       0      9   \n",
       "3         Lvl    AllPub  ...        0    NaN   NaN         NaN       0      2   \n",
       "4         Lvl    AllPub  ...        0    NaN   NaN         NaN       0     12   \n",
       "\n",
       "  YrSold  SaleType  SaleCondition  SalePrice  \n",
       "0   2008        WD         Normal     208500  \n",
       "1   2007        WD         Normal     181500  \n",
       "2   2008        WD         Normal     223500  \n",
       "3   2006        WD        Abnorml     140000  \n",
       "4   2008        WD         Normal     250000  \n",
       "\n",
       "[5 rows x 81 columns]"
      ]
     },
     "execution_count": 7,
     "metadata": {},
     "output_type": "execute_result"
    }
   ],
   "source": [
    "train.head()"
   ]
  },
  {
   "cell_type": "code",
   "execution_count": 8,
   "metadata": {
    "execution": {
     "iopub.execute_input": "2020-12-07T17:25:55.274887Z",
     "iopub.status.busy": "2020-12-07T17:25:55.273991Z",
     "iopub.status.idle": "2020-12-07T17:25:55.361215Z",
     "shell.execute_reply": "2020-12-07T17:25:55.360662Z"
    },
    "papermill": {
     "duration": 0.17887,
     "end_time": "2020-12-07T17:25:55.361342",
     "exception": false,
     "start_time": "2020-12-07T17:25:55.182472",
     "status": "completed"
    },
    "tags": []
   },
   "outputs": [
    {
     "data": {
      "text/html": [
       "<div>\n",
       "<style scoped>\n",
       "    .dataframe tbody tr th:only-of-type {\n",
       "        vertical-align: middle;\n",
       "    }\n",
       "\n",
       "    .dataframe tbody tr th {\n",
       "        vertical-align: top;\n",
       "    }\n",
       "\n",
       "    .dataframe thead th {\n",
       "        text-align: right;\n",
       "    }\n",
       "</style>\n",
       "<table border=\"1\" class=\"dataframe\">\n",
       "  <thead>\n",
       "    <tr style=\"text-align: right;\">\n",
       "      <th></th>\n",
       "      <th>Id</th>\n",
       "      <th>MSSubClass</th>\n",
       "      <th>LotFrontage</th>\n",
       "      <th>LotArea</th>\n",
       "      <th>OverallQual</th>\n",
       "      <th>OverallCond</th>\n",
       "      <th>YearBuilt</th>\n",
       "      <th>YearRemodAdd</th>\n",
       "      <th>MasVnrArea</th>\n",
       "      <th>BsmtFinSF1</th>\n",
       "      <th>...</th>\n",
       "      <th>WoodDeckSF</th>\n",
       "      <th>OpenPorchSF</th>\n",
       "      <th>EnclosedPorch</th>\n",
       "      <th>3SsnPorch</th>\n",
       "      <th>ScreenPorch</th>\n",
       "      <th>PoolArea</th>\n",
       "      <th>MiscVal</th>\n",
       "      <th>MoSold</th>\n",
       "      <th>YrSold</th>\n",
       "      <th>SalePrice</th>\n",
       "    </tr>\n",
       "  </thead>\n",
       "  <tbody>\n",
       "    <tr>\n",
       "      <th>count</th>\n",
       "      <td>1460.000</td>\n",
       "      <td>1460.000</td>\n",
       "      <td>1201.000</td>\n",
       "      <td>1460.000</td>\n",
       "      <td>1460.000</td>\n",
       "      <td>1460.000</td>\n",
       "      <td>1460.000</td>\n",
       "      <td>1460.000</td>\n",
       "      <td>1452.000</td>\n",
       "      <td>1460.000</td>\n",
       "      <td>...</td>\n",
       "      <td>1460.000</td>\n",
       "      <td>1460.000</td>\n",
       "      <td>1460.000</td>\n",
       "      <td>1460.000</td>\n",
       "      <td>1460.000</td>\n",
       "      <td>1460.000</td>\n",
       "      <td>1460.000</td>\n",
       "      <td>1460.000</td>\n",
       "      <td>1460.000</td>\n",
       "      <td>1460.000</td>\n",
       "    </tr>\n",
       "    <tr>\n",
       "      <th>mean</th>\n",
       "      <td>730.500</td>\n",
       "      <td>56.897</td>\n",
       "      <td>70.050</td>\n",
       "      <td>10516.828</td>\n",
       "      <td>6.099</td>\n",
       "      <td>5.575</td>\n",
       "      <td>1971.268</td>\n",
       "      <td>1984.866</td>\n",
       "      <td>103.685</td>\n",
       "      <td>443.640</td>\n",
       "      <td>...</td>\n",
       "      <td>94.245</td>\n",
       "      <td>46.660</td>\n",
       "      <td>21.954</td>\n",
       "      <td>3.410</td>\n",
       "      <td>15.061</td>\n",
       "      <td>2.759</td>\n",
       "      <td>43.489</td>\n",
       "      <td>6.322</td>\n",
       "      <td>2007.816</td>\n",
       "      <td>180921.196</td>\n",
       "    </tr>\n",
       "    <tr>\n",
       "      <th>std</th>\n",
       "      <td>421.610</td>\n",
       "      <td>42.301</td>\n",
       "      <td>24.285</td>\n",
       "      <td>9981.265</td>\n",
       "      <td>1.383</td>\n",
       "      <td>1.113</td>\n",
       "      <td>30.203</td>\n",
       "      <td>20.645</td>\n",
       "      <td>181.066</td>\n",
       "      <td>456.098</td>\n",
       "      <td>...</td>\n",
       "      <td>125.339</td>\n",
       "      <td>66.256</td>\n",
       "      <td>61.119</td>\n",
       "      <td>29.317</td>\n",
       "      <td>55.757</td>\n",
       "      <td>40.177</td>\n",
       "      <td>496.123</td>\n",
       "      <td>2.704</td>\n",
       "      <td>1.328</td>\n",
       "      <td>79442.503</td>\n",
       "    </tr>\n",
       "    <tr>\n",
       "      <th>min</th>\n",
       "      <td>1.000</td>\n",
       "      <td>20.000</td>\n",
       "      <td>21.000</td>\n",
       "      <td>1300.000</td>\n",
       "      <td>1.000</td>\n",
       "      <td>1.000</td>\n",
       "      <td>1872.000</td>\n",
       "      <td>1950.000</td>\n",
       "      <td>0.000</td>\n",
       "      <td>0.000</td>\n",
       "      <td>...</td>\n",
       "      <td>0.000</td>\n",
       "      <td>0.000</td>\n",
       "      <td>0.000</td>\n",
       "      <td>0.000</td>\n",
       "      <td>0.000</td>\n",
       "      <td>0.000</td>\n",
       "      <td>0.000</td>\n",
       "      <td>1.000</td>\n",
       "      <td>2006.000</td>\n",
       "      <td>34900.000</td>\n",
       "    </tr>\n",
       "    <tr>\n",
       "      <th>25%</th>\n",
       "      <td>365.750</td>\n",
       "      <td>20.000</td>\n",
       "      <td>59.000</td>\n",
       "      <td>7553.500</td>\n",
       "      <td>5.000</td>\n",
       "      <td>5.000</td>\n",
       "      <td>1954.000</td>\n",
       "      <td>1967.000</td>\n",
       "      <td>0.000</td>\n",
       "      <td>0.000</td>\n",
       "      <td>...</td>\n",
       "      <td>0.000</td>\n",
       "      <td>0.000</td>\n",
       "      <td>0.000</td>\n",
       "      <td>0.000</td>\n",
       "      <td>0.000</td>\n",
       "      <td>0.000</td>\n",
       "      <td>0.000</td>\n",
       "      <td>5.000</td>\n",
       "      <td>2007.000</td>\n",
       "      <td>129975.000</td>\n",
       "    </tr>\n",
       "    <tr>\n",
       "      <th>50%</th>\n",
       "      <td>730.500</td>\n",
       "      <td>50.000</td>\n",
       "      <td>69.000</td>\n",
       "      <td>9478.500</td>\n",
       "      <td>6.000</td>\n",
       "      <td>5.000</td>\n",
       "      <td>1973.000</td>\n",
       "      <td>1994.000</td>\n",
       "      <td>0.000</td>\n",
       "      <td>383.500</td>\n",
       "      <td>...</td>\n",
       "      <td>0.000</td>\n",
       "      <td>25.000</td>\n",
       "      <td>0.000</td>\n",
       "      <td>0.000</td>\n",
       "      <td>0.000</td>\n",
       "      <td>0.000</td>\n",
       "      <td>0.000</td>\n",
       "      <td>6.000</td>\n",
       "      <td>2008.000</td>\n",
       "      <td>163000.000</td>\n",
       "    </tr>\n",
       "    <tr>\n",
       "      <th>75%</th>\n",
       "      <td>1095.250</td>\n",
       "      <td>70.000</td>\n",
       "      <td>80.000</td>\n",
       "      <td>11601.500</td>\n",
       "      <td>7.000</td>\n",
       "      <td>6.000</td>\n",
       "      <td>2000.000</td>\n",
       "      <td>2004.000</td>\n",
       "      <td>166.000</td>\n",
       "      <td>712.250</td>\n",
       "      <td>...</td>\n",
       "      <td>168.000</td>\n",
       "      <td>68.000</td>\n",
       "      <td>0.000</td>\n",
       "      <td>0.000</td>\n",
       "      <td>0.000</td>\n",
       "      <td>0.000</td>\n",
       "      <td>0.000</td>\n",
       "      <td>8.000</td>\n",
       "      <td>2009.000</td>\n",
       "      <td>214000.000</td>\n",
       "    </tr>\n",
       "    <tr>\n",
       "      <th>max</th>\n",
       "      <td>1460.000</td>\n",
       "      <td>190.000</td>\n",
       "      <td>313.000</td>\n",
       "      <td>215245.000</td>\n",
       "      <td>10.000</td>\n",
       "      <td>9.000</td>\n",
       "      <td>2010.000</td>\n",
       "      <td>2010.000</td>\n",
       "      <td>1600.000</td>\n",
       "      <td>5644.000</td>\n",
       "      <td>...</td>\n",
       "      <td>857.000</td>\n",
       "      <td>547.000</td>\n",
       "      <td>552.000</td>\n",
       "      <td>508.000</td>\n",
       "      <td>480.000</td>\n",
       "      <td>738.000</td>\n",
       "      <td>15500.000</td>\n",
       "      <td>12.000</td>\n",
       "      <td>2010.000</td>\n",
       "      <td>755000.000</td>\n",
       "    </tr>\n",
       "  </tbody>\n",
       "</table>\n",
       "<p>8 rows × 38 columns</p>\n",
       "</div>"
      ],
      "text/plain": [
       "            Id  MSSubClass  LotFrontage    LotArea  OverallQual  OverallCond  \\\n",
       "count 1460.000    1460.000     1201.000   1460.000     1460.000     1460.000   \n",
       "mean   730.500      56.897       70.050  10516.828        6.099        5.575   \n",
       "std    421.610      42.301       24.285   9981.265        1.383        1.113   \n",
       "min      1.000      20.000       21.000   1300.000        1.000        1.000   \n",
       "25%    365.750      20.000       59.000   7553.500        5.000        5.000   \n",
       "50%    730.500      50.000       69.000   9478.500        6.000        5.000   \n",
       "75%   1095.250      70.000       80.000  11601.500        7.000        6.000   \n",
       "max   1460.000     190.000      313.000 215245.000       10.000        9.000   \n",
       "\n",
       "       YearBuilt  YearRemodAdd  MasVnrArea  BsmtFinSF1  ...  WoodDeckSF  \\\n",
       "count   1460.000      1460.000    1452.000    1460.000  ...    1460.000   \n",
       "mean    1971.268      1984.866     103.685     443.640  ...      94.245   \n",
       "std       30.203        20.645     181.066     456.098  ...     125.339   \n",
       "min     1872.000      1950.000       0.000       0.000  ...       0.000   \n",
       "25%     1954.000      1967.000       0.000       0.000  ...       0.000   \n",
       "50%     1973.000      1994.000       0.000     383.500  ...       0.000   \n",
       "75%     2000.000      2004.000     166.000     712.250  ...     168.000   \n",
       "max     2010.000      2010.000    1600.000    5644.000  ...     857.000   \n",
       "\n",
       "       OpenPorchSF  EnclosedPorch  3SsnPorch  ScreenPorch  PoolArea   MiscVal  \\\n",
       "count     1460.000       1460.000   1460.000     1460.000  1460.000  1460.000   \n",
       "mean        46.660         21.954      3.410       15.061     2.759    43.489   \n",
       "std         66.256         61.119     29.317       55.757    40.177   496.123   \n",
       "min          0.000          0.000      0.000        0.000     0.000     0.000   \n",
       "25%          0.000          0.000      0.000        0.000     0.000     0.000   \n",
       "50%         25.000          0.000      0.000        0.000     0.000     0.000   \n",
       "75%         68.000          0.000      0.000        0.000     0.000     0.000   \n",
       "max        547.000        552.000    508.000      480.000   738.000 15500.000   \n",
       "\n",
       "        MoSold   YrSold  SalePrice  \n",
       "count 1460.000 1460.000   1460.000  \n",
       "mean     6.322 2007.816 180921.196  \n",
       "std      2.704    1.328  79442.503  \n",
       "min      1.000 2006.000  34900.000  \n",
       "25%      5.000 2007.000 129975.000  \n",
       "50%      6.000 2008.000 163000.000  \n",
       "75%      8.000 2009.000 214000.000  \n",
       "max     12.000 2010.000 755000.000  \n",
       "\n",
       "[8 rows x 38 columns]"
      ]
     },
     "execution_count": 8,
     "metadata": {},
     "output_type": "execute_result"
    }
   ],
   "source": [
    "train.describe()"
   ]
  },
  {
   "cell_type": "code",
   "execution_count": 9,
   "metadata": {
    "execution": {
     "iopub.execute_input": "2020-12-07T17:25:55.537006Z",
     "iopub.status.busy": "2020-12-07T17:25:55.536384Z",
     "iopub.status.idle": "2020-12-07T17:25:55.551418Z",
     "shell.execute_reply": "2020-12-07T17:25:55.551934Z"
    },
    "papermill": {
     "duration": 0.106906,
     "end_time": "2020-12-07T17:25:55.552076",
     "exception": false,
     "start_time": "2020-12-07T17:25:55.445170",
     "status": "completed"
    },
    "tags": []
   },
   "outputs": [
    {
     "name": "stdout",
     "output_type": "stream",
     "text": [
      "<class 'pandas.core.frame.DataFrame'>\n",
      "RangeIndex: 1459 entries, 0 to 1458\n",
      "Data columns (total 80 columns):\n",
      " #   Column         Non-Null Count  Dtype  \n",
      "---  ------         --------------  -----  \n",
      " 0   Id             1459 non-null   int64  \n",
      " 1   MSSubClass     1459 non-null   int64  \n",
      " 2   MSZoning       1455 non-null   object \n",
      " 3   LotFrontage    1232 non-null   float64\n",
      " 4   LotArea        1459 non-null   int64  \n",
      " 5   Street         1459 non-null   object \n",
      " 6   Alley          107 non-null    object \n",
      " 7   LotShape       1459 non-null   object \n",
      " 8   LandContour    1459 non-null   object \n",
      " 9   Utilities      1457 non-null   object \n",
      " 10  LotConfig      1459 non-null   object \n",
      " 11  LandSlope      1459 non-null   object \n",
      " 12  Neighborhood   1459 non-null   object \n",
      " 13  Condition1     1459 non-null   object \n",
      " 14  Condition2     1459 non-null   object \n",
      " 15  BldgType       1459 non-null   object \n",
      " 16  HouseStyle     1459 non-null   object \n",
      " 17  OverallQual    1459 non-null   int64  \n",
      " 18  OverallCond    1459 non-null   int64  \n",
      " 19  YearBuilt      1459 non-null   int64  \n",
      " 20  YearRemodAdd   1459 non-null   int64  \n",
      " 21  RoofStyle      1459 non-null   object \n",
      " 22  RoofMatl       1459 non-null   object \n",
      " 23  Exterior1st    1458 non-null   object \n",
      " 24  Exterior2nd    1458 non-null   object \n",
      " 25  MasVnrType     1443 non-null   object \n",
      " 26  MasVnrArea     1444 non-null   float64\n",
      " 27  ExterQual      1459 non-null   object \n",
      " 28  ExterCond      1459 non-null   object \n",
      " 29  Foundation     1459 non-null   object \n",
      " 30  BsmtQual       1415 non-null   object \n",
      " 31  BsmtCond       1414 non-null   object \n",
      " 32  BsmtExposure   1415 non-null   object \n",
      " 33  BsmtFinType1   1417 non-null   object \n",
      " 34  BsmtFinSF1     1458 non-null   float64\n",
      " 35  BsmtFinType2   1417 non-null   object \n",
      " 36  BsmtFinSF2     1458 non-null   float64\n",
      " 37  BsmtUnfSF      1458 non-null   float64\n",
      " 38  TotalBsmtSF    1458 non-null   float64\n",
      " 39  Heating        1459 non-null   object \n",
      " 40  HeatingQC      1459 non-null   object \n",
      " 41  CentralAir     1459 non-null   object \n",
      " 42  Electrical     1459 non-null   object \n",
      " 43  1stFlrSF       1459 non-null   int64  \n",
      " 44  2ndFlrSF       1459 non-null   int64  \n",
      " 45  LowQualFinSF   1459 non-null   int64  \n",
      " 46  GrLivArea      1459 non-null   int64  \n",
      " 47  BsmtFullBath   1457 non-null   float64\n",
      " 48  BsmtHalfBath   1457 non-null   float64\n",
      " 49  FullBath       1459 non-null   int64  \n",
      " 50  HalfBath       1459 non-null   int64  \n",
      " 51  BedroomAbvGr   1459 non-null   int64  \n",
      " 52  KitchenAbvGr   1459 non-null   int64  \n",
      " 53  KitchenQual    1458 non-null   object \n",
      " 54  TotRmsAbvGrd   1459 non-null   int64  \n",
      " 55  Functional     1457 non-null   object \n",
      " 56  Fireplaces     1459 non-null   int64  \n",
      " 57  FireplaceQu    729 non-null    object \n",
      " 58  GarageType     1383 non-null   object \n",
      " 59  GarageYrBlt    1381 non-null   float64\n",
      " 60  GarageFinish   1381 non-null   object \n",
      " 61  GarageCars     1458 non-null   float64\n",
      " 62  GarageArea     1458 non-null   float64\n",
      " 63  GarageQual     1381 non-null   object \n",
      " 64  GarageCond     1381 non-null   object \n",
      " 65  PavedDrive     1459 non-null   object \n",
      " 66  WoodDeckSF     1459 non-null   int64  \n",
      " 67  OpenPorchSF    1459 non-null   int64  \n",
      " 68  EnclosedPorch  1459 non-null   int64  \n",
      " 69  3SsnPorch      1459 non-null   int64  \n",
      " 70  ScreenPorch    1459 non-null   int64  \n",
      " 71  PoolArea       1459 non-null   int64  \n",
      " 72  PoolQC         3 non-null      object \n",
      " 73  Fence          290 non-null    object \n",
      " 74  MiscFeature    51 non-null     object \n",
      " 75  MiscVal        1459 non-null   int64  \n",
      " 76  MoSold         1459 non-null   int64  \n",
      " 77  YrSold         1459 non-null   int64  \n",
      " 78  SaleType       1458 non-null   object \n",
      " 79  SaleCondition  1459 non-null   object \n",
      "dtypes: float64(11), int64(26), object(43)\n",
      "memory usage: 912.0+ KB\n"
     ]
    }
   ],
   "source": [
    "test.info()"
   ]
  },
  {
   "cell_type": "code",
   "execution_count": 10,
   "metadata": {
    "execution": {
     "iopub.execute_input": "2020-12-07T17:25:55.747090Z",
     "iopub.status.busy": "2020-12-07T17:25:55.740120Z",
     "iopub.status.idle": "2020-12-07T17:25:55.751182Z",
     "shell.execute_reply": "2020-12-07T17:25:55.750571Z"
    },
    "papermill": {
     "duration": 0.11108,
     "end_time": "2020-12-07T17:25:55.751310",
     "exception": false,
     "start_time": "2020-12-07T17:25:55.640230",
     "status": "completed"
    },
    "tags": []
   },
   "outputs": [
    {
     "data": {
      "text/html": [
       "<div>\n",
       "<style scoped>\n",
       "    .dataframe tbody tr th:only-of-type {\n",
       "        vertical-align: middle;\n",
       "    }\n",
       "\n",
       "    .dataframe tbody tr th {\n",
       "        vertical-align: top;\n",
       "    }\n",
       "\n",
       "    .dataframe thead th {\n",
       "        text-align: right;\n",
       "    }\n",
       "</style>\n",
       "<table border=\"1\" class=\"dataframe\">\n",
       "  <thead>\n",
       "    <tr style=\"text-align: right;\">\n",
       "      <th></th>\n",
       "      <th>Id</th>\n",
       "      <th>MSSubClass</th>\n",
       "      <th>MSZoning</th>\n",
       "      <th>LotFrontage</th>\n",
       "      <th>LotArea</th>\n",
       "      <th>Street</th>\n",
       "      <th>Alley</th>\n",
       "      <th>LotShape</th>\n",
       "      <th>LandContour</th>\n",
       "      <th>Utilities</th>\n",
       "      <th>...</th>\n",
       "      <th>ScreenPorch</th>\n",
       "      <th>PoolArea</th>\n",
       "      <th>PoolQC</th>\n",
       "      <th>Fence</th>\n",
       "      <th>MiscFeature</th>\n",
       "      <th>MiscVal</th>\n",
       "      <th>MoSold</th>\n",
       "      <th>YrSold</th>\n",
       "      <th>SaleType</th>\n",
       "      <th>SaleCondition</th>\n",
       "    </tr>\n",
       "  </thead>\n",
       "  <tbody>\n",
       "    <tr>\n",
       "      <th>0</th>\n",
       "      <td>1461</td>\n",
       "      <td>20</td>\n",
       "      <td>RH</td>\n",
       "      <td>80.000</td>\n",
       "      <td>11622</td>\n",
       "      <td>Pave</td>\n",
       "      <td>NaN</td>\n",
       "      <td>Reg</td>\n",
       "      <td>Lvl</td>\n",
       "      <td>AllPub</td>\n",
       "      <td>...</td>\n",
       "      <td>120</td>\n",
       "      <td>0</td>\n",
       "      <td>NaN</td>\n",
       "      <td>MnPrv</td>\n",
       "      <td>NaN</td>\n",
       "      <td>0</td>\n",
       "      <td>6</td>\n",
       "      <td>2010</td>\n",
       "      <td>WD</td>\n",
       "      <td>Normal</td>\n",
       "    </tr>\n",
       "    <tr>\n",
       "      <th>1</th>\n",
       "      <td>1462</td>\n",
       "      <td>20</td>\n",
       "      <td>RL</td>\n",
       "      <td>81.000</td>\n",
       "      <td>14267</td>\n",
       "      <td>Pave</td>\n",
       "      <td>NaN</td>\n",
       "      <td>IR1</td>\n",
       "      <td>Lvl</td>\n",
       "      <td>AllPub</td>\n",
       "      <td>...</td>\n",
       "      <td>0</td>\n",
       "      <td>0</td>\n",
       "      <td>NaN</td>\n",
       "      <td>NaN</td>\n",
       "      <td>Gar2</td>\n",
       "      <td>12500</td>\n",
       "      <td>6</td>\n",
       "      <td>2010</td>\n",
       "      <td>WD</td>\n",
       "      <td>Normal</td>\n",
       "    </tr>\n",
       "    <tr>\n",
       "      <th>2</th>\n",
       "      <td>1463</td>\n",
       "      <td>60</td>\n",
       "      <td>RL</td>\n",
       "      <td>74.000</td>\n",
       "      <td>13830</td>\n",
       "      <td>Pave</td>\n",
       "      <td>NaN</td>\n",
       "      <td>IR1</td>\n",
       "      <td>Lvl</td>\n",
       "      <td>AllPub</td>\n",
       "      <td>...</td>\n",
       "      <td>0</td>\n",
       "      <td>0</td>\n",
       "      <td>NaN</td>\n",
       "      <td>MnPrv</td>\n",
       "      <td>NaN</td>\n",
       "      <td>0</td>\n",
       "      <td>3</td>\n",
       "      <td>2010</td>\n",
       "      <td>WD</td>\n",
       "      <td>Normal</td>\n",
       "    </tr>\n",
       "    <tr>\n",
       "      <th>3</th>\n",
       "      <td>1464</td>\n",
       "      <td>60</td>\n",
       "      <td>RL</td>\n",
       "      <td>78.000</td>\n",
       "      <td>9978</td>\n",
       "      <td>Pave</td>\n",
       "      <td>NaN</td>\n",
       "      <td>IR1</td>\n",
       "      <td>Lvl</td>\n",
       "      <td>AllPub</td>\n",
       "      <td>...</td>\n",
       "      <td>0</td>\n",
       "      <td>0</td>\n",
       "      <td>NaN</td>\n",
       "      <td>NaN</td>\n",
       "      <td>NaN</td>\n",
       "      <td>0</td>\n",
       "      <td>6</td>\n",
       "      <td>2010</td>\n",
       "      <td>WD</td>\n",
       "      <td>Normal</td>\n",
       "    </tr>\n",
       "    <tr>\n",
       "      <th>4</th>\n",
       "      <td>1465</td>\n",
       "      <td>120</td>\n",
       "      <td>RL</td>\n",
       "      <td>43.000</td>\n",
       "      <td>5005</td>\n",
       "      <td>Pave</td>\n",
       "      <td>NaN</td>\n",
       "      <td>IR1</td>\n",
       "      <td>HLS</td>\n",
       "      <td>AllPub</td>\n",
       "      <td>...</td>\n",
       "      <td>144</td>\n",
       "      <td>0</td>\n",
       "      <td>NaN</td>\n",
       "      <td>NaN</td>\n",
       "      <td>NaN</td>\n",
       "      <td>0</td>\n",
       "      <td>1</td>\n",
       "      <td>2010</td>\n",
       "      <td>WD</td>\n",
       "      <td>Normal</td>\n",
       "    </tr>\n",
       "  </tbody>\n",
       "</table>\n",
       "<p>5 rows × 80 columns</p>\n",
       "</div>"
      ],
      "text/plain": [
       "     Id  MSSubClass MSZoning  LotFrontage  LotArea Street Alley LotShape  \\\n",
       "0  1461          20       RH       80.000    11622   Pave   NaN      Reg   \n",
       "1  1462          20       RL       81.000    14267   Pave   NaN      IR1   \n",
       "2  1463          60       RL       74.000    13830   Pave   NaN      IR1   \n",
       "3  1464          60       RL       78.000     9978   Pave   NaN      IR1   \n",
       "4  1465         120       RL       43.000     5005   Pave   NaN      IR1   \n",
       "\n",
       "  LandContour Utilities  ... ScreenPorch PoolArea PoolQC  Fence MiscFeature  \\\n",
       "0         Lvl    AllPub  ...         120        0    NaN  MnPrv         NaN   \n",
       "1         Lvl    AllPub  ...           0        0    NaN    NaN        Gar2   \n",
       "2         Lvl    AllPub  ...           0        0    NaN  MnPrv         NaN   \n",
       "3         Lvl    AllPub  ...           0        0    NaN    NaN         NaN   \n",
       "4         HLS    AllPub  ...         144        0    NaN    NaN         NaN   \n",
       "\n",
       "  MiscVal MoSold  YrSold  SaleType  SaleCondition  \n",
       "0       0      6    2010        WD         Normal  \n",
       "1   12500      6    2010        WD         Normal  \n",
       "2       0      3    2010        WD         Normal  \n",
       "3       0      6    2010        WD         Normal  \n",
       "4       0      1    2010        WD         Normal  \n",
       "\n",
       "[5 rows x 80 columns]"
      ]
     },
     "execution_count": 10,
     "metadata": {},
     "output_type": "execute_result"
    }
   ],
   "source": [
    "test.head()"
   ]
  },
  {
   "cell_type": "code",
   "execution_count": 11,
   "metadata": {
    "execution": {
     "iopub.execute_input": "2020-12-07T17:25:55.930045Z",
     "iopub.status.busy": "2020-12-07T17:25:55.926214Z",
     "iopub.status.idle": "2020-12-07T17:25:56.015621Z",
     "shell.execute_reply": "2020-12-07T17:25:56.014943Z"
    },
    "papermill": {
     "duration": 0.180801,
     "end_time": "2020-12-07T17:25:56.015740",
     "exception": false,
     "start_time": "2020-12-07T17:25:55.834939",
     "status": "completed"
    },
    "tags": []
   },
   "outputs": [
    {
     "data": {
      "text/html": [
       "<div>\n",
       "<style scoped>\n",
       "    .dataframe tbody tr th:only-of-type {\n",
       "        vertical-align: middle;\n",
       "    }\n",
       "\n",
       "    .dataframe tbody tr th {\n",
       "        vertical-align: top;\n",
       "    }\n",
       "\n",
       "    .dataframe thead th {\n",
       "        text-align: right;\n",
       "    }\n",
       "</style>\n",
       "<table border=\"1\" class=\"dataframe\">\n",
       "  <thead>\n",
       "    <tr style=\"text-align: right;\">\n",
       "      <th></th>\n",
       "      <th>Id</th>\n",
       "      <th>MSSubClass</th>\n",
       "      <th>LotFrontage</th>\n",
       "      <th>LotArea</th>\n",
       "      <th>OverallQual</th>\n",
       "      <th>OverallCond</th>\n",
       "      <th>YearBuilt</th>\n",
       "      <th>YearRemodAdd</th>\n",
       "      <th>MasVnrArea</th>\n",
       "      <th>BsmtFinSF1</th>\n",
       "      <th>...</th>\n",
       "      <th>GarageArea</th>\n",
       "      <th>WoodDeckSF</th>\n",
       "      <th>OpenPorchSF</th>\n",
       "      <th>EnclosedPorch</th>\n",
       "      <th>3SsnPorch</th>\n",
       "      <th>ScreenPorch</th>\n",
       "      <th>PoolArea</th>\n",
       "      <th>MiscVal</th>\n",
       "      <th>MoSold</th>\n",
       "      <th>YrSold</th>\n",
       "    </tr>\n",
       "  </thead>\n",
       "  <tbody>\n",
       "    <tr>\n",
       "      <th>count</th>\n",
       "      <td>1459.000</td>\n",
       "      <td>1459.000</td>\n",
       "      <td>1232.000</td>\n",
       "      <td>1459.000</td>\n",
       "      <td>1459.000</td>\n",
       "      <td>1459.000</td>\n",
       "      <td>1459.000</td>\n",
       "      <td>1459.000</td>\n",
       "      <td>1444.000</td>\n",
       "      <td>1458.000</td>\n",
       "      <td>...</td>\n",
       "      <td>1458.000</td>\n",
       "      <td>1459.000</td>\n",
       "      <td>1459.000</td>\n",
       "      <td>1459.000</td>\n",
       "      <td>1459.000</td>\n",
       "      <td>1459.000</td>\n",
       "      <td>1459.000</td>\n",
       "      <td>1459.000</td>\n",
       "      <td>1459.000</td>\n",
       "      <td>1459.000</td>\n",
       "    </tr>\n",
       "    <tr>\n",
       "      <th>mean</th>\n",
       "      <td>2190.000</td>\n",
       "      <td>57.378</td>\n",
       "      <td>68.580</td>\n",
       "      <td>9819.161</td>\n",
       "      <td>6.079</td>\n",
       "      <td>5.554</td>\n",
       "      <td>1971.358</td>\n",
       "      <td>1983.663</td>\n",
       "      <td>100.709</td>\n",
       "      <td>439.204</td>\n",
       "      <td>...</td>\n",
       "      <td>472.769</td>\n",
       "      <td>93.175</td>\n",
       "      <td>48.314</td>\n",
       "      <td>24.243</td>\n",
       "      <td>1.794</td>\n",
       "      <td>17.064</td>\n",
       "      <td>1.744</td>\n",
       "      <td>58.168</td>\n",
       "      <td>6.104</td>\n",
       "      <td>2007.770</td>\n",
       "    </tr>\n",
       "    <tr>\n",
       "      <th>std</th>\n",
       "      <td>421.321</td>\n",
       "      <td>42.747</td>\n",
       "      <td>22.377</td>\n",
       "      <td>4955.517</td>\n",
       "      <td>1.437</td>\n",
       "      <td>1.114</td>\n",
       "      <td>30.390</td>\n",
       "      <td>21.130</td>\n",
       "      <td>177.626</td>\n",
       "      <td>455.268</td>\n",
       "      <td>...</td>\n",
       "      <td>217.049</td>\n",
       "      <td>127.745</td>\n",
       "      <td>68.883</td>\n",
       "      <td>67.228</td>\n",
       "      <td>20.208</td>\n",
       "      <td>56.610</td>\n",
       "      <td>30.492</td>\n",
       "      <td>630.807</td>\n",
       "      <td>2.722</td>\n",
       "      <td>1.302</td>\n",
       "    </tr>\n",
       "    <tr>\n",
       "      <th>min</th>\n",
       "      <td>1461.000</td>\n",
       "      <td>20.000</td>\n",
       "      <td>21.000</td>\n",
       "      <td>1470.000</td>\n",
       "      <td>1.000</td>\n",
       "      <td>1.000</td>\n",
       "      <td>1879.000</td>\n",
       "      <td>1950.000</td>\n",
       "      <td>0.000</td>\n",
       "      <td>0.000</td>\n",
       "      <td>...</td>\n",
       "      <td>0.000</td>\n",
       "      <td>0.000</td>\n",
       "      <td>0.000</td>\n",
       "      <td>0.000</td>\n",
       "      <td>0.000</td>\n",
       "      <td>0.000</td>\n",
       "      <td>0.000</td>\n",
       "      <td>0.000</td>\n",
       "      <td>1.000</td>\n",
       "      <td>2006.000</td>\n",
       "    </tr>\n",
       "    <tr>\n",
       "      <th>25%</th>\n",
       "      <td>1825.500</td>\n",
       "      <td>20.000</td>\n",
       "      <td>58.000</td>\n",
       "      <td>7391.000</td>\n",
       "      <td>5.000</td>\n",
       "      <td>5.000</td>\n",
       "      <td>1953.000</td>\n",
       "      <td>1963.000</td>\n",
       "      <td>0.000</td>\n",
       "      <td>0.000</td>\n",
       "      <td>...</td>\n",
       "      <td>318.000</td>\n",
       "      <td>0.000</td>\n",
       "      <td>0.000</td>\n",
       "      <td>0.000</td>\n",
       "      <td>0.000</td>\n",
       "      <td>0.000</td>\n",
       "      <td>0.000</td>\n",
       "      <td>0.000</td>\n",
       "      <td>4.000</td>\n",
       "      <td>2007.000</td>\n",
       "    </tr>\n",
       "    <tr>\n",
       "      <th>50%</th>\n",
       "      <td>2190.000</td>\n",
       "      <td>50.000</td>\n",
       "      <td>67.000</td>\n",
       "      <td>9399.000</td>\n",
       "      <td>6.000</td>\n",
       "      <td>5.000</td>\n",
       "      <td>1973.000</td>\n",
       "      <td>1992.000</td>\n",
       "      <td>0.000</td>\n",
       "      <td>350.500</td>\n",
       "      <td>...</td>\n",
       "      <td>480.000</td>\n",
       "      <td>0.000</td>\n",
       "      <td>28.000</td>\n",
       "      <td>0.000</td>\n",
       "      <td>0.000</td>\n",
       "      <td>0.000</td>\n",
       "      <td>0.000</td>\n",
       "      <td>0.000</td>\n",
       "      <td>6.000</td>\n",
       "      <td>2008.000</td>\n",
       "    </tr>\n",
       "    <tr>\n",
       "      <th>75%</th>\n",
       "      <td>2554.500</td>\n",
       "      <td>70.000</td>\n",
       "      <td>80.000</td>\n",
       "      <td>11517.500</td>\n",
       "      <td>7.000</td>\n",
       "      <td>6.000</td>\n",
       "      <td>2001.000</td>\n",
       "      <td>2004.000</td>\n",
       "      <td>164.000</td>\n",
       "      <td>753.500</td>\n",
       "      <td>...</td>\n",
       "      <td>576.000</td>\n",
       "      <td>168.000</td>\n",
       "      <td>72.000</td>\n",
       "      <td>0.000</td>\n",
       "      <td>0.000</td>\n",
       "      <td>0.000</td>\n",
       "      <td>0.000</td>\n",
       "      <td>0.000</td>\n",
       "      <td>8.000</td>\n",
       "      <td>2009.000</td>\n",
       "    </tr>\n",
       "    <tr>\n",
       "      <th>max</th>\n",
       "      <td>2919.000</td>\n",
       "      <td>190.000</td>\n",
       "      <td>200.000</td>\n",
       "      <td>56600.000</td>\n",
       "      <td>10.000</td>\n",
       "      <td>9.000</td>\n",
       "      <td>2010.000</td>\n",
       "      <td>2010.000</td>\n",
       "      <td>1290.000</td>\n",
       "      <td>4010.000</td>\n",
       "      <td>...</td>\n",
       "      <td>1488.000</td>\n",
       "      <td>1424.000</td>\n",
       "      <td>742.000</td>\n",
       "      <td>1012.000</td>\n",
       "      <td>360.000</td>\n",
       "      <td>576.000</td>\n",
       "      <td>800.000</td>\n",
       "      <td>17000.000</td>\n",
       "      <td>12.000</td>\n",
       "      <td>2010.000</td>\n",
       "    </tr>\n",
       "  </tbody>\n",
       "</table>\n",
       "<p>8 rows × 37 columns</p>\n",
       "</div>"
      ],
      "text/plain": [
       "            Id  MSSubClass  LotFrontage   LotArea  OverallQual  OverallCond  \\\n",
       "count 1459.000    1459.000     1232.000  1459.000     1459.000     1459.000   \n",
       "mean  2190.000      57.378       68.580  9819.161        6.079        5.554   \n",
       "std    421.321      42.747       22.377  4955.517        1.437        1.114   \n",
       "min   1461.000      20.000       21.000  1470.000        1.000        1.000   \n",
       "25%   1825.500      20.000       58.000  7391.000        5.000        5.000   \n",
       "50%   2190.000      50.000       67.000  9399.000        6.000        5.000   \n",
       "75%   2554.500      70.000       80.000 11517.500        7.000        6.000   \n",
       "max   2919.000     190.000      200.000 56600.000       10.000        9.000   \n",
       "\n",
       "       YearBuilt  YearRemodAdd  MasVnrArea  BsmtFinSF1  ...  GarageArea  \\\n",
       "count   1459.000      1459.000    1444.000    1458.000  ...    1458.000   \n",
       "mean    1971.358      1983.663     100.709     439.204  ...     472.769   \n",
       "std       30.390        21.130     177.626     455.268  ...     217.049   \n",
       "min     1879.000      1950.000       0.000       0.000  ...       0.000   \n",
       "25%     1953.000      1963.000       0.000       0.000  ...     318.000   \n",
       "50%     1973.000      1992.000       0.000     350.500  ...     480.000   \n",
       "75%     2001.000      2004.000     164.000     753.500  ...     576.000   \n",
       "max     2010.000      2010.000    1290.000    4010.000  ...    1488.000   \n",
       "\n",
       "       WoodDeckSF  OpenPorchSF  EnclosedPorch  3SsnPorch  ScreenPorch  \\\n",
       "count    1459.000     1459.000       1459.000   1459.000     1459.000   \n",
       "mean       93.175       48.314         24.243      1.794       17.064   \n",
       "std       127.745       68.883         67.228     20.208       56.610   \n",
       "min         0.000        0.000          0.000      0.000        0.000   \n",
       "25%         0.000        0.000          0.000      0.000        0.000   \n",
       "50%         0.000       28.000          0.000      0.000        0.000   \n",
       "75%       168.000       72.000          0.000      0.000        0.000   \n",
       "max      1424.000      742.000       1012.000    360.000      576.000   \n",
       "\n",
       "       PoolArea   MiscVal   MoSold   YrSold  \n",
       "count  1459.000  1459.000 1459.000 1459.000  \n",
       "mean      1.744    58.168    6.104 2007.770  \n",
       "std      30.492   630.807    2.722    1.302  \n",
       "min       0.000     0.000    1.000 2006.000  \n",
       "25%       0.000     0.000    4.000 2007.000  \n",
       "50%       0.000     0.000    6.000 2008.000  \n",
       "75%       0.000     0.000    8.000 2009.000  \n",
       "max     800.000 17000.000   12.000 2010.000  \n",
       "\n",
       "[8 rows x 37 columns]"
      ]
     },
     "execution_count": 11,
     "metadata": {},
     "output_type": "execute_result"
    }
   ],
   "source": [
    "test.describe()"
   ]
  },
  {
   "cell_type": "code",
   "execution_count": 12,
   "metadata": {
    "execution": {
     "iopub.execute_input": "2020-12-07T17:25:56.195338Z",
     "iopub.status.busy": "2020-12-07T17:25:56.194538Z",
     "iopub.status.idle": "2020-12-07T17:25:56.219397Z",
     "shell.execute_reply": "2020-12-07T17:25:56.218759Z"
    },
    "papermill": {
     "duration": 0.11794,
     "end_time": "2020-12-07T17:25:56.219506",
     "exception": false,
     "start_time": "2020-12-07T17:25:56.101566",
     "status": "completed"
    },
    "tags": []
   },
   "outputs": [
    {
     "data": {
      "text/plain": [
       "PoolQC          1453\n",
       "MiscFeature     1406\n",
       "Alley           1369\n",
       "Fence           1179\n",
       "FireplaceQu      690\n",
       "LotFrontage      259\n",
       "GarageYrBlt       81\n",
       "GarageType        81\n",
       "GarageFinish      81\n",
       "GarageQual        81\n",
       "GarageCond        81\n",
       "BsmtFinType2      38\n",
       "BsmtExposure      38\n",
       "BsmtFinType1      37\n",
       "BsmtCond          37\n",
       "BsmtQual          37\n",
       "MasVnrArea         8\n",
       "MasVnrType         8\n",
       "Electrical         1\n",
       "dtype: int64"
      ]
     },
     "execution_count": 12,
     "metadata": {},
     "output_type": "execute_result"
    }
   ],
   "source": [
    "null_counts_train = train.isnull().sum()\n",
    "null_counts_train[null_counts_train>0].sort_values(ascending = False)"
   ]
  },
  {
   "cell_type": "code",
   "execution_count": 13,
   "metadata": {
    "execution": {
     "iopub.execute_input": "2020-12-07T17:25:56.400627Z",
     "iopub.status.busy": "2020-12-07T17:25:56.399929Z",
     "iopub.status.idle": "2020-12-07T17:25:56.407737Z",
     "shell.execute_reply": "2020-12-07T17:25:56.407118Z"
    },
    "papermill": {
     "duration": 0.103395,
     "end_time": "2020-12-07T17:25:56.407846",
     "exception": false,
     "start_time": "2020-12-07T17:25:56.304451",
     "status": "completed"
    },
    "tags": []
   },
   "outputs": [
    {
     "data": {
      "text/plain": [
       "PoolQC          1456\n",
       "MiscFeature     1408\n",
       "Alley           1352\n",
       "Fence           1169\n",
       "FireplaceQu      730\n",
       "LotFrontage      227\n",
       "GarageYrBlt       78\n",
       "GarageCond        78\n",
       "GarageQual        78\n",
       "GarageFinish      78\n",
       "GarageType        76\n",
       "BsmtCond          45\n",
       "BsmtExposure      44\n",
       "BsmtQual          44\n",
       "BsmtFinType1      42\n",
       "BsmtFinType2      42\n",
       "MasVnrType        16\n",
       "MasVnrArea        15\n",
       "MSZoning           4\n",
       "BsmtFullBath       2\n",
       "BsmtHalfBath       2\n",
       "Utilities          2\n",
       "Functional         2\n",
       "Exterior2nd        1\n",
       "Exterior1st        1\n",
       "SaleType           1\n",
       "BsmtFinSF1         1\n",
       "BsmtFinSF2         1\n",
       "BsmtUnfSF          1\n",
       "KitchenQual        1\n",
       "GarageCars         1\n",
       "GarageArea         1\n",
       "TotalBsmtSF        1\n",
       "dtype: int64"
      ]
     },
     "execution_count": 13,
     "metadata": {},
     "output_type": "execute_result"
    }
   ],
   "source": [
    "null_counts_test = test.isnull().sum()\n",
    "null_counts_test[null_counts_test>0].sort_values(ascending = False)"
   ]
  },
  {
   "cell_type": "code",
   "execution_count": 14,
   "metadata": {
    "execution": {
     "iopub.execute_input": "2020-12-07T17:25:56.590112Z",
     "iopub.status.busy": "2020-12-07T17:25:56.589091Z",
     "iopub.status.idle": "2020-12-07T17:25:56.592984Z",
     "shell.execute_reply": "2020-12-07T17:25:56.592396Z"
    },
    "papermill": {
     "duration": 0.098186,
     "end_time": "2020-12-07T17:25:56.593089",
     "exception": false,
     "start_time": "2020-12-07T17:25:56.494903",
     "status": "completed"
    },
    "tags": []
   },
   "outputs": [
    {
     "data": {
      "text/plain": [
       "PoolQC         99.589\n",
       "MiscFeature    96.367\n",
       "Alley          93.831\n",
       "Fence          80.809\n",
       "FireplaceQu    47.293\n",
       "LotFrontage    17.752\n",
       "GarageYrBlt     5.552\n",
       "GarageType      5.552\n",
       "GarageFinish    5.552\n",
       "GarageQual      5.552\n",
       "GarageCond      5.552\n",
       "BsmtFinType2    2.605\n",
       "BsmtExposure    2.605\n",
       "BsmtFinType1    2.536\n",
       "BsmtCond        2.536\n",
       "BsmtQual        2.536\n",
       "MasVnrArea      0.548\n",
       "MasVnrType      0.548\n",
       "Electrical      0.069\n",
       "dtype: float64"
      ]
     },
     "execution_count": 14,
     "metadata": {},
     "output_type": "execute_result"
    }
   ],
   "source": [
    "percentage_of_nulls_train = null_counts_train[null_counts_train>0].sort_values(ascending = False)/test['Id'].count()*100\n",
    "percentage_of_nulls_train"
   ]
  },
  {
   "cell_type": "code",
   "execution_count": 15,
   "metadata": {
    "execution": {
     "iopub.execute_input": "2020-12-07T17:25:56.772104Z",
     "iopub.status.busy": "2020-12-07T17:25:56.771344Z",
     "iopub.status.idle": "2020-12-07T17:25:57.065501Z",
     "shell.execute_reply": "2020-12-07T17:25:57.064863Z"
    },
    "papermill": {
     "duration": 0.38601,
     "end_time": "2020-12-07T17:25:57.065616",
     "exception": false,
     "start_time": "2020-12-07T17:25:56.679606",
     "status": "completed"
    },
    "tags": []
   },
   "outputs": [
    {
     "data": {
      "image/png": "[encoded data removed]",
      "text/plain": [
       "<Figure size 720x432 with 1 Axes>"
      ]
     },
     "metadata": {
      "needs_background": "light"
     },
     "output_type": "display_data"
    }
   ],
   "source": [
    "plt.figure(figsize = (10,6))\n",
    "percentage_of_nulls_train.plot(kind='bar', colormap='Paired')\n",
    "plt.xticks(rotation='90')\n",
    "plt.title('Percent missing data by feature (training set)', fontsize = 15)\n",
    "plt.xlabel('Feature',fontsize = 15)\n",
    "plt.ylabel('Percent of missing data',fontsize = 15)\n",
    "plt.axhline(y=30, color='r', linestyle='-')\n",
    "plt.show()"
   ]
  },
  {
   "cell_type": "code",
   "execution_count": 16,
   "metadata": {
    "execution": {
     "iopub.execute_input": "2020-12-07T17:25:57.249486Z",
     "iopub.status.busy": "2020-12-07T17:25:57.248632Z",
     "iopub.status.idle": "2020-12-07T17:25:57.252472Z",
     "shell.execute_reply": "2020-12-07T17:25:57.252986Z"
    },
    "papermill": {
     "duration": 0.100144,
     "end_time": "2020-12-07T17:25:57.253133",
     "exception": false,
     "start_time": "2020-12-07T17:25:57.152989",
     "status": "completed"
    },
    "tags": []
   },
   "outputs": [
    {
     "data": {
      "text/plain": [
       "PoolQC         99.794\n",
       "MiscFeature    96.504\n",
       "Alley          92.666\n",
       "Fence          80.123\n",
       "FireplaceQu    50.034\n",
       "LotFrontage    15.559\n",
       "GarageYrBlt     5.346\n",
       "GarageCond      5.346\n",
       "GarageQual      5.346\n",
       "GarageFinish    5.346\n",
       "GarageType      5.209\n",
       "BsmtCond        3.084\n",
       "BsmtExposure    3.016\n",
       "BsmtQual        3.016\n",
       "BsmtFinType1    2.879\n",
       "BsmtFinType2    2.879\n",
       "MasVnrType      1.097\n",
       "MasVnrArea      1.028\n",
       "MSZoning        0.274\n",
       "BsmtFullBath    0.137\n",
       "BsmtHalfBath    0.137\n",
       "Utilities       0.137\n",
       "Functional      0.137\n",
       "Exterior2nd     0.069\n",
       "Exterior1st     0.069\n",
       "SaleType        0.069\n",
       "BsmtFinSF1      0.069\n",
       "BsmtFinSF2      0.069\n",
       "BsmtUnfSF       0.069\n",
       "KitchenQual     0.069\n",
       "GarageCars      0.069\n",
       "GarageArea      0.069\n",
       "TotalBsmtSF     0.069\n",
       "dtype: float64"
      ]
     },
     "execution_count": 16,
     "metadata": {},
     "output_type": "execute_result"
    }
   ],
   "source": [
    "percentage_of_nulls_test = null_counts_test[null_counts_test>0].sort_values(ascending = False)/test['Id'].count()*100\n",
    "percentage_of_nulls_test"
   ]
  },
  {
   "cell_type": "code",
   "execution_count": 17,
   "metadata": {
    "execution": {
     "iopub.execute_input": "2020-12-07T17:25:57.437414Z",
     "iopub.status.busy": "2020-12-07T17:25:57.436715Z",
     "iopub.status.idle": "2020-12-07T17:25:57.796358Z",
     "shell.execute_reply": "2020-12-07T17:25:57.795762Z"
    },
    "papermill": {
     "duration": 0.455071,
     "end_time": "2020-12-07T17:25:57.796483",
     "exception": false,
     "start_time": "2020-12-07T17:25:57.341412",
     "status": "completed"
    },
    "tags": []
   },
   "outputs": [
    {
     "data": {
      "image/png": "[encoded data removed]",
      "text/plain": [
       "<Figure size 720x432 with 1 Axes>"
      ]
     },
     "metadata": {
      "needs_background": "light"
     },
     "output_type": "display_data"
    }
   ],
   "source": [
    "plt.figure(figsize = (10,6))\n",
    "percentage_of_nulls_test.plot(kind = 'bar',fontsize=12,colormap='Paired')\n",
    "plt.title('Percent missing data by feature (test set)', fontsize = 15)\n",
    "plt.xlabel('Feature',fontsize = 15)\n",
    "plt.ylabel('Percent of missing data',fontsize = 15)\n",
    "plt.axhline(y=30, color='r', linestyle='-')\n",
    "plt.show()"
   ]
  },
  {
   "cell_type": "code",
   "execution_count": 18,
   "metadata": {
    "execution": {
     "iopub.execute_input": "2020-12-07T17:25:57.991797Z",
     "iopub.status.busy": "2020-12-07T17:25:57.990745Z",
     "iopub.status.idle": "2020-12-07T17:25:57.995439Z",
     "shell.execute_reply": "2020-12-07T17:25:57.994845Z"
    },
    "papermill": {
     "duration": 0.108851,
     "end_time": "2020-12-07T17:25:57.995559",
     "exception": false,
     "start_time": "2020-12-07T17:25:57.886708",
     "status": "completed"
    },
    "tags": []
   },
   "outputs": [],
   "source": [
    "train.drop(['PoolQC','MiscFeature','Alley','Fence','FireplaceQu'],axis = 1,inplace = True)\n",
    "test.drop(['PoolQC','MiscFeature','Alley','Fence','FireplaceQu'],axis = 1,inplace = True)"
   ]
  },
  {
   "cell_type": "code",
   "execution_count": 19,
   "metadata": {
    "execution": {
     "iopub.execute_input": "2020-12-07T17:25:58.192056Z",
     "iopub.status.busy": "2020-12-07T17:25:58.191274Z",
     "iopub.status.idle": "2020-12-07T17:25:58.196312Z",
     "shell.execute_reply": "2020-12-07T17:25:58.195780Z"
    },
    "papermill": {
     "duration": 0.101974,
     "end_time": "2020-12-07T17:25:58.196424",
     "exception": false,
     "start_time": "2020-12-07T17:25:58.094450",
     "status": "completed"
    },
    "tags": []
   },
   "outputs": [],
   "source": [
    "train['LotFrontage'] = train['LotFrontage'].fillna(value=train.groupby('Neighborhood')['LotFrontage'].transform('median'))"
   ]
  },
  {
   "cell_type": "code",
   "execution_count": 20,
   "metadata": {
    "execution": {
     "iopub.execute_input": "2020-12-07T17:25:58.382356Z",
     "iopub.status.busy": "2020-12-07T17:25:58.381624Z",
     "iopub.status.idle": "2020-12-07T17:25:58.386702Z",
     "shell.execute_reply": "2020-12-07T17:25:58.386181Z"
    },
    "papermill": {
     "duration": 0.100381,
     "end_time": "2020-12-07T17:25:58.386806",
     "exception": false,
     "start_time": "2020-12-07T17:25:58.286425",
     "status": "completed"
    },
    "tags": []
   },
   "outputs": [],
   "source": [
    "test['LotFrontage'] = test['LotFrontage'].fillna(value=test.groupby('Neighborhood')['LotFrontage'].transform('median'))"
   ]
  },
  {
   "cell_type": "code",
   "execution_count": 21,
   "metadata": {
    "execution": {
     "iopub.execute_input": "2020-12-07T17:25:58.571191Z",
     "iopub.status.busy": "2020-12-07T17:25:58.570444Z",
     "iopub.status.idle": "2020-12-07T17:25:58.574149Z",
     "shell.execute_reply": "2020-12-07T17:25:58.573649Z"
    },
    "papermill": {
     "duration": 0.098283,
     "end_time": "2020-12-07T17:25:58.574280",
     "exception": false,
     "start_time": "2020-12-07T17:25:58.475997",
     "status": "completed"
    },
    "tags": []
   },
   "outputs": [
    {
     "data": {
      "text/plain": [
       "0"
      ]
     },
     "execution_count": 21,
     "metadata": {},
     "output_type": "execute_result"
    }
   ],
   "source": [
    "train['LotFrontage'].isnull().sum()"
   ]
  },
  {
   "cell_type": "code",
   "execution_count": 22,
   "metadata": {
    "execution": {
     "iopub.execute_input": "2020-12-07T17:25:58.761848Z",
     "iopub.status.busy": "2020-12-07T17:25:58.761190Z",
     "iopub.status.idle": "2020-12-07T17:25:58.764035Z",
     "shell.execute_reply": "2020-12-07T17:25:58.763528Z"
    },
    "papermill": {
     "duration": 0.100198,
     "end_time": "2020-12-07T17:25:58.764138",
     "exception": false,
     "start_time": "2020-12-07T17:25:58.663940",
     "status": "completed"
    },
    "tags": []
   },
   "outputs": [],
   "source": [
    "null_garages_train = train[(train['GarageYrBlt'].isnull()) | (train['GarageType'].isnull()) | (train['GarageFinish'].isnull()) \n",
    "      | (train['GarageQual'].isnull()) | (train['GarageCond'].isnull())]"
   ]
  },
  {
   "cell_type": "code",
   "execution_count": 23,
   "metadata": {
    "execution": {
     "iopub.execute_input": "2020-12-07T17:25:58.956053Z",
     "iopub.status.busy": "2020-12-07T17:25:58.955345Z",
     "iopub.status.idle": "2020-12-07T17:25:58.959594Z",
     "shell.execute_reply": "2020-12-07T17:25:58.958920Z"
    },
    "papermill": {
     "duration": 0.105665,
     "end_time": "2020-12-07T17:25:58.959756",
     "exception": false,
     "start_time": "2020-12-07T17:25:58.854091",
     "status": "completed"
    },
    "tags": []
   },
   "outputs": [
    {
     "data": {
      "text/plain": [
       "GarageCond      81\n",
       "GarageQual      81\n",
       "GarageFinish    81\n",
       "GarageYrBlt     81\n",
       "GarageType      81\n",
       "BsmtFinType2     7\n",
       "BsmtFinType1     7\n",
       "BsmtExposure     7\n",
       "BsmtCond         7\n",
       "BsmtQual         7\n",
       "dtype: int64"
      ]
     },
     "execution_count": 23,
     "metadata": {},
     "output_type": "execute_result"
    }
   ],
   "source": [
    "null_garages_train_n = null_garages_train.isnull().sum()\n",
    "null_garages_train_n[null_garages_train_n>0].sort_values(ascending = False)"
   ]
  },
  {
   "cell_type": "code",
   "execution_count": 24,
   "metadata": {
    "execution": {
     "iopub.execute_input": "2020-12-07T17:25:59.159198Z",
     "iopub.status.busy": "2020-12-07T17:25:59.158220Z",
     "iopub.status.idle": "2020-12-07T17:25:59.161643Z",
     "shell.execute_reply": "2020-12-07T17:25:59.161040Z"
    },
    "papermill": {
     "duration": 0.106724,
     "end_time": "2020-12-07T17:25:59.161793",
     "exception": false,
     "start_time": "2020-12-07T17:25:59.055069",
     "status": "completed"
    },
    "tags": []
   },
   "outputs": [],
   "source": [
    "for i in ('GarageType','GarageFinish','GarageQual','GarageCond'):\n",
    "    train[i] = train[i].fillna('None')"
   ]
  },
  {
   "cell_type": "code",
   "execution_count": 25,
   "metadata": {
    "execution": {
     "iopub.execute_input": "2020-12-07T17:25:59.351455Z",
     "iopub.status.busy": "2020-12-07T17:25:59.350412Z",
     "iopub.status.idle": "2020-12-07T17:25:59.353687Z",
     "shell.execute_reply": "2020-12-07T17:25:59.354183Z"
    },
    "papermill": {
     "duration": 0.101543,
     "end_time": "2020-12-07T17:25:59.354345",
     "exception": false,
     "start_time": "2020-12-07T17:25:59.252802",
     "status": "completed"
    },
    "tags": []
   },
   "outputs": [
    {
     "data": {
      "text/plain": [
       "GarageType      0\n",
       "GarageFinish    0\n",
       "GarageQual      0\n",
       "GarageCond      0\n",
       "dtype: int64"
      ]
     },
     "execution_count": 25,
     "metadata": {},
     "output_type": "execute_result"
    }
   ],
   "source": [
    "train[['GarageType','GarageFinish','GarageQual','GarageCond']].isnull().sum()"
   ]
  },
  {
   "cell_type": "code",
   "execution_count": 26,
   "metadata": {
    "execution": {
     "iopub.execute_input": "2020-12-07T17:25:59.544212Z",
     "iopub.status.busy": "2020-12-07T17:25:59.543433Z",
     "iopub.status.idle": "2020-12-07T17:25:59.546509Z",
     "shell.execute_reply": "2020-12-07T17:25:59.545990Z"
    },
    "papermill": {
     "duration": 0.100738,
     "end_time": "2020-12-07T17:25:59.546618",
     "exception": false,
     "start_time": "2020-12-07T17:25:59.445880",
     "status": "completed"
    },
    "tags": []
   },
   "outputs": [],
   "source": [
    "train['GarageYrBlt'] = train['GarageYrBlt'].fillna(0)"
   ]
  },
  {
   "cell_type": "code",
   "execution_count": 27,
   "metadata": {
    "execution": {
     "iopub.execute_input": "2020-12-07T17:25:59.736589Z",
     "iopub.status.busy": "2020-12-07T17:25:59.735627Z",
     "iopub.status.idle": "2020-12-07T17:25:59.740151Z",
     "shell.execute_reply": "2020-12-07T17:25:59.739694Z"
    },
    "papermill": {
     "duration": 0.102078,
     "end_time": "2020-12-07T17:25:59.740279",
     "exception": false,
     "start_time": "2020-12-07T17:25:59.638201",
     "status": "completed"
    },
    "tags": []
   },
   "outputs": [
    {
     "data": {
      "text/plain": [
       "0"
      ]
     },
     "execution_count": 27,
     "metadata": {},
     "output_type": "execute_result"
    }
   ],
   "source": [
    "train['GarageYrBlt'].isnull().sum()"
   ]
  },
  {
   "cell_type": "code",
   "execution_count": 28,
   "metadata": {
    "execution": {
     "iopub.execute_input": "2020-12-07T17:25:59.957954Z",
     "iopub.status.busy": "2020-12-07T17:25:59.957099Z",
     "iopub.status.idle": "2020-12-07T17:25:59.960787Z",
     "shell.execute_reply": "2020-12-07T17:25:59.959996Z"
    },
    "papermill": {
     "duration": 0.118921,
     "end_time": "2020-12-07T17:25:59.960953",
     "exception": false,
     "start_time": "2020-12-07T17:25:59.842032",
     "status": "completed"
    },
    "tags": []
   },
   "outputs": [],
   "source": [
    "null_garages_test = test[(test['GarageYrBlt'].isnull()) | (test['GarageType'].isnull()) | (test['GarageFinish'].isnull()) \n",
    "      | (test['GarageQual'].isnull()) | (test['GarageCond'].isnull()) | (test['GarageCars'].isnull()) | (test['GarageArea'].isnull())]"
   ]
  },
  {
   "cell_type": "code",
   "execution_count": 29,
   "metadata": {
    "execution": {
     "iopub.execute_input": "2020-12-07T17:26:00.228721Z",
     "iopub.status.busy": "2020-12-07T17:26:00.227648Z",
     "iopub.status.idle": "2020-12-07T17:26:00.231443Z",
     "shell.execute_reply": "2020-12-07T17:26:00.232228Z"
    },
    "papermill": {
     "duration": 0.139314,
     "end_time": "2020-12-07T17:26:00.232466",
     "exception": false,
     "start_time": "2020-12-07T17:26:00.093152",
     "status": "completed"
    },
    "tags": []
   },
   "outputs": [
    {
     "data": {
      "text/plain": [
       "GarageCond      78\n",
       "GarageQual      78\n",
       "GarageFinish    78\n",
       "GarageYrBlt     78\n",
       "GarageType      76\n",
       "BsmtFinType2     7\n",
       "BsmtFinType1     7\n",
       "BsmtExposure     7\n",
       "BsmtCond         7\n",
       "BsmtQual         7\n",
       "GarageArea       1\n",
       "GarageCars       1\n",
       "MasVnrArea       1\n",
       "MasVnrType       1\n",
       "Exterior2nd      1\n",
       "Exterior1st      1\n",
       "dtype: int64"
      ]
     },
     "execution_count": 29,
     "metadata": {},
     "output_type": "execute_result"
    }
   ],
   "source": [
    "null_garages_test_n = null_garages_test.isnull().sum()\n",
    "null_garages_test_n[null_garages_test_n>0].sort_values(ascending = False)"
   ]
  },
  {
   "cell_type": "code",
   "execution_count": 30,
   "metadata": {
    "execution": {
     "iopub.execute_input": "2020-12-07T17:26:00.437593Z",
     "iopub.status.busy": "2020-12-07T17:26:00.436892Z",
     "iopub.status.idle": "2020-12-07T17:26:00.439692Z",
     "shell.execute_reply": "2020-12-07T17:26:00.440156Z"
    },
    "papermill": {
     "duration": 0.10458,
     "end_time": "2020-12-07T17:26:00.440333",
     "exception": false,
     "start_time": "2020-12-07T17:26:00.335753",
     "status": "completed"
    },
    "tags": []
   },
   "outputs": [],
   "source": [
    "for i in ('GarageType','GarageFinish','GarageQual','GarageCond'):\n",
    "    test[i] = test[i].fillna('None')"
   ]
  },
  {
   "cell_type": "code",
   "execution_count": 31,
   "metadata": {
    "execution": {
     "iopub.execute_input": "2020-12-07T17:26:00.631297Z",
     "iopub.status.busy": "2020-12-07T17:26:00.630532Z",
     "iopub.status.idle": "2020-12-07T17:26:00.634046Z",
     "shell.execute_reply": "2020-12-07T17:26:00.633568Z"
    },
    "papermill": {
     "duration": 0.100985,
     "end_time": "2020-12-07T17:26:00.634185",
     "exception": false,
     "start_time": "2020-12-07T17:26:00.533200",
     "status": "completed"
    },
    "tags": []
   },
   "outputs": [],
   "source": [
    "for j in ('GarageYrBlt','GarageCars','GarageArea'):\n",
    "    test[j] = test[j].fillna(0)"
   ]
  },
  {
   "cell_type": "code",
   "execution_count": 32,
   "metadata": {
    "execution": {
     "iopub.execute_input": "2020-12-07T17:26:00.827864Z",
     "iopub.status.busy": "2020-12-07T17:26:00.827026Z",
     "iopub.status.idle": "2020-12-07T17:26:00.829784Z",
     "shell.execute_reply": "2020-12-07T17:26:00.829292Z"
    },
    "papermill": {
     "duration": 0.103323,
     "end_time": "2020-12-07T17:26:00.829895",
     "exception": false,
     "start_time": "2020-12-07T17:26:00.726572",
     "status": "completed"
    },
    "tags": []
   },
   "outputs": [],
   "source": [
    "null_bsmt_train = train[(train['BsmtFinType2'].isnull()) | (train['BsmtExposure'].isnull()) | (train['BsmtFinType1'].isnull()) \n",
    "      | (train['BsmtCond'].isnull()) | (train['BsmtQual'].isnull())]"
   ]
  },
  {
   "cell_type": "code",
   "execution_count": 33,
   "metadata": {
    "execution": {
     "iopub.execute_input": "2020-12-07T17:26:01.026581Z",
     "iopub.status.busy": "2020-12-07T17:26:01.025570Z",
     "iopub.status.idle": "2020-12-07T17:26:01.029416Z",
     "shell.execute_reply": "2020-12-07T17:26:01.028794Z"
    },
    "papermill": {
     "duration": 0.107139,
     "end_time": "2020-12-07T17:26:01.029528",
     "exception": false,
     "start_time": "2020-12-07T17:26:00.922389",
     "status": "completed"
    },
    "tags": []
   },
   "outputs": [
    {
     "data": {
      "text/plain": [
       "BsmtFinType2    38\n",
       "BsmtExposure    38\n",
       "BsmtFinType1    37\n",
       "BsmtCond        37\n",
       "BsmtQual        37\n",
       "dtype: int64"
      ]
     },
     "execution_count": 33,
     "metadata": {},
     "output_type": "execute_result"
    }
   ],
   "source": [
    "null_bsmt_train_n = null_bsmt_train.isnull().sum()\n",
    "null_bsmt_train_n[null_bsmt_train_n>0].sort_values(ascending = False)"
   ]
  },
  {
   "cell_type": "code",
   "execution_count": 34,
   "metadata": {
    "execution": {
     "iopub.execute_input": "2020-12-07T17:26:01.222655Z",
     "iopub.status.busy": "2020-12-07T17:26:01.221712Z",
     "iopub.status.idle": "2020-12-07T17:26:01.224695Z",
     "shell.execute_reply": "2020-12-07T17:26:01.224158Z"
    },
    "papermill": {
     "duration": 0.103252,
     "end_time": "2020-12-07T17:26:01.224803",
     "exception": false,
     "start_time": "2020-12-07T17:26:01.121551",
     "status": "completed"
    },
    "tags": []
   },
   "outputs": [],
   "source": [
    "for i in ('BsmtFinType2','BsmtExposure','BsmtFinType1','BsmtCond','BsmtQual'):\n",
    "    train[i] = train[i].fillna('None')"
   ]
  },
  {
   "cell_type": "code",
   "execution_count": 35,
   "metadata": {
    "execution": {
     "iopub.execute_input": "2020-12-07T17:26:01.420386Z",
     "iopub.status.busy": "2020-12-07T17:26:01.419371Z",
     "iopub.status.idle": "2020-12-07T17:26:01.423567Z",
     "shell.execute_reply": "2020-12-07T17:26:01.422956Z"
    },
    "papermill": {
     "duration": 0.105118,
     "end_time": "2020-12-07T17:26:01.423676",
     "exception": false,
     "start_time": "2020-12-07T17:26:01.318558",
     "status": "completed"
    },
    "tags": []
   },
   "outputs": [
    {
     "data": {
      "text/plain": [
       "BsmtFinType2    0\n",
       "BsmtExposure    0\n",
       "BsmtFinType1    0\n",
       "BsmtCond        0\n",
       "BsmtQual        0\n",
       "dtype: int64"
      ]
     },
     "execution_count": 35,
     "metadata": {},
     "output_type": "execute_result"
    }
   ],
   "source": [
    "train[['BsmtFinType2','BsmtExposure','BsmtFinType1','BsmtCond','BsmtQual']].isnull().sum()"
   ]
  },
  {
   "cell_type": "code",
   "execution_count": 36,
   "metadata": {
    "execution": {
     "iopub.execute_input": "2020-12-07T17:26:01.620956Z",
     "iopub.status.busy": "2020-12-07T17:26:01.619143Z",
     "iopub.status.idle": "2020-12-07T17:26:01.624191Z",
     "shell.execute_reply": "2020-12-07T17:26:01.623577Z"
    },
    "papermill": {
     "duration": 0.106382,
     "end_time": "2020-12-07T17:26:01.624316",
     "exception": false,
     "start_time": "2020-12-07T17:26:01.517934",
     "status": "completed"
    },
    "tags": []
   },
   "outputs": [],
   "source": [
    "null_bsmt_test = test[(test['BsmtFinType2'].isnull()) | (test['BsmtExposure'].isnull()) | (test['BsmtFinType1'].isnull()) \n",
    "      | (test['BsmtCond'].isnull()) | (test['BsmtQual'].isnull()) | (test['BsmtFullBath'].isnull()) \n",
    "      | (test['BsmtHalfBath'].isnull()) | (test['BsmtFinSF1'].isnull()) | (test['BsmtFinSF2'].isnull()) \n",
    "      | (test['BsmtUnfSF'].isnull())]"
   ]
  },
  {
   "cell_type": "code",
   "execution_count": 37,
   "metadata": {
    "execution": {
     "iopub.execute_input": "2020-12-07T17:26:01.820026Z",
     "iopub.status.busy": "2020-12-07T17:26:01.819241Z",
     "iopub.status.idle": "2020-12-07T17:26:01.823330Z",
     "shell.execute_reply": "2020-12-07T17:26:01.822696Z"
    },
    "papermill": {
     "duration": 0.10525,
     "end_time": "2020-12-07T17:26:01.823437",
     "exception": false,
     "start_time": "2020-12-07T17:26:01.718187",
     "status": "completed"
    },
    "tags": []
   },
   "outputs": [
    {
     "data": {
      "text/plain": [
       "BsmtCond        45\n",
       "BsmtExposure    44\n",
       "BsmtQual        44\n",
       "BsmtFinType2    42\n",
       "BsmtFinType1    42\n",
       "MSZoning         3\n",
       "BsmtHalfBath     2\n",
       "BsmtFullBath     2\n",
       "Functional       1\n",
       "TotalBsmtSF      1\n",
       "BsmtUnfSF        1\n",
       "BsmtFinSF2       1\n",
       "BsmtFinSF1       1\n",
       "Utilities        1\n",
       "dtype: int64"
      ]
     },
     "execution_count": 37,
     "metadata": {},
     "output_type": "execute_result"
    }
   ],
   "source": [
    "null_bsmt_test_n = null_bsmt_test.isnull().sum()\n",
    "null_bsmt_test_n[null_bsmt_test_n>0].sort_values(ascending = False)"
   ]
  },
  {
   "cell_type": "code",
   "execution_count": 38,
   "metadata": {
    "execution": {
     "iopub.execute_input": "2020-12-07T17:26:02.032056Z",
     "iopub.status.busy": "2020-12-07T17:26:02.031416Z",
     "iopub.status.idle": "2020-12-07T17:26:02.034744Z",
     "shell.execute_reply": "2020-12-07T17:26:02.034177Z"
    },
    "papermill": {
     "duration": 0.117641,
     "end_time": "2020-12-07T17:26:02.034869",
     "exception": false,
     "start_time": "2020-12-07T17:26:01.917228",
     "status": "completed"
    },
    "tags": []
   },
   "outputs": [],
   "source": [
    "for i in ('BsmtFinType2','BsmtExposure','BsmtFinType1','BsmtCond','BsmtQual'):\n",
    "    test[i] = test[i].fillna('None')"
   ]
  },
  {
   "cell_type": "code",
   "execution_count": 39,
   "metadata": {
    "execution": {
     "iopub.execute_input": "2020-12-07T17:26:02.231659Z",
     "iopub.status.busy": "2020-12-07T17:26:02.229359Z",
     "iopub.status.idle": "2020-12-07T17:26:02.235481Z",
     "shell.execute_reply": "2020-12-07T17:26:02.234741Z"
    },
    "papermill": {
     "duration": 0.105736,
     "end_time": "2020-12-07T17:26:02.235611",
     "exception": false,
     "start_time": "2020-12-07T17:26:02.129875",
     "status": "completed"
    },
    "tags": []
   },
   "outputs": [],
   "source": [
    "for j in ('BsmtFullBath','BsmtHalfBath','BsmtFinSF1','BsmtFinSF2','BsmtUnfSF','TotalBsmtSF'):\n",
    "    test[j] = test[j].fillna(0)"
   ]
  },
  {
   "cell_type": "code",
   "execution_count": 40,
   "metadata": {
    "execution": {
     "iopub.execute_input": "2020-12-07T17:26:02.434637Z",
     "iopub.status.busy": "2020-12-07T17:26:02.433876Z",
     "iopub.status.idle": "2020-12-07T17:26:02.437813Z",
     "shell.execute_reply": "2020-12-07T17:26:02.438265Z"
    },
    "papermill": {
     "duration": 0.108324,
     "end_time": "2020-12-07T17:26:02.438410",
     "exception": false,
     "start_time": "2020-12-07T17:26:02.330086",
     "status": "completed"
    },
    "tags": []
   },
   "outputs": [
    {
     "data": {
      "text/plain": [
       "BsmtFinType2    0\n",
       "BsmtExposure    0\n",
       "BsmtFinType1    0\n",
       "BsmtCond        0\n",
       "BsmtQual        0\n",
       "BsmtFullBath    0\n",
       "BsmtHalfBath    0\n",
       "BsmtFinSF1      0\n",
       "BsmtFinSF2      0\n",
       "BsmtUnfSF       0\n",
       "TotalBsmtSF     0\n",
       "dtype: int64"
      ]
     },
     "execution_count": 40,
     "metadata": {},
     "output_type": "execute_result"
    }
   ],
   "source": [
    "train[['BsmtFinType2','BsmtExposure','BsmtFinType1','BsmtCond','BsmtQual',\n",
    "      'BsmtFullBath','BsmtHalfBath','BsmtFinSF1','BsmtFinSF2','BsmtUnfSF','TotalBsmtSF']].isnull().sum()"
   ]
  },
  {
   "cell_type": "code",
   "execution_count": 41,
   "metadata": {
    "execution": {
     "iopub.execute_input": "2020-12-07T17:26:02.635210Z",
     "iopub.status.busy": "2020-12-07T17:26:02.634559Z",
     "iopub.status.idle": "2020-12-07T17:26:02.641593Z",
     "shell.execute_reply": "2020-12-07T17:26:02.640939Z"
    },
    "papermill": {
     "duration": 0.108841,
     "end_time": "2020-12-07T17:26:02.641707",
     "exception": false,
     "start_time": "2020-12-07T17:26:02.532866",
     "status": "completed"
    },
    "tags": []
   },
   "outputs": [
    {
     "data": {
      "text/plain": [
       "MasVnrArea    8\n",
       "MasVnrType    8\n",
       "Electrical    1\n",
       "dtype: int64"
      ]
     },
     "execution_count": 41,
     "metadata": {},
     "output_type": "execute_result"
    }
   ],
   "source": [
    "null_counts_train = train.isnull().sum()\n",
    "null_counts_train[null_counts_train>0].sort_values(ascending = False)"
   ]
  },
  {
   "cell_type": "code",
   "execution_count": 42,
   "metadata": {
    "execution": {
     "iopub.execute_input": "2020-12-07T17:26:02.838861Z",
     "iopub.status.busy": "2020-12-07T17:26:02.838172Z",
     "iopub.status.idle": "2020-12-07T17:26:02.844686Z",
     "shell.execute_reply": "2020-12-07T17:26:02.845180Z"
    },
    "papermill": {
     "duration": 0.108931,
     "end_time": "2020-12-07T17:26:02.845338",
     "exception": false,
     "start_time": "2020-12-07T17:26:02.736407",
     "status": "completed"
    },
    "tags": []
   },
   "outputs": [
    {
     "data": {
      "text/plain": [
       "MasVnrType     16\n",
       "MasVnrArea     15\n",
       "MSZoning        4\n",
       "Functional      2\n",
       "Utilities       2\n",
       "SaleType        1\n",
       "KitchenQual     1\n",
       "Exterior2nd     1\n",
       "Exterior1st     1\n",
       "dtype: int64"
      ]
     },
     "execution_count": 42,
     "metadata": {},
     "output_type": "execute_result"
    }
   ],
   "source": [
    "null_counts_test = test.isnull().sum()\n",
    "null_counts_test[null_counts_test>0].sort_values(ascending = False)"
   ]
  },
  {
   "cell_type": "code",
   "execution_count": 43,
   "metadata": {
    "execution": {
     "iopub.execute_input": "2020-12-07T17:26:03.047328Z",
     "iopub.status.busy": "2020-12-07T17:26:03.046662Z",
     "iopub.status.idle": "2020-12-07T17:26:03.049600Z",
     "shell.execute_reply": "2020-12-07T17:26:03.048971Z"
    },
    "papermill": {
     "duration": 0.109434,
     "end_time": "2020-12-07T17:26:03.049711",
     "exception": false,
     "start_time": "2020-12-07T17:26:02.940277",
     "status": "completed"
    },
    "tags": []
   },
   "outputs": [],
   "source": [
    "null_masvnr_train = train[(train['MasVnrType'].isnull()) | (train['MasVnrArea'].isnull())]"
   ]
  },
  {
   "cell_type": "code",
   "execution_count": 44,
   "metadata": {
    "execution": {
     "iopub.execute_input": "2020-12-07T17:26:03.250981Z",
     "iopub.status.busy": "2020-12-07T17:26:03.249985Z",
     "iopub.status.idle": "2020-12-07T17:26:03.254042Z",
     "shell.execute_reply": "2020-12-07T17:26:03.253428Z"
    },
    "papermill": {
     "duration": 0.108965,
     "end_time": "2020-12-07T17:26:03.254160",
     "exception": false,
     "start_time": "2020-12-07T17:26:03.145195",
     "status": "completed"
    },
    "tags": []
   },
   "outputs": [
    {
     "data": {
      "text/plain": [
       "MasVnrArea    8\n",
       "MasVnrType    8\n",
       "dtype: int64"
      ]
     },
     "execution_count": 44,
     "metadata": {},
     "output_type": "execute_result"
    }
   ],
   "source": [
    "null_masvnr_train_n = null_masvnr_train.isnull().sum()\n",
    "null_masvnr_train_n[null_masvnr_train_n>0].sort_values(ascending = False)"
   ]
  },
  {
   "cell_type": "code",
   "execution_count": 45,
   "metadata": {
    "execution": {
     "iopub.execute_input": "2020-12-07T17:26:03.451916Z",
     "iopub.status.busy": "2020-12-07T17:26:03.451091Z",
     "iopub.status.idle": "2020-12-07T17:26:03.454427Z",
     "shell.execute_reply": "2020-12-07T17:26:03.453787Z"
    },
    "papermill": {
     "duration": 0.105122,
     "end_time": "2020-12-07T17:26:03.454539",
     "exception": false,
     "start_time": "2020-12-07T17:26:03.349417",
     "status": "completed"
    },
    "tags": []
   },
   "outputs": [],
   "source": [
    "train['MasVnrArea'] = train['MasVnrArea'].fillna(0)"
   ]
  },
  {
   "cell_type": "code",
   "execution_count": 46,
   "metadata": {
    "execution": {
     "iopub.execute_input": "2020-12-07T17:26:03.651535Z",
     "iopub.status.busy": "2020-12-07T17:26:03.650921Z",
     "iopub.status.idle": "2020-12-07T17:26:03.653807Z",
     "shell.execute_reply": "2020-12-07T17:26:03.653184Z"
    },
    "papermill": {
     "duration": 0.103773,
     "end_time": "2020-12-07T17:26:03.653912",
     "exception": false,
     "start_time": "2020-12-07T17:26:03.550139",
     "status": "completed"
    },
    "tags": []
   },
   "outputs": [],
   "source": [
    "train['MasVnrType'] = train['MasVnrType'].fillna('None')"
   ]
  },
  {
   "cell_type": "code",
   "execution_count": 47,
   "metadata": {
    "execution": {
     "iopub.execute_input": "2020-12-07T17:26:03.851774Z",
     "iopub.status.busy": "2020-12-07T17:26:03.851096Z",
     "iopub.status.idle": "2020-12-07T17:26:03.854168Z",
     "shell.execute_reply": "2020-12-07T17:26:03.853543Z"
    },
    "papermill": {
     "duration": 0.104616,
     "end_time": "2020-12-07T17:26:03.854317",
     "exception": false,
     "start_time": "2020-12-07T17:26:03.749701",
     "status": "completed"
    },
    "tags": []
   },
   "outputs": [],
   "source": [
    "null_masvnr_test = test[(test['MasVnrType'].isnull()) | (test['MasVnrArea'].isnull())]"
   ]
  },
  {
   "cell_type": "code",
   "execution_count": 48,
   "metadata": {
    "execution": {
     "iopub.execute_input": "2020-12-07T17:26:04.060197Z",
     "iopub.status.busy": "2020-12-07T17:26:04.059080Z",
     "iopub.status.idle": "2020-12-07T17:26:04.062919Z",
     "shell.execute_reply": "2020-12-07T17:26:04.063733Z"
    },
    "papermill": {
     "duration": 0.113763,
     "end_time": "2020-12-07T17:26:04.063960",
     "exception": false,
     "start_time": "2020-12-07T17:26:03.950197",
     "status": "completed"
    },
    "tags": []
   },
   "outputs": [
    {
     "data": {
      "text/plain": [
       "MasVnrType    16\n",
       "MasVnrArea    15\n",
       "dtype: int64"
      ]
     },
     "execution_count": 48,
     "metadata": {},
     "output_type": "execute_result"
    }
   ],
   "source": [
    "null_masvnr_test_n = null_masvnr_test.isnull().sum()\n",
    "null_masvnr_test_n[null_masvnr_test_n>0].sort_values(ascending = False)"
   ]
  },
  {
   "cell_type": "code",
   "execution_count": 49,
   "metadata": {
    "execution": {
     "iopub.execute_input": "2020-12-07T17:26:04.269271Z",
     "iopub.status.busy": "2020-12-07T17:26:04.268447Z",
     "iopub.status.idle": "2020-12-07T17:26:04.270832Z",
     "shell.execute_reply": "2020-12-07T17:26:04.271294Z"
    },
    "papermill": {
     "duration": 0.105341,
     "end_time": "2020-12-07T17:26:04.271437",
     "exception": false,
     "start_time": "2020-12-07T17:26:04.166096",
     "status": "completed"
    },
    "tags": []
   },
   "outputs": [],
   "source": [
    "test['MasVnrArea'] = test['MasVnrArea'].fillna(0)"
   ]
  },
  {
   "cell_type": "code",
   "execution_count": 50,
   "metadata": {
    "execution": {
     "iopub.execute_input": "2020-12-07T17:26:04.472057Z",
     "iopub.status.busy": "2020-12-07T17:26:04.471088Z",
     "iopub.status.idle": "2020-12-07T17:26:04.473926Z",
     "shell.execute_reply": "2020-12-07T17:26:04.474383Z"
    },
    "papermill": {
     "duration": 0.106624,
     "end_time": "2020-12-07T17:26:04.474526",
     "exception": false,
     "start_time": "2020-12-07T17:26:04.367902",
     "status": "completed"
    },
    "tags": []
   },
   "outputs": [],
   "source": [
    "test['MasVnrType'] = test['MasVnrType'].fillna('None')"
   ]
  },
  {
   "cell_type": "code",
   "execution_count": 51,
   "metadata": {
    "execution": {
     "iopub.execute_input": "2020-12-07T17:26:04.675597Z",
     "iopub.status.busy": "2020-12-07T17:26:04.674578Z",
     "iopub.status.idle": "2020-12-07T17:26:04.681321Z",
     "shell.execute_reply": "2020-12-07T17:26:04.680818Z"
    },
    "papermill": {
     "duration": 0.110636,
     "end_time": "2020-12-07T17:26:04.681448",
     "exception": false,
     "start_time": "2020-12-07T17:26:04.570812",
     "status": "completed"
    },
    "tags": []
   },
   "outputs": [],
   "source": [
    "train.dropna(inplace= True)"
   ]
  },
  {
   "cell_type": "code",
   "execution_count": 52,
   "metadata": {
    "execution": {
     "iopub.execute_input": "2020-12-07T17:26:04.882993Z",
     "iopub.status.busy": "2020-12-07T17:26:04.882226Z",
     "iopub.status.idle": "2020-12-07T17:26:04.885710Z",
     "shell.execute_reply": "2020-12-07T17:26:04.886177Z"
    },
    "papermill": {
     "duration": 0.107638,
     "end_time": "2020-12-07T17:26:04.886360",
     "exception": false,
     "start_time": "2020-12-07T17:26:04.778722",
     "status": "completed"
    },
    "tags": []
   },
   "outputs": [
    {
     "data": {
      "text/plain": [
       "RL         1114\n",
       "RM          242\n",
       "FV           74\n",
       "C (all)      15\n",
       "RH           10\n",
       "Name: MSZoning, dtype: int64"
      ]
     },
     "execution_count": 52,
     "metadata": {},
     "output_type": "execute_result"
    }
   ],
   "source": [
    "test['MSZoning'].value_counts()"
   ]
  },
  {
   "cell_type": "code",
   "execution_count": 53,
   "metadata": {
    "execution": {
     "iopub.execute_input": "2020-12-07T17:26:05.092907Z",
     "iopub.status.busy": "2020-12-07T17:26:05.092057Z",
     "iopub.status.idle": "2020-12-07T17:26:05.096325Z",
     "shell.execute_reply": "2020-12-07T17:26:05.095714Z"
    },
    "papermill": {
     "duration": 0.112027,
     "end_time": "2020-12-07T17:26:05.096453",
     "exception": false,
     "start_time": "2020-12-07T17:26:04.984426",
     "status": "completed"
    },
    "tags": []
   },
   "outputs": [
    {
     "data": {
      "text/html": [
       "<div>\n",
       "<style scoped>\n",
       "    .dataframe tbody tr th:only-of-type {\n",
       "        vertical-align: middle;\n",
       "    }\n",
       "\n",
       "    .dataframe tbody tr th {\n",
       "        vertical-align: top;\n",
       "    }\n",
       "\n",
       "    .dataframe thead th {\n",
       "        text-align: right;\n",
       "    }\n",
       "</style>\n",
       "<table border=\"1\" class=\"dataframe\">\n",
       "  <thead>\n",
       "    <tr style=\"text-align: right;\">\n",
       "      <th></th>\n",
       "      <th>Id</th>\n",
       "      <th>Neighborhood</th>\n",
       "    </tr>\n",
       "  </thead>\n",
       "  <tbody>\n",
       "    <tr>\n",
       "      <th>455</th>\n",
       "      <td>1916</td>\n",
       "      <td>IDOTRR</td>\n",
       "    </tr>\n",
       "    <tr>\n",
       "      <th>756</th>\n",
       "      <td>2217</td>\n",
       "      <td>IDOTRR</td>\n",
       "    </tr>\n",
       "    <tr>\n",
       "      <th>790</th>\n",
       "      <td>2251</td>\n",
       "      <td>IDOTRR</td>\n",
       "    </tr>\n",
       "    <tr>\n",
       "      <th>1444</th>\n",
       "      <td>2905</td>\n",
       "      <td>Mitchel</td>\n",
       "    </tr>\n",
       "  </tbody>\n",
       "</table>\n",
       "</div>"
      ],
      "text/plain": [
       "        Id Neighborhood\n",
       "455   1916       IDOTRR\n",
       "756   2217       IDOTRR\n",
       "790   2251       IDOTRR\n",
       "1444  2905      Mitchel"
      ]
     },
     "execution_count": 53,
     "metadata": {},
     "output_type": "execute_result"
    }
   ],
   "source": [
    "test[test['MSZoning'].isnull()][['Id','Neighborhood']]"
   ]
  },
  {
   "cell_type": "code",
   "execution_count": 54,
   "metadata": {
    "execution": {
     "iopub.execute_input": "2020-12-07T17:26:05.304455Z",
     "iopub.status.busy": "2020-12-07T17:26:05.303586Z",
     "iopub.status.idle": "2020-12-07T17:26:05.307737Z",
     "shell.execute_reply": "2020-12-07T17:26:05.307229Z"
    },
    "papermill": {
     "duration": 0.1134,
     "end_time": "2020-12-07T17:26:05.307900",
     "exception": false,
     "start_time": "2020-12-07T17:26:05.194500",
     "status": "completed"
    },
    "tags": []
   },
   "outputs": [
    {
     "data": {
      "text/plain": [
       "MSZoning\n",
       "C (all)    13\n",
       "RM         40\n",
       "Name: Neighborhood, dtype: int64"
      ]
     },
     "execution_count": 54,
     "metadata": {},
     "output_type": "execute_result"
    }
   ],
   "source": [
    "test[test['Neighborhood'] == 'IDOTRR'].groupby('MSZoning').count()['Neighborhood']"
   ]
  },
  {
   "cell_type": "code",
   "execution_count": 55,
   "metadata": {
    "execution": {
     "iopub.execute_input": "2020-12-07T17:26:05.574039Z",
     "iopub.status.busy": "2020-12-07T17:26:05.572970Z",
     "iopub.status.idle": "2020-12-07T17:26:05.577019Z",
     "shell.execute_reply": "2020-12-07T17:26:05.576544Z"
    },
    "papermill": {
     "duration": 0.170807,
     "end_time": "2020-12-07T17:26:05.577131",
     "exception": false,
     "start_time": "2020-12-07T17:26:05.406324",
     "status": "completed"
    },
    "tags": []
   },
   "outputs": [
    {
     "data": {
      "text/plain": [
       "MSZoning\n",
       "RL    60\n",
       "RM     4\n",
       "Name: Neighborhood, dtype: int64"
      ]
     },
     "execution_count": 55,
     "metadata": {},
     "output_type": "execute_result"
    }
   ],
   "source": [
    "test[test['Neighborhood'] == 'Mitchel'].groupby('MSZoning').count()['Neighborhood']"
   ]
  },
  {
   "cell_type": "code",
   "execution_count": 56,
   "metadata": {
    "execution": {
     "iopub.execute_input": "2020-12-07T17:26:05.790878Z",
     "iopub.status.busy": "2020-12-07T17:26:05.789972Z",
     "iopub.status.idle": "2020-12-07T17:26:05.792814Z",
     "shell.execute_reply": "2020-12-07T17:26:05.792325Z"
    },
    "papermill": {
     "duration": 0.117121,
     "end_time": "2020-12-07T17:26:05.792934",
     "exception": false,
     "start_time": "2020-12-07T17:26:05.675813",
     "status": "completed"
    },
    "tags": []
   },
   "outputs": [],
   "source": [
    "test['MSZoning'] = test.groupby('Neighborhood')['MSZoning'].fillna(value='RM',limit=2)"
   ]
  },
  {
   "cell_type": "code",
   "execution_count": 57,
   "metadata": {
    "execution": {
     "iopub.execute_input": "2020-12-07T17:26:05.996069Z",
     "iopub.status.busy": "2020-12-07T17:26:05.995444Z",
     "iopub.status.idle": "2020-12-07T17:26:05.998508Z",
     "shell.execute_reply": "2020-12-07T17:26:05.997897Z"
    },
    "papermill": {
     "duration": 0.107513,
     "end_time": "2020-12-07T17:26:05.998618",
     "exception": false,
     "start_time": "2020-12-07T17:26:05.891105",
     "status": "completed"
    },
    "tags": []
   },
   "outputs": [],
   "source": [
    "test['MSZoning'] = test['MSZoning'].fillna('RL')"
   ]
  },
  {
   "cell_type": "code",
   "execution_count": 58,
   "metadata": {
    "execution": {
     "iopub.execute_input": "2020-12-07T17:26:06.203107Z",
     "iopub.status.busy": "2020-12-07T17:26:06.202384Z",
     "iopub.status.idle": "2020-12-07T17:26:06.205829Z",
     "shell.execute_reply": "2020-12-07T17:26:06.206332Z"
    },
    "papermill": {
     "duration": 0.109406,
     "end_time": "2020-12-07T17:26:06.206479",
     "exception": false,
     "start_time": "2020-12-07T17:26:06.097073",
     "status": "completed"
    },
    "tags": []
   },
   "outputs": [
    {
     "data": {
      "text/plain": [
       "455    RM\n",
       "Name: MSZoning, dtype: object"
      ]
     },
     "execution_count": 58,
     "metadata": {},
     "output_type": "execute_result"
    }
   ],
   "source": [
    "test[test['Id']==1916]['MSZoning']"
   ]
  },
  {
   "cell_type": "code",
   "execution_count": 59,
   "metadata": {
    "execution": {
     "iopub.execute_input": "2020-12-07T17:26:06.414614Z",
     "iopub.status.busy": "2020-12-07T17:26:06.413703Z",
     "iopub.status.idle": "2020-12-07T17:26:06.418228Z",
     "shell.execute_reply": "2020-12-07T17:26:06.417573Z"
    },
    "papermill": {
     "duration": 0.11189,
     "end_time": "2020-12-07T17:26:06.418362",
     "exception": false,
     "start_time": "2020-12-07T17:26:06.306472",
     "status": "completed"
    },
    "tags": []
   },
   "outputs": [
    {
     "data": {
      "text/plain": [
       "Typ     1357\n",
       "Min2      36\n",
       "Min1      34\n",
       "Mod       20\n",
       "Maj1       5\n",
       "Maj2       4\n",
       "Sev        1\n",
       "Name: Functional, dtype: int64"
      ]
     },
     "execution_count": 59,
     "metadata": {},
     "output_type": "execute_result"
    }
   ],
   "source": [
    "test['Functional'].value_counts()"
   ]
  },
  {
   "cell_type": "code",
   "execution_count": 60,
   "metadata": {
    "execution": {
     "iopub.execute_input": "2020-12-07T17:26:06.644709Z",
     "iopub.status.busy": "2020-12-07T17:26:06.643448Z",
     "iopub.status.idle": "2020-12-07T17:26:06.645920Z",
     "shell.execute_reply": "2020-12-07T17:26:06.646725Z"
    },
    "papermill": {
     "duration": 0.1277,
     "end_time": "2020-12-07T17:26:06.646931",
     "exception": false,
     "start_time": "2020-12-07T17:26:06.519231",
     "status": "completed"
    },
    "tags": []
   },
   "outputs": [],
   "source": [
    "test['Functional'] = test['Functional'].fillna('Typ')"
   ]
  },
  {
   "cell_type": "code",
   "execution_count": 61,
   "metadata": {
    "execution": {
     "iopub.execute_input": "2020-12-07T17:26:06.881414Z",
     "iopub.status.busy": "2020-12-07T17:26:06.878976Z",
     "iopub.status.idle": "2020-12-07T17:26:06.885632Z",
     "shell.execute_reply": "2020-12-07T17:26:06.886102Z"
    },
    "papermill": {
     "duration": 0.131465,
     "end_time": "2020-12-07T17:26:06.886264",
     "exception": false,
     "start_time": "2020-12-07T17:26:06.754799",
     "status": "completed"
    },
    "tags": []
   },
   "outputs": [
    {
     "data": {
      "text/plain": [
       "AllPub    1457\n",
       "Name: Utilities, dtype: int64"
      ]
     },
     "execution_count": 61,
     "metadata": {},
     "output_type": "execute_result"
    }
   ],
   "source": [
    "test['Utilities'].value_counts()"
   ]
  },
  {
   "cell_type": "code",
   "execution_count": 62,
   "metadata": {
    "execution": {
     "iopub.execute_input": "2020-12-07T17:26:07.103529Z",
     "iopub.status.busy": "2020-12-07T17:26:07.102622Z",
     "iopub.status.idle": "2020-12-07T17:26:07.107066Z",
     "shell.execute_reply": "2020-12-07T17:26:07.106382Z"
    },
    "papermill": {
     "duration": 0.112035,
     "end_time": "2020-12-07T17:26:07.107214",
     "exception": false,
     "start_time": "2020-12-07T17:26:06.995179",
     "status": "completed"
    },
    "tags": []
   },
   "outputs": [
    {
     "data": {
      "text/plain": [
       "AllPub    1458\n",
       "NoSeWa       1\n",
       "Name: Utilities, dtype: int64"
      ]
     },
     "execution_count": 62,
     "metadata": {},
     "output_type": "execute_result"
    }
   ],
   "source": [
    "train['Utilities'].value_counts()"
   ]
  },
  {
   "cell_type": "code",
   "execution_count": 63,
   "metadata": {
    "execution": {
     "iopub.execute_input": "2020-12-07T17:26:07.328725Z",
     "iopub.status.busy": "2020-12-07T17:26:07.327800Z",
     "iopub.status.idle": "2020-12-07T17:26:07.330689Z",
     "shell.execute_reply": "2020-12-07T17:26:07.330036Z"
    },
    "papermill": {
     "duration": 0.116615,
     "end_time": "2020-12-07T17:26:07.330811",
     "exception": false,
     "start_time": "2020-12-07T17:26:07.214196",
     "status": "completed"
    },
    "tags": []
   },
   "outputs": [],
   "source": [
    "test['Utilities'] = test['Utilities'].fillna('AllPub')"
   ]
  },
  {
   "cell_type": "code",
   "execution_count": 64,
   "metadata": {
    "execution": {
     "iopub.execute_input": "2020-12-07T17:26:07.539943Z",
     "iopub.status.busy": "2020-12-07T17:26:07.538930Z",
     "iopub.status.idle": "2020-12-07T17:26:07.543661Z",
     "shell.execute_reply": "2020-12-07T17:26:07.542959Z"
    },
    "papermill": {
     "duration": 0.111048,
     "end_time": "2020-12-07T17:26:07.543787",
     "exception": false,
     "start_time": "2020-12-07T17:26:07.432739",
     "status": "completed"
    },
    "tags": []
   },
   "outputs": [],
   "source": [
    "train = train[train['Utilities']!='NoSeWa']"
   ]
  },
  {
   "cell_type": "code",
   "execution_count": 65,
   "metadata": {
    "execution": {
     "iopub.execute_input": "2020-12-07T17:26:07.752996Z",
     "iopub.status.busy": "2020-12-07T17:26:07.752307Z",
     "iopub.status.idle": "2020-12-07T17:26:07.755872Z",
     "shell.execute_reply": "2020-12-07T17:26:07.756361Z"
    },
    "papermill": {
     "duration": 0.111529,
     "end_time": "2020-12-07T17:26:07.756496",
     "exception": false,
     "start_time": "2020-12-07T17:26:07.644967",
     "status": "completed"
    },
    "tags": []
   },
   "outputs": [
    {
     "data": {
      "text/plain": [
       "WD       1258\n",
       "New       117\n",
       "COD        44\n",
       "ConLD      17\n",
       "CWD         8\n",
       "Oth         4\n",
       "ConLI       4\n",
       "ConLw       3\n",
       "Con         3\n",
       "Name: SaleType, dtype: int64"
      ]
     },
     "execution_count": 65,
     "metadata": {},
     "output_type": "execute_result"
    }
   ],
   "source": [
    "test['SaleType'].value_counts()"
   ]
  },
  {
   "cell_type": "code",
   "execution_count": 66,
   "metadata": {
    "execution": {
     "iopub.execute_input": "2020-12-07T17:26:07.967886Z",
     "iopub.status.busy": "2020-12-07T17:26:07.966187Z",
     "iopub.status.idle": "2020-12-07T17:26:07.970479Z",
     "shell.execute_reply": "2020-12-07T17:26:07.970941Z"
    },
    "papermill": {
     "duration": 0.113465,
     "end_time": "2020-12-07T17:26:07.971104",
     "exception": false,
     "start_time": "2020-12-07T17:26:07.857639",
     "status": "completed"
    },
    "tags": []
   },
   "outputs": [
    {
     "data": {
      "text/plain": [
       "1029    Sawyer\n",
       "Name: Neighborhood, dtype: object"
      ]
     },
     "execution_count": 66,
     "metadata": {},
     "output_type": "execute_result"
    }
   ],
   "source": [
    "test[test['SaleType'].isnull()]['Neighborhood']"
   ]
  },
  {
   "cell_type": "code",
   "execution_count": 67,
   "metadata": {
    "execution": {
     "iopub.execute_input": "2020-12-07T17:26:08.185423Z",
     "iopub.status.busy": "2020-12-07T17:26:08.183613Z",
     "iopub.status.idle": "2020-12-07T17:26:08.189651Z",
     "shell.execute_reply": "2020-12-07T17:26:08.190097Z"
    },
    "papermill": {
     "duration": 0.115816,
     "end_time": "2020-12-07T17:26:08.190239",
     "exception": false,
     "start_time": "2020-12-07T17:26:08.074423",
     "status": "completed"
    },
    "tags": []
   },
   "outputs": [
    {
     "data": {
      "text/plain": [
       "SaleType\n",
       "COD     3\n",
       "Oth     1\n",
       "WD     72\n",
       "Name: Neighborhood, dtype: int64"
      ]
     },
     "execution_count": 67,
     "metadata": {},
     "output_type": "execute_result"
    }
   ],
   "source": [
    "test[test['Neighborhood']=='Sawyer'].groupby('SaleType').count()['Neighborhood']"
   ]
  },
  {
   "cell_type": "code",
   "execution_count": 68,
   "metadata": {
    "execution": {
     "iopub.execute_input": "2020-12-07T17:26:08.402877Z",
     "iopub.status.busy": "2020-12-07T17:26:08.402207Z",
     "iopub.status.idle": "2020-12-07T17:26:08.405289Z",
     "shell.execute_reply": "2020-12-07T17:26:08.404804Z"
    },
    "papermill": {
     "duration": 0.110821,
     "end_time": "2020-12-07T17:26:08.405408",
     "exception": false,
     "start_time": "2020-12-07T17:26:08.294587",
     "status": "completed"
    },
    "tags": []
   },
   "outputs": [],
   "source": [
    "test['SaleType'] = test['SaleType'].fillna('WD')"
   ]
  },
  {
   "cell_type": "code",
   "execution_count": 69,
   "metadata": {
    "execution": {
     "iopub.execute_input": "2020-12-07T17:26:08.617479Z",
     "iopub.status.busy": "2020-12-07T17:26:08.616829Z",
     "iopub.status.idle": "2020-12-07T17:26:08.621451Z",
     "shell.execute_reply": "2020-12-07T17:26:08.620913Z"
    },
    "papermill": {
     "duration": 0.113578,
     "end_time": "2020-12-07T17:26:08.621563",
     "exception": false,
     "start_time": "2020-12-07T17:26:08.507985",
     "status": "completed"
    },
    "tags": []
   },
   "outputs": [
    {
     "data": {
      "text/plain": [
       "TA    757\n",
       "Gd    565\n",
       "Ex    105\n",
       "Fa     31\n",
       "Name: KitchenQual, dtype: int64"
      ]
     },
     "execution_count": 69,
     "metadata": {},
     "output_type": "execute_result"
    }
   ],
   "source": [
    "test['KitchenQual'].value_counts()"
   ]
  },
  {
   "cell_type": "code",
   "execution_count": 70,
   "metadata": {
    "execution": {
     "iopub.execute_input": "2020-12-07T17:26:08.834387Z",
     "iopub.status.busy": "2020-12-07T17:26:08.833402Z",
     "iopub.status.idle": "2020-12-07T17:26:08.837199Z",
     "shell.execute_reply": "2020-12-07T17:26:08.836663Z"
    },
    "papermill": {
     "duration": 0.112562,
     "end_time": "2020-12-07T17:26:08.837326",
     "exception": false,
     "start_time": "2020-12-07T17:26:08.724764",
     "status": "completed"
    },
    "tags": []
   },
   "outputs": [
    {
     "data": {
      "text/plain": [
       "95    ClearCr\n",
       "Name: Neighborhood, dtype: object"
      ]
     },
     "execution_count": 70,
     "metadata": {},
     "output_type": "execute_result"
    }
   ],
   "source": [
    "test[test['KitchenQual'].isnull()]['Neighborhood']"
   ]
  },
  {
   "cell_type": "code",
   "execution_count": 71,
   "metadata": {
    "execution": {
     "iopub.execute_input": "2020-12-07T17:26:09.054125Z",
     "iopub.status.busy": "2020-12-07T17:26:09.053121Z",
     "iopub.status.idle": "2020-12-07T17:26:09.056342Z",
     "shell.execute_reply": "2020-12-07T17:26:09.056807Z"
    },
    "papermill": {
     "duration": 0.117279,
     "end_time": "2020-12-07T17:26:09.056937",
     "exception": false,
     "start_time": "2020-12-07T17:26:08.939658",
     "status": "completed"
    },
    "tags": []
   },
   "outputs": [
    {
     "data": {
      "text/plain": [
       "KitchenQual\n",
       "Gd     5\n",
       "TA    10\n",
       "Name: Neighborhood, dtype: int64"
      ]
     },
     "execution_count": 71,
     "metadata": {},
     "output_type": "execute_result"
    }
   ],
   "source": [
    "test[test['Neighborhood']=='ClearCr'].groupby('KitchenQual').count()['Neighborhood']"
   ]
  },
  {
   "cell_type": "code",
   "execution_count": 72,
   "metadata": {
    "execution": {
     "iopub.execute_input": "2020-12-07T17:26:09.269047Z",
     "iopub.status.busy": "2020-12-07T17:26:09.268440Z",
     "iopub.status.idle": "2020-12-07T17:26:09.271276Z",
     "shell.execute_reply": "2020-12-07T17:26:09.270643Z"
    },
    "papermill": {
     "duration": 0.11139,
     "end_time": "2020-12-07T17:26:09.271387",
     "exception": false,
     "start_time": "2020-12-07T17:26:09.159997",
     "status": "completed"
    },
    "tags": []
   },
   "outputs": [],
   "source": [
    "test['KitchenQual'] = test['KitchenQual'].fillna('TA')"
   ]
  },
  {
   "cell_type": "code",
   "execution_count": 73,
   "metadata": {
    "execution": {
     "iopub.execute_input": "2020-12-07T17:26:09.487450Z",
     "iopub.status.busy": "2020-12-07T17:26:09.486587Z",
     "iopub.status.idle": "2020-12-07T17:26:09.491197Z",
     "shell.execute_reply": "2020-12-07T17:26:09.490581Z"
    },
    "papermill": {
     "duration": 0.116288,
     "end_time": "2020-12-07T17:26:09.491324",
     "exception": false,
     "start_time": "2020-12-07T17:26:09.375036",
     "status": "completed"
    },
    "tags": []
   },
   "outputs": [
    {
     "data": {
      "text/plain": [
       "691    NaN\n",
       "Name: Exterior2nd, dtype: object"
      ]
     },
     "execution_count": 73,
     "metadata": {},
     "output_type": "execute_result"
    }
   ],
   "source": [
    "test[test['Exterior1st'].isnull()]['Exterior2nd']"
   ]
  },
  {
   "cell_type": "code",
   "execution_count": 74,
   "metadata": {
    "execution": {
     "iopub.execute_input": "2020-12-07T17:26:09.706265Z",
     "iopub.status.busy": "2020-12-07T17:26:09.705293Z",
     "iopub.status.idle": "2020-12-07T17:26:09.709154Z",
     "shell.execute_reply": "2020-12-07T17:26:09.708552Z"
    },
    "papermill": {
     "duration": 0.114399,
     "end_time": "2020-12-07T17:26:09.709275",
     "exception": false,
     "start_time": "2020-12-07T17:26:09.594876",
     "status": "completed"
    },
    "tags": []
   },
   "outputs": [
    {
     "data": {
      "text/plain": [
       "691    Edwards\n",
       "Name: Neighborhood, dtype: object"
      ]
     },
     "execution_count": 74,
     "metadata": {},
     "output_type": "execute_result"
    }
   ],
   "source": [
    "test[test['Exterior1st'].isnull()]['Neighborhood']"
   ]
  },
  {
   "cell_type": "code",
   "execution_count": 75,
   "metadata": {
    "execution": {
     "iopub.execute_input": "2020-12-07T17:26:09.924536Z",
     "iopub.status.busy": "2020-12-07T17:26:09.923889Z",
     "iopub.status.idle": "2020-12-07T17:26:09.930226Z",
     "shell.execute_reply": "2020-12-07T17:26:09.929739Z"
    },
    "papermill": {
     "duration": 0.117296,
     "end_time": "2020-12-07T17:26:09.930357",
     "exception": false,
     "start_time": "2020-12-07T17:26:09.813061",
     "status": "completed"
    },
    "tags": []
   },
   "outputs": [
    {
     "data": {
      "text/plain": [
       "Exterior1st\n",
       "AsbShng     4\n",
       "BrkFace     3\n",
       "CemntBd     1\n",
       "HdBoard    13\n",
       "MetalSd    14\n",
       "Plywood    11\n",
       "VinylSd    18\n",
       "Wd Sdng    22\n",
       "WdShing     7\n",
       "Name: Neighborhood, dtype: int64"
      ]
     },
     "execution_count": 75,
     "metadata": {},
     "output_type": "execute_result"
    }
   ],
   "source": [
    "test[test['Neighborhood']=='Edwards'].groupby('Exterior1st').count()['Neighborhood']"
   ]
  },
  {
   "cell_type": "code",
   "execution_count": 76,
   "metadata": {
    "execution": {
     "iopub.execute_input": "2020-12-07T17:26:10.174111Z",
     "iopub.status.busy": "2020-12-07T17:26:10.173515Z",
     "iopub.status.idle": "2020-12-07T17:26:10.181430Z",
     "shell.execute_reply": "2020-12-07T17:26:10.180710Z"
    },
    "papermill": {
     "duration": 0.136688,
     "end_time": "2020-12-07T17:26:10.181646",
     "exception": false,
     "start_time": "2020-12-07T17:26:10.044958",
     "status": "completed"
    },
    "tags": []
   },
   "outputs": [
    {
     "data": {
      "text/plain": [
       "Exterior2nd\n",
       "AsbShng     2\n",
       "CmentBd     1\n",
       "HdBoard     8\n",
       "MetalSd    14\n",
       "Plywood    20\n",
       "Stucco      1\n",
       "VinylSd    17\n",
       "Wd Sdng    24\n",
       "Wd Shng     6\n",
       "Name: Neighborhood, dtype: int64"
      ]
     },
     "execution_count": 76,
     "metadata": {},
     "output_type": "execute_result"
    }
   ],
   "source": [
    "test[test['Neighborhood']=='Edwards'].groupby('Exterior2nd').count()['Neighborhood']"
   ]
  },
  {
   "cell_type": "code",
   "execution_count": 77,
   "metadata": {
    "execution": {
     "iopub.execute_input": "2020-12-07T17:26:10.402881Z",
     "iopub.status.busy": "2020-12-07T17:26:10.402236Z",
     "iopub.status.idle": "2020-12-07T17:26:10.405672Z",
     "shell.execute_reply": "2020-12-07T17:26:10.405035Z"
    },
    "papermill": {
     "duration": 0.117611,
     "end_time": "2020-12-07T17:26:10.405785",
     "exception": false,
     "start_time": "2020-12-07T17:26:10.288174",
     "status": "completed"
    },
    "tags": []
   },
   "outputs": [],
   "source": [
    "test['Exterior1st'] = test['Exterior1st'].fillna('Wd Sdng')\n",
    "test['Exterior2nd'] = test['Exterior2nd'].fillna('Plywood')"
   ]
  },
  {
   "cell_type": "code",
   "execution_count": 78,
   "metadata": {
    "execution": {
     "iopub.execute_input": "2020-12-07T17:26:10.623816Z",
     "iopub.status.busy": "2020-12-07T17:26:10.623152Z",
     "iopub.status.idle": "2020-12-07T17:26:10.630869Z",
     "shell.execute_reply": "2020-12-07T17:26:10.630272Z"
    },
    "papermill": {
     "duration": 0.120305,
     "end_time": "2020-12-07T17:26:10.630983",
     "exception": false,
     "start_time": "2020-12-07T17:26:10.510678",
     "status": "completed"
    },
    "tags": []
   },
   "outputs": [
    {
     "data": {
      "text/plain": [
       "Series([], dtype: int64)"
      ]
     },
     "execution_count": 78,
     "metadata": {},
     "output_type": "execute_result"
    }
   ],
   "source": [
    "null_counts_test = test.isnull().sum()\n",
    "null_counts_test[null_counts_test>0].sort_values(ascending = False)"
   ]
  },
  {
   "cell_type": "code",
   "execution_count": 79,
   "metadata": {
    "execution": {
     "iopub.execute_input": "2020-12-07T17:26:10.847508Z",
     "iopub.status.busy": "2020-12-07T17:26:10.846810Z",
     "iopub.status.idle": "2020-12-07T17:26:10.849221Z",
     "shell.execute_reply": "2020-12-07T17:26:10.849676Z"
    },
    "papermill": {
     "duration": 0.113287,
     "end_time": "2020-12-07T17:26:10.849814",
     "exception": false,
     "start_time": "2020-12-07T17:26:10.736527",
     "status": "completed"
    },
    "tags": []
   },
   "outputs": [],
   "source": [
    "def to_numeric1(col):\n",
    "    if col == 'Ex':\n",
    "        return 5\n",
    "    elif col == 'Gd':\n",
    "        return 4\n",
    "    elif col == 'TA':\n",
    "        return 3\n",
    "    elif col == 'Fa':\n",
    "        return 2\n",
    "    elif col == 'Po':\n",
    "        return 1"
   ]
  },
  {
   "cell_type": "code",
   "execution_count": 80,
   "metadata": {
    "execution": {
     "iopub.execute_input": "2020-12-07T17:26:11.078038Z",
     "iopub.status.busy": "2020-12-07T17:26:11.071686Z",
     "iopub.status.idle": "2020-12-07T17:26:11.089377Z",
     "shell.execute_reply": "2020-12-07T17:26:11.088853Z"
    },
    "papermill": {
     "duration": 0.134095,
     "end_time": "2020-12-07T17:26:11.089504",
     "exception": false,
     "start_time": "2020-12-07T17:26:10.955409",
     "status": "completed"
    },
    "tags": []
   },
   "outputs": [],
   "source": [
    "train['ExterQual'] = train['ExterQual'].apply(lambda x:to_numeric1(x))\n",
    "test['ExterQual'] = test['ExterQual'].apply(lambda x:to_numeric1(x))\n",
    "train['ExterCond'] = train['ExterCond'].apply(lambda x:to_numeric1(x))\n",
    "test['ExterCond'] = test['ExterCond'].apply(lambda x:to_numeric1(x))\n",
    "train['HeatingQC'] = train['HeatingQC'].apply(lambda x:to_numeric1(x))\n",
    "test['HeatingQC'] = test['HeatingQC'].apply(lambda x:to_numeric1(x))\n",
    "train['KitchenQual'] = train['KitchenQual'].apply(lambda x:to_numeric1(x))\n",
    "test['KitchenQual']= test['KitchenQual'].apply(lambda x:to_numeric1(x))"
   ]
  },
  {
   "cell_type": "code",
   "execution_count": 81,
   "metadata": {
    "execution": {
     "iopub.execute_input": "2020-12-07T17:26:11.308658Z",
     "iopub.status.busy": "2020-12-07T17:26:11.307619Z",
     "iopub.status.idle": "2020-12-07T17:26:11.310319Z",
     "shell.execute_reply": "2020-12-07T17:26:11.310806Z"
    },
    "papermill": {
     "duration": 0.115021,
     "end_time": "2020-12-07T17:26:11.310942",
     "exception": false,
     "start_time": "2020-12-07T17:26:11.195921",
     "status": "completed"
    },
    "tags": []
   },
   "outputs": [],
   "source": [
    "def to_numeric2(col):\n",
    "    if col == 'Ex':\n",
    "        return 5\n",
    "    elif col == 'Gd':\n",
    "        return 4\n",
    "    elif col == 'TA':\n",
    "        return 3\n",
    "    elif col == 'Fa':\n",
    "        return 2\n",
    "    elif col == 'Po':\n",
    "        return 1\n",
    "    else:\n",
    "        return 0"
   ]
  },
  {
   "cell_type": "code",
   "execution_count": 82,
   "metadata": {
    "execution": {
     "iopub.execute_input": "2020-12-07T17:26:11.544349Z",
     "iopub.status.busy": "2020-12-07T17:26:11.538311Z",
     "iopub.status.idle": "2020-12-07T17:26:11.549314Z",
     "shell.execute_reply": "2020-12-07T17:26:11.549789Z"
    },
    "papermill": {
     "duration": 0.132728,
     "end_time": "2020-12-07T17:26:11.549934",
     "exception": false,
     "start_time": "2020-12-07T17:26:11.417206",
     "status": "completed"
    },
    "tags": []
   },
   "outputs": [],
   "source": [
    "train['BsmtQual'] = train['BsmtQual'].apply(lambda x:to_numeric2(x))\n",
    "test['BsmtQual'] = test['BsmtQual'].apply(lambda x:to_numeric2(x))\n",
    "train['BsmtCond'] = train['BsmtCond'].apply(lambda x:to_numeric2(x))\n",
    "test['BsmtCond'] = test['BsmtCond'].apply(lambda x:to_numeric2(x))\n",
    "train['GarageQual'] = train['GarageQual'].apply(lambda x:to_numeric2(x))\n",
    "test['GarageQual'] = test['GarageQual'].apply(lambda x:to_numeric2(x))\n",
    "train['GarageCond'] = train['GarageCond'].apply(lambda x:to_numeric2(x))\n",
    "test['GarageCond'] = test['GarageCond'].apply(lambda x:to_numeric2(x))"
   ]
  },
  {
   "cell_type": "code",
   "execution_count": 83,
   "metadata": {
    "execution": {
     "iopub.execute_input": "2020-12-07T17:26:11.769394Z",
     "iopub.status.busy": "2020-12-07T17:26:11.768770Z",
     "iopub.status.idle": "2020-12-07T17:26:11.771993Z",
     "shell.execute_reply": "2020-12-07T17:26:11.771366Z"
    },
    "papermill": {
     "duration": 0.114957,
     "end_time": "2020-12-07T17:26:11.772100",
     "exception": false,
     "start_time": "2020-12-07T17:26:11.657143",
     "status": "completed"
    },
    "tags": []
   },
   "outputs": [],
   "source": [
    "def to_numeric3(col):\n",
    "    if col == 'GLQ':\n",
    "        return 6\n",
    "    elif col == 'ALQ':\n",
    "        return 5\n",
    "    elif col == 'BLQ':\n",
    "        return 4\n",
    "    elif col == 'Rec':\n",
    "        return 3\n",
    "    elif col == 'LwQ':\n",
    "        return 2\n",
    "    elif col == 'Unf':\n",
    "        return 1\n",
    "    else:\n",
    "        return 0"
   ]
  },
  {
   "cell_type": "code",
   "execution_count": 84,
   "metadata": {
    "execution": {
     "iopub.execute_input": "2020-12-07T17:26:11.997606Z",
     "iopub.status.busy": "2020-12-07T17:26:11.990955Z",
     "iopub.status.idle": "2020-12-07T17:26:12.001468Z",
     "shell.execute_reply": "2020-12-07T17:26:12.000826Z"
    },
    "papermill": {
     "duration": 0.123929,
     "end_time": "2020-12-07T17:26:12.001580",
     "exception": false,
     "start_time": "2020-12-07T17:26:11.877651",
     "status": "completed"
    },
    "tags": []
   },
   "outputs": [],
   "source": [
    "train['BsmtFinType1'] = train['BsmtFinType1'].apply(lambda x:to_numeric3(x))\n",
    "test['BsmtFinType1'] = test['BsmtFinType1'].apply(lambda x:to_numeric3(x))\n",
    "train['BsmtFinType2'] = train['BsmtFinType2'].apply(lambda x:to_numeric3(x))\n",
    "test['BsmtFinType2'] = test['BsmtFinType2'].apply(lambda x:to_numeric3(x))"
   ]
  },
  {
   "cell_type": "code",
   "execution_count": 85,
   "metadata": {
    "execution": {
     "iopub.execute_input": "2020-12-07T17:26:12.226547Z",
     "iopub.status.busy": "2020-12-07T17:26:12.222053Z",
     "iopub.status.idle": "2020-12-07T17:26:12.229906Z",
     "shell.execute_reply": "2020-12-07T17:26:12.229367Z"
    },
    "papermill": {
     "duration": 0.12264,
     "end_time": "2020-12-07T17:26:12.230015",
     "exception": false,
     "start_time": "2020-12-07T17:26:12.107375",
     "status": "completed"
    },
    "tags": []
   },
   "outputs": [],
   "source": [
    "train['GarageFinish'] = train['GarageFinish'].replace(['Fin','RFn','Unf','None'],[3,2,1,0])\n",
    "test['GarageFinish'] = test['GarageFinish'].replace(['Fin','RFn','Unf','None'],[3,2,1,0])"
   ]
  },
  {
   "cell_type": "code",
   "execution_count": 86,
   "metadata": {
    "execution": {
     "iopub.execute_input": "2020-12-07T17:26:12.453478Z",
     "iopub.status.busy": "2020-12-07T17:26:12.452614Z",
     "iopub.status.idle": "2020-12-07T17:26:12.455932Z",
     "shell.execute_reply": "2020-12-07T17:26:12.455459Z"
    },
    "papermill": {
     "duration": 0.118823,
     "end_time": "2020-12-07T17:26:12.456043",
     "exception": false,
     "start_time": "2020-12-07T17:26:12.337220",
     "status": "completed"
    },
    "tags": []
   },
   "outputs": [],
   "source": [
    "train['PavedDrive'] = train['PavedDrive'].replace(['Y','P','N'],[3,2,1])\n",
    "test['PavedDrive'] = test['PavedDrive'].replace(['Y','P','N'],[3,2,1])"
   ]
  },
  {
   "cell_type": "code",
   "execution_count": 87,
   "metadata": {
    "execution": {
     "iopub.execute_input": "2020-12-07T17:26:12.676878Z",
     "iopub.status.busy": "2020-12-07T17:26:12.675943Z",
     "iopub.status.idle": "2020-12-07T17:26:12.682662Z",
     "shell.execute_reply": "2020-12-07T17:26:12.682041Z"
    },
    "papermill": {
     "duration": 0.12048,
     "end_time": "2020-12-07T17:26:12.682766",
     "exception": false,
     "start_time": "2020-12-07T17:26:12.562286",
     "status": "completed"
    },
    "tags": []
   },
   "outputs": [],
   "source": [
    "train['BsmtExposure'] = train['BsmtExposure'].replace(['Gd','Av','Mn','No','None'],[4,3,2,1,0])\n",
    "test['BsmtExposure'] = test['BsmtExposure'].replace(['Gd','Av','Mn','No','None'],[4,3,2,1,0])\n"
   ]
  },
  {
   "cell_type": "code",
   "execution_count": 88,
   "metadata": {
    "execution": {
     "iopub.execute_input": "2020-12-07T17:26:12.904593Z",
     "iopub.status.busy": "2020-12-07T17:26:12.903171Z",
     "iopub.status.idle": "2020-12-07T17:26:12.911751Z",
     "shell.execute_reply": "2020-12-07T17:26:12.911284Z"
    },
    "papermill": {
     "duration": 0.123644,
     "end_time": "2020-12-07T17:26:12.911862",
     "exception": false,
     "start_time": "2020-12-07T17:26:12.788218",
     "status": "completed"
    },
    "tags": []
   },
   "outputs": [],
   "source": [
    "train['HouseStyle'] = train['HouseStyle'].replace(['1Story','1.5Unf','1.5Fin','2Story','2.5Unf','2.5Fin','SFoyer','SLvl'],\n",
    "                                                  [1,2,3,4,5,6,3,3])\n",
    "test['HouseStyle'] = test['HouseStyle'].replace(['1Story','1.5Unf','1.5Fin','2Story','2.5Unf','2.5Fin','SFoyer','SLvl'],\n",
    "                                                  [1,2,3,4,5,6,3,3])"
   ]
  },
  {
   "cell_type": "code",
   "execution_count": 89,
   "metadata": {
    "execution": {
     "iopub.execute_input": "2020-12-07T17:26:13.132080Z",
     "iopub.status.busy": "2020-12-07T17:26:13.131425Z",
     "iopub.status.idle": "2020-12-07T17:26:13.135317Z",
     "shell.execute_reply": "2020-12-07T17:26:13.134737Z"
    },
    "papermill": {
     "duration": 0.116728,
     "end_time": "2020-12-07T17:26:13.135424",
     "exception": false,
     "start_time": "2020-12-07T17:26:13.018696",
     "status": "completed"
    },
    "tags": []
   },
   "outputs": [
    {
     "data": {
      "text/plain": [
       "CompShg    1432\n",
       "Tar&Grv      11\n",
       "WdShngl       6\n",
       "WdShake       5\n",
       "Metal         1\n",
       "Membran       1\n",
       "ClyTile       1\n",
       "Roll          1\n",
       "Name: RoofMatl, dtype: int64"
      ]
     },
     "execution_count": 89,
     "metadata": {},
     "output_type": "execute_result"
    }
   ],
   "source": [
    "train['RoofMatl'].value_counts()"
   ]
  },
  {
   "cell_type": "code",
   "execution_count": 90,
   "metadata": {
    "execution": {
     "iopub.execute_input": "2020-12-07T17:26:13.356833Z",
     "iopub.status.busy": "2020-12-07T17:26:13.356029Z",
     "iopub.status.idle": "2020-12-07T17:26:13.359003Z",
     "shell.execute_reply": "2020-12-07T17:26:13.358543Z"
    },
    "papermill": {
     "duration": 0.116187,
     "end_time": "2020-12-07T17:26:13.359110",
     "exception": false,
     "start_time": "2020-12-07T17:26:13.242923",
     "status": "completed"
    },
    "tags": []
   },
   "outputs": [],
   "source": [
    "def roof_mat(col):\n",
    "    if col == 'WdShake' or col == 'WdShngl' or col == 'Metal' or col == 'Roll' or col == 'Membran':\n",
    "        return 'Other'\n",
    "    else:\n",
    "        return col"
   ]
  },
  {
   "cell_type": "code",
   "execution_count": 91,
   "metadata": {
    "execution": {
     "iopub.execute_input": "2020-12-07T17:26:13.582381Z",
     "iopub.status.busy": "2020-12-07T17:26:13.581731Z",
     "iopub.status.idle": "2020-12-07T17:26:13.584862Z",
     "shell.execute_reply": "2020-12-07T17:26:13.584388Z"
    },
    "papermill": {
     "duration": 0.117873,
     "end_time": "2020-12-07T17:26:13.584982",
     "exception": false,
     "start_time": "2020-12-07T17:26:13.467109",
     "status": "completed"
    },
    "tags": []
   },
   "outputs": [],
   "source": [
    "train['RoofMatl'] = train['RoofMatl'].apply(lambda x:roof_mat(x))\n",
    "test['RoofMatl'] = test['RoofMatl'].apply(lambda x:roof_mat(x))"
   ]
  },
  {
   "cell_type": "code",
   "execution_count": 92,
   "metadata": {
    "execution": {
     "iopub.execute_input": "2020-12-07T17:26:13.808543Z",
     "iopub.status.busy": "2020-12-07T17:26:13.807799Z",
     "iopub.status.idle": "2020-12-07T17:26:13.811750Z",
     "shell.execute_reply": "2020-12-07T17:26:13.811117Z"
    },
    "papermill": {
     "duration": 0.118187,
     "end_time": "2020-12-07T17:26:13.811859",
     "exception": false,
     "start_time": "2020-12-07T17:26:13.693672",
     "status": "completed"
    },
    "tags": []
   },
   "outputs": [
    {
     "data": {
      "text/plain": [
       "VinylSd    514\n",
       "HdBoard    221\n",
       "MetalSd    220\n",
       "Wd Sdng    206\n",
       "Plywood    108\n",
       "CemntBd     61\n",
       "BrkFace     50\n",
       "WdShing     26\n",
       "Stucco      25\n",
       "AsbShng     20\n",
       "Stone        2\n",
       "BrkComm      2\n",
       "ImStucc      1\n",
       "AsphShn      1\n",
       "CBlock       1\n",
       "Name: Exterior1st, dtype: int64"
      ]
     },
     "execution_count": 92,
     "metadata": {},
     "output_type": "execute_result"
    }
   ],
   "source": [
    "train['Exterior1st'].value_counts()"
   ]
  },
  {
   "cell_type": "code",
   "execution_count": 93,
   "metadata": {
    "execution": {
     "iopub.execute_input": "2020-12-07T17:26:14.032453Z",
     "iopub.status.busy": "2020-12-07T17:26:14.031587Z",
     "iopub.status.idle": "2020-12-07T17:26:14.034633Z",
     "shell.execute_reply": "2020-12-07T17:26:14.033990Z"
    },
    "papermill": {
     "duration": 0.115559,
     "end_time": "2020-12-07T17:26:14.034744",
     "exception": false,
     "start_time": "2020-12-07T17:26:13.919185",
     "status": "completed"
    },
    "tags": []
   },
   "outputs": [],
   "source": [
    "def ext1st(col):\n",
    "    if col == 'Stone' or col == 'BrkComm' or col == 'CBlock' or col == 'ImStucc' or col == 'AsphShn':\n",
    "        return 'Other'\n",
    "    else:\n",
    "        return col"
   ]
  },
  {
   "cell_type": "code",
   "execution_count": 94,
   "metadata": {
    "execution": {
     "iopub.execute_input": "2020-12-07T17:26:14.259035Z",
     "iopub.status.busy": "2020-12-07T17:26:14.258393Z",
     "iopub.status.idle": "2020-12-07T17:26:14.261432Z",
     "shell.execute_reply": "2020-12-07T17:26:14.260877Z"
    },
    "papermill": {
     "duration": 0.119747,
     "end_time": "2020-12-07T17:26:14.261548",
     "exception": false,
     "start_time": "2020-12-07T17:26:14.141801",
     "status": "completed"
    },
    "tags": []
   },
   "outputs": [],
   "source": [
    "train['Exterior1st'] = train['Exterior1st'].apply(lambda x:ext1st(x))\n",
    "test['Exterior1st'] = test['Exterior1st'].apply(lambda x:ext1st(x))"
   ]
  },
  {
   "cell_type": "code",
   "execution_count": 95,
   "metadata": {
    "execution": {
     "iopub.execute_input": "2020-12-07T17:26:14.489071Z",
     "iopub.status.busy": "2020-12-07T17:26:14.488321Z",
     "iopub.status.idle": "2020-12-07T17:26:14.492702Z",
     "shell.execute_reply": "2020-12-07T17:26:14.492085Z"
    },
    "papermill": {
     "duration": 0.121609,
     "end_time": "2020-12-07T17:26:14.492810",
     "exception": false,
     "start_time": "2020-12-07T17:26:14.371201",
     "status": "completed"
    },
    "tags": []
   },
   "outputs": [
    {
     "data": {
      "text/plain": [
       "VinylSd    503\n",
       "MetalSd    214\n",
       "HdBoard    206\n",
       "Wd Sdng    197\n",
       "Plywood    142\n",
       "CmentBd     60\n",
       "Wd Shng     38\n",
       "Stucco      26\n",
       "BrkFace     25\n",
       "AsbShng     20\n",
       "ImStucc     10\n",
       "Brk Cmn      7\n",
       "Stone        5\n",
       "AsphShn      3\n",
       "Other        1\n",
       "CBlock       1\n",
       "Name: Exterior2nd, dtype: int64"
      ]
     },
     "execution_count": 95,
     "metadata": {},
     "output_type": "execute_result"
    }
   ],
   "source": [
    "train['Exterior2nd'].value_counts()"
   ]
  },
  {
   "cell_type": "code",
   "execution_count": 96,
   "metadata": {
    "execution": {
     "iopub.execute_input": "2020-12-07T17:26:14.714692Z",
     "iopub.status.busy": "2020-12-07T17:26:14.713892Z",
     "iopub.status.idle": "2020-12-07T17:26:14.716061Z",
     "shell.execute_reply": "2020-12-07T17:26:14.716584Z"
    },
    "papermill": {
     "duration": 0.115974,
     "end_time": "2020-12-07T17:26:14.716715",
     "exception": false,
     "start_time": "2020-12-07T17:26:14.600741",
     "status": "completed"
    },
    "tags": []
   },
   "outputs": [],
   "source": [
    "def ext2nd(col):\n",
    "    if col == 'AsphShn' or col == 'CBlock':\n",
    "        return 'Other'\n",
    "    else:\n",
    "        return col"
   ]
  },
  {
   "cell_type": "code",
   "execution_count": 97,
   "metadata": {
    "execution": {
     "iopub.execute_input": "2020-12-07T17:26:14.939948Z",
     "iopub.status.busy": "2020-12-07T17:26:14.939343Z",
     "iopub.status.idle": "2020-12-07T17:26:14.942635Z",
     "shell.execute_reply": "2020-12-07T17:26:14.942011Z"
    },
    "papermill": {
     "duration": 0.118029,
     "end_time": "2020-12-07T17:26:14.942742",
     "exception": false,
     "start_time": "2020-12-07T17:26:14.824713",
     "status": "completed"
    },
    "tags": []
   },
   "outputs": [],
   "source": [
    "train['Exterior2nd'] = train['Exterior2nd'].apply(lambda x:ext2nd(x))\n",
    "test['Exterior2nd'] = test['Exterior2nd'].apply(lambda x:ext2nd(x))"
   ]
  },
  {
   "cell_type": "code",
   "execution_count": 98,
   "metadata": {
    "execution": {
     "iopub.execute_input": "2020-12-07T17:26:15.168534Z",
     "iopub.status.busy": "2020-12-07T17:26:15.167566Z",
     "iopub.status.idle": "2020-12-07T17:26:15.171337Z",
     "shell.execute_reply": "2020-12-07T17:26:15.170810Z"
    },
    "papermill": {
     "duration": 0.119797,
     "end_time": "2020-12-07T17:26:15.171448",
     "exception": false,
     "start_time": "2020-12-07T17:26:15.051651",
     "status": "completed"
    },
    "tags": []
   },
   "outputs": [
    {
     "data": {
      "text/plain": [
       "GasA     1426\n",
       "GasW       18\n",
       "Grav        7\n",
       "Wall        4\n",
       "OthW        2\n",
       "Floor       1\n",
       "Name: Heating, dtype: int64"
      ]
     },
     "execution_count": 98,
     "metadata": {},
     "output_type": "execute_result"
    }
   ],
   "source": [
    "train['Heating'].value_counts()"
   ]
  },
  {
   "cell_type": "code",
   "execution_count": 99,
   "metadata": {
    "execution": {
     "iopub.execute_input": "2020-12-07T17:26:15.396379Z",
     "iopub.status.busy": "2020-12-07T17:26:15.395711Z",
     "iopub.status.idle": "2020-12-07T17:26:15.398390Z",
     "shell.execute_reply": "2020-12-07T17:26:15.397774Z"
    },
    "papermill": {
     "duration": 0.116818,
     "end_time": "2020-12-07T17:26:15.398499",
     "exception": false,
     "start_time": "2020-12-07T17:26:15.281681",
     "status": "completed"
    },
    "tags": []
   },
   "outputs": [],
   "source": [
    "def heating(col):\n",
    "    if col == 'GasA':\n",
    "        return col\n",
    "    else:\n",
    "        return 'Other'"
   ]
  },
  {
   "cell_type": "code",
   "execution_count": 100,
   "metadata": {
    "execution": {
     "iopub.execute_input": "2020-12-07T17:26:15.624595Z",
     "iopub.status.busy": "2020-12-07T17:26:15.623968Z",
     "iopub.status.idle": "2020-12-07T17:26:15.626205Z",
     "shell.execute_reply": "2020-12-07T17:26:15.626701Z"
    },
    "papermill": {
     "duration": 0.118976,
     "end_time": "2020-12-07T17:26:15.626834",
     "exception": false,
     "start_time": "2020-12-07T17:26:15.507858",
     "status": "completed"
    },
    "tags": []
   },
   "outputs": [],
   "source": [
    "train['Heating'] = train['Heating'].apply(lambda x:heating(x))\n",
    "test['Heating'] = test['Heating'].apply(lambda x:heating(x))"
   ]
  },
  {
   "cell_type": "code",
   "execution_count": 101,
   "metadata": {
    "execution": {
     "iopub.execute_input": "2020-12-07T17:26:15.852306Z",
     "iopub.status.busy": "2020-12-07T17:26:15.851624Z",
     "iopub.status.idle": "2020-12-07T17:26:15.855351Z",
     "shell.execute_reply": "2020-12-07T17:26:15.854868Z"
    },
    "papermill": {
     "duration": 0.119587,
     "end_time": "2020-12-07T17:26:15.855464",
     "exception": false,
     "start_time": "2020-12-07T17:26:15.735877",
     "status": "completed"
    },
    "tags": []
   },
   "outputs": [
    {
     "data": {
      "text/plain": [
       "SBrkr    1334\n",
       "FuseA      93\n",
       "FuseF      27\n",
       "FuseP       3\n",
       "Mix         1\n",
       "Name: Electrical, dtype: int64"
      ]
     },
     "execution_count": 101,
     "metadata": {},
     "output_type": "execute_result"
    }
   ],
   "source": [
    "train['Electrical'].value_counts()"
   ]
  },
  {
   "cell_type": "code",
   "execution_count": 102,
   "metadata": {
    "execution": {
     "iopub.execute_input": "2020-12-07T17:26:16.079464Z",
     "iopub.status.busy": "2020-12-07T17:26:16.078826Z",
     "iopub.status.idle": "2020-12-07T17:26:16.081110Z",
     "shell.execute_reply": "2020-12-07T17:26:16.081591Z"
    },
    "papermill": {
     "duration": 0.116716,
     "end_time": "2020-12-07T17:26:16.081723",
     "exception": false,
     "start_time": "2020-12-07T17:26:15.965007",
     "status": "completed"
    },
    "tags": []
   },
   "outputs": [],
   "source": [
    "def electr(col):\n",
    "    if col == 'FuseP' or col == 'Mix':\n",
    "        return 'Other'\n",
    "    else:\n",
    "        return col"
   ]
  },
  {
   "cell_type": "code",
   "execution_count": 103,
   "metadata": {
    "execution": {
     "iopub.execute_input": "2020-12-07T17:26:16.309885Z",
     "iopub.status.busy": "2020-12-07T17:26:16.309131Z",
     "iopub.status.idle": "2020-12-07T17:26:16.311646Z",
     "shell.execute_reply": "2020-12-07T17:26:16.312089Z"
    },
    "papermill": {
     "duration": 0.120889,
     "end_time": "2020-12-07T17:26:16.312268",
     "exception": false,
     "start_time": "2020-12-07T17:26:16.191379",
     "status": "completed"
    },
    "tags": []
   },
   "outputs": [],
   "source": [
    "train['Electrical'] = train['Electrical'].apply(lambda x:electr(x))\n",
    "test['Electrical'] = test['Electrical'].apply(lambda x:electr(x))"
   ]
  },
  {
   "cell_type": "code",
   "execution_count": 104,
   "metadata": {
    "execution": {
     "iopub.execute_input": "2020-12-07T17:26:16.543748Z",
     "iopub.status.busy": "2020-12-07T17:26:16.542678Z",
     "iopub.status.idle": "2020-12-07T17:26:16.589266Z",
     "shell.execute_reply": "2020-12-07T17:26:16.589753Z"
    },
    "papermill": {
     "duration": 0.166248,
     "end_time": "2020-12-07T17:26:16.589905",
     "exception": false,
     "start_time": "2020-12-07T17:26:16.423657",
     "status": "completed"
    },
    "tags": []
   },
   "outputs": [],
   "source": [
    "train_not_obj = train.dtypes[train.dtypes != 'object'].index\n",
    "test_not_obj = test.dtypes[train.dtypes != 'object'].index\n",
    "train_skew = train[train_not_obj].apply(lambda x:skew(x)).sort_values(ascending=False)\n",
    "test_skew = test[test_not_obj].apply(lambda x:skew(x)).sort_values(ascending=False)"
   ]
  },
  {
   "cell_type": "code",
   "execution_count": 105,
   "metadata": {
    "execution": {
     "iopub.execute_input": "2020-12-07T17:26:16.817690Z",
     "iopub.status.busy": "2020-12-07T17:26:16.816827Z",
     "iopub.status.idle": "2020-12-07T17:26:16.819313Z",
     "shell.execute_reply": "2020-12-07T17:26:16.819772Z"
    },
    "papermill": {
     "duration": 0.119276,
     "end_time": "2020-12-07T17:26:16.819918",
     "exception": false,
     "start_time": "2020-12-07T17:26:16.700642",
     "status": "completed"
    },
    "tags": []
   },
   "outputs": [],
   "source": [
    "high_skewed_train = train_skew[train_skew > abs(1)]\n",
    "high_skewed_test = test_skew[train_skew > abs(1)]"
   ]
  },
  {
   "cell_type": "code",
   "execution_count": 106,
   "metadata": {
    "execution": {
     "iopub.execute_input": "2020-12-07T17:26:17.049461Z",
     "iopub.status.busy": "2020-12-07T17:26:17.048659Z",
     "iopub.status.idle": "2020-12-07T17:26:17.051447Z",
     "shell.execute_reply": "2020-12-07T17:26:17.050855Z"
    },
    "papermill": {
     "duration": 0.121742,
     "end_time": "2020-12-07T17:26:17.051551",
     "exception": false,
     "start_time": "2020-12-07T17:26:16.929809",
     "status": "completed"
    },
    "tags": []
   },
   "outputs": [],
   "source": [
    "high_skewed_train_index = high_skewed_train.index\n",
    "high_skewed_test_index = high_skewed_test.index"
   ]
  },
  {
   "cell_type": "code",
   "execution_count": 107,
   "metadata": {
    "execution": {
     "iopub.execute_input": "2020-12-07T17:26:17.280834Z",
     "iopub.status.busy": "2020-12-07T17:26:17.278760Z",
     "iopub.status.idle": "2020-12-07T17:26:17.298176Z",
     "shell.execute_reply": "2020-12-07T17:26:17.297677Z"
    },
    "papermill": {
     "duration": 0.136086,
     "end_time": "2020-12-07T17:26:17.298318",
     "exception": false,
     "start_time": "2020-12-07T17:26:17.162232",
     "status": "completed"
    },
    "tags": []
   },
   "outputs": [],
   "source": [
    "for i in high_skewed_train_index:\n",
    "    train[i] = np.log(train[i]+1)"
   ]
  },
  {
   "cell_type": "code",
   "execution_count": 108,
   "metadata": {
    "execution": {
     "iopub.execute_input": "2020-12-07T17:26:17.528081Z",
     "iopub.status.busy": "2020-12-07T17:26:17.527222Z",
     "iopub.status.idle": "2020-12-07T17:26:17.544154Z",
     "shell.execute_reply": "2020-12-07T17:26:17.543514Z"
    },
    "papermill": {
     "duration": 0.133799,
     "end_time": "2020-12-07T17:26:17.544281",
     "exception": false,
     "start_time": "2020-12-07T17:26:17.410482",
     "status": "completed"
    },
    "tags": []
   },
   "outputs": [],
   "source": [
    "for i in high_skewed_test_index:\n",
    "    test[i] = np.log(test[i]+1)"
   ]
  },
  {
   "cell_type": "code",
   "execution_count": 109,
   "metadata": {
    "execution": {
     "iopub.execute_input": "2020-12-07T17:26:17.771995Z",
     "iopub.status.busy": "2020-12-07T17:26:17.771365Z",
     "iopub.status.idle": "2020-12-07T17:26:18.662805Z",
     "shell.execute_reply": "2020-12-07T17:26:18.663387Z"
    },
    "papermill": {
     "duration": 1.008763,
     "end_time": "2020-12-07T17:26:18.663534",
     "exception": false,
     "start_time": "2020-12-07T17:26:17.654771",
     "status": "completed"
    },
    "tags": []
   },
   "outputs": [
    {
     "data": {
      "image/png": "[encoded data removed]",
      "text/plain": [
       "<Figure size 1008x432 with 2 Axes>"
      ]
     },
     "metadata": {
      "needs_background": "light"
     },
     "output_type": "display_data"
    }
   ],
   "source": [
    "plt.figure(figsize=(14,6))\n",
    "sns.heatmap(train.corr(),cmap='coolwarm')\n",
    "plt.title('Correlation between features')\n",
    "plt.show()"
   ]
  },
  {
   "cell_type": "code",
   "execution_count": 110,
   "metadata": {
    "execution": {
     "iopub.execute_input": "2020-12-07T17:26:18.894033Z",
     "iopub.status.busy": "2020-12-07T17:26:18.893370Z",
     "iopub.status.idle": "2020-12-07T17:26:18.905343Z",
     "shell.execute_reply": "2020-12-07T17:26:18.905798Z"
    },
    "papermill": {
     "duration": 0.129857,
     "end_time": "2020-12-07T17:26:18.905959",
     "exception": false,
     "start_time": "2020-12-07T17:26:18.776102",
     "status": "completed"
    },
    "tags": []
   },
   "outputs": [],
   "source": [
    "corr_saleprice = train.corr()['SalePrice'].sort_values(ascending = False)[1:]"
   ]
  },
  {
   "cell_type": "code",
   "execution_count": 111,
   "metadata": {
    "execution": {
     "iopub.execute_input": "2020-12-07T17:26:19.142930Z",
     "iopub.status.busy": "2020-12-07T17:26:19.142138Z",
     "iopub.status.idle": "2020-12-07T17:26:19.722874Z",
     "shell.execute_reply": "2020-12-07T17:26:19.722240Z"
    },
    "papermill": {
     "duration": 0.704461,
     "end_time": "2020-12-07T17:26:19.722979",
     "exception": false,
     "start_time": "2020-12-07T17:26:19.018518",
     "status": "completed"
    },
    "tags": []
   },
   "outputs": [
    {
     "data": {
      "image/png": "[encoded data removed]",
      "text/plain": [
       "<Figure size 864x432 with 1 Axes>"
      ]
     },
     "metadata": {
      "needs_background": "light"
     },
     "output_type": "display_data"
    }
   ],
   "source": [
    "plt.figure(figsize=(12,6))\n",
    "corr_saleprice.plot(kind='bar')\n",
    "plt.title('Correlation between target feature (SalePrice) and dependence variables')\n",
    "plt.show()"
   ]
  },
  {
   "cell_type": "code",
   "execution_count": 112,
   "metadata": {
    "execution": {
     "iopub.execute_input": "2020-12-07T17:26:19.958781Z",
     "iopub.status.busy": "2020-12-07T17:26:19.957775Z",
     "iopub.status.idle": "2020-12-07T17:26:20.206132Z",
     "shell.execute_reply": "2020-12-07T17:26:20.205545Z"
    },
    "papermill": {
     "duration": 0.369688,
     "end_time": "2020-12-07T17:26:20.206237",
     "exception": false,
     "start_time": "2020-12-07T17:26:19.836549",
     "status": "completed"
    },
    "scrolled": true,
    "tags": []
   },
   "outputs": [
    {
     "data": {
      "image/png": "[encoded data removed]",
      "text/plain": [
       "<Figure size 1008x432 with 1 Axes>"
      ]
     },
     "metadata": {
      "needs_background": "light"
     },
     "output_type": "display_data"
    }
   ],
   "source": [
    "plt.figure(figsize=(14,6))\n",
    "sns.boxplot(x='OverallQual', y = 'SalePrice', data = train)\n",
    "plt.title('Sale price of house by overall quality')\n",
    "plt.show()"
   ]
  },
  {
   "cell_type": "code",
   "execution_count": 113,
   "metadata": {
    "execution": {
     "iopub.execute_input": "2020-12-07T17:26:20.450822Z",
     "iopub.status.busy": "2020-12-07T17:26:20.444610Z",
     "iopub.status.idle": "2020-12-07T17:26:20.616505Z",
     "shell.execute_reply": "2020-12-07T17:26:20.617050Z"
    },
    "papermill": {
     "duration": 0.296254,
     "end_time": "2020-12-07T17:26:20.617181",
     "exception": false,
     "start_time": "2020-12-07T17:26:20.320927",
     "status": "completed"
    },
    "tags": []
   },
   "outputs": [
    {
     "data": {
      "text/plain": [
       "Text(0.5, 1.0, 'Sale Price vs Ground living Area')"
      ]
     },
     "execution_count": 113,
     "metadata": {},
     "output_type": "execute_result"
    },
    {
     "data": {
      "image/png": "[encoded data removed]",
      "text/plain": [
       "<Figure size 1008x432 with 1 Axes>"
      ]
     },
     "metadata": {
      "needs_background": "light"
     },
     "output_type": "display_data"
    }
   ],
   "source": [
    "plt.figure(figsize=(14,6))\n",
    "sns.scatterplot(x = 'GrLivArea', y = 'SalePrice', data = train)\n",
    "plt.title('Sale Price vs Ground living Area')"
   ]
  },
  {
   "cell_type": "code",
   "execution_count": 114,
   "metadata": {
    "execution": {
     "iopub.execute_input": "2020-12-07T17:26:20.858649Z",
     "iopub.status.busy": "2020-12-07T17:26:20.857643Z",
     "iopub.status.idle": "2020-12-07T17:26:20.863003Z",
     "shell.execute_reply": "2020-12-07T17:26:20.862335Z"
    },
    "papermill": {
     "duration": 0.128297,
     "end_time": "2020-12-07T17:26:20.863109",
     "exception": false,
     "start_time": "2020-12-07T17:26:20.734812",
     "status": "completed"
    },
    "tags": []
   },
   "outputs": [],
   "source": [
    "train = train[train['GrLivArea']<8]"
   ]
  },
  {
   "cell_type": "code",
   "execution_count": 115,
   "metadata": {
    "execution": {
     "iopub.execute_input": "2020-12-07T17:26:21.145071Z",
     "iopub.status.busy": "2020-12-07T17:26:21.144429Z",
     "iopub.status.idle": "2020-12-07T17:26:21.284204Z",
     "shell.execute_reply": "2020-12-07T17:26:21.283616Z"
    },
    "papermill": {
     "duration": 0.301501,
     "end_time": "2020-12-07T17:26:21.284344",
     "exception": false,
     "start_time": "2020-12-07T17:26:20.982843",
     "status": "completed"
    },
    "tags": []
   },
   "outputs": [
    {
     "data": {
      "text/plain": [
       "Text(0.5, 1.0, 'GarageCars')"
      ]
     },
     "execution_count": 115,
     "metadata": {},
     "output_type": "execute_result"
    },
    {
     "data": {
      "image/png": "[encoded data removed]",
      "text/plain": [
       "<Figure size 1008x432 with 1 Axes>"
      ]
     },
     "metadata": {
      "needs_background": "light"
     },
     "output_type": "display_data"
    }
   ],
   "source": [
    "plt.figure(figsize=(14,6))\n",
    "sns.countplot(x = 'GarageCars', data = train)\n",
    "plt.title('GarageCars')"
   ]
  },
  {
   "cell_type": "code",
   "execution_count": 116,
   "metadata": {
    "execution": {
     "iopub.execute_input": "2020-12-07T17:26:21.534378Z",
     "iopub.status.busy": "2020-12-07T17:26:21.533651Z",
     "iopub.status.idle": "2020-12-07T17:26:21.750035Z",
     "shell.execute_reply": "2020-12-07T17:26:21.749380Z"
    },
    "papermill": {
     "duration": 0.345932,
     "end_time": "2020-12-07T17:26:21.750147",
     "exception": false,
     "start_time": "2020-12-07T17:26:21.404215",
     "status": "completed"
    },
    "tags": []
   },
   "outputs": [
    {
     "data": {
      "image/png": "[encoded data removed]",
      "text/plain": [
       "<Figure size 1008x432 with 1 Axes>"
      ]
     },
     "metadata": {
      "needs_background": "light"
     },
     "output_type": "display_data"
    }
   ],
   "source": [
    "plt.figure(figsize=(14,6))\n",
    "train['SalePrice'].plot.hist(bins = 50)\n",
    "plt.title('Distribution of housing prices')\n",
    "plt.show()"
   ]
  },
  {
   "cell_type": "code",
   "execution_count": 117,
   "metadata": {
    "execution": {
     "iopub.execute_input": "2020-12-07T17:26:21.996753Z",
     "iopub.status.busy": "2020-12-07T17:26:21.995867Z",
     "iopub.status.idle": "2020-12-07T17:26:22.002848Z",
     "shell.execute_reply": "2020-12-07T17:26:22.002319Z"
    },
    "papermill": {
     "duration": 0.133321,
     "end_time": "2020-12-07T17:26:22.002968",
     "exception": false,
     "start_time": "2020-12-07T17:26:21.869647",
     "status": "completed"
    },
    "tags": []
   },
   "outputs": [
    {
     "data": {
      "text/plain": [
       "KstestResult(statistic=1.0, pvalue=0.0)"
      ]
     },
     "execution_count": 117,
     "metadata": {},
     "output_type": "execute_result"
    }
   ],
   "source": [
    "stats.kstest(train['SalePrice'], 'norm')"
   ]
  },
  {
   "cell_type": "code",
   "execution_count": 118,
   "metadata": {
    "execution": {
     "iopub.execute_input": "2020-12-07T17:26:22.251389Z",
     "iopub.status.busy": "2020-12-07T17:26:22.250718Z",
     "iopub.status.idle": "2020-12-07T17:26:22.255728Z",
     "shell.execute_reply": "2020-12-07T17:26:22.255108Z"
    },
    "papermill": {
     "duration": 0.132184,
     "end_time": "2020-12-07T17:26:22.255837",
     "exception": false,
     "start_time": "2020-12-07T17:26:22.123653",
     "status": "completed"
    },
    "tags": []
   },
   "outputs": [],
   "source": [
    "train.drop('Condition2',axis = 1, inplace = True)\n",
    "test.drop('Condition2',axis = 1, inplace = True)"
   ]
  },
  {
   "cell_type": "code",
   "execution_count": 119,
   "metadata": {
    "execution": {
     "iopub.execute_input": "2020-12-07T17:26:22.520693Z",
     "iopub.status.busy": "2020-12-07T17:26:22.519672Z",
     "iopub.status.idle": "2020-12-07T17:26:22.523457Z",
     "shell.execute_reply": "2020-12-07T17:26:22.523895Z"
    },
    "papermill": {
     "duration": 0.14834,
     "end_time": "2020-12-07T17:26:22.524035",
     "exception": false,
     "start_time": "2020-12-07T17:26:22.375695",
     "status": "completed"
    },
    "tags": []
   },
   "outputs": [
    {
     "data": {
      "text/html": [
       "<div>\n",
       "<style scoped>\n",
       "    .dataframe tbody tr th:only-of-type {\n",
       "        vertical-align: middle;\n",
       "    }\n",
       "\n",
       "    .dataframe tbody tr th {\n",
       "        vertical-align: top;\n",
       "    }\n",
       "\n",
       "    .dataframe thead th {\n",
       "        text-align: right;\n",
       "    }\n",
       "</style>\n",
       "<table border=\"1\" class=\"dataframe\">\n",
       "  <thead>\n",
       "    <tr style=\"text-align: right;\">\n",
       "      <th></th>\n",
       "      <th>Id</th>\n",
       "      <th>MSSubClass</th>\n",
       "      <th>MSZoning</th>\n",
       "      <th>LotFrontage</th>\n",
       "      <th>LotArea</th>\n",
       "      <th>Street</th>\n",
       "      <th>LotShape</th>\n",
       "      <th>LandContour</th>\n",
       "      <th>Utilities</th>\n",
       "      <th>LotConfig</th>\n",
       "      <th>...</th>\n",
       "      <th>EnclosedPorch</th>\n",
       "      <th>3SsnPorch</th>\n",
       "      <th>ScreenPorch</th>\n",
       "      <th>PoolArea</th>\n",
       "      <th>MiscVal</th>\n",
       "      <th>MoSold</th>\n",
       "      <th>YrSold</th>\n",
       "      <th>SaleType</th>\n",
       "      <th>SaleCondition</th>\n",
       "      <th>SalePrice</th>\n",
       "    </tr>\n",
       "  </thead>\n",
       "  <tbody>\n",
       "    <tr>\n",
       "      <th>0</th>\n",
       "      <td>1</td>\n",
       "      <td>4.111</td>\n",
       "      <td>RL</td>\n",
       "      <td>4.190</td>\n",
       "      <td>9.042</td>\n",
       "      <td>Pave</td>\n",
       "      <td>Reg</td>\n",
       "      <td>Lvl</td>\n",
       "      <td>AllPub</td>\n",
       "      <td>Inside</td>\n",
       "      <td>...</td>\n",
       "      <td>0.000</td>\n",
       "      <td>0.000</td>\n",
       "      <td>0.000</td>\n",
       "      <td>0.000</td>\n",
       "      <td>0.000</td>\n",
       "      <td>2</td>\n",
       "      <td>2008</td>\n",
       "      <td>WD</td>\n",
       "      <td>Normal</td>\n",
       "      <td>12.248</td>\n",
       "    </tr>\n",
       "    <tr>\n",
       "      <th>1</th>\n",
       "      <td>2</td>\n",
       "      <td>3.045</td>\n",
       "      <td>RL</td>\n",
       "      <td>4.394</td>\n",
       "      <td>9.170</td>\n",
       "      <td>Pave</td>\n",
       "      <td>Reg</td>\n",
       "      <td>Lvl</td>\n",
       "      <td>AllPub</td>\n",
       "      <td>FR2</td>\n",
       "      <td>...</td>\n",
       "      <td>0.000</td>\n",
       "      <td>0.000</td>\n",
       "      <td>0.000</td>\n",
       "      <td>0.000</td>\n",
       "      <td>0.000</td>\n",
       "      <td>5</td>\n",
       "      <td>2007</td>\n",
       "      <td>WD</td>\n",
       "      <td>Normal</td>\n",
       "      <td>12.109</td>\n",
       "    </tr>\n",
       "    <tr>\n",
       "      <th>2</th>\n",
       "      <td>3</td>\n",
       "      <td>4.111</td>\n",
       "      <td>RL</td>\n",
       "      <td>4.234</td>\n",
       "      <td>9.328</td>\n",
       "      <td>Pave</td>\n",
       "      <td>IR1</td>\n",
       "      <td>Lvl</td>\n",
       "      <td>AllPub</td>\n",
       "      <td>Inside</td>\n",
       "      <td>...</td>\n",
       "      <td>0.000</td>\n",
       "      <td>0.000</td>\n",
       "      <td>0.000</td>\n",
       "      <td>0.000</td>\n",
       "      <td>0.000</td>\n",
       "      <td>9</td>\n",
       "      <td>2008</td>\n",
       "      <td>WD</td>\n",
       "      <td>Normal</td>\n",
       "      <td>12.317</td>\n",
       "    </tr>\n",
       "    <tr>\n",
       "      <th>3</th>\n",
       "      <td>4</td>\n",
       "      <td>4.263</td>\n",
       "      <td>RL</td>\n",
       "      <td>4.111</td>\n",
       "      <td>9.164</td>\n",
       "      <td>Pave</td>\n",
       "      <td>IR1</td>\n",
       "      <td>Lvl</td>\n",
       "      <td>AllPub</td>\n",
       "      <td>Corner</td>\n",
       "      <td>...</td>\n",
       "      <td>5.609</td>\n",
       "      <td>0.000</td>\n",
       "      <td>0.000</td>\n",
       "      <td>0.000</td>\n",
       "      <td>0.000</td>\n",
       "      <td>2</td>\n",
       "      <td>2006</td>\n",
       "      <td>WD</td>\n",
       "      <td>Abnorml</td>\n",
       "      <td>11.849</td>\n",
       "    </tr>\n",
       "    <tr>\n",
       "      <th>4</th>\n",
       "      <td>5</td>\n",
       "      <td>4.111</td>\n",
       "      <td>RL</td>\n",
       "      <td>4.443</td>\n",
       "      <td>9.565</td>\n",
       "      <td>Pave</td>\n",
       "      <td>IR1</td>\n",
       "      <td>Lvl</td>\n",
       "      <td>AllPub</td>\n",
       "      <td>FR2</td>\n",
       "      <td>...</td>\n",
       "      <td>0.000</td>\n",
       "      <td>0.000</td>\n",
       "      <td>0.000</td>\n",
       "      <td>0.000</td>\n",
       "      <td>0.000</td>\n",
       "      <td>12</td>\n",
       "      <td>2008</td>\n",
       "      <td>WD</td>\n",
       "      <td>Normal</td>\n",
       "      <td>12.429</td>\n",
       "    </tr>\n",
       "  </tbody>\n",
       "</table>\n",
       "<p>5 rows × 75 columns</p>\n",
       "</div>"
      ],
      "text/plain": [
       "   Id  MSSubClass MSZoning  LotFrontage  LotArea Street LotShape LandContour  \\\n",
       "0   1       4.111       RL        4.190    9.042   Pave      Reg         Lvl   \n",
       "1   2       3.045       RL        4.394    9.170   Pave      Reg         Lvl   \n",
       "2   3       4.111       RL        4.234    9.328   Pave      IR1         Lvl   \n",
       "3   4       4.263       RL        4.111    9.164   Pave      IR1         Lvl   \n",
       "4   5       4.111       RL        4.443    9.565   Pave      IR1         Lvl   \n",
       "\n",
       "  Utilities LotConfig  ... EnclosedPorch 3SsnPorch ScreenPorch PoolArea  \\\n",
       "0    AllPub    Inside  ...         0.000     0.000       0.000    0.000   \n",
       "1    AllPub       FR2  ...         0.000     0.000       0.000    0.000   \n",
       "2    AllPub    Inside  ...         0.000     0.000       0.000    0.000   \n",
       "3    AllPub    Corner  ...         5.609     0.000       0.000    0.000   \n",
       "4    AllPub       FR2  ...         0.000     0.000       0.000    0.000   \n",
       "\n",
       "   MiscVal  MoSold  YrSold  SaleType  SaleCondition SalePrice  \n",
       "0    0.000       2    2008        WD         Normal    12.248  \n",
       "1    0.000       5    2007        WD         Normal    12.109  \n",
       "2    0.000       9    2008        WD         Normal    12.317  \n",
       "3    0.000       2    2006        WD        Abnorml    11.849  \n",
       "4    0.000      12    2008        WD         Normal    12.429  \n",
       "\n",
       "[5 rows x 75 columns]"
      ]
     },
     "execution_count": 119,
     "metadata": {},
     "output_type": "execute_result"
    }
   ],
   "source": [
    "train.head()"
   ]
  },
  {
   "cell_type": "code",
   "execution_count": 120,
   "metadata": {
    "execution": {
     "iopub.execute_input": "2020-12-07T17:26:22.787109Z",
     "iopub.status.busy": "2020-12-07T17:26:22.786148Z",
     "iopub.status.idle": "2020-12-07T17:26:22.790688Z",
     "shell.execute_reply": "2020-12-07T17:26:22.790084Z"
    },
    "papermill": {
     "duration": 0.146828,
     "end_time": "2020-12-07T17:26:22.790816",
     "exception": false,
     "start_time": "2020-12-07T17:26:22.643988",
     "status": "completed"
    },
    "tags": []
   },
   "outputs": [
    {
     "data": {
      "text/html": [
       "<div>\n",
       "<style scoped>\n",
       "    .dataframe tbody tr th:only-of-type {\n",
       "        vertical-align: middle;\n",
       "    }\n",
       "\n",
       "    .dataframe tbody tr th {\n",
       "        vertical-align: top;\n",
       "    }\n",
       "\n",
       "    .dataframe thead th {\n",
       "        text-align: right;\n",
       "    }\n",
       "</style>\n",
       "<table border=\"1\" class=\"dataframe\">\n",
       "  <thead>\n",
       "    <tr style=\"text-align: right;\">\n",
       "      <th></th>\n",
       "      <th>Id</th>\n",
       "      <th>MSSubClass</th>\n",
       "      <th>MSZoning</th>\n",
       "      <th>LotFrontage</th>\n",
       "      <th>LotArea</th>\n",
       "      <th>Street</th>\n",
       "      <th>LotShape</th>\n",
       "      <th>LandContour</th>\n",
       "      <th>Utilities</th>\n",
       "      <th>LotConfig</th>\n",
       "      <th>...</th>\n",
       "      <th>OpenPorchSF</th>\n",
       "      <th>EnclosedPorch</th>\n",
       "      <th>3SsnPorch</th>\n",
       "      <th>ScreenPorch</th>\n",
       "      <th>PoolArea</th>\n",
       "      <th>MiscVal</th>\n",
       "      <th>MoSold</th>\n",
       "      <th>YrSold</th>\n",
       "      <th>SaleType</th>\n",
       "      <th>SaleCondition</th>\n",
       "    </tr>\n",
       "  </thead>\n",
       "  <tbody>\n",
       "    <tr>\n",
       "      <th>0</th>\n",
       "      <td>1461</td>\n",
       "      <td>3.045</td>\n",
       "      <td>RH</td>\n",
       "      <td>4.394</td>\n",
       "      <td>9.361</td>\n",
       "      <td>Pave</td>\n",
       "      <td>Reg</td>\n",
       "      <td>Lvl</td>\n",
       "      <td>AllPub</td>\n",
       "      <td>Inside</td>\n",
       "      <td>...</td>\n",
       "      <td>0.000</td>\n",
       "      <td>0.000</td>\n",
       "      <td>0.000</td>\n",
       "      <td>4.796</td>\n",
       "      <td>0.000</td>\n",
       "      <td>0.000</td>\n",
       "      <td>6</td>\n",
       "      <td>2010</td>\n",
       "      <td>WD</td>\n",
       "      <td>Normal</td>\n",
       "    </tr>\n",
       "    <tr>\n",
       "      <th>1</th>\n",
       "      <td>1462</td>\n",
       "      <td>3.045</td>\n",
       "      <td>RL</td>\n",
       "      <td>4.407</td>\n",
       "      <td>9.566</td>\n",
       "      <td>Pave</td>\n",
       "      <td>IR1</td>\n",
       "      <td>Lvl</td>\n",
       "      <td>AllPub</td>\n",
       "      <td>Corner</td>\n",
       "      <td>...</td>\n",
       "      <td>3.611</td>\n",
       "      <td>0.000</td>\n",
       "      <td>0.000</td>\n",
       "      <td>0.000</td>\n",
       "      <td>0.000</td>\n",
       "      <td>9.434</td>\n",
       "      <td>6</td>\n",
       "      <td>2010</td>\n",
       "      <td>WD</td>\n",
       "      <td>Normal</td>\n",
       "    </tr>\n",
       "    <tr>\n",
       "      <th>2</th>\n",
       "      <td>1463</td>\n",
       "      <td>4.111</td>\n",
       "      <td>RL</td>\n",
       "      <td>4.317</td>\n",
       "      <td>9.535</td>\n",
       "      <td>Pave</td>\n",
       "      <td>IR1</td>\n",
       "      <td>Lvl</td>\n",
       "      <td>AllPub</td>\n",
       "      <td>Inside</td>\n",
       "      <td>...</td>\n",
       "      <td>3.555</td>\n",
       "      <td>0.000</td>\n",
       "      <td>0.000</td>\n",
       "      <td>0.000</td>\n",
       "      <td>0.000</td>\n",
       "      <td>0.000</td>\n",
       "      <td>3</td>\n",
       "      <td>2010</td>\n",
       "      <td>WD</td>\n",
       "      <td>Normal</td>\n",
       "    </tr>\n",
       "    <tr>\n",
       "      <th>3</th>\n",
       "      <td>1464</td>\n",
       "      <td>4.111</td>\n",
       "      <td>RL</td>\n",
       "      <td>4.369</td>\n",
       "      <td>9.208</td>\n",
       "      <td>Pave</td>\n",
       "      <td>IR1</td>\n",
       "      <td>Lvl</td>\n",
       "      <td>AllPub</td>\n",
       "      <td>Inside</td>\n",
       "      <td>...</td>\n",
       "      <td>3.611</td>\n",
       "      <td>0.000</td>\n",
       "      <td>0.000</td>\n",
       "      <td>0.000</td>\n",
       "      <td>0.000</td>\n",
       "      <td>0.000</td>\n",
       "      <td>6</td>\n",
       "      <td>2010</td>\n",
       "      <td>WD</td>\n",
       "      <td>Normal</td>\n",
       "    </tr>\n",
       "    <tr>\n",
       "      <th>4</th>\n",
       "      <td>1465</td>\n",
       "      <td>4.796</td>\n",
       "      <td>RL</td>\n",
       "      <td>3.784</td>\n",
       "      <td>8.518</td>\n",
       "      <td>Pave</td>\n",
       "      <td>IR1</td>\n",
       "      <td>HLS</td>\n",
       "      <td>AllPub</td>\n",
       "      <td>Inside</td>\n",
       "      <td>...</td>\n",
       "      <td>4.419</td>\n",
       "      <td>0.000</td>\n",
       "      <td>0.000</td>\n",
       "      <td>4.977</td>\n",
       "      <td>0.000</td>\n",
       "      <td>0.000</td>\n",
       "      <td>1</td>\n",
       "      <td>2010</td>\n",
       "      <td>WD</td>\n",
       "      <td>Normal</td>\n",
       "    </tr>\n",
       "  </tbody>\n",
       "</table>\n",
       "<p>5 rows × 74 columns</p>\n",
       "</div>"
      ],
      "text/plain": [
       "     Id  MSSubClass MSZoning  LotFrontage  LotArea Street LotShape  \\\n",
       "0  1461       3.045       RH        4.394    9.361   Pave      Reg   \n",
       "1  1462       3.045       RL        4.407    9.566   Pave      IR1   \n",
       "2  1463       4.111       RL        4.317    9.535   Pave      IR1   \n",
       "3  1464       4.111       RL        4.369    9.208   Pave      IR1   \n",
       "4  1465       4.796       RL        3.784    8.518   Pave      IR1   \n",
       "\n",
       "  LandContour Utilities LotConfig  ... OpenPorchSF EnclosedPorch 3SsnPorch  \\\n",
       "0         Lvl    AllPub    Inside  ...       0.000         0.000     0.000   \n",
       "1         Lvl    AllPub    Corner  ...       3.611         0.000     0.000   \n",
       "2         Lvl    AllPub    Inside  ...       3.555         0.000     0.000   \n",
       "3         Lvl    AllPub    Inside  ...       3.611         0.000     0.000   \n",
       "4         HLS    AllPub    Inside  ...       4.419         0.000     0.000   \n",
       "\n",
       "  ScreenPorch  PoolArea  MiscVal  MoSold  YrSold  SaleType SaleCondition  \n",
       "0       4.796     0.000    0.000       6    2010        WD        Normal  \n",
       "1       0.000     0.000    9.434       6    2010        WD        Normal  \n",
       "2       0.000     0.000    0.000       3    2010        WD        Normal  \n",
       "3       0.000     0.000    0.000       6    2010        WD        Normal  \n",
       "4       4.977     0.000    0.000       1    2010        WD        Normal  \n",
       "\n",
       "[5 rows x 74 columns]"
      ]
     },
     "execution_count": 120,
     "metadata": {},
     "output_type": "execute_result"
    }
   ],
   "source": [
    "test.head()"
   ]
  },
  {
   "cell_type": "code",
   "execution_count": 121,
   "metadata": {
    "execution": {
     "iopub.execute_input": "2020-12-07T17:26:23.077451Z",
     "iopub.status.busy": "2020-12-07T17:26:23.076588Z",
     "iopub.status.idle": "2020-12-07T17:26:23.205391Z",
     "shell.execute_reply": "2020-12-07T17:26:23.204707Z"
    },
    "papermill": {
     "duration": 0.294396,
     "end_time": "2020-12-07T17:26:23.205503",
     "exception": false,
     "start_time": "2020-12-07T17:26:22.911107",
     "status": "completed"
    },
    "tags": []
   },
   "outputs": [],
   "source": [
    "train = pd.get_dummies(train,drop_first = True)"
   ]
  },
  {
   "cell_type": "code",
   "execution_count": 122,
   "metadata": {
    "execution": {
     "iopub.execute_input": "2020-12-07T17:26:23.461920Z",
     "iopub.status.busy": "2020-12-07T17:26:23.460914Z",
     "iopub.status.idle": "2020-12-07T17:26:23.487967Z",
     "shell.execute_reply": "2020-12-07T17:26:23.487469Z"
    },
    "papermill": {
     "duration": 0.161173,
     "end_time": "2020-12-07T17:26:23.488082",
     "exception": false,
     "start_time": "2020-12-07T17:26:23.326909",
     "status": "completed"
    },
    "tags": []
   },
   "outputs": [],
   "source": [
    "test = pd.get_dummies(test,drop_first = True)"
   ]
  },
  {
   "cell_type": "code",
   "execution_count": 123,
   "metadata": {
    "execution": {
     "iopub.execute_input": "2020-12-07T17:26:23.739676Z",
     "iopub.status.busy": "2020-12-07T17:26:23.738838Z",
     "iopub.status.idle": "2020-12-07T17:26:23.742216Z",
     "shell.execute_reply": "2020-12-07T17:26:23.741717Z"
    },
    "papermill": {
     "duration": 0.132533,
     "end_time": "2020-12-07T17:26:23.742365",
     "exception": false,
     "start_time": "2020-12-07T17:26:23.609832",
     "status": "completed"
    },
    "tags": []
   },
   "outputs": [],
   "source": [
    "y = train['SalePrice']"
   ]
  },
  {
   "cell_type": "code",
   "execution_count": 124,
   "metadata": {
    "execution": {
     "iopub.execute_input": "2020-12-07T17:26:23.992879Z",
     "iopub.status.busy": "2020-12-07T17:26:23.991839Z",
     "iopub.status.idle": "2020-12-07T17:26:23.997908Z",
     "shell.execute_reply": "2020-12-07T17:26:23.997403Z"
    },
    "papermill": {
     "duration": 0.134571,
     "end_time": "2020-12-07T17:26:23.998022",
     "exception": false,
     "start_time": "2020-12-07T17:26:23.863451",
     "status": "completed"
    },
    "tags": []
   },
   "outputs": [],
   "source": [
    "X = train.drop('SalePrice',axis = 1)"
   ]
  },
  {
   "cell_type": "code",
   "execution_count": 125,
   "metadata": {
    "execution": {
     "iopub.execute_input": "2020-12-07T17:26:24.246504Z",
     "iopub.status.busy": "2020-12-07T17:26:24.245808Z",
     "iopub.status.idle": "2020-12-07T17:26:24.250551Z",
     "shell.execute_reply": "2020-12-07T17:26:24.249928Z"
    },
    "papermill": {
     "duration": 0.131867,
     "end_time": "2020-12-07T17:26:24.250659",
     "exception": false,
     "start_time": "2020-12-07T17:26:24.118792",
     "status": "completed"
    },
    "tags": []
   },
   "outputs": [],
   "source": [
    "X_train, X_val, y_train, y_val = train_test_split(X, y, test_size=0.2, random_state=123)"
   ]
  },
  {
   "cell_type": "code",
   "execution_count": 126,
   "metadata": {
    "execution": {
     "iopub.execute_input": "2020-12-07T17:26:24.500276Z",
     "iopub.status.busy": "2020-12-07T17:26:24.499429Z",
     "iopub.status.idle": "2020-12-07T17:26:24.502266Z",
     "shell.execute_reply": "2020-12-07T17:26:24.501800Z"
    },
    "papermill": {
     "duration": 0.130335,
     "end_time": "2020-12-07T17:26:24.502377",
     "exception": false,
     "start_time": "2020-12-07T17:26:24.372042",
     "status": "completed"
    },
    "tags": []
   },
   "outputs": [],
   "source": [
    "results = pd.DataFrame({'Model':[],\n",
    "                       'R_squared':[],\n",
    "                       'Mean_squared_error':[]})"
   ]
  },
  {
   "cell_type": "code",
   "execution_count": 127,
   "metadata": {
    "execution": {
     "iopub.execute_input": "2020-12-07T17:26:24.750736Z",
     "iopub.status.busy": "2020-12-07T17:26:24.750097Z",
     "iopub.status.idle": "2020-12-07T17:26:24.752788Z",
     "shell.execute_reply": "2020-12-07T17:26:24.752160Z"
    },
    "papermill": {
     "duration": 0.128761,
     "end_time": "2020-12-07T17:26:24.752894",
     "exception": false,
     "start_time": "2020-12-07T17:26:24.624133",
     "status": "completed"
    },
    "tags": []
   },
   "outputs": [],
   "source": [
    "lm_model = LinearRegression()"
   ]
  },
  {
   "cell_type": "code",
   "execution_count": 128,
   "metadata": {
    "execution": {
     "iopub.execute_input": "2020-12-07T17:26:25.003980Z",
     "iopub.status.busy": "2020-12-07T17:26:25.003179Z",
     "iopub.status.idle": "2020-12-07T17:26:25.006156Z",
     "shell.execute_reply": "2020-12-07T17:26:25.005541Z"
    },
    "papermill": {
     "duration": 0.131271,
     "end_time": "2020-12-07T17:26:25.006284",
     "exception": false,
     "start_time": "2020-12-07T17:26:24.875013",
     "status": "completed"
    },
    "tags": []
   },
   "outputs": [],
   "source": [
    "sfs_lm = sfs(lm_model,k_features = 40,forward=True,floating=False, scoring='r2',cv=5)\n"
   ]
  },
  {
   "cell_type": "code",
   "execution_count": 129,
   "metadata": {
    "execution": {
     "iopub.execute_input": "2020-12-07T17:26:25.254333Z",
     "iopub.status.busy": "2020-12-07T17:26:25.253697Z",
     "iopub.status.idle": "2020-12-07T17:27:29.588299Z",
     "shell.execute_reply": "2020-12-07T17:27:29.588852Z"
    },
    "papermill": {
     "duration": 64.461254,
     "end_time": "2020-12-07T17:27:29.588999",
     "exception": false,
     "start_time": "2020-12-07T17:26:25.127745",
     "status": "completed"
    },
    "tags": []
   },
   "outputs": [
    {
     "data": {
      "text/plain": [
       "SequentialFeatureSelector(estimator=LinearRegression(), k_features=40,\n",
       "                          scoring='r2')"
      ]
     },
     "execution_count": 129,
     "metadata": {},
     "output_type": "execute_result"
    }
   ],
   "source": [
    "sfs_lm.fit(X_train, y_train)"
   ]
  },
  {
   "cell_type": "code",
   "execution_count": 130,
   "metadata": {
    "execution": {
     "iopub.execute_input": "2020-12-07T17:27:29.889056Z",
     "iopub.status.busy": "2020-12-07T17:27:29.888109Z",
     "iopub.status.idle": "2020-12-07T17:27:29.894491Z",
     "shell.execute_reply": "2020-12-07T17:27:29.894960Z"
    },
    "papermill": {
     "duration": 0.180074,
     "end_time": "2020-12-07T17:27:29.895093",
     "exception": false,
     "start_time": "2020-12-07T17:27:29.715019",
     "status": "completed"
    },
    "tags": []
   },
   "outputs": [
    {
     "data": {
      "text/plain": [
       "{1: {'feature_idx': (5,),\n",
       "  'cv_scores': array([0.6894266 , 0.65806108, 0.68640955, 0.6354099 , 0.64550759]),\n",
       "  'avg_score': 0.662962945788392,\n",
       "  'feature_names': ('OverallQual',)},\n",
       " 2: {'feature_idx': (5, 25),\n",
       "  'cv_scores': array([0.75108788, 0.76364442, 0.75480721, 0.73551696, 0.759588  ]),\n",
       "  'avg_score': 0.7529288940235552,\n",
       "  'feature_names': ('OverallQual', 'GrLivArea')},\n",
       " 3: {'feature_idx': (5, 15, 25),\n",
       "  'cv_scores': array([0.78549159, 0.80263933, 0.81311823, 0.77654981, 0.80384878]),\n",
       "  'avg_score': 0.7963295469603884,\n",
       "  'feature_names': ('OverallQual', 'BsmtFinType1', 'GrLivArea')},\n",
       " 4: {'feature_idx': (3, 5, 15, 25),\n",
       "  'cv_scores': array([0.81217508, 0.83290864, 0.84894739, 0.79831168, 0.83492374]),\n",
       "  'avg_score': 0.8254533059924547,\n",
       "  'feature_names': ('LotArea', 'OverallQual', 'BsmtFinType1', 'GrLivArea')},\n",
       " 5: {'feature_idx': (3, 5, 7, 15, 25),\n",
       "  'cv_scores': array([0.84322601, 0.85496532, 0.89042385, 0.81928426, 0.84952042]),\n",
       "  'avg_score': 0.8514839726059227,\n",
       "  'feature_names': ('LotArea',\n",
       "   'OverallQual',\n",
       "   'YearBuilt',\n",
       "   'BsmtFinType1',\n",
       "   'GrLivArea')},\n",
       " 6: {'feature_idx': (3, 5, 6, 7, 15, 25),\n",
       "  'cv_scores': array([0.84604362, 0.86858341, 0.91123682, 0.84065863, 0.86747253]),\n",
       "  'avg_score': 0.866799003967305,\n",
       "  'feature_names': ('LotArea',\n",
       "   'OverallQual',\n",
       "   'OverallCond',\n",
       "   'YearBuilt',\n",
       "   'BsmtFinType1',\n",
       "   'GrLivArea')},\n",
       " 7: {'feature_idx': (3, 5, 6, 7, 15, 25, 32),\n",
       "  'cv_scores': array([0.84805291, 0.87958185, 0.91658152, 0.85119482, 0.87555197]),\n",
       "  'avg_score': 0.8741926137353389,\n",
       "  'feature_names': ('LotArea',\n",
       "   'OverallQual',\n",
       "   'OverallCond',\n",
       "   'YearBuilt',\n",
       "   'BsmtFinType1',\n",
       "   'GrLivArea',\n",
       "   'KitchenQual')},\n",
       " 8: {'feature_idx': (3, 5, 6, 7, 15, 22, 25, 32),\n",
       "  'cv_scores': array([0.86024766, 0.88420759, 0.91910923, 0.85752163, 0.88053608]),\n",
       "  'avg_score': 0.8803244403013892,\n",
       "  'feature_names': ('LotArea',\n",
       "   'OverallQual',\n",
       "   'OverallCond',\n",
       "   'YearBuilt',\n",
       "   'BsmtFinType1',\n",
       "   '1stFlrSF',\n",
       "   'GrLivArea',\n",
       "   'KitchenQual')},\n",
       " 9: {'feature_idx': (3, 5, 6, 7, 15, 22, 25, 32, 73),\n",
       "  'cv_scores': array([0.86433839, 0.88521874, 0.91941129, 0.86599761, 0.88786559]),\n",
       "  'avg_score': 0.8845663258321957,\n",
       "  'feature_names': ('LotArea',\n",
       "   'OverallQual',\n",
       "   'OverallCond',\n",
       "   'YearBuilt',\n",
       "   'BsmtFinType1',\n",
       "   '1stFlrSF',\n",
       "   'GrLivArea',\n",
       "   'KitchenQual',\n",
       "   'Neighborhood_Crawfor')},\n",
       " 10: {'feature_idx': (3, 5, 6, 7, 15, 22, 25, 32, 37, 73),\n",
       "  'cv_scores': array([0.87339999, 0.88974168, 0.92511889, 0.870029  , 0.88464201]),\n",
       "  'avg_score': 0.8885863161398835,\n",
       "  'feature_names': ('LotArea',\n",
       "   'OverallQual',\n",
       "   'OverallCond',\n",
       "   'YearBuilt',\n",
       "   'BsmtFinType1',\n",
       "   '1stFlrSF',\n",
       "   'GrLivArea',\n",
       "   'KitchenQual',\n",
       "   'GarageCars',\n",
       "   'Neighborhood_Crawfor')},\n",
       " 11: {'feature_idx': (3, 5, 6, 7, 15, 22, 25, 31, 32, 37, 73),\n",
       "  'cv_scores': array([0.87752919, 0.89068922, 0.92780897, 0.87806289, 0.88678389]),\n",
       "  'avg_score': 0.892174830690138,\n",
       "  'feature_names': ('LotArea',\n",
       "   'OverallQual',\n",
       "   'OverallCond',\n",
       "   'YearBuilt',\n",
       "   'BsmtFinType1',\n",
       "   '1stFlrSF',\n",
       "   'GrLivArea',\n",
       "   'KitchenAbvGr',\n",
       "   'KitchenQual',\n",
       "   'GarageCars',\n",
       "   'Neighborhood_Crawfor')},\n",
       " 12: {'feature_idx': (3, 5, 6, 7, 15, 22, 25, 31, 32, 37, 70, 73),\n",
       "  'cv_scores': array([0.88038321, 0.89443187, 0.92876189, 0.87968568, 0.88809952]),\n",
       "  'avg_score': 0.8942724329200594,\n",
       "  'feature_names': ('LotArea',\n",
       "   'OverallQual',\n",
       "   'OverallCond',\n",
       "   'YearBuilt',\n",
       "   'BsmtFinType1',\n",
       "   '1stFlrSF',\n",
       "   'GrLivArea',\n",
       "   'KitchenAbvGr',\n",
       "   'KitchenQual',\n",
       "   'GarageCars',\n",
       "   'Neighborhood_BrkSide',\n",
       "   'Neighborhood_Crawfor')},\n",
       " 13: {'feature_idx': (3, 5, 6, 7, 15, 16, 22, 25, 31, 32, 37, 70, 73),\n",
       "  'cv_scores': array([0.88445491, 0.89685814, 0.93002693, 0.88178617, 0.88830056]),\n",
       "  'avg_score': 0.8962853408242522,\n",
       "  'feature_names': ('LotArea',\n",
       "   'OverallQual',\n",
       "   'OverallCond',\n",
       "   'YearBuilt',\n",
       "   'BsmtFinType1',\n",
       "   'BsmtFinSF1',\n",
       "   '1stFlrSF',\n",
       "   'GrLivArea',\n",
       "   'KitchenAbvGr',\n",
       "   'KitchenQual',\n",
       "   'GarageCars',\n",
       "   'Neighborhood_BrkSide',\n",
       "   'Neighborhood_Crawfor')},\n",
       " 14: {'feature_idx': (3, 5, 6, 7, 15, 16, 21, 22, 25, 31, 32, 37, 70, 73),\n",
       "  'cv_scores': array([0.88577149, 0.89631906, 0.93265475, 0.88461964, 0.89344442]),\n",
       "  'avg_score': 0.8985618720221362,\n",
       "  'feature_names': ('LotArea',\n",
       "   'OverallQual',\n",
       "   'OverallCond',\n",
       "   'YearBuilt',\n",
       "   'BsmtFinType1',\n",
       "   'BsmtFinSF1',\n",
       "   'HeatingQC',\n",
       "   '1stFlrSF',\n",
       "   'GrLivArea',\n",
       "   'KitchenAbvGr',\n",
       "   'KitchenQual',\n",
       "   'GarageCars',\n",
       "   'Neighborhood_BrkSide',\n",
       "   'Neighborhood_Crawfor')},\n",
       " 15: {'feature_idx': (3, 5, 6, 7, 15, 16, 21, 22, 25, 31, 32, 37, 70, 73, 152),\n",
       "  'cv_scores': array([0.88641738, 0.90082977, 0.93596121, 0.8868649 , 0.89452964]),\n",
       "  'avg_score': 0.9009205791194544,\n",
       "  'feature_names': ('LotArea',\n",
       "   'OverallQual',\n",
       "   'OverallCond',\n",
       "   'YearBuilt',\n",
       "   'BsmtFinType1',\n",
       "   'BsmtFinSF1',\n",
       "   'HeatingQC',\n",
       "   '1stFlrSF',\n",
       "   'GrLivArea',\n",
       "   'KitchenAbvGr',\n",
       "   'KitchenQual',\n",
       "   'GarageCars',\n",
       "   'Neighborhood_BrkSide',\n",
       "   'Neighborhood_Crawfor',\n",
       "   'Functional_Typ')},\n",
       " 16: {'feature_idx': (3,\n",
       "   5,\n",
       "   6,\n",
       "   7,\n",
       "   15,\n",
       "   16,\n",
       "   21,\n",
       "   22,\n",
       "   25,\n",
       "   31,\n",
       "   32,\n",
       "   37,\n",
       "   70,\n",
       "   73,\n",
       "   96,\n",
       "   152),\n",
       "  'cv_scores': array([0.89115776, 0.90116372, 0.93628878, 0.88811007, 0.89749833]),\n",
       "  'avg_score': 0.902843733799517,\n",
       "  'feature_names': ('LotArea',\n",
       "   'OverallQual',\n",
       "   'OverallCond',\n",
       "   'YearBuilt',\n",
       "   'BsmtFinType1',\n",
       "   'BsmtFinSF1',\n",
       "   'HeatingQC',\n",
       "   '1stFlrSF',\n",
       "   'GrLivArea',\n",
       "   'KitchenAbvGr',\n",
       "   'KitchenQual',\n",
       "   'GarageCars',\n",
       "   'Neighborhood_BrkSide',\n",
       "   'Neighborhood_Crawfor',\n",
       "   'Condition1_RRAe',\n",
       "   'Functional_Typ')},\n",
       " 17: {'feature_idx': (3,\n",
       "   5,\n",
       "   6,\n",
       "   7,\n",
       "   15,\n",
       "   16,\n",
       "   21,\n",
       "   22,\n",
       "   25,\n",
       "   31,\n",
       "   32,\n",
       "   37,\n",
       "   70,\n",
       "   73,\n",
       "   96,\n",
       "   152,\n",
       "   164),\n",
       "  'cv_scores': array([0.89472506, 0.90356808, 0.93673134, 0.8897445 , 0.89969572]),\n",
       "  'avg_score': 0.9048929415555238,\n",
       "  'feature_names': ('LotArea',\n",
       "   'OverallQual',\n",
       "   'OverallCond',\n",
       "   'YearBuilt',\n",
       "   'BsmtFinType1',\n",
       "   'BsmtFinSF1',\n",
       "   'HeatingQC',\n",
       "   '1stFlrSF',\n",
       "   'GrLivArea',\n",
       "   'KitchenAbvGr',\n",
       "   'KitchenQual',\n",
       "   'GarageCars',\n",
       "   'Neighborhood_BrkSide',\n",
       "   'Neighborhood_Crawfor',\n",
       "   'Condition1_RRAe',\n",
       "   'Functional_Typ',\n",
       "   'SaleType_New')},\n",
       " 18: {'feature_idx': (3,\n",
       "   5,\n",
       "   6,\n",
       "   7,\n",
       "   15,\n",
       "   16,\n",
       "   21,\n",
       "   22,\n",
       "   25,\n",
       "   31,\n",
       "   32,\n",
       "   37,\n",
       "   70,\n",
       "   73,\n",
       "   96,\n",
       "   152,\n",
       "   164,\n",
       "   170),\n",
       "  'cv_scores': array([0.89680785, 0.90610459, 0.93476878, 0.89614076, 0.90275386]),\n",
       "  'avg_score': 0.9073151691600387,\n",
       "  'feature_names': ('LotArea',\n",
       "   'OverallQual',\n",
       "   'OverallCond',\n",
       "   'YearBuilt',\n",
       "   'BsmtFinType1',\n",
       "   'BsmtFinSF1',\n",
       "   'HeatingQC',\n",
       "   '1stFlrSF',\n",
       "   'GrLivArea',\n",
       "   'KitchenAbvGr',\n",
       "   'KitchenQual',\n",
       "   'GarageCars',\n",
       "   'Neighborhood_BrkSide',\n",
       "   'Neighborhood_Crawfor',\n",
       "   'Condition1_RRAe',\n",
       "   'Functional_Typ',\n",
       "   'SaleType_New',\n",
       "   'SaleCondition_Normal')},\n",
       " 19: {'feature_idx': (3,\n",
       "   5,\n",
       "   6,\n",
       "   7,\n",
       "   15,\n",
       "   16,\n",
       "   21,\n",
       "   22,\n",
       "   25,\n",
       "   31,\n",
       "   32,\n",
       "   37,\n",
       "   70,\n",
       "   73,\n",
       "   93,\n",
       "   96,\n",
       "   152,\n",
       "   164,\n",
       "   170),\n",
       "  'cv_scores': array([0.89962226, 0.9059782 , 0.93490778, 0.89803712, 0.90418358]),\n",
       "  'avg_score': 0.9085457862052848,\n",
       "  'feature_names': ('LotArea',\n",
       "   'OverallQual',\n",
       "   'OverallCond',\n",
       "   'YearBuilt',\n",
       "   'BsmtFinType1',\n",
       "   'BsmtFinSF1',\n",
       "   'HeatingQC',\n",
       "   '1stFlrSF',\n",
       "   'GrLivArea',\n",
       "   'KitchenAbvGr',\n",
       "   'KitchenQual',\n",
       "   'GarageCars',\n",
       "   'Neighborhood_BrkSide',\n",
       "   'Neighborhood_Crawfor',\n",
       "   'Condition1_Norm',\n",
       "   'Condition1_RRAe',\n",
       "   'Functional_Typ',\n",
       "   'SaleType_New',\n",
       "   'SaleCondition_Normal')},\n",
       " 20: {'feature_idx': (3,\n",
       "   5,\n",
       "   6,\n",
       "   7,\n",
       "   15,\n",
       "   16,\n",
       "   21,\n",
       "   22,\n",
       "   25,\n",
       "   26,\n",
       "   31,\n",
       "   32,\n",
       "   37,\n",
       "   70,\n",
       "   73,\n",
       "   93,\n",
       "   96,\n",
       "   152,\n",
       "   164,\n",
       "   170),\n",
       "  'cv_scores': array([0.90124741, 0.90587469, 0.9352444 , 0.89881415, 0.90618308]),\n",
       "  'avg_score': 0.9094727465127581,\n",
       "  'feature_names': ('LotArea',\n",
       "   'OverallQual',\n",
       "   'OverallCond',\n",
       "   'YearBuilt',\n",
       "   'BsmtFinType1',\n",
       "   'BsmtFinSF1',\n",
       "   'HeatingQC',\n",
       "   '1stFlrSF',\n",
       "   'GrLivArea',\n",
       "   'BsmtFullBath',\n",
       "   'KitchenAbvGr',\n",
       "   'KitchenQual',\n",
       "   'GarageCars',\n",
       "   'Neighborhood_BrkSide',\n",
       "   'Neighborhood_Crawfor',\n",
       "   'Condition1_Norm',\n",
       "   'Condition1_RRAe',\n",
       "   'Functional_Typ',\n",
       "   'SaleType_New',\n",
       "   'SaleCondition_Normal')},\n",
       " 21: {'feature_idx': (3,\n",
       "   5,\n",
       "   6,\n",
       "   7,\n",
       "   15,\n",
       "   16,\n",
       "   21,\n",
       "   22,\n",
       "   23,\n",
       "   25,\n",
       "   26,\n",
       "   31,\n",
       "   32,\n",
       "   37,\n",
       "   70,\n",
       "   73,\n",
       "   93,\n",
       "   96,\n",
       "   152,\n",
       "   164,\n",
       "   170),\n",
       "  'cv_scores': array([0.90366956, 0.90630309, 0.93544646, 0.89982065, 0.90668372]),\n",
       "  'avg_score': 0.9103846956469004,\n",
       "  'feature_names': ('LotArea',\n",
       "   'OverallQual',\n",
       "   'OverallCond',\n",
       "   'YearBuilt',\n",
       "   'BsmtFinType1',\n",
       "   'BsmtFinSF1',\n",
       "   'HeatingQC',\n",
       "   '1stFlrSF',\n",
       "   '2ndFlrSF',\n",
       "   'GrLivArea',\n",
       "   'BsmtFullBath',\n",
       "   'KitchenAbvGr',\n",
       "   'KitchenQual',\n",
       "   'GarageCars',\n",
       "   'Neighborhood_BrkSide',\n",
       "   'Neighborhood_Crawfor',\n",
       "   'Condition1_Norm',\n",
       "   'Condition1_RRAe',\n",
       "   'Functional_Typ',\n",
       "   'SaleType_New',\n",
       "   'SaleCondition_Normal')},\n",
       " 22: {'feature_idx': (3,\n",
       "   5,\n",
       "   6,\n",
       "   7,\n",
       "   15,\n",
       "   16,\n",
       "   21,\n",
       "   22,\n",
       "   23,\n",
       "   25,\n",
       "   26,\n",
       "   31,\n",
       "   32,\n",
       "   37,\n",
       "   70,\n",
       "   73,\n",
       "   83,\n",
       "   93,\n",
       "   96,\n",
       "   152,\n",
       "   164,\n",
       "   170),\n",
       "  'cv_scores': array([0.90542724, 0.90693391, 0.93655906, 0.89972842, 0.90776529]),\n",
       "  'avg_score': 0.9112827857942705,\n",
       "  'feature_names': ('LotArea',\n",
       "   'OverallQual',\n",
       "   'OverallCond',\n",
       "   'YearBuilt',\n",
       "   'BsmtFinType1',\n",
       "   'BsmtFinSF1',\n",
       "   'HeatingQC',\n",
       "   '1stFlrSF',\n",
       "   '2ndFlrSF',\n",
       "   'GrLivArea',\n",
       "   'BsmtFullBath',\n",
       "   'KitchenAbvGr',\n",
       "   'KitchenQual',\n",
       "   'GarageCars',\n",
       "   'Neighborhood_BrkSide',\n",
       "   'Neighborhood_Crawfor',\n",
       "   'Neighborhood_NridgHt',\n",
       "   'Condition1_Norm',\n",
       "   'Condition1_RRAe',\n",
       "   'Functional_Typ',\n",
       "   'SaleType_New',\n",
       "   'SaleCondition_Normal')},\n",
       " 23: {'feature_idx': (3,\n",
       "   5,\n",
       "   6,\n",
       "   7,\n",
       "   15,\n",
       "   16,\n",
       "   21,\n",
       "   22,\n",
       "   23,\n",
       "   25,\n",
       "   26,\n",
       "   31,\n",
       "   32,\n",
       "   37,\n",
       "   70,\n",
       "   73,\n",
       "   83,\n",
       "   88,\n",
       "   93,\n",
       "   96,\n",
       "   152,\n",
       "   164,\n",
       "   170),\n",
       "  'cv_scores': array([0.90744277, 0.90676937, 0.93624297, 0.90163077, 0.90878872]),\n",
       "  'avg_score': 0.9121749201003635,\n",
       "  'feature_names': ('LotArea',\n",
       "   'OverallQual',\n",
       "   'OverallCond',\n",
       "   'YearBuilt',\n",
       "   'BsmtFinType1',\n",
       "   'BsmtFinSF1',\n",
       "   'HeatingQC',\n",
       "   '1stFlrSF',\n",
       "   '2ndFlrSF',\n",
       "   'GrLivArea',\n",
       "   'BsmtFullBath',\n",
       "   'KitchenAbvGr',\n",
       "   'KitchenQual',\n",
       "   'GarageCars',\n",
       "   'Neighborhood_BrkSide',\n",
       "   'Neighborhood_Crawfor',\n",
       "   'Neighborhood_NridgHt',\n",
       "   'Neighborhood_Somerst',\n",
       "   'Condition1_Norm',\n",
       "   'Condition1_RRAe',\n",
       "   'Functional_Typ',\n",
       "   'SaleType_New',\n",
       "   'SaleCondition_Normal')},\n",
       " 24: {'feature_idx': (3,\n",
       "   5,\n",
       "   6,\n",
       "   7,\n",
       "   15,\n",
       "   16,\n",
       "   21,\n",
       "   22,\n",
       "   23,\n",
       "   25,\n",
       "   26,\n",
       "   31,\n",
       "   32,\n",
       "   37,\n",
       "   70,\n",
       "   73,\n",
       "   83,\n",
       "   88,\n",
       "   89,\n",
       "   93,\n",
       "   96,\n",
       "   152,\n",
       "   164,\n",
       "   170),\n",
       "  'cv_scores': array([0.90643309, 0.90961712, 0.93845169, 0.90145887, 0.91040268]),\n",
       "  'avg_score': 0.9132726914800372,\n",
       "  'feature_names': ('LotArea',\n",
       "   'OverallQual',\n",
       "   'OverallCond',\n",
       "   'YearBuilt',\n",
       "   'BsmtFinType1',\n",
       "   'BsmtFinSF1',\n",
       "   'HeatingQC',\n",
       "   '1stFlrSF',\n",
       "   '2ndFlrSF',\n",
       "   'GrLivArea',\n",
       "   'BsmtFullBath',\n",
       "   'KitchenAbvGr',\n",
       "   'KitchenQual',\n",
       "   'GarageCars',\n",
       "   'Neighborhood_BrkSide',\n",
       "   'Neighborhood_Crawfor',\n",
       "   'Neighborhood_NridgHt',\n",
       "   'Neighborhood_Somerst',\n",
       "   'Neighborhood_StoneBr',\n",
       "   'Condition1_Norm',\n",
       "   'Condition1_RRAe',\n",
       "   'Functional_Typ',\n",
       "   'SaleType_New',\n",
       "   'SaleCondition_Normal')},\n",
       " 25: {'feature_idx': (3,\n",
       "   5,\n",
       "   6,\n",
       "   7,\n",
       "   15,\n",
       "   16,\n",
       "   21,\n",
       "   22,\n",
       "   23,\n",
       "   25,\n",
       "   26,\n",
       "   31,\n",
       "   32,\n",
       "   34,\n",
       "   37,\n",
       "   70,\n",
       "   73,\n",
       "   83,\n",
       "   88,\n",
       "   89,\n",
       "   93,\n",
       "   96,\n",
       "   152,\n",
       "   164,\n",
       "   170),\n",
       "  'cv_scores': array([0.9071499 , 0.90897259, 0.9387277 , 0.90370444, 0.91221113]),\n",
       "  'avg_score': 0.9141531517581359,\n",
       "  'feature_names': ('LotArea',\n",
       "   'OverallQual',\n",
       "   'OverallCond',\n",
       "   'YearBuilt',\n",
       "   'BsmtFinType1',\n",
       "   'BsmtFinSF1',\n",
       "   'HeatingQC',\n",
       "   '1stFlrSF',\n",
       "   '2ndFlrSF',\n",
       "   'GrLivArea',\n",
       "   'BsmtFullBath',\n",
       "   'KitchenAbvGr',\n",
       "   'KitchenQual',\n",
       "   'Fireplaces',\n",
       "   'GarageCars',\n",
       "   'Neighborhood_BrkSide',\n",
       "   'Neighborhood_Crawfor',\n",
       "   'Neighborhood_NridgHt',\n",
       "   'Neighborhood_Somerst',\n",
       "   'Neighborhood_StoneBr',\n",
       "   'Condition1_Norm',\n",
       "   'Condition1_RRAe',\n",
       "   'Functional_Typ',\n",
       "   'SaleType_New',\n",
       "   'SaleCondition_Normal')},\n",
       " 26: {'feature_idx': (3,\n",
       "   5,\n",
       "   6,\n",
       "   7,\n",
       "   14,\n",
       "   15,\n",
       "   16,\n",
       "   21,\n",
       "   22,\n",
       "   23,\n",
       "   25,\n",
       "   26,\n",
       "   31,\n",
       "   32,\n",
       "   34,\n",
       "   37,\n",
       "   70,\n",
       "   73,\n",
       "   83,\n",
       "   88,\n",
       "   89,\n",
       "   93,\n",
       "   96,\n",
       "   152,\n",
       "   164,\n",
       "   170),\n",
       "  'cv_scores': array([0.90665424, 0.90969206, 0.94026605, 0.90281762, 0.914462  ]),\n",
       "  'avg_score': 0.9147783931735718,\n",
       "  'feature_names': ('LotArea',\n",
       "   'OverallQual',\n",
       "   'OverallCond',\n",
       "   'YearBuilt',\n",
       "   'BsmtExposure',\n",
       "   'BsmtFinType1',\n",
       "   'BsmtFinSF1',\n",
       "   'HeatingQC',\n",
       "   '1stFlrSF',\n",
       "   '2ndFlrSF',\n",
       "   'GrLivArea',\n",
       "   'BsmtFullBath',\n",
       "   'KitchenAbvGr',\n",
       "   'KitchenQual',\n",
       "   'Fireplaces',\n",
       "   'GarageCars',\n",
       "   'Neighborhood_BrkSide',\n",
       "   'Neighborhood_Crawfor',\n",
       "   'Neighborhood_NridgHt',\n",
       "   'Neighborhood_Somerst',\n",
       "   'Neighborhood_StoneBr',\n",
       "   'Condition1_Norm',\n",
       "   'Condition1_RRAe',\n",
       "   'Functional_Typ',\n",
       "   'SaleType_New',\n",
       "   'SaleCondition_Normal')},\n",
       " 27: {'feature_idx': (3,\n",
       "   5,\n",
       "   6,\n",
       "   7,\n",
       "   14,\n",
       "   15,\n",
       "   16,\n",
       "   21,\n",
       "   22,\n",
       "   23,\n",
       "   25,\n",
       "   26,\n",
       "   31,\n",
       "   32,\n",
       "   34,\n",
       "   37,\n",
       "   70,\n",
       "   73,\n",
       "   83,\n",
       "   88,\n",
       "   89,\n",
       "   93,\n",
       "   96,\n",
       "   152,\n",
       "   154,\n",
       "   164,\n",
       "   170),\n",
       "  'cv_scores': array([0.90522295, 0.91121452, 0.94045714, 0.90433453, 0.91535073]),\n",
       "  'avg_score': 0.9153159744827969,\n",
       "  'feature_names': ('LotArea',\n",
       "   'OverallQual',\n",
       "   'OverallCond',\n",
       "   'YearBuilt',\n",
       "   'BsmtExposure',\n",
       "   'BsmtFinType1',\n",
       "   'BsmtFinSF1',\n",
       "   'HeatingQC',\n",
       "   '1stFlrSF',\n",
       "   '2ndFlrSF',\n",
       "   'GrLivArea',\n",
       "   'BsmtFullBath',\n",
       "   'KitchenAbvGr',\n",
       "   'KitchenQual',\n",
       "   'Fireplaces',\n",
       "   'GarageCars',\n",
       "   'Neighborhood_BrkSide',\n",
       "   'Neighborhood_Crawfor',\n",
       "   'Neighborhood_NridgHt',\n",
       "   'Neighborhood_Somerst',\n",
       "   'Neighborhood_StoneBr',\n",
       "   'Condition1_Norm',\n",
       "   'Condition1_RRAe',\n",
       "   'Functional_Typ',\n",
       "   'GarageType_Basment',\n",
       "   'SaleType_New',\n",
       "   'SaleCondition_Normal')},\n",
       " 28: {'feature_idx': (3,\n",
       "   5,\n",
       "   6,\n",
       "   7,\n",
       "   14,\n",
       "   15,\n",
       "   16,\n",
       "   21,\n",
       "   22,\n",
       "   23,\n",
       "   25,\n",
       "   26,\n",
       "   31,\n",
       "   32,\n",
       "   34,\n",
       "   37,\n",
       "   46,\n",
       "   70,\n",
       "   73,\n",
       "   83,\n",
       "   88,\n",
       "   89,\n",
       "   93,\n",
       "   96,\n",
       "   152,\n",
       "   154,\n",
       "   164,\n",
       "   170),\n",
       "  'cv_scores': array([0.90583048, 0.91283157, 0.93916152, 0.90541992, 0.9162167 ]),\n",
       "  'avg_score': 0.9158920382876639,\n",
       "  'feature_names': ('LotArea',\n",
       "   'OverallQual',\n",
       "   'OverallCond',\n",
       "   'YearBuilt',\n",
       "   'BsmtExposure',\n",
       "   'BsmtFinType1',\n",
       "   'BsmtFinSF1',\n",
       "   'HeatingQC',\n",
       "   '1stFlrSF',\n",
       "   '2ndFlrSF',\n",
       "   'GrLivArea',\n",
       "   'BsmtFullBath',\n",
       "   'KitchenAbvGr',\n",
       "   'KitchenQual',\n",
       "   'Fireplaces',\n",
       "   'GarageCars',\n",
       "   'ScreenPorch',\n",
       "   'Neighborhood_BrkSide',\n",
       "   'Neighborhood_Crawfor',\n",
       "   'Neighborhood_NridgHt',\n",
       "   'Neighborhood_Somerst',\n",
       "   'Neighborhood_StoneBr',\n",
       "   'Condition1_Norm',\n",
       "   'Condition1_RRAe',\n",
       "   'Functional_Typ',\n",
       "   'GarageType_Basment',\n",
       "   'SaleType_New',\n",
       "   'SaleCondition_Normal')},\n",
       " 29: {'feature_idx': (3,\n",
       "   5,\n",
       "   6,\n",
       "   7,\n",
       "   14,\n",
       "   15,\n",
       "   16,\n",
       "   21,\n",
       "   22,\n",
       "   23,\n",
       "   25,\n",
       "   26,\n",
       "   31,\n",
       "   32,\n",
       "   34,\n",
       "   37,\n",
       "   46,\n",
       "   70,\n",
       "   73,\n",
       "   83,\n",
       "   88,\n",
       "   89,\n",
       "   93,\n",
       "   96,\n",
       "   138,\n",
       "   152,\n",
       "   154,\n",
       "   164,\n",
       "   170),\n",
       "  'cv_scores': array([0.90689469, 0.91342365, 0.94010058, 0.90452651, 0.91686455]),\n",
       "  'avg_score': 0.9163619966504367,\n",
       "  'feature_names': ('LotArea',\n",
       "   'OverallQual',\n",
       "   'OverallCond',\n",
       "   'YearBuilt',\n",
       "   'BsmtExposure',\n",
       "   'BsmtFinType1',\n",
       "   'BsmtFinSF1',\n",
       "   'HeatingQC',\n",
       "   '1stFlrSF',\n",
       "   '2ndFlrSF',\n",
       "   'GrLivArea',\n",
       "   'BsmtFullBath',\n",
       "   'KitchenAbvGr',\n",
       "   'KitchenQual',\n",
       "   'Fireplaces',\n",
       "   'GarageCars',\n",
       "   'ScreenPorch',\n",
       "   'Neighborhood_BrkSide',\n",
       "   'Neighborhood_Crawfor',\n",
       "   'Neighborhood_NridgHt',\n",
       "   'Neighborhood_Somerst',\n",
       "   'Neighborhood_StoneBr',\n",
       "   'Condition1_Norm',\n",
       "   'Condition1_RRAe',\n",
       "   'Foundation_PConc',\n",
       "   'Functional_Typ',\n",
       "   'GarageType_Basment',\n",
       "   'SaleType_New',\n",
       "   'SaleCondition_Normal')},\n",
       " 30: {'feature_idx': (3,\n",
       "   5,\n",
       "   6,\n",
       "   7,\n",
       "   14,\n",
       "   15,\n",
       "   16,\n",
       "   21,\n",
       "   22,\n",
       "   23,\n",
       "   25,\n",
       "   26,\n",
       "   31,\n",
       "   32,\n",
       "   34,\n",
       "   37,\n",
       "   46,\n",
       "   70,\n",
       "   73,\n",
       "   83,\n",
       "   88,\n",
       "   89,\n",
       "   93,\n",
       "   96,\n",
       "   138,\n",
       "   147,\n",
       "   152,\n",
       "   154,\n",
       "   164,\n",
       "   170),\n",
       "  'cv_scores': array([0.90847267, 0.91458898, 0.93945628, 0.90387196, 0.91739767]),\n",
       "  'avg_score': 0.9167575131227105,\n",
       "  'feature_names': ('LotArea',\n",
       "   'OverallQual',\n",
       "   'OverallCond',\n",
       "   'YearBuilt',\n",
       "   'BsmtExposure',\n",
       "   'BsmtFinType1',\n",
       "   'BsmtFinSF1',\n",
       "   'HeatingQC',\n",
       "   '1stFlrSF',\n",
       "   '2ndFlrSF',\n",
       "   'GrLivArea',\n",
       "   'BsmtFullBath',\n",
       "   'KitchenAbvGr',\n",
       "   'KitchenQual',\n",
       "   'Fireplaces',\n",
       "   'GarageCars',\n",
       "   'ScreenPorch',\n",
       "   'Neighborhood_BrkSide',\n",
       "   'Neighborhood_Crawfor',\n",
       "   'Neighborhood_NridgHt',\n",
       "   'Neighborhood_Somerst',\n",
       "   'Neighborhood_StoneBr',\n",
       "   'Condition1_Norm',\n",
       "   'Condition1_RRAe',\n",
       "   'Foundation_PConc',\n",
       "   'Functional_Maj2',\n",
       "   'Functional_Typ',\n",
       "   'GarageType_Basment',\n",
       "   'SaleType_New',\n",
       "   'SaleCondition_Normal')},\n",
       " 31: {'feature_idx': (3,\n",
       "   5,\n",
       "   6,\n",
       "   7,\n",
       "   14,\n",
       "   15,\n",
       "   16,\n",
       "   21,\n",
       "   22,\n",
       "   23,\n",
       "   25,\n",
       "   26,\n",
       "   31,\n",
       "   32,\n",
       "   34,\n",
       "   37,\n",
       "   44,\n",
       "   46,\n",
       "   70,\n",
       "   73,\n",
       "   83,\n",
       "   88,\n",
       "   89,\n",
       "   93,\n",
       "   96,\n",
       "   138,\n",
       "   147,\n",
       "   152,\n",
       "   154,\n",
       "   164,\n",
       "   170),\n",
       "  'cv_scores': array([0.90963527, 0.91484786, 0.94041614, 0.90311303, 0.91745088]),\n",
       "  'avg_score': 0.9170926348565611,\n",
       "  'feature_names': ('LotArea',\n",
       "   'OverallQual',\n",
       "   'OverallCond',\n",
       "   'YearBuilt',\n",
       "   'BsmtExposure',\n",
       "   'BsmtFinType1',\n",
       "   'BsmtFinSF1',\n",
       "   'HeatingQC',\n",
       "   '1stFlrSF',\n",
       "   '2ndFlrSF',\n",
       "   'GrLivArea',\n",
       "   'BsmtFullBath',\n",
       "   'KitchenAbvGr',\n",
       "   'KitchenQual',\n",
       "   'Fireplaces',\n",
       "   'GarageCars',\n",
       "   'EnclosedPorch',\n",
       "   'ScreenPorch',\n",
       "   'Neighborhood_BrkSide',\n",
       "   'Neighborhood_Crawfor',\n",
       "   'Neighborhood_NridgHt',\n",
       "   'Neighborhood_Somerst',\n",
       "   'Neighborhood_StoneBr',\n",
       "   'Condition1_Norm',\n",
       "   'Condition1_RRAe',\n",
       "   'Foundation_PConc',\n",
       "   'Functional_Maj2',\n",
       "   'Functional_Typ',\n",
       "   'GarageType_Basment',\n",
       "   'SaleType_New',\n",
       "   'SaleCondition_Normal')},\n",
       " 32: {'feature_idx': (3,\n",
       "   5,\n",
       "   6,\n",
       "   7,\n",
       "   14,\n",
       "   15,\n",
       "   16,\n",
       "   21,\n",
       "   22,\n",
       "   23,\n",
       "   25,\n",
       "   26,\n",
       "   31,\n",
       "   32,\n",
       "   34,\n",
       "   37,\n",
       "   42,\n",
       "   44,\n",
       "   46,\n",
       "   70,\n",
       "   73,\n",
       "   83,\n",
       "   88,\n",
       "   89,\n",
       "   93,\n",
       "   96,\n",
       "   138,\n",
       "   147,\n",
       "   152,\n",
       "   154,\n",
       "   164,\n",
       "   170),\n",
       "  'cv_scores': array([0.90964572, 0.91491563, 0.94050732, 0.90355669, 0.9188283 ]),\n",
       "  'avg_score': 0.9174907317381003,\n",
       "  'feature_names': ('LotArea',\n",
       "   'OverallQual',\n",
       "   'OverallCond',\n",
       "   'YearBuilt',\n",
       "   'BsmtExposure',\n",
       "   'BsmtFinType1',\n",
       "   'BsmtFinSF1',\n",
       "   'HeatingQC',\n",
       "   '1stFlrSF',\n",
       "   '2ndFlrSF',\n",
       "   'GrLivArea',\n",
       "   'BsmtFullBath',\n",
       "   'KitchenAbvGr',\n",
       "   'KitchenQual',\n",
       "   'Fireplaces',\n",
       "   'GarageCars',\n",
       "   'WoodDeckSF',\n",
       "   'EnclosedPorch',\n",
       "   'ScreenPorch',\n",
       "   'Neighborhood_BrkSide',\n",
       "   'Neighborhood_Crawfor',\n",
       "   'Neighborhood_NridgHt',\n",
       "   'Neighborhood_Somerst',\n",
       "   'Neighborhood_StoneBr',\n",
       "   'Condition1_Norm',\n",
       "   'Condition1_RRAe',\n",
       "   'Foundation_PConc',\n",
       "   'Functional_Maj2',\n",
       "   'Functional_Typ',\n",
       "   'GarageType_Basment',\n",
       "   'SaleType_New',\n",
       "   'SaleCondition_Normal')},\n",
       " 33: {'feature_idx': (3,\n",
       "   5,\n",
       "   6,\n",
       "   7,\n",
       "   14,\n",
       "   15,\n",
       "   16,\n",
       "   21,\n",
       "   22,\n",
       "   23,\n",
       "   25,\n",
       "   26,\n",
       "   31,\n",
       "   32,\n",
       "   34,\n",
       "   37,\n",
       "   42,\n",
       "   44,\n",
       "   46,\n",
       "   53,\n",
       "   70,\n",
       "   73,\n",
       "   83,\n",
       "   88,\n",
       "   89,\n",
       "   93,\n",
       "   96,\n",
       "   138,\n",
       "   147,\n",
       "   152,\n",
       "   154,\n",
       "   164,\n",
       "   170),\n",
       "  'cv_scores': array([0.9118397 , 0.91546443, 0.94233854, 0.90167263, 0.91776309]),\n",
       "  'avg_score': 0.9178156778009967,\n",
       "  'feature_names': ('LotArea',\n",
       "   'OverallQual',\n",
       "   'OverallCond',\n",
       "   'YearBuilt',\n",
       "   'BsmtExposure',\n",
       "   'BsmtFinType1',\n",
       "   'BsmtFinSF1',\n",
       "   'HeatingQC',\n",
       "   '1stFlrSF',\n",
       "   '2ndFlrSF',\n",
       "   'GrLivArea',\n",
       "   'BsmtFullBath',\n",
       "   'KitchenAbvGr',\n",
       "   'KitchenQual',\n",
       "   'Fireplaces',\n",
       "   'GarageCars',\n",
       "   'WoodDeckSF',\n",
       "   'EnclosedPorch',\n",
       "   'ScreenPorch',\n",
       "   'MSZoning_RL',\n",
       "   'Neighborhood_BrkSide',\n",
       "   'Neighborhood_Crawfor',\n",
       "   'Neighborhood_NridgHt',\n",
       "   'Neighborhood_Somerst',\n",
       "   'Neighborhood_StoneBr',\n",
       "   'Condition1_Norm',\n",
       "   'Condition1_RRAe',\n",
       "   'Foundation_PConc',\n",
       "   'Functional_Maj2',\n",
       "   'Functional_Typ',\n",
       "   'GarageType_Basment',\n",
       "   'SaleType_New',\n",
       "   'SaleCondition_Normal')},\n",
       " 34: {'feature_idx': (3,\n",
       "   5,\n",
       "   6,\n",
       "   7,\n",
       "   14,\n",
       "   15,\n",
       "   16,\n",
       "   21,\n",
       "   22,\n",
       "   23,\n",
       "   25,\n",
       "   26,\n",
       "   31,\n",
       "   32,\n",
       "   34,\n",
       "   37,\n",
       "   42,\n",
       "   44,\n",
       "   46,\n",
       "   53,\n",
       "   70,\n",
       "   73,\n",
       "   83,\n",
       "   88,\n",
       "   89,\n",
       "   93,\n",
       "   96,\n",
       "   114,\n",
       "   138,\n",
       "   147,\n",
       "   152,\n",
       "   154,\n",
       "   164,\n",
       "   170),\n",
       "  'cv_scores': array([0.91229016, 0.91572735, 0.94272652, 0.90149866, 0.91825275]),\n",
       "  'avg_score': 0.9180990876973185,\n",
       "  'feature_names': ('LotArea',\n",
       "   'OverallQual',\n",
       "   'OverallCond',\n",
       "   'YearBuilt',\n",
       "   'BsmtExposure',\n",
       "   'BsmtFinType1',\n",
       "   'BsmtFinSF1',\n",
       "   'HeatingQC',\n",
       "   '1stFlrSF',\n",
       "   '2ndFlrSF',\n",
       "   'GrLivArea',\n",
       "   'BsmtFullBath',\n",
       "   'KitchenAbvGr',\n",
       "   'KitchenQual',\n",
       "   'Fireplaces',\n",
       "   'GarageCars',\n",
       "   'WoodDeckSF',\n",
       "   'EnclosedPorch',\n",
       "   'ScreenPorch',\n",
       "   'MSZoning_RL',\n",
       "   'Neighborhood_BrkSide',\n",
       "   'Neighborhood_Crawfor',\n",
       "   'Neighborhood_NridgHt',\n",
       "   'Neighborhood_Somerst',\n",
       "   'Neighborhood_StoneBr',\n",
       "   'Condition1_Norm',\n",
       "   'Condition1_RRAe',\n",
       "   'Exterior1st_MetalSd',\n",
       "   'Foundation_PConc',\n",
       "   'Functional_Maj2',\n",
       "   'Functional_Typ',\n",
       "   'GarageType_Basment',\n",
       "   'SaleType_New',\n",
       "   'SaleCondition_Normal')},\n",
       " 35: {'feature_idx': (3,\n",
       "   5,\n",
       "   6,\n",
       "   7,\n",
       "   14,\n",
       "   15,\n",
       "   16,\n",
       "   21,\n",
       "   22,\n",
       "   23,\n",
       "   25,\n",
       "   26,\n",
       "   29,\n",
       "   31,\n",
       "   32,\n",
       "   34,\n",
       "   37,\n",
       "   42,\n",
       "   44,\n",
       "   46,\n",
       "   53,\n",
       "   70,\n",
       "   73,\n",
       "   83,\n",
       "   88,\n",
       "   89,\n",
       "   93,\n",
       "   96,\n",
       "   114,\n",
       "   138,\n",
       "   147,\n",
       "   152,\n",
       "   154,\n",
       "   164,\n",
       "   170),\n",
       "  'cv_scores': array([0.91290356, 0.91618712, 0.94288875, 0.9018754 , 0.91802272]),\n",
       "  'avg_score': 0.9183755094738423,\n",
       "  'feature_names': ('LotArea',\n",
       "   'OverallQual',\n",
       "   'OverallCond',\n",
       "   'YearBuilt',\n",
       "   'BsmtExposure',\n",
       "   'BsmtFinType1',\n",
       "   'BsmtFinSF1',\n",
       "   'HeatingQC',\n",
       "   '1stFlrSF',\n",
       "   '2ndFlrSF',\n",
       "   'GrLivArea',\n",
       "   'BsmtFullBath',\n",
       "   'HalfBath',\n",
       "   'KitchenAbvGr',\n",
       "   'KitchenQual',\n",
       "   'Fireplaces',\n",
       "   'GarageCars',\n",
       "   'WoodDeckSF',\n",
       "   'EnclosedPorch',\n",
       "   'ScreenPorch',\n",
       "   'MSZoning_RL',\n",
       "   'Neighborhood_BrkSide',\n",
       "   'Neighborhood_Crawfor',\n",
       "   'Neighborhood_NridgHt',\n",
       "   'Neighborhood_Somerst',\n",
       "   'Neighborhood_StoneBr',\n",
       "   'Condition1_Norm',\n",
       "   'Condition1_RRAe',\n",
       "   'Exterior1st_MetalSd',\n",
       "   'Foundation_PConc',\n",
       "   'Functional_Maj2',\n",
       "   'Functional_Typ',\n",
       "   'GarageType_Basment',\n",
       "   'SaleType_New',\n",
       "   'SaleCondition_Normal')},\n",
       " 36: {'feature_idx': (3,\n",
       "   5,\n",
       "   6,\n",
       "   7,\n",
       "   14,\n",
       "   15,\n",
       "   16,\n",
       "   21,\n",
       "   22,\n",
       "   23,\n",
       "   25,\n",
       "   26,\n",
       "   29,\n",
       "   31,\n",
       "   32,\n",
       "   34,\n",
       "   37,\n",
       "   42,\n",
       "   44,\n",
       "   46,\n",
       "   53,\n",
       "   70,\n",
       "   73,\n",
       "   83,\n",
       "   88,\n",
       "   89,\n",
       "   93,\n",
       "   96,\n",
       "   114,\n",
       "   138,\n",
       "   147,\n",
       "   152,\n",
       "   154,\n",
       "   156,\n",
       "   164,\n",
       "   170),\n",
       "  'cv_scores': array([0.9129367 , 0.91562503, 0.94269921, 0.90258073, 0.91937322]),\n",
       "  'avg_score': 0.9186429802523346,\n",
       "  'feature_names': ('LotArea',\n",
       "   'OverallQual',\n",
       "   'OverallCond',\n",
       "   'YearBuilt',\n",
       "   'BsmtExposure',\n",
       "   'BsmtFinType1',\n",
       "   'BsmtFinSF1',\n",
       "   'HeatingQC',\n",
       "   '1stFlrSF',\n",
       "   '2ndFlrSF',\n",
       "   'GrLivArea',\n",
       "   'BsmtFullBath',\n",
       "   'HalfBath',\n",
       "   'KitchenAbvGr',\n",
       "   'KitchenQual',\n",
       "   'Fireplaces',\n",
       "   'GarageCars',\n",
       "   'WoodDeckSF',\n",
       "   'EnclosedPorch',\n",
       "   'ScreenPorch',\n",
       "   'MSZoning_RL',\n",
       "   'Neighborhood_BrkSide',\n",
       "   'Neighborhood_Crawfor',\n",
       "   'Neighborhood_NridgHt',\n",
       "   'Neighborhood_Somerst',\n",
       "   'Neighborhood_StoneBr',\n",
       "   'Condition1_Norm',\n",
       "   'Condition1_RRAe',\n",
       "   'Exterior1st_MetalSd',\n",
       "   'Foundation_PConc',\n",
       "   'Functional_Maj2',\n",
       "   'Functional_Typ',\n",
       "   'GarageType_Basment',\n",
       "   'GarageType_CarPort',\n",
       "   'SaleType_New',\n",
       "   'SaleCondition_Normal')},\n",
       " 37: {'feature_idx': (3,\n",
       "   5,\n",
       "   6,\n",
       "   7,\n",
       "   14,\n",
       "   15,\n",
       "   16,\n",
       "   21,\n",
       "   22,\n",
       "   23,\n",
       "   25,\n",
       "   26,\n",
       "   29,\n",
       "   31,\n",
       "   32,\n",
       "   34,\n",
       "   37,\n",
       "   42,\n",
       "   44,\n",
       "   46,\n",
       "   53,\n",
       "   70,\n",
       "   73,\n",
       "   83,\n",
       "   88,\n",
       "   89,\n",
       "   93,\n",
       "   96,\n",
       "   114,\n",
       "   138,\n",
       "   147,\n",
       "   152,\n",
       "   154,\n",
       "   156,\n",
       "   161,\n",
       "   164,\n",
       "   170),\n",
       "  'cv_scores': array([0.91184856, 0.91563296, 0.94348552, 0.90266919, 0.9209614 ]),\n",
       "  'avg_score': 0.9189195276500544,\n",
       "  'feature_names': ('LotArea',\n",
       "   'OverallQual',\n",
       "   'OverallCond',\n",
       "   'YearBuilt',\n",
       "   'BsmtExposure',\n",
       "   'BsmtFinType1',\n",
       "   'BsmtFinSF1',\n",
       "   'HeatingQC',\n",
       "   '1stFlrSF',\n",
       "   '2ndFlrSF',\n",
       "   'GrLivArea',\n",
       "   'BsmtFullBath',\n",
       "   'HalfBath',\n",
       "   'KitchenAbvGr',\n",
       "   'KitchenQual',\n",
       "   'Fireplaces',\n",
       "   'GarageCars',\n",
       "   'WoodDeckSF',\n",
       "   'EnclosedPorch',\n",
       "   'ScreenPorch',\n",
       "   'MSZoning_RL',\n",
       "   'Neighborhood_BrkSide',\n",
       "   'Neighborhood_Crawfor',\n",
       "   'Neighborhood_NridgHt',\n",
       "   'Neighborhood_Somerst',\n",
       "   'Neighborhood_StoneBr',\n",
       "   'Condition1_Norm',\n",
       "   'Condition1_RRAe',\n",
       "   'Exterior1st_MetalSd',\n",
       "   'Foundation_PConc',\n",
       "   'Functional_Maj2',\n",
       "   'Functional_Typ',\n",
       "   'GarageType_Basment',\n",
       "   'GarageType_CarPort',\n",
       "   'SaleType_ConLD',\n",
       "   'SaleType_New',\n",
       "   'SaleCondition_Normal')},\n",
       " 38: {'feature_idx': (3,\n",
       "   5,\n",
       "   6,\n",
       "   7,\n",
       "   14,\n",
       "   15,\n",
       "   16,\n",
       "   21,\n",
       "   22,\n",
       "   23,\n",
       "   25,\n",
       "   26,\n",
       "   29,\n",
       "   31,\n",
       "   32,\n",
       "   34,\n",
       "   37,\n",
       "   42,\n",
       "   44,\n",
       "   46,\n",
       "   53,\n",
       "   70,\n",
       "   73,\n",
       "   82,\n",
       "   83,\n",
       "   88,\n",
       "   89,\n",
       "   93,\n",
       "   96,\n",
       "   114,\n",
       "   138,\n",
       "   147,\n",
       "   152,\n",
       "   154,\n",
       "   156,\n",
       "   161,\n",
       "   164,\n",
       "   170),\n",
       "  'cv_scores': array([0.91185353, 0.91621781, 0.94302869, 0.90312061, 0.92171483]),\n",
       "  'avg_score': 0.9191870928369003,\n",
       "  'feature_names': ('LotArea',\n",
       "   'OverallQual',\n",
       "   'OverallCond',\n",
       "   'YearBuilt',\n",
       "   'BsmtExposure',\n",
       "   'BsmtFinType1',\n",
       "   'BsmtFinSF1',\n",
       "   'HeatingQC',\n",
       "   '1stFlrSF',\n",
       "   '2ndFlrSF',\n",
       "   'GrLivArea',\n",
       "   'BsmtFullBath',\n",
       "   'HalfBath',\n",
       "   'KitchenAbvGr',\n",
       "   'KitchenQual',\n",
       "   'Fireplaces',\n",
       "   'GarageCars',\n",
       "   'WoodDeckSF',\n",
       "   'EnclosedPorch',\n",
       "   'ScreenPorch',\n",
       "   'MSZoning_RL',\n",
       "   'Neighborhood_BrkSide',\n",
       "   'Neighborhood_Crawfor',\n",
       "   'Neighborhood_NoRidge',\n",
       "   'Neighborhood_NridgHt',\n",
       "   'Neighborhood_Somerst',\n",
       "   'Neighborhood_StoneBr',\n",
       "   'Condition1_Norm',\n",
       "   'Condition1_RRAe',\n",
       "   'Exterior1st_MetalSd',\n",
       "   'Foundation_PConc',\n",
       "   'Functional_Maj2',\n",
       "   'Functional_Typ',\n",
       "   'GarageType_Basment',\n",
       "   'GarageType_CarPort',\n",
       "   'SaleType_ConLD',\n",
       "   'SaleType_New',\n",
       "   'SaleCondition_Normal')},\n",
       " 39: {'feature_idx': (3,\n",
       "   5,\n",
       "   6,\n",
       "   7,\n",
       "   14,\n",
       "   15,\n",
       "   16,\n",
       "   21,\n",
       "   22,\n",
       "   23,\n",
       "   25,\n",
       "   26,\n",
       "   29,\n",
       "   31,\n",
       "   32,\n",
       "   34,\n",
       "   37,\n",
       "   42,\n",
       "   44,\n",
       "   46,\n",
       "   53,\n",
       "   70,\n",
       "   73,\n",
       "   82,\n",
       "   83,\n",
       "   88,\n",
       "   89,\n",
       "   93,\n",
       "   96,\n",
       "   114,\n",
       "   134,\n",
       "   138,\n",
       "   147,\n",
       "   152,\n",
       "   154,\n",
       "   156,\n",
       "   161,\n",
       "   164,\n",
       "   170),\n",
       "  'cv_scores': array([0.91220251, 0.91634004, 0.94322161, 0.9033722 , 0.92197374]),\n",
       "  'avg_score': 0.9194220209077193,\n",
       "  'feature_names': ('LotArea',\n",
       "   'OverallQual',\n",
       "   'OverallCond',\n",
       "   'YearBuilt',\n",
       "   'BsmtExposure',\n",
       "   'BsmtFinType1',\n",
       "   'BsmtFinSF1',\n",
       "   'HeatingQC',\n",
       "   '1stFlrSF',\n",
       "   '2ndFlrSF',\n",
       "   'GrLivArea',\n",
       "   'BsmtFullBath',\n",
       "   'HalfBath',\n",
       "   'KitchenAbvGr',\n",
       "   'KitchenQual',\n",
       "   'Fireplaces',\n",
       "   'GarageCars',\n",
       "   'WoodDeckSF',\n",
       "   'EnclosedPorch',\n",
       "   'ScreenPorch',\n",
       "   'MSZoning_RL',\n",
       "   'Neighborhood_BrkSide',\n",
       "   'Neighborhood_Crawfor',\n",
       "   'Neighborhood_NoRidge',\n",
       "   'Neighborhood_NridgHt',\n",
       "   'Neighborhood_Somerst',\n",
       "   'Neighborhood_StoneBr',\n",
       "   'Condition1_Norm',\n",
       "   'Condition1_RRAe',\n",
       "   'Exterior1st_MetalSd',\n",
       "   'MasVnrType_BrkFace',\n",
       "   'Foundation_PConc',\n",
       "   'Functional_Maj2',\n",
       "   'Functional_Typ',\n",
       "   'GarageType_Basment',\n",
       "   'GarageType_CarPort',\n",
       "   'SaleType_ConLD',\n",
       "   'SaleType_New',\n",
       "   'SaleCondition_Normal')},\n",
       " 40: {'feature_idx': (3,\n",
       "   5,\n",
       "   6,\n",
       "   7,\n",
       "   14,\n",
       "   15,\n",
       "   16,\n",
       "   21,\n",
       "   22,\n",
       "   23,\n",
       "   25,\n",
       "   26,\n",
       "   29,\n",
       "   31,\n",
       "   32,\n",
       "   34,\n",
       "   37,\n",
       "   42,\n",
       "   44,\n",
       "   46,\n",
       "   53,\n",
       "   62,\n",
       "   70,\n",
       "   73,\n",
       "   82,\n",
       "   83,\n",
       "   88,\n",
       "   89,\n",
       "   93,\n",
       "   96,\n",
       "   114,\n",
       "   134,\n",
       "   138,\n",
       "   147,\n",
       "   152,\n",
       "   154,\n",
       "   156,\n",
       "   161,\n",
       "   164,\n",
       "   170),\n",
       "  'cv_scores': array([0.9120474 , 0.9165624 , 0.9439284 , 0.90423585, 0.92125416]),\n",
       "  'avg_score': 0.9196056424407282,\n",
       "  'feature_names': ('LotArea',\n",
       "   'OverallQual',\n",
       "   'OverallCond',\n",
       "   'YearBuilt',\n",
       "   'BsmtExposure',\n",
       "   'BsmtFinType1',\n",
       "   'BsmtFinSF1',\n",
       "   'HeatingQC',\n",
       "   '1stFlrSF',\n",
       "   '2ndFlrSF',\n",
       "   'GrLivArea',\n",
       "   'BsmtFullBath',\n",
       "   'HalfBath',\n",
       "   'KitchenAbvGr',\n",
       "   'KitchenQual',\n",
       "   'Fireplaces',\n",
       "   'GarageCars',\n",
       "   'WoodDeckSF',\n",
       "   'EnclosedPorch',\n",
       "   'ScreenPorch',\n",
       "   'MSZoning_RL',\n",
       "   'LotConfig_CulDSac',\n",
       "   'Neighborhood_BrkSide',\n",
       "   'Neighborhood_Crawfor',\n",
       "   'Neighborhood_NoRidge',\n",
       "   'Neighborhood_NridgHt',\n",
       "   'Neighborhood_Somerst',\n",
       "   'Neighborhood_StoneBr',\n",
       "   'Condition1_Norm',\n",
       "   'Condition1_RRAe',\n",
       "   'Exterior1st_MetalSd',\n",
       "   'MasVnrType_BrkFace',\n",
       "   'Foundation_PConc',\n",
       "   'Functional_Maj2',\n",
       "   'Functional_Typ',\n",
       "   'GarageType_Basment',\n",
       "   'GarageType_CarPort',\n",
       "   'SaleType_ConLD',\n",
       "   'SaleType_New',\n",
       "   'SaleCondition_Normal')}}"
      ]
     },
     "execution_count": 130,
     "metadata": {},
     "output_type": "execute_result"
    }
   ],
   "source": [
    "sfs_lm.subsets_"
   ]
  },
  {
   "cell_type": "code",
   "execution_count": 131,
   "metadata": {
    "execution": {
     "iopub.execute_input": "2020-12-07T17:27:30.158724Z",
     "iopub.status.busy": "2020-12-07T17:27:30.157787Z",
     "iopub.status.idle": "2020-12-07T17:27:30.162002Z",
     "shell.execute_reply": "2020-12-07T17:27:30.161400Z"
    },
    "papermill": {
     "duration": 0.137135,
     "end_time": "2020-12-07T17:27:30.162110",
     "exception": false,
     "start_time": "2020-12-07T17:27:30.024975",
     "status": "completed"
    },
    "tags": []
   },
   "outputs": [],
   "source": [
    "X_train_sfs_lm = sfs_lm.transform(X_train)\n",
    "X_val_sfs_lm = sfs_lm.transform(X_val)"
   ]
  },
  {
   "cell_type": "code",
   "execution_count": 132,
   "metadata": {
    "execution": {
     "iopub.execute_input": "2020-12-07T17:27:30.427178Z",
     "iopub.status.busy": "2020-12-07T17:27:30.426199Z",
     "iopub.status.idle": "2020-12-07T17:27:30.433487Z",
     "shell.execute_reply": "2020-12-07T17:27:30.432740Z"
    },
    "papermill": {
     "duration": 0.141819,
     "end_time": "2020-12-07T17:27:30.433670",
     "exception": false,
     "start_time": "2020-12-07T17:27:30.291851",
     "status": "completed"
    },
    "tags": []
   },
   "outputs": [
    {
     "data": {
      "text/plain": [
       "LinearRegression()"
      ]
     },
     "execution_count": 132,
     "metadata": {},
     "output_type": "execute_result"
    }
   ],
   "source": [
    "lm_model.fit(X_train_sfs_lm, y_train)"
   ]
  },
  {
   "cell_type": "code",
   "execution_count": 133,
   "metadata": {
    "execution": {
     "iopub.execute_input": "2020-12-07T17:27:30.697991Z",
     "iopub.status.busy": "2020-12-07T17:27:30.697182Z",
     "iopub.status.idle": "2020-12-07T17:27:30.700165Z",
     "shell.execute_reply": "2020-12-07T17:27:30.699552Z"
    },
    "papermill": {
     "duration": 0.136738,
     "end_time": "2020-12-07T17:27:30.700292",
     "exception": false,
     "start_time": "2020-12-07T17:27:30.563554",
     "status": "completed"
    },
    "tags": []
   },
   "outputs": [],
   "source": [
    "lm_model_val_predictions = lm_model.predict(X_val_sfs_lm)"
   ]
  },
  {
   "cell_type": "code",
   "execution_count": 134,
   "metadata": {
    "execution": {
     "iopub.execute_input": "2020-12-07T17:27:30.967452Z",
     "iopub.status.busy": "2020-12-07T17:27:30.966624Z",
     "iopub.status.idle": "2020-12-07T17:27:30.969505Z",
     "shell.execute_reply": "2020-12-07T17:27:30.968999Z"
    },
    "papermill": {
     "duration": 0.139658,
     "end_time": "2020-12-07T17:27:30.969617",
     "exception": false,
     "start_time": "2020-12-07T17:27:30.829959",
     "status": "completed"
    },
    "tags": []
   },
   "outputs": [],
   "source": [
    "lm_model_results = pd.DataFrame({'Model':['Linear Regression'],\n",
    "                                'R_squared':[r2_score(y_val,lm_model_val_predictions)],\n",
    "                                'Mean_squared_error':[mean_squared_error(y_val,lm_model_val_predictions)]})\n",
    "results = results.append(lm_model_results)"
   ]
  },
  {
   "cell_type": "code",
   "execution_count": 135,
   "metadata": {
    "execution": {
     "iopub.execute_input": "2020-12-07T17:27:31.229424Z",
     "iopub.status.busy": "2020-12-07T17:27:31.228665Z",
     "iopub.status.idle": "2020-12-07T17:27:31.231583Z",
     "shell.execute_reply": "2020-12-07T17:27:31.230926Z"
    },
    "papermill": {
     "duration": 0.133029,
     "end_time": "2020-12-07T17:27:31.231696",
     "exception": false,
     "start_time": "2020-12-07T17:27:31.098667",
     "status": "completed"
    },
    "tags": []
   },
   "outputs": [],
   "source": [
    "ridge = Ridge()\n",
    "parameters = {'alpha':list(np.arange(0.0, 30.0, 0.01))}"
   ]
  },
  {
   "cell_type": "code",
   "execution_count": 136,
   "metadata": {
    "execution": {
     "iopub.execute_input": "2020-12-07T17:27:31.490032Z",
     "iopub.status.busy": "2020-12-07T17:27:31.489078Z",
     "iopub.status.idle": "2020-12-07T17:27:31.492382Z",
     "shell.execute_reply": "2020-12-07T17:27:31.491894Z"
    },
    "papermill": {
     "duration": 0.135877,
     "end_time": "2020-12-07T17:27:31.492491",
     "exception": false,
     "start_time": "2020-12-07T17:27:31.356614",
     "status": "completed"
    },
    "tags": []
   },
   "outputs": [],
   "source": [
    "Ridge_reg= GridSearchCV(ridge, parameters, scoring='neg_mean_squared_error',cv=5)"
   ]
  },
  {
   "cell_type": "code",
   "execution_count": 137,
   "metadata": {
    "execution": {
     "iopub.execute_input": "2020-12-07T17:27:31.751642Z",
     "iopub.status.busy": "2020-12-07T17:27:31.750620Z",
     "iopub.status.idle": "2020-12-07T17:30:03.905305Z",
     "shell.execute_reply": "2020-12-07T17:30:03.905849Z"
    },
    "papermill": {
     "duration": 152.28828,
     "end_time": "2020-12-07T17:30:03.906001",
     "exception": false,
     "start_time": "2020-12-07T17:27:31.617721",
     "status": "completed"
    },
    "tags": []
   },
   "outputs": [
    {
     "data": {
      "text/plain": [
       "GridSearchCV(cv=5, estimator=Ridge(),\n",
       "             param_grid={'alpha': [0.0, 0.01, 0.02, 0.03, 0.04, 0.05, 0.06,\n",
       "                                   0.07, 0.08, 0.09, 0.1, 0.11, 0.12, 0.13,\n",
       "                                   0.14, 0.15, 0.16, 0.17, 0.18, 0.19, 0.2,\n",
       "                                   0.21, 0.22, 0.23, 0.24, 0.25, 0.26, 0.27,\n",
       "                                   0.28, 0.29, ...]},\n",
       "             scoring='neg_mean_squared_error')"
      ]
     },
     "execution_count": 137,
     "metadata": {},
     "output_type": "execute_result"
    }
   ],
   "source": [
    "Ridge_reg.fit(X_train,y_train)"
   ]
  },
  {
   "cell_type": "code",
   "execution_count": 138,
   "metadata": {
    "execution": {
     "iopub.execute_input": "2020-12-07T17:30:04.167406Z",
     "iopub.status.busy": "2020-12-07T17:30:04.166608Z",
     "iopub.status.idle": "2020-12-07T17:30:04.170145Z",
     "shell.execute_reply": "2020-12-07T17:30:04.170767Z"
    },
    "papermill": {
     "duration": 0.134758,
     "end_time": "2020-12-07T17:30:04.170909",
     "exception": false,
     "start_time": "2020-12-07T17:30:04.036151",
     "status": "completed"
    },
    "tags": []
   },
   "outputs": [
    {
     "name": "stdout",
     "output_type": "stream",
     "text": [
      "Ridge(alpha=5.87)\n"
     ]
    }
   ],
   "source": [
    "print(Ridge_reg.best_estimator_)"
   ]
  },
  {
   "cell_type": "code",
   "execution_count": 139,
   "metadata": {
    "execution": {
     "iopub.execute_input": "2020-12-07T17:30:04.433391Z",
     "iopub.status.busy": "2020-12-07T17:30:04.432734Z",
     "iopub.status.idle": "2020-12-07T17:30:04.441302Z",
     "shell.execute_reply": "2020-12-07T17:30:04.440669Z"
    },
    "papermill": {
     "duration": 0.143139,
     "end_time": "2020-12-07T17:30:04.441443",
     "exception": false,
     "start_time": "2020-12-07T17:30:04.298304",
     "status": "completed"
    },
    "tags": []
   },
   "outputs": [
    {
     "data": {
      "text/plain": [
       "Ridge(alpha=5.87)"
      ]
     },
     "execution_count": 139,
     "metadata": {},
     "output_type": "execute_result"
    }
   ],
   "source": [
    "best_ridge_model = Ridge_reg.best_estimator_\n",
    "best_ridge_model.fit(X_train,y_train)"
   ]
  },
  {
   "cell_type": "code",
   "execution_count": 140,
   "metadata": {
    "execution": {
     "iopub.execute_input": "2020-12-07T17:30:04.708302Z",
     "iopub.status.busy": "2020-12-07T17:30:04.707501Z",
     "iopub.status.idle": "2020-12-07T17:30:04.711042Z",
     "shell.execute_reply": "2020-12-07T17:30:04.710541Z"
    },
    "papermill": {
     "duration": 0.13797,
     "end_time": "2020-12-07T17:30:04.711149",
     "exception": false,
     "start_time": "2020-12-07T17:30:04.573179",
     "status": "completed"
    },
    "tags": []
   },
   "outputs": [],
   "source": [
    "ridge_model_predictions = best_ridge_model.predict(X_val)"
   ]
  },
  {
   "cell_type": "code",
   "execution_count": 141,
   "metadata": {
    "execution": {
     "iopub.execute_input": "2020-12-07T17:30:04.976402Z",
     "iopub.status.busy": "2020-12-07T17:30:04.975435Z",
     "iopub.status.idle": "2020-12-07T17:30:04.978657Z",
     "shell.execute_reply": "2020-12-07T17:30:04.977999Z"
    },
    "papermill": {
     "duration": 0.139745,
     "end_time": "2020-12-07T17:30:04.978784",
     "exception": false,
     "start_time": "2020-12-07T17:30:04.839039",
     "status": "completed"
    },
    "tags": []
   },
   "outputs": [],
   "source": [
    "ridge_results = pd.DataFrame({'Model':['Ridge Regression'],\n",
    "                                'R_squared':[r2_score(y_val,ridge_model_predictions)],\n",
    "                                'Mean_squared_error':[mean_squared_error(y_val,ridge_model_predictions)]})\n",
    "results = results.append(ridge_results)"
   ]
  },
  {
   "cell_type": "code",
   "execution_count": 142,
   "metadata": {
    "execution": {
     "iopub.execute_input": "2020-12-07T17:30:05.241584Z",
     "iopub.status.busy": "2020-12-07T17:30:05.240673Z",
     "iopub.status.idle": "2020-12-07T17:30:05.244110Z",
     "shell.execute_reply": "2020-12-07T17:30:05.243179Z"
    },
    "papermill": {
     "duration": 0.136386,
     "end_time": "2020-12-07T17:30:05.244318",
     "exception": false,
     "start_time": "2020-12-07T17:30:05.107932",
     "status": "completed"
    },
    "tags": []
   },
   "outputs": [],
   "source": [
    "lasso = Lasso()\n",
    "parameters = {'alpha':list(np.arange(0.0, 2.0, 0.01))}"
   ]
  },
  {
   "cell_type": "code",
   "execution_count": 143,
   "metadata": {
    "execution": {
     "iopub.execute_input": "2020-12-07T17:30:05.562455Z",
     "iopub.status.busy": "2020-12-07T17:30:05.561547Z",
     "iopub.status.idle": "2020-12-07T17:30:05.564834Z",
     "shell.execute_reply": "2020-12-07T17:30:05.564127Z"
    },
    "papermill": {
     "duration": 0.163157,
     "end_time": "2020-12-07T17:30:05.564960",
     "exception": false,
     "start_time": "2020-12-07T17:30:05.401803",
     "status": "completed"
    },
    "tags": []
   },
   "outputs": [],
   "source": [
    "lasso_reg= GridSearchCV(lasso, parameters, scoring='neg_mean_squared_error',cv=5)"
   ]
  },
  {
   "cell_type": "code",
   "execution_count": 144,
   "metadata": {
    "execution": {
     "iopub.execute_input": "2020-12-07T17:30:05.881789Z",
     "iopub.status.busy": "2020-12-07T17:30:05.880732Z",
     "iopub.status.idle": "2020-12-07T17:30:16.705410Z",
     "shell.execute_reply": "2020-12-07T17:30:16.704618Z"
    },
    "papermill": {
     "duration": 11.010365,
     "end_time": "2020-12-07T17:30:16.705552",
     "exception": false,
     "start_time": "2020-12-07T17:30:05.695187",
     "status": "completed"
    },
    "tags": []
   },
   "outputs": [
    {
     "name": "stderr",
     "output_type": "stream",
     "text": [
      "/opt/conda/lib/python3.7/site-packages/sklearn/model_selection/_validation.py:531: UserWarning: With alpha=0, this algorithm does not converge well. You are advised to use the LinearRegression estimator\n",
      "  estimator.fit(X_train, y_train, **fit_params)\n",
      "/opt/conda/lib/python3.7/site-packages/sklearn/linear_model/_coordinate_descent.py:531: UserWarning: Coordinate descent with no regularization may lead to unexpected results and is discouraged.\n",
      "  positive)\n",
      "/opt/conda/lib/python3.7/site-packages/sklearn/linear_model/_coordinate_descent.py:531: ConvergenceWarning: Objective did not converge. You might want to increase the number of iterations. Duality gap: 3.5542089105128163, tolerance: 0.013406580652139895\n",
      "  positive)\n",
      "/opt/conda/lib/python3.7/site-packages/sklearn/model_selection/_validation.py:531: UserWarning: With alpha=0, this algorithm does not converge well. You are advised to use the LinearRegression estimator\n",
      "  estimator.fit(X_train, y_train, **fit_params)\n",
      "/opt/conda/lib/python3.7/site-packages/sklearn/linear_model/_coordinate_descent.py:531: UserWarning: Coordinate descent with no regularization may lead to unexpected results and is discouraged.\n",
      "  positive)\n",
      "/opt/conda/lib/python3.7/site-packages/sklearn/linear_model/_coordinate_descent.py:531: ConvergenceWarning: Objective did not converge. You might want to increase the number of iterations. Duality gap: 3.5358717728510207, tolerance: 0.013344277550609258\n",
      "  positive)\n",
      "/opt/conda/lib/python3.7/site-packages/sklearn/model_selection/_validation.py:531: UserWarning: With alpha=0, this algorithm does not converge well. You are advised to use the LinearRegression estimator\n",
      "  estimator.fit(X_train, y_train, **fit_params)\n",
      "/opt/conda/lib/python3.7/site-packages/sklearn/linear_model/_coordinate_descent.py:531: UserWarning: Coordinate descent with no regularization may lead to unexpected results and is discouraged.\n",
      "  positive)\n",
      "/opt/conda/lib/python3.7/site-packages/sklearn/linear_model/_coordinate_descent.py:531: ConvergenceWarning: Objective did not converge. You might want to increase the number of iterations. Duality gap: 3.916677106569982, tolerance: 0.013556598764386826\n",
      "  positive)\n",
      "/opt/conda/lib/python3.7/site-packages/sklearn/model_selection/_validation.py:531: UserWarning: With alpha=0, this algorithm does not converge well. You are advised to use the LinearRegression estimator\n",
      "  estimator.fit(X_train, y_train, **fit_params)\n",
      "/opt/conda/lib/python3.7/site-packages/sklearn/linear_model/_coordinate_descent.py:531: UserWarning: Coordinate descent with no regularization may lead to unexpected results and is discouraged.\n",
      "  positive)\n",
      "/opt/conda/lib/python3.7/site-packages/sklearn/linear_model/_coordinate_descent.py:531: ConvergenceWarning: Objective did not converge. You might want to increase the number of iterations. Duality gap: 3.48610720304466, tolerance: 0.013918903702453765\n",
      "  positive)\n",
      "/opt/conda/lib/python3.7/site-packages/sklearn/model_selection/_validation.py:531: UserWarning: With alpha=0, this algorithm does not converge well. You are advised to use the LinearRegression estimator\n",
      "  estimator.fit(X_train, y_train, **fit_params)\n",
      "/opt/conda/lib/python3.7/site-packages/sklearn/linear_model/_coordinate_descent.py:531: UserWarning: Coordinate descent with no regularization may lead to unexpected results and is discouraged.\n",
      "  positive)\n",
      "/opt/conda/lib/python3.7/site-packages/sklearn/linear_model/_coordinate_descent.py:531: ConvergenceWarning: Objective did not converge. You might want to increase the number of iterations. Duality gap: 3.715822091559823, tolerance: 0.01410417808630363\n",
      "  positive)\n",
      "/opt/conda/lib/python3.7/site-packages/sklearn/model_selection/_search.py:765: UserWarning: With alpha=0, this algorithm does not converge well. You are advised to use the LinearRegression estimator\n",
      "  self.best_estimator_.fit(X, y, **fit_params)\n",
      "/opt/conda/lib/python3.7/site-packages/sklearn/linear_model/_coordinate_descent.py:531: UserWarning: Coordinate descent with no regularization may lead to unexpected results and is discouraged.\n",
      "  positive)\n",
      "/opt/conda/lib/python3.7/site-packages/sklearn/linear_model/_coordinate_descent.py:531: ConvergenceWarning: Objective did not converge. You might want to increase the number of iterations. Duality gap: 4.85476238479176, tolerance: 0.01708525436622996\n",
      "  positive)\n"
     ]
    },
    {
     "data": {
      "text/plain": [
       "GridSearchCV(cv=5, estimator=Lasso(),\n",
       "             param_grid={'alpha': [0.0, 0.01, 0.02, 0.03, 0.04, 0.05, 0.06,\n",
       "                                   0.07, 0.08, 0.09, 0.1, 0.11, 0.12, 0.13,\n",
       "                                   0.14, 0.15, 0.16, 0.17, 0.18, 0.19, 0.2,\n",
       "                                   0.21, 0.22, 0.23, 0.24, 0.25, 0.26, 0.27,\n",
       "                                   0.28, 0.29, ...]},\n",
       "             scoring='neg_mean_squared_error')"
      ]
     },
     "execution_count": 144,
     "metadata": {},
     "output_type": "execute_result"
    }
   ],
   "source": [
    "lasso_reg.fit(X_train,y_train)"
   ]
  },
  {
   "cell_type": "code",
   "execution_count": 145,
   "metadata": {
    "execution": {
     "iopub.execute_input": "2020-12-07T17:30:16.975841Z",
     "iopub.status.busy": "2020-12-07T17:30:16.975032Z",
     "iopub.status.idle": "2020-12-07T17:30:16.978305Z",
     "shell.execute_reply": "2020-12-07T17:30:16.978936Z"
    },
    "papermill": {
     "duration": 0.138697,
     "end_time": "2020-12-07T17:30:16.979098",
     "exception": false,
     "start_time": "2020-12-07T17:30:16.840401",
     "status": "completed"
    },
    "tags": []
   },
   "outputs": [
    {
     "name": "stdout",
     "output_type": "stream",
     "text": [
      "Lasso(alpha=0.0)\n"
     ]
    }
   ],
   "source": [
    "print(lasso_reg.best_estimator_)"
   ]
  },
  {
   "cell_type": "code",
   "execution_count": 146,
   "metadata": {
    "execution": {
     "iopub.execute_input": "2020-12-07T17:30:17.250359Z",
     "iopub.status.busy": "2020-12-07T17:30:17.249222Z",
     "iopub.status.idle": "2020-12-07T17:30:17.387421Z",
     "shell.execute_reply": "2020-12-07T17:30:17.388002Z"
    },
    "papermill": {
     "duration": 0.275544,
     "end_time": "2020-12-07T17:30:17.388188",
     "exception": false,
     "start_time": "2020-12-07T17:30:17.112644",
     "status": "completed"
    },
    "tags": []
   },
   "outputs": [
    {
     "name": "stderr",
     "output_type": "stream",
     "text": [
      "/opt/conda/lib/python3.7/site-packages/ipykernel_launcher.py:2: UserWarning: With alpha=0, this algorithm does not converge well. You are advised to use the LinearRegression estimator\n",
      "  \n",
      "/opt/conda/lib/python3.7/site-packages/sklearn/linear_model/_coordinate_descent.py:531: UserWarning: Coordinate descent with no regularization may lead to unexpected results and is discouraged.\n",
      "  positive)\n",
      "/opt/conda/lib/python3.7/site-packages/sklearn/linear_model/_coordinate_descent.py:531: ConvergenceWarning: Objective did not converge. You might want to increase the number of iterations. Duality gap: 4.85476238479176, tolerance: 0.01708525436622996\n",
      "  positive)\n"
     ]
    },
    {
     "data": {
      "text/plain": [
       "Lasso(alpha=0.0)"
      ]
     },
     "execution_count": 146,
     "metadata": {},
     "output_type": "execute_result"
    }
   ],
   "source": [
    "best_lasso_model = lasso_reg.best_estimator_\n",
    "best_lasso_model.fit(X_train,y_train)"
   ]
  },
  {
   "cell_type": "code",
   "execution_count": 147,
   "metadata": {
    "execution": {
     "iopub.execute_input": "2020-12-07T17:30:17.671878Z",
     "iopub.status.busy": "2020-12-07T17:30:17.671026Z",
     "iopub.status.idle": "2020-12-07T17:30:17.674499Z",
     "shell.execute_reply": "2020-12-07T17:30:17.673840Z"
    },
    "papermill": {
     "duration": 0.14923,
     "end_time": "2020-12-07T17:30:17.674644",
     "exception": false,
     "start_time": "2020-12-07T17:30:17.525414",
     "status": "completed"
    },
    "tags": []
   },
   "outputs": [],
   "source": [
    "lasso_model_predictions = best_ridge_model.predict(X_val)"
   ]
  },
  {
   "cell_type": "code",
   "execution_count": 148,
   "metadata": {
    "execution": {
     "iopub.execute_input": "2020-12-07T17:30:17.949617Z",
     "iopub.status.busy": "2020-12-07T17:30:17.948689Z",
     "iopub.status.idle": "2020-12-07T17:30:17.951565Z",
     "shell.execute_reply": "2020-12-07T17:30:17.950984Z"
    },
    "papermill": {
     "duration": 0.140755,
     "end_time": "2020-12-07T17:30:17.951676",
     "exception": false,
     "start_time": "2020-12-07T17:30:17.810921",
     "status": "completed"
    },
    "tags": []
   },
   "outputs": [],
   "source": [
    "lasso_results = pd.DataFrame({'Model':['Lasso Regression'],\n",
    "                                'R_squared':[r2_score(y_val,lasso_model_predictions)],\n",
    "                                'Mean_squared_error':[mean_squared_error(y_val,lasso_model_predictions)]})\n",
    "results = results.append(lasso_results)"
   ]
  },
  {
   "cell_type": "code",
   "execution_count": 149,
   "metadata": {
    "execution": {
     "iopub.execute_input": "2020-12-07T17:30:18.217897Z",
     "iopub.status.busy": "2020-12-07T17:30:18.217316Z",
     "iopub.status.idle": "2020-12-07T17:30:18.220542Z",
     "shell.execute_reply": "2020-12-07T17:30:18.219939Z"
    },
    "papermill": {
     "duration": 0.13785,
     "end_time": "2020-12-07T17:30:18.220658",
     "exception": false,
     "start_time": "2020-12-07T17:30:18.082808",
     "status": "completed"
    },
    "tags": []
   },
   "outputs": [],
   "source": [
    "dtree = DecisionTreeRegressor(max_depth=7)"
   ]
  },
  {
   "cell_type": "code",
   "execution_count": 150,
   "metadata": {
    "execution": {
     "iopub.execute_input": "2020-12-07T17:30:18.489690Z",
     "iopub.status.busy": "2020-12-07T17:30:18.489050Z",
     "iopub.status.idle": "2020-12-07T17:30:18.491752Z",
     "shell.execute_reply": "2020-12-07T17:30:18.492166Z"
    },
    "papermill": {
     "duration": 0.139874,
     "end_time": "2020-12-07T17:30:18.492334",
     "exception": false,
     "start_time": "2020-12-07T17:30:18.352460",
     "status": "completed"
    },
    "tags": []
   },
   "outputs": [],
   "source": [
    "sfs_dtree = sfs(dtree,k_features = 40,forward=True,floating=False, scoring='r2',cv=5)\n"
   ]
  },
  {
   "cell_type": "code",
   "execution_count": 151,
   "metadata": {
    "execution": {
     "iopub.execute_input": "2020-12-07T17:30:18.759442Z",
     "iopub.status.busy": "2020-12-07T17:30:18.758756Z",
     "iopub.status.idle": "2020-12-07T17:31:55.233665Z",
     "shell.execute_reply": "2020-12-07T17:31:55.234189Z"
    },
    "papermill": {
     "duration": 96.610795,
     "end_time": "2020-12-07T17:31:55.234358",
     "exception": false,
     "start_time": "2020-12-07T17:30:18.623563",
     "status": "completed"
    },
    "tags": []
   },
   "outputs": [
    {
     "data": {
      "text/plain": [
       "SequentialFeatureSelector(estimator=DecisionTreeRegressor(max_depth=7),\n",
       "                          k_features=40, scoring='r2')"
      ]
     },
     "execution_count": 151,
     "metadata": {},
     "output_type": "execute_result"
    }
   ],
   "source": [
    "sfs_dtree.fit(X_train, y_train)"
   ]
  },
  {
   "cell_type": "code",
   "execution_count": 152,
   "metadata": {
    "execution": {
     "iopub.execute_input": "2020-12-07T17:31:55.510708Z",
     "iopub.status.busy": "2020-12-07T17:31:55.510066Z",
     "iopub.status.idle": "2020-12-07T17:31:55.514481Z",
     "shell.execute_reply": "2020-12-07T17:31:55.513830Z"
    },
    "papermill": {
     "duration": 0.141203,
     "end_time": "2020-12-07T17:31:55.514594",
     "exception": false,
     "start_time": "2020-12-07T17:31:55.373391",
     "status": "completed"
    },
    "tags": []
   },
   "outputs": [],
   "source": [
    "X_train_sfs_dtree = sfs_dtree.transform(X_train)\n",
    "X_val_sfs_dtree = sfs_dtree.transform(X_val)"
   ]
  },
  {
   "cell_type": "code",
   "execution_count": 153,
   "metadata": {
    "execution": {
     "iopub.execute_input": "2020-12-07T17:31:55.786772Z",
     "iopub.status.busy": "2020-12-07T17:31:55.786098Z",
     "iopub.status.idle": "2020-12-07T17:31:55.794190Z",
     "shell.execute_reply": "2020-12-07T17:31:55.794694Z"
    },
    "papermill": {
     "duration": 0.147254,
     "end_time": "2020-12-07T17:31:55.794840",
     "exception": false,
     "start_time": "2020-12-07T17:31:55.647586",
     "status": "completed"
    },
    "tags": []
   },
   "outputs": [
    {
     "data": {
      "text/plain": [
       "DecisionTreeRegressor(max_depth=7)"
      ]
     },
     "execution_count": 153,
     "metadata": {},
     "output_type": "execute_result"
    }
   ],
   "source": [
    "dtree.fit(X_train_sfs_dtree, y_train)"
   ]
  },
  {
   "cell_type": "code",
   "execution_count": 154,
   "metadata": {
    "execution": {
     "iopub.execute_input": "2020-12-07T17:31:56.075129Z",
     "iopub.status.busy": "2020-12-07T17:31:56.074496Z",
     "iopub.status.idle": "2020-12-07T17:31:56.078343Z",
     "shell.execute_reply": "2020-12-07T17:31:56.077718Z"
    },
    "papermill": {
     "duration": 0.150368,
     "end_time": "2020-12-07T17:31:56.078454",
     "exception": false,
     "start_time": "2020-12-07T17:31:55.928086",
     "status": "completed"
    },
    "tags": []
   },
   "outputs": [],
   "source": [
    "dtree_val_predictions = dtree.predict(X_val_sfs_dtree)"
   ]
  },
  {
   "cell_type": "code",
   "execution_count": 155,
   "metadata": {
    "execution": {
     "iopub.execute_input": "2020-12-07T17:31:56.355795Z",
     "iopub.status.busy": "2020-12-07T17:31:56.355010Z",
     "iopub.status.idle": "2020-12-07T17:31:56.357891Z",
     "shell.execute_reply": "2020-12-07T17:31:56.357400Z"
    },
    "papermill": {
     "duration": 0.146499,
     "end_time": "2020-12-07T17:31:56.357995",
     "exception": false,
     "start_time": "2020-12-07T17:31:56.211496",
     "status": "completed"
    },
    "tags": []
   },
   "outputs": [],
   "source": [
    "dtree_results = pd.DataFrame({'Model':['Decistion tree'],\n",
    "                                'R_squared':[r2_score(y_val,dtree_val_predictions)],\n",
    "                                'Mean_squared_error':[mean_squared_error(y_val,dtree_val_predictions)]})\n",
    "results = results.append(dtree_results)"
   ]
  },
  {
   "cell_type": "code",
   "execution_count": 156,
   "metadata": {
    "execution": {
     "iopub.execute_input": "2020-12-07T17:31:56.637034Z",
     "iopub.status.busy": "2020-12-07T17:31:56.636408Z",
     "iopub.status.idle": "2020-12-07T17:31:56.639476Z",
     "shell.execute_reply": "2020-12-07T17:31:56.638944Z"
    },
    "papermill": {
     "duration": 0.146596,
     "end_time": "2020-12-07T17:31:56.639585",
     "exception": false,
     "start_time": "2020-12-07T17:31:56.492989",
     "status": "completed"
    },
    "tags": []
   },
   "outputs": [],
   "source": [
    "rf_model = RandomForestRegressor(max_depth=7)"
   ]
  },
  {
   "cell_type": "code",
   "execution_count": 157,
   "metadata": {
    "execution": {
     "iopub.execute_input": "2020-12-07T17:31:56.916765Z",
     "iopub.status.busy": "2020-12-07T17:31:56.916042Z",
     "iopub.status.idle": "2020-12-07T17:31:56.920203Z",
     "shell.execute_reply": "2020-12-07T17:31:56.919742Z"
    },
    "papermill": {
     "duration": 0.142636,
     "end_time": "2020-12-07T17:31:56.920333",
     "exception": false,
     "start_time": "2020-12-07T17:31:56.777697",
     "status": "completed"
    },
    "tags": []
   },
   "outputs": [],
   "source": [
    "X_train_sfs_rf = sfs_dtree.transform(X_train)\n",
    "X_val_sfs_rf = sfs_dtree.transform(X_val)"
   ]
  },
  {
   "cell_type": "code",
   "execution_count": 158,
   "metadata": {
    "execution": {
     "iopub.execute_input": "2020-12-07T17:31:57.228635Z",
     "iopub.status.busy": "2020-12-07T17:31:57.196984Z",
     "iopub.status.idle": "2020-12-07T17:31:57.497560Z",
     "shell.execute_reply": "2020-12-07T17:31:57.498105Z"
    },
    "papermill": {
     "duration": 0.438372,
     "end_time": "2020-12-07T17:31:57.498260",
     "exception": false,
     "start_time": "2020-12-07T17:31:57.059888",
     "status": "completed"
    },
    "tags": []
   },
   "outputs": [
    {
     "data": {
      "text/plain": [
       "RandomForestRegressor(max_depth=7)"
      ]
     },
     "execution_count": 158,
     "metadata": {},
     "output_type": "execute_result"
    }
   ],
   "source": [
    "rf_model.fit(X_train_sfs_rf, y_train)"
   ]
  },
  {
   "cell_type": "code",
   "execution_count": 159,
   "metadata": {
    "execution": {
     "iopub.execute_input": "2020-12-07T17:31:57.797662Z",
     "iopub.status.busy": "2020-12-07T17:31:57.771677Z",
     "iopub.status.idle": "2020-12-07T17:31:58.083498Z",
     "shell.execute_reply": "2020-12-07T17:31:58.082870Z"
    },
    "papermill": {
     "duration": 0.448554,
     "end_time": "2020-12-07T17:31:58.083639",
     "exception": false,
     "start_time": "2020-12-07T17:31:57.635085",
     "status": "completed"
    },
    "tags": []
   },
   "outputs": [
    {
     "data": {
      "text/plain": [
       "RandomForestRegressor(max_depth=7)"
      ]
     },
     "execution_count": 159,
     "metadata": {},
     "output_type": "execute_result"
    }
   ],
   "source": [
    "rf_model.fit(X_train_sfs_rf,y_train)"
   ]
  },
  {
   "cell_type": "code",
   "execution_count": 160,
   "metadata": {
    "execution": {
     "iopub.execute_input": "2020-12-07T17:31:58.357019Z",
     "iopub.status.busy": "2020-12-07T17:31:58.356334Z",
     "iopub.status.idle": "2020-12-07T17:31:58.368763Z",
     "shell.execute_reply": "2020-12-07T17:31:58.368235Z"
    },
    "papermill": {
     "duration": 0.151359,
     "end_time": "2020-12-07T17:31:58.368879",
     "exception": false,
     "start_time": "2020-12-07T17:31:58.217520",
     "status": "completed"
    },
    "tags": []
   },
   "outputs": [],
   "source": [
    "rf_val_predictions = rf_model.predict(X_val_sfs_rf)"
   ]
  },
  {
   "cell_type": "code",
   "execution_count": 161,
   "metadata": {
    "execution": {
     "iopub.execute_input": "2020-12-07T17:31:58.648274Z",
     "iopub.status.busy": "2020-12-07T17:31:58.647309Z",
     "iopub.status.idle": "2020-12-07T17:31:58.650403Z",
     "shell.execute_reply": "2020-12-07T17:31:58.649774Z"
    },
    "papermill": {
     "duration": 0.146032,
     "end_time": "2020-12-07T17:31:58.650509",
     "exception": false,
     "start_time": "2020-12-07T17:31:58.504477",
     "status": "completed"
    },
    "tags": []
   },
   "outputs": [],
   "source": [
    "rf_results = pd.DataFrame({'Model':['Random forest'],\n",
    "                                'R_squared':[r2_score(y_val,rf_val_predictions)],\n",
    "                                'Mean_squared_error':[mean_squared_error(y_val,rf_val_predictions)]})\n",
    "results = results.append(rf_results)"
   ]
  },
  {
   "cell_type": "code",
   "execution_count": 162,
   "metadata": {
    "execution": {
     "iopub.execute_input": "2020-12-07T17:31:58.930916Z",
     "iopub.status.busy": "2020-12-07T17:31:58.929966Z",
     "iopub.status.idle": "2020-12-07T17:31:58.933891Z",
     "shell.execute_reply": "2020-12-07T17:31:58.934348Z"
    },
    "papermill": {
     "duration": 0.149313,
     "end_time": "2020-12-07T17:31:58.934493",
     "exception": false,
     "start_time": "2020-12-07T17:31:58.785180",
     "status": "completed"
    },
    "tags": []
   },
   "outputs": [
    {
     "data": {
      "text/html": [
       "<div>\n",
       "<style scoped>\n",
       "    .dataframe tbody tr th:only-of-type {\n",
       "        vertical-align: middle;\n",
       "    }\n",
       "\n",
       "    .dataframe tbody tr th {\n",
       "        vertical-align: top;\n",
       "    }\n",
       "\n",
       "    .dataframe thead th {\n",
       "        text-align: right;\n",
       "    }\n",
       "</style>\n",
       "<table border=\"1\" class=\"dataframe\">\n",
       "  <thead>\n",
       "    <tr style=\"text-align: right;\">\n",
       "      <th></th>\n",
       "      <th>Model</th>\n",
       "      <th>R_squared</th>\n",
       "      <th>Mean_squared_error</th>\n",
       "    </tr>\n",
       "  </thead>\n",
       "  <tbody>\n",
       "    <tr>\n",
       "      <th>0</th>\n",
       "      <td>Linear Regression</td>\n",
       "      <td>0.909</td>\n",
       "      <td>0.015</td>\n",
       "    </tr>\n",
       "    <tr>\n",
       "      <th>0</th>\n",
       "      <td>Ridge Regression</td>\n",
       "      <td>0.909</td>\n",
       "      <td>0.015</td>\n",
       "    </tr>\n",
       "    <tr>\n",
       "      <th>0</th>\n",
       "      <td>Lasso Regression</td>\n",
       "      <td>0.909</td>\n",
       "      <td>0.015</td>\n",
       "    </tr>\n",
       "    <tr>\n",
       "      <th>0</th>\n",
       "      <td>Decistion tree</td>\n",
       "      <td>0.731</td>\n",
       "      <td>0.045</td>\n",
       "    </tr>\n",
       "    <tr>\n",
       "      <th>0</th>\n",
       "      <td>Random forest</td>\n",
       "      <td>0.794</td>\n",
       "      <td>0.034</td>\n",
       "    </tr>\n",
       "  </tbody>\n",
       "</table>\n",
       "</div>"
      ],
      "text/plain": [
       "               Model  R_squared  Mean_squared_error\n",
       "0  Linear Regression      0.909               0.015\n",
       "0   Ridge Regression      0.909               0.015\n",
       "0   Lasso Regression      0.909               0.015\n",
       "0     Decistion tree      0.731               0.045\n",
       "0      Random forest      0.794               0.034"
      ]
     },
     "execution_count": 162,
     "metadata": {},
     "output_type": "execute_result"
    }
   ],
   "source": [
    "results"
   ]
  },
  {
   "cell_type": "code",
   "execution_count": 163,
   "metadata": {
    "execution": {
     "iopub.execute_input": "2020-12-07T17:31:59.209413Z",
     "iopub.status.busy": "2020-12-07T17:31:59.208417Z",
     "iopub.status.idle": "2020-12-07T17:31:59.219004Z",
     "shell.execute_reply": "2020-12-07T17:31:59.218066Z"
    },
    "papermill": {
     "duration": 0.1487,
     "end_time": "2020-12-07T17:31:59.219141",
     "exception": false,
     "start_time": "2020-12-07T17:31:59.070441",
     "status": "completed"
    },
    "tags": []
   },
   "outputs": [],
   "source": [
    "ridge_predictions = best_ridge_model.predict(test)"
   ]
  },
  {
   "cell_type": "code",
   "execution_count": 164,
   "metadata": {
    "execution": {
     "iopub.execute_input": "2020-12-07T17:31:59.504501Z",
     "iopub.status.busy": "2020-12-07T17:31:59.503555Z",
     "iopub.status.idle": "2020-12-07T17:31:59.506576Z",
     "shell.execute_reply": "2020-12-07T17:31:59.506071Z"
    },
    "papermill": {
     "duration": 0.144001,
     "end_time": "2020-12-07T17:31:59.506724",
     "exception": false,
     "start_time": "2020-12-07T17:31:59.362723",
     "status": "completed"
    },
    "tags": []
   },
   "outputs": [],
   "source": [
    "ridge_predictions = np.exp(ridge_predictions)"
   ]
  },
  {
   "cell_type": "code",
   "execution_count": 165,
   "metadata": {
    "execution": {
     "iopub.execute_input": "2020-12-07T17:31:59.817127Z",
     "iopub.status.busy": "2020-12-07T17:31:59.816492Z",
     "iopub.status.idle": "2020-12-07T17:31:59.884973Z",
     "shell.execute_reply": "2020-12-07T17:31:59.884379Z"
    },
    "papermill": {
     "duration": 0.206335,
     "end_time": "2020-12-07T17:31:59.885082",
     "exception": false,
     "start_time": "2020-12-07T17:31:59.678747",
     "status": "completed"
    },
    "tags": []
   },
   "outputs": [
    {
     "ename": "NameError",
     "evalue": "name 'submission_csv' is not defined",
     "output_type": "error",
     "traceback": [
      "\u001b[0;31m---------------------------------------------------------------------------\u001b[0m",
      "\u001b[0;31mNameError\u001b[0m                                 Traceback (most recent call last)",
      "\u001b[0;32m<ipython-input-165-8c75ab09ae45>\u001b[0m in \u001b[0;36m<module>\u001b[0;34m\u001b[0m\n\u001b[0;32m----> 1\u001b[0;31m \u001b[0msubmission_csv\u001b[0m\u001b[0;34m.\u001b[0m\u001b[0mto_csv\u001b[0m\u001b[0;34m(\u001b[0m\u001b[0;34m\"Submission.csv\"\u001b[0m\u001b[0;34m,\u001b[0m\u001b[0mindex\u001b[0m\u001b[0;34m=\u001b[0m\u001b[0;32mFalse\u001b[0m\u001b[0;34m)\u001b[0m\u001b[0;34m\u001b[0m\u001b[0;34m\u001b[0m\u001b[0m\n\u001b[0m",
      "\u001b[0;31mNameError\u001b[0m: name 'submission_csv' is not defined"
     ]
    }
   ],
   "source": [
    "submission_csv.to_csv(\"Submission.csv\",index=False)"
   ]
  }
 ],
 "metadata": {
  "kernelspec": {
   "display_name": "Python 3",
   "language": "python",
   "name": "python3"
  },
  "language_info": {
   "codemirror_mode": {
    "name": "ipython",
    "version": 3
   },
   "file_extension": ".py",
   "mimetype": "text/x-python",
   "name": "python",
   "nbconvert_exporter": "python",
   "pygments_lexer": "ipython3",
   "version": "3.7.6"
  },
  "papermill": {
   "duration": 371.862871,
   "end_time": "2020-12-07T17:32:00.132878",
   "environment_variables": {},
   "exception": null,
   "input_path": "__notebook__.ipynb",
   "output_path": "__notebook__.ipynb",
   "parameters": {},
   "start_time": "2020-12-07T17:25:48.270007",
   "version": "2.1.0"
  }
 },
 "nbformat": 4,
 "nbformat_minor": 4
}
