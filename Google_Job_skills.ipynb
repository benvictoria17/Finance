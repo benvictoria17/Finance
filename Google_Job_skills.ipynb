{
  "nbformat": 4,
  "nbformat_minor": 0,
  "metadata": {
    "colab": {
      "name": "Google Job skills.ipynb",
      "private_outputs": true,
      "provenance": [],
      "authorship_tag": "ABX9TyNPMqwbVPOsgebZPFDSNrfT",
      "include_colab_link": true
    },
    "kernelspec": {
      "name": "python3",
      "display_name": "Python 3"
    },
    "language_info": {
      "name": "python"
    },
    "accelerator": "GPU"
  },
  "cells": [
    {
      "cell_type": "markdown",
      "metadata": {
        "id": "view-in-github",
        "colab_type": "text"
      },
      "source": [
        "<a href=\"https://colab.research.google.com/github/benvictoria17/Finance/blob/main/Google_Job_skills.ipynb\" target=\"_parent\"><img src=\"https://colab.research.google.com/assets/colab-badge.svg\" alt=\"Open In Colab\"/></a>"
      ]
    },
    {
      "cell_type": "code",
      "source": [
        "import numpy as np\n",
        "import pandas as pd\n",
        "import seaborn as sns\n",
        "import matplotlib.pyplot as plt\n",
        "import missingno as msno"
      ],
      "metadata": {
        "id": "Rfs2WPjnPTqO"
      },
      "execution_count": null,
      "outputs": []
    },
    {
      "cell_type": "code",
      "source": [
        "data = pd.read_csv(\"https://raw.githubusercontent.com/benvictoria17/Finance/main/dataset/Google%20Job%20Skills/job_skills.csv\")\n",
        "data.describe()"
      ],
      "metadata": {
        "id": "R8QUpXHqPTs1"
      },
      "execution_count": null,
      "outputs": []
    },
    {
      "cell_type": "code",
      "source": [
        "data.shape"
      ],
      "metadata": {
        "id": "c6W5azQ7PTvb"
      },
      "execution_count": null,
      "outputs": []
    },
    {
      "cell_type": "code",
      "source": [
        "data.info()"
      ],
      "metadata": {
        "id": "Z3OG4QdjPTyB"
      },
      "execution_count": null,
      "outputs": []
    },
    {
      "cell_type": "code",
      "source": [
        "print(\"Missing Value\", data.isnull().sum().sum())"
      ],
      "metadata": {
        "id": "lOJ7IufWPT0X"
      },
      "execution_count": null,
      "outputs": []
    },
    {
      "cell_type": "code",
      "source": [
        "data.Category[1:4]"
      ],
      "metadata": {
        "id": "K8yoGfa3PT3O"
      },
      "execution_count": null,
      "outputs": []
    },
    {
      "cell_type": "code",
      "source": [
        "A = data[\"Category\"].value_counts()\n",
        "A"
      ],
      "metadata": {
        "id": "uUu7RbO9P9yT"
      },
      "execution_count": null,
      "outputs": []
    },
    {
      "cell_type": "code",
      "source": [
        "A.plot(kind=\"barh\")"
      ],
      "metadata": {
        "id": "H1FfC50YP90r"
      },
      "execution_count": null,
      "outputs": []
    },
    {
      "cell_type": "code",
      "source": [
        "A.plot(kind=\"barh\", figsize = (20,10))\n",
        "plt.title('Names of Categories')"
      ],
      "metadata": {
        "id": "x3HrbfCqQNar"
      },
      "execution_count": null,
      "outputs": []
    },
    {
      "cell_type": "code",
      "source": [
        "sns.catplot(x=\"Company\", data=data, kind=\"count\")"
      ],
      "metadata": {
        "id": "TIM7AhNsQNdh"
      },
      "execution_count": null,
      "outputs": []
    },
    {
      "cell_type": "code",
      "source": [
        "sns.catplot(x=\"Company\", data=data, kind=\"count\")\n",
        "plt.title('Names of the companies', fontsize=20)"
      ],
      "metadata": {
        "id": "fWarwQ0hQNgq"
      },
      "execution_count": null,
      "outputs": []
    }
  ]
}