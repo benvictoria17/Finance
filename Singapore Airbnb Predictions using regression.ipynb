{
 "cells": [
  {
   "cell_type": "code",
   "execution_count": 1,
   "id": "95fcde0f",
   "metadata": {
    "_cell_guid": "b1076dfc-b9ad-4769-8c92-a6c4dae69d19",
    "_uuid": "8f2839f25d086af736a60e9eeb907d3b93b6e0e5",
    "execution": {
     "iopub.execute_input": "2022-03-30T20:01:39.099072Z",
     "iopub.status.busy": "2022-03-30T20:01:39.097270Z",
     "iopub.status.idle": "2022-03-30T20:01:40.517055Z",
     "shell.execute_reply": "2022-03-30T20:01:40.517630Z",
     "shell.execute_reply.started": "2022-03-30T19:59:05.443081Z"
    },
    "papermill": {
     "duration": 1.457064,
     "end_time": "2022-03-30T20:01:40.517918",
     "exception": false,
     "start_time": "2022-03-30T20:01:39.060854",
     "status": "completed"
    },
    "tags": []
   },
   "outputs": [],
   "source": [
    "import numpy as np \n",
    "import pandas as pd \n",
    "import matplotlib.pyplot as plt\n",
    "import seaborn as sns\n",
    "from sklearn.preprocessing import LabelEncoder\n",
    "from sklearn.preprocessing import StandardScaler\n",
    "from sklearn.feature_selection import SelectKBest,chi2\n",
    "from sklearn.model_selection import train_test_split\n",
    "from sklearn.svm import SVR\n",
    "from sklearn.metrics import mean_absolute_error\n",
    "from sklearn.metrics import mean_squared_error\n",
    "from math import sqrt"
   ]
  },
  {
   "cell_type": "code",
   "execution_count": 2,
   "id": "d0f66a05",
   "metadata": {
    "execution": {
     "iopub.execute_input": "2022-03-30T20:01:40.585535Z",
     "iopub.status.busy": "2022-03-30T20:01:40.584863Z",
     "iopub.status.idle": "2022-03-30T20:01:40.772715Z",
     "shell.execute_reply": "2022-03-30T20:01:40.772137Z",
     "shell.execute_reply.started": "2022-03-30T19:59:05.482970Z"
    },
    "papermill": {
     "duration": 0.227297,
     "end_time": "2022-03-30T20:01:40.772853",
     "exception": false,
     "start_time": "2022-03-30T20:01:40.545556",
     "status": "completed"
    },
    "tags": []
   },
   "outputs": [],
   "source": [
    "dataset = pd.read_csv(\"https://raw.githubusercontent.com/benvictoria17/DataAnalytics/master/dataset/Singapore%20Airbnb/listings.csv\")"
   ]
  },
  {
   "cell_type": "code",
   "execution_count": 3,
   "id": "22896918",
   "metadata": {
    "execution": {
     "iopub.execute_input": "2022-03-30T20:01:40.834032Z",
     "iopub.status.busy": "2022-03-30T20:01:40.833036Z",
     "iopub.status.idle": "2022-03-30T20:01:40.854032Z",
     "shell.execute_reply": "2022-03-30T20:01:40.854533Z",
     "shell.execute_reply.started": "2022-03-30T19:59:05.811980Z"
    },
    "papermill": {
     "duration": 0.055883,
     "end_time": "2022-03-30T20:01:40.854696",
     "exception": false,
     "start_time": "2022-03-30T20:01:40.798813",
     "status": "completed"
    },
    "tags": []
   },
   "outputs": [
    {
     "data": {
      "text/html": [
       "<div>\n",
       "<style scoped>\n",
       "    .dataframe tbody tr th:only-of-type {\n",
       "        vertical-align: middle;\n",
       "    }\n",
       "\n",
       "    .dataframe tbody tr th {\n",
       "        vertical-align: top;\n",
       "    }\n",
       "\n",
       "    .dataframe thead th {\n",
       "        text-align: right;\n",
       "    }\n",
       "</style>\n",
       "<table border=\"1\" class=\"dataframe\">\n",
       "  <thead>\n",
       "    <tr style=\"text-align: right;\">\n",
       "      <th></th>\n",
       "      <th>id</th>\n",
       "      <th>name</th>\n",
       "      <th>host_id</th>\n",
       "      <th>host_name</th>\n",
       "      <th>neighbourhood_group</th>\n",
       "      <th>neighbourhood</th>\n",
       "      <th>latitude</th>\n",
       "      <th>longitude</th>\n",
       "      <th>room_type</th>\n",
       "      <th>price</th>\n",
       "      <th>minimum_nights</th>\n",
       "      <th>number_of_reviews</th>\n",
       "      <th>last_review</th>\n",
       "      <th>reviews_per_month</th>\n",
       "      <th>calculated_host_listings_count</th>\n",
       "      <th>availability_365</th>\n",
       "    </tr>\n",
       "  </thead>\n",
       "  <tbody>\n",
       "    <tr>\n",
       "      <th>0</th>\n",
       "      <td>49091</td>\n",
       "      <td>COZICOMFORT LONG TERM STAY ROOM 2</td>\n",
       "      <td>266763</td>\n",
       "      <td>Francesca</td>\n",
       "      <td>North Region</td>\n",
       "      <td>Woodlands</td>\n",
       "      <td>1.44255</td>\n",
       "      <td>103.79580</td>\n",
       "      <td>Private room</td>\n",
       "      <td>83</td>\n",
       "      <td>180</td>\n",
       "      <td>1</td>\n",
       "      <td>2013-10-21</td>\n",
       "      <td>0.01</td>\n",
       "      <td>2</td>\n",
       "      <td>365</td>\n",
       "    </tr>\n",
       "    <tr>\n",
       "      <th>1</th>\n",
       "      <td>50646</td>\n",
       "      <td>Pleasant Room along Bukit Timah</td>\n",
       "      <td>227796</td>\n",
       "      <td>Sujatha</td>\n",
       "      <td>Central Region</td>\n",
       "      <td>Bukit Timah</td>\n",
       "      <td>1.33235</td>\n",
       "      <td>103.78521</td>\n",
       "      <td>Private room</td>\n",
       "      <td>81</td>\n",
       "      <td>90</td>\n",
       "      <td>18</td>\n",
       "      <td>2014-12-26</td>\n",
       "      <td>0.28</td>\n",
       "      <td>1</td>\n",
       "      <td>365</td>\n",
       "    </tr>\n",
       "    <tr>\n",
       "      <th>2</th>\n",
       "      <td>56334</td>\n",
       "      <td>COZICOMFORT</td>\n",
       "      <td>266763</td>\n",
       "      <td>Francesca</td>\n",
       "      <td>North Region</td>\n",
       "      <td>Woodlands</td>\n",
       "      <td>1.44246</td>\n",
       "      <td>103.79667</td>\n",
       "      <td>Private room</td>\n",
       "      <td>69</td>\n",
       "      <td>6</td>\n",
       "      <td>20</td>\n",
       "      <td>2015-10-01</td>\n",
       "      <td>0.20</td>\n",
       "      <td>2</td>\n",
       "      <td>365</td>\n",
       "    </tr>\n",
       "    <tr>\n",
       "      <th>3</th>\n",
       "      <td>71609</td>\n",
       "      <td>Ensuite Room (Room 1 &amp; 2) near EXPO</td>\n",
       "      <td>367042</td>\n",
       "      <td>Belinda</td>\n",
       "      <td>East Region</td>\n",
       "      <td>Tampines</td>\n",
       "      <td>1.34541</td>\n",
       "      <td>103.95712</td>\n",
       "      <td>Private room</td>\n",
       "      <td>206</td>\n",
       "      <td>1</td>\n",
       "      <td>14</td>\n",
       "      <td>2019-08-11</td>\n",
       "      <td>0.15</td>\n",
       "      <td>9</td>\n",
       "      <td>353</td>\n",
       "    </tr>\n",
       "    <tr>\n",
       "      <th>4</th>\n",
       "      <td>71896</td>\n",
       "      <td>B&amp;B  Room 1 near Airport &amp; EXPO</td>\n",
       "      <td>367042</td>\n",
       "      <td>Belinda</td>\n",
       "      <td>East Region</td>\n",
       "      <td>Tampines</td>\n",
       "      <td>1.34567</td>\n",
       "      <td>103.95963</td>\n",
       "      <td>Private room</td>\n",
       "      <td>94</td>\n",
       "      <td>1</td>\n",
       "      <td>22</td>\n",
       "      <td>2019-07-28</td>\n",
       "      <td>0.22</td>\n",
       "      <td>9</td>\n",
       "      <td>355</td>\n",
       "    </tr>\n",
       "  </tbody>\n",
       "</table>\n",
       "</div>"
      ],
      "text/plain": [
       "      id                                 name  host_id  host_name  \\\n",
       "0  49091    COZICOMFORT LONG TERM STAY ROOM 2   266763  Francesca   \n",
       "1  50646      Pleasant Room along Bukit Timah   227796    Sujatha   \n",
       "2  56334                          COZICOMFORT   266763  Francesca   \n",
       "3  71609  Ensuite Room (Room 1 & 2) near EXPO   367042    Belinda   \n",
       "4  71896      B&B  Room 1 near Airport & EXPO   367042    Belinda   \n",
       "\n",
       "  neighbourhood_group neighbourhood  latitude  longitude     room_type  price  \\\n",
       "0        North Region     Woodlands   1.44255  103.79580  Private room     83   \n",
       "1      Central Region   Bukit Timah   1.33235  103.78521  Private room     81   \n",
       "2        North Region     Woodlands   1.44246  103.79667  Private room     69   \n",
       "3         East Region      Tampines   1.34541  103.95712  Private room    206   \n",
       "4         East Region      Tampines   1.34567  103.95963  Private room     94   \n",
       "\n",
       "   minimum_nights  number_of_reviews last_review  reviews_per_month  \\\n",
       "0             180                  1  2013-10-21               0.01   \n",
       "1              90                 18  2014-12-26               0.28   \n",
       "2               6                 20  2015-10-01               0.20   \n",
       "3               1                 14  2019-08-11               0.15   \n",
       "4               1                 22  2019-07-28               0.22   \n",
       "\n",
       "   calculated_host_listings_count  availability_365  \n",
       "0                               2               365  \n",
       "1                               1               365  \n",
       "2                               2               365  \n",
       "3                               9               353  \n",
       "4                               9               355  "
      ]
     },
     "execution_count": 3,
     "metadata": {},
     "output_type": "execute_result"
    }
   ],
   "source": [
    "dataset.head()"
   ]
  },
  {
   "cell_type": "code",
   "execution_count": 4,
   "id": "a3b1da61",
   "metadata": {
    "execution": {
     "iopub.execute_input": "2022-03-30T20:01:40.917400Z",
     "iopub.status.busy": "2022-03-30T20:01:40.911344Z",
     "iopub.status.idle": "2022-03-30T20:01:40.944258Z",
     "shell.execute_reply": "2022-03-30T20:01:40.944776Z",
     "shell.execute_reply.started": "2022-03-30T19:59:05.829052Z"
    },
    "papermill": {
     "duration": 0.063571,
     "end_time": "2022-03-30T20:01:40.944958",
     "exception": false,
     "start_time": "2022-03-30T20:01:40.881387",
     "status": "completed"
    },
    "tags": []
   },
   "outputs": [
    {
     "name": "stdout",
     "output_type": "stream",
     "text": [
      "<class 'pandas.core.frame.DataFrame'>\n",
      "RangeIndex: 7907 entries, 0 to 7906\n",
      "Data columns (total 16 columns):\n",
      " #   Column                          Non-Null Count  Dtype  \n",
      "---  ------                          --------------  -----  \n",
      " 0   id                              7907 non-null   int64  \n",
      " 1   name                            7905 non-null   object \n",
      " 2   host_id                         7907 non-null   int64  \n",
      " 3   host_name                       7907 non-null   object \n",
      " 4   neighbourhood_group             7907 non-null   object \n",
      " 5   neighbourhood                   7907 non-null   object \n",
      " 6   latitude                        7907 non-null   float64\n",
      " 7   longitude                       7907 non-null   float64\n",
      " 8   room_type                       7907 non-null   object \n",
      " 9   price                           7907 non-null   int64  \n",
      " 10  minimum_nights                  7907 non-null   int64  \n",
      " 11  number_of_reviews               7907 non-null   int64  \n",
      " 12  last_review                     5149 non-null   object \n",
      " 13  reviews_per_month               5149 non-null   float64\n",
      " 14  calculated_host_listings_count  7907 non-null   int64  \n",
      " 15  availability_365                7907 non-null   int64  \n",
      "dtypes: float64(3), int64(7), object(6)\n",
      "memory usage: 988.5+ KB\n"
     ]
    }
   ],
   "source": [
    "dataset.info()"
   ]
  },
  {
   "cell_type": "code",
   "execution_count": 5,
   "id": "51e8ac3e",
   "metadata": {
    "execution": {
     "iopub.execute_input": "2022-03-30T20:01:41.002945Z",
     "iopub.status.busy": "2022-03-30T20:01:41.001969Z",
     "iopub.status.idle": "2022-03-30T20:01:41.040943Z",
     "shell.execute_reply": "2022-03-30T20:01:41.041464Z",
     "shell.execute_reply.started": "2022-03-30T19:59:05.856726Z"
    },
    "papermill": {
     "duration": 0.069413,
     "end_time": "2022-03-30T20:01:41.041641",
     "exception": false,
     "start_time": "2022-03-30T20:01:40.972228",
     "status": "completed"
    },
    "tags": []
   },
   "outputs": [
    {
     "data": {
      "text/html": [
       "<div>\n",
       "<style scoped>\n",
       "    .dataframe tbody tr th:only-of-type {\n",
       "        vertical-align: middle;\n",
       "    }\n",
       "\n",
       "    .dataframe tbody tr th {\n",
       "        vertical-align: top;\n",
       "    }\n",
       "\n",
       "    .dataframe thead th {\n",
       "        text-align: right;\n",
       "    }\n",
       "</style>\n",
       "<table border=\"1\" class=\"dataframe\">\n",
       "  <thead>\n",
       "    <tr style=\"text-align: right;\">\n",
       "      <th></th>\n",
       "      <th>latitude</th>\n",
       "      <th>longitude</th>\n",
       "      <th>price</th>\n",
       "      <th>minimum_nights</th>\n",
       "      <th>number_of_reviews</th>\n",
       "      <th>reviews_per_month</th>\n",
       "      <th>calculated_host_listings_count</th>\n",
       "      <th>availability_365</th>\n",
       "    </tr>\n",
       "  </thead>\n",
       "  <tbody>\n",
       "    <tr>\n",
       "      <th>count</th>\n",
       "      <td>7907.000000</td>\n",
       "      <td>7907.000000</td>\n",
       "      <td>7907.000000</td>\n",
       "      <td>7907.000000</td>\n",
       "      <td>7907.000000</td>\n",
       "      <td>5149.000000</td>\n",
       "      <td>7907.000000</td>\n",
       "      <td>7907.000000</td>\n",
       "    </tr>\n",
       "    <tr>\n",
       "      <th>mean</th>\n",
       "      <td>1.314192</td>\n",
       "      <td>103.848787</td>\n",
       "      <td>169.332996</td>\n",
       "      <td>17.510054</td>\n",
       "      <td>12.807386</td>\n",
       "      <td>1.043669</td>\n",
       "      <td>40.607689</td>\n",
       "      <td>208.726318</td>\n",
       "    </tr>\n",
       "    <tr>\n",
       "      <th>std</th>\n",
       "      <td>0.030577</td>\n",
       "      <td>0.043675</td>\n",
       "      <td>340.187599</td>\n",
       "      <td>42.094616</td>\n",
       "      <td>29.707746</td>\n",
       "      <td>1.285851</td>\n",
       "      <td>65.135253</td>\n",
       "      <td>146.120034</td>\n",
       "    </tr>\n",
       "    <tr>\n",
       "      <th>min</th>\n",
       "      <td>1.243870</td>\n",
       "      <td>103.646560</td>\n",
       "      <td>0.000000</td>\n",
       "      <td>1.000000</td>\n",
       "      <td>0.000000</td>\n",
       "      <td>0.010000</td>\n",
       "      <td>1.000000</td>\n",
       "      <td>0.000000</td>\n",
       "    </tr>\n",
       "    <tr>\n",
       "      <th>25%</th>\n",
       "      <td>1.295795</td>\n",
       "      <td>103.835825</td>\n",
       "      <td>65.000000</td>\n",
       "      <td>1.000000</td>\n",
       "      <td>0.000000</td>\n",
       "      <td>0.180000</td>\n",
       "      <td>2.000000</td>\n",
       "      <td>54.000000</td>\n",
       "    </tr>\n",
       "    <tr>\n",
       "      <th>50%</th>\n",
       "      <td>1.311030</td>\n",
       "      <td>103.849410</td>\n",
       "      <td>124.000000</td>\n",
       "      <td>3.000000</td>\n",
       "      <td>2.000000</td>\n",
       "      <td>0.550000</td>\n",
       "      <td>9.000000</td>\n",
       "      <td>260.000000</td>\n",
       "    </tr>\n",
       "    <tr>\n",
       "      <th>75%</th>\n",
       "      <td>1.322110</td>\n",
       "      <td>103.872535</td>\n",
       "      <td>199.000000</td>\n",
       "      <td>10.000000</td>\n",
       "      <td>10.000000</td>\n",
       "      <td>1.370000</td>\n",
       "      <td>48.000000</td>\n",
       "      <td>355.000000</td>\n",
       "    </tr>\n",
       "    <tr>\n",
       "      <th>max</th>\n",
       "      <td>1.454590</td>\n",
       "      <td>103.973420</td>\n",
       "      <td>10000.000000</td>\n",
       "      <td>1000.000000</td>\n",
       "      <td>323.000000</td>\n",
       "      <td>13.000000</td>\n",
       "      <td>274.000000</td>\n",
       "      <td>365.000000</td>\n",
       "    </tr>\n",
       "  </tbody>\n",
       "</table>\n",
       "</div>"
      ],
      "text/plain": [
       "          latitude    longitude         price  minimum_nights  \\\n",
       "count  7907.000000  7907.000000   7907.000000     7907.000000   \n",
       "mean      1.314192   103.848787    169.332996       17.510054   \n",
       "std       0.030577     0.043675    340.187599       42.094616   \n",
       "min       1.243870   103.646560      0.000000        1.000000   \n",
       "25%       1.295795   103.835825     65.000000        1.000000   \n",
       "50%       1.311030   103.849410    124.000000        3.000000   \n",
       "75%       1.322110   103.872535    199.000000       10.000000   \n",
       "max       1.454590   103.973420  10000.000000     1000.000000   \n",
       "\n",
       "       number_of_reviews  reviews_per_month  calculated_host_listings_count  \\\n",
       "count        7907.000000        5149.000000                     7907.000000   \n",
       "mean           12.807386           1.043669                       40.607689   \n",
       "std            29.707746           1.285851                       65.135253   \n",
       "min             0.000000           0.010000                        1.000000   \n",
       "25%             0.000000           0.180000                        2.000000   \n",
       "50%             2.000000           0.550000                        9.000000   \n",
       "75%            10.000000           1.370000                       48.000000   \n",
       "max           323.000000          13.000000                      274.000000   \n",
       "\n",
       "       availability_365  \n",
       "count       7907.000000  \n",
       "mean         208.726318  \n",
       "std          146.120034  \n",
       "min            0.000000  \n",
       "25%           54.000000  \n",
       "50%          260.000000  \n",
       "75%          355.000000  \n",
       "max          365.000000  "
      ]
     },
     "execution_count": 5,
     "metadata": {},
     "output_type": "execute_result"
    }
   ],
   "source": [
    "dataset.drop(['id','name','host_name','host_id','last_review'],axis=1,inplace=True)\n",
    "dataset.describe()"
   ]
  },
  {
   "cell_type": "code",
   "execution_count": 6,
   "id": "8d51457d",
   "metadata": {
    "execution": {
     "iopub.execute_input": "2022-03-30T20:01:41.099621Z",
     "iopub.status.busy": "2022-03-30T20:01:41.098969Z",
     "iopub.status.idle": "2022-03-30T20:01:41.438427Z",
     "shell.execute_reply": "2022-03-30T20:01:41.438918Z",
     "shell.execute_reply.started": "2022-03-30T19:59:05.887126Z"
    },
    "papermill": {
     "duration": 0.370034,
     "end_time": "2022-03-30T20:01:41.439100",
     "exception": false,
     "start_time": "2022-03-30T20:01:41.069066",
     "status": "completed"
    },
    "tags": []
   },
   "outputs": [
    {
     "data": {
      "text/plain": [
       "<AxesSubplot:>"
      ]
     },
     "execution_count": 6,
     "metadata": {},
     "output_type": "execute_result"
    },
    {
     "data": {
      "image/png": "[encoded data removed]",
      "text/plain": [
       "<Figure size 432x288 with 2 Axes>"
      ]
     },
     "metadata": {
      "needs_background": "light"
     },
     "output_type": "display_data"
    }
   ],
   "source": [
    "correlation_matrix=dataset.corr()\n",
    "sns.heatmap(correlation_matrix)"
   ]
  },
  {
   "cell_type": "code",
   "execution_count": 7,
   "id": "cb95e24c",
   "metadata": {
    "execution": {
     "iopub.execute_input": "2022-03-30T20:01:41.500386Z",
     "iopub.status.busy": "2022-03-30T20:01:41.499705Z",
     "iopub.status.idle": "2022-03-30T20:01:41.506216Z",
     "shell.execute_reply": "2022-03-30T20:01:41.506802Z",
     "shell.execute_reply.started": "2022-03-30T19:59:06.143361Z"
    },
    "papermill": {
     "duration": 0.03914,
     "end_time": "2022-03-30T20:01:41.506974",
     "exception": false,
     "start_time": "2022-03-30T20:01:41.467834",
     "status": "completed"
    },
    "tags": []
   },
   "outputs": [
    {
     "data": {
      "text/plain": [
       "(7907, 10)"
      ]
     },
     "execution_count": 7,
     "metadata": {},
     "output_type": "execute_result"
    }
   ],
   "source": [
    "dataset.drop(['reviews_per_month'],axis=1,inplace=True)\n",
    "dataset.shape"
   ]
  },
  {
   "cell_type": "code",
   "execution_count": 8,
   "id": "65a3a7b2",
   "metadata": {
    "execution": {
     "iopub.execute_input": "2022-03-30T20:01:41.569058Z",
     "iopub.status.busy": "2022-03-30T20:01:41.568356Z",
     "iopub.status.idle": "2022-03-30T20:01:41.578387Z",
     "shell.execute_reply": "2022-03-30T20:01:41.578930Z",
     "shell.execute_reply.started": "2022-03-30T19:59:06.152823Z"
    },
    "papermill": {
     "duration": 0.042935,
     "end_time": "2022-03-30T20:01:41.579111",
     "exception": false,
     "start_time": "2022-03-30T20:01:41.536176",
     "status": "completed"
    },
    "tags": []
   },
   "outputs": [
    {
     "data": {
      "text/plain": [
       "neighbourhood_group               0\n",
       "neighbourhood                     0\n",
       "latitude                          0\n",
       "longitude                         0\n",
       "room_type                         0\n",
       "price                             0\n",
       "minimum_nights                    0\n",
       "number_of_reviews                 0\n",
       "calculated_host_listings_count    0\n",
       "availability_365                  0\n",
       "dtype: int64"
      ]
     },
     "execution_count": 8,
     "metadata": {},
     "output_type": "execute_result"
    }
   ],
   "source": [
    "dataset.isnull().sum()"
   ]
  },
  {
   "cell_type": "code",
   "execution_count": 9,
   "id": "41c5e59a",
   "metadata": {
    "execution": {
     "iopub.execute_input": "2022-03-30T20:01:41.644259Z",
     "iopub.status.busy": "2022-03-30T20:01:41.643526Z",
     "iopub.status.idle": "2022-03-30T20:01:42.518212Z",
     "shell.execute_reply": "2022-03-30T20:01:42.518738Z",
     "shell.execute_reply.started": "2022-03-30T19:59:12.639778Z"
    },
    "papermill": {
     "duration": 0.90953,
     "end_time": "2022-03-30T20:01:42.518904",
     "exception": false,
     "start_time": "2022-03-30T20:01:41.609374",
     "status": "completed"
    },
    "tags": []
   },
   "outputs": [
    {
     "data": {
      "image/png": "[encoded data removed]",
      "text/plain": [
       "<Figure size 720x648 with 7 Axes>"
      ]
     },
     "metadata": {
      "needs_background": "light"
     },
     "output_type": "display_data"
    }
   ],
   "source": [
    "names=['latitude','longitude','price','minimum_nights','number_of_reviews','calculated_host_listings_count','availability_365']\n",
    "plt.figure(figsize=(10,9))\n",
    "for i in range(1,8):\n",
    "    \n",
    "    plt.subplot(2,4,i)\n",
    "    fig=dataset.boxplot(column=names[i-1])"
   ]
  },
  {
   "cell_type": "code",
   "execution_count": 10,
   "id": "1ab14804",
   "metadata": {
    "execution": {
     "iopub.execute_input": "2022-03-30T20:01:42.607310Z",
     "iopub.status.busy": "2022-03-30T20:01:42.606602Z",
     "iopub.status.idle": "2022-03-30T20:01:44.737085Z",
     "shell.execute_reply": "2022-03-30T20:01:44.736535Z",
     "shell.execute_reply.started": "2022-03-30T19:59:15.474556Z"
    },
    "papermill": {
     "duration": 2.186826,
     "end_time": "2022-03-30T20:01:44.737223",
     "exception": false,
     "start_time": "2022-03-30T20:01:42.550397",
     "status": "completed"
    },
    "tags": []
   },
   "outputs": [
    {
     "name": "stderr",
     "output_type": "stream",
     "text": [
      "/opt/conda/lib/python3.7/site-packages/seaborn/distributions.py:2619: FutureWarning: `distplot` is a deprecated function and will be removed in a future version. Please adapt your code to use either `displot` (a figure-level function with similar flexibility) or `histplot` (an axes-level function for histograms).\n",
      "  warnings.warn(msg, FutureWarning)\n",
      "/opt/conda/lib/python3.7/site-packages/seaborn/distributions.py:2619: FutureWarning: `distplot` is a deprecated function and will be removed in a future version. Please adapt your code to use either `displot` (a figure-level function with similar flexibility) or `histplot` (an axes-level function for histograms).\n",
      "  warnings.warn(msg, FutureWarning)\n",
      "/opt/conda/lib/python3.7/site-packages/seaborn/distributions.py:2619: FutureWarning: `distplot` is a deprecated function and will be removed in a future version. Please adapt your code to use either `displot` (a figure-level function with similar flexibility) or `histplot` (an axes-level function for histograms).\n",
      "  warnings.warn(msg, FutureWarning)\n",
      "/opt/conda/lib/python3.7/site-packages/seaborn/distributions.py:2619: FutureWarning: `distplot` is a deprecated function and will be removed in a future version. Please adapt your code to use either `displot` (a figure-level function with similar flexibility) or `histplot` (an axes-level function for histograms).\n",
      "  warnings.warn(msg, FutureWarning)\n",
      "/opt/conda/lib/python3.7/site-packages/seaborn/distributions.py:2619: FutureWarning: `distplot` is a deprecated function and will be removed in a future version. Please adapt your code to use either `displot` (a figure-level function with similar flexibility) or `histplot` (an axes-level function for histograms).\n",
      "  warnings.warn(msg, FutureWarning)\n",
      "/opt/conda/lib/python3.7/site-packages/seaborn/distributions.py:2619: FutureWarning: `distplot` is a deprecated function and will be removed in a future version. Please adapt your code to use either `displot` (a figure-level function with similar flexibility) or `histplot` (an axes-level function for histograms).\n",
      "  warnings.warn(msg, FutureWarning)\n",
      "/opt/conda/lib/python3.7/site-packages/seaborn/distributions.py:2619: FutureWarning: `distplot` is a deprecated function and will be removed in a future version. Please adapt your code to use either `displot` (a figure-level function with similar flexibility) or `histplot` (an axes-level function for histograms).\n",
      "  warnings.warn(msg, FutureWarning)\n"
     ]
    },
    {
     "data": {
      "image/png": "[encoded data removed]",
      "text/plain": [
       "<Figure size 864x720 with 7 Axes>"
      ]
     },
     "metadata": {
      "needs_background": "light"
     },
     "output_type": "display_data"
    }
   ],
   "source": [
    "plt.figure(figsize=(12,10))\n",
    "for j in range(1,8):\n",
    "    plt.subplot(2,4,j)\n",
    "    sns.distplot(dataset[names[j-1]])"
   ]
  },
  {
   "cell_type": "code",
   "execution_count": 11,
   "id": "494d513c",
   "metadata": {
    "execution": {
     "iopub.execute_input": "2022-03-30T20:01:44.815762Z",
     "iopub.status.busy": "2022-03-30T20:01:44.815089Z",
     "iopub.status.idle": "2022-03-30T20:01:44.824504Z",
     "shell.execute_reply": "2022-03-30T20:01:44.824947Z",
     "shell.execute_reply.started": "2022-03-30T19:59:21.094000Z"
    },
    "papermill": {
     "duration": 0.051348,
     "end_time": "2022-03-30T20:01:44.825137",
     "exception": false,
     "start_time": "2022-03-30T20:01:44.773789",
     "status": "completed"
    },
    "tags": []
   },
   "outputs": [
    {
     "data": {
      "text/plain": [
       "176"
      ]
     },
     "execution_count": 11,
     "metadata": {},
     "output_type": "execute_result"
    }
   ],
   "source": [
    "std=np.std(dataset['latitude'])\n",
    "mean=np.mean(dataset['latitude'])\n",
    "median=np.median(dataset['latitude'])\n",
    "outliers=[]\n",
    "for x in dataset['latitude']:\n",
    "    zscore=(x-mean)/std\n",
    "    if zscore>abs(3):\n",
    "        outliers.append(x)\n",
    "len(outliers)"
   ]
  },
  {
   "cell_type": "code",
   "execution_count": 12,
   "id": "df05d0dd",
   "metadata": {
    "execution": {
     "iopub.execute_input": "2022-03-30T20:01:44.899182Z",
     "iopub.status.busy": "2022-03-30T20:01:44.898554Z",
     "iopub.status.idle": "2022-03-30T20:01:45.756346Z",
     "shell.execute_reply": "2022-03-30T20:01:45.756833Z",
     "shell.execute_reply.started": "2022-03-30T19:59:22.663657Z"
    },
    "papermill": {
     "duration": 0.896406,
     "end_time": "2022-03-30T20:01:45.756998",
     "exception": false,
     "start_time": "2022-03-30T20:01:44.860592",
     "status": "completed"
    },
    "tags": []
   },
   "outputs": [
    {
     "name": "stderr",
     "output_type": "stream",
     "text": [
      "/opt/conda/lib/python3.7/site-packages/seaborn/distributions.py:2619: FutureWarning: `distplot` is a deprecated function and will be removed in a future version. Please adapt your code to use either `displot` (a figure-level function with similar flexibility) or `histplot` (an axes-level function for histograms).\n",
      "  warnings.warn(msg, FutureWarning)\n",
      "/opt/conda/lib/python3.7/site-packages/seaborn/distributions.py:2619: FutureWarning: `distplot` is a deprecated function and will be removed in a future version. Please adapt your code to use either `displot` (a figure-level function with similar flexibility) or `histplot` (an axes-level function for histograms).\n",
      "  warnings.warn(msg, FutureWarning)\n"
     ]
    },
    {
     "data": {
      "text/plain": [
       "Text(0.5, 1.0, 'after removing outliers')"
      ]
     },
     "execution_count": 12,
     "metadata": {},
     "output_type": "execute_result"
    },
    {
     "data": {
      "image/png": "[encoded data removed]",
      "text/plain": [
       "<Figure size 504x360 with 2 Axes>"
      ]
     },
     "metadata": {
      "needs_background": "light"
     },
     "output_type": "display_data"
    }
   ],
   "source": [
    "dataset_new=dataset.replace(outliers,median)\n",
    "plt.figure(figsize=(7,5))\n",
    "plt.subplot(1,2,1)\n",
    "fig=sns.distplot(dataset['latitude'])\n",
    "plt.title('before removing outliers')\n",
    "plt.subplot(1,2,2)\n",
    "fig2=sns.distplot(dataset_new['latitude'])\n",
    "plt.title('after removing outliers')"
   ]
  },
  {
   "cell_type": "code",
   "execution_count": 13,
   "id": "c2c292b8",
   "metadata": {
    "execution": {
     "iopub.execute_input": "2022-03-30T20:01:45.839853Z",
     "iopub.status.busy": "2022-03-30T20:01:45.839181Z",
     "iopub.status.idle": "2022-03-30T20:01:45.847989Z",
     "shell.execute_reply": "2022-03-30T20:01:45.848482Z",
     "shell.execute_reply.started": "2022-03-30T19:59:26.098584Z"
    },
    "papermill": {
     "duration": 0.053287,
     "end_time": "2022-03-30T20:01:45.848653",
     "exception": false,
     "start_time": "2022-03-30T20:01:45.795366",
     "status": "completed"
    },
    "tags": []
   },
   "outputs": [
    {
     "data": {
      "text/plain": [
       "0"
      ]
     },
     "execution_count": 13,
     "metadata": {},
     "output_type": "execute_result"
    }
   ],
   "source": [
    "std=np.std(dataset['longitude'])\n",
    "mean=np.mean(dataset['longitude'])\n",
    "median=np.median(dataset['longitude'])\n",
    "outliers=[]\n",
    "for x in dataset['longitude']:\n",
    "    zscore=(x-mean)/std\n",
    "    if -3<zscore>3:\n",
    "        outliers.append(x)\n",
    "len(outliers)"
   ]
  },
  {
   "cell_type": "code",
   "execution_count": 14,
   "id": "8e2eda7b",
   "metadata": {
    "execution": {
     "iopub.execute_input": "2022-03-30T20:01:45.927480Z",
     "iopub.status.busy": "2022-03-30T20:01:45.926850Z",
     "iopub.status.idle": "2022-03-30T20:01:45.946151Z",
     "shell.execute_reply": "2022-03-30T20:01:45.946825Z",
     "shell.execute_reply.started": "2022-03-30T19:59:27.047648Z"
    },
    "papermill": {
     "duration": 0.060248,
     "end_time": "2022-03-30T20:01:45.947043",
     "exception": false,
     "start_time": "2022-03-30T20:01:45.886795",
     "status": "completed"
    },
    "tags": []
   },
   "outputs": [
    {
     "data": {
      "text/plain": [
       "1407"
      ]
     },
     "execution_count": 14,
     "metadata": {},
     "output_type": "execute_result"
    }
   ],
   "source": [
    "q1=dataset['minimum_nights'].quantile(0.25)\n",
    "q3=dataset['minimum_nights'].quantile(0.75)\n",
    "outlier=[]\n",
    "iqr=q3-q1\n",
    "lower_bound=q1-(1.5*iqr)\n",
    "upper_bound=q3+(1.5*iqr)\n",
    "for i in dataset['minimum_nights']:\n",
    "    if i<lower_bound or i>upper_bound:\n",
    "            outlier.append(i)        \n",
    "len(outlier)"
   ]
  },
  {
   "cell_type": "code",
   "execution_count": 15,
   "id": "fdcfac21",
   "metadata": {
    "execution": {
     "iopub.execute_input": "2022-03-30T20:01:46.027542Z",
     "iopub.status.busy": "2022-03-30T20:01:46.026834Z",
     "iopub.status.idle": "2022-03-30T20:01:46.843560Z",
     "shell.execute_reply": "2022-03-30T20:01:46.842667Z",
     "shell.execute_reply.started": "2022-03-30T19:59:06.598603Z"
    },
    "papermill": {
     "duration": 0.857719,
     "end_time": "2022-03-30T20:01:46.843724",
     "exception": false,
     "start_time": "2022-03-30T20:01:45.986005",
     "status": "completed"
    },
    "tags": []
   },
   "outputs": [
    {
     "name": "stderr",
     "output_type": "stream",
     "text": [
      "/opt/conda/lib/python3.7/site-packages/seaborn/_decorators.py:43: FutureWarning: Pass the following variable as a keyword arg: x. From version 0.12, the only valid positional argument will be `data`, and passing other arguments without an explicit keyword will result in an error or misinterpretation.\n",
      "  FutureWarning\n"
     ]
    },
    {
     "data": {
      "text/plain": [
       "<AxesSubplot:ylabel='count'>"
      ]
     },
     "execution_count": 15,
     "metadata": {},
     "output_type": "execute_result"
    },
    {
     "data": {
      "image/png": "[encoded data removed]",
      "text/plain": [
       "<Figure size 1440x576 with 1 Axes>"
      ]
     },
     "metadata": {
      "needs_background": "light"
     },
     "output_type": "display_data"
    }
   ],
   "source": [
    "plt.figure(figsize=(20,8))\n",
    "sns.countplot(outlier)"
   ]
  },
  {
   "cell_type": "code",
   "execution_count": 16,
   "id": "7a0fd7f7",
   "metadata": {
    "execution": {
     "iopub.execute_input": "2022-03-30T20:01:46.930092Z",
     "iopub.status.busy": "2022-03-30T20:01:46.929410Z",
     "iopub.status.idle": "2022-03-30T20:01:47.197183Z",
     "shell.execute_reply": "2022-03-30T20:01:47.196601Z",
     "shell.execute_reply.started": "2022-03-30T19:59:28.475509Z"
    },
    "papermill": {
     "duration": 0.313955,
     "end_time": "2022-03-30T20:01:47.197341",
     "exception": false,
     "start_time": "2022-03-30T20:01:46.883386",
     "status": "completed"
    },
    "tags": []
   },
   "outputs": [
    {
     "name": "stderr",
     "output_type": "stream",
     "text": [
      "/opt/conda/lib/python3.7/site-packages/seaborn/_decorators.py:43: FutureWarning: Pass the following variable as a keyword arg: x. From version 0.12, the only valid positional argument will be `data`, and passing other arguments without an explicit keyword will result in an error or misinterpretation.\n",
      "  FutureWarning\n",
      "/opt/conda/lib/python3.7/site-packages/seaborn/_decorators.py:43: FutureWarning: Pass the following variable as a keyword arg: x. From version 0.12, the only valid positional argument will be `data`, and passing other arguments without an explicit keyword will result in an error or misinterpretation.\n",
      "  FutureWarning\n"
     ]
    },
    {
     "data": {
      "text/plain": [
       "Text(0.5, 1.0, 'after removing outliers')"
      ]
     },
     "execution_count": 16,
     "metadata": {},
     "output_type": "execute_result"
    },
    {
     "data": {
      "image/png": "[encoded data removed]",
      "text/plain": [
       "<Figure size 504x360 with 2 Axes>"
      ]
     },
     "metadata": {
      "needs_background": "light"
     },
     "output_type": "display_data"
    }
   ],
   "source": [
    "dataset_new=dataset[dataset['minimum_nights']<=365]\n",
    "plt.figure(figsize=(7,5))\n",
    "plt.subplot(1,2,1)\n",
    "sns.boxplot(dataset['minimum_nights'])\n",
    "plt.title('before removing outliers')\n",
    "plt.subplot(1,2,2)\n",
    "sns.boxplot(dataset_new['minimum_nights'])\n",
    "plt.title('after removing outliers')"
   ]
  },
  {
   "cell_type": "code",
   "execution_count": 17,
   "id": "54fefeda",
   "metadata": {
    "execution": {
     "iopub.execute_input": "2022-03-30T20:01:47.289337Z",
     "iopub.status.busy": "2022-03-30T20:01:47.287814Z",
     "iopub.status.idle": "2022-03-30T20:01:47.303613Z",
     "shell.execute_reply": "2022-03-30T20:01:47.304212Z",
     "shell.execute_reply.started": "2022-03-30T19:59:30.631606Z"
    },
    "papermill": {
     "duration": 0.065324,
     "end_time": "2022-03-30T20:01:47.304379",
     "exception": false,
     "start_time": "2022-03-30T20:01:47.239055",
     "status": "completed"
    },
    "tags": []
   },
   "outputs": [
    {
     "data": {
      "text/plain": [
       "775"
      ]
     },
     "execution_count": 17,
     "metadata": {},
     "output_type": "execute_result"
    }
   ],
   "source": [
    "q1=dataset['calculated_host_listings_count'].quantile(0.25)\n",
    "q3=dataset['calculated_host_listings_count'].quantile(0.75)\n",
    "outlier=[]\n",
    "iqr=q3-q1\n",
    "lower_bound=q1-(1.5*iqr)\n",
    "upper_bound=q3+(1.5*iqr)\n",
    "for i in dataset['calculated_host_listings_count']:\n",
    "    if i<lower_bound or i>upper_bound:\n",
    "            outlier.append(i)        \n",
    "len(outlier)"
   ]
  },
  {
   "cell_type": "code",
   "execution_count": 18,
   "id": "fc00bc6c",
   "metadata": {
    "execution": {
     "iopub.execute_input": "2022-03-30T20:01:47.390882Z",
     "iopub.status.busy": "2022-03-30T20:01:47.390281Z",
     "iopub.status.idle": "2022-03-30T20:01:47.577780Z",
     "shell.execute_reply": "2022-03-30T20:01:47.577173Z",
     "shell.execute_reply.started": "2022-03-30T19:59:31.829305Z"
    },
    "papermill": {
     "duration": 0.231759,
     "end_time": "2022-03-30T20:01:47.577912",
     "exception": false,
     "start_time": "2022-03-30T20:01:47.346153",
     "status": "completed"
    },
    "tags": []
   },
   "outputs": [
    {
     "name": "stderr",
     "output_type": "stream",
     "text": [
      "/opt/conda/lib/python3.7/site-packages/seaborn/_decorators.py:43: FutureWarning: Pass the following variable as a keyword arg: x. From version 0.12, the only valid positional argument will be `data`, and passing other arguments without an explicit keyword will result in an error or misinterpretation.\n",
      "  FutureWarning\n"
     ]
    },
    {
     "data": {
      "text/plain": [
       "<AxesSubplot:ylabel='count'>"
      ]
     },
     "execution_count": 18,
     "metadata": {},
     "output_type": "execute_result"
    },
    {
     "data": {
      "image/png": "[encoded data removed]",
      "text/plain": [
       "<Figure size 432x288 with 1 Axes>"
      ]
     },
     "metadata": {
      "needs_background": "light"
     },
     "output_type": "display_data"
    }
   ],
   "source": [
    "sns.countplot(outlier)"
   ]
  },
  {
   "cell_type": "code",
   "execution_count": 19,
   "id": "0142e32b",
   "metadata": {
    "execution": {
     "iopub.execute_input": "2022-03-30T20:01:47.671584Z",
     "iopub.status.busy": "2022-03-30T20:01:47.670824Z",
     "iopub.status.idle": "2022-03-30T20:01:47.673967Z",
     "shell.execute_reply": "2022-03-30T20:01:47.674509Z",
     "shell.execute_reply.started": "2022-03-30T19:59:33.891361Z"
    },
    "papermill": {
     "duration": 0.053529,
     "end_time": "2022-03-30T20:01:47.674675",
     "exception": false,
     "start_time": "2022-03-30T20:01:47.621146",
     "status": "completed"
    },
    "tags": []
   },
   "outputs": [
    {
     "data": {
      "text/plain": [
       "3"
      ]
     },
     "execution_count": 19,
     "metadata": {},
     "output_type": "execute_result"
    }
   ],
   "source": [
    "dataset_new[\"room_type\"].nunique()"
   ]
  },
  {
   "cell_type": "code",
   "execution_count": 20,
   "id": "df114812",
   "metadata": {
    "execution": {
     "iopub.execute_input": "2022-03-30T20:01:47.767050Z",
     "iopub.status.busy": "2022-03-30T20:01:47.766379Z",
     "iopub.status.idle": "2022-03-30T20:01:47.774006Z",
     "shell.execute_reply": "2022-03-30T20:01:47.774508Z",
     "shell.execute_reply.started": "2022-03-30T19:59:35.437117Z"
    },
    "papermill": {
     "duration": 0.056215,
     "end_time": "2022-03-30T20:01:47.774671",
     "exception": false,
     "start_time": "2022-03-30T20:01:47.718456",
     "status": "completed"
    },
    "tags": []
   },
   "outputs": [
    {
     "name": "stderr",
     "output_type": "stream",
     "text": [
      "/opt/conda/lib/python3.7/site-packages/ipykernel_launcher.py:2: SettingWithCopyWarning: \n",
      "A value is trying to be set on a copy of a slice from a DataFrame.\n",
      "Try using .loc[row_indexer,col_indexer] = value instead\n",
      "\n",
      "See the caveats in the documentation: https://pandas.pydata.org/pandas-docs/stable/user_guide/indexing.html#returning-a-view-versus-a-copy\n",
      "  \n"
     ]
    }
   ],
   "source": [
    "mappings={'Entire home/apt':1,'Private room':2,'Shared room':3}\n",
    "dataset_new['room_type']=dataset_new['room_type'].map(mappings)"
   ]
  },
  {
   "cell_type": "code",
   "execution_count": 21,
   "id": "903b570b",
   "metadata": {
    "execution": {
     "iopub.execute_input": "2022-03-30T20:01:47.876507Z",
     "iopub.status.busy": "2022-03-30T20:01:47.875817Z",
     "iopub.status.idle": "2022-03-30T20:01:47.879756Z",
     "shell.execute_reply": "2022-03-30T20:01:47.879232Z",
     "shell.execute_reply.started": "2022-03-30T19:59:41.328325Z"
    },
    "papermill": {
     "duration": 0.061261,
     "end_time": "2022-03-30T20:01:47.879896",
     "exception": false,
     "start_time": "2022-03-30T20:01:47.818635",
     "status": "completed"
    },
    "tags": []
   },
   "outputs": [
    {
     "data": {
      "text/html": [
       "<div>\n",
       "<style scoped>\n",
       "    .dataframe tbody tr th:only-of-type {\n",
       "        vertical-align: middle;\n",
       "    }\n",
       "\n",
       "    .dataframe tbody tr th {\n",
       "        vertical-align: top;\n",
       "    }\n",
       "\n",
       "    .dataframe thead th {\n",
       "        text-align: right;\n",
       "    }\n",
       "</style>\n",
       "<table border=\"1\" class=\"dataframe\">\n",
       "  <thead>\n",
       "    <tr style=\"text-align: right;\">\n",
       "      <th></th>\n",
       "      <th>neighbourhood_group</th>\n",
       "      <th>neighbourhood</th>\n",
       "      <th>latitude</th>\n",
       "      <th>longitude</th>\n",
       "      <th>room_type</th>\n",
       "      <th>price</th>\n",
       "      <th>minimum_nights</th>\n",
       "      <th>number_of_reviews</th>\n",
       "      <th>calculated_host_listings_count</th>\n",
       "      <th>availability_365</th>\n",
       "    </tr>\n",
       "  </thead>\n",
       "  <tbody>\n",
       "    <tr>\n",
       "      <th>0</th>\n",
       "      <td>North Region</td>\n",
       "      <td>Woodlands</td>\n",
       "      <td>1.44255</td>\n",
       "      <td>103.79580</td>\n",
       "      <td>2</td>\n",
       "      <td>83</td>\n",
       "      <td>180</td>\n",
       "      <td>1</td>\n",
       "      <td>2</td>\n",
       "      <td>365</td>\n",
       "    </tr>\n",
       "    <tr>\n",
       "      <th>1</th>\n",
       "      <td>Central Region</td>\n",
       "      <td>Bukit Timah</td>\n",
       "      <td>1.33235</td>\n",
       "      <td>103.78521</td>\n",
       "      <td>2</td>\n",
       "      <td>81</td>\n",
       "      <td>90</td>\n",
       "      <td>18</td>\n",
       "      <td>1</td>\n",
       "      <td>365</td>\n",
       "    </tr>\n",
       "    <tr>\n",
       "      <th>2</th>\n",
       "      <td>North Region</td>\n",
       "      <td>Woodlands</td>\n",
       "      <td>1.44246</td>\n",
       "      <td>103.79667</td>\n",
       "      <td>2</td>\n",
       "      <td>69</td>\n",
       "      <td>6</td>\n",
       "      <td>20</td>\n",
       "      <td>2</td>\n",
       "      <td>365</td>\n",
       "    </tr>\n",
       "    <tr>\n",
       "      <th>3</th>\n",
       "      <td>East Region</td>\n",
       "      <td>Tampines</td>\n",
       "      <td>1.34541</td>\n",
       "      <td>103.95712</td>\n",
       "      <td>2</td>\n",
       "      <td>206</td>\n",
       "      <td>1</td>\n",
       "      <td>14</td>\n",
       "      <td>9</td>\n",
       "      <td>353</td>\n",
       "    </tr>\n",
       "    <tr>\n",
       "      <th>4</th>\n",
       "      <td>East Region</td>\n",
       "      <td>Tampines</td>\n",
       "      <td>1.34567</td>\n",
       "      <td>103.95963</td>\n",
       "      <td>2</td>\n",
       "      <td>94</td>\n",
       "      <td>1</td>\n",
       "      <td>22</td>\n",
       "      <td>9</td>\n",
       "      <td>355</td>\n",
       "    </tr>\n",
       "  </tbody>\n",
       "</table>\n",
       "</div>"
      ],
      "text/plain": [
       "  neighbourhood_group neighbourhood  latitude  longitude  room_type  price  \\\n",
       "0        North Region     Woodlands   1.44255  103.79580          2     83   \n",
       "1      Central Region   Bukit Timah   1.33235  103.78521          2     81   \n",
       "2        North Region     Woodlands   1.44246  103.79667          2     69   \n",
       "3         East Region      Tampines   1.34541  103.95712          2    206   \n",
       "4         East Region      Tampines   1.34567  103.95963          2     94   \n",
       "\n",
       "   minimum_nights  number_of_reviews  calculated_host_listings_count  \\\n",
       "0             180                  1                               2   \n",
       "1              90                 18                               1   \n",
       "2               6                 20                               2   \n",
       "3               1                 14                               9   \n",
       "4               1                 22                               9   \n",
       "\n",
       "   availability_365  \n",
       "0               365  \n",
       "1               365  \n",
       "2               365  \n",
       "3               353  \n",
       "4               355  "
      ]
     },
     "execution_count": 21,
     "metadata": {},
     "output_type": "execute_result"
    }
   ],
   "source": [
    "dataset_new.head()"
   ]
  },
  {
   "cell_type": "code",
   "execution_count": 22,
   "id": "de62ceaf",
   "metadata": {
    "execution": {
     "iopub.execute_input": "2022-03-30T20:01:47.976167Z",
     "iopub.status.busy": "2022-03-30T20:01:47.975082Z",
     "iopub.status.idle": "2022-03-30T20:01:47.980405Z",
     "shell.execute_reply": "2022-03-30T20:01:47.979763Z",
     "shell.execute_reply.started": "2022-03-30T19:59:43.451081Z"
    },
    "papermill": {
     "duration": 0.05524,
     "end_time": "2022-03-30T20:01:47.980543",
     "exception": false,
     "start_time": "2022-03-30T20:01:47.925303",
     "status": "completed"
    },
    "tags": []
   },
   "outputs": [
    {
     "data": {
      "text/plain": [
       "array(['Woodlands', 'Bukit Timah', 'Tampines', 'Bedok', 'Bukit Merah',\n",
       "       'Newton', 'Geylang', 'River Valley', 'Jurong West', 'Rochor',\n",
       "       'Queenstown', 'Serangoon', 'Marine Parade', 'Pasir Ris',\n",
       "       'Toa Payoh', 'Outram', 'Punggol', 'Tanglin', 'Hougang', 'Kallang',\n",
       "       'Novena', 'Downtown Core', 'Bukit Panjang', 'Singapore River',\n",
       "       'Orchard', 'Ang Mo Kio', 'Bukit Batok', 'Museum', 'Sembawang',\n",
       "       'Choa Chu Kang', 'Central Water Catchment', 'Sengkang', 'Clementi',\n",
       "       'Jurong East', 'Bishan', 'Yishun', 'Mandai', 'Southern Islands',\n",
       "       'Sungei Kadut', 'Western Water Catchment', 'Tuas', 'Marina South',\n",
       "       'Lim Chu Kang'], dtype=object)"
      ]
     },
     "execution_count": 22,
     "metadata": {},
     "output_type": "execute_result"
    }
   ],
   "source": [
    "dataset_new['neighbourhood'].unique()"
   ]
  },
  {
   "cell_type": "code",
   "execution_count": 23,
   "id": "d28fefb7",
   "metadata": {
    "execution": {
     "iopub.execute_input": "2022-03-30T20:01:48.079443Z",
     "iopub.status.busy": "2022-03-30T20:01:48.078738Z",
     "iopub.status.idle": "2022-03-30T20:01:48.082733Z",
     "shell.execute_reply": "2022-03-30T20:01:48.082158Z",
     "shell.execute_reply.started": "2022-03-30T19:59:45.258740Z"
    },
    "papermill": {
     "duration": 0.055555,
     "end_time": "2022-03-30T20:01:48.082869",
     "exception": false,
     "start_time": "2022-03-30T20:01:48.027314",
     "status": "completed"
    },
    "tags": []
   },
   "outputs": [
    {
     "data": {
      "text/plain": [
       "43"
      ]
     },
     "execution_count": 23,
     "metadata": {},
     "output_type": "execute_result"
    }
   ],
   "source": [
    "len(dataset_new['neighbourhood'].unique())"
   ]
  },
  {
   "cell_type": "code",
   "execution_count": 24,
   "id": "27a398ff",
   "metadata": {
    "execution": {
     "iopub.execute_input": "2022-03-30T20:01:48.180579Z",
     "iopub.status.busy": "2022-03-30T20:01:48.179859Z",
     "iopub.status.idle": "2022-03-30T20:01:48.428741Z",
     "shell.execute_reply": "2022-03-30T20:01:48.428256Z",
     "shell.execute_reply.started": "2022-03-30T19:59:47.559797Z"
    },
    "papermill": {
     "duration": 0.300047,
     "end_time": "2022-03-30T20:01:48.428877",
     "exception": false,
     "start_time": "2022-03-30T20:01:48.128830",
     "status": "completed"
    },
    "tags": []
   },
   "outputs": [
    {
     "data": {
      "text/html": [
       "<div>\n",
       "<style scoped>\n",
       "    .dataframe tbody tr th:only-of-type {\n",
       "        vertical-align: middle;\n",
       "    }\n",
       "\n",
       "    .dataframe tbody tr th {\n",
       "        vertical-align: top;\n",
       "    }\n",
       "\n",
       "    .dataframe thead th {\n",
       "        text-align: right;\n",
       "    }\n",
       "</style>\n",
       "<table border=\"1\" class=\"dataframe\">\n",
       "  <thead>\n",
       "    <tr style=\"text-align: right;\">\n",
       "      <th></th>\n",
       "      <th>neighbourhood_group</th>\n",
       "      <th>neighbourhood_0</th>\n",
       "      <th>neighbourhood_1</th>\n",
       "      <th>neighbourhood_2</th>\n",
       "      <th>neighbourhood_3</th>\n",
       "      <th>neighbourhood_4</th>\n",
       "      <th>neighbourhood_5</th>\n",
       "      <th>latitude</th>\n",
       "      <th>longitude</th>\n",
       "      <th>room_type</th>\n",
       "      <th>price</th>\n",
       "      <th>minimum_nights</th>\n",
       "      <th>number_of_reviews</th>\n",
       "      <th>calculated_host_listings_count</th>\n",
       "      <th>availability_365</th>\n",
       "    </tr>\n",
       "  </thead>\n",
       "  <tbody>\n",
       "    <tr>\n",
       "      <th>0</th>\n",
       "      <td>North Region</td>\n",
       "      <td>0</td>\n",
       "      <td>0</td>\n",
       "      <td>0</td>\n",
       "      <td>0</td>\n",
       "      <td>0</td>\n",
       "      <td>1</td>\n",
       "      <td>1.44255</td>\n",
       "      <td>103.79580</td>\n",
       "      <td>2</td>\n",
       "      <td>83</td>\n",
       "      <td>180</td>\n",
       "      <td>1</td>\n",
       "      <td>2</td>\n",
       "      <td>365</td>\n",
       "    </tr>\n",
       "    <tr>\n",
       "      <th>1</th>\n",
       "      <td>Central Region</td>\n",
       "      <td>0</td>\n",
       "      <td>0</td>\n",
       "      <td>0</td>\n",
       "      <td>0</td>\n",
       "      <td>1</td>\n",
       "      <td>0</td>\n",
       "      <td>1.33235</td>\n",
       "      <td>103.78521</td>\n",
       "      <td>2</td>\n",
       "      <td>81</td>\n",
       "      <td>90</td>\n",
       "      <td>18</td>\n",
       "      <td>1</td>\n",
       "      <td>365</td>\n",
       "    </tr>\n",
       "    <tr>\n",
       "      <th>2</th>\n",
       "      <td>North Region</td>\n",
       "      <td>0</td>\n",
       "      <td>0</td>\n",
       "      <td>0</td>\n",
       "      <td>0</td>\n",
       "      <td>0</td>\n",
       "      <td>1</td>\n",
       "      <td>1.44246</td>\n",
       "      <td>103.79667</td>\n",
       "      <td>2</td>\n",
       "      <td>69</td>\n",
       "      <td>6</td>\n",
       "      <td>20</td>\n",
       "      <td>2</td>\n",
       "      <td>365</td>\n",
       "    </tr>\n",
       "    <tr>\n",
       "      <th>3</th>\n",
       "      <td>East Region</td>\n",
       "      <td>0</td>\n",
       "      <td>0</td>\n",
       "      <td>0</td>\n",
       "      <td>0</td>\n",
       "      <td>1</td>\n",
       "      <td>1</td>\n",
       "      <td>1.34541</td>\n",
       "      <td>103.95712</td>\n",
       "      <td>2</td>\n",
       "      <td>206</td>\n",
       "      <td>1</td>\n",
       "      <td>14</td>\n",
       "      <td>9</td>\n",
       "      <td>353</td>\n",
       "    </tr>\n",
       "    <tr>\n",
       "      <th>4</th>\n",
       "      <td>East Region</td>\n",
       "      <td>0</td>\n",
       "      <td>0</td>\n",
       "      <td>0</td>\n",
       "      <td>0</td>\n",
       "      <td>1</td>\n",
       "      <td>1</td>\n",
       "      <td>1.34567</td>\n",
       "      <td>103.95963</td>\n",
       "      <td>2</td>\n",
       "      <td>94</td>\n",
       "      <td>1</td>\n",
       "      <td>22</td>\n",
       "      <td>9</td>\n",
       "      <td>355</td>\n",
       "    </tr>\n",
       "  </tbody>\n",
       "</table>\n",
       "</div>"
      ],
      "text/plain": [
       "  neighbourhood_group  neighbourhood_0  neighbourhood_1  neighbourhood_2  \\\n",
       "0        North Region                0                0                0   \n",
       "1      Central Region                0                0                0   \n",
       "2        North Region                0                0                0   \n",
       "3         East Region                0                0                0   \n",
       "4         East Region                0                0                0   \n",
       "\n",
       "   neighbourhood_3  neighbourhood_4  neighbourhood_5  latitude  longitude  \\\n",
       "0                0                0                1   1.44255  103.79580   \n",
       "1                0                1                0   1.33235  103.78521   \n",
       "2                0                0                1   1.44246  103.79667   \n",
       "3                0                1                1   1.34541  103.95712   \n",
       "4                0                1                1   1.34567  103.95963   \n",
       "\n",
       "   room_type  price  minimum_nights  number_of_reviews  \\\n",
       "0          2     83             180                  1   \n",
       "1          2     81              90                 18   \n",
       "2          2     69               6                 20   \n",
       "3          2    206               1                 14   \n",
       "4          2     94               1                 22   \n",
       "\n",
       "   calculated_host_listings_count  availability_365  \n",
       "0                               2               365  \n",
       "1                               1               365  \n",
       "2                               2               365  \n",
       "3                               9               353  \n",
       "4                               9               355  "
      ]
     },
     "execution_count": 24,
     "metadata": {},
     "output_type": "execute_result"
    }
   ],
   "source": [
    "import category_encoders as ce\n",
    "binary=ce.BinaryEncoder(cols=['neighbourhood'])\n",
    "dataset_new=binary.fit_transform(dataset_new)\n",
    "dataset_new.head()"
   ]
  },
  {
   "cell_type": "code",
   "execution_count": 25,
   "id": "196883ab",
   "metadata": {
    "execution": {
     "iopub.execute_input": "2022-03-30T20:01:48.527531Z",
     "iopub.status.busy": "2022-03-30T20:01:48.526871Z",
     "iopub.status.idle": "2022-03-30T20:01:48.530517Z",
     "shell.execute_reply": "2022-03-30T20:01:48.530048Z",
     "shell.execute_reply.started": "2022-03-30T19:59:56.274885Z"
    },
    "papermill": {
     "duration": 0.055815,
     "end_time": "2022-03-30T20:01:48.530649",
     "exception": false,
     "start_time": "2022-03-30T20:01:48.474834",
     "status": "completed"
    },
    "tags": []
   },
   "outputs": [
    {
     "data": {
      "text/plain": [
       "array(['North Region', 'Central Region', 'East Region', 'West Region',\n",
       "       'North-East Region'], dtype=object)"
      ]
     },
     "execution_count": 25,
     "metadata": {},
     "output_type": "execute_result"
    }
   ],
   "source": [
    "dataset['neighbourhood_group'].unique()"
   ]
  }
 ],
 "metadata": {
  "kernelspec": {
   "display_name": "Python 3",
   "language": "python",
   "name": "python3"
  },
  "language_info": {
   "codemirror_mode": {
    "name": "ipython",
    "version": 3
   },
   "file_extension": ".py",
   "mimetype": "text/x-python",
   "name": "python",
   "nbconvert_exporter": "python",
   "pygments_lexer": "ipython3",
   "version": "3.7.12"
  },
  "papermill": {
   "default_parameters": {},
   "duration": 20.213149,
   "end_time": "2022-03-30T20:01:49.388729",
   "environment_variables": {},
   "exception": null,
   "input_path": "__notebook__.ipynb",
   "output_path": "__notebook__.ipynb",
   "parameters": {},
   "start_time": "2022-03-30T20:01:29.175580",
   "version": "2.3.3"
  }
 },
 "nbformat": 4,
 "nbformat_minor": 5
}
