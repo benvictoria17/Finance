{
  "nbformat": 4,
  "nbformat_minor": 0,
  "metadata": {
    "colab": {
      "name": "FacebookAnalysis/facebook.r.ipynb",
      "provenance": [],
      "private_outputs": true,
      "authorship_tag": "ABX9TyOon10tBXMGzUIbLpt8Qgb1",
      "include_colab_link": true
    },
    "kernelspec": {
      "name": "ir",
      "display_name": "R"
    }
  },
  "cells": [
    {
      "cell_type": "markdown",
      "metadata": {
        "id": "view-in-github",
        "colab_type": "text"
      },
      "source": [
        "<a href=\"https://colab.research.google.com/github/benvictoria21/R-Programming-/blob/master/FacebookAnalysis_facebook_r.ipynb\" target=\"_parent\"><img src=\"https://colab.research.google.com/assets/colab-badge.svg\" alt=\"Open In Colab\"/></a>"
      ]
    },
    {
      "cell_type": "code",
      "metadata": {
        "id": "j24hyITHKKvC",
        "colab_type": "code",
        "colab": {}
      },
      "source": [
        "# EXPLORATORY DATA ANALYSIS: UDACITY\n",
        "#Analyzing pseudo_facebook dataset"
      ],
      "execution_count": null,
      "outputs": []
    },
    {
      "cell_type": "code",
      "metadata": {
        "id": "5EB4B3YHKj2r",
        "colab_type": "code",
        "colab": {}
      },
      "source": [
        "df_fb <- read.csv(\"https://raw.githubusercontent.com/nupur1492/RProjects/master/FacebookAnalysis/pseudo_facebook.tsv\", sep = \"\\t\")\n",
        "\n",
        "df_fb"
      ],
      "execution_count": null,
      "outputs": []
    },
    {
      "cell_type": "code",
      "metadata": {
        "id": "i9k3Bzh8K3fT",
        "colab_type": "code",
        "colab": {}
      },
      "source": [
        "df_fb$dob_month <- as.factor(df_fb$dob_month)\n",
        "\n",
        "df_fb$dob_month"
      ],
      "execution_count": null,
      "outputs": []
    },
    {
      "cell_type": "code",
      "metadata": {
        "id": "fsqBt4ijLA1X",
        "colab_type": "code",
        "colab": {}
      },
      "source": [
        "qplot(x = df_fb$dob_day , data=df_fb) +\n",
        "  scale_x_discrete(breaks = 1:31) +\n",
        "  facet_wrap(~dob_month, ncol = 3)"
      ],
      "execution_count": null,
      "outputs": []
    },
    {
      "cell_type": "code",
      "metadata": {
        "id": "hvmOB7SRLGgV",
        "colab_type": "code",
        "colab": {}
      },
      "source": [
        "# histogram of friend count\n",
        "qplot(x = df_fb$friend_count, data = df_fb, xlim = c(0,1000))"
      ],
      "execution_count": null,
      "outputs": []
    },
    {
      "cell_type": "code",
      "metadata": {
        "id": "9_yeSX7jLKTj",
        "colab_type": "code",
        "colab": {}
      },
      "source": [
        "#friend count histogram, faceted by gender\n",
        "qplot(x = df_fb$friend_count, data=df_fb, binwidth = 25)+\n",
        "  scale_x_continuous(limits = c(0,1000), breaks = seq(0,1000,50)) +\n",
        "  facet_wrap(~gender)"
      ],
      "execution_count": null,
      "outputs": []
    },
    {
      "cell_type": "code",
      "metadata": {
        "id": "r5Iy5OExLK53",
        "colab_type": "code",
        "colab": {}
      },
      "source": [
        "# applying limits to x\n",
        "qplot(x = df_fb$friend_count, data = df_fb,xlim = c(0,1000), \n",
        "      xlab = seq(0,1000,50), binwidth = 25)+\n",
        "  facet_wrap(~gender)"
      ],
      "execution_count": null,
      "outputs": []
    },
    {
      "cell_type": "code",
      "metadata": {
        "id": "-pYMzZYHLPPm",
        "colab_type": "code",
        "colab": {}
      },
      "source": [
        "#histogram of tenure on facebook; tenure denotes number of days; tenure/365 --> number of years\n",
        "qplot(x = df_fb$tenure/365, data = df_fb, binwidth = 0.25, \n",
        "      color = I(\"black\"), fill = I(\"#0000FF\"))+\n",
        "  scale_x_continuous(breaks = seq(0,7,1), limits= c(0,7))"
      ],
      "execution_count": null,
      "outputs": []
    },
    {
      "cell_type": "code",
      "metadata": {
        "id": "c8cKcJSCLRS0",
        "colab_type": "code",
        "colab": {}
      },
      "source": [
        "#histogram of age of all facebook users\n",
        "qplot(x = df_fb$age, data = df_fb, binwidth = 1, \n",
        "      xlab = \"Age of facebook users\",\n",
        "      ylab = \"Number of users\",\n",
        "      color = I(\"black\"), fill = I(\"#0000FF\"))+\n",
        "  scale_x_continuous(breaks = seq(10,50,1), limits= c(10,50))"
      ],
      "execution_count": null,
      "outputs": []
    },
    {
      "cell_type": "code",
      "metadata": {
        "id": "_kNM-jk3LV4F",
        "colab_type": "code",
        "colab": {}
      },
      "source": [
        "# histogram of friend count vs relative count, colored by gender\n",
        "qplot(x = df_fb$friend_count, y = ..count../sum(..count..), data=df_fb, \n",
        "      binwidth = 5, geom = \"freqpoly\", color = gender) +\n",
        "  scale_x_continuous(limits = c(0,1000), breaks = seq(0,1000,10))"
      ],
      "execution_count": null,
      "outputs": []
    },
    {
      "cell_type": "code",
      "metadata": {
        "id": "XytWXfvFLrpW",
        "colab_type": "code",
        "colab": {}
      },
      "source": [
        "# relative count of www_likes, colored by gender\n",
        "qplot(x = df_fb$www_likes, y = ..count../sum(..count..), data=df_fb, \n",
        "      binwidth = 20, geom = \"freqpoly\", color = gender) +\n",
        "  scale_x_continuous(limits = c(0,300), breaks = seq(0,300,5))\n"
      ],
      "execution_count": null,
      "outputs": []
    },
    {
      "cell_type": "code",
      "metadata": {
        "id": "KWYpqwsRLupO",
        "colab_type": "code",
        "colab": {}
      },
      "source": [
        "# count of www_likes, with a log10 as x scale\n",
        "qplot(x = df_fb$www_likes, data=df_fb, \n",
        "      geom = \"freqpoly\", color = gender) +\n",
        "  scale_x_continuous()+\n",
        "  scale_x_log10()"
      ],
      "execution_count": null,
      "outputs": []
    },
    {
      "cell_type": "code",
      "metadata": {
        "id": "qecKsE_1LyZ0",
        "colab_type": "code",
        "colab": {}
      },
      "source": [
        "# subset of facebook dataframe, with only data about males\n",
        "df_males <- df_fb[df_fb$gender == \"male\",]\n",
        "str(df_males)"
      ],
      "execution_count": null,
      "outputs": []
    },
    {
      "cell_type": "code",
      "metadata": {
        "id": "reXuWFqCLzyx",
        "colab_type": "code",
        "colab": {}
      },
      "source": [
        "# subset of facebook dataframe, with data about females\n",
        "df_females <- df_fb[df_fb$gender == \"female\",]"
      ],
      "execution_count": null,
      "outputs": []
    },
    {
      "cell_type": "code",
      "metadata": {
        "id": "BSjaW4l9Lz6-",
        "colab_type": "code",
        "colab": {}
      },
      "source": [
        "# boxplot of friend count vs gender\n",
        "qplot(x = df_fb$gender, y = df_fb$friend_count, data = df_fb, geom = \"boxplot\")+\n",
        "  scale_y_continuous(limits = c(0,1000), breaks = seq(0,1000,50))"
      ],
      "execution_count": null,
      "outputs": []
    },
    {
      "cell_type": "code",
      "metadata": {
        "id": "IL3CJlzbLz4u",
        "colab_type": "code",
        "colab": {}
      },
      "source": [
        "# boxplot of friend count vs gender, adjusting Y values\n",
        "qplot(x = gender, y = friend_count, data = subset(df_fb, !is.na(gender)), geom = \"boxplot\") +\n",
        "  coord_cartesian(ylim = c(0,1000))\n"
      ],
      "execution_count": null,
      "outputs": []
    },
    {
      "cell_type": "code",
      "metadata": {
        "id": "rxeW-NhTMH58",
        "colab_type": "code",
        "colab": {}
      },
      "source": [
        "# boxplot of friendships initiated by males and females\n",
        "qplot(x = gender, y = friendships_initiated, data = subset(df_fb, !is.na(gender)), geom = \"boxplot\") +\n",
        "  coord_cartesian(ylim = c(0,250))"
      ],
      "execution_count": null,
      "outputs": []
    },
    {
      "cell_type": "code",
      "metadata": {
        "id": "UrWu3HP5MK8N",
        "colab_type": "code",
        "colab": {}
      },
      "source": [
        "by(df_fb$friendships_initiated, df_fb$gender,summary)"
      ],
      "execution_count": null,
      "outputs": []
    },
    {
      "cell_type": "code",
      "metadata": {
        "id": "A4x1o-NtMNQt",
        "colab_type": "code",
        "colab": {}
      },
      "source": [
        "# creating column for mobile check ins based on mobile likes\n",
        "df_fb$mobile_checkin <- 0\n",
        "df_fb$mobile_checkin[df_fb$mobile_likes > 0] <- 1\n",
        "df_fb$mobile_checkin <- as.numeric(df_fb$mobile_checkin)"
      ],
      "execution_count": null,
      "outputs": []
    },
    {
      "cell_type": "code",
      "metadata": {
        "id": "dTbPzSUJMPci",
        "colab_type": "code",
        "colab": {}
      },
      "source": [
        "summary(df_fb$mobile_checkin)"
      ],
      "execution_count": null,
      "outputs": []
    },
    {
      "cell_type": "code",
      "metadata": {
        "id": "Mg1huzozMSNG",
        "colab_type": "code",
        "colab": {}
      },
      "source": [
        "library(plyr)\n",
        "checkins <- count(df_fb$mobile_checkin[df_fb$mobile_checkin == 1])\n",
        "total <- nrow(df_fb)\n",
        "percentage <- checkins*100/total"
      ],
      "execution_count": null,
      "outputs": []
    },
    {
      "cell_type": "code",
      "metadata": {
        "id": "tbUmVKd3MSIY",
        "colab_type": "code",
        "colab": {}
      },
      "source": [
        "\n",
        "library(ggplot2)\n",
        "#aes wrapper\n",
        "# histogram of age vs friend count\n",
        "ggplot(aes(x = age, y = friend_count),data = df_fb)+\n",
        "  geom_point(alpha = 1/20)+\n",
        "  xlim(13,90)"
      ],
      "execution_count": null,
      "outputs": []
    },
    {
      "cell_type": "code",
      "metadata": {
        "id": "8yzZKDcsMR-c",
        "colab_type": "code",
        "colab": {}
      },
      "source": [
        "# using geom_jitter to reduce overplotting\n",
        "ggplot(aes(x = age, y = friend_count),data = df_fb)+\n",
        "  geom_jitter(alpha = 1/20)+\n",
        "  xlim(13,90)"
      ],
      "execution_count": null,
      "outputs": []
    },
    {
      "cell_type": "code",
      "metadata": {
        "id": "XPu9c7sQMd1p",
        "colab_type": "code",
        "colab": {}
      },
      "source": [
        "# scatterplot of age vs friend count \n",
        "ggplot(aes(x = age, y = friend_count),data = df_fb)+\n",
        "  geom_point(alpha = 1/20)+\n",
        "  xlim(13,90)+\n",
        "  coord_trans(y = \"sqrt\")\n"
      ],
      "execution_count": null,
      "outputs": []
    },
    {
      "cell_type": "code",
      "metadata": {
        "id": "4Y_yEB8NMgbS",
        "colab_type": "code",
        "colab": {}
      },
      "source": [
        "\n",
        "ggplot(aes(x = age, y = friend_count), data = df_fb)+\n",
        "  geom_point(alpha = 1/20,\n",
        "             position = position_jitter(h= 0),\n",
        "             color = \"red\")+\n",
        "  xlim(13,90)+\n",
        "  coord_trans(y='sqrt')\n",
        "\n",
        "qplot(age, friendships_initiated, data = df_fb)\n",
        "\n"
      ],
      "execution_count": null,
      "outputs": []
    },
    {
      "cell_type": "code",
      "metadata": {
        "id": "8GwxOKwtMlcr",
        "colab_type": "code",
        "colab": {}
      },
      "source": [
        "# scatterplot of age vs friendships initiated\n",
        "ggplot(aes(x = age, y = friendships_initiated),data = df_fb)+\n",
        "  geom_point(alpha = 1/20)+\n",
        "  xlim(13,90)\n"
      ],
      "execution_count": null,
      "outputs": []
    },
    {
      "cell_type": "code",
      "metadata": {
        "id": "n7lZsFDCMpBV",
        "colab_type": "code",
        "colab": {}
      },
      "source": [
        "# scatterplot of age vs friendships initiated, using geom jitter to reduce overplotting\n",
        "ggplot(aes(x = age, y = friendships_initiated),data = df_fb)+\n",
        "  geom_jitter(alpha = 1/20)+\n",
        "  xlim(13,90)\n"
      ],
      "execution_count": null,
      "outputs": []
    },
    {
      "cell_type": "code",
      "metadata": {
        "id": "LlW8CtXmMtJq",
        "colab_type": "code",
        "colab": {}
      },
      "source": [
        "ggplot(aes(x = age, y = friendships_initiated),data = df_fb)+\n",
        "  geom_point(alpha = 1/20, \n",
        "             position = position_jitter(h = 0))+\n",
        "  xlim(13,90)+\n",
        "  coord_trans(y = 'sqrt')\n"
      ],
      "execution_count": null,
      "outputs": []
    },
    {
      "cell_type": "code",
      "metadata": {
        "id": "DbwK8MmtMyO5",
        "colab_type": "code",
        "colab": {}
      },
      "source": [
        "library(dplyr)"
      ],
      "execution_count": null,
      "outputs": []
    },
    {
      "cell_type": "code",
      "metadata": {
        "id": "meThERA8M4pv",
        "colab_type": "code",
        "colab": {}
      },
      "source": [
        "\n",
        "# bin ages, create new dataframe with mean and median friend counts for each age group\n",
        "age_groups <- group_by(df_fb,age)\n",
        "df_fc_by_age <- summarise(age_groups,\n",
        "          mean_friend_count = mean(friend_count),\n",
        "          median_friend_count = median(friend_count),\n",
        "          n = n())\n",
        "\n",
        "df_fc_by_age <- arrange(df_fc_by_age,age)\n"
      ],
      "execution_count": null,
      "outputs": []
    },
    {
      "cell_type": "code",
      "metadata": {
        "id": "nnFipaZqM6Kr",
        "colab_type": "code",
        "colab": {}
      },
      "source": [
        "#scatterplot of mean friend counts for each age group\n",
        "ggplot(aes(x = age, y = mean_friend_count), data = df_fc_by_age)+\n",
        "  geom_line()+\n",
        "  xlim(13,90)\n"
      ],
      "execution_count": null,
      "outputs": []
    },
    {
      "cell_type": "code",
      "metadata": {
        "id": "jc4EDVJBM-zE",
        "colab_type": "code",
        "colab": {}
      },
      "source": [
        "# scatterplot of age vs friend count, using a jitter to reduce overplotting\n",
        "# three lines denote mean, first quantile and third quantiles\n",
        "ggplot(aes(x = age, y = friend_count), data = df_fb)+\n",
        "  geom_point(alpha = 1/20,\n",
        "             position = position_jitter(h= 0),\n",
        "             color = \"red\")+\n",
        "  xlim(13,90)+\n",
        "  coord_trans(y='sqrt')+\n",
        "  geom_line(stat = 'summary', fun.y = mean)+\n",
        "  geom_line(stat = 'summary', fun.y = quantile, fun.args=list(probs=0.2), color = 'blue')+\n",
        "  geom_line(stat = 'summary', fun.y = quantile, fun.args=list(probs=0.8), color = 'green')\n"
      ],
      "execution_count": null,
      "outputs": []
    },
    {
      "cell_type": "code",
      "metadata": {
        "id": "-wMk6Q4lNCXM",
        "colab_type": "code",
        "colab": {}
      },
      "source": [
        "# correlation co-efficient between age and friend count using pearson correlation coefficient\n",
        "cor.test(df_fb$age, df_fb$friend_count, method=\"pearson\")"
      ],
      "execution_count": null,
      "outputs": []
    },
    {
      "cell_type": "code",
      "metadata": {
        "id": "gUZevVriNITU",
        "colab_type": "code",
        "colab": {}
      },
      "source": [
        "#OR\n",
        "with(df_fb, cor.test(age, friend_count, method = \"pearson\"))"
      ],
      "execution_count": null,
      "outputs": []
    },
    {
      "cell_type": "code",
      "metadata": {
        "id": "Mq5UFHFVNKDD",
        "colab_type": "code",
        "colab": {}
      },
      "source": [
        "# subsetting dataframe to include only rows with ages below 70, for better correlation coefficient\n",
        "with(subset(df_fb, subset = df_fb$age<70), cor.test(age, friend_count, method = \"pearson\"))\n"
      ],
      "execution_count": null,
      "outputs": []
    }
  ]
}