{
 "cells": [
  {
   "cell_type": "markdown",
   "metadata": {
    "colab_type": "text",
    "id": "view-in-github"
   },
   "source": [
    "<a href=\"https://colab.research.google.com/github/benvictoria21/python-stock/blob/master/E_Mini_S%26P_500_Sep_20_ESF.ipynb\" target=\"_parent\"><img src=\"https://colab.research.google.com/assets/colab-badge.svg\" alt=\"Open In Colab\"/></a>"
   ]
  },
  {
   "cell_type": "code",
   "execution_count": null,
   "metadata": {
    "colab": {},
    "colab_type": "code",
    "id": "DV_3VIlO4gc8"
   },
   "outputs": [],
   "source": [
    "import pandas as pd \n",
    "import numpy as np \n",
    "import matplotlib.pyplot as plt\n",
    "import math \n",
    "import sqlite3"
   ]
  },
  {
   "cell_type": "code",
   "execution_count": null,
   "metadata": {
    "colab": {},
    "colab_type": "code",
    "id": "e9d9Wmz3ZAI6"
   },
   "outputs": [],
   "source": [
    "ESF = pd.read_csv(\"https://query1.finance.yahoo.com/v7/finance/download/ES=F?period1=1562471421&period2=1594093821&interval=1d&events=history\")"
   ]
  },
  {
   "cell_type": "code",
   "execution_count": null,
   "metadata": {
    "colab": {},
    "colab_type": "code",
    "id": "C83hu3qUZfAx"
   },
   "outputs": [],
   "source": [
    "ESF.head(306)"
   ]
  },
  {
   "cell_type": "code",
   "execution_count": null,
   "metadata": {
    "colab": {},
    "colab_type": "code",
    "id": "oh1DzTlkZqbD"
   },
   "outputs": [],
   "source": [
    "plt.plot([0,1,2,3,4])\n",
    "plt.show"
   ]
  },
  {
   "cell_type": "code",
   "execution_count": null,
   "metadata": {
    "colab": {},
    "colab_type": "code",
    "id": "dcUjaY_nZySt"
   },
   "outputs": [],
   "source": [
    "plt.pie([0,1,2,3,4]) \n",
    "plt.show "
   ]
  },
  {
   "cell_type": "code",
   "execution_count": null,
   "metadata": {
    "colab": {},
    "colab_type": "code",
    "id": "_MnK0DHcZ2N2"
   },
   "outputs": [],
   "source": [
    "import pandas_datareader as pdr \n",
    "import datetime \n",
    "ESF = pdr.get_data_yahoo(\"ESF\",\n",
    "                          start=datetime.datetime(2006,10,1),\n",
    "                          end=datetime.datetime(2012,1,1))\n",
    "\n",
    "ESF.head()"
   ]
  },
  {
   "cell_type": "code",
   "execution_count": null,
   "metadata": {
    "colab": {},
    "colab_type": "code",
    "id": "PX2giN-0i-dd"
   },
   "outputs": [],
   "source": [
    "!pip install quandl"
   ]
  },
  {
   "cell_type": "code",
   "execution_count": null,
   "metadata": {
    "colab": {},
    "colab_type": "code",
    "id": "tEh5wRhkaPoZ"
   },
   "outputs": [],
   "source": [
    "import quandl\n",
    "quandl.ApiConfig.api_key = \"uhWHfKsyu4vyg7ybfyyt\"\n",
    "ESF.head()"
   ]
  },
  {
   "cell_type": "code",
   "execution_count": null,
   "metadata": {
    "colab": {},
    "colab_type": "code",
    "id": "9-wxf8OlaQTm"
   },
   "outputs": [],
   "source": [
    "ESF.head"
   ]
  },
  {
   "cell_type": "code",
   "execution_count": null,
   "metadata": {
    "colab": {},
    "colab_type": "code",
    "id": "7wUEtVMMaUgJ"
   },
   "outputs": [],
   "source": [
    "ESF.head()"
   ]
  },
  {
   "cell_type": "code",
   "execution_count": null,
   "metadata": {
    "colab": {},
    "colab_type": "code",
    "id": "i_KiczhCaWGy"
   },
   "outputs": [],
   "source": [
    "ESF.tail()"
   ]
  },
  {
   "cell_type": "code",
   "execution_count": null,
   "metadata": {
    "colab": {},
    "colab_type": "code",
    "id": "fOwzKgb8aXva"
   },
   "outputs": [],
   "source": [
    "ESF.describe()"
   ]
  },
  {
   "cell_type": "code",
   "execution_count": null,
   "metadata": {
    "colab": {},
    "colab_type": "code",
    "id": "_4lGQVXaaXyg"
   },
   "outputs": [],
   "source": [
    "ESF.to_csv(\"ESF.csv\")"
   ]
  },
  {
   "cell_type": "code",
   "execution_count": null,
   "metadata": {
    "colab": {},
    "colab_type": "code",
    "id": "b50P0K_baX3Y"
   },
   "outputs": [],
   "source": [
    "import pandas as pd"
   ]
  },
  {
   "cell_type": "code",
   "execution_count": null,
   "metadata": {
    "colab": {},
    "colab_type": "code",
    "id": "OkMKTtRUaX6R"
   },
   "outputs": [],
   "source": [
    "pd.read_csv(\"ESF.csv\")"
   ]
  },
  {
   "cell_type": "code",
   "execution_count": null,
   "metadata": {
    "colab": {},
    "colab_type": "code",
    "id": "7sb_6tEOaX18"
   },
   "outputs": [],
   "source": [
    "ESF.to_excel(\"ESF.xls\")"
   ]
  },
  {
   "cell_type": "code",
   "execution_count": null,
   "metadata": {
    "colab": {},
    "colab_type": "code",
    "id": "NqAVgzrmaeWg"
   },
   "outputs": [],
   "source": [
    "pd.read_excel(\"ESF.xls\")"
   ]
  },
  {
   "cell_type": "code",
   "execution_count": null,
   "metadata": {
    "colab": {},
    "colab_type": "code",
    "id": "K1s6um-xjXOl"
   },
   "outputs": [],
   "source": [
    "con = sqlite3.connect(\"ESF.db\")\n",
    "c = con.cursor()"
   ]
  },
  {
   "cell_type": "code",
   "execution_count": null,
   "metadata": {
    "colab": {},
    "colab_type": "code",
    "id": "1-e-hIqKjXT2"
   },
   "outputs": [],
   "source": [
    "c.execute(\"Drop table ESF\")\n",
    "#Only once in life. If done again, an error will be thrown.\n",
    "c.execute(\"\"\"Create table ESF(\n",
    "Date\tTEXT, \n",
    "High Number,\t\n",
    "Low\tNumber, \n",
    "Open\tNumber, \n",
    "Close\tNumber, \n",
    "Volume\tNumber,\n",
    "\"Adj Close\" Number\n",
    ")\"\"\")"
   ]
  },
  {
   "cell_type": "code",
   "execution_count": null,
   "metadata": {
    "colab": {},
    "colab_type": "code",
    "id": "FLdbe9HVjXXA"
   },
   "outputs": [],
   "source": [
    "#Insert data\n",
    "\n",
    "ESF.to_sql(\"ESF\", con, if_exists='append', index=False)"
   ]
  },
  {
   "cell_type": "code",
   "execution_count": null,
   "metadata": {
    "colab": {},
    "colab_type": "code",
    "id": "l4mUg9vsjXac"
   },
   "outputs": [],
   "source": [
    "#See data\n",
    "c.execute(\"\"\"SELECT *\n",
    "              FROM ESF\"\"\")\n",
    "rows = c.fetchall()\n",
    "\n",
    "rows"
   ]
  }
 ],
 "metadata": {
  "accelerator": "GPU",
  "colab": {
   "authorship_tag": "ABX9TyNOXX9SStxQxi9eiL1YmBF5",
   "collapsed_sections": [],
   "include_colab_link": true,
   "name": "E-Mini S&P 500 Sep 20 ESF.ipynb",
   "private_outputs": true,
   "provenance": []
  },
  "kernelspec": {
   "display_name": "Python 3",
   "name": "python3"
  }
 },
 "nbformat": 4,
 "nbformat_minor": 0
}
