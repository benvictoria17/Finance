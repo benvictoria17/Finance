{
 "cells": [
  {
   "cell_type": "code",
   "execution_count": 16,
   "metadata": {
    "_cell_guid": "b1076dfc-b9ad-4769-8c92-a6c4dae69d19",
    "_uuid": "8f2839f25d086af736a60e9eeb907d3b93b6e0e5",
    "execution": {
     "iopub.execute_input": "2022-03-23T21:01:06.737609Z",
     "iopub.status.busy": "2022-03-23T21:01:06.737295Z",
     "iopub.status.idle": "2022-03-23T21:01:06.741833Z",
     "shell.execute_reply": "2022-03-23T21:01:06.741001Z",
     "shell.execute_reply.started": "2022-03-23T21:01:06.737573Z"
    }
   },
   "outputs": [],
   "source": [
    "import numpy as np \n",
    "import pandas as pd \n",
    "import matplotlib.pyplot as plt \n",
    "import seaborn as sns \n",
    "import datetime"
   ]
  },
  {
   "cell_type": "code",
   "execution_count": 17,
   "metadata": {
    "execution": {
     "iopub.execute_input": "2022-03-23T21:01:06.768427Z",
     "iopub.status.busy": "2022-03-23T21:01:06.768119Z",
     "iopub.status.idle": "2022-03-23T21:01:07.166741Z",
     "shell.execute_reply": "2022-03-23T21:01:07.165851Z",
     "shell.execute_reply.started": "2022-03-23T21:01:06.768392Z"
    }
   },
   "outputs": [],
   "source": [
    "df = pd.read_csv(\"https://raw.githubusercontent.com/benvictoria17/DataAnalytics/master/dataset/Top%20Video%20Games%201995-2021%20Metacritic/all_games.csv\")"
   ]
  },
  {
   "cell_type": "code",
   "execution_count": 18,
   "metadata": {
    "execution": {
     "iopub.execute_input": "2022-03-23T21:01:07.169241Z",
     "iopub.status.busy": "2022-03-23T21:01:07.168795Z",
     "iopub.status.idle": "2022-03-23T21:01:07.183103Z",
     "shell.execute_reply": "2022-03-23T21:01:07.181937Z",
     "shell.execute_reply.started": "2022-03-23T21:01:07.169196Z"
    }
   },
   "outputs": [],
   "source": [
    "df.head()"
   ]
  },
  {
   "cell_type": "code",
   "execution_count": 19,
   "metadata": {
    "execution": {
     "iopub.execute_input": "2022-03-23T21:01:07.185112Z",
     "iopub.status.busy": "2022-03-23T21:01:07.184750Z",
     "iopub.status.idle": "2022-03-23T21:01:07.202755Z",
     "shell.execute_reply": "2022-03-23T21:01:07.201856Z",
     "shell.execute_reply.started": "2022-03-23T21:01:07.185035Z"
    }
   },
   "outputs": [],
   "source": [
    "df.isnull().sum()"
   ]
  },
  {
   "cell_type": "code",
   "execution_count": 20,
   "metadata": {
    "execution": {
     "iopub.execute_input": "2022-03-23T21:01:07.205621Z",
     "iopub.status.busy": "2022-03-23T21:01:07.205132Z",
     "iopub.status.idle": "2022-03-23T21:01:07.212058Z",
     "shell.execute_reply": "2022-03-23T21:01:07.211434Z",
     "shell.execute_reply.started": "2022-03-23T21:01:07.205576Z"
    }
   },
   "outputs": [],
   "source": [
    "df.shape"
   ]
  },
  {
   "cell_type": "code",
   "execution_count": 21,
   "metadata": {
    "execution": {
     "iopub.execute_input": "2022-03-23T21:01:07.213529Z",
     "iopub.status.busy": "2022-03-23T21:01:07.213301Z",
     "iopub.status.idle": "2022-03-23T21:01:07.238773Z",
     "shell.execute_reply": "2022-03-23T21:01:07.237889Z",
     "shell.execute_reply.started": "2022-03-23T21:01:07.213502Z"
    }
   },
   "outputs": [],
   "source": [
    "df['summary'].fillna('Missing', inplace=True)\n",
    "df.isnull().sum()"
   ]
  },
  {
   "cell_type": "code",
   "execution_count": 22,
   "metadata": {
    "execution": {
     "iopub.execute_input": "2022-03-23T21:01:07.241893Z",
     "iopub.status.busy": "2022-03-23T21:01:07.240047Z",
     "iopub.status.idle": "2022-03-23T21:01:07.252551Z",
     "shell.execute_reply": "2022-03-23T21:01:07.251745Z",
     "shell.execute_reply.started": "2022-03-23T21:01:07.241822Z"
    }
   },
   "outputs": [],
   "source": [
    "df.shape"
   ]
  },
  {
   "cell_type": "code",
   "execution_count": 23,
   "metadata": {
    "execution": {
     "iopub.execute_input": "2022-03-23T21:01:07.253878Z",
     "iopub.status.busy": "2022-03-23T21:01:07.253580Z",
     "iopub.status.idle": "2022-03-23T21:01:07.277554Z",
     "shell.execute_reply": "2022-03-23T21:01:07.276336Z",
     "shell.execute_reply.started": "2022-03-23T21:01:07.253838Z"
    }
   },
   "outputs": [],
   "source": [
    "df['summary'].fillna('Missing', inplace=True)\n",
    "df.isnull().sum()"
   ]
  },
  {
   "cell_type": "code",
   "execution_count": 24,
   "metadata": {
    "execution": {
     "iopub.execute_input": "2022-03-23T21:01:07.279342Z",
     "iopub.status.busy": "2022-03-23T21:01:07.279096Z",
     "iopub.status.idle": "2022-03-23T21:01:07.295884Z",
     "shell.execute_reply": "2022-03-23T21:01:07.294872Z",
     "shell.execute_reply.started": "2022-03-23T21:01:07.279314Z"
    }
   },
   "outputs": [],
   "source": [
    "df.head()"
   ]
  },
  {
   "cell_type": "code",
   "execution_count": 25,
   "metadata": {
    "execution": {
     "iopub.execute_input": "2022-03-23T21:01:07.297412Z",
     "iopub.status.busy": "2022-03-23T21:01:07.297078Z",
     "iopub.status.idle": "2022-03-23T21:01:07.312505Z",
     "shell.execute_reply": "2022-03-23T21:01:07.311411Z",
     "shell.execute_reply.started": "2022-03-23T21:01:07.297370Z"
    }
   },
   "outputs": [],
   "source": [
    "df[\"platform\"].value_counts()"
   ]
  },
  {
   "cell_type": "code",
   "execution_count": 26,
   "metadata": {
    "execution": {
     "iopub.execute_input": "2022-03-23T21:01:07.315667Z",
     "iopub.status.busy": "2022-03-23T21:01:07.315446Z",
     "iopub.status.idle": "2022-03-23T21:01:07.339587Z",
     "shell.execute_reply": "2022-03-23T21:01:07.338749Z",
     "shell.execute_reply.started": "2022-03-23T21:01:07.315639Z"
    }
   },
   "outputs": [],
   "source": [
    "df[df[\"user_review\"]==\"tbd\"]"
   ]
  },
  {
   "cell_type": "code",
   "execution_count": 27,
   "metadata": {
    "execution": {
     "iopub.execute_input": "2022-03-23T21:01:07.340962Z",
     "iopub.status.busy": "2022-03-23T21:01:07.340738Z",
     "iopub.status.idle": "2022-03-23T21:01:07.358748Z",
     "shell.execute_reply": "2022-03-23T21:01:07.357859Z",
     "shell.execute_reply.started": "2022-03-23T21:01:07.340935Z"
    }
   },
   "outputs": [],
   "source": [
    "df = df.drop(df[df['user_review'] == 'tbd'].index)\n",
    "count_platform = df[\"platform\"].value_counts().reset_index()\n",
    "count_platform.columns = [\"Platform\", \"Count\"]\n",
    "count_platform"
   ]
  },
  {
   "cell_type": "code",
   "execution_count": 28,
   "metadata": {
    "execution": {
     "iopub.execute_input": "2022-03-23T21:01:07.360006Z",
     "iopub.status.busy": "2022-03-23T21:01:07.359670Z",
     "iopub.status.idle": "2022-03-23T21:01:07.825732Z",
     "shell.execute_reply": "2022-03-23T21:01:07.824738Z",
     "shell.execute_reply.started": "2022-03-23T21:01:07.359979Z"
    }
   },
   "outputs": [],
   "source": [
    "sns.catplot(x=\"Count\", y=\"Platform\", kind=\"bar\", data=count_platform, height=6, aspect=3)\n",
    "plt.title('Number of Games by Platform',fontsize=16)\n",
    "\n",
    "plt.grid(True)"
   ]
  },
  {
   "cell_type": "code",
   "execution_count": 29,
   "metadata": {
    "execution": {
     "iopub.execute_input": "2022-03-23T21:01:07.827149Z",
     "iopub.status.busy": "2022-03-23T21:01:07.826920Z",
     "iopub.status.idle": "2022-03-23T21:01:07.849124Z",
     "shell.execute_reply": "2022-03-23T21:01:07.848378Z",
     "shell.execute_reply.started": "2022-03-23T21:01:07.827120Z"
    }
   },
   "outputs": [],
   "source": [
    "df['user_review'] = df['user_review'].astype(np.float)\n",
    "top_user_score = df.sort_values(['user_review'], ascending=False)[:10]\n",
    "top_user_score[['name','user_review']]"
   ]
  },
  {
   "cell_type": "code",
   "execution_count": null,
   "metadata": {},
   "outputs": [],
   "source": [
    "top_user_score = df.sort_values(['user_review'], ascending=False)[:10]\n",
    "top_user_score[['name','user_review']]"
   ]
  },
  {
   "cell_type": "code",
   "execution_count": null,
   "metadata": {},
   "outputs": [],
   "source": [
    "fig, ax = plt.subplots(figsize = (10,5))\n",
    "sns.barplot(x = top_user_score['user_review'], y = top_user_score['name'])\n",
    "plt.xlim(9.3,9.8)\n",
    "plt.title('Top 10 Games by User Review ', fontsize = 16)\n",
    "plt.xlabel('User Review Score', fontsize = 14)\n",
    "plt.ylabel('Name', fontsize = 14)"
   ]
  },
  {
   "cell_type": "code",
   "execution_count": null,
   "metadata": {},
   "outputs": [],
   "source": [
    "top_meta_score = df.sort_values(['meta_score'], ascending = False)[:10]\n",
    "top_meta_score[['name','meta_score']]"
   ]
  },
  {
   "cell_type": "code",
   "execution_count": null,
   "metadata": {},
   "outputs": [],
   "source": [
    "fig, ax = plt.subplots(figsize=(10,5))\n",
    "sns.barplot(x=top_meta_score['meta_score'], y=top_meta_score['name'], orient = 'h', palette='flare')\n",
    "plt.xlim(95,100)\n",
    "plt.title('Top 10 Games by Meta Score', fontsize=16)\n",
    "plt.xlabel('Meta Score', fontsize=14)\n",
    "plt.ylabel('Name', fontsize=14)"
   ]
  },
  {
   "cell_type": "code",
   "execution_count": null,
   "metadata": {},
   "outputs": [],
   "source": [
    "era = df\n",
    "era['release_date'] = pd.to_datetime(era['release_date'])\n",
    "era['year'] = df['release_date'].dt.year\n",
    "era1 =era.groupby('year')\n",
    "era2 = df.sort_values(['meta_score'], ascending = False)\n",
    "era2[['year','meta_score']]"
   ]
  },
  {
   "cell_type": "code",
   "execution_count": null,
   "metadata": {},
   "outputs": [],
   "source": [
    "era2 =era.groupby('year')\n",
    "era2.head()"
   ]
  },
  {
   "cell_type": "code",
   "execution_count": null,
   "metadata": {},
   "outputs": [],
   "source": [
    "era2['meta_score'].sum().sort_values(ascending = False).reset_index()"
   ]
  },
  {
   "cell_type": "code",
   "execution_count": null,
   "metadata": {},
   "outputs": [],
   "source": [
    "era3 = era2['meta_score'].sum().sort_values(ascending = False).reset_index()\n",
    "era3.columns = [\"year\", \"Total\"] "
   ]
  },
  {
   "cell_type": "code",
   "execution_count": null,
   "metadata": {},
   "outputs": [],
   "source": [
    "sns.catplot(x=\"year\", y=\"Total\", kind=\"bar\", data=era3, height=6, aspect=3)\n",
    "plt.title(\"Year that had the best video games ( Popularity ) \")\n",
    "plt.xlabel('Year')\n",
    "plt.ylabel(\"Popularity of Video Games \")\n",
    "plt.grid(True)"
   ]
  }
 ],
 "metadata": {
  "kernelspec": {
   "display_name": "Python 3",
   "language": "python",
   "name": "python3"
  },
  "language_info": {
   "codemirror_mode": {
    "name": "ipython",
    "version": 3
   },
   "file_extension": ".py",
   "mimetype": "text/x-python",
   "name": "python",
   "nbconvert_exporter": "python",
   "pygments_lexer": "ipython3",
   "version": "3.7.12"
  }
 },
 "nbformat": 4,
 "nbformat_minor": 4
}
