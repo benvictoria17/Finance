{
 "cells": [
  {
   "cell_type": "code",
   "execution_count": null,
   "metadata": {
    "colab": {},
    "colab_type": "code",
    "id": "7zFCMXeualhR"
   },
   "outputs": [],
   "source": [
    "import numpy as np\n",
    "import matplotlib.pyplot as plt; plt.rcdefaults()\n",
    "import pandas as pd\n",
    "\n",
    "import warnings\n",
    "warnings.filterwarnings(\"ignore\")\n",
    "\n",
    "# fix_yahoo_finance is used to fetch data \n",
    "import fix_yahoo_finance as yf\n",
    "yf.pdr_override()"
   ]
  },
  {
   "cell_type": "code",
   "execution_count": null,
   "metadata": {
    "colab": {},
    "colab_type": "code",
    "id": "KPaAFSRNcfMd"
   },
   "outputs": [],
   "source": [
    "# input\n",
    "symbol = 'AMD'\n",
    "start = '2007-01-01'\n",
    "end = '2019-01-01'\n",
    "\n",
    "# Read data \n",
    "dataset = yf.download(symbol,start,end)\n",
    "\n",
    "# View Data\n",
    "dataset.head()"
   ]
  },
  {
   "cell_type": "code",
   "execution_count": null,
   "metadata": {
    "colab": {},
    "colab_type": "code",
    "id": "qBlg1ZZRdOuq"
   },
   "outputs": [],
   "source": [
    "dataset.tail()"
   ]
  },
  {
   "cell_type": "code",
   "execution_count": null,
   "metadata": {
    "colab": {},
    "colab_type": "code",
    "id": "l9d7xeAkdSNH"
   },
   "outputs": [],
   "source": [
    "plt.figure(figsize=(16,8))\n",
    "plt.plot(dataset['Adj Close'])\n",
    "plt.title('Closing Price Chart')\n",
    "plt.xlabel('Date')\n",
    "plt.ylabel('Price')\n",
    "plt.grid(True)\n",
    "plt.show()"
   ]
  },
  {
   "cell_type": "code",
   "execution_count": null,
   "metadata": {
    "colab": {},
    "colab_type": "code",
    "id": "d4fGXB_beAe5"
   },
   "outputs": [],
   "source": [
    "monthly = dataset.asfreq(\"BM\")\n",
    "monthly[\"Returns\"] = dataset[\"Adj Close\"].pct_change().dropna\n",
    "monthly.head()"
   ]
  },
  {
   "cell_type": "code",
   "execution_count": null,
   "metadata": {
    "colab": {},
    "colab_type": "code",
    "id": "SoHQr1RngQvt"
   },
   "outputs": [],
   "source": [
    "monthly.head()"
   ]
  },
  {
   "cell_type": "code",
   "execution_count": null,
   "metadata": {
    "colab": {},
    "colab_type": "code",
    "id": "ehW29BSkgY4o"
   },
   "outputs": [],
   "source": [
    "monthly.head()"
   ]
  },
  {
   "cell_type": "code",
   "execution_count": null,
   "metadata": {
    "colab": {},
    "colab_type": "code",
    "id": "IV6fbRavgg2o"
   },
   "outputs": [],
   "source": [
    "monthly.head()"
   ]
  },
  {
   "cell_type": "code",
   "execution_count": null,
   "metadata": {
    "colab": {},
    "colab_type": "code",
    "id": "cLNiO4XLgmVa"
   },
   "outputs": [],
   "source": [
    "monthly.tail"
   ]
  },
  {
   "cell_type": "code",
   "execution_count": null,
   "metadata": {
    "colab": {},
    "colab_type": "code",
    "id": "B1AJ9SIHz30D"
   },
   "outputs": [],
   "source": [
    "yearly = dataset.asfreq('BY')\n",
    "yearly['Returns'] = dataset['Adj Close'].pct_change().dropna()\n",
    "\n",
    "yearly"
   ]
  },
  {
   "cell_type": "code",
   "execution_count": null,
   "metadata": {
    "colab": {},
    "colab_type": "code",
    "id": "JVJD6tMQz-Bu"
   },
   "outputs": [],
   "source": [
    "yearly = yearly.reset_index()\n",
    "\n",
    "yearly"
   ]
  },
  {
   "cell_type": "code",
   "execution_count": null,
   "metadata": {
    "colab": {},
    "colab_type": "code",
    "id": "5nmBnAHg0I5w"
   },
   "outputs": [],
   "source": [
    "yearly[\"Year\"] =  yearly[\"Date\"].dt.year\n",
    "\n",
    "yearly"
   ]
  },
  {
   "cell_type": "code",
   "execution_count": null,
   "metadata": {
    "colab": {},
    "colab_type": "code",
    "id": "WduwSH7y1uB4"
   },
   "outputs": [],
   "source": [
    "from matplotlib import dates as mdates\n",
    "import datetime as dt\n",
    "\n",
    "yearly['ReturnsPositive'] = 0 < yearly['Returns']\n",
    "yearly['Date'] = pd.to_datetime(yearly['Date'])\n",
    "yearly['Date'] = yearly['Date'].apply(mdates.date2num)\n",
    "\n",
    "yearly"
   ]
  },
  {
   "cell_type": "code",
   "execution_count": null,
   "metadata": {
    "colab": {},
    "colab_type": "code",
    "id": "-3VILfdn14GR"
   },
   "outputs": [],
   "source": [
    "dataset['Returns'] = dataset['Adj Close'].pct_change().dropna()\n",
    "yearly_returns_avg = dataset['Returns'].groupby([dataset.index.year]).mean()\n",
    "yearly_returns_avg"
   ]
  }
 ],
 "metadata": {
  "accelerator": "TPU",
  "colab": {
   "authorship_tag": "ABX9TyOZyQy9rxsVgmIcYTkJkSpy",
   "name": "Annual_Returns.ipynb",
   "private_outputs": true,
   "provenance": [
    {
     "file_id": "1ebIaAe7Dwyi_0lUZ8NcxU-Ha1Bgm79dh",
     "timestamp": 1592580791703
    }
   ]
  },
  "kernelspec": {
   "display_name": "Python 3",
   "name": "python3"
  }
 },
 "nbformat": 4,
 "nbformat_minor": 0
}
