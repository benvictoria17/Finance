{
 "cells": [
  {
   "cell_type": "code",
   "execution_count": 3,
   "id": "704e03e2",
   "metadata": {},
   "outputs": [],
   "source": [
    "import pandas as pd\n",
    "import seaborn as sns \n",
    "sns.set_style(\"darkgrid\")\n",
    "import matplotlib.pyplot as plt\n",
    "%matplotlib inline"
   ]
  },
  {
   "cell_type": "code",
   "execution_count": 6,
   "id": "f91d008b",
   "metadata": {},
   "outputs": [
    {
     "name": "stdout",
     "output_type": "stream",
     "text": [
      "(32, 7)\n"
     ]
    },
    {
     "data": {
      "text/html": [
       "<div>\n",
       "<style scoped>\n",
       "    .dataframe tbody tr th:only-of-type {\n",
       "        vertical-align: middle;\n",
       "    }\n",
       "\n",
       "    .dataframe tbody tr th {\n",
       "        vertical-align: top;\n",
       "    }\n",
       "\n",
       "    .dataframe thead th {\n",
       "        text-align: right;\n",
       "    }\n",
       "</style>\n",
       "<table border=\"1\" class=\"dataframe\">\n",
       "  <thead>\n",
       "    <tr style=\"text-align: right;\">\n",
       "      <th></th>\n",
       "      <th>Code</th>\n",
       "      <th>College</th>\n",
       "      <th>1st choice</th>\n",
       "      <th>2nd choice</th>\n",
       "      <th>No of applicants admitted to their 1st choice</th>\n",
       "      <th>No of applicants admitted to their 2nd choice</th>\n",
       "      <th>Total admitted</th>\n",
       "    </tr>\n",
       "  </thead>\n",
       "  <tbody>\n",
       "    <tr>\n",
       "      <th>0</th>\n",
       "      <td>CAI</td>\n",
       "      <td>Gonville and Caius College</td>\n",
       "      <td>428</td>\n",
       "      <td>344</td>\n",
       "      <td>62.0</td>\n",
       "      <td>22.0</td>\n",
       "      <td>93.0</td>\n",
       "    </tr>\n",
       "    <tr>\n",
       "      <th>1</th>\n",
       "      <td>CC</td>\n",
       "      <td>Corpus Christi College</td>\n",
       "      <td>515</td>\n",
       "      <td>480</td>\n",
       "      <td>55.0</td>\n",
       "      <td>17.0</td>\n",
       "      <td>80.0</td>\n",
       "    </tr>\n",
       "    <tr>\n",
       "      <th>2</th>\n",
       "      <td>CHR</td>\n",
       "      <td>Christ's College</td>\n",
       "      <td>518</td>\n",
       "      <td>550</td>\n",
       "      <td>67.0</td>\n",
       "      <td>21.0</td>\n",
       "      <td>108.0</td>\n",
       "    </tr>\n",
       "    <tr>\n",
       "      <th>3</th>\n",
       "      <td>CHU</td>\n",
       "      <td>Churchill College</td>\n",
       "      <td>745</td>\n",
       "      <td>344</td>\n",
       "      <td>99.0</td>\n",
       "      <td>11.0</td>\n",
       "      <td>129.0</td>\n",
       "    </tr>\n",
       "    <tr>\n",
       "      <th>4</th>\n",
       "      <td>CL</td>\n",
       "      <td>Clare College</td>\n",
       "      <td>336</td>\n",
       "      <td>376</td>\n",
       "      <td>59.0</td>\n",
       "      <td>20.0</td>\n",
       "      <td>114.0</td>\n",
       "    </tr>\n",
       "  </tbody>\n",
       "</table>\n",
       "</div>"
      ],
      "text/plain": [
       "  Code                     College  1st choice  2nd choice  \\\n",
       "0  CAI  Gonville and Caius College         428         344   \n",
       "1   CC      Corpus Christi College         515         480   \n",
       "2  CHR            Christ's College         518         550   \n",
       "3  CHU           Churchill College         745         344   \n",
       "4   CL               Clare College         336         376   \n",
       "\n",
       "   No of applicants admitted to their 1st choice  \\\n",
       "0                                           62.0   \n",
       "1                                           55.0   \n",
       "2                                           67.0   \n",
       "3                                           99.0   \n",
       "4                                           59.0   \n",
       "\n",
       "   No of applicants admitted to their 2nd choice  Total admitted  \n",
       "0                                           22.0            93.0  \n",
       "1                                           17.0            80.0  \n",
       "2                                           21.0           108.0  \n",
       "3                                           11.0           129.0  \n",
       "4                                           20.0           114.0  "
      ]
     },
     "execution_count": 6,
     "metadata": {},
     "output_type": "execute_result"
    }
   ],
   "source": [
    "data19=pd.read_csv('https://raw.githubusercontent.com/benvictoria17/DataAnalytics/master/dataset/Popularity%20of%20Cambridge%20University%20Colleges/Cam_stats_2019.csv')\n",
    "print(data19.shape)\n",
    "data19.head()"
   ]
  },
  {
   "cell_type": "code",
   "execution_count": 7,
   "id": "deceec2f",
   "metadata": {},
   "outputs": [],
   "source": [
    "data19.drop([31], axis=0, inplace=True)"
   ]
  },
  {
   "cell_type": "code",
   "execution_count": 11,
   "id": "3e3dd40b",
   "metadata": {},
   "outputs": [
    {
     "data": {
      "text/plain": [
       "Text(0.5, 1.0, 'Most popular Cambridge colleges for graduate students in 2019')"
      ]
     },
     "execution_count": 11,
     "metadata": {},
     "output_type": "execute_result"
    },
    {
     "data": {
      "image/png": "[encoded data removed]",
      "text/plain": [
       "<Figure size 864x360 with 1 Axes>"
      ]
     },
     "metadata": {
      "needs_background": "light"
     },
     "output_type": "display_data"
    }
   ],
   "source": [
    "plt.figure(figsize=(12,5))\n",
    "\n",
    "sns.barplot(x='Code', y='1st choice', data=data19, \n",
    "            order=data19.sort_values('1st choice',ascending=False).Code)\n",
    "\n",
    "plt.title('Most popular Cambridge colleges for graduate students in 2019')"
   ]
  },
  {
   "cell_type": "code",
   "execution_count": 13,
   "id": "4a5edd74",
   "metadata": {},
   "outputs": [
    {
     "data": {
      "text/plain": [
       "Text(0.5, 1.0, 'Admission rate for Cambridge colleges in 2019')"
      ]
     },
     "execution_count": 13,
     "metadata": {},
     "output_type": "execute_result"
    },
    {
     "data": {
      "image/png": "[encoded data removed]",
      "text/plain": [
       "<Figure size 864x360 with 1 Axes>"
      ]
     },
     "metadata": {
      "needs_background": "light"
     },
     "output_type": "display_data"
    }
   ],
   "source": [
    "data19['admission rate']=data19['No of applicants admitted to their 1st choice']/data19['1st choice']\n",
    "\n",
    "plt.figure(figsize=(12,5))\n",
    "\n",
    "sns.barplot(x='Code', y='admission rate', data=data19,\n",
    "           order=data19.sort_values('admission rate',ascending=False).Code)\n",
    "\n",
    "plt.title('Admission rate for Cambridge colleges in 2019')"
   ]
  },
  {
   "cell_type": "code",
   "execution_count": 14,
   "id": "61cb0bca",
   "metadata": {},
   "outputs": [
    {
     "data": {
      "text/plain": [
       "Text(0.5, 1.0, 'Number of postgrad students admitted to Cambridge colleges in 2019')"
      ]
     },
     "execution_count": 14,
     "metadata": {},
     "output_type": "execute_result"
    },
    {
     "data": {
      "image/png": "[encoded data removed]",
      "text/plain": [
       "<Figure size 864x360 with 1 Axes>"
      ]
     },
     "metadata": {
      "needs_background": "light"
     },
     "output_type": "display_data"
    }
   ],
   "source": [
    "plt.figure(figsize=(12,5))\n",
    "\n",
    "sns.barplot(x='Code', y='Total admitted', data=data19,\n",
    "           order=data19.sort_values('1st choice',ascending=False).Code)\n",
    "\n",
    "plt.title('Number of postgrad students admitted to Cambridge colleges in 2019')"
   ]
  }
 ],
 "metadata": {
  "kernelspec": {
   "display_name": "Python 3",
   "language": "python",
   "name": "python3"
  },
  "language_info": {
   "codemirror_mode": {
    "name": "ipython",
    "version": 3
   },
   "file_extension": ".py",
   "mimetype": "text/x-python",
   "name": "python",
   "nbconvert_exporter": "python",
   "pygments_lexer": "ipython3",
   "version": "3.9.5"
  }
 },
 "nbformat": 4,
 "nbformat_minor": 5
}
