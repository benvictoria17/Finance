{
 "cells":[
  {
   "cell_type":"code",
   "source":[
    "!pip install missingno\n",
    "import pandas as pd\n",
    "import warnings\n",
    "warnings.filterwarnings('ignore')\n",
    "import missingno as msn \n",
    "import seaborn as sns \n",
    "import matplotlib.pyplot as plt"
   ],
   "execution_count":11,
   "outputs":[
    {
     "name":"stdout",
     "text":[
      "Requirement already satisfied: missingno in \/opt\/python\/envs\/default\/lib\/python3.8\/site-packages (0.5.1)\r\n",
      "Requirement already satisfied: scipy in \/opt\/python\/envs\/default\/lib\/python3.8\/site-packages (from missingno) (1.7.3)\r\n",
      "Requirement already satisfied: numpy in \/opt\/python\/envs\/default\/lib\/python3.8\/site-packages (from missingno) (1.21.5)\r\n",
      "Requirement already satisfied: matplotlib in \/opt\/python\/envs\/default\/lib\/python3.8\/site-packages (from missingno) (3.5.1)\r\n",
      "Requirement already satisfied: seaborn in \/opt\/python\/envs\/default\/lib\/python3.8\/site-packages (from missingno) (0.11.2)\r\n",
      "Requirement already satisfied: fonttools>=4.22.0 in \/opt\/python\/envs\/default\/lib\/python3.8\/site-packages (from matplotlib->missingno) (4.34.4)\r\n",
      "Requirement already satisfied: packaging>=20.0 in \/opt\/python\/envs\/default\/lib\/python3.8\/site-packages (from matplotlib->missingno) (21.3)\r\n",
      "Requirement already satisfied: pyparsing>=2.2.1 in \/opt\/python\/envs\/default\/lib\/python3.8\/site-packages (from matplotlib->missingno) (3.0.9)\r\n",
      "Requirement already satisfied: python-dateutil>=2.7 in \/opt\/python\/envs\/default\/lib\/python3.8\/site-packages (from matplotlib->missingno) (2.8.2)\r\n",
      "Requirement already satisfied: cycler>=0.10 in \/opt\/python\/envs\/default\/lib\/python3.8\/site-packages (from matplotlib->missingno) (0.11.0)\r\n",
      "Requirement already satisfied: pillow>=6.2.0 in \/opt\/python\/envs\/default\/lib\/python3.8\/site-packages (from matplotlib->missingno) (9.2.0)\r\n",
      "Requirement already satisfied: kiwisolver>=1.0.1 in \/opt\/python\/envs\/default\/lib\/python3.8\/site-packages (from matplotlib->missingno) (1.4.4)\r\n",
      "Requirement already satisfied: pandas>=0.23 in \/opt\/python\/envs\/default\/lib\/python3.8\/site-packages (from seaborn->missingno) (1.3.5)\r\n",
      "Requirement already satisfied: pytz>=2017.3 in \/opt\/python\/envs\/default\/lib\/python3.8\/site-packages (from pandas>=0.23->seaborn->missingno) (2022.1)\r\n",
      "Requirement already satisfied: six>=1.5 in \/opt\/python\/envs\/default\/lib\/python3.8\/site-packages (from python-dateutil>=2.7->matplotlib->missingno) (1.16.0)\r\n",
      "\u001b[33mWARNING: You are using pip version 21.3.1; however, version 22.2.2 is available.\r\n",
      "You should consider upgrading via the '\/opt\/python\/envs\/default\/bin\/python -m pip install --upgrade pip' command.\u001b[0m\r\n"
     ],
     "output_type":"stream"
    }
   ],
   "metadata":{
    "datalore":{
     "type":"CODE",
     "hide_input_from_viewers":false,
     "hide_output_from_viewers":false,
     "node_id":"DG3ba2gi6nQpIO0G4cvxvS"
    }
   }
  },
  {
   "cell_type":"code",
   "source":[
    "df = pd.read_csv(\"https:\/\/raw.githubusercontent.com\/benvictoria17\/Finance\/main\/dataset\/Medical%20Cost%20Personal%20Datasets\/insurance.csv\")"
   ],
   "execution_count":12,
   "outputs":[
    
   ],
   "metadata":{
    "datalore":{
     "type":"CODE",
     "hide_input_from_viewers":false,
     "hide_output_from_viewers":false,
     "node_id":"cs6ISV7WgLMS5eMxlzzQxr"
    }
   }
  },
  {
   "cell_type":"code",
   "source":[
    "df.head()"
   ],
   "execution_count":13,
   "outputs":[
    {
     "data":{
      "text\/html":[
       "<div>\n",
       "<style scoped>\n",
       "    .dataframe tbody tr th:only-of-type {\n",
       "        vertical-align: middle;\n",
       "    }\n",
       "\n",
       "    .dataframe tbody tr th {\n",
       "        vertical-align: top;\n",
       "    }\n",
       "\n",
       "    .dataframe thead th {\n",
       "        text-align: right;\n",
       "    }\n",
       "<\/style>\n",
       "<table border=\"1\" class=\"dataframe\">\n",
       "  <thead>\n",
       "    <tr style=\"text-align: right;\">\n",
       "      <th><\/th>\n",
       "      <th>age<\/th>\n",
       "      <th>sex<\/th>\n",
       "      <th>bmi<\/th>\n",
       "      <th>children<\/th>\n",
       "      <th>smoker<\/th>\n",
       "      <th>region<\/th>\n",
       "      <th>charges<\/th>\n",
       "    <\/tr>\n",
       "  <\/thead>\n",
       "  <tbody>\n",
       "    <tr>\n",
       "      <th>0<\/th>\n",
       "      <td>19<\/td>\n",
       "      <td>female<\/td>\n",
       "      <td>27.900<\/td>\n",
       "      <td>0<\/td>\n",
       "      <td>yes<\/td>\n",
       "      <td>southwest<\/td>\n",
       "      <td>16884.92400<\/td>\n",
       "    <\/tr>\n",
       "    <tr>\n",
       "      <th>1<\/th>\n",
       "      <td>18<\/td>\n",
       "      <td>male<\/td>\n",
       "      <td>33.770<\/td>\n",
       "      <td>1<\/td>\n",
       "      <td>no<\/td>\n",
       "      <td>southeast<\/td>\n",
       "      <td>1725.55230<\/td>\n",
       "    <\/tr>\n",
       "    <tr>\n",
       "      <th>2<\/th>\n",
       "      <td>28<\/td>\n",
       "      <td>male<\/td>\n",
       "      <td>33.000<\/td>\n",
       "      <td>3<\/td>\n",
       "      <td>no<\/td>\n",
       "      <td>southeast<\/td>\n",
       "      <td>4449.46200<\/td>\n",
       "    <\/tr>\n",
       "    <tr>\n",
       "      <th>3<\/th>\n",
       "      <td>33<\/td>\n",
       "      <td>male<\/td>\n",
       "      <td>22.705<\/td>\n",
       "      <td>0<\/td>\n",
       "      <td>no<\/td>\n",
       "      <td>northwest<\/td>\n",
       "      <td>21984.47061<\/td>\n",
       "    <\/tr>\n",
       "    <tr>\n",
       "      <th>4<\/th>\n",
       "      <td>32<\/td>\n",
       "      <td>male<\/td>\n",
       "      <td>28.880<\/td>\n",
       "      <td>0<\/td>\n",
       "      <td>no<\/td>\n",
       "      <td>northwest<\/td>\n",
       "      <td>3866.85520<\/td>\n",
       "    <\/tr>\n",
       "  <\/tbody>\n",
       "<\/table>\n",
       "<\/div>"
      ]
     },
     "metadata":{
      
     },
     "output_type":"display_data"
    }
   ],
   "metadata":{
    "datalore":{
     "type":"CODE",
     "hide_input_from_viewers":false,
     "hide_output_from_viewers":false,
     "node_id":"OwkPfnjILGVvl4hoLa52x2"
    }
   }
  },
  {
   "cell_type":"code",
   "source":[
    "df.info()"
   ],
   "execution_count":14,
   "outputs":[
    {
     "name":"stdout",
     "text":[
      "<class 'pandas.core.frame.DataFrame'>\n",
      "RangeIndex: 1338 entries, 0 to 1337\n",
      "Data columns (total 7 columns):\n",
      " #   Column    Non-Null Count  Dtype  \n",
      "---  ------    --------------  -----  \n",
      " 0   age       1338 non-null   int64  \n",
      " 1   sex       1338 non-null   object \n",
      " 2   bmi       1338 non-null   float64\n",
      " 3   children  1338 non-null   int64  \n",
      " 4   smoker    1338 non-null   object \n",
      " 5   region    1338 non-null   object \n",
      " 6   charges   1338 non-null   float64\n",
      "dtypes: float64(2), int64(2), object(3)\n",
      "memory usage: 73.3+ KB\n"
     ],
     "output_type":"stream"
    }
   ],
   "metadata":{
    "datalore":{
     "type":"CODE",
     "hide_input_from_viewers":false,
     "hide_output_from_viewers":false,
     "node_id":"SXzuw20nlyfNx9CgczV9JY"
    }
   }
  },
  {
   "cell_type":"code",
   "source":[
    "df.columns"
   ],
   "execution_count":15,
   "outputs":[
    {
     "data":{
      "text\/plain":[
       "Index(['age', 'sex', 'bmi', 'children', 'smoker', 'region', 'charges'], dtype='object')"
      ]
     },
     "metadata":{
      
     },
     "output_type":"display_data"
    }
   ],
   "metadata":{
    "datalore":{
     "type":"CODE",
     "hide_input_from_viewers":false,
     "hide_output_from_viewers":false,
     "node_id":"cCWD40JstPZYsNWzkku3Cn"
    }
   }
  },
  {
   "cell_type":"code",
   "source":[
    "df.shape"
   ],
   "execution_count":16,
   "outputs":[
    {
     "data":{
      "text\/plain":[
       "(1338, 7)"
      ]
     },
     "metadata":{
      
     },
     "output_type":"display_data"
    }
   ],
   "metadata":{
    "datalore":{
     "type":"CODE",
     "hide_input_from_viewers":false,
     "hide_output_from_viewers":false,
     "node_id":"wToIC5eEsx7mXWbApCytM5"
    }
   }
  },
  {
   "cell_type":"code",
   "source":[
    "df.isnull().sum()"
   ],
   "execution_count":17,
   "outputs":[
    {
     "data":{
      "text\/html":[
       
      ]
     },
     "metadata":{
      
     },
     "output_type":"display_data"
    }
   ],
   "metadata":{
    "datalore":{
     "type":"CODE",
     "hide_input_from_viewers":false,
     "hide_output_from_viewers":false,
     "node_id":"bXb6qApjeqXwSWLrwjnUw5"
    }
   }
  },
  {
   "cell_type":"code",
   "source":[
    "msn.bar(df)\n",
    "plt.show()"
   ],
   "execution_count":18,
   "outputs":[
    {
     "data":{
      "image\/png":"[encoded data removed]"
     },
     "metadata":{
      "image\/png":{
       
      }
     },
     "output_type":"display_data"
    }
   ],
   "metadata":{
    "datalore":{
     "type":"CODE",
     "hide_input_from_viewers":false,
     "hide_output_from_viewers":false,
     "node_id":"2TW7bfYliOgmV6DjX7ufvL"
    }
   }
  },
  {
   "cell_type":"code",
   "source":[
    "df.nunique()"
   ],
   "execution_count":19,
   "outputs":[
    {
     "data":{
      "text\/html":[
       
      ]
     },
     "metadata":{
      
     },
     "output_type":"display_data"
    }
   ],
   "metadata":{
    "datalore":{
     "type":"CODE",
     "hide_input_from_viewers":false,
     "hide_output_from_viewers":false,
     "node_id":"QxY3LHlzictzISd3tXslrU"
    }
   }
  },
  {
   "cell_type":"code",
   "source":[
    "df.describe().T"
   ],
   "execution_count":20,
   "outputs":[
    {
     "data":{
      "text\/html":[
       "<div>\n",
       "<style scoped>\n",
       "    .dataframe tbody tr th:only-of-type {\n",
       "        vertical-align: middle;\n",
       "    }\n",
       "\n",
       "    .dataframe tbody tr th {\n",
       "        vertical-align: top;\n",
       "    }\n",
       "\n",
       "    .dataframe thead th {\n",
       "        text-align: right;\n",
       "    }\n",
       "<\/style>\n",
       "<table border=\"1\" class=\"dataframe\">\n",
       "  <thead>\n",
       "    <tr style=\"text-align: right;\">\n",
       "      <th><\/th>\n",
       "      <th>count<\/th>\n",
       "      <th>mean<\/th>\n",
       "      <th>std<\/th>\n",
       "      <th>min<\/th>\n",
       "      <th>25%<\/th>\n",
       "      <th>50%<\/th>\n",
       "      <th>75%<\/th>\n",
       "      <th>max<\/th>\n",
       "    <\/tr>\n",
       "  <\/thead>\n",
       "  <tbody>\n",
       "    <tr>\n",
       "      <th>age<\/th>\n",
       "      <td>1338.0<\/td>\n",
       "      <td>39.207025<\/td>\n",
       "      <td>14.049960<\/td>\n",
       "      <td>18.0000<\/td>\n",
       "      <td>27.00000<\/td>\n",
       "      <td>39.000<\/td>\n",
       "      <td>51.000000<\/td>\n",
       "      <td>64.00000<\/td>\n",
       "    <\/tr>\n",
       "    <tr>\n",
       "      <th>bmi<\/th>\n",
       "      <td>1338.0<\/td>\n",
       "      <td>30.663397<\/td>\n",
       "      <td>6.098187<\/td>\n",
       "      <td>15.9600<\/td>\n",
       "      <td>26.29625<\/td>\n",
       "      <td>30.400<\/td>\n",
       "      <td>34.693750<\/td>\n",
       "      <td>53.13000<\/td>\n",
       "    <\/tr>\n",
       "    <tr>\n",
       "      <th>children<\/th>\n",
       "      <td>1338.0<\/td>\n",
       "      <td>1.094918<\/td>\n",
       "      <td>1.205493<\/td>\n",
       "      <td>0.0000<\/td>\n",
       "      <td>0.00000<\/td>\n",
       "      <td>1.000<\/td>\n",
       "      <td>2.000000<\/td>\n",
       "      <td>5.00000<\/td>\n",
       "    <\/tr>\n",
       "    <tr>\n",
       "      <th>charges<\/th>\n",
       "      <td>1338.0<\/td>\n",
       "      <td>13270.422265<\/td>\n",
       "      <td>12110.011237<\/td>\n",
       "      <td>1121.8739<\/td>\n",
       "      <td>4740.28715<\/td>\n",
       "      <td>9382.033<\/td>\n",
       "      <td>16639.912515<\/td>\n",
       "      <td>63770.42801<\/td>\n",
       "    <\/tr>\n",
       "  <\/tbody>\n",
       "<\/table>\n",
       "<\/div>"
      ]
     },
     "metadata":{
      
     },
     "output_type":"display_data"
    }
   ],
   "metadata":{
    "datalore":{
     "type":"CODE",
     "hide_input_from_viewers":false,
     "hide_output_from_viewers":false,
     "node_id":"MugntDHi2WcczbtoyRmGL0"
    }
   }
  },
  {
   "cell_type":"code",
   "source":[
    "df[[\"age\",\"sex\"]]"
   ],
   "execution_count":21,
   "outputs":[
    {
     "data":{
      "text\/html":[
       "<div>\n",
       "<style scoped>\n",
       "    .dataframe tbody tr th:only-of-type {\n",
       "        vertical-align: middle;\n",
       "    }\n",
       "\n",
       "    .dataframe tbody tr th {\n",
       "        vertical-align: top;\n",
       "    }\n",
       "\n",
       "    .dataframe thead th {\n",
       "        text-align: right;\n",
       "    }\n",
       "<\/style>\n",
       "<table border=\"1\" class=\"dataframe\">\n",
       "  <thead>\n",
       "    <tr style=\"text-align: right;\">\n",
       "      <th><\/th>\n",
       "      <th>age<\/th>\n",
       "      <th>sex<\/th>\n",
       "    <\/tr>\n",
       "  <\/thead>\n",
       "  <tbody>\n",
       "    <tr>\n",
       "      <th>0<\/th>\n",
       "      <td>19<\/td>\n",
       "      <td>female<\/td>\n",
       "    <\/tr>\n",
       "    <tr>\n",
       "      <th>1<\/th>\n",
       "      <td>18<\/td>\n",
       "      <td>male<\/td>\n",
       "    <\/tr>\n",
       "    <tr>\n",
       "      <th>2<\/th>\n",
       "      <td>28<\/td>\n",
       "      <td>male<\/td>\n",
       "    <\/tr>\n",
       "    <tr>\n",
       "      <th>3<\/th>\n",
       "      <td>33<\/td>\n",
       "      <td>male<\/td>\n",
       "    <\/tr>\n",
       "    <tr>\n",
       "      <th>4<\/th>\n",
       "      <td>32<\/td>\n",
       "      <td>male<\/td>\n",
       "    <\/tr>\n",
       "    <tr>\n",
       "      <th>...<\/th>\n",
       "      <td>...<\/td>\n",
       "      <td>...<\/td>\n",
       "    <\/tr>\n",
       "    <tr>\n",
       "      <th>1333<\/th>\n",
       "      <td>50<\/td>\n",
       "      <td>male<\/td>\n",
       "    <\/tr>\n",
       "    <tr>\n",
       "      <th>1334<\/th>\n",
       "      <td>18<\/td>\n",
       "      <td>female<\/td>\n",
       "    <\/tr>\n",
       "    <tr>\n",
       "      <th>1335<\/th>\n",
       "      <td>18<\/td>\n",
       "      <td>female<\/td>\n",
       "    <\/tr>\n",
       "    <tr>\n",
       "      <th>1336<\/th>\n",
       "      <td>21<\/td>\n",
       "      <td>female<\/td>\n",
       "    <\/tr>\n",
       "    <tr>\n",
       "      <th>1337<\/th>\n",
       "      <td>61<\/td>\n",
       "      <td>female<\/td>\n",
       "    <\/tr>\n",
       "  <\/tbody>\n",
       "<\/table>\n",
       "<p>1338 rows × 2 columns<\/p>\n",
       "<\/div>"
      ]
     },
     "metadata":{
      
     },
     "output_type":"display_data"
    }
   ],
   "metadata":{
    "datalore":{
     "type":"CODE",
     "hide_input_from_viewers":false,
     "hide_output_from_viewers":false,
     "node_id":"FixCKPSgmhuys5lkIyKJvr"
    }
   }
  },
  {
   "cell_type":"code",
   "source":[
    "df[\"children\"].value_counts()"
   ],
   "execution_count":22,
   "outputs":[
    {
     "data":{
      "text\/html":[
       
      ]
     },
     "metadata":{
      
     },
     "output_type":"display_data"
    }
   ],
   "metadata":{
    "datalore":{
     "type":"CODE",
     "hide_input_from_viewers":false,
     "hide_output_from_viewers":false,
     "node_id":"MKjzKpLXxFyAJQpSPk3DyA"
    }
   }
  },
  {
   "cell_type":"code",
   "source":[
    "df.loc[1:6, \"sex\"]"
   ],
   "execution_count":23,
   "outputs":[
    {
     "data":{
      "text\/html":[
       
      ]
     },
     "metadata":{
      
     },
     "output_type":"display_data"
    }
   ],
   "metadata":{
    "datalore":{
     "type":"CODE",
     "hide_input_from_viewers":false,
     "hide_output_from_viewers":false,
     "node_id":"2c3zzx5MmvfF0cYXCLIV4J"
    }
   }
  },
  {
   "cell_type":"code",
   "source":[
    "df.loc[[1,7,9],['sex','smoker']]"
   ],
   "execution_count":24,
   "outputs":[
    {
     "data":{
      "text\/html":[
       "<div>\n",
       "<style scoped>\n",
       "    .dataframe tbody tr th:only-of-type {\n",
       "        vertical-align: middle;\n",
       "    }\n",
       "\n",
       "    .dataframe tbody tr th {\n",
       "        vertical-align: top;\n",
       "    }\n",
       "\n",
       "    .dataframe thead th {\n",
       "        text-align: right;\n",
       "    }\n",
       "<\/style>\n",
       "<table border=\"1\" class=\"dataframe\">\n",
       "  <thead>\n",
       "    <tr style=\"text-align: right;\">\n",
       "      <th><\/th>\n",
       "      <th>sex<\/th>\n",
       "      <th>smoker<\/th>\n",
       "    <\/tr>\n",
       "  <\/thead>\n",
       "  <tbody>\n",
       "    <tr>\n",
       "      <th>1<\/th>\n",
       "      <td>male<\/td>\n",
       "      <td>no<\/td>\n",
       "    <\/tr>\n",
       "    <tr>\n",
       "      <th>7<\/th>\n",
       "      <td>female<\/td>\n",
       "      <td>no<\/td>\n",
       "    <\/tr>\n",
       "    <tr>\n",
       "      <th>9<\/th>\n",
       "      <td>female<\/td>\n",
       "      <td>no<\/td>\n",
       "    <\/tr>\n",
       "  <\/tbody>\n",
       "<\/table>\n",
       "<\/div>"
      ]
     },
     "metadata":{
      
     },
     "output_type":"display_data"
    }
   ],
   "metadata":{
    "datalore":{
     "type":"CODE",
     "hide_input_from_viewers":false,
     "hide_output_from_viewers":false,
     "node_id":"gKf2s1oCR9ZZZ9blFC7R81"
    }
   }
  },
  {
   "cell_type":"code",
   "source":[
    "df.iloc[3:5,4]"
   ],
   "execution_count":25,
   "outputs":[
    {
     "data":{
      "text\/html":[
       
      ]
     },
     "metadata":{
      
     },
     "output_type":"display_data"
    }
   ],
   "metadata":{
    "datalore":{
     "type":"CODE",
     "hide_input_from_viewers":false,
     "hide_output_from_viewers":false,
     "node_id":"nlT8MZ4DevgtlzOBu15eWd"
    }
   }
  },
  {
   "cell_type":"code",
   "source":[
    "df.iloc[[2,4,5],[2,3,4]]"
   ],
   "execution_count":26,
   "outputs":[
    {
     "data":{
      "text\/html":[
       "<div>\n",
       "<style scoped>\n",
       "    .dataframe tbody tr th:only-of-type {\n",
       "        vertical-align: middle;\n",
       "    }\n",
       "\n",
       "    .dataframe tbody tr th {\n",
       "        vertical-align: top;\n",
       "    }\n",
       "\n",
       "    .dataframe thead th {\n",
       "        text-align: right;\n",
       "    }\n",
       "<\/style>\n",
       "<table border=\"1\" class=\"dataframe\">\n",
       "  <thead>\n",
       "    <tr style=\"text-align: right;\">\n",
       "      <th><\/th>\n",
       "      <th>bmi<\/th>\n",
       "      <th>children<\/th>\n",
       "      <th>smoker<\/th>\n",
       "    <\/tr>\n",
       "  <\/thead>\n",
       "  <tbody>\n",
       "    <tr>\n",
       "      <th>2<\/th>\n",
       "      <td>33.00<\/td>\n",
       "      <td>3<\/td>\n",
       "      <td>no<\/td>\n",
       "    <\/tr>\n",
       "    <tr>\n",
       "      <th>4<\/th>\n",
       "      <td>28.88<\/td>\n",
       "      <td>0<\/td>\n",
       "      <td>no<\/td>\n",
       "    <\/tr>\n",
       "    <tr>\n",
       "      <th>5<\/th>\n",
       "      <td>25.74<\/td>\n",
       "      <td>0<\/td>\n",
       "      <td>no<\/td>\n",
       "    <\/tr>\n",
       "  <\/tbody>\n",
       "<\/table>\n",
       "<\/div>"
      ]
     },
     "metadata":{
      
     },
     "output_type":"display_data"
    }
   ],
   "metadata":{
    "datalore":{
     "type":"CODE",
     "hide_input_from_viewers":false,
     "hide_output_from_viewers":false,
     "node_id":"zl7rf7CPuni51yPCsT1XmV"
    }
   }
  },
  {
   "cell_type":"code",
   "source":[
    "sns.set_palette('pastel')\n",
    "plt.figure(figsize=(12,9))\n",
    "sns.countplot(x='children',data=df)\n",
    "plt.title('children values')\n",
    "plt.show()\n",
    "\n",
    "plt.figure(figsize=(12,9))\n",
    "sns.distplot(df.bmi,color='red')\n",
    "plt.title('bmi density')\n",
    "plt.show()\n",
    "\n",
    "df['children'].value_counts(normalize=True)"
   ],
   "execution_count":27,
   "outputs":[
    {
     "data":{
      "image\/png":"[encoded data removed]"
     },
     "metadata":{
      "image\/png":{
       
      }
     },
     "output_type":"display_data"
    },
    {
     "data":{
      "image\/png":"[encoded data removed]"
     },
     "metadata":{
      "image\/png":{
       
      }
     },
     "output_type":"display_data"
    },
    {
     "data":{
      "text\/html":[
       
      ]
     },
     "metadata":{
      
     },
     "output_type":"display_data"
    }
   ],
   "metadata":{
    "datalore":{
     "type":"CODE",
     "hide_input_from_viewers":false,
     "hide_output_from_viewers":false,
     "node_id":"yjnO1CbK98t2fespOzCvLI"
    }
   }
  },
  {
   "cell_type":"code",
   "source":[
    "sns.set_palette('dark')\n",
    "plt.figure(figsize=(12,9))\n",
    "df['children'].value_counts(normalize=True).plot().bar\n",
    "plt.title('children values with percentage')\n",
    "plt.xlabel('children values')\n",
    "plt.ylabel('percentage')\n",
    "plt.show()\n",
    "\n",
    "df.region.value_counts()"
   ],
   "execution_count":28,
   "outputs":[
    {
     "data":{
      "image\/png":"[encoded data removed]"
     },
     "metadata":{
      "image\/png":{
       
      }
     },
     "output_type":"display_data"
    },
    {
     "data":{
      "text\/html":[
       
      ]
     },
     "metadata":{
      
     },
     "output_type":"display_data"
    }
   ],
   "metadata":{
    "datalore":{
     "type":"CODE",
     "hide_input_from_viewers":false,
     "hide_output_from_viewers":false,
     "node_id":"jTOL8DWy4tI1qk0pDEeW1T"
    }
   }
  },
  {
   "cell_type":"code",
   "source":[
    "df[df['region'].isin(['southeast', 'northeast'])]"
   ],
   "execution_count":29,
   "outputs":[
    {
     "data":{
      "text\/html":[
       "<div>\n",
       "<style scoped>\n",
       "    .dataframe tbody tr th:only-of-type {\n",
       "        vertical-align: middle;\n",
       "    }\n",
       "\n",
       "    .dataframe tbody tr th {\n",
       "        vertical-align: top;\n",
       "    }\n",
       "\n",
       "    .dataframe thead th {\n",
       "        text-align: right;\n",
       "    }\n",
       "<\/style>\n",
       "<table border=\"1\" class=\"dataframe\">\n",
       "  <thead>\n",
       "    <tr style=\"text-align: right;\">\n",
       "      <th><\/th>\n",
       "      <th>age<\/th>\n",
       "      <th>sex<\/th>\n",
       "      <th>bmi<\/th>\n",
       "      <th>children<\/th>\n",
       "      <th>smoker<\/th>\n",
       "      <th>region<\/th>\n",
       "      <th>charges<\/th>\n",
       "    <\/tr>\n",
       "  <\/thead>\n",
       "  <tbody>\n",
       "    <tr>\n",
       "      <th>1<\/th>\n",
       "      <td>18<\/td>\n",
       "      <td>male<\/td>\n",
       "      <td>33.770<\/td>\n",
       "      <td>1<\/td>\n",
       "      <td>no<\/td>\n",
       "      <td>southeast<\/td>\n",
       "      <td>1725.55230<\/td>\n",
       "    <\/tr>\n",
       "    <tr>\n",
       "      <th>2<\/th>\n",
       "      <td>28<\/td>\n",
       "      <td>male<\/td>\n",
       "      <td>33.000<\/td>\n",
       "      <td>3<\/td>\n",
       "      <td>no<\/td>\n",
       "      <td>southeast<\/td>\n",
       "      <td>4449.46200<\/td>\n",
       "    <\/tr>\n",
       "    <tr>\n",
       "      <th>5<\/th>\n",
       "      <td>31<\/td>\n",
       "      <td>female<\/td>\n",
       "      <td>25.740<\/td>\n",
       "      <td>0<\/td>\n",
       "      <td>no<\/td>\n",
       "      <td>southeast<\/td>\n",
       "      <td>3756.62160<\/td>\n",
       "    <\/tr>\n",
       "    <tr>\n",
       "      <th>6<\/th>\n",
       "      <td>46<\/td>\n",
       "      <td>female<\/td>\n",
       "      <td>33.440<\/td>\n",
       "      <td>1<\/td>\n",
       "      <td>no<\/td>\n",
       "      <td>southeast<\/td>\n",
       "      <td>8240.58960<\/td>\n",
       "    <\/tr>\n",
       "    <tr>\n",
       "      <th>8<\/th>\n",
       "      <td>37<\/td>\n",
       "      <td>male<\/td>\n",
       "      <td>29.830<\/td>\n",
       "      <td>2<\/td>\n",
       "      <td>no<\/td>\n",
       "      <td>northeast<\/td>\n",
       "      <td>6406.41070<\/td>\n",
       "    <\/tr>\n",
       "    <tr>\n",
       "      <th>...<\/th>\n",
       "      <td>...<\/td>\n",
       "      <td>...<\/td>\n",
       "      <td>...<\/td>\n",
       "      <td>...<\/td>\n",
       "      <td>...<\/td>\n",
       "      <td>...<\/td>\n",
       "      <td>...<\/td>\n",
       "    <\/tr>\n",
       "    <tr>\n",
       "      <th>1327<\/th>\n",
       "      <td>51<\/td>\n",
       "      <td>male<\/td>\n",
       "      <td>30.030<\/td>\n",
       "      <td>1<\/td>\n",
       "      <td>no<\/td>\n",
       "      <td>southeast<\/td>\n",
       "      <td>9377.90470<\/td>\n",
       "    <\/tr>\n",
       "    <tr>\n",
       "      <th>1328<\/th>\n",
       "      <td>23<\/td>\n",
       "      <td>female<\/td>\n",
       "      <td>24.225<\/td>\n",
       "      <td>2<\/td>\n",
       "      <td>no<\/td>\n",
       "      <td>northeast<\/td>\n",
       "      <td>22395.74424<\/td>\n",
       "    <\/tr>\n",
       "    <tr>\n",
       "      <th>1330<\/th>\n",
       "      <td>57<\/td>\n",
       "      <td>female<\/td>\n",
       "      <td>25.740<\/td>\n",
       "      <td>2<\/td>\n",
       "      <td>no<\/td>\n",
       "      <td>southeast<\/td>\n",
       "      <td>12629.16560<\/td>\n",
       "    <\/tr>\n",
       "    <tr>\n",
       "      <th>1334<\/th>\n",
       "      <td>18<\/td>\n",
       "      <td>female<\/td>\n",
       "      <td>31.920<\/td>\n",
       "      <td>0<\/td>\n",
       "      <td>no<\/td>\n",
       "      <td>northeast<\/td>\n",
       "      <td>2205.98080<\/td>\n",
       "    <\/tr>\n",
       "    <tr>\n",
       "      <th>1335<\/th>\n",
       "      <td>18<\/td>\n",
       "      <td>female<\/td>\n",
       "      <td>36.850<\/td>\n",
       "      <td>0<\/td>\n",
       "      <td>no<\/td>\n",
       "      <td>southeast<\/td>\n",
       "      <td>1629.83350<\/td>\n",
       "    <\/tr>\n",
       "  <\/tbody>\n",
       "<\/table>\n",
       "<p>688 rows × 7 columns<\/p>\n",
       "<\/div>"
      ]
     },
     "metadata":{
      
     },
     "output_type":"display_data"
    }
   ],
   "metadata":{
    "datalore":{
     "type":"CODE",
     "hide_input_from_viewers":false,
     "hide_output_from_viewers":false,
     "node_id":"YG6CZSQ80813qql32754Q1"
    }
   }
  },
  {
   "cell_type":"code",
   "source":[
    "df.head()"
   ],
   "execution_count":30,
   "outputs":[
    {
     "data":{
      "text\/html":[
       "<div>\n",
       "<style scoped>\n",
       "    .dataframe tbody tr th:only-of-type {\n",
       "        vertical-align: middle;\n",
       "    }\n",
       "\n",
       "    .dataframe tbody tr th {\n",
       "        vertical-align: top;\n",
       "    }\n",
       "\n",
       "    .dataframe thead th {\n",
       "        text-align: right;\n",
       "    }\n",
       "<\/style>\n",
       "<table border=\"1\" class=\"dataframe\">\n",
       "  <thead>\n",
       "    <tr style=\"text-align: right;\">\n",
       "      <th><\/th>\n",
       "      <th>age<\/th>\n",
       "      <th>sex<\/th>\n",
       "      <th>bmi<\/th>\n",
       "      <th>children<\/th>\n",
       "      <th>smoker<\/th>\n",
       "      <th>region<\/th>\n",
       "      <th>charges<\/th>\n",
       "    <\/tr>\n",
       "  <\/thead>\n",
       "  <tbody>\n",
       "    <tr>\n",
       "      <th>0<\/th>\n",
       "      <td>19<\/td>\n",
       "      <td>female<\/td>\n",
       "      <td>27.900<\/td>\n",
       "      <td>0<\/td>\n",
       "      <td>yes<\/td>\n",
       "      <td>southwest<\/td>\n",
       "      <td>16884.92400<\/td>\n",
       "    <\/tr>\n",
       "    <tr>\n",
       "      <th>1<\/th>\n",
       "      <td>18<\/td>\n",
       "      <td>male<\/td>\n",
       "      <td>33.770<\/td>\n",
       "      <td>1<\/td>\n",
       "      <td>no<\/td>\n",
       "      <td>southeast<\/td>\n",
       "      <td>1725.55230<\/td>\n",
       "    <\/tr>\n",
       "    <tr>\n",
       "      <th>2<\/th>\n",
       "      <td>28<\/td>\n",
       "      <td>male<\/td>\n",
       "      <td>33.000<\/td>\n",
       "      <td>3<\/td>\n",
       "      <td>no<\/td>\n",
       "      <td>southeast<\/td>\n",
       "      <td>4449.46200<\/td>\n",
       "    <\/tr>\n",
       "    <tr>\n",
       "      <th>3<\/th>\n",
       "      <td>33<\/td>\n",
       "      <td>male<\/td>\n",
       "      <td>22.705<\/td>\n",
       "      <td>0<\/td>\n",
       "      <td>no<\/td>\n",
       "      <td>northwest<\/td>\n",
       "      <td>21984.47061<\/td>\n",
       "    <\/tr>\n",
       "    <tr>\n",
       "      <th>4<\/th>\n",
       "      <td>32<\/td>\n",
       "      <td>male<\/td>\n",
       "      <td>28.880<\/td>\n",
       "      <td>0<\/td>\n",
       "      <td>no<\/td>\n",
       "      <td>northwest<\/td>\n",
       "      <td>3866.85520<\/td>\n",
       "    <\/tr>\n",
       "  <\/tbody>\n",
       "<\/table>\n",
       "<\/div>"
      ]
     },
     "metadata":{
      
     },
     "output_type":"display_data"
    }
   ],
   "metadata":{
    "datalore":{
     "type":"CODE",
     "hide_input_from_viewers":false,
     "hide_output_from_viewers":false,
     "node_id":"xRad0yrjwmRMxAyxBdZLmk"
    }
   }
  },
  {
   "cell_type":"code",
   "source":[
    "df.groupby('sex')['age'].mean()"
   ],
   "execution_count":31,
   "outputs":[
    {
     "data":{
      "text\/html":[
       
      ]
     },
     "metadata":{
      
     },
     "output_type":"display_data"
    }
   ],
   "metadata":{
    "datalore":{
     "type":"CODE",
     "hide_input_from_viewers":false,
     "hide_output_from_viewers":false,
     "node_id":"jUKnSQZZb23fWSt0IGa5I2"
    }
   }
  },
  {
   "cell_type":"code",
   "source":[
    "sns.set_palette('bright')\n",
    "plt.figure(figsize=(16,9))\n",
    "sns.countplot(x='age',hue='sex' ,data=df)\n",
    "plt.title('Age values by sex')\n",
    "plt.xticks(rotation=90)\n",
    "plt.show()\n",
    "\n",
    "df.groupby(['sex', 'smoker'])['age'].mean()"
   ],
   "execution_count":32,
   "outputs":[
    {
     "data":{
      "image\/png":"[encoded data removed]"
     },
     "metadata":{
      "image\/png":{
       
      }
     },
     "output_type":"display_data"
    },
    {
     "data":{
      "text\/html":[
       
      ]
     },
     "metadata":{
      
     },
     "output_type":"display_data"
    }
   ],
   "metadata":{
    "datalore":{
     "type":"CODE",
     "hide_input_from_viewers":false,
     "hide_output_from_viewers":false,
     "node_id":"zZtdo4TUGCfXh2LYHmTPij"
    }
   }
  },
  {
   "cell_type":"code",
   "source":[
    "df.groupby('sex')['age'].agg(['mean', 'std'])"
   ],
   "execution_count":33,
   "outputs":[
    {
     "data":{
      "text\/html":[
       "<div>\n",
       "<style scoped>\n",
       "    .dataframe tbody tr th:only-of-type {\n",
       "        vertical-align: middle;\n",
       "    }\n",
       "\n",
       "    .dataframe tbody tr th {\n",
       "        vertical-align: top;\n",
       "    }\n",
       "\n",
       "    .dataframe thead th {\n",
       "        text-align: right;\n",
       "    }\n",
       "<\/style>\n",
       "<table border=\"1\" class=\"dataframe\">\n",
       "  <thead>\n",
       "    <tr style=\"text-align: right;\">\n",
       "      <th><\/th>\n",
       "      <th>mean<\/th>\n",
       "      <th>std<\/th>\n",
       "    <\/tr>\n",
       "    <tr>\n",
       "      <th>sex<\/th>\n",
       "      <th><\/th>\n",
       "      <th><\/th>\n",
       "    <\/tr>\n",
       "  <\/thead>\n",
       "  <tbody>\n",
       "    <tr>\n",
       "      <th>female<\/th>\n",
       "      <td>39.503021<\/td>\n",
       "      <td>14.054223<\/td>\n",
       "    <\/tr>\n",
       "    <tr>\n",
       "      <th>male<\/th>\n",
       "      <td>38.917160<\/td>\n",
       "      <td>14.050141<\/td>\n",
       "    <\/tr>\n",
       "  <\/tbody>\n",
       "<\/table>\n",
       "<\/div>"
      ]
     },
     "metadata":{
      
     },
     "output_type":"display_data"
    }
   ],
   "metadata":{
    "datalore":{
     "type":"CODE",
     "hide_input_from_viewers":false,
     "hide_output_from_viewers":false,
     "node_id":"LKcXTFcTdS2tMZCjF74Qix"
    }
   }
  },
  {
   "cell_type":"code",
   "source":[
    "plt.figure(figsize=(12,7))\n",
    "sns.heatmap(df.corr(),annot=True,cmap='gist_earth')\n",
    "plt.title(\"Heatmap\")\n",
    "plt.show()\n",
    "\n",
    "df.groupby('sex')['age', 'charges'].mean()"
   ],
   "execution_count":34,
   "outputs":[
    {
     "data":{
      "image\/png":"[encoded data removed]"
     },
     "metadata":{
      "image\/png":{
       
      }
     },
     "output_type":"display_data"
    },
    {
     "data":{
      "text\/html":[
       "<div>\n",
       "<style scoped>\n",
       "    .dataframe tbody tr th:only-of-type {\n",
       "        vertical-align: middle;\n",
       "    }\n",
       "\n",
       "    .dataframe tbody tr th {\n",
       "        vertical-align: top;\n",
       "    }\n",
       "\n",
       "    .dataframe thead th {\n",
       "        text-align: right;\n",
       "    }\n",
       "<\/style>\n",
       "<table border=\"1\" class=\"dataframe\">\n",
       "  <thead>\n",
       "    <tr style=\"text-align: right;\">\n",
       "      <th><\/th>\n",
       "      <th>age<\/th>\n",
       "      <th>charges<\/th>\n",
       "    <\/tr>\n",
       "    <tr>\n",
       "      <th>sex<\/th>\n",
       "      <th><\/th>\n",
       "      <th><\/th>\n",
       "    <\/tr>\n",
       "  <\/thead>\n",
       "  <tbody>\n",
       "    <tr>\n",
       "      <th>female<\/th>\n",
       "      <td>39.503021<\/td>\n",
       "      <td>12569.578844<\/td>\n",
       "    <\/tr>\n",
       "    <tr>\n",
       "      <th>male<\/th>\n",
       "      <td>38.917160<\/td>\n",
       "      <td>13956.751178<\/td>\n",
       "    <\/tr>\n",
       "  <\/tbody>\n",
       "<\/table>\n",
       "<\/div>"
      ]
     },
     "metadata":{
      
     },
     "output_type":"display_data"
    }
   ],
   "metadata":{
    "datalore":{
     "type":"CODE",
     "hide_input_from_viewers":false,
     "hide_output_from_viewers":false,
     "node_id":"h5BWVoFvZfcv2O9AEaZBvj"
    }
   }
  },
  {
   "cell_type":"code",
   "source":[
    "plt.figure(figsize=(12,9))\n",
    "sns.distplot(df['charges'])\n",
    "plt.title('charges density')\n",
    "plt.show()\n",
    "\n",
    "df['age'].max()"
   ],
   "execution_count":35,
   "outputs":[
    {
     "data":{
      "image\/png":"[encoded data removed]"
     },
     "metadata":{
      "image\/png":{
       
      }
     },
     "output_type":"display_data"
    },
    {
     "data":{
      "text\/plain":[
       "64"
      ]
     },
     "metadata":{
      
     },
     "output_type":"display_data"
    }
   ],
   "metadata":{
    "datalore":{
     "type":"CODE",
     "hide_input_from_viewers":false,
     "hide_output_from_viewers":false,
     "node_id":"mPdOSochLgWd96T0zwM2V5"
    }
   }
  },
  {
   "cell_type":"code",
   "source":[
    "df[\"age\"].max"
   ],
   "execution_count":36,
   "outputs":[
    {
     "data":{
      "text\/plain":[
       "<bound method NDFrame._add_numeric_operations.<locals>.max of 0       19\n",
       "1       18\n",
       "2       28\n",
       "3       33\n",
       "4       32\n",
       "        ..\n",
       "1333    50\n",
       "1334    18\n",
       "1335    18\n",
       "1336    21\n",
       "1337    61\n",
       "Name: age, Length: 1338, dtype: int64>"
      ]
     },
     "metadata":{
      
     },
     "output_type":"display_data"
    }
   ],
   "metadata":{
    "datalore":{
     "type":"CODE",
     "hide_input_from_viewers":false,
     "hide_output_from_viewers":false,
     "node_id":"R0tIGj4BxjcpQmUhWXcz2f"
    }
   }
  },
  {
   "cell_type":"code",
   "source":[
    "df[\"age\"].idxmax()"
   ],
   "execution_count":37,
   "outputs":[
    {
     "data":{
      "text\/plain":[
       "62"
      ]
     },
     "metadata":{
      
     },
     "output_type":"display_data"
    }
   ],
   "metadata":{
    "datalore":{
     "type":"CODE",
     "hide_input_from_viewers":false,
     "hide_output_from_viewers":false,
     "node_id":"g07YIPr1ShTdgMuOrCrD42"
    }
   }
  },
  {
   "cell_type":"code",
   "source":[
    "sns.set_palette('dark')\n",
    "plt.figure(figsize=(12,9))\n",
    "sns.scatterplot(x='children',y='charges',data=df)\n",
    "plt.title('charges by children')\n",
    "plt.show()"
   ],
   "execution_count":38,
   "outputs":[
    {
     "data":{
      "image\/png":"[encoded data removed]"
     },
     "metadata":{
      "image\/png":{
       
      }
     },
     "output_type":"display_data"
    }
   ],
   "metadata":{
    "datalore":{
     "type":"CODE",
     "hide_input_from_viewers":false,
     "hide_output_from_viewers":false,
     "node_id":"2WloLXC65IdQGBdBXNYZiU"
    }
   }
  },
  {
   "cell_type":"code",
   "source":[
    "region=df['region'].value_counts()\n",
    "print(region)"
   ],
   "execution_count":39,
   "outputs":[
    {
     "name":"stdout",
     "text":[
      "southeast    364\n",
      "southwest    325\n",
      "northwest    325\n",
      "northeast    324\n",
      "Name: region, dtype: int64\n"
     ],
     "output_type":"stream"
    }
   ],
   "metadata":{
    "datalore":{
     "type":"CODE",
     "hide_input_from_viewers":false,
     "hide_output_from_viewers":false,
     "node_id":"069l7iuOnL4Z3O92MBXD0Y"
    }
   }
  },
  {
   "cell_type":"code",
   "source":[
    "labels=region.index\n",
    "sizes=region.values\n",
    "plt.figure(figsize=(12,9))\n",
    "colors=sns.color_palette('pastel')\n",
    "plt.pie(sizes,labels=labels,autopct='%1.1f%%',\n",
    "        shadow=True,colors=colors,startangle=90)\n",
    "plt.show()\n",
    "\n",
    "df.sort_values(['age', 'charges'], ascending=[False, True])"
   ],
   "execution_count":40,
   "outputs":[
    {
     "data":{
      "image\/png":"[encoded data removed]"
     },
     "metadata":{
      "image\/png":{
       
      }
     },
     "output_type":"display_data"
    },
    {
     "data":{
      "text\/html":[
       "<div>\n",
       "<style scoped>\n",
       "    .dataframe tbody tr th:only-of-type {\n",
       "        vertical-align: middle;\n",
       "    }\n",
       "\n",
       "    .dataframe tbody tr th {\n",
       "        vertical-align: top;\n",
       "    }\n",
       "\n",
       "    .dataframe thead th {\n",
       "        text-align: right;\n",
       "    }\n",
       "<\/style>\n",
       "<table border=\"1\" class=\"dataframe\">\n",
       "  <thead>\n",
       "    <tr style=\"text-align: right;\">\n",
       "      <th><\/th>\n",
       "      <th>age<\/th>\n",
       "      <th>sex<\/th>\n",
       "      <th>bmi<\/th>\n",
       "      <th>children<\/th>\n",
       "      <th>smoker<\/th>\n",
       "      <th>region<\/th>\n",
       "      <th>charges<\/th>\n",
       "    <\/tr>\n",
       "  <\/thead>\n",
       "  <tbody>\n",
       "    <tr>\n",
       "      <th>335<\/th>\n",
       "      <td>64<\/td>\n",
       "      <td>male<\/td>\n",
       "      <td>34.500<\/td>\n",
       "      <td>0<\/td>\n",
       "      <td>no<\/td>\n",
       "      <td>southwest<\/td>\n",
       "      <td>13822.80300<\/td>\n",
       "    <\/tr>\n",
       "    <tr>\n",
       "      <th>534<\/th>\n",
       "      <td>64<\/td>\n",
       "      <td>male<\/td>\n",
       "      <td>40.480<\/td>\n",
       "      <td>0<\/td>\n",
       "      <td>no<\/td>\n",
       "      <td>southeast<\/td>\n",
       "      <td>13831.11520<\/td>\n",
       "    <\/tr>\n",
       "    <tr>\n",
       "      <th>752<\/th>\n",
       "      <td>64<\/td>\n",
       "      <td>male<\/td>\n",
       "      <td>37.905<\/td>\n",
       "      <td>0<\/td>\n",
       "      <td>no<\/td>\n",
       "      <td>northwest<\/td>\n",
       "      <td>14210.53595<\/td>\n",
       "    <\/tr>\n",
       "    <tr>\n",
       "      <th>801<\/th>\n",
       "      <td>64<\/td>\n",
       "      <td>female<\/td>\n",
       "      <td>35.970<\/td>\n",
       "      <td>0<\/td>\n",
       "      <td>no<\/td>\n",
       "      <td>southeast<\/td>\n",
       "      <td>14313.84630<\/td>\n",
       "    <\/tr>\n",
       "    <tr>\n",
       "      <th>768<\/th>\n",
       "      <td>64<\/td>\n",
       "      <td>female<\/td>\n",
       "      <td>39.700<\/td>\n",
       "      <td>0<\/td>\n",
       "      <td>no<\/td>\n",
       "      <td>southwest<\/td>\n",
       "      <td>14319.03100<\/td>\n",
       "    <\/tr>\n",
       "    <tr>\n",
       "      <th>...<\/th>\n",
       "      <td>...<\/td>\n",
       "      <td>...<\/td>\n",
       "      <td>...<\/td>\n",
       "      <td>...<\/td>\n",
       "      <td>...<\/td>\n",
       "      <td>...<\/td>\n",
       "      <td>...<\/td>\n",
       "    <\/tr>\n",
       "    <tr>\n",
       "      <th>57<\/th>\n",
       "      <td>18<\/td>\n",
       "      <td>male<\/td>\n",
       "      <td>31.680<\/td>\n",
       "      <td>2<\/td>\n",
       "      <td>yes<\/td>\n",
       "      <td>southeast<\/td>\n",
       "      <td>34303.16720<\/td>\n",
       "    <\/tr>\n",
       "    <tr>\n",
       "      <th>623<\/th>\n",
       "      <td>18<\/td>\n",
       "      <td>male<\/td>\n",
       "      <td>33.535<\/td>\n",
       "      <td>0<\/td>\n",
       "      <td>yes<\/td>\n",
       "      <td>northeast<\/td>\n",
       "      <td>34617.84065<\/td>\n",
       "    <\/tr>\n",
       "    <tr>\n",
       "      <th>161<\/th>\n",
       "      <td>18<\/td>\n",
       "      <td>female<\/td>\n",
       "      <td>36.850<\/td>\n",
       "      <td>0<\/td>\n",
       "      <td>yes<\/td>\n",
       "      <td>southeast<\/td>\n",
       "      <td>36149.48350<\/td>\n",
       "    <\/tr>\n",
       "    <tr>\n",
       "      <th>759<\/th>\n",
       "      <td>18<\/td>\n",
       "      <td>male<\/td>\n",
       "      <td>38.170<\/td>\n",
       "      <td>0<\/td>\n",
       "      <td>yes<\/td>\n",
       "      <td>southeast<\/td>\n",
       "      <td>36307.79830<\/td>\n",
       "    <\/tr>\n",
       "    <tr>\n",
       "      <th>803<\/th>\n",
       "      <td>18<\/td>\n",
       "      <td>female<\/td>\n",
       "      <td>42.240<\/td>\n",
       "      <td>0<\/td>\n",
       "      <td>yes<\/td>\n",
       "      <td>southeast<\/td>\n",
       "      <td>38792.68560<\/td>\n",
       "    <\/tr>\n",
       "  <\/tbody>\n",
       "<\/table>\n",
       "<p>1338 rows × 7 columns<\/p>\n",
       "<\/div>"
      ]
     },
     "metadata":{
      
     },
     "output_type":"display_data"
    }
   ],
   "metadata":{
    "datalore":{
     "type":"CODE",
     "hide_input_from_viewers":false,
     "hide_output_from_viewers":false,
     "node_id":"svuT93dCWLKQ7cNuQVEhqo"
    }
   }
  },
  {
   "cell_type":"code",
   "source":[
    "plt.figure(figsize=(12,9))\n",
    "labels=['Non-Smoker','Smoker']\n",
    "size=df['smoker'].value_counts()\n",
    "colors=['#99ff99','#ffcc99']\n",
    "explode=(0,0.1)\n",
    "plt.pie(size,labels=labels,colors=colors,explode=explode,autopct='%2.f%%')\n",
    "circle = plt.Circle( (0,0),0.6, color='white')\n",
    "p=plt.gcf()\n",
    "p.gca().add_artist(circle)\n",
    "plt.show()"
   ],
   "execution_count":41,
   "outputs":[
    {
     "data":{
      "image\/png":"[encoded data removed]"
     },
     "metadata":{
      "image\/png":{
       
      }
     },
     "output_type":"display_data"
    }
   ],
   "metadata":{
    "datalore":{
     "type":"CODE",
     "hide_input_from_viewers":false,
     "hide_output_from_viewers":false,
     "node_id":"KNEKUF1Sot5k8sDJCeJv7D"
    }
   }
  },
  {
   "cell_type":"code",
   "source":[
    "df['smoker']=df['smoker'].map(lambda row: 1 if row=='yes' else 0)\n",
    "df.head()"
   ],
   "execution_count":42,
   "outputs":[
    {
     "data":{
      "text\/html":[
       "<div>\n",
       "<style scoped>\n",
       "    .dataframe tbody tr th:only-of-type {\n",
       "        vertical-align: middle;\n",
       "    }\n",
       "\n",
       "    .dataframe tbody tr th {\n",
       "        vertical-align: top;\n",
       "    }\n",
       "\n",
       "    .dataframe thead th {\n",
       "        text-align: right;\n",
       "    }\n",
       "<\/style>\n",
       "<table border=\"1\" class=\"dataframe\">\n",
       "  <thead>\n",
       "    <tr style=\"text-align: right;\">\n",
       "      <th><\/th>\n",
       "      <th>age<\/th>\n",
       "      <th>sex<\/th>\n",
       "      <th>bmi<\/th>\n",
       "      <th>children<\/th>\n",
       "      <th>smoker<\/th>\n",
       "      <th>region<\/th>\n",
       "      <th>charges<\/th>\n",
       "    <\/tr>\n",
       "  <\/thead>\n",
       "  <tbody>\n",
       "    <tr>\n",
       "      <th>0<\/th>\n",
       "      <td>19<\/td>\n",
       "      <td>female<\/td>\n",
       "      <td>27.900<\/td>\n",
       "      <td>0<\/td>\n",
       "      <td>1<\/td>\n",
       "      <td>southwest<\/td>\n",
       "      <td>16884.92400<\/td>\n",
       "    <\/tr>\n",
       "    <tr>\n",
       "      <th>1<\/th>\n",
       "      <td>18<\/td>\n",
       "      <td>male<\/td>\n",
       "      <td>33.770<\/td>\n",
       "      <td>1<\/td>\n",
       "      <td>0<\/td>\n",
       "      <td>southeast<\/td>\n",
       "      <td>1725.55230<\/td>\n",
       "    <\/tr>\n",
       "    <tr>\n",
       "      <th>2<\/th>\n",
       "      <td>28<\/td>\n",
       "      <td>male<\/td>\n",
       "      <td>33.000<\/td>\n",
       "      <td>3<\/td>\n",
       "      <td>0<\/td>\n",
       "      <td>southeast<\/td>\n",
       "      <td>4449.46200<\/td>\n",
       "    <\/tr>\n",
       "    <tr>\n",
       "      <th>3<\/th>\n",
       "      <td>33<\/td>\n",
       "      <td>male<\/td>\n",
       "      <td>22.705<\/td>\n",
       "      <td>0<\/td>\n",
       "      <td>0<\/td>\n",
       "      <td>northwest<\/td>\n",
       "      <td>21984.47061<\/td>\n",
       "    <\/tr>\n",
       "    <tr>\n",
       "      <th>4<\/th>\n",
       "      <td>32<\/td>\n",
       "      <td>male<\/td>\n",
       "      <td>28.880<\/td>\n",
       "      <td>0<\/td>\n",
       "      <td>0<\/td>\n",
       "      <td>northwest<\/td>\n",
       "      <td>3866.85520<\/td>\n",
       "    <\/tr>\n",
       "  <\/tbody>\n",
       "<\/table>\n",
       "<\/div>"
      ]
     },
     "metadata":{
      
     },
     "output_type":"display_data"
    }
   ],
   "metadata":{
    "datalore":{
     "type":"CODE",
     "hide_input_from_viewers":false,
     "hide_output_from_viewers":false,
     "node_id":"GeXWxrUAGBdfWIZrKJVOpG"
    }
   }
  },
  {
   "cell_type":"code",
   "source":[
    "df['smoker']=df['smoker'].astype('object')"
   ],
   "execution_count":43,
   "outputs":[
    
   ],
   "metadata":{
    "datalore":{
     "type":"CODE",
     "hide_input_from_viewers":false,
     "hide_output_from_viewers":false,
     "node_id":"We6DEowUuDBhTaCVgTDFxb"
    }
   }
  },
  {
   "cell_type":"code",
   "source":[
    "df.info()"
   ],
   "execution_count":45,
   "outputs":[
    {
     "name":"stdout",
     "text":[
      "<class 'pandas.core.frame.DataFrame'>\n",
      "RangeIndex: 1338 entries, 0 to 1337\n",
      "Data columns (total 7 columns):\n",
      " #   Column    Non-Null Count  Dtype  \n",
      "---  ------    --------------  -----  \n",
      " 0   age       1338 non-null   int64  \n",
      " 1   sex       1338 non-null   object \n",
      " 2   bmi       1338 non-null   float64\n",
      " 3   children  1338 non-null   int64  \n",
      " 4   smoker    1338 non-null   object \n",
      " 5   region    1338 non-null   object \n",
      " 6   charges   1338 non-null   float64\n",
      "dtypes: float64(2), int64(2), object(3)\n",
      "memory usage: 73.3+ KB\n"
     ],
     "output_type":"stream"
    }
   ],
   "metadata":{
    "datalore":{
     "type":"CODE",
     "hide_input_from_viewers":false,
     "hide_output_from_viewers":false,
     "node_id":"QKYoVFtuKdYfh9lwOOeWMn"
    }
   }
  },
  {
   "cell_type":"code",
   "source":[
    "plt.figure(figsize=(12,9))\n",
    "sns.scatterplot(x='bmi',y='charges',data=df,color='#8E388E')\n",
    "plt.show()"
   ],
   "execution_count":46,
   "outputs":[
    {
     "data":{
      "image\/png":"[encoded data removed]"
     },
     "metadata":{
      "image\/png":{
       
      }
     },
     "output_type":"display_data"
    }
   ],
   "metadata":{
    "datalore":{
     "type":"CODE",
     "hide_input_from_viewers":false,
     "hide_output_from_viewers":false,
     "node_id":"h3uEW1XbY7p7gFhpn9MWsj"
    }
   }
  },
  {
   "cell_type":"code",
   "source":[
    "plt.figure(figsize=(12,6))\n",
    "sns.boxplot(df['bmi'])\n",
    "plt.title('data with outliers')\n",
    "plt.show()\n",
    "\n",
    "df['bmi'].describe()"
   ],
   "execution_count":47,
   "outputs":[
    {
     "data":{
      "image\/png":"[encoded data removed]"
     },
     "metadata":{
      "image\/png":{
       
      }
     },
     "output_type":"display_data"
    },
    {
     "data":{
      "text\/html":[
       
      ]
     },
     "metadata":{
      
     },
     "output_type":"display_data"
    }
   ],
   "metadata":{
    "datalore":{
     "type":"CODE",
     "hide_input_from_viewers":false,
     "hide_output_from_viewers":false,
     "node_id":"fXsECqIHUwOSyvAwrfREA7"
    }
   }
  },
  {
   "cell_type":"code",
   "source":[
    "df[\"bmi\"].median()"
   ],
   "execution_count":48,
   "outputs":[
    {
     "data":{
      "text\/plain":[
       "30.4"
      ]
     },
     "metadata":{
      
     },
     "output_type":"display_data"
    }
   ],
   "metadata":{
    "datalore":{
     "type":"CODE",
     "hide_input_from_viewers":false,
     "hide_output_from_viewers":false,
     "node_id":"tqeZWZgZwBjuChl78VNQVw"
    }
   }
  },
  {
   "cell_type":"code",
   "source":[
    "def out_bound(df, col):\n",
    "    Q1=df[col].quantile(0.25)\n",
    "    Q3=df[col].quantile(0.75)\n",
    "    IQR=Q3-Q1\n",
    "    lower_bound=Q1-1.5*IQR\n",
    "    upper_bound=Q3+1.5*IQR\n",
    "    \n",
    "    return lower_bound, upper_bound\n",
    "print(out_bound(df, 'bmi'))"
   ],
   "execution_count":49,
   "outputs":[
    {
     "name":"stdout",
     "text":[
      "(13.7, 47.290000000000006)\n"
     ],
     "output_type":"stream"
    }
   ],
   "metadata":{
    "datalore":{
     "type":"CODE",
     "hide_input_from_viewers":false,
     "hide_output_from_viewers":false,
     "node_id":"NLASsdqsWRLZKSugiEMIk7"
    }
   }
  },
  {
   "cell_type":"code",
   "source":[
    "def remove_outliers(data, col):\n",
    "    l_b, u_b=out_bound(data, col)\n",
    "    \n",
    "    return data[ (data[col]>l_b) & (data[col]<u_b) ]\n",
    "data1=remove_outliers(df, 'bmi')\n",
    "plt.figure(figsize=(12,9))\n",
    "sns.boxplot(data1['bmi'])\n",
    "plt.title('data with removed outliers')\n",
    "plt.show()\n",
    "\n",
    "fig, ax1 = plt.subplots(figsize=(16, 9))\n",
    "sns.set_palette('dark')\n",
    "sns.histplot(data = df, x='charges', ax=ax1, bins=25, hue='smoker', kde=True)\n",
    "plt.title('charges by smoker')\n",
    "plt.show()"
   ],
   "execution_count":50,
   "outputs":[
    {
     "data":{
      "image\/png":"[encoded data removed]"
     },
     "metadata":{
      "image\/png":{
       
      }
     },
     "output_type":"display_data"
    },
    {
     "data":{
      "image\/png":"[encoded data removed]"
     },
     "metadata":{
      "image\/png":{
       
      }
     },
     "output_type":"display_data"
    }
   ],
   "metadata":{
    "datalore":{
     "type":"CODE",
     "hide_input_from_viewers":false,
     "hide_output_from_viewers":false,
     "node_id":"x8jOci8uDervVcEpo1voTc"
    }
   }
  },
  {
   "cell_type":"code",
   "source":[
    "df._get_numeric_data()"
   ],
   "execution_count":51,
   "outputs":[
    {
     "data":{
      "text\/html":[
       "<div>\n",
       "<style scoped>\n",
       "    .dataframe tbody tr th:only-of-type {\n",
       "        vertical-align: middle;\n",
       "    }\n",
       "\n",
       "    .dataframe tbody tr th {\n",
       "        vertical-align: top;\n",
       "    }\n",
       "\n",
       "    .dataframe thead th {\n",
       "        text-align: right;\n",
       "    }\n",
       "<\/style>\n",
       "<table border=\"1\" class=\"dataframe\">\n",
       "  <thead>\n",
       "    <tr style=\"text-align: right;\">\n",
       "      <th><\/th>\n",
       "      <th>age<\/th>\n",
       "      <th>bmi<\/th>\n",
       "      <th>children<\/th>\n",
       "      <th>charges<\/th>\n",
       "    <\/tr>\n",
       "  <\/thead>\n",
       "  <tbody>\n",
       "    <tr>\n",
       "      <th>0<\/th>\n",
       "      <td>19<\/td>\n",
       "      <td>27.900<\/td>\n",
       "      <td>0<\/td>\n",
       "      <td>16884.92400<\/td>\n",
       "    <\/tr>\n",
       "    <tr>\n",
       "      <th>1<\/th>\n",
       "      <td>18<\/td>\n",
       "      <td>33.770<\/td>\n",
       "      <td>1<\/td>\n",
       "      <td>1725.55230<\/td>\n",
       "    <\/tr>\n",
       "    <tr>\n",
       "      <th>2<\/th>\n",
       "      <td>28<\/td>\n",
       "      <td>33.000<\/td>\n",
       "      <td>3<\/td>\n",
       "      <td>4449.46200<\/td>\n",
       "    <\/tr>\n",
       "    <tr>\n",
       "      <th>3<\/th>\n",
       "      <td>33<\/td>\n",
       "      <td>22.705<\/td>\n",
       "      <td>0<\/td>\n",
       "      <td>21984.47061<\/td>\n",
       "    <\/tr>\n",
       "    <tr>\n",
       "      <th>4<\/th>\n",
       "      <td>32<\/td>\n",
       "      <td>28.880<\/td>\n",
       "      <td>0<\/td>\n",
       "      <td>3866.85520<\/td>\n",
       "    <\/tr>\n",
       "    <tr>\n",
       "      <th>...<\/th>\n",
       "      <td>...<\/td>\n",
       "      <td>...<\/td>\n",
       "      <td>...<\/td>\n",
       "      <td>...<\/td>\n",
       "    <\/tr>\n",
       "    <tr>\n",
       "      <th>1333<\/th>\n",
       "      <td>50<\/td>\n",
       "      <td>30.970<\/td>\n",
       "      <td>3<\/td>\n",
       "      <td>10600.54830<\/td>\n",
       "    <\/tr>\n",
       "    <tr>\n",
       "      <th>1334<\/th>\n",
       "      <td>18<\/td>\n",
       "      <td>31.920<\/td>\n",
       "      <td>0<\/td>\n",
       "      <td>2205.98080<\/td>\n",
       "    <\/tr>\n",
       "    <tr>\n",
       "      <th>1335<\/th>\n",
       "      <td>18<\/td>\n",
       "      <td>36.850<\/td>\n",
       "      <td>0<\/td>\n",
       "      <td>1629.83350<\/td>\n",
       "    <\/tr>\n",
       "    <tr>\n",
       "      <th>1336<\/th>\n",
       "      <td>21<\/td>\n",
       "      <td>25.800<\/td>\n",
       "      <td>0<\/td>\n",
       "      <td>2007.94500<\/td>\n",
       "    <\/tr>\n",
       "    <tr>\n",
       "      <th>1337<\/th>\n",
       "      <td>61<\/td>\n",
       "      <td>29.070<\/td>\n",
       "      <td>0<\/td>\n",
       "      <td>29141.36030<\/td>\n",
       "    <\/tr>\n",
       "  <\/tbody>\n",
       "<\/table>\n",
       "<p>1338 rows × 4 columns<\/p>\n",
       "<\/div>"
      ]
     },
     "metadata":{
      
     },
     "output_type":"display_data"
    }
   ],
   "metadata":{
    "datalore":{
     "type":"CODE",
     "hide_input_from_viewers":false,
     "hide_output_from_viewers":false,
     "node_id":"MH1ffsrnHs5GWaY9bLvorE"
    }
   }
  },
  {
   "cell_type":"code",
   "source":[
    "df.head()"
   ],
   "execution_count":52,
   "outputs":[
    {
     "data":{
      "text\/html":[
       "<div>\n",
       "<style scoped>\n",
       "    .dataframe tbody tr th:only-of-type {\n",
       "        vertical-align: middle;\n",
       "    }\n",
       "\n",
       "    .dataframe tbody tr th {\n",
       "        vertical-align: top;\n",
       "    }\n",
       "\n",
       "    .dataframe thead th {\n",
       "        text-align: right;\n",
       "    }\n",
       "<\/style>\n",
       "<table border=\"1\" class=\"dataframe\">\n",
       "  <thead>\n",
       "    <tr style=\"text-align: right;\">\n",
       "      <th><\/th>\n",
       "      <th>age<\/th>\n",
       "      <th>sex<\/th>\n",
       "      <th>bmi<\/th>\n",
       "      <th>children<\/th>\n",
       "      <th>smoker<\/th>\n",
       "      <th>region<\/th>\n",
       "      <th>charges<\/th>\n",
       "    <\/tr>\n",
       "  <\/thead>\n",
       "  <tbody>\n",
       "    <tr>\n",
       "      <th>0<\/th>\n",
       "      <td>19<\/td>\n",
       "      <td>female<\/td>\n",
       "      <td>27.900<\/td>\n",
       "      <td>0<\/td>\n",
       "      <td>1<\/td>\n",
       "      <td>southwest<\/td>\n",
       "      <td>16884.92400<\/td>\n",
       "    <\/tr>\n",
       "    <tr>\n",
       "      <th>1<\/th>\n",
       "      <td>18<\/td>\n",
       "      <td>male<\/td>\n",
       "      <td>33.770<\/td>\n",
       "      <td>1<\/td>\n",
       "      <td>0<\/td>\n",
       "      <td>southeast<\/td>\n",
       "      <td>1725.55230<\/td>\n",
       "    <\/tr>\n",
       "    <tr>\n",
       "      <th>2<\/th>\n",
       "      <td>28<\/td>\n",
       "      <td>male<\/td>\n",
       "      <td>33.000<\/td>\n",
       "      <td>3<\/td>\n",
       "      <td>0<\/td>\n",
       "      <td>southeast<\/td>\n",
       "      <td>4449.46200<\/td>\n",
       "    <\/tr>\n",
       "    <tr>\n",
       "      <th>3<\/th>\n",
       "      <td>33<\/td>\n",
       "      <td>male<\/td>\n",
       "      <td>22.705<\/td>\n",
       "      <td>0<\/td>\n",
       "      <td>0<\/td>\n",
       "      <td>northwest<\/td>\n",
       "      <td>21984.47061<\/td>\n",
       "    <\/tr>\n",
       "    <tr>\n",
       "      <th>4<\/th>\n",
       "      <td>32<\/td>\n",
       "      <td>male<\/td>\n",
       "      <td>28.880<\/td>\n",
       "      <td>0<\/td>\n",
       "      <td>0<\/td>\n",
       "      <td>northwest<\/td>\n",
       "      <td>3866.85520<\/td>\n",
       "    <\/tr>\n",
       "  <\/tbody>\n",
       "<\/table>\n",
       "<\/div>"
      ]
     },
     "metadata":{
      
     },
     "output_type":"display_data"
    }
   ],
   "metadata":{
    "datalore":{
     "type":"CODE",
     "hide_input_from_viewers":false,
     "hide_output_from_viewers":false,
     "node_id":"zX1xGNpwgos5o0vWmNoJZ8"
    }
   }
  },
  {
   "cell_type":"code",
   "source":[
    "sns.set_palette('dark')\n",
    "plt.figure(figsize=(12,9))\n",
    "sns.barplot(x='region', y='bmi',data=df)\n",
    "plt.title('bmi values by region')\n",
    "plt.show()\n",
    "\n",
    "plt.figure(figsize=(12,7))\n",
    "sns.set_palette('bright')\n",
    "sns.violinplot(x=df['sex'],y=df['bmi'])\n",
    "plt.title('bmi by gender')\n",
    "plt.show()\n",
    "\n",
    "df['children']=df['children'].astype('object')"
   ],
   "execution_count":53,
   "outputs":[
    {
     "data":{
      "image\/png":"[encoded data removed]"
     },
     "metadata":{
      "image\/png":{
       
      }
     },
     "output_type":"display_data"
    },
    {
     "data":{
      "image\/png":"[encoded data removed]"
     },
     "metadata":{
      "image\/png":{
       
      }
     },
     "output_type":"display_data"
    }
   ],
   "metadata":{
    "datalore":{
     "type":"CODE",
     "hide_input_from_viewers":false,
     "hide_output_from_viewers":false,
     "node_id":"bWP9y2wsxWzollWwESEvNA"
    }
   }
  },
  {
   "cell_type":"code",
   "source":[
    "df.info()"
   ],
   "execution_count":54,
   "outputs":[
    {
     "name":"stdout",
     "text":[
      "<class 'pandas.core.frame.DataFrame'>\n",
      "RangeIndex: 1338 entries, 0 to 1337\n",
      "Data columns (total 7 columns):\n",
      " #   Column    Non-Null Count  Dtype  \n",
      "---  ------    --------------  -----  \n",
      " 0   age       1338 non-null   int64  \n",
      " 1   sex       1338 non-null   object \n",
      " 2   bmi       1338 non-null   float64\n",
      " 3   children  1338 non-null   object \n",
      " 4   smoker    1338 non-null   object \n",
      " 5   region    1338 non-null   object \n",
      " 6   charges   1338 non-null   float64\n",
      "dtypes: float64(2), int64(1), object(4)\n",
      "memory usage: 73.3+ KB\n"
     ],
     "output_type":"stream"
    }
   ],
   "metadata":{
    "datalore":{
     "type":"CODE",
     "hide_input_from_viewers":false,
     "hide_output_from_viewers":false,
     "node_id":"j3NqX3ht1qeq6KC0F2zgZb"
    }
   }
  },
  {
   "cell_type":"code",
   "source":[
    "sns.set_palette('pastel')\n",
    "plt.figure(figsize=(12,9))\n",
    "plt.title('smokers by region')\n",
    "sns.countplot(x='smoker', hue='region', data=df)\n",
    "plt.show()\n",
    "\n",
    "df.groupby('sex')['charges'].mean()"
   ],
   "execution_count":55,
   "outputs":[
    {
     "data":{
      "image\/png":"[encoded data removed]"
     },
     "metadata":{
      "image\/png":{
       
      }
     },
     "output_type":"display_data"
    },
    {
     "data":{
      "text\/html":[
       
      ]
     },
     "metadata":{
      
     },
     "output_type":"display_data"
    }
   ],
   "metadata":{
    "datalore":{
     "type":"CODE",
     "hide_input_from_viewers":false,
     "hide_output_from_viewers":false,
     "node_id":"CDbTWiNODlT1KmjGWq1ira"
    }
   }
  },
  {
   "cell_type":"code",
   "source":[
    "plt.figure(figsize=(12,6))\n",
    "sns.kdeplot(df[df['sex']=='female']['charges'], color='purple', label='female')\n",
    "sns.kdeplot(df[df['sex']=='male']['charges'], color='orange', label='male')\n",
    "plt.title('charges by gender density')\n",
    "plt.xticks(rotation='vertical')\n",
    "plt.legend()\n",
    "plt.show()"
   ],
   "execution_count":56,
   "outputs":[
    {
     "data":{
      "image\/png":"[encoded data removed]"
     },
     "metadata":{
      "image\/png":{
       
      }
     },
     "output_type":"display_data"
    }
   ],
   "metadata":{
    "datalore":{
     "type":"CODE",
     "hide_input_from_viewers":false,
     "hide_output_from_viewers":false,
     "node_id":"TboCarbeOjQvgazkcn7VfF"
    }
   }
  },
  {
   "cell_type":"code",
   "source":[
    "df.region=df.region.map({'southwest':0,'southeast':1,'northwest':2,'northeast':3})\n",
    "df.head()"
   ],
   "execution_count":57,
   "outputs":[
    {
     "data":{
      "text\/html":[
       "<div>\n",
       "<style scoped>\n",
       "    .dataframe tbody tr th:only-of-type {\n",
       "        vertical-align: middle;\n",
       "    }\n",
       "\n",
       "    .dataframe tbody tr th {\n",
       "        vertical-align: top;\n",
       "    }\n",
       "\n",
       "    .dataframe thead th {\n",
       "        text-align: right;\n",
       "    }\n",
       "<\/style>\n",
       "<table border=\"1\" class=\"dataframe\">\n",
       "  <thead>\n",
       "    <tr style=\"text-align: right;\">\n",
       "      <th><\/th>\n",
       "      <th>age<\/th>\n",
       "      <th>sex<\/th>\n",
       "      <th>bmi<\/th>\n",
       "      <th>children<\/th>\n",
       "      <th>smoker<\/th>\n",
       "      <th>region<\/th>\n",
       "      <th>charges<\/th>\n",
       "    <\/tr>\n",
       "  <\/thead>\n",
       "  <tbody>\n",
       "    <tr>\n",
       "      <th>0<\/th>\n",
       "      <td>19<\/td>\n",
       "      <td>female<\/td>\n",
       "      <td>27.900<\/td>\n",
       "      <td>0<\/td>\n",
       "      <td>1<\/td>\n",
       "      <td>0<\/td>\n",
       "      <td>16884.92400<\/td>\n",
       "    <\/tr>\n",
       "    <tr>\n",
       "      <th>1<\/th>\n",
       "      <td>18<\/td>\n",
       "      <td>male<\/td>\n",
       "      <td>33.770<\/td>\n",
       "      <td>1<\/td>\n",
       "      <td>0<\/td>\n",
       "      <td>1<\/td>\n",
       "      <td>1725.55230<\/td>\n",
       "    <\/tr>\n",
       "    <tr>\n",
       "      <th>2<\/th>\n",
       "      <td>28<\/td>\n",
       "      <td>male<\/td>\n",
       "      <td>33.000<\/td>\n",
       "      <td>3<\/td>\n",
       "      <td>0<\/td>\n",
       "      <td>1<\/td>\n",
       "      <td>4449.46200<\/td>\n",
       "    <\/tr>\n",
       "    <tr>\n",
       "      <th>3<\/th>\n",
       "      <td>33<\/td>\n",
       "      <td>male<\/td>\n",
       "      <td>22.705<\/td>\n",
       "      <td>0<\/td>\n",
       "      <td>0<\/td>\n",
       "      <td>2<\/td>\n",
       "      <td>21984.47061<\/td>\n",
       "    <\/tr>\n",
       "    <tr>\n",
       "      <th>4<\/th>\n",
       "      <td>32<\/td>\n",
       "      <td>male<\/td>\n",
       "      <td>28.880<\/td>\n",
       "      <td>0<\/td>\n",
       "      <td>0<\/td>\n",
       "      <td>2<\/td>\n",
       "      <td>3866.85520<\/td>\n",
       "    <\/tr>\n",
       "  <\/tbody>\n",
       "<\/table>\n",
       "<\/div>"
      ]
     },
     "metadata":{
      
     },
     "output_type":"display_data"
    }
   ],
   "metadata":{
    "datalore":{
     "type":"CODE",
     "hide_input_from_viewers":false,
     "hide_output_from_viewers":false,
     "node_id":"SHIveB27sIlnj8bzhD29Ot"
    }
   }
  },
  {
   "cell_type":"code",
   "source":[
    "df.sex=pd.get_dummies(df.sex,drop_first=True)\n",
    "df.head()"
   ],
   "execution_count":58,
   "outputs":[
    {
     "data":{
      "text\/html":[
       "<div>\n",
       "<style scoped>\n",
       "    .dataframe tbody tr th:only-of-type {\n",
       "        vertical-align: middle;\n",
       "    }\n",
       "\n",
       "    .dataframe tbody tr th {\n",
       "        vertical-align: top;\n",
       "    }\n",
       "\n",
       "    .dataframe thead th {\n",
       "        text-align: right;\n",
       "    }\n",
       "<\/style>\n",
       "<table border=\"1\" class=\"dataframe\">\n",
       "  <thead>\n",
       "    <tr style=\"text-align: right;\">\n",
       "      <th><\/th>\n",
       "      <th>age<\/th>\n",
       "      <th>sex<\/th>\n",
       "      <th>bmi<\/th>\n",
       "      <th>children<\/th>\n",
       "      <th>smoker<\/th>\n",
       "      <th>region<\/th>\n",
       "      <th>charges<\/th>\n",
       "    <\/tr>\n",
       "  <\/thead>\n",
       "  <tbody>\n",
       "    <tr>\n",
       "      <th>0<\/th>\n",
       "      <td>19<\/td>\n",
       "      <td>0<\/td>\n",
       "      <td>27.900<\/td>\n",
       "      <td>0<\/td>\n",
       "      <td>1<\/td>\n",
       "      <td>0<\/td>\n",
       "      <td>16884.92400<\/td>\n",
       "    <\/tr>\n",
       "    <tr>\n",
       "      <th>1<\/th>\n",
       "      <td>18<\/td>\n",
       "      <td>1<\/td>\n",
       "      <td>33.770<\/td>\n",
       "      <td>1<\/td>\n",
       "      <td>0<\/td>\n",
       "      <td>1<\/td>\n",
       "      <td>1725.55230<\/td>\n",
       "    <\/tr>\n",
       "    <tr>\n",
       "      <th>2<\/th>\n",
       "      <td>28<\/td>\n",
       "      <td>1<\/td>\n",
       "      <td>33.000<\/td>\n",
       "      <td>3<\/td>\n",
       "      <td>0<\/td>\n",
       "      <td>1<\/td>\n",
       "      <td>4449.46200<\/td>\n",
       "    <\/tr>\n",
       "    <tr>\n",
       "      <th>3<\/th>\n",
       "      <td>33<\/td>\n",
       "      <td>1<\/td>\n",
       "      <td>22.705<\/td>\n",
       "      <td>0<\/td>\n",
       "      <td>0<\/td>\n",
       "      <td>2<\/td>\n",
       "      <td>21984.47061<\/td>\n",
       "    <\/tr>\n",
       "    <tr>\n",
       "      <th>4<\/th>\n",
       "      <td>32<\/td>\n",
       "      <td>1<\/td>\n",
       "      <td>28.880<\/td>\n",
       "      <td>0<\/td>\n",
       "      <td>0<\/td>\n",
       "      <td>2<\/td>\n",
       "      <td>3866.85520<\/td>\n",
       "    <\/tr>\n",
       "  <\/tbody>\n",
       "<\/table>\n",
       "<\/div>"
      ]
     },
     "metadata":{
      
     },
     "output_type":"display_data"
    }
   ],
   "metadata":{
    "datalore":{
     "type":"CODE",
     "hide_input_from_viewers":false,
     "hide_output_from_viewers":false,
     "node_id":"ZVHksYUamnx6dVrARbi3O3"
    }
   }
  },
  {
   "cell_type":"code",
   "source":[
    "x=df.iloc[:,0:-1] \n",
    "y=df.charges  \n",
    "x"
   ],
   "execution_count":59,
   "outputs":[
    {
     "data":{
      "text\/html":[
       "<div>\n",
       "<style scoped>\n",
       "    .dataframe tbody tr th:only-of-type {\n",
       "        vertical-align: middle;\n",
       "    }\n",
       "\n",
       "    .dataframe tbody tr th {\n",
       "        vertical-align: top;\n",
       "    }\n",
       "\n",
       "    .dataframe thead th {\n",
       "        text-align: right;\n",
       "    }\n",
       "<\/style>\n",
       "<table border=\"1\" class=\"dataframe\">\n",
       "  <thead>\n",
       "    <tr style=\"text-align: right;\">\n",
       "      <th><\/th>\n",
       "      <th>age<\/th>\n",
       "      <th>sex<\/th>\n",
       "      <th>bmi<\/th>\n",
       "      <th>children<\/th>\n",
       "      <th>smoker<\/th>\n",
       "      <th>region<\/th>\n",
       "    <\/tr>\n",
       "  <\/thead>\n",
       "  <tbody>\n",
       "    <tr>\n",
       "      <th>0<\/th>\n",
       "      <td>19<\/td>\n",
       "      <td>0<\/td>\n",
       "      <td>27.900<\/td>\n",
       "      <td>0<\/td>\n",
       "      <td>1<\/td>\n",
       "      <td>0<\/td>\n",
       "    <\/tr>\n",
       "    <tr>\n",
       "      <th>1<\/th>\n",
       "      <td>18<\/td>\n",
       "      <td>1<\/td>\n",
       "      <td>33.770<\/td>\n",
       "      <td>1<\/td>\n",
       "      <td>0<\/td>\n",
       "      <td>1<\/td>\n",
       "    <\/tr>\n",
       "    <tr>\n",
       "      <th>2<\/th>\n",
       "      <td>28<\/td>\n",
       "      <td>1<\/td>\n",
       "      <td>33.000<\/td>\n",
       "      <td>3<\/td>\n",
       "      <td>0<\/td>\n",
       "      <td>1<\/td>\n",
       "    <\/tr>\n",
       "    <tr>\n",
       "      <th>3<\/th>\n",
       "      <td>33<\/td>\n",
       "      <td>1<\/td>\n",
       "      <td>22.705<\/td>\n",
       "      <td>0<\/td>\n",
       "      <td>0<\/td>\n",
       "      <td>2<\/td>\n",
       "    <\/tr>\n",
       "    <tr>\n",
       "      <th>4<\/th>\n",
       "      <td>32<\/td>\n",
       "      <td>1<\/td>\n",
       "      <td>28.880<\/td>\n",
       "      <td>0<\/td>\n",
       "      <td>0<\/td>\n",
       "      <td>2<\/td>\n",
       "    <\/tr>\n",
       "    <tr>\n",
       "      <th>...<\/th>\n",
       "      <td>...<\/td>\n",
       "      <td>...<\/td>\n",
       "      <td>...<\/td>\n",
       "      <td>...<\/td>\n",
       "      <td>...<\/td>\n",
       "      <td>...<\/td>\n",
       "    <\/tr>\n",
       "    <tr>\n",
       "      <th>1333<\/th>\n",
       "      <td>50<\/td>\n",
       "      <td>1<\/td>\n",
       "      <td>30.970<\/td>\n",
       "      <td>3<\/td>\n",
       "      <td>0<\/td>\n",
       "      <td>2<\/td>\n",
       "    <\/tr>\n",
       "    <tr>\n",
       "      <th>1334<\/th>\n",
       "      <td>18<\/td>\n",
       "      <td>0<\/td>\n",
       "      <td>31.920<\/td>\n",
       "      <td>0<\/td>\n",
       "      <td>0<\/td>\n",
       "      <td>3<\/td>\n",
       "    <\/tr>\n",
       "    <tr>\n",
       "      <th>1335<\/th>\n",
       "      <td>18<\/td>\n",
       "      <td>0<\/td>\n",
       "      <td>36.850<\/td>\n",
       "      <td>0<\/td>\n",
       "      <td>0<\/td>\n",
       "      <td>1<\/td>\n",
       "    <\/tr>\n",
       "    <tr>\n",
       "      <th>1336<\/th>\n",
       "      <td>21<\/td>\n",
       "      <td>0<\/td>\n",
       "      <td>25.800<\/td>\n",
       "      <td>0<\/td>\n",
       "      <td>0<\/td>\n",
       "      <td>0<\/td>\n",
       "    <\/tr>\n",
       "    <tr>\n",
       "      <th>1337<\/th>\n",
       "      <td>61<\/td>\n",
       "      <td>0<\/td>\n",
       "      <td>29.070<\/td>\n",
       "      <td>0<\/td>\n",
       "      <td>1<\/td>\n",
       "      <td>2<\/td>\n",
       "    <\/tr>\n",
       "  <\/tbody>\n",
       "<\/table>\n",
       "<p>1338 rows × 6 columns<\/p>\n",
       "<\/div>"
      ]
     },
     "metadata":{
      
     },
     "output_type":"display_data"
    }
   ],
   "metadata":{
    "datalore":{
     "type":"CODE",
     "hide_input_from_viewers":false,
     "hide_output_from_viewers":false,
     "node_id":"grCQN1nKSGTskc0Ddo3pzD"
    }
   }
  },
  {
   "cell_type":"code",
   "source":[
    "y"
   ],
   "execution_count":60,
   "outputs":[
    {
     "data":{
      "text\/html":[
       
      ]
     },
     "metadata":{
      
     },
     "output_type":"display_data"
    }
   ],
   "metadata":{
    "datalore":{
     "type":"CODE",
     "hide_input_from_viewers":false,
     "hide_output_from_viewers":false,
     "node_id":"Mh3MuMoROrOCnKsDMmakfc"
    }
   }
  },
  {
   "cell_type":"code",
   "source":[
    "from sklearn.model_selection import train_test_split\n",
    "x_train,x_test,y_train,y_test=train_test_split(x,y,test_size=0.25,random_state=42)\n",
    "x_train.shape"
   ],
   "execution_count":61,
   "outputs":[
    {
     "data":{
      "text\/plain":[
       "(1003, 6)"
      ]
     },
     "metadata":{
      
     },
     "output_type":"display_data"
    }
   ],
   "metadata":{
    "datalore":{
     "type":"CODE",
     "hide_input_from_viewers":false,
     "hide_output_from_viewers":false,
     "node_id":"w551g041u0Qg8F9stV7DQG"
    }
   }
  },
  {
   "cell_type":"code",
   "source":[
    "x_test.shape"
   ],
   "execution_count":62,
   "outputs":[
    {
     "data":{
      "text\/plain":[
       "(335, 6)"
      ]
     },
     "metadata":{
      
     },
     "output_type":"display_data"
    }
   ],
   "metadata":{
    "datalore":{
     "type":"CODE",
     "hide_input_from_viewers":false,
     "hide_output_from_viewers":false,
     "node_id":"GxUw7fYN1kTMiZ8Wun10RO"
    }
   }
  },
  {
   "cell_type":"code",
   "source":[
    "from sklearn.linear_model import LinearRegression   ## importing the model library\n",
    "\n",
    "LR=LinearRegression()  \n",
    "LR.fit(x_train,y_train) \n",
    "\n",
    "x_test_pred=LR.predict(x_test)\n",
    "x_test_pred"
   ],
   "execution_count":63,
   "outputs":[
    {
     "data":{
      "text\/html":[
       
      ]
     },
     "metadata":{
      
     },
     "output_type":"display_data"
    }
   ],
   "metadata":{
    "datalore":{
     "type":"CODE",
     "hide_input_from_viewers":false,
     "hide_output_from_viewers":false,
     "node_id":"n9rOrXhiqq3NrIzwNB4m02"
    }
   }
  },
  {
   "cell_type":"code",
   "source":[
    "y_test"
   ],
   "execution_count":64,
   "outputs":[
    {
     "data":{
      "text\/html":[
       
      ]
     },
     "metadata":{
      
     },
     "output_type":"display_data"
    }
   ],
   "metadata":{
    "datalore":{
     "type":"CODE",
     "hide_input_from_viewers":false,
     "hide_output_from_viewers":false,
     "node_id":"PrUILfTns7EvEgs7LD3RwS"
    }
   }
  },
  {
   "cell_type":"code",
   "source":[
    "x_train_pred=LR.predict(x_train)\n",
    "\n",
    "x_train_pred"
   ],
   "execution_count":65,
   "outputs":[
    {
     "data":{
      "text\/html":[
       
      ]
     },
     "metadata":{
      
     },
     "output_type":"display_data"
    }
   ],
   "metadata":{
    "datalore":{
     "type":"CODE",
     "hide_input_from_viewers":false,
     "hide_output_from_viewers":false,
     "node_id":"4YrFHLjd2TELppLzP35F6L"
    }
   }
  },
  {
   "cell_type":"code",
   "source":[
    "y_train"
   ],
   "execution_count":66,
   "outputs":[
    {
     "data":{
      "text\/html":[
       
      ]
     },
     "metadata":{
      
     },
     "output_type":"display_data"
    }
   ],
   "metadata":{
    "datalore":{
     "type":"CODE",
     "hide_input_from_viewers":false,
     "hide_output_from_viewers":false,
     "node_id":"tc0l1xHwqIPzlrnUsbLwo4"
    }
   }
  },
  {
   "cell_type":"code",
   "source":[
    "from sklearn.metrics import r2_score,mean_squared_error,mean_absolute_error"
   ],
   "execution_count":67,
   "outputs":[
    
   ],
   "metadata":{
    "datalore":{
     "type":"CODE",
     "hide_input_from_viewers":false,
     "hide_output_from_viewers":false,
     "node_id":"lf69Pd12NHgxtJiVwsRL7u"
    }
   }
  },
  {
   "cell_type":"code",
   "source":[
    "train_score=r2_score(y_train,x_train_pred)\n",
    "print('Linear Regression training score :',train_score)"
   ],
   "execution_count":68,
   "outputs":[
    {
     "name":"stdout",
     "text":[
      "Linear Regression training score : 0.7449087316606229\n"
     ],
     "output_type":"stream"
    }
   ],
   "metadata":{
    "datalore":{
     "type":"CODE",
     "hide_input_from_viewers":false,
     "hide_output_from_viewers":false,
     "node_id":"gctIz5DVbbwyxsHCRFxOBw"
    }
   }
  },
  {
   "cell_type":"code",
   "source":[
    "test_score=r2_score(y_test,x_test_pred)\n",
    "\n",
    "print('Linear Regression testing score :',test_score)"
   ],
   "execution_count":69,
   "outputs":[
    {
     "name":"stdout",
     "text":[
      "Linear Regression testing score : 0.7668905583460908\n"
     ],
     "output_type":"stream"
    }
   ],
   "metadata":{
    "datalore":{
     "type":"CODE",
     "hide_input_from_viewers":false,
     "hide_output_from_viewers":false,
     "node_id":"YYMy30DMendgNgiDKmNpX6"
    }
   }
  },
  {
   "cell_type":"code",
   "source":[
    "print('MSE:',mean_squared_error(y_train,x_train_pred))\n",
    "print('MAE:',mean_absolute_error(y_train,x_train_pred))"
   ],
   "execution_count":70,
   "outputs":[
    {
     "name":"stdout",
     "text":[
      "MSE: 37011292.58315399\n",
      "MAE: 4182.66994436675\n"
     ],
     "output_type":"stream"
    }
   ],
   "metadata":{
    "datalore":{
     "type":"CODE",
     "hide_input_from_viewers":false,
     "hide_output_from_viewers":false,
     "node_id":"qobu7gjpmemLmdypsbjIsI"
    }
   }
  },
  {
   "cell_type":"code",
   "source":[
    "print('MSE',mean_squared_error(y_test,x_test_pred))\n",
    "print('MAE',mean_absolute_error(y_test,x_test_pred))"
   ],
   "execution_count":72,
   "outputs":[
    {
     "name":"stdout",
     "text":[
      "MSE 35174149.32705306\n",
      "MAE 4252.8564557923655\n"
     ],
     "output_type":"stream"
    }
   ],
   "metadata":{
    "datalore":{
     "type":"CODE",
     "hide_input_from_viewers":false,
     "hide_output_from_viewers":false,
     "node_id":"Z3d1NjBuA0HOjJAHmj6N1x"
    }
   }
  },
  {
   "cell_type":"code",
   "source":[
    "import math\n",
    "print(math.sqrt(mean_squared_error(y_test,x_test_pred)))"
   ],
   "execution_count":73,
   "outputs":[
    {
     "name":"stdout",
     "text":[
      "5930.779824530081\n"
     ],
     "output_type":"stream"
    }
   ],
   "metadata":{
    "datalore":{
     "type":"CODE",
     "hide_input_from_viewers":false,
     "hide_output_from_viewers":false,
     "node_id":"8Afg6dq78RhQOtW4A1Oek0"
    }
   }
  },
  {
   "cell_type":"code",
   "source":[
    "x_train.shape,x_test.shape"
   ],
   "execution_count":74,
   "outputs":[
    {
     "data":{
      "text\/plain":[
       "((1003, 6), (335, 6))"
      ]
     },
     "metadata":{
      
     },
     "output_type":"display_data"
    }
   ],
   "metadata":{
    "datalore":{
     "type":"CODE",
     "hide_input_from_viewers":false,
     "hide_output_from_viewers":false,
     "node_id":"gM0Ve7uLi3iuuT92zMAQCC"
    }
   }
  },
  {
   "cell_type":"code",
   "source":[
    "train_adjusted_r2score=1-(1-0.71)*(1003-1)\/(1003-6-1)\n",
    "train_adjusted_r2score"
   ],
   "execution_count":75,
   "outputs":[
    {
     "data":{
      "text\/plain":[
       "0.7082530120481927"
      ]
     },
     "metadata":{
      
     },
     "output_type":"display_data"
    }
   ],
   "metadata":{
    "datalore":{
     "type":"CODE",
     "hide_input_from_viewers":false,
     "hide_output_from_viewers":false,
     "node_id":"ozGSCla2krq6opNeRsidjC"
    }
   }
  },
  {
   "cell_type":"code",
   "source":[
    "train_adjusted_r2score=1-(1-0.71)*(1003-1)\/(1003-6-1)\n",
    "train_adjusted_r2score"
   ],
   "execution_count":76,
   "outputs":[
    {
     "data":{
      "text\/plain":[
       "0.7082530120481927"
      ]
     },
     "metadata":{
      
     },
     "output_type":"display_data"
    }
   ],
   "metadata":{
    "datalore":{
     "type":"CODE",
     "hide_input_from_viewers":false,
     "hide_output_from_viewers":false,
     "node_id":"h2V37gyBaPJBIn2hXmjo5X"
    }
   }
  }
 ],
 "metadata":{
  "kernelspec":{
   "display_name":"Python",
   "language":"python",
   "name":"python"
  },
  "datalore":{
   "version":1,
   "computation_mode":"JUPYTER",
   "package_manager":"pip",
   "base_environment":"default",
   "packages":[
    
   ]
  }
 },
 "nbformat":4,
 "nbformat_minor":4
}